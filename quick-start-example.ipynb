{
 "cells": [
  {
   "cell_type": "markdown",
   "metadata": {},
   "source": [
    "# BioDendro Quick Start Pipeline"
   ]
  },
  {
   "cell_type": "markdown",
   "metadata": {},
   "source": [
    "The BioDendro pipeline automates the process of binning and hierarchically clustering\n",
    "MSMS spectra based on the presence of common ions.\n",
    "\n",
    "The quick start example executes all parameters (default and/or user defined) in a single line.\n",
    "\n",
    "The pipeline then allows in-line interrogation of the clusters as well as exported results for offline analysis.\n",
    "\n",
    "A step-by-step analysis is available in the `longer-workflow.ipynb` notebook at the BioDendro repository."
   ]
  },
  {
   "cell_type": "code",
   "execution_count": null,
   "metadata": {},
   "outputs": [],
   "source": [
    "# Load modules\n",
    "\n",
    "import os\n",
    "import plotly\n",
    "import BioDendro\n",
    "import copy"
   ]
  },
  {
   "cell_type": "markdown",
   "metadata": {},
   "source": [
    "#### To get a list of possible parameters and defaults you can run `help(BioDendro.pipeline)`."
   ]
  },
  {
   "cell_type": "code",
   "execution_count": null,
   "metadata": {
    "scrolled": false
   },
   "outputs": [],
   "source": [
    "help(BioDendro.pipeline)"
   ]
  },
  {
   "cell_type": "markdown",
   "metadata": {},
   "source": [
    "The main `pipeline` function runs the full pipeline (i.e. reading files, clustering, and plotting).\n",
    "Minimum requirements are an MGF file and a component list.\n",
    "Note that by default, the results will be saved to a folder in your current working directory using the name `results_<datetime>` where datetime will be the date and current time of day in `hhmmss` format.\n",
    "This is to avoid overwriting data in multiple runs."
   ]
  },
  {
   "cell_type": "code",
   "execution_count": null,
   "metadata": {},
   "outputs": [],
   "source": [
    "# Run the complete BioDendro pipeline\n",
    "\n",
    "tree = BioDendro.pipeline(\"Fireflies_MSMS.mgf\", \"Fireflies_component_list.txt\", clustering_method=\"braycurtis\", scaling=True, filtering=True, eps=0.001, bin_threshold=0.004, height=1000)"
   ]
  },
  {
   "cell_type": "markdown",
   "metadata": {},
   "source": [
    "#### The pipeline also returns a `Tree` object, which stores most of the results.\n",
    "\n",
    "Scrutinising individual analytes or clusters is possible in-line below or exported results are in the newly created `results_<datetime>` folder in your BioDendro directory."
   ]
  },
  {
   "cell_type": "markdown",
   "metadata": {},
   "source": [
    "#### Find analytes and their clusters below\n",
    "\n",
    "The results folder contains .csv and .png files of all clusters. This information can also be viewed in-line."
   ]
  },
  {
   "cell_type": "code",
   "execution_count": null,
   "metadata": {},
   "outputs": [],
   "source": [
    "# return the cluster number for which the queried analyte belongs\n",
    "tree.cluster_map[\"Ppyr_hemolymph_extract_533.238464355468_15.101331\"]"
   ]
  },
  {
   "cell_type": "code",
   "execution_count": null,
   "metadata": {},
   "outputs": [],
   "source": [
    "# for visualising the ion table of your cluster of interest\n",
    "tree.cluster_table(cluster=7)"
   ]
  },
  {
   "cell_type": "code",
   "execution_count": null,
   "metadata": {},
   "outputs": [],
   "source": [
    "# for plotting the histogram of your cluster of interest\n",
    "%matplotlib inline\n",
    "tree.cluster_hist(cluster=7)"
   ]
  },
  {
   "cell_type": "markdown",
   "metadata": {},
   "source": [
    "#### If the dendogram cutoff level was unsuitable for your data, you can apply a new level and scrutinise the new clusters below."
   ]
  },
  {
   "cell_type": "code",
   "execution_count": null,
   "metadata": {},
   "outputs": [],
   "source": [
    "# Show the number of clusters before adjustment\n",
    "print(\"BEFORE: Cutoff:\", tree.cutoff, \"n clusters:\", len(set(tree.clusters)))\n",
    "\n",
    "# Re-set a new cutoff for clusters\n",
    "new_tree=copy.deepcopy(tree)\n",
    "new_tree.cut_tree(cutoff=0.8)\n",
    "\n",
    "# Show number of clusters after adjustment\n",
    "print(\"AFTER: Cutoff:\", new_tree.cutoff, \"n clusters:\", len(set(new_tree.clusters)))"
   ]
  },
  {
   "cell_type": "code",
   "execution_count": null,
   "metadata": {},
   "outputs": [],
   "source": [
    "# Generate the out plots and tables of the new clusters.\n",
    "# rename a new directory.\n",
    "# To write out the new tree.\n",
    "os.makedirs(\"results-cutoff-08\", exist_ok=False)\n",
    "new_tree.write_summaries(path=\"results-cutoff-08\")\n",
    "new_tree.plot(filename=\"results-cutoff-08/simple_dendrogram.html\", width=900, height=1200);"
   ]
  },
  {
   "cell_type": "markdown",
   "metadata": {},
   "source": [
    "#### View the original (iplot1) and new (iplot2) cutoffs below"
   ]
  },
  {
   "cell_type": "code",
   "execution_count": null,
   "metadata": {
    "scrolled": false
   },
   "outputs": [],
   "source": [
    "# View the new dendrogram cutoff inline\n",
    "# for visualising plot inline\n",
    "plotly.offline.init_notebook_mode(connected=True) \n",
    "iplot1 = tree.plot(width=800, height=900)\n",
    "plotly.offline.iplot(iplot1)"
   ]
  },
  {
   "cell_type": "code",
   "execution_count": null,
   "metadata": {
    "scrolled": false
   },
   "outputs": [],
   "source": [
    "iplot2 = new_tree.plot(width=800, height=900)\n",
    "plotly.offline.iplot(iplot2)"
   ]
  },
  {
   "cell_type": "markdown",
   "metadata": {},
   "source": [
    "#### Scrutinise the new clusters for your analytes below"
   ]
  },
  {
   "cell_type": "code",
   "execution_count": null,
   "metadata": {},
   "outputs": [],
   "source": [
    "# return the cluster number for which the queried analyte belongs\n",
    "new_tree.cluster_map[\"Ppyr_hemolymph_extract_533.238464355468_15.101331\"]"
   ]
  },
  {
   "cell_type": "code",
   "execution_count": null,
   "metadata": {},
   "outputs": [],
   "source": [
    "# for visualising the ion table of your cluster of interest\n",
    "new_tree.cluster_table(cluster=120)"
   ]
  },
  {
   "cell_type": "code",
   "execution_count": null,
   "metadata": {},
   "outputs": [],
   "source": [
    "# for plotting the histogram of your cluster of interest\n",
    "%matplotlib inline\n",
    "new_tree.cluster_hist(cluster=179)"
   ]
  }
 ],
 "metadata": {
  "kernelspec": {
   "display_name": "Python 3",
   "language": "python",
   "name": "python3"
  },
  "language_info": {
   "codemirror_mode": {
    "name": "ipython",
    "version": 3
   },
   "file_extension": ".py",
   "mimetype": "text/x-python",
   "name": "python",
   "nbconvert_exporter": "python",
   "pygments_lexer": "ipython3",
   "version": "3.6.5"
  }
 },
 "nbformat": 4,
 "nbformat_minor": 2
}
