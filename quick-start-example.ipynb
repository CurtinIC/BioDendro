{
 "cells": [
  {
   "cell_type": "markdown",
   "metadata": {},
   "source": [
    "# BioDendro Quick Start Example"
   ]
  },
  {
   "cell_type": "markdown",
   "metadata": {},
   "source": [
    "The BioDendro pipeline automates the process of binning and hierarchically clustering\n",
    "msms components and spectra.\n",
    "\n",
    "This notebook shows basic use of the pipeline for the:\n",
    "- [Python API](#Python-API)\n",
    "- [Command line API](#Command-line-API)\n",
    "\n",
    "\\* API = Application programming interface"
   ]
  },
  {
   "cell_type": "markdown",
   "metadata": {},
   "source": [
    "## Python API\n",
    "\n",
    "The python interface allows you to make small changes easily and view intermediate results.\n",
    "A more detailed explanation of the Python API/pipeline is available in the `longer_example.ipynb` notebook at the BioDendro repository."
   ]
  },
  {
   "cell_type": "code",
   "execution_count": 1,
   "metadata": {},
   "outputs": [],
   "source": [
    "# Load modules\n",
    "\n",
    "import os\n",
    "import plotly\n",
    "import BioDendro"
   ]
  },
  {
   "cell_type": "markdown",
   "metadata": {},
   "source": [
    "The main `pipeline` function runs the full pipeline (i.e. reading files, clustering, and plotting).\n",
    "At a minimum the function needs an MGF file and a component list.\n",
    "Note that by default, the results will be saved to a folder in your current working directory using the name `results_<datetime>` where datetime will be the date and current time of day in `hhmmss` format.\n",
    "This is to avoid overwriting data in multiple runs.\n",
    "\n",
    "To get a list of possible parameters and defaults you can run `help(BioDendro.pipeline)`."
   ]
  },
  {
   "cell_type": "code",
   "execution_count": 2,
   "metadata": {},
   "outputs": [
    {
     "name": "stdout",
     "output_type": "stream",
     "text": [
      "Help on function pipeline in module BioDendro:\n",
      "\n",
      "pipeline(mgf_path, components_path, neutral=False, cutoff=0.6, bin_threshold=0.0008, clustering_method='jaccard', processed='processed.xlsx', results_dir=None, out_html='simple_dendrogram.html', width=900, height=800, quiet=False, scaling=False, filtering=False, eps=0.6, mz_tol=0.002, retention_tol=5, **kwargs)\n",
      "    Runs the default BioDendro pipeline.\n",
      "\n"
     ]
    }
   ],
   "source": [
    "help(BioDendro.pipeline)"
   ]
  },
  {
   "cell_type": "code",
   "execution_count": 3,
   "metadata": {},
   "outputs": [
    {
     "name": "stdout",
     "output_type": "stream",
     "text": [
      "Running BioDendro v0.0.1\n",
      "\n",
      "- input mgf file = MSMS.mgf\n",
      "- input components file = component_list.txt\n",
      "- neutral = False\n",
      "- cutoff = 0.6\n",
      "- bin_threshold = 0.0008\n",
      "- clustering_method = braycurtis\n",
      "- output processed file = results_20190417165427/processed.xlsx\n",
      "- output results directory = results_20190417165427\n",
      "- output html dendrogram = results_20190417165427/simple_dendrogram.html\n",
      "- dendrogram figure width = 900\n",
      "- dendrogram figure height = 800\n",
      "- scaling = False\n",
      "- filtering = False\n",
      "- eps = 0.6\n",
      "- mz_tolerance = 0.002\n",
      "- retention_tolerance = 5\n",
      "\n",
      "\n",
      "Processing inputs\n",
      "Binning and clustering\n",
      "This may take some time...\n",
      "Writing per-cluster summaries\n",
      "Writing output html dendrogram\n",
      "Finished\n"
     ]
    }
   ],
   "source": [
    "# Run the complete BioDendro pipeline\n",
    "\n",
    "tree = BioDendro.pipeline(\"MSMS.mgf\", \"component_list.txt\", clustering_method=\"braycurtis\")"
   ]
  },
  {
   "cell_type": "markdown",
   "metadata": {},
   "source": [
    "The pipeline function prints out running information for you, including the directory where you can find your results.\n",
    "Note that the dendrograms and processed files are also saved into this directory, even if you don't specify that in the filename.\n",
    "\n",
    "The pipeline also returns a `Tree` object, which stores most of the results.\n",
    "We can change the number clusters by specifying a new distance threshold."
   ]
  },
  {
   "cell_type": "code",
   "execution_count": 4,
   "metadata": {},
   "outputs": [
    {
     "name": "stdout",
     "output_type": "stream",
     "text": [
      "BEFORE: Cutoff: 0.6 n clusters: 79\n",
      "AFTER: Cutoff: 0.8 n clusters: 46\n"
     ]
    }
   ],
   "source": [
    "# Show the number of clusters before adjustment\n",
    "print(\"BEFORE: Cutoff:\", tree.cutoff, \"n clusters:\", len(set(tree.clusters)))\n",
    "\n",
    "# Re-set a new cutoff for clusters\n",
    "tree.cut_tree(cutoff=0.8)\n",
    "\n",
    "# Show number of clusters after adjustment\n",
    "print(\"AFTER: Cutoff:\", tree.cutoff, \"n clusters:\", len(set(tree.clusters)))"
   ]
  },
  {
   "cell_type": "markdown",
   "metadata": {},
   "source": [
    "So our cluster results are updated to use a higher threshold (i.e. fewer clusters, with more members).\n",
    "Note that these updated results are not automatically saved to the results folder.\n",
    "\n",
    "To save these updated results, we need to create a new folder and write the summaries ourselves.\n",
    "Previously the pipeline function handled this all for us.\n",
    "\n",
    "NOTE: this will overwrite any contents in the specified directory so be careful!"
   ]
  },
  {
   "cell_type": "code",
   "execution_count": 5,
   "metadata": {},
   "outputs": [],
   "source": [
    "# Generate the out plots and tables of the new clusters.\n",
    "# exist_ok tells python not to raise an error if the directory already exists.\n",
    "os.makedirs(\"results\", exist_ok=True)\n",
    "tree.write_summaries(path=\"results\")"
   ]
  },
  {
   "cell_type": "markdown",
   "metadata": {},
   "source": [
    "We can view the interactive tree directly in an IPython notebook using the plotly `notebook_mode`."
   ]
  },
  {
   "cell_type": "code",
   "execution_count": 6,
   "metadata": {},
   "outputs": [
    {
     "data": {
      "text/html": [
       "        <script type=\"text/javascript\">\n",
       "        window.PlotlyConfig = {MathJaxConfig: 'local'};\n",
       "        if (window.MathJax) {MathJax.Hub.Config({SVG: {font: \"STIX-Web\"}});}\n",
       "        if (typeof require !== 'undefined') {\n",
       "        require.undef(\"plotly\");\n",
       "        requirejs.config({\n",
       "            paths: {\n",
       "                'plotly': ['https://cdn.plot.ly/plotly-latest.min']\n",
       "            }\n",
       "        });\n",
       "        require(['plotly'], function(Plotly) {\n",
       "            window._Plotly = Plotly;\n",
       "        });\n",
       "        }\n",
       "        </script>\n",
       "        "
      ]
     },
     "metadata": {},
     "output_type": "display_data"
    },
    {
     "data": {
      "application/vnd.plotly.v1+json": {
       "config": {
        "linkText": "Export to plot.ly",
        "plotlyServerURL": "https://plot.ly",
        "showLink": false
       },
       "data": [
        {
         "hoverinfo": "text",
         "marker": {
          "color": "rgb(61,153,112)"
         },
         "mode": "lines",
         "text": [
          "cluster: 1, component: QE_2017_001816_613.48218_838.0",
          "cluster: 1, component: QE_2017_001816_613.48218_838.0",
          "cluster: 1, component: QE_2017_001816_792.56232_718.0",
          "cluster: 1, component: QE_2017_001816_792.56232_718.0"
         ],
         "type": "scatter",
         "uid": "900afdd6-4a52-4718-b321-31f2b7bc2d2a",
         "x": [
          15,
          15,
          25,
          25
         ],
         "xaxis": "x",
         "y": [
          0,
          0.3949579831932773,
          0.3949579831932773,
          0
         ],
         "yaxis": "y"
        },
        {
         "hoverinfo": "text",
         "marker": {
          "color": "rgb(61,153,112)"
         },
         "mode": "lines",
         "text": [
          "cluster: 1, component: QE_2017_001816_613.4826_738.0",
          "cluster: 1, component: QE_2017_001816_613.4826_738.0",
          null,
          null
         ],
         "type": "scatter",
         "uid": "80647ae0-f745-497c-bee1-2c031a4faae2",
         "x": [
          5,
          5,
          20,
          20
         ],
         "xaxis": "x",
         "y": [
          0,
          0.5116279069767442,
          0.5116279069767442,
          0.3949579831932773
         ],
         "yaxis": "y"
        },
        {
         "hoverinfo": "text",
         "marker": {
          "color": "rgb(61,153,112)"
         },
         "mode": "lines",
         "text": [
          "cluster: 1, component: QE_2017_001814_596.30963_602.0",
          "cluster: 1, component: QE_2017_001814_596.30963_602.0",
          "cluster: 1, component: QE_2017_001815_792.5625_866.0",
          "cluster: 1, component: QE_2017_001815_792.5625_866.0"
         ],
         "type": "scatter",
         "uid": "212b3555-1a2d-40b1-8071-349e9ee55daa",
         "x": [
          35,
          35,
          45,
          45
         ],
         "xaxis": "x",
         "y": [
          0,
          0.5555555555555556,
          0.5555555555555556,
          0
         ],
         "yaxis": "y"
        },
        {
         "hoverinfo": "text",
         "marker": {
          "color": "rgb(61,153,112)"
         },
         "mode": "lines",
         "text": [
          null,
          null,
          null,
          null
         ],
         "type": "scatter",
         "uid": "98918296-36c5-4142-a19a-94c863be3c5d",
         "x": [
          12.5,
          12.5,
          40,
          40
         ],
         "xaxis": "x",
         "y": [
          0.5116279069767442,
          0.6344086021505376,
          0.6344086021505376,
          0.5555555555555556
         ],
         "yaxis": "y"
        },
        {
         "hoverinfo": "text",
         "marker": {
          "color": "rgb(255,65,54)"
         },
         "mode": "lines",
         "text": [
          "cluster: 2, component: QE_2017_001814_335.25784_608.0",
          "cluster: 2, component: QE_2017_001814_335.25784_608.0",
          "cluster: 2, component: QE_2017_001816_335.25772_723.0",
          "cluster: 2, component: QE_2017_001816_335.25772_723.0"
         ],
         "type": "scatter",
         "uid": "16e1f2f0-ffa0-4ecb-b5fc-a7b9d6974566",
         "x": [
          105,
          105,
          115,
          115
         ],
         "xaxis": "x",
         "y": [
          0,
          0.14942528735632185,
          0.14942528735632185,
          0
         ],
         "yaxis": "y"
        },
        {
         "hoverinfo": "text",
         "marker": {
          "color": "rgb(255,65,54)"
         },
         "mode": "lines",
         "text": [
          "cluster: 2, component: QE_2017_001814_335.25772_725.0",
          "cluster: 2, component: QE_2017_001814_335.25772_725.0",
          null,
          null
         ],
         "type": "scatter",
         "uid": "e4d3815c-1984-4923-86b4-8d3e735707fc",
         "x": [
          95,
          95,
          110,
          110
         ],
         "xaxis": "x",
         "y": [
          0,
          0.16483516483516483,
          0.16483516483516483,
          0.14942528735632185
         ],
         "yaxis": "y"
        },
        {
         "hoverinfo": "text",
         "marker": {
          "color": "rgb(255,65,54)"
         },
         "mode": "lines",
         "text": [
          "cluster: 2, component: QE_2017_001814_335.25784_628.0",
          "cluster: 2, component: QE_2017_001814_335.25784_628.0",
          "cluster: 2, component: QE_2017_001815_335.25745_642.0",
          "cluster: 2, component: QE_2017_001815_335.25745_642.0"
         ],
         "type": "scatter",
         "uid": "441319fe-c637-4644-bc4f-34222295348c",
         "x": [
          125,
          125,
          135,
          135
         ],
         "xaxis": "x",
         "y": [
          0,
          0.16666666666666666,
          0.16666666666666666,
          0
         ],
         "yaxis": "y"
        },
        {
         "hoverinfo": "text",
         "marker": {
          "color": "rgb(255,65,54)"
         },
         "mode": "lines",
         "text": [
          null,
          null,
          null,
          null
         ],
         "type": "scatter",
         "uid": "77d6c91e-d635-445c-855d-ee95c74913dc",
         "x": [
          102.5,
          102.5,
          130,
          130
         ],
         "xaxis": "x",
         "y": [
          0.16483516483516483,
          0.20408163265306123,
          0.20408163265306123,
          0.16666666666666666
         ],
         "yaxis": "y"
        },
        {
         "hoverinfo": "text",
         "marker": {
          "color": "rgb(255,65,54)"
         },
         "mode": "lines",
         "text": [
          "cluster: 2, component: QE_2017_001814_261.22073_634.0",
          "cluster: 2, component: QE_2017_001814_261.22073_634.0",
          "cluster: 2, component: QE_2017_001815_335.25784_587.0",
          "cluster: 2, component: QE_2017_001815_335.25784_587.0"
         ],
         "type": "scatter",
         "uid": "e8aefc61-3bfd-4168-8c87-a73de2a31748",
         "x": [
          145,
          145,
          155,
          155
         ],
         "xaxis": "x",
         "y": [
          0,
          0.23076923076923078,
          0.23076923076923078,
          0
         ],
         "yaxis": "y"
        },
        {
         "hoverinfo": "text",
         "marker": {
          "color": "rgb(255,65,54)"
         },
         "mode": "lines",
         "text": [
          null,
          null,
          null,
          null
         ],
         "type": "scatter",
         "uid": "d1dd079c-41b9-4eae-8407-130264829fee",
         "x": [
          116.25,
          116.25,
          150,
          150
         ],
         "xaxis": "x",
         "y": [
          0.20408163265306123,
          0.25925925925925924,
          0.25925925925925924,
          0.23076923076923078
         ],
         "yaxis": "y"
        },
        {
         "hoverinfo": "text",
         "marker": {
          "color": "rgb(255,65,54)"
         },
         "mode": "lines",
         "text": [
          "cluster: 2, component: QE_2017_001814_353.26889_609.0",
          "cluster: 2, component: QE_2017_001814_353.26889_609.0",
          "cluster: 2, component: QE_2017_001815_353.26862_642.0",
          "cluster: 2, component: QE_2017_001815_353.26862_642.0"
         ],
         "type": "scatter",
         "uid": "4c6c1785-7af4-4549-8f27-66ee735d4d94",
         "x": [
          165,
          165,
          175,
          175
         ],
         "xaxis": "x",
         "y": [
          0,
          0.1588785046728972,
          0.1588785046728972,
          0
         ],
         "yaxis": "y"
        },
        {
         "hoverinfo": "text",
         "marker": {
          "color": "rgb(255,65,54)"
         },
         "mode": "lines",
         "text": [
          "cluster: 2, component: QE_2017_001814_335.25772_638.0",
          "cluster: 2, component: QE_2017_001814_335.25772_638.0",
          "cluster: 2, component: QE_2017_001815_335.2579_601.0",
          "cluster: 2, component: QE_2017_001815_335.2579_601.0"
         ],
         "type": "scatter",
         "uid": "7df6e633-e5ca-4166-9c40-9c5891aca0f9",
         "x": [
          195,
          195,
          205,
          205
         ],
         "xaxis": "x",
         "y": [
          0,
          0.1724137931034483,
          0.1724137931034483,
          0
         ],
         "yaxis": "y"
        },
        {
         "hoverinfo": "text",
         "marker": {
          "color": "rgb(255,65,54)"
         },
         "mode": "lines",
         "text": [
          "cluster: 2, component: QE_2017_001815_261.22073_643.0",
          "cluster: 2, component: QE_2017_001815_261.22073_643.0",
          null,
          null
         ],
         "type": "scatter",
         "uid": "175142d0-7c11-40b0-81a3-fde1b0784c52",
         "x": [
          185,
          185,
          200,
          200
         ],
         "xaxis": "x",
         "y": [
          0,
          0.23809523809523808,
          0.23809523809523808,
          0.1724137931034483
         ],
         "yaxis": "y"
        },
        {
         "hoverinfo": "text",
         "marker": {
          "color": "rgb(255,65,54)"
         },
         "mode": "lines",
         "text": [
          null,
          null,
          null,
          null
         ],
         "type": "scatter",
         "uid": "3a96e758-d9ee-4e86-a740-8df758a95735",
         "x": [
          170,
          170,
          192.5,
          192.5
         ],
         "xaxis": "x",
         "y": [
          0.1588785046728972,
          0.2765957446808511,
          0.2765957446808511,
          0.23809523809523808
         ],
         "yaxis": "y"
        },
        {
         "hoverinfo": "text",
         "marker": {
          "color": "rgb(255,65,54)"
         },
         "mode": "lines",
         "text": [
          null,
          null,
          null,
          null
         ],
         "type": "scatter",
         "uid": "2db7eada-870d-458e-9811-b3cf68289663",
         "x": [
          133.125,
          133.125,
          181.25,
          181.25
         ],
         "xaxis": "x",
         "y": [
          0.25925925925925924,
          0.3,
          0.3,
          0.2765957446808511
         ],
         "yaxis": "y"
        },
        {
         "hoverinfo": "text",
         "marker": {
          "color": "rgb(255,65,54)"
         },
         "mode": "lines",
         "text": [
          "cluster: 2, component: QE_2017_001816_571.47186_717.0",
          "cluster: 2, component: QE_2017_001816_571.47186_717.0",
          null,
          null
         ],
         "type": "scatter",
         "uid": "bb682155-5e28-4375-b24d-83d0e52482ab",
         "x": [
          85,
          85,
          157.1875,
          157.1875
         ],
         "xaxis": "x",
         "y": [
          0,
          0.3829787234042553,
          0.3829787234042553,
          0.3
         ],
         "yaxis": "y"
        },
        {
         "hoverinfo": "text",
         "marker": {
          "color": "rgb(255,65,54)"
         },
         "mode": "lines",
         "text": [
          "cluster: 2, component: QE_2017_001815_507.27145_607.0",
          "cluster: 2, component: QE_2017_001815_507.27145_607.0",
          null,
          null
         ],
         "type": "scatter",
         "uid": "3ff32ddf-b83f-45da-8ca9-b5882aef7d36",
         "x": [
          75,
          75,
          121.09375,
          121.09375
         ],
         "xaxis": "x",
         "y": [
          0,
          0.40229885057471265,
          0.40229885057471265,
          0.3829787234042553
         ],
         "yaxis": "y"
        },
        {
         "hoverinfo": "text",
         "marker": {
          "color": "rgb(255,65,54)"
         },
         "mode": "lines",
         "text": [
          "cluster: 2, component: QE_2017_001814_497.31033_643.0",
          "cluster: 2, component: QE_2017_001814_497.31033_643.0",
          null,
          null
         ],
         "type": "scatter",
         "uid": "81708435-a03b-45ca-a67e-285b640b5e59",
         "x": [
          65,
          65,
          98.046875,
          98.046875
         ],
         "xaxis": "x",
         "y": [
          0,
          0.5368421052631579,
          0.5368421052631579,
          0.40229885057471265
         ],
         "yaxis": "y"
        },
        {
         "hoverinfo": "text",
         "marker": {
          "color": "rgb(255,65,54)"
         },
         "mode": "lines",
         "text": [
          "cluster: 2, component: QE_2017_001815_571.4292_870.0",
          "cluster: 2, component: QE_2017_001815_571.4292_870.0",
          null,
          null
         ],
         "type": "scatter",
         "uid": "c20eea08-23dd-4184-a86a-d21aaedd8186",
         "x": [
          55,
          55,
          81.5234375,
          81.5234375
         ],
         "xaxis": "x",
         "y": [
          0,
          0.6615384615384615,
          0.6615384615384615,
          0.5368421052631579
         ],
         "yaxis": "y"
        },
        {
         "hoverinfo": "text",
         "marker": {
          "color": "rgb(255,65,54)"
         },
         "mode": "lines",
         "text": [
          "cluster: 2, component: QE_2017_001814_338.34146_850.0",
          "cluster: 2, component: QE_2017_001814_338.34146_850.0",
          "cluster: 2, component: QE_2017_001815_244.19048_762.0",
          "cluster: 2, component: QE_2017_001815_244.19048_762.0"
         ],
         "type": "scatter",
         "uid": "e5d9e6ef-ac1e-495b-99fd-1f1866379aa3",
         "x": [
          225,
          225,
          235,
          235
         ],
         "xaxis": "x",
         "y": [
          0,
          0.4318181818181818,
          0.4318181818181818,
          0
         ],
         "yaxis": "y"
        },
        {
         "hoverinfo": "text",
         "marker": {
          "color": "rgb(255,65,54)"
         },
         "mode": "lines",
         "text": [
          "cluster: 2, component: QE_2017_001814_353.26868_633.0",
          "cluster: 2, component: QE_2017_001814_353.26868_633.0",
          "cluster: 2, component: QE_2017_001816_353.26892_600.0",
          "cluster: 2, component: QE_2017_001816_353.26892_600.0"
         ],
         "type": "scatter",
         "uid": "16131ccc-17d5-4fda-96b8-2a455305a54b",
         "x": [
          245,
          245,
          255,
          255
         ],
         "xaxis": "x",
         "y": [
          0,
          0.1348314606741573,
          0.1348314606741573,
          0
         ],
         "yaxis": "y"
        },
        {
         "hoverinfo": "text",
         "marker": {
          "color": "rgb(255,65,54)"
         },
         "mode": "lines",
         "text": [
          "cluster: 2, component: QE_2017_001814_279.23157_719.0",
          "cluster: 2, component: QE_2017_001814_279.23157_719.0",
          "cluster: 2, component: QE_2017_001815_278.24762_684.0",
          "cluster: 2, component: QE_2017_001815_278.24762_684.0"
         ],
         "type": "scatter",
         "uid": "fd23ff72-c36d-46a7-9aea-98d2f727fc6b",
         "x": [
          265,
          265,
          275,
          275
         ],
         "xaxis": "x",
         "y": [
          0,
          0.2755905511811024,
          0.2755905511811024,
          0
         ],
         "yaxis": "y"
        },
        {
         "hoverinfo": "text",
         "marker": {
          "color": "rgb(255,65,54)"
         },
         "mode": "lines",
         "text": [
          null,
          null,
          null,
          null
         ],
         "type": "scatter",
         "uid": "798c9095-b2fc-4b98-a51e-99b6e4cae0ee",
         "x": [
          250,
          250,
          270,
          270
         ],
         "xaxis": "x",
         "y": [
          0.1348314606741573,
          0.35403726708074534,
          0.35403726708074534,
          0.2755905511811024
         ],
         "yaxis": "y"
        },
        {
         "hoverinfo": "text",
         "marker": {
          "color": "rgb(255,65,54)"
         },
         "mode": "lines",
         "text": [
          "cluster: 2, component: QE_2017_001816_337.27338_826.0",
          "cluster: 2, component: QE_2017_001816_337.27338_826.0",
          "cluster: 2, component: QE_2017_001816_337.27341_632.0",
          "cluster: 2, component: QE_2017_001816_337.27341_632.0"
         ],
         "type": "scatter",
         "uid": "4866d817-dffd-4b02-84d3-2003c53bf977",
         "x": [
          295,
          295,
          305,
          305
         ],
         "xaxis": "x",
         "y": [
          0,
          0.22935779816513763,
          0.22935779816513763,
          0
         ],
         "yaxis": "y"
        },
        {
         "hoverinfo": "text",
         "marker": {
          "color": "rgb(255,65,54)"
         },
         "mode": "lines",
         "text": [
          "cluster: 2, component: QE_2017_001816_435.25037_666.0",
          "cluster: 2, component: QE_2017_001816_435.25037_666.0",
          null,
          null
         ],
         "type": "scatter",
         "uid": "2ab82583-fa51-4c73-b87b-581f1ff53c5e",
         "x": [
          285,
          285,
          300,
          300
         ],
         "xaxis": "x",
         "y": [
          0,
          0.37142857142857144,
          0.37142857142857144,
          0.22935779816513763
         ],
         "yaxis": "y"
        },
        {
         "hoverinfo": "text",
         "marker": {
          "color": "rgb(255,65,54)"
         },
         "mode": "lines",
         "text": [
          null,
          null,
          null,
          null
         ],
         "type": "scatter",
         "uid": "c938c3ac-7667-42b1-97ac-35f0dcf5e791",
         "x": [
          260,
          260,
          292.5,
          292.5
         ],
         "xaxis": "x",
         "y": [
          0.35403726708074534,
          0.5238095238095238,
          0.5238095238095238,
          0.37142857142857144
         ],
         "yaxis": "y"
        },
        {
         "hoverinfo": "text",
         "marker": {
          "color": "rgb(255,65,54)"
         },
         "mode": "lines",
         "text": [
          null,
          null,
          null,
          null
         ],
         "type": "scatter",
         "uid": "4f62fb4d-405d-40f9-9430-9fc4c76e8eba",
         "x": [
          230,
          230,
          276.25,
          276.25
         ],
         "xaxis": "x",
         "y": [
          0.4318181818181818,
          0.6116504854368932,
          0.6116504854368932,
          0.5238095238095238
         ],
         "yaxis": "y"
        },
        {
         "hoverinfo": "text",
         "marker": {
          "color": "rgb(255,65,54)"
         },
         "mode": "lines",
         "text": [
          "cluster: 2, component: QE_2017_001816_272.25824_582.0",
          "cluster: 2, component: QE_2017_001816_272.25824_582.0",
          null,
          null
         ],
         "type": "scatter",
         "uid": "f760c2c5-cf76-4b3f-beed-649fec72e6c6",
         "x": [
          215,
          215,
          253.125,
          253.125
         ],
         "xaxis": "x",
         "y": [
          0,
          0.7011494252873564,
          0.7011494252873564,
          0.6116504854368932
         ],
         "yaxis": "y"
        },
        {
         "hoverinfo": "text",
         "marker": {
          "color": "rgb(255,65,54)"
         },
         "mode": "lines",
         "text": [
          null,
          null,
          null,
          null
         ],
         "type": "scatter",
         "uid": "5b1070fc-138b-47b2-b987-df2a9241cea9",
         "x": [
          68.26171875,
          68.26171875,
          234.0625,
          234.0625
         ],
         "xaxis": "x",
         "y": [
          0.6615384615384615,
          0.7699115044247787,
          0.7699115044247787,
          0.7011494252873564
         ],
         "yaxis": "y"
        },
        {
         "hoverinfo": "text",
         "marker": {
          "color": "rgb(0,116,217)"
         },
         "mode": "lines",
         "text": [
          null,
          null,
          null,
          null
         ],
         "type": "scatter",
         "uid": "38b89d6b-b808-4060-a3cf-2d6212f1ff44",
         "x": [
          26.25,
          26.25,
          151.162109375,
          151.162109375
         ],
         "xaxis": "x",
         "y": [
          0.6344086021505376,
          0.84,
          0.84,
          0.7699115044247787
         ],
         "yaxis": "y"
        },
        {
         "hoverinfo": "text",
         "marker": {
          "color": "rgb(35,205,205)"
         },
         "mode": "lines",
         "text": [
          "cluster: 3, component: QE_2017_001814_601.42426_706.0",
          "cluster: 3, component: QE_2017_001814_601.42426_706.0",
          "cluster: 3, component: QE_2017_001816_599.40869_793.0",
          "cluster: 3, component: QE_2017_001816_599.40869_793.0"
         ],
         "type": "scatter",
         "uid": "fc02cb54-ad3d-4476-88c3-c026027411db",
         "x": [
          345,
          345,
          355,
          355
         ],
         "xaxis": "x",
         "y": [
          0,
          0.45985401459854014,
          0.45985401459854014,
          0
         ],
         "yaxis": "y"
        },
        {
         "hoverinfo": "text",
         "marker": {
          "color": "rgb(35,205,205)"
         },
         "mode": "lines",
         "text": [
          "cluster: 3, component: QE_2017_001816_599.40948_660.0",
          "cluster: 3, component: QE_2017_001816_599.40948_660.0",
          null,
          null
         ],
         "type": "scatter",
         "uid": "50ec48bd-e562-4276-8d02-b81e621bb178",
         "x": [
          335,
          335,
          350,
          350
         ],
         "xaxis": "x",
         "y": [
          0,
          0.504950495049505,
          0.504950495049505,
          0.45985401459854014
         ],
         "yaxis": "y"
        },
        {
         "hoverinfo": "text",
         "marker": {
          "color": "rgb(35,205,205)"
         },
         "mode": "lines",
         "text": [
          "cluster: 3, component: QE_2017_001816_583.41382_731.0",
          "cluster: 3, component: QE_2017_001816_583.41382_731.0",
          null,
          null
         ],
         "type": "scatter",
         "uid": "667d91f6-0b01-45d9-a595-dd2d506a3fcc",
         "x": [
          325,
          325,
          342.5,
          342.5
         ],
         "xaxis": "x",
         "y": [
          0,
          0.6101694915254238,
          0.6101694915254238,
          0.504950495049505
         ],
         "yaxis": "y"
        },
        {
         "hoverinfo": "text",
         "marker": {
          "color": "rgb(35,205,205)"
         },
         "mode": "lines",
         "text": [
          "cluster: 3, component: QE_2017_001814_618.42633_695.0",
          "cluster: 3, component: QE_2017_001814_618.42633_695.0",
          null,
          null
         ],
         "type": "scatter",
         "uid": "5bd76524-f86d-4024-abb1-bbb08caa14c6",
         "x": [
          315,
          315,
          333.75,
          333.75
         ],
         "xaxis": "x",
         "y": [
          0,
          0.6666666666666666,
          0.6666666666666666,
          0.6101694915254238
         ],
         "yaxis": "y"
        },
        {
         "hoverinfo": "text",
         "marker": {
          "color": "rgb(133,20,75)"
         },
         "mode": "lines",
         "text": [
          "cluster: 4, component: QE_2017_001815_618.42773_646.0",
          "cluster: 4, component: QE_2017_001815_618.42773_646.0",
          "cluster: 4, component: QE_2017_001816_618.427_682.0",
          "cluster: 4, component: QE_2017_001816_618.427_682.0"
         ],
         "type": "scatter",
         "uid": "8c8093fa-5ad6-49af-9005-17d6353ae023",
         "x": [
          365,
          365,
          375,
          375
         ],
         "xaxis": "x",
         "y": [
          0,
          0.30997304582210244,
          0.30997304582210244,
          0
         ],
         "yaxis": "y"
        },
        {
         "hoverinfo": "text",
         "marker": {
          "color": "rgb(133,20,75)"
         },
         "mode": "lines",
         "text": [
          "cluster: 4, component: QE_2017_001814_583.41406_682.0",
          "cluster: 4, component: QE_2017_001814_583.41406_682.0",
          "cluster: 4, component: QE_2017_001815_583.41406_707.0",
          "cluster: 4, component: QE_2017_001815_583.41406_707.0"
         ],
         "type": "scatter",
         "uid": "da8cf932-28b8-4274-92eb-f5c1282e932d",
         "x": [
          405,
          405,
          415,
          415
         ],
         "xaxis": "x",
         "y": [
          0,
          0.35877862595419846,
          0.35877862595419846,
          0
         ],
         "yaxis": "y"
        },
        {
         "hoverinfo": "text",
         "marker": {
          "color": "rgb(133,20,75)"
         },
         "mode": "lines",
         "text": [
          "cluster: 4, component: QE_2017_001814_565.4035_722.0",
          "cluster: 4, component: QE_2017_001814_565.4035_722.0",
          null,
          null
         ],
         "type": "scatter",
         "uid": "167dc21d-5a0e-43b9-a0b9-e4276481aa6c",
         "x": [
          395,
          395,
          410,
          410
         ],
         "xaxis": "x",
         "y": [
          0,
          0.4336283185840708,
          0.4336283185840708,
          0.35877862595419846
         ],
         "yaxis": "y"
        },
        {
         "hoverinfo": "text",
         "marker": {
          "color": "rgb(133,20,75)"
         },
         "mode": "lines",
         "text": [
          "cluster: 4, component: QE_2017_001815_583.41388_735.0",
          "cluster: 4, component: QE_2017_001815_583.41388_735.0",
          "cluster: 4, component: QE_2017_001815_583.41418_647.0",
          "cluster: 4, component: QE_2017_001815_583.41418_647.0"
         ],
         "type": "scatter",
         "uid": "cad84ea3-f324-494b-a96c-84008d525a2a",
         "x": [
          435,
          435,
          445,
          445
         ],
         "xaxis": "x",
         "y": [
          0,
          0.3592233009708738,
          0.3592233009708738,
          0
         ],
         "yaxis": "y"
        },
        {
         "hoverinfo": "text",
         "marker": {
          "color": "rgb(133,20,75)"
         },
         "mode": "lines",
         "text": [
          "cluster: 4, component: QE_2017_001814_601.42334_783.0",
          "cluster: 4, component: QE_2017_001814_601.42334_783.0",
          null,
          null
         ],
         "type": "scatter",
         "uid": "301bc086-4ded-47dc-9c60-0a3811c51270",
         "x": [
          425,
          425,
          440,
          440
         ],
         "xaxis": "x",
         "y": [
          0,
          0.5344827586206896,
          0.5344827586206896,
          0.3592233009708738
         ],
         "yaxis": "y"
        },
        {
         "hoverinfo": "text",
         "marker": {
          "color": "rgb(133,20,75)"
         },
         "mode": "lines",
         "text": [
          null,
          null,
          null,
          null
         ],
         "type": "scatter",
         "uid": "8e86d977-8353-4c1a-b694-28d5c94cf56e",
         "x": [
          402.5,
          402.5,
          432.5,
          432.5
         ],
         "xaxis": "x",
         "y": [
          0.4336283185840708,
          0.5802469135802469,
          0.5802469135802469,
          0.5344827586206896
         ],
         "yaxis": "y"
        },
        {
         "hoverinfo": "text",
         "marker": {
          "color": "rgb(133,20,75)"
         },
         "mode": "lines",
         "text": [
          "cluster: 4, component: QE_2017_001815_568.42627_841.0",
          "cluster: 4, component: QE_2017_001815_568.42627_841.0",
          null,
          null
         ],
         "type": "scatter",
         "uid": "9681043b-ff09-4b7e-bcf6-df47f2ef08f4",
         "x": [
          385,
          385,
          417.5,
          417.5
         ],
         "xaxis": "x",
         "y": [
          0,
          0.618421052631579,
          0.618421052631579,
          0.5802469135802469
         ],
         "yaxis": "y"
        },
        {
         "hoverinfo": "text",
         "marker": {
          "color": "rgb(133,20,75)"
         },
         "mode": "lines",
         "text": [
          null,
          null,
          null,
          null
         ],
         "type": "scatter",
         "uid": "053c2a1b-ef0d-4cdc-9374-4b65aa81f3d0",
         "x": [
          370,
          370,
          401.25,
          401.25
         ],
         "xaxis": "x",
         "y": [
          0.30997304582210244,
          0.6956521739130435,
          0.6956521739130435,
          0.618421052631579
         ],
         "yaxis": "y"
        },
        {
         "hoverinfo": "text",
         "marker": {
          "color": "rgb(0,116,217)"
         },
         "mode": "lines",
         "text": [
          null,
          null,
          null,
          null
         ],
         "type": "scatter",
         "uid": "6ccab76e-80ae-405c-a5a1-dca31367e245",
         "x": [
          324.375,
          324.375,
          385.625,
          385.625
         ],
         "xaxis": "x",
         "y": [
          0.6666666666666666,
          0.8867924528301887,
          0.8867924528301887,
          0.6956521739130435
         ],
         "yaxis": "y"
        },
        {
         "hoverinfo": "text",
         "marker": {
          "color": "rgb(0,116,217)"
         },
         "mode": "lines",
         "text": [
          null,
          null,
          null,
          null
         ],
         "type": "scatter",
         "uid": "ca8e7d85-431b-49b5-b8d5-4eaea2a3e7df",
         "x": [
          88.7060546875,
          88.7060546875,
          355,
          355
         ],
         "xaxis": "x",
         "y": [
          0.84,
          0.927710843373494,
          0.927710843373494,
          0.8867924528301887
         ],
         "yaxis": "y"
        },
        {
         "hoverinfo": "text",
         "marker": {
          "color": "rgb(255,220,0)"
         },
         "mode": "lines",
         "text": [
          "cluster: 5, component: QE_2017_001814_194.04424_237.0",
          "cluster: 5, component: QE_2017_001814_194.04424_237.0",
          "cluster: 5, component: QE_2017_001815_194.11751_218.0",
          "cluster: 5, component: QE_2017_001815_194.11751_218.0"
         ],
         "type": "scatter",
         "uid": "a462734c-3623-4816-8ad9-4e660c529574",
         "x": [
          455,
          455,
          465,
          465
         ],
         "xaxis": "x",
         "y": [
          0,
          0.45,
          0.45,
          0
         ],
         "yaxis": "y"
        },
        {
         "hoverinfo": "text",
         "marker": {
          "color": "rgb(255,220,0)"
         },
         "mode": "lines",
         "text": [
          "cluster: 5, component: QE_2017_001815_194.04471_314.0",
          "cluster: 5, component: QE_2017_001815_194.04471_314.0",
          "cluster: 5, component: QE_2017_001815_212.05513_328.0",
          "cluster: 5, component: QE_2017_001815_212.05513_328.0"
         ],
         "type": "scatter",
         "uid": "b1d728fc-6b95-424a-84ba-e558e08dd96a",
         "x": [
          485,
          485,
          495,
          495
         ],
         "xaxis": "x",
         "y": [
          0,
          0.21311475409836064,
          0.21311475409836064,
          0
         ],
         "yaxis": "y"
        },
        {
         "hoverinfo": "text",
         "marker": {
          "color": "rgb(255,220,0)"
         },
         "mode": "lines",
         "text": [
          "cluster: 5, component: QE_2017_001815_194.04469_299.0",
          "cluster: 5, component: QE_2017_001815_194.04469_299.0",
          null,
          null
         ],
         "type": "scatter",
         "uid": "7eb53966-b3e9-429b-ab5b-166ae7ad2fec",
         "x": [
          475,
          475,
          490,
          490
         ],
         "xaxis": "x",
         "y": [
          0,
          0.38636363636363635,
          0.38636363636363635,
          0.21311475409836064
         ],
         "yaxis": "y"
        },
        {
         "hoverinfo": "text",
         "marker": {
          "color": "rgb(255,220,0)"
         },
         "mode": "lines",
         "text": [
          "cluster: 5, component: QE_2017_001814_226.07077_397.0",
          "cluster: 5, component: QE_2017_001814_226.07077_397.0",
          "cluster: 5, component: QE_2017_001815_194.04471_397.0",
          "cluster: 5, component: QE_2017_001815_194.04471_397.0"
         ],
         "type": "scatter",
         "uid": "80843b06-7855-418e-8351-03f4213603b9",
         "x": [
          515,
          515,
          525,
          525
         ],
         "xaxis": "x",
         "y": [
          0,
          0.4583333333333333,
          0.4583333333333333,
          0
         ],
         "yaxis": "y"
        },
        {
         "hoverinfo": "text",
         "marker": {
          "color": "rgb(255,220,0)"
         },
         "mode": "lines",
         "text": [
          "cluster: 5, component: QE_2017_001815_212.05505_267.0",
          "cluster: 5, component: QE_2017_001815_212.05505_267.0",
          null,
          null
         ],
         "type": "scatter",
         "uid": "df03e521-5150-43ed-8855-adcf73fa53a4",
         "x": [
          505,
          505,
          520,
          520
         ],
         "xaxis": "x",
         "y": [
          0,
          0.5384615384615384,
          0.5384615384615384,
          0.4583333333333333
         ],
         "yaxis": "y"
        },
        {
         "hoverinfo": "text",
         "marker": {
          "color": "rgb(255,220,0)"
         },
         "mode": "lines",
         "text": [
          null,
          null,
          null,
          null
         ],
         "type": "scatter",
         "uid": "0c55dcab-6191-468e-a301-0dca5b42d6d0",
         "x": [
          482.5,
          482.5,
          512.5,
          512.5
         ],
         "xaxis": "x",
         "y": [
          0.38636363636363635,
          0.7183098591549296,
          0.7183098591549296,
          0.5384615384615384
         ],
         "yaxis": "y"
        },
        {
         "hoverinfo": "text",
         "marker": {
          "color": "rgb(255,220,0)"
         },
         "mode": "lines",
         "text": [
          null,
          null,
          null,
          null
         ],
         "type": "scatter",
         "uid": "97187849-8e6c-4b2e-8497-170bffe160da",
         "x": [
          460,
          460,
          497.5,
          497.5
         ],
         "xaxis": "x",
         "y": [
          0.45,
          0.7464788732394366,
          0.7464788732394366,
          0.7183098591549296
         ],
         "yaxis": "y"
        },
        {
         "hoverinfo": "text",
         "marker": {
          "color": "rgb(40,35,35)"
         },
         "mode": "lines",
         "text": [
          "cluster: 6, component: QE_2017_001816_533.15442_247.0",
          "cluster: 6, component: QE_2017_001816_533.15442_247.0",
          "cluster: 6, component: QE_2017_001816_533.15466_222.0",
          "cluster: 6, component: QE_2017_001816_533.15466_222.0"
         ],
         "type": "scatter",
         "uid": "c723459c-cb08-4fe4-b006-79643edff815",
         "x": [
          535,
          535,
          545,
          545
         ],
         "xaxis": "x",
         "y": [
          0,
          0.22522522522522523,
          0.22522522522522523,
          0
         ],
         "yaxis": "y"
        },
        {
         "hoverinfo": "text",
         "marker": {
          "color": "rgb(40,35,35)"
         },
         "mode": "lines",
         "text": [
          "cluster: 6, component: QE_2017_001815_533.1546_207.0",
          "cluster: 6, component: QE_2017_001815_533.1546_207.0",
          "cluster: 6, component: QE_2017_001816_533.1546_271.0",
          "cluster: 6, component: QE_2017_001816_533.1546_271.0"
         ],
         "type": "scatter",
         "uid": "52c06edc-2603-4e07-8f15-68a816b80bbb",
         "x": [
          555,
          555,
          565,
          565
         ],
         "xaxis": "x",
         "y": [
          0,
          0.29411764705882354,
          0.29411764705882354,
          0
         ],
         "yaxis": "y"
        },
        {
         "hoverinfo": "text",
         "marker": {
          "color": "rgb(40,35,35)"
         },
         "mode": "lines",
         "text": [
          null,
          null,
          null,
          null
         ],
         "type": "scatter",
         "uid": "43ad92a5-240d-442a-82f8-16952c57acaa",
         "x": [
          540,
          540,
          560,
          560
         ],
         "xaxis": "x",
         "y": [
          0.22522522522522523,
          0.3333333333333333,
          0.3333333333333333,
          0.29411764705882354
         ],
         "yaxis": "y"
        },
        {
         "hoverinfo": "text",
         "marker": {
          "color": "rgb(40,35,35)"
         },
         "mode": "lines",
         "text": [
          "cluster: 6, component: QE_2017_001814_347.09097_122.0",
          "cluster: 6, component: QE_2017_001814_347.09097_122.0",
          "cluster: 6, component: QE_2017_001815_347.09067_204.0",
          "cluster: 6, component: QE_2017_001815_347.09067_204.0"
         ],
         "type": "scatter",
         "uid": "d8f95438-f3c7-44a5-8d0b-299abeb64243",
         "x": [
          575,
          575,
          585,
          585
         ],
         "xaxis": "x",
         "y": [
          0,
          0.34210526315789475,
          0.34210526315789475,
          0
         ],
         "yaxis": "y"
        },
        {
         "hoverinfo": "text",
         "marker": {
          "color": "rgb(40,35,35)"
         },
         "mode": "lines",
         "text": [
          null,
          null,
          null,
          null
         ],
         "type": "scatter",
         "uid": "aa4adddd-9055-4960-8a49-db1ad9d9e9c7",
         "x": [
          550,
          550,
          580,
          580
         ],
         "xaxis": "x",
         "y": [
          0.3333333333333333,
          0.7864077669902912,
          0.7864077669902912,
          0.34210526315789475
         ],
         "yaxis": "y"
        },
        {
         "hoverinfo": "text",
         "marker": {
          "color": "rgb(0,116,217)"
         },
         "mode": "lines",
         "text": [
          null,
          null,
          null,
          null
         ],
         "type": "scatter",
         "uid": "258d5e7f-875f-4200-b253-07829ff932c4",
         "x": [
          478.75,
          478.75,
          565,
          565
         ],
         "xaxis": "x",
         "y": [
          0.7464788732394366,
          0.971830985915493,
          0.971830985915493,
          0.7864077669902912
         ],
         "yaxis": "y"
        },
        {
         "hoverinfo": "text",
         "marker": {
          "color": "rgb(61,153,112)"
         },
         "mode": "lines",
         "text": [
          "cluster: 7, component: QE_2017_001815_268.10373_58.0",
          "cluster: 7, component: QE_2017_001815_268.10373_58.0",
          "cluster: 7, component: QE_2017_001816_269.16055_60.0",
          "cluster: 7, component: QE_2017_001816_269.16055_60.0"
         ],
         "type": "scatter",
         "uid": "c5823f3f-e5a4-446d-b1f3-d9732e5541d8",
         "x": [
          595,
          595,
          605,
          605
         ],
         "xaxis": "x",
         "y": [
          0,
          0.2692307692307692,
          0.2692307692307692,
          0
         ],
         "yaxis": "y"
        },
        {
         "hoverinfo": "text",
         "marker": {
          "color": "rgb(255,65,54)"
         },
         "mode": "lines",
         "text": [
          "cluster: 8, component: QE_2017_001816_408.36832_704.0",
          "cluster: 8, component: QE_2017_001816_408.36832_704.0",
          "cluster: 8, component: QE_2017_001816_466.40979_731.0",
          "cluster: 8, component: QE_2017_001816_466.40979_731.0"
         ],
         "type": "scatter",
         "uid": "e38124c9-9bde-452e-9bd0-cd4114b067cb",
         "x": [
          625,
          625,
          635,
          635
         ],
         "xaxis": "x",
         "y": [
          0,
          0.4166666666666667,
          0.4166666666666667,
          0
         ],
         "yaxis": "y"
        },
        {
         "hoverinfo": "text",
         "marker": {
          "color": "rgb(255,65,54)"
         },
         "mode": "lines",
         "text": [
          "cluster: 8, component: QE_2017_001815_364.34189_705.0",
          "cluster: 8, component: QE_2017_001815_364.34189_705.0",
          null,
          null
         ],
         "type": "scatter",
         "uid": "450ad9f8-ffc7-4fb1-86bc-ce7a546c39b2",
         "x": [
          615,
          615,
          630,
          630
         ],
         "xaxis": "x",
         "y": [
          0,
          0.5238095238095238,
          0.5238095238095238,
          0.4166666666666667
         ],
         "yaxis": "y"
        },
        {
         "hoverinfo": "text",
         "marker": {
          "color": "rgb(255,65,54)"
         },
         "mode": "lines",
         "text": [
          "cluster: 8, component: QE_2017_001814_364.34244_761.0",
          "cluster: 8, component: QE_2017_001814_364.34244_761.0",
          "cluster: 8, component: QE_2017_001815_364.34253_752.0",
          "cluster: 8, component: QE_2017_001815_364.34253_752.0"
         ],
         "type": "scatter",
         "uid": "2ccac256-7e9b-4dbe-b7d9-3dbd8698162f",
         "x": [
          665,
          665,
          675,
          675
         ],
         "xaxis": "x",
         "y": [
          0,
          0.2222222222222222,
          0.2222222222222222,
          0
         ],
         "yaxis": "y"
        },
        {
         "hoverinfo": "text",
         "marker": {
          "color": "rgb(255,65,54)"
         },
         "mode": "lines",
         "text": [
          "cluster: 8, component: QE_2017_001816_421.35226_731.0",
          "cluster: 8, component: QE_2017_001816_421.35226_731.0",
          "cluster: 8, component: QE_2017_001816_424.36325_712.0",
          "cluster: 8, component: QE_2017_001816_424.36325_712.0"
         ],
         "type": "scatter",
         "uid": "4b599f3b-4cb9-4f73-8851-5c1e8b8dd6e6",
         "x": [
          685,
          685,
          695,
          695
         ],
         "xaxis": "x",
         "y": [
          0,
          0.2413793103448276,
          0.2413793103448276,
          0
         ],
         "yaxis": "y"
        },
        {
         "hoverinfo": "text",
         "marker": {
          "color": "rgb(255,65,54)"
         },
         "mode": "lines",
         "text": [
          null,
          null,
          null,
          null
         ],
         "type": "scatter",
         "uid": "5dcc0032-b3c4-44f4-9660-342707c4d9bb",
         "x": [
          670,
          670,
          690,
          690
         ],
         "xaxis": "x",
         "y": [
          0.2222222222222222,
          0.44,
          0.44,
          0.2413793103448276
         ],
         "yaxis": "y"
        },
        {
         "hoverinfo": "text",
         "marker": {
          "color": "rgb(255,65,54)"
         },
         "mode": "lines",
         "text": [
          "cluster: 8, component: QE_2017_001815_482.40488_739.0",
          "cluster: 8, component: QE_2017_001815_482.40488_739.0",
          null,
          null
         ],
         "type": "scatter",
         "uid": "060157b2-6fb5-497f-ba9c-cc655dc05e5d",
         "x": [
          655,
          655,
          680,
          680
         ],
         "xaxis": "x",
         "y": [
          0,
          0.5428571428571428,
          0.5428571428571428,
          0.44
         ],
         "yaxis": "y"
        },
        {
         "hoverinfo": "text",
         "marker": {
          "color": "rgb(255,65,54)"
         },
         "mode": "lines",
         "text": [
          "cluster: 8, component: QE_2017_001815_408.36853_717.0",
          "cluster: 8, component: QE_2017_001815_408.36853_717.0",
          null,
          null
         ],
         "type": "scatter",
         "uid": "35ba4041-ed1e-4ed9-bf59-2fb105c01137",
         "x": [
          645,
          645,
          667.5,
          667.5
         ],
         "xaxis": "x",
         "y": [
          0,
          0.5757575757575758,
          0.5757575757575758,
          0.5428571428571428
         ],
         "yaxis": "y"
        },
        {
         "hoverinfo": "text",
         "marker": {
          "color": "rgb(255,65,54)"
         },
         "mode": "lines",
         "text": [
          null,
          null,
          null,
          null
         ],
         "type": "scatter",
         "uid": "d0f2f04d-86c1-4ca3-b64a-c40dfe37cf9c",
         "x": [
          622.5,
          622.5,
          656.25,
          656.25
         ],
         "xaxis": "x",
         "y": [
          0.5238095238095238,
          0.7222222222222222,
          0.7222222222222222,
          0.5757575757575758
         ],
         "yaxis": "y"
        },
        {
         "hoverinfo": "text",
         "marker": {
          "color": "rgb(0,116,217)"
         },
         "mode": "lines",
         "text": [
          null,
          null,
          null,
          null
         ],
         "type": "scatter",
         "uid": "5b74af02-b845-46dc-817b-57fca9b41f52",
         "x": [
          600,
          600,
          639.375,
          639.375
         ],
         "xaxis": "x",
         "y": [
          0.2692307692307692,
          0.9636363636363636,
          0.9636363636363636,
          0.7222222222222222
         ],
         "yaxis": "y"
        },
        {
         "hoverinfo": "text",
         "marker": {
          "color": "rgb(35,205,205)"
         },
         "mode": "lines",
         "text": [
          "cluster: 9, component: QE_2017_001814_611.15997_285.0",
          "cluster: 9, component: QE_2017_001814_611.15997_285.0",
          "cluster: 9, component: QE_2017_001815_611.16046_309.0",
          "cluster: 9, component: QE_2017_001815_611.16046_309.0"
         ],
         "type": "scatter",
         "uid": "ba314393-7b22-4a1e-a56e-d6441f9ec71a",
         "x": [
          715,
          715,
          725,
          725
         ],
         "xaxis": "x",
         "y": [
          0,
          0.2972972972972973,
          0.2972972972972973,
          0
         ],
         "yaxis": "y"
        },
        {
         "hoverinfo": "text",
         "marker": {
          "color": "rgb(133,20,75)"
         },
         "mode": "lines",
         "text": [
          "cluster: 10, component: QE_2017_001814_339.10742_366.0",
          "cluster: 10, component: QE_2017_001814_339.10742_366.0",
          "cluster: 10, component: QE_2017_001816_339.10733_298.0",
          "cluster: 10, component: QE_2017_001816_339.10733_298.0"
         ],
         "type": "scatter",
         "uid": "6b58047f-4ef3-4c1c-b5b8-6ded46b2be85",
         "x": [
          735,
          735,
          745,
          745
         ],
         "xaxis": "x",
         "y": [
          0,
          0.28205128205128205,
          0.28205128205128205,
          0
         ],
         "yaxis": "y"
        },
        {
         "hoverinfo": "text",
         "marker": {
          "color": "rgb(133,20,75)"
         },
         "mode": "lines",
         "text": [
          "cluster: 10, component: QE_2017_001814_231.04971_516.0",
          "cluster: 10, component: QE_2017_001814_231.04971_516.0",
          "cluster: 10, component: QE_2017_001815_231.04971_369.0",
          "cluster: 10, component: QE_2017_001815_231.04971_369.0"
         ],
         "type": "scatter",
         "uid": "01193cfe-19a6-448a-9bba-92f95427e6bf",
         "x": [
          795,
          795,
          805,
          805
         ],
         "xaxis": "x",
         "y": [
          0,
          0.24324324324324326,
          0.24324324324324326,
          0
         ],
         "yaxis": "y"
        },
        {
         "hoverinfo": "text",
         "marker": {
          "color": "rgb(133,20,75)"
         },
         "mode": "lines",
         "text": [
          "cluster: 10, component: QE_2017_001815_231.04968_315.0",
          "cluster: 10, component: QE_2017_001815_231.04968_315.0",
          null,
          null
         ],
         "type": "scatter",
         "uid": "f08f83dc-9211-4518-be54-c990c6ffeb26",
         "x": [
          785,
          785,
          800,
          800
         ],
         "xaxis": "x",
         "y": [
          0,
          0.2571428571428571,
          0.2571428571428571,
          0.24324324324324326
         ],
         "yaxis": "y"
        },
        {
         "hoverinfo": "text",
         "marker": {
          "color": "rgb(133,20,75)"
         },
         "mode": "lines",
         "text": [
          "cluster: 10, component: QE_2017_001815_231.04973_403.0",
          "cluster: 10, component: QE_2017_001815_231.04973_403.0",
          null,
          null
         ],
         "type": "scatter",
         "uid": "cbf7c2a3-8943-4edc-9ce2-3894637ac406",
         "x": [
          775,
          775,
          792.5,
          792.5
         ],
         "xaxis": "x",
         "y": [
          0,
          0.35135135135135137,
          0.35135135135135137,
          0.2571428571428571
         ],
         "yaxis": "y"
        },
        {
         "hoverinfo": "text",
         "marker": {
          "color": "rgb(133,20,75)"
         },
         "mode": "lines",
         "text": [
          "cluster: 10, component: QE_2017_001815_340.16019_314.0",
          "cluster: 10, component: QE_2017_001815_340.16019_314.0",
          null,
          null
         ],
         "type": "scatter",
         "uid": "5a434408-eeb2-4039-9b83-4434b0dfc682",
         "x": [
          765,
          765,
          783.75,
          783.75
         ],
         "xaxis": "x",
         "y": [
          0,
          0.5272727272727272,
          0.5272727272727272,
          0.35135135135135137
         ],
         "yaxis": "y"
        },
        {
         "hoverinfo": "text",
         "marker": {
          "color": "rgb(133,20,75)"
         },
         "mode": "lines",
         "text": [
          "cluster: 10, component: QE_2017_001815_314.14453_76.0",
          "cluster: 10, component: QE_2017_001815_314.14453_76.0",
          "cluster: 10, component: QE_2017_001816_314.14462_79.0",
          "cluster: 10, component: QE_2017_001816_314.14462_79.0"
         ],
         "type": "scatter",
         "uid": "58576333-e0f9-4707-b223-4c1d916d14ff",
         "x": [
          815,
          815,
          825,
          825
         ],
         "xaxis": "x",
         "y": [
          0,
          0.2682926829268293,
          0.2682926829268293,
          0
         ],
         "yaxis": "y"
        },
        {
         "hoverinfo": "text",
         "marker": {
          "color": "rgb(133,20,75)"
         },
         "mode": "lines",
         "text": [
          "cluster: 10, component: QE_2017_001816_310.14957_134.0",
          "cluster: 10, component: QE_2017_001816_310.14957_134.0",
          "cluster: 10, component: QE_2017_001816_342.17584_257.0",
          "cluster: 10, component: QE_2017_001816_342.17584_257.0"
         ],
         "type": "scatter",
         "uid": "c4198305-c506-42c8-ad80-82bada973fc0",
         "x": [
          835,
          835,
          845,
          845
         ],
         "xaxis": "x",
         "y": [
          0,
          0.5135135135135135,
          0.5135135135135135,
          0
         ],
         "yaxis": "y"
        },
        {
         "hoverinfo": "text",
         "marker": {
          "color": "rgb(133,20,75)"
         },
         "mode": "lines",
         "text": [
          null,
          null,
          null,
          null
         ],
         "type": "scatter",
         "uid": "071eb4c3-5338-4286-a3ed-5a79b0ccace5",
         "x": [
          820,
          820,
          840,
          840
         ],
         "xaxis": "x",
         "y": [
          0.2682926829268293,
          0.6,
          0.6,
          0.5135135135135135
         ],
         "yaxis": "y"
        },
        {
         "hoverinfo": "text",
         "marker": {
          "color": "rgb(133,20,75)"
         },
         "mode": "lines",
         "text": [
          null,
          null,
          null,
          null
         ],
         "type": "scatter",
         "uid": "d2ff346e-3e08-4a87-b497-cf466b37b509",
         "x": [
          774.375,
          774.375,
          830,
          830
         ],
         "xaxis": "x",
         "y": [
          0.5272727272727272,
          0.6666666666666666,
          0.6666666666666666,
          0.6
         ],
         "yaxis": "y"
        },
        {
         "hoverinfo": "text",
         "marker": {
          "color": "rgb(133,20,75)"
         },
         "mode": "lines",
         "text": [
          "cluster: 10, component: QE_2017_001814_498.2543_475.0",
          "cluster: 10, component: QE_2017_001814_498.2543_475.0",
          null,
          null
         ],
         "type": "scatter",
         "uid": "9bcad859-057b-44ea-997e-6df53039e66b",
         "x": [
          755,
          755,
          802.1875,
          802.1875
         ],
         "xaxis": "x",
         "y": [
          0,
          0.75,
          0.75,
          0.6666666666666666
         ],
         "yaxis": "y"
        },
        {
         "hoverinfo": "text",
         "marker": {
          "color": "rgb(133,20,75)"
         },
         "mode": "lines",
         "text": [
          null,
          null,
          null,
          null
         ],
         "type": "scatter",
         "uid": "8c10b958-4da2-4082-9f4a-1be810b72141",
         "x": [
          740,
          740,
          778.59375,
          778.59375
         ],
         "xaxis": "x",
         "y": [
          0.28205128205128205,
          0.7818181818181819,
          0.7818181818181819,
          0.75
         ],
         "yaxis": "y"
        },
        {
         "hoverinfo": "text",
         "marker": {
          "color": "rgb(0,116,217)"
         },
         "mode": "lines",
         "text": [
          "cluster: 11, component: QE_2017_001814_241.15466_73.0",
          "cluster: 11, component: QE_2017_001814_241.15466_73.0",
          "cluster: 12, component: QE_2017_001815_507.18192_178.0",
          "cluster: 12, component: QE_2017_001815_507.18192_178.0"
         ],
         "type": "scatter",
         "uid": "3c5c9423-6423-4fed-b1ca-8ffb2a39f5f3",
         "x": [
          855,
          855,
          865,
          865
         ],
         "xaxis": "x",
         "y": [
          0,
          0.84375,
          0.84375,
          0
         ],
         "yaxis": "y"
        },
        {
         "hoverinfo": "text",
         "marker": {
          "color": "rgb(0,116,217)"
         },
         "mode": "lines",
         "text": [
          null,
          null,
          null,
          null
         ],
         "type": "scatter",
         "uid": "3816bf13-bf1f-4e8b-947b-1fe9095e39cc",
         "x": [
          759.296875,
          759.296875,
          860,
          860
         ],
         "xaxis": "x",
         "y": [
          0.7818181818181819,
          0.8695652173913043,
          0.8695652173913043,
          0.84375
         ],
         "yaxis": "y"
        },
        {
         "hoverinfo": "text",
         "marker": {
          "color": "rgb(0,116,217)"
         },
         "mode": "lines",
         "text": [
          null,
          null,
          null,
          null
         ],
         "type": "scatter",
         "uid": "d7e9f4b0-b16d-4c27-9154-26a6b76445df",
         "x": [
          720,
          720,
          809.6484375,
          809.6484375
         ],
         "xaxis": "x",
         "y": [
          0.2972972972972973,
          0.9272727272727272,
          0.9272727272727272,
          0.8695652173913043
         ],
         "yaxis": "y"
        },
        {
         "hoverinfo": "text",
         "marker": {
          "color": "rgb(0,116,217)"
         },
         "mode": "lines",
         "text": [
          "cluster: 13, component: QE_2017_001816_463.12311_410.0",
          "cluster: 13, component: QE_2017_001816_463.12311_410.0",
          null,
          null
         ],
         "type": "scatter",
         "uid": "148b2fff-16ee-4442-b451-1f7f65b6f3d1",
         "x": [
          705,
          705,
          764.82421875,
          764.82421875
         ],
         "xaxis": "x",
         "y": [
          0,
          0.9411764705882353,
          0.9411764705882353,
          0.9272727272727272
         ],
         "yaxis": "y"
        },
        {
         "hoverinfo": "text",
         "marker": {
          "color": "rgb(255,220,0)"
         },
         "mode": "lines",
         "text": [
          "cluster: 14, component: QE_2017_001814_320.29456_577.0",
          "cluster: 14, component: QE_2017_001814_320.29456_577.0",
          "cluster: 14, component: QE_2017_001815_320.29471_563.0",
          "cluster: 14, component: QE_2017_001815_320.29471_563.0"
         ],
         "type": "scatter",
         "uid": "e3901e84-2251-4d39-b136-e5f36667e172",
         "x": [
          895,
          895,
          905,
          905
         ],
         "xaxis": "x",
         "y": [
          0,
          0.21951219512195122,
          0.21951219512195122,
          0
         ],
         "yaxis": "y"
        },
        {
         "hoverinfo": "text",
         "marker": {
          "color": "rgb(255,220,0)"
         },
         "mode": "lines",
         "text": [
          "cluster: 14, component: QE_2017_001816_338.26062_643.0",
          "cluster: 14, component: QE_2017_001816_338.26062_643.0",
          null,
          null
         ],
         "type": "scatter",
         "uid": "76feede6-6590-49a7-8752-dea919e484e1",
         "x": [
          885,
          885,
          900,
          900
         ],
         "xaxis": "x",
         "y": [
          0,
          0.4444444444444444,
          0.4444444444444444,
          0.21951219512195122
         ],
         "yaxis": "y"
        },
        {
         "hoverinfo": "text",
         "marker": {
          "color": "rgb(255,220,0)"
         },
         "mode": "lines",
         "text": [
          "cluster: 14, component: QE_2017_001814_483.27118_651.0",
          "cluster: 14, component: QE_2017_001814_483.27118_651.0",
          null,
          null
         ],
         "type": "scatter",
         "uid": "6d450ee3-9efb-477d-9101-9340c4f10cb3",
         "x": [
          875,
          875,
          892.5,
          892.5
         ],
         "xaxis": "x",
         "y": [
          0,
          0.76,
          0.76,
          0.4444444444444444
         ],
         "yaxis": "y"
        },
        {
         "hoverinfo": "text",
         "marker": {
          "color": "rgb(40,35,35)"
         },
         "mode": "lines",
         "text": [
          "cluster: 15, component: QE_2017_001815_129.12741_349.0",
          "cluster: 15, component: QE_2017_001815_129.12741_349.0",
          "cluster: 15, component: QE_2017_001815_171.14914_420.0",
          "cluster: 15, component: QE_2017_001815_171.14914_420.0"
         ],
         "type": "scatter",
         "uid": "a384d01d-3916-4988-a7ab-3a63584980f6",
         "x": [
          915,
          915,
          925,
          925
         ],
         "xaxis": "x",
         "y": [
          0,
          0.7647058823529411,
          0.7647058823529411,
          0
         ],
         "yaxis": "y"
        },
        {
         "hoverinfo": "text",
         "marker": {
          "color": "rgb(0,116,217)"
         },
         "mode": "lines",
         "text": [
          null,
          null,
          null,
          null
         ],
         "type": "scatter",
         "uid": "c6547899-35be-42ef-8bdd-134d63ac2f45",
         "x": [
          883.75,
          883.75,
          920,
          920
         ],
         "xaxis": "x",
         "y": [
          0.76,
          0.8235294117647058,
          0.8235294117647058,
          0.7647058823529411
         ],
         "yaxis": "y"
        },
        {
         "hoverinfo": "text",
         "marker": {
          "color": "rgb(61,153,112)"
         },
         "mode": "lines",
         "text": [
          "cluster: 16, component: QE_2017_001815_201.16367_442.0",
          "cluster: 16, component: QE_2017_001815_201.16367_442.0",
          "cluster: 16, component: QE_2017_001816_201.16362_435.0",
          "cluster: 16, component: QE_2017_001816_201.16362_435.0"
         ],
         "type": "scatter",
         "uid": "fb11c8f3-1fc7-4aaf-8ddf-96a91cd0a639",
         "x": [
          935,
          935,
          945,
          945
         ],
         "xaxis": "x",
         "y": [
          0,
          0.31868131868131866,
          0.31868131868131866,
          0
         ],
         "yaxis": "y"
        },
        {
         "hoverinfo": "text",
         "marker": {
          "color": "rgb(61,153,112)"
         },
         "mode": "lines",
         "text": [
          "cluster: 16, component: QE_2017_001815_209.1535_312.0",
          "cluster: 16, component: QE_2017_001815_209.1535_312.0",
          "cluster: 16, component: QE_2017_001816_209.15344_311.0",
          "cluster: 16, component: QE_2017_001816_209.15344_311.0"
         ],
         "type": "scatter",
         "uid": "e8a32c99-6cc6-4618-9b53-eb4dcdfdb189",
         "x": [
          975,
          975,
          985,
          985
         ],
         "xaxis": "x",
         "y": [
          0,
          0.17073170731707318,
          0.17073170731707318,
          0
         ],
         "yaxis": "y"
        },
        {
         "hoverinfo": "text",
         "marker": {
          "color": "rgb(61,153,112)"
         },
         "mode": "lines",
         "text": [
          "cluster: 16, component: QE_2017_001815_209.15349_295.0",
          "cluster: 16, component: QE_2017_001815_209.15349_295.0",
          null,
          null
         ],
         "type": "scatter",
         "uid": "6544609b-3746-4e1e-aa11-846066019548",
         "x": [
          965,
          965,
          980,
          980
         ],
         "xaxis": "x",
         "y": [
          0,
          0.23728813559322035,
          0.23728813559322035,
          0.17073170731707318
         ],
         "yaxis": "y"
        },
        {
         "hoverinfo": "text",
         "marker": {
          "color": "rgb(61,153,112)"
         },
         "mode": "lines",
         "text": [
          "cluster: 16, component: QE_2017_001815_209.15352_479.0",
          "cluster: 16, component: QE_2017_001815_209.15352_479.0",
          null,
          null
         ],
         "type": "scatter",
         "uid": "d20fdcb3-b62a-4f12-bc13-b9fd17c4eabd",
         "x": [
          955,
          955,
          972.5,
          972.5
         ],
         "xaxis": "x",
         "y": [
          0,
          0.288135593220339,
          0.288135593220339,
          0.23728813559322035
         ],
         "yaxis": "y"
        },
        {
         "hoverinfo": "text",
         "marker": {
          "color": "rgb(61,153,112)"
         },
         "mode": "lines",
         "text": [
          "cluster: 16, component: QE_2017_001814_243.15892_533.0",
          "cluster: 16, component: QE_2017_001814_243.15892_533.0",
          "cluster: 16, component: QE_2017_001814_281.1745_492.0",
          "cluster: 16, component: QE_2017_001814_281.1745_492.0"
         ],
         "type": "scatter",
         "uid": "acbd934b-c586-4282-bc30-9a94a072a7b1",
         "x": [
          995,
          995,
          1005,
          1005
         ],
         "xaxis": "x",
         "y": [
          0,
          0.21904761904761905,
          0.21904761904761905,
          0
         ],
         "yaxis": "y"
        },
        {
         "hoverinfo": "text",
         "marker": {
          "color": "rgb(61,153,112)"
         },
         "mode": "lines",
         "text": [
          "cluster: 16, component: QE_2017_001815_227.16408_344.0",
          "cluster: 16, component: QE_2017_001815_227.16408_344.0",
          "cluster: 16, component: QE_2017_001815_283.19009_564.0",
          "cluster: 16, component: QE_2017_001815_283.19009_564.0"
         ],
         "type": "scatter",
         "uid": "59bdda3e-c64d-4cbe-993e-9fd3fc139f16",
         "x": [
          1025,
          1025,
          1035,
          1035
         ],
         "xaxis": "x",
         "y": [
          0,
          0.3088235294117647,
          0.3088235294117647,
          0
         ],
         "yaxis": "y"
        },
        {
         "hoverinfo": "text",
         "marker": {
          "color": "rgb(61,153,112)"
         },
         "mode": "lines",
         "text": [
          "cluster: 16, component: QE_2017_001814_293.2106_579.0",
          "cluster: 16, component: QE_2017_001814_293.2106_579.0",
          null,
          null
         ],
         "type": "scatter",
         "uid": "ab749b82-84a2-4e8d-bb50-1e939c6071d5",
         "x": [
          1015,
          1015,
          1030,
          1030
         ],
         "xaxis": "x",
         "y": [
          0,
          0.375,
          0.375,
          0.3088235294117647
         ],
         "yaxis": "y"
        },
        {
         "hoverinfo": "text",
         "marker": {
          "color": "rgb(61,153,112)"
         },
         "mode": "lines",
         "text": [
          null,
          null,
          null,
          null
         ],
         "type": "scatter",
         "uid": "25ba411e-3f0d-475b-acb8-aa03de816e79",
         "x": [
          1000,
          1000,
          1022.5,
          1022.5
         ],
         "xaxis": "x",
         "y": [
          0.21904761904761905,
          0.42857142857142855,
          0.42857142857142855,
          0.375
         ],
         "yaxis": "y"
        },
        {
         "hoverinfo": "text",
         "marker": {
          "color": "rgb(61,153,112)"
         },
         "mode": "lines",
         "text": [
          null,
          null,
          null,
          null
         ],
         "type": "scatter",
         "uid": "a0c2ac04-03c0-41b8-a32d-94afddc8f1e6",
         "x": [
          963.75,
          963.75,
          1011.25,
          1011.25
         ],
         "xaxis": "x",
         "y": [
          0.288135593220339,
          0.48091603053435117,
          0.48091603053435117,
          0.42857142857142855
         ],
         "yaxis": "y"
        },
        {
         "hoverinfo": "text",
         "marker": {
          "color": "rgb(61,153,112)"
         },
         "mode": "lines",
         "text": [
          "cluster: 16, component: QE_2017_001814_227.1275_293.0",
          "cluster: 16, component: QE_2017_001814_227.1275_293.0",
          "cluster: 16, component: QE_2017_001816_227.12766_295.0",
          "cluster: 16, component: QE_2017_001816_227.12766_295.0"
         ],
         "type": "scatter",
         "uid": "d6ae791d-db47-4b22-aca9-34df0732eec4",
         "x": [
          1055,
          1055,
          1065,
          1065
         ],
         "xaxis": "x",
         "y": [
          0,
          0.20353982300884957,
          0.20353982300884957,
          0
         ],
         "yaxis": "y"
        },
        {
         "hoverinfo": "text",
         "marker": {
          "color": "rgb(61,153,112)"
         },
         "mode": "lines",
         "text": [
          "cluster: 16, component: QE_2017_001815_207.13785_297.0",
          "cluster: 16, component: QE_2017_001815_207.13785_297.0",
          null,
          null
         ],
         "type": "scatter",
         "uid": "6aa3c245-9fc4-40f5-a3e0-12220ad6acd0",
         "x": [
          1045,
          1045,
          1060,
          1060
         ],
         "xaxis": "x",
         "y": [
          0,
          0.504950495049505,
          0.504950495049505,
          0.20353982300884957
         ],
         "yaxis": "y"
        },
        {
         "hoverinfo": "text",
         "marker": {
          "color": "rgb(61,153,112)"
         },
         "mode": "lines",
         "text": [
          null,
          null,
          null,
          null
         ],
         "type": "scatter",
         "uid": "1a7b62a9-91c4-4461-8588-c1f05483f05c",
         "x": [
          987.5,
          987.5,
          1052.5,
          1052.5
         ],
         "xaxis": "x",
         "y": [
          0.48091603053435117,
          0.5454545454545454,
          0.5454545454545454,
          0.504950495049505
         ],
         "yaxis": "y"
        },
        {
         "hoverinfo": "text",
         "marker": {
          "color": "rgb(61,153,112)"
         },
         "mode": "lines",
         "text": [
          "cluster: 16, component: QE_2017_001815_181.1221_767.0",
          "cluster: 16, component: QE_2017_001815_181.1221_767.0",
          "cluster: 16, component: QE_2017_001816_181.12199_794.0",
          "cluster: 16, component: QE_2017_001816_181.12199_794.0"
         ],
         "type": "scatter",
         "uid": "514bfea4-6a58-44d5-8299-4f836cdb49d4",
         "x": [
          1075,
          1075,
          1085,
          1085
         ],
         "xaxis": "x",
         "y": [
          0,
          0.16666666666666666,
          0.16666666666666666,
          0
         ],
         "yaxis": "y"
        },
        {
         "hoverinfo": "text",
         "marker": {
          "color": "rgb(61,153,112)"
         },
         "mode": "lines",
         "text": [
          "cluster: 16, component: QE_2017_001814_211.16902_440.0",
          "cluster: 16, component: QE_2017_001814_211.16902_440.0",
          "cluster: 16, component: QE_2017_001815_211.16913_450.0",
          "cluster: 16, component: QE_2017_001815_211.16913_450.0"
         ],
         "type": "scatter",
         "uid": "3ca24ac9-a453-4aaa-a730-bafcf63a1ff7",
         "x": [
          1115,
          1115,
          1125,
          1125
         ],
         "xaxis": "x",
         "y": [
          0,
          0.10638297872340426,
          0.10638297872340426,
          0
         ],
         "yaxis": "y"
        },
        {
         "hoverinfo": "text",
         "marker": {
          "color": "rgb(61,153,112)"
         },
         "mode": "lines",
         "text": [
          "cluster: 16, component: QE_2017_001815_209.0807_405.0",
          "cluster: 16, component: QE_2017_001815_209.0807_405.0",
          null,
          null
         ],
         "type": "scatter",
         "uid": "4478e907-ce84-4ad8-a4f3-fc46226c9f0f",
         "x": [
          1105,
          1105,
          1120,
          1120
         ],
         "xaxis": "x",
         "y": [
          0,
          0.11827956989247312,
          0.11827956989247312,
          0.10638297872340426
         ],
         "yaxis": "y"
        },
        {
         "hoverinfo": "text",
         "marker": {
          "color": "rgb(61,153,112)"
         },
         "mode": "lines",
         "text": [
          "cluster: 16, component: QE_2017_001816_211.16916_405.0",
          "cluster: 16, component: QE_2017_001816_211.16916_405.0",
          null,
          null
         ],
         "type": "scatter",
         "uid": "34ae726f-ca62-4b87-83d1-36a295578c6c",
         "x": [
          1095,
          1095,
          1112.5,
          1112.5
         ],
         "xaxis": "x",
         "y": [
          0,
          0.17647058823529413,
          0.17647058823529413,
          0.11827956989247312
         ],
         "yaxis": "y"
        },
        {
         "hoverinfo": "text",
         "marker": {
          "color": "rgb(61,153,112)"
         },
         "mode": "lines",
         "text": [
          "cluster: 16, component: QE_2017_001815_215.164_550.0",
          "cluster: 16, component: QE_2017_001815_215.164_550.0",
          "cluster: 16, component: QE_2017_001816_215.16411_482.0",
          "cluster: 16, component: QE_2017_001816_215.16411_482.0"
         ],
         "type": "scatter",
         "uid": "58751f36-44e0-442e-a809-2a88ad551cf6",
         "x": [
          1135,
          1135,
          1145,
          1145
         ],
         "xaxis": "x",
         "y": [
          0,
          0.3220338983050847,
          0.3220338983050847,
          0
         ],
         "yaxis": "y"
        },
        {
         "hoverinfo": "text",
         "marker": {
          "color": "rgb(61,153,112)"
         },
         "mode": "lines",
         "text": [
          null,
          null,
          null,
          null
         ],
         "type": "scatter",
         "uid": "def493cb-2a14-4aa7-b467-d6645a3ec608",
         "x": [
          1103.75,
          1103.75,
          1140,
          1140
         ],
         "xaxis": "x",
         "y": [
          0.17647058823529413,
          0.41025641025641024,
          0.41025641025641024,
          0.3220338983050847
         ],
         "yaxis": "y"
        },
        {
         "hoverinfo": "text",
         "marker": {
          "color": "rgb(61,153,112)"
         },
         "mode": "lines",
         "text": [
          null,
          null,
          null,
          null
         ],
         "type": "scatter",
         "uid": "12a273a6-f4eb-42ed-a67a-b560185ed127",
         "x": [
          1080,
          1080,
          1121.875,
          1121.875
         ],
         "xaxis": "x",
         "y": [
          0.16666666666666666,
          0.5932203389830508,
          0.5932203389830508,
          0.41025641025641024
         ],
         "yaxis": "y"
        },
        {
         "hoverinfo": "text",
         "marker": {
          "color": "rgb(61,153,112)"
         },
         "mode": "lines",
         "text": [
          null,
          null,
          null,
          null
         ],
         "type": "scatter",
         "uid": "6e7dabfc-1c0d-43b9-a8d6-d1151ec1f068",
         "x": [
          1020,
          1020,
          1100.9375,
          1100.9375
         ],
         "xaxis": "x",
         "y": [
          0.5454545454545454,
          0.6170212765957447,
          0.6170212765957447,
          0.5932203389830508
         ],
         "yaxis": "y"
        },
        {
         "hoverinfo": "text",
         "marker": {
          "color": "rgb(61,153,112)"
         },
         "mode": "lines",
         "text": [
          "cluster: 16, component: QE_2017_001814_219.17416_517.0",
          "cluster: 16, component: QE_2017_001814_219.17416_517.0",
          "cluster: 16, component: QE_2017_001815_219.17421_516.0",
          "cluster: 16, component: QE_2017_001815_219.17421_516.0"
         ],
         "type": "scatter",
         "uid": "4089c5c4-889c-4317-813d-cd45d254f36f",
         "x": [
          1165,
          1165,
          1175,
          1175
         ],
         "xaxis": "x",
         "y": [
          0,
          0.14285714285714285,
          0.14285714285714285,
          0
         ],
         "yaxis": "y"
        },
        {
         "hoverinfo": "text",
         "marker": {
          "color": "rgb(61,153,112)"
         },
         "mode": "lines",
         "text": [
          "cluster: 16, component: QE_2017_001814_219.17401_452.0",
          "cluster: 16, component: QE_2017_001814_219.17401_452.0",
          "cluster: 16, component: QE_2017_001814_219.17409_442.0",
          "cluster: 16, component: QE_2017_001814_219.17409_442.0"
         ],
         "type": "scatter",
         "uid": "67b8c8e2-b9be-4481-9d7d-fa3b19db8d1b",
         "x": [
          1195,
          1195,
          1205,
          1205
         ],
         "xaxis": "x",
         "y": [
          0,
          0.18518518518518517,
          0.18518518518518517,
          0
         ],
         "yaxis": "y"
        },
        {
         "hoverinfo": "text",
         "marker": {
          "color": "rgb(61,153,112)"
         },
         "mode": "lines",
         "text": [
          "cluster: 16, component: QE_2017_001816_219.17438_502.0",
          "cluster: 16, component: QE_2017_001816_219.17438_502.0",
          null,
          null
         ],
         "type": "scatter",
         "uid": "672af66b-ecae-43de-b954-0687ede947c7",
         "x": [
          1185,
          1185,
          1200,
          1200
         ],
         "xaxis": "x",
         "y": [
          0,
          0.2558139534883721,
          0.2558139534883721,
          0.18518518518518517
         ],
         "yaxis": "y"
        },
        {
         "hoverinfo": "text",
         "marker": {
          "color": "rgb(61,153,112)"
         },
         "mode": "lines",
         "text": [
          null,
          null,
          null,
          null
         ],
         "type": "scatter",
         "uid": "21e95ef0-5657-428b-9e4f-a178c5a80f96",
         "x": [
          1170,
          1170,
          1192.5,
          1192.5
         ],
         "xaxis": "x",
         "y": [
          0.14285714285714285,
          0.2972972972972973,
          0.2972972972972973,
          0.2558139534883721
         ],
         "yaxis": "y"
        },
        {
         "hoverinfo": "text",
         "marker": {
          "color": "rgb(61,153,112)"
         },
         "mode": "lines",
         "text": [
          "cluster: 16, component: QE_2017_001815_191.14287_312.0",
          "cluster: 16, component: QE_2017_001815_191.14287_312.0",
          "cluster: 16, component: QE_2017_001816_191.14291_404.0",
          "cluster: 16, component: QE_2017_001816_191.14291_404.0"
         ],
         "type": "scatter",
         "uid": "eb8f9bbd-0a6b-42f9-a1b2-ebf2d1b26d7a",
         "x": [
          1225,
          1225,
          1235,
          1235
         ],
         "xaxis": "x",
         "y": [
          0,
          0.27472527472527475,
          0.27472527472527475,
          0
         ],
         "yaxis": "y"
        },
        {
         "hoverinfo": "text",
         "marker": {
          "color": "rgb(61,153,112)"
         },
         "mode": "lines",
         "text": [
          "cluster: 16, component: QE_2017_001814_191.14291_389.0",
          "cluster: 16, component: QE_2017_001814_191.14291_389.0",
          null,
          null
         ],
         "type": "scatter",
         "uid": "542cd630-5cc0-4e35-9576-c119d0870a59",
         "x": [
          1215,
          1215,
          1230,
          1230
         ],
         "xaxis": "x",
         "y": [
          0,
          0.3333333333333333,
          0.3333333333333333,
          0.27472527472527475
         ],
         "yaxis": "y"
        },
        {
         "hoverinfo": "text",
         "marker": {
          "color": "rgb(61,153,112)"
         },
         "mode": "lines",
         "text": [
          null,
          null,
          null,
          null
         ],
         "type": "scatter",
         "uid": "334acdb1-038b-4647-af66-9ed2e0e33b8e",
         "x": [
          1181.25,
          1181.25,
          1222.5,
          1222.5
         ],
         "xaxis": "x",
         "y": [
          0.2972972972972973,
          0.5151515151515151,
          0.5151515151515151,
          0.3333333333333333
         ],
         "yaxis": "y"
        },
        {
         "hoverinfo": "text",
         "marker": {
          "color": "rgb(61,153,112)"
         },
         "mode": "lines",
         "text": [
          "cluster: 16, component: QE_2017_001816_137.09584_445.0",
          "cluster: 16, component: QE_2017_001816_137.09584_445.0",
          null,
          null
         ],
         "type": "scatter",
         "uid": "b263510b-1a0c-4793-8bca-45aa0880f4f2",
         "x": [
          1155,
          1155,
          1201.875,
          1201.875
         ],
         "xaxis": "x",
         "y": [
          0,
          0.6428571428571429,
          0.6428571428571429,
          0.5151515151515151
         ],
         "yaxis": "y"
        },
        {
         "hoverinfo": "text",
         "marker": {
          "color": "rgb(61,153,112)"
         },
         "mode": "lines",
         "text": [
          null,
          null,
          null,
          null
         ],
         "type": "scatter",
         "uid": "9a6ee1e3-0e80-4786-add5-f582a4721c27",
         "x": [
          1060.46875,
          1060.46875,
          1178.4375,
          1178.4375
         ],
         "xaxis": "x",
         "y": [
          0.6170212765957447,
          0.6907216494845361,
          0.6907216494845361,
          0.6428571428571429
         ],
         "yaxis": "y"
        },
        {
         "hoverinfo": "text",
         "marker": {
          "color": "rgb(61,153,112)"
         },
         "mode": "lines",
         "text": [
          null,
          null,
          null,
          null
         ],
         "type": "scatter",
         "uid": "5ac407a9-be2d-4c1e-a669-6cf26bc9c319",
         "x": [
          940,
          940,
          1119.453125,
          1119.453125
         ],
         "xaxis": "x",
         "y": [
          0.31868131868131866,
          0.7272727272727273,
          0.7272727272727273,
          0.6907216494845361
         ],
         "yaxis": "y"
        },
        {
         "hoverinfo": "text",
         "marker": {
          "color": "rgb(255,65,54)"
         },
         "mode": "lines",
         "text": [
          "cluster: 17, component: QE_2017_001814_209.08058_363.0",
          "cluster: 17, component: QE_2017_001814_209.08058_363.0",
          "cluster: 17, component: QE_2017_001816_207.13779_561.0",
          "cluster: 17, component: QE_2017_001816_207.13779_561.0"
         ],
         "type": "scatter",
         "uid": "4b98120d-e711-41ea-825c-eaa17a172153",
         "x": [
          1245,
          1245,
          1255,
          1255
         ],
         "xaxis": "x",
         "y": [
          0,
          0.7477477477477478,
          0.7477477477477478,
          0
         ],
         "yaxis": "y"
        },
        {
         "hoverinfo": "text",
         "marker": {
          "color": "rgb(0,116,217)"
         },
         "mode": "lines",
         "text": [
          null,
          null,
          null,
          null
         ],
         "type": "scatter",
         "uid": "9a939bd7-522b-4797-be81-1e67fa2a794d",
         "x": [
          1029.7265625,
          1029.7265625,
          1250,
          1250
         ],
         "xaxis": "x",
         "y": [
          0.7272727272727273,
          0.8409090909090909,
          0.8409090909090909,
          0.7477477477477478
         ],
         "yaxis": "y"
        },
        {
         "hoverinfo": "text",
         "marker": {
          "color": "rgb(0,116,217)"
         },
         "mode": "lines",
         "text": [
          null,
          null,
          null,
          null
         ],
         "type": "scatter",
         "uid": "38173139-87c7-4089-8d35-b07254822400",
         "x": [
          901.875,
          901.875,
          1139.86328125,
          1139.86328125
         ],
         "xaxis": "x",
         "y": [
          0.8235294117647058,
          0.9767441860465116,
          0.9767441860465116,
          0.8409090909090909
         ],
         "yaxis": "y"
        },
        {
         "hoverinfo": "text",
         "marker": {
          "color": "rgb(35,205,205)"
         },
         "mode": "lines",
         "text": [
          "cluster: 18, component: QE_2017_001815_333.15173_245.0",
          "cluster: 18, component: QE_2017_001815_333.15173_245.0",
          "cluster: 18, component: QE_2017_001816_333.15204_235.0",
          "cluster: 18, component: QE_2017_001816_333.15204_235.0"
         ],
         "type": "scatter",
         "uid": "6a8170ae-6800-4917-ac7d-646d515f7684",
         "x": [
          1265,
          1265,
          1275,
          1275
         ],
         "xaxis": "x",
         "y": [
          0,
          0.7333333333333333,
          0.7333333333333333,
          0
         ],
         "yaxis": "y"
        },
        {
         "hoverinfo": "text",
         "marker": {
          "color": "rgb(133,20,75)"
         },
         "mode": "lines",
         "text": [
          "cluster: 19, component: QE_2017_001814_194.1174_244.0",
          "cluster: 19, component: QE_2017_001814_194.1174_244.0",
          "cluster: 19, component: QE_2017_001816_194.11746_133.0",
          "cluster: 19, component: QE_2017_001816_194.11746_133.0"
         ],
         "type": "scatter",
         "uid": "c880c71b-5672-4a85-9216-b83e4d4c36e7",
         "x": [
          1285,
          1285,
          1295,
          1295
         ],
         "xaxis": "x",
         "y": [
          0,
          0.5555555555555556,
          0.5555555555555556,
          0
         ],
         "yaxis": "y"
        },
        {
         "hoverinfo": "text",
         "marker": {
          "color": "rgb(255,220,0)"
         },
         "mode": "lines",
         "text": [
          "cluster: 20, component: QE_2017_001814_320.29471_529.0",
          "cluster: 20, component: QE_2017_001814_320.29471_529.0",
          "cluster: 20, component: QE_2017_001815_320.29486_538.0",
          "cluster: 20, component: QE_2017_001815_320.29486_538.0"
         ],
         "type": "scatter",
         "uid": "7f316720-396f-40ae-837c-fa74acefca28",
         "x": [
          1335,
          1335,
          1345,
          1345
         ],
         "xaxis": "x",
         "y": [
          0,
          0.2857142857142857,
          0.2857142857142857,
          0
         ],
         "yaxis": "y"
        },
        {
         "hoverinfo": "text",
         "marker": {
          "color": "rgb(255,220,0)"
         },
         "mode": "lines",
         "text": [
          "cluster: 20, component: QE_2017_001814_320.29477_539.0",
          "cluster: 20, component: QE_2017_001814_320.29477_539.0",
          null,
          null
         ],
         "type": "scatter",
         "uid": "b62809b4-082f-4cd3-a598-33d1688f8b04",
         "x": [
          1325,
          1325,
          1340,
          1340
         ],
         "xaxis": "x",
         "y": [
          0,
          0.4117647058823529,
          0.4117647058823529,
          0.2857142857142857
         ],
         "yaxis": "y"
        },
        {
         "hoverinfo": "text",
         "marker": {
          "color": "rgb(255,220,0)"
         },
         "mode": "lines",
         "text": [
          "cluster: 20, component: QE_2017_001814_320.29468_638.0",
          "cluster: 20, component: QE_2017_001814_320.29468_638.0",
          null,
          null
         ],
         "type": "scatter",
         "uid": "c4c55694-cb45-4e28-8378-864363649454",
         "x": [
          1315,
          1315,
          1332.5,
          1332.5
         ],
         "xaxis": "x",
         "y": [
          0,
          0.6470588235294118,
          0.6470588235294118,
          0.4117647058823529
         ],
         "yaxis": "y"
        },
        {
         "hoverinfo": "text",
         "marker": {
          "color": "rgb(0,116,217)"
         },
         "mode": "lines",
         "text": [
          "cluster: 21, component: QE_2017_001816_320.29483_548.0",
          "cluster: 21, component: QE_2017_001816_320.29483_548.0",
          null,
          null
         ],
         "type": "scatter",
         "uid": "9b66f41a-bfff-4faf-9595-09f5e0ea4498",
         "x": [
          1305,
          1305,
          1323.75,
          1323.75
         ],
         "xaxis": "x",
         "y": [
          0,
          0.8857142857142857,
          0.8857142857142857,
          0.6470588235294118
         ],
         "yaxis": "y"
        },
        {
         "hoverinfo": "text",
         "marker": {
          "color": "rgb(0,116,217)"
         },
         "mode": "lines",
         "text": [
          null,
          null,
          null,
          null
         ],
         "type": "scatter",
         "uid": "d385f7fb-2275-43b9-be30-7cc7a85331fb",
         "x": [
          1290,
          1290,
          1314.375,
          1314.375
         ],
         "xaxis": "x",
         "y": [
          0.5555555555555556,
          0.9090909090909091,
          0.9090909090909091,
          0.8857142857142857
         ],
         "yaxis": "y"
        },
        {
         "hoverinfo": "text",
         "marker": {
          "color": "rgb(40,35,35)"
         },
         "mode": "lines",
         "text": [
          "cluster: 22, component: QE_2017_001814_241.15384_47.0",
          "cluster: 22, component: QE_2017_001814_241.15384_47.0",
          "cluster: 22, component: QE_2017_001814_241.15446_57.0",
          "cluster: 22, component: QE_2017_001814_241.15446_57.0"
         ],
         "type": "scatter",
         "uid": "47587d80-5f6b-4c64-a656-fb185932f5a8",
         "x": [
          1355,
          1355,
          1365,
          1365
         ],
         "xaxis": "x",
         "y": [
          0,
          0.4666666666666667,
          0.4666666666666667,
          0
         ],
         "yaxis": "y"
        },
        {
         "hoverinfo": "text",
         "marker": {
          "color": "rgb(61,153,112)"
         },
         "mode": "lines",
         "text": [
          "cluster: 23, component: QE_2017_001815_332.25827_508.0",
          "cluster: 23, component: QE_2017_001815_332.25827_508.0",
          "cluster: 23, component: QE_2017_001816_332.25842_487.0",
          "cluster: 23, component: QE_2017_001816_332.25842_487.0"
         ],
         "type": "scatter",
         "uid": "51e2aa67-d7aa-446b-90c7-853b7a197177",
         "x": [
          1385,
          1385,
          1395,
          1395
         ],
         "xaxis": "x",
         "y": [
          0,
          0.5185185185185185,
          0.5185185185185185,
          0
         ],
         "yaxis": "y"
        },
        {
         "hoverinfo": "text",
         "marker": {
          "color": "rgb(61,153,112)"
         },
         "mode": "lines",
         "text": [
          "cluster: 23, component: QE_2017_001814_332.25827_467.0",
          "cluster: 23, component: QE_2017_001814_332.25827_467.0",
          null,
          null
         ],
         "type": "scatter",
         "uid": "eba793d2-5aff-4d6f-9041-371f8fbe3620",
         "x": [
          1375,
          1375,
          1390,
          1390
         ],
         "xaxis": "x",
         "y": [
          0,
          0.6666666666666666,
          0.6666666666666666,
          0.5185185185185185
         ],
         "yaxis": "y"
        },
        {
         "hoverinfo": "text",
         "marker": {
          "color": "rgb(0,116,217)"
         },
         "mode": "lines",
         "text": [
          null,
          null,
          null,
          null
         ],
         "type": "scatter",
         "uid": "5f914eca-f641-41af-8b99-841b928596fa",
         "x": [
          1360,
          1360,
          1382.5,
          1382.5
         ],
         "xaxis": "x",
         "y": [
          0.4666666666666667,
          0.9354838709677419,
          0.9354838709677419,
          0.6666666666666666
         ],
         "yaxis": "y"
        },
        {
         "hoverinfo": "text",
         "marker": {
          "color": "rgb(0,116,217)"
         },
         "mode": "lines",
         "text": [
          null,
          null,
          null,
          null
         ],
         "type": "scatter",
         "uid": "c3243502-0a75-4ea0-a09f-62f1079c50d1",
         "x": [
          1302.1875,
          1302.1875,
          1371.25,
          1371.25
         ],
         "xaxis": "x",
         "y": [
          0.9090909090909091,
          0.9555555555555556,
          0.9555555555555556,
          0.9354838709677419
         ],
         "yaxis": "y"
        },
        {
         "hoverinfo": "text",
         "marker": {
          "color": "rgb(255,65,54)"
         },
         "mode": "lines",
         "text": [
          "cluster: 24, component: QE_2017_001814_319.13638_117.0",
          "cluster: 24, component: QE_2017_001814_319.13638_117.0",
          "cluster: 24, component: QE_2017_001816_319.13614_143.0",
          "cluster: 24, component: QE_2017_001816_319.13614_143.0"
         ],
         "type": "scatter",
         "uid": "a6478449-9f94-453e-ade3-914c33e691ba",
         "x": [
          1405,
          1405,
          1415,
          1415
         ],
         "xaxis": "x",
         "y": [
          0,
          0.6,
          0.6,
          0
         ],
         "yaxis": "y"
        },
        {
         "hoverinfo": "text",
         "marker": {
          "color": "rgb(35,205,205)"
         },
         "mode": "lines",
         "text": [
          "cluster: 25, component: QE_2017_001815_219.10139_360.0",
          "cluster: 25, component: QE_2017_001815_219.10139_360.0",
          "cluster: 25, component: QE_2017_001816_219.10153_382.0",
          "cluster: 25, component: QE_2017_001816_219.10153_382.0"
         ],
         "type": "scatter",
         "uid": "02233bc1-5631-4f86-ae24-2c6883691855",
         "x": [
          1445,
          1445,
          1455,
          1455
         ],
         "xaxis": "x",
         "y": [
          0,
          0.23595505617977527,
          0.23595505617977527,
          0
         ],
         "yaxis": "y"
        },
        {
         "hoverinfo": "text",
         "marker": {
          "color": "rgb(35,205,205)"
         },
         "mode": "lines",
         "text": [
          "cluster: 25, component: QE_2017_001815_219.10159_438.0",
          "cluster: 25, component: QE_2017_001815_219.10159_438.0",
          null,
          null
         ],
         "type": "scatter",
         "uid": "8ebeb7a4-3f5d-4453-9159-2d25be8a083c",
         "x": [
          1435,
          1435,
          1450,
          1450
         ],
         "xaxis": "x",
         "y": [
          0,
          0.30275229357798167,
          0.30275229357798167,
          0.23595505617977527
         ],
         "yaxis": "y"
        },
        {
         "hoverinfo": "text",
         "marker": {
          "color": "rgb(35,205,205)"
         },
         "mode": "lines",
         "text": [
          "cluster: 25, component: QE_2017_001814_251.09117_393.0",
          "cluster: 25, component: QE_2017_001814_251.09117_393.0",
          null,
          null
         ],
         "type": "scatter",
         "uid": "66216145-643d-4aba-a0fe-e9353642da71",
         "x": [
          1425,
          1425,
          1442.5,
          1442.5
         ],
         "xaxis": "x",
         "y": [
          0,
          0.4845360824742268,
          0.4845360824742268,
          0.30275229357798167
         ],
         "yaxis": "y"
        },
        {
         "hoverinfo": "text",
         "marker": {
          "color": "rgb(133,20,75)"
         },
         "mode": "lines",
         "text": [
          "cluster: 26, component: QE_2017_001814_291.1442_241.0",
          "cluster: 26, component: QE_2017_001814_291.1442_241.0",
          "cluster: 26, component: QE_2017_001816_291.14493_243.0",
          "cluster: 26, component: QE_2017_001816_291.14493_243.0"
         ],
         "type": "scatter",
         "uid": "ae1496ab-8da5-47a4-b13f-65624725ca56",
         "x": [
          1465,
          1465,
          1475,
          1475
         ],
         "xaxis": "x",
         "y": [
          0,
          0.22727272727272727,
          0.22727272727272727,
          0
         ],
         "yaxis": "y"
        },
        {
         "hoverinfo": "text",
         "marker": {
          "color": "rgb(133,20,75)"
         },
         "mode": "lines",
         "text": [
          "cluster: 26, component: QE_2017_001815_273.13425_199.0",
          "cluster: 26, component: QE_2017_001815_273.13425_199.0",
          "cluster: 26, component: QE_2017_001815_273.13434_243.0",
          "cluster: 26, component: QE_2017_001815_273.13434_243.0"
         ],
         "type": "scatter",
         "uid": "8eae8cd2-b395-4b9e-9900-de4bac8aa45a",
         "x": [
          1495,
          1495,
          1505,
          1505
         ],
         "xaxis": "x",
         "y": [
          0,
          0.2,
          0.2,
          0
         ],
         "yaxis": "y"
        },
        {
         "hoverinfo": "text",
         "marker": {
          "color": "rgb(133,20,75)"
         },
         "mode": "lines",
         "text": [
          "cluster: 26, component: QE_2017_001816_291.14499_200.0",
          "cluster: 26, component: QE_2017_001816_291.14499_200.0",
          null,
          null
         ],
         "type": "scatter",
         "uid": "c1f9cc4a-cd81-4170-a323-ba29df52f714",
         "x": [
          1485,
          1485,
          1500,
          1500
         ],
         "xaxis": "x",
         "y": [
          0,
          0.2653061224489796,
          0.2653061224489796,
          0.2
         ],
         "yaxis": "y"
        },
        {
         "hoverinfo": "text",
         "marker": {
          "color": "rgb(133,20,75)"
         },
         "mode": "lines",
         "text": [
          null,
          null,
          null,
          null
         ],
         "type": "scatter",
         "uid": "f13fc3f8-e8a9-4033-b79f-8af03bb76bc4",
         "x": [
          1470,
          1470,
          1492.5,
          1492.5
         ],
         "xaxis": "x",
         "y": [
          0.22727272727272727,
          0.34782608695652173,
          0.34782608695652173,
          0.2653061224489796
         ],
         "yaxis": "y"
        },
        {
         "hoverinfo": "text",
         "marker": {
          "color": "rgb(255,220,0)"
         },
         "mode": "lines",
         "text": [
          "cluster: 27, component: QE_2017_001815_235.14398_226.0",
          "cluster: 27, component: QE_2017_001815_235.14398_226.0",
          "cluster: 27, component: QE_2017_001816_235.14397_183.0",
          "cluster: 27, component: QE_2017_001816_235.14397_183.0"
         ],
         "type": "scatter",
         "uid": "ce3a1fed-cab5-4e76-abc2-09f8fc3c77ce",
         "x": [
          1525,
          1525,
          1535,
          1535
         ],
         "xaxis": "x",
         "y": [
          0,
          0.35714285714285715,
          0.35714285714285715,
          0
         ],
         "yaxis": "y"
        },
        {
         "hoverinfo": "text",
         "marker": {
          "color": "rgb(255,220,0)"
         },
         "mode": "lines",
         "text": [
          "cluster: 27, component: QE_2017_001815_251.13873_202.0",
          "cluster: 27, component: QE_2017_001815_251.13873_202.0",
          null,
          null
         ],
         "type": "scatter",
         "uid": "6b6f0d7d-d0d8-4deb-99d1-625d5f30b431",
         "x": [
          1515,
          1515,
          1530,
          1530
         ],
         "xaxis": "x",
         "y": [
          0,
          0.76,
          0.76,
          0.35714285714285715
         ],
         "yaxis": "y"
        },
        {
         "hoverinfo": "text",
         "marker": {
          "color": "rgb(0,116,217)"
         },
         "mode": "lines",
         "text": [
          null,
          null,
          null,
          null
         ],
         "type": "scatter",
         "uid": "ff49a0b4-05d6-40d6-8565-061f48a88392",
         "x": [
          1481.25,
          1481.25,
          1522.5,
          1522.5
         ],
         "xaxis": "x",
         "y": [
          0.34782608695652173,
          0.8461538461538461,
          0.8461538461538461,
          0.76
         ],
         "yaxis": "y"
        },
        {
         "hoverinfo": "text",
         "marker": {
          "color": "rgb(0,116,217)"
         },
         "mode": "lines",
         "text": [
          null,
          null,
          null,
          null
         ],
         "type": "scatter",
         "uid": "84eea364-9295-407e-a78d-5677e4c7f500",
         "x": [
          1433.75,
          1433.75,
          1501.875,
          1501.875
         ],
         "xaxis": "x",
         "y": [
          0.4845360824742268,
          0.978494623655914,
          0.978494623655914,
          0.8461538461538461
         ],
         "yaxis": "y"
        },
        {
         "hoverinfo": "text",
         "marker": {
          "color": "rgb(40,35,35)"
         },
         "mode": "lines",
         "text": [
          "cluster: 28, component: QE_2017_001814_250.10149_516.0",
          "cluster: 28, component: QE_2017_001814_250.10149_516.0",
          "cluster: 28, component: QE_2017_001815_222.07033_315.0",
          "cluster: 28, component: QE_2017_001815_222.07033_315.0"
         ],
         "type": "scatter",
         "uid": "bb6afacc-29cb-4754-b97e-0a447df27913",
         "x": [
          1565,
          1565,
          1575,
          1575
         ],
         "xaxis": "x",
         "y": [
          0,
          0.34065934065934067,
          0.34065934065934067,
          0
         ],
         "yaxis": "y"
        },
        {
         "hoverinfo": "text",
         "marker": {
          "color": "rgb(40,35,35)"
         },
         "mode": "lines",
         "text": [
          "cluster: 28, component: QE_2017_001816_268.59351_445.0",
          "cluster: 28, component: QE_2017_001816_268.59351_445.0",
          null,
          null
         ],
         "type": "scatter",
         "uid": "e66356b2-2c93-439b-a186-be29656d1987",
         "x": [
          1555,
          1555,
          1570,
          1570
         ],
         "xaxis": "x",
         "y": [
          0,
          0.5294117647058824,
          0.5294117647058824,
          0.34065934065934067
         ],
         "yaxis": "y"
        },
        {
         "hoverinfo": "text",
         "marker": {
          "color": "rgb(61,153,112)"
         },
         "mode": "lines",
         "text": [
          "cluster: 29, component: QE_2017_001814_247.05975_245.0",
          "cluster: 29, component: QE_2017_001814_247.05975_245.0",
          "cluster: 29, component: QE_2017_001815_247.0598_242.0",
          "cluster: 29, component: QE_2017_001815_247.0598_242.0"
         ],
         "type": "scatter",
         "uid": "d29dc5f1-0d56-490b-9361-903df3d9bcd8",
         "x": [
          1585,
          1585,
          1595,
          1595
         ],
         "xaxis": "x",
         "y": [
          0,
          0.21428571428571427,
          0.21428571428571427,
          0
         ],
         "yaxis": "y"
        },
        {
         "hoverinfo": "text",
         "marker": {
          "color": "rgb(61,153,112)"
         },
         "mode": "lines",
         "text": [
          "cluster: 29, component: QE_2017_001815_212.03883_181.0",
          "cluster: 29, component: QE_2017_001815_212.03883_181.0",
          "cluster: 29, component: QE_2017_001815_214.56488_409.0",
          "cluster: 29, component: QE_2017_001815_214.56488_409.0"
         ],
         "type": "scatter",
         "uid": "3f8f3820-6c99-43e2-977c-96fc82e37acc",
         "x": [
          1615,
          1615,
          1625,
          1625
         ],
         "xaxis": "x",
         "y": [
          0,
          0.6363636363636364,
          0.6363636363636364,
          0
         ],
         "yaxis": "y"
        },
        {
         "hoverinfo": "text",
         "marker": {
          "color": "rgb(61,153,112)"
         },
         "mode": "lines",
         "text": [
          "cluster: 29, component: QE_2017_001816_219.04672_291.0",
          "cluster: 29, component: QE_2017_001816_219.04672_291.0",
          null,
          null
         ],
         "type": "scatter",
         "uid": "f841a28a-7d1b-45c2-b862-6cd0138fcea7",
         "x": [
          1605,
          1605,
          1620,
          1620
         ],
         "xaxis": "x",
         "y": [
          0,
          0.6842105263157895,
          0.6842105263157895,
          0.6363636363636364
         ],
         "yaxis": "y"
        },
        {
         "hoverinfo": "text",
         "marker": {
          "color": "rgb(61,153,112)"
         },
         "mode": "lines",
         "text": [
          null,
          null,
          null,
          null
         ],
         "type": "scatter",
         "uid": "bc6bf68c-0e57-4370-99cd-c694d43a3679",
         "x": [
          1590,
          1590,
          1612.5,
          1612.5
         ],
         "xaxis": "x",
         "y": [
          0.21428571428571427,
          0.75,
          0.75,
          0.6842105263157895
         ],
         "yaxis": "y"
        },
        {
         "hoverinfo": "text",
         "marker": {
          "color": "rgb(0,116,217)"
         },
         "mode": "lines",
         "text": [
          null,
          null,
          null,
          null
         ],
         "type": "scatter",
         "uid": "f5378df4-c8fc-42d1-8d60-f55e9d7c7b2e",
         "x": [
          1562.5,
          1562.5,
          1601.25,
          1601.25
         ],
         "xaxis": "x",
         "y": [
          0.5294117647058824,
          0.8481012658227848,
          0.8481012658227848,
          0.75
         ],
         "yaxis": "y"
        },
        {
         "hoverinfo": "text",
         "marker": {
          "color": "rgb(0,116,217)"
         },
         "mode": "lines",
         "text": [
          "cluster: 30, component: QE_2017_001815_214.51021_60.0",
          "cluster: 30, component: QE_2017_001815_214.51021_60.0",
          null,
          null
         ],
         "type": "scatter",
         "uid": "382e2005-4a37-41ed-b3c8-b6beb403dc29",
         "x": [
          1545,
          1545,
          1581.875,
          1581.875
         ],
         "xaxis": "x",
         "y": [
          0,
          0.9111111111111111,
          0.9111111111111111,
          0.8481012658227848
         ],
         "yaxis": "y"
        },
        {
         "hoverinfo": "text",
         "marker": {
          "color": "rgb(255,65,54)"
         },
         "mode": "lines",
         "text": [
          "cluster: 31, component: QE_2017_001815_246.14465_137.0",
          "cluster: 31, component: QE_2017_001815_246.14465_137.0",
          "cluster: 31, component: QE_2017_001815_247.12865_158.0",
          "cluster: 31, component: QE_2017_001815_247.12865_158.0"
         ],
         "type": "scatter",
         "uid": "ae95d35f-ab8a-43d6-b80e-fdd6ee59d4ad",
         "x": [
          1655,
          1655,
          1665,
          1665
         ],
         "xaxis": "x",
         "y": [
          0,
          0.3333333333333333,
          0.3333333333333333,
          0
         ],
         "yaxis": "y"
        },
        {
         "hoverinfo": "text",
         "marker": {
          "color": "rgb(35,205,205)"
         },
         "mode": "lines",
         "text": [
          "cluster: 32, component: QE_2017_001814_260.16037_143.0",
          "cluster: 32, component: QE_2017_001814_260.16037_143.0",
          "cluster: 32, component: QE_2017_001816_260.16022_145.0",
          "cluster: 32, component: QE_2017_001816_260.16022_145.0"
         ],
         "type": "scatter",
         "uid": "b5599c51-9293-40b3-a97c-84f03de62099",
         "x": [
          1675,
          1675,
          1685,
          1685
         ],
         "xaxis": "x",
         "y": [
          0,
          0.16666666666666666,
          0.16666666666666666,
          0
         ],
         "yaxis": "y"
        },
        {
         "hoverinfo": "text",
         "marker": {
          "color": "rgb(35,205,205)"
         },
         "mode": "lines",
         "text": [
          "cluster: 32, component: QE_2017_001814_233.14948_126.0",
          "cluster: 32, component: QE_2017_001814_233.14948_126.0",
          "cluster: 32, component: QE_2017_001816_233.14955_129.0",
          "cluster: 32, component: QE_2017_001816_233.14955_129.0"
         ],
         "type": "scatter",
         "uid": "75d5d4c0-8010-4b98-8e2b-f45d483859ee",
         "x": [
          1705,
          1705,
          1715,
          1715
         ],
         "xaxis": "x",
         "y": [
          0,
          0.15151515151515152,
          0.15151515151515152,
          0
         ],
         "yaxis": "y"
        },
        {
         "hoverinfo": "text",
         "marker": {
          "color": "rgb(35,205,205)"
         },
         "mode": "lines",
         "text": [
          "cluster: 32, component: QE_2017_001814_233.14957_152.0",
          "cluster: 32, component: QE_2017_001814_233.14957_152.0",
          null,
          null
         ],
         "type": "scatter",
         "uid": "5f296de7-5e5e-414f-bfba-e108f92bb78a",
         "x": [
          1695,
          1695,
          1710,
          1710
         ],
         "xaxis": "x",
         "y": [
          0,
          0.37142857142857144,
          0.37142857142857144,
          0.15151515151515152
         ],
         "yaxis": "y"
        },
        {
         "hoverinfo": "text",
         "marker": {
          "color": "rgb(35,205,205)"
         },
         "mode": "lines",
         "text": [
          null,
          null,
          null,
          null
         ],
         "type": "scatter",
         "uid": "e19c25c0-c811-4399-a1d6-93106ab2595c",
         "x": [
          1680,
          1680,
          1702.5,
          1702.5
         ],
         "xaxis": "x",
         "y": [
          0.16666666666666666,
          0.7619047619047619,
          0.7619047619047619,
          0.37142857142857144
         ],
         "yaxis": "y"
        },
        {
         "hoverinfo": "text",
         "marker": {
          "color": "rgb(0,116,217)"
         },
         "mode": "lines",
         "text": [
          null,
          null,
          null,
          null
         ],
         "type": "scatter",
         "uid": "89f9b0b5-11c5-4840-bc39-b731529d87c0",
         "x": [
          1660,
          1660,
          1691.25,
          1691.25
         ],
         "xaxis": "x",
         "y": [
          0.3333333333333333,
          0.9183673469387755,
          0.9183673469387755,
          0.7619047619047619
         ],
         "yaxis": "y"
        },
        {
         "hoverinfo": "text",
         "marker": {
          "color": "rgb(0,116,217)"
         },
         "mode": "lines",
         "text": [
          "cluster: 33, component: QE_2017_001816_132.04436_283.0",
          "cluster: 33, component: QE_2017_001816_132.04436_283.0",
          null,
          null
         ],
         "type": "scatter",
         "uid": "9599c775-6787-437f-91ac-ae8eaa19cb45",
         "x": [
          1645,
          1645,
          1675.625,
          1675.625
         ],
         "xaxis": "x",
         "y": [
          0,
          0.9607843137254902,
          0.9607843137254902,
          0.9183673469387755
         ],
         "yaxis": "y"
        },
        {
         "hoverinfo": "text",
         "marker": {
          "color": "rgb(0,116,217)"
         },
         "mode": "lines",
         "text": [
          "cluster: 34, component: QE_2017_001815_260.16016_64.0",
          "cluster: 34, component: QE_2017_001815_260.16016_64.0",
          null,
          null
         ],
         "type": "scatter",
         "uid": "9ecd6f93-6b5c-43d1-a121-291fe3f5e8a3",
         "x": [
          1635,
          1635,
          1660.3125,
          1660.3125
         ],
         "xaxis": "x",
         "y": [
          0,
          0.9696969696969697,
          0.9696969696969697,
          0.9607843137254902
         ],
         "yaxis": "y"
        },
        {
         "hoverinfo": "text",
         "marker": {
          "color": "rgb(133,20,75)"
         },
         "mode": "lines",
         "text": [
          "cluster: 35, component: QE_2017_001815_221.12837_99.0",
          "cluster: 35, component: QE_2017_001815_221.12837_99.0",
          "cluster: 35, component: QE_2017_001816_237.12325_171.0",
          "cluster: 35, component: QE_2017_001816_237.12325_171.0"
         ],
         "type": "scatter",
         "uid": "63fcce9b-925d-49bc-85bf-2fb015faa9b2",
         "x": [
          1725,
          1725,
          1735,
          1735
         ],
         "xaxis": "x",
         "y": [
          0,
          0.5555555555555556,
          0.5555555555555556,
          0
         ],
         "yaxis": "y"
        },
        {
         "hoverinfo": "text",
         "marker": {
          "color": "rgb(0,116,217)"
         },
         "mode": "lines",
         "text": [
          "cluster: 36, component: QE_2017_001814_237.12305_220.0",
          "cluster: 36, component: QE_2017_001814_237.12305_220.0",
          "cluster: 37, component: QE_2017_001816_237.12323_53.0",
          "cluster: 37, component: QE_2017_001816_237.12323_53.0"
         ],
         "type": "scatter",
         "uid": "7f75f645-8796-41d9-a17a-b7e8d5c30cf3",
         "x": [
          1745,
          1745,
          1755,
          1755
         ],
         "xaxis": "x",
         "y": [
          0,
          0.8947368421052632,
          0.8947368421052632,
          0
         ],
         "yaxis": "y"
        },
        {
         "hoverinfo": "text",
         "marker": {
          "color": "rgb(0,116,217)"
         },
         "mode": "lines",
         "text": [
          null,
          null,
          null,
          null
         ],
         "type": "scatter",
         "uid": "643b1673-8cf4-4ab4-9729-7b9dc188c7c0",
         "x": [
          1730,
          1730,
          1750,
          1750
         ],
         "xaxis": "x",
         "y": [
          0.5555555555555556,
          0.9534883720930233,
          0.9534883720930233,
          0.8947368421052632
         ],
         "yaxis": "y"
        },
        {
         "hoverinfo": "text",
         "marker": {
          "color": "rgb(255,220,0)"
         },
         "mode": "lines",
         "text": [
          "cluster: 38, component: QE_2017_001814_229.15399_46.0",
          "cluster: 38, component: QE_2017_001814_229.15399_46.0",
          "cluster: 38, component: QE_2017_001816_229.15451_66.0",
          "cluster: 38, component: QE_2017_001816_229.15451_66.0"
         ],
         "type": "scatter",
         "uid": "7d382ab4-75f6-41d2-8357-c6244d1244ed",
         "x": [
          1775,
          1775,
          1785,
          1785
         ],
         "xaxis": "x",
         "y": [
          0,
          0.23809523809523808,
          0.23809523809523808,
          0
         ],
         "yaxis": "y"
        },
        {
         "hoverinfo": "text",
         "marker": {
          "color": "rgb(255,220,0)"
         },
         "mode": "lines",
         "text": [
          "cluster: 38, component: QE_2017_001816_229.15469_52.0",
          "cluster: 38, component: QE_2017_001816_229.15469_52.0",
          null,
          null
         ],
         "type": "scatter",
         "uid": "42f205ef-9d56-481e-a1a8-3352c85c9bb1",
         "x": [
          1765,
          1765,
          1780,
          1780
         ],
         "xaxis": "x",
         "y": [
          0,
          0.7777777777777778,
          0.7777777777777778,
          0.23809523809523808
         ],
         "yaxis": "y"
        },
        {
         "hoverinfo": "text",
         "marker": {
          "color": "rgb(40,35,35)"
         },
         "mode": "lines",
         "text": [
          "cluster: 39, component: QE_2017_001814_182.08116_51.0",
          "cluster: 39, component: QE_2017_001814_182.08116_51.0",
          "cluster: 39, component: QE_2017_001816_182.08116_55.0",
          "cluster: 39, component: QE_2017_001816_182.08116_55.0"
         ],
         "type": "scatter",
         "uid": "c81193a3-0d50-4fe6-8c1b-a29807308759",
         "x": [
          1795,
          1795,
          1805,
          1805
         ],
         "xaxis": "x",
         "y": [
          0,
          0.28,
          0.28,
          0
         ],
         "yaxis": "y"
        },
        {
         "hoverinfo": "text",
         "marker": {
          "color": "rgb(61,153,112)"
         },
         "mode": "lines",
         "text": [
          "cluster: 40, component: QE_2017_001815_194.04474_330.0",
          "cluster: 40, component: QE_2017_001815_194.04474_330.0",
          "cluster: 40, component: QE_2017_001816_212.05518_300.0",
          "cluster: 40, component: QE_2017_001816_212.05518_300.0"
         ],
         "type": "scatter",
         "uid": "f684a936-5ed6-4296-a3af-cc5cea6fc465",
         "x": [
          1815,
          1815,
          1825,
          1825
         ],
         "xaxis": "x",
         "y": [
          0,
          0.3670886075949367,
          0.3670886075949367,
          0
         ],
         "yaxis": "y"
        },
        {
         "hoverinfo": "text",
         "marker": {
          "color": "rgb(0,116,217)"
         },
         "mode": "lines",
         "text": [
          null,
          null,
          null,
          null
         ],
         "type": "scatter",
         "uid": "e506e409-ab55-42a6-a1a5-e07f230ec1fc",
         "x": [
          1800,
          1800,
          1820,
          1820
         ],
         "xaxis": "x",
         "y": [
          0.28,
          0.855072463768116,
          0.855072463768116,
          0.3670886075949367
         ],
         "yaxis": "y"
        },
        {
         "hoverinfo": "text",
         "marker": {
          "color": "rgb(255,65,54)"
         },
         "mode": "lines",
         "text": [
          "cluster: 41, component: QE_2017_001814_177.05418_236.0",
          "cluster: 41, component: QE_2017_001814_177.05418_236.0",
          "cluster: 41, component: QE_2017_001815_177.05444_307.0",
          "cluster: 41, component: QE_2017_001815_177.05444_307.0"
         ],
         "type": "scatter",
         "uid": "8cee954f-6aef-44e9-9d28-050cf14ef5d2",
         "x": [
          1845,
          1845,
          1855,
          1855
         ],
         "xaxis": "x",
         "y": [
          0,
          0.21212121212121213,
          0.21212121212121213,
          0
         ],
         "yaxis": "y"
        },
        {
         "hoverinfo": "text",
         "marker": {
          "color": "rgb(255,65,54)"
         },
         "mode": "lines",
         "text": [
          "cluster: 41, component: QE_2017_001816_177.05449_217.0",
          "cluster: 41, component: QE_2017_001816_177.05449_217.0",
          null,
          null
         ],
         "type": "scatter",
         "uid": "da794c5c-0af5-42f7-b861-4ce9757c2535",
         "x": [
          1835,
          1835,
          1850,
          1850
         ],
         "xaxis": "x",
         "y": [
          0,
          0.24324324324324326,
          0.24324324324324326,
          0.21212121212121213
         ],
         "yaxis": "y"
        },
        {
         "hoverinfo": "text",
         "marker": {
          "color": "rgb(255,65,54)"
         },
         "mode": "lines",
         "text": [
          "cluster: 41, component: QE_2017_001816_199.98769_294.0",
          "cluster: 41, component: QE_2017_001816_199.98769_294.0",
          "cluster: 41, component: QE_2017_001816_199.98776_304.0",
          "cluster: 41, component: QE_2017_001816_199.98776_304.0"
         ],
         "type": "scatter",
         "uid": "9ca7910b-3b12-4f7a-8e29-95f23ba02912",
         "x": [
          1865,
          1865,
          1875,
          1875
         ],
         "xaxis": "x",
         "y": [
          0,
          0.20588235294117646,
          0.20588235294117646,
          0
         ],
         "yaxis": "y"
        },
        {
         "hoverinfo": "text",
         "marker": {
          "color": "rgb(255,65,54)"
         },
         "mode": "lines",
         "text": [
          "cluster: 41, component: QE_2017_001814_199.98778_290.0",
          "cluster: 41, component: QE_2017_001814_199.98778_290.0",
          "cluster: 41, component: QE_2017_001815_199.98779_30.0",
          "cluster: 41, component: QE_2017_001815_199.98779_30.0"
         ],
         "type": "scatter",
         "uid": "6970903c-d606-464e-a94d-9f727c7dbd1d",
         "x": [
          1885,
          1885,
          1895,
          1895
         ],
         "xaxis": "x",
         "y": [
          0,
          0.17647058823529413,
          0.17647058823529413,
          0
         ],
         "yaxis": "y"
        },
        {
         "hoverinfo": "text",
         "marker": {
          "color": "rgb(255,65,54)"
         },
         "mode": "lines",
         "text": [
          "cluster: 41, component: QE_2017_001815_199.98772_326.0",
          "cluster: 41, component: QE_2017_001815_199.98772_326.0",
          "cluster: 41, component: QE_2017_001816_199.98781_313.0",
          "cluster: 41, component: QE_2017_001816_199.98781_313.0"
         ],
         "type": "scatter",
         "uid": "73a5a4de-dcda-4399-868d-60b7e8cc6284",
         "x": [
          1905,
          1905,
          1915,
          1915
         ],
         "xaxis": "x",
         "y": [
          0,
          0.1,
          0.1,
          0
         ],
         "yaxis": "y"
        },
        {
         "hoverinfo": "text",
         "marker": {
          "color": "rgb(255,65,54)"
         },
         "mode": "lines",
         "text": [
          "cluster: 41, component: QE_2017_001816_199.98776_254.0",
          "cluster: 41, component: QE_2017_001816_199.98776_254.0",
          "cluster: 41, component: QE_2017_001816_199.98779_335.0",
          "cluster: 41, component: QE_2017_001816_199.98779_335.0"
         ],
         "type": "scatter",
         "uid": "47655968-4db7-4d3d-a70c-a5f1560a0d8b",
         "x": [
          1935,
          1935,
          1945,
          1945
         ],
         "xaxis": "x",
         "y": [
          0,
          0.14285714285714285,
          0.14285714285714285,
          0
         ],
         "yaxis": "y"
        },
        {
         "hoverinfo": "text",
         "marker": {
          "color": "rgb(255,65,54)"
         },
         "mode": "lines",
         "text": [
          "cluster: 41, component: QE_2017_001816_199.98772_359.0",
          "cluster: 41, component: QE_2017_001816_199.98772_359.0",
          null,
          null
         ],
         "type": "scatter",
         "uid": "988ece37-df7f-4850-a321-5f38c325a026",
         "x": [
          1925,
          1925,
          1940,
          1940
         ],
         "xaxis": "x",
         "y": [
          0,
          0.18518518518518517,
          0.18518518518518517,
          0.14285714285714285
         ],
         "yaxis": "y"
        },
        {
         "hoverinfo": "text",
         "marker": {
          "color": "rgb(255,65,54)"
         },
         "mode": "lines",
         "text": [
          null,
          null,
          null,
          null
         ],
         "type": "scatter",
         "uid": "8be8545f-34b1-4472-8289-25e592fe2f4a",
         "x": [
          1910,
          1910,
          1932.5,
          1932.5
         ],
         "xaxis": "x",
         "y": [
          0.1,
          0.2222222222222222,
          0.2222222222222222,
          0.18518518518518517
         ],
         "yaxis": "y"
        },
        {
         "hoverinfo": "text",
         "marker": {
          "color": "rgb(255,65,54)"
         },
         "mode": "lines",
         "text": [
          null,
          null,
          null,
          null
         ],
         "type": "scatter",
         "uid": "4fc31c09-f677-4186-8044-59f81659ce81",
         "x": [
          1890,
          1890,
          1921.25,
          1921.25
         ],
         "xaxis": "x",
         "y": [
          0.17647058823529413,
          0.2692307692307692,
          0.2692307692307692,
          0.2222222222222222
         ],
         "yaxis": "y"
        },
        {
         "hoverinfo": "text",
         "marker": {
          "color": "rgb(255,65,54)"
         },
         "mode": "lines",
         "text": [
          null,
          null,
          null,
          null
         ],
         "type": "scatter",
         "uid": "73bb0171-dcbc-422b-a756-9f9697da4d87",
         "x": [
          1870,
          1870,
          1905.625,
          1905.625
         ],
         "xaxis": "x",
         "y": [
          0.20588235294117646,
          0.3103448275862069,
          0.3103448275862069,
          0.2692307692307692
         ],
         "yaxis": "y"
        },
        {
         "hoverinfo": "text",
         "marker": {
          "color": "rgb(255,65,54)"
         },
         "mode": "lines",
         "text": [
          null,
          null,
          null,
          null
         ],
         "type": "scatter",
         "uid": "100bc174-8198-4d46-bac4-600e40b9e763",
         "x": [
          1842.5,
          1842.5,
          1887.8125,
          1887.8125
         ],
         "xaxis": "x",
         "y": [
          0.24324324324324326,
          0.696969696969697,
          0.696969696969697,
          0.3103448275862069
         ],
         "yaxis": "y"
        },
        {
         "hoverinfo": "text",
         "marker": {
          "color": "rgb(35,205,205)"
         },
         "mode": "lines",
         "text": [
          "cluster: 42, component: QE_2017_001815_463.12268_358.0",
          "cluster: 42, component: QE_2017_001815_463.12268_358.0",
          "cluster: 42, component: QE_2017_001815_625.17633_345.0",
          "cluster: 42, component: QE_2017_001815_625.17633_345.0"
         ],
         "type": "scatter",
         "uid": "b8919661-459a-4d17-bfd3-a332990ef2e0",
         "x": [
          1975,
          1975,
          1985,
          1985
         ],
         "xaxis": "x",
         "y": [
          0,
          0.5121951219512195,
          0.5121951219512195,
          0
         ],
         "yaxis": "y"
        },
        {
         "hoverinfo": "text",
         "marker": {
          "color": "rgb(0,116,217)"
         },
         "mode": "lines",
         "text": [
          "cluster: 43, component: QE_2017_001815_595.16559_315.0",
          "cluster: 43, component: QE_2017_001815_595.16559_315.0",
          null,
          null
         ],
         "type": "scatter",
         "uid": "fea3a998-fbc4-41d9-8be3-f358c20a9798",
         "x": [
          1965,
          1965,
          1980,
          1980
         ],
         "xaxis": "x",
         "y": [
          0,
          0.8095238095238095,
          0.8095238095238095,
          0.5121951219512195
         ],
         "yaxis": "y"
        },
        {
         "hoverinfo": "text",
         "marker": {
          "color": "rgb(0,116,217)"
         },
         "mode": "lines",
         "text": [
          "cluster: 44, component: QE_2017_001815_141.0508_33.0",
          "cluster: 44, component: QE_2017_001815_141.0508_33.0",
          "cluster: 45, component: QE_2017_001815_265.01532_33.0",
          "cluster: 45, component: QE_2017_001815_265.01532_33.0"
         ],
         "type": "scatter",
         "uid": "67cc2f88-74ca-4d30-b24d-ea9302a7a005",
         "x": [
          1995,
          1995,
          2005,
          2005
         ],
         "xaxis": "x",
         "y": [
          0,
          1,
          1,
          0
         ],
         "yaxis": "y"
        },
        {
         "hoverinfo": "text",
         "marker": {
          "color": "rgb(0,116,217)"
         },
         "mode": "lines",
         "text": [
          null,
          null,
          null,
          null
         ],
         "type": "scatter",
         "uid": "3486d0f3-721b-491b-a460-ae1a58cd564c",
         "x": [
          1972.5,
          1972.5,
          2000,
          2000
         ],
         "xaxis": "x",
         "y": [
          0.8095238095238095,
          1,
          1,
          1
         ],
         "yaxis": "y"
        },
        {
         "hoverinfo": "text",
         "marker": {
          "color": "rgb(0,116,217)"
         },
         "mode": "lines",
         "text": [
          "cluster: 46, component: QE_2017_001815_797.51746_866.0",
          "cluster: 46, component: QE_2017_001815_797.51746_866.0",
          null,
          null
         ],
         "type": "scatter",
         "uid": "0082f047-ad8f-4371-9707-c9caf928051a",
         "x": [
          1955,
          1955,
          1986.25,
          1986.25
         ],
         "xaxis": "x",
         "y": [
          0,
          1,
          1,
          1
         ],
         "yaxis": "y"
        },
        {
         "hoverinfo": "text",
         "marker": {
          "color": "rgb(0,116,217)"
         },
         "mode": "lines",
         "text": [
          null,
          null,
          null,
          null
         ],
         "type": "scatter",
         "uid": "c9aef6f8-37e9-4d91-a81f-28ea00368963",
         "x": [
          1865.15625,
          1865.15625,
          1970.625,
          1970.625
         ],
         "xaxis": "x",
         "y": [
          0.696969696969697,
          1,
          1,
          1
         ],
         "yaxis": "y"
        },
        {
         "hoverinfo": "text",
         "marker": {
          "color": "rgb(0,116,217)"
         },
         "mode": "lines",
         "text": [
          null,
          null,
          null,
          null
         ],
         "type": "scatter",
         "uid": "360a731d-bf72-4730-abb8-5996b6306e89",
         "x": [
          1810,
          1810,
          1917.890625,
          1917.890625
         ],
         "xaxis": "x",
         "y": [
          0.855072463768116,
          1,
          1,
          1
         ],
         "yaxis": "y"
        },
        {
         "hoverinfo": "text",
         "marker": {
          "color": "rgb(0,116,217)"
         },
         "mode": "lines",
         "text": [
          null,
          null,
          null,
          null
         ],
         "type": "scatter",
         "uid": "0f86a6f0-8681-48d7-9351-deec1db28854",
         "x": [
          1772.5,
          1772.5,
          1863.9453125,
          1863.9453125
         ],
         "xaxis": "x",
         "y": [
          0.7777777777777778,
          1,
          1,
          1
         ],
         "yaxis": "y"
        },
        {
         "hoverinfo": "text",
         "marker": {
          "color": "rgb(0,116,217)"
         },
         "mode": "lines",
         "text": [
          null,
          null,
          null,
          null
         ],
         "type": "scatter",
         "uid": "7a68b823-9171-498e-8227-8c709513ae5f",
         "x": [
          1740,
          1740,
          1818.22265625,
          1818.22265625
         ],
         "xaxis": "x",
         "y": [
          0.9534883720930233,
          1,
          1,
          1
         ],
         "yaxis": "y"
        },
        {
         "hoverinfo": "text",
         "marker": {
          "color": "rgb(0,116,217)"
         },
         "mode": "lines",
         "text": [
          null,
          null,
          null,
          null
         ],
         "type": "scatter",
         "uid": "c8c17d1d-2ac0-4192-ab66-f5d65d6e8ff2",
         "x": [
          1647.65625,
          1647.65625,
          1779.111328125,
          1779.111328125
         ],
         "xaxis": "x",
         "y": [
          0.9696969696969697,
          1,
          1,
          1
         ],
         "yaxis": "y"
        },
        {
         "hoverinfo": "text",
         "marker": {
          "color": "rgb(0,116,217)"
         },
         "mode": "lines",
         "text": [
          null,
          null,
          null,
          null
         ],
         "type": "scatter",
         "uid": "4efbedea-ae7f-487d-b17f-6f6bcceaa963",
         "x": [
          1563.4375,
          1563.4375,
          1713.3837890625,
          1713.3837890625
         ],
         "xaxis": "x",
         "y": [
          0.9111111111111111,
          1,
          1,
          1
         ],
         "yaxis": "y"
        },
        {
         "hoverinfo": "text",
         "marker": {
          "color": "rgb(0,116,217)"
         },
         "mode": "lines",
         "text": [
          null,
          null,
          null,
          null
         ],
         "type": "scatter",
         "uid": "2ed6a34d-eec5-4b01-b076-0280551b98b6",
         "x": [
          1467.8125,
          1467.8125,
          1638.41064453125,
          1638.41064453125
         ],
         "xaxis": "x",
         "y": [
          0.978494623655914,
          1,
          1,
          1
         ],
         "yaxis": "y"
        },
        {
         "hoverinfo": "text",
         "marker": {
          "color": "rgb(0,116,217)"
         },
         "mode": "lines",
         "text": [
          null,
          null,
          null,
          null
         ],
         "type": "scatter",
         "uid": "f263f14c-8a9d-4118-a77b-3166c2dcea13",
         "x": [
          1410,
          1410,
          1553.111572265625,
          1553.111572265625
         ],
         "xaxis": "x",
         "y": [
          0.6,
          1,
          1,
          1
         ],
         "yaxis": "y"
        },
        {
         "hoverinfo": "text",
         "marker": {
          "color": "rgb(0,116,217)"
         },
         "mode": "lines",
         "text": [
          null,
          null,
          null,
          null
         ],
         "type": "scatter",
         "uid": "59dadcf2-ac1e-4099-b2f3-476126a3480b",
         "x": [
          1336.71875,
          1336.71875,
          1481.5557861328125,
          1481.5557861328125
         ],
         "xaxis": "x",
         "y": [
          0.9555555555555556,
          1,
          1,
          1
         ],
         "yaxis": "y"
        },
        {
         "hoverinfo": "text",
         "marker": {
          "color": "rgb(0,116,217)"
         },
         "mode": "lines",
         "text": [
          null,
          null,
          null,
          null
         ],
         "type": "scatter",
         "uid": "22a14fe5-eaf9-496c-9e26-9abff40dd64b",
         "x": [
          1270,
          1270,
          1409.1372680664062,
          1409.1372680664062
         ],
         "xaxis": "x",
         "y": [
          0.7333333333333333,
          1,
          1,
          1
         ],
         "yaxis": "y"
        },
        {
         "hoverinfo": "text",
         "marker": {
          "color": "rgb(0,116,217)"
         },
         "mode": "lines",
         "text": [
          null,
          null,
          null,
          null
         ],
         "type": "scatter",
         "uid": "142174a8-3608-49e1-82fe-7e2474579925",
         "x": [
          1020.869140625,
          1020.869140625,
          1339.5686340332031,
          1339.5686340332031
         ],
         "xaxis": "x",
         "y": [
          0.9767441860465116,
          1,
          1,
          1
         ],
         "yaxis": "y"
        },
        {
         "hoverinfo": "text",
         "marker": {
          "color": "rgb(0,116,217)"
         },
         "mode": "lines",
         "text": [
          null,
          null,
          null,
          null
         ],
         "type": "scatter",
         "uid": "c65d7ae0-b68d-4066-ade0-1982e19d6c07",
         "x": [
          734.912109375,
          734.912109375,
          1180.2188873291016,
          1180.2188873291016
         ],
         "xaxis": "x",
         "y": [
          0.9411764705882353,
          1,
          1,
          1
         ],
         "yaxis": "y"
        },
        {
         "hoverinfo": "text",
         "marker": {
          "color": "rgb(0,116,217)"
         },
         "mode": "lines",
         "text": [
          null,
          null,
          null,
          null
         ],
         "type": "scatter",
         "uid": "e2f76cb9-dbb7-469a-8c4b-9cf25325f723",
         "x": [
          619.6875,
          619.6875,
          957.5654983520508,
          957.5654983520508
         ],
         "xaxis": "x",
         "y": [
          0.9636363636363636,
          1,
          1,
          1
         ],
         "yaxis": "y"
        },
        {
         "hoverinfo": "text",
         "marker": {
          "color": "rgb(0,116,217)"
         },
         "mode": "lines",
         "text": [
          null,
          null,
          null,
          null
         ],
         "type": "scatter",
         "uid": "e6ac6b28-d0b2-4a40-8bea-1896ac167c70",
         "x": [
          521.875,
          521.875,
          788.6264991760254,
          788.6264991760254
         ],
         "xaxis": "x",
         "y": [
          0.971830985915493,
          1,
          1,
          1
         ],
         "yaxis": "y"
        },
        {
         "hoverinfo": "text",
         "marker": {
          "color": "rgb(0,116,217)"
         },
         "mode": "lines",
         "text": [
          null,
          null,
          null,
          null
         ],
         "type": "scatter",
         "uid": "ccb09164-34b2-4b06-afae-e61085b2e529",
         "x": [
          221.85302734375,
          221.85302734375,
          655.2507495880127,
          655.2507495880127
         ],
         "xaxis": "x",
         "y": [
          0.927710843373494,
          1,
          1,
          1
         ],
         "yaxis": "y"
        }
       ],
       "layout": {
        "autosize": false,
        "height": 800,
        "hovermode": "closest",
        "margin": {
         "b": 372
        },
        "showlegend": false,
        "title": {
         "text": "Component clusters. method = braycurtis, cutoff = 0.8, threshold = 0.0008"
        },
        "width": 900,
        "xaxis": {
         "mirror": "allticks",
         "rangemode": "tozero",
         "showgrid": false,
         "showline": true,
         "showticklabels": true,
         "tickmode": "array",
         "ticks": "outside",
         "ticktext": [
          "QE_2017_001816_613.4826_738.0",
          "QE_2017_001816_613.48218_838.0",
          "QE_2017_001816_792.56232_718.0",
          "QE_2017_001814_596.30963_602.0",
          "QE_2017_001815_792.5625_866.0",
          "QE_2017_001815_571.4292_870.0",
          "QE_2017_001814_497.31033_643.0",
          "QE_2017_001815_507.27145_607.0",
          "QE_2017_001816_571.47186_717.0",
          "QE_2017_001814_335.25772_725.0",
          "QE_2017_001814_335.25784_608.0",
          "QE_2017_001816_335.25772_723.0",
          "QE_2017_001814_335.25784_628.0",
          "QE_2017_001815_335.25745_642.0",
          "QE_2017_001814_261.22073_634.0",
          "QE_2017_001815_335.25784_587.0",
          "QE_2017_001814_353.26889_609.0",
          "QE_2017_001815_353.26862_642.0",
          "QE_2017_001815_261.22073_643.0",
          "QE_2017_001814_335.25772_638.0",
          "QE_2017_001815_335.2579_601.0",
          "QE_2017_001816_272.25824_582.0",
          "QE_2017_001814_338.34146_850.0",
          "QE_2017_001815_244.19048_762.0",
          "QE_2017_001814_353.26868_633.0",
          "QE_2017_001816_353.26892_600.0",
          "QE_2017_001814_279.23157_719.0",
          "QE_2017_001815_278.24762_684.0",
          "QE_2017_001816_435.25037_666.0",
          "QE_2017_001816_337.27338_826.0",
          "QE_2017_001816_337.27341_632.0",
          "QE_2017_001814_618.42633_695.0",
          "QE_2017_001816_583.41382_731.0",
          "QE_2017_001816_599.40948_660.0",
          "QE_2017_001814_601.42426_706.0",
          "QE_2017_001816_599.40869_793.0",
          "QE_2017_001815_618.42773_646.0",
          "QE_2017_001816_618.427_682.0",
          "QE_2017_001815_568.42627_841.0",
          "QE_2017_001814_565.4035_722.0",
          "QE_2017_001814_583.41406_682.0",
          "QE_2017_001815_583.41406_707.0",
          "QE_2017_001814_601.42334_783.0",
          "QE_2017_001815_583.41388_735.0",
          "QE_2017_001815_583.41418_647.0",
          "QE_2017_001814_194.04424_237.0",
          "QE_2017_001815_194.11751_218.0",
          "QE_2017_001815_194.04469_299.0",
          "QE_2017_001815_194.04471_314.0",
          "QE_2017_001815_212.05513_328.0",
          "QE_2017_001815_212.05505_267.0",
          "QE_2017_001814_226.07077_397.0",
          "QE_2017_001815_194.04471_397.0",
          "QE_2017_001816_533.15442_247.0",
          "QE_2017_001816_533.15466_222.0",
          "QE_2017_001815_533.1546_207.0",
          "QE_2017_001816_533.1546_271.0",
          "QE_2017_001814_347.09097_122.0",
          "QE_2017_001815_347.09067_204.0",
          "QE_2017_001815_268.10373_58.0",
          "QE_2017_001816_269.16055_60.0",
          "QE_2017_001815_364.34189_705.0",
          "QE_2017_001816_408.36832_704.0",
          "QE_2017_001816_466.40979_731.0",
          "QE_2017_001815_408.36853_717.0",
          "QE_2017_001815_482.40488_739.0",
          "QE_2017_001814_364.34244_761.0",
          "QE_2017_001815_364.34253_752.0",
          "QE_2017_001816_421.35226_731.0",
          "QE_2017_001816_424.36325_712.0",
          "QE_2017_001816_463.12311_410.0",
          "QE_2017_001814_611.15997_285.0",
          "QE_2017_001815_611.16046_309.0",
          "QE_2017_001814_339.10742_366.0",
          "QE_2017_001816_339.10733_298.0",
          "QE_2017_001814_498.2543_475.0",
          "QE_2017_001815_340.16019_314.0",
          "QE_2017_001815_231.04973_403.0",
          "QE_2017_001815_231.04968_315.0",
          "QE_2017_001814_231.04971_516.0",
          "QE_2017_001815_231.04971_369.0",
          "QE_2017_001815_314.14453_76.0",
          "QE_2017_001816_314.14462_79.0",
          "QE_2017_001816_310.14957_134.0",
          "QE_2017_001816_342.17584_257.0",
          "QE_2017_001814_241.15466_73.0",
          "QE_2017_001815_507.18192_178.0",
          "QE_2017_001814_483.27118_651.0",
          "QE_2017_001816_338.26062_643.0",
          "QE_2017_001814_320.29456_577.0",
          "QE_2017_001815_320.29471_563.0",
          "QE_2017_001815_129.12741_349.0",
          "QE_2017_001815_171.14914_420.0",
          "QE_2017_001815_201.16367_442.0",
          "QE_2017_001816_201.16362_435.0",
          "QE_2017_001815_209.15352_479.0",
          "QE_2017_001815_209.15349_295.0",
          "QE_2017_001815_209.1535_312.0",
          "QE_2017_001816_209.15344_311.0",
          "QE_2017_001814_243.15892_533.0",
          "QE_2017_001814_281.1745_492.0",
          "QE_2017_001814_293.2106_579.0",
          "QE_2017_001815_227.16408_344.0",
          "QE_2017_001815_283.19009_564.0",
          "QE_2017_001815_207.13785_297.0",
          "QE_2017_001814_227.1275_293.0",
          "QE_2017_001816_227.12766_295.0",
          "QE_2017_001815_181.1221_767.0",
          "QE_2017_001816_181.12199_794.0",
          "QE_2017_001816_211.16916_405.0",
          "QE_2017_001815_209.0807_405.0",
          "QE_2017_001814_211.16902_440.0",
          "QE_2017_001815_211.16913_450.0",
          "QE_2017_001815_215.164_550.0",
          "QE_2017_001816_215.16411_482.0",
          "QE_2017_001816_137.09584_445.0",
          "QE_2017_001814_219.17416_517.0",
          "QE_2017_001815_219.17421_516.0",
          "QE_2017_001816_219.17438_502.0",
          "QE_2017_001814_219.17401_452.0",
          "QE_2017_001814_219.17409_442.0",
          "QE_2017_001814_191.14291_389.0",
          "QE_2017_001815_191.14287_312.0",
          "QE_2017_001816_191.14291_404.0",
          "QE_2017_001814_209.08058_363.0",
          "QE_2017_001816_207.13779_561.0",
          "QE_2017_001815_333.15173_245.0",
          "QE_2017_001816_333.15204_235.0",
          "QE_2017_001814_194.1174_244.0",
          "QE_2017_001816_194.11746_133.0",
          "QE_2017_001816_320.29483_548.0",
          "QE_2017_001814_320.29468_638.0",
          "QE_2017_001814_320.29477_539.0",
          "QE_2017_001814_320.29471_529.0",
          "QE_2017_001815_320.29486_538.0",
          "QE_2017_001814_241.15384_47.0",
          "QE_2017_001814_241.15446_57.0",
          "QE_2017_001814_332.25827_467.0",
          "QE_2017_001815_332.25827_508.0",
          "QE_2017_001816_332.25842_487.0",
          "QE_2017_001814_319.13638_117.0",
          "QE_2017_001816_319.13614_143.0",
          "QE_2017_001814_251.09117_393.0",
          "QE_2017_001815_219.10159_438.0",
          "QE_2017_001815_219.10139_360.0",
          "QE_2017_001816_219.10153_382.0",
          "QE_2017_001814_291.1442_241.0",
          "QE_2017_001816_291.14493_243.0",
          "QE_2017_001816_291.14499_200.0",
          "QE_2017_001815_273.13425_199.0",
          "QE_2017_001815_273.13434_243.0",
          "QE_2017_001815_251.13873_202.0",
          "QE_2017_001815_235.14398_226.0",
          "QE_2017_001816_235.14397_183.0",
          "QE_2017_001815_214.51021_60.0",
          "QE_2017_001816_268.59351_445.0",
          "QE_2017_001814_250.10149_516.0",
          "QE_2017_001815_222.07033_315.0",
          "QE_2017_001814_247.05975_245.0",
          "QE_2017_001815_247.0598_242.0",
          "QE_2017_001816_219.04672_291.0",
          "QE_2017_001815_212.03883_181.0",
          "QE_2017_001815_214.56488_409.0",
          "QE_2017_001815_260.16016_64.0",
          "QE_2017_001816_132.04436_283.0",
          "QE_2017_001815_246.14465_137.0",
          "QE_2017_001815_247.12865_158.0",
          "QE_2017_001814_260.16037_143.0",
          "QE_2017_001816_260.16022_145.0",
          "QE_2017_001814_233.14957_152.0",
          "QE_2017_001814_233.14948_126.0",
          "QE_2017_001816_233.14955_129.0",
          "QE_2017_001815_221.12837_99.0",
          "QE_2017_001816_237.12325_171.0",
          "QE_2017_001814_237.12305_220.0",
          "QE_2017_001816_237.12323_53.0",
          "QE_2017_001816_229.15469_52.0",
          "QE_2017_001814_229.15399_46.0",
          "QE_2017_001816_229.15451_66.0",
          "QE_2017_001814_182.08116_51.0",
          "QE_2017_001816_182.08116_55.0",
          "QE_2017_001815_194.04474_330.0",
          "QE_2017_001816_212.05518_300.0",
          "QE_2017_001816_177.05449_217.0",
          "QE_2017_001814_177.05418_236.0",
          "QE_2017_001815_177.05444_307.0",
          "QE_2017_001816_199.98769_294.0",
          "QE_2017_001816_199.98776_304.0",
          "QE_2017_001814_199.98778_290.0",
          "QE_2017_001815_199.98779_30.0",
          "QE_2017_001815_199.98772_326.0",
          "QE_2017_001816_199.98781_313.0",
          "QE_2017_001816_199.98772_359.0",
          "QE_2017_001816_199.98776_254.0",
          "QE_2017_001816_199.98779_335.0",
          "QE_2017_001815_797.51746_866.0",
          "QE_2017_001815_595.16559_315.0",
          "QE_2017_001815_463.12268_358.0",
          "QE_2017_001815_625.17633_345.0",
          "QE_2017_001815_141.0508_33.0",
          "QE_2017_001815_265.01532_33.0"
         ],
         "tickvals": [
          5,
          15,
          25,
          35,
          45,
          55,
          65,
          75,
          85,
          95,
          105,
          115,
          125,
          135,
          145,
          155,
          165,
          175,
          185,
          195,
          205,
          215,
          225,
          235,
          245,
          255,
          265,
          275,
          285,
          295,
          305,
          315,
          325,
          335,
          345,
          355,
          365,
          375,
          385,
          395,
          405,
          415,
          425,
          435,
          445,
          455,
          465,
          475,
          485,
          495,
          505,
          515,
          525,
          535,
          545,
          555,
          565,
          575,
          585,
          595,
          605,
          615,
          625,
          635,
          645,
          655,
          665,
          675,
          685,
          695,
          705,
          715,
          725,
          735,
          745,
          755,
          765,
          775,
          785,
          795,
          805,
          815,
          825,
          835,
          845,
          855,
          865,
          875,
          885,
          895,
          905,
          915,
          925,
          935,
          945,
          955,
          965,
          975,
          985,
          995,
          1005,
          1015,
          1025,
          1035,
          1045,
          1055,
          1065,
          1075,
          1085,
          1095,
          1105,
          1115,
          1125,
          1135,
          1145,
          1155,
          1165,
          1175,
          1185,
          1195,
          1205,
          1215,
          1225,
          1235,
          1245,
          1255,
          1265,
          1275,
          1285,
          1295,
          1305,
          1315,
          1325,
          1335,
          1345,
          1355,
          1365,
          1375,
          1385,
          1395,
          1405,
          1415,
          1425,
          1435,
          1445,
          1455,
          1465,
          1475,
          1485,
          1495,
          1505,
          1515,
          1525,
          1535,
          1545,
          1555,
          1565,
          1575,
          1585,
          1595,
          1605,
          1615,
          1625,
          1635,
          1645,
          1655,
          1665,
          1675,
          1685,
          1695,
          1705,
          1715,
          1725,
          1735,
          1745,
          1755,
          1765,
          1775,
          1785,
          1795,
          1805,
          1815,
          1825,
          1835,
          1845,
          1855,
          1865,
          1875,
          1885,
          1895,
          1905,
          1915,
          1925,
          1935,
          1945,
          1955,
          1965,
          1975,
          1985,
          1995,
          2005
         ],
         "title": {
          "text": "Components"
         },
         "type": "linear",
         "zeroline": false
        },
        "yaxis": {
         "mirror": "allticks",
         "rangemode": "tozero",
         "showgrid": false,
         "showline": true,
         "showticklabels": true,
         "ticks": "outside",
         "title": {
          "text": "Distance"
         },
         "type": "linear",
         "zeroline": false
        }
       }
      },
      "text/html": [
       "<div>\n",
       "        \n",
       "        \n",
       "            <div id=\"a24d765d-166e-4847-b3a9-be5331ccd82f\" class=\"plotly-graph-div\"></div>\n",
       "            <script type=\"text/javascript\">\n",
       "                require([\"plotly\"], function(Plotly) {\n",
       "                    window.PLOTLYENV=window.PLOTLYENV || {};\n",
       "                    window.PLOTLYENV.BASE_URL='https://plot.ly';\n",
       "                    \n",
       "                if (document.getElementById(\"a24d765d-166e-4847-b3a9-be5331ccd82f\")) {\n",
       "                    Plotly.newPlot(\n",
       "                        'a24d765d-166e-4847-b3a9-be5331ccd82f',\n",
       "                        [{\"hoverinfo\": \"text\", \"marker\": {\"color\": \"rgb(61,153,112)\"}, \"mode\": \"lines\", \"text\": [\"cluster: 1, component: QE_2017_001816_613.48218_838.0\", \"cluster: 1, component: QE_2017_001816_613.48218_838.0\", \"cluster: 1, component: QE_2017_001816_792.56232_718.0\", \"cluster: 1, component: QE_2017_001816_792.56232_718.0\"], \"type\": \"scatter\", \"uid\": \"e04707f1-3f18-4676-9efc-d8f46e7ef473\", \"x\": [15.0, 15.0, 25.0, 25.0], \"xaxis\": \"x\", \"y\": [0.0, 0.3949579831932773, 0.3949579831932773, 0.0], \"yaxis\": \"y\"}, {\"hoverinfo\": \"text\", \"marker\": {\"color\": \"rgb(61,153,112)\"}, \"mode\": \"lines\", \"text\": [\"cluster: 1, component: QE_2017_001816_613.4826_738.0\", \"cluster: 1, component: QE_2017_001816_613.4826_738.0\", null, null], \"type\": \"scatter\", \"uid\": \"6558c380-4225-41a3-b0be-4b1a547a2e5a\", \"x\": [5.0, 5.0, 20.0, 20.0], \"xaxis\": \"x\", \"y\": [0.0, 0.5116279069767442, 0.5116279069767442, 0.3949579831932773], \"yaxis\": \"y\"}, {\"hoverinfo\": \"text\", \"marker\": {\"color\": \"rgb(61,153,112)\"}, \"mode\": \"lines\", \"text\": [\"cluster: 1, component: QE_2017_001814_596.30963_602.0\", \"cluster: 1, component: QE_2017_001814_596.30963_602.0\", \"cluster: 1, component: QE_2017_001815_792.5625_866.0\", \"cluster: 1, component: QE_2017_001815_792.5625_866.0\"], \"type\": \"scatter\", \"uid\": \"aad9ad25-6ecb-415e-8548-eb45d107054a\", \"x\": [35.0, 35.0, 45.0, 45.0], \"xaxis\": \"x\", \"y\": [0.0, 0.5555555555555556, 0.5555555555555556, 0.0], \"yaxis\": \"y\"}, {\"hoverinfo\": \"text\", \"marker\": {\"color\": \"rgb(61,153,112)\"}, \"mode\": \"lines\", \"text\": [null, null, null, null], \"type\": \"scatter\", \"uid\": \"014b7330-9c00-4833-a25a-2fa3e9e979e1\", \"x\": [12.5, 12.5, 40.0, 40.0], \"xaxis\": \"x\", \"y\": [0.5116279069767442, 0.6344086021505376, 0.6344086021505376, 0.5555555555555556], \"yaxis\": \"y\"}, {\"hoverinfo\": \"text\", \"marker\": {\"color\": \"rgb(255,65,54)\"}, \"mode\": \"lines\", \"text\": [\"cluster: 2, component: QE_2017_001814_335.25784_608.0\", \"cluster: 2, component: QE_2017_001814_335.25784_608.0\", \"cluster: 2, component: QE_2017_001816_335.25772_723.0\", \"cluster: 2, component: QE_2017_001816_335.25772_723.0\"], \"type\": \"scatter\", \"uid\": \"0f40f4fd-cc8e-49aa-aab9-c2385b7a62aa\", \"x\": [105.0, 105.0, 115.0, 115.0], \"xaxis\": \"x\", \"y\": [0.0, 0.14942528735632185, 0.14942528735632185, 0.0], \"yaxis\": \"y\"}, {\"hoverinfo\": \"text\", \"marker\": {\"color\": \"rgb(255,65,54)\"}, \"mode\": \"lines\", \"text\": [\"cluster: 2, component: QE_2017_001814_335.25772_725.0\", \"cluster: 2, component: QE_2017_001814_335.25772_725.0\", null, null], \"type\": \"scatter\", \"uid\": \"27209082-865f-4da1-a5c3-c424e84c542a\", \"x\": [95.0, 95.0, 110.0, 110.0], \"xaxis\": \"x\", \"y\": [0.0, 0.16483516483516483, 0.16483516483516483, 0.14942528735632185], \"yaxis\": \"y\"}, {\"hoverinfo\": \"text\", \"marker\": {\"color\": \"rgb(255,65,54)\"}, \"mode\": \"lines\", \"text\": [\"cluster: 2, component: QE_2017_001814_335.25784_628.0\", \"cluster: 2, component: QE_2017_001814_335.25784_628.0\", \"cluster: 2, component: QE_2017_001815_335.25745_642.0\", \"cluster: 2, component: QE_2017_001815_335.25745_642.0\"], \"type\": \"scatter\", \"uid\": \"6519bffe-2987-4e20-803c-7772a7486043\", \"x\": [125.0, 125.0, 135.0, 135.0], \"xaxis\": \"x\", \"y\": [0.0, 0.16666666666666666, 0.16666666666666666, 0.0], \"yaxis\": \"y\"}, {\"hoverinfo\": \"text\", \"marker\": {\"color\": \"rgb(255,65,54)\"}, \"mode\": \"lines\", \"text\": [null, null, null, null], \"type\": \"scatter\", \"uid\": \"6d21c5ff-06f6-4526-a7f6-1be5959f1399\", \"x\": [102.5, 102.5, 130.0, 130.0], \"xaxis\": \"x\", \"y\": [0.16483516483516483, 0.20408163265306123, 0.20408163265306123, 0.16666666666666666], \"yaxis\": \"y\"}, {\"hoverinfo\": \"text\", \"marker\": {\"color\": \"rgb(255,65,54)\"}, \"mode\": \"lines\", \"text\": [\"cluster: 2, component: QE_2017_001814_261.22073_634.0\", \"cluster: 2, component: QE_2017_001814_261.22073_634.0\", \"cluster: 2, component: QE_2017_001815_335.25784_587.0\", \"cluster: 2, component: QE_2017_001815_335.25784_587.0\"], \"type\": \"scatter\", \"uid\": \"b1f6b835-1306-4b9c-9730-831c5e5119f6\", \"x\": [145.0, 145.0, 155.0, 155.0], \"xaxis\": \"x\", \"y\": [0.0, 0.23076923076923078, 0.23076923076923078, 0.0], \"yaxis\": \"y\"}, {\"hoverinfo\": \"text\", \"marker\": {\"color\": \"rgb(255,65,54)\"}, \"mode\": \"lines\", \"text\": [null, null, null, null], \"type\": \"scatter\", \"uid\": \"dbce6abf-82bd-440d-bfd2-5adaa5fc9c1f\", \"x\": [116.25, 116.25, 150.0, 150.0], \"xaxis\": \"x\", \"y\": [0.20408163265306123, 0.25925925925925924, 0.25925925925925924, 0.23076923076923078], \"yaxis\": \"y\"}, {\"hoverinfo\": \"text\", \"marker\": {\"color\": \"rgb(255,65,54)\"}, \"mode\": \"lines\", \"text\": [\"cluster: 2, component: QE_2017_001814_353.26889_609.0\", \"cluster: 2, component: QE_2017_001814_353.26889_609.0\", \"cluster: 2, component: QE_2017_001815_353.26862_642.0\", \"cluster: 2, component: QE_2017_001815_353.26862_642.0\"], \"type\": \"scatter\", \"uid\": \"05abae0a-a83a-4dea-aa56-e79abdf8bdeb\", \"x\": [165.0, 165.0, 175.0, 175.0], \"xaxis\": \"x\", \"y\": [0.0, 0.1588785046728972, 0.1588785046728972, 0.0], \"yaxis\": \"y\"}, {\"hoverinfo\": \"text\", \"marker\": {\"color\": \"rgb(255,65,54)\"}, \"mode\": \"lines\", \"text\": [\"cluster: 2, component: QE_2017_001814_335.25772_638.0\", \"cluster: 2, component: QE_2017_001814_335.25772_638.0\", \"cluster: 2, component: QE_2017_001815_335.2579_601.0\", \"cluster: 2, component: QE_2017_001815_335.2579_601.0\"], \"type\": \"scatter\", \"uid\": \"132bcb70-b5d0-49e9-b3e1-ef123c45f0cb\", \"x\": [195.0, 195.0, 205.0, 205.0], \"xaxis\": \"x\", \"y\": [0.0, 0.1724137931034483, 0.1724137931034483, 0.0], \"yaxis\": \"y\"}, {\"hoverinfo\": \"text\", \"marker\": {\"color\": \"rgb(255,65,54)\"}, \"mode\": \"lines\", \"text\": [\"cluster: 2, component: QE_2017_001815_261.22073_643.0\", \"cluster: 2, component: QE_2017_001815_261.22073_643.0\", null, null], \"type\": \"scatter\", \"uid\": \"c6d4111f-b1c3-4f39-9efc-115c3019ae41\", \"x\": [185.0, 185.0, 200.0, 200.0], \"xaxis\": \"x\", \"y\": [0.0, 0.23809523809523808, 0.23809523809523808, 0.1724137931034483], \"yaxis\": \"y\"}, {\"hoverinfo\": \"text\", \"marker\": {\"color\": \"rgb(255,65,54)\"}, \"mode\": \"lines\", \"text\": [null, null, null, null], \"type\": \"scatter\", \"uid\": \"cbbd4956-1a4f-4556-8aa1-c22a243fecb2\", \"x\": [170.0, 170.0, 192.5, 192.5], \"xaxis\": \"x\", \"y\": [0.1588785046728972, 0.2765957446808511, 0.2765957446808511, 0.23809523809523808], \"yaxis\": \"y\"}, {\"hoverinfo\": \"text\", \"marker\": {\"color\": \"rgb(255,65,54)\"}, \"mode\": \"lines\", \"text\": [null, null, null, null], \"type\": \"scatter\", \"uid\": \"60aa22fd-64da-4523-8ae1-74e4d6ba78b3\", \"x\": [133.125, 133.125, 181.25, 181.25], \"xaxis\": \"x\", \"y\": [0.25925925925925924, 0.3, 0.3, 0.2765957446808511], \"yaxis\": \"y\"}, {\"hoverinfo\": \"text\", \"marker\": {\"color\": \"rgb(255,65,54)\"}, \"mode\": \"lines\", \"text\": [\"cluster: 2, component: QE_2017_001816_571.47186_717.0\", \"cluster: 2, component: QE_2017_001816_571.47186_717.0\", null, null], \"type\": \"scatter\", \"uid\": \"f85f341b-3d8b-4a50-96f6-3fef6f68a91c\", \"x\": [85.0, 85.0, 157.1875, 157.1875], \"xaxis\": \"x\", \"y\": [0.0, 0.3829787234042553, 0.3829787234042553, 0.3], \"yaxis\": \"y\"}, {\"hoverinfo\": \"text\", \"marker\": {\"color\": \"rgb(255,65,54)\"}, \"mode\": \"lines\", \"text\": [\"cluster: 2, component: QE_2017_001815_507.27145_607.0\", \"cluster: 2, component: QE_2017_001815_507.27145_607.0\", null, null], \"type\": \"scatter\", \"uid\": \"2717bdf1-63b9-4b78-8ba5-1ebe12dacca8\", \"x\": [75.0, 75.0, 121.09375, 121.09375], \"xaxis\": \"x\", \"y\": [0.0, 0.40229885057471265, 0.40229885057471265, 0.3829787234042553], \"yaxis\": \"y\"}, {\"hoverinfo\": \"text\", \"marker\": {\"color\": \"rgb(255,65,54)\"}, \"mode\": \"lines\", \"text\": [\"cluster: 2, component: QE_2017_001814_497.31033_643.0\", \"cluster: 2, component: QE_2017_001814_497.31033_643.0\", null, null], \"type\": \"scatter\", \"uid\": \"785866f9-76fd-4dbb-a85f-f833cb8a8f76\", \"x\": [65.0, 65.0, 98.046875, 98.046875], \"xaxis\": \"x\", \"y\": [0.0, 0.5368421052631579, 0.5368421052631579, 0.40229885057471265], \"yaxis\": \"y\"}, {\"hoverinfo\": \"text\", \"marker\": {\"color\": \"rgb(255,65,54)\"}, \"mode\": \"lines\", \"text\": [\"cluster: 2, component: QE_2017_001815_571.4292_870.0\", \"cluster: 2, component: QE_2017_001815_571.4292_870.0\", null, null], \"type\": \"scatter\", \"uid\": \"7219cb63-4af0-41f7-be9e-f6d523ba4a07\", \"x\": [55.0, 55.0, 81.5234375, 81.5234375], \"xaxis\": \"x\", \"y\": [0.0, 0.6615384615384615, 0.6615384615384615, 0.5368421052631579], \"yaxis\": \"y\"}, {\"hoverinfo\": \"text\", \"marker\": {\"color\": \"rgb(255,65,54)\"}, \"mode\": \"lines\", \"text\": [\"cluster: 2, component: QE_2017_001814_338.34146_850.0\", \"cluster: 2, component: QE_2017_001814_338.34146_850.0\", \"cluster: 2, component: QE_2017_001815_244.19048_762.0\", \"cluster: 2, component: QE_2017_001815_244.19048_762.0\"], \"type\": \"scatter\", \"uid\": \"b7313768-6fa1-4c88-8b12-c146088c8c7f\", \"x\": [225.0, 225.0, 235.0, 235.0], \"xaxis\": \"x\", \"y\": [0.0, 0.4318181818181818, 0.4318181818181818, 0.0], \"yaxis\": \"y\"}, {\"hoverinfo\": \"text\", \"marker\": {\"color\": \"rgb(255,65,54)\"}, \"mode\": \"lines\", \"text\": [\"cluster: 2, component: QE_2017_001814_353.26868_633.0\", \"cluster: 2, component: QE_2017_001814_353.26868_633.0\", \"cluster: 2, component: QE_2017_001816_353.26892_600.0\", \"cluster: 2, component: QE_2017_001816_353.26892_600.0\"], \"type\": \"scatter\", \"uid\": \"9d52cec0-0b3f-4744-8c76-122ca41de85b\", \"x\": [245.0, 245.0, 255.0, 255.0], \"xaxis\": \"x\", \"y\": [0.0, 0.1348314606741573, 0.1348314606741573, 0.0], \"yaxis\": \"y\"}, {\"hoverinfo\": \"text\", \"marker\": {\"color\": \"rgb(255,65,54)\"}, \"mode\": \"lines\", \"text\": [\"cluster: 2, component: QE_2017_001814_279.23157_719.0\", \"cluster: 2, component: QE_2017_001814_279.23157_719.0\", \"cluster: 2, component: QE_2017_001815_278.24762_684.0\", \"cluster: 2, component: QE_2017_001815_278.24762_684.0\"], \"type\": \"scatter\", \"uid\": \"35992feb-1d09-4ec8-8aa1-d16cc26682a6\", \"x\": [265.0, 265.0, 275.0, 275.0], \"xaxis\": \"x\", \"y\": [0.0, 0.2755905511811024, 0.2755905511811024, 0.0], \"yaxis\": \"y\"}, {\"hoverinfo\": \"text\", \"marker\": {\"color\": \"rgb(255,65,54)\"}, \"mode\": \"lines\", \"text\": [null, null, null, null], \"type\": \"scatter\", \"uid\": \"5ace4e25-b33f-44b1-af1a-98c4cfb5af69\", \"x\": [250.0, 250.0, 270.0, 270.0], \"xaxis\": \"x\", \"y\": [0.1348314606741573, 0.35403726708074534, 0.35403726708074534, 0.2755905511811024], \"yaxis\": \"y\"}, {\"hoverinfo\": \"text\", \"marker\": {\"color\": \"rgb(255,65,54)\"}, \"mode\": \"lines\", \"text\": [\"cluster: 2, component: QE_2017_001816_337.27338_826.0\", \"cluster: 2, component: QE_2017_001816_337.27338_826.0\", \"cluster: 2, component: QE_2017_001816_337.27341_632.0\", \"cluster: 2, component: QE_2017_001816_337.27341_632.0\"], \"type\": \"scatter\", \"uid\": \"e9d3aa5e-561f-4bd8-8573-8ae000deeedd\", \"x\": [295.0, 295.0, 305.0, 305.0], \"xaxis\": \"x\", \"y\": [0.0, 0.22935779816513763, 0.22935779816513763, 0.0], \"yaxis\": \"y\"}, {\"hoverinfo\": \"text\", \"marker\": {\"color\": \"rgb(255,65,54)\"}, \"mode\": \"lines\", \"text\": [\"cluster: 2, component: QE_2017_001816_435.25037_666.0\", \"cluster: 2, component: QE_2017_001816_435.25037_666.0\", null, null], \"type\": \"scatter\", \"uid\": \"16dab24e-7c2d-4296-8e4a-5c5cc958c2bb\", \"x\": [285.0, 285.0, 300.0, 300.0], \"xaxis\": \"x\", \"y\": [0.0, 0.37142857142857144, 0.37142857142857144, 0.22935779816513763], \"yaxis\": \"y\"}, {\"hoverinfo\": \"text\", \"marker\": {\"color\": \"rgb(255,65,54)\"}, \"mode\": \"lines\", \"text\": [null, null, null, null], \"type\": \"scatter\", \"uid\": \"a0eb460f-61f4-4f41-bdce-4a650f72571e\", \"x\": [260.0, 260.0, 292.5, 292.5], \"xaxis\": \"x\", \"y\": [0.35403726708074534, 0.5238095238095238, 0.5238095238095238, 0.37142857142857144], \"yaxis\": \"y\"}, {\"hoverinfo\": \"text\", \"marker\": {\"color\": \"rgb(255,65,54)\"}, \"mode\": \"lines\", \"text\": [null, null, null, null], \"type\": \"scatter\", \"uid\": \"10db7526-f410-423a-b208-d8bc60de44fa\", \"x\": [230.0, 230.0, 276.25, 276.25], \"xaxis\": \"x\", \"y\": [0.4318181818181818, 0.6116504854368932, 0.6116504854368932, 0.5238095238095238], \"yaxis\": \"y\"}, {\"hoverinfo\": \"text\", \"marker\": {\"color\": \"rgb(255,65,54)\"}, \"mode\": \"lines\", \"text\": [\"cluster: 2, component: QE_2017_001816_272.25824_582.0\", \"cluster: 2, component: QE_2017_001816_272.25824_582.0\", null, null], \"type\": \"scatter\", \"uid\": \"c3a3aa72-5cd3-47c2-863d-c67b72311a28\", \"x\": [215.0, 215.0, 253.125, 253.125], \"xaxis\": \"x\", \"y\": [0.0, 0.7011494252873564, 0.7011494252873564, 0.6116504854368932], \"yaxis\": \"y\"}, {\"hoverinfo\": \"text\", \"marker\": {\"color\": \"rgb(255,65,54)\"}, \"mode\": \"lines\", \"text\": [null, null, null, null], \"type\": \"scatter\", \"uid\": \"73fc06af-f1ca-4f69-b5bb-40a693e7882f\", \"x\": [68.26171875, 68.26171875, 234.0625, 234.0625], \"xaxis\": \"x\", \"y\": [0.6615384615384615, 0.7699115044247787, 0.7699115044247787, 0.7011494252873564], \"yaxis\": \"y\"}, {\"hoverinfo\": \"text\", \"marker\": {\"color\": \"rgb(0,116,217)\"}, \"mode\": \"lines\", \"text\": [null, null, null, null], \"type\": \"scatter\", \"uid\": \"5b05f304-ff1e-423f-991f-f0a9308ed448\", \"x\": [26.25, 26.25, 151.162109375, 151.162109375], \"xaxis\": \"x\", \"y\": [0.6344086021505376, 0.84, 0.84, 0.7699115044247787], \"yaxis\": \"y\"}, {\"hoverinfo\": \"text\", \"marker\": {\"color\": \"rgb(35,205,205)\"}, \"mode\": \"lines\", \"text\": [\"cluster: 3, component: QE_2017_001814_601.42426_706.0\", \"cluster: 3, component: QE_2017_001814_601.42426_706.0\", \"cluster: 3, component: QE_2017_001816_599.40869_793.0\", \"cluster: 3, component: QE_2017_001816_599.40869_793.0\"], \"type\": \"scatter\", \"uid\": \"0832b7ab-b8b8-4d8a-8689-364e00060647\", \"x\": [345.0, 345.0, 355.0, 355.0], \"xaxis\": \"x\", \"y\": [0.0, 0.45985401459854014, 0.45985401459854014, 0.0], \"yaxis\": \"y\"}, {\"hoverinfo\": \"text\", \"marker\": {\"color\": \"rgb(35,205,205)\"}, \"mode\": \"lines\", \"text\": [\"cluster: 3, component: QE_2017_001816_599.40948_660.0\", \"cluster: 3, component: QE_2017_001816_599.40948_660.0\", null, null], \"type\": \"scatter\", \"uid\": \"2cd16c3d-f127-4bfd-aa5f-c9c7a4501d2c\", \"x\": [335.0, 335.0, 350.0, 350.0], \"xaxis\": \"x\", \"y\": [0.0, 0.504950495049505, 0.504950495049505, 0.45985401459854014], \"yaxis\": \"y\"}, {\"hoverinfo\": \"text\", \"marker\": {\"color\": \"rgb(35,205,205)\"}, \"mode\": \"lines\", \"text\": [\"cluster: 3, component: QE_2017_001816_583.41382_731.0\", \"cluster: 3, component: QE_2017_001816_583.41382_731.0\", null, null], \"type\": \"scatter\", \"uid\": \"10b862d8-9148-4e23-b25c-74191e46f0f6\", \"x\": [325.0, 325.0, 342.5, 342.5], \"xaxis\": \"x\", \"y\": [0.0, 0.6101694915254238, 0.6101694915254238, 0.504950495049505], \"yaxis\": \"y\"}, {\"hoverinfo\": \"text\", \"marker\": {\"color\": \"rgb(35,205,205)\"}, \"mode\": \"lines\", \"text\": [\"cluster: 3, component: QE_2017_001814_618.42633_695.0\", \"cluster: 3, component: QE_2017_001814_618.42633_695.0\", null, null], \"type\": \"scatter\", \"uid\": \"35dd4f88-bd22-44cb-b9a0-5fc118bd5cae\", \"x\": [315.0, 315.0, 333.75, 333.75], \"xaxis\": \"x\", \"y\": [0.0, 0.6666666666666666, 0.6666666666666666, 0.6101694915254238], \"yaxis\": \"y\"}, {\"hoverinfo\": \"text\", \"marker\": {\"color\": \"rgb(133,20,75)\"}, \"mode\": \"lines\", \"text\": [\"cluster: 4, component: QE_2017_001815_618.42773_646.0\", \"cluster: 4, component: QE_2017_001815_618.42773_646.0\", \"cluster: 4, component: QE_2017_001816_618.427_682.0\", \"cluster: 4, component: QE_2017_001816_618.427_682.0\"], \"type\": \"scatter\", \"uid\": \"154d27d9-5f29-454d-a494-6bae18b5c64b\", \"x\": [365.0, 365.0, 375.0, 375.0], \"xaxis\": \"x\", \"y\": [0.0, 0.30997304582210244, 0.30997304582210244, 0.0], \"yaxis\": \"y\"}, {\"hoverinfo\": \"text\", \"marker\": {\"color\": \"rgb(133,20,75)\"}, \"mode\": \"lines\", \"text\": [\"cluster: 4, component: QE_2017_001814_583.41406_682.0\", \"cluster: 4, component: QE_2017_001814_583.41406_682.0\", \"cluster: 4, component: QE_2017_001815_583.41406_707.0\", \"cluster: 4, component: QE_2017_001815_583.41406_707.0\"], \"type\": \"scatter\", \"uid\": \"37de30e7-99a2-49b3-8166-e293d7b6be41\", \"x\": [405.0, 405.0, 415.0, 415.0], \"xaxis\": \"x\", \"y\": [0.0, 0.35877862595419846, 0.35877862595419846, 0.0], \"yaxis\": \"y\"}, {\"hoverinfo\": \"text\", \"marker\": {\"color\": \"rgb(133,20,75)\"}, \"mode\": \"lines\", \"text\": [\"cluster: 4, component: QE_2017_001814_565.4035_722.0\", \"cluster: 4, component: QE_2017_001814_565.4035_722.0\", null, null], \"type\": \"scatter\", \"uid\": \"471c9401-8695-489c-a938-3efdefd55fb8\", \"x\": [395.0, 395.0, 410.0, 410.0], \"xaxis\": \"x\", \"y\": [0.0, 0.4336283185840708, 0.4336283185840708, 0.35877862595419846], \"yaxis\": \"y\"}, {\"hoverinfo\": \"text\", \"marker\": {\"color\": \"rgb(133,20,75)\"}, \"mode\": \"lines\", \"text\": [\"cluster: 4, component: QE_2017_001815_583.41388_735.0\", \"cluster: 4, component: QE_2017_001815_583.41388_735.0\", \"cluster: 4, component: QE_2017_001815_583.41418_647.0\", \"cluster: 4, component: QE_2017_001815_583.41418_647.0\"], \"type\": \"scatter\", \"uid\": \"2432d844-c861-4610-b7a9-b04982545d0e\", \"x\": [435.0, 435.0, 445.0, 445.0], \"xaxis\": \"x\", \"y\": [0.0, 0.3592233009708738, 0.3592233009708738, 0.0], \"yaxis\": \"y\"}, {\"hoverinfo\": \"text\", \"marker\": {\"color\": \"rgb(133,20,75)\"}, \"mode\": \"lines\", \"text\": [\"cluster: 4, component: QE_2017_001814_601.42334_783.0\", \"cluster: 4, component: QE_2017_001814_601.42334_783.0\", null, null], \"type\": \"scatter\", \"uid\": \"d8978792-1612-4fe3-93bc-9e70ca92a32b\", \"x\": [425.0, 425.0, 440.0, 440.0], \"xaxis\": \"x\", \"y\": [0.0, 0.5344827586206896, 0.5344827586206896, 0.3592233009708738], \"yaxis\": \"y\"}, {\"hoverinfo\": \"text\", \"marker\": {\"color\": \"rgb(133,20,75)\"}, \"mode\": \"lines\", \"text\": [null, null, null, null], \"type\": \"scatter\", \"uid\": \"abadbb04-7d86-477e-bb77-cb3edd3b83d7\", \"x\": [402.5, 402.5, 432.5, 432.5], \"xaxis\": \"x\", \"y\": [0.4336283185840708, 0.5802469135802469, 0.5802469135802469, 0.5344827586206896], \"yaxis\": \"y\"}, {\"hoverinfo\": \"text\", \"marker\": {\"color\": \"rgb(133,20,75)\"}, \"mode\": \"lines\", \"text\": [\"cluster: 4, component: QE_2017_001815_568.42627_841.0\", \"cluster: 4, component: QE_2017_001815_568.42627_841.0\", null, null], \"type\": \"scatter\", \"uid\": \"84127564-95ca-41c0-9a94-f6c90ee0d6e2\", \"x\": [385.0, 385.0, 417.5, 417.5], \"xaxis\": \"x\", \"y\": [0.0, 0.618421052631579, 0.618421052631579, 0.5802469135802469], \"yaxis\": \"y\"}, {\"hoverinfo\": \"text\", \"marker\": {\"color\": \"rgb(133,20,75)\"}, \"mode\": \"lines\", \"text\": [null, null, null, null], \"type\": \"scatter\", \"uid\": \"da49621e-ec03-454f-829c-3566f103cd7d\", \"x\": [370.0, 370.0, 401.25, 401.25], \"xaxis\": \"x\", \"y\": [0.30997304582210244, 0.6956521739130435, 0.6956521739130435, 0.618421052631579], \"yaxis\": \"y\"}, {\"hoverinfo\": \"text\", \"marker\": {\"color\": \"rgb(0,116,217)\"}, \"mode\": \"lines\", \"text\": [null, null, null, null], \"type\": \"scatter\", \"uid\": \"6e35c41c-091f-44bd-9d9d-2463ee7f00dd\", \"x\": [324.375, 324.375, 385.625, 385.625], \"xaxis\": \"x\", \"y\": [0.6666666666666666, 0.8867924528301887, 0.8867924528301887, 0.6956521739130435], \"yaxis\": \"y\"}, {\"hoverinfo\": \"text\", \"marker\": {\"color\": \"rgb(0,116,217)\"}, \"mode\": \"lines\", \"text\": [null, null, null, null], \"type\": \"scatter\", \"uid\": \"1996c47e-1c19-4555-9aab-a0f8464936c9\", \"x\": [88.7060546875, 88.7060546875, 355.0, 355.0], \"xaxis\": \"x\", \"y\": [0.84, 0.927710843373494, 0.927710843373494, 0.8867924528301887], \"yaxis\": \"y\"}, {\"hoverinfo\": \"text\", \"marker\": {\"color\": \"rgb(255,220,0)\"}, \"mode\": \"lines\", \"text\": [\"cluster: 5, component: QE_2017_001814_194.04424_237.0\", \"cluster: 5, component: QE_2017_001814_194.04424_237.0\", \"cluster: 5, component: QE_2017_001815_194.11751_218.0\", \"cluster: 5, component: QE_2017_001815_194.11751_218.0\"], \"type\": \"scatter\", \"uid\": \"71606a38-f143-446e-882e-7dda588985f6\", \"x\": [455.0, 455.0, 465.0, 465.0], \"xaxis\": \"x\", \"y\": [0.0, 0.45, 0.45, 0.0], \"yaxis\": \"y\"}, {\"hoverinfo\": \"text\", \"marker\": {\"color\": \"rgb(255,220,0)\"}, \"mode\": \"lines\", \"text\": [\"cluster: 5, component: QE_2017_001815_194.04471_314.0\", \"cluster: 5, component: QE_2017_001815_194.04471_314.0\", \"cluster: 5, component: QE_2017_001815_212.05513_328.0\", \"cluster: 5, component: QE_2017_001815_212.05513_328.0\"], \"type\": \"scatter\", \"uid\": \"f6fbe8c4-7166-446e-8cb6-1893e461e195\", \"x\": [485.0, 485.0, 495.0, 495.0], \"xaxis\": \"x\", \"y\": [0.0, 0.21311475409836064, 0.21311475409836064, 0.0], \"yaxis\": \"y\"}, {\"hoverinfo\": \"text\", \"marker\": {\"color\": \"rgb(255,220,0)\"}, \"mode\": \"lines\", \"text\": [\"cluster: 5, component: QE_2017_001815_194.04469_299.0\", \"cluster: 5, component: QE_2017_001815_194.04469_299.0\", null, null], \"type\": \"scatter\", \"uid\": \"f0b13481-9f02-4cf5-b0a8-5df6c3a12a53\", \"x\": [475.0, 475.0, 490.0, 490.0], \"xaxis\": \"x\", \"y\": [0.0, 0.38636363636363635, 0.38636363636363635, 0.21311475409836064], \"yaxis\": \"y\"}, {\"hoverinfo\": \"text\", \"marker\": {\"color\": \"rgb(255,220,0)\"}, \"mode\": \"lines\", \"text\": [\"cluster: 5, component: QE_2017_001814_226.07077_397.0\", \"cluster: 5, component: QE_2017_001814_226.07077_397.0\", \"cluster: 5, component: QE_2017_001815_194.04471_397.0\", \"cluster: 5, component: QE_2017_001815_194.04471_397.0\"], \"type\": \"scatter\", \"uid\": \"6b8ab40c-181c-421f-9a77-59528b765db3\", \"x\": [515.0, 515.0, 525.0, 525.0], \"xaxis\": \"x\", \"y\": [0.0, 0.4583333333333333, 0.4583333333333333, 0.0], \"yaxis\": \"y\"}, {\"hoverinfo\": \"text\", \"marker\": {\"color\": \"rgb(255,220,0)\"}, \"mode\": \"lines\", \"text\": [\"cluster: 5, component: QE_2017_001815_212.05505_267.0\", \"cluster: 5, component: QE_2017_001815_212.05505_267.0\", null, null], \"type\": \"scatter\", \"uid\": \"2888255c-b2a6-45c4-81f7-dfff4123554e\", \"x\": [505.0, 505.0, 520.0, 520.0], \"xaxis\": \"x\", \"y\": [0.0, 0.5384615384615384, 0.5384615384615384, 0.4583333333333333], \"yaxis\": \"y\"}, {\"hoverinfo\": \"text\", \"marker\": {\"color\": \"rgb(255,220,0)\"}, \"mode\": \"lines\", \"text\": [null, null, null, null], \"type\": \"scatter\", \"uid\": \"5b5b3051-51f3-4d31-808d-5170466c2f9f\", \"x\": [482.5, 482.5, 512.5, 512.5], \"xaxis\": \"x\", \"y\": [0.38636363636363635, 0.7183098591549296, 0.7183098591549296, 0.5384615384615384], \"yaxis\": \"y\"}, {\"hoverinfo\": \"text\", \"marker\": {\"color\": \"rgb(255,220,0)\"}, \"mode\": \"lines\", \"text\": [null, null, null, null], \"type\": \"scatter\", \"uid\": \"a41963dc-501e-4a70-b6ca-6edc687cc0de\", \"x\": [460.0, 460.0, 497.5, 497.5], \"xaxis\": \"x\", \"y\": [0.45, 0.7464788732394366, 0.7464788732394366, 0.7183098591549296], \"yaxis\": \"y\"}, {\"hoverinfo\": \"text\", \"marker\": {\"color\": \"rgb(40,35,35)\"}, \"mode\": \"lines\", \"text\": [\"cluster: 6, component: QE_2017_001816_533.15442_247.0\", \"cluster: 6, component: QE_2017_001816_533.15442_247.0\", \"cluster: 6, component: QE_2017_001816_533.15466_222.0\", \"cluster: 6, component: QE_2017_001816_533.15466_222.0\"], \"type\": \"scatter\", \"uid\": \"4d343c97-7d97-42e3-ac82-6692e860a54d\", \"x\": [535.0, 535.0, 545.0, 545.0], \"xaxis\": \"x\", \"y\": [0.0, 0.22522522522522523, 0.22522522522522523, 0.0], \"yaxis\": \"y\"}, {\"hoverinfo\": \"text\", \"marker\": {\"color\": \"rgb(40,35,35)\"}, \"mode\": \"lines\", \"text\": [\"cluster: 6, component: QE_2017_001815_533.1546_207.0\", \"cluster: 6, component: QE_2017_001815_533.1546_207.0\", \"cluster: 6, component: QE_2017_001816_533.1546_271.0\", \"cluster: 6, component: QE_2017_001816_533.1546_271.0\"], \"type\": \"scatter\", \"uid\": \"6b5210d3-469e-4859-a67f-45847d29a811\", \"x\": [555.0, 555.0, 565.0, 565.0], \"xaxis\": \"x\", \"y\": [0.0, 0.29411764705882354, 0.29411764705882354, 0.0], \"yaxis\": \"y\"}, {\"hoverinfo\": \"text\", \"marker\": {\"color\": \"rgb(40,35,35)\"}, \"mode\": \"lines\", \"text\": [null, null, null, null], \"type\": \"scatter\", \"uid\": \"3c187a42-1e91-4c21-831f-3f1c89d53c32\", \"x\": [540.0, 540.0, 560.0, 560.0], \"xaxis\": \"x\", \"y\": [0.22522522522522523, 0.3333333333333333, 0.3333333333333333, 0.29411764705882354], \"yaxis\": \"y\"}, {\"hoverinfo\": \"text\", \"marker\": {\"color\": \"rgb(40,35,35)\"}, \"mode\": \"lines\", \"text\": [\"cluster: 6, component: QE_2017_001814_347.09097_122.0\", \"cluster: 6, component: QE_2017_001814_347.09097_122.0\", \"cluster: 6, component: QE_2017_001815_347.09067_204.0\", \"cluster: 6, component: QE_2017_001815_347.09067_204.0\"], \"type\": \"scatter\", \"uid\": \"f7b58571-e099-4285-a135-e4480967e727\", \"x\": [575.0, 575.0, 585.0, 585.0], \"xaxis\": \"x\", \"y\": [0.0, 0.34210526315789475, 0.34210526315789475, 0.0], \"yaxis\": \"y\"}, {\"hoverinfo\": \"text\", \"marker\": {\"color\": \"rgb(40,35,35)\"}, \"mode\": \"lines\", \"text\": [null, null, null, null], \"type\": \"scatter\", \"uid\": \"295eaa6d-44ba-45b0-b632-910d64b65cac\", \"x\": [550.0, 550.0, 580.0, 580.0], \"xaxis\": \"x\", \"y\": [0.3333333333333333, 0.7864077669902912, 0.7864077669902912, 0.34210526315789475], \"yaxis\": \"y\"}, {\"hoverinfo\": \"text\", \"marker\": {\"color\": \"rgb(0,116,217)\"}, \"mode\": \"lines\", \"text\": [null, null, null, null], \"type\": \"scatter\", \"uid\": \"55faf26c-d591-4acc-ba99-892aea5cb253\", \"x\": [478.75, 478.75, 565.0, 565.0], \"xaxis\": \"x\", \"y\": [0.7464788732394366, 0.971830985915493, 0.971830985915493, 0.7864077669902912], \"yaxis\": \"y\"}, {\"hoverinfo\": \"text\", \"marker\": {\"color\": \"rgb(61,153,112)\"}, \"mode\": \"lines\", \"text\": [\"cluster: 7, component: QE_2017_001815_268.10373_58.0\", \"cluster: 7, component: QE_2017_001815_268.10373_58.0\", \"cluster: 7, component: QE_2017_001816_269.16055_60.0\", \"cluster: 7, component: QE_2017_001816_269.16055_60.0\"], \"type\": \"scatter\", \"uid\": \"93cef3d7-fc52-4fa0-8bd0-c379502a1c88\", \"x\": [595.0, 595.0, 605.0, 605.0], \"xaxis\": \"x\", \"y\": [0.0, 0.2692307692307692, 0.2692307692307692, 0.0], \"yaxis\": \"y\"}, {\"hoverinfo\": \"text\", \"marker\": {\"color\": \"rgb(255,65,54)\"}, \"mode\": \"lines\", \"text\": [\"cluster: 8, component: QE_2017_001816_408.36832_704.0\", \"cluster: 8, component: QE_2017_001816_408.36832_704.0\", \"cluster: 8, component: QE_2017_001816_466.40979_731.0\", \"cluster: 8, component: QE_2017_001816_466.40979_731.0\"], \"type\": \"scatter\", \"uid\": \"426baccf-5da9-4154-af50-531b296fbf86\", \"x\": [625.0, 625.0, 635.0, 635.0], \"xaxis\": \"x\", \"y\": [0.0, 0.4166666666666667, 0.4166666666666667, 0.0], \"yaxis\": \"y\"}, {\"hoverinfo\": \"text\", \"marker\": {\"color\": \"rgb(255,65,54)\"}, \"mode\": \"lines\", \"text\": [\"cluster: 8, component: QE_2017_001815_364.34189_705.0\", \"cluster: 8, component: QE_2017_001815_364.34189_705.0\", null, null], \"type\": \"scatter\", \"uid\": \"68784238-fe87-48e9-a6c5-3898dcec8540\", \"x\": [615.0, 615.0, 630.0, 630.0], \"xaxis\": \"x\", \"y\": [0.0, 0.5238095238095238, 0.5238095238095238, 0.4166666666666667], \"yaxis\": \"y\"}, {\"hoverinfo\": \"text\", \"marker\": {\"color\": \"rgb(255,65,54)\"}, \"mode\": \"lines\", \"text\": [\"cluster: 8, component: QE_2017_001814_364.34244_761.0\", \"cluster: 8, component: QE_2017_001814_364.34244_761.0\", \"cluster: 8, component: QE_2017_001815_364.34253_752.0\", \"cluster: 8, component: QE_2017_001815_364.34253_752.0\"], \"type\": \"scatter\", \"uid\": \"09ac3ac6-5f04-4db1-a3dc-4f2bb1288dbf\", \"x\": [665.0, 665.0, 675.0, 675.0], \"xaxis\": \"x\", \"y\": [0.0, 0.2222222222222222, 0.2222222222222222, 0.0], \"yaxis\": \"y\"}, {\"hoverinfo\": \"text\", \"marker\": {\"color\": \"rgb(255,65,54)\"}, \"mode\": \"lines\", \"text\": [\"cluster: 8, component: QE_2017_001816_421.35226_731.0\", \"cluster: 8, component: QE_2017_001816_421.35226_731.0\", \"cluster: 8, component: QE_2017_001816_424.36325_712.0\", \"cluster: 8, component: QE_2017_001816_424.36325_712.0\"], \"type\": \"scatter\", \"uid\": \"b3f6f255-d1b9-48f6-9b6f-edc5bab3e8a9\", \"x\": [685.0, 685.0, 695.0, 695.0], \"xaxis\": \"x\", \"y\": [0.0, 0.2413793103448276, 0.2413793103448276, 0.0], \"yaxis\": \"y\"}, {\"hoverinfo\": \"text\", \"marker\": {\"color\": \"rgb(255,65,54)\"}, \"mode\": \"lines\", \"text\": [null, null, null, null], \"type\": \"scatter\", \"uid\": \"21a2bfe4-d98a-45d9-90d4-31783593d476\", \"x\": [670.0, 670.0, 690.0, 690.0], \"xaxis\": \"x\", \"y\": [0.2222222222222222, 0.44, 0.44, 0.2413793103448276], \"yaxis\": \"y\"}, {\"hoverinfo\": \"text\", \"marker\": {\"color\": \"rgb(255,65,54)\"}, \"mode\": \"lines\", \"text\": [\"cluster: 8, component: QE_2017_001815_482.40488_739.0\", \"cluster: 8, component: QE_2017_001815_482.40488_739.0\", null, null], \"type\": \"scatter\", \"uid\": \"81c2021d-590a-49b8-afc8-33fb30fa8f4e\", \"x\": [655.0, 655.0, 680.0, 680.0], \"xaxis\": \"x\", \"y\": [0.0, 0.5428571428571428, 0.5428571428571428, 0.44], \"yaxis\": \"y\"}, {\"hoverinfo\": \"text\", \"marker\": {\"color\": \"rgb(255,65,54)\"}, \"mode\": \"lines\", \"text\": [\"cluster: 8, component: QE_2017_001815_408.36853_717.0\", \"cluster: 8, component: QE_2017_001815_408.36853_717.0\", null, null], \"type\": \"scatter\", \"uid\": \"e546d39c-13e6-45ed-a5a7-5a0650486600\", \"x\": [645.0, 645.0, 667.5, 667.5], \"xaxis\": \"x\", \"y\": [0.0, 0.5757575757575758, 0.5757575757575758, 0.5428571428571428], \"yaxis\": \"y\"}, {\"hoverinfo\": \"text\", \"marker\": {\"color\": \"rgb(255,65,54)\"}, \"mode\": \"lines\", \"text\": [null, null, null, null], \"type\": \"scatter\", \"uid\": \"5c71d496-c516-48b4-9ba8-b5f529dd8ae2\", \"x\": [622.5, 622.5, 656.25, 656.25], \"xaxis\": \"x\", \"y\": [0.5238095238095238, 0.7222222222222222, 0.7222222222222222, 0.5757575757575758], \"yaxis\": \"y\"}, {\"hoverinfo\": \"text\", \"marker\": {\"color\": \"rgb(0,116,217)\"}, \"mode\": \"lines\", \"text\": [null, null, null, null], \"type\": \"scatter\", \"uid\": \"86a2b23b-2143-46ec-881b-b119205a0434\", \"x\": [600.0, 600.0, 639.375, 639.375], \"xaxis\": \"x\", \"y\": [0.2692307692307692, 0.9636363636363636, 0.9636363636363636, 0.7222222222222222], \"yaxis\": \"y\"}, {\"hoverinfo\": \"text\", \"marker\": {\"color\": \"rgb(35,205,205)\"}, \"mode\": \"lines\", \"text\": [\"cluster: 9, component: QE_2017_001814_611.15997_285.0\", \"cluster: 9, component: QE_2017_001814_611.15997_285.0\", \"cluster: 9, component: QE_2017_001815_611.16046_309.0\", \"cluster: 9, component: QE_2017_001815_611.16046_309.0\"], \"type\": \"scatter\", \"uid\": \"ea37224a-86d2-4750-b997-cbbed36e98ea\", \"x\": [715.0, 715.0, 725.0, 725.0], \"xaxis\": \"x\", \"y\": [0.0, 0.2972972972972973, 0.2972972972972973, 0.0], \"yaxis\": \"y\"}, {\"hoverinfo\": \"text\", \"marker\": {\"color\": \"rgb(133,20,75)\"}, \"mode\": \"lines\", \"text\": [\"cluster: 10, component: QE_2017_001814_339.10742_366.0\", \"cluster: 10, component: QE_2017_001814_339.10742_366.0\", \"cluster: 10, component: QE_2017_001816_339.10733_298.0\", \"cluster: 10, component: QE_2017_001816_339.10733_298.0\"], \"type\": \"scatter\", \"uid\": \"f5d8d761-0a4a-491f-853f-0780122eb671\", \"x\": [735.0, 735.0, 745.0, 745.0], \"xaxis\": \"x\", \"y\": [0.0, 0.28205128205128205, 0.28205128205128205, 0.0], \"yaxis\": \"y\"}, {\"hoverinfo\": \"text\", \"marker\": {\"color\": \"rgb(133,20,75)\"}, \"mode\": \"lines\", \"text\": [\"cluster: 10, component: QE_2017_001814_231.04971_516.0\", \"cluster: 10, component: QE_2017_001814_231.04971_516.0\", \"cluster: 10, component: QE_2017_001815_231.04971_369.0\", \"cluster: 10, component: QE_2017_001815_231.04971_369.0\"], \"type\": \"scatter\", \"uid\": \"1b575683-6d71-4386-81a8-ce4652597d66\", \"x\": [795.0, 795.0, 805.0, 805.0], \"xaxis\": \"x\", \"y\": [0.0, 0.24324324324324326, 0.24324324324324326, 0.0], \"yaxis\": \"y\"}, {\"hoverinfo\": \"text\", \"marker\": {\"color\": \"rgb(133,20,75)\"}, \"mode\": \"lines\", \"text\": [\"cluster: 10, component: QE_2017_001815_231.04968_315.0\", \"cluster: 10, component: QE_2017_001815_231.04968_315.0\", null, null], \"type\": \"scatter\", \"uid\": \"1b37ab93-fe06-4c56-8381-a93c4df1deb8\", \"x\": [785.0, 785.0, 800.0, 800.0], \"xaxis\": \"x\", \"y\": [0.0, 0.2571428571428571, 0.2571428571428571, 0.24324324324324326], \"yaxis\": \"y\"}, {\"hoverinfo\": \"text\", \"marker\": {\"color\": \"rgb(133,20,75)\"}, \"mode\": \"lines\", \"text\": [\"cluster: 10, component: QE_2017_001815_231.04973_403.0\", \"cluster: 10, component: QE_2017_001815_231.04973_403.0\", null, null], \"type\": \"scatter\", \"uid\": \"cd1702cc-9848-45b8-96d7-2b3ad8d6eaa9\", \"x\": [775.0, 775.0, 792.5, 792.5], \"xaxis\": \"x\", \"y\": [0.0, 0.35135135135135137, 0.35135135135135137, 0.2571428571428571], \"yaxis\": \"y\"}, {\"hoverinfo\": \"text\", \"marker\": {\"color\": \"rgb(133,20,75)\"}, \"mode\": \"lines\", \"text\": [\"cluster: 10, component: QE_2017_001815_340.16019_314.0\", \"cluster: 10, component: QE_2017_001815_340.16019_314.0\", null, null], \"type\": \"scatter\", \"uid\": \"3da87f05-2646-492f-8375-0d0fd039f82b\", \"x\": [765.0, 765.0, 783.75, 783.75], \"xaxis\": \"x\", \"y\": [0.0, 0.5272727272727272, 0.5272727272727272, 0.35135135135135137], \"yaxis\": \"y\"}, {\"hoverinfo\": \"text\", \"marker\": {\"color\": \"rgb(133,20,75)\"}, \"mode\": \"lines\", \"text\": [\"cluster: 10, component: QE_2017_001815_314.14453_76.0\", \"cluster: 10, component: QE_2017_001815_314.14453_76.0\", \"cluster: 10, component: QE_2017_001816_314.14462_79.0\", \"cluster: 10, component: QE_2017_001816_314.14462_79.0\"], \"type\": \"scatter\", \"uid\": \"385fab74-e407-4599-99ea-01381c5c86cf\", \"x\": [815.0, 815.0, 825.0, 825.0], \"xaxis\": \"x\", \"y\": [0.0, 0.2682926829268293, 0.2682926829268293, 0.0], \"yaxis\": \"y\"}, {\"hoverinfo\": \"text\", \"marker\": {\"color\": \"rgb(133,20,75)\"}, \"mode\": \"lines\", \"text\": [\"cluster: 10, component: QE_2017_001816_310.14957_134.0\", \"cluster: 10, component: QE_2017_001816_310.14957_134.0\", \"cluster: 10, component: QE_2017_001816_342.17584_257.0\", \"cluster: 10, component: QE_2017_001816_342.17584_257.0\"], \"type\": \"scatter\", \"uid\": \"cc1c600d-6c70-44f1-929f-d2aa2eac01a9\", \"x\": [835.0, 835.0, 845.0, 845.0], \"xaxis\": \"x\", \"y\": [0.0, 0.5135135135135135, 0.5135135135135135, 0.0], \"yaxis\": \"y\"}, {\"hoverinfo\": \"text\", \"marker\": {\"color\": \"rgb(133,20,75)\"}, \"mode\": \"lines\", \"text\": [null, null, null, null], \"type\": \"scatter\", \"uid\": \"7c6d720d-f78a-46ab-b03f-02f61d6ae3b3\", \"x\": [820.0, 820.0, 840.0, 840.0], \"xaxis\": \"x\", \"y\": [0.2682926829268293, 0.6, 0.6, 0.5135135135135135], \"yaxis\": \"y\"}, {\"hoverinfo\": \"text\", \"marker\": {\"color\": \"rgb(133,20,75)\"}, \"mode\": \"lines\", \"text\": [null, null, null, null], \"type\": \"scatter\", \"uid\": \"bbfb30e4-e8f8-4054-ac42-58cf07402f9e\", \"x\": [774.375, 774.375, 830.0, 830.0], \"xaxis\": \"x\", \"y\": [0.5272727272727272, 0.6666666666666666, 0.6666666666666666, 0.6], \"yaxis\": \"y\"}, {\"hoverinfo\": \"text\", \"marker\": {\"color\": \"rgb(133,20,75)\"}, \"mode\": \"lines\", \"text\": [\"cluster: 10, component: QE_2017_001814_498.2543_475.0\", \"cluster: 10, component: QE_2017_001814_498.2543_475.0\", null, null], \"type\": \"scatter\", \"uid\": \"10452408-58c5-4108-b38b-4de4abda59e5\", \"x\": [755.0, 755.0, 802.1875, 802.1875], \"xaxis\": \"x\", \"y\": [0.0, 0.75, 0.75, 0.6666666666666666], \"yaxis\": \"y\"}, {\"hoverinfo\": \"text\", \"marker\": {\"color\": \"rgb(133,20,75)\"}, \"mode\": \"lines\", \"text\": [null, null, null, null], \"type\": \"scatter\", \"uid\": \"91befb2c-3a7b-4c26-92e5-669bc09644a5\", \"x\": [740.0, 740.0, 778.59375, 778.59375], \"xaxis\": \"x\", \"y\": [0.28205128205128205, 0.7818181818181819, 0.7818181818181819, 0.75], \"yaxis\": \"y\"}, {\"hoverinfo\": \"text\", \"marker\": {\"color\": \"rgb(0,116,217)\"}, \"mode\": \"lines\", \"text\": [\"cluster: 11, component: QE_2017_001814_241.15466_73.0\", \"cluster: 11, component: QE_2017_001814_241.15466_73.0\", \"cluster: 12, component: QE_2017_001815_507.18192_178.0\", \"cluster: 12, component: QE_2017_001815_507.18192_178.0\"], \"type\": \"scatter\", \"uid\": \"b9e5ca11-b376-4c8c-9c4c-6fe41c690a75\", \"x\": [855.0, 855.0, 865.0, 865.0], \"xaxis\": \"x\", \"y\": [0.0, 0.84375, 0.84375, 0.0], \"yaxis\": \"y\"}, {\"hoverinfo\": \"text\", \"marker\": {\"color\": \"rgb(0,116,217)\"}, \"mode\": \"lines\", \"text\": [null, null, null, null], \"type\": \"scatter\", \"uid\": \"f3531b63-dab8-420f-aed9-ae0bb5c510a6\", \"x\": [759.296875, 759.296875, 860.0, 860.0], \"xaxis\": \"x\", \"y\": [0.7818181818181819, 0.8695652173913043, 0.8695652173913043, 0.84375], \"yaxis\": \"y\"}, {\"hoverinfo\": \"text\", \"marker\": {\"color\": \"rgb(0,116,217)\"}, \"mode\": \"lines\", \"text\": [null, null, null, null], \"type\": \"scatter\", \"uid\": \"e1b8ed88-34a6-4f81-8998-71299ff20412\", \"x\": [720.0, 720.0, 809.6484375, 809.6484375], \"xaxis\": \"x\", \"y\": [0.2972972972972973, 0.9272727272727272, 0.9272727272727272, 0.8695652173913043], \"yaxis\": \"y\"}, {\"hoverinfo\": \"text\", \"marker\": {\"color\": \"rgb(0,116,217)\"}, \"mode\": \"lines\", \"text\": [\"cluster: 13, component: QE_2017_001816_463.12311_410.0\", \"cluster: 13, component: QE_2017_001816_463.12311_410.0\", null, null], \"type\": \"scatter\", \"uid\": \"e5dc36f8-d059-438d-a67d-0a1f737335f1\", \"x\": [705.0, 705.0, 764.82421875, 764.82421875], \"xaxis\": \"x\", \"y\": [0.0, 0.9411764705882353, 0.9411764705882353, 0.9272727272727272], \"yaxis\": \"y\"}, {\"hoverinfo\": \"text\", \"marker\": {\"color\": \"rgb(255,220,0)\"}, \"mode\": \"lines\", \"text\": [\"cluster: 14, component: QE_2017_001814_320.29456_577.0\", \"cluster: 14, component: QE_2017_001814_320.29456_577.0\", \"cluster: 14, component: QE_2017_001815_320.29471_563.0\", \"cluster: 14, component: QE_2017_001815_320.29471_563.0\"], \"type\": \"scatter\", \"uid\": \"784687a0-d4ff-4d81-9502-953ef35bf768\", \"x\": [895.0, 895.0, 905.0, 905.0], \"xaxis\": \"x\", \"y\": [0.0, 0.21951219512195122, 0.21951219512195122, 0.0], \"yaxis\": \"y\"}, {\"hoverinfo\": \"text\", \"marker\": {\"color\": \"rgb(255,220,0)\"}, \"mode\": \"lines\", \"text\": [\"cluster: 14, component: QE_2017_001816_338.26062_643.0\", \"cluster: 14, component: QE_2017_001816_338.26062_643.0\", null, null], \"type\": \"scatter\", \"uid\": \"d0665054-71f7-428a-bfd0-f5422900d864\", \"x\": [885.0, 885.0, 900.0, 900.0], \"xaxis\": \"x\", \"y\": [0.0, 0.4444444444444444, 0.4444444444444444, 0.21951219512195122], \"yaxis\": \"y\"}, {\"hoverinfo\": \"text\", \"marker\": {\"color\": \"rgb(255,220,0)\"}, \"mode\": \"lines\", \"text\": [\"cluster: 14, component: QE_2017_001814_483.27118_651.0\", \"cluster: 14, component: QE_2017_001814_483.27118_651.0\", null, null], \"type\": \"scatter\", \"uid\": \"6e27bcc2-3086-4760-aba9-f8c28bac5303\", \"x\": [875.0, 875.0, 892.5, 892.5], \"xaxis\": \"x\", \"y\": [0.0, 0.76, 0.76, 0.4444444444444444], \"yaxis\": \"y\"}, {\"hoverinfo\": \"text\", \"marker\": {\"color\": \"rgb(40,35,35)\"}, \"mode\": \"lines\", \"text\": [\"cluster: 15, component: QE_2017_001815_129.12741_349.0\", \"cluster: 15, component: QE_2017_001815_129.12741_349.0\", \"cluster: 15, component: QE_2017_001815_171.14914_420.0\", \"cluster: 15, component: QE_2017_001815_171.14914_420.0\"], \"type\": \"scatter\", \"uid\": \"67bb6713-06f0-4409-942b-906e084c14a0\", \"x\": [915.0, 915.0, 925.0, 925.0], \"xaxis\": \"x\", \"y\": [0.0, 0.7647058823529411, 0.7647058823529411, 0.0], \"yaxis\": \"y\"}, {\"hoverinfo\": \"text\", \"marker\": {\"color\": \"rgb(0,116,217)\"}, \"mode\": \"lines\", \"text\": [null, null, null, null], \"type\": \"scatter\", \"uid\": \"51631f81-97aa-4d7e-8a79-f554ce036776\", \"x\": [883.75, 883.75, 920.0, 920.0], \"xaxis\": \"x\", \"y\": [0.76, 0.8235294117647058, 0.8235294117647058, 0.7647058823529411], \"yaxis\": \"y\"}, {\"hoverinfo\": \"text\", \"marker\": {\"color\": \"rgb(61,153,112)\"}, \"mode\": \"lines\", \"text\": [\"cluster: 16, component: QE_2017_001815_201.16367_442.0\", \"cluster: 16, component: QE_2017_001815_201.16367_442.0\", \"cluster: 16, component: QE_2017_001816_201.16362_435.0\", \"cluster: 16, component: QE_2017_001816_201.16362_435.0\"], \"type\": \"scatter\", \"uid\": \"987fa4dc-a000-4b25-b34f-e3cac074aa1c\", \"x\": [935.0, 935.0, 945.0, 945.0], \"xaxis\": \"x\", \"y\": [0.0, 0.31868131868131866, 0.31868131868131866, 0.0], \"yaxis\": \"y\"}, {\"hoverinfo\": \"text\", \"marker\": {\"color\": \"rgb(61,153,112)\"}, \"mode\": \"lines\", \"text\": [\"cluster: 16, component: QE_2017_001815_209.1535_312.0\", \"cluster: 16, component: QE_2017_001815_209.1535_312.0\", \"cluster: 16, component: QE_2017_001816_209.15344_311.0\", \"cluster: 16, component: QE_2017_001816_209.15344_311.0\"], \"type\": \"scatter\", \"uid\": \"e213a548-072a-4f77-8875-57c788c5dfa0\", \"x\": [975.0, 975.0, 985.0, 985.0], \"xaxis\": \"x\", \"y\": [0.0, 0.17073170731707318, 0.17073170731707318, 0.0], \"yaxis\": \"y\"}, {\"hoverinfo\": \"text\", \"marker\": {\"color\": \"rgb(61,153,112)\"}, \"mode\": \"lines\", \"text\": [\"cluster: 16, component: QE_2017_001815_209.15349_295.0\", \"cluster: 16, component: QE_2017_001815_209.15349_295.0\", null, null], \"type\": \"scatter\", \"uid\": \"330945c2-c71a-4155-892a-4ccc072cb24d\", \"x\": [965.0, 965.0, 980.0, 980.0], \"xaxis\": \"x\", \"y\": [0.0, 0.23728813559322035, 0.23728813559322035, 0.17073170731707318], \"yaxis\": \"y\"}, {\"hoverinfo\": \"text\", \"marker\": {\"color\": \"rgb(61,153,112)\"}, \"mode\": \"lines\", \"text\": [\"cluster: 16, component: QE_2017_001815_209.15352_479.0\", \"cluster: 16, component: QE_2017_001815_209.15352_479.0\", null, null], \"type\": \"scatter\", \"uid\": \"669d4b58-a8c6-4cbe-b79e-2361207ab753\", \"x\": [955.0, 955.0, 972.5, 972.5], \"xaxis\": \"x\", \"y\": [0.0, 0.288135593220339, 0.288135593220339, 0.23728813559322035], \"yaxis\": \"y\"}, {\"hoverinfo\": \"text\", \"marker\": {\"color\": \"rgb(61,153,112)\"}, \"mode\": \"lines\", \"text\": [\"cluster: 16, component: QE_2017_001814_243.15892_533.0\", \"cluster: 16, component: QE_2017_001814_243.15892_533.0\", \"cluster: 16, component: QE_2017_001814_281.1745_492.0\", \"cluster: 16, component: QE_2017_001814_281.1745_492.0\"], \"type\": \"scatter\", \"uid\": \"ef5a2a57-be67-40d4-98cd-31c466c8fc03\", \"x\": [995.0, 995.0, 1005.0, 1005.0], \"xaxis\": \"x\", \"y\": [0.0, 0.21904761904761905, 0.21904761904761905, 0.0], \"yaxis\": \"y\"}, {\"hoverinfo\": \"text\", \"marker\": {\"color\": \"rgb(61,153,112)\"}, \"mode\": \"lines\", \"text\": [\"cluster: 16, component: QE_2017_001815_227.16408_344.0\", \"cluster: 16, component: QE_2017_001815_227.16408_344.0\", \"cluster: 16, component: QE_2017_001815_283.19009_564.0\", \"cluster: 16, component: QE_2017_001815_283.19009_564.0\"], \"type\": \"scatter\", \"uid\": \"04877542-72ee-412f-84a3-d93ca0cde15c\", \"x\": [1025.0, 1025.0, 1035.0, 1035.0], \"xaxis\": \"x\", \"y\": [0.0, 0.3088235294117647, 0.3088235294117647, 0.0], \"yaxis\": \"y\"}, {\"hoverinfo\": \"text\", \"marker\": {\"color\": \"rgb(61,153,112)\"}, \"mode\": \"lines\", \"text\": [\"cluster: 16, component: QE_2017_001814_293.2106_579.0\", \"cluster: 16, component: QE_2017_001814_293.2106_579.0\", null, null], \"type\": \"scatter\", \"uid\": \"c3f1b1ed-8c39-44b1-b9dd-f8014907bcbb\", \"x\": [1015.0, 1015.0, 1030.0, 1030.0], \"xaxis\": \"x\", \"y\": [0.0, 0.375, 0.375, 0.3088235294117647], \"yaxis\": \"y\"}, {\"hoverinfo\": \"text\", \"marker\": {\"color\": \"rgb(61,153,112)\"}, \"mode\": \"lines\", \"text\": [null, null, null, null], \"type\": \"scatter\", \"uid\": \"6b73a96d-2cea-459a-921c-19ed17b579cd\", \"x\": [1000.0, 1000.0, 1022.5, 1022.5], \"xaxis\": \"x\", \"y\": [0.21904761904761905, 0.42857142857142855, 0.42857142857142855, 0.375], \"yaxis\": \"y\"}, {\"hoverinfo\": \"text\", \"marker\": {\"color\": \"rgb(61,153,112)\"}, \"mode\": \"lines\", \"text\": [null, null, null, null], \"type\": \"scatter\", \"uid\": \"61695574-eca4-4164-9eac-6dc73109b0dd\", \"x\": [963.75, 963.75, 1011.25, 1011.25], \"xaxis\": \"x\", \"y\": [0.288135593220339, 0.48091603053435117, 0.48091603053435117, 0.42857142857142855], \"yaxis\": \"y\"}, {\"hoverinfo\": \"text\", \"marker\": {\"color\": \"rgb(61,153,112)\"}, \"mode\": \"lines\", \"text\": [\"cluster: 16, component: QE_2017_001814_227.1275_293.0\", \"cluster: 16, component: QE_2017_001814_227.1275_293.0\", \"cluster: 16, component: QE_2017_001816_227.12766_295.0\", \"cluster: 16, component: QE_2017_001816_227.12766_295.0\"], \"type\": \"scatter\", \"uid\": \"1fcd0555-3389-44f6-b4af-965bf571fb35\", \"x\": [1055.0, 1055.0, 1065.0, 1065.0], \"xaxis\": \"x\", \"y\": [0.0, 0.20353982300884957, 0.20353982300884957, 0.0], \"yaxis\": \"y\"}, {\"hoverinfo\": \"text\", \"marker\": {\"color\": \"rgb(61,153,112)\"}, \"mode\": \"lines\", \"text\": [\"cluster: 16, component: QE_2017_001815_207.13785_297.0\", \"cluster: 16, component: QE_2017_001815_207.13785_297.0\", null, null], \"type\": \"scatter\", \"uid\": \"5e617208-b1e7-4b7d-8753-d20cf7f641c8\", \"x\": [1045.0, 1045.0, 1060.0, 1060.0], \"xaxis\": \"x\", \"y\": [0.0, 0.504950495049505, 0.504950495049505, 0.20353982300884957], \"yaxis\": \"y\"}, {\"hoverinfo\": \"text\", \"marker\": {\"color\": \"rgb(61,153,112)\"}, \"mode\": \"lines\", \"text\": [null, null, null, null], \"type\": \"scatter\", \"uid\": \"8e1f309f-f78c-404e-8275-35949c5a70be\", \"x\": [987.5, 987.5, 1052.5, 1052.5], \"xaxis\": \"x\", \"y\": [0.48091603053435117, 0.5454545454545454, 0.5454545454545454, 0.504950495049505], \"yaxis\": \"y\"}, {\"hoverinfo\": \"text\", \"marker\": {\"color\": \"rgb(61,153,112)\"}, \"mode\": \"lines\", \"text\": [\"cluster: 16, component: QE_2017_001815_181.1221_767.0\", \"cluster: 16, component: QE_2017_001815_181.1221_767.0\", \"cluster: 16, component: QE_2017_001816_181.12199_794.0\", \"cluster: 16, component: QE_2017_001816_181.12199_794.0\"], \"type\": \"scatter\", \"uid\": \"73ae093b-09e2-4b25-8390-d1f727579258\", \"x\": [1075.0, 1075.0, 1085.0, 1085.0], \"xaxis\": \"x\", \"y\": [0.0, 0.16666666666666666, 0.16666666666666666, 0.0], \"yaxis\": \"y\"}, {\"hoverinfo\": \"text\", \"marker\": {\"color\": \"rgb(61,153,112)\"}, \"mode\": \"lines\", \"text\": [\"cluster: 16, component: QE_2017_001814_211.16902_440.0\", \"cluster: 16, component: QE_2017_001814_211.16902_440.0\", \"cluster: 16, component: QE_2017_001815_211.16913_450.0\", \"cluster: 16, component: QE_2017_001815_211.16913_450.0\"], \"type\": \"scatter\", \"uid\": \"edde9605-e68f-4896-ab17-38e355b3370f\", \"x\": [1115.0, 1115.0, 1125.0, 1125.0], \"xaxis\": \"x\", \"y\": [0.0, 0.10638297872340426, 0.10638297872340426, 0.0], \"yaxis\": \"y\"}, {\"hoverinfo\": \"text\", \"marker\": {\"color\": \"rgb(61,153,112)\"}, \"mode\": \"lines\", \"text\": [\"cluster: 16, component: QE_2017_001815_209.0807_405.0\", \"cluster: 16, component: QE_2017_001815_209.0807_405.0\", null, null], \"type\": \"scatter\", \"uid\": \"7abba628-7c24-4df8-835a-fba36970d3e3\", \"x\": [1105.0, 1105.0, 1120.0, 1120.0], \"xaxis\": \"x\", \"y\": [0.0, 0.11827956989247312, 0.11827956989247312, 0.10638297872340426], \"yaxis\": \"y\"}, {\"hoverinfo\": \"text\", \"marker\": {\"color\": \"rgb(61,153,112)\"}, \"mode\": \"lines\", \"text\": [\"cluster: 16, component: QE_2017_001816_211.16916_405.0\", \"cluster: 16, component: QE_2017_001816_211.16916_405.0\", null, null], \"type\": \"scatter\", \"uid\": \"d7d51e47-d6b5-4dbd-ac21-c8d329170490\", \"x\": [1095.0, 1095.0, 1112.5, 1112.5], \"xaxis\": \"x\", \"y\": [0.0, 0.17647058823529413, 0.17647058823529413, 0.11827956989247312], \"yaxis\": \"y\"}, {\"hoverinfo\": \"text\", \"marker\": {\"color\": \"rgb(61,153,112)\"}, \"mode\": \"lines\", \"text\": [\"cluster: 16, component: QE_2017_001815_215.164_550.0\", \"cluster: 16, component: QE_2017_001815_215.164_550.0\", \"cluster: 16, component: QE_2017_001816_215.16411_482.0\", \"cluster: 16, component: QE_2017_001816_215.16411_482.0\"], \"type\": \"scatter\", \"uid\": \"f8fb8182-8adc-4bbf-9c3d-60115b2596cf\", \"x\": [1135.0, 1135.0, 1145.0, 1145.0], \"xaxis\": \"x\", \"y\": [0.0, 0.3220338983050847, 0.3220338983050847, 0.0], \"yaxis\": \"y\"}, {\"hoverinfo\": \"text\", \"marker\": {\"color\": \"rgb(61,153,112)\"}, \"mode\": \"lines\", \"text\": [null, null, null, null], \"type\": \"scatter\", \"uid\": \"ff33afe5-f082-4c83-83f6-36ba832eb9ae\", \"x\": [1103.75, 1103.75, 1140.0, 1140.0], \"xaxis\": \"x\", \"y\": [0.17647058823529413, 0.41025641025641024, 0.41025641025641024, 0.3220338983050847], \"yaxis\": \"y\"}, {\"hoverinfo\": \"text\", \"marker\": {\"color\": \"rgb(61,153,112)\"}, \"mode\": \"lines\", \"text\": [null, null, null, null], \"type\": \"scatter\", \"uid\": \"7df0cbf5-d5f8-43db-869a-c159547350e5\", \"x\": [1080.0, 1080.0, 1121.875, 1121.875], \"xaxis\": \"x\", \"y\": [0.16666666666666666, 0.5932203389830508, 0.5932203389830508, 0.41025641025641024], \"yaxis\": \"y\"}, {\"hoverinfo\": \"text\", \"marker\": {\"color\": \"rgb(61,153,112)\"}, \"mode\": \"lines\", \"text\": [null, null, null, null], \"type\": \"scatter\", \"uid\": \"45f251ee-690f-4587-a11d-96300feff807\", \"x\": [1020.0, 1020.0, 1100.9375, 1100.9375], \"xaxis\": \"x\", \"y\": [0.5454545454545454, 0.6170212765957447, 0.6170212765957447, 0.5932203389830508], \"yaxis\": \"y\"}, {\"hoverinfo\": \"text\", \"marker\": {\"color\": \"rgb(61,153,112)\"}, \"mode\": \"lines\", \"text\": [\"cluster: 16, component: QE_2017_001814_219.17416_517.0\", \"cluster: 16, component: QE_2017_001814_219.17416_517.0\", \"cluster: 16, component: QE_2017_001815_219.17421_516.0\", \"cluster: 16, component: QE_2017_001815_219.17421_516.0\"], \"type\": \"scatter\", \"uid\": \"a94f4d79-b5d0-49b2-b8e8-1c0d24fea1fa\", \"x\": [1165.0, 1165.0, 1175.0, 1175.0], \"xaxis\": \"x\", \"y\": [0.0, 0.14285714285714285, 0.14285714285714285, 0.0], \"yaxis\": \"y\"}, {\"hoverinfo\": \"text\", \"marker\": {\"color\": \"rgb(61,153,112)\"}, \"mode\": \"lines\", \"text\": [\"cluster: 16, component: QE_2017_001814_219.17401_452.0\", \"cluster: 16, component: QE_2017_001814_219.17401_452.0\", \"cluster: 16, component: QE_2017_001814_219.17409_442.0\", \"cluster: 16, component: QE_2017_001814_219.17409_442.0\"], \"type\": \"scatter\", \"uid\": \"306d4d62-9e84-4e4b-aa97-050b0d19b3ff\", \"x\": [1195.0, 1195.0, 1205.0, 1205.0], \"xaxis\": \"x\", \"y\": [0.0, 0.18518518518518517, 0.18518518518518517, 0.0], \"yaxis\": \"y\"}, {\"hoverinfo\": \"text\", \"marker\": {\"color\": \"rgb(61,153,112)\"}, \"mode\": \"lines\", \"text\": [\"cluster: 16, component: QE_2017_001816_219.17438_502.0\", \"cluster: 16, component: QE_2017_001816_219.17438_502.0\", null, null], \"type\": \"scatter\", \"uid\": \"a6605237-a2fa-4dae-95b1-4dab6a20d842\", \"x\": [1185.0, 1185.0, 1200.0, 1200.0], \"xaxis\": \"x\", \"y\": [0.0, 0.2558139534883721, 0.2558139534883721, 0.18518518518518517], \"yaxis\": \"y\"}, {\"hoverinfo\": \"text\", \"marker\": {\"color\": \"rgb(61,153,112)\"}, \"mode\": \"lines\", \"text\": [null, null, null, null], \"type\": \"scatter\", \"uid\": \"708ba157-6531-431c-bb56-1bc796f4c342\", \"x\": [1170.0, 1170.0, 1192.5, 1192.5], \"xaxis\": \"x\", \"y\": [0.14285714285714285, 0.2972972972972973, 0.2972972972972973, 0.2558139534883721], \"yaxis\": \"y\"}, {\"hoverinfo\": \"text\", \"marker\": {\"color\": \"rgb(61,153,112)\"}, \"mode\": \"lines\", \"text\": [\"cluster: 16, component: QE_2017_001815_191.14287_312.0\", \"cluster: 16, component: QE_2017_001815_191.14287_312.0\", \"cluster: 16, component: QE_2017_001816_191.14291_404.0\", \"cluster: 16, component: QE_2017_001816_191.14291_404.0\"], \"type\": \"scatter\", \"uid\": \"307e234b-17d9-4fce-9566-753f0d5cab95\", \"x\": [1225.0, 1225.0, 1235.0, 1235.0], \"xaxis\": \"x\", \"y\": [0.0, 0.27472527472527475, 0.27472527472527475, 0.0], \"yaxis\": \"y\"}, {\"hoverinfo\": \"text\", \"marker\": {\"color\": \"rgb(61,153,112)\"}, \"mode\": \"lines\", \"text\": [\"cluster: 16, component: QE_2017_001814_191.14291_389.0\", \"cluster: 16, component: QE_2017_001814_191.14291_389.0\", null, null], \"type\": \"scatter\", \"uid\": \"9fdb3c4b-59c9-434f-a142-f5f770308fd9\", \"x\": [1215.0, 1215.0, 1230.0, 1230.0], \"xaxis\": \"x\", \"y\": [0.0, 0.3333333333333333, 0.3333333333333333, 0.27472527472527475], \"yaxis\": \"y\"}, {\"hoverinfo\": \"text\", \"marker\": {\"color\": \"rgb(61,153,112)\"}, \"mode\": \"lines\", \"text\": [null, null, null, null], \"type\": \"scatter\", \"uid\": \"c039fc70-3b06-4ad8-8446-692bd3e88946\", \"x\": [1181.25, 1181.25, 1222.5, 1222.5], \"xaxis\": \"x\", \"y\": [0.2972972972972973, 0.5151515151515151, 0.5151515151515151, 0.3333333333333333], \"yaxis\": \"y\"}, {\"hoverinfo\": \"text\", \"marker\": {\"color\": \"rgb(61,153,112)\"}, \"mode\": \"lines\", \"text\": [\"cluster: 16, component: QE_2017_001816_137.09584_445.0\", \"cluster: 16, component: QE_2017_001816_137.09584_445.0\", null, null], \"type\": \"scatter\", \"uid\": \"f301875b-67f2-4d28-a87f-df5d8b3de19e\", \"x\": [1155.0, 1155.0, 1201.875, 1201.875], \"xaxis\": \"x\", \"y\": [0.0, 0.6428571428571429, 0.6428571428571429, 0.5151515151515151], \"yaxis\": \"y\"}, {\"hoverinfo\": \"text\", \"marker\": {\"color\": \"rgb(61,153,112)\"}, \"mode\": \"lines\", \"text\": [null, null, null, null], \"type\": \"scatter\", \"uid\": \"44ecc761-68d0-4b5c-bbab-172060acc2f1\", \"x\": [1060.46875, 1060.46875, 1178.4375, 1178.4375], \"xaxis\": \"x\", \"y\": [0.6170212765957447, 0.6907216494845361, 0.6907216494845361, 0.6428571428571429], \"yaxis\": \"y\"}, {\"hoverinfo\": \"text\", \"marker\": {\"color\": \"rgb(61,153,112)\"}, \"mode\": \"lines\", \"text\": [null, null, null, null], \"type\": \"scatter\", \"uid\": \"55f9d169-786e-44d4-a6ee-2c8343b5e7df\", \"x\": [940.0, 940.0, 1119.453125, 1119.453125], \"xaxis\": \"x\", \"y\": [0.31868131868131866, 0.7272727272727273, 0.7272727272727273, 0.6907216494845361], \"yaxis\": \"y\"}, {\"hoverinfo\": \"text\", \"marker\": {\"color\": \"rgb(255,65,54)\"}, \"mode\": \"lines\", \"text\": [\"cluster: 17, component: QE_2017_001814_209.08058_363.0\", \"cluster: 17, component: QE_2017_001814_209.08058_363.0\", \"cluster: 17, component: QE_2017_001816_207.13779_561.0\", \"cluster: 17, component: QE_2017_001816_207.13779_561.0\"], \"type\": \"scatter\", \"uid\": \"f1697a3c-044b-4e59-9009-618747f023f3\", \"x\": [1245.0, 1245.0, 1255.0, 1255.0], \"xaxis\": \"x\", \"y\": [0.0, 0.7477477477477478, 0.7477477477477478, 0.0], \"yaxis\": \"y\"}, {\"hoverinfo\": \"text\", \"marker\": {\"color\": \"rgb(0,116,217)\"}, \"mode\": \"lines\", \"text\": [null, null, null, null], \"type\": \"scatter\", \"uid\": \"e4e62308-1232-42ab-a4ad-28aacae9342c\", \"x\": [1029.7265625, 1029.7265625, 1250.0, 1250.0], \"xaxis\": \"x\", \"y\": [0.7272727272727273, 0.8409090909090909, 0.8409090909090909, 0.7477477477477478], \"yaxis\": \"y\"}, {\"hoverinfo\": \"text\", \"marker\": {\"color\": \"rgb(0,116,217)\"}, \"mode\": \"lines\", \"text\": [null, null, null, null], \"type\": \"scatter\", \"uid\": \"7f625b9d-b78c-43c9-ae3a-85b90129fae5\", \"x\": [901.875, 901.875, 1139.86328125, 1139.86328125], \"xaxis\": \"x\", \"y\": [0.8235294117647058, 0.9767441860465116, 0.9767441860465116, 0.8409090909090909], \"yaxis\": \"y\"}, {\"hoverinfo\": \"text\", \"marker\": {\"color\": \"rgb(35,205,205)\"}, \"mode\": \"lines\", \"text\": [\"cluster: 18, component: QE_2017_001815_333.15173_245.0\", \"cluster: 18, component: QE_2017_001815_333.15173_245.0\", \"cluster: 18, component: QE_2017_001816_333.15204_235.0\", \"cluster: 18, component: QE_2017_001816_333.15204_235.0\"], \"type\": \"scatter\", \"uid\": \"166feacc-5097-45e8-961a-497b54a837ec\", \"x\": [1265.0, 1265.0, 1275.0, 1275.0], \"xaxis\": \"x\", \"y\": [0.0, 0.7333333333333333, 0.7333333333333333, 0.0], \"yaxis\": \"y\"}, {\"hoverinfo\": \"text\", \"marker\": {\"color\": \"rgb(133,20,75)\"}, \"mode\": \"lines\", \"text\": [\"cluster: 19, component: QE_2017_001814_194.1174_244.0\", \"cluster: 19, component: QE_2017_001814_194.1174_244.0\", \"cluster: 19, component: QE_2017_001816_194.11746_133.0\", \"cluster: 19, component: QE_2017_001816_194.11746_133.0\"], \"type\": \"scatter\", \"uid\": \"c5d8228d-6f81-47cc-9bdc-f19691aa4201\", \"x\": [1285.0, 1285.0, 1295.0, 1295.0], \"xaxis\": \"x\", \"y\": [0.0, 0.5555555555555556, 0.5555555555555556, 0.0], \"yaxis\": \"y\"}, {\"hoverinfo\": \"text\", \"marker\": {\"color\": \"rgb(255,220,0)\"}, \"mode\": \"lines\", \"text\": [\"cluster: 20, component: QE_2017_001814_320.29471_529.0\", \"cluster: 20, component: QE_2017_001814_320.29471_529.0\", \"cluster: 20, component: QE_2017_001815_320.29486_538.0\", \"cluster: 20, component: QE_2017_001815_320.29486_538.0\"], \"type\": \"scatter\", \"uid\": \"22ad41b7-d860-4cc5-8f16-0622cf8be154\", \"x\": [1335.0, 1335.0, 1345.0, 1345.0], \"xaxis\": \"x\", \"y\": [0.0, 0.2857142857142857, 0.2857142857142857, 0.0], \"yaxis\": \"y\"}, {\"hoverinfo\": \"text\", \"marker\": {\"color\": \"rgb(255,220,0)\"}, \"mode\": \"lines\", \"text\": [\"cluster: 20, component: QE_2017_001814_320.29477_539.0\", \"cluster: 20, component: QE_2017_001814_320.29477_539.0\", null, null], \"type\": \"scatter\", \"uid\": \"b86fe40c-8e89-41eb-bb3e-3eb1fdbaddb1\", \"x\": [1325.0, 1325.0, 1340.0, 1340.0], \"xaxis\": \"x\", \"y\": [0.0, 0.4117647058823529, 0.4117647058823529, 0.2857142857142857], \"yaxis\": \"y\"}, {\"hoverinfo\": \"text\", \"marker\": {\"color\": \"rgb(255,220,0)\"}, \"mode\": \"lines\", \"text\": [\"cluster: 20, component: QE_2017_001814_320.29468_638.0\", \"cluster: 20, component: QE_2017_001814_320.29468_638.0\", null, null], \"type\": \"scatter\", \"uid\": \"8c912d4a-afa1-45cd-96d8-ab016059f6cd\", \"x\": [1315.0, 1315.0, 1332.5, 1332.5], \"xaxis\": \"x\", \"y\": [0.0, 0.6470588235294118, 0.6470588235294118, 0.4117647058823529], \"yaxis\": \"y\"}, {\"hoverinfo\": \"text\", \"marker\": {\"color\": \"rgb(0,116,217)\"}, \"mode\": \"lines\", \"text\": [\"cluster: 21, component: QE_2017_001816_320.29483_548.0\", \"cluster: 21, component: QE_2017_001816_320.29483_548.0\", null, null], \"type\": \"scatter\", \"uid\": \"b2dce56c-3b2d-4f1b-918f-7a2e31252d62\", \"x\": [1305.0, 1305.0, 1323.75, 1323.75], \"xaxis\": \"x\", \"y\": [0.0, 0.8857142857142857, 0.8857142857142857, 0.6470588235294118], \"yaxis\": \"y\"}, {\"hoverinfo\": \"text\", \"marker\": {\"color\": \"rgb(0,116,217)\"}, \"mode\": \"lines\", \"text\": [null, null, null, null], \"type\": \"scatter\", \"uid\": \"1f3d432a-5f9e-417d-bab9-70ed95a1294a\", \"x\": [1290.0, 1290.0, 1314.375, 1314.375], \"xaxis\": \"x\", \"y\": [0.5555555555555556, 0.9090909090909091, 0.9090909090909091, 0.8857142857142857], \"yaxis\": \"y\"}, {\"hoverinfo\": \"text\", \"marker\": {\"color\": \"rgb(40,35,35)\"}, \"mode\": \"lines\", \"text\": [\"cluster: 22, component: QE_2017_001814_241.15384_47.0\", \"cluster: 22, component: QE_2017_001814_241.15384_47.0\", \"cluster: 22, component: QE_2017_001814_241.15446_57.0\", \"cluster: 22, component: QE_2017_001814_241.15446_57.0\"], \"type\": \"scatter\", \"uid\": \"812435a0-b6fb-4fb3-8aef-c79ddef3e742\", \"x\": [1355.0, 1355.0, 1365.0, 1365.0], \"xaxis\": \"x\", \"y\": [0.0, 0.4666666666666667, 0.4666666666666667, 0.0], \"yaxis\": \"y\"}, {\"hoverinfo\": \"text\", \"marker\": {\"color\": \"rgb(61,153,112)\"}, \"mode\": \"lines\", \"text\": [\"cluster: 23, component: QE_2017_001815_332.25827_508.0\", \"cluster: 23, component: QE_2017_001815_332.25827_508.0\", \"cluster: 23, component: QE_2017_001816_332.25842_487.0\", \"cluster: 23, component: QE_2017_001816_332.25842_487.0\"], \"type\": \"scatter\", \"uid\": \"12109328-94f5-451d-b784-32a8d9cdd5e8\", \"x\": [1385.0, 1385.0, 1395.0, 1395.0], \"xaxis\": \"x\", \"y\": [0.0, 0.5185185185185185, 0.5185185185185185, 0.0], \"yaxis\": \"y\"}, {\"hoverinfo\": \"text\", \"marker\": {\"color\": \"rgb(61,153,112)\"}, \"mode\": \"lines\", \"text\": [\"cluster: 23, component: QE_2017_001814_332.25827_467.0\", \"cluster: 23, component: QE_2017_001814_332.25827_467.0\", null, null], \"type\": \"scatter\", \"uid\": \"a96b6692-c8a6-4287-8a8c-51923e6610cb\", \"x\": [1375.0, 1375.0, 1390.0, 1390.0], \"xaxis\": \"x\", \"y\": [0.0, 0.6666666666666666, 0.6666666666666666, 0.5185185185185185], \"yaxis\": \"y\"}, {\"hoverinfo\": \"text\", \"marker\": {\"color\": \"rgb(0,116,217)\"}, \"mode\": \"lines\", \"text\": [null, null, null, null], \"type\": \"scatter\", \"uid\": \"67779036-1231-401c-8b6a-1a13a6f0d408\", \"x\": [1360.0, 1360.0, 1382.5, 1382.5], \"xaxis\": \"x\", \"y\": [0.4666666666666667, 0.9354838709677419, 0.9354838709677419, 0.6666666666666666], \"yaxis\": \"y\"}, {\"hoverinfo\": \"text\", \"marker\": {\"color\": \"rgb(0,116,217)\"}, \"mode\": \"lines\", \"text\": [null, null, null, null], \"type\": \"scatter\", \"uid\": \"b716ec19-a486-42ee-a33c-f3352abf0f04\", \"x\": [1302.1875, 1302.1875, 1371.25, 1371.25], \"xaxis\": \"x\", \"y\": [0.9090909090909091, 0.9555555555555556, 0.9555555555555556, 0.9354838709677419], \"yaxis\": \"y\"}, {\"hoverinfo\": \"text\", \"marker\": {\"color\": \"rgb(255,65,54)\"}, \"mode\": \"lines\", \"text\": [\"cluster: 24, component: QE_2017_001814_319.13638_117.0\", \"cluster: 24, component: QE_2017_001814_319.13638_117.0\", \"cluster: 24, component: QE_2017_001816_319.13614_143.0\", \"cluster: 24, component: QE_2017_001816_319.13614_143.0\"], \"type\": \"scatter\", \"uid\": \"d9adfd95-8856-4970-8271-52b33374fc23\", \"x\": [1405.0, 1405.0, 1415.0, 1415.0], \"xaxis\": \"x\", \"y\": [0.0, 0.6, 0.6, 0.0], \"yaxis\": \"y\"}, {\"hoverinfo\": \"text\", \"marker\": {\"color\": \"rgb(35,205,205)\"}, \"mode\": \"lines\", \"text\": [\"cluster: 25, component: QE_2017_001815_219.10139_360.0\", \"cluster: 25, component: QE_2017_001815_219.10139_360.0\", \"cluster: 25, component: QE_2017_001816_219.10153_382.0\", \"cluster: 25, component: QE_2017_001816_219.10153_382.0\"], \"type\": \"scatter\", \"uid\": \"4a351707-33db-44e3-835b-af980731e020\", \"x\": [1445.0, 1445.0, 1455.0, 1455.0], \"xaxis\": \"x\", \"y\": [0.0, 0.23595505617977527, 0.23595505617977527, 0.0], \"yaxis\": \"y\"}, {\"hoverinfo\": \"text\", \"marker\": {\"color\": \"rgb(35,205,205)\"}, \"mode\": \"lines\", \"text\": [\"cluster: 25, component: QE_2017_001815_219.10159_438.0\", \"cluster: 25, component: QE_2017_001815_219.10159_438.0\", null, null], \"type\": \"scatter\", \"uid\": \"fba9f679-6593-4971-b6d1-211fcdf860ee\", \"x\": [1435.0, 1435.0, 1450.0, 1450.0], \"xaxis\": \"x\", \"y\": [0.0, 0.30275229357798167, 0.30275229357798167, 0.23595505617977527], \"yaxis\": \"y\"}, {\"hoverinfo\": \"text\", \"marker\": {\"color\": \"rgb(35,205,205)\"}, \"mode\": \"lines\", \"text\": [\"cluster: 25, component: QE_2017_001814_251.09117_393.0\", \"cluster: 25, component: QE_2017_001814_251.09117_393.0\", null, null], \"type\": \"scatter\", \"uid\": \"44a30475-05d4-42ca-8180-142e3c30d1f4\", \"x\": [1425.0, 1425.0, 1442.5, 1442.5], \"xaxis\": \"x\", \"y\": [0.0, 0.4845360824742268, 0.4845360824742268, 0.30275229357798167], \"yaxis\": \"y\"}, {\"hoverinfo\": \"text\", \"marker\": {\"color\": \"rgb(133,20,75)\"}, \"mode\": \"lines\", \"text\": [\"cluster: 26, component: QE_2017_001814_291.1442_241.0\", \"cluster: 26, component: QE_2017_001814_291.1442_241.0\", \"cluster: 26, component: QE_2017_001816_291.14493_243.0\", \"cluster: 26, component: QE_2017_001816_291.14493_243.0\"], \"type\": \"scatter\", \"uid\": \"dcdf7260-6eb5-4d85-8349-76525ba815d5\", \"x\": [1465.0, 1465.0, 1475.0, 1475.0], \"xaxis\": \"x\", \"y\": [0.0, 0.22727272727272727, 0.22727272727272727, 0.0], \"yaxis\": \"y\"}, {\"hoverinfo\": \"text\", \"marker\": {\"color\": \"rgb(133,20,75)\"}, \"mode\": \"lines\", \"text\": [\"cluster: 26, component: QE_2017_001815_273.13425_199.0\", \"cluster: 26, component: QE_2017_001815_273.13425_199.0\", \"cluster: 26, component: QE_2017_001815_273.13434_243.0\", \"cluster: 26, component: QE_2017_001815_273.13434_243.0\"], \"type\": \"scatter\", \"uid\": \"51f3396d-5b5f-4604-acb8-52604b8e377a\", \"x\": [1495.0, 1495.0, 1505.0, 1505.0], \"xaxis\": \"x\", \"y\": [0.0, 0.2, 0.2, 0.0], \"yaxis\": \"y\"}, {\"hoverinfo\": \"text\", \"marker\": {\"color\": \"rgb(133,20,75)\"}, \"mode\": \"lines\", \"text\": [\"cluster: 26, component: QE_2017_001816_291.14499_200.0\", \"cluster: 26, component: QE_2017_001816_291.14499_200.0\", null, null], \"type\": \"scatter\", \"uid\": \"7a03f29f-27b7-467d-af6b-6ba7c8154c92\", \"x\": [1485.0, 1485.0, 1500.0, 1500.0], \"xaxis\": \"x\", \"y\": [0.0, 0.2653061224489796, 0.2653061224489796, 0.2], \"yaxis\": \"y\"}, {\"hoverinfo\": \"text\", \"marker\": {\"color\": \"rgb(133,20,75)\"}, \"mode\": \"lines\", \"text\": [null, null, null, null], \"type\": \"scatter\", \"uid\": \"88d1a695-ef31-4a3f-bbaf-433b8aaaad38\", \"x\": [1470.0, 1470.0, 1492.5, 1492.5], \"xaxis\": \"x\", \"y\": [0.22727272727272727, 0.34782608695652173, 0.34782608695652173, 0.2653061224489796], \"yaxis\": \"y\"}, {\"hoverinfo\": \"text\", \"marker\": {\"color\": \"rgb(255,220,0)\"}, \"mode\": \"lines\", \"text\": [\"cluster: 27, component: QE_2017_001815_235.14398_226.0\", \"cluster: 27, component: QE_2017_001815_235.14398_226.0\", \"cluster: 27, component: QE_2017_001816_235.14397_183.0\", \"cluster: 27, component: QE_2017_001816_235.14397_183.0\"], \"type\": \"scatter\", \"uid\": \"b90bf199-47ec-4aed-a00b-67e42de44a6f\", \"x\": [1525.0, 1525.0, 1535.0, 1535.0], \"xaxis\": \"x\", \"y\": [0.0, 0.35714285714285715, 0.35714285714285715, 0.0], \"yaxis\": \"y\"}, {\"hoverinfo\": \"text\", \"marker\": {\"color\": \"rgb(255,220,0)\"}, \"mode\": \"lines\", \"text\": [\"cluster: 27, component: QE_2017_001815_251.13873_202.0\", \"cluster: 27, component: QE_2017_001815_251.13873_202.0\", null, null], \"type\": \"scatter\", \"uid\": \"a8ec98b9-0d17-4c48-97fe-699c277b5c20\", \"x\": [1515.0, 1515.0, 1530.0, 1530.0], \"xaxis\": \"x\", \"y\": [0.0, 0.76, 0.76, 0.35714285714285715], \"yaxis\": \"y\"}, {\"hoverinfo\": \"text\", \"marker\": {\"color\": \"rgb(0,116,217)\"}, \"mode\": \"lines\", \"text\": [null, null, null, null], \"type\": \"scatter\", \"uid\": \"cf929561-0601-4004-92be-a32d884aea74\", \"x\": [1481.25, 1481.25, 1522.5, 1522.5], \"xaxis\": \"x\", \"y\": [0.34782608695652173, 0.8461538461538461, 0.8461538461538461, 0.76], \"yaxis\": \"y\"}, {\"hoverinfo\": \"text\", \"marker\": {\"color\": \"rgb(0,116,217)\"}, \"mode\": \"lines\", \"text\": [null, null, null, null], \"type\": \"scatter\", \"uid\": \"8e512295-43e9-483a-b7fe-6f3322b4c231\", \"x\": [1433.75, 1433.75, 1501.875, 1501.875], \"xaxis\": \"x\", \"y\": [0.4845360824742268, 0.978494623655914, 0.978494623655914, 0.8461538461538461], \"yaxis\": \"y\"}, {\"hoverinfo\": \"text\", \"marker\": {\"color\": \"rgb(40,35,35)\"}, \"mode\": \"lines\", \"text\": [\"cluster: 28, component: QE_2017_001814_250.10149_516.0\", \"cluster: 28, component: QE_2017_001814_250.10149_516.0\", \"cluster: 28, component: QE_2017_001815_222.07033_315.0\", \"cluster: 28, component: QE_2017_001815_222.07033_315.0\"], \"type\": \"scatter\", \"uid\": \"d5c542e9-2c57-468c-963b-a00c9f11fadb\", \"x\": [1565.0, 1565.0, 1575.0, 1575.0], \"xaxis\": \"x\", \"y\": [0.0, 0.34065934065934067, 0.34065934065934067, 0.0], \"yaxis\": \"y\"}, {\"hoverinfo\": \"text\", \"marker\": {\"color\": \"rgb(40,35,35)\"}, \"mode\": \"lines\", \"text\": [\"cluster: 28, component: QE_2017_001816_268.59351_445.0\", \"cluster: 28, component: QE_2017_001816_268.59351_445.0\", null, null], \"type\": \"scatter\", \"uid\": \"86cf6ecd-b98d-4875-b0f6-d32cc6708230\", \"x\": [1555.0, 1555.0, 1570.0, 1570.0], \"xaxis\": \"x\", \"y\": [0.0, 0.5294117647058824, 0.5294117647058824, 0.34065934065934067], \"yaxis\": \"y\"}, {\"hoverinfo\": \"text\", \"marker\": {\"color\": \"rgb(61,153,112)\"}, \"mode\": \"lines\", \"text\": [\"cluster: 29, component: QE_2017_001814_247.05975_245.0\", \"cluster: 29, component: QE_2017_001814_247.05975_245.0\", \"cluster: 29, component: QE_2017_001815_247.0598_242.0\", \"cluster: 29, component: QE_2017_001815_247.0598_242.0\"], \"type\": \"scatter\", \"uid\": \"e4ac8d20-9113-43d9-9897-8248ffeb8940\", \"x\": [1585.0, 1585.0, 1595.0, 1595.0], \"xaxis\": \"x\", \"y\": [0.0, 0.21428571428571427, 0.21428571428571427, 0.0], \"yaxis\": \"y\"}, {\"hoverinfo\": \"text\", \"marker\": {\"color\": \"rgb(61,153,112)\"}, \"mode\": \"lines\", \"text\": [\"cluster: 29, component: QE_2017_001815_212.03883_181.0\", \"cluster: 29, component: QE_2017_001815_212.03883_181.0\", \"cluster: 29, component: QE_2017_001815_214.56488_409.0\", \"cluster: 29, component: QE_2017_001815_214.56488_409.0\"], \"type\": \"scatter\", \"uid\": \"ae1d0d93-d944-48db-aa28-513d9222b872\", \"x\": [1615.0, 1615.0, 1625.0, 1625.0], \"xaxis\": \"x\", \"y\": [0.0, 0.6363636363636364, 0.6363636363636364, 0.0], \"yaxis\": \"y\"}, {\"hoverinfo\": \"text\", \"marker\": {\"color\": \"rgb(61,153,112)\"}, \"mode\": \"lines\", \"text\": [\"cluster: 29, component: QE_2017_001816_219.04672_291.0\", \"cluster: 29, component: QE_2017_001816_219.04672_291.0\", null, null], \"type\": \"scatter\", \"uid\": \"efef8592-4aa2-4f8c-a0da-ff42327243b5\", \"x\": [1605.0, 1605.0, 1620.0, 1620.0], \"xaxis\": \"x\", \"y\": [0.0, 0.6842105263157895, 0.6842105263157895, 0.6363636363636364], \"yaxis\": \"y\"}, {\"hoverinfo\": \"text\", \"marker\": {\"color\": \"rgb(61,153,112)\"}, \"mode\": \"lines\", \"text\": [null, null, null, null], \"type\": \"scatter\", \"uid\": \"ac4816c6-4bca-4607-882c-24e3ae1d4464\", \"x\": [1590.0, 1590.0, 1612.5, 1612.5], \"xaxis\": \"x\", \"y\": [0.21428571428571427, 0.75, 0.75, 0.6842105263157895], \"yaxis\": \"y\"}, {\"hoverinfo\": \"text\", \"marker\": {\"color\": \"rgb(0,116,217)\"}, \"mode\": \"lines\", \"text\": [null, null, null, null], \"type\": \"scatter\", \"uid\": \"2a3ea756-cea3-4a80-ac20-218287753a06\", \"x\": [1562.5, 1562.5, 1601.25, 1601.25], \"xaxis\": \"x\", \"y\": [0.5294117647058824, 0.8481012658227848, 0.8481012658227848, 0.75], \"yaxis\": \"y\"}, {\"hoverinfo\": \"text\", \"marker\": {\"color\": \"rgb(0,116,217)\"}, \"mode\": \"lines\", \"text\": [\"cluster: 30, component: QE_2017_001815_214.51021_60.0\", \"cluster: 30, component: QE_2017_001815_214.51021_60.0\", null, null], \"type\": \"scatter\", \"uid\": \"a1f22e0f-d19c-49bd-a20c-b483299b023d\", \"x\": [1545.0, 1545.0, 1581.875, 1581.875], \"xaxis\": \"x\", \"y\": [0.0, 0.9111111111111111, 0.9111111111111111, 0.8481012658227848], \"yaxis\": \"y\"}, {\"hoverinfo\": \"text\", \"marker\": {\"color\": \"rgb(255,65,54)\"}, \"mode\": \"lines\", \"text\": [\"cluster: 31, component: QE_2017_001815_246.14465_137.0\", \"cluster: 31, component: QE_2017_001815_246.14465_137.0\", \"cluster: 31, component: QE_2017_001815_247.12865_158.0\", \"cluster: 31, component: QE_2017_001815_247.12865_158.0\"], \"type\": \"scatter\", \"uid\": \"4d80e083-3539-4fe4-8cdb-835820589f43\", \"x\": [1655.0, 1655.0, 1665.0, 1665.0], \"xaxis\": \"x\", \"y\": [0.0, 0.3333333333333333, 0.3333333333333333, 0.0], \"yaxis\": \"y\"}, {\"hoverinfo\": \"text\", \"marker\": {\"color\": \"rgb(35,205,205)\"}, \"mode\": \"lines\", \"text\": [\"cluster: 32, component: QE_2017_001814_260.16037_143.0\", \"cluster: 32, component: QE_2017_001814_260.16037_143.0\", \"cluster: 32, component: QE_2017_001816_260.16022_145.0\", \"cluster: 32, component: QE_2017_001816_260.16022_145.0\"], \"type\": \"scatter\", \"uid\": \"6f9631a9-b998-480b-a975-ea9140017f96\", \"x\": [1675.0, 1675.0, 1685.0, 1685.0], \"xaxis\": \"x\", \"y\": [0.0, 0.16666666666666666, 0.16666666666666666, 0.0], \"yaxis\": \"y\"}, {\"hoverinfo\": \"text\", \"marker\": {\"color\": \"rgb(35,205,205)\"}, \"mode\": \"lines\", \"text\": [\"cluster: 32, component: QE_2017_001814_233.14948_126.0\", \"cluster: 32, component: QE_2017_001814_233.14948_126.0\", \"cluster: 32, component: QE_2017_001816_233.14955_129.0\", \"cluster: 32, component: QE_2017_001816_233.14955_129.0\"], \"type\": \"scatter\", \"uid\": \"6878c4a9-1ea0-445a-8411-dfa6bb4e5b33\", \"x\": [1705.0, 1705.0, 1715.0, 1715.0], \"xaxis\": \"x\", \"y\": [0.0, 0.15151515151515152, 0.15151515151515152, 0.0], \"yaxis\": \"y\"}, {\"hoverinfo\": \"text\", \"marker\": {\"color\": \"rgb(35,205,205)\"}, \"mode\": \"lines\", \"text\": [\"cluster: 32, component: QE_2017_001814_233.14957_152.0\", \"cluster: 32, component: QE_2017_001814_233.14957_152.0\", null, null], \"type\": \"scatter\", \"uid\": \"082e82b4-82bc-443e-a931-d55e664933e2\", \"x\": [1695.0, 1695.0, 1710.0, 1710.0], \"xaxis\": \"x\", \"y\": [0.0, 0.37142857142857144, 0.37142857142857144, 0.15151515151515152], \"yaxis\": \"y\"}, {\"hoverinfo\": \"text\", \"marker\": {\"color\": \"rgb(35,205,205)\"}, \"mode\": \"lines\", \"text\": [null, null, null, null], \"type\": \"scatter\", \"uid\": \"e37432d2-1ae7-46eb-a02f-e6e34c6d7e66\", \"x\": [1680.0, 1680.0, 1702.5, 1702.5], \"xaxis\": \"x\", \"y\": [0.16666666666666666, 0.7619047619047619, 0.7619047619047619, 0.37142857142857144], \"yaxis\": \"y\"}, {\"hoverinfo\": \"text\", \"marker\": {\"color\": \"rgb(0,116,217)\"}, \"mode\": \"lines\", \"text\": [null, null, null, null], \"type\": \"scatter\", \"uid\": \"83ef583d-29f0-4971-9d8c-75f48026d95e\", \"x\": [1660.0, 1660.0, 1691.25, 1691.25], \"xaxis\": \"x\", \"y\": [0.3333333333333333, 0.9183673469387755, 0.9183673469387755, 0.7619047619047619], \"yaxis\": \"y\"}, {\"hoverinfo\": \"text\", \"marker\": {\"color\": \"rgb(0,116,217)\"}, \"mode\": \"lines\", \"text\": [\"cluster: 33, component: QE_2017_001816_132.04436_283.0\", \"cluster: 33, component: QE_2017_001816_132.04436_283.0\", null, null], \"type\": \"scatter\", \"uid\": \"9ae6b1c7-2342-4916-a603-6ac73507d189\", \"x\": [1645.0, 1645.0, 1675.625, 1675.625], \"xaxis\": \"x\", \"y\": [0.0, 0.9607843137254902, 0.9607843137254902, 0.9183673469387755], \"yaxis\": \"y\"}, {\"hoverinfo\": \"text\", \"marker\": {\"color\": \"rgb(0,116,217)\"}, \"mode\": \"lines\", \"text\": [\"cluster: 34, component: QE_2017_001815_260.16016_64.0\", \"cluster: 34, component: QE_2017_001815_260.16016_64.0\", null, null], \"type\": \"scatter\", \"uid\": \"a6022639-373e-4252-9e93-b458d3cebbcb\", \"x\": [1635.0, 1635.0, 1660.3125, 1660.3125], \"xaxis\": \"x\", \"y\": [0.0, 0.9696969696969697, 0.9696969696969697, 0.9607843137254902], \"yaxis\": \"y\"}, {\"hoverinfo\": \"text\", \"marker\": {\"color\": \"rgb(133,20,75)\"}, \"mode\": \"lines\", \"text\": [\"cluster: 35, component: QE_2017_001815_221.12837_99.0\", \"cluster: 35, component: QE_2017_001815_221.12837_99.0\", \"cluster: 35, component: QE_2017_001816_237.12325_171.0\", \"cluster: 35, component: QE_2017_001816_237.12325_171.0\"], \"type\": \"scatter\", \"uid\": \"80fec091-5db7-4dcf-92ad-485f21a5a494\", \"x\": [1725.0, 1725.0, 1735.0, 1735.0], \"xaxis\": \"x\", \"y\": [0.0, 0.5555555555555556, 0.5555555555555556, 0.0], \"yaxis\": \"y\"}, {\"hoverinfo\": \"text\", \"marker\": {\"color\": \"rgb(0,116,217)\"}, \"mode\": \"lines\", \"text\": [\"cluster: 36, component: QE_2017_001814_237.12305_220.0\", \"cluster: 36, component: QE_2017_001814_237.12305_220.0\", \"cluster: 37, component: QE_2017_001816_237.12323_53.0\", \"cluster: 37, component: QE_2017_001816_237.12323_53.0\"], \"type\": \"scatter\", \"uid\": \"e14f7b2d-d9d6-43b1-8753-00a011462823\", \"x\": [1745.0, 1745.0, 1755.0, 1755.0], \"xaxis\": \"x\", \"y\": [0.0, 0.8947368421052632, 0.8947368421052632, 0.0], \"yaxis\": \"y\"}, {\"hoverinfo\": \"text\", \"marker\": {\"color\": \"rgb(0,116,217)\"}, \"mode\": \"lines\", \"text\": [null, null, null, null], \"type\": \"scatter\", \"uid\": \"258161c7-44d0-4e74-bb60-c11c40b76452\", \"x\": [1730.0, 1730.0, 1750.0, 1750.0], \"xaxis\": \"x\", \"y\": [0.5555555555555556, 0.9534883720930233, 0.9534883720930233, 0.8947368421052632], \"yaxis\": \"y\"}, {\"hoverinfo\": \"text\", \"marker\": {\"color\": \"rgb(255,220,0)\"}, \"mode\": \"lines\", \"text\": [\"cluster: 38, component: QE_2017_001814_229.15399_46.0\", \"cluster: 38, component: QE_2017_001814_229.15399_46.0\", \"cluster: 38, component: QE_2017_001816_229.15451_66.0\", \"cluster: 38, component: QE_2017_001816_229.15451_66.0\"], \"type\": \"scatter\", \"uid\": \"c23f716a-fdd2-4706-8f1b-5a8d735ffc7a\", \"x\": [1775.0, 1775.0, 1785.0, 1785.0], \"xaxis\": \"x\", \"y\": [0.0, 0.23809523809523808, 0.23809523809523808, 0.0], \"yaxis\": \"y\"}, {\"hoverinfo\": \"text\", \"marker\": {\"color\": \"rgb(255,220,0)\"}, \"mode\": \"lines\", \"text\": [\"cluster: 38, component: QE_2017_001816_229.15469_52.0\", \"cluster: 38, component: QE_2017_001816_229.15469_52.0\", null, null], \"type\": \"scatter\", \"uid\": \"796aeaac-d3cc-4da8-bdec-68d2bdefd253\", \"x\": [1765.0, 1765.0, 1780.0, 1780.0], \"xaxis\": \"x\", \"y\": [0.0, 0.7777777777777778, 0.7777777777777778, 0.23809523809523808], \"yaxis\": \"y\"}, {\"hoverinfo\": \"text\", \"marker\": {\"color\": \"rgb(40,35,35)\"}, \"mode\": \"lines\", \"text\": [\"cluster: 39, component: QE_2017_001814_182.08116_51.0\", \"cluster: 39, component: QE_2017_001814_182.08116_51.0\", \"cluster: 39, component: QE_2017_001816_182.08116_55.0\", \"cluster: 39, component: QE_2017_001816_182.08116_55.0\"], \"type\": \"scatter\", \"uid\": \"a1382379-4ecd-406d-a12c-5f58657c8cf6\", \"x\": [1795.0, 1795.0, 1805.0, 1805.0], \"xaxis\": \"x\", \"y\": [0.0, 0.28, 0.28, 0.0], \"yaxis\": \"y\"}, {\"hoverinfo\": \"text\", \"marker\": {\"color\": \"rgb(61,153,112)\"}, \"mode\": \"lines\", \"text\": [\"cluster: 40, component: QE_2017_001815_194.04474_330.0\", \"cluster: 40, component: QE_2017_001815_194.04474_330.0\", \"cluster: 40, component: QE_2017_001816_212.05518_300.0\", \"cluster: 40, component: QE_2017_001816_212.05518_300.0\"], \"type\": \"scatter\", \"uid\": \"9717147b-cbae-4232-bc41-b14aa43211a1\", \"x\": [1815.0, 1815.0, 1825.0, 1825.0], \"xaxis\": \"x\", \"y\": [0.0, 0.3670886075949367, 0.3670886075949367, 0.0], \"yaxis\": \"y\"}, {\"hoverinfo\": \"text\", \"marker\": {\"color\": \"rgb(0,116,217)\"}, \"mode\": \"lines\", \"text\": [null, null, null, null], \"type\": \"scatter\", \"uid\": \"a592ebd4-7a2b-4a7c-aa3d-1f84677ab24c\", \"x\": [1800.0, 1800.0, 1820.0, 1820.0], \"xaxis\": \"x\", \"y\": [0.28, 0.855072463768116, 0.855072463768116, 0.3670886075949367], \"yaxis\": \"y\"}, {\"hoverinfo\": \"text\", \"marker\": {\"color\": \"rgb(255,65,54)\"}, \"mode\": \"lines\", \"text\": [\"cluster: 41, component: QE_2017_001814_177.05418_236.0\", \"cluster: 41, component: QE_2017_001814_177.05418_236.0\", \"cluster: 41, component: QE_2017_001815_177.05444_307.0\", \"cluster: 41, component: QE_2017_001815_177.05444_307.0\"], \"type\": \"scatter\", \"uid\": \"426d7bfb-d62a-4aac-947a-2d25f417a5e8\", \"x\": [1845.0, 1845.0, 1855.0, 1855.0], \"xaxis\": \"x\", \"y\": [0.0, 0.21212121212121213, 0.21212121212121213, 0.0], \"yaxis\": \"y\"}, {\"hoverinfo\": \"text\", \"marker\": {\"color\": \"rgb(255,65,54)\"}, \"mode\": \"lines\", \"text\": [\"cluster: 41, component: QE_2017_001816_177.05449_217.0\", \"cluster: 41, component: QE_2017_001816_177.05449_217.0\", null, null], \"type\": \"scatter\", \"uid\": \"c90909fe-5797-4b3d-8cc2-e3c3f9c51a5f\", \"x\": [1835.0, 1835.0, 1850.0, 1850.0], \"xaxis\": \"x\", \"y\": [0.0, 0.24324324324324326, 0.24324324324324326, 0.21212121212121213], \"yaxis\": \"y\"}, {\"hoverinfo\": \"text\", \"marker\": {\"color\": \"rgb(255,65,54)\"}, \"mode\": \"lines\", \"text\": [\"cluster: 41, component: QE_2017_001816_199.98769_294.0\", \"cluster: 41, component: QE_2017_001816_199.98769_294.0\", \"cluster: 41, component: QE_2017_001816_199.98776_304.0\", \"cluster: 41, component: QE_2017_001816_199.98776_304.0\"], \"type\": \"scatter\", \"uid\": \"c2454b49-d50f-47f1-a07d-4dca9248e5be\", \"x\": [1865.0, 1865.0, 1875.0, 1875.0], \"xaxis\": \"x\", \"y\": [0.0, 0.20588235294117646, 0.20588235294117646, 0.0], \"yaxis\": \"y\"}, {\"hoverinfo\": \"text\", \"marker\": {\"color\": \"rgb(255,65,54)\"}, \"mode\": \"lines\", \"text\": [\"cluster: 41, component: QE_2017_001814_199.98778_290.0\", \"cluster: 41, component: QE_2017_001814_199.98778_290.0\", \"cluster: 41, component: QE_2017_001815_199.98779_30.0\", \"cluster: 41, component: QE_2017_001815_199.98779_30.0\"], \"type\": \"scatter\", \"uid\": \"e37b3604-e116-4eef-9934-67213d406c8a\", \"x\": [1885.0, 1885.0, 1895.0, 1895.0], \"xaxis\": \"x\", \"y\": [0.0, 0.17647058823529413, 0.17647058823529413, 0.0], \"yaxis\": \"y\"}, {\"hoverinfo\": \"text\", \"marker\": {\"color\": \"rgb(255,65,54)\"}, \"mode\": \"lines\", \"text\": [\"cluster: 41, component: QE_2017_001815_199.98772_326.0\", \"cluster: 41, component: QE_2017_001815_199.98772_326.0\", \"cluster: 41, component: QE_2017_001816_199.98781_313.0\", \"cluster: 41, component: QE_2017_001816_199.98781_313.0\"], \"type\": \"scatter\", \"uid\": \"7223c8f0-c55a-4e69-9cce-86801f5512df\", \"x\": [1905.0, 1905.0, 1915.0, 1915.0], \"xaxis\": \"x\", \"y\": [0.0, 0.1, 0.1, 0.0], \"yaxis\": \"y\"}, {\"hoverinfo\": \"text\", \"marker\": {\"color\": \"rgb(255,65,54)\"}, \"mode\": \"lines\", \"text\": [\"cluster: 41, component: QE_2017_001816_199.98776_254.0\", \"cluster: 41, component: QE_2017_001816_199.98776_254.0\", \"cluster: 41, component: QE_2017_001816_199.98779_335.0\", \"cluster: 41, component: QE_2017_001816_199.98779_335.0\"], \"type\": \"scatter\", \"uid\": \"13673154-bbbf-451d-adf5-4df9bfe33c42\", \"x\": [1935.0, 1935.0, 1945.0, 1945.0], \"xaxis\": \"x\", \"y\": [0.0, 0.14285714285714285, 0.14285714285714285, 0.0], \"yaxis\": \"y\"}, {\"hoverinfo\": \"text\", \"marker\": {\"color\": \"rgb(255,65,54)\"}, \"mode\": \"lines\", \"text\": [\"cluster: 41, component: QE_2017_001816_199.98772_359.0\", \"cluster: 41, component: QE_2017_001816_199.98772_359.0\", null, null], \"type\": \"scatter\", \"uid\": \"9b83ae0f-8741-4ddc-8750-de97fb1f19c4\", \"x\": [1925.0, 1925.0, 1940.0, 1940.0], \"xaxis\": \"x\", \"y\": [0.0, 0.18518518518518517, 0.18518518518518517, 0.14285714285714285], \"yaxis\": \"y\"}, {\"hoverinfo\": \"text\", \"marker\": {\"color\": \"rgb(255,65,54)\"}, \"mode\": \"lines\", \"text\": [null, null, null, null], \"type\": \"scatter\", \"uid\": \"ed4dfe10-4dd9-46b3-99d2-93b0b67a747a\", \"x\": [1910.0, 1910.0, 1932.5, 1932.5], \"xaxis\": \"x\", \"y\": [0.1, 0.2222222222222222, 0.2222222222222222, 0.18518518518518517], \"yaxis\": \"y\"}, {\"hoverinfo\": \"text\", \"marker\": {\"color\": \"rgb(255,65,54)\"}, \"mode\": \"lines\", \"text\": [null, null, null, null], \"type\": \"scatter\", \"uid\": \"6a9d93c5-ee78-4856-b75b-bd1bfaf82520\", \"x\": [1890.0, 1890.0, 1921.25, 1921.25], \"xaxis\": \"x\", \"y\": [0.17647058823529413, 0.2692307692307692, 0.2692307692307692, 0.2222222222222222], \"yaxis\": \"y\"}, {\"hoverinfo\": \"text\", \"marker\": {\"color\": \"rgb(255,65,54)\"}, \"mode\": \"lines\", \"text\": [null, null, null, null], \"type\": \"scatter\", \"uid\": \"6f9fd7de-e199-4928-8bbd-586972b4a8d6\", \"x\": [1870.0, 1870.0, 1905.625, 1905.625], \"xaxis\": \"x\", \"y\": [0.20588235294117646, 0.3103448275862069, 0.3103448275862069, 0.2692307692307692], \"yaxis\": \"y\"}, {\"hoverinfo\": \"text\", \"marker\": {\"color\": \"rgb(255,65,54)\"}, \"mode\": \"lines\", \"text\": [null, null, null, null], \"type\": \"scatter\", \"uid\": \"8f6e892f-7b4e-429a-abfa-98459a939e5a\", \"x\": [1842.5, 1842.5, 1887.8125, 1887.8125], \"xaxis\": \"x\", \"y\": [0.24324324324324326, 0.696969696969697, 0.696969696969697, 0.3103448275862069], \"yaxis\": \"y\"}, {\"hoverinfo\": \"text\", \"marker\": {\"color\": \"rgb(35,205,205)\"}, \"mode\": \"lines\", \"text\": [\"cluster: 42, component: QE_2017_001815_463.12268_358.0\", \"cluster: 42, component: QE_2017_001815_463.12268_358.0\", \"cluster: 42, component: QE_2017_001815_625.17633_345.0\", \"cluster: 42, component: QE_2017_001815_625.17633_345.0\"], \"type\": \"scatter\", \"uid\": \"1c42e043-ed5c-4713-b779-fa8931d58cd2\", \"x\": [1975.0, 1975.0, 1985.0, 1985.0], \"xaxis\": \"x\", \"y\": [0.0, 0.5121951219512195, 0.5121951219512195, 0.0], \"yaxis\": \"y\"}, {\"hoverinfo\": \"text\", \"marker\": {\"color\": \"rgb(0,116,217)\"}, \"mode\": \"lines\", \"text\": [\"cluster: 43, component: QE_2017_001815_595.16559_315.0\", \"cluster: 43, component: QE_2017_001815_595.16559_315.0\", null, null], \"type\": \"scatter\", \"uid\": \"958cd381-3d72-4ef4-b952-b50b46afc8ba\", \"x\": [1965.0, 1965.0, 1980.0, 1980.0], \"xaxis\": \"x\", \"y\": [0.0, 0.8095238095238095, 0.8095238095238095, 0.5121951219512195], \"yaxis\": \"y\"}, {\"hoverinfo\": \"text\", \"marker\": {\"color\": \"rgb(0,116,217)\"}, \"mode\": \"lines\", \"text\": [\"cluster: 44, component: QE_2017_001815_141.0508_33.0\", \"cluster: 44, component: QE_2017_001815_141.0508_33.0\", \"cluster: 45, component: QE_2017_001815_265.01532_33.0\", \"cluster: 45, component: QE_2017_001815_265.01532_33.0\"], \"type\": \"scatter\", \"uid\": \"a20a3bc2-ce5e-40c2-8eed-e29d7bb06621\", \"x\": [1995.0, 1995.0, 2005.0, 2005.0], \"xaxis\": \"x\", \"y\": [0.0, 1.0, 1.0, 0.0], \"yaxis\": \"y\"}, {\"hoverinfo\": \"text\", \"marker\": {\"color\": \"rgb(0,116,217)\"}, \"mode\": \"lines\", \"text\": [null, null, null, null], \"type\": \"scatter\", \"uid\": \"3e7b8930-8dfa-47ec-a2f0-09ee17282769\", \"x\": [1972.5, 1972.5, 2000.0, 2000.0], \"xaxis\": \"x\", \"y\": [0.8095238095238095, 1.0, 1.0, 1.0], \"yaxis\": \"y\"}, {\"hoverinfo\": \"text\", \"marker\": {\"color\": \"rgb(0,116,217)\"}, \"mode\": \"lines\", \"text\": [\"cluster: 46, component: QE_2017_001815_797.51746_866.0\", \"cluster: 46, component: QE_2017_001815_797.51746_866.0\", null, null], \"type\": \"scatter\", \"uid\": \"93e92b04-f2a5-409c-aa69-ceb837b92d97\", \"x\": [1955.0, 1955.0, 1986.25, 1986.25], \"xaxis\": \"x\", \"y\": [0.0, 1.0, 1.0, 1.0], \"yaxis\": \"y\"}, {\"hoverinfo\": \"text\", \"marker\": {\"color\": \"rgb(0,116,217)\"}, \"mode\": \"lines\", \"text\": [null, null, null, null], \"type\": \"scatter\", \"uid\": \"22fea627-b690-4443-8c82-aa0e67da0908\", \"x\": [1865.15625, 1865.15625, 1970.625, 1970.625], \"xaxis\": \"x\", \"y\": [0.696969696969697, 1.0, 1.0, 1.0], \"yaxis\": \"y\"}, {\"hoverinfo\": \"text\", \"marker\": {\"color\": \"rgb(0,116,217)\"}, \"mode\": \"lines\", \"text\": [null, null, null, null], \"type\": \"scatter\", \"uid\": \"09788544-d57e-4a2d-8b17-3fa413463fd7\", \"x\": [1810.0, 1810.0, 1917.890625, 1917.890625], \"xaxis\": \"x\", \"y\": [0.855072463768116, 1.0, 1.0, 1.0], \"yaxis\": \"y\"}, {\"hoverinfo\": \"text\", \"marker\": {\"color\": \"rgb(0,116,217)\"}, \"mode\": \"lines\", \"text\": [null, null, null, null], \"type\": \"scatter\", \"uid\": \"d594ebfd-da01-4012-9769-05237e6c4074\", \"x\": [1772.5, 1772.5, 1863.9453125, 1863.9453125], \"xaxis\": \"x\", \"y\": [0.7777777777777778, 1.0, 1.0, 1.0], \"yaxis\": \"y\"}, {\"hoverinfo\": \"text\", \"marker\": {\"color\": \"rgb(0,116,217)\"}, \"mode\": \"lines\", \"text\": [null, null, null, null], \"type\": \"scatter\", \"uid\": \"6b7fdb77-8864-47f2-b675-078bfc62bcf8\", \"x\": [1740.0, 1740.0, 1818.22265625, 1818.22265625], \"xaxis\": \"x\", \"y\": [0.9534883720930233, 1.0, 1.0, 1.0], \"yaxis\": \"y\"}, {\"hoverinfo\": \"text\", \"marker\": {\"color\": \"rgb(0,116,217)\"}, \"mode\": \"lines\", \"text\": [null, null, null, null], \"type\": \"scatter\", \"uid\": \"0a6899a1-00ef-4929-b699-3b22de0bfa19\", \"x\": [1647.65625, 1647.65625, 1779.111328125, 1779.111328125], \"xaxis\": \"x\", \"y\": [0.9696969696969697, 1.0, 1.0, 1.0], \"yaxis\": \"y\"}, {\"hoverinfo\": \"text\", \"marker\": {\"color\": \"rgb(0,116,217)\"}, \"mode\": \"lines\", \"text\": [null, null, null, null], \"type\": \"scatter\", \"uid\": \"aaabf2be-e831-4f4c-bc32-5709c144e980\", \"x\": [1563.4375, 1563.4375, 1713.3837890625, 1713.3837890625], \"xaxis\": \"x\", \"y\": [0.9111111111111111, 1.0, 1.0, 1.0], \"yaxis\": \"y\"}, {\"hoverinfo\": \"text\", \"marker\": {\"color\": \"rgb(0,116,217)\"}, \"mode\": \"lines\", \"text\": [null, null, null, null], \"type\": \"scatter\", \"uid\": \"80122dd5-3494-411e-8662-9b414891df1f\", \"x\": [1467.8125, 1467.8125, 1638.41064453125, 1638.41064453125], \"xaxis\": \"x\", \"y\": [0.978494623655914, 1.0, 1.0, 1.0], \"yaxis\": \"y\"}, {\"hoverinfo\": \"text\", \"marker\": {\"color\": \"rgb(0,116,217)\"}, \"mode\": \"lines\", \"text\": [null, null, null, null], \"type\": \"scatter\", \"uid\": \"8b5e341b-da41-46ed-89fb-650083f9d0dd\", \"x\": [1410.0, 1410.0, 1553.111572265625, 1553.111572265625], \"xaxis\": \"x\", \"y\": [0.6, 1.0, 1.0, 1.0], \"yaxis\": \"y\"}, {\"hoverinfo\": \"text\", \"marker\": {\"color\": \"rgb(0,116,217)\"}, \"mode\": \"lines\", \"text\": [null, null, null, null], \"type\": \"scatter\", \"uid\": \"f213be62-6d87-4143-a526-db8b4e1ddbf9\", \"x\": [1336.71875, 1336.71875, 1481.5557861328125, 1481.5557861328125], \"xaxis\": \"x\", \"y\": [0.9555555555555556, 1.0, 1.0, 1.0], \"yaxis\": \"y\"}, {\"hoverinfo\": \"text\", \"marker\": {\"color\": \"rgb(0,116,217)\"}, \"mode\": \"lines\", \"text\": [null, null, null, null], \"type\": \"scatter\", \"uid\": \"aaaab86d-23cf-4fbd-bafe-f0c283d58672\", \"x\": [1270.0, 1270.0, 1409.1372680664062, 1409.1372680664062], \"xaxis\": \"x\", \"y\": [0.7333333333333333, 1.0, 1.0, 1.0], \"yaxis\": \"y\"}, {\"hoverinfo\": \"text\", \"marker\": {\"color\": \"rgb(0,116,217)\"}, \"mode\": \"lines\", \"text\": [null, null, null, null], \"type\": \"scatter\", \"uid\": \"893dde72-f919-4f0b-b64f-00a2a8be2786\", \"x\": [1020.869140625, 1020.869140625, 1339.5686340332031, 1339.5686340332031], \"xaxis\": \"x\", \"y\": [0.9767441860465116, 1.0, 1.0, 1.0], \"yaxis\": \"y\"}, {\"hoverinfo\": \"text\", \"marker\": {\"color\": \"rgb(0,116,217)\"}, \"mode\": \"lines\", \"text\": [null, null, null, null], \"type\": \"scatter\", \"uid\": \"4a065a8e-5054-4ff0-81fb-606120a30749\", \"x\": [734.912109375, 734.912109375, 1180.2188873291016, 1180.2188873291016], \"xaxis\": \"x\", \"y\": [0.9411764705882353, 1.0, 1.0, 1.0], \"yaxis\": \"y\"}, {\"hoverinfo\": \"text\", \"marker\": {\"color\": \"rgb(0,116,217)\"}, \"mode\": \"lines\", \"text\": [null, null, null, null], \"type\": \"scatter\", \"uid\": \"64dd5645-af8b-4680-b795-f345259bcec4\", \"x\": [619.6875, 619.6875, 957.5654983520508, 957.5654983520508], \"xaxis\": \"x\", \"y\": [0.9636363636363636, 1.0, 1.0, 1.0], \"yaxis\": \"y\"}, {\"hoverinfo\": \"text\", \"marker\": {\"color\": \"rgb(0,116,217)\"}, \"mode\": \"lines\", \"text\": [null, null, null, null], \"type\": \"scatter\", \"uid\": \"03b6bf8a-e9eb-473d-b435-423d718f309f\", \"x\": [521.875, 521.875, 788.6264991760254, 788.6264991760254], \"xaxis\": \"x\", \"y\": [0.971830985915493, 1.0, 1.0, 1.0], \"yaxis\": \"y\"}, {\"hoverinfo\": \"text\", \"marker\": {\"color\": \"rgb(0,116,217)\"}, \"mode\": \"lines\", \"text\": [null, null, null, null], \"type\": \"scatter\", \"uid\": \"fd2602b6-63db-4cc0-8f27-e1974a8827b4\", \"x\": [221.85302734375, 221.85302734375, 655.2507495880127, 655.2507495880127], \"xaxis\": \"x\", \"y\": [0.927710843373494, 1.0, 1.0, 1.0], \"yaxis\": \"y\"}],\n",
       "                        {\"autosize\": false, \"height\": 800, \"hovermode\": \"closest\", \"margin\": {\"b\": 372}, \"showlegend\": false, \"title\": {\"text\": \"Component clusters. method = braycurtis, cutoff = 0.8, threshold = 0.0008\"}, \"width\": 900, \"xaxis\": {\"mirror\": \"allticks\", \"rangemode\": \"tozero\", \"showgrid\": false, \"showline\": true, \"showticklabels\": true, \"tickmode\": \"array\", \"ticks\": \"outside\", \"ticktext\": [\"QE_2017_001816_613.4826_738.0\", \"QE_2017_001816_613.48218_838.0\", \"QE_2017_001816_792.56232_718.0\", \"QE_2017_001814_596.30963_602.0\", \"QE_2017_001815_792.5625_866.0\", \"QE_2017_001815_571.4292_870.0\", \"QE_2017_001814_497.31033_643.0\", \"QE_2017_001815_507.27145_607.0\", \"QE_2017_001816_571.47186_717.0\", \"QE_2017_001814_335.25772_725.0\", \"QE_2017_001814_335.25784_608.0\", \"QE_2017_001816_335.25772_723.0\", \"QE_2017_001814_335.25784_628.0\", \"QE_2017_001815_335.25745_642.0\", \"QE_2017_001814_261.22073_634.0\", \"QE_2017_001815_335.25784_587.0\", \"QE_2017_001814_353.26889_609.0\", \"QE_2017_001815_353.26862_642.0\", \"QE_2017_001815_261.22073_643.0\", \"QE_2017_001814_335.25772_638.0\", \"QE_2017_001815_335.2579_601.0\", \"QE_2017_001816_272.25824_582.0\", \"QE_2017_001814_338.34146_850.0\", \"QE_2017_001815_244.19048_762.0\", \"QE_2017_001814_353.26868_633.0\", \"QE_2017_001816_353.26892_600.0\", \"QE_2017_001814_279.23157_719.0\", \"QE_2017_001815_278.24762_684.0\", \"QE_2017_001816_435.25037_666.0\", \"QE_2017_001816_337.27338_826.0\", \"QE_2017_001816_337.27341_632.0\", \"QE_2017_001814_618.42633_695.0\", \"QE_2017_001816_583.41382_731.0\", \"QE_2017_001816_599.40948_660.0\", \"QE_2017_001814_601.42426_706.0\", \"QE_2017_001816_599.40869_793.0\", \"QE_2017_001815_618.42773_646.0\", \"QE_2017_001816_618.427_682.0\", \"QE_2017_001815_568.42627_841.0\", \"QE_2017_001814_565.4035_722.0\", \"QE_2017_001814_583.41406_682.0\", \"QE_2017_001815_583.41406_707.0\", \"QE_2017_001814_601.42334_783.0\", \"QE_2017_001815_583.41388_735.0\", \"QE_2017_001815_583.41418_647.0\", \"QE_2017_001814_194.04424_237.0\", \"QE_2017_001815_194.11751_218.0\", \"QE_2017_001815_194.04469_299.0\", \"QE_2017_001815_194.04471_314.0\", \"QE_2017_001815_212.05513_328.0\", \"QE_2017_001815_212.05505_267.0\", \"QE_2017_001814_226.07077_397.0\", \"QE_2017_001815_194.04471_397.0\", \"QE_2017_001816_533.15442_247.0\", \"QE_2017_001816_533.15466_222.0\", \"QE_2017_001815_533.1546_207.0\", \"QE_2017_001816_533.1546_271.0\", \"QE_2017_001814_347.09097_122.0\", \"QE_2017_001815_347.09067_204.0\", \"QE_2017_001815_268.10373_58.0\", \"QE_2017_001816_269.16055_60.0\", \"QE_2017_001815_364.34189_705.0\", \"QE_2017_001816_408.36832_704.0\", \"QE_2017_001816_466.40979_731.0\", \"QE_2017_001815_408.36853_717.0\", \"QE_2017_001815_482.40488_739.0\", \"QE_2017_001814_364.34244_761.0\", \"QE_2017_001815_364.34253_752.0\", \"QE_2017_001816_421.35226_731.0\", \"QE_2017_001816_424.36325_712.0\", \"QE_2017_001816_463.12311_410.0\", \"QE_2017_001814_611.15997_285.0\", \"QE_2017_001815_611.16046_309.0\", \"QE_2017_001814_339.10742_366.0\", \"QE_2017_001816_339.10733_298.0\", \"QE_2017_001814_498.2543_475.0\", \"QE_2017_001815_340.16019_314.0\", \"QE_2017_001815_231.04973_403.0\", \"QE_2017_001815_231.04968_315.0\", \"QE_2017_001814_231.04971_516.0\", \"QE_2017_001815_231.04971_369.0\", \"QE_2017_001815_314.14453_76.0\", \"QE_2017_001816_314.14462_79.0\", \"QE_2017_001816_310.14957_134.0\", \"QE_2017_001816_342.17584_257.0\", \"QE_2017_001814_241.15466_73.0\", \"QE_2017_001815_507.18192_178.0\", \"QE_2017_001814_483.27118_651.0\", \"QE_2017_001816_338.26062_643.0\", \"QE_2017_001814_320.29456_577.0\", \"QE_2017_001815_320.29471_563.0\", \"QE_2017_001815_129.12741_349.0\", \"QE_2017_001815_171.14914_420.0\", \"QE_2017_001815_201.16367_442.0\", \"QE_2017_001816_201.16362_435.0\", \"QE_2017_001815_209.15352_479.0\", \"QE_2017_001815_209.15349_295.0\", \"QE_2017_001815_209.1535_312.0\", \"QE_2017_001816_209.15344_311.0\", \"QE_2017_001814_243.15892_533.0\", \"QE_2017_001814_281.1745_492.0\", \"QE_2017_001814_293.2106_579.0\", \"QE_2017_001815_227.16408_344.0\", \"QE_2017_001815_283.19009_564.0\", \"QE_2017_001815_207.13785_297.0\", \"QE_2017_001814_227.1275_293.0\", \"QE_2017_001816_227.12766_295.0\", \"QE_2017_001815_181.1221_767.0\", \"QE_2017_001816_181.12199_794.0\", \"QE_2017_001816_211.16916_405.0\", \"QE_2017_001815_209.0807_405.0\", \"QE_2017_001814_211.16902_440.0\", \"QE_2017_001815_211.16913_450.0\", \"QE_2017_001815_215.164_550.0\", \"QE_2017_001816_215.16411_482.0\", \"QE_2017_001816_137.09584_445.0\", \"QE_2017_001814_219.17416_517.0\", \"QE_2017_001815_219.17421_516.0\", \"QE_2017_001816_219.17438_502.0\", \"QE_2017_001814_219.17401_452.0\", \"QE_2017_001814_219.17409_442.0\", \"QE_2017_001814_191.14291_389.0\", \"QE_2017_001815_191.14287_312.0\", \"QE_2017_001816_191.14291_404.0\", \"QE_2017_001814_209.08058_363.0\", \"QE_2017_001816_207.13779_561.0\", \"QE_2017_001815_333.15173_245.0\", \"QE_2017_001816_333.15204_235.0\", \"QE_2017_001814_194.1174_244.0\", \"QE_2017_001816_194.11746_133.0\", \"QE_2017_001816_320.29483_548.0\", \"QE_2017_001814_320.29468_638.0\", \"QE_2017_001814_320.29477_539.0\", \"QE_2017_001814_320.29471_529.0\", \"QE_2017_001815_320.29486_538.0\", \"QE_2017_001814_241.15384_47.0\", \"QE_2017_001814_241.15446_57.0\", \"QE_2017_001814_332.25827_467.0\", \"QE_2017_001815_332.25827_508.0\", \"QE_2017_001816_332.25842_487.0\", \"QE_2017_001814_319.13638_117.0\", \"QE_2017_001816_319.13614_143.0\", \"QE_2017_001814_251.09117_393.0\", \"QE_2017_001815_219.10159_438.0\", \"QE_2017_001815_219.10139_360.0\", \"QE_2017_001816_219.10153_382.0\", \"QE_2017_001814_291.1442_241.0\", \"QE_2017_001816_291.14493_243.0\", \"QE_2017_001816_291.14499_200.0\", \"QE_2017_001815_273.13425_199.0\", \"QE_2017_001815_273.13434_243.0\", \"QE_2017_001815_251.13873_202.0\", \"QE_2017_001815_235.14398_226.0\", \"QE_2017_001816_235.14397_183.0\", \"QE_2017_001815_214.51021_60.0\", \"QE_2017_001816_268.59351_445.0\", \"QE_2017_001814_250.10149_516.0\", \"QE_2017_001815_222.07033_315.0\", \"QE_2017_001814_247.05975_245.0\", \"QE_2017_001815_247.0598_242.0\", \"QE_2017_001816_219.04672_291.0\", \"QE_2017_001815_212.03883_181.0\", \"QE_2017_001815_214.56488_409.0\", \"QE_2017_001815_260.16016_64.0\", \"QE_2017_001816_132.04436_283.0\", \"QE_2017_001815_246.14465_137.0\", \"QE_2017_001815_247.12865_158.0\", \"QE_2017_001814_260.16037_143.0\", \"QE_2017_001816_260.16022_145.0\", \"QE_2017_001814_233.14957_152.0\", \"QE_2017_001814_233.14948_126.0\", \"QE_2017_001816_233.14955_129.0\", \"QE_2017_001815_221.12837_99.0\", \"QE_2017_001816_237.12325_171.0\", \"QE_2017_001814_237.12305_220.0\", \"QE_2017_001816_237.12323_53.0\", \"QE_2017_001816_229.15469_52.0\", \"QE_2017_001814_229.15399_46.0\", \"QE_2017_001816_229.15451_66.0\", \"QE_2017_001814_182.08116_51.0\", \"QE_2017_001816_182.08116_55.0\", \"QE_2017_001815_194.04474_330.0\", \"QE_2017_001816_212.05518_300.0\", \"QE_2017_001816_177.05449_217.0\", \"QE_2017_001814_177.05418_236.0\", \"QE_2017_001815_177.05444_307.0\", \"QE_2017_001816_199.98769_294.0\", \"QE_2017_001816_199.98776_304.0\", \"QE_2017_001814_199.98778_290.0\", \"QE_2017_001815_199.98779_30.0\", \"QE_2017_001815_199.98772_326.0\", \"QE_2017_001816_199.98781_313.0\", \"QE_2017_001816_199.98772_359.0\", \"QE_2017_001816_199.98776_254.0\", \"QE_2017_001816_199.98779_335.0\", \"QE_2017_001815_797.51746_866.0\", \"QE_2017_001815_595.16559_315.0\", \"QE_2017_001815_463.12268_358.0\", \"QE_2017_001815_625.17633_345.0\", \"QE_2017_001815_141.0508_33.0\", \"QE_2017_001815_265.01532_33.0\"], \"tickvals\": [5.0, 15.0, 25.0, 35.0, 45.0, 55.0, 65.0, 75.0, 85.0, 95.0, 105.0, 115.0, 125.0, 135.0, 145.0, 155.0, 165.0, 175.0, 185.0, 195.0, 205.0, 215.0, 225.0, 235.0, 245.0, 255.0, 265.0, 275.0, 285.0, 295.0, 305.0, 315.0, 325.0, 335.0, 345.0, 355.0, 365.0, 375.0, 385.0, 395.0, 405.0, 415.0, 425.0, 435.0, 445.0, 455.0, 465.0, 475.0, 485.0, 495.0, 505.0, 515.0, 525.0, 535.0, 545.0, 555.0, 565.0, 575.0, 585.0, 595.0, 605.0, 615.0, 625.0, 635.0, 645.0, 655.0, 665.0, 675.0, 685.0, 695.0, 705.0, 715.0, 725.0, 735.0, 745.0, 755.0, 765.0, 775.0, 785.0, 795.0, 805.0, 815.0, 825.0, 835.0, 845.0, 855.0, 865.0, 875.0, 885.0, 895.0, 905.0, 915.0, 925.0, 935.0, 945.0, 955.0, 965.0, 975.0, 985.0, 995.0, 1005.0, 1015.0, 1025.0, 1035.0, 1045.0, 1055.0, 1065.0, 1075.0, 1085.0, 1095.0, 1105.0, 1115.0, 1125.0, 1135.0, 1145.0, 1155.0, 1165.0, 1175.0, 1185.0, 1195.0, 1205.0, 1215.0, 1225.0, 1235.0, 1245.0, 1255.0, 1265.0, 1275.0, 1285.0, 1295.0, 1305.0, 1315.0, 1325.0, 1335.0, 1345.0, 1355.0, 1365.0, 1375.0, 1385.0, 1395.0, 1405.0, 1415.0, 1425.0, 1435.0, 1445.0, 1455.0, 1465.0, 1475.0, 1485.0, 1495.0, 1505.0, 1515.0, 1525.0, 1535.0, 1545.0, 1555.0, 1565.0, 1575.0, 1585.0, 1595.0, 1605.0, 1615.0, 1625.0, 1635.0, 1645.0, 1655.0, 1665.0, 1675.0, 1685.0, 1695.0, 1705.0, 1715.0, 1725.0, 1735.0, 1745.0, 1755.0, 1765.0, 1775.0, 1785.0, 1795.0, 1805.0, 1815.0, 1825.0, 1835.0, 1845.0, 1855.0, 1865.0, 1875.0, 1885.0, 1895.0, 1905.0, 1915.0, 1925.0, 1935.0, 1945.0, 1955.0, 1965.0, 1975.0, 1985.0, 1995.0, 2005.0], \"title\": {\"text\": \"Components\"}, \"type\": \"linear\", \"zeroline\": false}, \"yaxis\": {\"mirror\": \"allticks\", \"rangemode\": \"tozero\", \"showgrid\": false, \"showline\": true, \"showticklabels\": true, \"ticks\": \"outside\", \"title\": {\"text\": \"Distance\"}, \"type\": \"linear\", \"zeroline\": false}},\n",
       "                        {\"showLink\": false, \"linkText\": \"Export to plot.ly\", \"plotlyServerURL\": \"https://plot.ly\"}\n",
       "                    )\n",
       "                };\n",
       "                });\n",
       "            </script>\n",
       "        </div>"
      ]
     },
     "metadata": {},
     "output_type": "display_data"
    }
   ],
   "source": [
    "# View the new dendrogram cutoff inline\n",
    "\n",
    "plotly.offline.init_notebook_mode(connected=True) # for visualising plot inline\n",
    "iplot = tree.plot(width=900, height=800)\n",
    "plotly.offline.iplot(iplot)"
   ]
  },
  {
   "cell_type": "markdown",
   "metadata": {
    "collapsed": true
   },
   "source": [
    "## Command line API\n",
    "\n",
    "The pipeline can also be run from a bash or bash-like terminal.\n",
    "This is useful if you're not planning on tweaking the parameters much and just want to run the darn thing.\n",
    "\n",
    "For these examples, we're using the ipython magic command `%%bash` to run the commands in bash.\n",
    "You can omit the %%bash bit if you're running straight in the terminal.\n",
    "\n",
    "To get a list of all options available use the `--help` (or `-h`) flag."
   ]
  },
  {
   "cell_type": "code",
   "execution_count": 7,
   "metadata": {},
   "outputs": [
    {
     "name": "stdout",
     "output_type": "stream",
     "text": [
      "usage: BioDendro [-h] [-n] [-c CUTOFF] [-b BIN_THRESHOLD]\n",
      "                 [-d {jaccard,braycurtis}] [-p PROCESSED] [-o OUT_HTML]\n",
      "                 [-r RESULTS_DIR] [-x WIDTH_PX] [-y HEIGHT_PX] [-q] [-s] [-f]\n",
      "                 [-e EPS] [-mz_tol MZ_TOL] [-retention_tol RETENTION_TOL]\n",
      "                 mgf components\n",
      "\n",
      "Run the BioDendro pipeline.\n",
      "\n",
      "positional arguments:\n",
      "  mgf                   MGF input file.\n",
      "  components            Listed components file.\n",
      "\n",
      "optional arguments:\n",
      "  -h, --help            show this help message and exit\n",
      "  -n, --neutral         Apply neutral loss.\n",
      "  -c CUTOFF, --cutoff CUTOFF\n",
      "                        Distance threshold for selecting clusters from tree.\n",
      "  -b BIN_THRESHOLD, --bin-threshold BIN_THRESHOLD\n",
      "                        Threshold for binning m/z values prior to clustering.\n",
      "  -d {jaccard,braycurtis}, --cluster-method {jaccard,braycurtis}\n",
      "                        The distance metric used during tree construction.\n",
      "  -p PROCESSED, --processed PROCESSED\n",
      "                        Path to write preprocessed output to.\n",
      "  -o OUT_HTML, --output OUT_HTML\n",
      "                        Path to write interactive html plot to.\n",
      "  -r RESULTS_DIR, --results-dir RESULTS_DIR\n",
      "                        Directory to write per-cluster plots and table\n",
      "                        to.Default is to use 'results_20180606112200' where\n",
      "                        the number isthe current datetime. WARNING: will\n",
      "                        overwrite contents of existing directories.\n",
      "  -x WIDTH_PX, --width WIDTH_PX\n",
      "                        The width of the dendrogram plot in pixels.\n",
      "  -y HEIGHT_PX, --height HEIGHT_PX\n",
      "                        The height of the dendrogram plot in pixels.\n",
      "  -q, --quiet           Suppress status notifications written to stdout.\n",
      "  -s, --scaling         Flag to scale the m/z intensities values\n",
      "  -f, --filtering       Flag to filter the m/z intensities values\n",
      "  -e EPS, --eps EPS     Intensity threshold for filtering, set value between\n",
      "                        0.0-1.0\n",
      "  -mz_tol MZ_TOL, --mz_tol MZ_TOL\n",
      "                        Mass tolerance to remove redundancy, default is 0.002\n",
      "  -retention_tol RETENTION_TOL, --retention_tol RETENTION_TOL\n",
      "                        Retention time tolerance to remove redundancy, default\n",
      "                        is 5 secs\n"
     ]
    }
   ],
   "source": [
    "%%bash\n",
    "BioDendro --help"
   ]
  },
  {
   "cell_type": "markdown",
   "metadata": {},
   "source": [
    "The minimum options to run the pipeline are the MGF file and a components list.\n",
    "\n",
    "Using the example data in the BioDendro repo we could run..."
   ]
  },
  {
   "cell_type": "code",
   "execution_count": 8,
   "metadata": {},
   "outputs": [
    {
     "name": "stdout",
     "output_type": "stream",
     "text": [
      "Running BioDendro v0.0.1\n",
      "\n",
      "- input mgf file = MSMS.mgf\n",
      "- input components file = component_list.txt\n",
      "- neutral = False\n",
      "- cutoff = 0.6\n",
      "- bin_threshold = 0.0008\n",
      "- clustering_method = jaccard\n",
      "- output processed file = results_20190417165621/processed.xlsx\n",
      "- output results directory = results_20190417165621\n",
      "- output html dendrogram = results_20190417165621/simple_dendrogram.html\n",
      "- dendrogram figure width = 900\n",
      "- dendrogram figure height = 800\n",
      "- scaling = False\n",
      "- filtering = False\n",
      "- eps = 0.6\n",
      "- mz_tolerance = 0.002\n",
      "- retention_tolerance = 5\n",
      "\n",
      "\n",
      "Processing inputs\n",
      "Binning and clustering\n",
      "This may take some time...\n",
      "Writing per-cluster summaries\n",
      "Writing output html dendrogram\n",
      "Finished\n"
     ]
    }
   ],
   "source": [
    "%%bash\n",
    "\n",
    "BioDendro MSMS.mgf component_list.txt"
   ]
  },
  {
   "cell_type": "markdown",
   "metadata": {},
   "source": [
    "As before, the results will be stored in a directory with the current date and the current time added to the end of it.\n",
    "\n",
    "You can change the parameters to use by supplying additional flags, however, this will run the whole pipeline again, so it you just need to adjust the cutoff or decide to use braycurtis instead of jaccard distances, you might be better off using the python API."
   ]
  },
  {
   "cell_type": "code",
   "execution_count": 9,
   "metadata": {},
   "outputs": [
    {
     "name": "stdout",
     "output_type": "stream",
     "text": [
      "Running BioDendro v0.0.1\n",
      "\n",
      "- input mgf file = MSMS.mgf\n",
      "- input components file = component_list.txt\n",
      "- neutral = False\n",
      "- cutoff = 0.5\n",
      "- bin_threshold = 0.0008\n",
      "- clustering_method = braycurtis\n",
      "- output processed file = results_20190417165736/processed.xlsx\n",
      "- output results directory = results_20190417165736\n",
      "- output html dendrogram = results_20190417165736/simple_dendrogram.html\n",
      "- dendrogram figure width = 900\n",
      "- dendrogram figure height = 800\n",
      "- scaling = True\n",
      "- filtering = False\n",
      "- eps = 0.6\n",
      "- mz_tolerance = 0.002\n",
      "- retention_tolerance = 5\n",
      "\n",
      "\n",
      "Processing inputs\n",
      "Binning and clustering\n",
      "This may take some time...\n",
      "Writing per-cluster summaries\n",
      "Writing output html dendrogram\n",
      "Finished\n"
     ]
    }
   ],
   "source": [
    "%%bash\n",
    "\n",
    "BioDendro --scaling --cluster-method braycurtis --cutoff 0.5 MSMS.mgf component_list.txt"
   ]
  },
  {
   "cell_type": "markdown",
   "metadata": {},
   "source": [
    "would be equivalent to running the following in python"
   ]
  },
  {
   "cell_type": "code",
   "execution_count": 10,
   "metadata": {},
   "outputs": [
    {
     "name": "stdout",
     "output_type": "stream",
     "text": [
      "Running BioDendro v0.0.1\n",
      "\n",
      "- input mgf file = MSMS.mgf\n",
      "- input components file = component_list.txt\n",
      "- neutral = False\n",
      "- cutoff = 0.5\n",
      "- bin_threshold = 0.0008\n",
      "- clustering_method = braycurtis\n",
      "- output processed file = results_20190417165856/processed.xlsx\n",
      "- output results directory = results_20190417165856\n",
      "- output html dendrogram = results_20190417165856/simple_dendrogram.html\n",
      "- dendrogram figure width = 900\n",
      "- dendrogram figure height = 800\n",
      "- scaling = True\n",
      "- filtering = False\n",
      "- eps = 0.6\n",
      "- mz_tolerance = 0.002\n",
      "- retention_tolerance = 5\n",
      "\n",
      "\n",
      "Processing inputs\n",
      "Binning and clustering\n",
      "This may take some time...\n",
      "Writing per-cluster summaries\n",
      "Writing output html dendrogram\n",
      "Finished\n"
     ]
    }
   ],
   "source": [
    "tree = BioDendro.pipeline(\"MSMS.mgf\", \"component_list.txt\", clustering_method=\"braycurtis\", scaling=True, cutoff=0.5)"
   ]
  },
  {
   "cell_type": "code",
   "execution_count": null,
   "metadata": {},
   "outputs": [],
   "source": []
  }
 ],
 "metadata": {
  "kernelspec": {
   "display_name": "Python 3",
   "language": "python",
   "name": "python3"
  },
  "language_info": {
   "codemirror_mode": {
    "name": "ipython",
    "version": 3
   },
   "file_extension": ".py",
   "mimetype": "text/x-python",
   "name": "python",
   "nbconvert_exporter": "python",
   "pygments_lexer": "ipython3",
   "version": "3.7.2"
  }
 },
 "nbformat": 4,
 "nbformat_minor": 2
}
