{
 "cells": [
  {
   "cell_type": "markdown",
   "metadata": {},
   "source": [
    "# BioDendro Quick Start Example"
   ]
  },
  {
   "cell_type": "code",
   "execution_count": 1,
   "metadata": {
    "collapsed": true
   },
   "outputs": [],
   "source": [
    "#Load modules\n",
    "\n",
    "import os\n",
    "import plotly\n",
    "import BioDendro"
   ]
  },
  {
   "cell_type": "code",
   "execution_count": 2,
   "metadata": {},
   "outputs": [
    {
     "name": "stdout",
     "output_type": "stream",
     "text": [
      "Running BioDendro v0.0.1\n",
      "\n",
      "- input mgf file = ./MSMS.mgf\n",
      "- input components file = ./component_list.txt\n",
      "- neutral = False\n",
      "- cutoff = 0.6\n",
      "- bin_threshold = 0.0008\n",
      "- clustering_method = braycurtis\n",
      "- output processed file = processed.xlsx\n",
      "- output results directory = results_20180605130236\n",
      "- output html dendrogram = simple_dendrogram.html\n",
      "- dendrogram figure width = 900\n",
      "- dendrogram figure height = 400\n",
      "\n",
      "\n",
      "Processing inputs\n",
      "Binning and clustering\n",
      "This may take some time...\n",
      "Writing per-cluster summaries\n",
      "Writing output html dendrogram\n",
      "Finished\n"
     ]
    }
   ],
   "source": [
    "# Run the complete BioDendro pipeline\n",
    "\n",
    "tree = BioDendro.pipeline(\"./MSMS.mgf\", \"./component_list.txt\", clustering_method=\"braycurtis\")"
   ]
  },
  {
   "cell_type": "code",
   "execution_count": 3,
   "metadata": {
    "collapsed": true
   },
   "outputs": [],
   "source": [
    "# Re-set a new cutoff for clusters\n",
    "\n",
    "tree.cut_tree(cutoff=0.8)"
   ]
  },
  {
   "cell_type": "code",
   "execution_count": 4,
   "metadata": {},
   "outputs": [
    {
     "data": {
      "text/html": [
       "<script>requirejs.config({paths: { 'plotly': ['https://cdn.plot.ly/plotly-latest.min']},});if(!window.Plotly) {{require(['plotly'],function(plotly) {window.Plotly=plotly;});}}</script>"
      ],
      "text/vnd.plotly.v1+html": [
       "<script>requirejs.config({paths: { 'plotly': ['https://cdn.plot.ly/plotly-latest.min']},});if(!window.Plotly) {{require(['plotly'],function(plotly) {window.Plotly=plotly;});}}</script>"
      ]
     },
     "metadata": {},
     "output_type": "display_data"
    },
    {
     "data": {
      "application/vnd.plotly.v1+json": {
       "data": [
        {
         "hoverinfo": "all",
         "marker": {
          "color": "rgb(61,153,112)"
         },
         "mode": "lines",
         "text": null,
         "type": "scatter",
         "x": [
          5,
          5,
          15,
          15
         ],
         "xaxis": "x",
         "y": [
          0,
          0.4827586206896552,
          0.4827586206896552,
          0
         ],
         "yaxis": "y"
        },
        {
         "hoverinfo": "all",
         "marker": {
          "color": "rgb(61,153,112)"
         },
         "mode": "lines",
         "text": null,
         "type": "scatter",
         "x": [
          25,
          25,
          35,
          35
         ],
         "xaxis": "x",
         "y": [
          0,
          0.20279720279720279,
          0.20279720279720279,
          0
         ],
         "yaxis": "y"
        },
        {
         "hoverinfo": "all",
         "marker": {
          "color": "rgb(61,153,112)"
         },
         "mode": "lines",
         "text": null,
         "type": "scatter",
         "x": [
          65,
          65,
          75,
          75
         ],
         "xaxis": "x",
         "y": [
          0,
          0.1724137931034483,
          0.1724137931034483,
          0
         ],
         "yaxis": "y"
        },
        {
         "hoverinfo": "all",
         "marker": {
          "color": "rgb(61,153,112)"
         },
         "mode": "lines",
         "text": null,
         "type": "scatter",
         "x": [
          55,
          55,
          70,
          70
         ],
         "xaxis": "x",
         "y": [
          0,
          0.2,
          0.2,
          0.1724137931034483
         ],
         "yaxis": "y"
        },
        {
         "hoverinfo": "all",
         "marker": {
          "color": "rgb(61,153,112)"
         },
         "mode": "lines",
         "text": null,
         "type": "scatter",
         "x": [
          45,
          45,
          62.5,
          62.5
         ],
         "xaxis": "x",
         "y": [
          0,
          0.30578512396694213,
          0.30578512396694213,
          0.2
         ],
         "yaxis": "y"
        },
        {
         "hoverinfo": "all",
         "marker": {
          "color": "rgb(61,153,112)"
         },
         "mode": "lines",
         "text": null,
         "type": "scatter",
         "x": [
          85,
          85,
          95,
          95
         ],
         "xaxis": "x",
         "y": [
          0,
          0.0847457627118644,
          0.0847457627118644,
          0
         ],
         "yaxis": "y"
        },
        {
         "hoverinfo": "all",
         "marker": {
          "color": "rgb(61,153,112)"
         },
         "mode": "lines",
         "text": null,
         "type": "scatter",
         "x": [
          105,
          105,
          115,
          115
         ],
         "xaxis": "x",
         "y": [
          0,
          0.13609467455621302,
          0.13609467455621302,
          0
         ],
         "yaxis": "y"
        },
        {
         "hoverinfo": "all",
         "marker": {
          "color": "rgb(61,153,112)"
         },
         "mode": "lines",
         "text": null,
         "type": "scatter",
         "x": [
          90,
          90,
          110,
          110
         ],
         "xaxis": "x",
         "y": [
          0.0847457627118644,
          0.3246753246753247,
          0.3246753246753247,
          0.13609467455621302
         ],
         "yaxis": "y"
        },
        {
         "hoverinfo": "all",
         "marker": {
          "color": "rgb(61,153,112)"
         },
         "mode": "lines",
         "text": null,
         "type": "scatter",
         "x": [
          53.75,
          53.75,
          100,
          100
         ],
         "xaxis": "x",
         "y": [
          0.30578512396694213,
          0.3793103448275862,
          0.3793103448275862,
          0.3246753246753247
         ],
         "yaxis": "y"
        },
        {
         "hoverinfo": "all",
         "marker": {
          "color": "rgb(61,153,112)"
         },
         "mode": "lines",
         "text": null,
         "type": "scatter",
         "x": [
          135,
          135,
          145,
          145
         ],
         "xaxis": "x",
         "y": [
          0,
          0.11731843575418995,
          0.11731843575418995,
          0
         ],
         "yaxis": "y"
        },
        {
         "hoverinfo": "all",
         "marker": {
          "color": "rgb(61,153,112)"
         },
         "mode": "lines",
         "text": null,
         "type": "scatter",
         "x": [
          125,
          125,
          140,
          140
         ],
         "xaxis": "x",
         "y": [
          0,
          0.17045454545454544,
          0.17045454545454544,
          0.11731843575418995
         ],
         "yaxis": "y"
        },
        {
         "hoverinfo": "all",
         "marker": {
          "color": "rgb(61,153,112)"
         },
         "mode": "lines",
         "text": null,
         "type": "scatter",
         "x": [
          155,
          155,
          165,
          165
         ],
         "xaxis": "x",
         "y": [
          0,
          0.20454545454545456,
          0.20454545454545456,
          0
         ],
         "yaxis": "y"
        },
        {
         "hoverinfo": "all",
         "marker": {
          "color": "rgb(61,153,112)"
         },
         "mode": "lines",
         "text": null,
         "type": "scatter",
         "x": [
          132.5,
          132.5,
          160,
          160
         ],
         "xaxis": "x",
         "y": [
          0.17045454545454544,
          0.24022346368715083,
          0.24022346368715083,
          0.20454545454545456
         ],
         "yaxis": "y"
        },
        {
         "hoverinfo": "all",
         "marker": {
          "color": "rgb(61,153,112)"
         },
         "mode": "lines",
         "text": null,
         "type": "scatter",
         "x": [
          175,
          175,
          185,
          185
         ],
         "xaxis": "x",
         "y": [
          0,
          0.27,
          0.27,
          0
         ],
         "yaxis": "y"
        },
        {
         "hoverinfo": "all",
         "marker": {
          "color": "rgb(61,153,112)"
         },
         "mode": "lines",
         "text": null,
         "type": "scatter",
         "x": [
          146.25,
          146.25,
          180,
          180
         ],
         "xaxis": "x",
         "y": [
          0.24022346368715083,
          0.33689839572192515,
          0.33689839572192515,
          0.27
         ],
         "yaxis": "y"
        },
        {
         "hoverinfo": "all",
         "marker": {
          "color": "rgb(61,153,112)"
         },
         "mode": "lines",
         "text": null,
         "type": "scatter",
         "x": [
          215,
          215,
          225,
          225
         ],
         "xaxis": "x",
         "y": [
          0,
          0.1111111111111111,
          0.1111111111111111,
          0
         ],
         "yaxis": "y"
        },
        {
         "hoverinfo": "all",
         "marker": {
          "color": "rgb(61,153,112)"
         },
         "mode": "lines",
         "text": null,
         "type": "scatter",
         "x": [
          205,
          205,
          220,
          220
         ],
         "xaxis": "x",
         "y": [
          0,
          0.14864864864864866,
          0.14864864864864866,
          0.1111111111111111
         ],
         "yaxis": "y"
        },
        {
         "hoverinfo": "all",
         "marker": {
          "color": "rgb(61,153,112)"
         },
         "mode": "lines",
         "text": null,
         "type": "scatter",
         "x": [
          195,
          195,
          212.5,
          212.5
         ],
         "xaxis": "x",
         "y": [
          0,
          0.20588235294117646,
          0.20588235294117646,
          0.14864864864864866
         ],
         "yaxis": "y"
        },
        {
         "hoverinfo": "all",
         "marker": {
          "color": "rgb(61,153,112)"
         },
         "mode": "lines",
         "text": null,
         "type": "scatter",
         "x": [
          255,
          255,
          265,
          265
         ],
         "xaxis": "x",
         "y": [
          0,
          0.06578947368421052,
          0.06578947368421052,
          0
         ],
         "yaxis": "y"
        },
        {
         "hoverinfo": "all",
         "marker": {
          "color": "rgb(61,153,112)"
         },
         "mode": "lines",
         "text": null,
         "type": "scatter",
         "x": [
          245,
          245,
          260,
          260
         ],
         "xaxis": "x",
         "y": [
          0,
          0.0728476821192053,
          0.0728476821192053,
          0.06578947368421052
         ],
         "yaxis": "y"
        },
        {
         "hoverinfo": "all",
         "marker": {
          "color": "rgb(61,153,112)"
         },
         "mode": "lines",
         "text": null,
         "type": "scatter",
         "x": [
          235,
          235,
          252.5,
          252.5
         ],
         "xaxis": "x",
         "y": [
          0,
          0.1125,
          0.1125,
          0.0728476821192053
         ],
         "yaxis": "y"
        },
        {
         "hoverinfo": "all",
         "marker": {
          "color": "rgb(61,153,112)"
         },
         "mode": "lines",
         "text": null,
         "type": "scatter",
         "x": [
          275,
          275,
          285,
          285
         ],
         "xaxis": "x",
         "y": [
          0,
          0.20930232558139536,
          0.20930232558139536,
          0
         ],
         "yaxis": "y"
        },
        {
         "hoverinfo": "all",
         "marker": {
          "color": "rgb(61,153,112)"
         },
         "mode": "lines",
         "text": null,
         "type": "scatter",
         "x": [
          243.75,
          243.75,
          280,
          280
         ],
         "xaxis": "x",
         "y": [
          0.1125,
          0.2484076433121019,
          0.2484076433121019,
          0.20930232558139536
         ],
         "yaxis": "y"
        },
        {
         "hoverinfo": "all",
         "marker": {
          "color": "rgb(61,153,112)"
         },
         "mode": "lines",
         "text": null,
         "type": "scatter",
         "x": [
          305,
          305,
          315,
          315
         ],
         "xaxis": "x",
         "y": [
          0,
          0.14285714285714285,
          0.14285714285714285,
          0
         ],
         "yaxis": "y"
        },
        {
         "hoverinfo": "all",
         "marker": {
          "color": "rgb(61,153,112)"
         },
         "mode": "lines",
         "text": null,
         "type": "scatter",
         "x": [
          295,
          295,
          310,
          310
         ],
         "xaxis": "x",
         "y": [
          0,
          0.2875,
          0.2875,
          0.14285714285714285
         ],
         "yaxis": "y"
        },
        {
         "hoverinfo": "all",
         "marker": {
          "color": "rgb(61,153,112)"
         },
         "mode": "lines",
         "text": null,
         "type": "scatter",
         "x": [
          261.875,
          261.875,
          302.5,
          302.5
         ],
         "xaxis": "x",
         "y": [
          0.2484076433121019,
          0.3383458646616541,
          0.3383458646616541,
          0.2875
         ],
         "yaxis": "y"
        },
        {
         "hoverinfo": "all",
         "marker": {
          "color": "rgb(61,153,112)"
         },
         "mode": "lines",
         "text": null,
         "type": "scatter",
         "x": [
          203.75,
          203.75,
          282.1875,
          282.1875
         ],
         "xaxis": "x",
         "y": [
          0.20588235294117646,
          0.34285714285714286,
          0.34285714285714286,
          0.3383458646616541
         ],
         "yaxis": "y"
        },
        {
         "hoverinfo": "all",
         "marker": {
          "color": "rgb(61,153,112)"
         },
         "mode": "lines",
         "text": null,
         "type": "scatter",
         "x": [
          163.125,
          163.125,
          242.96875,
          242.96875
         ],
         "xaxis": "x",
         "y": [
          0.33689839572192515,
          0.38562091503267976,
          0.38562091503267976,
          0.34285714285714286
         ],
         "yaxis": "y"
        },
        {
         "hoverinfo": "all",
         "marker": {
          "color": "rgb(61,153,112)"
         },
         "mode": "lines",
         "text": null,
         "type": "scatter",
         "x": [
          76.875,
          76.875,
          203.046875,
          203.046875
         ],
         "xaxis": "x",
         "y": [
          0.3793103448275862,
          0.44516129032258067,
          0.44516129032258067,
          0.38562091503267976
         ],
         "yaxis": "y"
        },
        {
         "hoverinfo": "all",
         "marker": {
          "color": "rgb(61,153,112)"
         },
         "mode": "lines",
         "text": null,
         "type": "scatter",
         "x": [
          30,
          30,
          139.9609375,
          139.9609375
         ],
         "xaxis": "x",
         "y": [
          0.20279720279720279,
          0.5,
          0.5,
          0.44516129032258067
         ],
         "yaxis": "y"
        },
        {
         "hoverinfo": "all",
         "marker": {
          "color": "rgb(61,153,112)"
         },
         "mode": "lines",
         "text": null,
         "type": "scatter",
         "x": [
          10,
          10,
          84.98046875,
          84.98046875
         ],
         "xaxis": "x",
         "y": [
          0.4827586206896552,
          0.5789473684210527,
          0.5789473684210527,
          0.5
         ],
         "yaxis": "y"
        },
        {
         "hoverinfo": "all",
         "marker": {
          "color": "rgb(61,153,112)"
         },
         "mode": "lines",
         "text": null,
         "type": "scatter",
         "x": [
          335,
          335,
          345,
          345
         ],
         "xaxis": "x",
         "y": [
          0,
          0.15270935960591134,
          0.15270935960591134,
          0
         ],
         "yaxis": "y"
        },
        {
         "hoverinfo": "all",
         "marker": {
          "color": "rgb(61,153,112)"
         },
         "mode": "lines",
         "text": null,
         "type": "scatter",
         "x": [
          325,
          325,
          340,
          340
         ],
         "xaxis": "x",
         "y": [
          0,
          0.308411214953271,
          0.308411214953271,
          0.15270935960591134
         ],
         "yaxis": "y"
        },
        {
         "hoverinfo": "all",
         "marker": {
          "color": "rgb(61,153,112)"
         },
         "mode": "lines",
         "text": null,
         "type": "scatter",
         "x": [
          365,
          365,
          375,
          375
         ],
         "xaxis": "x",
         "y": [
          0,
          0.075,
          0.075,
          0
         ],
         "yaxis": "y"
        },
        {
         "hoverinfo": "all",
         "marker": {
          "color": "rgb(61,153,112)"
         },
         "mode": "lines",
         "text": null,
         "type": "scatter",
         "x": [
          395,
          395,
          405,
          405
         ],
         "xaxis": "x",
         "y": [
          0,
          0.15714285714285714,
          0.15714285714285714,
          0
         ],
         "yaxis": "y"
        },
        {
         "hoverinfo": "all",
         "marker": {
          "color": "rgb(61,153,112)"
         },
         "mode": "lines",
         "text": null,
         "type": "scatter",
         "x": [
          385,
          385,
          400,
          400
         ],
         "xaxis": "x",
         "y": [
          0,
          0.1836734693877551,
          0.1836734693877551,
          0.15714285714285714
         ],
         "yaxis": "y"
        },
        {
         "hoverinfo": "all",
         "marker": {
          "color": "rgb(61,153,112)"
         },
         "mode": "lines",
         "text": null,
         "type": "scatter",
         "x": [
          370,
          370,
          392.5,
          392.5
         ],
         "xaxis": "x",
         "y": [
          0.075,
          0.25161290322580643,
          0.25161290322580643,
          0.1836734693877551
         ],
         "yaxis": "y"
        },
        {
         "hoverinfo": "all",
         "marker": {
          "color": "rgb(61,153,112)"
         },
         "mode": "lines",
         "text": null,
         "type": "scatter",
         "x": [
          425,
          425,
          435,
          435
         ],
         "xaxis": "x",
         "y": [
          0,
          0.08860759493670886,
          0.08860759493670886,
          0
         ],
         "yaxis": "y"
        },
        {
         "hoverinfo": "all",
         "marker": {
          "color": "rgb(61,153,112)"
         },
         "mode": "lines",
         "text": null,
         "type": "scatter",
         "x": [
          445,
          445,
          455,
          455
         ],
         "xaxis": "x",
         "y": [
          0,
          0.10714285714285714,
          0.10714285714285714,
          0
         ],
         "yaxis": "y"
        },
        {
         "hoverinfo": "all",
         "marker": {
          "color": "rgb(61,153,112)"
         },
         "mode": "lines",
         "text": null,
         "type": "scatter",
         "x": [
          430,
          430,
          450,
          450
         ],
         "xaxis": "x",
         "y": [
          0.08860759493670886,
          0.17647058823529413,
          0.17647058823529413,
          0.10714285714285714
         ],
         "yaxis": "y"
        },
        {
         "hoverinfo": "all",
         "marker": {
          "color": "rgb(61,153,112)"
         },
         "mode": "lines",
         "text": null,
         "type": "scatter",
         "x": [
          475,
          475,
          485,
          485
         ],
         "xaxis": "x",
         "y": [
          0,
          0.03225806451612903,
          0.03225806451612903,
          0
         ],
         "yaxis": "y"
        },
        {
         "hoverinfo": "all",
         "marker": {
          "color": "rgb(61,153,112)"
         },
         "mode": "lines",
         "text": null,
         "type": "scatter",
         "x": [
          465,
          465,
          480,
          480
         ],
         "xaxis": "x",
         "y": [
          0,
          0.18238993710691823,
          0.18238993710691823,
          0.03225806451612903
         ],
         "yaxis": "y"
        },
        {
         "hoverinfo": "all",
         "marker": {
          "color": "rgb(61,153,112)"
         },
         "mode": "lines",
         "text": null,
         "type": "scatter",
         "x": [
          440,
          440,
          472.5,
          472.5
         ],
         "xaxis": "x",
         "y": [
          0.17647058823529413,
          0.26627218934911245,
          0.26627218934911245,
          0.18238993710691823
         ],
         "yaxis": "y"
        },
        {
         "hoverinfo": "all",
         "marker": {
          "color": "rgb(61,153,112)"
         },
         "mode": "lines",
         "text": null,
         "type": "scatter",
         "x": [
          415,
          415,
          456.25,
          456.25
         ],
         "xaxis": "x",
         "y": [
          0,
          0.27710843373493976,
          0.27710843373493976,
          0.26627218934911245
         ],
         "yaxis": "y"
        },
        {
         "hoverinfo": "all",
         "marker": {
          "color": "rgb(61,153,112)"
         },
         "mode": "lines",
         "text": null,
         "type": "scatter",
         "x": [
          495,
          495,
          505,
          505
         ],
         "xaxis": "x",
         "y": [
          0,
          0.0975609756097561,
          0.0975609756097561,
          0
         ],
         "yaxis": "y"
        },
        {
         "hoverinfo": "all",
         "marker": {
          "color": "rgb(61,153,112)"
         },
         "mode": "lines",
         "text": null,
         "type": "scatter",
         "x": [
          515,
          515,
          525,
          525
         ],
         "xaxis": "x",
         "y": [
          0,
          0.04938271604938271,
          0.04938271604938271,
          0
         ],
         "yaxis": "y"
        },
        {
         "hoverinfo": "all",
         "marker": {
          "color": "rgb(61,153,112)"
         },
         "mode": "lines",
         "text": null,
         "type": "scatter",
         "x": [
          545,
          545,
          555,
          555
         ],
         "xaxis": "x",
         "y": [
          0,
          0.033112582781456956,
          0.033112582781456956,
          0
         ],
         "yaxis": "y"
        },
        {
         "hoverinfo": "all",
         "marker": {
          "color": "rgb(61,153,112)"
         },
         "mode": "lines",
         "text": null,
         "type": "scatter",
         "x": [
          535,
          535,
          550,
          550
         ],
         "xaxis": "x",
         "y": [
          0,
          0.0641025641025641,
          0.0641025641025641,
          0.033112582781456956
         ],
         "yaxis": "y"
        },
        {
         "hoverinfo": "all",
         "marker": {
          "color": "rgb(61,153,112)"
         },
         "mode": "lines",
         "text": null,
         "type": "scatter",
         "x": [
          520,
          520,
          542.5,
          542.5
         ],
         "xaxis": "x",
         "y": [
          0.04938271604938271,
          0.2125,
          0.2125,
          0.0641025641025641
         ],
         "yaxis": "y"
        },
        {
         "hoverinfo": "all",
         "marker": {
          "color": "rgb(61,153,112)"
         },
         "mode": "lines",
         "text": null,
         "type": "scatter",
         "x": [
          500,
          500,
          531.25,
          531.25
         ],
         "xaxis": "x",
         "y": [
          0.0975609756097561,
          0.2891566265060241,
          0.2891566265060241,
          0.2125
         ],
         "yaxis": "y"
        },
        {
         "hoverinfo": "all",
         "marker": {
          "color": "rgb(61,153,112)"
         },
         "mode": "lines",
         "text": null,
         "type": "scatter",
         "x": [
          435.625,
          435.625,
          515.625,
          515.625
         ],
         "xaxis": "x",
         "y": [
          0.27710843373493976,
          0.3372093023255814,
          0.3372093023255814,
          0.2891566265060241
         ],
         "yaxis": "y"
        },
        {
         "hoverinfo": "all",
         "marker": {
          "color": "rgb(61,153,112)"
         },
         "mode": "lines",
         "text": null,
         "type": "scatter",
         "x": [
          381.25,
          381.25,
          475.625,
          475.625
         ],
         "xaxis": "x",
         "y": [
          0.25161290322580643,
          0.36904761904761907,
          0.36904761904761907,
          0.3372093023255814
         ],
         "yaxis": "y"
        },
        {
         "hoverinfo": "all",
         "marker": {
          "color": "rgb(61,153,112)"
         },
         "mode": "lines",
         "text": null,
         "type": "scatter",
         "x": [
          355,
          355,
          428.4375,
          428.4375
         ],
         "xaxis": "x",
         "y": [
          0,
          0.3879781420765027,
          0.3879781420765027,
          0.36904761904761907
         ],
         "yaxis": "y"
        },
        {
         "hoverinfo": "all",
         "marker": {
          "color": "rgb(61,153,112)"
         },
         "mode": "lines",
         "text": null,
         "type": "scatter",
         "x": [
          565,
          565,
          575,
          575
         ],
         "xaxis": "x",
         "y": [
          0,
          0.08016877637130802,
          0.08016877637130802,
          0
         ],
         "yaxis": "y"
        },
        {
         "hoverinfo": "all",
         "marker": {
          "color": "rgb(61,153,112)"
         },
         "mode": "lines",
         "text": null,
         "type": "scatter",
         "x": [
          595,
          595,
          605,
          605
         ],
         "xaxis": "x",
         "y": [
          0,
          0.06806282722513089,
          0.06806282722513089,
          0
         ],
         "yaxis": "y"
        },
        {
         "hoverinfo": "all",
         "marker": {
          "color": "rgb(61,153,112)"
         },
         "mode": "lines",
         "text": null,
         "type": "scatter",
         "x": [
          625,
          625,
          635,
          635
         ],
         "xaxis": "x",
         "y": [
          0,
          0.1111111111111111,
          0.1111111111111111,
          0
         ],
         "yaxis": "y"
        },
        {
         "hoverinfo": "all",
         "marker": {
          "color": "rgb(61,153,112)"
         },
         "mode": "lines",
         "text": null,
         "type": "scatter",
         "x": [
          615,
          615,
          630,
          630
         ],
         "xaxis": "x",
         "y": [
          0,
          0.12280701754385964,
          0.12280701754385964,
          0.1111111111111111
         ],
         "yaxis": "y"
        },
        {
         "hoverinfo": "all",
         "marker": {
          "color": "rgb(61,153,112)"
         },
         "mode": "lines",
         "text": null,
         "type": "scatter",
         "x": [
          600,
          600,
          622.5,
          622.5
         ],
         "xaxis": "x",
         "y": [
          0.06806282722513089,
          0.14606741573033707,
          0.14606741573033707,
          0.12280701754385964
         ],
         "yaxis": "y"
        },
        {
         "hoverinfo": "all",
         "marker": {
          "color": "rgb(61,153,112)"
         },
         "mode": "lines",
         "text": null,
         "type": "scatter",
         "x": [
          585,
          585,
          611.25,
          611.25
         ],
         "xaxis": "x",
         "y": [
          0,
          0.2205128205128205,
          0.2205128205128205,
          0.14606741573033707
         ],
         "yaxis": "y"
        },
        {
         "hoverinfo": "all",
         "marker": {
          "color": "rgb(61,153,112)"
         },
         "mode": "lines",
         "text": null,
         "type": "scatter",
         "x": [
          570,
          570,
          598.125,
          598.125
         ],
         "xaxis": "x",
         "y": [
          0.08016877637130802,
          0.3059360730593607,
          0.3059360730593607,
          0.2205128205128205
         ],
         "yaxis": "y"
        },
        {
         "hoverinfo": "all",
         "marker": {
          "color": "rgb(61,153,112)"
         },
         "mode": "lines",
         "text": null,
         "type": "scatter",
         "x": [
          685,
          685,
          695,
          695
         ],
         "xaxis": "x",
         "y": [
          0,
          0.043010752688172046,
          0.043010752688172046,
          0
         ],
         "yaxis": "y"
        },
        {
         "hoverinfo": "all",
         "marker": {
          "color": "rgb(61,153,112)"
         },
         "mode": "lines",
         "text": null,
         "type": "scatter",
         "x": [
          675,
          675,
          690,
          690
         ],
         "xaxis": "x",
         "y": [
          0,
          0.05263157894736842,
          0.05263157894736842,
          0.043010752688172046
         ],
         "yaxis": "y"
        },
        {
         "hoverinfo": "all",
         "marker": {
          "color": "rgb(61,153,112)"
         },
         "mode": "lines",
         "text": null,
         "type": "scatter",
         "x": [
          665,
          665,
          682.5,
          682.5
         ],
         "xaxis": "x",
         "y": [
          0,
          0.0582010582010582,
          0.0582010582010582,
          0.05263157894736842
         ],
         "yaxis": "y"
        },
        {
         "hoverinfo": "all",
         "marker": {
          "color": "rgb(61,153,112)"
         },
         "mode": "lines",
         "text": null,
         "type": "scatter",
         "x": [
          655,
          655,
          673.75,
          673.75
         ],
         "xaxis": "x",
         "y": [
          0,
          0.06806282722513089,
          0.06806282722513089,
          0.0582010582010582
         ],
         "yaxis": "y"
        },
        {
         "hoverinfo": "all",
         "marker": {
          "color": "rgb(61,153,112)"
         },
         "mode": "lines",
         "text": null,
         "type": "scatter",
         "x": [
          725,
          725,
          735,
          735
         ],
         "xaxis": "x",
         "y": [
          0,
          0.030303030303030304,
          0.030303030303030304,
          0
         ],
         "yaxis": "y"
        },
        {
         "hoverinfo": "all",
         "marker": {
          "color": "rgb(61,153,112)"
         },
         "mode": "lines",
         "text": null,
         "type": "scatter",
         "x": [
          715,
          715,
          730,
          730
         ],
         "xaxis": "x",
         "y": [
          0,
          0.05583756345177665,
          0.05583756345177665,
          0.030303030303030304
         ],
         "yaxis": "y"
        },
        {
         "hoverinfo": "all",
         "marker": {
          "color": "rgb(61,153,112)"
         },
         "mode": "lines",
         "text": null,
         "type": "scatter",
         "x": [
          705,
          705,
          722.5,
          722.5
         ],
         "xaxis": "x",
         "y": [
          0,
          0.07,
          0.07,
          0.05583756345177665
         ],
         "yaxis": "y"
        },
        {
         "hoverinfo": "all",
         "marker": {
          "color": "rgb(61,153,112)"
         },
         "mode": "lines",
         "text": null,
         "type": "scatter",
         "x": [
          664.375,
          664.375,
          713.75,
          713.75
         ],
         "xaxis": "x",
         "y": [
          0.06806282722513089,
          0.08,
          0.08,
          0.07
         ],
         "yaxis": "y"
        },
        {
         "hoverinfo": "all",
         "marker": {
          "color": "rgb(61,153,112)"
         },
         "mode": "lines",
         "text": null,
         "type": "scatter",
         "x": [
          755,
          755,
          765,
          765
         ],
         "xaxis": "x",
         "y": [
          0,
          0.06930693069306931,
          0.06930693069306931,
          0
         ],
         "yaxis": "y"
        },
        {
         "hoverinfo": "all",
         "marker": {
          "color": "rgb(61,153,112)"
         },
         "mode": "lines",
         "text": null,
         "type": "scatter",
         "x": [
          745,
          745,
          760,
          760
         ],
         "xaxis": "x",
         "y": [
          0,
          0.08571428571428572,
          0.08571428571428572,
          0.06930693069306931
         ],
         "yaxis": "y"
        },
        {
         "hoverinfo": "all",
         "marker": {
          "color": "rgb(61,153,112)"
         },
         "mode": "lines",
         "text": null,
         "type": "scatter",
         "x": [
          689.0625,
          689.0625,
          752.5,
          752.5
         ],
         "xaxis": "x",
         "y": [
          0.08,
          0.23444976076555024,
          0.23444976076555024,
          0.08571428571428572
         ],
         "yaxis": "y"
        },
        {
         "hoverinfo": "all",
         "marker": {
          "color": "rgb(61,153,112)"
         },
         "mode": "lines",
         "text": null,
         "type": "scatter",
         "x": [
          645,
          645,
          720.78125,
          720.78125
         ],
         "xaxis": "x",
         "y": [
          0,
          0.28431372549019607,
          0.28431372549019607,
          0.23444976076555024
         ],
         "yaxis": "y"
        },
        {
         "hoverinfo": "all",
         "marker": {
          "color": "rgb(61,153,112)"
         },
         "mode": "lines",
         "text": null,
         "type": "scatter",
         "x": [
          795,
          795,
          805,
          805
         ],
         "xaxis": "x",
         "y": [
          0,
          0.11475409836065574,
          0.11475409836065574,
          0
         ],
         "yaxis": "y"
        },
        {
         "hoverinfo": "all",
         "marker": {
          "color": "rgb(61,153,112)"
         },
         "mode": "lines",
         "text": null,
         "type": "scatter",
         "x": [
          785,
          785,
          800,
          800
         ],
         "xaxis": "x",
         "y": [
          0,
          0.2,
          0.2,
          0.11475409836065574
         ],
         "yaxis": "y"
        },
        {
         "hoverinfo": "all",
         "marker": {
          "color": "rgb(61,153,112)"
         },
         "mode": "lines",
         "text": null,
         "type": "scatter",
         "x": [
          825,
          825,
          835,
          835
         ],
         "xaxis": "x",
         "y": [
          0,
          0.07317073170731707,
          0.07317073170731707,
          0
         ],
         "yaxis": "y"
        },
        {
         "hoverinfo": "all",
         "marker": {
          "color": "rgb(61,153,112)"
         },
         "mode": "lines",
         "text": null,
         "type": "scatter",
         "x": [
          815,
          815,
          830,
          830
         ],
         "xaxis": "x",
         "y": [
          0,
          0.13636363636363635,
          0.13636363636363635,
          0.07317073170731707
         ],
         "yaxis": "y"
        },
        {
         "hoverinfo": "all",
         "marker": {
          "color": "rgb(61,153,112)"
         },
         "mode": "lines",
         "text": null,
         "type": "scatter",
         "x": [
          845,
          845,
          855,
          855
         ],
         "xaxis": "x",
         "y": [
          0,
          0.20833333333333334,
          0.20833333333333334,
          0
         ],
         "yaxis": "y"
        },
        {
         "hoverinfo": "all",
         "marker": {
          "color": "rgb(61,153,112)"
         },
         "mode": "lines",
         "text": null,
         "type": "scatter",
         "x": [
          822.5,
          822.5,
          850,
          850
         ],
         "xaxis": "x",
         "y": [
          0.13636363636363635,
          0.23316062176165803,
          0.23316062176165803,
          0.20833333333333334
         ],
         "yaxis": "y"
        },
        {
         "hoverinfo": "all",
         "marker": {
          "color": "rgb(61,153,112)"
         },
         "mode": "lines",
         "text": null,
         "type": "scatter",
         "x": [
          792.5,
          792.5,
          836.25,
          836.25
         ],
         "xaxis": "x",
         "y": [
          0.2,
          0.26804123711340205,
          0.26804123711340205,
          0.23316062176165803
         ],
         "yaxis": "y"
        },
        {
         "hoverinfo": "all",
         "marker": {
          "color": "rgb(61,153,112)"
         },
         "mode": "lines",
         "text": null,
         "type": "scatter",
         "x": [
          775,
          775,
          814.375,
          814.375
         ],
         "xaxis": "x",
         "y": [
          0,
          0.3140096618357488,
          0.3140096618357488,
          0.26804123711340205
         ],
         "yaxis": "y"
        },
        {
         "hoverinfo": "all",
         "marker": {
          "color": "rgb(61,153,112)"
         },
         "mode": "lines",
         "text": null,
         "type": "scatter",
         "x": [
          682.890625,
          682.890625,
          794.6875,
          794.6875
         ],
         "xaxis": "x",
         "y": [
          0.28431372549019607,
          0.38181818181818183,
          0.38181818181818183,
          0.3140096618357488
         ],
         "yaxis": "y"
        },
        {
         "hoverinfo": "all",
         "marker": {
          "color": "rgb(61,153,112)"
         },
         "mode": "lines",
         "text": null,
         "type": "scatter",
         "x": [
          584.0625,
          584.0625,
          738.7890625,
          738.7890625
         ],
         "xaxis": "x",
         "y": [
          0.3059360730593607,
          0.4358974358974359,
          0.4358974358974359,
          0.38181818181818183
         ],
         "yaxis": "y"
        },
        {
         "hoverinfo": "all",
         "marker": {
          "color": "rgb(61,153,112)"
         },
         "mode": "lines",
         "text": null,
         "type": "scatter",
         "x": [
          391.71875,
          391.71875,
          661.42578125,
          661.42578125
         ],
         "xaxis": "x",
         "y": [
          0.3879781420765027,
          0.472636815920398,
          0.472636815920398,
          0.4358974358974359
         ],
         "yaxis": "y"
        },
        {
         "hoverinfo": "all",
         "marker": {
          "color": "rgb(61,153,112)"
         },
         "mode": "lines",
         "text": null,
         "type": "scatter",
         "x": [
          332.5,
          332.5,
          526.572265625,
          526.572265625
         ],
         "xaxis": "x",
         "y": [
          0.308411214953271,
          0.5466666666666666,
          0.5466666666666666,
          0.472636815920398
         ],
         "yaxis": "y"
        },
        {
         "hoverinfo": "all",
         "marker": {
          "color": "rgb(61,153,112)"
         },
         "mode": "lines",
         "text": null,
         "type": "scatter",
         "x": [
          885,
          885,
          895,
          895
         ],
         "xaxis": "x",
         "y": [
          0,
          0.1232876712328767,
          0.1232876712328767,
          0
         ],
         "yaxis": "y"
        },
        {
         "hoverinfo": "all",
         "marker": {
          "color": "rgb(61,153,112)"
         },
         "mode": "lines",
         "text": null,
         "type": "scatter",
         "x": [
          875,
          875,
          890,
          890
         ],
         "xaxis": "x",
         "y": [
          0,
          0.15270935960591134,
          0.15270935960591134,
          0.1232876712328767
         ],
         "yaxis": "y"
        },
        {
         "hoverinfo": "all",
         "marker": {
          "color": "rgb(61,153,112)"
         },
         "mode": "lines",
         "text": null,
         "type": "scatter",
         "x": [
          865,
          865,
          882.5,
          882.5
         ],
         "xaxis": "x",
         "y": [
          0,
          0.23655913978494625,
          0.23655913978494625,
          0.15270935960591134
         ],
         "yaxis": "y"
        },
        {
         "hoverinfo": "all",
         "marker": {
          "color": "rgb(61,153,112)"
         },
         "mode": "lines",
         "text": null,
         "type": "scatter",
         "x": [
          945,
          945,
          955,
          955
         ],
         "xaxis": "x",
         "y": [
          0,
          0.08108108108108109,
          0.08108108108108109,
          0
         ],
         "yaxis": "y"
        },
        {
         "hoverinfo": "all",
         "marker": {
          "color": "rgb(61,153,112)"
         },
         "mode": "lines",
         "text": null,
         "type": "scatter",
         "x": [
          935,
          935,
          950,
          950
         ],
         "xaxis": "x",
         "y": [
          0,
          0.1509433962264151,
          0.1509433962264151,
          0.08108108108108109
         ],
         "yaxis": "y"
        },
        {
         "hoverinfo": "all",
         "marker": {
          "color": "rgb(61,153,112)"
         },
         "mode": "lines",
         "text": null,
         "type": "scatter",
         "x": [
          925,
          925,
          942.5,
          942.5
         ],
         "xaxis": "x",
         "y": [
          0,
          0.28846153846153844,
          0.28846153846153844,
          0.1509433962264151
         ],
         "yaxis": "y"
        },
        {
         "hoverinfo": "all",
         "marker": {
          "color": "rgb(61,153,112)"
         },
         "mode": "lines",
         "text": null,
         "type": "scatter",
         "x": [
          915,
          915,
          933.75,
          933.75
         ],
         "xaxis": "x",
         "y": [
          0,
          0.3391304347826087,
          0.3391304347826087,
          0.28846153846153844
         ],
         "yaxis": "y"
        },
        {
         "hoverinfo": "all",
         "marker": {
          "color": "rgb(61,153,112)"
         },
         "mode": "lines",
         "text": null,
         "type": "scatter",
         "x": [
          905,
          905,
          924.375,
          924.375
         ],
         "xaxis": "x",
         "y": [
          0,
          0.3939393939393939,
          0.3939393939393939,
          0.3391304347826087
         ],
         "yaxis": "y"
        },
        {
         "hoverinfo": "all",
         "marker": {
          "color": "rgb(61,153,112)"
         },
         "mode": "lines",
         "text": null,
         "type": "scatter",
         "x": [
          985,
          985,
          995,
          995
         ],
         "xaxis": "x",
         "y": [
          0,
          0.10638297872340426,
          0.10638297872340426,
          0
         ],
         "yaxis": "y"
        },
        {
         "hoverinfo": "all",
         "marker": {
          "color": "rgb(61,153,112)"
         },
         "mode": "lines",
         "text": null,
         "type": "scatter",
         "x": [
          975,
          975,
          990,
          990
         ],
         "xaxis": "x",
         "y": [
          0,
          0.21678321678321677,
          0.21678321678321677,
          0.10638297872340426
         ],
         "yaxis": "y"
        },
        {
         "hoverinfo": "all",
         "marker": {
          "color": "rgb(61,153,112)"
         },
         "mode": "lines",
         "text": null,
         "type": "scatter",
         "x": [
          965,
          965,
          982.5,
          982.5
         ],
         "xaxis": "x",
         "y": [
          0,
          0.38571428571428573,
          0.38571428571428573,
          0.21678321678321677
         ],
         "yaxis": "y"
        },
        {
         "hoverinfo": "all",
         "marker": {
          "color": "rgb(61,153,112)"
         },
         "mode": "lines",
         "text": null,
         "type": "scatter",
         "x": [
          1005,
          1005,
          1015,
          1015
         ],
         "xaxis": "x",
         "y": [
          0,
          0.06382978723404255,
          0.06382978723404255,
          0
         ],
         "yaxis": "y"
        },
        {
         "hoverinfo": "all",
         "marker": {
          "color": "rgb(61,153,112)"
         },
         "mode": "lines",
         "text": null,
         "type": "scatter",
         "x": [
          1035,
          1035,
          1045,
          1045
         ],
         "xaxis": "x",
         "y": [
          0,
          0.04411764705882353,
          0.04411764705882353,
          0
         ],
         "yaxis": "y"
        },
        {
         "hoverinfo": "all",
         "marker": {
          "color": "rgb(61,153,112)"
         },
         "mode": "lines",
         "text": null,
         "type": "scatter",
         "x": [
          1025,
          1025,
          1040,
          1040
         ],
         "xaxis": "x",
         "y": [
          0,
          0.08450704225352113,
          0.08450704225352113,
          0.04411764705882353
         ],
         "yaxis": "y"
        },
        {
         "hoverinfo": "all",
         "marker": {
          "color": "rgb(61,153,112)"
         },
         "mode": "lines",
         "text": null,
         "type": "scatter",
         "x": [
          1010,
          1010,
          1032.5,
          1032.5
         ],
         "xaxis": "x",
         "y": [
          0.06382978723404255,
          0.09090909090909091,
          0.09090909090909091,
          0.08450704225352113
         ],
         "yaxis": "y"
        },
        {
         "hoverinfo": "all",
         "marker": {
          "color": "rgb(61,153,112)"
         },
         "mode": "lines",
         "text": null,
         "type": "scatter",
         "x": [
          1065,
          1065,
          1075,
          1075
         ],
         "xaxis": "x",
         "y": [
          0,
          0.056,
          0.056,
          0
         ],
         "yaxis": "y"
        },
        {
         "hoverinfo": "all",
         "marker": {
          "color": "rgb(61,153,112)"
         },
         "mode": "lines",
         "text": null,
         "type": "scatter",
         "x": [
          1055,
          1055,
          1070,
          1070
         ],
         "xaxis": "x",
         "y": [
          0,
          0.1746031746031746,
          0.1746031746031746,
          0.056
         ],
         "yaxis": "y"
        },
        {
         "hoverinfo": "all",
         "marker": {
          "color": "rgb(61,153,112)"
         },
         "mode": "lines",
         "text": null,
         "type": "scatter",
         "x": [
          1085,
          1085,
          1095,
          1095
         ],
         "xaxis": "x",
         "y": [
          0,
          0.038461538461538464,
          0.038461538461538464,
          0
         ],
         "yaxis": "y"
        },
        {
         "hoverinfo": "all",
         "marker": {
          "color": "rgb(61,153,112)"
         },
         "mode": "lines",
         "text": null,
         "type": "scatter",
         "x": [
          1115,
          1115,
          1125,
          1125
         ],
         "xaxis": "x",
         "y": [
          0,
          0.06666666666666667,
          0.06666666666666667,
          0
         ],
         "yaxis": "y"
        },
        {
         "hoverinfo": "all",
         "marker": {
          "color": "rgb(61,153,112)"
         },
         "mode": "lines",
         "text": null,
         "type": "scatter",
         "x": [
          1105,
          1105,
          1120,
          1120
         ],
         "xaxis": "x",
         "y": [
          0,
          0.11320754716981132,
          0.11320754716981132,
          0.06666666666666667
         ],
         "yaxis": "y"
        },
        {
         "hoverinfo": "all",
         "marker": {
          "color": "rgb(61,153,112)"
         },
         "mode": "lines",
         "text": null,
         "type": "scatter",
         "x": [
          1090,
          1090,
          1112.5,
          1112.5
         ],
         "xaxis": "x",
         "y": [
          0.038461538461538464,
          0.18518518518518517,
          0.18518518518518517,
          0.11320754716981132
         ],
         "yaxis": "y"
        },
        {
         "hoverinfo": "all",
         "marker": {
          "color": "rgb(61,153,112)"
         },
         "mode": "lines",
         "text": null,
         "type": "scatter",
         "x": [
          1062.5,
          1062.5,
          1101.25,
          1101.25
         ],
         "xaxis": "x",
         "y": [
          0.1746031746031746,
          0.23076923076923078,
          0.23076923076923078,
          0.18518518518518517
         ],
         "yaxis": "y"
        },
        {
         "hoverinfo": "all",
         "marker": {
          "color": "rgb(61,153,112)"
         },
         "mode": "lines",
         "text": null,
         "type": "scatter",
         "x": [
          1021.25,
          1021.25,
          1081.875,
          1081.875
         ],
         "xaxis": "x",
         "y": [
          0.09090909090909091,
          0.29133858267716534,
          0.29133858267716534,
          0.23076923076923078
         ],
         "yaxis": "y"
        },
        {
         "hoverinfo": "all",
         "marker": {
          "color": "rgb(61,153,112)"
         },
         "mode": "lines",
         "text": null,
         "type": "scatter",
         "x": [
          1135,
          1135,
          1145,
          1145
         ],
         "xaxis": "x",
         "y": [
          0,
          0.1937984496124031,
          0.1937984496124031,
          0
         ],
         "yaxis": "y"
        },
        {
         "hoverinfo": "all",
         "marker": {
          "color": "rgb(61,153,112)"
         },
         "mode": "lines",
         "text": null,
         "type": "scatter",
         "x": [
          1165,
          1165,
          1175,
          1175
         ],
         "xaxis": "x",
         "y": [
          0,
          0.05555555555555555,
          0.05555555555555555,
          0
         ],
         "yaxis": "y"
        },
        {
         "hoverinfo": "all",
         "marker": {
          "color": "rgb(61,153,112)"
         },
         "mode": "lines",
         "text": null,
         "type": "scatter",
         "x": [
          1155,
          1155,
          1170,
          1170
         ],
         "xaxis": "x",
         "y": [
          0,
          0.1206896551724138,
          0.1206896551724138,
          0.05555555555555555
         ],
         "yaxis": "y"
        },
        {
         "hoverinfo": "all",
         "marker": {
          "color": "rgb(61,153,112)"
         },
         "mode": "lines",
         "text": null,
         "type": "scatter",
         "x": [
          1195,
          1195,
          1205,
          1205
         ],
         "xaxis": "x",
         "y": [
          0,
          0.13043478260869565,
          0.13043478260869565,
          0
         ],
         "yaxis": "y"
        },
        {
         "hoverinfo": "all",
         "marker": {
          "color": "rgb(61,153,112)"
         },
         "mode": "lines",
         "text": null,
         "type": "scatter",
         "x": [
          1185,
          1185,
          1200,
          1200
         ],
         "xaxis": "x",
         "y": [
          0,
          0.24,
          0.24,
          0.13043478260869565
         ],
         "yaxis": "y"
        },
        {
         "hoverinfo": "all",
         "marker": {
          "color": "rgb(61,153,112)"
         },
         "mode": "lines",
         "text": null,
         "type": "scatter",
         "x": [
          1162.5,
          1162.5,
          1192.5,
          1192.5
         ],
         "xaxis": "x",
         "y": [
          0.1206896551724138,
          0.2761904761904762,
          0.2761904761904762,
          0.24
         ],
         "yaxis": "y"
        },
        {
         "hoverinfo": "all",
         "marker": {
          "color": "rgb(61,153,112)"
         },
         "mode": "lines",
         "text": null,
         "type": "scatter",
         "x": [
          1140,
          1140,
          1177.5,
          1177.5
         ],
         "xaxis": "x",
         "y": [
          0.1937984496124031,
          0.31746031746031744,
          0.31746031746031744,
          0.2761904761904762
         ],
         "yaxis": "y"
        },
        {
         "hoverinfo": "all",
         "marker": {
          "color": "rgb(61,153,112)"
         },
         "mode": "lines",
         "text": null,
         "type": "scatter",
         "x": [
          1051.5625,
          1051.5625,
          1158.75,
          1158.75
         ],
         "xaxis": "x",
         "y": [
          0.29133858267716534,
          0.39568345323741005,
          0.39568345323741005,
          0.31746031746031744
         ],
         "yaxis": "y"
        },
        {
         "hoverinfo": "all",
         "marker": {
          "color": "rgb(61,153,112)"
         },
         "mode": "lines",
         "text": null,
         "type": "scatter",
         "x": [
          973.75,
          973.75,
          1105.15625,
          1105.15625
         ],
         "xaxis": "x",
         "y": [
          0.38571428571428573,
          0.4492753623188406,
          0.4492753623188406,
          0.39568345323741005
         ],
         "yaxis": "y"
        },
        {
         "hoverinfo": "all",
         "marker": {
          "color": "rgb(61,153,112)"
         },
         "mode": "lines",
         "text": null,
         "type": "scatter",
         "x": [
          914.6875,
          914.6875,
          1039.453125,
          1039.453125
         ],
         "xaxis": "x",
         "y": [
          0.3939393939393939,
          0.5107913669064749,
          0.5107913669064749,
          0.4492753623188406
         ],
         "yaxis": "y"
        },
        {
         "hoverinfo": "all",
         "marker": {
          "color": "rgb(61,153,112)"
         },
         "mode": "lines",
         "text": null,
         "type": "scatter",
         "x": [
          873.75,
          873.75,
          977.0703125,
          977.0703125
         ],
         "xaxis": "x",
         "y": [
          0.23655913978494625,
          0.5705521472392638,
          0.5705521472392638,
          0.5107913669064749
         ],
         "yaxis": "y"
        },
        {
         "hoverinfo": "all",
         "marker": {
          "color": "rgb(61,153,112)"
         },
         "mode": "lines",
         "text": null,
         "type": "scatter",
         "x": [
          429.5361328125,
          429.5361328125,
          925.41015625,
          925.41015625
         ],
         "xaxis": "x",
         "y": [
          0.5466666666666666,
          0.5955056179775281,
          0.5955056179775281,
          0.5705521472392638
         ],
         "yaxis": "y"
        },
        {
         "hoverinfo": "all",
         "marker": {
          "color": "rgb(61,153,112)"
         },
         "mode": "lines",
         "text": null,
         "type": "scatter",
         "x": [
          47.490234375,
          47.490234375,
          677.47314453125,
          677.47314453125
         ],
         "xaxis": "x",
         "y": [
          0.5789473684210527,
          0.7289719626168224,
          0.7289719626168224,
          0.5955056179775281
         ],
         "yaxis": "y"
        },
        {
         "hoverinfo": "all",
         "marker": {
          "color": "rgb(255,65,54)"
         },
         "mode": "lines",
         "text": null,
         "type": "scatter",
         "x": [
          1215,
          1215,
          1225,
          1225
         ],
         "xaxis": "x",
         "y": [
          0,
          0.21666666666666667,
          0.21666666666666667,
          0
         ],
         "yaxis": "y"
        },
        {
         "hoverinfo": "all",
         "marker": {
          "color": "rgb(255,65,54)"
         },
         "mode": "lines",
         "text": null,
         "type": "scatter",
         "x": [
          1235,
          1235,
          1245,
          1245
         ],
         "xaxis": "x",
         "y": [
          0,
          0.16339869281045752,
          0.16339869281045752,
          0
         ],
         "yaxis": "y"
        },
        {
         "hoverinfo": "all",
         "marker": {
          "color": "rgb(255,65,54)"
         },
         "mode": "lines",
         "text": null,
         "type": "scatter",
         "x": [
          1255,
          1255,
          1265,
          1265
         ],
         "xaxis": "x",
         "y": [
          0,
          0.20833333333333334,
          0.20833333333333334,
          0
         ],
         "yaxis": "y"
        },
        {
         "hoverinfo": "all",
         "marker": {
          "color": "rgb(255,65,54)"
         },
         "mode": "lines",
         "text": null,
         "type": "scatter",
         "x": [
          1240,
          1240,
          1260,
          1260
         ],
         "xaxis": "x",
         "y": [
          0.16339869281045752,
          0.24,
          0.24,
          0.20833333333333334
         ],
         "yaxis": "y"
        },
        {
         "hoverinfo": "all",
         "marker": {
          "color": "rgb(255,65,54)"
         },
         "mode": "lines",
         "text": null,
         "type": "scatter",
         "x": [
          1220,
          1220,
          1250,
          1250
         ],
         "xaxis": "x",
         "y": [
          0.21666666666666667,
          0.5657894736842105,
          0.5657894736842105,
          0.24
         ],
         "yaxis": "y"
        },
        {
         "hoverinfo": "all",
         "marker": {
          "color": "rgb(255,65,54)"
         },
         "mode": "lines",
         "text": null,
         "type": "scatter",
         "x": [
          1275,
          1275,
          1285,
          1285
         ],
         "xaxis": "x",
         "y": [
          0,
          0.14285714285714285,
          0.14285714285714285,
          0
         ],
         "yaxis": "y"
        },
        {
         "hoverinfo": "all",
         "marker": {
          "color": "rgb(255,65,54)"
         },
         "mode": "lines",
         "text": null,
         "type": "scatter",
         "x": [
          1315,
          1315,
          1325,
          1325
         ],
         "xaxis": "x",
         "y": [
          0,
          0.07042253521126761,
          0.07042253521126761,
          0
         ],
         "yaxis": "y"
        },
        {
         "hoverinfo": "all",
         "marker": {
          "color": "rgb(255,65,54)"
         },
         "mode": "lines",
         "text": null,
         "type": "scatter",
         "x": [
          1305,
          1305,
          1320,
          1320
         ],
         "xaxis": "x",
         "y": [
          0,
          0.10810810810810811,
          0.10810810810810811,
          0.07042253521126761
         ],
         "yaxis": "y"
        },
        {
         "hoverinfo": "all",
         "marker": {
          "color": "rgb(255,65,54)"
         },
         "mode": "lines",
         "text": null,
         "type": "scatter",
         "x": [
          1295,
          1295,
          1312.5,
          1312.5
         ],
         "xaxis": "x",
         "y": [
          0,
          0.15384615384615385,
          0.15384615384615385,
          0.10810810810810811
         ],
         "yaxis": "y"
        },
        {
         "hoverinfo": "all",
         "marker": {
          "color": "rgb(255,65,54)"
         },
         "mode": "lines",
         "text": null,
         "type": "scatter",
         "x": [
          1345,
          1345,
          1355,
          1355
         ],
         "xaxis": "x",
         "y": [
          0,
          0.08823529411764706,
          0.08823529411764706,
          0
         ],
         "yaxis": "y"
        },
        {
         "hoverinfo": "all",
         "marker": {
          "color": "rgb(255,65,54)"
         },
         "mode": "lines",
         "text": null,
         "type": "scatter",
         "x": [
          1335,
          1335,
          1350,
          1350
         ],
         "xaxis": "x",
         "y": [
          0,
          0.15942028985507245,
          0.15942028985507245,
          0.08823529411764706
         ],
         "yaxis": "y"
        },
        {
         "hoverinfo": "all",
         "marker": {
          "color": "rgb(255,65,54)"
         },
         "mode": "lines",
         "text": null,
         "type": "scatter",
         "x": [
          1303.75,
          1303.75,
          1342.5,
          1342.5
         ],
         "xaxis": "x",
         "y": [
          0.15384615384615385,
          0.23943661971830985,
          0.23943661971830985,
          0.15942028985507245
         ],
         "yaxis": "y"
        },
        {
         "hoverinfo": "all",
         "marker": {
          "color": "rgb(255,65,54)"
         },
         "mode": "lines",
         "text": null,
         "type": "scatter",
         "x": [
          1365,
          1365,
          1375,
          1375
         ],
         "xaxis": "x",
         "y": [
          0,
          0.28,
          0.28,
          0
         ],
         "yaxis": "y"
        },
        {
         "hoverinfo": "all",
         "marker": {
          "color": "rgb(255,65,54)"
         },
         "mode": "lines",
         "text": null,
         "type": "scatter",
         "x": [
          1323.125,
          1323.125,
          1370,
          1370
         ],
         "xaxis": "x",
         "y": [
          0.23943661971830985,
          0.3176470588235294,
          0.3176470588235294,
          0.28
         ],
         "yaxis": "y"
        },
        {
         "hoverinfo": "all",
         "marker": {
          "color": "rgb(255,65,54)"
         },
         "mode": "lines",
         "text": null,
         "type": "scatter",
         "x": [
          1280,
          1280,
          1346.5625,
          1346.5625
         ],
         "xaxis": "x",
         "y": [
          0.14285714285714285,
          0.5339805825242718,
          0.5339805825242718,
          0.3176470588235294
         ],
         "yaxis": "y"
        },
        {
         "hoverinfo": "all",
         "marker": {
          "color": "rgb(255,65,54)"
         },
         "mode": "lines",
         "text": null,
         "type": "scatter",
         "x": [
          1405,
          1405,
          1415,
          1415
         ],
         "xaxis": "x",
         "y": [
          0,
          0.11428571428571428,
          0.11428571428571428,
          0
         ],
         "yaxis": "y"
        },
        {
         "hoverinfo": "all",
         "marker": {
          "color": "rgb(255,65,54)"
         },
         "mode": "lines",
         "text": null,
         "type": "scatter",
         "x": [
          1395,
          1395,
          1410,
          1410
         ],
         "xaxis": "x",
         "y": [
          0,
          0.4153846153846154,
          0.4153846153846154,
          0.11428571428571428
         ],
         "yaxis": "y"
        },
        {
         "hoverinfo": "all",
         "marker": {
          "color": "rgb(255,65,54)"
         },
         "mode": "lines",
         "text": null,
         "type": "scatter",
         "x": [
          1385,
          1385,
          1402.5,
          1402.5
         ],
         "xaxis": "x",
         "y": [
          0,
          0.475,
          0.475,
          0.4153846153846154
         ],
         "yaxis": "y"
        },
        {
         "hoverinfo": "all",
         "marker": {
          "color": "rgb(255,65,54)"
         },
         "mode": "lines",
         "text": null,
         "type": "scatter",
         "x": [
          1425,
          1425,
          1435,
          1435
         ],
         "xaxis": "x",
         "y": [
          0,
          0.16417910447761194,
          0.16417910447761194,
          0
         ],
         "yaxis": "y"
        },
        {
         "hoverinfo": "all",
         "marker": {
          "color": "rgb(255,65,54)"
         },
         "mode": "lines",
         "text": null,
         "type": "scatter",
         "x": [
          1465,
          1465,
          1475,
          1475
         ],
         "xaxis": "x",
         "y": [
          0,
          0.13432835820895522,
          0.13432835820895522,
          0
         ],
         "yaxis": "y"
        },
        {
         "hoverinfo": "all",
         "marker": {
          "color": "rgb(255,65,54)"
         },
         "mode": "lines",
         "text": null,
         "type": "scatter",
         "x": [
          1455,
          1455,
          1470,
          1470
         ],
         "xaxis": "x",
         "y": [
          0,
          0.14285714285714285,
          0.14285714285714285,
          0.13432835820895522
         ],
         "yaxis": "y"
        },
        {
         "hoverinfo": "all",
         "marker": {
          "color": "rgb(255,65,54)"
         },
         "mode": "lines",
         "text": null,
         "type": "scatter",
         "x": [
          1445,
          1445,
          1462.5,
          1462.5
         ],
         "xaxis": "x",
         "y": [
          0,
          0.18840579710144928,
          0.18840579710144928,
          0.14285714285714285
         ],
         "yaxis": "y"
        },
        {
         "hoverinfo": "all",
         "marker": {
          "color": "rgb(255,65,54)"
         },
         "mode": "lines",
         "text": null,
         "type": "scatter",
         "x": [
          1430,
          1430,
          1453.75,
          1453.75
         ],
         "xaxis": "x",
         "y": [
          0.16417910447761194,
          0.38235294117647056,
          0.38235294117647056,
          0.18840579710144928
         ],
         "yaxis": "y"
        },
        {
         "hoverinfo": "all",
         "marker": {
          "color": "rgb(255,65,54)"
         },
         "mode": "lines",
         "text": null,
         "type": "scatter",
         "x": [
          1485,
          1485,
          1495,
          1495
         ],
         "xaxis": "x",
         "y": [
          0,
          0.14666666666666667,
          0.14666666666666667,
          0
         ],
         "yaxis": "y"
        },
        {
         "hoverinfo": "all",
         "marker": {
          "color": "rgb(255,65,54)"
         },
         "mode": "lines",
         "text": null,
         "type": "scatter",
         "x": [
          1505,
          1505,
          1515,
          1515
         ],
         "xaxis": "x",
         "y": [
          0,
          0.2676056338028169,
          0.2676056338028169,
          0
         ],
         "yaxis": "y"
        },
        {
         "hoverinfo": "all",
         "marker": {
          "color": "rgb(255,65,54)"
         },
         "mode": "lines",
         "text": null,
         "type": "scatter",
         "x": [
          1490,
          1490,
          1510,
          1510
         ],
         "xaxis": "x",
         "y": [
          0.14666666666666667,
          0.34177215189873417,
          0.34177215189873417,
          0.2676056338028169
         ],
         "yaxis": "y"
        },
        {
         "hoverinfo": "all",
         "marker": {
          "color": "rgb(255,65,54)"
         },
         "mode": "lines",
         "text": null,
         "type": "scatter",
         "x": [
          1525,
          1525,
          1535,
          1535
         ],
         "xaxis": "x",
         "y": [
          0,
          0.36,
          0.36,
          0
         ],
         "yaxis": "y"
        },
        {
         "hoverinfo": "all",
         "marker": {
          "color": "rgb(255,65,54)"
         },
         "mode": "lines",
         "text": null,
         "type": "scatter",
         "x": [
          1500,
          1500,
          1530,
          1530
         ],
         "xaxis": "x",
         "y": [
          0.34177215189873417,
          0.4666666666666667,
          0.4666666666666667,
          0.36
         ],
         "yaxis": "y"
        },
        {
         "hoverinfo": "all",
         "marker": {
          "color": "rgb(255,65,54)"
         },
         "mode": "lines",
         "text": null,
         "type": "scatter",
         "x": [
          1441.875,
          1441.875,
          1515,
          1515
         ],
         "xaxis": "x",
         "y": [
          0.38235294117647056,
          0.5294117647058824,
          0.5294117647058824,
          0.4666666666666667
         ],
         "yaxis": "y"
        },
        {
         "hoverinfo": "all",
         "marker": {
          "color": "rgb(255,65,54)"
         },
         "mode": "lines",
         "text": null,
         "type": "scatter",
         "x": [
          1393.75,
          1393.75,
          1478.4375,
          1478.4375
         ],
         "xaxis": "x",
         "y": [
          0.475,
          0.569620253164557,
          0.569620253164557,
          0.5294117647058824
         ],
         "yaxis": "y"
        },
        {
         "hoverinfo": "all",
         "marker": {
          "color": "rgb(255,65,54)"
         },
         "mode": "lines",
         "text": null,
         "type": "scatter",
         "x": [
          1313.28125,
          1313.28125,
          1436.09375,
          1436.09375
         ],
         "xaxis": "x",
         "y": [
          0.5339805825242718,
          0.68,
          0.68,
          0.569620253164557
         ],
         "yaxis": "y"
        },
        {
         "hoverinfo": "all",
         "marker": {
          "color": "rgb(255,65,54)"
         },
         "mode": "lines",
         "text": null,
         "type": "scatter",
         "x": [
          1235,
          1235,
          1374.6875,
          1374.6875
         ],
         "xaxis": "x",
         "y": [
          0.5657894736842105,
          0.7606837606837606,
          0.7606837606837606,
          0.68
         ],
         "yaxis": "y"
        },
        {
         "hoverinfo": "all",
         "marker": {
          "color": "rgb(0,116,217)"
         },
         "mode": "lines",
         "text": null,
         "type": "scatter",
         "x": [
          362.481689453125,
          362.481689453125,
          1304.84375,
          1304.84375
         ],
         "xaxis": "x",
         "y": [
          0.7289719626168224,
          0.8205128205128205,
          0.8205128205128205,
          0.7606837606837606
         ],
         "yaxis": "y"
        },
        {
         "hoverinfo": "all",
         "marker": {
          "color": "rgb(35,205,205)"
         },
         "mode": "lines",
         "text": null,
         "type": "scatter",
         "x": [
          1555,
          1555,
          1565,
          1565
         ],
         "xaxis": "x",
         "y": [
          0,
          0.4,
          0.4,
          0
         ],
         "yaxis": "y"
        },
        {
         "hoverinfo": "all",
         "marker": {
          "color": "rgb(35,205,205)"
         },
         "mode": "lines",
         "text": null,
         "type": "scatter",
         "x": [
          1575,
          1575,
          1585,
          1585
         ],
         "xaxis": "x",
         "y": [
          0,
          0.4339622641509434,
          0.4339622641509434,
          0
         ],
         "yaxis": "y"
        },
        {
         "hoverinfo": "all",
         "marker": {
          "color": "rgb(35,205,205)"
         },
         "mode": "lines",
         "text": null,
         "type": "scatter",
         "x": [
          1560,
          1560,
          1580,
          1580
         ],
         "xaxis": "x",
         "y": [
          0.4,
          0.5407407407407407,
          0.5407407407407407,
          0.4339622641509434
         ],
         "yaxis": "y"
        },
        {
         "hoverinfo": "all",
         "marker": {
          "color": "rgb(35,205,205)"
         },
         "mode": "lines",
         "text": null,
         "type": "scatter",
         "x": [
          1545,
          1545,
          1570,
          1570
         ],
         "xaxis": "x",
         "y": [
          0,
          0.5975609756097561,
          0.5975609756097561,
          0.5407407407407407
         ],
         "yaxis": "y"
        },
        {
         "hoverinfo": "all",
         "marker": {
          "color": "rgb(35,205,205)"
         },
         "mode": "lines",
         "text": null,
         "type": "scatter",
         "x": [
          1595,
          1595,
          1605,
          1605
         ],
         "xaxis": "x",
         "y": [
          0,
          0.2926208651399491,
          0.2926208651399491,
          0
         ],
         "yaxis": "y"
        },
        {
         "hoverinfo": "all",
         "marker": {
          "color": "rgb(35,205,205)"
         },
         "mode": "lines",
         "text": null,
         "type": "scatter",
         "x": [
          1635,
          1635,
          1645,
          1645
         ],
         "xaxis": "x",
         "y": [
          0,
          0.3217391304347826,
          0.3217391304347826,
          0
         ],
         "yaxis": "y"
        },
        {
         "hoverinfo": "all",
         "marker": {
          "color": "rgb(35,205,205)"
         },
         "mode": "lines",
         "text": null,
         "type": "scatter",
         "x": [
          1665,
          1665,
          1675,
          1675
         ],
         "xaxis": "x",
         "y": [
          0,
          0.3032258064516129,
          0.3032258064516129,
          0
         ],
         "yaxis": "y"
        },
        {
         "hoverinfo": "all",
         "marker": {
          "color": "rgb(35,205,205)"
         },
         "mode": "lines",
         "text": null,
         "type": "scatter",
         "x": [
          1655,
          1655,
          1670,
          1670
         ],
         "xaxis": "x",
         "y": [
          0,
          0.35766423357664234,
          0.35766423357664234,
          0.3032258064516129
         ],
         "yaxis": "y"
        },
        {
         "hoverinfo": "all",
         "marker": {
          "color": "rgb(35,205,205)"
         },
         "mode": "lines",
         "text": null,
         "type": "scatter",
         "x": [
          1640,
          1640,
          1662.5,
          1662.5
         ],
         "xaxis": "x",
         "y": [
          0.3217391304347826,
          0.4782608695652174,
          0.4782608695652174,
          0.35766423357664234
         ],
         "yaxis": "y"
        },
        {
         "hoverinfo": "all",
         "marker": {
          "color": "rgb(35,205,205)"
         },
         "mode": "lines",
         "text": null,
         "type": "scatter",
         "x": [
          1625,
          1625,
          1651.25,
          1651.25
         ],
         "xaxis": "x",
         "y": [
          0,
          0.5053763440860215,
          0.5053763440860215,
          0.4782608695652174
         ],
         "yaxis": "y"
        },
        {
         "hoverinfo": "all",
         "marker": {
          "color": "rgb(35,205,205)"
         },
         "mode": "lines",
         "text": null,
         "type": "scatter",
         "x": [
          1615,
          1615,
          1638.125,
          1638.125
         ],
         "xaxis": "x",
         "y": [
          0,
          0.5486725663716814,
          0.5486725663716814,
          0.5053763440860215
         ],
         "yaxis": "y"
        },
        {
         "hoverinfo": "all",
         "marker": {
          "color": "rgb(35,205,205)"
         },
         "mode": "lines",
         "text": null,
         "type": "scatter",
         "x": [
          1600,
          1600,
          1626.5625,
          1626.5625
         ],
         "xaxis": "x",
         "y": [
          0.2926208651399491,
          0.6454849498327759,
          0.6454849498327759,
          0.5486725663716814
         ],
         "yaxis": "y"
        },
        {
         "hoverinfo": "all",
         "marker": {
          "color": "rgb(35,205,205)"
         },
         "mode": "lines",
         "text": null,
         "type": "scatter",
         "x": [
          1557.5,
          1557.5,
          1613.28125,
          1613.28125
         ],
         "xaxis": "x",
         "y": [
          0.5975609756097561,
          0.7912087912087912,
          0.7912087912087912,
          0.6454849498327759
         ],
         "yaxis": "y"
        },
        {
         "hoverinfo": "all",
         "marker": {
          "color": "rgb(133,20,75)"
         },
         "mode": "lines",
         "text": null,
         "type": "scatter",
         "x": [
          1715,
          1715,
          1725,
          1725
         ],
         "xaxis": "x",
         "y": [
          0,
          0.40594059405940597,
          0.40594059405940597,
          0
         ],
         "yaxis": "y"
        },
        {
         "hoverinfo": "all",
         "marker": {
          "color": "rgb(133,20,75)"
         },
         "mode": "lines",
         "text": null,
         "type": "scatter",
         "x": [
          1705,
          1705,
          1720,
          1720
         ],
         "xaxis": "x",
         "y": [
          0,
          0.42857142857142855,
          0.42857142857142855,
          0.40594059405940597
         ],
         "yaxis": "y"
        },
        {
         "hoverinfo": "all",
         "marker": {
          "color": "rgb(133,20,75)"
         },
         "mode": "lines",
         "text": null,
         "type": "scatter",
         "x": [
          1695,
          1695,
          1712.5,
          1712.5
         ],
         "xaxis": "x",
         "y": [
          0,
          0.525,
          0.525,
          0.42857142857142855
         ],
         "yaxis": "y"
        },
        {
         "hoverinfo": "all",
         "marker": {
          "color": "rgb(133,20,75)"
         },
         "mode": "lines",
         "text": null,
         "type": "scatter",
         "x": [
          1685,
          1685,
          1703.75,
          1703.75
         ],
         "xaxis": "x",
         "y": [
          0,
          0.6036036036036037,
          0.6036036036036037,
          0.525
         ],
         "yaxis": "y"
        },
        {
         "hoverinfo": "all",
         "marker": {
          "color": "rgb(255,220,0)"
         },
         "mode": "lines",
         "text": null,
         "type": "scatter",
         "x": [
          1745,
          1745,
          1755,
          1755
         ],
         "xaxis": "x",
         "y": [
          0,
          0.3877551020408163,
          0.3877551020408163,
          0
         ],
         "yaxis": "y"
        },
        {
         "hoverinfo": "all",
         "marker": {
          "color": "rgb(255,220,0)"
         },
         "mode": "lines",
         "text": null,
         "type": "scatter",
         "x": [
          1775,
          1775,
          1785,
          1785
         ],
         "xaxis": "x",
         "y": [
          0,
          0.2066115702479339,
          0.2066115702479339,
          0
         ],
         "yaxis": "y"
        },
        {
         "hoverinfo": "all",
         "marker": {
          "color": "rgb(255,220,0)"
         },
         "mode": "lines",
         "text": null,
         "type": "scatter",
         "x": [
          1765,
          1765,
          1780,
          1780
         ],
         "xaxis": "x",
         "y": [
          0,
          0.3333333333333333,
          0.3333333333333333,
          0.2066115702479339
         ],
         "yaxis": "y"
        },
        {
         "hoverinfo": "all",
         "marker": {
          "color": "rgb(255,220,0)"
         },
         "mode": "lines",
         "text": null,
         "type": "scatter",
         "x": [
          1795,
          1795,
          1805,
          1805
         ],
         "xaxis": "x",
         "y": [
          0,
          0.12631578947368421,
          0.12631578947368421,
          0
         ],
         "yaxis": "y"
        },
        {
         "hoverinfo": "all",
         "marker": {
          "color": "rgb(255,220,0)"
         },
         "mode": "lines",
         "text": null,
         "type": "scatter",
         "x": [
          1815,
          1815,
          1825,
          1825
         ],
         "xaxis": "x",
         "y": [
          0,
          0.2647058823529412,
          0.2647058823529412,
          0
         ],
         "yaxis": "y"
        },
        {
         "hoverinfo": "all",
         "marker": {
          "color": "rgb(255,220,0)"
         },
         "mode": "lines",
         "text": null,
         "type": "scatter",
         "x": [
          1800,
          1800,
          1820,
          1820
         ],
         "xaxis": "x",
         "y": [
          0.12631578947368421,
          0.36470588235294116,
          0.36470588235294116,
          0.2647058823529412
         ],
         "yaxis": "y"
        },
        {
         "hoverinfo": "all",
         "marker": {
          "color": "rgb(255,220,0)"
         },
         "mode": "lines",
         "text": null,
         "type": "scatter",
         "x": [
          1772.5,
          1772.5,
          1810,
          1810
         ],
         "xaxis": "x",
         "y": [
          0.3333333333333333,
          0.48427672955974843,
          0.48427672955974843,
          0.36470588235294116
         ],
         "yaxis": "y"
        },
        {
         "hoverinfo": "all",
         "marker": {
          "color": "rgb(255,220,0)"
         },
         "mode": "lines",
         "text": null,
         "type": "scatter",
         "x": [
          1750,
          1750,
          1791.25,
          1791.25
         ],
         "xaxis": "x",
         "y": [
          0.3877551020408163,
          0.5614035087719298,
          0.5614035087719298,
          0.48427672955974843
         ],
         "yaxis": "y"
        },
        {
         "hoverinfo": "all",
         "marker": {
          "color": "rgb(255,220,0)"
         },
         "mode": "lines",
         "text": null,
         "type": "scatter",
         "x": [
          1735,
          1735,
          1770.625,
          1770.625
         ],
         "xaxis": "x",
         "y": [
          0,
          0.6346153846153846,
          0.6346153846153846,
          0.5614035087719298
         ],
         "yaxis": "y"
        },
        {
         "hoverinfo": "all",
         "marker": {
          "color": "rgb(255,220,0)"
         },
         "mode": "lines",
         "text": null,
         "type": "scatter",
         "x": [
          1885,
          1885,
          1895,
          1895
         ],
         "xaxis": "x",
         "y": [
          0,
          0.13978494623655913,
          0.13978494623655913,
          0
         ],
         "yaxis": "y"
        },
        {
         "hoverinfo": "all",
         "marker": {
          "color": "rgb(255,220,0)"
         },
         "mode": "lines",
         "text": null,
         "type": "scatter",
         "x": [
          1875,
          1875,
          1890,
          1890
         ],
         "xaxis": "x",
         "y": [
          0,
          0.15463917525773196,
          0.15463917525773196,
          0.13978494623655913
         ],
         "yaxis": "y"
        },
        {
         "hoverinfo": "all",
         "marker": {
          "color": "rgb(255,220,0)"
         },
         "mode": "lines",
         "text": null,
         "type": "scatter",
         "x": [
          1905,
          1905,
          1915,
          1915
         ],
         "xaxis": "x",
         "y": [
          0,
          0.15789473684210525,
          0.15789473684210525,
          0
         ],
         "yaxis": "y"
        },
        {
         "hoverinfo": "all",
         "marker": {
          "color": "rgb(255,220,0)"
         },
         "mode": "lines",
         "text": null,
         "type": "scatter",
         "x": [
          1882.5,
          1882.5,
          1910,
          1910
         ],
         "xaxis": "x",
         "y": [
          0.15463917525773196,
          0.19230769230769232,
          0.19230769230769232,
          0.15789473684210525
         ],
         "yaxis": "y"
        },
        {
         "hoverinfo": "all",
         "marker": {
          "color": "rgb(255,220,0)"
         },
         "mode": "lines",
         "text": null,
         "type": "scatter",
         "x": [
          1925,
          1925,
          1935,
          1935
         ],
         "xaxis": "x",
         "y": [
          0,
          0.21818181818181817,
          0.21818181818181817,
          0
         ],
         "yaxis": "y"
        },
        {
         "hoverinfo": "all",
         "marker": {
          "color": "rgb(255,220,0)"
         },
         "mode": "lines",
         "text": null,
         "type": "scatter",
         "x": [
          1896.25,
          1896.25,
          1930,
          1930
         ],
         "xaxis": "x",
         "y": [
          0.19230769230769232,
          0.24561403508771928,
          0.24561403508771928,
          0.21818181818181817
         ],
         "yaxis": "y"
        },
        {
         "hoverinfo": "all",
         "marker": {
          "color": "rgb(255,220,0)"
         },
         "mode": "lines",
         "text": null,
         "type": "scatter",
         "x": [
          1945,
          1945,
          1955,
          1955
         ],
         "xaxis": "x",
         "y": [
          0,
          0.1504424778761062,
          0.1504424778761062,
          0
         ],
         "yaxis": "y"
        },
        {
         "hoverinfo": "all",
         "marker": {
          "color": "rgb(255,220,0)"
         },
         "mode": "lines",
         "text": null,
         "type": "scatter",
         "x": [
          1975,
          1975,
          1985,
          1985
         ],
         "xaxis": "x",
         "y": [
          0,
          0.16129032258064516,
          0.16129032258064516,
          0
         ],
         "yaxis": "y"
        },
        {
         "hoverinfo": "all",
         "marker": {
          "color": "rgb(255,220,0)"
         },
         "mode": "lines",
         "text": null,
         "type": "scatter",
         "x": [
          1965,
          1965,
          1980,
          1980
         ],
         "xaxis": "x",
         "y": [
          0,
          0.2222222222222222,
          0.2222222222222222,
          0.16129032258064516
         ],
         "yaxis": "y"
        },
        {
         "hoverinfo": "all",
         "marker": {
          "color": "rgb(255,220,0)"
         },
         "mode": "lines",
         "text": null,
         "type": "scatter",
         "x": [
          1950,
          1950,
          1972.5,
          1972.5
         ],
         "xaxis": "x",
         "y": [
          0.1504424778761062,
          0.26,
          0.26,
          0.2222222222222222
         ],
         "yaxis": "y"
        },
        {
         "hoverinfo": "all",
         "marker": {
          "color": "rgb(255,220,0)"
         },
         "mode": "lines",
         "text": null,
         "type": "scatter",
         "x": [
          1913.125,
          1913.125,
          1961.25,
          1961.25
         ],
         "xaxis": "x",
         "y": [
          0.24561403508771928,
          0.2830188679245283,
          0.2830188679245283,
          0.26
         ],
         "yaxis": "y"
        },
        {
         "hoverinfo": "all",
         "marker": {
          "color": "rgb(255,220,0)"
         },
         "mode": "lines",
         "text": null,
         "type": "scatter",
         "x": [
          1865,
          1865,
          1937.1875,
          1937.1875
         ],
         "xaxis": "x",
         "y": [
          0,
          0.3142857142857143,
          0.3142857142857143,
          0.2830188679245283
         ],
         "yaxis": "y"
        },
        {
         "hoverinfo": "all",
         "marker": {
          "color": "rgb(255,220,0)"
         },
         "mode": "lines",
         "text": null,
         "type": "scatter",
         "x": [
          1855,
          1855,
          1901.09375,
          1901.09375
         ],
         "xaxis": "x",
         "y": [
          0,
          0.3786407766990291,
          0.3786407766990291,
          0.3142857142857143
         ],
         "yaxis": "y"
        },
        {
         "hoverinfo": "all",
         "marker": {
          "color": "rgb(255,220,0)"
         },
         "mode": "lines",
         "text": null,
         "type": "scatter",
         "x": [
          1845,
          1845,
          1878.046875,
          1878.046875
         ],
         "xaxis": "x",
         "y": [
          0,
          0.4956521739130435,
          0.4956521739130435,
          0.3786407766990291
         ],
         "yaxis": "y"
        },
        {
         "hoverinfo": "all",
         "marker": {
          "color": "rgb(255,220,0)"
         },
         "mode": "lines",
         "text": null,
         "type": "scatter",
         "x": [
          1835,
          1835,
          1861.5234375,
          1861.5234375
         ],
         "xaxis": "x",
         "y": [
          0,
          0.635036496350365,
          0.635036496350365,
          0.4956521739130435
         ],
         "yaxis": "y"
        },
        {
         "hoverinfo": "all",
         "marker": {
          "color": "rgb(255,220,0)"
         },
         "mode": "lines",
         "text": null,
         "type": "scatter",
         "x": [
          1752.8125,
          1752.8125,
          1848.26171875,
          1848.26171875
         ],
         "xaxis": "x",
         "y": [
          0.6346153846153846,
          0.7281553398058253,
          0.7281553398058253,
          0.635036496350365
         ],
         "yaxis": "y"
        },
        {
         "hoverinfo": "all",
         "marker": {
          "color": "rgb(0,116,217)"
         },
         "mode": "lines",
         "text": null,
         "type": "scatter",
         "x": [
          1694.375,
          1694.375,
          1800.537109375,
          1800.537109375
         ],
         "xaxis": "x",
         "y": [
          0.6036036036036037,
          0.8117647058823529,
          0.8117647058823529,
          0.7281553398058253
         ],
         "yaxis": "y"
        },
        {
         "hoverinfo": "all",
         "marker": {
          "color": "rgb(0,116,217)"
         },
         "mode": "lines",
         "text": null,
         "type": "scatter",
         "x": [
          1585.390625,
          1585.390625,
          1747.4560546875,
          1747.4560546875
         ],
         "xaxis": "x",
         "y": [
          0.7912087912087912,
          0.9304347826086956,
          0.9304347826086956,
          0.8117647058823529
         ],
         "yaxis": "y"
        },
        {
         "hoverinfo": "all",
         "marker": {
          "color": "rgb(0,116,217)"
         },
         "mode": "lines",
         "text": null,
         "type": "scatter",
         "x": [
          833.6627197265625,
          833.6627197265625,
          1666.42333984375,
          1666.42333984375
         ],
         "xaxis": "x",
         "y": [
          0.8205128205128205,
          0.9885057471264368,
          0.9885057471264368,
          0.9304347826086956
         ],
         "yaxis": "y"
        }
       ],
       "layout": {
        "autosize": false,
        "height": 500,
        "hovermode": "closest",
        "showlegend": false,
        "title": "BioDendro",
        "width": 900,
        "xaxis": {
         "mirror": "allticks",
         "rangemode": "tozero",
         "showgrid": false,
         "showline": true,
         "showticklabels": true,
         "tickmode": "array",
         "ticks": "outside",
         "ticktext": [
          "QE_2017_001814_209.08058_363.0",
          "QE_2017_001816_207.13779_561.0",
          "QE_2017_001815_201.16367_442.0",
          "QE_2017_001816_201.16362_435.0",
          "QE_2017_001816_137.09584_445.0",
          "QE_2017_001814_191.14291_389.0",
          "QE_2017_001815_191.14287_312.0",
          "QE_2017_001816_191.14291_404.0",
          "QE_2017_001815_181.1221_767.0",
          "QE_2017_001816_181.12199_794.0",
          "QE_2017_001814_227.1275_293.0",
          "QE_2017_001816_227.12766_295.0",
          "QE_2017_001814_209.15335_478.0",
          "QE_2017_001815_209.1535_312.0",
          "QE_2017_001816_209.15344_311.0",
          "QE_2017_001815_227.16408_344.0",
          "QE_2017_001816_209.15341_296.0",
          "QE_2017_001814_293.2106_579.0",
          "QE_2017_001815_283.19009_564.0",
          "QE_2017_001814_219.17416_517.0",
          "QE_2017_001815_219.17426_497.0",
          "QE_2017_001814_219.17401_452.0",
          "QE_2017_001814_219.17409_442.0",
          "QE_2017_001816_211.16916_405.0",
          "QE_2017_001815_209.0807_405.0",
          "QE_2017_001814_211.16902_440.0",
          "QE_2017_001815_211.16913_450.0",
          "QE_2017_001814_215.16406_483.0",
          "QE_2017_001815_215.164_550.0",
          "QE_2017_001815_207.13785_297.0",
          "QE_2017_001814_243.15892_533.0",
          "QE_2017_001814_281.1745_492.0",
          "QE_2017_001816_268.59351_445.0",
          "QE_2017_001814_222.07031_314.0",
          "QE_2017_001814_250.10149_516.0",
          "QE_2017_001815_214.51021_60.0",
          "QE_2017_001814_247.05975_245.0",
          "QE_2017_001815_247.0598_242.0",
          "QE_2017_001816_219.04672_291.0",
          "QE_2017_001815_212.03883_181.0",
          "QE_2017_001815_214.56488_409.0",
          "QE_2017_001816_132.04436_283.0",
          "QE_2017_001814_194.1174_244.0",
          "QE_2017_001815_194.11745_132.0",
          "QE_2017_001814_194.04424_237.0",
          "QE_2017_001814_194.1174_217.0",
          "QE_2017_001816_229.15469_52.0",
          "QE_2017_001814_229.15399_46.0",
          "QE_2017_001814_229.15451_65.0",
          "QE_2017_001815_246.14465_137.0",
          "QE_2017_001816_247.12863_162.0",
          "QE_2017_001815_260.16016_140.0",
          "QE_2017_001816_260.16022_145.0",
          "QE_2017_001815_233.14944_150.0",
          "QE_2017_001814_233.14948_126.0",
          "QE_2017_001816_233.14955_129.0",
          "QE_2017_001815_194.04469_299.0",
          "QE_2017_001815_194.04474_327.0",
          "QE_2017_001816_212.05518_300.0",
          "QE_2017_001815_194.04471_314.0",
          "QE_2017_001815_212.05513_328.0",
          "QE_2017_001815_194.04471_397.0",
          "QE_2017_001814_226.07077_397.0",
          "QE_2017_001815_212.05505_267.0",
          "QE_2017_001815_182.08109_52.0",
          "QE_2017_001816_199.98772_359.0",
          "QE_2017_001814_199.98772_303.0",
          "QE_2017_001815_199.98772_253.0",
          "QE_2017_001815_199.98779_30.0",
          "QE_2017_001816_199.98779_335.0",
          "QE_2017_001816_199.98769_294.0",
          "QE_2017_001814_199.98778_290.0",
          "QE_2017_001815_199.98772_326.0",
          "QE_2017_001816_199.98781_313.0",
          "QE_2017_001816_177.05449_217.0",
          "QE_2017_001814_177.05418_236.0",
          "QE_2017_001815_177.05444_307.0",
          "QE_2017_001815_260.16016_64.0",
          "QE_2017_001815_595.16559_315.0",
          "QE_2017_001815_463.12268_358.0",
          "QE_2017_001815_625.17633_345.0",
          "QE_2017_001815_265.01532_33.0",
          "QE_2017_001815_141.0508_33.0",
          "QE_2017_001815_797.51746_866.0",
          "QE_2017_001814_237.12305_220.0",
          "QE_2017_001815_237.12315_52.0",
          "QE_2017_001814_251.09117_393.0",
          "QE_2017_001815_219.10139_360.0",
          "QE_2017_001815_219.10146_381.0",
          "QE_2017_001815_219.10159_438.0",
          "QE_2017_001814_171.14908_419.0",
          "QE_2017_001814_483.27118_651.0",
          "QE_2017_001814_129.12737_348.0",
          "QE_2017_001816_338.26062_643.0",
          "QE_2017_001814_320.29456_577.0",
          "QE_2017_001815_320.29471_563.0",
          "QE_2017_001816_320.29483_548.0",
          "QE_2017_001815_332.25827_508.0",
          "QE_2017_001814_332.25842_486.0",
          "QE_2017_001816_332.25842_487.0",
          "QE_2017_001815_273.13425_199.0",
          "QE_2017_001815_273.13434_243.0",
          "QE_2017_001816_291.14499_200.0",
          "QE_2017_001814_291.1442_241.0",
          "QE_2017_001815_291.14493_242.0",
          "QE_2017_001814_251.13872_201.0",
          "QE_2017_001815_235.14388_180.0",
          "QE_2017_001815_235.14398_226.0",
          "QE_2017_001815_319.13623_118.0",
          "QE_2017_001816_319.13614_143.0",
          "QE_2017_001814_320.29468_638.0",
          "QE_2017_001814_320.29471_529.0",
          "QE_2017_001814_320.29477_539.0",
          "QE_2017_001815_221.12837_99.0",
          "QE_2017_001816_237.12325_171.0",
          "QE_2017_001814_241.15446_57.0",
          "QE_2017_001814_241.15384_47.0",
          "QE_2017_001815_241.15437_67.0",
          "QE_2017_001814_332.25827_467.0",
          "QE_2017_001815_333.15173_245.0",
          "QE_2017_001816_333.15204_235.0",
          "QE_2017_001814_347.09097_122.0",
          "QE_2017_001815_347.09067_204.0",
          "QE_2017_001816_533.15442_247.0",
          "QE_2017_001816_533.15466_222.0",
          "QE_2017_001815_533.1546_207.0",
          "QE_2017_001816_533.1546_271.0",
          "QE_2017_001815_268.10373_58.0",
          "QE_2017_001816_269.16055_60.0",
          "QE_2017_001814_364.34241_751.0",
          "QE_2017_001814_424.36325_711.0",
          "QE_2017_001814_364.34244_761.0",
          "QE_2017_001814_421.35211_732.0",
          "QE_2017_001815_364.34189_705.0",
          "QE_2017_001814_408.3681_703.0",
          "QE_2017_001816_466.40979_731.0",
          "QE_2017_001815_408.36853_717.0",
          "QE_2017_001815_482.40488_739.0",
          "QE_2017_001815_507.18192_178.0",
          "QE_2017_001816_463.12311_410.0",
          "QE_2017_001814_611.15997_285.0",
          "QE_2017_001816_611.16064_309.0",
          "QE_2017_001814_339.10742_366.0",
          "QE_2017_001816_339.10733_298.0",
          "QE_2017_001814_231.04967_404.0",
          "QE_2017_001815_231.04968_315.0",
          "QE_2017_001814_231.04971_516.0",
          "QE_2017_001815_231.04971_369.0",
          "QE_2017_001815_314.14453_76.0",
          "QE_2017_001816_314.14462_79.0",
          "QE_2017_001816_310.14957_134.0",
          "QE_2017_001816_342.17584_257.0",
          "QE_2017_001814_498.2543_475.0",
          "QE_2017_001815_340.16019_314.0",
          "QE_2017_001814_618.42633_695.0",
          "QE_2017_001814_601.42426_706.0",
          "QE_2017_001816_583.41382_731.0",
          "QE_2017_001814_599.40918_659.0",
          "QE_2017_001816_599.40869_793.0",
          "QE_2017_001815_618.42773_646.0",
          "QE_2017_001816_618.427_682.0",
          "QE_2017_001815_568.42627_841.0",
          "QE_2017_001814_601.42334_783.0",
          "QE_2017_001815_583.41388_735.0",
          "QE_2017_001815_583.41418_647.0",
          "QE_2017_001814_565.4035_722.0",
          "QE_2017_001814_583.41406_682.0",
          "QE_2017_001815_583.41406_707.0",
          "QE_2017_001815_792.5625_866.0",
          "QE_2017_001814_596.30963_602.0",
          "QE_2017_001816_613.48218_838.0",
          "QE_2017_001814_792.56207_723.0",
          "QE_2017_001815_613.4826_734.0",
          "QE_2017_001816_272.25824_582.0",
          "QE_2017_001814_338.34146_850.0",
          "QE_2017_001815_244.19048_762.0",
          "QE_2017_001816_435.25037_666.0",
          "QE_2017_001816_337.27338_826.0",
          "QE_2017_001816_337.27341_632.0",
          "QE_2017_001814_353.26868_633.0",
          "QE_2017_001816_353.26892_600.0",
          "QE_2017_001814_278.24756_683.0",
          "QE_2017_001814_279.23157_719.0",
          "QE_2017_001815_571.4292_870.0",
          "QE_2017_001814_497.31033_643.0",
          "QE_2017_001815_507.27145_607.0",
          "QE_2017_001815_571.47168_711.0",
          "QE_2017_001814_335.25772_725.0",
          "QE_2017_001814_335.25784_608.0",
          "QE_2017_001816_335.25772_723.0",
          "QE_2017_001814_335.25784_628.0",
          "QE_2017_001815_335.25745_642.0",
          "QE_2017_001814_261.22073_634.0",
          "QE_2017_001815_335.25784_587.0",
          "QE_2017_001814_353.26889_609.0",
          "QE_2017_001815_353.26862_642.0",
          "QE_2017_001815_261.22073_643.0",
          "QE_2017_001814_335.25772_638.0",
          "QE_2017_001815_335.2579_601.0"
         ],
         "tickvals": [
          5,
          15,
          25,
          35,
          45,
          55,
          65,
          75,
          85,
          95,
          105,
          115,
          125,
          135,
          145,
          155,
          165,
          175,
          185,
          195,
          205,
          215,
          225,
          235,
          245,
          255,
          265,
          275,
          285,
          295,
          305,
          315,
          325,
          335,
          345,
          355,
          365,
          375,
          385,
          395,
          405,
          415,
          425,
          435,
          445,
          455,
          465,
          475,
          485,
          495,
          505,
          515,
          525,
          535,
          545,
          555,
          565,
          575,
          585,
          595,
          605,
          615,
          625,
          635,
          645,
          655,
          665,
          675,
          685,
          695,
          705,
          715,
          725,
          735,
          745,
          755,
          765,
          775,
          785,
          795,
          805,
          815,
          825,
          835,
          845,
          855,
          865,
          875,
          885,
          895,
          905,
          915,
          925,
          935,
          945,
          955,
          965,
          975,
          985,
          995,
          1005,
          1015,
          1025,
          1035,
          1045,
          1055,
          1065,
          1075,
          1085,
          1095,
          1105,
          1115,
          1125,
          1135,
          1145,
          1155,
          1165,
          1175,
          1185,
          1195,
          1205,
          1215,
          1225,
          1235,
          1245,
          1255,
          1265,
          1275,
          1285,
          1295,
          1305,
          1315,
          1325,
          1335,
          1345,
          1355,
          1365,
          1375,
          1385,
          1395,
          1405,
          1415,
          1425,
          1435,
          1445,
          1455,
          1465,
          1475,
          1485,
          1495,
          1505,
          1515,
          1525,
          1535,
          1545,
          1555,
          1565,
          1575,
          1585,
          1595,
          1605,
          1615,
          1625,
          1635,
          1645,
          1655,
          1665,
          1675,
          1685,
          1695,
          1705,
          1715,
          1725,
          1735,
          1745,
          1755,
          1765,
          1775,
          1785,
          1795,
          1805,
          1815,
          1825,
          1835,
          1845,
          1855,
          1865,
          1875,
          1885,
          1895,
          1905,
          1915,
          1925,
          1935,
          1945,
          1955,
          1965,
          1975,
          1985
         ],
         "title": "sample",
         "type": "linear",
         "zeroline": false
        },
        "yaxis": {
         "mirror": "allticks",
         "rangemode": "tozero",
         "showgrid": false,
         "showline": true,
         "showticklabels": true,
         "ticks": "outside",
         "title": "distance",
         "type": "linear",
         "zeroline": false
        }
       }
      },
      "text/html": [
       "<div id=\"55249d27-5d02-4667-98e0-721ba98f2a91\" style=\"height: 500px; width: 900px;\" class=\"plotly-graph-div\"></div><script type=\"text/javascript\">require([\"plotly\"], function(Plotly) { window.PLOTLYENV=window.PLOTLYENV || {};window.PLOTLYENV.BASE_URL=\"https://plot.ly\";Plotly.newPlot(\"55249d27-5d02-4667-98e0-721ba98f2a91\", [{\"type\": \"scatter\", \"x\": [5.0, 5.0, 15.0, 15.0], \"y\": [0.0, 0.4827586206896552, 0.4827586206896552, 0.0], \"mode\": \"lines\", \"marker\": {\"color\": \"rgb(61,153,112)\"}, \"text\": null, \"hoverinfo\": \"all\", \"xaxis\": \"x\", \"yaxis\": \"y\"}, {\"type\": \"scatter\", \"x\": [25.0, 25.0, 35.0, 35.0], \"y\": [0.0, 0.20279720279720279, 0.20279720279720279, 0.0], \"mode\": \"lines\", \"marker\": {\"color\": \"rgb(61,153,112)\"}, \"text\": null, \"hoverinfo\": \"all\", \"xaxis\": \"x\", \"yaxis\": \"y\"}, {\"type\": \"scatter\", \"x\": [65.0, 65.0, 75.0, 75.0], \"y\": [0.0, 0.1724137931034483, 0.1724137931034483, 0.0], \"mode\": \"lines\", \"marker\": {\"color\": \"rgb(61,153,112)\"}, \"text\": null, \"hoverinfo\": \"all\", \"xaxis\": \"x\", \"yaxis\": \"y\"}, {\"type\": \"scatter\", \"x\": [55.0, 55.0, 70.0, 70.0], \"y\": [0.0, 0.2, 0.2, 0.1724137931034483], \"mode\": \"lines\", \"marker\": {\"color\": \"rgb(61,153,112)\"}, \"text\": null, \"hoverinfo\": \"all\", \"xaxis\": \"x\", \"yaxis\": \"y\"}, {\"type\": \"scatter\", \"x\": [45.0, 45.0, 62.5, 62.5], \"y\": [0.0, 0.30578512396694213, 0.30578512396694213, 0.2], \"mode\": \"lines\", \"marker\": {\"color\": \"rgb(61,153,112)\"}, \"text\": null, \"hoverinfo\": \"all\", \"xaxis\": \"x\", \"yaxis\": \"y\"}, {\"type\": \"scatter\", \"x\": [85.0, 85.0, 95.0, 95.0], \"y\": [0.0, 0.0847457627118644, 0.0847457627118644, 0.0], \"mode\": \"lines\", \"marker\": {\"color\": \"rgb(61,153,112)\"}, \"text\": null, \"hoverinfo\": \"all\", \"xaxis\": \"x\", \"yaxis\": \"y\"}, {\"type\": \"scatter\", \"x\": [105.0, 105.0, 115.0, 115.0], \"y\": [0.0, 0.13609467455621302, 0.13609467455621302, 0.0], \"mode\": \"lines\", \"marker\": {\"color\": \"rgb(61,153,112)\"}, \"text\": null, \"hoverinfo\": \"all\", \"xaxis\": \"x\", \"yaxis\": \"y\"}, {\"type\": \"scatter\", \"x\": [90.0, 90.0, 110.0, 110.0], \"y\": [0.0847457627118644, 0.3246753246753247, 0.3246753246753247, 0.13609467455621302], \"mode\": \"lines\", \"marker\": {\"color\": \"rgb(61,153,112)\"}, \"text\": null, \"hoverinfo\": \"all\", \"xaxis\": \"x\", \"yaxis\": \"y\"}, {\"type\": \"scatter\", \"x\": [53.75, 53.75, 100.0, 100.0], \"y\": [0.30578512396694213, 0.3793103448275862, 0.3793103448275862, 0.3246753246753247], \"mode\": \"lines\", \"marker\": {\"color\": \"rgb(61,153,112)\"}, \"text\": null, \"hoverinfo\": \"all\", \"xaxis\": \"x\", \"yaxis\": \"y\"}, {\"type\": \"scatter\", \"x\": [135.0, 135.0, 145.0, 145.0], \"y\": [0.0, 0.11731843575418995, 0.11731843575418995, 0.0], \"mode\": \"lines\", \"marker\": {\"color\": \"rgb(61,153,112)\"}, \"text\": null, \"hoverinfo\": \"all\", \"xaxis\": \"x\", \"yaxis\": \"y\"}, {\"type\": \"scatter\", \"x\": [125.0, 125.0, 140.0, 140.0], \"y\": [0.0, 0.17045454545454544, 0.17045454545454544, 0.11731843575418995], \"mode\": \"lines\", \"marker\": {\"color\": \"rgb(61,153,112)\"}, \"text\": null, \"hoverinfo\": \"all\", \"xaxis\": \"x\", \"yaxis\": \"y\"}, {\"type\": \"scatter\", \"x\": [155.0, 155.0, 165.0, 165.0], \"y\": [0.0, 0.20454545454545456, 0.20454545454545456, 0.0], \"mode\": \"lines\", \"marker\": {\"color\": \"rgb(61,153,112)\"}, \"text\": null, \"hoverinfo\": \"all\", \"xaxis\": \"x\", \"yaxis\": \"y\"}, {\"type\": \"scatter\", \"x\": [132.5, 132.5, 160.0, 160.0], \"y\": [0.17045454545454544, 0.24022346368715083, 0.24022346368715083, 0.20454545454545456], \"mode\": \"lines\", \"marker\": {\"color\": \"rgb(61,153,112)\"}, \"text\": null, \"hoverinfo\": \"all\", \"xaxis\": \"x\", \"yaxis\": \"y\"}, {\"type\": \"scatter\", \"x\": [175.0, 175.0, 185.0, 185.0], \"y\": [0.0, 0.27, 0.27, 0.0], \"mode\": \"lines\", \"marker\": {\"color\": \"rgb(61,153,112)\"}, \"text\": null, \"hoverinfo\": \"all\", \"xaxis\": \"x\", \"yaxis\": \"y\"}, {\"type\": \"scatter\", \"x\": [146.25, 146.25, 180.0, 180.0], \"y\": [0.24022346368715083, 0.33689839572192515, 0.33689839572192515, 0.27], \"mode\": \"lines\", \"marker\": {\"color\": \"rgb(61,153,112)\"}, \"text\": null, \"hoverinfo\": \"all\", \"xaxis\": \"x\", \"yaxis\": \"y\"}, {\"type\": \"scatter\", \"x\": [215.0, 215.0, 225.0, 225.0], \"y\": [0.0, 0.1111111111111111, 0.1111111111111111, 0.0], \"mode\": \"lines\", \"marker\": {\"color\": \"rgb(61,153,112)\"}, \"text\": null, \"hoverinfo\": \"all\", \"xaxis\": \"x\", \"yaxis\": \"y\"}, {\"type\": \"scatter\", \"x\": [205.0, 205.0, 220.0, 220.0], \"y\": [0.0, 0.14864864864864866, 0.14864864864864866, 0.1111111111111111], \"mode\": \"lines\", \"marker\": {\"color\": \"rgb(61,153,112)\"}, \"text\": null, \"hoverinfo\": \"all\", \"xaxis\": \"x\", \"yaxis\": \"y\"}, {\"type\": \"scatter\", \"x\": [195.0, 195.0, 212.5, 212.5], \"y\": [0.0, 0.20588235294117646, 0.20588235294117646, 0.14864864864864866], \"mode\": \"lines\", \"marker\": {\"color\": \"rgb(61,153,112)\"}, \"text\": null, \"hoverinfo\": \"all\", \"xaxis\": \"x\", \"yaxis\": \"y\"}, {\"type\": \"scatter\", \"x\": [255.0, 255.0, 265.0, 265.0], \"y\": [0.0, 0.06578947368421052, 0.06578947368421052, 0.0], \"mode\": \"lines\", \"marker\": {\"color\": \"rgb(61,153,112)\"}, \"text\": null, \"hoverinfo\": \"all\", \"xaxis\": \"x\", \"yaxis\": \"y\"}, {\"type\": \"scatter\", \"x\": [245.0, 245.0, 260.0, 260.0], \"y\": [0.0, 0.0728476821192053, 0.0728476821192053, 0.06578947368421052], \"mode\": \"lines\", \"marker\": {\"color\": \"rgb(61,153,112)\"}, \"text\": null, \"hoverinfo\": \"all\", \"xaxis\": \"x\", \"yaxis\": \"y\"}, {\"type\": \"scatter\", \"x\": [235.0, 235.0, 252.5, 252.5], \"y\": [0.0, 0.1125, 0.1125, 0.0728476821192053], \"mode\": \"lines\", \"marker\": {\"color\": \"rgb(61,153,112)\"}, \"text\": null, \"hoverinfo\": \"all\", \"xaxis\": \"x\", \"yaxis\": \"y\"}, {\"type\": \"scatter\", \"x\": [275.0, 275.0, 285.0, 285.0], \"y\": [0.0, 0.20930232558139536, 0.20930232558139536, 0.0], \"mode\": \"lines\", \"marker\": {\"color\": \"rgb(61,153,112)\"}, \"text\": null, \"hoverinfo\": \"all\", \"xaxis\": \"x\", \"yaxis\": \"y\"}, {\"type\": \"scatter\", \"x\": [243.75, 243.75, 280.0, 280.0], \"y\": [0.1125, 0.2484076433121019, 0.2484076433121019, 0.20930232558139536], \"mode\": \"lines\", \"marker\": {\"color\": \"rgb(61,153,112)\"}, \"text\": null, \"hoverinfo\": \"all\", \"xaxis\": \"x\", \"yaxis\": \"y\"}, {\"type\": \"scatter\", \"x\": [305.0, 305.0, 315.0, 315.0], \"y\": [0.0, 0.14285714285714285, 0.14285714285714285, 0.0], \"mode\": \"lines\", \"marker\": {\"color\": \"rgb(61,153,112)\"}, \"text\": null, \"hoverinfo\": \"all\", \"xaxis\": \"x\", \"yaxis\": \"y\"}, {\"type\": \"scatter\", \"x\": [295.0, 295.0, 310.0, 310.0], \"y\": [0.0, 0.2875, 0.2875, 0.14285714285714285], \"mode\": \"lines\", \"marker\": {\"color\": \"rgb(61,153,112)\"}, \"text\": null, \"hoverinfo\": \"all\", \"xaxis\": \"x\", \"yaxis\": \"y\"}, {\"type\": \"scatter\", \"x\": [261.875, 261.875, 302.5, 302.5], \"y\": [0.2484076433121019, 0.3383458646616541, 0.3383458646616541, 0.2875], \"mode\": \"lines\", \"marker\": {\"color\": \"rgb(61,153,112)\"}, \"text\": null, \"hoverinfo\": \"all\", \"xaxis\": \"x\", \"yaxis\": \"y\"}, {\"type\": \"scatter\", \"x\": [203.75, 203.75, 282.1875, 282.1875], \"y\": [0.20588235294117646, 0.34285714285714286, 0.34285714285714286, 0.3383458646616541], \"mode\": \"lines\", \"marker\": {\"color\": \"rgb(61,153,112)\"}, \"text\": null, \"hoverinfo\": \"all\", \"xaxis\": \"x\", \"yaxis\": \"y\"}, {\"type\": \"scatter\", \"x\": [163.125, 163.125, 242.96875, 242.96875], \"y\": [0.33689839572192515, 0.38562091503267976, 0.38562091503267976, 0.34285714285714286], \"mode\": \"lines\", \"marker\": {\"color\": \"rgb(61,153,112)\"}, \"text\": null, \"hoverinfo\": \"all\", \"xaxis\": \"x\", \"yaxis\": \"y\"}, {\"type\": \"scatter\", \"x\": [76.875, 76.875, 203.046875, 203.046875], \"y\": [0.3793103448275862, 0.44516129032258067, 0.44516129032258067, 0.38562091503267976], \"mode\": \"lines\", \"marker\": {\"color\": \"rgb(61,153,112)\"}, \"text\": null, \"hoverinfo\": \"all\", \"xaxis\": \"x\", \"yaxis\": \"y\"}, {\"type\": \"scatter\", \"x\": [30.0, 30.0, 139.9609375, 139.9609375], \"y\": [0.20279720279720279, 0.5, 0.5, 0.44516129032258067], \"mode\": \"lines\", \"marker\": {\"color\": \"rgb(61,153,112)\"}, \"text\": null, \"hoverinfo\": \"all\", \"xaxis\": \"x\", \"yaxis\": \"y\"}, {\"type\": \"scatter\", \"x\": [10.0, 10.0, 84.98046875, 84.98046875], \"y\": [0.4827586206896552, 0.5789473684210527, 0.5789473684210527, 0.5], \"mode\": \"lines\", \"marker\": {\"color\": \"rgb(61,153,112)\"}, \"text\": null, \"hoverinfo\": \"all\", \"xaxis\": \"x\", \"yaxis\": \"y\"}, {\"type\": \"scatter\", \"x\": [335.0, 335.0, 345.0, 345.0], \"y\": [0.0, 0.15270935960591134, 0.15270935960591134, 0.0], \"mode\": \"lines\", \"marker\": {\"color\": \"rgb(61,153,112)\"}, \"text\": null, \"hoverinfo\": \"all\", \"xaxis\": \"x\", \"yaxis\": \"y\"}, {\"type\": \"scatter\", \"x\": [325.0, 325.0, 340.0, 340.0], \"y\": [0.0, 0.308411214953271, 0.308411214953271, 0.15270935960591134], \"mode\": \"lines\", \"marker\": {\"color\": \"rgb(61,153,112)\"}, \"text\": null, \"hoverinfo\": \"all\", \"xaxis\": \"x\", \"yaxis\": \"y\"}, {\"type\": \"scatter\", \"x\": [365.0, 365.0, 375.0, 375.0], \"y\": [0.0, 0.075, 0.075, 0.0], \"mode\": \"lines\", \"marker\": {\"color\": \"rgb(61,153,112)\"}, \"text\": null, \"hoverinfo\": \"all\", \"xaxis\": \"x\", \"yaxis\": \"y\"}, {\"type\": \"scatter\", \"x\": [395.0, 395.0, 405.0, 405.0], \"y\": [0.0, 0.15714285714285714, 0.15714285714285714, 0.0], \"mode\": \"lines\", \"marker\": {\"color\": \"rgb(61,153,112)\"}, \"text\": null, \"hoverinfo\": \"all\", \"xaxis\": \"x\", \"yaxis\": \"y\"}, {\"type\": \"scatter\", \"x\": [385.0, 385.0, 400.0, 400.0], \"y\": [0.0, 0.1836734693877551, 0.1836734693877551, 0.15714285714285714], \"mode\": \"lines\", \"marker\": {\"color\": \"rgb(61,153,112)\"}, \"text\": null, \"hoverinfo\": \"all\", \"xaxis\": \"x\", \"yaxis\": \"y\"}, {\"type\": \"scatter\", \"x\": [370.0, 370.0, 392.5, 392.5], \"y\": [0.075, 0.25161290322580643, 0.25161290322580643, 0.1836734693877551], \"mode\": \"lines\", \"marker\": {\"color\": \"rgb(61,153,112)\"}, \"text\": null, \"hoverinfo\": \"all\", \"xaxis\": \"x\", \"yaxis\": \"y\"}, {\"type\": \"scatter\", \"x\": [425.0, 425.0, 435.0, 435.0], \"y\": [0.0, 0.08860759493670886, 0.08860759493670886, 0.0], \"mode\": \"lines\", \"marker\": {\"color\": \"rgb(61,153,112)\"}, \"text\": null, \"hoverinfo\": \"all\", \"xaxis\": \"x\", \"yaxis\": \"y\"}, {\"type\": \"scatter\", \"x\": [445.0, 445.0, 455.0, 455.0], \"y\": [0.0, 0.10714285714285714, 0.10714285714285714, 0.0], \"mode\": \"lines\", \"marker\": {\"color\": \"rgb(61,153,112)\"}, \"text\": null, \"hoverinfo\": \"all\", \"xaxis\": \"x\", \"yaxis\": \"y\"}, {\"type\": \"scatter\", \"x\": [430.0, 430.0, 450.0, 450.0], \"y\": [0.08860759493670886, 0.17647058823529413, 0.17647058823529413, 0.10714285714285714], \"mode\": \"lines\", \"marker\": {\"color\": \"rgb(61,153,112)\"}, \"text\": null, \"hoverinfo\": \"all\", \"xaxis\": \"x\", \"yaxis\": \"y\"}, {\"type\": \"scatter\", \"x\": [475.0, 475.0, 485.0, 485.0], \"y\": [0.0, 0.03225806451612903, 0.03225806451612903, 0.0], \"mode\": \"lines\", \"marker\": {\"color\": \"rgb(61,153,112)\"}, \"text\": null, \"hoverinfo\": \"all\", \"xaxis\": \"x\", \"yaxis\": \"y\"}, {\"type\": \"scatter\", \"x\": [465.0, 465.0, 480.0, 480.0], \"y\": [0.0, 0.18238993710691823, 0.18238993710691823, 0.03225806451612903], \"mode\": \"lines\", \"marker\": {\"color\": \"rgb(61,153,112)\"}, \"text\": null, \"hoverinfo\": \"all\", \"xaxis\": \"x\", \"yaxis\": \"y\"}, {\"type\": \"scatter\", \"x\": [440.0, 440.0, 472.5, 472.5], \"y\": [0.17647058823529413, 0.26627218934911245, 0.26627218934911245, 0.18238993710691823], \"mode\": \"lines\", \"marker\": {\"color\": \"rgb(61,153,112)\"}, \"text\": null, \"hoverinfo\": \"all\", \"xaxis\": \"x\", \"yaxis\": \"y\"}, {\"type\": \"scatter\", \"x\": [415.0, 415.0, 456.25, 456.25], \"y\": [0.0, 0.27710843373493976, 0.27710843373493976, 0.26627218934911245], \"mode\": \"lines\", \"marker\": {\"color\": \"rgb(61,153,112)\"}, \"text\": null, \"hoverinfo\": \"all\", \"xaxis\": \"x\", \"yaxis\": \"y\"}, {\"type\": \"scatter\", \"x\": [495.0, 495.0, 505.0, 505.0], \"y\": [0.0, 0.0975609756097561, 0.0975609756097561, 0.0], \"mode\": \"lines\", \"marker\": {\"color\": \"rgb(61,153,112)\"}, \"text\": null, \"hoverinfo\": \"all\", \"xaxis\": \"x\", \"yaxis\": \"y\"}, {\"type\": \"scatter\", \"x\": [515.0, 515.0, 525.0, 525.0], \"y\": [0.0, 0.04938271604938271, 0.04938271604938271, 0.0], \"mode\": \"lines\", \"marker\": {\"color\": \"rgb(61,153,112)\"}, \"text\": null, \"hoverinfo\": \"all\", \"xaxis\": \"x\", \"yaxis\": \"y\"}, {\"type\": \"scatter\", \"x\": [545.0, 545.0, 555.0, 555.0], \"y\": [0.0, 0.033112582781456956, 0.033112582781456956, 0.0], \"mode\": \"lines\", \"marker\": {\"color\": \"rgb(61,153,112)\"}, \"text\": null, \"hoverinfo\": \"all\", \"xaxis\": \"x\", \"yaxis\": \"y\"}, {\"type\": \"scatter\", \"x\": [535.0, 535.0, 550.0, 550.0], \"y\": [0.0, 0.0641025641025641, 0.0641025641025641, 0.033112582781456956], \"mode\": \"lines\", \"marker\": {\"color\": \"rgb(61,153,112)\"}, \"text\": null, \"hoverinfo\": \"all\", \"xaxis\": \"x\", \"yaxis\": \"y\"}, {\"type\": \"scatter\", \"x\": [520.0, 520.0, 542.5, 542.5], \"y\": [0.04938271604938271, 0.2125, 0.2125, 0.0641025641025641], \"mode\": \"lines\", \"marker\": {\"color\": \"rgb(61,153,112)\"}, \"text\": null, \"hoverinfo\": \"all\", \"xaxis\": \"x\", \"yaxis\": \"y\"}, {\"type\": \"scatter\", \"x\": [500.0, 500.0, 531.25, 531.25], \"y\": [0.0975609756097561, 0.2891566265060241, 0.2891566265060241, 0.2125], \"mode\": \"lines\", \"marker\": {\"color\": \"rgb(61,153,112)\"}, \"text\": null, \"hoverinfo\": \"all\", \"xaxis\": \"x\", \"yaxis\": \"y\"}, {\"type\": \"scatter\", \"x\": [435.625, 435.625, 515.625, 515.625], \"y\": [0.27710843373493976, 0.3372093023255814, 0.3372093023255814, 0.2891566265060241], \"mode\": \"lines\", \"marker\": {\"color\": \"rgb(61,153,112)\"}, \"text\": null, \"hoverinfo\": \"all\", \"xaxis\": \"x\", \"yaxis\": \"y\"}, {\"type\": \"scatter\", \"x\": [381.25, 381.25, 475.625, 475.625], \"y\": [0.25161290322580643, 0.36904761904761907, 0.36904761904761907, 0.3372093023255814], \"mode\": \"lines\", \"marker\": {\"color\": \"rgb(61,153,112)\"}, \"text\": null, \"hoverinfo\": \"all\", \"xaxis\": \"x\", \"yaxis\": \"y\"}, {\"type\": \"scatter\", \"x\": [355.0, 355.0, 428.4375, 428.4375], \"y\": [0.0, 0.3879781420765027, 0.3879781420765027, 0.36904761904761907], \"mode\": \"lines\", \"marker\": {\"color\": \"rgb(61,153,112)\"}, \"text\": null, \"hoverinfo\": \"all\", \"xaxis\": \"x\", \"yaxis\": \"y\"}, {\"type\": \"scatter\", \"x\": [565.0, 565.0, 575.0, 575.0], \"y\": [0.0, 0.08016877637130802, 0.08016877637130802, 0.0], \"mode\": \"lines\", \"marker\": {\"color\": \"rgb(61,153,112)\"}, \"text\": null, \"hoverinfo\": \"all\", \"xaxis\": \"x\", \"yaxis\": \"y\"}, {\"type\": \"scatter\", \"x\": [595.0, 595.0, 605.0, 605.0], \"y\": [0.0, 0.06806282722513089, 0.06806282722513089, 0.0], \"mode\": \"lines\", \"marker\": {\"color\": \"rgb(61,153,112)\"}, \"text\": null, \"hoverinfo\": \"all\", \"xaxis\": \"x\", \"yaxis\": \"y\"}, {\"type\": \"scatter\", \"x\": [625.0, 625.0, 635.0, 635.0], \"y\": [0.0, 0.1111111111111111, 0.1111111111111111, 0.0], \"mode\": \"lines\", \"marker\": {\"color\": \"rgb(61,153,112)\"}, \"text\": null, \"hoverinfo\": \"all\", \"xaxis\": \"x\", \"yaxis\": \"y\"}, {\"type\": \"scatter\", \"x\": [615.0, 615.0, 630.0, 630.0], \"y\": [0.0, 0.12280701754385964, 0.12280701754385964, 0.1111111111111111], \"mode\": \"lines\", \"marker\": {\"color\": \"rgb(61,153,112)\"}, \"text\": null, \"hoverinfo\": \"all\", \"xaxis\": \"x\", \"yaxis\": \"y\"}, {\"type\": \"scatter\", \"x\": [600.0, 600.0, 622.5, 622.5], \"y\": [0.06806282722513089, 0.14606741573033707, 0.14606741573033707, 0.12280701754385964], \"mode\": \"lines\", \"marker\": {\"color\": \"rgb(61,153,112)\"}, \"text\": null, \"hoverinfo\": \"all\", \"xaxis\": \"x\", \"yaxis\": \"y\"}, {\"type\": \"scatter\", \"x\": [585.0, 585.0, 611.25, 611.25], \"y\": [0.0, 0.2205128205128205, 0.2205128205128205, 0.14606741573033707], \"mode\": \"lines\", \"marker\": {\"color\": \"rgb(61,153,112)\"}, \"text\": null, \"hoverinfo\": \"all\", \"xaxis\": \"x\", \"yaxis\": \"y\"}, {\"type\": \"scatter\", \"x\": [570.0, 570.0, 598.125, 598.125], \"y\": [0.08016877637130802, 0.3059360730593607, 0.3059360730593607, 0.2205128205128205], \"mode\": \"lines\", \"marker\": {\"color\": \"rgb(61,153,112)\"}, \"text\": null, \"hoverinfo\": \"all\", \"xaxis\": \"x\", \"yaxis\": \"y\"}, {\"type\": \"scatter\", \"x\": [685.0, 685.0, 695.0, 695.0], \"y\": [0.0, 0.043010752688172046, 0.043010752688172046, 0.0], \"mode\": \"lines\", \"marker\": {\"color\": \"rgb(61,153,112)\"}, \"text\": null, \"hoverinfo\": \"all\", \"xaxis\": \"x\", \"yaxis\": \"y\"}, {\"type\": \"scatter\", \"x\": [675.0, 675.0, 690.0, 690.0], \"y\": [0.0, 0.05263157894736842, 0.05263157894736842, 0.043010752688172046], \"mode\": \"lines\", \"marker\": {\"color\": \"rgb(61,153,112)\"}, \"text\": null, \"hoverinfo\": \"all\", \"xaxis\": \"x\", \"yaxis\": \"y\"}, {\"type\": \"scatter\", \"x\": [665.0, 665.0, 682.5, 682.5], \"y\": [0.0, 0.0582010582010582, 0.0582010582010582, 0.05263157894736842], \"mode\": \"lines\", \"marker\": {\"color\": \"rgb(61,153,112)\"}, \"text\": null, \"hoverinfo\": \"all\", \"xaxis\": \"x\", \"yaxis\": \"y\"}, {\"type\": \"scatter\", \"x\": [655.0, 655.0, 673.75, 673.75], \"y\": [0.0, 0.06806282722513089, 0.06806282722513089, 0.0582010582010582], \"mode\": \"lines\", \"marker\": {\"color\": \"rgb(61,153,112)\"}, \"text\": null, \"hoverinfo\": \"all\", \"xaxis\": \"x\", \"yaxis\": \"y\"}, {\"type\": \"scatter\", \"x\": [725.0, 725.0, 735.0, 735.0], \"y\": [0.0, 0.030303030303030304, 0.030303030303030304, 0.0], \"mode\": \"lines\", \"marker\": {\"color\": \"rgb(61,153,112)\"}, \"text\": null, \"hoverinfo\": \"all\", \"xaxis\": \"x\", \"yaxis\": \"y\"}, {\"type\": \"scatter\", \"x\": [715.0, 715.0, 730.0, 730.0], \"y\": [0.0, 0.05583756345177665, 0.05583756345177665, 0.030303030303030304], \"mode\": \"lines\", \"marker\": {\"color\": \"rgb(61,153,112)\"}, \"text\": null, \"hoverinfo\": \"all\", \"xaxis\": \"x\", \"yaxis\": \"y\"}, {\"type\": \"scatter\", \"x\": [705.0, 705.0, 722.5, 722.5], \"y\": [0.0, 0.07, 0.07, 0.05583756345177665], \"mode\": \"lines\", \"marker\": {\"color\": \"rgb(61,153,112)\"}, \"text\": null, \"hoverinfo\": \"all\", \"xaxis\": \"x\", \"yaxis\": \"y\"}, {\"type\": \"scatter\", \"x\": [664.375, 664.375, 713.75, 713.75], \"y\": [0.06806282722513089, 0.08, 0.08, 0.07], \"mode\": \"lines\", \"marker\": {\"color\": \"rgb(61,153,112)\"}, \"text\": null, \"hoverinfo\": \"all\", \"xaxis\": \"x\", \"yaxis\": \"y\"}, {\"type\": \"scatter\", \"x\": [755.0, 755.0, 765.0, 765.0], \"y\": [0.0, 0.06930693069306931, 0.06930693069306931, 0.0], \"mode\": \"lines\", \"marker\": {\"color\": \"rgb(61,153,112)\"}, \"text\": null, \"hoverinfo\": \"all\", \"xaxis\": \"x\", \"yaxis\": \"y\"}, {\"type\": \"scatter\", \"x\": [745.0, 745.0, 760.0, 760.0], \"y\": [0.0, 0.08571428571428572, 0.08571428571428572, 0.06930693069306931], \"mode\": \"lines\", \"marker\": {\"color\": \"rgb(61,153,112)\"}, \"text\": null, \"hoverinfo\": \"all\", \"xaxis\": \"x\", \"yaxis\": \"y\"}, {\"type\": \"scatter\", \"x\": [689.0625, 689.0625, 752.5, 752.5], \"y\": [0.08, 0.23444976076555024, 0.23444976076555024, 0.08571428571428572], \"mode\": \"lines\", \"marker\": {\"color\": \"rgb(61,153,112)\"}, \"text\": null, \"hoverinfo\": \"all\", \"xaxis\": \"x\", \"yaxis\": \"y\"}, {\"type\": \"scatter\", \"x\": [645.0, 645.0, 720.78125, 720.78125], \"y\": [0.0, 0.28431372549019607, 0.28431372549019607, 0.23444976076555024], \"mode\": \"lines\", \"marker\": {\"color\": \"rgb(61,153,112)\"}, \"text\": null, \"hoverinfo\": \"all\", \"xaxis\": \"x\", \"yaxis\": \"y\"}, {\"type\": \"scatter\", \"x\": [795.0, 795.0, 805.0, 805.0], \"y\": [0.0, 0.11475409836065574, 0.11475409836065574, 0.0], \"mode\": \"lines\", \"marker\": {\"color\": \"rgb(61,153,112)\"}, \"text\": null, \"hoverinfo\": \"all\", \"xaxis\": \"x\", \"yaxis\": \"y\"}, {\"type\": \"scatter\", \"x\": [785.0, 785.0, 800.0, 800.0], \"y\": [0.0, 0.2, 0.2, 0.11475409836065574], \"mode\": \"lines\", \"marker\": {\"color\": \"rgb(61,153,112)\"}, \"text\": null, \"hoverinfo\": \"all\", \"xaxis\": \"x\", \"yaxis\": \"y\"}, {\"type\": \"scatter\", \"x\": [825.0, 825.0, 835.0, 835.0], \"y\": [0.0, 0.07317073170731707, 0.07317073170731707, 0.0], \"mode\": \"lines\", \"marker\": {\"color\": \"rgb(61,153,112)\"}, \"text\": null, \"hoverinfo\": \"all\", \"xaxis\": \"x\", \"yaxis\": \"y\"}, {\"type\": \"scatter\", \"x\": [815.0, 815.0, 830.0, 830.0], \"y\": [0.0, 0.13636363636363635, 0.13636363636363635, 0.07317073170731707], \"mode\": \"lines\", \"marker\": {\"color\": \"rgb(61,153,112)\"}, \"text\": null, \"hoverinfo\": \"all\", \"xaxis\": \"x\", \"yaxis\": \"y\"}, {\"type\": \"scatter\", \"x\": [845.0, 845.0, 855.0, 855.0], \"y\": [0.0, 0.20833333333333334, 0.20833333333333334, 0.0], \"mode\": \"lines\", \"marker\": {\"color\": \"rgb(61,153,112)\"}, \"text\": null, \"hoverinfo\": \"all\", \"xaxis\": \"x\", \"yaxis\": \"y\"}, {\"type\": \"scatter\", \"x\": [822.5, 822.5, 850.0, 850.0], \"y\": [0.13636363636363635, 0.23316062176165803, 0.23316062176165803, 0.20833333333333334], \"mode\": \"lines\", \"marker\": {\"color\": \"rgb(61,153,112)\"}, \"text\": null, \"hoverinfo\": \"all\", \"xaxis\": \"x\", \"yaxis\": \"y\"}, {\"type\": \"scatter\", \"x\": [792.5, 792.5, 836.25, 836.25], \"y\": [0.2, 0.26804123711340205, 0.26804123711340205, 0.23316062176165803], \"mode\": \"lines\", \"marker\": {\"color\": \"rgb(61,153,112)\"}, \"text\": null, \"hoverinfo\": \"all\", \"xaxis\": \"x\", \"yaxis\": \"y\"}, {\"type\": \"scatter\", \"x\": [775.0, 775.0, 814.375, 814.375], \"y\": [0.0, 0.3140096618357488, 0.3140096618357488, 0.26804123711340205], \"mode\": \"lines\", \"marker\": {\"color\": \"rgb(61,153,112)\"}, \"text\": null, \"hoverinfo\": \"all\", \"xaxis\": \"x\", \"yaxis\": \"y\"}, {\"type\": \"scatter\", \"x\": [682.890625, 682.890625, 794.6875, 794.6875], \"y\": [0.28431372549019607, 0.38181818181818183, 0.38181818181818183, 0.3140096618357488], \"mode\": \"lines\", \"marker\": {\"color\": \"rgb(61,153,112)\"}, \"text\": null, \"hoverinfo\": \"all\", \"xaxis\": \"x\", \"yaxis\": \"y\"}, {\"type\": \"scatter\", \"x\": [584.0625, 584.0625, 738.7890625, 738.7890625], \"y\": [0.3059360730593607, 0.4358974358974359, 0.4358974358974359, 0.38181818181818183], \"mode\": \"lines\", \"marker\": {\"color\": \"rgb(61,153,112)\"}, \"text\": null, \"hoverinfo\": \"all\", \"xaxis\": \"x\", \"yaxis\": \"y\"}, {\"type\": \"scatter\", \"x\": [391.71875, 391.71875, 661.42578125, 661.42578125], \"y\": [0.3879781420765027, 0.472636815920398, 0.472636815920398, 0.4358974358974359], \"mode\": \"lines\", \"marker\": {\"color\": \"rgb(61,153,112)\"}, \"text\": null, \"hoverinfo\": \"all\", \"xaxis\": \"x\", \"yaxis\": \"y\"}, {\"type\": \"scatter\", \"x\": [332.5, 332.5, 526.572265625, 526.572265625], \"y\": [0.308411214953271, 0.5466666666666666, 0.5466666666666666, 0.472636815920398], \"mode\": \"lines\", \"marker\": {\"color\": \"rgb(61,153,112)\"}, \"text\": null, \"hoverinfo\": \"all\", \"xaxis\": \"x\", \"yaxis\": \"y\"}, {\"type\": \"scatter\", \"x\": [885.0, 885.0, 895.0, 895.0], \"y\": [0.0, 0.1232876712328767, 0.1232876712328767, 0.0], \"mode\": \"lines\", \"marker\": {\"color\": \"rgb(61,153,112)\"}, \"text\": null, \"hoverinfo\": \"all\", \"xaxis\": \"x\", \"yaxis\": \"y\"}, {\"type\": \"scatter\", \"x\": [875.0, 875.0, 890.0, 890.0], \"y\": [0.0, 0.15270935960591134, 0.15270935960591134, 0.1232876712328767], \"mode\": \"lines\", \"marker\": {\"color\": \"rgb(61,153,112)\"}, \"text\": null, \"hoverinfo\": \"all\", \"xaxis\": \"x\", \"yaxis\": \"y\"}, {\"type\": \"scatter\", \"x\": [865.0, 865.0, 882.5, 882.5], \"y\": [0.0, 0.23655913978494625, 0.23655913978494625, 0.15270935960591134], \"mode\": \"lines\", \"marker\": {\"color\": \"rgb(61,153,112)\"}, \"text\": null, \"hoverinfo\": \"all\", \"xaxis\": \"x\", \"yaxis\": \"y\"}, {\"type\": \"scatter\", \"x\": [945.0, 945.0, 955.0, 955.0], \"y\": [0.0, 0.08108108108108109, 0.08108108108108109, 0.0], \"mode\": \"lines\", \"marker\": {\"color\": \"rgb(61,153,112)\"}, \"text\": null, \"hoverinfo\": \"all\", \"xaxis\": \"x\", \"yaxis\": \"y\"}, {\"type\": \"scatter\", \"x\": [935.0, 935.0, 950.0, 950.0], \"y\": [0.0, 0.1509433962264151, 0.1509433962264151, 0.08108108108108109], \"mode\": \"lines\", \"marker\": {\"color\": \"rgb(61,153,112)\"}, \"text\": null, \"hoverinfo\": \"all\", \"xaxis\": \"x\", \"yaxis\": \"y\"}, {\"type\": \"scatter\", \"x\": [925.0, 925.0, 942.5, 942.5], \"y\": [0.0, 0.28846153846153844, 0.28846153846153844, 0.1509433962264151], \"mode\": \"lines\", \"marker\": {\"color\": \"rgb(61,153,112)\"}, \"text\": null, \"hoverinfo\": \"all\", \"xaxis\": \"x\", \"yaxis\": \"y\"}, {\"type\": \"scatter\", \"x\": [915.0, 915.0, 933.75, 933.75], \"y\": [0.0, 0.3391304347826087, 0.3391304347826087, 0.28846153846153844], \"mode\": \"lines\", \"marker\": {\"color\": \"rgb(61,153,112)\"}, \"text\": null, \"hoverinfo\": \"all\", \"xaxis\": \"x\", \"yaxis\": \"y\"}, {\"type\": \"scatter\", \"x\": [905.0, 905.0, 924.375, 924.375], \"y\": [0.0, 0.3939393939393939, 0.3939393939393939, 0.3391304347826087], \"mode\": \"lines\", \"marker\": {\"color\": \"rgb(61,153,112)\"}, \"text\": null, \"hoverinfo\": \"all\", \"xaxis\": \"x\", \"yaxis\": \"y\"}, {\"type\": \"scatter\", \"x\": [985.0, 985.0, 995.0, 995.0], \"y\": [0.0, 0.10638297872340426, 0.10638297872340426, 0.0], \"mode\": \"lines\", \"marker\": {\"color\": \"rgb(61,153,112)\"}, \"text\": null, \"hoverinfo\": \"all\", \"xaxis\": \"x\", \"yaxis\": \"y\"}, {\"type\": \"scatter\", \"x\": [975.0, 975.0, 990.0, 990.0], \"y\": [0.0, 0.21678321678321677, 0.21678321678321677, 0.10638297872340426], \"mode\": \"lines\", \"marker\": {\"color\": \"rgb(61,153,112)\"}, \"text\": null, \"hoverinfo\": \"all\", \"xaxis\": \"x\", \"yaxis\": \"y\"}, {\"type\": \"scatter\", \"x\": [965.0, 965.0, 982.5, 982.5], \"y\": [0.0, 0.38571428571428573, 0.38571428571428573, 0.21678321678321677], \"mode\": \"lines\", \"marker\": {\"color\": \"rgb(61,153,112)\"}, \"text\": null, \"hoverinfo\": \"all\", \"xaxis\": \"x\", \"yaxis\": \"y\"}, {\"type\": \"scatter\", \"x\": [1005.0, 1005.0, 1015.0, 1015.0], \"y\": [0.0, 0.06382978723404255, 0.06382978723404255, 0.0], \"mode\": \"lines\", \"marker\": {\"color\": \"rgb(61,153,112)\"}, \"text\": null, \"hoverinfo\": \"all\", \"xaxis\": \"x\", \"yaxis\": \"y\"}, {\"type\": \"scatter\", \"x\": [1035.0, 1035.0, 1045.0, 1045.0], \"y\": [0.0, 0.04411764705882353, 0.04411764705882353, 0.0], \"mode\": \"lines\", \"marker\": {\"color\": \"rgb(61,153,112)\"}, \"text\": null, \"hoverinfo\": \"all\", \"xaxis\": \"x\", \"yaxis\": \"y\"}, {\"type\": \"scatter\", \"x\": [1025.0, 1025.0, 1040.0, 1040.0], \"y\": [0.0, 0.08450704225352113, 0.08450704225352113, 0.04411764705882353], \"mode\": \"lines\", \"marker\": {\"color\": \"rgb(61,153,112)\"}, \"text\": null, \"hoverinfo\": \"all\", \"xaxis\": \"x\", \"yaxis\": \"y\"}, {\"type\": \"scatter\", \"x\": [1010.0, 1010.0, 1032.5, 1032.5], \"y\": [0.06382978723404255, 0.09090909090909091, 0.09090909090909091, 0.08450704225352113], \"mode\": \"lines\", \"marker\": {\"color\": \"rgb(61,153,112)\"}, \"text\": null, \"hoverinfo\": \"all\", \"xaxis\": \"x\", \"yaxis\": \"y\"}, {\"type\": \"scatter\", \"x\": [1065.0, 1065.0, 1075.0, 1075.0], \"y\": [0.0, 0.056, 0.056, 0.0], \"mode\": \"lines\", \"marker\": {\"color\": \"rgb(61,153,112)\"}, \"text\": null, \"hoverinfo\": \"all\", \"xaxis\": \"x\", \"yaxis\": \"y\"}, {\"type\": \"scatter\", \"x\": [1055.0, 1055.0, 1070.0, 1070.0], \"y\": [0.0, 0.1746031746031746, 0.1746031746031746, 0.056], \"mode\": \"lines\", \"marker\": {\"color\": \"rgb(61,153,112)\"}, \"text\": null, \"hoverinfo\": \"all\", \"xaxis\": \"x\", \"yaxis\": \"y\"}, {\"type\": \"scatter\", \"x\": [1085.0, 1085.0, 1095.0, 1095.0], \"y\": [0.0, 0.038461538461538464, 0.038461538461538464, 0.0], \"mode\": \"lines\", \"marker\": {\"color\": \"rgb(61,153,112)\"}, \"text\": null, \"hoverinfo\": \"all\", \"xaxis\": \"x\", \"yaxis\": \"y\"}, {\"type\": \"scatter\", \"x\": [1115.0, 1115.0, 1125.0, 1125.0], \"y\": [0.0, 0.06666666666666667, 0.06666666666666667, 0.0], \"mode\": \"lines\", \"marker\": {\"color\": \"rgb(61,153,112)\"}, \"text\": null, \"hoverinfo\": \"all\", \"xaxis\": \"x\", \"yaxis\": \"y\"}, {\"type\": \"scatter\", \"x\": [1105.0, 1105.0, 1120.0, 1120.0], \"y\": [0.0, 0.11320754716981132, 0.11320754716981132, 0.06666666666666667], \"mode\": \"lines\", \"marker\": {\"color\": \"rgb(61,153,112)\"}, \"text\": null, \"hoverinfo\": \"all\", \"xaxis\": \"x\", \"yaxis\": \"y\"}, {\"type\": \"scatter\", \"x\": [1090.0, 1090.0, 1112.5, 1112.5], \"y\": [0.038461538461538464, 0.18518518518518517, 0.18518518518518517, 0.11320754716981132], \"mode\": \"lines\", \"marker\": {\"color\": \"rgb(61,153,112)\"}, \"text\": null, \"hoverinfo\": \"all\", \"xaxis\": \"x\", \"yaxis\": \"y\"}, {\"type\": \"scatter\", \"x\": [1062.5, 1062.5, 1101.25, 1101.25], \"y\": [0.1746031746031746, 0.23076923076923078, 0.23076923076923078, 0.18518518518518517], \"mode\": \"lines\", \"marker\": {\"color\": \"rgb(61,153,112)\"}, \"text\": null, \"hoverinfo\": \"all\", \"xaxis\": \"x\", \"yaxis\": \"y\"}, {\"type\": \"scatter\", \"x\": [1021.25, 1021.25, 1081.875, 1081.875], \"y\": [0.09090909090909091, 0.29133858267716534, 0.29133858267716534, 0.23076923076923078], \"mode\": \"lines\", \"marker\": {\"color\": \"rgb(61,153,112)\"}, \"text\": null, \"hoverinfo\": \"all\", \"xaxis\": \"x\", \"yaxis\": \"y\"}, {\"type\": \"scatter\", \"x\": [1135.0, 1135.0, 1145.0, 1145.0], \"y\": [0.0, 0.1937984496124031, 0.1937984496124031, 0.0], \"mode\": \"lines\", \"marker\": {\"color\": \"rgb(61,153,112)\"}, \"text\": null, \"hoverinfo\": \"all\", \"xaxis\": \"x\", \"yaxis\": \"y\"}, {\"type\": \"scatter\", \"x\": [1165.0, 1165.0, 1175.0, 1175.0], \"y\": [0.0, 0.05555555555555555, 0.05555555555555555, 0.0], \"mode\": \"lines\", \"marker\": {\"color\": \"rgb(61,153,112)\"}, \"text\": null, \"hoverinfo\": \"all\", \"xaxis\": \"x\", \"yaxis\": \"y\"}, {\"type\": \"scatter\", \"x\": [1155.0, 1155.0, 1170.0, 1170.0], \"y\": [0.0, 0.1206896551724138, 0.1206896551724138, 0.05555555555555555], \"mode\": \"lines\", \"marker\": {\"color\": \"rgb(61,153,112)\"}, \"text\": null, \"hoverinfo\": \"all\", \"xaxis\": \"x\", \"yaxis\": \"y\"}, {\"type\": \"scatter\", \"x\": [1195.0, 1195.0, 1205.0, 1205.0], \"y\": [0.0, 0.13043478260869565, 0.13043478260869565, 0.0], \"mode\": \"lines\", \"marker\": {\"color\": \"rgb(61,153,112)\"}, \"text\": null, \"hoverinfo\": \"all\", \"xaxis\": \"x\", \"yaxis\": \"y\"}, {\"type\": \"scatter\", \"x\": [1185.0, 1185.0, 1200.0, 1200.0], \"y\": [0.0, 0.24, 0.24, 0.13043478260869565], \"mode\": \"lines\", \"marker\": {\"color\": \"rgb(61,153,112)\"}, \"text\": null, \"hoverinfo\": \"all\", \"xaxis\": \"x\", \"yaxis\": \"y\"}, {\"type\": \"scatter\", \"x\": [1162.5, 1162.5, 1192.5, 1192.5], \"y\": [0.1206896551724138, 0.2761904761904762, 0.2761904761904762, 0.24], \"mode\": \"lines\", \"marker\": {\"color\": \"rgb(61,153,112)\"}, \"text\": null, \"hoverinfo\": \"all\", \"xaxis\": \"x\", \"yaxis\": \"y\"}, {\"type\": \"scatter\", \"x\": [1140.0, 1140.0, 1177.5, 1177.5], \"y\": [0.1937984496124031, 0.31746031746031744, 0.31746031746031744, 0.2761904761904762], \"mode\": \"lines\", \"marker\": {\"color\": \"rgb(61,153,112)\"}, \"text\": null, \"hoverinfo\": \"all\", \"xaxis\": \"x\", \"yaxis\": \"y\"}, {\"type\": \"scatter\", \"x\": [1051.5625, 1051.5625, 1158.75, 1158.75], \"y\": [0.29133858267716534, 0.39568345323741005, 0.39568345323741005, 0.31746031746031744], \"mode\": \"lines\", \"marker\": {\"color\": \"rgb(61,153,112)\"}, \"text\": null, \"hoverinfo\": \"all\", \"xaxis\": \"x\", \"yaxis\": \"y\"}, {\"type\": \"scatter\", \"x\": [973.75, 973.75, 1105.15625, 1105.15625], \"y\": [0.38571428571428573, 0.4492753623188406, 0.4492753623188406, 0.39568345323741005], \"mode\": \"lines\", \"marker\": {\"color\": \"rgb(61,153,112)\"}, \"text\": null, \"hoverinfo\": \"all\", \"xaxis\": \"x\", \"yaxis\": \"y\"}, {\"type\": \"scatter\", \"x\": [914.6875, 914.6875, 1039.453125, 1039.453125], \"y\": [0.3939393939393939, 0.5107913669064749, 0.5107913669064749, 0.4492753623188406], \"mode\": \"lines\", \"marker\": {\"color\": \"rgb(61,153,112)\"}, \"text\": null, \"hoverinfo\": \"all\", \"xaxis\": \"x\", \"yaxis\": \"y\"}, {\"type\": \"scatter\", \"x\": [873.75, 873.75, 977.0703125, 977.0703125], \"y\": [0.23655913978494625, 0.5705521472392638, 0.5705521472392638, 0.5107913669064749], \"mode\": \"lines\", \"marker\": {\"color\": \"rgb(61,153,112)\"}, \"text\": null, \"hoverinfo\": \"all\", \"xaxis\": \"x\", \"yaxis\": \"y\"}, {\"type\": \"scatter\", \"x\": [429.5361328125, 429.5361328125, 925.41015625, 925.41015625], \"y\": [0.5466666666666666, 0.5955056179775281, 0.5955056179775281, 0.5705521472392638], \"mode\": \"lines\", \"marker\": {\"color\": \"rgb(61,153,112)\"}, \"text\": null, \"hoverinfo\": \"all\", \"xaxis\": \"x\", \"yaxis\": \"y\"}, {\"type\": \"scatter\", \"x\": [47.490234375, 47.490234375, 677.47314453125, 677.47314453125], \"y\": [0.5789473684210527, 0.7289719626168224, 0.7289719626168224, 0.5955056179775281], \"mode\": \"lines\", \"marker\": {\"color\": \"rgb(61,153,112)\"}, \"text\": null, \"hoverinfo\": \"all\", \"xaxis\": \"x\", \"yaxis\": \"y\"}, {\"type\": \"scatter\", \"x\": [1215.0, 1215.0, 1225.0, 1225.0], \"y\": [0.0, 0.21666666666666667, 0.21666666666666667, 0.0], \"mode\": \"lines\", \"marker\": {\"color\": \"rgb(255,65,54)\"}, \"text\": null, \"hoverinfo\": \"all\", \"xaxis\": \"x\", \"yaxis\": \"y\"}, {\"type\": \"scatter\", \"x\": [1235.0, 1235.0, 1245.0, 1245.0], \"y\": [0.0, 0.16339869281045752, 0.16339869281045752, 0.0], \"mode\": \"lines\", \"marker\": {\"color\": \"rgb(255,65,54)\"}, \"text\": null, \"hoverinfo\": \"all\", \"xaxis\": \"x\", \"yaxis\": \"y\"}, {\"type\": \"scatter\", \"x\": [1255.0, 1255.0, 1265.0, 1265.0], \"y\": [0.0, 0.20833333333333334, 0.20833333333333334, 0.0], \"mode\": \"lines\", \"marker\": {\"color\": \"rgb(255,65,54)\"}, \"text\": null, \"hoverinfo\": \"all\", \"xaxis\": \"x\", \"yaxis\": \"y\"}, {\"type\": \"scatter\", \"x\": [1240.0, 1240.0, 1260.0, 1260.0], \"y\": [0.16339869281045752, 0.24, 0.24, 0.20833333333333334], \"mode\": \"lines\", \"marker\": {\"color\": \"rgb(255,65,54)\"}, \"text\": null, \"hoverinfo\": \"all\", \"xaxis\": \"x\", \"yaxis\": \"y\"}, {\"type\": \"scatter\", \"x\": [1220.0, 1220.0, 1250.0, 1250.0], \"y\": [0.21666666666666667, 0.5657894736842105, 0.5657894736842105, 0.24], \"mode\": \"lines\", \"marker\": {\"color\": \"rgb(255,65,54)\"}, \"text\": null, \"hoverinfo\": \"all\", \"xaxis\": \"x\", \"yaxis\": \"y\"}, {\"type\": \"scatter\", \"x\": [1275.0, 1275.0, 1285.0, 1285.0], \"y\": [0.0, 0.14285714285714285, 0.14285714285714285, 0.0], \"mode\": \"lines\", \"marker\": {\"color\": \"rgb(255,65,54)\"}, \"text\": null, \"hoverinfo\": \"all\", \"xaxis\": \"x\", \"yaxis\": \"y\"}, {\"type\": \"scatter\", \"x\": [1315.0, 1315.0, 1325.0, 1325.0], \"y\": [0.0, 0.07042253521126761, 0.07042253521126761, 0.0], \"mode\": \"lines\", \"marker\": {\"color\": \"rgb(255,65,54)\"}, \"text\": null, \"hoverinfo\": \"all\", \"xaxis\": \"x\", \"yaxis\": \"y\"}, {\"type\": \"scatter\", \"x\": [1305.0, 1305.0, 1320.0, 1320.0], \"y\": [0.0, 0.10810810810810811, 0.10810810810810811, 0.07042253521126761], \"mode\": \"lines\", \"marker\": {\"color\": \"rgb(255,65,54)\"}, \"text\": null, \"hoverinfo\": \"all\", \"xaxis\": \"x\", \"yaxis\": \"y\"}, {\"type\": \"scatter\", \"x\": [1295.0, 1295.0, 1312.5, 1312.5], \"y\": [0.0, 0.15384615384615385, 0.15384615384615385, 0.10810810810810811], \"mode\": \"lines\", \"marker\": {\"color\": \"rgb(255,65,54)\"}, \"text\": null, \"hoverinfo\": \"all\", \"xaxis\": \"x\", \"yaxis\": \"y\"}, {\"type\": \"scatter\", \"x\": [1345.0, 1345.0, 1355.0, 1355.0], \"y\": [0.0, 0.08823529411764706, 0.08823529411764706, 0.0], \"mode\": \"lines\", \"marker\": {\"color\": \"rgb(255,65,54)\"}, \"text\": null, \"hoverinfo\": \"all\", \"xaxis\": \"x\", \"yaxis\": \"y\"}, {\"type\": \"scatter\", \"x\": [1335.0, 1335.0, 1350.0, 1350.0], \"y\": [0.0, 0.15942028985507245, 0.15942028985507245, 0.08823529411764706], \"mode\": \"lines\", \"marker\": {\"color\": \"rgb(255,65,54)\"}, \"text\": null, \"hoverinfo\": \"all\", \"xaxis\": \"x\", \"yaxis\": \"y\"}, {\"type\": \"scatter\", \"x\": [1303.75, 1303.75, 1342.5, 1342.5], \"y\": [0.15384615384615385, 0.23943661971830985, 0.23943661971830985, 0.15942028985507245], \"mode\": \"lines\", \"marker\": {\"color\": \"rgb(255,65,54)\"}, \"text\": null, \"hoverinfo\": \"all\", \"xaxis\": \"x\", \"yaxis\": \"y\"}, {\"type\": \"scatter\", \"x\": [1365.0, 1365.0, 1375.0, 1375.0], \"y\": [0.0, 0.28, 0.28, 0.0], \"mode\": \"lines\", \"marker\": {\"color\": \"rgb(255,65,54)\"}, \"text\": null, \"hoverinfo\": \"all\", \"xaxis\": \"x\", \"yaxis\": \"y\"}, {\"type\": \"scatter\", \"x\": [1323.125, 1323.125, 1370.0, 1370.0], \"y\": [0.23943661971830985, 0.3176470588235294, 0.3176470588235294, 0.28], \"mode\": \"lines\", \"marker\": {\"color\": \"rgb(255,65,54)\"}, \"text\": null, \"hoverinfo\": \"all\", \"xaxis\": \"x\", \"yaxis\": \"y\"}, {\"type\": \"scatter\", \"x\": [1280.0, 1280.0, 1346.5625, 1346.5625], \"y\": [0.14285714285714285, 0.5339805825242718, 0.5339805825242718, 0.3176470588235294], \"mode\": \"lines\", \"marker\": {\"color\": \"rgb(255,65,54)\"}, \"text\": null, \"hoverinfo\": \"all\", \"xaxis\": \"x\", \"yaxis\": \"y\"}, {\"type\": \"scatter\", \"x\": [1405.0, 1405.0, 1415.0, 1415.0], \"y\": [0.0, 0.11428571428571428, 0.11428571428571428, 0.0], \"mode\": \"lines\", \"marker\": {\"color\": \"rgb(255,65,54)\"}, \"text\": null, \"hoverinfo\": \"all\", \"xaxis\": \"x\", \"yaxis\": \"y\"}, {\"type\": \"scatter\", \"x\": [1395.0, 1395.0, 1410.0, 1410.0], \"y\": [0.0, 0.4153846153846154, 0.4153846153846154, 0.11428571428571428], \"mode\": \"lines\", \"marker\": {\"color\": \"rgb(255,65,54)\"}, \"text\": null, \"hoverinfo\": \"all\", \"xaxis\": \"x\", \"yaxis\": \"y\"}, {\"type\": \"scatter\", \"x\": [1385.0, 1385.0, 1402.5, 1402.5], \"y\": [0.0, 0.475, 0.475, 0.4153846153846154], \"mode\": \"lines\", \"marker\": {\"color\": \"rgb(255,65,54)\"}, \"text\": null, \"hoverinfo\": \"all\", \"xaxis\": \"x\", \"yaxis\": \"y\"}, {\"type\": \"scatter\", \"x\": [1425.0, 1425.0, 1435.0, 1435.0], \"y\": [0.0, 0.16417910447761194, 0.16417910447761194, 0.0], \"mode\": \"lines\", \"marker\": {\"color\": \"rgb(255,65,54)\"}, \"text\": null, \"hoverinfo\": \"all\", \"xaxis\": \"x\", \"yaxis\": \"y\"}, {\"type\": \"scatter\", \"x\": [1465.0, 1465.0, 1475.0, 1475.0], \"y\": [0.0, 0.13432835820895522, 0.13432835820895522, 0.0], \"mode\": \"lines\", \"marker\": {\"color\": \"rgb(255,65,54)\"}, \"text\": null, \"hoverinfo\": \"all\", \"xaxis\": \"x\", \"yaxis\": \"y\"}, {\"type\": \"scatter\", \"x\": [1455.0, 1455.0, 1470.0, 1470.0], \"y\": [0.0, 0.14285714285714285, 0.14285714285714285, 0.13432835820895522], \"mode\": \"lines\", \"marker\": {\"color\": \"rgb(255,65,54)\"}, \"text\": null, \"hoverinfo\": \"all\", \"xaxis\": \"x\", \"yaxis\": \"y\"}, {\"type\": \"scatter\", \"x\": [1445.0, 1445.0, 1462.5, 1462.5], \"y\": [0.0, 0.18840579710144928, 0.18840579710144928, 0.14285714285714285], \"mode\": \"lines\", \"marker\": {\"color\": \"rgb(255,65,54)\"}, \"text\": null, \"hoverinfo\": \"all\", \"xaxis\": \"x\", \"yaxis\": \"y\"}, {\"type\": \"scatter\", \"x\": [1430.0, 1430.0, 1453.75, 1453.75], \"y\": [0.16417910447761194, 0.38235294117647056, 0.38235294117647056, 0.18840579710144928], \"mode\": \"lines\", \"marker\": {\"color\": \"rgb(255,65,54)\"}, \"text\": null, \"hoverinfo\": \"all\", \"xaxis\": \"x\", \"yaxis\": \"y\"}, {\"type\": \"scatter\", \"x\": [1485.0, 1485.0, 1495.0, 1495.0], \"y\": [0.0, 0.14666666666666667, 0.14666666666666667, 0.0], \"mode\": \"lines\", \"marker\": {\"color\": \"rgb(255,65,54)\"}, \"text\": null, \"hoverinfo\": \"all\", \"xaxis\": \"x\", \"yaxis\": \"y\"}, {\"type\": \"scatter\", \"x\": [1505.0, 1505.0, 1515.0, 1515.0], \"y\": [0.0, 0.2676056338028169, 0.2676056338028169, 0.0], \"mode\": \"lines\", \"marker\": {\"color\": \"rgb(255,65,54)\"}, \"text\": null, \"hoverinfo\": \"all\", \"xaxis\": \"x\", \"yaxis\": \"y\"}, {\"type\": \"scatter\", \"x\": [1490.0, 1490.0, 1510.0, 1510.0], \"y\": [0.14666666666666667, 0.34177215189873417, 0.34177215189873417, 0.2676056338028169], \"mode\": \"lines\", \"marker\": {\"color\": \"rgb(255,65,54)\"}, \"text\": null, \"hoverinfo\": \"all\", \"xaxis\": \"x\", \"yaxis\": \"y\"}, {\"type\": \"scatter\", \"x\": [1525.0, 1525.0, 1535.0, 1535.0], \"y\": [0.0, 0.36, 0.36, 0.0], \"mode\": \"lines\", \"marker\": {\"color\": \"rgb(255,65,54)\"}, \"text\": null, \"hoverinfo\": \"all\", \"xaxis\": \"x\", \"yaxis\": \"y\"}, {\"type\": \"scatter\", \"x\": [1500.0, 1500.0, 1530.0, 1530.0], \"y\": [0.34177215189873417, 0.4666666666666667, 0.4666666666666667, 0.36], \"mode\": \"lines\", \"marker\": {\"color\": \"rgb(255,65,54)\"}, \"text\": null, \"hoverinfo\": \"all\", \"xaxis\": \"x\", \"yaxis\": \"y\"}, {\"type\": \"scatter\", \"x\": [1441.875, 1441.875, 1515.0, 1515.0], \"y\": [0.38235294117647056, 0.5294117647058824, 0.5294117647058824, 0.4666666666666667], \"mode\": \"lines\", \"marker\": {\"color\": \"rgb(255,65,54)\"}, \"text\": null, \"hoverinfo\": \"all\", \"xaxis\": \"x\", \"yaxis\": \"y\"}, {\"type\": \"scatter\", \"x\": [1393.75, 1393.75, 1478.4375, 1478.4375], \"y\": [0.475, 0.569620253164557, 0.569620253164557, 0.5294117647058824], \"mode\": \"lines\", \"marker\": {\"color\": \"rgb(255,65,54)\"}, \"text\": null, \"hoverinfo\": \"all\", \"xaxis\": \"x\", \"yaxis\": \"y\"}, {\"type\": \"scatter\", \"x\": [1313.28125, 1313.28125, 1436.09375, 1436.09375], \"y\": [0.5339805825242718, 0.68, 0.68, 0.569620253164557], \"mode\": \"lines\", \"marker\": {\"color\": \"rgb(255,65,54)\"}, \"text\": null, \"hoverinfo\": \"all\", \"xaxis\": \"x\", \"yaxis\": \"y\"}, {\"type\": \"scatter\", \"x\": [1235.0, 1235.0, 1374.6875, 1374.6875], \"y\": [0.5657894736842105, 0.7606837606837606, 0.7606837606837606, 0.68], \"mode\": \"lines\", \"marker\": {\"color\": \"rgb(255,65,54)\"}, \"text\": null, \"hoverinfo\": \"all\", \"xaxis\": \"x\", \"yaxis\": \"y\"}, {\"type\": \"scatter\", \"x\": [362.481689453125, 362.481689453125, 1304.84375, 1304.84375], \"y\": [0.7289719626168224, 0.8205128205128205, 0.8205128205128205, 0.7606837606837606], \"mode\": \"lines\", \"marker\": {\"color\": \"rgb(0,116,217)\"}, \"text\": null, \"hoverinfo\": \"all\", \"xaxis\": \"x\", \"yaxis\": \"y\"}, {\"type\": \"scatter\", \"x\": [1555.0, 1555.0, 1565.0, 1565.0], \"y\": [0.0, 0.4, 0.4, 0.0], \"mode\": \"lines\", \"marker\": {\"color\": \"rgb(35,205,205)\"}, \"text\": null, \"hoverinfo\": \"all\", \"xaxis\": \"x\", \"yaxis\": \"y\"}, {\"type\": \"scatter\", \"x\": [1575.0, 1575.0, 1585.0, 1585.0], \"y\": [0.0, 0.4339622641509434, 0.4339622641509434, 0.0], \"mode\": \"lines\", \"marker\": {\"color\": \"rgb(35,205,205)\"}, \"text\": null, \"hoverinfo\": \"all\", \"xaxis\": \"x\", \"yaxis\": \"y\"}, {\"type\": \"scatter\", \"x\": [1560.0, 1560.0, 1580.0, 1580.0], \"y\": [0.4, 0.5407407407407407, 0.5407407407407407, 0.4339622641509434], \"mode\": \"lines\", \"marker\": {\"color\": \"rgb(35,205,205)\"}, \"text\": null, \"hoverinfo\": \"all\", \"xaxis\": \"x\", \"yaxis\": \"y\"}, {\"type\": \"scatter\", \"x\": [1545.0, 1545.0, 1570.0, 1570.0], \"y\": [0.0, 0.5975609756097561, 0.5975609756097561, 0.5407407407407407], \"mode\": \"lines\", \"marker\": {\"color\": \"rgb(35,205,205)\"}, \"text\": null, \"hoverinfo\": \"all\", \"xaxis\": \"x\", \"yaxis\": \"y\"}, {\"type\": \"scatter\", \"x\": [1595.0, 1595.0, 1605.0, 1605.0], \"y\": [0.0, 0.2926208651399491, 0.2926208651399491, 0.0], \"mode\": \"lines\", \"marker\": {\"color\": \"rgb(35,205,205)\"}, \"text\": null, \"hoverinfo\": \"all\", \"xaxis\": \"x\", \"yaxis\": \"y\"}, {\"type\": \"scatter\", \"x\": [1635.0, 1635.0, 1645.0, 1645.0], \"y\": [0.0, 0.3217391304347826, 0.3217391304347826, 0.0], \"mode\": \"lines\", \"marker\": {\"color\": \"rgb(35,205,205)\"}, \"text\": null, \"hoverinfo\": \"all\", \"xaxis\": \"x\", \"yaxis\": \"y\"}, {\"type\": \"scatter\", \"x\": [1665.0, 1665.0, 1675.0, 1675.0], \"y\": [0.0, 0.3032258064516129, 0.3032258064516129, 0.0], \"mode\": \"lines\", \"marker\": {\"color\": \"rgb(35,205,205)\"}, \"text\": null, \"hoverinfo\": \"all\", \"xaxis\": \"x\", \"yaxis\": \"y\"}, {\"type\": \"scatter\", \"x\": [1655.0, 1655.0, 1670.0, 1670.0], \"y\": [0.0, 0.35766423357664234, 0.35766423357664234, 0.3032258064516129], \"mode\": \"lines\", \"marker\": {\"color\": \"rgb(35,205,205)\"}, \"text\": null, \"hoverinfo\": \"all\", \"xaxis\": \"x\", \"yaxis\": \"y\"}, {\"type\": \"scatter\", \"x\": [1640.0, 1640.0, 1662.5, 1662.5], \"y\": [0.3217391304347826, 0.4782608695652174, 0.4782608695652174, 0.35766423357664234], \"mode\": \"lines\", \"marker\": {\"color\": \"rgb(35,205,205)\"}, \"text\": null, \"hoverinfo\": \"all\", \"xaxis\": \"x\", \"yaxis\": \"y\"}, {\"type\": \"scatter\", \"x\": [1625.0, 1625.0, 1651.25, 1651.25], \"y\": [0.0, 0.5053763440860215, 0.5053763440860215, 0.4782608695652174], \"mode\": \"lines\", \"marker\": {\"color\": \"rgb(35,205,205)\"}, \"text\": null, \"hoverinfo\": \"all\", \"xaxis\": \"x\", \"yaxis\": \"y\"}, {\"type\": \"scatter\", \"x\": [1615.0, 1615.0, 1638.125, 1638.125], \"y\": [0.0, 0.5486725663716814, 0.5486725663716814, 0.5053763440860215], \"mode\": \"lines\", \"marker\": {\"color\": \"rgb(35,205,205)\"}, \"text\": null, \"hoverinfo\": \"all\", \"xaxis\": \"x\", \"yaxis\": \"y\"}, {\"type\": \"scatter\", \"x\": [1600.0, 1600.0, 1626.5625, 1626.5625], \"y\": [0.2926208651399491, 0.6454849498327759, 0.6454849498327759, 0.5486725663716814], \"mode\": \"lines\", \"marker\": {\"color\": \"rgb(35,205,205)\"}, \"text\": null, \"hoverinfo\": \"all\", \"xaxis\": \"x\", \"yaxis\": \"y\"}, {\"type\": \"scatter\", \"x\": [1557.5, 1557.5, 1613.28125, 1613.28125], \"y\": [0.5975609756097561, 0.7912087912087912, 0.7912087912087912, 0.6454849498327759], \"mode\": \"lines\", \"marker\": {\"color\": \"rgb(35,205,205)\"}, \"text\": null, \"hoverinfo\": \"all\", \"xaxis\": \"x\", \"yaxis\": \"y\"}, {\"type\": \"scatter\", \"x\": [1715.0, 1715.0, 1725.0, 1725.0], \"y\": [0.0, 0.40594059405940597, 0.40594059405940597, 0.0], \"mode\": \"lines\", \"marker\": {\"color\": \"rgb(133,20,75)\"}, \"text\": null, \"hoverinfo\": \"all\", \"xaxis\": \"x\", \"yaxis\": \"y\"}, {\"type\": \"scatter\", \"x\": [1705.0, 1705.0, 1720.0, 1720.0], \"y\": [0.0, 0.42857142857142855, 0.42857142857142855, 0.40594059405940597], \"mode\": \"lines\", \"marker\": {\"color\": \"rgb(133,20,75)\"}, \"text\": null, \"hoverinfo\": \"all\", \"xaxis\": \"x\", \"yaxis\": \"y\"}, {\"type\": \"scatter\", \"x\": [1695.0, 1695.0, 1712.5, 1712.5], \"y\": [0.0, 0.525, 0.525, 0.42857142857142855], \"mode\": \"lines\", \"marker\": {\"color\": \"rgb(133,20,75)\"}, \"text\": null, \"hoverinfo\": \"all\", \"xaxis\": \"x\", \"yaxis\": \"y\"}, {\"type\": \"scatter\", \"x\": [1685.0, 1685.0, 1703.75, 1703.75], \"y\": [0.0, 0.6036036036036037, 0.6036036036036037, 0.525], \"mode\": \"lines\", \"marker\": {\"color\": \"rgb(133,20,75)\"}, \"text\": null, \"hoverinfo\": \"all\", \"xaxis\": \"x\", \"yaxis\": \"y\"}, {\"type\": \"scatter\", \"x\": [1745.0, 1745.0, 1755.0, 1755.0], \"y\": [0.0, 0.3877551020408163, 0.3877551020408163, 0.0], \"mode\": \"lines\", \"marker\": {\"color\": \"rgb(255,220,0)\"}, \"text\": null, \"hoverinfo\": \"all\", \"xaxis\": \"x\", \"yaxis\": \"y\"}, {\"type\": \"scatter\", \"x\": [1775.0, 1775.0, 1785.0, 1785.0], \"y\": [0.0, 0.2066115702479339, 0.2066115702479339, 0.0], \"mode\": \"lines\", \"marker\": {\"color\": \"rgb(255,220,0)\"}, \"text\": null, \"hoverinfo\": \"all\", \"xaxis\": \"x\", \"yaxis\": \"y\"}, {\"type\": \"scatter\", \"x\": [1765.0, 1765.0, 1780.0, 1780.0], \"y\": [0.0, 0.3333333333333333, 0.3333333333333333, 0.2066115702479339], \"mode\": \"lines\", \"marker\": {\"color\": \"rgb(255,220,0)\"}, \"text\": null, \"hoverinfo\": \"all\", \"xaxis\": \"x\", \"yaxis\": \"y\"}, {\"type\": \"scatter\", \"x\": [1795.0, 1795.0, 1805.0, 1805.0], \"y\": [0.0, 0.12631578947368421, 0.12631578947368421, 0.0], \"mode\": \"lines\", \"marker\": {\"color\": \"rgb(255,220,0)\"}, \"text\": null, \"hoverinfo\": \"all\", \"xaxis\": \"x\", \"yaxis\": \"y\"}, {\"type\": \"scatter\", \"x\": [1815.0, 1815.0, 1825.0, 1825.0], \"y\": [0.0, 0.2647058823529412, 0.2647058823529412, 0.0], \"mode\": \"lines\", \"marker\": {\"color\": \"rgb(255,220,0)\"}, \"text\": null, \"hoverinfo\": \"all\", \"xaxis\": \"x\", \"yaxis\": \"y\"}, {\"type\": \"scatter\", \"x\": [1800.0, 1800.0, 1820.0, 1820.0], \"y\": [0.12631578947368421, 0.36470588235294116, 0.36470588235294116, 0.2647058823529412], \"mode\": \"lines\", \"marker\": {\"color\": \"rgb(255,220,0)\"}, \"text\": null, \"hoverinfo\": \"all\", \"xaxis\": \"x\", \"yaxis\": \"y\"}, {\"type\": \"scatter\", \"x\": [1772.5, 1772.5, 1810.0, 1810.0], \"y\": [0.3333333333333333, 0.48427672955974843, 0.48427672955974843, 0.36470588235294116], \"mode\": \"lines\", \"marker\": {\"color\": \"rgb(255,220,0)\"}, \"text\": null, \"hoverinfo\": \"all\", \"xaxis\": \"x\", \"yaxis\": \"y\"}, {\"type\": \"scatter\", \"x\": [1750.0, 1750.0, 1791.25, 1791.25], \"y\": [0.3877551020408163, 0.5614035087719298, 0.5614035087719298, 0.48427672955974843], \"mode\": \"lines\", \"marker\": {\"color\": \"rgb(255,220,0)\"}, \"text\": null, \"hoverinfo\": \"all\", \"xaxis\": \"x\", \"yaxis\": \"y\"}, {\"type\": \"scatter\", \"x\": [1735.0, 1735.0, 1770.625, 1770.625], \"y\": [0.0, 0.6346153846153846, 0.6346153846153846, 0.5614035087719298], \"mode\": \"lines\", \"marker\": {\"color\": \"rgb(255,220,0)\"}, \"text\": null, \"hoverinfo\": \"all\", \"xaxis\": \"x\", \"yaxis\": \"y\"}, {\"type\": \"scatter\", \"x\": [1885.0, 1885.0, 1895.0, 1895.0], \"y\": [0.0, 0.13978494623655913, 0.13978494623655913, 0.0], \"mode\": \"lines\", \"marker\": {\"color\": \"rgb(255,220,0)\"}, \"text\": null, \"hoverinfo\": \"all\", \"xaxis\": \"x\", \"yaxis\": \"y\"}, {\"type\": \"scatter\", \"x\": [1875.0, 1875.0, 1890.0, 1890.0], \"y\": [0.0, 0.15463917525773196, 0.15463917525773196, 0.13978494623655913], \"mode\": \"lines\", \"marker\": {\"color\": \"rgb(255,220,0)\"}, \"text\": null, \"hoverinfo\": \"all\", \"xaxis\": \"x\", \"yaxis\": \"y\"}, {\"type\": \"scatter\", \"x\": [1905.0, 1905.0, 1915.0, 1915.0], \"y\": [0.0, 0.15789473684210525, 0.15789473684210525, 0.0], \"mode\": \"lines\", \"marker\": {\"color\": \"rgb(255,220,0)\"}, \"text\": null, \"hoverinfo\": \"all\", \"xaxis\": \"x\", \"yaxis\": \"y\"}, {\"type\": \"scatter\", \"x\": [1882.5, 1882.5, 1910.0, 1910.0], \"y\": [0.15463917525773196, 0.19230769230769232, 0.19230769230769232, 0.15789473684210525], \"mode\": \"lines\", \"marker\": {\"color\": \"rgb(255,220,0)\"}, \"text\": null, \"hoverinfo\": \"all\", \"xaxis\": \"x\", \"yaxis\": \"y\"}, {\"type\": \"scatter\", \"x\": [1925.0, 1925.0, 1935.0, 1935.0], \"y\": [0.0, 0.21818181818181817, 0.21818181818181817, 0.0], \"mode\": \"lines\", \"marker\": {\"color\": \"rgb(255,220,0)\"}, \"text\": null, \"hoverinfo\": \"all\", \"xaxis\": \"x\", \"yaxis\": \"y\"}, {\"type\": \"scatter\", \"x\": [1896.25, 1896.25, 1930.0, 1930.0], \"y\": [0.19230769230769232, 0.24561403508771928, 0.24561403508771928, 0.21818181818181817], \"mode\": \"lines\", \"marker\": {\"color\": \"rgb(255,220,0)\"}, \"text\": null, \"hoverinfo\": \"all\", \"xaxis\": \"x\", \"yaxis\": \"y\"}, {\"type\": \"scatter\", \"x\": [1945.0, 1945.0, 1955.0, 1955.0], \"y\": [0.0, 0.1504424778761062, 0.1504424778761062, 0.0], \"mode\": \"lines\", \"marker\": {\"color\": \"rgb(255,220,0)\"}, \"text\": null, \"hoverinfo\": \"all\", \"xaxis\": \"x\", \"yaxis\": \"y\"}, {\"type\": \"scatter\", \"x\": [1975.0, 1975.0, 1985.0, 1985.0], \"y\": [0.0, 0.16129032258064516, 0.16129032258064516, 0.0], \"mode\": \"lines\", \"marker\": {\"color\": \"rgb(255,220,0)\"}, \"text\": null, \"hoverinfo\": \"all\", \"xaxis\": \"x\", \"yaxis\": \"y\"}, {\"type\": \"scatter\", \"x\": [1965.0, 1965.0, 1980.0, 1980.0], \"y\": [0.0, 0.2222222222222222, 0.2222222222222222, 0.16129032258064516], \"mode\": \"lines\", \"marker\": {\"color\": \"rgb(255,220,0)\"}, \"text\": null, \"hoverinfo\": \"all\", \"xaxis\": \"x\", \"yaxis\": \"y\"}, {\"type\": \"scatter\", \"x\": [1950.0, 1950.0, 1972.5, 1972.5], \"y\": [0.1504424778761062, 0.26, 0.26, 0.2222222222222222], \"mode\": \"lines\", \"marker\": {\"color\": \"rgb(255,220,0)\"}, \"text\": null, \"hoverinfo\": \"all\", \"xaxis\": \"x\", \"yaxis\": \"y\"}, {\"type\": \"scatter\", \"x\": [1913.125, 1913.125, 1961.25, 1961.25], \"y\": [0.24561403508771928, 0.2830188679245283, 0.2830188679245283, 0.26], \"mode\": \"lines\", \"marker\": {\"color\": \"rgb(255,220,0)\"}, \"text\": null, \"hoverinfo\": \"all\", \"xaxis\": \"x\", \"yaxis\": \"y\"}, {\"type\": \"scatter\", \"x\": [1865.0, 1865.0, 1937.1875, 1937.1875], \"y\": [0.0, 0.3142857142857143, 0.3142857142857143, 0.2830188679245283], \"mode\": \"lines\", \"marker\": {\"color\": \"rgb(255,220,0)\"}, \"text\": null, \"hoverinfo\": \"all\", \"xaxis\": \"x\", \"yaxis\": \"y\"}, {\"type\": \"scatter\", \"x\": [1855.0, 1855.0, 1901.09375, 1901.09375], \"y\": [0.0, 0.3786407766990291, 0.3786407766990291, 0.3142857142857143], \"mode\": \"lines\", \"marker\": {\"color\": \"rgb(255,220,0)\"}, \"text\": null, \"hoverinfo\": \"all\", \"xaxis\": \"x\", \"yaxis\": \"y\"}, {\"type\": \"scatter\", \"x\": [1845.0, 1845.0, 1878.046875, 1878.046875], \"y\": [0.0, 0.4956521739130435, 0.4956521739130435, 0.3786407766990291], \"mode\": \"lines\", \"marker\": {\"color\": \"rgb(255,220,0)\"}, \"text\": null, \"hoverinfo\": \"all\", \"xaxis\": \"x\", \"yaxis\": \"y\"}, {\"type\": \"scatter\", \"x\": [1835.0, 1835.0, 1861.5234375, 1861.5234375], \"y\": [0.0, 0.635036496350365, 0.635036496350365, 0.4956521739130435], \"mode\": \"lines\", \"marker\": {\"color\": \"rgb(255,220,0)\"}, \"text\": null, \"hoverinfo\": \"all\", \"xaxis\": \"x\", \"yaxis\": \"y\"}, {\"type\": \"scatter\", \"x\": [1752.8125, 1752.8125, 1848.26171875, 1848.26171875], \"y\": [0.6346153846153846, 0.7281553398058253, 0.7281553398058253, 0.635036496350365], \"mode\": \"lines\", \"marker\": {\"color\": \"rgb(255,220,0)\"}, \"text\": null, \"hoverinfo\": \"all\", \"xaxis\": \"x\", \"yaxis\": \"y\"}, {\"type\": \"scatter\", \"x\": [1694.375, 1694.375, 1800.537109375, 1800.537109375], \"y\": [0.6036036036036037, 0.8117647058823529, 0.8117647058823529, 0.7281553398058253], \"mode\": \"lines\", \"marker\": {\"color\": \"rgb(0,116,217)\"}, \"text\": null, \"hoverinfo\": \"all\", \"xaxis\": \"x\", \"yaxis\": \"y\"}, {\"type\": \"scatter\", \"x\": [1585.390625, 1585.390625, 1747.4560546875, 1747.4560546875], \"y\": [0.7912087912087912, 0.9304347826086956, 0.9304347826086956, 0.8117647058823529], \"mode\": \"lines\", \"marker\": {\"color\": \"rgb(0,116,217)\"}, \"text\": null, \"hoverinfo\": \"all\", \"xaxis\": \"x\", \"yaxis\": \"y\"}, {\"type\": \"scatter\", \"x\": [833.6627197265625, 833.6627197265625, 1666.42333984375, 1666.42333984375], \"y\": [0.8205128205128205, 0.9885057471264368, 0.9885057471264368, 0.9304347826086956], \"mode\": \"lines\", \"marker\": {\"color\": \"rgb(0,116,217)\"}, \"text\": null, \"hoverinfo\": \"all\", \"xaxis\": \"x\", \"yaxis\": \"y\"}], {\"xaxis\": {\"tickvals\": [5.0, 15.0, 25.0, 35.0, 45.0, 55.0, 65.0, 75.0, 85.0, 95.0, 105.0, 115.0, 125.0, 135.0, 145.0, 155.0, 165.0, 175.0, 185.0, 195.0, 205.0, 215.0, 225.0, 235.0, 245.0, 255.0, 265.0, 275.0, 285.0, 295.0, 305.0, 315.0, 325.0, 335.0, 345.0, 355.0, 365.0, 375.0, 385.0, 395.0, 405.0, 415.0, 425.0, 435.0, 445.0, 455.0, 465.0, 475.0, 485.0, 495.0, 505.0, 515.0, 525.0, 535.0, 545.0, 555.0, 565.0, 575.0, 585.0, 595.0, 605.0, 615.0, 625.0, 635.0, 645.0, 655.0, 665.0, 675.0, 685.0, 695.0, 705.0, 715.0, 725.0, 735.0, 745.0, 755.0, 765.0, 775.0, 785.0, 795.0, 805.0, 815.0, 825.0, 835.0, 845.0, 855.0, 865.0, 875.0, 885.0, 895.0, 905.0, 915.0, 925.0, 935.0, 945.0, 955.0, 965.0, 975.0, 985.0, 995.0, 1005.0, 1015.0, 1025.0, 1035.0, 1045.0, 1055.0, 1065.0, 1075.0, 1085.0, 1095.0, 1105.0, 1115.0, 1125.0, 1135.0, 1145.0, 1155.0, 1165.0, 1175.0, 1185.0, 1195.0, 1205.0, 1215.0, 1225.0, 1235.0, 1245.0, 1255.0, 1265.0, 1275.0, 1285.0, 1295.0, 1305.0, 1315.0, 1325.0, 1335.0, 1345.0, 1355.0, 1365.0, 1375.0, 1385.0, 1395.0, 1405.0, 1415.0, 1425.0, 1435.0, 1445.0, 1455.0, 1465.0, 1475.0, 1485.0, 1495.0, 1505.0, 1515.0, 1525.0, 1535.0, 1545.0, 1555.0, 1565.0, 1575.0, 1585.0, 1595.0, 1605.0, 1615.0, 1625.0, 1635.0, 1645.0, 1655.0, 1665.0, 1675.0, 1685.0, 1695.0, 1705.0, 1715.0, 1725.0, 1735.0, 1745.0, 1755.0, 1765.0, 1775.0, 1785.0, 1795.0, 1805.0, 1815.0, 1825.0, 1835.0, 1845.0, 1855.0, 1865.0, 1875.0, 1885.0, 1895.0, 1905.0, 1915.0, 1925.0, 1935.0, 1945.0, 1955.0, 1965.0, 1975.0, 1985.0], \"ticktext\": [\"QE_2017_001814_209.08058_363.0\", \"QE_2017_001816_207.13779_561.0\", \"QE_2017_001815_201.16367_442.0\", \"QE_2017_001816_201.16362_435.0\", \"QE_2017_001816_137.09584_445.0\", \"QE_2017_001814_191.14291_389.0\", \"QE_2017_001815_191.14287_312.0\", \"QE_2017_001816_191.14291_404.0\", \"QE_2017_001815_181.1221_767.0\", \"QE_2017_001816_181.12199_794.0\", \"QE_2017_001814_227.1275_293.0\", \"QE_2017_001816_227.12766_295.0\", \"QE_2017_001814_209.15335_478.0\", \"QE_2017_001815_209.1535_312.0\", \"QE_2017_001816_209.15344_311.0\", \"QE_2017_001815_227.16408_344.0\", \"QE_2017_001816_209.15341_296.0\", \"QE_2017_001814_293.2106_579.0\", \"QE_2017_001815_283.19009_564.0\", \"QE_2017_001814_219.17416_517.0\", \"QE_2017_001815_219.17426_497.0\", \"QE_2017_001814_219.17401_452.0\", \"QE_2017_001814_219.17409_442.0\", \"QE_2017_001816_211.16916_405.0\", \"QE_2017_001815_209.0807_405.0\", \"QE_2017_001814_211.16902_440.0\", \"QE_2017_001815_211.16913_450.0\", \"QE_2017_001814_215.16406_483.0\", \"QE_2017_001815_215.164_550.0\", \"QE_2017_001815_207.13785_297.0\", \"QE_2017_001814_243.15892_533.0\", \"QE_2017_001814_281.1745_492.0\", \"QE_2017_001816_268.59351_445.0\", \"QE_2017_001814_222.07031_314.0\", \"QE_2017_001814_250.10149_516.0\", \"QE_2017_001815_214.51021_60.0\", \"QE_2017_001814_247.05975_245.0\", \"QE_2017_001815_247.0598_242.0\", \"QE_2017_001816_219.04672_291.0\", \"QE_2017_001815_212.03883_181.0\", \"QE_2017_001815_214.56488_409.0\", \"QE_2017_001816_132.04436_283.0\", \"QE_2017_001814_194.1174_244.0\", \"QE_2017_001815_194.11745_132.0\", \"QE_2017_001814_194.04424_237.0\", \"QE_2017_001814_194.1174_217.0\", \"QE_2017_001816_229.15469_52.0\", \"QE_2017_001814_229.15399_46.0\", \"QE_2017_001814_229.15451_65.0\", \"QE_2017_001815_246.14465_137.0\", \"QE_2017_001816_247.12863_162.0\", \"QE_2017_001815_260.16016_140.0\", \"QE_2017_001816_260.16022_145.0\", \"QE_2017_001815_233.14944_150.0\", \"QE_2017_001814_233.14948_126.0\", \"QE_2017_001816_233.14955_129.0\", \"QE_2017_001815_194.04469_299.0\", \"QE_2017_001815_194.04474_327.0\", \"QE_2017_001816_212.05518_300.0\", \"QE_2017_001815_194.04471_314.0\", \"QE_2017_001815_212.05513_328.0\", \"QE_2017_001815_194.04471_397.0\", \"QE_2017_001814_226.07077_397.0\", \"QE_2017_001815_212.05505_267.0\", \"QE_2017_001815_182.08109_52.0\", \"QE_2017_001816_199.98772_359.0\", \"QE_2017_001814_199.98772_303.0\", \"QE_2017_001815_199.98772_253.0\", \"QE_2017_001815_199.98779_30.0\", \"QE_2017_001816_199.98779_335.0\", \"QE_2017_001816_199.98769_294.0\", \"QE_2017_001814_199.98778_290.0\", \"QE_2017_001815_199.98772_326.0\", \"QE_2017_001816_199.98781_313.0\", \"QE_2017_001816_177.05449_217.0\", \"QE_2017_001814_177.05418_236.0\", \"QE_2017_001815_177.05444_307.0\", \"QE_2017_001815_260.16016_64.0\", \"QE_2017_001815_595.16559_315.0\", \"QE_2017_001815_463.12268_358.0\", \"QE_2017_001815_625.17633_345.0\", \"QE_2017_001815_265.01532_33.0\", \"QE_2017_001815_141.0508_33.0\", \"QE_2017_001815_797.51746_866.0\", \"QE_2017_001814_237.12305_220.0\", \"QE_2017_001815_237.12315_52.0\", \"QE_2017_001814_251.09117_393.0\", \"QE_2017_001815_219.10139_360.0\", \"QE_2017_001815_219.10146_381.0\", \"QE_2017_001815_219.10159_438.0\", \"QE_2017_001814_171.14908_419.0\", \"QE_2017_001814_483.27118_651.0\", \"QE_2017_001814_129.12737_348.0\", \"QE_2017_001816_338.26062_643.0\", \"QE_2017_001814_320.29456_577.0\", \"QE_2017_001815_320.29471_563.0\", \"QE_2017_001816_320.29483_548.0\", \"QE_2017_001815_332.25827_508.0\", \"QE_2017_001814_332.25842_486.0\", \"QE_2017_001816_332.25842_487.0\", \"QE_2017_001815_273.13425_199.0\", \"QE_2017_001815_273.13434_243.0\", \"QE_2017_001816_291.14499_200.0\", \"QE_2017_001814_291.1442_241.0\", \"QE_2017_001815_291.14493_242.0\", \"QE_2017_001814_251.13872_201.0\", \"QE_2017_001815_235.14388_180.0\", \"QE_2017_001815_235.14398_226.0\", \"QE_2017_001815_319.13623_118.0\", \"QE_2017_001816_319.13614_143.0\", \"QE_2017_001814_320.29468_638.0\", \"QE_2017_001814_320.29471_529.0\", \"QE_2017_001814_320.29477_539.0\", \"QE_2017_001815_221.12837_99.0\", \"QE_2017_001816_237.12325_171.0\", \"QE_2017_001814_241.15446_57.0\", \"QE_2017_001814_241.15384_47.0\", \"QE_2017_001815_241.15437_67.0\", \"QE_2017_001814_332.25827_467.0\", \"QE_2017_001815_333.15173_245.0\", \"QE_2017_001816_333.15204_235.0\", \"QE_2017_001814_347.09097_122.0\", \"QE_2017_001815_347.09067_204.0\", \"QE_2017_001816_533.15442_247.0\", \"QE_2017_001816_533.15466_222.0\", \"QE_2017_001815_533.1546_207.0\", \"QE_2017_001816_533.1546_271.0\", \"QE_2017_001815_268.10373_58.0\", \"QE_2017_001816_269.16055_60.0\", \"QE_2017_001814_364.34241_751.0\", \"QE_2017_001814_424.36325_711.0\", \"QE_2017_001814_364.34244_761.0\", \"QE_2017_001814_421.35211_732.0\", \"QE_2017_001815_364.34189_705.0\", \"QE_2017_001814_408.3681_703.0\", \"QE_2017_001816_466.40979_731.0\", \"QE_2017_001815_408.36853_717.0\", \"QE_2017_001815_482.40488_739.0\", \"QE_2017_001815_507.18192_178.0\", \"QE_2017_001816_463.12311_410.0\", \"QE_2017_001814_611.15997_285.0\", \"QE_2017_001816_611.16064_309.0\", \"QE_2017_001814_339.10742_366.0\", \"QE_2017_001816_339.10733_298.0\", \"QE_2017_001814_231.04967_404.0\", \"QE_2017_001815_231.04968_315.0\", \"QE_2017_001814_231.04971_516.0\", \"QE_2017_001815_231.04971_369.0\", \"QE_2017_001815_314.14453_76.0\", \"QE_2017_001816_314.14462_79.0\", \"QE_2017_001816_310.14957_134.0\", \"QE_2017_001816_342.17584_257.0\", \"QE_2017_001814_498.2543_475.0\", \"QE_2017_001815_340.16019_314.0\", \"QE_2017_001814_618.42633_695.0\", \"QE_2017_001814_601.42426_706.0\", \"QE_2017_001816_583.41382_731.0\", \"QE_2017_001814_599.40918_659.0\", \"QE_2017_001816_599.40869_793.0\", \"QE_2017_001815_618.42773_646.0\", \"QE_2017_001816_618.427_682.0\", \"QE_2017_001815_568.42627_841.0\", \"QE_2017_001814_601.42334_783.0\", \"QE_2017_001815_583.41388_735.0\", \"QE_2017_001815_583.41418_647.0\", \"QE_2017_001814_565.4035_722.0\", \"QE_2017_001814_583.41406_682.0\", \"QE_2017_001815_583.41406_707.0\", \"QE_2017_001815_792.5625_866.0\", \"QE_2017_001814_596.30963_602.0\", \"QE_2017_001816_613.48218_838.0\", \"QE_2017_001814_792.56207_723.0\", \"QE_2017_001815_613.4826_734.0\", \"QE_2017_001816_272.25824_582.0\", \"QE_2017_001814_338.34146_850.0\", \"QE_2017_001815_244.19048_762.0\", \"QE_2017_001816_435.25037_666.0\", \"QE_2017_001816_337.27338_826.0\", \"QE_2017_001816_337.27341_632.0\", \"QE_2017_001814_353.26868_633.0\", \"QE_2017_001816_353.26892_600.0\", \"QE_2017_001814_278.24756_683.0\", \"QE_2017_001814_279.23157_719.0\", \"QE_2017_001815_571.4292_870.0\", \"QE_2017_001814_497.31033_643.0\", \"QE_2017_001815_507.27145_607.0\", \"QE_2017_001815_571.47168_711.0\", \"QE_2017_001814_335.25772_725.0\", \"QE_2017_001814_335.25784_608.0\", \"QE_2017_001816_335.25772_723.0\", \"QE_2017_001814_335.25784_628.0\", \"QE_2017_001815_335.25745_642.0\", \"QE_2017_001814_261.22073_634.0\", \"QE_2017_001815_335.25784_587.0\", \"QE_2017_001814_353.26889_609.0\", \"QE_2017_001815_353.26862_642.0\", \"QE_2017_001815_261.22073_643.0\", \"QE_2017_001814_335.25772_638.0\", \"QE_2017_001815_335.2579_601.0\"], \"tickmode\": \"array\", \"type\": \"linear\", \"ticks\": \"outside\", \"mirror\": \"allticks\", \"rangemode\": \"tozero\", \"showticklabels\": true, \"zeroline\": false, \"showgrid\": false, \"showline\": true, \"title\": \"sample\"}, \"yaxis\": {\"type\": \"linear\", \"ticks\": \"outside\", \"mirror\": \"allticks\", \"rangemode\": \"tozero\", \"showticklabels\": true, \"zeroline\": false, \"showgrid\": false, \"showline\": true, \"title\": \"distance\"}, \"showlegend\": false, \"autosize\": false, \"hovermode\": \"closest\", \"width\": 900, \"height\": 500, \"title\": \"BioDendro\"}, {\"showLink\": true, \"linkText\": \"Export to plot.ly\"})});</script>"
      ],
      "text/vnd.plotly.v1+html": [
       "<div id=\"55249d27-5d02-4667-98e0-721ba98f2a91\" style=\"height: 500px; width: 900px;\" class=\"plotly-graph-div\"></div><script type=\"text/javascript\">require([\"plotly\"], function(Plotly) { window.PLOTLYENV=window.PLOTLYENV || {};window.PLOTLYENV.BASE_URL=\"https://plot.ly\";Plotly.newPlot(\"55249d27-5d02-4667-98e0-721ba98f2a91\", [{\"type\": \"scatter\", \"x\": [5.0, 5.0, 15.0, 15.0], \"y\": [0.0, 0.4827586206896552, 0.4827586206896552, 0.0], \"mode\": \"lines\", \"marker\": {\"color\": \"rgb(61,153,112)\"}, \"text\": null, \"hoverinfo\": \"all\", \"xaxis\": \"x\", \"yaxis\": \"y\"}, {\"type\": \"scatter\", \"x\": [25.0, 25.0, 35.0, 35.0], \"y\": [0.0, 0.20279720279720279, 0.20279720279720279, 0.0], \"mode\": \"lines\", \"marker\": {\"color\": \"rgb(61,153,112)\"}, \"text\": null, \"hoverinfo\": \"all\", \"xaxis\": \"x\", \"yaxis\": \"y\"}, {\"type\": \"scatter\", \"x\": [65.0, 65.0, 75.0, 75.0], \"y\": [0.0, 0.1724137931034483, 0.1724137931034483, 0.0], \"mode\": \"lines\", \"marker\": {\"color\": \"rgb(61,153,112)\"}, \"text\": null, \"hoverinfo\": \"all\", \"xaxis\": \"x\", \"yaxis\": \"y\"}, {\"type\": \"scatter\", \"x\": [55.0, 55.0, 70.0, 70.0], \"y\": [0.0, 0.2, 0.2, 0.1724137931034483], \"mode\": \"lines\", \"marker\": {\"color\": \"rgb(61,153,112)\"}, \"text\": null, \"hoverinfo\": \"all\", \"xaxis\": \"x\", \"yaxis\": \"y\"}, {\"type\": \"scatter\", \"x\": [45.0, 45.0, 62.5, 62.5], \"y\": [0.0, 0.30578512396694213, 0.30578512396694213, 0.2], \"mode\": \"lines\", \"marker\": {\"color\": \"rgb(61,153,112)\"}, \"text\": null, \"hoverinfo\": \"all\", \"xaxis\": \"x\", \"yaxis\": \"y\"}, {\"type\": \"scatter\", \"x\": [85.0, 85.0, 95.0, 95.0], \"y\": [0.0, 0.0847457627118644, 0.0847457627118644, 0.0], \"mode\": \"lines\", \"marker\": {\"color\": \"rgb(61,153,112)\"}, \"text\": null, \"hoverinfo\": \"all\", \"xaxis\": \"x\", \"yaxis\": \"y\"}, {\"type\": \"scatter\", \"x\": [105.0, 105.0, 115.0, 115.0], \"y\": [0.0, 0.13609467455621302, 0.13609467455621302, 0.0], \"mode\": \"lines\", \"marker\": {\"color\": \"rgb(61,153,112)\"}, \"text\": null, \"hoverinfo\": \"all\", \"xaxis\": \"x\", \"yaxis\": \"y\"}, {\"type\": \"scatter\", \"x\": [90.0, 90.0, 110.0, 110.0], \"y\": [0.0847457627118644, 0.3246753246753247, 0.3246753246753247, 0.13609467455621302], \"mode\": \"lines\", \"marker\": {\"color\": \"rgb(61,153,112)\"}, \"text\": null, \"hoverinfo\": \"all\", \"xaxis\": \"x\", \"yaxis\": \"y\"}, {\"type\": \"scatter\", \"x\": [53.75, 53.75, 100.0, 100.0], \"y\": [0.30578512396694213, 0.3793103448275862, 0.3793103448275862, 0.3246753246753247], \"mode\": \"lines\", \"marker\": {\"color\": \"rgb(61,153,112)\"}, \"text\": null, \"hoverinfo\": \"all\", \"xaxis\": \"x\", \"yaxis\": \"y\"}, {\"type\": \"scatter\", \"x\": [135.0, 135.0, 145.0, 145.0], \"y\": [0.0, 0.11731843575418995, 0.11731843575418995, 0.0], \"mode\": \"lines\", \"marker\": {\"color\": \"rgb(61,153,112)\"}, \"text\": null, \"hoverinfo\": \"all\", \"xaxis\": \"x\", \"yaxis\": \"y\"}, {\"type\": \"scatter\", \"x\": [125.0, 125.0, 140.0, 140.0], \"y\": [0.0, 0.17045454545454544, 0.17045454545454544, 0.11731843575418995], \"mode\": \"lines\", \"marker\": {\"color\": \"rgb(61,153,112)\"}, \"text\": null, \"hoverinfo\": \"all\", \"xaxis\": \"x\", \"yaxis\": \"y\"}, {\"type\": \"scatter\", \"x\": [155.0, 155.0, 165.0, 165.0], \"y\": [0.0, 0.20454545454545456, 0.20454545454545456, 0.0], \"mode\": \"lines\", \"marker\": {\"color\": \"rgb(61,153,112)\"}, \"text\": null, \"hoverinfo\": \"all\", \"xaxis\": \"x\", \"yaxis\": \"y\"}, {\"type\": \"scatter\", \"x\": [132.5, 132.5, 160.0, 160.0], \"y\": [0.17045454545454544, 0.24022346368715083, 0.24022346368715083, 0.20454545454545456], \"mode\": \"lines\", \"marker\": {\"color\": \"rgb(61,153,112)\"}, \"text\": null, \"hoverinfo\": \"all\", \"xaxis\": \"x\", \"yaxis\": \"y\"}, {\"type\": \"scatter\", \"x\": [175.0, 175.0, 185.0, 185.0], \"y\": [0.0, 0.27, 0.27, 0.0], \"mode\": \"lines\", \"marker\": {\"color\": \"rgb(61,153,112)\"}, \"text\": null, \"hoverinfo\": \"all\", \"xaxis\": \"x\", \"yaxis\": \"y\"}, {\"type\": \"scatter\", \"x\": [146.25, 146.25, 180.0, 180.0], \"y\": [0.24022346368715083, 0.33689839572192515, 0.33689839572192515, 0.27], \"mode\": \"lines\", \"marker\": {\"color\": \"rgb(61,153,112)\"}, \"text\": null, \"hoverinfo\": \"all\", \"xaxis\": \"x\", \"yaxis\": \"y\"}, {\"type\": \"scatter\", \"x\": [215.0, 215.0, 225.0, 225.0], \"y\": [0.0, 0.1111111111111111, 0.1111111111111111, 0.0], \"mode\": \"lines\", \"marker\": {\"color\": \"rgb(61,153,112)\"}, \"text\": null, \"hoverinfo\": \"all\", \"xaxis\": \"x\", \"yaxis\": \"y\"}, {\"type\": \"scatter\", \"x\": [205.0, 205.0, 220.0, 220.0], \"y\": [0.0, 0.14864864864864866, 0.14864864864864866, 0.1111111111111111], \"mode\": \"lines\", \"marker\": {\"color\": \"rgb(61,153,112)\"}, \"text\": null, \"hoverinfo\": \"all\", \"xaxis\": \"x\", \"yaxis\": \"y\"}, {\"type\": \"scatter\", \"x\": [195.0, 195.0, 212.5, 212.5], \"y\": [0.0, 0.20588235294117646, 0.20588235294117646, 0.14864864864864866], \"mode\": \"lines\", \"marker\": {\"color\": \"rgb(61,153,112)\"}, \"text\": null, \"hoverinfo\": \"all\", \"xaxis\": \"x\", \"yaxis\": \"y\"}, {\"type\": \"scatter\", \"x\": [255.0, 255.0, 265.0, 265.0], \"y\": [0.0, 0.06578947368421052, 0.06578947368421052, 0.0], \"mode\": \"lines\", \"marker\": {\"color\": \"rgb(61,153,112)\"}, \"text\": null, \"hoverinfo\": \"all\", \"xaxis\": \"x\", \"yaxis\": \"y\"}, {\"type\": \"scatter\", \"x\": [245.0, 245.0, 260.0, 260.0], \"y\": [0.0, 0.0728476821192053, 0.0728476821192053, 0.06578947368421052], \"mode\": \"lines\", \"marker\": {\"color\": \"rgb(61,153,112)\"}, \"text\": null, \"hoverinfo\": \"all\", \"xaxis\": \"x\", \"yaxis\": \"y\"}, {\"type\": \"scatter\", \"x\": [235.0, 235.0, 252.5, 252.5], \"y\": [0.0, 0.1125, 0.1125, 0.0728476821192053], \"mode\": \"lines\", \"marker\": {\"color\": \"rgb(61,153,112)\"}, \"text\": null, \"hoverinfo\": \"all\", \"xaxis\": \"x\", \"yaxis\": \"y\"}, {\"type\": \"scatter\", \"x\": [275.0, 275.0, 285.0, 285.0], \"y\": [0.0, 0.20930232558139536, 0.20930232558139536, 0.0], \"mode\": \"lines\", \"marker\": {\"color\": \"rgb(61,153,112)\"}, \"text\": null, \"hoverinfo\": \"all\", \"xaxis\": \"x\", \"yaxis\": \"y\"}, {\"type\": \"scatter\", \"x\": [243.75, 243.75, 280.0, 280.0], \"y\": [0.1125, 0.2484076433121019, 0.2484076433121019, 0.20930232558139536], \"mode\": \"lines\", \"marker\": {\"color\": \"rgb(61,153,112)\"}, \"text\": null, \"hoverinfo\": \"all\", \"xaxis\": \"x\", \"yaxis\": \"y\"}, {\"type\": \"scatter\", \"x\": [305.0, 305.0, 315.0, 315.0], \"y\": [0.0, 0.14285714285714285, 0.14285714285714285, 0.0], \"mode\": \"lines\", \"marker\": {\"color\": \"rgb(61,153,112)\"}, \"text\": null, \"hoverinfo\": \"all\", \"xaxis\": \"x\", \"yaxis\": \"y\"}, {\"type\": \"scatter\", \"x\": [295.0, 295.0, 310.0, 310.0], \"y\": [0.0, 0.2875, 0.2875, 0.14285714285714285], \"mode\": \"lines\", \"marker\": {\"color\": \"rgb(61,153,112)\"}, \"text\": null, \"hoverinfo\": \"all\", \"xaxis\": \"x\", \"yaxis\": \"y\"}, {\"type\": \"scatter\", \"x\": [261.875, 261.875, 302.5, 302.5], \"y\": [0.2484076433121019, 0.3383458646616541, 0.3383458646616541, 0.2875], \"mode\": \"lines\", \"marker\": {\"color\": \"rgb(61,153,112)\"}, \"text\": null, \"hoverinfo\": \"all\", \"xaxis\": \"x\", \"yaxis\": \"y\"}, {\"type\": \"scatter\", \"x\": [203.75, 203.75, 282.1875, 282.1875], \"y\": [0.20588235294117646, 0.34285714285714286, 0.34285714285714286, 0.3383458646616541], \"mode\": \"lines\", \"marker\": {\"color\": \"rgb(61,153,112)\"}, \"text\": null, \"hoverinfo\": \"all\", \"xaxis\": \"x\", \"yaxis\": \"y\"}, {\"type\": \"scatter\", \"x\": [163.125, 163.125, 242.96875, 242.96875], \"y\": [0.33689839572192515, 0.38562091503267976, 0.38562091503267976, 0.34285714285714286], \"mode\": \"lines\", \"marker\": {\"color\": \"rgb(61,153,112)\"}, \"text\": null, \"hoverinfo\": \"all\", \"xaxis\": \"x\", \"yaxis\": \"y\"}, {\"type\": \"scatter\", \"x\": [76.875, 76.875, 203.046875, 203.046875], \"y\": [0.3793103448275862, 0.44516129032258067, 0.44516129032258067, 0.38562091503267976], \"mode\": \"lines\", \"marker\": {\"color\": \"rgb(61,153,112)\"}, \"text\": null, \"hoverinfo\": \"all\", \"xaxis\": \"x\", \"yaxis\": \"y\"}, {\"type\": \"scatter\", \"x\": [30.0, 30.0, 139.9609375, 139.9609375], \"y\": [0.20279720279720279, 0.5, 0.5, 0.44516129032258067], \"mode\": \"lines\", \"marker\": {\"color\": \"rgb(61,153,112)\"}, \"text\": null, \"hoverinfo\": \"all\", \"xaxis\": \"x\", \"yaxis\": \"y\"}, {\"type\": \"scatter\", \"x\": [10.0, 10.0, 84.98046875, 84.98046875], \"y\": [0.4827586206896552, 0.5789473684210527, 0.5789473684210527, 0.5], \"mode\": \"lines\", \"marker\": {\"color\": \"rgb(61,153,112)\"}, \"text\": null, \"hoverinfo\": \"all\", \"xaxis\": \"x\", \"yaxis\": \"y\"}, {\"type\": \"scatter\", \"x\": [335.0, 335.0, 345.0, 345.0], \"y\": [0.0, 0.15270935960591134, 0.15270935960591134, 0.0], \"mode\": \"lines\", \"marker\": {\"color\": \"rgb(61,153,112)\"}, \"text\": null, \"hoverinfo\": \"all\", \"xaxis\": \"x\", \"yaxis\": \"y\"}, {\"type\": \"scatter\", \"x\": [325.0, 325.0, 340.0, 340.0], \"y\": [0.0, 0.308411214953271, 0.308411214953271, 0.15270935960591134], \"mode\": \"lines\", \"marker\": {\"color\": \"rgb(61,153,112)\"}, \"text\": null, \"hoverinfo\": \"all\", \"xaxis\": \"x\", \"yaxis\": \"y\"}, {\"type\": \"scatter\", \"x\": [365.0, 365.0, 375.0, 375.0], \"y\": [0.0, 0.075, 0.075, 0.0], \"mode\": \"lines\", \"marker\": {\"color\": \"rgb(61,153,112)\"}, \"text\": null, \"hoverinfo\": \"all\", \"xaxis\": \"x\", \"yaxis\": \"y\"}, {\"type\": \"scatter\", \"x\": [395.0, 395.0, 405.0, 405.0], \"y\": [0.0, 0.15714285714285714, 0.15714285714285714, 0.0], \"mode\": \"lines\", \"marker\": {\"color\": \"rgb(61,153,112)\"}, \"text\": null, \"hoverinfo\": \"all\", \"xaxis\": \"x\", \"yaxis\": \"y\"}, {\"type\": \"scatter\", \"x\": [385.0, 385.0, 400.0, 400.0], \"y\": [0.0, 0.1836734693877551, 0.1836734693877551, 0.15714285714285714], \"mode\": \"lines\", \"marker\": {\"color\": \"rgb(61,153,112)\"}, \"text\": null, \"hoverinfo\": \"all\", \"xaxis\": \"x\", \"yaxis\": \"y\"}, {\"type\": \"scatter\", \"x\": [370.0, 370.0, 392.5, 392.5], \"y\": [0.075, 0.25161290322580643, 0.25161290322580643, 0.1836734693877551], \"mode\": \"lines\", \"marker\": {\"color\": \"rgb(61,153,112)\"}, \"text\": null, \"hoverinfo\": \"all\", \"xaxis\": \"x\", \"yaxis\": \"y\"}, {\"type\": \"scatter\", \"x\": [425.0, 425.0, 435.0, 435.0], \"y\": [0.0, 0.08860759493670886, 0.08860759493670886, 0.0], \"mode\": \"lines\", \"marker\": {\"color\": \"rgb(61,153,112)\"}, \"text\": null, \"hoverinfo\": \"all\", \"xaxis\": \"x\", \"yaxis\": \"y\"}, {\"type\": \"scatter\", \"x\": [445.0, 445.0, 455.0, 455.0], \"y\": [0.0, 0.10714285714285714, 0.10714285714285714, 0.0], \"mode\": \"lines\", \"marker\": {\"color\": \"rgb(61,153,112)\"}, \"text\": null, \"hoverinfo\": \"all\", \"xaxis\": \"x\", \"yaxis\": \"y\"}, {\"type\": \"scatter\", \"x\": [430.0, 430.0, 450.0, 450.0], \"y\": [0.08860759493670886, 0.17647058823529413, 0.17647058823529413, 0.10714285714285714], \"mode\": \"lines\", \"marker\": {\"color\": \"rgb(61,153,112)\"}, \"text\": null, \"hoverinfo\": \"all\", \"xaxis\": \"x\", \"yaxis\": \"y\"}, {\"type\": \"scatter\", \"x\": [475.0, 475.0, 485.0, 485.0], \"y\": [0.0, 0.03225806451612903, 0.03225806451612903, 0.0], \"mode\": \"lines\", \"marker\": {\"color\": \"rgb(61,153,112)\"}, \"text\": null, \"hoverinfo\": \"all\", \"xaxis\": \"x\", \"yaxis\": \"y\"}, {\"type\": \"scatter\", \"x\": [465.0, 465.0, 480.0, 480.0], \"y\": [0.0, 0.18238993710691823, 0.18238993710691823, 0.03225806451612903], \"mode\": \"lines\", \"marker\": {\"color\": \"rgb(61,153,112)\"}, \"text\": null, \"hoverinfo\": \"all\", \"xaxis\": \"x\", \"yaxis\": \"y\"}, {\"type\": \"scatter\", \"x\": [440.0, 440.0, 472.5, 472.5], \"y\": [0.17647058823529413, 0.26627218934911245, 0.26627218934911245, 0.18238993710691823], \"mode\": \"lines\", \"marker\": {\"color\": \"rgb(61,153,112)\"}, \"text\": null, \"hoverinfo\": \"all\", \"xaxis\": \"x\", \"yaxis\": \"y\"}, {\"type\": \"scatter\", \"x\": [415.0, 415.0, 456.25, 456.25], \"y\": [0.0, 0.27710843373493976, 0.27710843373493976, 0.26627218934911245], \"mode\": \"lines\", \"marker\": {\"color\": \"rgb(61,153,112)\"}, \"text\": null, \"hoverinfo\": \"all\", \"xaxis\": \"x\", \"yaxis\": \"y\"}, {\"type\": \"scatter\", \"x\": [495.0, 495.0, 505.0, 505.0], \"y\": [0.0, 0.0975609756097561, 0.0975609756097561, 0.0], \"mode\": \"lines\", \"marker\": {\"color\": \"rgb(61,153,112)\"}, \"text\": null, \"hoverinfo\": \"all\", \"xaxis\": \"x\", \"yaxis\": \"y\"}, {\"type\": \"scatter\", \"x\": [515.0, 515.0, 525.0, 525.0], \"y\": [0.0, 0.04938271604938271, 0.04938271604938271, 0.0], \"mode\": \"lines\", \"marker\": {\"color\": \"rgb(61,153,112)\"}, \"text\": null, \"hoverinfo\": \"all\", \"xaxis\": \"x\", \"yaxis\": \"y\"}, {\"type\": \"scatter\", \"x\": [545.0, 545.0, 555.0, 555.0], \"y\": [0.0, 0.033112582781456956, 0.033112582781456956, 0.0], \"mode\": \"lines\", \"marker\": {\"color\": \"rgb(61,153,112)\"}, \"text\": null, \"hoverinfo\": \"all\", \"xaxis\": \"x\", \"yaxis\": \"y\"}, {\"type\": \"scatter\", \"x\": [535.0, 535.0, 550.0, 550.0], \"y\": [0.0, 0.0641025641025641, 0.0641025641025641, 0.033112582781456956], \"mode\": \"lines\", \"marker\": {\"color\": \"rgb(61,153,112)\"}, \"text\": null, \"hoverinfo\": \"all\", \"xaxis\": \"x\", \"yaxis\": \"y\"}, {\"type\": \"scatter\", \"x\": [520.0, 520.0, 542.5, 542.5], \"y\": [0.04938271604938271, 0.2125, 0.2125, 0.0641025641025641], \"mode\": \"lines\", \"marker\": {\"color\": \"rgb(61,153,112)\"}, \"text\": null, \"hoverinfo\": \"all\", \"xaxis\": \"x\", \"yaxis\": \"y\"}, {\"type\": \"scatter\", \"x\": [500.0, 500.0, 531.25, 531.25], \"y\": [0.0975609756097561, 0.2891566265060241, 0.2891566265060241, 0.2125], \"mode\": \"lines\", \"marker\": {\"color\": \"rgb(61,153,112)\"}, \"text\": null, \"hoverinfo\": \"all\", \"xaxis\": \"x\", \"yaxis\": \"y\"}, {\"type\": \"scatter\", \"x\": [435.625, 435.625, 515.625, 515.625], \"y\": [0.27710843373493976, 0.3372093023255814, 0.3372093023255814, 0.2891566265060241], \"mode\": \"lines\", \"marker\": {\"color\": \"rgb(61,153,112)\"}, \"text\": null, \"hoverinfo\": \"all\", \"xaxis\": \"x\", \"yaxis\": \"y\"}, {\"type\": \"scatter\", \"x\": [381.25, 381.25, 475.625, 475.625], \"y\": [0.25161290322580643, 0.36904761904761907, 0.36904761904761907, 0.3372093023255814], \"mode\": \"lines\", \"marker\": {\"color\": \"rgb(61,153,112)\"}, \"text\": null, \"hoverinfo\": \"all\", \"xaxis\": \"x\", \"yaxis\": \"y\"}, {\"type\": \"scatter\", \"x\": [355.0, 355.0, 428.4375, 428.4375], \"y\": [0.0, 0.3879781420765027, 0.3879781420765027, 0.36904761904761907], \"mode\": \"lines\", \"marker\": {\"color\": \"rgb(61,153,112)\"}, \"text\": null, \"hoverinfo\": \"all\", \"xaxis\": \"x\", \"yaxis\": \"y\"}, {\"type\": \"scatter\", \"x\": [565.0, 565.0, 575.0, 575.0], \"y\": [0.0, 0.08016877637130802, 0.08016877637130802, 0.0], \"mode\": \"lines\", \"marker\": {\"color\": \"rgb(61,153,112)\"}, \"text\": null, \"hoverinfo\": \"all\", \"xaxis\": \"x\", \"yaxis\": \"y\"}, {\"type\": \"scatter\", \"x\": [595.0, 595.0, 605.0, 605.0], \"y\": [0.0, 0.06806282722513089, 0.06806282722513089, 0.0], \"mode\": \"lines\", \"marker\": {\"color\": \"rgb(61,153,112)\"}, \"text\": null, \"hoverinfo\": \"all\", \"xaxis\": \"x\", \"yaxis\": \"y\"}, {\"type\": \"scatter\", \"x\": [625.0, 625.0, 635.0, 635.0], \"y\": [0.0, 0.1111111111111111, 0.1111111111111111, 0.0], \"mode\": \"lines\", \"marker\": {\"color\": \"rgb(61,153,112)\"}, \"text\": null, \"hoverinfo\": \"all\", \"xaxis\": \"x\", \"yaxis\": \"y\"}, {\"type\": \"scatter\", \"x\": [615.0, 615.0, 630.0, 630.0], \"y\": [0.0, 0.12280701754385964, 0.12280701754385964, 0.1111111111111111], \"mode\": \"lines\", \"marker\": {\"color\": \"rgb(61,153,112)\"}, \"text\": null, \"hoverinfo\": \"all\", \"xaxis\": \"x\", \"yaxis\": \"y\"}, {\"type\": \"scatter\", \"x\": [600.0, 600.0, 622.5, 622.5], \"y\": [0.06806282722513089, 0.14606741573033707, 0.14606741573033707, 0.12280701754385964], \"mode\": \"lines\", \"marker\": {\"color\": \"rgb(61,153,112)\"}, \"text\": null, \"hoverinfo\": \"all\", \"xaxis\": \"x\", \"yaxis\": \"y\"}, {\"type\": \"scatter\", \"x\": [585.0, 585.0, 611.25, 611.25], \"y\": [0.0, 0.2205128205128205, 0.2205128205128205, 0.14606741573033707], \"mode\": \"lines\", \"marker\": {\"color\": \"rgb(61,153,112)\"}, \"text\": null, \"hoverinfo\": \"all\", \"xaxis\": \"x\", \"yaxis\": \"y\"}, {\"type\": \"scatter\", \"x\": [570.0, 570.0, 598.125, 598.125], \"y\": [0.08016877637130802, 0.3059360730593607, 0.3059360730593607, 0.2205128205128205], \"mode\": \"lines\", \"marker\": {\"color\": \"rgb(61,153,112)\"}, \"text\": null, \"hoverinfo\": \"all\", \"xaxis\": \"x\", \"yaxis\": \"y\"}, {\"type\": \"scatter\", \"x\": [685.0, 685.0, 695.0, 695.0], \"y\": [0.0, 0.043010752688172046, 0.043010752688172046, 0.0], \"mode\": \"lines\", \"marker\": {\"color\": \"rgb(61,153,112)\"}, \"text\": null, \"hoverinfo\": \"all\", \"xaxis\": \"x\", \"yaxis\": \"y\"}, {\"type\": \"scatter\", \"x\": [675.0, 675.0, 690.0, 690.0], \"y\": [0.0, 0.05263157894736842, 0.05263157894736842, 0.043010752688172046], \"mode\": \"lines\", \"marker\": {\"color\": \"rgb(61,153,112)\"}, \"text\": null, \"hoverinfo\": \"all\", \"xaxis\": \"x\", \"yaxis\": \"y\"}, {\"type\": \"scatter\", \"x\": [665.0, 665.0, 682.5, 682.5], \"y\": [0.0, 0.0582010582010582, 0.0582010582010582, 0.05263157894736842], \"mode\": \"lines\", \"marker\": {\"color\": \"rgb(61,153,112)\"}, \"text\": null, \"hoverinfo\": \"all\", \"xaxis\": \"x\", \"yaxis\": \"y\"}, {\"type\": \"scatter\", \"x\": [655.0, 655.0, 673.75, 673.75], \"y\": [0.0, 0.06806282722513089, 0.06806282722513089, 0.0582010582010582], \"mode\": \"lines\", \"marker\": {\"color\": \"rgb(61,153,112)\"}, \"text\": null, \"hoverinfo\": \"all\", \"xaxis\": \"x\", \"yaxis\": \"y\"}, {\"type\": \"scatter\", \"x\": [725.0, 725.0, 735.0, 735.0], \"y\": [0.0, 0.030303030303030304, 0.030303030303030304, 0.0], \"mode\": \"lines\", \"marker\": {\"color\": \"rgb(61,153,112)\"}, \"text\": null, \"hoverinfo\": \"all\", \"xaxis\": \"x\", \"yaxis\": \"y\"}, {\"type\": \"scatter\", \"x\": [715.0, 715.0, 730.0, 730.0], \"y\": [0.0, 0.05583756345177665, 0.05583756345177665, 0.030303030303030304], \"mode\": \"lines\", \"marker\": {\"color\": \"rgb(61,153,112)\"}, \"text\": null, \"hoverinfo\": \"all\", \"xaxis\": \"x\", \"yaxis\": \"y\"}, {\"type\": \"scatter\", \"x\": [705.0, 705.0, 722.5, 722.5], \"y\": [0.0, 0.07, 0.07, 0.05583756345177665], \"mode\": \"lines\", \"marker\": {\"color\": \"rgb(61,153,112)\"}, \"text\": null, \"hoverinfo\": \"all\", \"xaxis\": \"x\", \"yaxis\": \"y\"}, {\"type\": \"scatter\", \"x\": [664.375, 664.375, 713.75, 713.75], \"y\": [0.06806282722513089, 0.08, 0.08, 0.07], \"mode\": \"lines\", \"marker\": {\"color\": \"rgb(61,153,112)\"}, \"text\": null, \"hoverinfo\": \"all\", \"xaxis\": \"x\", \"yaxis\": \"y\"}, {\"type\": \"scatter\", \"x\": [755.0, 755.0, 765.0, 765.0], \"y\": [0.0, 0.06930693069306931, 0.06930693069306931, 0.0], \"mode\": \"lines\", \"marker\": {\"color\": \"rgb(61,153,112)\"}, \"text\": null, \"hoverinfo\": \"all\", \"xaxis\": \"x\", \"yaxis\": \"y\"}, {\"type\": \"scatter\", \"x\": [745.0, 745.0, 760.0, 760.0], \"y\": [0.0, 0.08571428571428572, 0.08571428571428572, 0.06930693069306931], \"mode\": \"lines\", \"marker\": {\"color\": \"rgb(61,153,112)\"}, \"text\": null, \"hoverinfo\": \"all\", \"xaxis\": \"x\", \"yaxis\": \"y\"}, {\"type\": \"scatter\", \"x\": [689.0625, 689.0625, 752.5, 752.5], \"y\": [0.08, 0.23444976076555024, 0.23444976076555024, 0.08571428571428572], \"mode\": \"lines\", \"marker\": {\"color\": \"rgb(61,153,112)\"}, \"text\": null, \"hoverinfo\": \"all\", \"xaxis\": \"x\", \"yaxis\": \"y\"}, {\"type\": \"scatter\", \"x\": [645.0, 645.0, 720.78125, 720.78125], \"y\": [0.0, 0.28431372549019607, 0.28431372549019607, 0.23444976076555024], \"mode\": \"lines\", \"marker\": {\"color\": \"rgb(61,153,112)\"}, \"text\": null, \"hoverinfo\": \"all\", \"xaxis\": \"x\", \"yaxis\": \"y\"}, {\"type\": \"scatter\", \"x\": [795.0, 795.0, 805.0, 805.0], \"y\": [0.0, 0.11475409836065574, 0.11475409836065574, 0.0], \"mode\": \"lines\", \"marker\": {\"color\": \"rgb(61,153,112)\"}, \"text\": null, \"hoverinfo\": \"all\", \"xaxis\": \"x\", \"yaxis\": \"y\"}, {\"type\": \"scatter\", \"x\": [785.0, 785.0, 800.0, 800.0], \"y\": [0.0, 0.2, 0.2, 0.11475409836065574], \"mode\": \"lines\", \"marker\": {\"color\": \"rgb(61,153,112)\"}, \"text\": null, \"hoverinfo\": \"all\", \"xaxis\": \"x\", \"yaxis\": \"y\"}, {\"type\": \"scatter\", \"x\": [825.0, 825.0, 835.0, 835.0], \"y\": [0.0, 0.07317073170731707, 0.07317073170731707, 0.0], \"mode\": \"lines\", \"marker\": {\"color\": \"rgb(61,153,112)\"}, \"text\": null, \"hoverinfo\": \"all\", \"xaxis\": \"x\", \"yaxis\": \"y\"}, {\"type\": \"scatter\", \"x\": [815.0, 815.0, 830.0, 830.0], \"y\": [0.0, 0.13636363636363635, 0.13636363636363635, 0.07317073170731707], \"mode\": \"lines\", \"marker\": {\"color\": \"rgb(61,153,112)\"}, \"text\": null, \"hoverinfo\": \"all\", \"xaxis\": \"x\", \"yaxis\": \"y\"}, {\"type\": \"scatter\", \"x\": [845.0, 845.0, 855.0, 855.0], \"y\": [0.0, 0.20833333333333334, 0.20833333333333334, 0.0], \"mode\": \"lines\", \"marker\": {\"color\": \"rgb(61,153,112)\"}, \"text\": null, \"hoverinfo\": \"all\", \"xaxis\": \"x\", \"yaxis\": \"y\"}, {\"type\": \"scatter\", \"x\": [822.5, 822.5, 850.0, 850.0], \"y\": [0.13636363636363635, 0.23316062176165803, 0.23316062176165803, 0.20833333333333334], \"mode\": \"lines\", \"marker\": {\"color\": \"rgb(61,153,112)\"}, \"text\": null, \"hoverinfo\": \"all\", \"xaxis\": \"x\", \"yaxis\": \"y\"}, {\"type\": \"scatter\", \"x\": [792.5, 792.5, 836.25, 836.25], \"y\": [0.2, 0.26804123711340205, 0.26804123711340205, 0.23316062176165803], \"mode\": \"lines\", \"marker\": {\"color\": \"rgb(61,153,112)\"}, \"text\": null, \"hoverinfo\": \"all\", \"xaxis\": \"x\", \"yaxis\": \"y\"}, {\"type\": \"scatter\", \"x\": [775.0, 775.0, 814.375, 814.375], \"y\": [0.0, 0.3140096618357488, 0.3140096618357488, 0.26804123711340205], \"mode\": \"lines\", \"marker\": {\"color\": \"rgb(61,153,112)\"}, \"text\": null, \"hoverinfo\": \"all\", \"xaxis\": \"x\", \"yaxis\": \"y\"}, {\"type\": \"scatter\", \"x\": [682.890625, 682.890625, 794.6875, 794.6875], \"y\": [0.28431372549019607, 0.38181818181818183, 0.38181818181818183, 0.3140096618357488], \"mode\": \"lines\", \"marker\": {\"color\": \"rgb(61,153,112)\"}, \"text\": null, \"hoverinfo\": \"all\", \"xaxis\": \"x\", \"yaxis\": \"y\"}, {\"type\": \"scatter\", \"x\": [584.0625, 584.0625, 738.7890625, 738.7890625], \"y\": [0.3059360730593607, 0.4358974358974359, 0.4358974358974359, 0.38181818181818183], \"mode\": \"lines\", \"marker\": {\"color\": \"rgb(61,153,112)\"}, \"text\": null, \"hoverinfo\": \"all\", \"xaxis\": \"x\", \"yaxis\": \"y\"}, {\"type\": \"scatter\", \"x\": [391.71875, 391.71875, 661.42578125, 661.42578125], \"y\": [0.3879781420765027, 0.472636815920398, 0.472636815920398, 0.4358974358974359], \"mode\": \"lines\", \"marker\": {\"color\": \"rgb(61,153,112)\"}, \"text\": null, \"hoverinfo\": \"all\", \"xaxis\": \"x\", \"yaxis\": \"y\"}, {\"type\": \"scatter\", \"x\": [332.5, 332.5, 526.572265625, 526.572265625], \"y\": [0.308411214953271, 0.5466666666666666, 0.5466666666666666, 0.472636815920398], \"mode\": \"lines\", \"marker\": {\"color\": \"rgb(61,153,112)\"}, \"text\": null, \"hoverinfo\": \"all\", \"xaxis\": \"x\", \"yaxis\": \"y\"}, {\"type\": \"scatter\", \"x\": [885.0, 885.0, 895.0, 895.0], \"y\": [0.0, 0.1232876712328767, 0.1232876712328767, 0.0], \"mode\": \"lines\", \"marker\": {\"color\": \"rgb(61,153,112)\"}, \"text\": null, \"hoverinfo\": \"all\", \"xaxis\": \"x\", \"yaxis\": \"y\"}, {\"type\": \"scatter\", \"x\": [875.0, 875.0, 890.0, 890.0], \"y\": [0.0, 0.15270935960591134, 0.15270935960591134, 0.1232876712328767], \"mode\": \"lines\", \"marker\": {\"color\": \"rgb(61,153,112)\"}, \"text\": null, \"hoverinfo\": \"all\", \"xaxis\": \"x\", \"yaxis\": \"y\"}, {\"type\": \"scatter\", \"x\": [865.0, 865.0, 882.5, 882.5], \"y\": [0.0, 0.23655913978494625, 0.23655913978494625, 0.15270935960591134], \"mode\": \"lines\", \"marker\": {\"color\": \"rgb(61,153,112)\"}, \"text\": null, \"hoverinfo\": \"all\", \"xaxis\": \"x\", \"yaxis\": \"y\"}, {\"type\": \"scatter\", \"x\": [945.0, 945.0, 955.0, 955.0], \"y\": [0.0, 0.08108108108108109, 0.08108108108108109, 0.0], \"mode\": \"lines\", \"marker\": {\"color\": \"rgb(61,153,112)\"}, \"text\": null, \"hoverinfo\": \"all\", \"xaxis\": \"x\", \"yaxis\": \"y\"}, {\"type\": \"scatter\", \"x\": [935.0, 935.0, 950.0, 950.0], \"y\": [0.0, 0.1509433962264151, 0.1509433962264151, 0.08108108108108109], \"mode\": \"lines\", \"marker\": {\"color\": \"rgb(61,153,112)\"}, \"text\": null, \"hoverinfo\": \"all\", \"xaxis\": \"x\", \"yaxis\": \"y\"}, {\"type\": \"scatter\", \"x\": [925.0, 925.0, 942.5, 942.5], \"y\": [0.0, 0.28846153846153844, 0.28846153846153844, 0.1509433962264151], \"mode\": \"lines\", \"marker\": {\"color\": \"rgb(61,153,112)\"}, \"text\": null, \"hoverinfo\": \"all\", \"xaxis\": \"x\", \"yaxis\": \"y\"}, {\"type\": \"scatter\", \"x\": [915.0, 915.0, 933.75, 933.75], \"y\": [0.0, 0.3391304347826087, 0.3391304347826087, 0.28846153846153844], \"mode\": \"lines\", \"marker\": {\"color\": \"rgb(61,153,112)\"}, \"text\": null, \"hoverinfo\": \"all\", \"xaxis\": \"x\", \"yaxis\": \"y\"}, {\"type\": \"scatter\", \"x\": [905.0, 905.0, 924.375, 924.375], \"y\": [0.0, 0.3939393939393939, 0.3939393939393939, 0.3391304347826087], \"mode\": \"lines\", \"marker\": {\"color\": \"rgb(61,153,112)\"}, \"text\": null, \"hoverinfo\": \"all\", \"xaxis\": \"x\", \"yaxis\": \"y\"}, {\"type\": \"scatter\", \"x\": [985.0, 985.0, 995.0, 995.0], \"y\": [0.0, 0.10638297872340426, 0.10638297872340426, 0.0], \"mode\": \"lines\", \"marker\": {\"color\": \"rgb(61,153,112)\"}, \"text\": null, \"hoverinfo\": \"all\", \"xaxis\": \"x\", \"yaxis\": \"y\"}, {\"type\": \"scatter\", \"x\": [975.0, 975.0, 990.0, 990.0], \"y\": [0.0, 0.21678321678321677, 0.21678321678321677, 0.10638297872340426], \"mode\": \"lines\", \"marker\": {\"color\": \"rgb(61,153,112)\"}, \"text\": null, \"hoverinfo\": \"all\", \"xaxis\": \"x\", \"yaxis\": \"y\"}, {\"type\": \"scatter\", \"x\": [965.0, 965.0, 982.5, 982.5], \"y\": [0.0, 0.38571428571428573, 0.38571428571428573, 0.21678321678321677], \"mode\": \"lines\", \"marker\": {\"color\": \"rgb(61,153,112)\"}, \"text\": null, \"hoverinfo\": \"all\", \"xaxis\": \"x\", \"yaxis\": \"y\"}, {\"type\": \"scatter\", \"x\": [1005.0, 1005.0, 1015.0, 1015.0], \"y\": [0.0, 0.06382978723404255, 0.06382978723404255, 0.0], \"mode\": \"lines\", \"marker\": {\"color\": \"rgb(61,153,112)\"}, \"text\": null, \"hoverinfo\": \"all\", \"xaxis\": \"x\", \"yaxis\": \"y\"}, {\"type\": \"scatter\", \"x\": [1035.0, 1035.0, 1045.0, 1045.0], \"y\": [0.0, 0.04411764705882353, 0.04411764705882353, 0.0], \"mode\": \"lines\", \"marker\": {\"color\": \"rgb(61,153,112)\"}, \"text\": null, \"hoverinfo\": \"all\", \"xaxis\": \"x\", \"yaxis\": \"y\"}, {\"type\": \"scatter\", \"x\": [1025.0, 1025.0, 1040.0, 1040.0], \"y\": [0.0, 0.08450704225352113, 0.08450704225352113, 0.04411764705882353], \"mode\": \"lines\", \"marker\": {\"color\": \"rgb(61,153,112)\"}, \"text\": null, \"hoverinfo\": \"all\", \"xaxis\": \"x\", \"yaxis\": \"y\"}, {\"type\": \"scatter\", \"x\": [1010.0, 1010.0, 1032.5, 1032.5], \"y\": [0.06382978723404255, 0.09090909090909091, 0.09090909090909091, 0.08450704225352113], \"mode\": \"lines\", \"marker\": {\"color\": \"rgb(61,153,112)\"}, \"text\": null, \"hoverinfo\": \"all\", \"xaxis\": \"x\", \"yaxis\": \"y\"}, {\"type\": \"scatter\", \"x\": [1065.0, 1065.0, 1075.0, 1075.0], \"y\": [0.0, 0.056, 0.056, 0.0], \"mode\": \"lines\", \"marker\": {\"color\": \"rgb(61,153,112)\"}, \"text\": null, \"hoverinfo\": \"all\", \"xaxis\": \"x\", \"yaxis\": \"y\"}, {\"type\": \"scatter\", \"x\": [1055.0, 1055.0, 1070.0, 1070.0], \"y\": [0.0, 0.1746031746031746, 0.1746031746031746, 0.056], \"mode\": \"lines\", \"marker\": {\"color\": \"rgb(61,153,112)\"}, \"text\": null, \"hoverinfo\": \"all\", \"xaxis\": \"x\", \"yaxis\": \"y\"}, {\"type\": \"scatter\", \"x\": [1085.0, 1085.0, 1095.0, 1095.0], \"y\": [0.0, 0.038461538461538464, 0.038461538461538464, 0.0], \"mode\": \"lines\", \"marker\": {\"color\": \"rgb(61,153,112)\"}, \"text\": null, \"hoverinfo\": \"all\", \"xaxis\": \"x\", \"yaxis\": \"y\"}, {\"type\": \"scatter\", \"x\": [1115.0, 1115.0, 1125.0, 1125.0], \"y\": [0.0, 0.06666666666666667, 0.06666666666666667, 0.0], \"mode\": \"lines\", \"marker\": {\"color\": \"rgb(61,153,112)\"}, \"text\": null, \"hoverinfo\": \"all\", \"xaxis\": \"x\", \"yaxis\": \"y\"}, {\"type\": \"scatter\", \"x\": [1105.0, 1105.0, 1120.0, 1120.0], \"y\": [0.0, 0.11320754716981132, 0.11320754716981132, 0.06666666666666667], \"mode\": \"lines\", \"marker\": {\"color\": \"rgb(61,153,112)\"}, \"text\": null, \"hoverinfo\": \"all\", \"xaxis\": \"x\", \"yaxis\": \"y\"}, {\"type\": \"scatter\", \"x\": [1090.0, 1090.0, 1112.5, 1112.5], \"y\": [0.038461538461538464, 0.18518518518518517, 0.18518518518518517, 0.11320754716981132], \"mode\": \"lines\", \"marker\": {\"color\": \"rgb(61,153,112)\"}, \"text\": null, \"hoverinfo\": \"all\", \"xaxis\": \"x\", \"yaxis\": \"y\"}, {\"type\": \"scatter\", \"x\": [1062.5, 1062.5, 1101.25, 1101.25], \"y\": [0.1746031746031746, 0.23076923076923078, 0.23076923076923078, 0.18518518518518517], \"mode\": \"lines\", \"marker\": {\"color\": \"rgb(61,153,112)\"}, \"text\": null, \"hoverinfo\": \"all\", \"xaxis\": \"x\", \"yaxis\": \"y\"}, {\"type\": \"scatter\", \"x\": [1021.25, 1021.25, 1081.875, 1081.875], \"y\": [0.09090909090909091, 0.29133858267716534, 0.29133858267716534, 0.23076923076923078], \"mode\": \"lines\", \"marker\": {\"color\": \"rgb(61,153,112)\"}, \"text\": null, \"hoverinfo\": \"all\", \"xaxis\": \"x\", \"yaxis\": \"y\"}, {\"type\": \"scatter\", \"x\": [1135.0, 1135.0, 1145.0, 1145.0], \"y\": [0.0, 0.1937984496124031, 0.1937984496124031, 0.0], \"mode\": \"lines\", \"marker\": {\"color\": \"rgb(61,153,112)\"}, \"text\": null, \"hoverinfo\": \"all\", \"xaxis\": \"x\", \"yaxis\": \"y\"}, {\"type\": \"scatter\", \"x\": [1165.0, 1165.0, 1175.0, 1175.0], \"y\": [0.0, 0.05555555555555555, 0.05555555555555555, 0.0], \"mode\": \"lines\", \"marker\": {\"color\": \"rgb(61,153,112)\"}, \"text\": null, \"hoverinfo\": \"all\", \"xaxis\": \"x\", \"yaxis\": \"y\"}, {\"type\": \"scatter\", \"x\": [1155.0, 1155.0, 1170.0, 1170.0], \"y\": [0.0, 0.1206896551724138, 0.1206896551724138, 0.05555555555555555], \"mode\": \"lines\", \"marker\": {\"color\": \"rgb(61,153,112)\"}, \"text\": null, \"hoverinfo\": \"all\", \"xaxis\": \"x\", \"yaxis\": \"y\"}, {\"type\": \"scatter\", \"x\": [1195.0, 1195.0, 1205.0, 1205.0], \"y\": [0.0, 0.13043478260869565, 0.13043478260869565, 0.0], \"mode\": \"lines\", \"marker\": {\"color\": \"rgb(61,153,112)\"}, \"text\": null, \"hoverinfo\": \"all\", \"xaxis\": \"x\", \"yaxis\": \"y\"}, {\"type\": \"scatter\", \"x\": [1185.0, 1185.0, 1200.0, 1200.0], \"y\": [0.0, 0.24, 0.24, 0.13043478260869565], \"mode\": \"lines\", \"marker\": {\"color\": \"rgb(61,153,112)\"}, \"text\": null, \"hoverinfo\": \"all\", \"xaxis\": \"x\", \"yaxis\": \"y\"}, {\"type\": \"scatter\", \"x\": [1162.5, 1162.5, 1192.5, 1192.5], \"y\": [0.1206896551724138, 0.2761904761904762, 0.2761904761904762, 0.24], \"mode\": \"lines\", \"marker\": {\"color\": \"rgb(61,153,112)\"}, \"text\": null, \"hoverinfo\": \"all\", \"xaxis\": \"x\", \"yaxis\": \"y\"}, {\"type\": \"scatter\", \"x\": [1140.0, 1140.0, 1177.5, 1177.5], \"y\": [0.1937984496124031, 0.31746031746031744, 0.31746031746031744, 0.2761904761904762], \"mode\": \"lines\", \"marker\": {\"color\": \"rgb(61,153,112)\"}, \"text\": null, \"hoverinfo\": \"all\", \"xaxis\": \"x\", \"yaxis\": \"y\"}, {\"type\": \"scatter\", \"x\": [1051.5625, 1051.5625, 1158.75, 1158.75], \"y\": [0.29133858267716534, 0.39568345323741005, 0.39568345323741005, 0.31746031746031744], \"mode\": \"lines\", \"marker\": {\"color\": \"rgb(61,153,112)\"}, \"text\": null, \"hoverinfo\": \"all\", \"xaxis\": \"x\", \"yaxis\": \"y\"}, {\"type\": \"scatter\", \"x\": [973.75, 973.75, 1105.15625, 1105.15625], \"y\": [0.38571428571428573, 0.4492753623188406, 0.4492753623188406, 0.39568345323741005], \"mode\": \"lines\", \"marker\": {\"color\": \"rgb(61,153,112)\"}, \"text\": null, \"hoverinfo\": \"all\", \"xaxis\": \"x\", \"yaxis\": \"y\"}, {\"type\": \"scatter\", \"x\": [914.6875, 914.6875, 1039.453125, 1039.453125], \"y\": [0.3939393939393939, 0.5107913669064749, 0.5107913669064749, 0.4492753623188406], \"mode\": \"lines\", \"marker\": {\"color\": \"rgb(61,153,112)\"}, \"text\": null, \"hoverinfo\": \"all\", \"xaxis\": \"x\", \"yaxis\": \"y\"}, {\"type\": \"scatter\", \"x\": [873.75, 873.75, 977.0703125, 977.0703125], \"y\": [0.23655913978494625, 0.5705521472392638, 0.5705521472392638, 0.5107913669064749], \"mode\": \"lines\", \"marker\": {\"color\": \"rgb(61,153,112)\"}, \"text\": null, \"hoverinfo\": \"all\", \"xaxis\": \"x\", \"yaxis\": \"y\"}, {\"type\": \"scatter\", \"x\": [429.5361328125, 429.5361328125, 925.41015625, 925.41015625], \"y\": [0.5466666666666666, 0.5955056179775281, 0.5955056179775281, 0.5705521472392638], \"mode\": \"lines\", \"marker\": {\"color\": \"rgb(61,153,112)\"}, \"text\": null, \"hoverinfo\": \"all\", \"xaxis\": \"x\", \"yaxis\": \"y\"}, {\"type\": \"scatter\", \"x\": [47.490234375, 47.490234375, 677.47314453125, 677.47314453125], \"y\": [0.5789473684210527, 0.7289719626168224, 0.7289719626168224, 0.5955056179775281], \"mode\": \"lines\", \"marker\": {\"color\": \"rgb(61,153,112)\"}, \"text\": null, \"hoverinfo\": \"all\", \"xaxis\": \"x\", \"yaxis\": \"y\"}, {\"type\": \"scatter\", \"x\": [1215.0, 1215.0, 1225.0, 1225.0], \"y\": [0.0, 0.21666666666666667, 0.21666666666666667, 0.0], \"mode\": \"lines\", \"marker\": {\"color\": \"rgb(255,65,54)\"}, \"text\": null, \"hoverinfo\": \"all\", \"xaxis\": \"x\", \"yaxis\": \"y\"}, {\"type\": \"scatter\", \"x\": [1235.0, 1235.0, 1245.0, 1245.0], \"y\": [0.0, 0.16339869281045752, 0.16339869281045752, 0.0], \"mode\": \"lines\", \"marker\": {\"color\": \"rgb(255,65,54)\"}, \"text\": null, \"hoverinfo\": \"all\", \"xaxis\": \"x\", \"yaxis\": \"y\"}, {\"type\": \"scatter\", \"x\": [1255.0, 1255.0, 1265.0, 1265.0], \"y\": [0.0, 0.20833333333333334, 0.20833333333333334, 0.0], \"mode\": \"lines\", \"marker\": {\"color\": \"rgb(255,65,54)\"}, \"text\": null, \"hoverinfo\": \"all\", \"xaxis\": \"x\", \"yaxis\": \"y\"}, {\"type\": \"scatter\", \"x\": [1240.0, 1240.0, 1260.0, 1260.0], \"y\": [0.16339869281045752, 0.24, 0.24, 0.20833333333333334], \"mode\": \"lines\", \"marker\": {\"color\": \"rgb(255,65,54)\"}, \"text\": null, \"hoverinfo\": \"all\", \"xaxis\": \"x\", \"yaxis\": \"y\"}, {\"type\": \"scatter\", \"x\": [1220.0, 1220.0, 1250.0, 1250.0], \"y\": [0.21666666666666667, 0.5657894736842105, 0.5657894736842105, 0.24], \"mode\": \"lines\", \"marker\": {\"color\": \"rgb(255,65,54)\"}, \"text\": null, \"hoverinfo\": \"all\", \"xaxis\": \"x\", \"yaxis\": \"y\"}, {\"type\": \"scatter\", \"x\": [1275.0, 1275.0, 1285.0, 1285.0], \"y\": [0.0, 0.14285714285714285, 0.14285714285714285, 0.0], \"mode\": \"lines\", \"marker\": {\"color\": \"rgb(255,65,54)\"}, \"text\": null, \"hoverinfo\": \"all\", \"xaxis\": \"x\", \"yaxis\": \"y\"}, {\"type\": \"scatter\", \"x\": [1315.0, 1315.0, 1325.0, 1325.0], \"y\": [0.0, 0.07042253521126761, 0.07042253521126761, 0.0], \"mode\": \"lines\", \"marker\": {\"color\": \"rgb(255,65,54)\"}, \"text\": null, \"hoverinfo\": \"all\", \"xaxis\": \"x\", \"yaxis\": \"y\"}, {\"type\": \"scatter\", \"x\": [1305.0, 1305.0, 1320.0, 1320.0], \"y\": [0.0, 0.10810810810810811, 0.10810810810810811, 0.07042253521126761], \"mode\": \"lines\", \"marker\": {\"color\": \"rgb(255,65,54)\"}, \"text\": null, \"hoverinfo\": \"all\", \"xaxis\": \"x\", \"yaxis\": \"y\"}, {\"type\": \"scatter\", \"x\": [1295.0, 1295.0, 1312.5, 1312.5], \"y\": [0.0, 0.15384615384615385, 0.15384615384615385, 0.10810810810810811], \"mode\": \"lines\", \"marker\": {\"color\": \"rgb(255,65,54)\"}, \"text\": null, \"hoverinfo\": \"all\", \"xaxis\": \"x\", \"yaxis\": \"y\"}, {\"type\": \"scatter\", \"x\": [1345.0, 1345.0, 1355.0, 1355.0], \"y\": [0.0, 0.08823529411764706, 0.08823529411764706, 0.0], \"mode\": \"lines\", \"marker\": {\"color\": \"rgb(255,65,54)\"}, \"text\": null, \"hoverinfo\": \"all\", \"xaxis\": \"x\", \"yaxis\": \"y\"}, {\"type\": \"scatter\", \"x\": [1335.0, 1335.0, 1350.0, 1350.0], \"y\": [0.0, 0.15942028985507245, 0.15942028985507245, 0.08823529411764706], \"mode\": \"lines\", \"marker\": {\"color\": \"rgb(255,65,54)\"}, \"text\": null, \"hoverinfo\": \"all\", \"xaxis\": \"x\", \"yaxis\": \"y\"}, {\"type\": \"scatter\", \"x\": [1303.75, 1303.75, 1342.5, 1342.5], \"y\": [0.15384615384615385, 0.23943661971830985, 0.23943661971830985, 0.15942028985507245], \"mode\": \"lines\", \"marker\": {\"color\": \"rgb(255,65,54)\"}, \"text\": null, \"hoverinfo\": \"all\", \"xaxis\": \"x\", \"yaxis\": \"y\"}, {\"type\": \"scatter\", \"x\": [1365.0, 1365.0, 1375.0, 1375.0], \"y\": [0.0, 0.28, 0.28, 0.0], \"mode\": \"lines\", \"marker\": {\"color\": \"rgb(255,65,54)\"}, \"text\": null, \"hoverinfo\": \"all\", \"xaxis\": \"x\", \"yaxis\": \"y\"}, {\"type\": \"scatter\", \"x\": [1323.125, 1323.125, 1370.0, 1370.0], \"y\": [0.23943661971830985, 0.3176470588235294, 0.3176470588235294, 0.28], \"mode\": \"lines\", \"marker\": {\"color\": \"rgb(255,65,54)\"}, \"text\": null, \"hoverinfo\": \"all\", \"xaxis\": \"x\", \"yaxis\": \"y\"}, {\"type\": \"scatter\", \"x\": [1280.0, 1280.0, 1346.5625, 1346.5625], \"y\": [0.14285714285714285, 0.5339805825242718, 0.5339805825242718, 0.3176470588235294], \"mode\": \"lines\", \"marker\": {\"color\": \"rgb(255,65,54)\"}, \"text\": null, \"hoverinfo\": \"all\", \"xaxis\": \"x\", \"yaxis\": \"y\"}, {\"type\": \"scatter\", \"x\": [1405.0, 1405.0, 1415.0, 1415.0], \"y\": [0.0, 0.11428571428571428, 0.11428571428571428, 0.0], \"mode\": \"lines\", \"marker\": {\"color\": \"rgb(255,65,54)\"}, \"text\": null, \"hoverinfo\": \"all\", \"xaxis\": \"x\", \"yaxis\": \"y\"}, {\"type\": \"scatter\", \"x\": [1395.0, 1395.0, 1410.0, 1410.0], \"y\": [0.0, 0.4153846153846154, 0.4153846153846154, 0.11428571428571428], \"mode\": \"lines\", \"marker\": {\"color\": \"rgb(255,65,54)\"}, \"text\": null, \"hoverinfo\": \"all\", \"xaxis\": \"x\", \"yaxis\": \"y\"}, {\"type\": \"scatter\", \"x\": [1385.0, 1385.0, 1402.5, 1402.5], \"y\": [0.0, 0.475, 0.475, 0.4153846153846154], \"mode\": \"lines\", \"marker\": {\"color\": \"rgb(255,65,54)\"}, \"text\": null, \"hoverinfo\": \"all\", \"xaxis\": \"x\", \"yaxis\": \"y\"}, {\"type\": \"scatter\", \"x\": [1425.0, 1425.0, 1435.0, 1435.0], \"y\": [0.0, 0.16417910447761194, 0.16417910447761194, 0.0], \"mode\": \"lines\", \"marker\": {\"color\": \"rgb(255,65,54)\"}, \"text\": null, \"hoverinfo\": \"all\", \"xaxis\": \"x\", \"yaxis\": \"y\"}, {\"type\": \"scatter\", \"x\": [1465.0, 1465.0, 1475.0, 1475.0], \"y\": [0.0, 0.13432835820895522, 0.13432835820895522, 0.0], \"mode\": \"lines\", \"marker\": {\"color\": \"rgb(255,65,54)\"}, \"text\": null, \"hoverinfo\": \"all\", \"xaxis\": \"x\", \"yaxis\": \"y\"}, {\"type\": \"scatter\", \"x\": [1455.0, 1455.0, 1470.0, 1470.0], \"y\": [0.0, 0.14285714285714285, 0.14285714285714285, 0.13432835820895522], \"mode\": \"lines\", \"marker\": {\"color\": \"rgb(255,65,54)\"}, \"text\": null, \"hoverinfo\": \"all\", \"xaxis\": \"x\", \"yaxis\": \"y\"}, {\"type\": \"scatter\", \"x\": [1445.0, 1445.0, 1462.5, 1462.5], \"y\": [0.0, 0.18840579710144928, 0.18840579710144928, 0.14285714285714285], \"mode\": \"lines\", \"marker\": {\"color\": \"rgb(255,65,54)\"}, \"text\": null, \"hoverinfo\": \"all\", \"xaxis\": \"x\", \"yaxis\": \"y\"}, {\"type\": \"scatter\", \"x\": [1430.0, 1430.0, 1453.75, 1453.75], \"y\": [0.16417910447761194, 0.38235294117647056, 0.38235294117647056, 0.18840579710144928], \"mode\": \"lines\", \"marker\": {\"color\": \"rgb(255,65,54)\"}, \"text\": null, \"hoverinfo\": \"all\", \"xaxis\": \"x\", \"yaxis\": \"y\"}, {\"type\": \"scatter\", \"x\": [1485.0, 1485.0, 1495.0, 1495.0], \"y\": [0.0, 0.14666666666666667, 0.14666666666666667, 0.0], \"mode\": \"lines\", \"marker\": {\"color\": \"rgb(255,65,54)\"}, \"text\": null, \"hoverinfo\": \"all\", \"xaxis\": \"x\", \"yaxis\": \"y\"}, {\"type\": \"scatter\", \"x\": [1505.0, 1505.0, 1515.0, 1515.0], \"y\": [0.0, 0.2676056338028169, 0.2676056338028169, 0.0], \"mode\": \"lines\", \"marker\": {\"color\": \"rgb(255,65,54)\"}, \"text\": null, \"hoverinfo\": \"all\", \"xaxis\": \"x\", \"yaxis\": \"y\"}, {\"type\": \"scatter\", \"x\": [1490.0, 1490.0, 1510.0, 1510.0], \"y\": [0.14666666666666667, 0.34177215189873417, 0.34177215189873417, 0.2676056338028169], \"mode\": \"lines\", \"marker\": {\"color\": \"rgb(255,65,54)\"}, \"text\": null, \"hoverinfo\": \"all\", \"xaxis\": \"x\", \"yaxis\": \"y\"}, {\"type\": \"scatter\", \"x\": [1525.0, 1525.0, 1535.0, 1535.0], \"y\": [0.0, 0.36, 0.36, 0.0], \"mode\": \"lines\", \"marker\": {\"color\": \"rgb(255,65,54)\"}, \"text\": null, \"hoverinfo\": \"all\", \"xaxis\": \"x\", \"yaxis\": \"y\"}, {\"type\": \"scatter\", \"x\": [1500.0, 1500.0, 1530.0, 1530.0], \"y\": [0.34177215189873417, 0.4666666666666667, 0.4666666666666667, 0.36], \"mode\": \"lines\", \"marker\": {\"color\": \"rgb(255,65,54)\"}, \"text\": null, \"hoverinfo\": \"all\", \"xaxis\": \"x\", \"yaxis\": \"y\"}, {\"type\": \"scatter\", \"x\": [1441.875, 1441.875, 1515.0, 1515.0], \"y\": [0.38235294117647056, 0.5294117647058824, 0.5294117647058824, 0.4666666666666667], \"mode\": \"lines\", \"marker\": {\"color\": \"rgb(255,65,54)\"}, \"text\": null, \"hoverinfo\": \"all\", \"xaxis\": \"x\", \"yaxis\": \"y\"}, {\"type\": \"scatter\", \"x\": [1393.75, 1393.75, 1478.4375, 1478.4375], \"y\": [0.475, 0.569620253164557, 0.569620253164557, 0.5294117647058824], \"mode\": \"lines\", \"marker\": {\"color\": \"rgb(255,65,54)\"}, \"text\": null, \"hoverinfo\": \"all\", \"xaxis\": \"x\", \"yaxis\": \"y\"}, {\"type\": \"scatter\", \"x\": [1313.28125, 1313.28125, 1436.09375, 1436.09375], \"y\": [0.5339805825242718, 0.68, 0.68, 0.569620253164557], \"mode\": \"lines\", \"marker\": {\"color\": \"rgb(255,65,54)\"}, \"text\": null, \"hoverinfo\": \"all\", \"xaxis\": \"x\", \"yaxis\": \"y\"}, {\"type\": \"scatter\", \"x\": [1235.0, 1235.0, 1374.6875, 1374.6875], \"y\": [0.5657894736842105, 0.7606837606837606, 0.7606837606837606, 0.68], \"mode\": \"lines\", \"marker\": {\"color\": \"rgb(255,65,54)\"}, \"text\": null, \"hoverinfo\": \"all\", \"xaxis\": \"x\", \"yaxis\": \"y\"}, {\"type\": \"scatter\", \"x\": [362.481689453125, 362.481689453125, 1304.84375, 1304.84375], \"y\": [0.7289719626168224, 0.8205128205128205, 0.8205128205128205, 0.7606837606837606], \"mode\": \"lines\", \"marker\": {\"color\": \"rgb(0,116,217)\"}, \"text\": null, \"hoverinfo\": \"all\", \"xaxis\": \"x\", \"yaxis\": \"y\"}, {\"type\": \"scatter\", \"x\": [1555.0, 1555.0, 1565.0, 1565.0], \"y\": [0.0, 0.4, 0.4, 0.0], \"mode\": \"lines\", \"marker\": {\"color\": \"rgb(35,205,205)\"}, \"text\": null, \"hoverinfo\": \"all\", \"xaxis\": \"x\", \"yaxis\": \"y\"}, {\"type\": \"scatter\", \"x\": [1575.0, 1575.0, 1585.0, 1585.0], \"y\": [0.0, 0.4339622641509434, 0.4339622641509434, 0.0], \"mode\": \"lines\", \"marker\": {\"color\": \"rgb(35,205,205)\"}, \"text\": null, \"hoverinfo\": \"all\", \"xaxis\": \"x\", \"yaxis\": \"y\"}, {\"type\": \"scatter\", \"x\": [1560.0, 1560.0, 1580.0, 1580.0], \"y\": [0.4, 0.5407407407407407, 0.5407407407407407, 0.4339622641509434], \"mode\": \"lines\", \"marker\": {\"color\": \"rgb(35,205,205)\"}, \"text\": null, \"hoverinfo\": \"all\", \"xaxis\": \"x\", \"yaxis\": \"y\"}, {\"type\": \"scatter\", \"x\": [1545.0, 1545.0, 1570.0, 1570.0], \"y\": [0.0, 0.5975609756097561, 0.5975609756097561, 0.5407407407407407], \"mode\": \"lines\", \"marker\": {\"color\": \"rgb(35,205,205)\"}, \"text\": null, \"hoverinfo\": \"all\", \"xaxis\": \"x\", \"yaxis\": \"y\"}, {\"type\": \"scatter\", \"x\": [1595.0, 1595.0, 1605.0, 1605.0], \"y\": [0.0, 0.2926208651399491, 0.2926208651399491, 0.0], \"mode\": \"lines\", \"marker\": {\"color\": \"rgb(35,205,205)\"}, \"text\": null, \"hoverinfo\": \"all\", \"xaxis\": \"x\", \"yaxis\": \"y\"}, {\"type\": \"scatter\", \"x\": [1635.0, 1635.0, 1645.0, 1645.0], \"y\": [0.0, 0.3217391304347826, 0.3217391304347826, 0.0], \"mode\": \"lines\", \"marker\": {\"color\": \"rgb(35,205,205)\"}, \"text\": null, \"hoverinfo\": \"all\", \"xaxis\": \"x\", \"yaxis\": \"y\"}, {\"type\": \"scatter\", \"x\": [1665.0, 1665.0, 1675.0, 1675.0], \"y\": [0.0, 0.3032258064516129, 0.3032258064516129, 0.0], \"mode\": \"lines\", \"marker\": {\"color\": \"rgb(35,205,205)\"}, \"text\": null, \"hoverinfo\": \"all\", \"xaxis\": \"x\", \"yaxis\": \"y\"}, {\"type\": \"scatter\", \"x\": [1655.0, 1655.0, 1670.0, 1670.0], \"y\": [0.0, 0.35766423357664234, 0.35766423357664234, 0.3032258064516129], \"mode\": \"lines\", \"marker\": {\"color\": \"rgb(35,205,205)\"}, \"text\": null, \"hoverinfo\": \"all\", \"xaxis\": \"x\", \"yaxis\": \"y\"}, {\"type\": \"scatter\", \"x\": [1640.0, 1640.0, 1662.5, 1662.5], \"y\": [0.3217391304347826, 0.4782608695652174, 0.4782608695652174, 0.35766423357664234], \"mode\": \"lines\", \"marker\": {\"color\": \"rgb(35,205,205)\"}, \"text\": null, \"hoverinfo\": \"all\", \"xaxis\": \"x\", \"yaxis\": \"y\"}, {\"type\": \"scatter\", \"x\": [1625.0, 1625.0, 1651.25, 1651.25], \"y\": [0.0, 0.5053763440860215, 0.5053763440860215, 0.4782608695652174], \"mode\": \"lines\", \"marker\": {\"color\": \"rgb(35,205,205)\"}, \"text\": null, \"hoverinfo\": \"all\", \"xaxis\": \"x\", \"yaxis\": \"y\"}, {\"type\": \"scatter\", \"x\": [1615.0, 1615.0, 1638.125, 1638.125], \"y\": [0.0, 0.5486725663716814, 0.5486725663716814, 0.5053763440860215], \"mode\": \"lines\", \"marker\": {\"color\": \"rgb(35,205,205)\"}, \"text\": null, \"hoverinfo\": \"all\", \"xaxis\": \"x\", \"yaxis\": \"y\"}, {\"type\": \"scatter\", \"x\": [1600.0, 1600.0, 1626.5625, 1626.5625], \"y\": [0.2926208651399491, 0.6454849498327759, 0.6454849498327759, 0.5486725663716814], \"mode\": \"lines\", \"marker\": {\"color\": \"rgb(35,205,205)\"}, \"text\": null, \"hoverinfo\": \"all\", \"xaxis\": \"x\", \"yaxis\": \"y\"}, {\"type\": \"scatter\", \"x\": [1557.5, 1557.5, 1613.28125, 1613.28125], \"y\": [0.5975609756097561, 0.7912087912087912, 0.7912087912087912, 0.6454849498327759], \"mode\": \"lines\", \"marker\": {\"color\": \"rgb(35,205,205)\"}, \"text\": null, \"hoverinfo\": \"all\", \"xaxis\": \"x\", \"yaxis\": \"y\"}, {\"type\": \"scatter\", \"x\": [1715.0, 1715.0, 1725.0, 1725.0], \"y\": [0.0, 0.40594059405940597, 0.40594059405940597, 0.0], \"mode\": \"lines\", \"marker\": {\"color\": \"rgb(133,20,75)\"}, \"text\": null, \"hoverinfo\": \"all\", \"xaxis\": \"x\", \"yaxis\": \"y\"}, {\"type\": \"scatter\", \"x\": [1705.0, 1705.0, 1720.0, 1720.0], \"y\": [0.0, 0.42857142857142855, 0.42857142857142855, 0.40594059405940597], \"mode\": \"lines\", \"marker\": {\"color\": \"rgb(133,20,75)\"}, \"text\": null, \"hoverinfo\": \"all\", \"xaxis\": \"x\", \"yaxis\": \"y\"}, {\"type\": \"scatter\", \"x\": [1695.0, 1695.0, 1712.5, 1712.5], \"y\": [0.0, 0.525, 0.525, 0.42857142857142855], \"mode\": \"lines\", \"marker\": {\"color\": \"rgb(133,20,75)\"}, \"text\": null, \"hoverinfo\": \"all\", \"xaxis\": \"x\", \"yaxis\": \"y\"}, {\"type\": \"scatter\", \"x\": [1685.0, 1685.0, 1703.75, 1703.75], \"y\": [0.0, 0.6036036036036037, 0.6036036036036037, 0.525], \"mode\": \"lines\", \"marker\": {\"color\": \"rgb(133,20,75)\"}, \"text\": null, \"hoverinfo\": \"all\", \"xaxis\": \"x\", \"yaxis\": \"y\"}, {\"type\": \"scatter\", \"x\": [1745.0, 1745.0, 1755.0, 1755.0], \"y\": [0.0, 0.3877551020408163, 0.3877551020408163, 0.0], \"mode\": \"lines\", \"marker\": {\"color\": \"rgb(255,220,0)\"}, \"text\": null, \"hoverinfo\": \"all\", \"xaxis\": \"x\", \"yaxis\": \"y\"}, {\"type\": \"scatter\", \"x\": [1775.0, 1775.0, 1785.0, 1785.0], \"y\": [0.0, 0.2066115702479339, 0.2066115702479339, 0.0], \"mode\": \"lines\", \"marker\": {\"color\": \"rgb(255,220,0)\"}, \"text\": null, \"hoverinfo\": \"all\", \"xaxis\": \"x\", \"yaxis\": \"y\"}, {\"type\": \"scatter\", \"x\": [1765.0, 1765.0, 1780.0, 1780.0], \"y\": [0.0, 0.3333333333333333, 0.3333333333333333, 0.2066115702479339], \"mode\": \"lines\", \"marker\": {\"color\": \"rgb(255,220,0)\"}, \"text\": null, \"hoverinfo\": \"all\", \"xaxis\": \"x\", \"yaxis\": \"y\"}, {\"type\": \"scatter\", \"x\": [1795.0, 1795.0, 1805.0, 1805.0], \"y\": [0.0, 0.12631578947368421, 0.12631578947368421, 0.0], \"mode\": \"lines\", \"marker\": {\"color\": \"rgb(255,220,0)\"}, \"text\": null, \"hoverinfo\": \"all\", \"xaxis\": \"x\", \"yaxis\": \"y\"}, {\"type\": \"scatter\", \"x\": [1815.0, 1815.0, 1825.0, 1825.0], \"y\": [0.0, 0.2647058823529412, 0.2647058823529412, 0.0], \"mode\": \"lines\", \"marker\": {\"color\": \"rgb(255,220,0)\"}, \"text\": null, \"hoverinfo\": \"all\", \"xaxis\": \"x\", \"yaxis\": \"y\"}, {\"type\": \"scatter\", \"x\": [1800.0, 1800.0, 1820.0, 1820.0], \"y\": [0.12631578947368421, 0.36470588235294116, 0.36470588235294116, 0.2647058823529412], \"mode\": \"lines\", \"marker\": {\"color\": \"rgb(255,220,0)\"}, \"text\": null, \"hoverinfo\": \"all\", \"xaxis\": \"x\", \"yaxis\": \"y\"}, {\"type\": \"scatter\", \"x\": [1772.5, 1772.5, 1810.0, 1810.0], \"y\": [0.3333333333333333, 0.48427672955974843, 0.48427672955974843, 0.36470588235294116], \"mode\": \"lines\", \"marker\": {\"color\": \"rgb(255,220,0)\"}, \"text\": null, \"hoverinfo\": \"all\", \"xaxis\": \"x\", \"yaxis\": \"y\"}, {\"type\": \"scatter\", \"x\": [1750.0, 1750.0, 1791.25, 1791.25], \"y\": [0.3877551020408163, 0.5614035087719298, 0.5614035087719298, 0.48427672955974843], \"mode\": \"lines\", \"marker\": {\"color\": \"rgb(255,220,0)\"}, \"text\": null, \"hoverinfo\": \"all\", \"xaxis\": \"x\", \"yaxis\": \"y\"}, {\"type\": \"scatter\", \"x\": [1735.0, 1735.0, 1770.625, 1770.625], \"y\": [0.0, 0.6346153846153846, 0.6346153846153846, 0.5614035087719298], \"mode\": \"lines\", \"marker\": {\"color\": \"rgb(255,220,0)\"}, \"text\": null, \"hoverinfo\": \"all\", \"xaxis\": \"x\", \"yaxis\": \"y\"}, {\"type\": \"scatter\", \"x\": [1885.0, 1885.0, 1895.0, 1895.0], \"y\": [0.0, 0.13978494623655913, 0.13978494623655913, 0.0], \"mode\": \"lines\", \"marker\": {\"color\": \"rgb(255,220,0)\"}, \"text\": null, \"hoverinfo\": \"all\", \"xaxis\": \"x\", \"yaxis\": \"y\"}, {\"type\": \"scatter\", \"x\": [1875.0, 1875.0, 1890.0, 1890.0], \"y\": [0.0, 0.15463917525773196, 0.15463917525773196, 0.13978494623655913], \"mode\": \"lines\", \"marker\": {\"color\": \"rgb(255,220,0)\"}, \"text\": null, \"hoverinfo\": \"all\", \"xaxis\": \"x\", \"yaxis\": \"y\"}, {\"type\": \"scatter\", \"x\": [1905.0, 1905.0, 1915.0, 1915.0], \"y\": [0.0, 0.15789473684210525, 0.15789473684210525, 0.0], \"mode\": \"lines\", \"marker\": {\"color\": \"rgb(255,220,0)\"}, \"text\": null, \"hoverinfo\": \"all\", \"xaxis\": \"x\", \"yaxis\": \"y\"}, {\"type\": \"scatter\", \"x\": [1882.5, 1882.5, 1910.0, 1910.0], \"y\": [0.15463917525773196, 0.19230769230769232, 0.19230769230769232, 0.15789473684210525], \"mode\": \"lines\", \"marker\": {\"color\": \"rgb(255,220,0)\"}, \"text\": null, \"hoverinfo\": \"all\", \"xaxis\": \"x\", \"yaxis\": \"y\"}, {\"type\": \"scatter\", \"x\": [1925.0, 1925.0, 1935.0, 1935.0], \"y\": [0.0, 0.21818181818181817, 0.21818181818181817, 0.0], \"mode\": \"lines\", \"marker\": {\"color\": \"rgb(255,220,0)\"}, \"text\": null, \"hoverinfo\": \"all\", \"xaxis\": \"x\", \"yaxis\": \"y\"}, {\"type\": \"scatter\", \"x\": [1896.25, 1896.25, 1930.0, 1930.0], \"y\": [0.19230769230769232, 0.24561403508771928, 0.24561403508771928, 0.21818181818181817], \"mode\": \"lines\", \"marker\": {\"color\": \"rgb(255,220,0)\"}, \"text\": null, \"hoverinfo\": \"all\", \"xaxis\": \"x\", \"yaxis\": \"y\"}, {\"type\": \"scatter\", \"x\": [1945.0, 1945.0, 1955.0, 1955.0], \"y\": [0.0, 0.1504424778761062, 0.1504424778761062, 0.0], \"mode\": \"lines\", \"marker\": {\"color\": \"rgb(255,220,0)\"}, \"text\": null, \"hoverinfo\": \"all\", \"xaxis\": \"x\", \"yaxis\": \"y\"}, {\"type\": \"scatter\", \"x\": [1975.0, 1975.0, 1985.0, 1985.0], \"y\": [0.0, 0.16129032258064516, 0.16129032258064516, 0.0], \"mode\": \"lines\", \"marker\": {\"color\": \"rgb(255,220,0)\"}, \"text\": null, \"hoverinfo\": \"all\", \"xaxis\": \"x\", \"yaxis\": \"y\"}, {\"type\": \"scatter\", \"x\": [1965.0, 1965.0, 1980.0, 1980.0], \"y\": [0.0, 0.2222222222222222, 0.2222222222222222, 0.16129032258064516], \"mode\": \"lines\", \"marker\": {\"color\": \"rgb(255,220,0)\"}, \"text\": null, \"hoverinfo\": \"all\", \"xaxis\": \"x\", \"yaxis\": \"y\"}, {\"type\": \"scatter\", \"x\": [1950.0, 1950.0, 1972.5, 1972.5], \"y\": [0.1504424778761062, 0.26, 0.26, 0.2222222222222222], \"mode\": \"lines\", \"marker\": {\"color\": \"rgb(255,220,0)\"}, \"text\": null, \"hoverinfo\": \"all\", \"xaxis\": \"x\", \"yaxis\": \"y\"}, {\"type\": \"scatter\", \"x\": [1913.125, 1913.125, 1961.25, 1961.25], \"y\": [0.24561403508771928, 0.2830188679245283, 0.2830188679245283, 0.26], \"mode\": \"lines\", \"marker\": {\"color\": \"rgb(255,220,0)\"}, \"text\": null, \"hoverinfo\": \"all\", \"xaxis\": \"x\", \"yaxis\": \"y\"}, {\"type\": \"scatter\", \"x\": [1865.0, 1865.0, 1937.1875, 1937.1875], \"y\": [0.0, 0.3142857142857143, 0.3142857142857143, 0.2830188679245283], \"mode\": \"lines\", \"marker\": {\"color\": \"rgb(255,220,0)\"}, \"text\": null, \"hoverinfo\": \"all\", \"xaxis\": \"x\", \"yaxis\": \"y\"}, {\"type\": \"scatter\", \"x\": [1855.0, 1855.0, 1901.09375, 1901.09375], \"y\": [0.0, 0.3786407766990291, 0.3786407766990291, 0.3142857142857143], \"mode\": \"lines\", \"marker\": {\"color\": \"rgb(255,220,0)\"}, \"text\": null, \"hoverinfo\": \"all\", \"xaxis\": \"x\", \"yaxis\": \"y\"}, {\"type\": \"scatter\", \"x\": [1845.0, 1845.0, 1878.046875, 1878.046875], \"y\": [0.0, 0.4956521739130435, 0.4956521739130435, 0.3786407766990291], \"mode\": \"lines\", \"marker\": {\"color\": \"rgb(255,220,0)\"}, \"text\": null, \"hoverinfo\": \"all\", \"xaxis\": \"x\", \"yaxis\": \"y\"}, {\"type\": \"scatter\", \"x\": [1835.0, 1835.0, 1861.5234375, 1861.5234375], \"y\": [0.0, 0.635036496350365, 0.635036496350365, 0.4956521739130435], \"mode\": \"lines\", \"marker\": {\"color\": \"rgb(255,220,0)\"}, \"text\": null, \"hoverinfo\": \"all\", \"xaxis\": \"x\", \"yaxis\": \"y\"}, {\"type\": \"scatter\", \"x\": [1752.8125, 1752.8125, 1848.26171875, 1848.26171875], \"y\": [0.6346153846153846, 0.7281553398058253, 0.7281553398058253, 0.635036496350365], \"mode\": \"lines\", \"marker\": {\"color\": \"rgb(255,220,0)\"}, \"text\": null, \"hoverinfo\": \"all\", \"xaxis\": \"x\", \"yaxis\": \"y\"}, {\"type\": \"scatter\", \"x\": [1694.375, 1694.375, 1800.537109375, 1800.537109375], \"y\": [0.6036036036036037, 0.8117647058823529, 0.8117647058823529, 0.7281553398058253], \"mode\": \"lines\", \"marker\": {\"color\": \"rgb(0,116,217)\"}, \"text\": null, \"hoverinfo\": \"all\", \"xaxis\": \"x\", \"yaxis\": \"y\"}, {\"type\": \"scatter\", \"x\": [1585.390625, 1585.390625, 1747.4560546875, 1747.4560546875], \"y\": [0.7912087912087912, 0.9304347826086956, 0.9304347826086956, 0.8117647058823529], \"mode\": \"lines\", \"marker\": {\"color\": \"rgb(0,116,217)\"}, \"text\": null, \"hoverinfo\": \"all\", \"xaxis\": \"x\", \"yaxis\": \"y\"}, {\"type\": \"scatter\", \"x\": [833.6627197265625, 833.6627197265625, 1666.42333984375, 1666.42333984375], \"y\": [0.8205128205128205, 0.9885057471264368, 0.9885057471264368, 0.9304347826086956], \"mode\": \"lines\", \"marker\": {\"color\": \"rgb(0,116,217)\"}, \"text\": null, \"hoverinfo\": \"all\", \"xaxis\": \"x\", \"yaxis\": \"y\"}], {\"xaxis\": {\"tickvals\": [5.0, 15.0, 25.0, 35.0, 45.0, 55.0, 65.0, 75.0, 85.0, 95.0, 105.0, 115.0, 125.0, 135.0, 145.0, 155.0, 165.0, 175.0, 185.0, 195.0, 205.0, 215.0, 225.0, 235.0, 245.0, 255.0, 265.0, 275.0, 285.0, 295.0, 305.0, 315.0, 325.0, 335.0, 345.0, 355.0, 365.0, 375.0, 385.0, 395.0, 405.0, 415.0, 425.0, 435.0, 445.0, 455.0, 465.0, 475.0, 485.0, 495.0, 505.0, 515.0, 525.0, 535.0, 545.0, 555.0, 565.0, 575.0, 585.0, 595.0, 605.0, 615.0, 625.0, 635.0, 645.0, 655.0, 665.0, 675.0, 685.0, 695.0, 705.0, 715.0, 725.0, 735.0, 745.0, 755.0, 765.0, 775.0, 785.0, 795.0, 805.0, 815.0, 825.0, 835.0, 845.0, 855.0, 865.0, 875.0, 885.0, 895.0, 905.0, 915.0, 925.0, 935.0, 945.0, 955.0, 965.0, 975.0, 985.0, 995.0, 1005.0, 1015.0, 1025.0, 1035.0, 1045.0, 1055.0, 1065.0, 1075.0, 1085.0, 1095.0, 1105.0, 1115.0, 1125.0, 1135.0, 1145.0, 1155.0, 1165.0, 1175.0, 1185.0, 1195.0, 1205.0, 1215.0, 1225.0, 1235.0, 1245.0, 1255.0, 1265.0, 1275.0, 1285.0, 1295.0, 1305.0, 1315.0, 1325.0, 1335.0, 1345.0, 1355.0, 1365.0, 1375.0, 1385.0, 1395.0, 1405.0, 1415.0, 1425.0, 1435.0, 1445.0, 1455.0, 1465.0, 1475.0, 1485.0, 1495.0, 1505.0, 1515.0, 1525.0, 1535.0, 1545.0, 1555.0, 1565.0, 1575.0, 1585.0, 1595.0, 1605.0, 1615.0, 1625.0, 1635.0, 1645.0, 1655.0, 1665.0, 1675.0, 1685.0, 1695.0, 1705.0, 1715.0, 1725.0, 1735.0, 1745.0, 1755.0, 1765.0, 1775.0, 1785.0, 1795.0, 1805.0, 1815.0, 1825.0, 1835.0, 1845.0, 1855.0, 1865.0, 1875.0, 1885.0, 1895.0, 1905.0, 1915.0, 1925.0, 1935.0, 1945.0, 1955.0, 1965.0, 1975.0, 1985.0], \"ticktext\": [\"QE_2017_001814_209.08058_363.0\", \"QE_2017_001816_207.13779_561.0\", \"QE_2017_001815_201.16367_442.0\", \"QE_2017_001816_201.16362_435.0\", \"QE_2017_001816_137.09584_445.0\", \"QE_2017_001814_191.14291_389.0\", \"QE_2017_001815_191.14287_312.0\", \"QE_2017_001816_191.14291_404.0\", \"QE_2017_001815_181.1221_767.0\", \"QE_2017_001816_181.12199_794.0\", \"QE_2017_001814_227.1275_293.0\", \"QE_2017_001816_227.12766_295.0\", \"QE_2017_001814_209.15335_478.0\", \"QE_2017_001815_209.1535_312.0\", \"QE_2017_001816_209.15344_311.0\", \"QE_2017_001815_227.16408_344.0\", \"QE_2017_001816_209.15341_296.0\", \"QE_2017_001814_293.2106_579.0\", \"QE_2017_001815_283.19009_564.0\", \"QE_2017_001814_219.17416_517.0\", \"QE_2017_001815_219.17426_497.0\", \"QE_2017_001814_219.17401_452.0\", \"QE_2017_001814_219.17409_442.0\", \"QE_2017_001816_211.16916_405.0\", \"QE_2017_001815_209.0807_405.0\", \"QE_2017_001814_211.16902_440.0\", \"QE_2017_001815_211.16913_450.0\", \"QE_2017_001814_215.16406_483.0\", \"QE_2017_001815_215.164_550.0\", \"QE_2017_001815_207.13785_297.0\", \"QE_2017_001814_243.15892_533.0\", \"QE_2017_001814_281.1745_492.0\", \"QE_2017_001816_268.59351_445.0\", \"QE_2017_001814_222.07031_314.0\", \"QE_2017_001814_250.10149_516.0\", \"QE_2017_001815_214.51021_60.0\", \"QE_2017_001814_247.05975_245.0\", \"QE_2017_001815_247.0598_242.0\", \"QE_2017_001816_219.04672_291.0\", \"QE_2017_001815_212.03883_181.0\", \"QE_2017_001815_214.56488_409.0\", \"QE_2017_001816_132.04436_283.0\", \"QE_2017_001814_194.1174_244.0\", \"QE_2017_001815_194.11745_132.0\", \"QE_2017_001814_194.04424_237.0\", \"QE_2017_001814_194.1174_217.0\", \"QE_2017_001816_229.15469_52.0\", \"QE_2017_001814_229.15399_46.0\", \"QE_2017_001814_229.15451_65.0\", \"QE_2017_001815_246.14465_137.0\", \"QE_2017_001816_247.12863_162.0\", \"QE_2017_001815_260.16016_140.0\", \"QE_2017_001816_260.16022_145.0\", \"QE_2017_001815_233.14944_150.0\", \"QE_2017_001814_233.14948_126.0\", \"QE_2017_001816_233.14955_129.0\", \"QE_2017_001815_194.04469_299.0\", \"QE_2017_001815_194.04474_327.0\", \"QE_2017_001816_212.05518_300.0\", \"QE_2017_001815_194.04471_314.0\", \"QE_2017_001815_212.05513_328.0\", \"QE_2017_001815_194.04471_397.0\", \"QE_2017_001814_226.07077_397.0\", \"QE_2017_001815_212.05505_267.0\", \"QE_2017_001815_182.08109_52.0\", \"QE_2017_001816_199.98772_359.0\", \"QE_2017_001814_199.98772_303.0\", \"QE_2017_001815_199.98772_253.0\", \"QE_2017_001815_199.98779_30.0\", \"QE_2017_001816_199.98779_335.0\", \"QE_2017_001816_199.98769_294.0\", \"QE_2017_001814_199.98778_290.0\", \"QE_2017_001815_199.98772_326.0\", \"QE_2017_001816_199.98781_313.0\", \"QE_2017_001816_177.05449_217.0\", \"QE_2017_001814_177.05418_236.0\", \"QE_2017_001815_177.05444_307.0\", \"QE_2017_001815_260.16016_64.0\", \"QE_2017_001815_595.16559_315.0\", \"QE_2017_001815_463.12268_358.0\", \"QE_2017_001815_625.17633_345.0\", \"QE_2017_001815_265.01532_33.0\", \"QE_2017_001815_141.0508_33.0\", \"QE_2017_001815_797.51746_866.0\", \"QE_2017_001814_237.12305_220.0\", \"QE_2017_001815_237.12315_52.0\", \"QE_2017_001814_251.09117_393.0\", \"QE_2017_001815_219.10139_360.0\", \"QE_2017_001815_219.10146_381.0\", \"QE_2017_001815_219.10159_438.0\", \"QE_2017_001814_171.14908_419.0\", \"QE_2017_001814_483.27118_651.0\", \"QE_2017_001814_129.12737_348.0\", \"QE_2017_001816_338.26062_643.0\", \"QE_2017_001814_320.29456_577.0\", \"QE_2017_001815_320.29471_563.0\", \"QE_2017_001816_320.29483_548.0\", \"QE_2017_001815_332.25827_508.0\", \"QE_2017_001814_332.25842_486.0\", \"QE_2017_001816_332.25842_487.0\", \"QE_2017_001815_273.13425_199.0\", \"QE_2017_001815_273.13434_243.0\", \"QE_2017_001816_291.14499_200.0\", \"QE_2017_001814_291.1442_241.0\", \"QE_2017_001815_291.14493_242.0\", \"QE_2017_001814_251.13872_201.0\", \"QE_2017_001815_235.14388_180.0\", \"QE_2017_001815_235.14398_226.0\", \"QE_2017_001815_319.13623_118.0\", \"QE_2017_001816_319.13614_143.0\", \"QE_2017_001814_320.29468_638.0\", \"QE_2017_001814_320.29471_529.0\", \"QE_2017_001814_320.29477_539.0\", \"QE_2017_001815_221.12837_99.0\", \"QE_2017_001816_237.12325_171.0\", \"QE_2017_001814_241.15446_57.0\", \"QE_2017_001814_241.15384_47.0\", \"QE_2017_001815_241.15437_67.0\", \"QE_2017_001814_332.25827_467.0\", \"QE_2017_001815_333.15173_245.0\", \"QE_2017_001816_333.15204_235.0\", \"QE_2017_001814_347.09097_122.0\", \"QE_2017_001815_347.09067_204.0\", \"QE_2017_001816_533.15442_247.0\", \"QE_2017_001816_533.15466_222.0\", \"QE_2017_001815_533.1546_207.0\", \"QE_2017_001816_533.1546_271.0\", \"QE_2017_001815_268.10373_58.0\", \"QE_2017_001816_269.16055_60.0\", \"QE_2017_001814_364.34241_751.0\", \"QE_2017_001814_424.36325_711.0\", \"QE_2017_001814_364.34244_761.0\", \"QE_2017_001814_421.35211_732.0\", \"QE_2017_001815_364.34189_705.0\", \"QE_2017_001814_408.3681_703.0\", \"QE_2017_001816_466.40979_731.0\", \"QE_2017_001815_408.36853_717.0\", \"QE_2017_001815_482.40488_739.0\", \"QE_2017_001815_507.18192_178.0\", \"QE_2017_001816_463.12311_410.0\", \"QE_2017_001814_611.15997_285.0\", \"QE_2017_001816_611.16064_309.0\", \"QE_2017_001814_339.10742_366.0\", \"QE_2017_001816_339.10733_298.0\", \"QE_2017_001814_231.04967_404.0\", \"QE_2017_001815_231.04968_315.0\", \"QE_2017_001814_231.04971_516.0\", \"QE_2017_001815_231.04971_369.0\", \"QE_2017_001815_314.14453_76.0\", \"QE_2017_001816_314.14462_79.0\", \"QE_2017_001816_310.14957_134.0\", \"QE_2017_001816_342.17584_257.0\", \"QE_2017_001814_498.2543_475.0\", \"QE_2017_001815_340.16019_314.0\", \"QE_2017_001814_618.42633_695.0\", \"QE_2017_001814_601.42426_706.0\", \"QE_2017_001816_583.41382_731.0\", \"QE_2017_001814_599.40918_659.0\", \"QE_2017_001816_599.40869_793.0\", \"QE_2017_001815_618.42773_646.0\", \"QE_2017_001816_618.427_682.0\", \"QE_2017_001815_568.42627_841.0\", \"QE_2017_001814_601.42334_783.0\", \"QE_2017_001815_583.41388_735.0\", \"QE_2017_001815_583.41418_647.0\", \"QE_2017_001814_565.4035_722.0\", \"QE_2017_001814_583.41406_682.0\", \"QE_2017_001815_583.41406_707.0\", \"QE_2017_001815_792.5625_866.0\", \"QE_2017_001814_596.30963_602.0\", \"QE_2017_001816_613.48218_838.0\", \"QE_2017_001814_792.56207_723.0\", \"QE_2017_001815_613.4826_734.0\", \"QE_2017_001816_272.25824_582.0\", \"QE_2017_001814_338.34146_850.0\", \"QE_2017_001815_244.19048_762.0\", \"QE_2017_001816_435.25037_666.0\", \"QE_2017_001816_337.27338_826.0\", \"QE_2017_001816_337.27341_632.0\", \"QE_2017_001814_353.26868_633.0\", \"QE_2017_001816_353.26892_600.0\", \"QE_2017_001814_278.24756_683.0\", \"QE_2017_001814_279.23157_719.0\", \"QE_2017_001815_571.4292_870.0\", \"QE_2017_001814_497.31033_643.0\", \"QE_2017_001815_507.27145_607.0\", \"QE_2017_001815_571.47168_711.0\", \"QE_2017_001814_335.25772_725.0\", \"QE_2017_001814_335.25784_608.0\", \"QE_2017_001816_335.25772_723.0\", \"QE_2017_001814_335.25784_628.0\", \"QE_2017_001815_335.25745_642.0\", \"QE_2017_001814_261.22073_634.0\", \"QE_2017_001815_335.25784_587.0\", \"QE_2017_001814_353.26889_609.0\", \"QE_2017_001815_353.26862_642.0\", \"QE_2017_001815_261.22073_643.0\", \"QE_2017_001814_335.25772_638.0\", \"QE_2017_001815_335.2579_601.0\"], \"tickmode\": \"array\", \"type\": \"linear\", \"ticks\": \"outside\", \"mirror\": \"allticks\", \"rangemode\": \"tozero\", \"showticklabels\": true, \"zeroline\": false, \"showgrid\": false, \"showline\": true, \"title\": \"sample\"}, \"yaxis\": {\"type\": \"linear\", \"ticks\": \"outside\", \"mirror\": \"allticks\", \"rangemode\": \"tozero\", \"showticklabels\": true, \"zeroline\": false, \"showgrid\": false, \"showline\": true, \"title\": \"distance\"}, \"showlegend\": false, \"autosize\": false, \"hovermode\": \"closest\", \"width\": 900, \"height\": 500, \"title\": \"BioDendro\"}, {\"showLink\": true, \"linkText\": \"Export to plot.ly\"})});</script>"
      ]
     },
     "metadata": {},
     "output_type": "display_data"
    }
   ],
   "source": [
    "# View the new dendrogram cutoff inline\n",
    "\n",
    "plotly.offline.init_notebook_mode(connected=True) # for visualising plot inline\n",
    "iplot = tree.iplot(width=900, height=500)\n",
    "plotly.offline.iplot(iplot)"
   ]
  },
  {
   "cell_type": "code",
   "execution_count": 5,
   "metadata": {},
   "outputs": [],
   "source": [
    "# Generate the out plots and tables of the new clusters.\n",
    "os.makedirs(\"results\", exist_ok=True)\n",
    "tree.write_summaries(path=\"results\")"
   ]
  },
  {
   "cell_type": "code",
   "execution_count": 6,
   "metadata": {},
   "outputs": [
    {
     "name": "stdout",
     "output_type": "stream",
     "text": [
      "Cutoff: 0.8 n clusters: 44\n"
     ]
    }
   ],
   "source": [
    "# To view the number of clusters at the new cutoff\n",
    "\n",
    "print(\"Cutoff:\", tree.cutoff, \"n clusters:\", len(set(tree.clusters)))"
   ]
  },
  {
   "cell_type": "code",
   "execution_count": 7,
   "metadata": {},
   "outputs": [
    {
     "name": "stdout",
     "output_type": "stream",
     "text": [
      "usage: BioDendro [-h] [-n] [-c CUTOFF] [-b BIN_THRESHOLD]\r\n",
      "                 [-d {jaccard,braycurtis}] [-p PROCESSED] [-o OUT_HTML]\r\n",
      "                 [-r RESULTS_DIR] [-x WIDTH_PX] [-y HEIGHT_PX] [-q]\r\n",
      "                 mgf components\r\n",
      "\r\n",
      "Run the BioDendro pipeline.\r\n",
      "\r\n",
      "positional arguments:\r\n",
      "  mgf                   MGF input file.\r\n",
      "  components            Listed components file.\r\n",
      "\r\n",
      "optional arguments:\r\n",
      "  -h, --help            show this help message and exit\r\n",
      "  -n, --neutral         Apply neutral loss.\r\n",
      "  -c CUTOFF, --cutoff CUTOFF\r\n",
      "                        Distance threshold for selecting clusters from tree.\r\n",
      "  -b BIN_THRESHOLD, --bin-threshold BIN_THRESHOLD\r\n",
      "                        Threshold for binning m/z values prior to clustering.\r\n",
      "  -d {jaccard,braycurtis}, --cluster-method {jaccard,braycurtis}\r\n",
      "                        The distance metric used during tree construction.\r\n",
      "  -p PROCESSED, --processed PROCESSED\r\n",
      "                        Path to write preprocessed output to.\r\n",
      "  -o OUT_HTML, --output OUT_HTML\r\n",
      "                        Path to write interactive html plot to.\r\n",
      "  -r RESULTS_DIR, --results-dir RESULTS_DIR\r\n",
      "                        Directory to write per-cluster plots and table\r\n",
      "                        to.Default is to use 'results_20180606112200' where\r\n",
      "                        the number isthe current datetime. WARNING: will\r\n",
      "                        overwrite contents of existing directories.\r\n",
      "  -x WIDTH_PX, --width WIDTH_PX\r\n",
      "                        The width of the dendrogram plot in pixels.\r\n",
      "  -y HEIGHT_PX, --height HEIGHT_PX\r\n",
      "                        The height of the dendrogram plot in pixels.\r\n",
      "  -q, --quiet           Suppress status notifications written to stdout.\r\n"
     ]
    }
   ],
   "source": [
    "! BioDendro -h"
   ]
  },
  {
   "cell_type": "code",
   "execution_count": null,
   "metadata": {
    "collapsed": true
   },
   "outputs": [],
   "source": []
  }
 ],
 "metadata": {
  "kernelspec": {
   "display_name": "Python 3",
   "language": "python",
   "name": "python3"
  },
  "language_info": {
   "codemirror_mode": {
    "name": "ipython",
    "version": 3
   },
   "file_extension": ".py",
   "mimetype": "text/x-python",
   "name": "python",
   "nbconvert_exporter": "python",
   "pygments_lexer": "ipython3",
   "version": "3.6.1"
  }
 },
 "nbformat": 4,
 "nbformat_minor": 2
}
