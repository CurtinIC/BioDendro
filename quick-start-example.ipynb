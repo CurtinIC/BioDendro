{
 "cells": [
  {
   "cell_type": "markdown",
   "metadata": {},
   "source": [
    "# BioDendro Quick Start Example"
   ]
  },
  {
   "cell_type": "markdown",
   "metadata": {},
   "source": [
    "The BioDendro pipeline automates the process of binning and hierarchically clustering\n",
    "msms components and spectra.\n",
    "\n",
    "This notebook shows basic use of the pipeline for the:\n",
    "- [Python API](#Python-API)\n",
    "- [Command line API](#Command-line-API)\n",
    "\n",
    "\\* API = Application programming interface"
   ]
  },
  {
   "cell_type": "markdown",
   "metadata": {},
   "source": [
    "## Python API\n",
    "\n",
    "The python interface allows you to make small changes easily and view intermediate results.\n",
    "A more detailed explanation of the Python API/pipeline is available in the `longer_example.ipynb` notebook at the BioDendro repository."
   ]
  },
  {
   "cell_type": "code",
   "execution_count": 1,
   "metadata": {},
   "outputs": [],
   "source": [
    "# Load modules\n",
    "\n",
    "import os\n",
    "import plotly\n",
    "import BioDendro"
   ]
  },
  {
   "cell_type": "markdown",
   "metadata": {},
   "source": [
    "The main `pipeline` function runs the full pipeline (i.e. reading files, clustering, and plotting).\n",
    "At a minimum the function needs an MGF file and a component list.\n",
    "Note that by default, the results will be saved to a folder in your current working directory using the name `results_<datetime>` where datetime will be the date and current time of day in `hhmmss` format.\n",
    "This is to avoid overwriting data in multiple runs.\n",
    "\n",
    "To get a list of possible parameters and defaults you can run `help(BioDendro.pipeline)`."
   ]
  },
  {
   "cell_type": "code",
   "execution_count": 2,
   "metadata": {},
   "outputs": [
    {
     "name": "stdout",
     "output_type": "stream",
     "text": [
      "Help on function pipeline in module BioDendro:\n",
      "\n",
      "pipeline(mgf_path, components_path, neutral=False, cutoff=0.6, bin_threshold=0.0008, clustering_method='jaccard', processed='processed.xlsx', results_dir=None, out_html='simple_dendrogram.html', width=900, height=1200, quiet=False, scaling=False, filtering=False, eps=0.6, mz_tol=0.002, retention_tol=5, **kwargs)\n",
      "    Runs the BioDendro pipeline.\n",
      "    \n",
      "    BioDentro takes an MGF and a list of components, finds MSMS spectra\n",
      "    matching your components, and writes out useful summaries of clusters\n",
      "    based on shared ion spectra\n",
      "    \n",
      "    Minimal example:\n",
      "    >>> tree = BioDendro.pipeline(\"MSMS.mgf\", \"component_list.txt\")\n",
      "    \n",
      "    Required parameters:\n",
      "    mgf_path           Name of .mgf file\n",
      "    components_path    Name of .txt file\n",
      "    \n",
      "    Optional parameters:\n",
      "    parameter          description\n",
      "                       default value\n",
      "                       user options\n",
      "    \n",
      "    neutral            convert MSMS spectra to neutral loss spectra\n",
      "                       False\n",
      "                       True or False\n",
      "    \n",
      "    cutoff             the y-axis value/distance to cut the dendogram and\n",
      "                         form clusters\n",
      "                       0.6\n",
      "                       From 0 to 1\n",
      "    \n",
      "    bin_threshold      maximum difference between two consecutive masses\n",
      "                         before a new mass bin is created\n",
      "                       0.0008\n",
      "                       Typical range 0.00001-1 Dalton\n",
      "    \n",
      "    cluster_method     Distance metric used for clustering\n",
      "                       \"jaccard\"\n",
      "                       \"jaccard\" or \"braycurtis\"\n",
      "    \n",
      "    width              width of dendogram output in pixels\n",
      "                       900\n",
      "                       Recommended maximum 1200\n",
      "    \n",
      "    height             height of dendogram output in pixels. Branch labels are\n",
      "                         included in this dimension\n",
      "                       1200\n",
      "                       Recommended maximum 1200\n",
      "    \n",
      "    scaling            Highest m/z within an MSMS spectra is normalised to 1\n",
      "                         and all other masses are scaled to it\n",
      "                       False\n",
      "                       True or False\n",
      "    \n",
      "    filtering          Ions within an MSMS spectra are removed based on scaled\n",
      "                         intensity set by `eps` parameter.\n",
      "                       False\n",
      "                       True or False\n",
      "    \n",
      "    eps                Scaled intensity value for which ions below are removed\n",
      "                       0.6\n",
      "                       0.0 - 1.0\n",
      "    \n",
      "    mz_tol             m/z tolerance window to align MSMS spectra to component\n",
      "                         list\n",
      "                       0.002\n",
      "                       unlimited\n",
      "    \n",
      "    retention_tol      retention time tolerance window in seconds to align\n",
      "                         MSMS spectra to component list\n",
      "                       5\n",
      "                       unlimited\n",
      "    \n",
      "    results_dir        directory to write per-cluster plots and tables to.\n",
      "                       None (Will use `results_<datetime>` where\n",
      "                         <datetime> is the current date and time in\n",
      "                         YYYYMMDDHHmmSS format).\n",
      "                       can be user defined\n",
      "    \n",
      "    out_html           file to write interactive dendogram plot to.\n",
      "                       None (`results_dir\\simple_dendrogram.html`)\n",
      "                       can be user defined\n",
      "    \n",
      "    quiet              suppress pipeline messages\n",
      "                       False\n",
      "                       True or False\n",
      "\n"
     ]
    }
   ],
   "source": [
    "help(BioDendro.pipeline)"
   ]
  },
  {
   "cell_type": "code",
   "execution_count": 3,
   "metadata": {},
   "outputs": [
    {
     "name": "stdout",
     "output_type": "stream",
     "text": [
      "Running BioDendro v0.0.1\n",
      "\n",
      "- input mgf file = MSMS.mgf\n",
      "- input components file = component_list.txt\n",
      "- neutral = False\n",
      "- cutoff = 0.6\n",
      "- bin_threshold = 0.0008\n",
      "- clustering_method = braycurtis\n",
      "- output processed file = results_20190424172010/processed.xlsx\n",
      "- output results directory = results_20190424172010\n",
      "- output html dendrogram = results_20190424172010/simple_dendrogram.html\n",
      "- dendrogram figure width = 900\n",
      "- dendrogram figure height = 1200\n",
      "- scaling = False\n",
      "- filtering = False\n",
      "- eps = 0.6\n",
      "- mz_tolerance = 0.002\n",
      "- retention_tolerance = 5\n",
      "\n",
      "\n",
      "Processing inputs\n",
      "Binning and clustering\n",
      "This may take some time...\n",
      "Writing per-cluster summaries\n",
      "Writing output html dendrogram\n",
      "Finished\n"
     ]
    }
   ],
   "source": [
    "# Run the complete BioDendro pipeline\n",
    "\n",
    "tree = BioDendro.pipeline(\"MSMS.mgf\", \"component_list.txt\", clustering_method=\"braycurtis\")"
   ]
  },
  {
   "cell_type": "markdown",
   "metadata": {},
   "source": [
    "The pipeline function prints out running information for you, including the directory where you can find your results.\n",
    "Note that the dendrograms and processed files are also saved into this directory, even if you don't specify that in the filename.\n",
    "\n",
    "The pipeline also returns a `Tree` object, which stores most of the results.\n",
    "We can change the number clusters by specifying a new distance threshold."
   ]
  },
  {
   "cell_type": "code",
   "execution_count": 4,
   "metadata": {},
   "outputs": [
    {
     "name": "stdout",
     "output_type": "stream",
     "text": [
      "BEFORE: Cutoff: 0.6 n clusters: 79\n",
      "AFTER: Cutoff: 0.8 n clusters: 46\n"
     ]
    }
   ],
   "source": [
    "# Show the number of clusters before adjustment\n",
    "print(\"BEFORE: Cutoff:\", tree.cutoff, \"n clusters:\", len(set(tree.clusters)))\n",
    "\n",
    "# Re-set a new cutoff for clusters\n",
    "tree.cut_tree(cutoff=0.8)\n",
    "\n",
    "# Show number of clusters after adjustment\n",
    "print(\"AFTER: Cutoff:\", tree.cutoff, \"n clusters:\", len(set(tree.clusters)))"
   ]
  },
  {
   "cell_type": "markdown",
   "metadata": {},
   "source": [
    "So our cluster results are updated to use a higher threshold (i.e. fewer clusters, with more members).\n",
    "Note that these updated results are not automatically saved to the results folder.\n",
    "\n",
    "To save these updated results, we need to create a new folder and write the summaries ourselves.\n",
    "Previously the pipeline function handled this all for us.\n",
    "\n",
    "NOTE: this will overwrite any contents in the specified directory so be careful!"
   ]
  },
  {
   "cell_type": "code",
   "execution_count": 5,
   "metadata": {},
   "outputs": [],
   "source": [
    "# Generate the out plots and tables of the new clusters.\n",
    "# exist_ok tells python not to raise an error if the directory already exists.\n",
    "os.makedirs(\"results\", exist_ok=True)\n",
    "tree.write_summaries(path=\"results\")"
   ]
  },
  {
   "cell_type": "markdown",
   "metadata": {},
   "source": [
    "We can also find a lot of this information in the `Tree` object directly.\n",
    "\n",
    "A dictionary mapping sample ids to clusters is in the `.cluster_dict` attribute."
   ]
  },
  {
   "cell_type": "code",
   "execution_count": 6,
   "metadata": {},
   "outputs": [
    {
     "data": {
      "text/plain": [
       "25"
      ]
     },
     "execution_count": 6,
     "metadata": {},
     "output_type": "execute_result"
    }
   ],
   "source": [
    "tree.cluster_map[\"Chinese Spring 1_001829_0724_m/z241.1544_RT0.7890\"]"
   ]
  },
  {
   "cell_type": "markdown",
   "metadata": {},
   "source": [
    "So \"Chinese Spring 1_001829_0724_m/z241.1544_RT0.7890\" belongs to the returned cluster number!\n",
    "\n",
    "We can get more information about the cluster using the `cluster_table` method, which returns a pandas dataframe\n",
    "similar to the ones in the results output folder.\n",
    "\n",
    "The next cell shows all samples in cluster 1, and all `mz` bins that are present in at least one of the samples."
   ]
  },
  {
   "cell_type": "code",
   "execution_count": 7,
   "metadata": {},
   "outputs": [
    {
     "data": {
      "text/html": [
       "<div>\n",
       "<style scoped>\n",
       "    .dataframe tbody tr th:only-of-type {\n",
       "        vertical-align: middle;\n",
       "    }\n",
       "\n",
       "    .dataframe tbody tr th {\n",
       "        vertical-align: top;\n",
       "    }\n",
       "\n",
       "    .dataframe thead th {\n",
       "        text-align: right;\n",
       "    }\n",
       "</style>\n",
       "<table border=\"1\" class=\"dataframe\">\n",
       "  <thead>\n",
       "    <tr style=\"text-align: right;\">\n",
       "      <th>bins</th>\n",
       "      <th>105.0701_105.0698_105.0705</th>\n",
       "      <th>107.0857_107.0854_107.0858</th>\n",
       "      <th>109.1013_109.1011_109.1015</th>\n",
       "      <th>111.0442_111.0438_111.0443</th>\n",
       "      <th>119.0856_119.0852_119.0858</th>\n",
       "      <th>120.1318_120.1318_120.1318</th>\n",
       "      <th>121.1012_121.1009_121.1018</th>\n",
       "      <th>123.1169_123.1167_123.1172</th>\n",
       "      <th>130.1590_130.1590_130.1590</th>\n",
       "      <th>133.1011_133.1009_133.1014</th>\n",
       "      <th>...</th>\n",
       "      <th>757.5249_757.5249_757.5249</th>\n",
       "      <th>76.0033_76.0033_76.0033</th>\n",
       "      <th>77.2805_77.2805_77.2805</th>\n",
       "      <th>792.5503_792.5503_792.5503</th>\n",
       "      <th>792.5545_792.5545_792.5545</th>\n",
       "      <th>81.0338_81.0337_81.0339</th>\n",
       "      <th>81.0702_81.0701_81.0704</th>\n",
       "      <th>93.0702_93.0699_93.0703</th>\n",
       "      <th>95.0858_95.0856_95.0860</th>\n",
       "      <th>96.5896_96.5896_96.5896</th>\n",
       "    </tr>\n",
       "    <tr>\n",
       "      <th>component</th>\n",
       "      <th></th>\n",
       "      <th></th>\n",
       "      <th></th>\n",
       "      <th></th>\n",
       "      <th></th>\n",
       "      <th></th>\n",
       "      <th></th>\n",
       "      <th></th>\n",
       "      <th></th>\n",
       "      <th></th>\n",
       "      <th></th>\n",
       "      <th></th>\n",
       "      <th></th>\n",
       "      <th></th>\n",
       "      <th></th>\n",
       "      <th></th>\n",
       "      <th></th>\n",
       "      <th></th>\n",
       "      <th></th>\n",
       "      <th></th>\n",
       "      <th></th>\n",
       "    </tr>\n",
       "  </thead>\n",
       "  <tbody>\n",
       "    <tr>\n",
       "      <th>Chinese Spring 1_001829_6867_m/z596.3096_RT9.9999</th>\n",
       "      <td>False</td>\n",
       "      <td>False</td>\n",
       "      <td>True</td>\n",
       "      <td>False</td>\n",
       "      <td>True</td>\n",
       "      <td>False</td>\n",
       "      <td>True</td>\n",
       "      <td>True</td>\n",
       "      <td>False</td>\n",
       "      <td>True</td>\n",
       "      <td>...</td>\n",
       "      <td>False</td>\n",
       "      <td>False</td>\n",
       "      <td>True</td>\n",
       "      <td>False</td>\n",
       "      <td>False</td>\n",
       "      <td>False</td>\n",
       "      <td>True</td>\n",
       "      <td>False</td>\n",
       "      <td>True</td>\n",
       "      <td>True</td>\n",
       "    </tr>\n",
       "    <tr>\n",
       "      <th>Chinese Spring 1_001829_7933_m/z792.5621_RT11.9987</th>\n",
       "      <td>True</td>\n",
       "      <td>True</td>\n",
       "      <td>True</td>\n",
       "      <td>False</td>\n",
       "      <td>False</td>\n",
       "      <td>False</td>\n",
       "      <td>True</td>\n",
       "      <td>True</td>\n",
       "      <td>True</td>\n",
       "      <td>False</td>\n",
       "      <td>...</td>\n",
       "      <td>False</td>\n",
       "      <td>True</td>\n",
       "      <td>False</td>\n",
       "      <td>True</td>\n",
       "      <td>False</td>\n",
       "      <td>False</td>\n",
       "      <td>True</td>\n",
       "      <td>False</td>\n",
       "      <td>True</td>\n",
       "      <td>False</td>\n",
       "    </tr>\n",
       "    <tr>\n",
       "      <th>Chinese Spring 1_001829_8203_m/z613.4826_RT12.2884</th>\n",
       "      <td>False</td>\n",
       "      <td>True</td>\n",
       "      <td>True</td>\n",
       "      <td>False</td>\n",
       "      <td>False</td>\n",
       "      <td>False</td>\n",
       "      <td>True</td>\n",
       "      <td>True</td>\n",
       "      <td>False</td>\n",
       "      <td>False</td>\n",
       "      <td>...</td>\n",
       "      <td>False</td>\n",
       "      <td>False</td>\n",
       "      <td>False</td>\n",
       "      <td>False</td>\n",
       "      <td>False</td>\n",
       "      <td>False</td>\n",
       "      <td>True</td>\n",
       "      <td>False</td>\n",
       "      <td>True</td>\n",
       "      <td>False</td>\n",
       "    </tr>\n",
       "    <tr>\n",
       "      <th>Chinese Spring 1_001829_8737_m/z613.4826_RT13.9777</th>\n",
       "      <td>False</td>\n",
       "      <td>True</td>\n",
       "      <td>True</td>\n",
       "      <td>False</td>\n",
       "      <td>True</td>\n",
       "      <td>True</td>\n",
       "      <td>True</td>\n",
       "      <td>True</td>\n",
       "      <td>False</td>\n",
       "      <td>True</td>\n",
       "      <td>...</td>\n",
       "      <td>False</td>\n",
       "      <td>False</td>\n",
       "      <td>False</td>\n",
       "      <td>False</td>\n",
       "      <td>False</td>\n",
       "      <td>False</td>\n",
       "      <td>True</td>\n",
       "      <td>True</td>\n",
       "      <td>True</td>\n",
       "      <td>False</td>\n",
       "    </tr>\n",
       "    <tr>\n",
       "      <th>Chinese Spring 5_001887_7848_m/z792.5621_RT14.4273</th>\n",
       "      <td>False</td>\n",
       "      <td>True</td>\n",
       "      <td>True</td>\n",
       "      <td>True</td>\n",
       "      <td>False</td>\n",
       "      <td>False</td>\n",
       "      <td>True</td>\n",
       "      <td>True</td>\n",
       "      <td>False</td>\n",
       "      <td>False</td>\n",
       "      <td>...</td>\n",
       "      <td>True</td>\n",
       "      <td>False</td>\n",
       "      <td>False</td>\n",
       "      <td>False</td>\n",
       "      <td>True</td>\n",
       "      <td>True</td>\n",
       "      <td>True</td>\n",
       "      <td>False</td>\n",
       "      <td>True</td>\n",
       "      <td>False</td>\n",
       "    </tr>\n",
       "  </tbody>\n",
       "</table>\n",
       "<p>5 rows × 139 columns</p>\n",
       "</div>"
      ],
      "text/plain": [
       "bins                                               105.0701_105.0698_105.0705  \\\n",
       "component                                                                       \n",
       "Chinese Spring 1_001829_6867_m/z596.3096_RT9.9999                       False   \n",
       "Chinese Spring 1_001829_7933_m/z792.5621_RT11.9987                       True   \n",
       "Chinese Spring 1_001829_8203_m/z613.4826_RT12.2884                      False   \n",
       "Chinese Spring 1_001829_8737_m/z613.4826_RT13.9777                      False   \n",
       "Chinese Spring 5_001887_7848_m/z792.5621_RT14.4273                      False   \n",
       "\n",
       "bins                                               107.0857_107.0854_107.0858  \\\n",
       "component                                                                       \n",
       "Chinese Spring 1_001829_6867_m/z596.3096_RT9.9999                       False   \n",
       "Chinese Spring 1_001829_7933_m/z792.5621_RT11.9987                       True   \n",
       "Chinese Spring 1_001829_8203_m/z613.4826_RT12.2884                       True   \n",
       "Chinese Spring 1_001829_8737_m/z613.4826_RT13.9777                       True   \n",
       "Chinese Spring 5_001887_7848_m/z792.5621_RT14.4273                       True   \n",
       "\n",
       "bins                                               109.1013_109.1011_109.1015  \\\n",
       "component                                                                       \n",
       "Chinese Spring 1_001829_6867_m/z596.3096_RT9.9999                        True   \n",
       "Chinese Spring 1_001829_7933_m/z792.5621_RT11.9987                       True   \n",
       "Chinese Spring 1_001829_8203_m/z613.4826_RT12.2884                       True   \n",
       "Chinese Spring 1_001829_8737_m/z613.4826_RT13.9777                       True   \n",
       "Chinese Spring 5_001887_7848_m/z792.5621_RT14.4273                       True   \n",
       "\n",
       "bins                                               111.0442_111.0438_111.0443  \\\n",
       "component                                                                       \n",
       "Chinese Spring 1_001829_6867_m/z596.3096_RT9.9999                       False   \n",
       "Chinese Spring 1_001829_7933_m/z792.5621_RT11.9987                      False   \n",
       "Chinese Spring 1_001829_8203_m/z613.4826_RT12.2884                      False   \n",
       "Chinese Spring 1_001829_8737_m/z613.4826_RT13.9777                      False   \n",
       "Chinese Spring 5_001887_7848_m/z792.5621_RT14.4273                       True   \n",
       "\n",
       "bins                                               119.0856_119.0852_119.0858  \\\n",
       "component                                                                       \n",
       "Chinese Spring 1_001829_6867_m/z596.3096_RT9.9999                        True   \n",
       "Chinese Spring 1_001829_7933_m/z792.5621_RT11.9987                      False   \n",
       "Chinese Spring 1_001829_8203_m/z613.4826_RT12.2884                      False   \n",
       "Chinese Spring 1_001829_8737_m/z613.4826_RT13.9777                       True   \n",
       "Chinese Spring 5_001887_7848_m/z792.5621_RT14.4273                      False   \n",
       "\n",
       "bins                                               120.1318_120.1318_120.1318  \\\n",
       "component                                                                       \n",
       "Chinese Spring 1_001829_6867_m/z596.3096_RT9.9999                       False   \n",
       "Chinese Spring 1_001829_7933_m/z792.5621_RT11.9987                      False   \n",
       "Chinese Spring 1_001829_8203_m/z613.4826_RT12.2884                      False   \n",
       "Chinese Spring 1_001829_8737_m/z613.4826_RT13.9777                       True   \n",
       "Chinese Spring 5_001887_7848_m/z792.5621_RT14.4273                      False   \n",
       "\n",
       "bins                                               121.1012_121.1009_121.1018  \\\n",
       "component                                                                       \n",
       "Chinese Spring 1_001829_6867_m/z596.3096_RT9.9999                        True   \n",
       "Chinese Spring 1_001829_7933_m/z792.5621_RT11.9987                       True   \n",
       "Chinese Spring 1_001829_8203_m/z613.4826_RT12.2884                       True   \n",
       "Chinese Spring 1_001829_8737_m/z613.4826_RT13.9777                       True   \n",
       "Chinese Spring 5_001887_7848_m/z792.5621_RT14.4273                       True   \n",
       "\n",
       "bins                                               123.1169_123.1167_123.1172  \\\n",
       "component                                                                       \n",
       "Chinese Spring 1_001829_6867_m/z596.3096_RT9.9999                        True   \n",
       "Chinese Spring 1_001829_7933_m/z792.5621_RT11.9987                       True   \n",
       "Chinese Spring 1_001829_8203_m/z613.4826_RT12.2884                       True   \n",
       "Chinese Spring 1_001829_8737_m/z613.4826_RT13.9777                       True   \n",
       "Chinese Spring 5_001887_7848_m/z792.5621_RT14.4273                       True   \n",
       "\n",
       "bins                                               130.1590_130.1590_130.1590  \\\n",
       "component                                                                       \n",
       "Chinese Spring 1_001829_6867_m/z596.3096_RT9.9999                       False   \n",
       "Chinese Spring 1_001829_7933_m/z792.5621_RT11.9987                       True   \n",
       "Chinese Spring 1_001829_8203_m/z613.4826_RT12.2884                      False   \n",
       "Chinese Spring 1_001829_8737_m/z613.4826_RT13.9777                      False   \n",
       "Chinese Spring 5_001887_7848_m/z792.5621_RT14.4273                      False   \n",
       "\n",
       "bins                                               133.1011_133.1009_133.1014  \\\n",
       "component                                                                       \n",
       "Chinese Spring 1_001829_6867_m/z596.3096_RT9.9999                        True   \n",
       "Chinese Spring 1_001829_7933_m/z792.5621_RT11.9987                      False   \n",
       "Chinese Spring 1_001829_8203_m/z613.4826_RT12.2884                      False   \n",
       "Chinese Spring 1_001829_8737_m/z613.4826_RT13.9777                       True   \n",
       "Chinese Spring 5_001887_7848_m/z792.5621_RT14.4273                      False   \n",
       "\n",
       "bins                                                ...  \\\n",
       "component                                           ...   \n",
       "Chinese Spring 1_001829_6867_m/z596.3096_RT9.9999   ...   \n",
       "Chinese Spring 1_001829_7933_m/z792.5621_RT11.9987  ...   \n",
       "Chinese Spring 1_001829_8203_m/z613.4826_RT12.2884  ...   \n",
       "Chinese Spring 1_001829_8737_m/z613.4826_RT13.9777  ...   \n",
       "Chinese Spring 5_001887_7848_m/z792.5621_RT14.4273  ...   \n",
       "\n",
       "bins                                               757.5249_757.5249_757.5249  \\\n",
       "component                                                                       \n",
       "Chinese Spring 1_001829_6867_m/z596.3096_RT9.9999                       False   \n",
       "Chinese Spring 1_001829_7933_m/z792.5621_RT11.9987                      False   \n",
       "Chinese Spring 1_001829_8203_m/z613.4826_RT12.2884                      False   \n",
       "Chinese Spring 1_001829_8737_m/z613.4826_RT13.9777                      False   \n",
       "Chinese Spring 5_001887_7848_m/z792.5621_RT14.4273                       True   \n",
       "\n",
       "bins                                               76.0033_76.0033_76.0033  \\\n",
       "component                                                                    \n",
       "Chinese Spring 1_001829_6867_m/z596.3096_RT9.9999                    False   \n",
       "Chinese Spring 1_001829_7933_m/z792.5621_RT11.9987                    True   \n",
       "Chinese Spring 1_001829_8203_m/z613.4826_RT12.2884                   False   \n",
       "Chinese Spring 1_001829_8737_m/z613.4826_RT13.9777                   False   \n",
       "Chinese Spring 5_001887_7848_m/z792.5621_RT14.4273                   False   \n",
       "\n",
       "bins                                               77.2805_77.2805_77.2805  \\\n",
       "component                                                                    \n",
       "Chinese Spring 1_001829_6867_m/z596.3096_RT9.9999                     True   \n",
       "Chinese Spring 1_001829_7933_m/z792.5621_RT11.9987                   False   \n",
       "Chinese Spring 1_001829_8203_m/z613.4826_RT12.2884                   False   \n",
       "Chinese Spring 1_001829_8737_m/z613.4826_RT13.9777                   False   \n",
       "Chinese Spring 5_001887_7848_m/z792.5621_RT14.4273                   False   \n",
       "\n",
       "bins                                               792.5503_792.5503_792.5503  \\\n",
       "component                                                                       \n",
       "Chinese Spring 1_001829_6867_m/z596.3096_RT9.9999                       False   \n",
       "Chinese Spring 1_001829_7933_m/z792.5621_RT11.9987                       True   \n",
       "Chinese Spring 1_001829_8203_m/z613.4826_RT12.2884                      False   \n",
       "Chinese Spring 1_001829_8737_m/z613.4826_RT13.9777                      False   \n",
       "Chinese Spring 5_001887_7848_m/z792.5621_RT14.4273                      False   \n",
       "\n",
       "bins                                               792.5545_792.5545_792.5545  \\\n",
       "component                                                                       \n",
       "Chinese Spring 1_001829_6867_m/z596.3096_RT9.9999                       False   \n",
       "Chinese Spring 1_001829_7933_m/z792.5621_RT11.9987                      False   \n",
       "Chinese Spring 1_001829_8203_m/z613.4826_RT12.2884                      False   \n",
       "Chinese Spring 1_001829_8737_m/z613.4826_RT13.9777                      False   \n",
       "Chinese Spring 5_001887_7848_m/z792.5621_RT14.4273                       True   \n",
       "\n",
       "bins                                               81.0338_81.0337_81.0339  \\\n",
       "component                                                                    \n",
       "Chinese Spring 1_001829_6867_m/z596.3096_RT9.9999                    False   \n",
       "Chinese Spring 1_001829_7933_m/z792.5621_RT11.9987                   False   \n",
       "Chinese Spring 1_001829_8203_m/z613.4826_RT12.2884                   False   \n",
       "Chinese Spring 1_001829_8737_m/z613.4826_RT13.9777                   False   \n",
       "Chinese Spring 5_001887_7848_m/z792.5621_RT14.4273                    True   \n",
       "\n",
       "bins                                               81.0702_81.0701_81.0704  \\\n",
       "component                                                                    \n",
       "Chinese Spring 1_001829_6867_m/z596.3096_RT9.9999                     True   \n",
       "Chinese Spring 1_001829_7933_m/z792.5621_RT11.9987                    True   \n",
       "Chinese Spring 1_001829_8203_m/z613.4826_RT12.2884                    True   \n",
       "Chinese Spring 1_001829_8737_m/z613.4826_RT13.9777                    True   \n",
       "Chinese Spring 5_001887_7848_m/z792.5621_RT14.4273                    True   \n",
       "\n",
       "bins                                               93.0702_93.0699_93.0703  \\\n",
       "component                                                                    \n",
       "Chinese Spring 1_001829_6867_m/z596.3096_RT9.9999                    False   \n",
       "Chinese Spring 1_001829_7933_m/z792.5621_RT11.9987                   False   \n",
       "Chinese Spring 1_001829_8203_m/z613.4826_RT12.2884                   False   \n",
       "Chinese Spring 1_001829_8737_m/z613.4826_RT13.9777                    True   \n",
       "Chinese Spring 5_001887_7848_m/z792.5621_RT14.4273                   False   \n",
       "\n",
       "bins                                               95.0858_95.0856_95.0860  \\\n",
       "component                                                                    \n",
       "Chinese Spring 1_001829_6867_m/z596.3096_RT9.9999                     True   \n",
       "Chinese Spring 1_001829_7933_m/z792.5621_RT11.9987                    True   \n",
       "Chinese Spring 1_001829_8203_m/z613.4826_RT12.2884                    True   \n",
       "Chinese Spring 1_001829_8737_m/z613.4826_RT13.9777                    True   \n",
       "Chinese Spring 5_001887_7848_m/z792.5621_RT14.4273                    True   \n",
       "\n",
       "bins                                               96.5896_96.5896_96.5896  \n",
       "component                                                                   \n",
       "Chinese Spring 1_001829_6867_m/z596.3096_RT9.9999                     True  \n",
       "Chinese Spring 1_001829_7933_m/z792.5621_RT11.9987                   False  \n",
       "Chinese Spring 1_001829_8203_m/z613.4826_RT12.2884                   False  \n",
       "Chinese Spring 1_001829_8737_m/z613.4826_RT13.9777                   False  \n",
       "Chinese Spring 5_001887_7848_m/z792.5621_RT14.4273                   False  \n",
       "\n",
       "[5 rows x 139 columns]"
      ]
     },
     "execution_count": 7,
     "metadata": {},
     "output_type": "execute_result"
    }
   ],
   "source": [
    "tree.cluster_table(cluster=1)"
   ]
  },
  {
   "cell_type": "markdown",
   "metadata": {},
   "source": [
    "The `cluster_table` method also allows you to specify a sample instead of the cluster number.\n",
    "In this case it will just look up which cluster your sample belongs to and return the corresponding table."
   ]
  },
  {
   "cell_type": "code",
   "execution_count": 8,
   "metadata": {},
   "outputs": [
    {
     "data": {
      "text/html": [
       "<div>\n",
       "<style scoped>\n",
       "    .dataframe tbody tr th:only-of-type {\n",
       "        vertical-align: middle;\n",
       "    }\n",
       "\n",
       "    .dataframe tbody tr th {\n",
       "        vertical-align: top;\n",
       "    }\n",
       "\n",
       "    .dataframe thead th {\n",
       "        text-align: right;\n",
       "    }\n",
       "</style>\n",
       "<table border=\"1\" class=\"dataframe\">\n",
       "  <thead>\n",
       "    <tr style=\"text-align: right;\">\n",
       "      <th>bins</th>\n",
       "      <th>100.1123_100.1122_100.1123</th>\n",
       "      <th>112.0761_112.0758_112.0764</th>\n",
       "      <th>126.0549_126.0548_126.0551</th>\n",
       "      <th>126.0913_126.0912_126.0914</th>\n",
       "      <th>128.1069_128.1066_128.1071</th>\n",
       "      <th>135.0553_135.0553_135.0553</th>\n",
       "      <th>144.1016_144.1013_144.1020</th>\n",
       "      <th>163.0501_163.0501_163.0501</th>\n",
       "      <th>173.7439_173.7439_173.7439</th>\n",
       "      <th>181.0606_181.0605_181.0608</th>\n",
       "      <th>...</th>\n",
       "      <th>228.9668_228.9668_228.9668</th>\n",
       "      <th>241.1541_241.1538_241.1545</th>\n",
       "      <th>52.1912_52.1912_52.1912</th>\n",
       "      <th>56.3684_56.3684_56.3684</th>\n",
       "      <th>58.0641_58.0641_58.0641</th>\n",
       "      <th>58.0656_58.0655_58.0657</th>\n",
       "      <th>64.5324_64.5324_64.5324</th>\n",
       "      <th>70.0655_70.0653_70.0656</th>\n",
       "      <th>84.0811_84.0809_84.0812</th>\n",
       "      <th>98.0966_98.0964_98.0967</th>\n",
       "    </tr>\n",
       "    <tr>\n",
       "      <th>component</th>\n",
       "      <th></th>\n",
       "      <th></th>\n",
       "      <th></th>\n",
       "      <th></th>\n",
       "      <th></th>\n",
       "      <th></th>\n",
       "      <th></th>\n",
       "      <th></th>\n",
       "      <th></th>\n",
       "      <th></th>\n",
       "      <th></th>\n",
       "      <th></th>\n",
       "      <th></th>\n",
       "      <th></th>\n",
       "      <th></th>\n",
       "      <th></th>\n",
       "      <th></th>\n",
       "      <th></th>\n",
       "      <th></th>\n",
       "      <th></th>\n",
       "      <th></th>\n",
       "    </tr>\n",
       "  </thead>\n",
       "  <tbody>\n",
       "    <tr>\n",
       "      <th>Chinese Spring 1_001829_0724_m/z241.1544_RT0.7890</th>\n",
       "      <td>False</td>\n",
       "      <td>False</td>\n",
       "      <td>True</td>\n",
       "      <td>False</td>\n",
       "      <td>True</td>\n",
       "      <td>False</td>\n",
       "      <td>True</td>\n",
       "      <td>False</td>\n",
       "      <td>True</td>\n",
       "      <td>False</td>\n",
       "      <td>...</td>\n",
       "      <td>True</td>\n",
       "      <td>True</td>\n",
       "      <td>True</td>\n",
       "      <td>True</td>\n",
       "      <td>False</td>\n",
       "      <td>True</td>\n",
       "      <td>False</td>\n",
       "      <td>True</td>\n",
       "      <td>True</td>\n",
       "      <td>True</td>\n",
       "    </tr>\n",
       "    <tr>\n",
       "      <th>Chinese Spring 1_001829_0785_m/z241.1544_RT0.8781</th>\n",
       "      <td>True</td>\n",
       "      <td>True</td>\n",
       "      <td>False</td>\n",
       "      <td>True</td>\n",
       "      <td>True</td>\n",
       "      <td>True</td>\n",
       "      <td>True</td>\n",
       "      <td>True</td>\n",
       "      <td>False</td>\n",
       "      <td>True</td>\n",
       "      <td>...</td>\n",
       "      <td>False</td>\n",
       "      <td>True</td>\n",
       "      <td>False</td>\n",
       "      <td>False</td>\n",
       "      <td>True</td>\n",
       "      <td>True</td>\n",
       "      <td>True</td>\n",
       "      <td>True</td>\n",
       "      <td>True</td>\n",
       "      <td>True</td>\n",
       "    </tr>\n",
       "  </tbody>\n",
       "</table>\n",
       "<p>2 rows × 22 columns</p>\n",
       "</div>"
      ],
      "text/plain": [
       "bins                                              100.1123_100.1122_100.1123  \\\n",
       "component                                                                      \n",
       "Chinese Spring 1_001829_0724_m/z241.1544_RT0.7890                      False   \n",
       "Chinese Spring 1_001829_0785_m/z241.1544_RT0.8781                       True   \n",
       "\n",
       "bins                                              112.0761_112.0758_112.0764  \\\n",
       "component                                                                      \n",
       "Chinese Spring 1_001829_0724_m/z241.1544_RT0.7890                      False   \n",
       "Chinese Spring 1_001829_0785_m/z241.1544_RT0.8781                       True   \n",
       "\n",
       "bins                                              126.0549_126.0548_126.0551  \\\n",
       "component                                                                      \n",
       "Chinese Spring 1_001829_0724_m/z241.1544_RT0.7890                       True   \n",
       "Chinese Spring 1_001829_0785_m/z241.1544_RT0.8781                      False   \n",
       "\n",
       "bins                                              126.0913_126.0912_126.0914  \\\n",
       "component                                                                      \n",
       "Chinese Spring 1_001829_0724_m/z241.1544_RT0.7890                      False   \n",
       "Chinese Spring 1_001829_0785_m/z241.1544_RT0.8781                       True   \n",
       "\n",
       "bins                                              128.1069_128.1066_128.1071  \\\n",
       "component                                                                      \n",
       "Chinese Spring 1_001829_0724_m/z241.1544_RT0.7890                       True   \n",
       "Chinese Spring 1_001829_0785_m/z241.1544_RT0.8781                       True   \n",
       "\n",
       "bins                                              135.0553_135.0553_135.0553  \\\n",
       "component                                                                      \n",
       "Chinese Spring 1_001829_0724_m/z241.1544_RT0.7890                      False   \n",
       "Chinese Spring 1_001829_0785_m/z241.1544_RT0.8781                       True   \n",
       "\n",
       "bins                                              144.1016_144.1013_144.1020  \\\n",
       "component                                                                      \n",
       "Chinese Spring 1_001829_0724_m/z241.1544_RT0.7890                       True   \n",
       "Chinese Spring 1_001829_0785_m/z241.1544_RT0.8781                       True   \n",
       "\n",
       "bins                                              163.0501_163.0501_163.0501  \\\n",
       "component                                                                      \n",
       "Chinese Spring 1_001829_0724_m/z241.1544_RT0.7890                      False   \n",
       "Chinese Spring 1_001829_0785_m/z241.1544_RT0.8781                       True   \n",
       "\n",
       "bins                                              173.7439_173.7439_173.7439  \\\n",
       "component                                                                      \n",
       "Chinese Spring 1_001829_0724_m/z241.1544_RT0.7890                       True   \n",
       "Chinese Spring 1_001829_0785_m/z241.1544_RT0.8781                      False   \n",
       "\n",
       "bins                                              181.0606_181.0605_181.0608  \\\n",
       "component                                                                      \n",
       "Chinese Spring 1_001829_0724_m/z241.1544_RT0.7890                      False   \n",
       "Chinese Spring 1_001829_0785_m/z241.1544_RT0.8781                       True   \n",
       "\n",
       "bins                                               ...  \\\n",
       "component                                          ...   \n",
       "Chinese Spring 1_001829_0724_m/z241.1544_RT0.7890  ...   \n",
       "Chinese Spring 1_001829_0785_m/z241.1544_RT0.8781  ...   \n",
       "\n",
       "bins                                              228.9668_228.9668_228.9668  \\\n",
       "component                                                                      \n",
       "Chinese Spring 1_001829_0724_m/z241.1544_RT0.7890                       True   \n",
       "Chinese Spring 1_001829_0785_m/z241.1544_RT0.8781                      False   \n",
       "\n",
       "bins                                              241.1541_241.1538_241.1545  \\\n",
       "component                                                                      \n",
       "Chinese Spring 1_001829_0724_m/z241.1544_RT0.7890                       True   \n",
       "Chinese Spring 1_001829_0785_m/z241.1544_RT0.8781                       True   \n",
       "\n",
       "bins                                              52.1912_52.1912_52.1912  \\\n",
       "component                                                                   \n",
       "Chinese Spring 1_001829_0724_m/z241.1544_RT0.7890                    True   \n",
       "Chinese Spring 1_001829_0785_m/z241.1544_RT0.8781                   False   \n",
       "\n",
       "bins                                              56.3684_56.3684_56.3684  \\\n",
       "component                                                                   \n",
       "Chinese Spring 1_001829_0724_m/z241.1544_RT0.7890                    True   \n",
       "Chinese Spring 1_001829_0785_m/z241.1544_RT0.8781                   False   \n",
       "\n",
       "bins                                              58.0641_58.0641_58.0641  \\\n",
       "component                                                                   \n",
       "Chinese Spring 1_001829_0724_m/z241.1544_RT0.7890                   False   \n",
       "Chinese Spring 1_001829_0785_m/z241.1544_RT0.8781                    True   \n",
       "\n",
       "bins                                              58.0656_58.0655_58.0657  \\\n",
       "component                                                                   \n",
       "Chinese Spring 1_001829_0724_m/z241.1544_RT0.7890                    True   \n",
       "Chinese Spring 1_001829_0785_m/z241.1544_RT0.8781                    True   \n",
       "\n",
       "bins                                              64.5324_64.5324_64.5324  \\\n",
       "component                                                                   \n",
       "Chinese Spring 1_001829_0724_m/z241.1544_RT0.7890                   False   \n",
       "Chinese Spring 1_001829_0785_m/z241.1544_RT0.8781                    True   \n",
       "\n",
       "bins                                              70.0655_70.0653_70.0656  \\\n",
       "component                                                                   \n",
       "Chinese Spring 1_001829_0724_m/z241.1544_RT0.7890                    True   \n",
       "Chinese Spring 1_001829_0785_m/z241.1544_RT0.8781                    True   \n",
       "\n",
       "bins                                              84.0811_84.0809_84.0812  \\\n",
       "component                                                                   \n",
       "Chinese Spring 1_001829_0724_m/z241.1544_RT0.7890                    True   \n",
       "Chinese Spring 1_001829_0785_m/z241.1544_RT0.8781                    True   \n",
       "\n",
       "bins                                              98.0966_98.0964_98.0967  \n",
       "component                                                                  \n",
       "Chinese Spring 1_001829_0724_m/z241.1544_RT0.7890                    True  \n",
       "Chinese Spring 1_001829_0785_m/z241.1544_RT0.8781                    True  \n",
       "\n",
       "[2 rows x 22 columns]"
      ]
     },
     "execution_count": 8,
     "metadata": {},
     "output_type": "execute_result"
    }
   ],
   "source": [
    "tree.cluster_table(sample=\"Chinese Spring 1_001829_0724_m/z241.1544_RT0.7890\")"
   ]
  },
  {
   "cell_type": "markdown",
   "metadata": {},
   "source": [
    "We can also directly view the cluster mz bin frequencies using the `cluster_hist` method.\n",
    "\n",
    "First we enable the `%matplotlib inline` mode.\n",
    "This just tells [matplotlib](https://matplotlib.org/) (the plotting library) to show the results directly in the notebook."
   ]
  },
  {
   "cell_type": "code",
   "execution_count": 9,
   "metadata": {},
   "outputs": [],
   "source": [
    "%matplotlib inline"
   ]
  },
  {
   "cell_type": "markdown",
   "metadata": {},
   "source": [
    "Then we can plot the histogram for a cluster by specifying the cluster or sample as for `cluster_table`.\n",
    "\n",
    "TIP: to hide the returned tuple (<Figure...>, <...axes...>), just add a semicolon to the end of the line after the method call."
   ]
  },
  {
   "cell_type": "code",
   "execution_count": 10,
   "metadata": {},
   "outputs": [
    {
     "data": {
      "text/plain": [
       "(<Figure size 1573.2x360 with 1 Axes>,\n",
       " <matplotlib.axes._subplots.AxesSubplot at 0x7f751464b240>)"
      ]
     },
     "execution_count": 10,
     "metadata": {},
     "output_type": "execute_result"
    },
    {
     "data": {
      "image/png": "[encoded data removed]",
      "text/plain": [
       "<Figure size 1573.2x360 with 1 Axes>"
      ]
     },
     "metadata": {
      "needs_background": "light"
     },
     "output_type": "display_data"
    }
   ],
   "source": [
    "tree.cluster_hist(cluster=1)"
   ]
  },
  {
   "cell_type": "markdown",
   "metadata": {},
   "source": [
    "We can view the interactive tree directly in an IPython notebook using the plotly `notebook_mode`."
   ]
  },
  {
   "cell_type": "code",
   "execution_count": 11,
   "metadata": {},
   "outputs": [
    {
     "data": {
      "text/html": [
       "        <script type=\"text/javascript\">\n",
       "        window.PlotlyConfig = {MathJaxConfig: 'local'};\n",
       "        if (window.MathJax) {MathJax.Hub.Config({SVG: {font: \"STIX-Web\"}});}\n",
       "        if (typeof require !== 'undefined') {\n",
       "        require.undef(\"plotly\");\n",
       "        requirejs.config({\n",
       "            paths: {\n",
       "                'plotly': ['https://cdn.plot.ly/plotly-latest.min']\n",
       "            }\n",
       "        });\n",
       "        require(['plotly'], function(Plotly) {\n",
       "            window._Plotly = Plotly;\n",
       "        });\n",
       "        }\n",
       "        </script>\n",
       "        "
      ]
     },
     "metadata": {},
     "output_type": "display_data"
    },
    {
     "data": {
      "application/vnd.plotly.v1+json": {
       "config": {
        "linkText": "Export to plot.ly",
        "plotlyServerURL": "https://plot.ly",
        "showLink": false
       },
       "data": [
        {
         "hoverinfo": "text",
         "marker": {
          "color": "rgb(61,153,112)"
         },
         "mode": "lines",
         "text": [
          "cluster: 1, component: Chinese Spring 1_001829_7933_m/z792.5621_RT11.9987",
          "cluster: 1, component: Chinese Spring 1_001829_7933_m/z792.5621_RT11.9987",
          "cluster: 1, component: Chinese Spring 1_001829_8737_m/z613.4826_RT13.9777",
          "cluster: 1, component: Chinese Spring 1_001829_8737_m/z613.4826_RT13.9777"
         ],
         "type": "scatter",
         "uid": "13815a08-be2c-445f-9046-1e3655f08bf7",
         "x": [
          15,
          15,
          25,
          25
         ],
         "xaxis": "x",
         "y": [
          0,
          0.3949579831932773,
          0.3949579831932773,
          0
         ],
         "yaxis": "y"
        },
        {
         "hoverinfo": "text",
         "marker": {
          "color": "rgb(61,153,112)"
         },
         "mode": "lines",
         "text": [
          "cluster: 1, component: Chinese Spring 1_001829_8203_m/z613.4826_RT12.2884",
          "cluster: 1, component: Chinese Spring 1_001829_8203_m/z613.4826_RT12.2884",
          null,
          null
         ],
         "type": "scatter",
         "uid": "1dedd181-e03a-4590-90ad-028584c6f691",
         "x": [
          5,
          5,
          20,
          20
         ],
         "xaxis": "x",
         "y": [
          0,
          0.5116279069767442,
          0.5116279069767442,
          0.3949579831932773
         ],
         "yaxis": "y"
        },
        {
         "hoverinfo": "text",
         "marker": {
          "color": "rgb(61,153,112)"
         },
         "mode": "lines",
         "text": [
          "cluster: 1, component: Chinese Spring 1_001829_6867_m/z596.3096_RT9.9999",
          "cluster: 1, component: Chinese Spring 1_001829_6867_m/z596.3096_RT9.9999",
          "cluster: 1, component: Chinese Spring 5_001887_7848_m/z792.5621_RT14.4273",
          "cluster: 1, component: Chinese Spring 5_001887_7848_m/z792.5621_RT14.4273"
         ],
         "type": "scatter",
         "uid": "a29990dd-eed3-48d7-a5db-4f3db8d40fd9",
         "x": [
          35,
          35,
          45,
          45
         ],
         "xaxis": "x",
         "y": [
          0,
          0.5555555555555556,
          0.5555555555555556,
          0
         ],
         "yaxis": "y"
        },
        {
         "hoverinfo": "text",
         "marker": {
          "color": "rgb(61,153,112)"
         },
         "mode": "lines",
         "text": [
          null,
          null,
          null,
          null
         ],
         "type": "scatter",
         "uid": "b639600d-dd79-4788-84b8-202b2e6b84a3",
         "x": [
          12.5,
          12.5,
          40,
          40
         ],
         "xaxis": "x",
         "y": [
          0.5116279069767442,
          0.6344086021505376,
          0.6344086021505376,
          0.5555555555555556
         ],
         "yaxis": "y"
        },
        {
         "hoverinfo": "text",
         "marker": {
          "color": "rgb(255,65,54)"
         },
         "mode": "lines",
         "text": [
          "cluster: 2, component: Chinese Spring 1_001829_6962_m/z335.2578_RT10.1118",
          "cluster: 2, component: Chinese Spring 1_001829_6962_m/z335.2578_RT10.1118",
          "cluster: 2, component: Chinese Spring 1_001829_7924_m/z335.2579_RT11.9987",
          "cluster: 2, component: Chinese Spring 1_001829_7924_m/z335.2579_RT11.9987"
         ],
         "type": "scatter",
         "uid": "3fddabe4-b6f2-439c-9350-36225c616801",
         "x": [
          105,
          105,
          115,
          115
         ],
         "xaxis": "x",
         "y": [
          0,
          0.14942528735632185,
          0.14942528735632185,
          0
         ],
         "yaxis": "y"
        },
        {
         "hoverinfo": "text",
         "marker": {
          "color": "rgb(255,65,54)"
         },
         "mode": "lines",
         "text": [
          "cluster: 2, component: Chinese Spring 1_001829_8002_m/z335.2578_RT12.0967",
          "cluster: 2, component: Chinese Spring 1_001829_8002_m/z335.2578_RT12.0967",
          null,
          null
         ],
         "type": "scatter",
         "uid": "c8f110ab-6c22-4be1-bd89-c0334841ccf2",
         "x": [
          95,
          95,
          110,
          110
         ],
         "xaxis": "x",
         "y": [
          0,
          0.16483516483516483,
          0.16483516483516483,
          0.14942528735632185
         ],
         "yaxis": "y"
        },
        {
         "hoverinfo": "text",
         "marker": {
          "color": "rgb(255,65,54)"
         },
         "mode": "lines",
         "text": [
          "cluster: 2, component: Chinese Spring 1_001829_7102_m/z335.2578_RT10.4732",
          "cluster: 2, component: Chinese Spring 1_001829_7102_m/z335.2578_RT10.4732",
          "cluster: 2, component: Chinese Spring 1_001829_7304_m/z335.2577_RT10.7050",
          "cluster: 2, component: Chinese Spring 1_001829_7304_m/z335.2577_RT10.7050"
         ],
         "type": "scatter",
         "uid": "573cf35d-7ed0-470c-be25-6684b9b404e1",
         "x": [
          125,
          125,
          135,
          135
         ],
         "xaxis": "x",
         "y": [
          0,
          0.16666666666666666,
          0.16666666666666666,
          0
         ],
         "yaxis": "y"
        },
        {
         "hoverinfo": "text",
         "marker": {
          "color": "rgb(255,65,54)"
         },
         "mode": "lines",
         "text": [
          null,
          null,
          null,
          null
         ],
         "type": "scatter",
         "uid": "2aad87cb-72d7-49f4-bb92-0c1aee8df6f7",
         "x": [
          102.5,
          102.5,
          130,
          130
         ],
         "xaxis": "x",
         "y": [
          0.16483516483516483,
          0.20408163265306123,
          0.20408163265306123,
          0.16666666666666666
         ],
         "yaxis": "y"
        },
        {
         "hoverinfo": "text",
         "marker": {
          "color": "rgb(255,65,54)"
         },
         "mode": "lines",
         "text": [
          "cluster: 2, component: Chinese Spring 1_001829_6770_m/z335.2578_RT9.7767",
          "cluster: 2, component: Chinese Spring 1_001829_6770_m/z335.2578_RT9.7767",
          "cluster: 2, component: Chinese Spring 1_001829_7176_m/z261.2209_RT10.5802",
          "cluster: 2, component: Chinese Spring 1_001829_7176_m/z261.2209_RT10.5802"
         ],
         "type": "scatter",
         "uid": "73d8ee81-f5c8-4242-a22b-db3846698de4",
         "x": [
          145,
          145,
          155,
          155
         ],
         "xaxis": "x",
         "y": [
          0,
          0.23076923076923078,
          0.23076923076923078,
          0
         ],
         "yaxis": "y"
        },
        {
         "hoverinfo": "text",
         "marker": {
          "color": "rgb(255,65,54)"
         },
         "mode": "lines",
         "text": [
          null,
          null,
          null,
          null
         ],
         "type": "scatter",
         "uid": "24097f17-bca1-44a9-a286-e58ace5abaa0",
         "x": [
          116.25,
          116.25,
          150,
          150
         ],
         "xaxis": "x",
         "y": [
          0.20408163265306123,
          0.25925925925925924,
          0.25925925925925924,
          0.23076923076923078
         ],
         "yaxis": "y"
        },
        {
         "hoverinfo": "text",
         "marker": {
          "color": "rgb(255,65,54)"
         },
         "mode": "lines",
         "text": [
          "cluster: 2, component: Chinese Spring 1_001829_6995_m/z353.2686_RT10.1519",
          "cluster: 2, component: Chinese Spring 1_001829_6995_m/z353.2686_RT10.1519",
          "cluster: 2, component: Chinese Spring 1_001829_7306_m/z353.2686_RT10.7050",
          "cluster: 2, component: Chinese Spring 1_001829_7306_m/z353.2686_RT10.7050"
         ],
         "type": "scatter",
         "uid": "f71ae6f4-10f5-4de6-a54e-e4f926a4a7ff",
         "x": [
          165,
          165,
          175,
          175
         ],
         "xaxis": "x",
         "y": [
          0,
          0.1588785046728972,
          0.1588785046728972,
          0
         ],
         "yaxis": "y"
        },
        {
         "hoverinfo": "text",
         "marker": {
          "color": "rgb(255,65,54)"
         },
         "mode": "lines",
         "text": [
          "cluster: 2, component: Chinese Spring 1_001829_6884_m/z335.2579_RT10.0132",
          "cluster: 2, component: Chinese Spring 1_001829_6884_m/z335.2579_RT10.0132",
          "cluster: 2, component: Chinese Spring 1_001829_7178_m/z335.2579_RT10.5802",
          "cluster: 2, component: Chinese Spring 1_001829_7178_m/z335.2579_RT10.5802"
         ],
         "type": "scatter",
         "uid": "0ffcf77e-25bd-45e5-93ba-dbfbd0c09eec",
         "x": [
          195,
          195,
          205,
          205
         ],
         "xaxis": "x",
         "y": [
          0,
          0.1724137931034483,
          0.1724137931034483,
          0
         ],
         "yaxis": "y"
        },
        {
         "hoverinfo": "text",
         "marker": {
          "color": "rgb(255,65,54)"
         },
         "mode": "lines",
         "text": [
          "cluster: 2, component: Chinese Spring 1_001829_7300_m/z261.2209_RT10.7050",
          "cluster: 2, component: Chinese Spring 1_001829_7300_m/z261.2209_RT10.7050",
          null,
          null
         ],
         "type": "scatter",
         "uid": "8dffc6c9-addb-4a79-a46b-fc6f5c295838",
         "x": [
          185,
          185,
          200,
          200
         ],
         "xaxis": "x",
         "y": [
          0,
          0.23809523809523808,
          0.23809523809523808,
          0.1724137931034483
         ],
         "yaxis": "y"
        },
        {
         "hoverinfo": "text",
         "marker": {
          "color": "rgb(255,65,54)"
         },
         "mode": "lines",
         "text": [
          null,
          null,
          null,
          null
         ],
         "type": "scatter",
         "uid": "36b4bfe6-2d71-4394-a006-1108d47bc82c",
         "x": [
          170,
          170,
          192.5,
          192.5
         ],
         "xaxis": "x",
         "y": [
          0.1588785046728972,
          0.2765957446808511,
          0.2765957446808511,
          0.23809523809523808
         ],
         "yaxis": "y"
        },
        {
         "hoverinfo": "text",
         "marker": {
          "color": "rgb(255,65,54)"
         },
         "mode": "lines",
         "text": [
          null,
          null,
          null,
          null
         ],
         "type": "scatter",
         "uid": "f835b1f2-c357-4ac3-80ad-8fd9df79c160",
         "x": [
          133.125,
          133.125,
          181.25,
          181.25
         ],
         "xaxis": "x",
         "y": [
          0.25925925925925924,
          0.3,
          0.3,
          0.2765957446808511
         ],
         "yaxis": "y"
        },
        {
         "hoverinfo": "text",
         "marker": {
          "color": "rgb(255,65,54)"
         },
         "mode": "lines",
         "text": [
          "cluster: 2, component: Cobra 1_001832_7415_m/z571.4716_RT11.9269",
          "cluster: 2, component: Cobra 1_001832_7415_m/z571.4716_RT11.9269",
          null,
          null
         ],
         "type": "scatter",
         "uid": "bed04e8f-3a06-41fc-b7ef-782b5ccd0808",
         "x": [
          85,
          85,
          157.1875,
          157.1875
         ],
         "xaxis": "x",
         "y": [
          0,
          0.3829787234042553,
          0.3829787234042553,
          0.3
         ],
         "yaxis": "y"
        },
        {
         "hoverinfo": "text",
         "marker": {
          "color": "rgb(255,65,54)"
         },
         "mode": "lines",
         "text": [
          "cluster: 2, component: Chinese Spring 1_001829_6971_m/z507.2717_RT10.1162",
          "cluster: 2, component: Chinese Spring 1_001829_6971_m/z507.2717_RT10.1162",
          null,
          null
         ],
         "type": "scatter",
         "uid": "a4ff3d30-371d-41d3-873b-86a745502934",
         "x": [
          75,
          75,
          121.09375,
          121.09375
         ],
         "xaxis": "x",
         "y": [
          0,
          0.40229885057471265,
          0.40229885057471265,
          0.3829787234042553
         ],
         "yaxis": "y"
        },
        {
         "hoverinfo": "text",
         "marker": {
          "color": "rgb(255,65,54)"
         },
         "mode": "lines",
         "text": [
          "cluster: 2, component: Chinese Spring 1_001829_7309_m/z497.3107_RT10.7050",
          "cluster: 2, component: Chinese Spring 1_001829_7309_m/z497.3107_RT10.7050",
          null,
          null
         ],
         "type": "scatter",
         "uid": "7abd5c23-2976-4c94-b71d-01e7bbbdd057",
         "x": [
          65,
          65,
          98.046875,
          98.046875
         ],
         "xaxis": "x",
         "y": [
          0,
          0.5368421052631579,
          0.5368421052631579,
          0.40229885057471265
         ],
         "yaxis": "y"
        },
        {
         "hoverinfo": "text",
         "marker": {
          "color": "rgb(255,65,54)"
         },
         "mode": "lines",
         "text": [
          "cluster: 2, component: blk_001809_2310_m/z571.4292_RT14.5025",
          "cluster: 2, component: blk_001809_2310_m/z571.4292_RT14.5025",
          null,
          null
         ],
         "type": "scatter",
         "uid": "bd581f26-1590-4a5a-883b-a1338cf3346f",
         "x": [
          55,
          55,
          81.5234375,
          81.5234375
         ],
         "xaxis": "x",
         "y": [
          0,
          0.6615384615384615,
          0.6615384615384615,
          0.5368421052631579
         ],
         "yaxis": "y"
        },
        {
         "hoverinfo": "text",
         "marker": {
          "color": "rgb(255,65,54)"
         },
         "mode": "lines",
         "text": [
          "cluster: 2, component: Cobra 1_001832_8139_m/z338.3414_RT14.1645",
          "cluster: 2, component: Cobra 1_001832_8139_m/z338.3414_RT14.1645",
          "cluster: 2, component: blk_001809_2081_m/z244.1905_RT12.7018",
          "cluster: 2, component: blk_001809_2081_m/z244.1905_RT12.7018"
         ],
         "type": "scatter",
         "uid": "0b96092d-d47f-4cb0-82a6-133b150c2689",
         "x": [
          225,
          225,
          235,
          235
         ],
         "xaxis": "x",
         "y": [
          0,
          0.4318181818181818,
          0.4318181818181818,
          0
         ],
         "yaxis": "y"
        },
        {
         "hoverinfo": "text",
         "marker": {
          "color": "rgb(255,65,54)"
         },
         "mode": "lines",
         "text": [
          "cluster: 2, component: Chinese Spring 1_001829_6885_m/z353.2690_RT10.0132",
          "cluster: 2, component: Chinese Spring 1_001829_6885_m/z353.2690_RT10.0132",
          "cluster: 2, component: Chinese Spring 1_001829_7180_m/z353.2688_RT10.5802",
          "cluster: 2, component: Chinese Spring 1_001829_7180_m/z353.2688_RT10.5802"
         ],
         "type": "scatter",
         "uid": "69f027de-19a2-4051-bb10-1f560d651bcd",
         "x": [
          245,
          245,
          255,
          255
         ],
         "xaxis": "x",
         "y": [
          0,
          0.1348314606741573,
          0.1348314606741573,
          0
         ],
         "yaxis": "y"
        },
        {
         "hoverinfo": "text",
         "marker": {
          "color": "rgb(255,65,54)"
         },
         "mode": "lines",
         "text": [
          "cluster: 2, component: Chinese Spring 1_001829_7587_m/z278.2475_RT11.3925",
          "cluster: 2, component: Chinese Spring 1_001829_7587_m/z278.2475_RT11.3925",
          "cluster: 2, component: Chinese Spring 1_001829_7923_m/z279.2315_RT11.9987",
          "cluster: 2, component: Chinese Spring 1_001829_7923_m/z279.2315_RT11.9987"
         ],
         "type": "scatter",
         "uid": "96a40a3d-964d-41b9-978d-4c69eaf177cc",
         "x": [
          265,
          265,
          275,
          275
         ],
         "xaxis": "x",
         "y": [
          0,
          0.2755905511811024,
          0.2755905511811024,
          0
         ],
         "yaxis": "y"
        },
        {
         "hoverinfo": "text",
         "marker": {
          "color": "rgb(255,65,54)"
         },
         "mode": "lines",
         "text": [
          null,
          null,
          null,
          null
         ],
         "type": "scatter",
         "uid": "ceec337b-03de-48e6-84bd-989afa88a748",
         "x": [
          250,
          250,
          270,
          270
         ],
         "xaxis": "x",
         "y": [
          0.1348314606741573,
          0.35403726708074534,
          0.35403726708074534,
          0.2755905511811024
         ],
         "yaxis": "y"
        },
        {
         "hoverinfo": "text",
         "marker": {
          "color": "rgb(255,65,54)"
         },
         "mode": "lines",
         "text": [
          "cluster: 2, component: Chinese Spring 1_001829_7119_m/z337.2734_RT10.5000",
          "cluster: 2, component: Chinese Spring 1_001829_7119_m/z337.2734_RT10.5000",
          "cluster: 2, component: Chinese Spring 1_001829_8646_m/z337.2733_RT13.6924",
          "cluster: 2, component: Chinese Spring 1_001829_8646_m/z337.2733_RT13.6924"
         ],
         "type": "scatter",
         "uid": "e55ef077-e06f-4488-a86b-3e807e7ecda7",
         "x": [
          295,
          295,
          305,
          305
         ],
         "xaxis": "x",
         "y": [
          0,
          0.22935779816513763,
          0.22935779816513763,
          0
         ],
         "yaxis": "y"
        },
        {
         "hoverinfo": "text",
         "marker": {
          "color": "rgb(255,65,54)"
         },
         "mode": "lines",
         "text": [
          "cluster: 2, component: Chinese Spring 1_001829_7499_m/z435.2504_RT11.0802",
          "cluster: 2, component: Chinese Spring 1_001829_7499_m/z435.2504_RT11.0802",
          null,
          null
         ],
         "type": "scatter",
         "uid": "88efd163-2f4f-48d1-9c30-27f944ad541c",
         "x": [
          285,
          285,
          300,
          300
         ],
         "xaxis": "x",
         "y": [
          0,
          0.37142857142857144,
          0.37142857142857144,
          0.22935779816513763
         ],
         "yaxis": "y"
        },
        {
         "hoverinfo": "text",
         "marker": {
          "color": "rgb(255,65,54)"
         },
         "mode": "lines",
         "text": [
          null,
          null,
          null,
          null
         ],
         "type": "scatter",
         "uid": "5092dc64-c023-4171-baf0-47aed7265ada",
         "x": [
          260,
          260,
          292.5,
          292.5
         ],
         "xaxis": "x",
         "y": [
          0.35403726708074534,
          0.5238095238095238,
          0.5238095238095238,
          0.37142857142857144
         ],
         "yaxis": "y"
        },
        {
         "hoverinfo": "text",
         "marker": {
          "color": "rgb(255,65,54)"
         },
         "mode": "lines",
         "text": [
          null,
          null,
          null,
          null
         ],
         "type": "scatter",
         "uid": "b26b8502-538b-4eaf-98cc-a935cd0aec5d",
         "x": [
          230,
          230,
          276.25,
          276.25
         ],
         "xaxis": "x",
         "y": [
          0.4318181818181818,
          0.6116504854368932,
          0.6116504854368932,
          0.5238095238095238
         ],
         "yaxis": "y"
        },
        {
         "hoverinfo": "text",
         "marker": {
          "color": "rgb(255,65,54)"
         },
         "mode": "lines",
         "text": [
          "cluster: 2, component: blk_001809_0873_m/z272.2582_RT9.6975",
          "cluster: 2, component: blk_001809_0873_m/z272.2582_RT9.6975",
          null,
          null
         ],
         "type": "scatter",
         "uid": "3c9f9d5a-0d88-465c-aca5-ab88c016c568",
         "x": [
          215,
          215,
          253.125,
          253.125
         ],
         "xaxis": "x",
         "y": [
          0,
          0.7011494252873564,
          0.7011494252873564,
          0.6116504854368932
         ],
         "yaxis": "y"
        },
        {
         "hoverinfo": "text",
         "marker": {
          "color": "rgb(255,65,54)"
         },
         "mode": "lines",
         "text": [
          null,
          null,
          null,
          null
         ],
         "type": "scatter",
         "uid": "e02a4123-f83e-4e49-a2c2-d8badd665e0e",
         "x": [
          68.26171875,
          68.26171875,
          234.0625,
          234.0625
         ],
         "xaxis": "x",
         "y": [
          0.6615384615384615,
          0.7699115044247787,
          0.7699115044247787,
          0.7011494252873564
         ],
         "yaxis": "y"
        },
        {
         "hoverinfo": "text",
         "marker": {
          "color": "rgb(0,116,217)"
         },
         "mode": "lines",
         "text": [
          null,
          null,
          null,
          null
         ],
         "type": "scatter",
         "uid": "9e53e56b-4d74-4069-a438-181194fee5bd",
         "x": [
          26.25,
          26.25,
          151.162109375,
          151.162109375
         ],
         "xaxis": "x",
         "y": [
          0.6344086021505376,
          0.84,
          0.84,
          0.7699115044247787
         ],
         "yaxis": "y"
        },
        {
         "hoverinfo": "text",
         "marker": {
          "color": "rgb(35,205,205)"
         },
         "mode": "lines",
         "text": [
          "cluster: 3, component: Chinese Spring 1_001829_7776_m/z601.4244_RT11.7714",
          "cluster: 3, component: Chinese Spring 1_001829_7776_m/z601.4244_RT11.7714",
          "cluster: 3, component: Chinese Spring 1_001829_8582_m/z599.4089_RT13.2111",
          "cluster: 3, component: Chinese Spring 1_001829_8582_m/z599.4089_RT13.2111"
         ],
         "type": "scatter",
         "uid": "b148e748-fcbb-451a-94af-60d4be9f8eae",
         "x": [
          345,
          345,
          355,
          355
         ],
         "xaxis": "x",
         "y": [
          0,
          0.45985401459854014,
          0.45985401459854014,
          0
         ],
         "yaxis": "y"
        },
        {
         "hoverinfo": "text",
         "marker": {
          "color": "rgb(35,205,205)"
         },
         "mode": "lines",
         "text": [
          "cluster: 3, component: Chinese Spring 1_001829_7448_m/z599.4093_RT11.0178",
          "cluster: 3, component: Chinese Spring 1_001829_7448_m/z599.4093_RT11.0178",
          null,
          null
         ],
         "type": "scatter",
         "uid": "fd7eedab-4fc1-420d-8e2d-0f7924200ff5",
         "x": [
          335,
          335,
          350,
          350
         ],
         "xaxis": "x",
         "y": [
          0,
          0.504950495049505,
          0.504950495049505,
          0.45985401459854014
         ],
         "yaxis": "y"
        },
        {
         "hoverinfo": "text",
         "marker": {
          "color": "rgb(35,205,205)"
         },
         "mode": "lines",
         "text": [
          "cluster: 3, component: Chinese Spring 1_001829_8106_m/z583.4143_RT12.1770",
          "cluster: 3, component: Chinese Spring 1_001829_8106_m/z583.4143_RT12.1770",
          null,
          null
         ],
         "type": "scatter",
         "uid": "fbc51196-6f29-49a8-a3f3-3f1b3c648e23",
         "x": [
          325,
          325,
          342.5,
          342.5
         ],
         "xaxis": "x",
         "y": [
          0,
          0.6101694915254238,
          0.6101694915254238,
          0.504950495049505
         ],
         "yaxis": "y"
        },
        {
         "hoverinfo": "text",
         "marker": {
          "color": "rgb(35,205,205)"
         },
         "mode": "lines",
         "text": [
          "cluster: 3, component: Chinese Spring 1_001829_7690_m/z618.4271_RT11.6644",
          "cluster: 3, component: Chinese Spring 1_001829_7690_m/z618.4271_RT11.6644",
          null,
          null
         ],
         "type": "scatter",
         "uid": "e6f22713-15e7-4c9b-b72c-f4ac9ec0367f",
         "x": [
          315,
          315,
          333.75,
          333.75
         ],
         "xaxis": "x",
         "y": [
          0,
          0.6666666666666666,
          0.6666666666666666,
          0.6101694915254238
         ],
         "yaxis": "y"
        },
        {
         "hoverinfo": "text",
         "marker": {
          "color": "rgb(133,20,75)"
         },
         "mode": "lines",
         "text": [
          "cluster: 4, component: Chinese Spring 1_001829_7361_m/z618.4278_RT10.7852",
          "cluster: 4, component: Chinese Spring 1_001829_7361_m/z618.4278_RT10.7852",
          "cluster: 4, component: Chinese Spring 1_001829_7576_m/z618.4271_RT11.3791",
          "cluster: 4, component: Chinese Spring 1_001829_7576_m/z618.4271_RT11.3791"
         ],
         "type": "scatter",
         "uid": "654c1d2b-e09a-475c-92a7-e0b2e80dd317",
         "x": [
          365,
          365,
          375,
          375
         ],
         "xaxis": "x",
         "y": [
          0,
          0.30997304582210244,
          0.30997304582210244,
          0
         ],
         "yaxis": "y"
        },
        {
         "hoverinfo": "text",
         "marker": {
          "color": "rgb(133,20,75)"
         },
         "mode": "lines",
         "text": [
          "cluster: 4, component: Chinese Spring 1_001829_7574_m/z583.4141_RT11.3791",
          "cluster: 4, component: Chinese Spring 1_001829_7574_m/z583.4141_RT11.3791",
          "cluster: 4, component: Chinese Spring 1_001829_7780_m/z583.4141_RT11.7758",
          "cluster: 4, component: Chinese Spring 1_001829_7780_m/z583.4141_RT11.7758"
         ],
         "type": "scatter",
         "uid": "7b557dea-1a36-4829-ae68-9c03df204983",
         "x": [
          405,
          405,
          415,
          415
         ],
         "xaxis": "x",
         "y": [
          0,
          0.35877862595419846,
          0.35877862595419846,
          0
         ],
         "yaxis": "y"
        },
        {
         "hoverinfo": "text",
         "marker": {
          "color": "rgb(133,20,75)"
         },
         "mode": "lines",
         "text": [
          "cluster: 4, component: Chinese Spring 1_001829_7954_m/z565.4037_RT12.0210",
          "cluster: 4, component: Chinese Spring 1_001829_7954_m/z565.4037_RT12.0210",
          null,
          null
         ],
         "type": "scatter",
         "uid": "dbb07fe6-2269-487b-bf88-dbb5ecd54861",
         "x": [
          395,
          395,
          410,
          410
         ],
         "xaxis": "x",
         "y": [
          0,
          0.4336283185840708,
          0.4336283185840708,
          0.35877862595419846
         ],
         "yaxis": "y"
        },
        {
         "hoverinfo": "text",
         "marker": {
          "color": "rgb(133,20,75)"
         },
         "mode": "lines",
         "text": [
          "cluster: 4, component: Chinese Spring 1_001829_7357_m/z583.4143_RT10.7852",
          "cluster: 4, component: Chinese Spring 1_001829_7357_m/z583.4143_RT10.7852",
          "cluster: 4, component: Chinese Spring 1_001829_8191_m/z583.4143_RT12.2617",
          "cluster: 4, component: Chinese Spring 1_001829_8191_m/z583.4143_RT12.2617"
         ],
         "type": "scatter",
         "uid": "c79b92a3-cf51-4047-893c-28050901a99f",
         "x": [
          435,
          435,
          445,
          445
         ],
         "xaxis": "x",
         "y": [
          0,
          0.3592233009708738,
          0.3592233009708738,
          0
         ],
         "yaxis": "y"
        },
        {
         "hoverinfo": "text",
         "marker": {
          "color": "rgb(133,20,75)"
         },
         "mode": "lines",
         "text": [
          "cluster: 4, component: Chinese Spring 1_001829_8525_m/z601.4234_RT13.0595",
          "cluster: 4, component: Chinese Spring 1_001829_8525_m/z601.4234_RT13.0595",
          null,
          null
         ],
         "type": "scatter",
         "uid": "76786036-3d0b-49f2-8dc9-9d2a1f635f87",
         "x": [
          425,
          425,
          440,
          440
         ],
         "xaxis": "x",
         "y": [
          0,
          0.5344827586206896,
          0.5344827586206896,
          0.3592233009708738
         ],
         "yaxis": "y"
        },
        {
         "hoverinfo": "text",
         "marker": {
          "color": "rgb(133,20,75)"
         },
         "mode": "lines",
         "text": [
          null,
          null,
          null,
          null
         ],
         "type": "scatter",
         "uid": "cebe3ade-4add-463b-bd94-aa5448bb6a7d",
         "x": [
          402.5,
          402.5,
          432.5,
          432.5
         ],
         "xaxis": "x",
         "y": [
          0.4336283185840708,
          0.5802469135802469,
          0.5802469135802469,
          0.5344827586206896
         ],
         "yaxis": "y"
        },
        {
         "hoverinfo": "text",
         "marker": {
          "color": "rgb(133,20,75)"
         },
         "mode": "lines",
         "text": [
          "cluster: 4, component: Chinese Spring 1_001829_8729_m/z568.4263_RT13.9732",
          "cluster: 4, component: Chinese Spring 1_001829_8729_m/z568.4263_RT13.9732",
          null,
          null
         ],
         "type": "scatter",
         "uid": "d4b18f38-2b66-47e9-abcc-9c8b30ce4008",
         "x": [
          385,
          385,
          417.5,
          417.5
         ],
         "xaxis": "x",
         "y": [
          0,
          0.618421052631579,
          0.618421052631579,
          0.5802469135802469
         ],
         "yaxis": "y"
        },
        {
         "hoverinfo": "text",
         "marker": {
          "color": "rgb(133,20,75)"
         },
         "mode": "lines",
         "text": [
          null,
          null,
          null,
          null
         ],
         "type": "scatter",
         "uid": "101aa428-98ed-4f05-89f6-142259577238",
         "x": [
          370,
          370,
          401.25,
          401.25
         ],
         "xaxis": "x",
         "y": [
          0.30997304582210244,
          0.6956521739130435,
          0.6956521739130435,
          0.618421052631579
         ],
         "yaxis": "y"
        },
        {
         "hoverinfo": "text",
         "marker": {
          "color": "rgb(0,116,217)"
         },
         "mode": "lines",
         "text": [
          null,
          null,
          null,
          null
         ],
         "type": "scatter",
         "uid": "2d342ec4-5f75-4069-aeca-4126c4285091",
         "x": [
          324.375,
          324.375,
          385.625,
          385.625
         ],
         "xaxis": "x",
         "y": [
          0.6666666666666666,
          0.8867924528301887,
          0.8867924528301887,
          0.6956521739130435
         ],
         "yaxis": "y"
        },
        {
         "hoverinfo": "text",
         "marker": {
          "color": "rgb(0,116,217)"
         },
         "mode": "lines",
         "text": [
          null,
          null,
          null,
          null
         ],
         "type": "scatter",
         "uid": "8dee4d04-9b8e-4388-bc11-778916a55b92",
         "x": [
          88.7060546875,
          88.7060546875,
          355,
          355
         ],
         "xaxis": "x",
         "y": [
          0.84,
          0.927710843373494,
          0.927710843373494,
          0.8867924528301887
         ],
         "yaxis": "y"
        },
        {
         "hoverinfo": "text",
         "marker": {
          "color": "rgb(255,220,0)"
         },
         "mode": "lines",
         "text": [
          "cluster: 5, component: Chinese Spring 1_001829_0928_m/z269.1605_RT1.0029",
          "cluster: 5, component: Chinese Spring 1_001829_0928_m/z269.1605_RT1.0029",
          "cluster: 5, component: Chinese Spring 1_001829_0989_m/z268.1037_RT1.0386",
          "cluster: 5, component: Chinese Spring 1_001829_0989_m/z268.1037_RT1.0386"
         ],
         "type": "scatter",
         "uid": "0056662c-4b9f-4802-b684-5ee0e29eec81",
         "x": [
          455,
          455,
          465,
          465
         ],
         "xaxis": "x",
         "y": [
          0,
          0.2692307692307692,
          0.2692307692307692,
          0
         ],
         "yaxis": "y"
        },
        {
         "hoverinfo": "text",
         "marker": {
          "color": "rgb(40,35,35)"
         },
         "mode": "lines",
         "text": [
          "cluster: 6, component: blk_001809_1552_m/z364.3418_RT11.7523",
          "cluster: 6, component: blk_001809_1552_m/z364.3418_RT11.7523",
          "cluster: 6, component: blk_001809_1616_m/z364.3418_RT11.8147",
          "cluster: 6, component: blk_001809_1616_m/z364.3418_RT11.8147"
         ],
         "type": "scatter",
         "uid": "93ad98ca-0cce-48f0-8938-bc0a531e9f56",
         "x": [
          475,
          475,
          485,
          485
         ],
         "xaxis": "x",
         "y": [
          0,
          0,
          0,
          0
         ],
         "yaxis": "y"
        },
        {
         "hoverinfo": "text",
         "marker": {
          "color": "rgb(40,35,35)"
         },
         "mode": "lines",
         "text": [
          "cluster: 6, component: blk_001809_1516_m/z408.3681_RT11.7389",
          "cluster: 6, component: blk_001809_1516_m/z408.3681_RT11.7389",
          "cluster: 6, component: blk_001809_1750_m/z466.4099_RT12.1446",
          "cluster: 6, component: blk_001809_1750_m/z466.4099_RT12.1446"
         ],
         "type": "scatter",
         "uid": "a70a367d-6a0d-48c4-8111-6974560e21f9",
         "x": [
          495,
          495,
          505,
          505
         ],
         "xaxis": "x",
         "y": [
          0,
          0.4166666666666667,
          0.4166666666666667,
          0
         ],
         "yaxis": "y"
        },
        {
         "hoverinfo": "text",
         "marker": {
          "color": "rgb(40,35,35)"
         },
         "mode": "lines",
         "text": [
          null,
          null,
          null,
          null
         ],
         "type": "scatter",
         "uid": "42961b66-e780-4226-bd9d-4fad867dfc43",
         "x": [
          480,
          480,
          500,
          500
         ],
         "xaxis": "x",
         "y": [
          0,
          0.5238095238095238,
          0.5238095238095238,
          0.4166666666666667
         ],
         "yaxis": "y"
        },
        {
         "hoverinfo": "text",
         "marker": {
          "color": "rgb(40,35,35)"
         },
         "mode": "lines",
         "text": [
          "cluster: 6, component: blk_001809_1999_m/z364.3424_RT12.5502",
          "cluster: 6, component: blk_001809_1999_m/z364.3424_RT12.5502",
          "cluster: 6, component: blk_001809_2060_m/z364.3424_RT12.6438",
          "cluster: 6, component: blk_001809_2060_m/z364.3424_RT12.6438"
         ],
         "type": "scatter",
         "uid": "eb21d15b-b01f-4d91-b1ac-f58716c6cf8e",
         "x": [
          535,
          535,
          545,
          545
         ],
         "xaxis": "x",
         "y": [
          0,
          0.2222222222222222,
          0.2222222222222222,
          0
         ],
         "yaxis": "y"
        },
        {
         "hoverinfo": "text",
         "marker": {
          "color": "rgb(40,35,35)"
         },
         "mode": "lines",
         "text": [
          "cluster: 6, component: blk_001809_1642_m/z424.3632_RT11.9261",
          "cluster: 6, component: blk_001809_1642_m/z424.3632_RT11.9261",
          "cluster: 6, component: blk_001809_1747_m/z421.3521_RT12.1446",
          "cluster: 6, component: blk_001809_1747_m/z421.3521_RT12.1446"
         ],
         "type": "scatter",
         "uid": "e317b290-78f8-430e-82f3-ce3867bbf4ef",
         "x": [
          555,
          555,
          565,
          565
         ],
         "xaxis": "x",
         "y": [
          0,
          0.2413793103448276,
          0.2413793103448276,
          0
         ],
         "yaxis": "y"
        },
        {
         "hoverinfo": "text",
         "marker": {
          "color": "rgb(40,35,35)"
         },
         "mode": "lines",
         "text": [
          null,
          null,
          null,
          null
         ],
         "type": "scatter",
         "uid": "4f1faab8-1297-46a6-b1d1-052d8c369ce8",
         "x": [
          540,
          540,
          560,
          560
         ],
         "xaxis": "x",
         "y": [
          0.2222222222222222,
          0.44,
          0.44,
          0.2413793103448276
         ],
         "yaxis": "y"
        },
        {
         "hoverinfo": "text",
         "marker": {
          "color": "rgb(40,35,35)"
         },
         "mode": "lines",
         "text": [
          "cluster: 6, component: blk_001809_1903_m/z482.4048_RT12.3318",
          "cluster: 6, component: blk_001809_1903_m/z482.4048_RT12.3318",
          null,
          null
         ],
         "type": "scatter",
         "uid": "8fdd724c-f8b8-4888-bf3b-526f32951838",
         "x": [
          525,
          525,
          550,
          550
         ],
         "xaxis": "x",
         "y": [
          0,
          0.5428571428571428,
          0.5428571428571428,
          0.44
         ],
         "yaxis": "y"
        },
        {
         "hoverinfo": "text",
         "marker": {
          "color": "rgb(40,35,35)"
         },
         "mode": "lines",
         "text": [
          "cluster: 6, component: blk_001809_1657_m/z408.3681_RT11.9395",
          "cluster: 6, component: blk_001809_1657_m/z408.3681_RT11.9395",
          null,
          null
         ],
         "type": "scatter",
         "uid": "65ffbbb9-c4cb-494c-bbf2-f33c51c077f5",
         "x": [
          515,
          515,
          537.5,
          537.5
         ],
         "xaxis": "x",
         "y": [
          0,
          0.5757575757575758,
          0.5757575757575758,
          0.5428571428571428
         ],
         "yaxis": "y"
        },
        {
         "hoverinfo": "text",
         "marker": {
          "color": "rgb(40,35,35)"
         },
         "mode": "lines",
         "text": [
          null,
          null,
          null,
          null
         ],
         "type": "scatter",
         "uid": "ab37b89c-df51-4724-8af7-a96562d4f413",
         "x": [
          490,
          490,
          526.25,
          526.25
         ],
         "xaxis": "x",
         "y": [
          0.5238095238095238,
          0.7222222222222222,
          0.7222222222222222,
          0.5757575757575758
         ],
         "yaxis": "y"
        },
        {
         "hoverinfo": "text",
         "marker": {
          "color": "rgb(0,116,217)"
         },
         "mode": "lines",
         "text": [
          null,
          null,
          null,
          null
         ],
         "type": "scatter",
         "uid": "22baccee-b462-40df-9f9f-38bb4eb8a8bc",
         "x": [
          460,
          460,
          508.125,
          508.125
         ],
         "xaxis": "x",
         "y": [
          0.2692307692307692,
          0.9636363636363636,
          0.9636363636363636,
          0.7222222222222222
         ],
         "yaxis": "y"
        },
        {
         "hoverinfo": "text",
         "marker": {
          "color": "rgb(61,153,112)"
         },
         "mode": "lines",
         "text": [
          "cluster: 7, component: Chinese Spring 1_001829_6626_m/z320.2946_RT9.3934",
          "cluster: 7, component: Chinese Spring 1_001829_6626_m/z320.2946_RT9.3934",
          "cluster: 7, component: Chinese Spring 1_001829_6684_m/z320.2946_RT9.6341",
          "cluster: 7, component: Chinese Spring 1_001829_6684_m/z320.2946_RT9.6341"
         ],
         "type": "scatter",
         "uid": "76f75350-c820-49fd-a0c4-84da303082c8",
         "x": [
          595,
          595,
          605,
          605
         ],
         "xaxis": "x",
         "y": [
          0,
          0.21951219512195122,
          0.21951219512195122,
          0
         ],
         "yaxis": "y"
        },
        {
         "hoverinfo": "text",
         "marker": {
          "color": "rgb(61,153,112)"
         },
         "mode": "lines",
         "text": [
          "cluster: 7, component: Chinese Spring 1_001829_7338_m/z338.2607_RT10.7228",
          "cluster: 7, component: Chinese Spring 1_001829_7338_m/z338.2607_RT10.7228",
          null,
          null
         ],
         "type": "scatter",
         "uid": "eeeeaee7-936d-49f1-8265-2835ac492a54",
         "x": [
          585,
          585,
          600,
          600
         ],
         "xaxis": "x",
         "y": [
          0,
          0.4444444444444444,
          0.4444444444444444,
          0.21951219512195122
         ],
         "yaxis": "y"
        },
        {
         "hoverinfo": "text",
         "marker": {
          "color": "rgb(61,153,112)"
         },
         "mode": "lines",
         "text": [
          "cluster: 7, component: Chinese Spring 1_001829_7380_m/z483.2713_RT10.8387",
          "cluster: 7, component: Chinese Spring 1_001829_7380_m/z483.2713_RT10.8387",
          null,
          null
         ],
         "type": "scatter",
         "uid": "d15f5a5a-c503-4b01-8473-923084a6f93a",
         "x": [
          575,
          575,
          592.5,
          592.5
         ],
         "xaxis": "x",
         "y": [
          0,
          0.76,
          0.76,
          0.4444444444444444
         ],
         "yaxis": "y"
        },
        {
         "hoverinfo": "text",
         "marker": {
          "color": "rgb(255,65,54)"
         },
         "mode": "lines",
         "text": [
          "cluster: 8, component: Chinese Spring 1_001829_4681_m/z129.1273_RT5.8086",
          "cluster: 8, component: Chinese Spring 1_001829_4681_m/z129.1273_RT5.8086",
          "cluster: 8, component: Chinese Spring 1_001829_5571_m/z171.1490_RT6.9999",
          "cluster: 8, component: Chinese Spring 1_001829_5571_m/z171.1490_RT6.9999"
         ],
         "type": "scatter",
         "uid": "91a3438d-b4f5-4606-b9af-5010e9ac3b37",
         "x": [
          615,
          615,
          625,
          625
         ],
         "xaxis": "x",
         "y": [
          0,
          0.7647058823529411,
          0.7647058823529411,
          0
         ],
         "yaxis": "y"
        },
        {
         "hoverinfo": "text",
         "marker": {
          "color": "rgb(0,116,217)"
         },
         "mode": "lines",
         "text": [
          null,
          null,
          null,
          null
         ],
         "type": "scatter",
         "uid": "ce4bf309-97e1-4944-8791-8d5aa5810e25",
         "x": [
          583.75,
          583.75,
          620,
          620
         ],
         "xaxis": "x",
         "y": [
          0.76,
          0.8235294117647058,
          0.8235294117647058,
          0.7647058823529411
         ],
         "yaxis": "y"
        },
        {
         "hoverinfo": "text",
         "marker": {
          "color": "rgb(35,205,205)"
         },
         "mode": "lines",
         "text": [
          "cluster: 9, component: Chinese Spring 3_001858_5649_m/z201.1636_RT7.2384",
          "cluster: 9, component: Chinese Spring 3_001858_5649_m/z201.1636_RT7.2384",
          "cluster: 9, component: Cobra 1_001832_5681_m/z201.1636_RT7.3651",
          "cluster: 9, component: Cobra 1_001832_5681_m/z201.1636_RT7.3651"
         ],
         "type": "scatter",
         "uid": "674e90c5-6a85-482e-888a-65767f657a22",
         "x": [
          635,
          635,
          645,
          645
         ],
         "xaxis": "x",
         "y": [
          0,
          0.31868131868131866,
          0.31868131868131866,
          0
         ],
         "yaxis": "y"
        },
        {
         "hoverinfo": "text",
         "marker": {
          "color": "rgb(35,205,205)"
         },
         "mode": "lines",
         "text": [
          "cluster: 9, component: Chinese Spring 1_001829_3874_m/z209.1534_RT5.1891",
          "cluster: 9, component: Chinese Spring 1_001829_3874_m/z209.1534_RT5.1891",
          "cluster: 9, component: Chinese Spring 1_001829_3976_m/z209.1534_RT5.2738",
          "cluster: 9, component: Chinese Spring 1_001829_3976_m/z209.1534_RT5.2738"
         ],
         "type": "scatter",
         "uid": "b58e6266-39a9-4f6b-ba9c-3b470016d23b",
         "x": [
          675,
          675,
          685,
          685
         ],
         "xaxis": "x",
         "y": [
          0,
          0.17073170731707318,
          0.17073170731707318,
          0
         ],
         "yaxis": "y"
        },
        {
         "hoverinfo": "text",
         "marker": {
          "color": "rgb(35,205,205)"
         },
         "mode": "lines",
         "text": [
          "cluster: 9, component: Chinese Spring 1_001829_3534_m/z209.1534_RT4.9214",
          "cluster: 9, component: Chinese Spring 1_001829_3534_m/z209.1534_RT4.9214",
          null,
          null
         ],
         "type": "scatter",
         "uid": "954c263c-2467-4dce-a022-a04d2a3632a8",
         "x": [
          665,
          665,
          680,
          680
         ],
         "xaxis": "x",
         "y": [
          0,
          0.23728813559322035,
          0.23728813559322035,
          0.17073170731707318
         ],
         "yaxis": "y"
        },
        {
         "hoverinfo": "text",
         "marker": {
          "color": "rgb(35,205,205)"
         },
         "mode": "lines",
         "text": [
          "cluster: 9, component: Chinese Spring 1_001829_6034_m/z209.1534_RT7.9760",
          "cluster: 9, component: Chinese Spring 1_001829_6034_m/z209.1534_RT7.9760",
          null,
          null
         ],
         "type": "scatter",
         "uid": "a5535770-0e83-4b97-90cf-464128f2fc74",
         "x": [
          655,
          655,
          672.5,
          672.5
         ],
         "xaxis": "x",
         "y": [
          0,
          0.288135593220339,
          0.288135593220339,
          0.23728813559322035
         ],
         "yaxis": "y"
        },
        {
         "hoverinfo": "text",
         "marker": {
          "color": "rgb(35,205,205)"
         },
         "mode": "lines",
         "text": [
          "cluster: 9, component: Chinese Spring 1_001829_6121_m/z281.1745_RT8.1944",
          "cluster: 9, component: Chinese Spring 1_001829_6121_m/z281.1745_RT8.1944",
          "cluster: 9, component: blk_001809_0513_m/z243.1589_RT8.8417",
          "cluster: 9, component: blk_001809_0513_m/z243.1589_RT8.8417"
         ],
         "type": "scatter",
         "uid": "84d81b45-596a-4b0c-bc34-d05345a512a2",
         "x": [
          695,
          695,
          705,
          705
         ],
         "xaxis": "x",
         "y": [
          0,
          0.21904761904761905,
          0.21904761904761905,
          0
         ],
         "yaxis": "y"
        },
        {
         "hoverinfo": "text",
         "marker": {
          "color": "rgb(35,205,205)"
         },
         "mode": "lines",
         "text": [
          "cluster: 9, component: Chinese Spring 1_001829_4627_m/z227.1640_RT5.7507",
          "cluster: 9, component: Chinese Spring 1_001829_4627_m/z227.1640_RT5.7507",
          "cluster: 9, component: blk_001809_0743_m/z283.1902_RT9.4033",
          "cluster: 9, component: blk_001809_0743_m/z283.1902_RT9.4033"
         ],
         "type": "scatter",
         "uid": "ab0687cd-cffc-4699-affe-62f4fb6bcab9",
         "x": [
          725,
          725,
          735,
          735
         ],
         "xaxis": "x",
         "y": [
          0,
          0.3088235294117647,
          0.3088235294117647,
          0
         ],
         "yaxis": "y"
        },
        {
         "hoverinfo": "text",
         "marker": {
          "color": "rgb(35,205,205)"
         },
         "mode": "lines",
         "text": [
          "cluster: 9, component: Chinese Spring 1_001829_6701_m/z293.2106_RT9.6921",
          "cluster: 9, component: Chinese Spring 1_001829_6701_m/z293.2106_RT9.6921",
          null,
          null
         ],
         "type": "scatter",
         "uid": "f5db691b-8082-4c51-b151-5dd6aaa10583",
         "x": [
          715,
          715,
          730,
          730
         ],
         "xaxis": "x",
         "y": [
          0,
          0.375,
          0.375,
          0.3088235294117647
         ],
         "yaxis": "y"
        },
        {
         "hoverinfo": "text",
         "marker": {
          "color": "rgb(35,205,205)"
         },
         "mode": "lines",
         "text": [
          null,
          null,
          null,
          null
         ],
         "type": "scatter",
         "uid": "492d064f-76af-412c-9396-0f2d818f6f14",
         "x": [
          700,
          700,
          722.5,
          722.5
         ],
         "xaxis": "x",
         "y": [
          0.21904761904761905,
          0.42857142857142855,
          0.42857142857142855,
          0.375
         ],
         "yaxis": "y"
        },
        {
         "hoverinfo": "text",
         "marker": {
          "color": "rgb(35,205,205)"
         },
         "mode": "lines",
         "text": [
          null,
          null,
          null,
          null
         ],
         "type": "scatter",
         "uid": "4ddd238b-3a2f-49ae-a041-572281216eeb",
         "x": [
          663.75,
          663.75,
          711.25,
          711.25
         ],
         "xaxis": "x",
         "y": [
          0.288135593220339,
          0.48091603053435117,
          0.48091603053435117,
          0.42857142857142855
         ],
         "yaxis": "y"
        },
        {
         "hoverinfo": "text",
         "marker": {
          "color": "rgb(35,205,205)"
         },
         "mode": "lines",
         "text": [
          "cluster: 9, component: Chinese Spring 1_001829_3487_m/z227.1275_RT4.8769",
          "cluster: 9, component: Chinese Spring 1_001829_3487_m/z227.1275_RT4.8769",
          "cluster: 9, component: Chinese Spring 1_001829_3537_m/z227.1276_RT4.9214",
          "cluster: 9, component: Chinese Spring 1_001829_3537_m/z227.1276_RT4.9214"
         ],
         "type": "scatter",
         "uid": "f4212df1-659f-406b-b95b-2203ab3eb18d",
         "x": [
          755,
          755,
          765,
          765
         ],
         "xaxis": "x",
         "y": [
          0,
          0.20353982300884957,
          0.20353982300884957,
          0
         ],
         "yaxis": "y"
        },
        {
         "hoverinfo": "text",
         "marker": {
          "color": "rgb(35,205,205)"
         },
         "mode": "lines",
         "text": [
          "cluster: 9, component: Chinese Spring 1_001829_3576_m/z207.1378_RT4.9437",
          "cluster: 9, component: Chinese Spring 1_001829_3576_m/z207.1378_RT4.9437",
          null,
          null
         ],
         "type": "scatter",
         "uid": "7f7a8b85-55d3-4f6f-8fd3-f71bf8a7e4c5",
         "x": [
          745,
          745,
          760,
          760
         ],
         "xaxis": "x",
         "y": [
          0,
          0.504950495049505,
          0.504950495049505,
          0.20353982300884957
         ],
         "yaxis": "y"
        },
        {
         "hoverinfo": "text",
         "marker": {
          "color": "rgb(35,205,205)"
         },
         "mode": "lines",
         "text": [
          null,
          null,
          null,
          null
         ],
         "type": "scatter",
         "uid": "46da2596-eedc-404e-99b4-299d56b6d65b",
         "x": [
          687.5,
          687.5,
          752.5,
          752.5
         ],
         "xaxis": "x",
         "y": [
          0.48091603053435117,
          0.5454545454545454,
          0.5454545454545454,
          0.504950495049505
         ],
         "yaxis": "y"
        },
        {
         "hoverinfo": "text",
         "marker": {
          "color": "rgb(35,205,205)"
         },
         "mode": "lines",
         "text": [
          "cluster: 9, component: Chinese Spring 1_001829_8442_m/z181.1221_RT12.7876",
          "cluster: 9, component: Chinese Spring 1_001829_8442_m/z181.1221_RT12.7876",
          "cluster: 9, component: Chinese Spring 2_001850_7898_m/z181.1221_RT13.1904",
          "cluster: 9, component: Chinese Spring 2_001850_7898_m/z181.1221_RT13.1904"
         ],
         "type": "scatter",
         "uid": "710cd425-d215-4400-afa9-faf9860fa28b",
         "x": [
          775,
          775,
          785,
          785
         ],
         "xaxis": "x",
         "y": [
          0,
          0.16666666666666666,
          0.16666666666666666,
          0
         ],
         "yaxis": "y"
        },
        {
         "hoverinfo": "text",
         "marker": {
          "color": "rgb(35,205,205)"
         },
         "mode": "lines",
         "text": [
          "cluster: 9, component: Chinese Spring 1_001829_5697_m/z211.1691_RT7.3342",
          "cluster: 9, component: Chinese Spring 1_001829_5697_m/z211.1691_RT7.3342",
          "cluster: 9, component: Chinese Spring 1_001829_5778_m/z211.1691_RT7.5080",
          "cluster: 9, component: Chinese Spring 1_001829_5778_m/z211.1691_RT7.5080"
         ],
         "type": "scatter",
         "uid": "797d0267-c91d-4ca8-ba64-9ced7726ce15",
         "x": [
          815,
          815,
          825,
          825
         ],
         "xaxis": "x",
         "y": [
          0,
          0.10638297872340426,
          0.10638297872340426,
          0
         ],
         "yaxis": "y"
        },
        {
         "hoverinfo": "text",
         "marker": {
          "color": "rgb(35,205,205)"
         },
         "mode": "lines",
         "text": [
          "cluster: 9, component: Chinese Spring 1_001829_5452_m/z209.0807_RT6.7499",
          "cluster: 9, component: Chinese Spring 1_001829_5452_m/z209.0807_RT6.7499",
          null,
          null
         ],
         "type": "scatter",
         "uid": "4b7b009e-d2e3-4b4b-b72c-b8b96b8cbad6",
         "x": [
          805,
          805,
          820,
          820
         ],
         "xaxis": "x",
         "y": [
          0,
          0.11827956989247312,
          0.11827956989247312,
          0.10638297872340426
         ],
         "yaxis": "y"
        },
        {
         "hoverinfo": "text",
         "marker": {
          "color": "rgb(35,205,205)"
         },
         "mode": "lines",
         "text": [
          "cluster: 9, component: Chinese Spring 1_001829_5465_m/z211.1690_RT6.7722",
          "cluster: 9, component: Chinese Spring 1_001829_5465_m/z211.1690_RT6.7722",
          null,
          null
         ],
         "type": "scatter",
         "uid": "6b74ada8-24fb-447b-9bac-474ac18bf22d",
         "x": [
          795,
          795,
          812.5,
          812.5
         ],
         "xaxis": "x",
         "y": [
          0,
          0.17647058823529413,
          0.17647058823529413,
          0.11827956989247312
         ],
         "yaxis": "y"
        },
        {
         "hoverinfo": "text",
         "marker": {
          "color": "rgb(35,205,205)"
         },
         "mode": "lines",
         "text": [
          "cluster: 9, component: Chinese Spring 1_001829_6053_m/z215.1640_RT8.0384",
          "cluster: 9, component: Chinese Spring 1_001829_6053_m/z215.1640_RT8.0384",
          "cluster: 9, component: blk_001809_0654_m/z215.1640_RT9.1582",
          "cluster: 9, component: blk_001809_0654_m/z215.1640_RT9.1582"
         ],
         "type": "scatter",
         "uid": "7c1cb627-0464-440f-8d80-b4ec43ec7317",
         "x": [
          835,
          835,
          845,
          845
         ],
         "xaxis": "x",
         "y": [
          0,
          0.3220338983050847,
          0.3220338983050847,
          0
         ],
         "yaxis": "y"
        },
        {
         "hoverinfo": "text",
         "marker": {
          "color": "rgb(35,205,205)"
         },
         "mode": "lines",
         "text": [
          null,
          null,
          null,
          null
         ],
         "type": "scatter",
         "uid": "6f922294-901d-4858-834e-7afc17470fe2",
         "x": [
          803.75,
          803.75,
          840,
          840
         ],
         "xaxis": "x",
         "y": [
          0.17647058823529413,
          0.41025641025641024,
          0.41025641025641024,
          0.3220338983050847
         ],
         "yaxis": "y"
        },
        {
         "hoverinfo": "text",
         "marker": {
          "color": "rgb(35,205,205)"
         },
         "mode": "lines",
         "text": [
          null,
          null,
          null,
          null
         ],
         "type": "scatter",
         "uid": "04259412-f526-4b54-bd75-1e961d446d69",
         "x": [
          780,
          780,
          821.875,
          821.875
         ],
         "xaxis": "x",
         "y": [
          0.16666666666666666,
          0.5932203389830508,
          0.5932203389830508,
          0.41025641025641024
         ],
         "yaxis": "y"
        },
        {
         "hoverinfo": "text",
         "marker": {
          "color": "rgb(35,205,205)"
         },
         "mode": "lines",
         "text": [
          null,
          null,
          null,
          null
         ],
         "type": "scatter",
         "uid": "3e9fada9-62c4-45e3-aaef-b403d973d151",
         "x": [
          720,
          720,
          800.9375,
          800.9375
         ],
         "xaxis": "x",
         "y": [
          0.5454545454545454,
          0.6170212765957447,
          0.6170212765957447,
          0.5932203389830508
         ],
         "yaxis": "y"
        },
        {
         "hoverinfo": "text",
         "marker": {
          "color": "rgb(35,205,205)"
         },
         "mode": "lines",
         "text": [
          "cluster: 9, component: Chinese Spring 2_001850_6060_m/z219.1741_RT8.6023",
          "cluster: 9, component: Chinese Spring 2_001850_6060_m/z219.1741_RT8.6023",
          "cluster: 9, component: Chinese Spring 2_001850_6092_m/z219.1742_RT8.6424",
          "cluster: 9, component: Chinese Spring 2_001850_6092_m/z219.1742_RT8.6424"
         ],
         "type": "scatter",
         "uid": "b476feb6-60df-4b37-8654-832f8f6aa29c",
         "x": [
          865,
          865,
          875,
          875
         ],
         "xaxis": "x",
         "y": [
          0,
          0.14285714285714285,
          0.14285714285714285,
          0
         ],
         "yaxis": "y"
        },
        {
         "hoverinfo": "text",
         "marker": {
          "color": "rgb(35,205,205)"
         },
         "mode": "lines",
         "text": [
          "cluster: 9, component: Chinese Spring 1_001829_5806_m/z219.1741_RT7.5303",
          "cluster: 9, component: Chinese Spring 1_001829_5806_m/z219.1741_RT7.5303",
          "cluster: 9, component: Cobra 1_001832_5682_m/z219.1741_RT7.3651",
          "cluster: 9, component: Cobra 1_001832_5682_m/z219.1741_RT7.3651"
         ],
         "type": "scatter",
         "uid": "0198442b-d1ad-413d-a816-c9a07e4d77eb",
         "x": [
          895,
          895,
          905,
          905
         ],
         "xaxis": "x",
         "y": [
          0,
          0.18518518518518517,
          0.18518518518518517,
          0
         ],
         "yaxis": "y"
        },
        {
         "hoverinfo": "text",
         "marker": {
          "color": "rgb(35,205,205)"
         },
         "mode": "lines",
         "text": [
          "cluster: 9, component: Chinese Spring 1_001829_6166_m/z219.1741_RT8.3371",
          "cluster: 9, component: Chinese Spring 1_001829_6166_m/z219.1741_RT8.3371",
          null,
          null
         ],
         "type": "scatter",
         "uid": "3c64ad03-f683-4e91-aff8-ad59d3bd9e59",
         "x": [
          885,
          885,
          900,
          900
         ],
         "xaxis": "x",
         "y": [
          0,
          0.2558139534883721,
          0.2558139534883721,
          0.18518518518518517
         ],
         "yaxis": "y"
        },
        {
         "hoverinfo": "text",
         "marker": {
          "color": "rgb(35,205,205)"
         },
         "mode": "lines",
         "text": [
          null,
          null,
          null,
          null
         ],
         "type": "scatter",
         "uid": "44dc0892-c31a-49ae-86a9-43f284775208",
         "x": [
          870,
          870,
          892.5,
          892.5
         ],
         "xaxis": "x",
         "y": [
          0.14285714285714285,
          0.2972972972972973,
          0.2972972972972973,
          0.2558139534883721
         ],
         "yaxis": "y"
        },
        {
         "hoverinfo": "text",
         "marker": {
          "color": "rgb(35,205,205)"
         },
         "mode": "lines",
         "text": [
          "cluster: 9, component: Chinese Spring 1_001829_3978_m/z191.1429_RT5.2782",
          "cluster: 9, component: Chinese Spring 1_001829_3978_m/z191.1429_RT5.2782",
          "cluster: 9, component: Chinese Spring 1_001829_5431_m/z191.1429_RT6.7410",
          "cluster: 9, component: Chinese Spring 1_001829_5431_m/z191.1429_RT6.7410"
         ],
         "type": "scatter",
         "uid": "844b04d2-e1cf-4442-8d0d-83f60990d171",
         "x": [
          925,
          925,
          935,
          935
         ],
         "xaxis": "x",
         "y": [
          0,
          0.27472527472527475,
          0.27472527472527475,
          0
         ],
         "yaxis": "y"
        },
        {
         "hoverinfo": "text",
         "marker": {
          "color": "rgb(35,205,205)"
         },
         "mode": "lines",
         "text": [
          "cluster: 9, component: Chinese Spring 1_001829_5301_m/z191.1428_RT6.5359",
          "cluster: 9, component: Chinese Spring 1_001829_5301_m/z191.1428_RT6.5359",
          null,
          null
         ],
         "type": "scatter",
         "uid": "44b822cf-63d2-479e-8cd3-3eb16727277e",
         "x": [
          915,
          915,
          930,
          930
         ],
         "xaxis": "x",
         "y": [
          0,
          0.3333333333333333,
          0.3333333333333333,
          0.27472527472527475
         ],
         "yaxis": "y"
        },
        {
         "hoverinfo": "text",
         "marker": {
          "color": "rgb(35,205,205)"
         },
         "mode": "lines",
         "text": [
          null,
          null,
          null,
          null
         ],
         "type": "scatter",
         "uid": "096893e2-84ab-4468-94b6-0d3db936c301",
         "x": [
          881.25,
          881.25,
          922.5,
          922.5
         ],
         "xaxis": "x",
         "y": [
          0.2972972972972973,
          0.5151515151515151,
          0.5151515151515151,
          0.3333333333333333
         ],
         "yaxis": "y"
        },
        {
         "hoverinfo": "text",
         "marker": {
          "color": "rgb(35,205,205)"
         },
         "mode": "lines",
         "text": [
          "cluster: 9, component: Chinese Spring 2_001850_5547_m/z137.0960_RT7.4167",
          "cluster: 9, component: Chinese Spring 2_001850_5547_m/z137.0960_RT7.4167",
          null,
          null
         ],
         "type": "scatter",
         "uid": "9410c2c7-8ff7-46cf-869e-2ab8cdf932c7",
         "x": [
          855,
          855,
          901.875,
          901.875
         ],
         "xaxis": "x",
         "y": [
          0,
          0.6428571428571429,
          0.6428571428571429,
          0.5151515151515151
         ],
         "yaxis": "y"
        },
        {
         "hoverinfo": "text",
         "marker": {
          "color": "rgb(35,205,205)"
         },
         "mode": "lines",
         "text": [
          null,
          null,
          null,
          null
         ],
         "type": "scatter",
         "uid": "b9e0fb43-0738-4206-900d-fed3daecf988",
         "x": [
          760.46875,
          760.46875,
          878.4375,
          878.4375
         ],
         "xaxis": "x",
         "y": [
          0.6170212765957447,
          0.6907216494845361,
          0.6907216494845361,
          0.6428571428571429
         ],
         "yaxis": "y"
        },
        {
         "hoverinfo": "text",
         "marker": {
          "color": "rgb(35,205,205)"
         },
         "mode": "lines",
         "text": [
          null,
          null,
          null,
          null
         ],
         "type": "scatter",
         "uid": "1aa41e33-f5cd-4702-8947-a55750c71dd9",
         "x": [
          640,
          640,
          819.453125,
          819.453125
         ],
         "xaxis": "x",
         "y": [
          0.31868131868131866,
          0.7272727272727273,
          0.7272727272727273,
          0.6907216494845361
         ],
         "yaxis": "y"
        },
        {
         "hoverinfo": "text",
         "marker": {
          "color": "rgb(133,20,75)"
         },
         "mode": "lines",
         "text": [
          "cluster: 10, component: Chinese Spring 1_001829_4949_m/z209.0807_RT6.0494",
          "cluster: 10, component: Chinese Spring 1_001829_4949_m/z209.0807_RT6.0494",
          "cluster: 10, component: Chinese Spring 1_001829_6612_m/z207.1378_RT9.3355",
          "cluster: 10, component: Chinese Spring 1_001829_6612_m/z207.1378_RT9.3355"
         ],
         "type": "scatter",
         "uid": "02f8c9e5-6955-4c27-8a40-a629c68334aa",
         "x": [
          945,
          945,
          955,
          955
         ],
         "xaxis": "x",
         "y": [
          0,
          0.7477477477477478,
          0.7477477477477478,
          0
         ],
         "yaxis": "y"
        },
        {
         "hoverinfo": "text",
         "marker": {
          "color": "rgb(0,116,217)"
         },
         "mode": "lines",
         "text": [
          null,
          null,
          null,
          null
         ],
         "type": "scatter",
         "uid": "23ed1a03-7f8a-4ddf-8110-2bcc5bf86faf",
         "x": [
          729.7265625,
          729.7265625,
          950,
          950
         ],
         "xaxis": "x",
         "y": [
          0.7272727272727273,
          0.8409090909090909,
          0.8409090909090909,
          0.7477477477477478
         ],
         "yaxis": "y"
        },
        {
         "hoverinfo": "text",
         "marker": {
          "color": "rgb(0,116,217)"
         },
         "mode": "lines",
         "text": [
          null,
          null,
          null,
          null
         ],
         "type": "scatter",
         "uid": "1d826792-2e3b-4b93-b6b9-552c78d78694",
         "x": [
          601.875,
          601.875,
          839.86328125,
          839.86328125
         ],
         "xaxis": "x",
         "y": [
          0.8235294117647058,
          0.9767441860465116,
          0.9767441860465116,
          0.8409090909090909
         ],
         "yaxis": "y"
        },
        {
         "hoverinfo": "text",
         "marker": {
          "color": "rgb(255,220,0)"
         },
         "mode": "lines",
         "text": [
          "cluster: 11, component: Chinese Spring 1_001829_3815_m/z177.0545_RT5.1175",
          "cluster: 11, component: Chinese Spring 1_001829_3815_m/z177.0545_RT5.1175",
          "cluster: 11, component: Espada 3_001867_2046_m/z177.0545_RT3.9185",
          "cluster: 11, component: Espada 3_001867_2046_m/z177.0545_RT3.9185"
         ],
         "type": "scatter",
         "uid": "7456adda-ab57-4bb1-928f-2705ecba0364",
         "x": [
          985,
          985,
          995,
          995
         ],
         "xaxis": "x",
         "y": [
          0,
          0.21212121212121213,
          0.21212121212121213,
          0
         ],
         "yaxis": "y"
        },
        {
         "hoverinfo": "text",
         "marker": {
          "color": "rgb(255,220,0)"
         },
         "mode": "lines",
         "text": [
          "cluster: 11, component: Chinese Spring 1_001829_2250_m/z177.0544_RT3.6957",
          "cluster: 11, component: Chinese Spring 1_001829_2250_m/z177.0544_RT3.6957",
          null,
          null
         ],
         "type": "scatter",
         "uid": "9d97e0b3-b03d-4b45-a0f9-e2788c602e65",
         "x": [
          975,
          975,
          990,
          990
         ],
         "xaxis": "x",
         "y": [
          0,
          0.24324324324324326,
          0.24324324324324326,
          0.21212121212121213
         ],
         "yaxis": "y"
        },
        {
         "hoverinfo": "text",
         "marker": {
          "color": "rgb(255,220,0)"
         },
         "mode": "lines",
         "text": [
          "cluster: 11, component: Chinese Spring 1_001829_3575_m/z199.9878_RT4.9437",
          "cluster: 11, component: Chinese Spring 1_001829_3575_m/z199.9878_RT4.9437",
          "cluster: 11, component: Chinese Spring 3_001858_3785_m/z199.9877_RT5.0667",
          "cluster: 11, component: Chinese Spring 3_001858_3785_m/z199.9877_RT5.0667"
         ],
         "type": "scatter",
         "uid": "db7e5ccb-cc2d-4e27-8188-8adbf8963468",
         "x": [
          1005,
          1005,
          1015,
          1015
         ],
         "xaxis": "x",
         "y": [
          0,
          0.20588235294117646,
          0.20588235294117646,
          0
         ],
         "yaxis": "y"
        },
        {
         "hoverinfo": "text",
         "marker": {
          "color": "rgb(255,220,0)"
         },
         "mode": "lines",
         "text": [
          "cluster: 11, component: Chinese Spring 1_001829_0008_m/z199.9878_RT0.5260",
          "cluster: 11, component: Chinese Spring 1_001829_0008_m/z199.9878_RT0.5260",
          "cluster: 11, component: Chinese Spring 1_001829_3401_m/z199.9878_RT4.8234",
          "cluster: 11, component: Chinese Spring 1_001829_3401_m/z199.9878_RT4.8234"
         ],
         "type": "scatter",
         "uid": "28f1c9e7-85fd-4481-ac67-51617a84a2d1",
         "x": [
          1025,
          1025,
          1035,
          1035
         ],
         "xaxis": "x",
         "y": [
          0,
          0.17647058823529413,
          0.17647058823529413,
          0
         ],
         "yaxis": "y"
        },
        {
         "hoverinfo": "text",
         "marker": {
          "color": "rgb(255,220,0)"
         },
         "mode": "lines",
         "text": [
          "cluster: 11, component: Chinese Spring 1_001829_4213_m/z199.9877_RT5.4298",
          "cluster: 11, component: Chinese Spring 1_001829_4213_m/z199.9877_RT5.4298",
          "cluster: 11, component: Chinese Spring 2_001850_3871_m/z199.9878_RT5.2900",
          "cluster: 11, component: Chinese Spring 2_001850_3871_m/z199.9878_RT5.2900"
         ],
         "type": "scatter",
         "uid": "4f6ceda6-feee-4959-a60d-c97f08796fb1",
         "x": [
          1045,
          1045,
          1055,
          1055
         ],
         "xaxis": "x",
         "y": [
          0,
          0.1,
          0.1,
          0
         ],
         "yaxis": "y"
        },
        {
         "hoverinfo": "text",
         "marker": {
          "color": "rgb(255,220,0)"
         },
         "mode": "lines",
         "text": [
          "cluster: 11, component: Chinese Spring 2_001850_4313_m/z199.9878_RT5.5708",
          "cluster: 11, component: Chinese Spring 2_001850_4313_m/z199.9878_RT5.5708",
          "cluster: 11, component: Cobra 2_001852_2321_m/z199.9877_RT4.2435",
          "cluster: 11, component: Cobra 2_001852_2321_m/z199.9877_RT4.2435"
         ],
         "type": "scatter",
         "uid": "a036eaa7-0176-412b-8efd-6111e5960e7e",
         "x": [
          1075,
          1075,
          1085,
          1085
         ],
         "xaxis": "x",
         "y": [
          0,
          0.14285714285714285,
          0.14285714285714285,
          0
         ],
         "yaxis": "y"
        },
        {
         "hoverinfo": "text",
         "marker": {
          "color": "rgb(255,220,0)"
         },
         "mode": "lines",
         "text": [
          "cluster: 11, component: Cobra 2_001852_4324_m/z199.9878_RT6.0264",
          "cluster: 11, component: Cobra 2_001852_4324_m/z199.9878_RT6.0264",
          null,
          null
         ],
         "type": "scatter",
         "uid": "3796a1a5-8118-470f-9788-bc2644114f1f",
         "x": [
          1065,
          1065,
          1080,
          1080
         ],
         "xaxis": "x",
         "y": [
          0,
          0.18518518518518517,
          0.18518518518518517,
          0.14285714285714285
         ],
         "yaxis": "y"
        },
        {
         "hoverinfo": "text",
         "marker": {
          "color": "rgb(255,220,0)"
         },
         "mode": "lines",
         "text": [
          null,
          null,
          null,
          null
         ],
         "type": "scatter",
         "uid": "79d8c3c4-669e-444d-9119-9c102f4c6b1f",
         "x": [
          1050,
          1050,
          1072.5,
          1072.5
         ],
         "xaxis": "x",
         "y": [
          0.1,
          0.2222222222222222,
          0.2222222222222222,
          0.18518518518518517
         ],
         "yaxis": "y"
        },
        {
         "hoverinfo": "text",
         "marker": {
          "color": "rgb(255,220,0)"
         },
         "mode": "lines",
         "text": [
          null,
          null,
          null,
          null
         ],
         "type": "scatter",
         "uid": "7f4b8ab6-e9cf-4141-bc39-ff60a6bda1b9",
         "x": [
          1030,
          1030,
          1061.25,
          1061.25
         ],
         "xaxis": "x",
         "y": [
          0.17647058823529413,
          0.2692307692307692,
          0.2692307692307692,
          0.2222222222222222
         ],
         "yaxis": "y"
        },
        {
         "hoverinfo": "text",
         "marker": {
          "color": "rgb(255,220,0)"
         },
         "mode": "lines",
         "text": [
          null,
          null,
          null,
          null
         ],
         "type": "scatter",
         "uid": "32bac325-7673-4be2-a872-69ce1f706f43",
         "x": [
          1010,
          1010,
          1045.625,
          1045.625
         ],
         "xaxis": "x",
         "y": [
          0.20588235294117646,
          0.3103448275862069,
          0.3103448275862069,
          0.2692307692307692
         ],
         "yaxis": "y"
        },
        {
         "hoverinfo": "text",
         "marker": {
          "color": "rgb(255,220,0)"
         },
         "mode": "lines",
         "text": [
          null,
          null,
          null,
          null
         ],
         "type": "scatter",
         "uid": "2e8d9bfa-3259-47a8-9cba-8718b97f6c2e",
         "x": [
          982.5,
          982.5,
          1027.8125,
          1027.8125
         ],
         "xaxis": "x",
         "y": [
          0.24324324324324326,
          0.696969696969697,
          0.696969696969697,
          0.3103448275862069
         ],
         "yaxis": "y"
        },
        {
         "hoverinfo": "text",
         "marker": {
          "color": "rgb(40,35,35)"
         },
         "mode": "lines",
         "text": [
          "cluster: 12, component: Chinese Spring 1_001829_3296_m/z611.1606_RT4.7565",
          "cluster: 12, component: Chinese Spring 1_001829_3296_m/z611.1606_RT4.7565",
          "cluster: 12, component: Chinese Spring 1_001829_3857_m/z611.1606_RT5.1666",
          "cluster: 12, component: Chinese Spring 1_001829_3857_m/z611.1606_RT5.1666"
         ],
         "type": "scatter",
         "uid": "fcd835d8-eaf1-4c02-8562-195a423ace11",
         "x": [
          1105,
          1105,
          1115,
          1115
         ],
         "xaxis": "x",
         "y": [
          0,
          0.2972972972972973,
          0.2972972972972973,
          0
         ],
         "yaxis": "y"
        },
        {
         "hoverinfo": "text",
         "marker": {
          "color": "rgb(61,153,112)"
         },
         "mode": "lines",
         "text": [
          "cluster: 13, component: Chinese Spring 1_001829_3593_m/z339.1073_RT4.9571",
          "cluster: 13, component: Chinese Spring 1_001829_3593_m/z339.1073_RT4.9571",
          "cluster: 13, component: Chinese Spring 1_001829_4973_m/z339.1073_RT6.0940",
          "cluster: 13, component: Chinese Spring 1_001829_4973_m/z339.1073_RT6.0940"
         ],
         "type": "scatter",
         "uid": "60d2cfb8-5291-4d4b-9646-5076e483d2c7",
         "x": [
          1125,
          1125,
          1135,
          1135
         ],
         "xaxis": "x",
         "y": [
          0,
          0.28205128205128205,
          0.28205128205128205,
          0
         ],
         "yaxis": "y"
        },
        {
         "hoverinfo": "text",
         "marker": {
          "color": "rgb(61,153,112)"
         },
         "mode": "lines",
         "text": [
          "cluster: 13, component: Chinese Spring 1_001829_5035_m/z231.0497_RT6.1564",
          "cluster: 13, component: Chinese Spring 1_001829_5035_m/z231.0497_RT6.1564",
          "cluster: 13, component: Chinese Spring 1_001829_6283_m/z231.0496_RT8.6045",
          "cluster: 13, component: Chinese Spring 1_001829_6283_m/z231.0496_RT8.6045"
         ],
         "type": "scatter",
         "uid": "f7eb23fa-1622-40b3-bddc-182f211024ee",
         "x": [
          1185,
          1185,
          1195,
          1195
         ],
         "xaxis": "x",
         "y": [
          0,
          0.24324324324324326,
          0.24324324324324326,
          0
         ],
         "yaxis": "y"
        },
        {
         "hoverinfo": "text",
         "marker": {
          "color": "rgb(61,153,112)"
         },
         "mode": "lines",
         "text": [
          "cluster: 13, component: Chinese Spring 1_001829_3927_m/z231.0497_RT5.2470",
          "cluster: 13, component: Chinese Spring 1_001829_3927_m/z231.0497_RT5.2470",
          null,
          null
         ],
         "type": "scatter",
         "uid": "524f1653-068e-409c-ace7-28ea898a00b9",
         "x": [
          1175,
          1175,
          1190,
          1190
         ],
         "xaxis": "x",
         "y": [
          0,
          0.2571428571428571,
          0.2571428571428571,
          0.24324324324324326
         ],
         "yaxis": "y"
        },
        {
         "hoverinfo": "text",
         "marker": {
          "color": "rgb(61,153,112)"
         },
         "mode": "lines",
         "text": [
          "cluster: 13, component: Chinese Spring 1_001829_5413_m/z231.0497_RT6.7231",
          "cluster: 13, component: Chinese Spring 1_001829_5413_m/z231.0497_RT6.7231",
          null,
          null
         ],
         "type": "scatter",
         "uid": "6324588c-4a69-4874-bef4-322c208b7e15",
         "x": [
          1165,
          1165,
          1182.5,
          1182.5
         ],
         "xaxis": "x",
         "y": [
          0,
          0.35135135135135137,
          0.35135135135135137,
          0.2571428571428571
         ],
         "yaxis": "y"
        },
        {
         "hoverinfo": "text",
         "marker": {
          "color": "rgb(61,153,112)"
         },
         "mode": "lines",
         "text": [
          "cluster: 13, component: Chinese Spring 1_001829_3932_m/z340.1603_RT5.2470",
          "cluster: 13, component: Chinese Spring 1_001829_3932_m/z340.1603_RT5.2470",
          null,
          null
         ],
         "type": "scatter",
         "uid": "3959c021-9743-4c76-a0cb-4e2e551e5919",
         "x": [
          1155,
          1155,
          1173.75,
          1173.75
         ],
         "xaxis": "x",
         "y": [
          0,
          0.5272727272727272,
          0.5272727272727272,
          0.35135135135135137
         ],
         "yaxis": "y"
        },
        {
         "hoverinfo": "text",
         "marker": {
          "color": "rgb(61,153,112)"
         },
         "mode": "lines",
         "text": [
          "cluster: 13, component: Chinese Spring 2_001850_1213_m/z314.1446_RT1.3713",
          "cluster: 13, component: Chinese Spring 2_001850_1213_m/z314.1446_RT1.3713",
          "cluster: 13, component: Emu Rock 2_001847_1099_m/z314.1446_RT1.2598",
          "cluster: 13, component: Emu Rock 2_001847_1099_m/z314.1446_RT1.2598"
         ],
         "type": "scatter",
         "uid": "5a8dca51-052d-4155-8174-121a62ac1030",
         "x": [
          1205,
          1205,
          1215,
          1215
         ],
         "xaxis": "x",
         "y": [
          0,
          0.2682926829268293,
          0.2682926829268293,
          0
         ],
         "yaxis": "y"
        },
        {
         "hoverinfo": "text",
         "marker": {
          "color": "rgb(61,153,112)"
         },
         "mode": "lines",
         "text": [
          "cluster: 13, component: Chinese Spring 1_001829_2752_m/z342.1759_RT4.2840",
          "cluster: 13, component: Chinese Spring 1_001829_2752_m/z342.1759_RT4.2840",
          "cluster: 13, component: Chinese Spring 3_001858_1605_m/z310.1495_RT2.2587",
          "cluster: 13, component: Chinese Spring 3_001858_1605_m/z310.1495_RT2.2587"
         ],
         "type": "scatter",
         "uid": "9a414eb4-097f-40bf-a143-559ecd005c64",
         "x": [
          1225,
          1225,
          1235,
          1235
         ],
         "xaxis": "x",
         "y": [
          0,
          0.5135135135135135,
          0.5135135135135135,
          0
         ],
         "yaxis": "y"
        },
        {
         "hoverinfo": "text",
         "marker": {
          "color": "rgb(61,153,112)"
         },
         "mode": "lines",
         "text": [
          null,
          null,
          null,
          null
         ],
         "type": "scatter",
         "uid": "2324268e-6aad-4d68-b850-531472cbf2dd",
         "x": [
          1210,
          1210,
          1230,
          1230
         ],
         "xaxis": "x",
         "y": [
          0.2682926829268293,
          0.6,
          0.6,
          0.5135135135135135
         ],
         "yaxis": "y"
        },
        {
         "hoverinfo": "text",
         "marker": {
          "color": "rgb(61,153,112)"
         },
         "mode": "lines",
         "text": [
          null,
          null,
          null,
          null
         ],
         "type": "scatter",
         "uid": "cff89b0d-5fc9-4f79-8b39-a478adad3234",
         "x": [
          1164.375,
          1164.375,
          1220,
          1220
         ],
         "xaxis": "x",
         "y": [
          0.5272727272727272,
          0.6666666666666666,
          0.6666666666666666,
          0.6
         ],
         "yaxis": "y"
        },
        {
         "hoverinfo": "text",
         "marker": {
          "color": "rgb(61,153,112)"
         },
         "mode": "lines",
         "text": [
          "cluster: 13, component: Chinese Spring 1_001829_6003_m/z498.2543_RT7.9315",
          "cluster: 13, component: Chinese Spring 1_001829_6003_m/z498.2543_RT7.9315",
          null,
          null
         ],
         "type": "scatter",
         "uid": "86bb5aa6-46a2-4a62-b366-ab4bc47745c0",
         "x": [
          1145,
          1145,
          1192.1875,
          1192.1875
         ],
         "xaxis": "x",
         "y": [
          0,
          0.75,
          0.75,
          0.6666666666666666
         ],
         "yaxis": "y"
        },
        {
         "hoverinfo": "text",
         "marker": {
          "color": "rgb(61,153,112)"
         },
         "mode": "lines",
         "text": [
          null,
          null,
          null,
          null
         ],
         "type": "scatter",
         "uid": "4e77452c-942b-49a9-a51c-e11b3e5f295d",
         "x": [
          1130,
          1130,
          1168.59375,
          1168.59375
         ],
         "xaxis": "x",
         "y": [
          0.28205128205128205,
          0.7818181818181819,
          0.7818181818181819,
          0.75
         ],
         "yaxis": "y"
        },
        {
         "hoverinfo": "text",
         "marker": {
          "color": "rgb(0,116,217)"
         },
         "mode": "lines",
         "text": [
          "cluster: 14, component: Chinese Spring 1_001829_1178_m/z241.1544_RT1.1946",
          "cluster: 14, component: Chinese Spring 1_001829_1178_m/z241.1544_RT1.1946",
          "cluster: 15, component: Chinese Spring 1_001829_1844_m/z507.1819_RT2.9692",
          "cluster: 15, component: Chinese Spring 1_001829_1844_m/z507.1819_RT2.9692"
         ],
         "type": "scatter",
         "uid": "87373740-0321-4cdc-a5ae-77132c7d6822",
         "x": [
          1245,
          1245,
          1255,
          1255
         ],
         "xaxis": "x",
         "y": [
          0,
          0.84375,
          0.84375,
          0
         ],
         "yaxis": "y"
        },
        {
         "hoverinfo": "text",
         "marker": {
          "color": "rgb(0,116,217)"
         },
         "mode": "lines",
         "text": [
          null,
          null,
          null,
          null
         ],
         "type": "scatter",
         "uid": "3ce3c752-3cf2-4c41-bad0-ada56cc860a9",
         "x": [
          1149.296875,
          1149.296875,
          1250,
          1250
         ],
         "xaxis": "x",
         "y": [
          0.7818181818181819,
          0.8695652173913043,
          0.8695652173913043,
          0.84375
         ],
         "yaxis": "y"
        },
        {
         "hoverinfo": "text",
         "marker": {
          "color": "rgb(0,116,217)"
         },
         "mode": "lines",
         "text": [
          null,
          null,
          null,
          null
         ],
         "type": "scatter",
         "uid": "55f636d0-0104-48c5-9b35-24cb088b2a8b",
         "x": [
          1110,
          1110,
          1199.6484375,
          1199.6484375
         ],
         "xaxis": "x",
         "y": [
          0.2972972972972973,
          0.9272727272727272,
          0.9272727272727272,
          0.8695652173913043
         ],
         "yaxis": "y"
        },
        {
         "hoverinfo": "text",
         "marker": {
          "color": "rgb(0,116,217)"
         },
         "mode": "lines",
         "text": [
          "cluster: 16, component: Chinese Spring 1_001829_5512_m/z463.1233_RT6.8301",
          "cluster: 16, component: Chinese Spring 1_001829_5512_m/z463.1233_RT6.8301",
          null,
          null
         ],
         "type": "scatter",
         "uid": "28a017f2-57a8-4b3c-9770-4a914f749539",
         "x": [
          1095,
          1095,
          1154.82421875,
          1154.82421875
         ],
         "xaxis": "x",
         "y": [
          0,
          0.9411764705882353,
          0.9411764705882353,
          0.9272727272727272
         ],
         "yaxis": "y"
        },
        {
         "hoverinfo": "text",
         "marker": {
          "color": "rgb(255,65,54)"
         },
         "mode": "lines",
         "text": [
          "cluster: 17, component: Chinese Spring 1_001829_4912_m/z219.1014_RT5.9958",
          "cluster: 17, component: Chinese Spring 1_001829_4912_m/z219.1014_RT5.9958",
          "cluster: 17, component: Chinese Spring 1_001829_5175_m/z219.1014_RT6.3621",
          "cluster: 17, component: Chinese Spring 1_001829_5175_m/z219.1014_RT6.3621"
         ],
         "type": "scatter",
         "uid": "c4b2787d-3e5c-4775-a80b-95ecac88b67e",
         "x": [
          1285,
          1285,
          1295,
          1295
         ],
         "xaxis": "x",
         "y": [
          0,
          0.23595505617977527,
          0.23595505617977527,
          0
         ],
         "yaxis": "y"
        },
        {
         "hoverinfo": "text",
         "marker": {
          "color": "rgb(255,65,54)"
         },
         "mode": "lines",
         "text": [
          "cluster: 17, component: Chinese Spring 1_001829_5685_m/z219.1014_RT7.3074",
          "cluster: 17, component: Chinese Spring 1_001829_5685_m/z219.1014_RT7.3074",
          null,
          null
         ],
         "type": "scatter",
         "uid": "2dcba0a9-bae6-499c-8e0f-cfb55b6ae348",
         "x": [
          1275,
          1275,
          1290,
          1290
         ],
         "xaxis": "x",
         "y": [
          0,
          0.30275229357798167,
          0.30275229357798167,
          0.23595505617977527
         ],
         "yaxis": "y"
        },
        {
         "hoverinfo": "text",
         "marker": {
          "color": "rgb(255,65,54)"
         },
         "mode": "lines",
         "text": [
          "cluster: 17, component: Correll 1_001837_4911_m/z251.0911_RT6.5612",
          "cluster: 17, component: Correll 1_001837_4911_m/z251.0911_RT6.5612",
          null,
          null
         ],
         "type": "scatter",
         "uid": "a1f90247-0833-42d5-9f40-401d3845fe50",
         "x": [
          1265,
          1265,
          1282.5,
          1282.5
         ],
         "xaxis": "x",
         "y": [
          0,
          0.4845360824742268,
          0.4845360824742268,
          0.30275229357798167
         ],
         "yaxis": "y"
        },
        {
         "hoverinfo": "text",
         "marker": {
          "color": "rgb(35,205,205)"
         },
         "mode": "lines",
         "text": [
          "cluster: 18, component: Chinese Spring 1_001829_2478_m/z291.1449_RT4.0211",
          "cluster: 18, component: Chinese Spring 1_001829_2478_m/z291.1449_RT4.0211",
          "cluster: 18, component: Chinese Spring 1_001829_2534_m/z291.1449_RT4.0567",
          "cluster: 18, component: Chinese Spring 1_001829_2534_m/z291.1449_RT4.0567"
         ],
         "type": "scatter",
         "uid": "0ad46eb2-a09d-461c-b3ce-3d602d517fae",
         "x": [
          1305,
          1305,
          1315,
          1315
         ],
         "xaxis": "x",
         "y": [
          0,
          0.22727272727272727,
          0.22727272727272727,
          0
         ],
         "yaxis": "y"
        },
        {
         "hoverinfo": "text",
         "marker": {
          "color": "rgb(35,205,205)"
         },
         "mode": "lines",
         "text": [
          "cluster: 18, component: Chinese Spring 1_001829_1966_m/z273.1343_RT3.3302",
          "cluster: 18, component: Chinese Spring 1_001829_1966_m/z273.1343_RT3.3302",
          "cluster: 18, component: Chinese Spring 1_001829_2526_m/z273.1343_RT4.0523",
          "cluster: 18, component: Chinese Spring 1_001829_2526_m/z273.1343_RT4.0523"
         ],
         "type": "scatter",
         "uid": "27da2381-bf14-4e56-8cf0-014222deed90",
         "x": [
          1335,
          1335,
          1345,
          1345
         ],
         "xaxis": "x",
         "y": [
          0,
          0.2,
          0.2,
          0
         ],
         "yaxis": "y"
        },
        {
         "hoverinfo": "text",
         "marker": {
          "color": "rgb(35,205,205)"
         },
         "mode": "lines",
         "text": [
          "cluster: 18, component: Chinese Spring 1_001829_1967_m/z291.1450_RT3.3302",
          "cluster: 18, component: Chinese Spring 1_001829_1967_m/z291.1450_RT3.3302",
          null,
          null
         ],
         "type": "scatter",
         "uid": "54735f4e-1477-495c-8b2f-42649fab55e1",
         "x": [
          1325,
          1325,
          1340,
          1340
         ],
         "xaxis": "x",
         "y": [
          0,
          0.2653061224489796,
          0.2653061224489796,
          0.2
         ],
         "yaxis": "y"
        },
        {
         "hoverinfo": "text",
         "marker": {
          "color": "rgb(35,205,205)"
         },
         "mode": "lines",
         "text": [
          null,
          null,
          null,
          null
         ],
         "type": "scatter",
         "uid": "ed23fb79-f2f8-4384-96bd-5127baed4e8e",
         "x": [
          1310,
          1310,
          1332.5,
          1332.5
         ],
         "xaxis": "x",
         "y": [
          0.22727272727272727,
          0.34782608695652173,
          0.34782608695652173,
          0.2653061224489796
         ],
         "yaxis": "y"
        },
        {
         "hoverinfo": "text",
         "marker": {
          "color": "rgb(133,20,75)"
         },
         "mode": "lines",
         "text": [
          "cluster: 19, component: Chinese Spring 1_001829_1874_m/z235.1439_RT3.0271",
          "cluster: 19, component: Chinese Spring 1_001829_1874_m/z235.1439_RT3.0271",
          "cluster: 19, component: Chinese Spring 1_001829_2318_m/z235.1439_RT3.7670",
          "cluster: 19, component: Chinese Spring 1_001829_2318_m/z235.1439_RT3.7670"
         ],
         "type": "scatter",
         "uid": "9f91a0b5-be36-40bf-af99-b9f2fa62f306",
         "x": [
          1365,
          1365,
          1375,
          1375
         ],
         "xaxis": "x",
         "y": [
          0,
          0.35714285714285715,
          0.35714285714285715,
          0
         ],
         "yaxis": "y"
        },
        {
         "hoverinfo": "text",
         "marker": {
          "color": "rgb(133,20,75)"
         },
         "mode": "lines",
         "text": [
          "cluster: 19, component: Chinese Spring 1_001829_1994_m/z251.1387_RT3.3658",
          "cluster: 19, component: Chinese Spring 1_001829_1994_m/z251.1387_RT3.3658",
          null,
          null
         ],
         "type": "scatter",
         "uid": "50dd9a25-6052-41b7-a381-ea05895401d1",
         "x": [
          1355,
          1355,
          1370,
          1370
         ],
         "xaxis": "x",
         "y": [
          0,
          0.76,
          0.76,
          0.35714285714285715
         ],
         "yaxis": "y"
        },
        {
         "hoverinfo": "text",
         "marker": {
          "color": "rgb(0,116,217)"
         },
         "mode": "lines",
         "text": [
          null,
          null,
          null,
          null
         ],
         "type": "scatter",
         "uid": "24e3c1b6-d32d-4a0d-8058-6482991609ca",
         "x": [
          1321.25,
          1321.25,
          1362.5,
          1362.5
         ],
         "xaxis": "x",
         "y": [
          0.34782608695652173,
          0.8461538461538461,
          0.8461538461538461,
          0.76
         ],
         "yaxis": "y"
        },
        {
         "hoverinfo": "text",
         "marker": {
          "color": "rgb(0,116,217)"
         },
         "mode": "lines",
         "text": [
          null,
          null,
          null,
          null
         ],
         "type": "scatter",
         "uid": "04a5b51c-6706-4720-8058-7dd155fc26c6",
         "x": [
          1273.75,
          1273.75,
          1341.875,
          1341.875
         ],
         "xaxis": "x",
         "y": [
          0.4845360824742268,
          0.978494623655914,
          0.978494623655914,
          0.8461538461538461
         ],
         "yaxis": "y"
        },
        {
         "hoverinfo": "text",
         "marker": {
          "color": "rgb(255,220,0)"
         },
         "mode": "lines",
         "text": [
          "cluster: 20, component: Chinese Spring 1_001829_2426_m/z194.0447_RT3.9542",
          "cluster: 20, component: Chinese Spring 1_001829_2426_m/z194.0447_RT3.9542",
          "cluster: 20, component: Cobra 3_001856_2051_m/z194.1174_RT3.6295",
          "cluster: 20, component: Cobra 3_001856_2051_m/z194.1174_RT3.6295"
         ],
         "type": "scatter",
         "uid": "a3ad927c-1e59-42e3-ae45-4cd4c5131cf3",
         "x": [
          1385,
          1385,
          1395,
          1395
         ],
         "xaxis": "x",
         "y": [
          0,
          0.45,
          0.45,
          0
         ],
         "yaxis": "y"
        },
        {
         "hoverinfo": "text",
         "marker": {
          "color": "rgb(255,220,0)"
         },
         "mode": "lines",
         "text": [
          "cluster: 20, component: Chinese Spring 1_001829_3914_m/z194.0447_RT5.2381",
          "cluster: 20, component: Chinese Spring 1_001829_3914_m/z194.0447_RT5.2381",
          "cluster: 20, component: Chinese Spring 1_001829_4309_m/z212.0552_RT5.4788",
          "cluster: 20, component: Chinese Spring 1_001829_4309_m/z212.0552_RT5.4788"
         ],
         "type": "scatter",
         "uid": "df90e3c4-89b8-4004-8086-538d34cc6038",
         "x": [
          1415,
          1415,
          1425,
          1425
         ],
         "xaxis": "x",
         "y": [
          0,
          0.21311475409836064,
          0.21311475409836064,
          0
         ],
         "yaxis": "y"
        },
        {
         "hoverinfo": "text",
         "marker": {
          "color": "rgb(255,220,0)"
         },
         "mode": "lines",
         "text": [
          "cluster: 20, component: Chinese Spring 1_001829_3643_m/z194.0447_RT4.9972",
          "cluster: 20, component: Chinese Spring 1_001829_3643_m/z194.0447_RT4.9972",
          null,
          null
         ],
         "type": "scatter",
         "uid": "5c9b5483-a8e2-458c-9d61-c15bd9574c46",
         "x": [
          1405,
          1405,
          1420,
          1420
         ],
         "xaxis": "x",
         "y": [
          0,
          0.38636363636363635,
          0.38636363636363635,
          0.21311475409836064
         ],
         "yaxis": "y"
        },
        {
         "hoverinfo": "text",
         "marker": {
          "color": "rgb(255,220,0)"
         },
         "mode": "lines",
         "text": [
          "cluster: 20, component: Chinese Spring 1_001829_5341_m/z194.0447_RT6.6117",
          "cluster: 20, component: Chinese Spring 1_001829_5341_m/z194.0447_RT6.6117",
          "cluster: 20, component: Chinese Spring 1_001829_5342_m/z226.0708_RT6.6117",
          "cluster: 20, component: Chinese Spring 1_001829_5342_m/z226.0708_RT6.6117"
         ],
         "type": "scatter",
         "uid": "f5d669ee-8567-4154-8f45-20ee2b6d67c7",
         "x": [
          1445,
          1445,
          1455,
          1455
         ],
         "xaxis": "x",
         "y": [
          0,
          0.4583333333333333,
          0.4583333333333333,
          0
         ],
         "yaxis": "y"
        },
        {
         "hoverinfo": "text",
         "marker": {
          "color": "rgb(255,220,0)"
         },
         "mode": "lines",
         "text": [
          "cluster: 20, component: Chinese Spring 1_001829_2958_m/z212.0552_RT4.4445",
          "cluster: 20, component: Chinese Spring 1_001829_2958_m/z212.0552_RT4.4445",
          null,
          null
         ],
         "type": "scatter",
         "uid": "9bca480f-2c20-4b8b-9ac3-09333e97c97e",
         "x": [
          1435,
          1435,
          1450,
          1450
         ],
         "xaxis": "x",
         "y": [
          0,
          0.5384615384615384,
          0.5384615384615384,
          0.4583333333333333
         ],
         "yaxis": "y"
        },
        {
         "hoverinfo": "text",
         "marker": {
          "color": "rgb(255,220,0)"
         },
         "mode": "lines",
         "text": [
          null,
          null,
          null,
          null
         ],
         "type": "scatter",
         "uid": "a2f37b68-1ef5-4d5d-a50e-8c9c97c99e0a",
         "x": [
          1412.5,
          1412.5,
          1442.5,
          1442.5
         ],
         "xaxis": "x",
         "y": [
          0.38636363636363635,
          0.7183098591549296,
          0.7183098591549296,
          0.5384615384615384
         ],
         "yaxis": "y"
        },
        {
         "hoverinfo": "text",
         "marker": {
          "color": "rgb(255,220,0)"
         },
         "mode": "lines",
         "text": [
          null,
          null,
          null,
          null
         ],
         "type": "scatter",
         "uid": "2a56422d-755c-4fd4-b7da-69f6abcaa41c",
         "x": [
          1390,
          1390,
          1427.5,
          1427.5
         ],
         "xaxis": "x",
         "y": [
          0.45,
          0.7464788732394366,
          0.7464788732394366,
          0.7183098591549296
         ],
         "yaxis": "y"
        },
        {
         "hoverinfo": "text",
         "marker": {
          "color": "rgb(40,35,35)"
         },
         "mode": "lines",
         "text": [
          "cluster: 21, component: Chinese Spring 1_001829_2262_m/z533.1549_RT3.7001",
          "cluster: 21, component: Chinese Spring 1_001829_2262_m/z533.1549_RT3.7001",
          "cluster: 21, component: Chinese Spring 1_001829_2618_m/z533.1546_RT4.1191",
          "cluster: 21, component: Chinese Spring 1_001829_2618_m/z533.1546_RT4.1191"
         ],
         "type": "scatter",
         "uid": "5765059c-7a4a-49e2-96e6-f8346e8a8e92",
         "x": [
          1465,
          1465,
          1475,
          1475
         ],
         "xaxis": "x",
         "y": [
          0,
          0.22522522522522523,
          0.22522522522522523,
          0
         ],
         "yaxis": "y"
        },
        {
         "hoverinfo": "text",
         "marker": {
          "color": "rgb(40,35,35)"
         },
         "mode": "lines",
         "text": [
          "cluster: 21, component: Chinese Spring 1_001829_2044_m/z533.1546_RT3.4461",
          "cluster: 21, component: Chinese Spring 1_001829_2044_m/z533.1546_RT3.4461",
          "cluster: 21, component: Chinese Spring 1_001829_3026_m/z533.1549_RT4.5203",
          "cluster: 21, component: Chinese Spring 1_001829_3026_m/z533.1549_RT4.5203"
         ],
         "type": "scatter",
         "uid": "8bc68bd0-97f7-448b-beb1-46232f7eaf2b",
         "x": [
          1485,
          1485,
          1495,
          1495
         ],
         "xaxis": "x",
         "y": [
          0,
          0.29411764705882354,
          0.29411764705882354,
          0
         ],
         "yaxis": "y"
        },
        {
         "hoverinfo": "text",
         "marker": {
          "color": "rgb(40,35,35)"
         },
         "mode": "lines",
         "text": [
          null,
          null,
          null,
          null
         ],
         "type": "scatter",
         "uid": "68ec75fb-b2c9-44f2-8a65-4cc28fe91683",
         "x": [
          1470,
          1470,
          1490,
          1490
         ],
         "xaxis": "x",
         "y": [
          0.22522522522522523,
          0.3333333333333333,
          0.3333333333333333,
          0.29411764705882354
         ],
         "yaxis": "y"
        },
        {
         "hoverinfo": "text",
         "marker": {
          "color": "rgb(40,35,35)"
         },
         "mode": "lines",
         "text": [
          "cluster: 21, component: Chinese Spring 1_001829_2030_m/z347.0907_RT3.4015",
          "cluster: 21, component: Chinese Spring 1_001829_2030_m/z347.0907_RT3.4015",
          "cluster: 21, component: Chinese Spring 2_001850_1485_m/z347.0907_RT2.1112",
          "cluster: 21, component: Chinese Spring 2_001850_1485_m/z347.0907_RT2.1112"
         ],
         "type": "scatter",
         "uid": "f8e21735-94f8-4700-85d1-8d79e40603e1",
         "x": [
          1505,
          1505,
          1515,
          1515
         ],
         "xaxis": "x",
         "y": [
          0,
          0.34210526315789475,
          0.34210526315789475,
          0
         ],
         "yaxis": "y"
        },
        {
         "hoverinfo": "text",
         "marker": {
          "color": "rgb(40,35,35)"
         },
         "mode": "lines",
         "text": [
          null,
          null,
          null,
          null
         ],
         "type": "scatter",
         "uid": "73037839-ab7d-4e62-8b1e-a7c9c01bf0fe",
         "x": [
          1480,
          1480,
          1510,
          1510
         ],
         "xaxis": "x",
         "y": [
          0.3333333333333333,
          0.7864077669902912,
          0.7864077669902912,
          0.34210526315789475
         ],
         "yaxis": "y"
        },
        {
         "hoverinfo": "text",
         "marker": {
          "color": "rgb(0,116,217)"
         },
         "mode": "lines",
         "text": [
          null,
          null,
          null,
          null
         ],
         "type": "scatter",
         "uid": "ed949117-843a-4396-8c30-9858e906a4cc",
         "x": [
          1408.75,
          1408.75,
          1495,
          1495
         ],
         "xaxis": "x",
         "y": [
          0.7464788732394366,
          0.971830985915493,
          0.971830985915493,
          0.7864077669902912
         ],
         "yaxis": "y"
        },
        {
         "hoverinfo": "text",
         "marker": {
          "color": "rgb(61,153,112)"
         },
         "mode": "lines",
         "text": [
          "cluster: 22, component: Chinese Spring 1_001829_1626_m/z194.1174_RT2.2515",
          "cluster: 22, component: Chinese Spring 1_001829_1626_m/z194.1174_RT2.2515",
          "cluster: 22, component: Cobra 2_001852_2090_m/z194.1174_RT4.0473",
          "cluster: 22, component: Cobra 2_001852_2090_m/z194.1174_RT4.0473"
         ],
         "type": "scatter",
         "uid": "9a3e67fa-4f8a-450d-b833-5acff73cbfee",
         "x": [
          1525,
          1525,
          1535,
          1535
         ],
         "xaxis": "x",
         "y": [
          0,
          0.5555555555555556,
          0.5555555555555556,
          0
         ],
         "yaxis": "y"
        },
        {
         "hoverinfo": "text",
         "marker": {
          "color": "rgb(255,65,54)"
         },
         "mode": "lines",
         "text": [
          "cluster: 23, component: Chinese Spring 1_001829_6439_m/z320.2946_RT8.8987",
          "cluster: 23, component: Chinese Spring 1_001829_6439_m/z320.2946_RT8.8987",
          "cluster: 23, component: Chinese Spring 1_001829_6466_m/z320.2948_RT8.9700",
          "cluster: 23, component: Chinese Spring 1_001829_6466_m/z320.2948_RT8.9700"
         ],
         "type": "scatter",
         "uid": "9f91e07e-0085-46f0-8502-47cbeadc8741",
         "x": [
          1585,
          1585,
          1595,
          1595
         ],
         "xaxis": "x",
         "y": [
          0,
          0,
          0,
          0
         ],
         "yaxis": "y"
        },
        {
         "hoverinfo": "text",
         "marker": {
          "color": "rgb(255,65,54)"
         },
         "mode": "lines",
         "text": [
          "cluster: 23, component: Chinese Spring 1_001829_6404_m/z320.2946_RT8.8274",
          "cluster: 23, component: Chinese Spring 1_001829_6404_m/z320.2946_RT8.8274",
          null,
          null
         ],
         "type": "scatter",
         "uid": "6ecb430e-f8f6-4ca9-97af-94de49115f1f",
         "x": [
          1575,
          1575,
          1590,
          1590
         ],
         "xaxis": "x",
         "y": [
          0,
          0.2857142857142857,
          0.2857142857142857,
          0
         ],
         "yaxis": "y"
        },
        {
         "hoverinfo": "text",
         "marker": {
          "color": "rgb(255,65,54)"
         },
         "mode": "lines",
         "text": [
          "cluster: 23, component: Chinese Spring 1_001829_6510_m/z320.2948_RT9.0458",
          "cluster: 23, component: Chinese Spring 1_001829_6510_m/z320.2948_RT9.0458",
          null,
          null
         ],
         "type": "scatter",
         "uid": "d3212e44-2737-4e9a-9d00-ed4c419db9cb",
         "x": [
          1565,
          1565,
          1582.5,
          1582.5
         ],
         "xaxis": "x",
         "y": [
          0,
          0.4117647058823529,
          0.4117647058823529,
          0.2857142857142857
         ],
         "yaxis": "y"
        },
        {
         "hoverinfo": "text",
         "marker": {
          "color": "rgb(255,65,54)"
         },
         "mode": "lines",
         "text": [
          "cluster: 23, component: Chinese Spring 1_001829_7255_m/z320.2946_RT10.6470",
          "cluster: 23, component: Chinese Spring 1_001829_7255_m/z320.2946_RT10.6470",
          null,
          null
         ],
         "type": "scatter",
         "uid": "2282395f-8c65-41b9-9301-24af920aa9b1",
         "x": [
          1555,
          1555,
          1573.75,
          1573.75
         ],
         "xaxis": "x",
         "y": [
          0,
          0.6470588235294118,
          0.6470588235294118,
          0.4117647058823529
         ],
         "yaxis": "y"
        },
        {
         "hoverinfo": "text",
         "marker": {
          "color": "rgb(0,116,217)"
         },
         "mode": "lines",
         "text": [
          "cluster: 24, component: Chinese Spring 1_001829_6552_m/z320.2946_RT9.1394",
          "cluster: 24, component: Chinese Spring 1_001829_6552_m/z320.2946_RT9.1394",
          null,
          null
         ],
         "type": "scatter",
         "uid": "6d0f2f58-a8da-4d41-9e71-09fcff5bd578",
         "x": [
          1545,
          1545,
          1564.375,
          1564.375
         ],
         "xaxis": "x",
         "y": [
          0,
          0.8857142857142857,
          0.8857142857142857,
          0.6470588235294118
         ],
         "yaxis": "y"
        },
        {
         "hoverinfo": "text",
         "marker": {
          "color": "rgb(0,116,217)"
         },
         "mode": "lines",
         "text": [
          null,
          null,
          null,
          null
         ],
         "type": "scatter",
         "uid": "22b981be-0ebb-420c-9558-c4b4e10533fa",
         "x": [
          1530,
          1530,
          1554.6875,
          1554.6875
         ],
         "xaxis": "x",
         "y": [
          0.5555555555555556,
          0.9090909090909091,
          0.9090909090909091,
          0.8857142857142857
         ],
         "yaxis": "y"
        },
        {
         "hoverinfo": "text",
         "marker": {
          "color": "rgb(35,205,205)"
         },
         "mode": "lines",
         "text": [
          "cluster: 25, component: Chinese Spring 1_001829_0724_m/z241.1544_RT0.7890",
          "cluster: 25, component: Chinese Spring 1_001829_0724_m/z241.1544_RT0.7890",
          "cluster: 25, component: Chinese Spring 1_001829_0785_m/z241.1544_RT0.8781",
          "cluster: 25, component: Chinese Spring 1_001829_0785_m/z241.1544_RT0.8781"
         ],
         "type": "scatter",
         "uid": "bdddd1e3-1393-4044-80fa-78c5824d45bd",
         "x": [
          1605,
          1605,
          1615,
          1615
         ],
         "xaxis": "x",
         "y": [
          0,
          0.4666666666666667,
          0.4666666666666667,
          0
         ],
         "yaxis": "y"
        },
        {
         "hoverinfo": "text",
         "marker": {
          "color": "rgb(133,20,75)"
         },
         "mode": "lines",
         "text": [
          "cluster: 26, component: Chinese Spring 1_001829_6093_m/z332.2583_RT8.1097",
          "cluster: 26, component: Chinese Spring 1_001829_6093_m/z332.2583_RT8.1097",
          "cluster: 26, component: Chinese Spring 1_001829_6127_m/z332.2584_RT8.1989",
          "cluster: 26, component: Chinese Spring 1_001829_6127_m/z332.2584_RT8.1989"
         ],
         "type": "scatter",
         "uid": "81a8c313-a732-4e61-90d9-77a338bd2110",
         "x": [
          1645,
          1645,
          1655,
          1655
         ],
         "xaxis": "x",
         "y": [
          0,
          0,
          0,
          0
         ],
         "yaxis": "y"
        },
        {
         "hoverinfo": "text",
         "marker": {
          "color": "rgb(133,20,75)"
         },
         "mode": "lines",
         "text": [
          "cluster: 26, component: Chinese Spring 1_001829_6229_m/z332.2583_RT8.4886",
          "cluster: 26, component: Chinese Spring 1_001829_6229_m/z332.2583_RT8.4886",
          null,
          null
         ],
         "type": "scatter",
         "uid": "84fba3d8-0b4b-4505-b9c9-cef02e2e1ce7",
         "x": [
          1635,
          1635,
          1650,
          1650
         ],
         "xaxis": "x",
         "y": [
          0,
          0.5185185185185185,
          0.5185185185185185,
          0
         ],
         "yaxis": "y"
        },
        {
         "hoverinfo": "text",
         "marker": {
          "color": "rgb(133,20,75)"
         },
         "mode": "lines",
         "text": [
          "cluster: 26, component: Chinese Spring 1_001829_5942_m/z332.2584_RT7.8067",
          "cluster: 26, component: Chinese Spring 1_001829_5942_m/z332.2584_RT7.8067",
          null,
          null
         ],
         "type": "scatter",
         "uid": "897a122f-20a9-4cb5-9714-03f2f9655f46",
         "x": [
          1625,
          1625,
          1642.5,
          1642.5
         ],
         "xaxis": "x",
         "y": [
          0,
          0.6666666666666666,
          0.6666666666666666,
          0.5185185185185185
         ],
         "yaxis": "y"
        },
        {
         "hoverinfo": "text",
         "marker": {
          "color": "rgb(0,116,217)"
         },
         "mode": "lines",
         "text": [
          null,
          null,
          null,
          null
         ],
         "type": "scatter",
         "uid": "b03b38cc-3197-4f39-902b-28451d84b1c6",
         "x": [
          1610,
          1610,
          1633.75,
          1633.75
         ],
         "xaxis": "x",
         "y": [
          0.4666666666666667,
          0.9354838709677419,
          0.9354838709677419,
          0.6666666666666666
         ],
         "yaxis": "y"
        },
        {
         "hoverinfo": "text",
         "marker": {
          "color": "rgb(0,116,217)"
         },
         "mode": "lines",
         "text": [
          null,
          null,
          null,
          null
         ],
         "type": "scatter",
         "uid": "425a8476-0730-4304-bbec-ee8943848bc5",
         "x": [
          1542.34375,
          1542.34375,
          1621.875,
          1621.875
         ],
         "xaxis": "x",
         "y": [
          0.9090909090909091,
          0.9555555555555556,
          0.9555555555555556,
          0.9354838709677419
         ],
         "yaxis": "y"
        },
        {
         "hoverinfo": "text",
         "marker": {
          "color": "rgb(255,220,0)"
         },
         "mode": "lines",
         "text": [
          "cluster: 27, component: Chinese Spring 1_001829_1633_m/z246.1446_RT2.2783",
          "cluster: 27, component: Chinese Spring 1_001829_1633_m/z246.1446_RT2.2783",
          "cluster: 27, component: Chinese Spring 1_001829_1708_m/z247.1286_RT2.6482",
          "cluster: 27, component: Chinese Spring 1_001829_1708_m/z247.1286_RT2.6482"
         ],
         "type": "scatter",
         "uid": "e6e5e1c0-2e37-4450-ae1c-dc18eb7144e9",
         "x": [
          1685,
          1685,
          1695,
          1695
         ],
         "xaxis": "x",
         "y": [
          0,
          0.3333333333333333,
          0.3333333333333333,
          0
         ],
         "yaxis": "y"
        },
        {
         "hoverinfo": "text",
         "marker": {
          "color": "rgb(40,35,35)"
         },
         "mode": "lines",
         "text": [
          "cluster: 28, component: Chinese Spring 1_001829_1642_m/z260.1602_RT2.3719",
          "cluster: 28, component: Chinese Spring 1_001829_1642_m/z260.1602_RT2.3719",
          "cluster: 28, component: Chinese Spring 2_001850_1603_m/z260.1603_RT2.4945",
          "cluster: 28, component: Chinese Spring 2_001850_1603_m/z260.1603_RT2.4945"
         ],
         "type": "scatter",
         "uid": "cedc60c0-c0b6-41da-b4de-1fd92269a00c",
         "x": [
          1705,
          1705,
          1715,
          1715
         ],
         "xaxis": "x",
         "y": [
          0,
          0.16666666666666666,
          0.16666666666666666,
          0
         ],
         "yaxis": "y"
        },
        {
         "hoverinfo": "text",
         "marker": {
          "color": "rgb(40,35,35)"
         },
         "mode": "lines",
         "text": [
          "cluster: 28, component: Chinese Spring 1_001829_1564_m/z233.1494_RT2.1044",
          "cluster: 28, component: Chinese Spring 1_001829_1564_m/z233.1494_RT2.1044",
          "cluster: 28, component: Chinese Spring 5_001887_1443_m/z233.1494_RT2.2226",
          "cluster: 28, component: Chinese Spring 5_001887_1443_m/z233.1494_RT2.2226"
         ],
         "type": "scatter",
         "uid": "b853ce9d-e349-44c0-ae58-c6fbb7702bb2",
         "x": [
          1735,
          1735,
          1745,
          1745
         ],
         "xaxis": "x",
         "y": [
          0,
          0.15151515151515152,
          0.15151515151515152,
          0
         ],
         "yaxis": "y"
        },
        {
         "hoverinfo": "text",
         "marker": {
          "color": "rgb(40,35,35)"
         },
         "mode": "lines",
         "text": [
          "cluster: 28, component: Chinese Spring 1_001829_1656_m/z233.1494_RT2.5234",
          "cluster: 28, component: Chinese Spring 1_001829_1656_m/z233.1494_RT2.5234",
          null,
          null
         ],
         "type": "scatter",
         "uid": "1d450918-7956-49ed-b782-1b8b5dc35f94",
         "x": [
          1725,
          1725,
          1740,
          1740
         ],
         "xaxis": "x",
         "y": [
          0,
          0.37142857142857144,
          0.37142857142857144,
          0.15151515151515152
         ],
         "yaxis": "y"
        },
        {
         "hoverinfo": "text",
         "marker": {
          "color": "rgb(40,35,35)"
         },
         "mode": "lines",
         "text": [
          null,
          null,
          null,
          null
         ],
         "type": "scatter",
         "uid": "345135be-30d4-4d1f-9c42-0bef91fa55e7",
         "x": [
          1710,
          1710,
          1732.5,
          1732.5
         ],
         "xaxis": "x",
         "y": [
          0.16666666666666666,
          0.7619047619047619,
          0.7619047619047619,
          0.37142857142857144
         ],
         "yaxis": "y"
        },
        {
         "hoverinfo": "text",
         "marker": {
          "color": "rgb(0,116,217)"
         },
         "mode": "lines",
         "text": [
          null,
          null,
          null,
          null
         ],
         "type": "scatter",
         "uid": "e191eea6-d631-47a4-9776-f36010a78c0e",
         "x": [
          1690,
          1690,
          1721.25,
          1721.25
         ],
         "xaxis": "x",
         "y": [
          0.3333333333333333,
          0.9183673469387755,
          0.9183673469387755,
          0.7619047619047619
         ],
         "yaxis": "y"
        },
        {
         "hoverinfo": "text",
         "marker": {
          "color": "rgb(0,116,217)"
         },
         "mode": "lines",
         "text": [
          "cluster: 29, component: Chinese Spring 1_001829_3318_m/z132.0444_RT4.7743",
          "cluster: 29, component: Chinese Spring 1_001829_3318_m/z132.0444_RT4.7743",
          null,
          null
         ],
         "type": "scatter",
         "uid": "0f77c0ee-9401-490f-8642-aba35afd8985",
         "x": [
          1675,
          1675,
          1705.625,
          1705.625
         ],
         "xaxis": "x",
         "y": [
          0,
          0.9607843137254902,
          0.9607843137254902,
          0.9183673469387755
         ],
         "yaxis": "y"
        },
        {
         "hoverinfo": "text",
         "marker": {
          "color": "rgb(0,116,217)"
         },
         "mode": "lines",
         "text": [
          "cluster: 30, component: Chinese Spring 1_001829_0877_m/z260.1603_RT0.9851",
          "cluster: 30, component: Chinese Spring 1_001829_0877_m/z260.1603_RT0.9851",
          null,
          null
         ],
         "type": "scatter",
         "uid": "c1a839d9-16e6-4d2f-94a3-5bb9847468c2",
         "x": [
          1665,
          1665,
          1690.3125,
          1690.3125
         ],
         "xaxis": "x",
         "y": [
          0,
          0.9696969696969697,
          0.9696969696969697,
          0.9607843137254902
         ],
         "yaxis": "y"
        },
        {
         "hoverinfo": "text",
         "marker": {
          "color": "rgb(61,153,112)"
         },
         "mode": "lines",
         "text": [
          "cluster: 31, component: Chinese Spring 1_001829_1393_m/z221.1284_RT1.6494",
          "cluster: 31, component: Chinese Spring 1_001829_1393_m/z221.1284_RT1.6494",
          "cluster: 31, component: Chinese Spring 2_001850_1669_m/z237.1232_RT2.8467",
          "cluster: 31, component: Chinese Spring 2_001850_1669_m/z237.1232_RT2.8467"
         ],
         "type": "scatter",
         "uid": "bb9f3a5b-7b4e-4518-b8ad-33fc478b209c",
         "x": [
          1755,
          1755,
          1765,
          1765
         ],
         "xaxis": "x",
         "y": [
          0,
          0.5555555555555556,
          0.5555555555555556,
          0
         ],
         "yaxis": "y"
        },
        {
         "hoverinfo": "text",
         "marker": {
          "color": "rgb(0,116,217)"
         },
         "mode": "lines",
         "text": [
          "cluster: 32, component: Chinese Spring 1_001829_0821_m/z237.1231_RT0.9093",
          "cluster: 32, component: Chinese Spring 1_001829_0821_m/z237.1231_RT0.9093",
          "cluster: 33, component: Chinese Spring 1_001829_2218_m/z237.1231_RT3.6645",
          "cluster: 33, component: Chinese Spring 1_001829_2218_m/z237.1231_RT3.6645"
         ],
         "type": "scatter",
         "uid": "f3ffcd57-877e-4bfa-91bf-777ffb70ff02",
         "x": [
          1775,
          1775,
          1785,
          1785
         ],
         "xaxis": "x",
         "y": [
          0,
          0.8947368421052632,
          0.8947368421052632,
          0
         ],
         "yaxis": "y"
        },
        {
         "hoverinfo": "text",
         "marker": {
          "color": "rgb(0,116,217)"
         },
         "mode": "lines",
         "text": [
          null,
          null,
          null,
          null
         ],
         "type": "scatter",
         "uid": "5b34db18-4608-47dc-baed-740fb27bcca0",
         "x": [
          1760,
          1760,
          1780,
          1780
         ],
         "xaxis": "x",
         "y": [
          0.5555555555555556,
          0.9534883720930233,
          0.9534883720930233,
          0.8947368421052632
         ],
         "yaxis": "y"
        },
        {
         "hoverinfo": "text",
         "marker": {
          "color": "rgb(255,65,54)"
         },
         "mode": "lines",
         "text": [
          "cluster: 34, component: Chinese Spring 1_001829_3925_m/z222.0703_RT5.2470",
          "cluster: 34, component: Chinese Spring 1_001829_3925_m/z222.0703_RT5.2470",
          "cluster: 34, component: Chinese Spring 1_001829_6287_m/z250.1014_RT8.6045",
          "cluster: 34, component: Chinese Spring 1_001829_6287_m/z250.1014_RT8.6045"
         ],
         "type": "scatter",
         "uid": "92867ca4-38df-4361-a072-25b8bd71fcd9",
         "x": [
          1825,
          1825,
          1835,
          1835
         ],
         "xaxis": "x",
         "y": [
          0,
          0.34065934065934067,
          0.34065934065934067,
          0
         ],
         "yaxis": "y"
        },
        {
         "hoverinfo": "text",
         "marker": {
          "color": "rgb(255,65,54)"
         },
         "mode": "lines",
         "text": [
          "cluster: 34, component: Chinese Spring 1_001829_5742_m/z268.5936_RT7.4233",
          "cluster: 34, component: Chinese Spring 1_001829_5742_m/z268.5936_RT7.4233",
          null,
          null
         ],
         "type": "scatter",
         "uid": "0b37d43a-924c-4934-a824-6bf22abdad84",
         "x": [
          1815,
          1815,
          1830,
          1830
         ],
         "xaxis": "x",
         "y": [
          0,
          0.5294117647058824,
          0.5294117647058824,
          0.34065934065934067
         ],
         "yaxis": "y"
        },
        {
         "hoverinfo": "text",
         "marker": {
          "color": "rgb(35,205,205)"
         },
         "mode": "lines",
         "text": [
          "cluster: 35, component: Chinese Spring 1_001829_2484_m/z247.0598_RT4.0255",
          "cluster: 35, component: Chinese Spring 1_001829_2484_m/z247.0598_RT4.0255",
          "cluster: 35, component: Chinese Spring 1_001829_2604_m/z247.0598_RT4.1147",
          "cluster: 35, component: Chinese Spring 1_001829_2604_m/z247.0598_RT4.1147"
         ],
         "type": "scatter",
         "uid": "918ecae2-ec89-4ad4-a1f7-7ea6206c8af4",
         "x": [
          1845,
          1845,
          1855,
          1855
         ],
         "xaxis": "x",
         "y": [
          0,
          0.21428571428571427,
          0.21428571428571427,
          0
         ],
         "yaxis": "y"
        },
        {
         "hoverinfo": "text",
         "marker": {
          "color": "rgb(35,205,205)"
         },
         "mode": "lines",
         "text": [
          "cluster: 35, component: Chinese Spring 1_001829_1873_m/z212.0390_RT3.0271",
          "cluster: 35, component: Chinese Spring 1_001829_1873_m/z212.0390_RT3.0271",
          "cluster: 35, component: Chinese Spring 1_001829_5506_m/z214.5649_RT6.8301",
          "cluster: 35, component: Chinese Spring 1_001829_5506_m/z214.5649_RT6.8301"
         ],
         "type": "scatter",
         "uid": "4ca809d4-0eb2-411b-826e-c17f06396889",
         "x": [
          1875,
          1875,
          1885,
          1885
         ],
         "xaxis": "x",
         "y": [
          0,
          0.6363636363636364,
          0.6363636363636364,
          0
         ],
         "yaxis": "y"
        },
        {
         "hoverinfo": "text",
         "marker": {
          "color": "rgb(35,205,205)"
         },
         "mode": "lines",
         "text": [
          "cluster: 35, component: Chinese Spring 1_001829_3431_m/z219.0467_RT4.8501",
          "cluster: 35, component: Chinese Spring 1_001829_3431_m/z219.0467_RT4.8501",
          null,
          null
         ],
         "type": "scatter",
         "uid": "8b88d4eb-a0d3-4ebc-990b-568ba6c09e45",
         "x": [
          1865,
          1865,
          1880,
          1880
         ],
         "xaxis": "x",
         "y": [
          0,
          0.6842105263157895,
          0.6842105263157895,
          0.6363636363636364
         ],
         "yaxis": "y"
        },
        {
         "hoverinfo": "text",
         "marker": {
          "color": "rgb(35,205,205)"
         },
         "mode": "lines",
         "text": [
          null,
          null,
          null,
          null
         ],
         "type": "scatter",
         "uid": "21518117-e22d-4eeb-b44c-044d673daf44",
         "x": [
          1850,
          1850,
          1872.5,
          1872.5
         ],
         "xaxis": "x",
         "y": [
          0.21428571428571427,
          0.75,
          0.75,
          0.6842105263157895
         ],
         "yaxis": "y"
        },
        {
         "hoverinfo": "text",
         "marker": {
          "color": "rgb(0,116,217)"
         },
         "mode": "lines",
         "text": [
          null,
          null,
          null,
          null
         ],
         "type": "scatter",
         "uid": "f0f267ba-61dd-47c6-ac90-fdfa596c5b04",
         "x": [
          1822.5,
          1822.5,
          1861.25,
          1861.25
         ],
         "xaxis": "x",
         "y": [
          0.5294117647058824,
          0.8481012658227848,
          0.8481012658227848,
          0.75
         ],
         "yaxis": "y"
        },
        {
         "hoverinfo": "text",
         "marker": {
          "color": "rgb(0,116,217)"
         },
         "mode": "lines",
         "text": [
          "cluster: 36, component: Chinese Spring 1_001829_0924_m/z214.5102_RT1.0029",
          "cluster: 36, component: Chinese Spring 1_001829_0924_m/z214.5102_RT1.0029",
          null,
          null
         ],
         "type": "scatter",
         "uid": "aff6dd68-e7ea-4d23-aee8-ff6b9b5bd4f2",
         "x": [
          1805,
          1805,
          1841.875,
          1841.875
         ],
         "xaxis": "x",
         "y": [
          0,
          0.9111111111111111,
          0.9111111111111111,
          0.8481012658227848
         ],
         "yaxis": "y"
        },
        {
         "hoverinfo": "text",
         "marker": {
          "color": "rgb(133,20,75)"
         },
         "mode": "lines",
         "text": [
          "cluster: 37, component: Chinese Spring 1_001829_4649_m/z625.1763_RT5.7730",
          "cluster: 37, component: Chinese Spring 1_001829_4649_m/z625.1763_RT5.7730",
          "cluster: 37, component: Chinese Spring 1_001829_4877_m/z463.1232_RT5.9646",
          "cluster: 37, component: Chinese Spring 1_001829_4877_m/z463.1232_RT5.9646"
         ],
         "type": "scatter",
         "uid": "455f9e29-13e2-4dc6-93ea-ba41acca1d58",
         "x": [
          1905,
          1905,
          1915,
          1915
         ],
         "xaxis": "x",
         "y": [
          0,
          0.5121951219512195,
          0.5121951219512195,
          0
         ],
         "yaxis": "y"
        },
        {
         "hoverinfo": "text",
         "marker": {
          "color": "rgb(0,116,217)"
         },
         "mode": "lines",
         "text": [
          "cluster: 38, component: Chinese Spring 1_001829_3870_m/z595.1657_RT5.1846",
          "cluster: 38, component: Chinese Spring 1_001829_3870_m/z595.1657_RT5.1846",
          null,
          null
         ],
         "type": "scatter",
         "uid": "3f22eebe-ab73-49c9-b45f-480a3eae4a46",
         "x": [
          1895,
          1895,
          1910,
          1910
         ],
         "xaxis": "x",
         "y": [
          0,
          0.8095238095238095,
          0.8095238095238095,
          0.5121951219512195
         ],
         "yaxis": "y"
        },
        {
         "hoverinfo": "text",
         "marker": {
          "color": "rgb(255,220,0)"
         },
         "mode": "lines",
         "text": [
          "cluster: 39, component: Chinese Spring 1_001829_0770_m/z182.0811_RT0.8558",
          "cluster: 39, component: Chinese Spring 1_001829_0770_m/z182.0811_RT0.8558",
          "cluster: 39, component: Chinese Spring 1_001829_0839_m/z182.0811_RT0.9405",
          "cluster: 39, component: Chinese Spring 1_001829_0839_m/z182.0811_RT0.9405"
         ],
         "type": "scatter",
         "uid": "b7f65a28-4463-4c99-bcf4-578e1157abc5",
         "x": [
          1925,
          1925,
          1935,
          1935
         ],
         "xaxis": "x",
         "y": [
          0,
          0.28,
          0.28,
          0
         ],
         "yaxis": "y"
        },
        {
         "hoverinfo": "text",
         "marker": {
          "color": "rgb(40,35,35)"
         },
         "mode": "lines",
         "text": [
          "cluster: 40, component: Chinese Spring 1_001829_3666_m/z212.0552_RT5.0017",
          "cluster: 40, component: Chinese Spring 1_001829_3666_m/z212.0552_RT5.0017",
          "cluster: 40, component: Chinese Spring 1_001829_4302_m/z194.0447_RT5.4788",
          "cluster: 40, component: Chinese Spring 1_001829_4302_m/z194.0447_RT5.4788"
         ],
         "type": "scatter",
         "uid": "6e942b4c-8fe9-4888-8cb9-51f6d972cdf6",
         "x": [
          1945,
          1945,
          1955,
          1955
         ],
         "xaxis": "x",
         "y": [
          0,
          0.3670886075949367,
          0.3670886075949367,
          0
         ],
         "yaxis": "y"
        },
        {
         "hoverinfo": "text",
         "marker": {
          "color": "rgb(0,116,217)"
         },
         "mode": "lines",
         "text": [
          null,
          null,
          null,
          null
         ],
         "type": "scatter",
         "uid": "d6f1927c-f853-410a-bc7e-76d4bb6d28eb",
         "x": [
          1930,
          1930,
          1950,
          1950
         ],
         "xaxis": "x",
         "y": [
          0.28,
          0.855072463768116,
          0.855072463768116,
          0.3670886075949367
         ],
         "yaxis": "y"
        },
        {
         "hoverinfo": "text",
         "marker": {
          "color": "rgb(61,153,112)"
         },
         "mode": "lines",
         "text": [
          "cluster: 41, component: Chinese Spring 1_001829_2440_m/z333.1520_RT3.9631",
          "cluster: 41, component: Chinese Spring 1_001829_2440_m/z333.1520_RT3.9631",
          "cluster: 41, component: Chinese Spring 1_001829_2563_m/z333.1519_RT4.0835",
          "cluster: 41, component: Chinese Spring 1_001829_2563_m/z333.1519_RT4.0835"
         ],
         "type": "scatter",
         "uid": "91130d15-86c5-499a-a2dc-ce823ac35865",
         "x": [
          1965,
          1965,
          1975,
          1975
         ],
         "xaxis": "x",
         "y": [
          0,
          0.7333333333333333,
          0.7333333333333333,
          0
         ],
         "yaxis": "y"
        },
        {
         "hoverinfo": "text",
         "marker": {
          "color": "rgb(255,65,54)"
         },
         "mode": "lines",
         "text": [
          "cluster: 42, component: Chinese Spring 1_001829_1519_m/z319.1363_RT1.9258",
          "cluster: 42, component: Chinese Spring 1_001829_1519_m/z319.1363_RT1.9258",
          "cluster: 42, component: Chinese Spring 1_001829_1645_m/z319.1363_RT2.3986",
          "cluster: 42, component: Chinese Spring 1_001829_1645_m/z319.1363_RT2.3986"
         ],
         "type": "scatter",
         "uid": "26ce011d-7d17-49ce-8f1e-6f198ef3eb65",
         "x": [
          1985,
          1985,
          1995,
          1995
         ],
         "xaxis": "x",
         "y": [
          0,
          0.6,
          0.6,
          0
         ],
         "yaxis": "y"
        },
        {
         "hoverinfo": "text",
         "marker": {
          "color": "rgb(35,205,205)"
         },
         "mode": "lines",
         "text": [
          "cluster: 43, component: Chinese Spring 1_001829_1084_m/z229.1545_RT1.0920",
          "cluster: 43, component: Chinese Spring 1_001829_1084_m/z229.1545_RT1.0920",
          "cluster: 43, component: Chinese Spring 1_001829_1122_m/z229.1545_RT1.1143",
          "cluster: 43, component: Chinese Spring 1_001829_1122_m/z229.1545_RT1.1143"
         ],
         "type": "scatter",
         "uid": "5c70d2ae-6ab4-4675-95c3-6c9ecddb1d42",
         "x": [
          2035,
          2035,
          2045,
          2045
         ],
         "xaxis": "x",
         "y": [
          0,
          0,
          0,
          0
         ],
         "yaxis": "y"
        },
        {
         "hoverinfo": "text",
         "marker": {
          "color": "rgb(35,205,205)"
         },
         "mode": "lines",
         "text": [
          "cluster: 43, component: Chinese Spring 1_001829_0683_m/z229.1545_RT0.7845",
          "cluster: 43, component: Chinese Spring 1_001829_0683_m/z229.1545_RT0.7845",
          null,
          null
         ],
         "type": "scatter",
         "uid": "aea259d4-0523-477c-a9db-012416a7ed67",
         "x": [
          2025,
          2025,
          2040,
          2040
         ],
         "xaxis": "x",
         "y": [
          0,
          0.23809523809523808,
          0.23809523809523808,
          0
         ],
         "yaxis": "y"
        },
        {
         "hoverinfo": "text",
         "marker": {
          "color": "rgb(35,205,205)"
         },
         "mode": "lines",
         "text": [
          "cluster: 43, component: Chinese Spring 1_001829_0764_m/z229.1545_RT0.8469",
          "cluster: 43, component: Chinese Spring 1_001829_0764_m/z229.1545_RT0.8469",
          null,
          null
         ],
         "type": "scatter",
         "uid": "cf76ee1b-7459-4e5a-9757-b6a666780c3f",
         "x": [
          2015,
          2015,
          2032.5,
          2032.5
         ],
         "xaxis": "x",
         "y": [
          0,
          0.7777777777777778,
          0.7777777777777778,
          0.23809523809523808
         ],
         "yaxis": "y"
        },
        {
         "hoverinfo": "text",
         "marker": {
          "color": "rgb(0,116,217)"
         },
         "mode": "lines",
         "text": [
          "cluster: 44, component: Chinese Spring 1_001829_0094_m/z265.0154_RT0.5705",
          "cluster: 44, component: Chinese Spring 1_001829_0094_m/z265.0154_RT0.5705",
          null,
          null
         ],
         "type": "scatter",
         "uid": "63f2223a-83a3-41e9-ab45-09d58d45bb56",
         "x": [
          2005,
          2005,
          2023.75,
          2023.75
         ],
         "xaxis": "x",
         "y": [
          0,
          1,
          1,
          0.7777777777777778
         ],
         "yaxis": "y"
        },
        {
         "hoverinfo": "text",
         "marker": {
          "color": "rgb(0,116,217)"
         },
         "mode": "lines",
         "text": [
          null,
          null,
          null,
          null
         ],
         "type": "scatter",
         "uid": "f0d8554e-5ceb-415f-9bdc-463ec3b395ab",
         "x": [
          1990,
          1990,
          2014.375,
          2014.375
         ],
         "xaxis": "x",
         "y": [
          0.6,
          1,
          1,
          1
         ],
         "yaxis": "y"
        },
        {
         "hoverinfo": "text",
         "marker": {
          "color": "rgb(0,116,217)"
         },
         "mode": "lines",
         "text": [
          null,
          null,
          null,
          null
         ],
         "type": "scatter",
         "uid": "05ddbbf2-fc01-48fb-b7ae-5261fa70eea5",
         "x": [
          1970,
          1970,
          2002.1875,
          2002.1875
         ],
         "xaxis": "x",
         "y": [
          0.7333333333333333,
          1,
          1,
          1
         ],
         "yaxis": "y"
        },
        {
         "hoverinfo": "text",
         "marker": {
          "color": "rgb(0,116,217)"
         },
         "mode": "lines",
         "text": [
          null,
          null,
          null,
          null
         ],
         "type": "scatter",
         "uid": "30959b15-032b-4178-8e21-58fc83639fdd",
         "x": [
          1940,
          1940,
          1986.09375,
          1986.09375
         ],
         "xaxis": "x",
         "y": [
          0.855072463768116,
          1,
          1,
          1
         ],
         "yaxis": "y"
        },
        {
         "hoverinfo": "text",
         "marker": {
          "color": "rgb(0,116,217)"
         },
         "mode": "lines",
         "text": [
          null,
          null,
          null,
          null
         ],
         "type": "scatter",
         "uid": "14bb540b-c48d-49dd-8efa-a755afdeaeb5",
         "x": [
          1902.5,
          1902.5,
          1963.046875,
          1963.046875
         ],
         "xaxis": "x",
         "y": [
          0.8095238095238095,
          1,
          1,
          1
         ],
         "yaxis": "y"
        },
        {
         "hoverinfo": "text",
         "marker": {
          "color": "rgb(0,116,217)"
         },
         "mode": "lines",
         "text": [
          null,
          null,
          null,
          null
         ],
         "type": "scatter",
         "uid": "56f7f9ff-3f80-4b79-94d2-7a7be9701672",
         "x": [
          1823.4375,
          1823.4375,
          1932.7734375,
          1932.7734375
         ],
         "xaxis": "x",
         "y": [
          0.9111111111111111,
          1,
          1,
          1
         ],
         "yaxis": "y"
        },
        {
         "hoverinfo": "text",
         "marker": {
          "color": "rgb(0,116,217)"
         },
         "mode": "lines",
         "text": [
          "cluster: 45, component: Chinese Spring 1_001829_8795_m/z797.5175_RT14.4412",
          "cluster: 45, component: Chinese Spring 1_001829_8795_m/z797.5175_RT14.4412",
          null,
          null
         ],
         "type": "scatter",
         "uid": "72aec28c-9de1-40c2-92e1-49ecf24c0c8b",
         "x": [
          1795,
          1795,
          1878.10546875,
          1878.10546875
         ],
         "xaxis": "x",
         "y": [
          0,
          1,
          1,
          1
         ],
         "yaxis": "y"
        },
        {
         "hoverinfo": "text",
         "marker": {
          "color": "rgb(0,116,217)"
         },
         "mode": "lines",
         "text": [
          null,
          null,
          null,
          null
         ],
         "type": "scatter",
         "uid": "1545c12c-1c6a-4ba5-8e87-cede6e5ee538",
         "x": [
          1770,
          1770,
          1836.552734375,
          1836.552734375
         ],
         "xaxis": "x",
         "y": [
          0.9534883720930233,
          1,
          1,
          1
         ],
         "yaxis": "y"
        },
        {
         "hoverinfo": "text",
         "marker": {
          "color": "rgb(0,116,217)"
         },
         "mode": "lines",
         "text": [
          null,
          null,
          null,
          null
         ],
         "type": "scatter",
         "uid": "7b61add4-ae7f-433b-80c1-f747fed479af",
         "x": [
          1677.65625,
          1677.65625,
          1803.2763671875,
          1803.2763671875
         ],
         "xaxis": "x",
         "y": [
          0.9696969696969697,
          1,
          1,
          1
         ],
         "yaxis": "y"
        },
        {
         "hoverinfo": "text",
         "marker": {
          "color": "rgb(0,116,217)"
         },
         "mode": "lines",
         "text": [
          null,
          null,
          null,
          null
         ],
         "type": "scatter",
         "uid": "ffe7d7e2-b8eb-4c8c-9c2b-2a5f71f5c897",
         "x": [
          1582.109375,
          1582.109375,
          1740.46630859375,
          1740.46630859375
         ],
         "xaxis": "x",
         "y": [
          0.9555555555555556,
          1,
          1,
          1
         ],
         "yaxis": "y"
        },
        {
         "hoverinfo": "text",
         "marker": {
          "color": "rgb(0,116,217)"
         },
         "mode": "lines",
         "text": [
          null,
          null,
          null,
          null
         ],
         "type": "scatter",
         "uid": "bcb3b563-f6ab-42da-9d75-b863c7237a6b",
         "x": [
          1451.875,
          1451.875,
          1661.287841796875,
          1661.287841796875
         ],
         "xaxis": "x",
         "y": [
          0.971830985915493,
          1,
          1,
          1
         ],
         "yaxis": "y"
        },
        {
         "hoverinfo": "text",
         "marker": {
          "color": "rgb(0,116,217)"
         },
         "mode": "lines",
         "text": [
          null,
          null,
          null,
          null
         ],
         "type": "scatter",
         "uid": "6aedd931-872d-43b3-971b-d0cb14f49662",
         "x": [
          1307.8125,
          1307.8125,
          1556.5814208984375,
          1556.5814208984375
         ],
         "xaxis": "x",
         "y": [
          0.978494623655914,
          1,
          1,
          1
         ],
         "yaxis": "y"
        },
        {
         "hoverinfo": "text",
         "marker": {
          "color": "rgb(0,116,217)"
         },
         "mode": "lines",
         "text": [
          null,
          null,
          null,
          null
         ],
         "type": "scatter",
         "uid": "1562f2dc-a249-4d47-9f63-7786f134ac15",
         "x": [
          1124.912109375,
          1124.912109375,
          1432.1969604492188,
          1432.1969604492188
         ],
         "xaxis": "x",
         "y": [
          0.9411764705882353,
          1,
          1,
          1
         ],
         "yaxis": "y"
        },
        {
         "hoverinfo": "text",
         "marker": {
          "color": "rgb(0,116,217)"
         },
         "mode": "lines",
         "text": [
          null,
          null,
          null,
          null
         ],
         "type": "scatter",
         "uid": "6fdc4271-d597-42ca-b2a8-fc7659b30ae3",
         "x": [
          1005.15625,
          1005.15625,
          1278.5545349121094,
          1278.5545349121094
         ],
         "xaxis": "x",
         "y": [
          0.696969696969697,
          1,
          1,
          1
         ],
         "yaxis": "y"
        },
        {
         "hoverinfo": "text",
         "marker": {
          "color": "rgb(0,116,217)"
         },
         "mode": "lines",
         "text": [
          "cluster: 46, component: blk_001809_0035_m/z141.0508_RT0.5557",
          "cluster: 46, component: blk_001809_0035_m/z141.0508_RT0.5557",
          null,
          null
         ],
         "type": "scatter",
         "uid": "4eeac41d-f9b7-402f-8d3e-f728e05dc149",
         "x": [
          965,
          965,
          1141.8553924560547,
          1141.8553924560547
         ],
         "xaxis": "x",
         "y": [
          0,
          1,
          1,
          1
         ],
         "yaxis": "y"
        },
        {
         "hoverinfo": "text",
         "marker": {
          "color": "rgb(0,116,217)"
         },
         "mode": "lines",
         "text": [
          null,
          null,
          null,
          null
         ],
         "type": "scatter",
         "uid": "b17f96dc-0218-4924-8384-b3420166a00a",
         "x": [
          720.869140625,
          720.869140625,
          1053.4276962280273,
          1053.4276962280273
         ],
         "xaxis": "x",
         "y": [
          0.9767441860465116,
          1,
          1,
          1
         ],
         "yaxis": "y"
        },
        {
         "hoverinfo": "text",
         "marker": {
          "color": "rgb(0,116,217)"
         },
         "mode": "lines",
         "text": [
          null,
          null,
          null,
          null
         ],
         "type": "scatter",
         "uid": "48bc9692-e94f-4e0a-bdef-d8e088e12a5b",
         "x": [
          484.0625,
          484.0625,
          887.1484184265137,
          887.1484184265137
         ],
         "xaxis": "x",
         "y": [
          0.9636363636363636,
          1,
          1,
          1
         ],
         "yaxis": "y"
        },
        {
         "hoverinfo": "text",
         "marker": {
          "color": "rgb(0,116,217)"
         },
         "mode": "lines",
         "text": [
          null,
          null,
          null,
          null
         ],
         "type": "scatter",
         "uid": "4bca28ab-73c4-4e90-8c61-c828d809bc19",
         "x": [
          221.85302734375,
          221.85302734375,
          685.6054592132568,
          685.6054592132568
         ],
         "xaxis": "x",
         "y": [
          0.927710843373494,
          1,
          1,
          1
         ],
         "yaxis": "y"
        }
       ],
       "layout": {
        "autosize": false,
        "height": 800,
        "hovermode": "closest",
        "margin": {
         "b": 612
        },
        "showlegend": false,
        "title": {
         "text": "Component clusters. method = braycurtis, cutoff = 0.8, threshold = 0.0008"
        },
        "width": 900,
        "xaxis": {
         "mirror": "allticks",
         "rangemode": "tozero",
         "showgrid": false,
         "showline": true,
         "showticklabels": true,
         "tickmode": "array",
         "ticks": "outside",
         "ticktext": [
          "Chinese Spring 1_001829_8203_m/z613.4826_RT12.2884",
          "Chinese Spring 1_001829_7933_m/z792.5621_RT11.9987",
          "Chinese Spring 1_001829_8737_m/z613.4826_RT13.9777",
          "Chinese Spring 1_001829_6867_m/z596.3096_RT9.9999",
          "Chinese Spring 5_001887_7848_m/z792.5621_RT14.4273",
          "blk_001809_2310_m/z571.4292_RT14.5025",
          "Chinese Spring 1_001829_7309_m/z497.3107_RT10.7050",
          "Chinese Spring 1_001829_6971_m/z507.2717_RT10.1162",
          "Cobra 1_001832_7415_m/z571.4716_RT11.9269",
          "Chinese Spring 1_001829_8002_m/z335.2578_RT12.0967",
          "Chinese Spring 1_001829_6962_m/z335.2578_RT10.1118",
          "Chinese Spring 1_001829_7924_m/z335.2579_RT11.9987",
          "Chinese Spring 1_001829_7102_m/z335.2578_RT10.4732",
          "Chinese Spring 1_001829_7304_m/z335.2577_RT10.7050",
          "Chinese Spring 1_001829_6770_m/z335.2578_RT9.7767",
          "Chinese Spring 1_001829_7176_m/z261.2209_RT10.5802",
          "Chinese Spring 1_001829_6995_m/z353.2686_RT10.1519",
          "Chinese Spring 1_001829_7306_m/z353.2686_RT10.7050",
          "Chinese Spring 1_001829_7300_m/z261.2209_RT10.7050",
          "Chinese Spring 1_001829_6884_m/z335.2579_RT10.0132",
          "Chinese Spring 1_001829_7178_m/z335.2579_RT10.5802",
          "blk_001809_0873_m/z272.2582_RT9.6975",
          "Cobra 1_001832_8139_m/z338.3414_RT14.1645",
          "blk_001809_2081_m/z244.1905_RT12.7018",
          "Chinese Spring 1_001829_6885_m/z353.2690_RT10.0132",
          "Chinese Spring 1_001829_7180_m/z353.2688_RT10.5802",
          "Chinese Spring 1_001829_7587_m/z278.2475_RT11.3925",
          "Chinese Spring 1_001829_7923_m/z279.2315_RT11.9987",
          "Chinese Spring 1_001829_7499_m/z435.2504_RT11.0802",
          "Chinese Spring 1_001829_7119_m/z337.2734_RT10.5000",
          "Chinese Spring 1_001829_8646_m/z337.2733_RT13.6924",
          "Chinese Spring 1_001829_7690_m/z618.4271_RT11.6644",
          "Chinese Spring 1_001829_8106_m/z583.4143_RT12.1770",
          "Chinese Spring 1_001829_7448_m/z599.4093_RT11.0178",
          "Chinese Spring 1_001829_7776_m/z601.4244_RT11.7714",
          "Chinese Spring 1_001829_8582_m/z599.4089_RT13.2111",
          "Chinese Spring 1_001829_7361_m/z618.4278_RT10.7852",
          "Chinese Spring 1_001829_7576_m/z618.4271_RT11.3791",
          "Chinese Spring 1_001829_8729_m/z568.4263_RT13.9732",
          "Chinese Spring 1_001829_7954_m/z565.4037_RT12.0210",
          "Chinese Spring 1_001829_7574_m/z583.4141_RT11.3791",
          "Chinese Spring 1_001829_7780_m/z583.4141_RT11.7758",
          "Chinese Spring 1_001829_8525_m/z601.4234_RT13.0595",
          "Chinese Spring 1_001829_7357_m/z583.4143_RT10.7852",
          "Chinese Spring 1_001829_8191_m/z583.4143_RT12.2617",
          "Chinese Spring 1_001829_0928_m/z269.1605_RT1.0029",
          "Chinese Spring 1_001829_0989_m/z268.1037_RT1.0386",
          "blk_001809_1552_m/z364.3418_RT11.7523",
          "blk_001809_1616_m/z364.3418_RT11.8147",
          "blk_001809_1516_m/z408.3681_RT11.7389",
          "blk_001809_1750_m/z466.4099_RT12.1446",
          "blk_001809_1657_m/z408.3681_RT11.9395",
          "blk_001809_1903_m/z482.4048_RT12.3318",
          "blk_001809_1999_m/z364.3424_RT12.5502",
          "blk_001809_2060_m/z364.3424_RT12.6438",
          "blk_001809_1642_m/z424.3632_RT11.9261",
          "blk_001809_1747_m/z421.3521_RT12.1446",
          "Chinese Spring 1_001829_7380_m/z483.2713_RT10.8387",
          "Chinese Spring 1_001829_7338_m/z338.2607_RT10.7228",
          "Chinese Spring 1_001829_6626_m/z320.2946_RT9.3934",
          "Chinese Spring 1_001829_6684_m/z320.2946_RT9.6341",
          "Chinese Spring 1_001829_4681_m/z129.1273_RT5.8086",
          "Chinese Spring 1_001829_5571_m/z171.1490_RT6.9999",
          "Chinese Spring 3_001858_5649_m/z201.1636_RT7.2384",
          "Cobra 1_001832_5681_m/z201.1636_RT7.3651",
          "Chinese Spring 1_001829_6034_m/z209.1534_RT7.9760",
          "Chinese Spring 1_001829_3534_m/z209.1534_RT4.9214",
          "Chinese Spring 1_001829_3874_m/z209.1534_RT5.1891",
          "Chinese Spring 1_001829_3976_m/z209.1534_RT5.2738",
          "Chinese Spring 1_001829_6121_m/z281.1745_RT8.1944",
          "blk_001809_0513_m/z243.1589_RT8.8417",
          "Chinese Spring 1_001829_6701_m/z293.2106_RT9.6921",
          "Chinese Spring 1_001829_4627_m/z227.1640_RT5.7507",
          "blk_001809_0743_m/z283.1902_RT9.4033",
          "Chinese Spring 1_001829_3576_m/z207.1378_RT4.9437",
          "Chinese Spring 1_001829_3487_m/z227.1275_RT4.8769",
          "Chinese Spring 1_001829_3537_m/z227.1276_RT4.9214",
          "Chinese Spring 1_001829_8442_m/z181.1221_RT12.7876",
          "Chinese Spring 2_001850_7898_m/z181.1221_RT13.1904",
          "Chinese Spring 1_001829_5465_m/z211.1690_RT6.7722",
          "Chinese Spring 1_001829_5452_m/z209.0807_RT6.7499",
          "Chinese Spring 1_001829_5697_m/z211.1691_RT7.3342",
          "Chinese Spring 1_001829_5778_m/z211.1691_RT7.5080",
          "Chinese Spring 1_001829_6053_m/z215.1640_RT8.0384",
          "blk_001809_0654_m/z215.1640_RT9.1582",
          "Chinese Spring 2_001850_5547_m/z137.0960_RT7.4167",
          "Chinese Spring 2_001850_6060_m/z219.1741_RT8.6023",
          "Chinese Spring 2_001850_6092_m/z219.1742_RT8.6424",
          "Chinese Spring 1_001829_6166_m/z219.1741_RT8.3371",
          "Chinese Spring 1_001829_5806_m/z219.1741_RT7.5303",
          "Cobra 1_001832_5682_m/z219.1741_RT7.3651",
          "Chinese Spring 1_001829_5301_m/z191.1428_RT6.5359",
          "Chinese Spring 1_001829_3978_m/z191.1429_RT5.2782",
          "Chinese Spring 1_001829_5431_m/z191.1429_RT6.7410",
          "Chinese Spring 1_001829_4949_m/z209.0807_RT6.0494",
          "Chinese Spring 1_001829_6612_m/z207.1378_RT9.3355",
          "blk_001809_0035_m/z141.0508_RT0.5557",
          "Chinese Spring 1_001829_2250_m/z177.0544_RT3.6957",
          "Chinese Spring 1_001829_3815_m/z177.0545_RT5.1175",
          "Espada 3_001867_2046_m/z177.0545_RT3.9185",
          "Chinese Spring 1_001829_3575_m/z199.9878_RT4.9437",
          "Chinese Spring 3_001858_3785_m/z199.9877_RT5.0667",
          "Chinese Spring 1_001829_0008_m/z199.9878_RT0.5260",
          "Chinese Spring 1_001829_3401_m/z199.9878_RT4.8234",
          "Chinese Spring 1_001829_4213_m/z199.9877_RT5.4298",
          "Chinese Spring 2_001850_3871_m/z199.9878_RT5.2900",
          "Cobra 2_001852_4324_m/z199.9878_RT6.0264",
          "Chinese Spring 2_001850_4313_m/z199.9878_RT5.5708",
          "Cobra 2_001852_2321_m/z199.9877_RT4.2435",
          "Chinese Spring 1_001829_5512_m/z463.1233_RT6.8301",
          "Chinese Spring 1_001829_3296_m/z611.1606_RT4.7565",
          "Chinese Spring 1_001829_3857_m/z611.1606_RT5.1666",
          "Chinese Spring 1_001829_3593_m/z339.1073_RT4.9571",
          "Chinese Spring 1_001829_4973_m/z339.1073_RT6.0940",
          "Chinese Spring 1_001829_6003_m/z498.2543_RT7.9315",
          "Chinese Spring 1_001829_3932_m/z340.1603_RT5.2470",
          "Chinese Spring 1_001829_5413_m/z231.0497_RT6.7231",
          "Chinese Spring 1_001829_3927_m/z231.0497_RT5.2470",
          "Chinese Spring 1_001829_5035_m/z231.0497_RT6.1564",
          "Chinese Spring 1_001829_6283_m/z231.0496_RT8.6045",
          "Chinese Spring 2_001850_1213_m/z314.1446_RT1.3713",
          "Emu Rock 2_001847_1099_m/z314.1446_RT1.2598",
          "Chinese Spring 1_001829_2752_m/z342.1759_RT4.2840",
          "Chinese Spring 3_001858_1605_m/z310.1495_RT2.2587",
          "Chinese Spring 1_001829_1178_m/z241.1544_RT1.1946",
          "Chinese Spring 1_001829_1844_m/z507.1819_RT2.9692",
          "Correll 1_001837_4911_m/z251.0911_RT6.5612",
          "Chinese Spring 1_001829_5685_m/z219.1014_RT7.3074",
          "Chinese Spring 1_001829_4912_m/z219.1014_RT5.9958",
          "Chinese Spring 1_001829_5175_m/z219.1014_RT6.3621",
          "Chinese Spring 1_001829_2478_m/z291.1449_RT4.0211",
          "Chinese Spring 1_001829_2534_m/z291.1449_RT4.0567",
          "Chinese Spring 1_001829_1967_m/z291.1450_RT3.3302",
          "Chinese Spring 1_001829_1966_m/z273.1343_RT3.3302",
          "Chinese Spring 1_001829_2526_m/z273.1343_RT4.0523",
          "Chinese Spring 1_001829_1994_m/z251.1387_RT3.3658",
          "Chinese Spring 1_001829_1874_m/z235.1439_RT3.0271",
          "Chinese Spring 1_001829_2318_m/z235.1439_RT3.7670",
          "Chinese Spring 1_001829_2426_m/z194.0447_RT3.9542",
          "Cobra 3_001856_2051_m/z194.1174_RT3.6295",
          "Chinese Spring 1_001829_3643_m/z194.0447_RT4.9972",
          "Chinese Spring 1_001829_3914_m/z194.0447_RT5.2381",
          "Chinese Spring 1_001829_4309_m/z212.0552_RT5.4788",
          "Chinese Spring 1_001829_2958_m/z212.0552_RT4.4445",
          "Chinese Spring 1_001829_5341_m/z194.0447_RT6.6117",
          "Chinese Spring 1_001829_5342_m/z226.0708_RT6.6117",
          "Chinese Spring 1_001829_2262_m/z533.1549_RT3.7001",
          "Chinese Spring 1_001829_2618_m/z533.1546_RT4.1191",
          "Chinese Spring 1_001829_2044_m/z533.1546_RT3.4461",
          "Chinese Spring 1_001829_3026_m/z533.1549_RT4.5203",
          "Chinese Spring 1_001829_2030_m/z347.0907_RT3.4015",
          "Chinese Spring 2_001850_1485_m/z347.0907_RT2.1112",
          "Chinese Spring 1_001829_1626_m/z194.1174_RT2.2515",
          "Cobra 2_001852_2090_m/z194.1174_RT4.0473",
          "Chinese Spring 1_001829_6552_m/z320.2946_RT9.1394",
          "Chinese Spring 1_001829_7255_m/z320.2946_RT10.6470",
          "Chinese Spring 1_001829_6510_m/z320.2948_RT9.0458",
          "Chinese Spring 1_001829_6404_m/z320.2946_RT8.8274",
          "Chinese Spring 1_001829_6439_m/z320.2946_RT8.8987",
          "Chinese Spring 1_001829_6466_m/z320.2948_RT8.9700",
          "Chinese Spring 1_001829_0724_m/z241.1544_RT0.7890",
          "Chinese Spring 1_001829_0785_m/z241.1544_RT0.8781",
          "Chinese Spring 1_001829_5942_m/z332.2584_RT7.8067",
          "Chinese Spring 1_001829_6229_m/z332.2583_RT8.4886",
          "Chinese Spring 1_001829_6093_m/z332.2583_RT8.1097",
          "Chinese Spring 1_001829_6127_m/z332.2584_RT8.1989",
          "Chinese Spring 1_001829_0877_m/z260.1603_RT0.9851",
          "Chinese Spring 1_001829_3318_m/z132.0444_RT4.7743",
          "Chinese Spring 1_001829_1633_m/z246.1446_RT2.2783",
          "Chinese Spring 1_001829_1708_m/z247.1286_RT2.6482",
          "Chinese Spring 1_001829_1642_m/z260.1602_RT2.3719",
          "Chinese Spring 2_001850_1603_m/z260.1603_RT2.4945",
          "Chinese Spring 1_001829_1656_m/z233.1494_RT2.5234",
          "Chinese Spring 1_001829_1564_m/z233.1494_RT2.1044",
          "Chinese Spring 5_001887_1443_m/z233.1494_RT2.2226",
          "Chinese Spring 1_001829_1393_m/z221.1284_RT1.6494",
          "Chinese Spring 2_001850_1669_m/z237.1232_RT2.8467",
          "Chinese Spring 1_001829_0821_m/z237.1231_RT0.9093",
          "Chinese Spring 1_001829_2218_m/z237.1231_RT3.6645",
          "Chinese Spring 1_001829_8795_m/z797.5175_RT14.4412",
          "Chinese Spring 1_001829_0924_m/z214.5102_RT1.0029",
          "Chinese Spring 1_001829_5742_m/z268.5936_RT7.4233",
          "Chinese Spring 1_001829_3925_m/z222.0703_RT5.2470",
          "Chinese Spring 1_001829_6287_m/z250.1014_RT8.6045",
          "Chinese Spring 1_001829_2484_m/z247.0598_RT4.0255",
          "Chinese Spring 1_001829_2604_m/z247.0598_RT4.1147",
          "Chinese Spring 1_001829_3431_m/z219.0467_RT4.8501",
          "Chinese Spring 1_001829_1873_m/z212.0390_RT3.0271",
          "Chinese Spring 1_001829_5506_m/z214.5649_RT6.8301",
          "Chinese Spring 1_001829_3870_m/z595.1657_RT5.1846",
          "Chinese Spring 1_001829_4649_m/z625.1763_RT5.7730",
          "Chinese Spring 1_001829_4877_m/z463.1232_RT5.9646",
          "Chinese Spring 1_001829_0770_m/z182.0811_RT0.8558",
          "Chinese Spring 1_001829_0839_m/z182.0811_RT0.9405",
          "Chinese Spring 1_001829_3666_m/z212.0552_RT5.0017",
          "Chinese Spring 1_001829_4302_m/z194.0447_RT5.4788",
          "Chinese Spring 1_001829_2440_m/z333.1520_RT3.9631",
          "Chinese Spring 1_001829_2563_m/z333.1519_RT4.0835",
          "Chinese Spring 1_001829_1519_m/z319.1363_RT1.9258",
          "Chinese Spring 1_001829_1645_m/z319.1363_RT2.3986",
          "Chinese Spring 1_001829_0094_m/z265.0154_RT0.5705",
          "Chinese Spring 1_001829_0764_m/z229.1545_RT0.8469",
          "Chinese Spring 1_001829_0683_m/z229.1545_RT0.7845",
          "Chinese Spring 1_001829_1084_m/z229.1545_RT1.0920",
          "Chinese Spring 1_001829_1122_m/z229.1545_RT1.1143"
         ],
         "tickvals": [
          5,
          15,
          25,
          35,
          45,
          55,
          65,
          75,
          85,
          95,
          105,
          115,
          125,
          135,
          145,
          155,
          165,
          175,
          185,
          195,
          205,
          215,
          225,
          235,
          245,
          255,
          265,
          275,
          285,
          295,
          305,
          315,
          325,
          335,
          345,
          355,
          365,
          375,
          385,
          395,
          405,
          415,
          425,
          435,
          445,
          455,
          465,
          475,
          485,
          495,
          505,
          515,
          525,
          535,
          545,
          555,
          565,
          575,
          585,
          595,
          605,
          615,
          625,
          635,
          645,
          655,
          665,
          675,
          685,
          695,
          705,
          715,
          725,
          735,
          745,
          755,
          765,
          775,
          785,
          795,
          805,
          815,
          825,
          835,
          845,
          855,
          865,
          875,
          885,
          895,
          905,
          915,
          925,
          935,
          945,
          955,
          965,
          975,
          985,
          995,
          1005,
          1015,
          1025,
          1035,
          1045,
          1055,
          1065,
          1075,
          1085,
          1095,
          1105,
          1115,
          1125,
          1135,
          1145,
          1155,
          1165,
          1175,
          1185,
          1195,
          1205,
          1215,
          1225,
          1235,
          1245,
          1255,
          1265,
          1275,
          1285,
          1295,
          1305,
          1315,
          1325,
          1335,
          1345,
          1355,
          1365,
          1375,
          1385,
          1395,
          1405,
          1415,
          1425,
          1435,
          1445,
          1455,
          1465,
          1475,
          1485,
          1495,
          1505,
          1515,
          1525,
          1535,
          1545,
          1555,
          1565,
          1575,
          1585,
          1595,
          1605,
          1615,
          1625,
          1635,
          1645,
          1655,
          1665,
          1675,
          1685,
          1695,
          1705,
          1715,
          1725,
          1735,
          1745,
          1755,
          1765,
          1775,
          1785,
          1795,
          1805,
          1815,
          1825,
          1835,
          1845,
          1855,
          1865,
          1875,
          1885,
          1895,
          1905,
          1915,
          1925,
          1935,
          1945,
          1955,
          1965,
          1975,
          1985,
          1995,
          2005,
          2015,
          2025,
          2035,
          2045
         ],
         "title": {
          "text": "Components"
         },
         "type": "linear",
         "zeroline": false
        },
        "yaxis": {
         "mirror": "allticks",
         "rangemode": "tozero",
         "showgrid": false,
         "showline": true,
         "showticklabels": true,
         "ticks": "outside",
         "title": {
          "text": "Distance"
         },
         "type": "linear",
         "zeroline": false
        }
       }
      },
      "text/html": [
       "<div>\n",
       "        \n",
       "        \n",
       "            <div id=\"5b617735-158a-4c02-aa15-dc12b0535aad\" class=\"plotly-graph-div\"></div>\n",
       "            <script type=\"text/javascript\">\n",
       "                require([\"plotly\"], function(Plotly) {\n",
       "                    window.PLOTLYENV=window.PLOTLYENV || {};\n",
       "                    window.PLOTLYENV.BASE_URL='https://plot.ly';\n",
       "                    \n",
       "                if (document.getElementById(\"5b617735-158a-4c02-aa15-dc12b0535aad\")) {\n",
       "                    Plotly.newPlot(\n",
       "                        '5b617735-158a-4c02-aa15-dc12b0535aad',\n",
       "                        [{\"hoverinfo\": \"text\", \"marker\": {\"color\": \"rgb(61,153,112)\"}, \"mode\": \"lines\", \"text\": [\"cluster: 1, component: Chinese Spring 1_001829_7933_m/z792.5621_RT11.9987\", \"cluster: 1, component: Chinese Spring 1_001829_7933_m/z792.5621_RT11.9987\", \"cluster: 1, component: Chinese Spring 1_001829_8737_m/z613.4826_RT13.9777\", \"cluster: 1, component: Chinese Spring 1_001829_8737_m/z613.4826_RT13.9777\"], \"type\": \"scatter\", \"uid\": \"f4a56c1a-6292-4241-ae0d-2e17e8ab2eda\", \"x\": [15.0, 15.0, 25.0, 25.0], \"xaxis\": \"x\", \"y\": [0.0, 0.3949579831932773, 0.3949579831932773, 0.0], \"yaxis\": \"y\"}, {\"hoverinfo\": \"text\", \"marker\": {\"color\": \"rgb(61,153,112)\"}, \"mode\": \"lines\", \"text\": [\"cluster: 1, component: Chinese Spring 1_001829_8203_m/z613.4826_RT12.2884\", \"cluster: 1, component: Chinese Spring 1_001829_8203_m/z613.4826_RT12.2884\", null, null], \"type\": \"scatter\", \"uid\": \"3fc91117-beb0-483f-ae39-4327e7f81da8\", \"x\": [5.0, 5.0, 20.0, 20.0], \"xaxis\": \"x\", \"y\": [0.0, 0.5116279069767442, 0.5116279069767442, 0.3949579831932773], \"yaxis\": \"y\"}, {\"hoverinfo\": \"text\", \"marker\": {\"color\": \"rgb(61,153,112)\"}, \"mode\": \"lines\", \"text\": [\"cluster: 1, component: Chinese Spring 1_001829_6867_m/z596.3096_RT9.9999\", \"cluster: 1, component: Chinese Spring 1_001829_6867_m/z596.3096_RT9.9999\", \"cluster: 1, component: Chinese Spring 5_001887_7848_m/z792.5621_RT14.4273\", \"cluster: 1, component: Chinese Spring 5_001887_7848_m/z792.5621_RT14.4273\"], \"type\": \"scatter\", \"uid\": \"9d5f9dd3-e1a5-4010-8633-8a74dcf2a466\", \"x\": [35.0, 35.0, 45.0, 45.0], \"xaxis\": \"x\", \"y\": [0.0, 0.5555555555555556, 0.5555555555555556, 0.0], \"yaxis\": \"y\"}, {\"hoverinfo\": \"text\", \"marker\": {\"color\": \"rgb(61,153,112)\"}, \"mode\": \"lines\", \"text\": [null, null, null, null], \"type\": \"scatter\", \"uid\": \"a471d3c8-3dd7-42a1-a3e0-5e3708568a3a\", \"x\": [12.5, 12.5, 40.0, 40.0], \"xaxis\": \"x\", \"y\": [0.5116279069767442, 0.6344086021505376, 0.6344086021505376, 0.5555555555555556], \"yaxis\": \"y\"}, {\"hoverinfo\": \"text\", \"marker\": {\"color\": \"rgb(255,65,54)\"}, \"mode\": \"lines\", \"text\": [\"cluster: 2, component: Chinese Spring 1_001829_6962_m/z335.2578_RT10.1118\", \"cluster: 2, component: Chinese Spring 1_001829_6962_m/z335.2578_RT10.1118\", \"cluster: 2, component: Chinese Spring 1_001829_7924_m/z335.2579_RT11.9987\", \"cluster: 2, component: Chinese Spring 1_001829_7924_m/z335.2579_RT11.9987\"], \"type\": \"scatter\", \"uid\": \"395db4c6-e648-4b9f-9cf9-86df4743bed0\", \"x\": [105.0, 105.0, 115.0, 115.0], \"xaxis\": \"x\", \"y\": [0.0, 0.14942528735632185, 0.14942528735632185, 0.0], \"yaxis\": \"y\"}, {\"hoverinfo\": \"text\", \"marker\": {\"color\": \"rgb(255,65,54)\"}, \"mode\": \"lines\", \"text\": [\"cluster: 2, component: Chinese Spring 1_001829_8002_m/z335.2578_RT12.0967\", \"cluster: 2, component: Chinese Spring 1_001829_8002_m/z335.2578_RT12.0967\", null, null], \"type\": \"scatter\", \"uid\": \"4c7803ac-caf7-47cf-86d9-70165e13dbac\", \"x\": [95.0, 95.0, 110.0, 110.0], \"xaxis\": \"x\", \"y\": [0.0, 0.16483516483516483, 0.16483516483516483, 0.14942528735632185], \"yaxis\": \"y\"}, {\"hoverinfo\": \"text\", \"marker\": {\"color\": \"rgb(255,65,54)\"}, \"mode\": \"lines\", \"text\": [\"cluster: 2, component: Chinese Spring 1_001829_7102_m/z335.2578_RT10.4732\", \"cluster: 2, component: Chinese Spring 1_001829_7102_m/z335.2578_RT10.4732\", \"cluster: 2, component: Chinese Spring 1_001829_7304_m/z335.2577_RT10.7050\", \"cluster: 2, component: Chinese Spring 1_001829_7304_m/z335.2577_RT10.7050\"], \"type\": \"scatter\", \"uid\": \"2c08775d-275f-4a31-aa23-58f1a2f3bd0a\", \"x\": [125.0, 125.0, 135.0, 135.0], \"xaxis\": \"x\", \"y\": [0.0, 0.16666666666666666, 0.16666666666666666, 0.0], \"yaxis\": \"y\"}, {\"hoverinfo\": \"text\", \"marker\": {\"color\": \"rgb(255,65,54)\"}, \"mode\": \"lines\", \"text\": [null, null, null, null], \"type\": \"scatter\", \"uid\": \"c3941b3b-ac66-4595-9ea4-d47389cd186a\", \"x\": [102.5, 102.5, 130.0, 130.0], \"xaxis\": \"x\", \"y\": [0.16483516483516483, 0.20408163265306123, 0.20408163265306123, 0.16666666666666666], \"yaxis\": \"y\"}, {\"hoverinfo\": \"text\", \"marker\": {\"color\": \"rgb(255,65,54)\"}, \"mode\": \"lines\", \"text\": [\"cluster: 2, component: Chinese Spring 1_001829_6770_m/z335.2578_RT9.7767\", \"cluster: 2, component: Chinese Spring 1_001829_6770_m/z335.2578_RT9.7767\", \"cluster: 2, component: Chinese Spring 1_001829_7176_m/z261.2209_RT10.5802\", \"cluster: 2, component: Chinese Spring 1_001829_7176_m/z261.2209_RT10.5802\"], \"type\": \"scatter\", \"uid\": \"383c277c-7b1a-4345-912e-65fc107b3acf\", \"x\": [145.0, 145.0, 155.0, 155.0], \"xaxis\": \"x\", \"y\": [0.0, 0.23076923076923078, 0.23076923076923078, 0.0], \"yaxis\": \"y\"}, {\"hoverinfo\": \"text\", \"marker\": {\"color\": \"rgb(255,65,54)\"}, \"mode\": \"lines\", \"text\": [null, null, null, null], \"type\": \"scatter\", \"uid\": \"6aca12eb-9aa3-494a-9eed-2a7188bb91d0\", \"x\": [116.25, 116.25, 150.0, 150.0], \"xaxis\": \"x\", \"y\": [0.20408163265306123, 0.25925925925925924, 0.25925925925925924, 0.23076923076923078], \"yaxis\": \"y\"}, {\"hoverinfo\": \"text\", \"marker\": {\"color\": \"rgb(255,65,54)\"}, \"mode\": \"lines\", \"text\": [\"cluster: 2, component: Chinese Spring 1_001829_6995_m/z353.2686_RT10.1519\", \"cluster: 2, component: Chinese Spring 1_001829_6995_m/z353.2686_RT10.1519\", \"cluster: 2, component: Chinese Spring 1_001829_7306_m/z353.2686_RT10.7050\", \"cluster: 2, component: Chinese Spring 1_001829_7306_m/z353.2686_RT10.7050\"], \"type\": \"scatter\", \"uid\": \"09bba987-161a-42d3-bba1-5ce1c7b4df2e\", \"x\": [165.0, 165.0, 175.0, 175.0], \"xaxis\": \"x\", \"y\": [0.0, 0.1588785046728972, 0.1588785046728972, 0.0], \"yaxis\": \"y\"}, {\"hoverinfo\": \"text\", \"marker\": {\"color\": \"rgb(255,65,54)\"}, \"mode\": \"lines\", \"text\": [\"cluster: 2, component: Chinese Spring 1_001829_6884_m/z335.2579_RT10.0132\", \"cluster: 2, component: Chinese Spring 1_001829_6884_m/z335.2579_RT10.0132\", \"cluster: 2, component: Chinese Spring 1_001829_7178_m/z335.2579_RT10.5802\", \"cluster: 2, component: Chinese Spring 1_001829_7178_m/z335.2579_RT10.5802\"], \"type\": \"scatter\", \"uid\": \"73b33a17-385a-42bd-ae42-59c5b68bf9da\", \"x\": [195.0, 195.0, 205.0, 205.0], \"xaxis\": \"x\", \"y\": [0.0, 0.1724137931034483, 0.1724137931034483, 0.0], \"yaxis\": \"y\"}, {\"hoverinfo\": \"text\", \"marker\": {\"color\": \"rgb(255,65,54)\"}, \"mode\": \"lines\", \"text\": [\"cluster: 2, component: Chinese Spring 1_001829_7300_m/z261.2209_RT10.7050\", \"cluster: 2, component: Chinese Spring 1_001829_7300_m/z261.2209_RT10.7050\", null, null], \"type\": \"scatter\", \"uid\": \"b20b6711-50ee-4b85-8fe4-5cbc98bb8bc1\", \"x\": [185.0, 185.0, 200.0, 200.0], \"xaxis\": \"x\", \"y\": [0.0, 0.23809523809523808, 0.23809523809523808, 0.1724137931034483], \"yaxis\": \"y\"}, {\"hoverinfo\": \"text\", \"marker\": {\"color\": \"rgb(255,65,54)\"}, \"mode\": \"lines\", \"text\": [null, null, null, null], \"type\": \"scatter\", \"uid\": \"9d83baeb-bb59-4958-8765-45629ea2d551\", \"x\": [170.0, 170.0, 192.5, 192.5], \"xaxis\": \"x\", \"y\": [0.1588785046728972, 0.2765957446808511, 0.2765957446808511, 0.23809523809523808], \"yaxis\": \"y\"}, {\"hoverinfo\": \"text\", \"marker\": {\"color\": \"rgb(255,65,54)\"}, \"mode\": \"lines\", \"text\": [null, null, null, null], \"type\": \"scatter\", \"uid\": \"49c50c10-1408-4819-9a5d-634ba270d893\", \"x\": [133.125, 133.125, 181.25, 181.25], \"xaxis\": \"x\", \"y\": [0.25925925925925924, 0.3, 0.3, 0.2765957446808511], \"yaxis\": \"y\"}, {\"hoverinfo\": \"text\", \"marker\": {\"color\": \"rgb(255,65,54)\"}, \"mode\": \"lines\", \"text\": [\"cluster: 2, component: Cobra 1_001832_7415_m/z571.4716_RT11.9269\", \"cluster: 2, component: Cobra 1_001832_7415_m/z571.4716_RT11.9269\", null, null], \"type\": \"scatter\", \"uid\": \"262db4d9-8b7a-4b1f-9eab-f6bb0e652fa2\", \"x\": [85.0, 85.0, 157.1875, 157.1875], \"xaxis\": \"x\", \"y\": [0.0, 0.3829787234042553, 0.3829787234042553, 0.3], \"yaxis\": \"y\"}, {\"hoverinfo\": \"text\", \"marker\": {\"color\": \"rgb(255,65,54)\"}, \"mode\": \"lines\", \"text\": [\"cluster: 2, component: Chinese Spring 1_001829_6971_m/z507.2717_RT10.1162\", \"cluster: 2, component: Chinese Spring 1_001829_6971_m/z507.2717_RT10.1162\", null, null], \"type\": \"scatter\", \"uid\": \"a10dc108-04f5-407f-b106-21d54f0c128c\", \"x\": [75.0, 75.0, 121.09375, 121.09375], \"xaxis\": \"x\", \"y\": [0.0, 0.40229885057471265, 0.40229885057471265, 0.3829787234042553], \"yaxis\": \"y\"}, {\"hoverinfo\": \"text\", \"marker\": {\"color\": \"rgb(255,65,54)\"}, \"mode\": \"lines\", \"text\": [\"cluster: 2, component: Chinese Spring 1_001829_7309_m/z497.3107_RT10.7050\", \"cluster: 2, component: Chinese Spring 1_001829_7309_m/z497.3107_RT10.7050\", null, null], \"type\": \"scatter\", \"uid\": \"67e95680-ff20-4c3e-a158-85bfa17210b1\", \"x\": [65.0, 65.0, 98.046875, 98.046875], \"xaxis\": \"x\", \"y\": [0.0, 0.5368421052631579, 0.5368421052631579, 0.40229885057471265], \"yaxis\": \"y\"}, {\"hoverinfo\": \"text\", \"marker\": {\"color\": \"rgb(255,65,54)\"}, \"mode\": \"lines\", \"text\": [\"cluster: 2, component: blk_001809_2310_m/z571.4292_RT14.5025\", \"cluster: 2, component: blk_001809_2310_m/z571.4292_RT14.5025\", null, null], \"type\": \"scatter\", \"uid\": \"dc841544-91a0-449f-91c2-8a440fece6a8\", \"x\": [55.0, 55.0, 81.5234375, 81.5234375], \"xaxis\": \"x\", \"y\": [0.0, 0.6615384615384615, 0.6615384615384615, 0.5368421052631579], \"yaxis\": \"y\"}, {\"hoverinfo\": \"text\", \"marker\": {\"color\": \"rgb(255,65,54)\"}, \"mode\": \"lines\", \"text\": [\"cluster: 2, component: Cobra 1_001832_8139_m/z338.3414_RT14.1645\", \"cluster: 2, component: Cobra 1_001832_8139_m/z338.3414_RT14.1645\", \"cluster: 2, component: blk_001809_2081_m/z244.1905_RT12.7018\", \"cluster: 2, component: blk_001809_2081_m/z244.1905_RT12.7018\"], \"type\": \"scatter\", \"uid\": \"7b24c96d-bfef-46c2-9043-9dbd036830d8\", \"x\": [225.0, 225.0, 235.0, 235.0], \"xaxis\": \"x\", \"y\": [0.0, 0.4318181818181818, 0.4318181818181818, 0.0], \"yaxis\": \"y\"}, {\"hoverinfo\": \"text\", \"marker\": {\"color\": \"rgb(255,65,54)\"}, \"mode\": \"lines\", \"text\": [\"cluster: 2, component: Chinese Spring 1_001829_6885_m/z353.2690_RT10.0132\", \"cluster: 2, component: Chinese Spring 1_001829_6885_m/z353.2690_RT10.0132\", \"cluster: 2, component: Chinese Spring 1_001829_7180_m/z353.2688_RT10.5802\", \"cluster: 2, component: Chinese Spring 1_001829_7180_m/z353.2688_RT10.5802\"], \"type\": \"scatter\", \"uid\": \"0fac08b4-952f-4324-a347-ed8058b6ce71\", \"x\": [245.0, 245.0, 255.0, 255.0], \"xaxis\": \"x\", \"y\": [0.0, 0.1348314606741573, 0.1348314606741573, 0.0], \"yaxis\": \"y\"}, {\"hoverinfo\": \"text\", \"marker\": {\"color\": \"rgb(255,65,54)\"}, \"mode\": \"lines\", \"text\": [\"cluster: 2, component: Chinese Spring 1_001829_7587_m/z278.2475_RT11.3925\", \"cluster: 2, component: Chinese Spring 1_001829_7587_m/z278.2475_RT11.3925\", \"cluster: 2, component: Chinese Spring 1_001829_7923_m/z279.2315_RT11.9987\", \"cluster: 2, component: Chinese Spring 1_001829_7923_m/z279.2315_RT11.9987\"], \"type\": \"scatter\", \"uid\": \"5f224c1d-9777-4598-9e38-cc22b90e0ee5\", \"x\": [265.0, 265.0, 275.0, 275.0], \"xaxis\": \"x\", \"y\": [0.0, 0.2755905511811024, 0.2755905511811024, 0.0], \"yaxis\": \"y\"}, {\"hoverinfo\": \"text\", \"marker\": {\"color\": \"rgb(255,65,54)\"}, \"mode\": \"lines\", \"text\": [null, null, null, null], \"type\": \"scatter\", \"uid\": \"574094aa-2860-4fb3-b0ef-5e18354e35eb\", \"x\": [250.0, 250.0, 270.0, 270.0], \"xaxis\": \"x\", \"y\": [0.1348314606741573, 0.35403726708074534, 0.35403726708074534, 0.2755905511811024], \"yaxis\": \"y\"}, {\"hoverinfo\": \"text\", \"marker\": {\"color\": \"rgb(255,65,54)\"}, \"mode\": \"lines\", \"text\": [\"cluster: 2, component: Chinese Spring 1_001829_7119_m/z337.2734_RT10.5000\", \"cluster: 2, component: Chinese Spring 1_001829_7119_m/z337.2734_RT10.5000\", \"cluster: 2, component: Chinese Spring 1_001829_8646_m/z337.2733_RT13.6924\", \"cluster: 2, component: Chinese Spring 1_001829_8646_m/z337.2733_RT13.6924\"], \"type\": \"scatter\", \"uid\": \"f2288518-cd53-4390-967b-676123400fb0\", \"x\": [295.0, 295.0, 305.0, 305.0], \"xaxis\": \"x\", \"y\": [0.0, 0.22935779816513763, 0.22935779816513763, 0.0], \"yaxis\": \"y\"}, {\"hoverinfo\": \"text\", \"marker\": {\"color\": \"rgb(255,65,54)\"}, \"mode\": \"lines\", \"text\": [\"cluster: 2, component: Chinese Spring 1_001829_7499_m/z435.2504_RT11.0802\", \"cluster: 2, component: Chinese Spring 1_001829_7499_m/z435.2504_RT11.0802\", null, null], \"type\": \"scatter\", \"uid\": \"622c1e57-2b24-4cbe-969f-f96bfcc39e9b\", \"x\": [285.0, 285.0, 300.0, 300.0], \"xaxis\": \"x\", \"y\": [0.0, 0.37142857142857144, 0.37142857142857144, 0.22935779816513763], \"yaxis\": \"y\"}, {\"hoverinfo\": \"text\", \"marker\": {\"color\": \"rgb(255,65,54)\"}, \"mode\": \"lines\", \"text\": [null, null, null, null], \"type\": \"scatter\", \"uid\": \"b9eac0d7-9273-4418-a493-0f377104f956\", \"x\": [260.0, 260.0, 292.5, 292.5], \"xaxis\": \"x\", \"y\": [0.35403726708074534, 0.5238095238095238, 0.5238095238095238, 0.37142857142857144], \"yaxis\": \"y\"}, {\"hoverinfo\": \"text\", \"marker\": {\"color\": \"rgb(255,65,54)\"}, \"mode\": \"lines\", \"text\": [null, null, null, null], \"type\": \"scatter\", \"uid\": \"2297c737-be8f-464e-b15a-a6e11f59850c\", \"x\": [230.0, 230.0, 276.25, 276.25], \"xaxis\": \"x\", \"y\": [0.4318181818181818, 0.6116504854368932, 0.6116504854368932, 0.5238095238095238], \"yaxis\": \"y\"}, {\"hoverinfo\": \"text\", \"marker\": {\"color\": \"rgb(255,65,54)\"}, \"mode\": \"lines\", \"text\": [\"cluster: 2, component: blk_001809_0873_m/z272.2582_RT9.6975\", \"cluster: 2, component: blk_001809_0873_m/z272.2582_RT9.6975\", null, null], \"type\": \"scatter\", \"uid\": \"1b534ae8-2e0f-48ae-94ce-cf4d3bd126c7\", \"x\": [215.0, 215.0, 253.125, 253.125], \"xaxis\": \"x\", \"y\": [0.0, 0.7011494252873564, 0.7011494252873564, 0.6116504854368932], \"yaxis\": \"y\"}, {\"hoverinfo\": \"text\", \"marker\": {\"color\": \"rgb(255,65,54)\"}, \"mode\": \"lines\", \"text\": [null, null, null, null], \"type\": \"scatter\", \"uid\": \"8251bf0f-a695-4c92-86ef-d46985e36294\", \"x\": [68.26171875, 68.26171875, 234.0625, 234.0625], \"xaxis\": \"x\", \"y\": [0.6615384615384615, 0.7699115044247787, 0.7699115044247787, 0.7011494252873564], \"yaxis\": \"y\"}, {\"hoverinfo\": \"text\", \"marker\": {\"color\": \"rgb(0,116,217)\"}, \"mode\": \"lines\", \"text\": [null, null, null, null], \"type\": \"scatter\", \"uid\": \"0f829d28-cde9-40c3-afb1-8e4d8793dc8f\", \"x\": [26.25, 26.25, 151.162109375, 151.162109375], \"xaxis\": \"x\", \"y\": [0.6344086021505376, 0.84, 0.84, 0.7699115044247787], \"yaxis\": \"y\"}, {\"hoverinfo\": \"text\", \"marker\": {\"color\": \"rgb(35,205,205)\"}, \"mode\": \"lines\", \"text\": [\"cluster: 3, component: Chinese Spring 1_001829_7776_m/z601.4244_RT11.7714\", \"cluster: 3, component: Chinese Spring 1_001829_7776_m/z601.4244_RT11.7714\", \"cluster: 3, component: Chinese Spring 1_001829_8582_m/z599.4089_RT13.2111\", \"cluster: 3, component: Chinese Spring 1_001829_8582_m/z599.4089_RT13.2111\"], \"type\": \"scatter\", \"uid\": \"7c55efd4-0261-4c37-a851-473c8ba03840\", \"x\": [345.0, 345.0, 355.0, 355.0], \"xaxis\": \"x\", \"y\": [0.0, 0.45985401459854014, 0.45985401459854014, 0.0], \"yaxis\": \"y\"}, {\"hoverinfo\": \"text\", \"marker\": {\"color\": \"rgb(35,205,205)\"}, \"mode\": \"lines\", \"text\": [\"cluster: 3, component: Chinese Spring 1_001829_7448_m/z599.4093_RT11.0178\", \"cluster: 3, component: Chinese Spring 1_001829_7448_m/z599.4093_RT11.0178\", null, null], \"type\": \"scatter\", \"uid\": \"fa1b5948-8022-4d2f-a951-a7de5292e149\", \"x\": [335.0, 335.0, 350.0, 350.0], \"xaxis\": \"x\", \"y\": [0.0, 0.504950495049505, 0.504950495049505, 0.45985401459854014], \"yaxis\": \"y\"}, {\"hoverinfo\": \"text\", \"marker\": {\"color\": \"rgb(35,205,205)\"}, \"mode\": \"lines\", \"text\": [\"cluster: 3, component: Chinese Spring 1_001829_8106_m/z583.4143_RT12.1770\", \"cluster: 3, component: Chinese Spring 1_001829_8106_m/z583.4143_RT12.1770\", null, null], \"type\": \"scatter\", \"uid\": \"996cf50f-a3a4-474e-8ffc-3b2574649d61\", \"x\": [325.0, 325.0, 342.5, 342.5], \"xaxis\": \"x\", \"y\": [0.0, 0.6101694915254238, 0.6101694915254238, 0.504950495049505], \"yaxis\": \"y\"}, {\"hoverinfo\": \"text\", \"marker\": {\"color\": \"rgb(35,205,205)\"}, \"mode\": \"lines\", \"text\": [\"cluster: 3, component: Chinese Spring 1_001829_7690_m/z618.4271_RT11.6644\", \"cluster: 3, component: Chinese Spring 1_001829_7690_m/z618.4271_RT11.6644\", null, null], \"type\": \"scatter\", \"uid\": \"967cabcf-f125-4bb4-a36e-edbb3496535f\", \"x\": [315.0, 315.0, 333.75, 333.75], \"xaxis\": \"x\", \"y\": [0.0, 0.6666666666666666, 0.6666666666666666, 0.6101694915254238], \"yaxis\": \"y\"}, {\"hoverinfo\": \"text\", \"marker\": {\"color\": \"rgb(133,20,75)\"}, \"mode\": \"lines\", \"text\": [\"cluster: 4, component: Chinese Spring 1_001829_7361_m/z618.4278_RT10.7852\", \"cluster: 4, component: Chinese Spring 1_001829_7361_m/z618.4278_RT10.7852\", \"cluster: 4, component: Chinese Spring 1_001829_7576_m/z618.4271_RT11.3791\", \"cluster: 4, component: Chinese Spring 1_001829_7576_m/z618.4271_RT11.3791\"], \"type\": \"scatter\", \"uid\": \"8e668172-0ec6-4cf0-b99c-462a2e97225b\", \"x\": [365.0, 365.0, 375.0, 375.0], \"xaxis\": \"x\", \"y\": [0.0, 0.30997304582210244, 0.30997304582210244, 0.0], \"yaxis\": \"y\"}, {\"hoverinfo\": \"text\", \"marker\": {\"color\": \"rgb(133,20,75)\"}, \"mode\": \"lines\", \"text\": [\"cluster: 4, component: Chinese Spring 1_001829_7574_m/z583.4141_RT11.3791\", \"cluster: 4, component: Chinese Spring 1_001829_7574_m/z583.4141_RT11.3791\", \"cluster: 4, component: Chinese Spring 1_001829_7780_m/z583.4141_RT11.7758\", \"cluster: 4, component: Chinese Spring 1_001829_7780_m/z583.4141_RT11.7758\"], \"type\": \"scatter\", \"uid\": \"8709b27e-6cf6-4ec9-be39-044ddfd32524\", \"x\": [405.0, 405.0, 415.0, 415.0], \"xaxis\": \"x\", \"y\": [0.0, 0.35877862595419846, 0.35877862595419846, 0.0], \"yaxis\": \"y\"}, {\"hoverinfo\": \"text\", \"marker\": {\"color\": \"rgb(133,20,75)\"}, \"mode\": \"lines\", \"text\": [\"cluster: 4, component: Chinese Spring 1_001829_7954_m/z565.4037_RT12.0210\", \"cluster: 4, component: Chinese Spring 1_001829_7954_m/z565.4037_RT12.0210\", null, null], \"type\": \"scatter\", \"uid\": \"a0b69932-73a0-4296-b6b0-cf140cb31c38\", \"x\": [395.0, 395.0, 410.0, 410.0], \"xaxis\": \"x\", \"y\": [0.0, 0.4336283185840708, 0.4336283185840708, 0.35877862595419846], \"yaxis\": \"y\"}, {\"hoverinfo\": \"text\", \"marker\": {\"color\": \"rgb(133,20,75)\"}, \"mode\": \"lines\", \"text\": [\"cluster: 4, component: Chinese Spring 1_001829_7357_m/z583.4143_RT10.7852\", \"cluster: 4, component: Chinese Spring 1_001829_7357_m/z583.4143_RT10.7852\", \"cluster: 4, component: Chinese Spring 1_001829_8191_m/z583.4143_RT12.2617\", \"cluster: 4, component: Chinese Spring 1_001829_8191_m/z583.4143_RT12.2617\"], \"type\": \"scatter\", \"uid\": \"4681809d-9d22-4525-a6eb-b986009881a0\", \"x\": [435.0, 435.0, 445.0, 445.0], \"xaxis\": \"x\", \"y\": [0.0, 0.3592233009708738, 0.3592233009708738, 0.0], \"yaxis\": \"y\"}, {\"hoverinfo\": \"text\", \"marker\": {\"color\": \"rgb(133,20,75)\"}, \"mode\": \"lines\", \"text\": [\"cluster: 4, component: Chinese Spring 1_001829_8525_m/z601.4234_RT13.0595\", \"cluster: 4, component: Chinese Spring 1_001829_8525_m/z601.4234_RT13.0595\", null, null], \"type\": \"scatter\", \"uid\": \"895944d9-4537-4788-9ecc-eb9a307ebbe2\", \"x\": [425.0, 425.0, 440.0, 440.0], \"xaxis\": \"x\", \"y\": [0.0, 0.5344827586206896, 0.5344827586206896, 0.3592233009708738], \"yaxis\": \"y\"}, {\"hoverinfo\": \"text\", \"marker\": {\"color\": \"rgb(133,20,75)\"}, \"mode\": \"lines\", \"text\": [null, null, null, null], \"type\": \"scatter\", \"uid\": \"055984bd-7d41-45fd-8ad2-5ce780409ab2\", \"x\": [402.5, 402.5, 432.5, 432.5], \"xaxis\": \"x\", \"y\": [0.4336283185840708, 0.5802469135802469, 0.5802469135802469, 0.5344827586206896], \"yaxis\": \"y\"}, {\"hoverinfo\": \"text\", \"marker\": {\"color\": \"rgb(133,20,75)\"}, \"mode\": \"lines\", \"text\": [\"cluster: 4, component: Chinese Spring 1_001829_8729_m/z568.4263_RT13.9732\", \"cluster: 4, component: Chinese Spring 1_001829_8729_m/z568.4263_RT13.9732\", null, null], \"type\": \"scatter\", \"uid\": \"844b6a19-f199-4f32-9278-bd5e6d1ee5cf\", \"x\": [385.0, 385.0, 417.5, 417.5], \"xaxis\": \"x\", \"y\": [0.0, 0.618421052631579, 0.618421052631579, 0.5802469135802469], \"yaxis\": \"y\"}, {\"hoverinfo\": \"text\", \"marker\": {\"color\": \"rgb(133,20,75)\"}, \"mode\": \"lines\", \"text\": [null, null, null, null], \"type\": \"scatter\", \"uid\": \"a56af422-b36d-47ca-81ac-b0d460451e1e\", \"x\": [370.0, 370.0, 401.25, 401.25], \"xaxis\": \"x\", \"y\": [0.30997304582210244, 0.6956521739130435, 0.6956521739130435, 0.618421052631579], \"yaxis\": \"y\"}, {\"hoverinfo\": \"text\", \"marker\": {\"color\": \"rgb(0,116,217)\"}, \"mode\": \"lines\", \"text\": [null, null, null, null], \"type\": \"scatter\", \"uid\": \"75b7bc51-f33a-4434-b33a-91a2cfd307b8\", \"x\": [324.375, 324.375, 385.625, 385.625], \"xaxis\": \"x\", \"y\": [0.6666666666666666, 0.8867924528301887, 0.8867924528301887, 0.6956521739130435], \"yaxis\": \"y\"}, {\"hoverinfo\": \"text\", \"marker\": {\"color\": \"rgb(0,116,217)\"}, \"mode\": \"lines\", \"text\": [null, null, null, null], \"type\": \"scatter\", \"uid\": \"e224ce1b-7afd-40e9-b374-eabd138325da\", \"x\": [88.7060546875, 88.7060546875, 355.0, 355.0], \"xaxis\": \"x\", \"y\": [0.84, 0.927710843373494, 0.927710843373494, 0.8867924528301887], \"yaxis\": \"y\"}, {\"hoverinfo\": \"text\", \"marker\": {\"color\": \"rgb(255,220,0)\"}, \"mode\": \"lines\", \"text\": [\"cluster: 5, component: Chinese Spring 1_001829_0928_m/z269.1605_RT1.0029\", \"cluster: 5, component: Chinese Spring 1_001829_0928_m/z269.1605_RT1.0029\", \"cluster: 5, component: Chinese Spring 1_001829_0989_m/z268.1037_RT1.0386\", \"cluster: 5, component: Chinese Spring 1_001829_0989_m/z268.1037_RT1.0386\"], \"type\": \"scatter\", \"uid\": \"98cc18c4-7669-4437-8ce6-1831de4f032a\", \"x\": [455.0, 455.0, 465.0, 465.0], \"xaxis\": \"x\", \"y\": [0.0, 0.2692307692307692, 0.2692307692307692, 0.0], \"yaxis\": \"y\"}, {\"hoverinfo\": \"text\", \"marker\": {\"color\": \"rgb(40,35,35)\"}, \"mode\": \"lines\", \"text\": [\"cluster: 6, component: blk_001809_1552_m/z364.3418_RT11.7523\", \"cluster: 6, component: blk_001809_1552_m/z364.3418_RT11.7523\", \"cluster: 6, component: blk_001809_1616_m/z364.3418_RT11.8147\", \"cluster: 6, component: blk_001809_1616_m/z364.3418_RT11.8147\"], \"type\": \"scatter\", \"uid\": \"54c52b22-c029-4026-adb3-dd30f792316d\", \"x\": [475.0, 475.0, 485.0, 485.0], \"xaxis\": \"x\", \"y\": [0.0, 0.0, 0.0, 0.0], \"yaxis\": \"y\"}, {\"hoverinfo\": \"text\", \"marker\": {\"color\": \"rgb(40,35,35)\"}, \"mode\": \"lines\", \"text\": [\"cluster: 6, component: blk_001809_1516_m/z408.3681_RT11.7389\", \"cluster: 6, component: blk_001809_1516_m/z408.3681_RT11.7389\", \"cluster: 6, component: blk_001809_1750_m/z466.4099_RT12.1446\", \"cluster: 6, component: blk_001809_1750_m/z466.4099_RT12.1446\"], \"type\": \"scatter\", \"uid\": \"1794d18b-f710-4392-93db-1194e2ca90ad\", \"x\": [495.0, 495.0, 505.0, 505.0], \"xaxis\": \"x\", \"y\": [0.0, 0.4166666666666667, 0.4166666666666667, 0.0], \"yaxis\": \"y\"}, {\"hoverinfo\": \"text\", \"marker\": {\"color\": \"rgb(40,35,35)\"}, \"mode\": \"lines\", \"text\": [null, null, null, null], \"type\": \"scatter\", \"uid\": \"73f24362-7e10-40e2-8c06-b81d2c8a08c5\", \"x\": [480.0, 480.0, 500.0, 500.0], \"xaxis\": \"x\", \"y\": [0.0, 0.5238095238095238, 0.5238095238095238, 0.4166666666666667], \"yaxis\": \"y\"}, {\"hoverinfo\": \"text\", \"marker\": {\"color\": \"rgb(40,35,35)\"}, \"mode\": \"lines\", \"text\": [\"cluster: 6, component: blk_001809_1999_m/z364.3424_RT12.5502\", \"cluster: 6, component: blk_001809_1999_m/z364.3424_RT12.5502\", \"cluster: 6, component: blk_001809_2060_m/z364.3424_RT12.6438\", \"cluster: 6, component: blk_001809_2060_m/z364.3424_RT12.6438\"], \"type\": \"scatter\", \"uid\": \"bf0ea59b-6fa4-4ebb-969b-9739dbbba5fc\", \"x\": [535.0, 535.0, 545.0, 545.0], \"xaxis\": \"x\", \"y\": [0.0, 0.2222222222222222, 0.2222222222222222, 0.0], \"yaxis\": \"y\"}, {\"hoverinfo\": \"text\", \"marker\": {\"color\": \"rgb(40,35,35)\"}, \"mode\": \"lines\", \"text\": [\"cluster: 6, component: blk_001809_1642_m/z424.3632_RT11.9261\", \"cluster: 6, component: blk_001809_1642_m/z424.3632_RT11.9261\", \"cluster: 6, component: blk_001809_1747_m/z421.3521_RT12.1446\", \"cluster: 6, component: blk_001809_1747_m/z421.3521_RT12.1446\"], \"type\": \"scatter\", \"uid\": \"6e9c323d-ec45-4471-bf28-597262e90559\", \"x\": [555.0, 555.0, 565.0, 565.0], \"xaxis\": \"x\", \"y\": [0.0, 0.2413793103448276, 0.2413793103448276, 0.0], \"yaxis\": \"y\"}, {\"hoverinfo\": \"text\", \"marker\": {\"color\": \"rgb(40,35,35)\"}, \"mode\": \"lines\", \"text\": [null, null, null, null], \"type\": \"scatter\", \"uid\": \"b799939a-2006-4921-8454-b3d6f66213d6\", \"x\": [540.0, 540.0, 560.0, 560.0], \"xaxis\": \"x\", \"y\": [0.2222222222222222, 0.44, 0.44, 0.2413793103448276], \"yaxis\": \"y\"}, {\"hoverinfo\": \"text\", \"marker\": {\"color\": \"rgb(40,35,35)\"}, \"mode\": \"lines\", \"text\": [\"cluster: 6, component: blk_001809_1903_m/z482.4048_RT12.3318\", \"cluster: 6, component: blk_001809_1903_m/z482.4048_RT12.3318\", null, null], \"type\": \"scatter\", \"uid\": \"f09c217f-1afc-4c80-b2cc-5f8b7b2f9336\", \"x\": [525.0, 525.0, 550.0, 550.0], \"xaxis\": \"x\", \"y\": [0.0, 0.5428571428571428, 0.5428571428571428, 0.44], \"yaxis\": \"y\"}, {\"hoverinfo\": \"text\", \"marker\": {\"color\": \"rgb(40,35,35)\"}, \"mode\": \"lines\", \"text\": [\"cluster: 6, component: blk_001809_1657_m/z408.3681_RT11.9395\", \"cluster: 6, component: blk_001809_1657_m/z408.3681_RT11.9395\", null, null], \"type\": \"scatter\", \"uid\": \"2c53a38f-6a89-403b-bf8a-7a6ca7760112\", \"x\": [515.0, 515.0, 537.5, 537.5], \"xaxis\": \"x\", \"y\": [0.0, 0.5757575757575758, 0.5757575757575758, 0.5428571428571428], \"yaxis\": \"y\"}, {\"hoverinfo\": \"text\", \"marker\": {\"color\": \"rgb(40,35,35)\"}, \"mode\": \"lines\", \"text\": [null, null, null, null], \"type\": \"scatter\", \"uid\": \"804a0726-e564-48ba-9521-b2841aa24923\", \"x\": [490.0, 490.0, 526.25, 526.25], \"xaxis\": \"x\", \"y\": [0.5238095238095238, 0.7222222222222222, 0.7222222222222222, 0.5757575757575758], \"yaxis\": \"y\"}, {\"hoverinfo\": \"text\", \"marker\": {\"color\": \"rgb(0,116,217)\"}, \"mode\": \"lines\", \"text\": [null, null, null, null], \"type\": \"scatter\", \"uid\": \"4d7adcea-525e-49c7-b110-fde794357fc6\", \"x\": [460.0, 460.0, 508.125, 508.125], \"xaxis\": \"x\", \"y\": [0.2692307692307692, 0.9636363636363636, 0.9636363636363636, 0.7222222222222222], \"yaxis\": \"y\"}, {\"hoverinfo\": \"text\", \"marker\": {\"color\": \"rgb(61,153,112)\"}, \"mode\": \"lines\", \"text\": [\"cluster: 7, component: Chinese Spring 1_001829_6626_m/z320.2946_RT9.3934\", \"cluster: 7, component: Chinese Spring 1_001829_6626_m/z320.2946_RT9.3934\", \"cluster: 7, component: Chinese Spring 1_001829_6684_m/z320.2946_RT9.6341\", \"cluster: 7, component: Chinese Spring 1_001829_6684_m/z320.2946_RT9.6341\"], \"type\": \"scatter\", \"uid\": \"e90e9b44-c4db-418b-8f4a-23ff3017ebd5\", \"x\": [595.0, 595.0, 605.0, 605.0], \"xaxis\": \"x\", \"y\": [0.0, 0.21951219512195122, 0.21951219512195122, 0.0], \"yaxis\": \"y\"}, {\"hoverinfo\": \"text\", \"marker\": {\"color\": \"rgb(61,153,112)\"}, \"mode\": \"lines\", \"text\": [\"cluster: 7, component: Chinese Spring 1_001829_7338_m/z338.2607_RT10.7228\", \"cluster: 7, component: Chinese Spring 1_001829_7338_m/z338.2607_RT10.7228\", null, null], \"type\": \"scatter\", \"uid\": \"46a55bd4-22eb-4113-860c-37603eaefed1\", \"x\": [585.0, 585.0, 600.0, 600.0], \"xaxis\": \"x\", \"y\": [0.0, 0.4444444444444444, 0.4444444444444444, 0.21951219512195122], \"yaxis\": \"y\"}, {\"hoverinfo\": \"text\", \"marker\": {\"color\": \"rgb(61,153,112)\"}, \"mode\": \"lines\", \"text\": [\"cluster: 7, component: Chinese Spring 1_001829_7380_m/z483.2713_RT10.8387\", \"cluster: 7, component: Chinese Spring 1_001829_7380_m/z483.2713_RT10.8387\", null, null], \"type\": \"scatter\", \"uid\": \"d43ae731-8523-44ee-8f37-50fa769c8ebe\", \"x\": [575.0, 575.0, 592.5, 592.5], \"xaxis\": \"x\", \"y\": [0.0, 0.76, 0.76, 0.4444444444444444], \"yaxis\": \"y\"}, {\"hoverinfo\": \"text\", \"marker\": {\"color\": \"rgb(255,65,54)\"}, \"mode\": \"lines\", \"text\": [\"cluster: 8, component: Chinese Spring 1_001829_4681_m/z129.1273_RT5.8086\", \"cluster: 8, component: Chinese Spring 1_001829_4681_m/z129.1273_RT5.8086\", \"cluster: 8, component: Chinese Spring 1_001829_5571_m/z171.1490_RT6.9999\", \"cluster: 8, component: Chinese Spring 1_001829_5571_m/z171.1490_RT6.9999\"], \"type\": \"scatter\", \"uid\": \"9f1d76cd-835f-4932-8f74-c4036d454237\", \"x\": [615.0, 615.0, 625.0, 625.0], \"xaxis\": \"x\", \"y\": [0.0, 0.7647058823529411, 0.7647058823529411, 0.0], \"yaxis\": \"y\"}, {\"hoverinfo\": \"text\", \"marker\": {\"color\": \"rgb(0,116,217)\"}, \"mode\": \"lines\", \"text\": [null, null, null, null], \"type\": \"scatter\", \"uid\": \"04032ae2-6705-4587-855f-1132c704bee4\", \"x\": [583.75, 583.75, 620.0, 620.0], \"xaxis\": \"x\", \"y\": [0.76, 0.8235294117647058, 0.8235294117647058, 0.7647058823529411], \"yaxis\": \"y\"}, {\"hoverinfo\": \"text\", \"marker\": {\"color\": \"rgb(35,205,205)\"}, \"mode\": \"lines\", \"text\": [\"cluster: 9, component: Chinese Spring 3_001858_5649_m/z201.1636_RT7.2384\", \"cluster: 9, component: Chinese Spring 3_001858_5649_m/z201.1636_RT7.2384\", \"cluster: 9, component: Cobra 1_001832_5681_m/z201.1636_RT7.3651\", \"cluster: 9, component: Cobra 1_001832_5681_m/z201.1636_RT7.3651\"], \"type\": \"scatter\", \"uid\": \"85aa3a5e-e93f-47c0-8c17-5aadd2e77340\", \"x\": [635.0, 635.0, 645.0, 645.0], \"xaxis\": \"x\", \"y\": [0.0, 0.31868131868131866, 0.31868131868131866, 0.0], \"yaxis\": \"y\"}, {\"hoverinfo\": \"text\", \"marker\": {\"color\": \"rgb(35,205,205)\"}, \"mode\": \"lines\", \"text\": [\"cluster: 9, component: Chinese Spring 1_001829_3874_m/z209.1534_RT5.1891\", \"cluster: 9, component: Chinese Spring 1_001829_3874_m/z209.1534_RT5.1891\", \"cluster: 9, component: Chinese Spring 1_001829_3976_m/z209.1534_RT5.2738\", \"cluster: 9, component: Chinese Spring 1_001829_3976_m/z209.1534_RT5.2738\"], \"type\": \"scatter\", \"uid\": \"663e165f-19ae-4894-a3b8-1ca58f88e5f3\", \"x\": [675.0, 675.0, 685.0, 685.0], \"xaxis\": \"x\", \"y\": [0.0, 0.17073170731707318, 0.17073170731707318, 0.0], \"yaxis\": \"y\"}, {\"hoverinfo\": \"text\", \"marker\": {\"color\": \"rgb(35,205,205)\"}, \"mode\": \"lines\", \"text\": [\"cluster: 9, component: Chinese Spring 1_001829_3534_m/z209.1534_RT4.9214\", \"cluster: 9, component: Chinese Spring 1_001829_3534_m/z209.1534_RT4.9214\", null, null], \"type\": \"scatter\", \"uid\": \"3f8cbc5b-9323-4507-9e1c-28c1dad5470a\", \"x\": [665.0, 665.0, 680.0, 680.0], \"xaxis\": \"x\", \"y\": [0.0, 0.23728813559322035, 0.23728813559322035, 0.17073170731707318], \"yaxis\": \"y\"}, {\"hoverinfo\": \"text\", \"marker\": {\"color\": \"rgb(35,205,205)\"}, \"mode\": \"lines\", \"text\": [\"cluster: 9, component: Chinese Spring 1_001829_6034_m/z209.1534_RT7.9760\", \"cluster: 9, component: Chinese Spring 1_001829_6034_m/z209.1534_RT7.9760\", null, null], \"type\": \"scatter\", \"uid\": \"e62fbdb5-793b-4650-9b4a-e1175086d999\", \"x\": [655.0, 655.0, 672.5, 672.5], \"xaxis\": \"x\", \"y\": [0.0, 0.288135593220339, 0.288135593220339, 0.23728813559322035], \"yaxis\": \"y\"}, {\"hoverinfo\": \"text\", \"marker\": {\"color\": \"rgb(35,205,205)\"}, \"mode\": \"lines\", \"text\": [\"cluster: 9, component: Chinese Spring 1_001829_6121_m/z281.1745_RT8.1944\", \"cluster: 9, component: Chinese Spring 1_001829_6121_m/z281.1745_RT8.1944\", \"cluster: 9, component: blk_001809_0513_m/z243.1589_RT8.8417\", \"cluster: 9, component: blk_001809_0513_m/z243.1589_RT8.8417\"], \"type\": \"scatter\", \"uid\": \"39e6ede7-a4d3-44d4-a748-dc125d2d3b0b\", \"x\": [695.0, 695.0, 705.0, 705.0], \"xaxis\": \"x\", \"y\": [0.0, 0.21904761904761905, 0.21904761904761905, 0.0], \"yaxis\": \"y\"}, {\"hoverinfo\": \"text\", \"marker\": {\"color\": \"rgb(35,205,205)\"}, \"mode\": \"lines\", \"text\": [\"cluster: 9, component: Chinese Spring 1_001829_4627_m/z227.1640_RT5.7507\", \"cluster: 9, component: Chinese Spring 1_001829_4627_m/z227.1640_RT5.7507\", \"cluster: 9, component: blk_001809_0743_m/z283.1902_RT9.4033\", \"cluster: 9, component: blk_001809_0743_m/z283.1902_RT9.4033\"], \"type\": \"scatter\", \"uid\": \"60fa3484-b4cd-4963-bab2-65cb7f1f3a24\", \"x\": [725.0, 725.0, 735.0, 735.0], \"xaxis\": \"x\", \"y\": [0.0, 0.3088235294117647, 0.3088235294117647, 0.0], \"yaxis\": \"y\"}, {\"hoverinfo\": \"text\", \"marker\": {\"color\": \"rgb(35,205,205)\"}, \"mode\": \"lines\", \"text\": [\"cluster: 9, component: Chinese Spring 1_001829_6701_m/z293.2106_RT9.6921\", \"cluster: 9, component: Chinese Spring 1_001829_6701_m/z293.2106_RT9.6921\", null, null], \"type\": \"scatter\", \"uid\": \"b134c5d4-a458-4e93-97e0-45d90e793ec7\", \"x\": [715.0, 715.0, 730.0, 730.0], \"xaxis\": \"x\", \"y\": [0.0, 0.375, 0.375, 0.3088235294117647], \"yaxis\": \"y\"}, {\"hoverinfo\": \"text\", \"marker\": {\"color\": \"rgb(35,205,205)\"}, \"mode\": \"lines\", \"text\": [null, null, null, null], \"type\": \"scatter\", \"uid\": \"1a3adde5-7c50-4ac3-9740-52f320bc00ac\", \"x\": [700.0, 700.0, 722.5, 722.5], \"xaxis\": \"x\", \"y\": [0.21904761904761905, 0.42857142857142855, 0.42857142857142855, 0.375], \"yaxis\": \"y\"}, {\"hoverinfo\": \"text\", \"marker\": {\"color\": \"rgb(35,205,205)\"}, \"mode\": \"lines\", \"text\": [null, null, null, null], \"type\": \"scatter\", \"uid\": \"effe5c89-eac7-4eeb-9150-7e5e0329c771\", \"x\": [663.75, 663.75, 711.25, 711.25], \"xaxis\": \"x\", \"y\": [0.288135593220339, 0.48091603053435117, 0.48091603053435117, 0.42857142857142855], \"yaxis\": \"y\"}, {\"hoverinfo\": \"text\", \"marker\": {\"color\": \"rgb(35,205,205)\"}, \"mode\": \"lines\", \"text\": [\"cluster: 9, component: Chinese Spring 1_001829_3487_m/z227.1275_RT4.8769\", \"cluster: 9, component: Chinese Spring 1_001829_3487_m/z227.1275_RT4.8769\", \"cluster: 9, component: Chinese Spring 1_001829_3537_m/z227.1276_RT4.9214\", \"cluster: 9, component: Chinese Spring 1_001829_3537_m/z227.1276_RT4.9214\"], \"type\": \"scatter\", \"uid\": \"29818998-ea29-4d77-9770-a6206b5dbf26\", \"x\": [755.0, 755.0, 765.0, 765.0], \"xaxis\": \"x\", \"y\": [0.0, 0.20353982300884957, 0.20353982300884957, 0.0], \"yaxis\": \"y\"}, {\"hoverinfo\": \"text\", \"marker\": {\"color\": \"rgb(35,205,205)\"}, \"mode\": \"lines\", \"text\": [\"cluster: 9, component: Chinese Spring 1_001829_3576_m/z207.1378_RT4.9437\", \"cluster: 9, component: Chinese Spring 1_001829_3576_m/z207.1378_RT4.9437\", null, null], \"type\": \"scatter\", \"uid\": \"cdca3d1a-1d39-4782-af13-899a33de342a\", \"x\": [745.0, 745.0, 760.0, 760.0], \"xaxis\": \"x\", \"y\": [0.0, 0.504950495049505, 0.504950495049505, 0.20353982300884957], \"yaxis\": \"y\"}, {\"hoverinfo\": \"text\", \"marker\": {\"color\": \"rgb(35,205,205)\"}, \"mode\": \"lines\", \"text\": [null, null, null, null], \"type\": \"scatter\", \"uid\": \"4bd2279f-1ac9-414a-9bda-6b942b0e0bd5\", \"x\": [687.5, 687.5, 752.5, 752.5], \"xaxis\": \"x\", \"y\": [0.48091603053435117, 0.5454545454545454, 0.5454545454545454, 0.504950495049505], \"yaxis\": \"y\"}, {\"hoverinfo\": \"text\", \"marker\": {\"color\": \"rgb(35,205,205)\"}, \"mode\": \"lines\", \"text\": [\"cluster: 9, component: Chinese Spring 1_001829_8442_m/z181.1221_RT12.7876\", \"cluster: 9, component: Chinese Spring 1_001829_8442_m/z181.1221_RT12.7876\", \"cluster: 9, component: Chinese Spring 2_001850_7898_m/z181.1221_RT13.1904\", \"cluster: 9, component: Chinese Spring 2_001850_7898_m/z181.1221_RT13.1904\"], \"type\": \"scatter\", \"uid\": \"bc5376b9-d79d-4599-bbf1-d9d04324e3e3\", \"x\": [775.0, 775.0, 785.0, 785.0], \"xaxis\": \"x\", \"y\": [0.0, 0.16666666666666666, 0.16666666666666666, 0.0], \"yaxis\": \"y\"}, {\"hoverinfo\": \"text\", \"marker\": {\"color\": \"rgb(35,205,205)\"}, \"mode\": \"lines\", \"text\": [\"cluster: 9, component: Chinese Spring 1_001829_5697_m/z211.1691_RT7.3342\", \"cluster: 9, component: Chinese Spring 1_001829_5697_m/z211.1691_RT7.3342\", \"cluster: 9, component: Chinese Spring 1_001829_5778_m/z211.1691_RT7.5080\", \"cluster: 9, component: Chinese Spring 1_001829_5778_m/z211.1691_RT7.5080\"], \"type\": \"scatter\", \"uid\": \"5bd15530-7104-48f1-923d-a793af18e3b7\", \"x\": [815.0, 815.0, 825.0, 825.0], \"xaxis\": \"x\", \"y\": [0.0, 0.10638297872340426, 0.10638297872340426, 0.0], \"yaxis\": \"y\"}, {\"hoverinfo\": \"text\", \"marker\": {\"color\": \"rgb(35,205,205)\"}, \"mode\": \"lines\", \"text\": [\"cluster: 9, component: Chinese Spring 1_001829_5452_m/z209.0807_RT6.7499\", \"cluster: 9, component: Chinese Spring 1_001829_5452_m/z209.0807_RT6.7499\", null, null], \"type\": \"scatter\", \"uid\": \"5b4bacab-f957-492c-9df0-6aea2b16b209\", \"x\": [805.0, 805.0, 820.0, 820.0], \"xaxis\": \"x\", \"y\": [0.0, 0.11827956989247312, 0.11827956989247312, 0.10638297872340426], \"yaxis\": \"y\"}, {\"hoverinfo\": \"text\", \"marker\": {\"color\": \"rgb(35,205,205)\"}, \"mode\": \"lines\", \"text\": [\"cluster: 9, component: Chinese Spring 1_001829_5465_m/z211.1690_RT6.7722\", \"cluster: 9, component: Chinese Spring 1_001829_5465_m/z211.1690_RT6.7722\", null, null], \"type\": \"scatter\", \"uid\": \"a9dd8605-b37a-4f31-b35c-ce0345ad613e\", \"x\": [795.0, 795.0, 812.5, 812.5], \"xaxis\": \"x\", \"y\": [0.0, 0.17647058823529413, 0.17647058823529413, 0.11827956989247312], \"yaxis\": \"y\"}, {\"hoverinfo\": \"text\", \"marker\": {\"color\": \"rgb(35,205,205)\"}, \"mode\": \"lines\", \"text\": [\"cluster: 9, component: Chinese Spring 1_001829_6053_m/z215.1640_RT8.0384\", \"cluster: 9, component: Chinese Spring 1_001829_6053_m/z215.1640_RT8.0384\", \"cluster: 9, component: blk_001809_0654_m/z215.1640_RT9.1582\", \"cluster: 9, component: blk_001809_0654_m/z215.1640_RT9.1582\"], \"type\": \"scatter\", \"uid\": \"7559ed8f-aee6-48c7-82ed-8faf6016c3ca\", \"x\": [835.0, 835.0, 845.0, 845.0], \"xaxis\": \"x\", \"y\": [0.0, 0.3220338983050847, 0.3220338983050847, 0.0], \"yaxis\": \"y\"}, {\"hoverinfo\": \"text\", \"marker\": {\"color\": \"rgb(35,205,205)\"}, \"mode\": \"lines\", \"text\": [null, null, null, null], \"type\": \"scatter\", \"uid\": \"8c27a13c-449b-4112-b3dc-7f4140c11ed8\", \"x\": [803.75, 803.75, 840.0, 840.0], \"xaxis\": \"x\", \"y\": [0.17647058823529413, 0.41025641025641024, 0.41025641025641024, 0.3220338983050847], \"yaxis\": \"y\"}, {\"hoverinfo\": \"text\", \"marker\": {\"color\": \"rgb(35,205,205)\"}, \"mode\": \"lines\", \"text\": [null, null, null, null], \"type\": \"scatter\", \"uid\": \"c685f5d4-a63a-492c-94f2-ce15248c4430\", \"x\": [780.0, 780.0, 821.875, 821.875], \"xaxis\": \"x\", \"y\": [0.16666666666666666, 0.5932203389830508, 0.5932203389830508, 0.41025641025641024], \"yaxis\": \"y\"}, {\"hoverinfo\": \"text\", \"marker\": {\"color\": \"rgb(35,205,205)\"}, \"mode\": \"lines\", \"text\": [null, null, null, null], \"type\": \"scatter\", \"uid\": \"b896aa15-048d-494d-b85d-e110f310f2f5\", \"x\": [720.0, 720.0, 800.9375, 800.9375], \"xaxis\": \"x\", \"y\": [0.5454545454545454, 0.6170212765957447, 0.6170212765957447, 0.5932203389830508], \"yaxis\": \"y\"}, {\"hoverinfo\": \"text\", \"marker\": {\"color\": \"rgb(35,205,205)\"}, \"mode\": \"lines\", \"text\": [\"cluster: 9, component: Chinese Spring 2_001850_6060_m/z219.1741_RT8.6023\", \"cluster: 9, component: Chinese Spring 2_001850_6060_m/z219.1741_RT8.6023\", \"cluster: 9, component: Chinese Spring 2_001850_6092_m/z219.1742_RT8.6424\", \"cluster: 9, component: Chinese Spring 2_001850_6092_m/z219.1742_RT8.6424\"], \"type\": \"scatter\", \"uid\": \"8d6d5609-84f5-42ee-87fb-1d58824f8e78\", \"x\": [865.0, 865.0, 875.0, 875.0], \"xaxis\": \"x\", \"y\": [0.0, 0.14285714285714285, 0.14285714285714285, 0.0], \"yaxis\": \"y\"}, {\"hoverinfo\": \"text\", \"marker\": {\"color\": \"rgb(35,205,205)\"}, \"mode\": \"lines\", \"text\": [\"cluster: 9, component: Chinese Spring 1_001829_5806_m/z219.1741_RT7.5303\", \"cluster: 9, component: Chinese Spring 1_001829_5806_m/z219.1741_RT7.5303\", \"cluster: 9, component: Cobra 1_001832_5682_m/z219.1741_RT7.3651\", \"cluster: 9, component: Cobra 1_001832_5682_m/z219.1741_RT7.3651\"], \"type\": \"scatter\", \"uid\": \"1124cbcb-9cb8-4e66-bd2f-0e95a1d8b70e\", \"x\": [895.0, 895.0, 905.0, 905.0], \"xaxis\": \"x\", \"y\": [0.0, 0.18518518518518517, 0.18518518518518517, 0.0], \"yaxis\": \"y\"}, {\"hoverinfo\": \"text\", \"marker\": {\"color\": \"rgb(35,205,205)\"}, \"mode\": \"lines\", \"text\": [\"cluster: 9, component: Chinese Spring 1_001829_6166_m/z219.1741_RT8.3371\", \"cluster: 9, component: Chinese Spring 1_001829_6166_m/z219.1741_RT8.3371\", null, null], \"type\": \"scatter\", \"uid\": \"2b98bad5-b5b6-4f19-ab24-fa32a7251c7f\", \"x\": [885.0, 885.0, 900.0, 900.0], \"xaxis\": \"x\", \"y\": [0.0, 0.2558139534883721, 0.2558139534883721, 0.18518518518518517], \"yaxis\": \"y\"}, {\"hoverinfo\": \"text\", \"marker\": {\"color\": \"rgb(35,205,205)\"}, \"mode\": \"lines\", \"text\": [null, null, null, null], \"type\": \"scatter\", \"uid\": \"c1ff0ea9-d8fb-4415-9584-dfec89fc5019\", \"x\": [870.0, 870.0, 892.5, 892.5], \"xaxis\": \"x\", \"y\": [0.14285714285714285, 0.2972972972972973, 0.2972972972972973, 0.2558139534883721], \"yaxis\": \"y\"}, {\"hoverinfo\": \"text\", \"marker\": {\"color\": \"rgb(35,205,205)\"}, \"mode\": \"lines\", \"text\": [\"cluster: 9, component: Chinese Spring 1_001829_3978_m/z191.1429_RT5.2782\", \"cluster: 9, component: Chinese Spring 1_001829_3978_m/z191.1429_RT5.2782\", \"cluster: 9, component: Chinese Spring 1_001829_5431_m/z191.1429_RT6.7410\", \"cluster: 9, component: Chinese Spring 1_001829_5431_m/z191.1429_RT6.7410\"], \"type\": \"scatter\", \"uid\": \"84c4443d-eba7-4306-a43e-93295179c94f\", \"x\": [925.0, 925.0, 935.0, 935.0], \"xaxis\": \"x\", \"y\": [0.0, 0.27472527472527475, 0.27472527472527475, 0.0], \"yaxis\": \"y\"}, {\"hoverinfo\": \"text\", \"marker\": {\"color\": \"rgb(35,205,205)\"}, \"mode\": \"lines\", \"text\": [\"cluster: 9, component: Chinese Spring 1_001829_5301_m/z191.1428_RT6.5359\", \"cluster: 9, component: Chinese Spring 1_001829_5301_m/z191.1428_RT6.5359\", null, null], \"type\": \"scatter\", \"uid\": \"60fa609c-8b38-4ad6-92fa-fa3e2dea7f7d\", \"x\": [915.0, 915.0, 930.0, 930.0], \"xaxis\": \"x\", \"y\": [0.0, 0.3333333333333333, 0.3333333333333333, 0.27472527472527475], \"yaxis\": \"y\"}, {\"hoverinfo\": \"text\", \"marker\": {\"color\": \"rgb(35,205,205)\"}, \"mode\": \"lines\", \"text\": [null, null, null, null], \"type\": \"scatter\", \"uid\": \"dbbab4d6-03bd-46cd-ad33-55dee8216dbb\", \"x\": [881.25, 881.25, 922.5, 922.5], \"xaxis\": \"x\", \"y\": [0.2972972972972973, 0.5151515151515151, 0.5151515151515151, 0.3333333333333333], \"yaxis\": \"y\"}, {\"hoverinfo\": \"text\", \"marker\": {\"color\": \"rgb(35,205,205)\"}, \"mode\": \"lines\", \"text\": [\"cluster: 9, component: Chinese Spring 2_001850_5547_m/z137.0960_RT7.4167\", \"cluster: 9, component: Chinese Spring 2_001850_5547_m/z137.0960_RT7.4167\", null, null], \"type\": \"scatter\", \"uid\": \"cdf63f0a-c47a-4d97-8f14-7310c385fd7b\", \"x\": [855.0, 855.0, 901.875, 901.875], \"xaxis\": \"x\", \"y\": [0.0, 0.6428571428571429, 0.6428571428571429, 0.5151515151515151], \"yaxis\": \"y\"}, {\"hoverinfo\": \"text\", \"marker\": {\"color\": \"rgb(35,205,205)\"}, \"mode\": \"lines\", \"text\": [null, null, null, null], \"type\": \"scatter\", \"uid\": \"99d5ae40-7050-4b37-be97-07edc1c5849d\", \"x\": [760.46875, 760.46875, 878.4375, 878.4375], \"xaxis\": \"x\", \"y\": [0.6170212765957447, 0.6907216494845361, 0.6907216494845361, 0.6428571428571429], \"yaxis\": \"y\"}, {\"hoverinfo\": \"text\", \"marker\": {\"color\": \"rgb(35,205,205)\"}, \"mode\": \"lines\", \"text\": [null, null, null, null], \"type\": \"scatter\", \"uid\": \"ad2d1673-2700-4ede-90ed-37037df283b4\", \"x\": [640.0, 640.0, 819.453125, 819.453125], \"xaxis\": \"x\", \"y\": [0.31868131868131866, 0.7272727272727273, 0.7272727272727273, 0.6907216494845361], \"yaxis\": \"y\"}, {\"hoverinfo\": \"text\", \"marker\": {\"color\": \"rgb(133,20,75)\"}, \"mode\": \"lines\", \"text\": [\"cluster: 10, component: Chinese Spring 1_001829_4949_m/z209.0807_RT6.0494\", \"cluster: 10, component: Chinese Spring 1_001829_4949_m/z209.0807_RT6.0494\", \"cluster: 10, component: Chinese Spring 1_001829_6612_m/z207.1378_RT9.3355\", \"cluster: 10, component: Chinese Spring 1_001829_6612_m/z207.1378_RT9.3355\"], \"type\": \"scatter\", \"uid\": \"0411f0eb-51e6-49e3-bda7-d66b8dcfbf52\", \"x\": [945.0, 945.0, 955.0, 955.0], \"xaxis\": \"x\", \"y\": [0.0, 0.7477477477477478, 0.7477477477477478, 0.0], \"yaxis\": \"y\"}, {\"hoverinfo\": \"text\", \"marker\": {\"color\": \"rgb(0,116,217)\"}, \"mode\": \"lines\", \"text\": [null, null, null, null], \"type\": \"scatter\", \"uid\": \"c691c09a-544c-4053-8894-c37bbc640c74\", \"x\": [729.7265625, 729.7265625, 950.0, 950.0], \"xaxis\": \"x\", \"y\": [0.7272727272727273, 0.8409090909090909, 0.8409090909090909, 0.7477477477477478], \"yaxis\": \"y\"}, {\"hoverinfo\": \"text\", \"marker\": {\"color\": \"rgb(0,116,217)\"}, \"mode\": \"lines\", \"text\": [null, null, null, null], \"type\": \"scatter\", \"uid\": \"62798ced-a560-4cf8-a414-6188230ce10d\", \"x\": [601.875, 601.875, 839.86328125, 839.86328125], \"xaxis\": \"x\", \"y\": [0.8235294117647058, 0.9767441860465116, 0.9767441860465116, 0.8409090909090909], \"yaxis\": \"y\"}, {\"hoverinfo\": \"text\", \"marker\": {\"color\": \"rgb(255,220,0)\"}, \"mode\": \"lines\", \"text\": [\"cluster: 11, component: Chinese Spring 1_001829_3815_m/z177.0545_RT5.1175\", \"cluster: 11, component: Chinese Spring 1_001829_3815_m/z177.0545_RT5.1175\", \"cluster: 11, component: Espada 3_001867_2046_m/z177.0545_RT3.9185\", \"cluster: 11, component: Espada 3_001867_2046_m/z177.0545_RT3.9185\"], \"type\": \"scatter\", \"uid\": \"36f287db-226d-48ce-89bd-e4c70a655fba\", \"x\": [985.0, 985.0, 995.0, 995.0], \"xaxis\": \"x\", \"y\": [0.0, 0.21212121212121213, 0.21212121212121213, 0.0], \"yaxis\": \"y\"}, {\"hoverinfo\": \"text\", \"marker\": {\"color\": \"rgb(255,220,0)\"}, \"mode\": \"lines\", \"text\": [\"cluster: 11, component: Chinese Spring 1_001829_2250_m/z177.0544_RT3.6957\", \"cluster: 11, component: Chinese Spring 1_001829_2250_m/z177.0544_RT3.6957\", null, null], \"type\": \"scatter\", \"uid\": \"86260ddf-7305-4df9-a752-a3fd30c78b5c\", \"x\": [975.0, 975.0, 990.0, 990.0], \"xaxis\": \"x\", \"y\": [0.0, 0.24324324324324326, 0.24324324324324326, 0.21212121212121213], \"yaxis\": \"y\"}, {\"hoverinfo\": \"text\", \"marker\": {\"color\": \"rgb(255,220,0)\"}, \"mode\": \"lines\", \"text\": [\"cluster: 11, component: Chinese Spring 1_001829_3575_m/z199.9878_RT4.9437\", \"cluster: 11, component: Chinese Spring 1_001829_3575_m/z199.9878_RT4.9437\", \"cluster: 11, component: Chinese Spring 3_001858_3785_m/z199.9877_RT5.0667\", \"cluster: 11, component: Chinese Spring 3_001858_3785_m/z199.9877_RT5.0667\"], \"type\": \"scatter\", \"uid\": \"f2f0f50b-6b3a-4e04-82f7-cb57f3eff754\", \"x\": [1005.0, 1005.0, 1015.0, 1015.0], \"xaxis\": \"x\", \"y\": [0.0, 0.20588235294117646, 0.20588235294117646, 0.0], \"yaxis\": \"y\"}, {\"hoverinfo\": \"text\", \"marker\": {\"color\": \"rgb(255,220,0)\"}, \"mode\": \"lines\", \"text\": [\"cluster: 11, component: Chinese Spring 1_001829_0008_m/z199.9878_RT0.5260\", \"cluster: 11, component: Chinese Spring 1_001829_0008_m/z199.9878_RT0.5260\", \"cluster: 11, component: Chinese Spring 1_001829_3401_m/z199.9878_RT4.8234\", \"cluster: 11, component: Chinese Spring 1_001829_3401_m/z199.9878_RT4.8234\"], \"type\": \"scatter\", \"uid\": \"531a6aa7-d882-4140-8380-ced02aca7726\", \"x\": [1025.0, 1025.0, 1035.0, 1035.0], \"xaxis\": \"x\", \"y\": [0.0, 0.17647058823529413, 0.17647058823529413, 0.0], \"yaxis\": \"y\"}, {\"hoverinfo\": \"text\", \"marker\": {\"color\": \"rgb(255,220,0)\"}, \"mode\": \"lines\", \"text\": [\"cluster: 11, component: Chinese Spring 1_001829_4213_m/z199.9877_RT5.4298\", \"cluster: 11, component: Chinese Spring 1_001829_4213_m/z199.9877_RT5.4298\", \"cluster: 11, component: Chinese Spring 2_001850_3871_m/z199.9878_RT5.2900\", \"cluster: 11, component: Chinese Spring 2_001850_3871_m/z199.9878_RT5.2900\"], \"type\": \"scatter\", \"uid\": \"37717422-0b0d-4c08-afe8-b36b13f5a29e\", \"x\": [1045.0, 1045.0, 1055.0, 1055.0], \"xaxis\": \"x\", \"y\": [0.0, 0.1, 0.1, 0.0], \"yaxis\": \"y\"}, {\"hoverinfo\": \"text\", \"marker\": {\"color\": \"rgb(255,220,0)\"}, \"mode\": \"lines\", \"text\": [\"cluster: 11, component: Chinese Spring 2_001850_4313_m/z199.9878_RT5.5708\", \"cluster: 11, component: Chinese Spring 2_001850_4313_m/z199.9878_RT5.5708\", \"cluster: 11, component: Cobra 2_001852_2321_m/z199.9877_RT4.2435\", \"cluster: 11, component: Cobra 2_001852_2321_m/z199.9877_RT4.2435\"], \"type\": \"scatter\", \"uid\": \"f898ff43-6cfc-4c76-b24c-01d84c60e37b\", \"x\": [1075.0, 1075.0, 1085.0, 1085.0], \"xaxis\": \"x\", \"y\": [0.0, 0.14285714285714285, 0.14285714285714285, 0.0], \"yaxis\": \"y\"}, {\"hoverinfo\": \"text\", \"marker\": {\"color\": \"rgb(255,220,0)\"}, \"mode\": \"lines\", \"text\": [\"cluster: 11, component: Cobra 2_001852_4324_m/z199.9878_RT6.0264\", \"cluster: 11, component: Cobra 2_001852_4324_m/z199.9878_RT6.0264\", null, null], \"type\": \"scatter\", \"uid\": \"5769c26d-e630-4ff0-a099-92946c53aca7\", \"x\": [1065.0, 1065.0, 1080.0, 1080.0], \"xaxis\": \"x\", \"y\": [0.0, 0.18518518518518517, 0.18518518518518517, 0.14285714285714285], \"yaxis\": \"y\"}, {\"hoverinfo\": \"text\", \"marker\": {\"color\": \"rgb(255,220,0)\"}, \"mode\": \"lines\", \"text\": [null, null, null, null], \"type\": \"scatter\", \"uid\": \"e52942fb-05a4-4824-98d4-c3abc4b0711e\", \"x\": [1050.0, 1050.0, 1072.5, 1072.5], \"xaxis\": \"x\", \"y\": [0.1, 0.2222222222222222, 0.2222222222222222, 0.18518518518518517], \"yaxis\": \"y\"}, {\"hoverinfo\": \"text\", \"marker\": {\"color\": \"rgb(255,220,0)\"}, \"mode\": \"lines\", \"text\": [null, null, null, null], \"type\": \"scatter\", \"uid\": \"aa3935d5-c082-423f-b6a5-c9ba368c80d3\", \"x\": [1030.0, 1030.0, 1061.25, 1061.25], \"xaxis\": \"x\", \"y\": [0.17647058823529413, 0.2692307692307692, 0.2692307692307692, 0.2222222222222222], \"yaxis\": \"y\"}, {\"hoverinfo\": \"text\", \"marker\": {\"color\": \"rgb(255,220,0)\"}, \"mode\": \"lines\", \"text\": [null, null, null, null], \"type\": \"scatter\", \"uid\": \"898b3cf5-5739-4f4e-ae18-f2dd4b0bda9a\", \"x\": [1010.0, 1010.0, 1045.625, 1045.625], \"xaxis\": \"x\", \"y\": [0.20588235294117646, 0.3103448275862069, 0.3103448275862069, 0.2692307692307692], \"yaxis\": \"y\"}, {\"hoverinfo\": \"text\", \"marker\": {\"color\": \"rgb(255,220,0)\"}, \"mode\": \"lines\", \"text\": [null, null, null, null], \"type\": \"scatter\", \"uid\": \"892154ac-2bdd-4c55-95eb-beb6951d7e58\", \"x\": [982.5, 982.5, 1027.8125, 1027.8125], \"xaxis\": \"x\", \"y\": [0.24324324324324326, 0.696969696969697, 0.696969696969697, 0.3103448275862069], \"yaxis\": \"y\"}, {\"hoverinfo\": \"text\", \"marker\": {\"color\": \"rgb(40,35,35)\"}, \"mode\": \"lines\", \"text\": [\"cluster: 12, component: Chinese Spring 1_001829_3296_m/z611.1606_RT4.7565\", \"cluster: 12, component: Chinese Spring 1_001829_3296_m/z611.1606_RT4.7565\", \"cluster: 12, component: Chinese Spring 1_001829_3857_m/z611.1606_RT5.1666\", \"cluster: 12, component: Chinese Spring 1_001829_3857_m/z611.1606_RT5.1666\"], \"type\": \"scatter\", \"uid\": \"e0217d31-5461-43f0-a419-0cc281e83642\", \"x\": [1105.0, 1105.0, 1115.0, 1115.0], \"xaxis\": \"x\", \"y\": [0.0, 0.2972972972972973, 0.2972972972972973, 0.0], \"yaxis\": \"y\"}, {\"hoverinfo\": \"text\", \"marker\": {\"color\": \"rgb(61,153,112)\"}, \"mode\": \"lines\", \"text\": [\"cluster: 13, component: Chinese Spring 1_001829_3593_m/z339.1073_RT4.9571\", \"cluster: 13, component: Chinese Spring 1_001829_3593_m/z339.1073_RT4.9571\", \"cluster: 13, component: Chinese Spring 1_001829_4973_m/z339.1073_RT6.0940\", \"cluster: 13, component: Chinese Spring 1_001829_4973_m/z339.1073_RT6.0940\"], \"type\": \"scatter\", \"uid\": \"7b768589-d9c5-469f-9fea-b6e467601b1d\", \"x\": [1125.0, 1125.0, 1135.0, 1135.0], \"xaxis\": \"x\", \"y\": [0.0, 0.28205128205128205, 0.28205128205128205, 0.0], \"yaxis\": \"y\"}, {\"hoverinfo\": \"text\", \"marker\": {\"color\": \"rgb(61,153,112)\"}, \"mode\": \"lines\", \"text\": [\"cluster: 13, component: Chinese Spring 1_001829_5035_m/z231.0497_RT6.1564\", \"cluster: 13, component: Chinese Spring 1_001829_5035_m/z231.0497_RT6.1564\", \"cluster: 13, component: Chinese Spring 1_001829_6283_m/z231.0496_RT8.6045\", \"cluster: 13, component: Chinese Spring 1_001829_6283_m/z231.0496_RT8.6045\"], \"type\": \"scatter\", \"uid\": \"4a2d89c5-8dd2-4e13-ae15-6bc585d8886a\", \"x\": [1185.0, 1185.0, 1195.0, 1195.0], \"xaxis\": \"x\", \"y\": [0.0, 0.24324324324324326, 0.24324324324324326, 0.0], \"yaxis\": \"y\"}, {\"hoverinfo\": \"text\", \"marker\": {\"color\": \"rgb(61,153,112)\"}, \"mode\": \"lines\", \"text\": [\"cluster: 13, component: Chinese Spring 1_001829_3927_m/z231.0497_RT5.2470\", \"cluster: 13, component: Chinese Spring 1_001829_3927_m/z231.0497_RT5.2470\", null, null], \"type\": \"scatter\", \"uid\": \"b506086f-6205-4d2c-a0dc-43409a9bda23\", \"x\": [1175.0, 1175.0, 1190.0, 1190.0], \"xaxis\": \"x\", \"y\": [0.0, 0.2571428571428571, 0.2571428571428571, 0.24324324324324326], \"yaxis\": \"y\"}, {\"hoverinfo\": \"text\", \"marker\": {\"color\": \"rgb(61,153,112)\"}, \"mode\": \"lines\", \"text\": [\"cluster: 13, component: Chinese Spring 1_001829_5413_m/z231.0497_RT6.7231\", \"cluster: 13, component: Chinese Spring 1_001829_5413_m/z231.0497_RT6.7231\", null, null], \"type\": \"scatter\", \"uid\": \"ff47de1e-136a-437d-9a6b-7c50cf67ae97\", \"x\": [1165.0, 1165.0, 1182.5, 1182.5], \"xaxis\": \"x\", \"y\": [0.0, 0.35135135135135137, 0.35135135135135137, 0.2571428571428571], \"yaxis\": \"y\"}, {\"hoverinfo\": \"text\", \"marker\": {\"color\": \"rgb(61,153,112)\"}, \"mode\": \"lines\", \"text\": [\"cluster: 13, component: Chinese Spring 1_001829_3932_m/z340.1603_RT5.2470\", \"cluster: 13, component: Chinese Spring 1_001829_3932_m/z340.1603_RT5.2470\", null, null], \"type\": \"scatter\", \"uid\": \"25b96c10-9610-4d7c-9d57-39b1331d78ff\", \"x\": [1155.0, 1155.0, 1173.75, 1173.75], \"xaxis\": \"x\", \"y\": [0.0, 0.5272727272727272, 0.5272727272727272, 0.35135135135135137], \"yaxis\": \"y\"}, {\"hoverinfo\": \"text\", \"marker\": {\"color\": \"rgb(61,153,112)\"}, \"mode\": \"lines\", \"text\": [\"cluster: 13, component: Chinese Spring 2_001850_1213_m/z314.1446_RT1.3713\", \"cluster: 13, component: Chinese Spring 2_001850_1213_m/z314.1446_RT1.3713\", \"cluster: 13, component: Emu Rock 2_001847_1099_m/z314.1446_RT1.2598\", \"cluster: 13, component: Emu Rock 2_001847_1099_m/z314.1446_RT1.2598\"], \"type\": \"scatter\", \"uid\": \"2fdcba33-4ef5-40d1-b7c0-0461ea866623\", \"x\": [1205.0, 1205.0, 1215.0, 1215.0], \"xaxis\": \"x\", \"y\": [0.0, 0.2682926829268293, 0.2682926829268293, 0.0], \"yaxis\": \"y\"}, {\"hoverinfo\": \"text\", \"marker\": {\"color\": \"rgb(61,153,112)\"}, \"mode\": \"lines\", \"text\": [\"cluster: 13, component: Chinese Spring 1_001829_2752_m/z342.1759_RT4.2840\", \"cluster: 13, component: Chinese Spring 1_001829_2752_m/z342.1759_RT4.2840\", \"cluster: 13, component: Chinese Spring 3_001858_1605_m/z310.1495_RT2.2587\", \"cluster: 13, component: Chinese Spring 3_001858_1605_m/z310.1495_RT2.2587\"], \"type\": \"scatter\", \"uid\": \"e761f2c2-c417-440e-bdae-e278bc3e2afa\", \"x\": [1225.0, 1225.0, 1235.0, 1235.0], \"xaxis\": \"x\", \"y\": [0.0, 0.5135135135135135, 0.5135135135135135, 0.0], \"yaxis\": \"y\"}, {\"hoverinfo\": \"text\", \"marker\": {\"color\": \"rgb(61,153,112)\"}, \"mode\": \"lines\", \"text\": [null, null, null, null], \"type\": \"scatter\", \"uid\": \"882499e4-ce41-448d-bd95-a6f1615264ea\", \"x\": [1210.0, 1210.0, 1230.0, 1230.0], \"xaxis\": \"x\", \"y\": [0.2682926829268293, 0.6, 0.6, 0.5135135135135135], \"yaxis\": \"y\"}, {\"hoverinfo\": \"text\", \"marker\": {\"color\": \"rgb(61,153,112)\"}, \"mode\": \"lines\", \"text\": [null, null, null, null], \"type\": \"scatter\", \"uid\": \"c9b2ff46-16f8-49ef-8b1b-ed32492f9602\", \"x\": [1164.375, 1164.375, 1220.0, 1220.0], \"xaxis\": \"x\", \"y\": [0.5272727272727272, 0.6666666666666666, 0.6666666666666666, 0.6], \"yaxis\": \"y\"}, {\"hoverinfo\": \"text\", \"marker\": {\"color\": \"rgb(61,153,112)\"}, \"mode\": \"lines\", \"text\": [\"cluster: 13, component: Chinese Spring 1_001829_6003_m/z498.2543_RT7.9315\", \"cluster: 13, component: Chinese Spring 1_001829_6003_m/z498.2543_RT7.9315\", null, null], \"type\": \"scatter\", \"uid\": \"4e0fc49b-1098-423c-a165-87711e652e7b\", \"x\": [1145.0, 1145.0, 1192.1875, 1192.1875], \"xaxis\": \"x\", \"y\": [0.0, 0.75, 0.75, 0.6666666666666666], \"yaxis\": \"y\"}, {\"hoverinfo\": \"text\", \"marker\": {\"color\": \"rgb(61,153,112)\"}, \"mode\": \"lines\", \"text\": [null, null, null, null], \"type\": \"scatter\", \"uid\": \"26f5e04b-7a26-4943-8357-19cf120b90af\", \"x\": [1130.0, 1130.0, 1168.59375, 1168.59375], \"xaxis\": \"x\", \"y\": [0.28205128205128205, 0.7818181818181819, 0.7818181818181819, 0.75], \"yaxis\": \"y\"}, {\"hoverinfo\": \"text\", \"marker\": {\"color\": \"rgb(0,116,217)\"}, \"mode\": \"lines\", \"text\": [\"cluster: 14, component: Chinese Spring 1_001829_1178_m/z241.1544_RT1.1946\", \"cluster: 14, component: Chinese Spring 1_001829_1178_m/z241.1544_RT1.1946\", \"cluster: 15, component: Chinese Spring 1_001829_1844_m/z507.1819_RT2.9692\", \"cluster: 15, component: Chinese Spring 1_001829_1844_m/z507.1819_RT2.9692\"], \"type\": \"scatter\", \"uid\": \"cd501adb-a5b3-434e-85b0-01b80fd99fb2\", \"x\": [1245.0, 1245.0, 1255.0, 1255.0], \"xaxis\": \"x\", \"y\": [0.0, 0.84375, 0.84375, 0.0], \"yaxis\": \"y\"}, {\"hoverinfo\": \"text\", \"marker\": {\"color\": \"rgb(0,116,217)\"}, \"mode\": \"lines\", \"text\": [null, null, null, null], \"type\": \"scatter\", \"uid\": \"eead1f97-9354-4cfc-9581-93671c8c06a6\", \"x\": [1149.296875, 1149.296875, 1250.0, 1250.0], \"xaxis\": \"x\", \"y\": [0.7818181818181819, 0.8695652173913043, 0.8695652173913043, 0.84375], \"yaxis\": \"y\"}, {\"hoverinfo\": \"text\", \"marker\": {\"color\": \"rgb(0,116,217)\"}, \"mode\": \"lines\", \"text\": [null, null, null, null], \"type\": \"scatter\", \"uid\": \"5f837fe3-e3f9-4265-9fab-48550af3c2c1\", \"x\": [1110.0, 1110.0, 1199.6484375, 1199.6484375], \"xaxis\": \"x\", \"y\": [0.2972972972972973, 0.9272727272727272, 0.9272727272727272, 0.8695652173913043], \"yaxis\": \"y\"}, {\"hoverinfo\": \"text\", \"marker\": {\"color\": \"rgb(0,116,217)\"}, \"mode\": \"lines\", \"text\": [\"cluster: 16, component: Chinese Spring 1_001829_5512_m/z463.1233_RT6.8301\", \"cluster: 16, component: Chinese Spring 1_001829_5512_m/z463.1233_RT6.8301\", null, null], \"type\": \"scatter\", \"uid\": \"634600af-f4ee-4b11-86da-9f0f47fd31c7\", \"x\": [1095.0, 1095.0, 1154.82421875, 1154.82421875], \"xaxis\": \"x\", \"y\": [0.0, 0.9411764705882353, 0.9411764705882353, 0.9272727272727272], \"yaxis\": \"y\"}, {\"hoverinfo\": \"text\", \"marker\": {\"color\": \"rgb(255,65,54)\"}, \"mode\": \"lines\", \"text\": [\"cluster: 17, component: Chinese Spring 1_001829_4912_m/z219.1014_RT5.9958\", \"cluster: 17, component: Chinese Spring 1_001829_4912_m/z219.1014_RT5.9958\", \"cluster: 17, component: Chinese Spring 1_001829_5175_m/z219.1014_RT6.3621\", \"cluster: 17, component: Chinese Spring 1_001829_5175_m/z219.1014_RT6.3621\"], \"type\": \"scatter\", \"uid\": \"f487b47a-e3cf-4135-9377-94c9d365db73\", \"x\": [1285.0, 1285.0, 1295.0, 1295.0], \"xaxis\": \"x\", \"y\": [0.0, 0.23595505617977527, 0.23595505617977527, 0.0], \"yaxis\": \"y\"}, {\"hoverinfo\": \"text\", \"marker\": {\"color\": \"rgb(255,65,54)\"}, \"mode\": \"lines\", \"text\": [\"cluster: 17, component: Chinese Spring 1_001829_5685_m/z219.1014_RT7.3074\", \"cluster: 17, component: Chinese Spring 1_001829_5685_m/z219.1014_RT7.3074\", null, null], \"type\": \"scatter\", \"uid\": \"b6699af3-43b3-410c-8796-ff34f8473a6b\", \"x\": [1275.0, 1275.0, 1290.0, 1290.0], \"xaxis\": \"x\", \"y\": [0.0, 0.30275229357798167, 0.30275229357798167, 0.23595505617977527], \"yaxis\": \"y\"}, {\"hoverinfo\": \"text\", \"marker\": {\"color\": \"rgb(255,65,54)\"}, \"mode\": \"lines\", \"text\": [\"cluster: 17, component: Correll 1_001837_4911_m/z251.0911_RT6.5612\", \"cluster: 17, component: Correll 1_001837_4911_m/z251.0911_RT6.5612\", null, null], \"type\": \"scatter\", \"uid\": \"8b93fbd8-d5c0-4077-a0c3-497d73e2d133\", \"x\": [1265.0, 1265.0, 1282.5, 1282.5], \"xaxis\": \"x\", \"y\": [0.0, 0.4845360824742268, 0.4845360824742268, 0.30275229357798167], \"yaxis\": \"y\"}, {\"hoverinfo\": \"text\", \"marker\": {\"color\": \"rgb(35,205,205)\"}, \"mode\": \"lines\", \"text\": [\"cluster: 18, component: Chinese Spring 1_001829_2478_m/z291.1449_RT4.0211\", \"cluster: 18, component: Chinese Spring 1_001829_2478_m/z291.1449_RT4.0211\", \"cluster: 18, component: Chinese Spring 1_001829_2534_m/z291.1449_RT4.0567\", \"cluster: 18, component: Chinese Spring 1_001829_2534_m/z291.1449_RT4.0567\"], \"type\": \"scatter\", \"uid\": \"8e286092-467b-4955-a0a3-5ded6ee2d16e\", \"x\": [1305.0, 1305.0, 1315.0, 1315.0], \"xaxis\": \"x\", \"y\": [0.0, 0.22727272727272727, 0.22727272727272727, 0.0], \"yaxis\": \"y\"}, {\"hoverinfo\": \"text\", \"marker\": {\"color\": \"rgb(35,205,205)\"}, \"mode\": \"lines\", \"text\": [\"cluster: 18, component: Chinese Spring 1_001829_1966_m/z273.1343_RT3.3302\", \"cluster: 18, component: Chinese Spring 1_001829_1966_m/z273.1343_RT3.3302\", \"cluster: 18, component: Chinese Spring 1_001829_2526_m/z273.1343_RT4.0523\", \"cluster: 18, component: Chinese Spring 1_001829_2526_m/z273.1343_RT4.0523\"], \"type\": \"scatter\", \"uid\": \"cb83a641-6077-4009-b29b-89fde51214f6\", \"x\": [1335.0, 1335.0, 1345.0, 1345.0], \"xaxis\": \"x\", \"y\": [0.0, 0.2, 0.2, 0.0], \"yaxis\": \"y\"}, {\"hoverinfo\": \"text\", \"marker\": {\"color\": \"rgb(35,205,205)\"}, \"mode\": \"lines\", \"text\": [\"cluster: 18, component: Chinese Spring 1_001829_1967_m/z291.1450_RT3.3302\", \"cluster: 18, component: Chinese Spring 1_001829_1967_m/z291.1450_RT3.3302\", null, null], \"type\": \"scatter\", \"uid\": \"cb8ac6d5-5b86-42c9-8259-332241606a2e\", \"x\": [1325.0, 1325.0, 1340.0, 1340.0], \"xaxis\": \"x\", \"y\": [0.0, 0.2653061224489796, 0.2653061224489796, 0.2], \"yaxis\": \"y\"}, {\"hoverinfo\": \"text\", \"marker\": {\"color\": \"rgb(35,205,205)\"}, \"mode\": \"lines\", \"text\": [null, null, null, null], \"type\": \"scatter\", \"uid\": \"dd36673e-a7d5-4f53-9ae6-64c2d882ab86\", \"x\": [1310.0, 1310.0, 1332.5, 1332.5], \"xaxis\": \"x\", \"y\": [0.22727272727272727, 0.34782608695652173, 0.34782608695652173, 0.2653061224489796], \"yaxis\": \"y\"}, {\"hoverinfo\": \"text\", \"marker\": {\"color\": \"rgb(133,20,75)\"}, \"mode\": \"lines\", \"text\": [\"cluster: 19, component: Chinese Spring 1_001829_1874_m/z235.1439_RT3.0271\", \"cluster: 19, component: Chinese Spring 1_001829_1874_m/z235.1439_RT3.0271\", \"cluster: 19, component: Chinese Spring 1_001829_2318_m/z235.1439_RT3.7670\", \"cluster: 19, component: Chinese Spring 1_001829_2318_m/z235.1439_RT3.7670\"], \"type\": \"scatter\", \"uid\": \"4ede538e-0791-4e4a-ab86-eac549e45e84\", \"x\": [1365.0, 1365.0, 1375.0, 1375.0], \"xaxis\": \"x\", \"y\": [0.0, 0.35714285714285715, 0.35714285714285715, 0.0], \"yaxis\": \"y\"}, {\"hoverinfo\": \"text\", \"marker\": {\"color\": \"rgb(133,20,75)\"}, \"mode\": \"lines\", \"text\": [\"cluster: 19, component: Chinese Spring 1_001829_1994_m/z251.1387_RT3.3658\", \"cluster: 19, component: Chinese Spring 1_001829_1994_m/z251.1387_RT3.3658\", null, null], \"type\": \"scatter\", \"uid\": \"84abcd22-c659-4c99-8158-a2b249e4de7e\", \"x\": [1355.0, 1355.0, 1370.0, 1370.0], \"xaxis\": \"x\", \"y\": [0.0, 0.76, 0.76, 0.35714285714285715], \"yaxis\": \"y\"}, {\"hoverinfo\": \"text\", \"marker\": {\"color\": \"rgb(0,116,217)\"}, \"mode\": \"lines\", \"text\": [null, null, null, null], \"type\": \"scatter\", \"uid\": \"0c3e49c9-c76a-44a3-847b-5e0aa6cf4c5e\", \"x\": [1321.25, 1321.25, 1362.5, 1362.5], \"xaxis\": \"x\", \"y\": [0.34782608695652173, 0.8461538461538461, 0.8461538461538461, 0.76], \"yaxis\": \"y\"}, {\"hoverinfo\": \"text\", \"marker\": {\"color\": \"rgb(0,116,217)\"}, \"mode\": \"lines\", \"text\": [null, null, null, null], \"type\": \"scatter\", \"uid\": \"2e7e4288-36f4-4551-bad2-d319b0b0798a\", \"x\": [1273.75, 1273.75, 1341.875, 1341.875], \"xaxis\": \"x\", \"y\": [0.4845360824742268, 0.978494623655914, 0.978494623655914, 0.8461538461538461], \"yaxis\": \"y\"}, {\"hoverinfo\": \"text\", \"marker\": {\"color\": \"rgb(255,220,0)\"}, \"mode\": \"lines\", \"text\": [\"cluster: 20, component: Chinese Spring 1_001829_2426_m/z194.0447_RT3.9542\", \"cluster: 20, component: Chinese Spring 1_001829_2426_m/z194.0447_RT3.9542\", \"cluster: 20, component: Cobra 3_001856_2051_m/z194.1174_RT3.6295\", \"cluster: 20, component: Cobra 3_001856_2051_m/z194.1174_RT3.6295\"], \"type\": \"scatter\", \"uid\": \"0b5f2b16-3d15-45ca-b887-7048eebd9d3f\", \"x\": [1385.0, 1385.0, 1395.0, 1395.0], \"xaxis\": \"x\", \"y\": [0.0, 0.45, 0.45, 0.0], \"yaxis\": \"y\"}, {\"hoverinfo\": \"text\", \"marker\": {\"color\": \"rgb(255,220,0)\"}, \"mode\": \"lines\", \"text\": [\"cluster: 20, component: Chinese Spring 1_001829_3914_m/z194.0447_RT5.2381\", \"cluster: 20, component: Chinese Spring 1_001829_3914_m/z194.0447_RT5.2381\", \"cluster: 20, component: Chinese Spring 1_001829_4309_m/z212.0552_RT5.4788\", \"cluster: 20, component: Chinese Spring 1_001829_4309_m/z212.0552_RT5.4788\"], \"type\": \"scatter\", \"uid\": \"eaa4673a-eaf6-436d-92bf-a7d7aa573555\", \"x\": [1415.0, 1415.0, 1425.0, 1425.0], \"xaxis\": \"x\", \"y\": [0.0, 0.21311475409836064, 0.21311475409836064, 0.0], \"yaxis\": \"y\"}, {\"hoverinfo\": \"text\", \"marker\": {\"color\": \"rgb(255,220,0)\"}, \"mode\": \"lines\", \"text\": [\"cluster: 20, component: Chinese Spring 1_001829_3643_m/z194.0447_RT4.9972\", \"cluster: 20, component: Chinese Spring 1_001829_3643_m/z194.0447_RT4.9972\", null, null], \"type\": \"scatter\", \"uid\": \"ec42e0cb-a529-4a63-ab12-c2c86f791f84\", \"x\": [1405.0, 1405.0, 1420.0, 1420.0], \"xaxis\": \"x\", \"y\": [0.0, 0.38636363636363635, 0.38636363636363635, 0.21311475409836064], \"yaxis\": \"y\"}, {\"hoverinfo\": \"text\", \"marker\": {\"color\": \"rgb(255,220,0)\"}, \"mode\": \"lines\", \"text\": [\"cluster: 20, component: Chinese Spring 1_001829_5341_m/z194.0447_RT6.6117\", \"cluster: 20, component: Chinese Spring 1_001829_5341_m/z194.0447_RT6.6117\", \"cluster: 20, component: Chinese Spring 1_001829_5342_m/z226.0708_RT6.6117\", \"cluster: 20, component: Chinese Spring 1_001829_5342_m/z226.0708_RT6.6117\"], \"type\": \"scatter\", \"uid\": \"0d4b722b-dd39-4270-ae81-a3cae89552ef\", \"x\": [1445.0, 1445.0, 1455.0, 1455.0], \"xaxis\": \"x\", \"y\": [0.0, 0.4583333333333333, 0.4583333333333333, 0.0], \"yaxis\": \"y\"}, {\"hoverinfo\": \"text\", \"marker\": {\"color\": \"rgb(255,220,0)\"}, \"mode\": \"lines\", \"text\": [\"cluster: 20, component: Chinese Spring 1_001829_2958_m/z212.0552_RT4.4445\", \"cluster: 20, component: Chinese Spring 1_001829_2958_m/z212.0552_RT4.4445\", null, null], \"type\": \"scatter\", \"uid\": \"d2d03c38-cc71-44ee-96d7-2345ee2f2598\", \"x\": [1435.0, 1435.0, 1450.0, 1450.0], \"xaxis\": \"x\", \"y\": [0.0, 0.5384615384615384, 0.5384615384615384, 0.4583333333333333], \"yaxis\": \"y\"}, {\"hoverinfo\": \"text\", \"marker\": {\"color\": \"rgb(255,220,0)\"}, \"mode\": \"lines\", \"text\": [null, null, null, null], \"type\": \"scatter\", \"uid\": \"7e92f160-0cc0-4f16-bf9d-e9749d7047e3\", \"x\": [1412.5, 1412.5, 1442.5, 1442.5], \"xaxis\": \"x\", \"y\": [0.38636363636363635, 0.7183098591549296, 0.7183098591549296, 0.5384615384615384], \"yaxis\": \"y\"}, {\"hoverinfo\": \"text\", \"marker\": {\"color\": \"rgb(255,220,0)\"}, \"mode\": \"lines\", \"text\": [null, null, null, null], \"type\": \"scatter\", \"uid\": \"1c78bb61-3199-4e30-8761-cc6a00ba1c83\", \"x\": [1390.0, 1390.0, 1427.5, 1427.5], \"xaxis\": \"x\", \"y\": [0.45, 0.7464788732394366, 0.7464788732394366, 0.7183098591549296], \"yaxis\": \"y\"}, {\"hoverinfo\": \"text\", \"marker\": {\"color\": \"rgb(40,35,35)\"}, \"mode\": \"lines\", \"text\": [\"cluster: 21, component: Chinese Spring 1_001829_2262_m/z533.1549_RT3.7001\", \"cluster: 21, component: Chinese Spring 1_001829_2262_m/z533.1549_RT3.7001\", \"cluster: 21, component: Chinese Spring 1_001829_2618_m/z533.1546_RT4.1191\", \"cluster: 21, component: Chinese Spring 1_001829_2618_m/z533.1546_RT4.1191\"], \"type\": \"scatter\", \"uid\": \"451bcf48-203c-4f58-af2b-ec30a18bd3b0\", \"x\": [1465.0, 1465.0, 1475.0, 1475.0], \"xaxis\": \"x\", \"y\": [0.0, 0.22522522522522523, 0.22522522522522523, 0.0], \"yaxis\": \"y\"}, {\"hoverinfo\": \"text\", \"marker\": {\"color\": \"rgb(40,35,35)\"}, \"mode\": \"lines\", \"text\": [\"cluster: 21, component: Chinese Spring 1_001829_2044_m/z533.1546_RT3.4461\", \"cluster: 21, component: Chinese Spring 1_001829_2044_m/z533.1546_RT3.4461\", \"cluster: 21, component: Chinese Spring 1_001829_3026_m/z533.1549_RT4.5203\", \"cluster: 21, component: Chinese Spring 1_001829_3026_m/z533.1549_RT4.5203\"], \"type\": \"scatter\", \"uid\": \"8eb6d2c1-fdfd-4b32-bdc0-b6c14d21506b\", \"x\": [1485.0, 1485.0, 1495.0, 1495.0], \"xaxis\": \"x\", \"y\": [0.0, 0.29411764705882354, 0.29411764705882354, 0.0], \"yaxis\": \"y\"}, {\"hoverinfo\": \"text\", \"marker\": {\"color\": \"rgb(40,35,35)\"}, \"mode\": \"lines\", \"text\": [null, null, null, null], \"type\": \"scatter\", \"uid\": \"e5c76c7d-c999-4aad-843a-32cfbdc2925a\", \"x\": [1470.0, 1470.0, 1490.0, 1490.0], \"xaxis\": \"x\", \"y\": [0.22522522522522523, 0.3333333333333333, 0.3333333333333333, 0.29411764705882354], \"yaxis\": \"y\"}, {\"hoverinfo\": \"text\", \"marker\": {\"color\": \"rgb(40,35,35)\"}, \"mode\": \"lines\", \"text\": [\"cluster: 21, component: Chinese Spring 1_001829_2030_m/z347.0907_RT3.4015\", \"cluster: 21, component: Chinese Spring 1_001829_2030_m/z347.0907_RT3.4015\", \"cluster: 21, component: Chinese Spring 2_001850_1485_m/z347.0907_RT2.1112\", \"cluster: 21, component: Chinese Spring 2_001850_1485_m/z347.0907_RT2.1112\"], \"type\": \"scatter\", \"uid\": \"3b0072cb-7412-4932-8a42-8671867fc6ab\", \"x\": [1505.0, 1505.0, 1515.0, 1515.0], \"xaxis\": \"x\", \"y\": [0.0, 0.34210526315789475, 0.34210526315789475, 0.0], \"yaxis\": \"y\"}, {\"hoverinfo\": \"text\", \"marker\": {\"color\": \"rgb(40,35,35)\"}, \"mode\": \"lines\", \"text\": [null, null, null, null], \"type\": \"scatter\", \"uid\": \"5c226b35-b578-47a3-828e-5f4112a94893\", \"x\": [1480.0, 1480.0, 1510.0, 1510.0], \"xaxis\": \"x\", \"y\": [0.3333333333333333, 0.7864077669902912, 0.7864077669902912, 0.34210526315789475], \"yaxis\": \"y\"}, {\"hoverinfo\": \"text\", \"marker\": {\"color\": \"rgb(0,116,217)\"}, \"mode\": \"lines\", \"text\": [null, null, null, null], \"type\": \"scatter\", \"uid\": \"ca6cbf28-b47b-450c-905b-52591ad00dd1\", \"x\": [1408.75, 1408.75, 1495.0, 1495.0], \"xaxis\": \"x\", \"y\": [0.7464788732394366, 0.971830985915493, 0.971830985915493, 0.7864077669902912], \"yaxis\": \"y\"}, {\"hoverinfo\": \"text\", \"marker\": {\"color\": \"rgb(61,153,112)\"}, \"mode\": \"lines\", \"text\": [\"cluster: 22, component: Chinese Spring 1_001829_1626_m/z194.1174_RT2.2515\", \"cluster: 22, component: Chinese Spring 1_001829_1626_m/z194.1174_RT2.2515\", \"cluster: 22, component: Cobra 2_001852_2090_m/z194.1174_RT4.0473\", \"cluster: 22, component: Cobra 2_001852_2090_m/z194.1174_RT4.0473\"], \"type\": \"scatter\", \"uid\": \"365d7b11-4e5f-4bc0-b8f9-0720dc086d17\", \"x\": [1525.0, 1525.0, 1535.0, 1535.0], \"xaxis\": \"x\", \"y\": [0.0, 0.5555555555555556, 0.5555555555555556, 0.0], \"yaxis\": \"y\"}, {\"hoverinfo\": \"text\", \"marker\": {\"color\": \"rgb(255,65,54)\"}, \"mode\": \"lines\", \"text\": [\"cluster: 23, component: Chinese Spring 1_001829_6439_m/z320.2946_RT8.8987\", \"cluster: 23, component: Chinese Spring 1_001829_6439_m/z320.2946_RT8.8987\", \"cluster: 23, component: Chinese Spring 1_001829_6466_m/z320.2948_RT8.9700\", \"cluster: 23, component: Chinese Spring 1_001829_6466_m/z320.2948_RT8.9700\"], \"type\": \"scatter\", \"uid\": \"6296bf45-97ce-40bf-97b5-996f6b5445f8\", \"x\": [1585.0, 1585.0, 1595.0, 1595.0], \"xaxis\": \"x\", \"y\": [0.0, 0.0, 0.0, 0.0], \"yaxis\": \"y\"}, {\"hoverinfo\": \"text\", \"marker\": {\"color\": \"rgb(255,65,54)\"}, \"mode\": \"lines\", \"text\": [\"cluster: 23, component: Chinese Spring 1_001829_6404_m/z320.2946_RT8.8274\", \"cluster: 23, component: Chinese Spring 1_001829_6404_m/z320.2946_RT8.8274\", null, null], \"type\": \"scatter\", \"uid\": \"d9796708-e7d4-4af5-97c9-39a1a1aa8cb5\", \"x\": [1575.0, 1575.0, 1590.0, 1590.0], \"xaxis\": \"x\", \"y\": [0.0, 0.2857142857142857, 0.2857142857142857, 0.0], \"yaxis\": \"y\"}, {\"hoverinfo\": \"text\", \"marker\": {\"color\": \"rgb(255,65,54)\"}, \"mode\": \"lines\", \"text\": [\"cluster: 23, component: Chinese Spring 1_001829_6510_m/z320.2948_RT9.0458\", \"cluster: 23, component: Chinese Spring 1_001829_6510_m/z320.2948_RT9.0458\", null, null], \"type\": \"scatter\", \"uid\": \"29883621-2c96-410c-bbb1-36463b09e45b\", \"x\": [1565.0, 1565.0, 1582.5, 1582.5], \"xaxis\": \"x\", \"y\": [0.0, 0.4117647058823529, 0.4117647058823529, 0.2857142857142857], \"yaxis\": \"y\"}, {\"hoverinfo\": \"text\", \"marker\": {\"color\": \"rgb(255,65,54)\"}, \"mode\": \"lines\", \"text\": [\"cluster: 23, component: Chinese Spring 1_001829_7255_m/z320.2946_RT10.6470\", \"cluster: 23, component: Chinese Spring 1_001829_7255_m/z320.2946_RT10.6470\", null, null], \"type\": \"scatter\", \"uid\": \"f480b6e3-cdcb-40ad-879c-689a2c4abccd\", \"x\": [1555.0, 1555.0, 1573.75, 1573.75], \"xaxis\": \"x\", \"y\": [0.0, 0.6470588235294118, 0.6470588235294118, 0.4117647058823529], \"yaxis\": \"y\"}, {\"hoverinfo\": \"text\", \"marker\": {\"color\": \"rgb(0,116,217)\"}, \"mode\": \"lines\", \"text\": [\"cluster: 24, component: Chinese Spring 1_001829_6552_m/z320.2946_RT9.1394\", \"cluster: 24, component: Chinese Spring 1_001829_6552_m/z320.2946_RT9.1394\", null, null], \"type\": \"scatter\", \"uid\": \"fcb2c391-b561-4250-a42d-18c87de5e487\", \"x\": [1545.0, 1545.0, 1564.375, 1564.375], \"xaxis\": \"x\", \"y\": [0.0, 0.8857142857142857, 0.8857142857142857, 0.6470588235294118], \"yaxis\": \"y\"}, {\"hoverinfo\": \"text\", \"marker\": {\"color\": \"rgb(0,116,217)\"}, \"mode\": \"lines\", \"text\": [null, null, null, null], \"type\": \"scatter\", \"uid\": \"1464cd95-5d54-4179-95f0-a9365a70f7ee\", \"x\": [1530.0, 1530.0, 1554.6875, 1554.6875], \"xaxis\": \"x\", \"y\": [0.5555555555555556, 0.9090909090909091, 0.9090909090909091, 0.8857142857142857], \"yaxis\": \"y\"}, {\"hoverinfo\": \"text\", \"marker\": {\"color\": \"rgb(35,205,205)\"}, \"mode\": \"lines\", \"text\": [\"cluster: 25, component: Chinese Spring 1_001829_0724_m/z241.1544_RT0.7890\", \"cluster: 25, component: Chinese Spring 1_001829_0724_m/z241.1544_RT0.7890\", \"cluster: 25, component: Chinese Spring 1_001829_0785_m/z241.1544_RT0.8781\", \"cluster: 25, component: Chinese Spring 1_001829_0785_m/z241.1544_RT0.8781\"], \"type\": \"scatter\", \"uid\": \"1798844b-d458-4e8d-ae05-8b3aafca7e97\", \"x\": [1605.0, 1605.0, 1615.0, 1615.0], \"xaxis\": \"x\", \"y\": [0.0, 0.4666666666666667, 0.4666666666666667, 0.0], \"yaxis\": \"y\"}, {\"hoverinfo\": \"text\", \"marker\": {\"color\": \"rgb(133,20,75)\"}, \"mode\": \"lines\", \"text\": [\"cluster: 26, component: Chinese Spring 1_001829_6093_m/z332.2583_RT8.1097\", \"cluster: 26, component: Chinese Spring 1_001829_6093_m/z332.2583_RT8.1097\", \"cluster: 26, component: Chinese Spring 1_001829_6127_m/z332.2584_RT8.1989\", \"cluster: 26, component: Chinese Spring 1_001829_6127_m/z332.2584_RT8.1989\"], \"type\": \"scatter\", \"uid\": \"88c200ae-6774-4146-8166-83318a9a8f0d\", \"x\": [1645.0, 1645.0, 1655.0, 1655.0], \"xaxis\": \"x\", \"y\": [0.0, 0.0, 0.0, 0.0], \"yaxis\": \"y\"}, {\"hoverinfo\": \"text\", \"marker\": {\"color\": \"rgb(133,20,75)\"}, \"mode\": \"lines\", \"text\": [\"cluster: 26, component: Chinese Spring 1_001829_6229_m/z332.2583_RT8.4886\", \"cluster: 26, component: Chinese Spring 1_001829_6229_m/z332.2583_RT8.4886\", null, null], \"type\": \"scatter\", \"uid\": \"73b5b9de-79be-4812-8582-aa5332cf5c48\", \"x\": [1635.0, 1635.0, 1650.0, 1650.0], \"xaxis\": \"x\", \"y\": [0.0, 0.5185185185185185, 0.5185185185185185, 0.0], \"yaxis\": \"y\"}, {\"hoverinfo\": \"text\", \"marker\": {\"color\": \"rgb(133,20,75)\"}, \"mode\": \"lines\", \"text\": [\"cluster: 26, component: Chinese Spring 1_001829_5942_m/z332.2584_RT7.8067\", \"cluster: 26, component: Chinese Spring 1_001829_5942_m/z332.2584_RT7.8067\", null, null], \"type\": \"scatter\", \"uid\": \"e3734254-5405-45e6-80c3-4630a2281bf1\", \"x\": [1625.0, 1625.0, 1642.5, 1642.5], \"xaxis\": \"x\", \"y\": [0.0, 0.6666666666666666, 0.6666666666666666, 0.5185185185185185], \"yaxis\": \"y\"}, {\"hoverinfo\": \"text\", \"marker\": {\"color\": \"rgb(0,116,217)\"}, \"mode\": \"lines\", \"text\": [null, null, null, null], \"type\": \"scatter\", \"uid\": \"00ea0f3f-5345-4ddb-af0b-81647068ca46\", \"x\": [1610.0, 1610.0, 1633.75, 1633.75], \"xaxis\": \"x\", \"y\": [0.4666666666666667, 0.9354838709677419, 0.9354838709677419, 0.6666666666666666], \"yaxis\": \"y\"}, {\"hoverinfo\": \"text\", \"marker\": {\"color\": \"rgb(0,116,217)\"}, \"mode\": \"lines\", \"text\": [null, null, null, null], \"type\": \"scatter\", \"uid\": \"bcc3906a-8aa5-4587-aa77-59002334f1a2\", \"x\": [1542.34375, 1542.34375, 1621.875, 1621.875], \"xaxis\": \"x\", \"y\": [0.9090909090909091, 0.9555555555555556, 0.9555555555555556, 0.9354838709677419], \"yaxis\": \"y\"}, {\"hoverinfo\": \"text\", \"marker\": {\"color\": \"rgb(255,220,0)\"}, \"mode\": \"lines\", \"text\": [\"cluster: 27, component: Chinese Spring 1_001829_1633_m/z246.1446_RT2.2783\", \"cluster: 27, component: Chinese Spring 1_001829_1633_m/z246.1446_RT2.2783\", \"cluster: 27, component: Chinese Spring 1_001829_1708_m/z247.1286_RT2.6482\", \"cluster: 27, component: Chinese Spring 1_001829_1708_m/z247.1286_RT2.6482\"], \"type\": \"scatter\", \"uid\": \"ef2408a1-3e04-4702-ae67-49adfbab36d0\", \"x\": [1685.0, 1685.0, 1695.0, 1695.0], \"xaxis\": \"x\", \"y\": [0.0, 0.3333333333333333, 0.3333333333333333, 0.0], \"yaxis\": \"y\"}, {\"hoverinfo\": \"text\", \"marker\": {\"color\": \"rgb(40,35,35)\"}, \"mode\": \"lines\", \"text\": [\"cluster: 28, component: Chinese Spring 1_001829_1642_m/z260.1602_RT2.3719\", \"cluster: 28, component: Chinese Spring 1_001829_1642_m/z260.1602_RT2.3719\", \"cluster: 28, component: Chinese Spring 2_001850_1603_m/z260.1603_RT2.4945\", \"cluster: 28, component: Chinese Spring 2_001850_1603_m/z260.1603_RT2.4945\"], \"type\": \"scatter\", \"uid\": \"95c8f23f-a61f-4576-b301-8e6c5d824bb8\", \"x\": [1705.0, 1705.0, 1715.0, 1715.0], \"xaxis\": \"x\", \"y\": [0.0, 0.16666666666666666, 0.16666666666666666, 0.0], \"yaxis\": \"y\"}, {\"hoverinfo\": \"text\", \"marker\": {\"color\": \"rgb(40,35,35)\"}, \"mode\": \"lines\", \"text\": [\"cluster: 28, component: Chinese Spring 1_001829_1564_m/z233.1494_RT2.1044\", \"cluster: 28, component: Chinese Spring 1_001829_1564_m/z233.1494_RT2.1044\", \"cluster: 28, component: Chinese Spring 5_001887_1443_m/z233.1494_RT2.2226\", \"cluster: 28, component: Chinese Spring 5_001887_1443_m/z233.1494_RT2.2226\"], \"type\": \"scatter\", \"uid\": \"85426fa6-19bd-4b07-8da8-033887c913d4\", \"x\": [1735.0, 1735.0, 1745.0, 1745.0], \"xaxis\": \"x\", \"y\": [0.0, 0.15151515151515152, 0.15151515151515152, 0.0], \"yaxis\": \"y\"}, {\"hoverinfo\": \"text\", \"marker\": {\"color\": \"rgb(40,35,35)\"}, \"mode\": \"lines\", \"text\": [\"cluster: 28, component: Chinese Spring 1_001829_1656_m/z233.1494_RT2.5234\", \"cluster: 28, component: Chinese Spring 1_001829_1656_m/z233.1494_RT2.5234\", null, null], \"type\": \"scatter\", \"uid\": \"7848573e-d7cc-4cb8-abb2-b1666abdad7e\", \"x\": [1725.0, 1725.0, 1740.0, 1740.0], \"xaxis\": \"x\", \"y\": [0.0, 0.37142857142857144, 0.37142857142857144, 0.15151515151515152], \"yaxis\": \"y\"}, {\"hoverinfo\": \"text\", \"marker\": {\"color\": \"rgb(40,35,35)\"}, \"mode\": \"lines\", \"text\": [null, null, null, null], \"type\": \"scatter\", \"uid\": \"b5ae6a3f-26c7-4e55-a9b5-f885fa8b902d\", \"x\": [1710.0, 1710.0, 1732.5, 1732.5], \"xaxis\": \"x\", \"y\": [0.16666666666666666, 0.7619047619047619, 0.7619047619047619, 0.37142857142857144], \"yaxis\": \"y\"}, {\"hoverinfo\": \"text\", \"marker\": {\"color\": \"rgb(0,116,217)\"}, \"mode\": \"lines\", \"text\": [null, null, null, null], \"type\": \"scatter\", \"uid\": \"d22a058a-e625-4a5d-a17b-262bdd710401\", \"x\": [1690.0, 1690.0, 1721.25, 1721.25], \"xaxis\": \"x\", \"y\": [0.3333333333333333, 0.9183673469387755, 0.9183673469387755, 0.7619047619047619], \"yaxis\": \"y\"}, {\"hoverinfo\": \"text\", \"marker\": {\"color\": \"rgb(0,116,217)\"}, \"mode\": \"lines\", \"text\": [\"cluster: 29, component: Chinese Spring 1_001829_3318_m/z132.0444_RT4.7743\", \"cluster: 29, component: Chinese Spring 1_001829_3318_m/z132.0444_RT4.7743\", null, null], \"type\": \"scatter\", \"uid\": \"6385bf32-312c-46a6-b7b7-b544e8ef4d82\", \"x\": [1675.0, 1675.0, 1705.625, 1705.625], \"xaxis\": \"x\", \"y\": [0.0, 0.9607843137254902, 0.9607843137254902, 0.9183673469387755], \"yaxis\": \"y\"}, {\"hoverinfo\": \"text\", \"marker\": {\"color\": \"rgb(0,116,217)\"}, \"mode\": \"lines\", \"text\": [\"cluster: 30, component: Chinese Spring 1_001829_0877_m/z260.1603_RT0.9851\", \"cluster: 30, component: Chinese Spring 1_001829_0877_m/z260.1603_RT0.9851\", null, null], \"type\": \"scatter\", \"uid\": \"08266799-81db-4b6a-b359-f48bcfbe9b84\", \"x\": [1665.0, 1665.0, 1690.3125, 1690.3125], \"xaxis\": \"x\", \"y\": [0.0, 0.9696969696969697, 0.9696969696969697, 0.9607843137254902], \"yaxis\": \"y\"}, {\"hoverinfo\": \"text\", \"marker\": {\"color\": \"rgb(61,153,112)\"}, \"mode\": \"lines\", \"text\": [\"cluster: 31, component: Chinese Spring 1_001829_1393_m/z221.1284_RT1.6494\", \"cluster: 31, component: Chinese Spring 1_001829_1393_m/z221.1284_RT1.6494\", \"cluster: 31, component: Chinese Spring 2_001850_1669_m/z237.1232_RT2.8467\", \"cluster: 31, component: Chinese Spring 2_001850_1669_m/z237.1232_RT2.8467\"], \"type\": \"scatter\", \"uid\": \"107df967-012c-4af2-afb9-d40333f3a183\", \"x\": [1755.0, 1755.0, 1765.0, 1765.0], \"xaxis\": \"x\", \"y\": [0.0, 0.5555555555555556, 0.5555555555555556, 0.0], \"yaxis\": \"y\"}, {\"hoverinfo\": \"text\", \"marker\": {\"color\": \"rgb(0,116,217)\"}, \"mode\": \"lines\", \"text\": [\"cluster: 32, component: Chinese Spring 1_001829_0821_m/z237.1231_RT0.9093\", \"cluster: 32, component: Chinese Spring 1_001829_0821_m/z237.1231_RT0.9093\", \"cluster: 33, component: Chinese Spring 1_001829_2218_m/z237.1231_RT3.6645\", \"cluster: 33, component: Chinese Spring 1_001829_2218_m/z237.1231_RT3.6645\"], \"type\": \"scatter\", \"uid\": \"0c3ccde3-728b-46a8-820f-e0b56d0e428d\", \"x\": [1775.0, 1775.0, 1785.0, 1785.0], \"xaxis\": \"x\", \"y\": [0.0, 0.8947368421052632, 0.8947368421052632, 0.0], \"yaxis\": \"y\"}, {\"hoverinfo\": \"text\", \"marker\": {\"color\": \"rgb(0,116,217)\"}, \"mode\": \"lines\", \"text\": [null, null, null, null], \"type\": \"scatter\", \"uid\": \"5805f837-e3d2-47c0-8b8e-c5d7370dc206\", \"x\": [1760.0, 1760.0, 1780.0, 1780.0], \"xaxis\": \"x\", \"y\": [0.5555555555555556, 0.9534883720930233, 0.9534883720930233, 0.8947368421052632], \"yaxis\": \"y\"}, {\"hoverinfo\": \"text\", \"marker\": {\"color\": \"rgb(255,65,54)\"}, \"mode\": \"lines\", \"text\": [\"cluster: 34, component: Chinese Spring 1_001829_3925_m/z222.0703_RT5.2470\", \"cluster: 34, component: Chinese Spring 1_001829_3925_m/z222.0703_RT5.2470\", \"cluster: 34, component: Chinese Spring 1_001829_6287_m/z250.1014_RT8.6045\", \"cluster: 34, component: Chinese Spring 1_001829_6287_m/z250.1014_RT8.6045\"], \"type\": \"scatter\", \"uid\": \"275c9de9-8c32-493c-9ebc-88da6ca439ec\", \"x\": [1825.0, 1825.0, 1835.0, 1835.0], \"xaxis\": \"x\", \"y\": [0.0, 0.34065934065934067, 0.34065934065934067, 0.0], \"yaxis\": \"y\"}, {\"hoverinfo\": \"text\", \"marker\": {\"color\": \"rgb(255,65,54)\"}, \"mode\": \"lines\", \"text\": [\"cluster: 34, component: Chinese Spring 1_001829_5742_m/z268.5936_RT7.4233\", \"cluster: 34, component: Chinese Spring 1_001829_5742_m/z268.5936_RT7.4233\", null, null], \"type\": \"scatter\", \"uid\": \"fbc7ad4b-03d4-4d65-a872-f83c019a527f\", \"x\": [1815.0, 1815.0, 1830.0, 1830.0], \"xaxis\": \"x\", \"y\": [0.0, 0.5294117647058824, 0.5294117647058824, 0.34065934065934067], \"yaxis\": \"y\"}, {\"hoverinfo\": \"text\", \"marker\": {\"color\": \"rgb(35,205,205)\"}, \"mode\": \"lines\", \"text\": [\"cluster: 35, component: Chinese Spring 1_001829_2484_m/z247.0598_RT4.0255\", \"cluster: 35, component: Chinese Spring 1_001829_2484_m/z247.0598_RT4.0255\", \"cluster: 35, component: Chinese Spring 1_001829_2604_m/z247.0598_RT4.1147\", \"cluster: 35, component: Chinese Spring 1_001829_2604_m/z247.0598_RT4.1147\"], \"type\": \"scatter\", \"uid\": \"eca1426b-84e9-4c3b-9dd4-013ce46c8db9\", \"x\": [1845.0, 1845.0, 1855.0, 1855.0], \"xaxis\": \"x\", \"y\": [0.0, 0.21428571428571427, 0.21428571428571427, 0.0], \"yaxis\": \"y\"}, {\"hoverinfo\": \"text\", \"marker\": {\"color\": \"rgb(35,205,205)\"}, \"mode\": \"lines\", \"text\": [\"cluster: 35, component: Chinese Spring 1_001829_1873_m/z212.0390_RT3.0271\", \"cluster: 35, component: Chinese Spring 1_001829_1873_m/z212.0390_RT3.0271\", \"cluster: 35, component: Chinese Spring 1_001829_5506_m/z214.5649_RT6.8301\", \"cluster: 35, component: Chinese Spring 1_001829_5506_m/z214.5649_RT6.8301\"], \"type\": \"scatter\", \"uid\": \"23734cc5-4efb-4f75-b4c4-fc3dc9b46a64\", \"x\": [1875.0, 1875.0, 1885.0, 1885.0], \"xaxis\": \"x\", \"y\": [0.0, 0.6363636363636364, 0.6363636363636364, 0.0], \"yaxis\": \"y\"}, {\"hoverinfo\": \"text\", \"marker\": {\"color\": \"rgb(35,205,205)\"}, \"mode\": \"lines\", \"text\": [\"cluster: 35, component: Chinese Spring 1_001829_3431_m/z219.0467_RT4.8501\", \"cluster: 35, component: Chinese Spring 1_001829_3431_m/z219.0467_RT4.8501\", null, null], \"type\": \"scatter\", \"uid\": \"2df5c3fb-3349-4a6e-a2ab-97bd09870caa\", \"x\": [1865.0, 1865.0, 1880.0, 1880.0], \"xaxis\": \"x\", \"y\": [0.0, 0.6842105263157895, 0.6842105263157895, 0.6363636363636364], \"yaxis\": \"y\"}, {\"hoverinfo\": \"text\", \"marker\": {\"color\": \"rgb(35,205,205)\"}, \"mode\": \"lines\", \"text\": [null, null, null, null], \"type\": \"scatter\", \"uid\": \"11a84c32-9741-4f03-9e77-e0a5b27e8d04\", \"x\": [1850.0, 1850.0, 1872.5, 1872.5], \"xaxis\": \"x\", \"y\": [0.21428571428571427, 0.75, 0.75, 0.6842105263157895], \"yaxis\": \"y\"}, {\"hoverinfo\": \"text\", \"marker\": {\"color\": \"rgb(0,116,217)\"}, \"mode\": \"lines\", \"text\": [null, null, null, null], \"type\": \"scatter\", \"uid\": \"a65a8efa-3b9a-439f-93bf-8ea785d919a9\", \"x\": [1822.5, 1822.5, 1861.25, 1861.25], \"xaxis\": \"x\", \"y\": [0.5294117647058824, 0.8481012658227848, 0.8481012658227848, 0.75], \"yaxis\": \"y\"}, {\"hoverinfo\": \"text\", \"marker\": {\"color\": \"rgb(0,116,217)\"}, \"mode\": \"lines\", \"text\": [\"cluster: 36, component: Chinese Spring 1_001829_0924_m/z214.5102_RT1.0029\", \"cluster: 36, component: Chinese Spring 1_001829_0924_m/z214.5102_RT1.0029\", null, null], \"type\": \"scatter\", \"uid\": \"1021fcb4-4f9a-4da6-b16e-44c62e2520e2\", \"x\": [1805.0, 1805.0, 1841.875, 1841.875], \"xaxis\": \"x\", \"y\": [0.0, 0.9111111111111111, 0.9111111111111111, 0.8481012658227848], \"yaxis\": \"y\"}, {\"hoverinfo\": \"text\", \"marker\": {\"color\": \"rgb(133,20,75)\"}, \"mode\": \"lines\", \"text\": [\"cluster: 37, component: Chinese Spring 1_001829_4649_m/z625.1763_RT5.7730\", \"cluster: 37, component: Chinese Spring 1_001829_4649_m/z625.1763_RT5.7730\", \"cluster: 37, component: Chinese Spring 1_001829_4877_m/z463.1232_RT5.9646\", \"cluster: 37, component: Chinese Spring 1_001829_4877_m/z463.1232_RT5.9646\"], \"type\": \"scatter\", \"uid\": \"49d39054-295d-441d-a913-60afa618172d\", \"x\": [1905.0, 1905.0, 1915.0, 1915.0], \"xaxis\": \"x\", \"y\": [0.0, 0.5121951219512195, 0.5121951219512195, 0.0], \"yaxis\": \"y\"}, {\"hoverinfo\": \"text\", \"marker\": {\"color\": \"rgb(0,116,217)\"}, \"mode\": \"lines\", \"text\": [\"cluster: 38, component: Chinese Spring 1_001829_3870_m/z595.1657_RT5.1846\", \"cluster: 38, component: Chinese Spring 1_001829_3870_m/z595.1657_RT5.1846\", null, null], \"type\": \"scatter\", \"uid\": \"69a58e4c-5977-4c7e-ab6f-c16e1755d91f\", \"x\": [1895.0, 1895.0, 1910.0, 1910.0], \"xaxis\": \"x\", \"y\": [0.0, 0.8095238095238095, 0.8095238095238095, 0.5121951219512195], \"yaxis\": \"y\"}, {\"hoverinfo\": \"text\", \"marker\": {\"color\": \"rgb(255,220,0)\"}, \"mode\": \"lines\", \"text\": [\"cluster: 39, component: Chinese Spring 1_001829_0770_m/z182.0811_RT0.8558\", \"cluster: 39, component: Chinese Spring 1_001829_0770_m/z182.0811_RT0.8558\", \"cluster: 39, component: Chinese Spring 1_001829_0839_m/z182.0811_RT0.9405\", \"cluster: 39, component: Chinese Spring 1_001829_0839_m/z182.0811_RT0.9405\"], \"type\": \"scatter\", \"uid\": \"adced141-1831-47da-9c65-812af0035b17\", \"x\": [1925.0, 1925.0, 1935.0, 1935.0], \"xaxis\": \"x\", \"y\": [0.0, 0.28, 0.28, 0.0], \"yaxis\": \"y\"}, {\"hoverinfo\": \"text\", \"marker\": {\"color\": \"rgb(40,35,35)\"}, \"mode\": \"lines\", \"text\": [\"cluster: 40, component: Chinese Spring 1_001829_3666_m/z212.0552_RT5.0017\", \"cluster: 40, component: Chinese Spring 1_001829_3666_m/z212.0552_RT5.0017\", \"cluster: 40, component: Chinese Spring 1_001829_4302_m/z194.0447_RT5.4788\", \"cluster: 40, component: Chinese Spring 1_001829_4302_m/z194.0447_RT5.4788\"], \"type\": \"scatter\", \"uid\": \"dcd0927b-1a20-4e32-a1f0-58c0b70c9fcf\", \"x\": [1945.0, 1945.0, 1955.0, 1955.0], \"xaxis\": \"x\", \"y\": [0.0, 0.3670886075949367, 0.3670886075949367, 0.0], \"yaxis\": \"y\"}, {\"hoverinfo\": \"text\", \"marker\": {\"color\": \"rgb(0,116,217)\"}, \"mode\": \"lines\", \"text\": [null, null, null, null], \"type\": \"scatter\", \"uid\": \"1df0eb35-6c48-426f-b06b-fd69d5c6a1f4\", \"x\": [1930.0, 1930.0, 1950.0, 1950.0], \"xaxis\": \"x\", \"y\": [0.28, 0.855072463768116, 0.855072463768116, 0.3670886075949367], \"yaxis\": \"y\"}, {\"hoverinfo\": \"text\", \"marker\": {\"color\": \"rgb(61,153,112)\"}, \"mode\": \"lines\", \"text\": [\"cluster: 41, component: Chinese Spring 1_001829_2440_m/z333.1520_RT3.9631\", \"cluster: 41, component: Chinese Spring 1_001829_2440_m/z333.1520_RT3.9631\", \"cluster: 41, component: Chinese Spring 1_001829_2563_m/z333.1519_RT4.0835\", \"cluster: 41, component: Chinese Spring 1_001829_2563_m/z333.1519_RT4.0835\"], \"type\": \"scatter\", \"uid\": \"5bf40b60-23c5-427e-a7ff-53f32198cfb8\", \"x\": [1965.0, 1965.0, 1975.0, 1975.0], \"xaxis\": \"x\", \"y\": [0.0, 0.7333333333333333, 0.7333333333333333, 0.0], \"yaxis\": \"y\"}, {\"hoverinfo\": \"text\", \"marker\": {\"color\": \"rgb(255,65,54)\"}, \"mode\": \"lines\", \"text\": [\"cluster: 42, component: Chinese Spring 1_001829_1519_m/z319.1363_RT1.9258\", \"cluster: 42, component: Chinese Spring 1_001829_1519_m/z319.1363_RT1.9258\", \"cluster: 42, component: Chinese Spring 1_001829_1645_m/z319.1363_RT2.3986\", \"cluster: 42, component: Chinese Spring 1_001829_1645_m/z319.1363_RT2.3986\"], \"type\": \"scatter\", \"uid\": \"99bc3e8a-a225-421d-9c32-08501f626f37\", \"x\": [1985.0, 1985.0, 1995.0, 1995.0], \"xaxis\": \"x\", \"y\": [0.0, 0.6, 0.6, 0.0], \"yaxis\": \"y\"}, {\"hoverinfo\": \"text\", \"marker\": {\"color\": \"rgb(35,205,205)\"}, \"mode\": \"lines\", \"text\": [\"cluster: 43, component: Chinese Spring 1_001829_1084_m/z229.1545_RT1.0920\", \"cluster: 43, component: Chinese Spring 1_001829_1084_m/z229.1545_RT1.0920\", \"cluster: 43, component: Chinese Spring 1_001829_1122_m/z229.1545_RT1.1143\", \"cluster: 43, component: Chinese Spring 1_001829_1122_m/z229.1545_RT1.1143\"], \"type\": \"scatter\", \"uid\": \"44c3ce89-2c52-45d9-bd69-dcca83bf77b3\", \"x\": [2035.0, 2035.0, 2045.0, 2045.0], \"xaxis\": \"x\", \"y\": [0.0, 0.0, 0.0, 0.0], \"yaxis\": \"y\"}, {\"hoverinfo\": \"text\", \"marker\": {\"color\": \"rgb(35,205,205)\"}, \"mode\": \"lines\", \"text\": [\"cluster: 43, component: Chinese Spring 1_001829_0683_m/z229.1545_RT0.7845\", \"cluster: 43, component: Chinese Spring 1_001829_0683_m/z229.1545_RT0.7845\", null, null], \"type\": \"scatter\", \"uid\": \"0b34281a-a22e-4348-be2a-d304c0f33074\", \"x\": [2025.0, 2025.0, 2040.0, 2040.0], \"xaxis\": \"x\", \"y\": [0.0, 0.23809523809523808, 0.23809523809523808, 0.0], \"yaxis\": \"y\"}, {\"hoverinfo\": \"text\", \"marker\": {\"color\": \"rgb(35,205,205)\"}, \"mode\": \"lines\", \"text\": [\"cluster: 43, component: Chinese Spring 1_001829_0764_m/z229.1545_RT0.8469\", \"cluster: 43, component: Chinese Spring 1_001829_0764_m/z229.1545_RT0.8469\", null, null], \"type\": \"scatter\", \"uid\": \"e2d0ad6d-cff6-44a8-9a30-f0dfbdc5a5d8\", \"x\": [2015.0, 2015.0, 2032.5, 2032.5], \"xaxis\": \"x\", \"y\": [0.0, 0.7777777777777778, 0.7777777777777778, 0.23809523809523808], \"yaxis\": \"y\"}, {\"hoverinfo\": \"text\", \"marker\": {\"color\": \"rgb(0,116,217)\"}, \"mode\": \"lines\", \"text\": [\"cluster: 44, component: Chinese Spring 1_001829_0094_m/z265.0154_RT0.5705\", \"cluster: 44, component: Chinese Spring 1_001829_0094_m/z265.0154_RT0.5705\", null, null], \"type\": \"scatter\", \"uid\": \"a057ff48-b774-4f96-bbc7-798055f8685a\", \"x\": [2005.0, 2005.0, 2023.75, 2023.75], \"xaxis\": \"x\", \"y\": [0.0, 1.0, 1.0, 0.7777777777777778], \"yaxis\": \"y\"}, {\"hoverinfo\": \"text\", \"marker\": {\"color\": \"rgb(0,116,217)\"}, \"mode\": \"lines\", \"text\": [null, null, null, null], \"type\": \"scatter\", \"uid\": \"a4499016-2851-4c75-9dc3-96ffd2bd43a4\", \"x\": [1990.0, 1990.0, 2014.375, 2014.375], \"xaxis\": \"x\", \"y\": [0.6, 1.0, 1.0, 1.0], \"yaxis\": \"y\"}, {\"hoverinfo\": \"text\", \"marker\": {\"color\": \"rgb(0,116,217)\"}, \"mode\": \"lines\", \"text\": [null, null, null, null], \"type\": \"scatter\", \"uid\": \"bd197581-90eb-428f-b2ad-4ba9f3f96a7d\", \"x\": [1970.0, 1970.0, 2002.1875, 2002.1875], \"xaxis\": \"x\", \"y\": [0.7333333333333333, 1.0, 1.0, 1.0], \"yaxis\": \"y\"}, {\"hoverinfo\": \"text\", \"marker\": {\"color\": \"rgb(0,116,217)\"}, \"mode\": \"lines\", \"text\": [null, null, null, null], \"type\": \"scatter\", \"uid\": \"781795ba-8443-4e95-b676-5fa8b12b7965\", \"x\": [1940.0, 1940.0, 1986.09375, 1986.09375], \"xaxis\": \"x\", \"y\": [0.855072463768116, 1.0, 1.0, 1.0], \"yaxis\": \"y\"}, {\"hoverinfo\": \"text\", \"marker\": {\"color\": \"rgb(0,116,217)\"}, \"mode\": \"lines\", \"text\": [null, null, null, null], \"type\": \"scatter\", \"uid\": \"24671b91-e2e1-43e9-a018-4177eaef848b\", \"x\": [1902.5, 1902.5, 1963.046875, 1963.046875], \"xaxis\": \"x\", \"y\": [0.8095238095238095, 1.0, 1.0, 1.0], \"yaxis\": \"y\"}, {\"hoverinfo\": \"text\", \"marker\": {\"color\": \"rgb(0,116,217)\"}, \"mode\": \"lines\", \"text\": [null, null, null, null], \"type\": \"scatter\", \"uid\": \"a61d14e7-2670-4b34-a297-539922cedf84\", \"x\": [1823.4375, 1823.4375, 1932.7734375, 1932.7734375], \"xaxis\": \"x\", \"y\": [0.9111111111111111, 1.0, 1.0, 1.0], \"yaxis\": \"y\"}, {\"hoverinfo\": \"text\", \"marker\": {\"color\": \"rgb(0,116,217)\"}, \"mode\": \"lines\", \"text\": [\"cluster: 45, component: Chinese Spring 1_001829_8795_m/z797.5175_RT14.4412\", \"cluster: 45, component: Chinese Spring 1_001829_8795_m/z797.5175_RT14.4412\", null, null], \"type\": \"scatter\", \"uid\": \"3332a5a3-a9d4-42e9-890c-ec3908dd3df8\", \"x\": [1795.0, 1795.0, 1878.10546875, 1878.10546875], \"xaxis\": \"x\", \"y\": [0.0, 1.0, 1.0, 1.0], \"yaxis\": \"y\"}, {\"hoverinfo\": \"text\", \"marker\": {\"color\": \"rgb(0,116,217)\"}, \"mode\": \"lines\", \"text\": [null, null, null, null], \"type\": \"scatter\", \"uid\": \"7d614f4a-e00a-4a34-8b7c-dd3f10d46b71\", \"x\": [1770.0, 1770.0, 1836.552734375, 1836.552734375], \"xaxis\": \"x\", \"y\": [0.9534883720930233, 1.0, 1.0, 1.0], \"yaxis\": \"y\"}, {\"hoverinfo\": \"text\", \"marker\": {\"color\": \"rgb(0,116,217)\"}, \"mode\": \"lines\", \"text\": [null, null, null, null], \"type\": \"scatter\", \"uid\": \"59ac36bc-a362-4650-b5ba-d3255dcde8c3\", \"x\": [1677.65625, 1677.65625, 1803.2763671875, 1803.2763671875], \"xaxis\": \"x\", \"y\": [0.9696969696969697, 1.0, 1.0, 1.0], \"yaxis\": \"y\"}, {\"hoverinfo\": \"text\", \"marker\": {\"color\": \"rgb(0,116,217)\"}, \"mode\": \"lines\", \"text\": [null, null, null, null], \"type\": \"scatter\", \"uid\": \"b2b3a168-82c9-406d-8a5d-df4ce630fbc7\", \"x\": [1582.109375, 1582.109375, 1740.46630859375, 1740.46630859375], \"xaxis\": \"x\", \"y\": [0.9555555555555556, 1.0, 1.0, 1.0], \"yaxis\": \"y\"}, {\"hoverinfo\": \"text\", \"marker\": {\"color\": \"rgb(0,116,217)\"}, \"mode\": \"lines\", \"text\": [null, null, null, null], \"type\": \"scatter\", \"uid\": \"bde6cbcb-5e6b-4a24-b527-108208243dce\", \"x\": [1451.875, 1451.875, 1661.287841796875, 1661.287841796875], \"xaxis\": \"x\", \"y\": [0.971830985915493, 1.0, 1.0, 1.0], \"yaxis\": \"y\"}, {\"hoverinfo\": \"text\", \"marker\": {\"color\": \"rgb(0,116,217)\"}, \"mode\": \"lines\", \"text\": [null, null, null, null], \"type\": \"scatter\", \"uid\": \"1644b379-1bc8-4f9e-98e7-4c48d8bc06cc\", \"x\": [1307.8125, 1307.8125, 1556.5814208984375, 1556.5814208984375], \"xaxis\": \"x\", \"y\": [0.978494623655914, 1.0, 1.0, 1.0], \"yaxis\": \"y\"}, {\"hoverinfo\": \"text\", \"marker\": {\"color\": \"rgb(0,116,217)\"}, \"mode\": \"lines\", \"text\": [null, null, null, null], \"type\": \"scatter\", \"uid\": \"b61dc243-ff6e-4ba8-87e2-24d74194ec1e\", \"x\": [1124.912109375, 1124.912109375, 1432.1969604492188, 1432.1969604492188], \"xaxis\": \"x\", \"y\": [0.9411764705882353, 1.0, 1.0, 1.0], \"yaxis\": \"y\"}, {\"hoverinfo\": \"text\", \"marker\": {\"color\": \"rgb(0,116,217)\"}, \"mode\": \"lines\", \"text\": [null, null, null, null], \"type\": \"scatter\", \"uid\": \"b9fdfc71-27f0-4fea-b58f-5e61431789f8\", \"x\": [1005.15625, 1005.15625, 1278.5545349121094, 1278.5545349121094], \"xaxis\": \"x\", \"y\": [0.696969696969697, 1.0, 1.0, 1.0], \"yaxis\": \"y\"}, {\"hoverinfo\": \"text\", \"marker\": {\"color\": \"rgb(0,116,217)\"}, \"mode\": \"lines\", \"text\": [\"cluster: 46, component: blk_001809_0035_m/z141.0508_RT0.5557\", \"cluster: 46, component: blk_001809_0035_m/z141.0508_RT0.5557\", null, null], \"type\": \"scatter\", \"uid\": \"d81fed51-59b4-4d2a-9a07-ceb27852c11e\", \"x\": [965.0, 965.0, 1141.8553924560547, 1141.8553924560547], \"xaxis\": \"x\", \"y\": [0.0, 1.0, 1.0, 1.0], \"yaxis\": \"y\"}, {\"hoverinfo\": \"text\", \"marker\": {\"color\": \"rgb(0,116,217)\"}, \"mode\": \"lines\", \"text\": [null, null, null, null], \"type\": \"scatter\", \"uid\": \"5cacc431-3bf5-4bbe-ad3d-dac34316d4e7\", \"x\": [720.869140625, 720.869140625, 1053.4276962280273, 1053.4276962280273], \"xaxis\": \"x\", \"y\": [0.9767441860465116, 1.0, 1.0, 1.0], \"yaxis\": \"y\"}, {\"hoverinfo\": \"text\", \"marker\": {\"color\": \"rgb(0,116,217)\"}, \"mode\": \"lines\", \"text\": [null, null, null, null], \"type\": \"scatter\", \"uid\": \"94f01089-1c15-4ea9-ab46-b88402544d06\", \"x\": [484.0625, 484.0625, 887.1484184265137, 887.1484184265137], \"xaxis\": \"x\", \"y\": [0.9636363636363636, 1.0, 1.0, 1.0], \"yaxis\": \"y\"}, {\"hoverinfo\": \"text\", \"marker\": {\"color\": \"rgb(0,116,217)\"}, \"mode\": \"lines\", \"text\": [null, null, null, null], \"type\": \"scatter\", \"uid\": \"74729b6e-f62c-46f1-b88b-4eae0aca0494\", \"x\": [221.85302734375, 221.85302734375, 685.6054592132568, 685.6054592132568], \"xaxis\": \"x\", \"y\": [0.927710843373494, 1.0, 1.0, 1.0], \"yaxis\": \"y\"}],\n",
       "                        {\"autosize\": false, \"height\": 800, \"hovermode\": \"closest\", \"margin\": {\"b\": 612}, \"showlegend\": false, \"title\": {\"text\": \"Component clusters. method = braycurtis, cutoff = 0.8, threshold = 0.0008\"}, \"width\": 900, \"xaxis\": {\"mirror\": \"allticks\", \"rangemode\": \"tozero\", \"showgrid\": false, \"showline\": true, \"showticklabels\": true, \"tickmode\": \"array\", \"ticks\": \"outside\", \"ticktext\": [\"Chinese Spring 1_001829_8203_m/z613.4826_RT12.2884\", \"Chinese Spring 1_001829_7933_m/z792.5621_RT11.9987\", \"Chinese Spring 1_001829_8737_m/z613.4826_RT13.9777\", \"Chinese Spring 1_001829_6867_m/z596.3096_RT9.9999\", \"Chinese Spring 5_001887_7848_m/z792.5621_RT14.4273\", \"blk_001809_2310_m/z571.4292_RT14.5025\", \"Chinese Spring 1_001829_7309_m/z497.3107_RT10.7050\", \"Chinese Spring 1_001829_6971_m/z507.2717_RT10.1162\", \"Cobra 1_001832_7415_m/z571.4716_RT11.9269\", \"Chinese Spring 1_001829_8002_m/z335.2578_RT12.0967\", \"Chinese Spring 1_001829_6962_m/z335.2578_RT10.1118\", \"Chinese Spring 1_001829_7924_m/z335.2579_RT11.9987\", \"Chinese Spring 1_001829_7102_m/z335.2578_RT10.4732\", \"Chinese Spring 1_001829_7304_m/z335.2577_RT10.7050\", \"Chinese Spring 1_001829_6770_m/z335.2578_RT9.7767\", \"Chinese Spring 1_001829_7176_m/z261.2209_RT10.5802\", \"Chinese Spring 1_001829_6995_m/z353.2686_RT10.1519\", \"Chinese Spring 1_001829_7306_m/z353.2686_RT10.7050\", \"Chinese Spring 1_001829_7300_m/z261.2209_RT10.7050\", \"Chinese Spring 1_001829_6884_m/z335.2579_RT10.0132\", \"Chinese Spring 1_001829_7178_m/z335.2579_RT10.5802\", \"blk_001809_0873_m/z272.2582_RT9.6975\", \"Cobra 1_001832_8139_m/z338.3414_RT14.1645\", \"blk_001809_2081_m/z244.1905_RT12.7018\", \"Chinese Spring 1_001829_6885_m/z353.2690_RT10.0132\", \"Chinese Spring 1_001829_7180_m/z353.2688_RT10.5802\", \"Chinese Spring 1_001829_7587_m/z278.2475_RT11.3925\", \"Chinese Spring 1_001829_7923_m/z279.2315_RT11.9987\", \"Chinese Spring 1_001829_7499_m/z435.2504_RT11.0802\", \"Chinese Spring 1_001829_7119_m/z337.2734_RT10.5000\", \"Chinese Spring 1_001829_8646_m/z337.2733_RT13.6924\", \"Chinese Spring 1_001829_7690_m/z618.4271_RT11.6644\", \"Chinese Spring 1_001829_8106_m/z583.4143_RT12.1770\", \"Chinese Spring 1_001829_7448_m/z599.4093_RT11.0178\", \"Chinese Spring 1_001829_7776_m/z601.4244_RT11.7714\", \"Chinese Spring 1_001829_8582_m/z599.4089_RT13.2111\", \"Chinese Spring 1_001829_7361_m/z618.4278_RT10.7852\", \"Chinese Spring 1_001829_7576_m/z618.4271_RT11.3791\", \"Chinese Spring 1_001829_8729_m/z568.4263_RT13.9732\", \"Chinese Spring 1_001829_7954_m/z565.4037_RT12.0210\", \"Chinese Spring 1_001829_7574_m/z583.4141_RT11.3791\", \"Chinese Spring 1_001829_7780_m/z583.4141_RT11.7758\", \"Chinese Spring 1_001829_8525_m/z601.4234_RT13.0595\", \"Chinese Spring 1_001829_7357_m/z583.4143_RT10.7852\", \"Chinese Spring 1_001829_8191_m/z583.4143_RT12.2617\", \"Chinese Spring 1_001829_0928_m/z269.1605_RT1.0029\", \"Chinese Spring 1_001829_0989_m/z268.1037_RT1.0386\", \"blk_001809_1552_m/z364.3418_RT11.7523\", \"blk_001809_1616_m/z364.3418_RT11.8147\", \"blk_001809_1516_m/z408.3681_RT11.7389\", \"blk_001809_1750_m/z466.4099_RT12.1446\", \"blk_001809_1657_m/z408.3681_RT11.9395\", \"blk_001809_1903_m/z482.4048_RT12.3318\", \"blk_001809_1999_m/z364.3424_RT12.5502\", \"blk_001809_2060_m/z364.3424_RT12.6438\", \"blk_001809_1642_m/z424.3632_RT11.9261\", \"blk_001809_1747_m/z421.3521_RT12.1446\", \"Chinese Spring 1_001829_7380_m/z483.2713_RT10.8387\", \"Chinese Spring 1_001829_7338_m/z338.2607_RT10.7228\", \"Chinese Spring 1_001829_6626_m/z320.2946_RT9.3934\", \"Chinese Spring 1_001829_6684_m/z320.2946_RT9.6341\", \"Chinese Spring 1_001829_4681_m/z129.1273_RT5.8086\", \"Chinese Spring 1_001829_5571_m/z171.1490_RT6.9999\", \"Chinese Spring 3_001858_5649_m/z201.1636_RT7.2384\", \"Cobra 1_001832_5681_m/z201.1636_RT7.3651\", \"Chinese Spring 1_001829_6034_m/z209.1534_RT7.9760\", \"Chinese Spring 1_001829_3534_m/z209.1534_RT4.9214\", \"Chinese Spring 1_001829_3874_m/z209.1534_RT5.1891\", \"Chinese Spring 1_001829_3976_m/z209.1534_RT5.2738\", \"Chinese Spring 1_001829_6121_m/z281.1745_RT8.1944\", \"blk_001809_0513_m/z243.1589_RT8.8417\", \"Chinese Spring 1_001829_6701_m/z293.2106_RT9.6921\", \"Chinese Spring 1_001829_4627_m/z227.1640_RT5.7507\", \"blk_001809_0743_m/z283.1902_RT9.4033\", \"Chinese Spring 1_001829_3576_m/z207.1378_RT4.9437\", \"Chinese Spring 1_001829_3487_m/z227.1275_RT4.8769\", \"Chinese Spring 1_001829_3537_m/z227.1276_RT4.9214\", \"Chinese Spring 1_001829_8442_m/z181.1221_RT12.7876\", \"Chinese Spring 2_001850_7898_m/z181.1221_RT13.1904\", \"Chinese Spring 1_001829_5465_m/z211.1690_RT6.7722\", \"Chinese Spring 1_001829_5452_m/z209.0807_RT6.7499\", \"Chinese Spring 1_001829_5697_m/z211.1691_RT7.3342\", \"Chinese Spring 1_001829_5778_m/z211.1691_RT7.5080\", \"Chinese Spring 1_001829_6053_m/z215.1640_RT8.0384\", \"blk_001809_0654_m/z215.1640_RT9.1582\", \"Chinese Spring 2_001850_5547_m/z137.0960_RT7.4167\", \"Chinese Spring 2_001850_6060_m/z219.1741_RT8.6023\", \"Chinese Spring 2_001850_6092_m/z219.1742_RT8.6424\", \"Chinese Spring 1_001829_6166_m/z219.1741_RT8.3371\", \"Chinese Spring 1_001829_5806_m/z219.1741_RT7.5303\", \"Cobra 1_001832_5682_m/z219.1741_RT7.3651\", \"Chinese Spring 1_001829_5301_m/z191.1428_RT6.5359\", \"Chinese Spring 1_001829_3978_m/z191.1429_RT5.2782\", \"Chinese Spring 1_001829_5431_m/z191.1429_RT6.7410\", \"Chinese Spring 1_001829_4949_m/z209.0807_RT6.0494\", \"Chinese Spring 1_001829_6612_m/z207.1378_RT9.3355\", \"blk_001809_0035_m/z141.0508_RT0.5557\", \"Chinese Spring 1_001829_2250_m/z177.0544_RT3.6957\", \"Chinese Spring 1_001829_3815_m/z177.0545_RT5.1175\", \"Espada 3_001867_2046_m/z177.0545_RT3.9185\", \"Chinese Spring 1_001829_3575_m/z199.9878_RT4.9437\", \"Chinese Spring 3_001858_3785_m/z199.9877_RT5.0667\", \"Chinese Spring 1_001829_0008_m/z199.9878_RT0.5260\", \"Chinese Spring 1_001829_3401_m/z199.9878_RT4.8234\", \"Chinese Spring 1_001829_4213_m/z199.9877_RT5.4298\", \"Chinese Spring 2_001850_3871_m/z199.9878_RT5.2900\", \"Cobra 2_001852_4324_m/z199.9878_RT6.0264\", \"Chinese Spring 2_001850_4313_m/z199.9878_RT5.5708\", \"Cobra 2_001852_2321_m/z199.9877_RT4.2435\", \"Chinese Spring 1_001829_5512_m/z463.1233_RT6.8301\", \"Chinese Spring 1_001829_3296_m/z611.1606_RT4.7565\", \"Chinese Spring 1_001829_3857_m/z611.1606_RT5.1666\", \"Chinese Spring 1_001829_3593_m/z339.1073_RT4.9571\", \"Chinese Spring 1_001829_4973_m/z339.1073_RT6.0940\", \"Chinese Spring 1_001829_6003_m/z498.2543_RT7.9315\", \"Chinese Spring 1_001829_3932_m/z340.1603_RT5.2470\", \"Chinese Spring 1_001829_5413_m/z231.0497_RT6.7231\", \"Chinese Spring 1_001829_3927_m/z231.0497_RT5.2470\", \"Chinese Spring 1_001829_5035_m/z231.0497_RT6.1564\", \"Chinese Spring 1_001829_6283_m/z231.0496_RT8.6045\", \"Chinese Spring 2_001850_1213_m/z314.1446_RT1.3713\", \"Emu Rock 2_001847_1099_m/z314.1446_RT1.2598\", \"Chinese Spring 1_001829_2752_m/z342.1759_RT4.2840\", \"Chinese Spring 3_001858_1605_m/z310.1495_RT2.2587\", \"Chinese Spring 1_001829_1178_m/z241.1544_RT1.1946\", \"Chinese Spring 1_001829_1844_m/z507.1819_RT2.9692\", \"Correll 1_001837_4911_m/z251.0911_RT6.5612\", \"Chinese Spring 1_001829_5685_m/z219.1014_RT7.3074\", \"Chinese Spring 1_001829_4912_m/z219.1014_RT5.9958\", \"Chinese Spring 1_001829_5175_m/z219.1014_RT6.3621\", \"Chinese Spring 1_001829_2478_m/z291.1449_RT4.0211\", \"Chinese Spring 1_001829_2534_m/z291.1449_RT4.0567\", \"Chinese Spring 1_001829_1967_m/z291.1450_RT3.3302\", \"Chinese Spring 1_001829_1966_m/z273.1343_RT3.3302\", \"Chinese Spring 1_001829_2526_m/z273.1343_RT4.0523\", \"Chinese Spring 1_001829_1994_m/z251.1387_RT3.3658\", \"Chinese Spring 1_001829_1874_m/z235.1439_RT3.0271\", \"Chinese Spring 1_001829_2318_m/z235.1439_RT3.7670\", \"Chinese Spring 1_001829_2426_m/z194.0447_RT3.9542\", \"Cobra 3_001856_2051_m/z194.1174_RT3.6295\", \"Chinese Spring 1_001829_3643_m/z194.0447_RT4.9972\", \"Chinese Spring 1_001829_3914_m/z194.0447_RT5.2381\", \"Chinese Spring 1_001829_4309_m/z212.0552_RT5.4788\", \"Chinese Spring 1_001829_2958_m/z212.0552_RT4.4445\", \"Chinese Spring 1_001829_5341_m/z194.0447_RT6.6117\", \"Chinese Spring 1_001829_5342_m/z226.0708_RT6.6117\", \"Chinese Spring 1_001829_2262_m/z533.1549_RT3.7001\", \"Chinese Spring 1_001829_2618_m/z533.1546_RT4.1191\", \"Chinese Spring 1_001829_2044_m/z533.1546_RT3.4461\", \"Chinese Spring 1_001829_3026_m/z533.1549_RT4.5203\", \"Chinese Spring 1_001829_2030_m/z347.0907_RT3.4015\", \"Chinese Spring 2_001850_1485_m/z347.0907_RT2.1112\", \"Chinese Spring 1_001829_1626_m/z194.1174_RT2.2515\", \"Cobra 2_001852_2090_m/z194.1174_RT4.0473\", \"Chinese Spring 1_001829_6552_m/z320.2946_RT9.1394\", \"Chinese Spring 1_001829_7255_m/z320.2946_RT10.6470\", \"Chinese Spring 1_001829_6510_m/z320.2948_RT9.0458\", \"Chinese Spring 1_001829_6404_m/z320.2946_RT8.8274\", \"Chinese Spring 1_001829_6439_m/z320.2946_RT8.8987\", \"Chinese Spring 1_001829_6466_m/z320.2948_RT8.9700\", \"Chinese Spring 1_001829_0724_m/z241.1544_RT0.7890\", \"Chinese Spring 1_001829_0785_m/z241.1544_RT0.8781\", \"Chinese Spring 1_001829_5942_m/z332.2584_RT7.8067\", \"Chinese Spring 1_001829_6229_m/z332.2583_RT8.4886\", \"Chinese Spring 1_001829_6093_m/z332.2583_RT8.1097\", \"Chinese Spring 1_001829_6127_m/z332.2584_RT8.1989\", \"Chinese Spring 1_001829_0877_m/z260.1603_RT0.9851\", \"Chinese Spring 1_001829_3318_m/z132.0444_RT4.7743\", \"Chinese Spring 1_001829_1633_m/z246.1446_RT2.2783\", \"Chinese Spring 1_001829_1708_m/z247.1286_RT2.6482\", \"Chinese Spring 1_001829_1642_m/z260.1602_RT2.3719\", \"Chinese Spring 2_001850_1603_m/z260.1603_RT2.4945\", \"Chinese Spring 1_001829_1656_m/z233.1494_RT2.5234\", \"Chinese Spring 1_001829_1564_m/z233.1494_RT2.1044\", \"Chinese Spring 5_001887_1443_m/z233.1494_RT2.2226\", \"Chinese Spring 1_001829_1393_m/z221.1284_RT1.6494\", \"Chinese Spring 2_001850_1669_m/z237.1232_RT2.8467\", \"Chinese Spring 1_001829_0821_m/z237.1231_RT0.9093\", \"Chinese Spring 1_001829_2218_m/z237.1231_RT3.6645\", \"Chinese Spring 1_001829_8795_m/z797.5175_RT14.4412\", \"Chinese Spring 1_001829_0924_m/z214.5102_RT1.0029\", \"Chinese Spring 1_001829_5742_m/z268.5936_RT7.4233\", \"Chinese Spring 1_001829_3925_m/z222.0703_RT5.2470\", \"Chinese Spring 1_001829_6287_m/z250.1014_RT8.6045\", \"Chinese Spring 1_001829_2484_m/z247.0598_RT4.0255\", \"Chinese Spring 1_001829_2604_m/z247.0598_RT4.1147\", \"Chinese Spring 1_001829_3431_m/z219.0467_RT4.8501\", \"Chinese Spring 1_001829_1873_m/z212.0390_RT3.0271\", \"Chinese Spring 1_001829_5506_m/z214.5649_RT6.8301\", \"Chinese Spring 1_001829_3870_m/z595.1657_RT5.1846\", \"Chinese Spring 1_001829_4649_m/z625.1763_RT5.7730\", \"Chinese Spring 1_001829_4877_m/z463.1232_RT5.9646\", \"Chinese Spring 1_001829_0770_m/z182.0811_RT0.8558\", \"Chinese Spring 1_001829_0839_m/z182.0811_RT0.9405\", \"Chinese Spring 1_001829_3666_m/z212.0552_RT5.0017\", \"Chinese Spring 1_001829_4302_m/z194.0447_RT5.4788\", \"Chinese Spring 1_001829_2440_m/z333.1520_RT3.9631\", \"Chinese Spring 1_001829_2563_m/z333.1519_RT4.0835\", \"Chinese Spring 1_001829_1519_m/z319.1363_RT1.9258\", \"Chinese Spring 1_001829_1645_m/z319.1363_RT2.3986\", \"Chinese Spring 1_001829_0094_m/z265.0154_RT0.5705\", \"Chinese Spring 1_001829_0764_m/z229.1545_RT0.8469\", \"Chinese Spring 1_001829_0683_m/z229.1545_RT0.7845\", \"Chinese Spring 1_001829_1084_m/z229.1545_RT1.0920\", \"Chinese Spring 1_001829_1122_m/z229.1545_RT1.1143\"], \"tickvals\": [5, 15, 25, 35, 45, 55, 65, 75, 85, 95, 105, 115, 125, 135, 145, 155, 165, 175, 185, 195, 205, 215, 225, 235, 245, 255, 265, 275, 285, 295, 305, 315, 325, 335, 345, 355, 365, 375, 385, 395, 405, 415, 425, 435, 445, 455, 465, 475, 485, 495, 505, 515, 525, 535, 545, 555, 565, 575, 585, 595, 605, 615, 625, 635, 645, 655, 665, 675, 685, 695, 705, 715, 725, 735, 745, 755, 765, 775, 785, 795, 805, 815, 825, 835, 845, 855, 865, 875, 885, 895, 905, 915, 925, 935, 945, 955, 965, 975, 985, 995, 1005, 1015, 1025, 1035, 1045, 1055, 1065, 1075, 1085, 1095, 1105, 1115, 1125, 1135, 1145, 1155, 1165, 1175, 1185, 1195, 1205, 1215, 1225, 1235, 1245, 1255, 1265, 1275, 1285, 1295, 1305, 1315, 1325, 1335, 1345, 1355, 1365, 1375, 1385, 1395, 1405, 1415, 1425, 1435, 1445, 1455, 1465, 1475, 1485, 1495, 1505, 1515, 1525, 1535, 1545, 1555, 1565, 1575, 1585, 1595, 1605, 1615, 1625, 1635, 1645, 1655, 1665, 1675, 1685, 1695, 1705, 1715, 1725, 1735, 1745, 1755, 1765, 1775, 1785, 1795, 1805, 1815, 1825, 1835, 1845, 1855, 1865, 1875, 1885, 1895, 1905, 1915, 1925, 1935, 1945, 1955, 1965, 1975, 1985, 1995, 2005, 2015, 2025, 2035, 2045], \"title\": {\"text\": \"Components\"}, \"type\": \"linear\", \"zeroline\": false}, \"yaxis\": {\"mirror\": \"allticks\", \"rangemode\": \"tozero\", \"showgrid\": false, \"showline\": true, \"showticklabels\": true, \"ticks\": \"outside\", \"title\": {\"text\": \"Distance\"}, \"type\": \"linear\", \"zeroline\": false}},\n",
       "                        {\"showLink\": false, \"linkText\": \"Export to plot.ly\", \"plotlyServerURL\": \"https://plot.ly\"}\n",
       "                    )\n",
       "                };\n",
       "                });\n",
       "            </script>\n",
       "        </div>"
      ]
     },
     "metadata": {},
     "output_type": "display_data"
    }
   ],
   "source": [
    "# View the new dendrogram cutoff inline\n",
    "\n",
    "plotly.offline.init_notebook_mode(connected=True) # for visualising plot inline\n",
    "iplot = tree.plot(width=900, height=800)\n",
    "plotly.offline.iplot(iplot)"
   ]
  },
  {
   "cell_type": "markdown",
   "metadata": {
    "collapsed": true
   },
   "source": [
    "## Command line API\n",
    "\n",
    "The pipeline can also be run from a bash or bash-like terminal.\n",
    "This is useful if you're not planning on tweaking the parameters much and just want to run the darn thing.\n",
    "\n",
    "For these examples, we're using the ipython magic command `%%bash` to run the commands in bash.\n",
    "You can omit the %%bash bit if you're running straight in the terminal.\n",
    "\n",
    "To get a list of all options available use the `--help` (or `-h`) flag."
   ]
  },
  {
   "cell_type": "code",
   "execution_count": 12,
   "metadata": {},
   "outputs": [
    {
     "name": "stdout",
     "output_type": "stream",
     "text": [
      "usage: BioDendro [-h] [-n] [-c CUTOFF] [-b BIN_THRESHOLD]\n",
      "                 [-d {jaccard,braycurtis}] [-p PROCESSED] [-o OUT_HTML]\n",
      "                 [-r RESULTS_DIR] [-x WIDTH_PX] [-y HEIGHT_PX] [-s] [-f]\n",
      "                 [-e EPS] [-mz_tol MZ_TOL] [-retention_tol RETENTION_TOL] [-q]\n",
      "                 mgf components\n",
      "\n",
      "BioDentro takes an MGF and a list of components, finds MSMS spectra matching\n",
      "your components, and writes out useful summaries of clusters based on shared\n",
      "ion spectra.\n",
      "\n",
      "positional arguments:\n",
      "  mgf                   MGF input file.\n",
      "  components            Listed components file.\n",
      "\n",
      "optional arguments:\n",
      "  -h, --help            show this help message and exit\n",
      "  -n, --neutral         Convert MSMS spectra to neutral loss spectra.\n",
      "  -c CUTOFF, --cutoff CUTOFF\n",
      "                        The y-axis value to cut the dendogram and form\n",
      "                        clusters. Must be between 0 and 1 (Default 0.6).\n",
      "  -b BIN_THRESHOLD, --bin-threshold BIN_THRESHOLD\n",
      "                        Maximum difference between two consecutive masses\n",
      "                        before a new mass bin is created. Typical range\n",
      "                        0.00001-1 Dalton (Default 0.0008)\n",
      "  -d {jaccard,braycurtis}, --cluster-method {jaccard,braycurtis}\n",
      "                        The distance metric used for clustering (Default\n",
      "                        jaccard).\n",
      "  -p PROCESSED, --processed PROCESSED\n",
      "                        Path to write preprocessed output to.\n",
      "  -o OUT_HTML, --output OUT_HTML\n",
      "                        File to write interactive dendrogram plot to. By\n",
      "                        default will write to `--results-dir` as\n",
      "                        `simple_dendrogram.html`.\n",
      "  -r RESULTS_DIR, --results-dir RESULTS_DIR\n",
      "                        Directory to write per-cluster plots and tables to. By\n",
      "                        default will write to `results_<datetime>` where\n",
      "                        <datetime> is the current date and time in\n",
      "                        YYYYMMDDHHmmSS format.\n",
      "  -x WIDTH_PX, --width WIDTH_PX\n",
      "                        Width of the dendrogram output in pixels (Default\n",
      "                        900).\n",
      "  -y HEIGHT_PX, --height HEIGHT_PX\n",
      "                        Height of the dendrogram plot in pixels. Branch labels\n",
      "                        are included in this dimension (Default 1200).\n",
      "  -s, --scaling         Highest m/z within an MSMS spectra is normalised to 1\n",
      "                        and all other masses are scaled to it.\n",
      "  -f, --filtering       Ions within an MSMS spectra are removed based on\n",
      "                        scaled intensity with threshold set by --eps.\n",
      "  -e EPS, --eps EPS     Scaled intensity value between 0 and 1 for which ions\n",
      "                        below are removed (Default 0.6).\n",
      "  -mz_tol MZ_TOL, --mz_tol MZ_TOL\n",
      "                        m/z tolerance window to align MSMS spectra to\n",
      "                        component list (Default 0.002)\n",
      "  -retention_tol RETENTION_TOL, --retention_tol RETENTION_TOL\n",
      "                        Retention time tolerance window in seconds to align\n",
      "                        MSMS spectra to component list (Default 5).\n",
      "  -q, --quiet           Suppress status notifications written to stdout.\n"
     ]
    }
   ],
   "source": [
    "%%bash\n",
    "BioDendro --help"
   ]
  },
  {
   "cell_type": "markdown",
   "metadata": {},
   "source": [
    "The minimum options to run the pipeline are the MGF file and a components list.\n",
    "\n",
    "Using the example data in the BioDendro repo we could run..."
   ]
  },
  {
   "cell_type": "code",
   "execution_count": 13,
   "metadata": {},
   "outputs": [
    {
     "name": "stdout",
     "output_type": "stream",
     "text": [
      "Running BioDendro v0.0.1\n",
      "\n",
      "- input mgf file = MSMS.mgf\n",
      "- input components file = component_list.txt\n",
      "- neutral = False\n",
      "- cutoff = 0.6\n",
      "- bin_threshold = 0.0008\n",
      "- clustering_method = jaccard\n",
      "- output processed file = results_20190424172221/processed.xlsx\n",
      "- output results directory = results_20190424172221\n",
      "- output html dendrogram = results_20190424172221/simple_dendrogram.html\n",
      "- dendrogram figure width = 900\n",
      "- dendrogram figure height = 1200\n",
      "- scaling = False\n",
      "- filtering = False\n",
      "- eps = 0.6\n",
      "- mz_tolerance = 0.002\n",
      "- retention_tolerance = 5\n",
      "\n",
      "\n",
      "Processing inputs\n",
      "Binning and clustering\n",
      "This may take some time...\n",
      "Writing per-cluster summaries\n",
      "Writing output html dendrogram\n",
      "Finished\n"
     ]
    }
   ],
   "source": [
    "%%bash\n",
    "\n",
    "BioDendro MSMS.mgf component_list.txt"
   ]
  },
  {
   "cell_type": "markdown",
   "metadata": {},
   "source": [
    "As before, the results will be stored in a directory with the current date and the current time added to the end of it.\n",
    "\n",
    "You can change the parameters to use by supplying additional flags, however, this will run the whole pipeline again, so it you just need to adjust the cutoff or decide to use braycurtis instead of jaccard distances, you might be better off using the python API."
   ]
  },
  {
   "cell_type": "code",
   "execution_count": 14,
   "metadata": {},
   "outputs": [
    {
     "name": "stdout",
     "output_type": "stream",
     "text": [
      "Running BioDendro v0.0.1\n",
      "\n",
      "- input mgf file = MSMS.mgf\n",
      "- input components file = component_list.txt\n",
      "- neutral = False\n",
      "- cutoff = 0.5\n",
      "- bin_threshold = 0.0008\n",
      "- clustering_method = braycurtis\n",
      "- output processed file = results_20190424172342/processed.xlsx\n",
      "- output results directory = results_20190424172342\n",
      "- output html dendrogram = results_20190424172342/simple_dendrogram.html\n",
      "- dendrogram figure width = 900\n",
      "- dendrogram figure height = 1200\n",
      "- scaling = True\n",
      "- filtering = False\n",
      "- eps = 0.6\n",
      "- mz_tolerance = 0.002\n",
      "- retention_tolerance = 5\n",
      "\n",
      "\n",
      "Processing inputs\n",
      "Binning and clustering\n",
      "This may take some time...\n",
      "Writing per-cluster summaries\n",
      "Writing output html dendrogram\n",
      "Finished\n"
     ]
    }
   ],
   "source": [
    "%%bash\n",
    "\n",
    "BioDendro --scaling --cluster-method braycurtis --cutoff 0.5 MSMS.mgf component_list.txt"
   ]
  },
  {
   "cell_type": "markdown",
   "metadata": {},
   "source": [
    "would be equivalent to running the following in python"
   ]
  },
  {
   "cell_type": "code",
   "execution_count": 15,
   "metadata": {},
   "outputs": [
    {
     "name": "stdout",
     "output_type": "stream",
     "text": [
      "Running BioDendro v0.0.1\n",
      "\n",
      "- input mgf file = MSMS.mgf\n",
      "- input components file = component_list.txt\n",
      "- neutral = False\n",
      "- cutoff = 0.5\n",
      "- bin_threshold = 0.0008\n",
      "- clustering_method = braycurtis\n",
      "- output processed file = results_20190424172451/processed.xlsx\n",
      "- output results directory = results_20190424172451\n",
      "- output html dendrogram = results_20190424172451/simple_dendrogram.html\n",
      "- dendrogram figure width = 900\n",
      "- dendrogram figure height = 1200\n",
      "- scaling = True\n",
      "- filtering = False\n",
      "- eps = 0.6\n",
      "- mz_tolerance = 0.002\n",
      "- retention_tolerance = 5\n",
      "\n",
      "\n",
      "Processing inputs\n",
      "Binning and clustering\n",
      "This may take some time...\n",
      "Writing per-cluster summaries\n",
      "Writing output html dendrogram\n",
      "Finished\n"
     ]
    }
   ],
   "source": [
    "tree = BioDendro.pipeline(\"MSMS.mgf\", \"component_list.txt\", clustering_method=\"braycurtis\", scaling=True, cutoff=0.5)"
   ]
  },
  {
   "cell_type": "code",
   "execution_count": null,
   "metadata": {},
   "outputs": [],
   "source": []
  }
 ],
 "metadata": {
  "kernelspec": {
   "display_name": "Python 3",
   "language": "python",
   "name": "python3"
  },
  "language_info": {
   "codemirror_mode": {
    "name": "ipython",
    "version": 3
   },
   "file_extension": ".py",
   "mimetype": "text/x-python",
   "name": "python",
   "nbconvert_exporter": "python",
   "pygments_lexer": "ipython3",
   "version": "3.7.3"
  }
 },
 "nbformat": 4,
 "nbformat_minor": 2
}
