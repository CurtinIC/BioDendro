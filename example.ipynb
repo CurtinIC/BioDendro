{
 "cells": [
  {
   "cell_type": "code",
   "execution_count": 1,
   "metadata": {},
   "outputs": [
    {
     "name": "stdout",
     "output_type": "stream",
     "text": [
      "usage: BioDendro [-h] [-n] [-c CUTOFF] [-b BIN_THRESHOLD]\r\n",
      "                 [-d {jaccard,braycurtis}] [-m MATRIX] [-p PROCESSED]\r\n",
      "                 [-o OUT_HTML] [-r RESULTS_DIR] [-x WIDTH_PX] [-y HEIGHT_PX]\r\n",
      "                 mgf components\r\n",
      "\r\n",
      "Process MGF file into appropriate input for biodendro.\r\n",
      "\r\n",
      "positional arguments:\r\n",
      "  mgf                   MGF input file (file1.mgf)\r\n",
      "  components            Listed components file (file2.txt)\r\n",
      "\r\n",
      "optional arguments:\r\n",
      "  -h, --help            show this help message and exit\r\n",
      "  -n, --neutral         Apply neutral loss.\r\n",
      "  -c CUTOFF, --cutoff CUTOFF\r\n",
      "  -b BIN_THRESHOLD, --bin-threshold BIN_THRESHOLD\r\n",
      "  -d {jaccard,braycurtis}, --cluster-method {jaccard,braycurtis}\r\n",
      "  -m MATRIX, --matrix MATRIX\r\n",
      "  -p PROCESSED, --processed PROCESSED\r\n",
      "                        Path to write output to.\r\n",
      "  -o OUT_HTML, --output OUT_HTML\r\n",
      "                        Path to write output to.\r\n",
      "  -r RESULTS_DIR, --results-dir RESULTS_DIR\r\n",
      "  -x WIDTH_PX, --width WIDTH_PX\r\n",
      "  -y HEIGHT_PX, --height HEIGHT_PX\r\n"
     ]
    }
   ],
   "source": [
    "!BioDendro -h"
   ]
  },
  {
   "cell_type": "code",
   "execution_count": 2,
   "metadata": {},
   "outputs": [
    {
     "name": "stdout",
     "output_type": "stream",
     "text": [
      "Please be patient..It may take a while to compute..\n"
     ]
    }
   ],
   "source": [
    "%%bash\n",
    "rm -rf -- ./results\n",
    "BioDendro --processed processed.xlsx ./MSMS.mgf ./component_list.txt"
   ]
  },
  {
   "cell_type": "code",
   "execution_count": 1,
   "metadata": {},
   "outputs": [],
   "source": [
    "from importlib import reload\n",
    "import plotly\n",
    "import pandas as pd\n",
    "import BioDendro.plot\n",
    "\n",
    "reload(BioDendro.plot)\n",
    "\n",
    "from BioDendro.plot import Dendrogram\n"
   ]
  },
  {
   "cell_type": "code",
   "execution_count": 2,
   "metadata": {},
   "outputs": [],
   "source": [
    "data = Dendrogram.from_xlsx(\"./processed.xlsx\")"
   ]
  },
  {
   "cell_type": "code",
   "execution_count": 3,
   "metadata": {},
   "outputs": [],
   "source": [
    "data.clusterize()"
   ]
  },
  {
   "cell_type": "code",
   "execution_count": 4,
   "metadata": {},
   "outputs": [
    {
     "name": "stdout",
     "output_type": "stream",
     "text": [
      "Please be patient..It may take a while to compute..\n"
     ]
    }
   ],
   "source": [
    "data.generate_linkage()"
   ]
  },
  {
   "cell_type": "code",
   "execution_count": 5,
   "metadata": {},
   "outputs": [],
   "source": [
    "data.generate_out()"
   ]
  },
  {
   "cell_type": "code",
   "execution_count": null,
   "metadata": {},
   "outputs": [],
   "source": []
  },
  {
   "cell_type": "code",
   "execution_count": 6,
   "metadata": {},
   "outputs": [
    {
     "data": {
      "text/plain": [
       "array([117,  28, 119,  92,  33,  38,  28, 125,  20,  81,  85,  57,  16,\n",
       "        25,  74,  22,  24, 101,  85,  86,  75, 104,  31,  19,  15, 113,\n",
       "        34,  25,  23,  24,   1,  15,  21,  28, 119, 115,  33,   8,   9,\n",
       "         8,  23,   8, 116,  17,  28,  23, 112, 102, 120,  55,  91, 120,\n",
       "       118,  43,  53, 105,  96,  27,  96,  33,  26,  18,  23,  18,  26,\n",
       "        21,  64,  63,  16,  22,  29, 109,  44,  13,  28,  28,  36, 107,\n",
       "        31,  28,  33, 107, 114,  28,  47,  35,  28,  28, 110,  28,  62,\n",
       "        33, 111,  31,  30,  28,  16,  44,  58,   5,  79, 120,  87, 119,\n",
       "       120, 120, 120, 120, 120, 120, 122, 123, 121, 122, 123, 124, 106,\n",
       "        91,  68,  73, 121, 118,  83,  59,  60,  59,  57,  11,  69,  67,\n",
       "        92,  32,  67, 108,  70,  37,  94,  50,  97,  67,  99,  54, 103,\n",
       "        98, 105, 104,  82,  84, 100,  95,  41, 126,   2,  45,  91,  91,\n",
       "        91,  10,   3,   4,   6,   7,  89,  66,   7,  93,  88,  86,  90,\n",
       "        77,  80,  42,  39,  13,  40,  49,  14,  72,  13,  71,  72,  72,\n",
       "        78,  56,  48,  46,  64,  10,  76,  71,  65,  65,  61,  51,  52,\n",
       "        12, 127], dtype=int32)"
      ]
     },
     "execution_count": 6,
     "metadata": {},
     "output_type": "execute_result"
    }
   ],
   "source": [
    "data.mycluster"
   ]
  },
  {
   "cell_type": "code",
   "execution_count": null,
   "metadata": {},
   "outputs": [],
   "source": []
  },
  {
   "cell_type": "code",
   "execution_count": 7,
   "metadata": {},
   "outputs": [],
   "source": [
    "k = data.visualize(cutoff=0.5)"
   ]
  },
  {
   "cell_type": "code",
   "execution_count": 11,
   "metadata": {},
   "outputs": [
    {
     "data": {
      "text/html": [
       "<script>requirejs.config({paths: { 'plotly': ['https://cdn.plot.ly/plotly-latest.min']},});if(!window.Plotly) {{require(['plotly'],function(plotly) {window.Plotly=plotly;});}}</script>"
      ],
      "text/vnd.plotly.v1+html": [
       "<script>requirejs.config({paths: { 'plotly': ['https://cdn.plot.ly/plotly-latest.min']},});if(!window.Plotly) {{require(['plotly'],function(plotly) {window.Plotly=plotly;});}}</script>"
      ]
     },
     "metadata": {},
     "output_type": "display_data"
    },
    {
     "data": {
      "application/vnd.plotly.v1+json": {
       "data": [
        {
         "hoverinfo": "all",
         "marker": {
          "color": "rgb(0,116,217)"
         },
         "mode": "lines",
         "text": null,
         "type": "scatter",
         "x": [
          25,
          25,
          35,
          35
         ],
         "xaxis": "x",
         "y": [
          0,
          0.6862745098039216,
          0.6862745098039216,
          0
         ],
         "yaxis": "y"
        },
        {
         "hoverinfo": "all",
         "marker": {
          "color": "rgb(0,116,217)"
         },
         "mode": "lines",
         "text": null,
         "type": "scatter",
         "x": [
          45,
          45,
          55,
          55
         ],
         "xaxis": "x",
         "y": [
          0,
          0.5517241379310345,
          0.5517241379310345,
          0
         ],
         "yaxis": "y"
        },
        {
         "hoverinfo": "all",
         "marker": {
          "color": "rgb(0,116,217)"
         },
         "mode": "lines",
         "text": null,
         "type": "scatter",
         "x": [
          65,
          65,
          75,
          75
         ],
         "xaxis": "x",
         "y": [
          0,
          0.6896551724137931,
          0.6896551724137931,
          0
         ],
         "yaxis": "y"
        },
        {
         "hoverinfo": "all",
         "marker": {
          "color": "rgb(0,116,217)"
         },
         "mode": "lines",
         "text": null,
         "type": "scatter",
         "x": [
          50,
          50,
          70,
          70
         ],
         "xaxis": "x",
         "y": [
          0.5517241379310345,
          0.7222222222222222,
          0.7222222222222222,
          0.6896551724137931
         ],
         "yaxis": "y"
        },
        {
         "hoverinfo": "all",
         "marker": {
          "color": "rgb(61,153,112)"
         },
         "mode": "lines",
         "text": null,
         "type": "scatter",
         "x": [
          85,
          85,
          95,
          95
         ],
         "xaxis": "x",
         "y": [
          0,
          0.44,
          0.44,
          0
         ],
         "yaxis": "y"
        },
        {
         "hoverinfo": "all",
         "marker": {
          "color": "rgb(255,65,54)"
         },
         "mode": "lines",
         "text": null,
         "type": "scatter",
         "x": [
          125,
          125,
          135,
          135
         ],
         "xaxis": "x",
         "y": [
          0,
          0.391304347826087,
          0.391304347826087,
          0
         ],
         "yaxis": "y"
        },
        {
         "hoverinfo": "all",
         "marker": {
          "color": "rgb(255,65,54)"
         },
         "mode": "lines",
         "text": null,
         "type": "scatter",
         "x": [
          115,
          115,
          130,
          130
         ],
         "xaxis": "x",
         "y": [
          0,
          0.48148148148148145,
          0.48148148148148145,
          0.391304347826087
         ],
         "yaxis": "y"
        },
        {
         "hoverinfo": "all",
         "marker": {
          "color": "rgb(0,116,217)"
         },
         "mode": "lines",
         "text": null,
         "type": "scatter",
         "x": [
          105,
          105,
          122.5,
          122.5
         ],
         "xaxis": "x",
         "y": [
          0,
          0.5384615384615384,
          0.5384615384615384,
          0.48148148148148145
         ],
         "yaxis": "y"
        },
        {
         "hoverinfo": "all",
         "marker": {
          "color": "rgb(0,116,217)"
         },
         "mode": "lines",
         "text": null,
         "type": "scatter",
         "x": [
          90,
          90,
          113.75,
          113.75
         ],
         "xaxis": "x",
         "y": [
          0.44,
          0.78125,
          0.78125,
          0.5384615384615384
         ],
         "yaxis": "y"
        },
        {
         "hoverinfo": "all",
         "marker": {
          "color": "rgb(0,116,217)"
         },
         "mode": "lines",
         "text": null,
         "type": "scatter",
         "x": [
          60,
          60,
          101.875,
          101.875
         ],
         "xaxis": "x",
         "y": [
          0.7222222222222222,
          0.8571428571428571,
          0.8571428571428571,
          0.78125
         ],
         "yaxis": "y"
        },
        {
         "hoverinfo": "all",
         "marker": {
          "color": "rgb(0,116,217)"
         },
         "mode": "lines",
         "text": null,
         "type": "scatter",
         "x": [
          30,
          30,
          80.9375,
          80.9375
         ],
         "xaxis": "x",
         "y": [
          0.6862745098039216,
          0.8775510204081632,
          0.8775510204081632,
          0.8571428571428571
         ],
         "yaxis": "y"
        },
        {
         "hoverinfo": "all",
         "marker": {
          "color": "rgb(35,205,205)"
         },
         "mode": "lines",
         "text": null,
         "type": "scatter",
         "x": [
          155,
          155,
          165,
          165
         ],
         "xaxis": "x",
         "y": [
          0,
          0.38095238095238093,
          0.38095238095238093,
          0
         ],
         "yaxis": "y"
        },
        {
         "hoverinfo": "all",
         "marker": {
          "color": "rgb(0,116,217)"
         },
         "mode": "lines",
         "text": null,
         "type": "scatter",
         "x": [
          145,
          145,
          160,
          160
         ],
         "xaxis": "x",
         "y": [
          0,
          0.918918918918919,
          0.918918918918919,
          0.38095238095238093
         ],
         "yaxis": "y"
        },
        {
         "hoverinfo": "all",
         "marker": {
          "color": "rgb(0,116,217)"
         },
         "mode": "lines",
         "text": null,
         "type": "scatter",
         "x": [
          55.46875,
          55.46875,
          152.5,
          152.5
         ],
         "xaxis": "x",
         "y": [
          0.8775510204081632,
          0.9512195121951219,
          0.9512195121951219,
          0.918918918918919
         ],
         "yaxis": "y"
        },
        {
         "hoverinfo": "all",
         "marker": {
          "color": "rgb(0,116,217)"
         },
         "mode": "lines",
         "text": null,
         "type": "scatter",
         "x": [
          15,
          15,
          103.984375,
          103.984375
         ],
         "xaxis": "x",
         "y": [
          0,
          0.9666666666666667,
          0.9666666666666667,
          0.9512195121951219
         ],
         "yaxis": "y"
        },
        {
         "hoverinfo": "all",
         "marker": {
          "color": "rgb(133,20,75)"
         },
         "mode": "lines",
         "text": null,
         "type": "scatter",
         "x": [
          195,
          195,
          205,
          205
         ],
         "xaxis": "x",
         "y": [
          0,
          0.2833333333333333,
          0.2833333333333333,
          0
         ],
         "yaxis": "y"
        },
        {
         "hoverinfo": "all",
         "marker": {
          "color": "rgb(133,20,75)"
         },
         "mode": "lines",
         "text": null,
         "type": "scatter",
         "x": [
          185,
          185,
          200,
          200
         ],
         "xaxis": "x",
         "y": [
          0,
          0.4,
          0.4,
          0.2833333333333333
         ],
         "yaxis": "y"
        },
        {
         "hoverinfo": "all",
         "marker": {
          "color": "rgb(0,116,217)"
         },
         "mode": "lines",
         "text": null,
         "type": "scatter",
         "x": [
          175,
          175,
          192.5,
          192.5
         ],
         "xaxis": "x",
         "y": [
          0,
          0.5974025974025974,
          0.5974025974025974,
          0.4
         ],
         "yaxis": "y"
        },
        {
         "hoverinfo": "all",
         "marker": {
          "color": "rgb(255,220,0)"
         },
         "mode": "lines",
         "text": null,
         "type": "scatter",
         "x": [
          215,
          215,
          225,
          225
         ],
         "xaxis": "x",
         "y": [
          0,
          0.48333333333333334,
          0.48333333333333334,
          0
         ],
         "yaxis": "y"
        },
        {
         "hoverinfo": "all",
         "marker": {
          "color": "rgb(40,35,35)"
         },
         "mode": "lines",
         "text": null,
         "type": "scatter",
         "x": [
          255,
          255,
          265,
          265
         ],
         "xaxis": "x",
         "y": [
          0,
          0.40384615384615385,
          0.40384615384615385,
          0
         ],
         "yaxis": "y"
        },
        {
         "hoverinfo": "all",
         "marker": {
          "color": "rgb(0,116,217)"
         },
         "mode": "lines",
         "text": null,
         "type": "scatter",
         "x": [
          245,
          245,
          260,
          260
         ],
         "xaxis": "x",
         "y": [
          0,
          0.5,
          0.5,
          0.40384615384615385
         ],
         "yaxis": "y"
        },
        {
         "hoverinfo": "all",
         "marker": {
          "color": "rgb(0,116,217)"
         },
         "mode": "lines",
         "text": null,
         "type": "scatter",
         "x": [
          235,
          235,
          252.5,
          252.5
         ],
         "xaxis": "x",
         "y": [
          0,
          0.6938775510204082,
          0.6938775510204082,
          0.5
         ],
         "yaxis": "y"
        },
        {
         "hoverinfo": "all",
         "marker": {
          "color": "rgb(61,153,112)"
         },
         "mode": "lines",
         "text": null,
         "type": "scatter",
         "x": [
          295,
          295,
          305,
          305
         ],
         "xaxis": "x",
         "y": [
          0,
          0.359375,
          0.359375,
          0
         ],
         "yaxis": "y"
        },
        {
         "hoverinfo": "all",
         "marker": {
          "color": "rgb(0,116,217)"
         },
         "mode": "lines",
         "text": null,
         "type": "scatter",
         "x": [
          285,
          285,
          300,
          300
         ],
         "xaxis": "x",
         "y": [
          0,
          0.5068493150684932,
          0.5068493150684932,
          0.359375
         ],
         "yaxis": "y"
        },
        {
         "hoverinfo": "all",
         "marker": {
          "color": "rgb(0,116,217)"
         },
         "mode": "lines",
         "text": null,
         "type": "scatter",
         "x": [
          275,
          275,
          292.5,
          292.5
         ],
         "xaxis": "x",
         "y": [
          0,
          0.6125,
          0.6125,
          0.5068493150684932
         ],
         "yaxis": "y"
        },
        {
         "hoverinfo": "all",
         "marker": {
          "color": "rgb(255,65,54)"
         },
         "mode": "lines",
         "text": null,
         "type": "scatter",
         "x": [
          315,
          315,
          325,
          325
         ],
         "xaxis": "x",
         "y": [
          0,
          0.2777777777777778,
          0.2777777777777778,
          0
         ],
         "yaxis": "y"
        },
        {
         "hoverinfo": "all",
         "marker": {
          "color": "rgb(35,205,205)"
         },
         "mode": "lines",
         "text": null,
         "type": "scatter",
         "x": [
          335,
          335,
          345,
          345
         ],
         "xaxis": "x",
         "y": [
          0,
          0.3382352941176471,
          0.3382352941176471,
          0
         ],
         "yaxis": "y"
        },
        {
         "hoverinfo": "all",
         "marker": {
          "color": "rgb(0,116,217)"
         },
         "mode": "lines",
         "text": null,
         "type": "scatter",
         "x": [
          320,
          320,
          340,
          340
         ],
         "xaxis": "x",
         "y": [
          0.2777777777777778,
          0.6712328767123288,
          0.6712328767123288,
          0.3382352941176471
         ],
         "yaxis": "y"
        },
        {
         "hoverinfo": "all",
         "marker": {
          "color": "rgb(0,116,217)"
         },
         "mode": "lines",
         "text": null,
         "type": "scatter",
         "x": [
          283.75,
          283.75,
          330,
          330
         ],
         "xaxis": "x",
         "y": [
          0.6125,
          0.7567567567567568,
          0.7567567567567568,
          0.6712328767123288
         ],
         "yaxis": "y"
        },
        {
         "hoverinfo": "all",
         "marker": {
          "color": "rgb(0,116,217)"
         },
         "mode": "lines",
         "text": null,
         "type": "scatter",
         "x": [
          243.75,
          243.75,
          306.875,
          306.875
         ],
         "xaxis": "x",
         "y": [
          0.6938775510204082,
          0.7894736842105263,
          0.7894736842105263,
          0.7567567567567568
         ],
         "yaxis": "y"
        },
        {
         "hoverinfo": "all",
         "marker": {
          "color": "rgb(0,116,217)"
         },
         "mode": "lines",
         "text": null,
         "type": "scatter",
         "x": [
          220,
          220,
          275.3125,
          275.3125
         ],
         "xaxis": "x",
         "y": [
          0.48333333333333334,
          0.8421052631578947,
          0.8421052631578947,
          0.7894736842105263
         ],
         "yaxis": "y"
        },
        {
         "hoverinfo": "all",
         "marker": {
          "color": "rgb(133,20,75)"
         },
         "mode": "lines",
         "text": null,
         "type": "scatter",
         "x": [
          365,
          365,
          375,
          375
         ],
         "xaxis": "x",
         "y": [
          0,
          0.2894736842105263,
          0.2894736842105263,
          0
         ],
         "yaxis": "y"
        },
        {
         "hoverinfo": "all",
         "marker": {
          "color": "rgb(133,20,75)"
         },
         "mode": "lines",
         "text": null,
         "type": "scatter",
         "x": [
          385,
          385,
          395,
          395
         ],
         "xaxis": "x",
         "y": [
          0,
          0.3835616438356164,
          0.3835616438356164,
          0
         ],
         "yaxis": "y"
        },
        {
         "hoverinfo": "all",
         "marker": {
          "color": "rgb(133,20,75)"
         },
         "mode": "lines",
         "text": null,
         "type": "scatter",
         "x": [
          370,
          370,
          390,
          390
         ],
         "xaxis": "x",
         "y": [
          0.2894736842105263,
          0.4523809523809524,
          0.4523809523809524,
          0.3835616438356164
         ],
         "yaxis": "y"
        },
        {
         "hoverinfo": "all",
         "marker": {
          "color": "rgb(255,220,0)"
         },
         "mode": "lines",
         "text": null,
         "type": "scatter",
         "x": [
          405,
          405,
          415,
          415
         ],
         "xaxis": "x",
         "y": [
          0,
          0.2871287128712871,
          0.2871287128712871,
          0
         ],
         "yaxis": "y"
        },
        {
         "hoverinfo": "all",
         "marker": {
          "color": "rgb(40,35,35)"
         },
         "mode": "lines",
         "text": null,
         "type": "scatter",
         "x": [
          425,
          425,
          435,
          435
         ],
         "xaxis": "x",
         "y": [
          0,
          0.45,
          0.45,
          0
         ],
         "yaxis": "y"
        },
        {
         "hoverinfo": "all",
         "marker": {
          "color": "rgb(0,116,217)"
         },
         "mode": "lines",
         "text": null,
         "type": "scatter",
         "x": [
          410,
          410,
          430,
          430
         ],
         "xaxis": "x",
         "y": [
          0.2871287128712871,
          0.5636363636363636,
          0.5636363636363636,
          0.45
         ],
         "yaxis": "y"
        },
        {
         "hoverinfo": "all",
         "marker": {
          "color": "rgb(61,153,112)"
         },
         "mode": "lines",
         "text": null,
         "type": "scatter",
         "x": [
          455,
          455,
          465,
          465
         ],
         "xaxis": "x",
         "y": [
          0,
          0.4659090909090909,
          0.4659090909090909,
          0
         ],
         "yaxis": "y"
        },
        {
         "hoverinfo": "all",
         "marker": {
          "color": "rgb(0,116,217)"
         },
         "mode": "lines",
         "text": null,
         "type": "scatter",
         "x": [
          445,
          445,
          460,
          460
         ],
         "xaxis": "x",
         "y": [
          0,
          0.57,
          0.57,
          0.4659090909090909
         ],
         "yaxis": "y"
        },
        {
         "hoverinfo": "all",
         "marker": {
          "color": "rgb(0,116,217)"
         },
         "mode": "lines",
         "text": null,
         "type": "scatter",
         "x": [
          420,
          420,
          452.5,
          452.5
         ],
         "xaxis": "x",
         "y": [
          0.5636363636363636,
          0.6494845360824743,
          0.6494845360824743,
          0.57
         ],
         "yaxis": "y"
        },
        {
         "hoverinfo": "all",
         "marker": {
          "color": "rgb(0,116,217)"
         },
         "mode": "lines",
         "text": null,
         "type": "scatter",
         "x": [
          380,
          380,
          436.25,
          436.25
         ],
         "xaxis": "x",
         "y": [
          0.4523809523809524,
          0.7,
          0.7,
          0.6494845360824743
         ],
         "yaxis": "y"
        },
        {
         "hoverinfo": "all",
         "marker": {
          "color": "rgb(255,65,54)"
         },
         "mode": "lines",
         "text": null,
         "type": "scatter",
         "x": [
          505,
          505,
          515,
          515
         ],
         "xaxis": "x",
         "y": [
          0,
          0.40816326530612246,
          0.40816326530612246,
          0
         ],
         "yaxis": "y"
        },
        {
         "hoverinfo": "all",
         "marker": {
          "color": "rgb(35,205,205)"
         },
         "mode": "lines",
         "text": null,
         "type": "scatter",
         "x": [
          535,
          535,
          545,
          545
         ],
         "xaxis": "x",
         "y": [
          0,
          0.2786885245901639,
          0.2786885245901639,
          0
         ],
         "yaxis": "y"
        },
        {
         "hoverinfo": "all",
         "marker": {
          "color": "rgb(35,205,205)"
         },
         "mode": "lines",
         "text": null,
         "type": "scatter",
         "x": [
          525,
          525,
          540,
          540
         ],
         "xaxis": "x",
         "y": [
          0,
          0.32786885245901637,
          0.32786885245901637,
          0.2786885245901639
         ],
         "yaxis": "y"
        },
        {
         "hoverinfo": "all",
         "marker": {
          "color": "rgb(35,205,205)"
         },
         "mode": "lines",
         "text": null,
         "type": "scatter",
         "x": [
          575,
          575,
          585,
          585
         ],
         "xaxis": "x",
         "y": [
          0,
          0.22448979591836735,
          0.22448979591836735,
          0
         ],
         "yaxis": "y"
        },
        {
         "hoverinfo": "all",
         "marker": {
          "color": "rgb(35,205,205)"
         },
         "mode": "lines",
         "text": null,
         "type": "scatter",
         "x": [
          565,
          565,
          580,
          580
         ],
         "xaxis": "x",
         "y": [
          0,
          0.26,
          0.26,
          0.22448979591836735
         ],
         "yaxis": "y"
        },
        {
         "hoverinfo": "all",
         "marker": {
          "color": "rgb(35,205,205)"
         },
         "mode": "lines",
         "text": null,
         "type": "scatter",
         "x": [
          555,
          555,
          572.5,
          572.5
         ],
         "xaxis": "x",
         "y": [
          0,
          0.2830188679245283,
          0.2830188679245283,
          0.26
         ],
         "yaxis": "y"
        },
        {
         "hoverinfo": "all",
         "marker": {
          "color": "rgb(35,205,205)"
         },
         "mode": "lines",
         "text": null,
         "type": "scatter",
         "x": [
          605,
          605,
          615,
          615
         ],
         "xaxis": "x",
         "y": [
          0,
          0.29411764705882354,
          0.29411764705882354,
          0
         ],
         "yaxis": "y"
        },
        {
         "hoverinfo": "all",
         "marker": {
          "color": "rgb(35,205,205)"
         },
         "mode": "lines",
         "text": null,
         "type": "scatter",
         "x": [
          595,
          595,
          610,
          610
         ],
         "xaxis": "x",
         "y": [
          0,
          0.3275862068965517,
          0.3275862068965517,
          0.29411764705882354
         ],
         "yaxis": "y"
        },
        {
         "hoverinfo": "all",
         "marker": {
          "color": "rgb(35,205,205)"
         },
         "mode": "lines",
         "text": null,
         "type": "scatter",
         "x": [
          563.75,
          563.75,
          602.5,
          602.5
         ],
         "xaxis": "x",
         "y": [
          0.2830188679245283,
          0.35714285714285715,
          0.35714285714285715,
          0.3275862068965517
         ],
         "yaxis": "y"
        },
        {
         "hoverinfo": "all",
         "marker": {
          "color": "rgb(35,205,205)"
         },
         "mode": "lines",
         "text": null,
         "type": "scatter",
         "x": [
          532.5,
          532.5,
          583.125,
          583.125
         ],
         "xaxis": "x",
         "y": [
          0.32786885245901637,
          0.4444444444444444,
          0.4444444444444444,
          0.35714285714285715
         ],
         "yaxis": "y"
        },
        {
         "hoverinfo": "all",
         "marker": {
          "color": "rgb(0,116,217)"
         },
         "mode": "lines",
         "text": null,
         "type": "scatter",
         "x": [
          510,
          510,
          557.8125,
          557.8125
         ],
         "xaxis": "x",
         "y": [
          0.40816326530612246,
          0.5,
          0.5,
          0.4444444444444444
         ],
         "yaxis": "y"
        },
        {
         "hoverinfo": "all",
         "marker": {
          "color": "rgb(0,116,217)"
         },
         "mode": "lines",
         "text": null,
         "type": "scatter",
         "x": [
          495,
          495,
          533.90625,
          533.90625
         ],
         "xaxis": "x",
         "y": [
          0,
          0.5571428571428572,
          0.5571428571428572,
          0.5
         ],
         "yaxis": "y"
        },
        {
         "hoverinfo": "all",
         "marker": {
          "color": "rgb(0,116,217)"
         },
         "mode": "lines",
         "text": null,
         "type": "scatter",
         "x": [
          485,
          485,
          514.453125,
          514.453125
         ],
         "xaxis": "x",
         "y": [
          0,
          0.6833333333333333,
          0.6833333333333333,
          0.5571428571428572
         ],
         "yaxis": "y"
        },
        {
         "hoverinfo": "all",
         "marker": {
          "color": "rgb(133,20,75)"
         },
         "mode": "lines",
         "text": null,
         "type": "scatter",
         "x": [
          645,
          645,
          655,
          655
         ],
         "xaxis": "x",
         "y": [
          0,
          0.3125,
          0.3125,
          0
         ],
         "yaxis": "y"
        },
        {
         "hoverinfo": "all",
         "marker": {
          "color": "rgb(133,20,75)"
         },
         "mode": "lines",
         "text": null,
         "type": "scatter",
         "x": [
          635,
          635,
          650,
          650
         ],
         "xaxis": "x",
         "y": [
          0,
          0.43333333333333335,
          0.43333333333333335,
          0.3125
         ],
         "yaxis": "y"
        },
        {
         "hoverinfo": "all",
         "marker": {
          "color": "rgb(0,116,217)"
         },
         "mode": "lines",
         "text": null,
         "type": "scatter",
         "x": [
          625,
          625,
          642.5,
          642.5
         ],
         "xaxis": "x",
         "y": [
          0,
          0.509090909090909,
          0.509090909090909,
          0.43333333333333335
         ],
         "yaxis": "y"
        },
        {
         "hoverinfo": "all",
         "marker": {
          "color": "rgb(255,220,0)"
         },
         "mode": "lines",
         "text": null,
         "type": "scatter",
         "x": [
          695,
          695,
          705,
          705
         ],
         "xaxis": "x",
         "y": [
          0,
          0.19230769230769232,
          0.19230769230769232,
          0
         ],
         "yaxis": "y"
        },
        {
         "hoverinfo": "all",
         "marker": {
          "color": "rgb(255,220,0)"
         },
         "mode": "lines",
         "text": null,
         "type": "scatter",
         "x": [
          685,
          685,
          700,
          700
         ],
         "xaxis": "x",
         "y": [
          0,
          0.21153846153846154,
          0.21153846153846154,
          0.19230769230769232
         ],
         "yaxis": "y"
        },
        {
         "hoverinfo": "all",
         "marker": {
          "color": "rgb(255,220,0)"
         },
         "mode": "lines",
         "text": null,
         "type": "scatter",
         "x": [
          675,
          675,
          692.5,
          692.5
         ],
         "xaxis": "x",
         "y": [
          0,
          0.3,
          0.3,
          0.21153846153846154
         ],
         "yaxis": "y"
        },
        {
         "hoverinfo": "all",
         "marker": {
          "color": "rgb(255,220,0)"
         },
         "mode": "lines",
         "text": null,
         "type": "scatter",
         "x": [
          665,
          665,
          683.75,
          683.75
         ],
         "xaxis": "x",
         "y": [
          0,
          0.47761194029850745,
          0.47761194029850745,
          0.3
         ],
         "yaxis": "y"
        },
        {
         "hoverinfo": "all",
         "marker": {
          "color": "rgb(0,116,217)"
         },
         "mode": "lines",
         "text": null,
         "type": "scatter",
         "x": [
          715,
          715,
          725,
          725
         ],
         "xaxis": "x",
         "y": [
          0,
          0.5510204081632653,
          0.5510204081632653,
          0
         ],
         "yaxis": "y"
        },
        {
         "hoverinfo": "all",
         "marker": {
          "color": "rgb(0,116,217)"
         },
         "mode": "lines",
         "text": null,
         "type": "scatter",
         "x": [
          674.375,
          674.375,
          720,
          720
         ],
         "xaxis": "x",
         "y": [
          0.47761194029850745,
          0.5857142857142857,
          0.5857142857142857,
          0.5510204081632653
         ],
         "yaxis": "y"
        },
        {
         "hoverinfo": "all",
         "marker": {
          "color": "rgb(0,116,217)"
         },
         "mode": "lines",
         "text": null,
         "type": "scatter",
         "x": [
          633.75,
          633.75,
          697.1875,
          697.1875
         ],
         "xaxis": "x",
         "y": [
          0.509090909090909,
          0.7096774193548387,
          0.7096774193548387,
          0.5857142857142857
         ],
         "yaxis": "y"
        },
        {
         "hoverinfo": "all",
         "marker": {
          "color": "rgb(0,116,217)"
         },
         "mode": "lines",
         "text": null,
         "type": "scatter",
         "x": [
          499.7265625,
          499.7265625,
          665.46875,
          665.46875
         ],
         "xaxis": "x",
         "y": [
          0.6833333333333333,
          0.7466666666666667,
          0.7466666666666667,
          0.7096774193548387
         ],
         "yaxis": "y"
        },
        {
         "hoverinfo": "all",
         "marker": {
          "color": "rgb(0,116,217)"
         },
         "mode": "lines",
         "text": null,
         "type": "scatter",
         "x": [
          475,
          475,
          582.59765625,
          582.59765625
         ],
         "xaxis": "x",
         "y": [
          0,
          0.8095238095238095,
          0.8095238095238095,
          0.7466666666666667
         ],
         "yaxis": "y"
        },
        {
         "hoverinfo": "all",
         "marker": {
          "color": "rgb(0,116,217)"
         },
         "mode": "lines",
         "text": null,
         "type": "scatter",
         "x": [
          408.125,
          408.125,
          528.798828125,
          528.798828125
         ],
         "xaxis": "x",
         "y": [
          0.7,
          0.8306451612903226,
          0.8306451612903226,
          0.8095238095238095
         ],
         "yaxis": "y"
        },
        {
         "hoverinfo": "all",
         "marker": {
          "color": "rgb(0,116,217)"
         },
         "mode": "lines",
         "text": null,
         "type": "scatter",
         "x": [
          355,
          355,
          468.4619140625,
          468.4619140625
         ],
         "xaxis": "x",
         "y": [
          0,
          0.875,
          0.875,
          0.8306451612903226
         ],
         "yaxis": "y"
        },
        {
         "hoverinfo": "all",
         "marker": {
          "color": "rgb(0,116,217)"
         },
         "mode": "lines",
         "text": null,
         "type": "scatter",
         "x": [
          247.65625,
          247.65625,
          411.73095703125,
          411.73095703125
         ],
         "xaxis": "x",
         "y": [
          0.8421052631578947,
          0.9,
          0.9,
          0.875
         ],
         "yaxis": "y"
        },
        {
         "hoverinfo": "all",
         "marker": {
          "color": "rgb(0,116,217)"
         },
         "mode": "lines",
         "text": null,
         "type": "scatter",
         "x": [
          183.75,
          183.75,
          329.693603515625,
          329.693603515625
         ],
         "xaxis": "x",
         "y": [
          0.5974025974025974,
          0.9431818181818182,
          0.9431818181818182,
          0.9
         ],
         "yaxis": "y"
        },
        {
         "hoverinfo": "all",
         "marker": {
          "color": "rgb(0,116,217)"
         },
         "mode": "lines",
         "text": null,
         "type": "scatter",
         "x": [
          775,
          775,
          785,
          785
         ],
         "xaxis": "x",
         "y": [
          0,
          0.5857142857142857,
          0.5857142857142857,
          0
         ],
         "yaxis": "y"
        },
        {
         "hoverinfo": "all",
         "marker": {
          "color": "rgb(0,116,217)"
         },
         "mode": "lines",
         "text": null,
         "type": "scatter",
         "x": [
          765,
          765,
          780,
          780
         ],
         "xaxis": "x",
         "y": [
          0,
          0.6086956521739131,
          0.6086956521739131,
          0.5857142857142857
         ],
         "yaxis": "y"
        },
        {
         "hoverinfo": "all",
         "marker": {
          "color": "rgb(0,116,217)"
         },
         "mode": "lines",
         "text": null,
         "type": "scatter",
         "x": [
          755,
          755,
          772.5,
          772.5
         ],
         "xaxis": "x",
         "y": [
          0,
          0.7,
          0.7,
          0.6086956521739131
         ],
         "yaxis": "y"
        },
        {
         "hoverinfo": "all",
         "marker": {
          "color": "rgb(0,116,217)"
         },
         "mode": "lines",
         "text": null,
         "type": "scatter",
         "x": [
          745,
          745,
          763.75,
          763.75
         ],
         "xaxis": "x",
         "y": [
          0,
          0.7586206896551724,
          0.7586206896551724,
          0.7
         ],
         "yaxis": "y"
        },
        {
         "hoverinfo": "all",
         "marker": {
          "color": "rgb(0,116,217)"
         },
         "mode": "lines",
         "text": null,
         "type": "scatter",
         "x": [
          735,
          735,
          754.375,
          754.375
         ],
         "xaxis": "x",
         "y": [
          0,
          0.7792207792207793,
          0.7792207792207793,
          0.7586206896551724
         ],
         "yaxis": "y"
        },
        {
         "hoverinfo": "all",
         "marker": {
          "color": "rgb(40,35,35)"
         },
         "mode": "lines",
         "text": null,
         "type": "scatter",
         "x": [
          825,
          825,
          835,
          835
         ],
         "xaxis": "x",
         "y": [
          0,
          0.46875,
          0.46875,
          0
         ],
         "yaxis": "y"
        },
        {
         "hoverinfo": "all",
         "marker": {
          "color": "rgb(0,116,217)"
         },
         "mode": "lines",
         "text": null,
         "type": "scatter",
         "x": [
          815,
          815,
          830,
          830
         ],
         "xaxis": "x",
         "y": [
          0,
          0.6288659793814433,
          0.6288659793814433,
          0.46875
         ],
         "yaxis": "y"
        },
        {
         "hoverinfo": "all",
         "marker": {
          "color": "rgb(0,116,217)"
         },
         "mode": "lines",
         "text": null,
         "type": "scatter",
         "x": [
          805,
          805,
          822.5,
          822.5
         ],
         "xaxis": "x",
         "y": [
          0,
          0.7510729613733905,
          0.7510729613733905,
          0.6288659793814433
         ],
         "yaxis": "y"
        },
        {
         "hoverinfo": "all",
         "marker": {
          "color": "rgb(0,116,217)"
         },
         "mode": "lines",
         "text": null,
         "type": "scatter",
         "x": [
          865,
          865,
          875,
          875
         ],
         "xaxis": "x",
         "y": [
          0,
          0.5280898876404494,
          0.5280898876404494,
          0
         ],
         "yaxis": "y"
        },
        {
         "hoverinfo": "all",
         "marker": {
          "color": "rgb(0,116,217)"
         },
         "mode": "lines",
         "text": null,
         "type": "scatter",
         "x": [
          855,
          855,
          870,
          870
         ],
         "xaxis": "x",
         "y": [
          0,
          0.6049382716049383,
          0.6049382716049383,
          0.5280898876404494
         ],
         "yaxis": "y"
        },
        {
         "hoverinfo": "all",
         "marker": {
          "color": "rgb(0,116,217)"
         },
         "mode": "lines",
         "text": null,
         "type": "scatter",
         "x": [
          845,
          845,
          862.5,
          862.5
         ],
         "xaxis": "x",
         "y": [
          0,
          0.734375,
          0.734375,
          0.6049382716049383
         ],
         "yaxis": "y"
        },
        {
         "hoverinfo": "all",
         "marker": {
          "color": "rgb(0,116,217)"
         },
         "mode": "lines",
         "text": null,
         "type": "scatter",
         "x": [
          885,
          885,
          895,
          895
         ],
         "xaxis": "x",
         "y": [
          0,
          0.5471698113207547,
          0.5471698113207547,
          0
         ],
         "yaxis": "y"
        },
        {
         "hoverinfo": "all",
         "marker": {
          "color": "rgb(0,116,217)"
         },
         "mode": "lines",
         "text": null,
         "type": "scatter",
         "x": [
          915,
          915,
          925,
          925
         ],
         "xaxis": "x",
         "y": [
          0,
          0.6206896551724138,
          0.6206896551724138,
          0
         ],
         "yaxis": "y"
        },
        {
         "hoverinfo": "all",
         "marker": {
          "color": "rgb(0,116,217)"
         },
         "mode": "lines",
         "text": null,
         "type": "scatter",
         "x": [
          905,
          905,
          920,
          920
         ],
         "xaxis": "x",
         "y": [
          0,
          0.6590909090909091,
          0.6590909090909091,
          0.6206896551724138
         ],
         "yaxis": "y"
        },
        {
         "hoverinfo": "all",
         "marker": {
          "color": "rgb(0,116,217)"
         },
         "mode": "lines",
         "text": null,
         "type": "scatter",
         "x": [
          890,
          890,
          912.5,
          912.5
         ],
         "xaxis": "x",
         "y": [
          0.5471698113207547,
          0.7407407407407407,
          0.7407407407407407,
          0.6590909090909091
         ],
         "yaxis": "y"
        },
        {
         "hoverinfo": "all",
         "marker": {
          "color": "rgb(0,116,217)"
         },
         "mode": "lines",
         "text": null,
         "type": "scatter",
         "x": [
          853.75,
          853.75,
          901.25,
          901.25
         ],
         "xaxis": "x",
         "y": [
          0.734375,
          0.7899159663865546,
          0.7899159663865546,
          0.7407407407407407
         ],
         "yaxis": "y"
        },
        {
         "hoverinfo": "all",
         "marker": {
          "color": "rgb(0,116,217)"
         },
         "mode": "lines",
         "text": null,
         "type": "scatter",
         "x": [
          813.75,
          813.75,
          877.5,
          877.5
         ],
         "xaxis": "x",
         "y": [
          0.7510729613733905,
          0.8695652173913043,
          0.8695652173913043,
          0.7899159663865546
         ],
         "yaxis": "y"
        },
        {
         "hoverinfo": "all",
         "marker": {
          "color": "rgb(0,116,217)"
         },
         "mode": "lines",
         "text": null,
         "type": "scatter",
         "x": [
          795,
          795,
          845.625,
          845.625
         ],
         "xaxis": "x",
         "y": [
          0,
          0.94,
          0.94,
          0.8695652173913043
         ],
         "yaxis": "y"
        },
        {
         "hoverinfo": "all",
         "marker": {
          "color": "rgb(0,116,217)"
         },
         "mode": "lines",
         "text": null,
         "type": "scatter",
         "x": [
          744.6875,
          744.6875,
          820.3125,
          820.3125
         ],
         "xaxis": "x",
         "y": [
          0.7792207792207793,
          0.9702970297029703,
          0.9702970297029703,
          0.94
         ],
         "yaxis": "y"
        },
        {
         "hoverinfo": "all",
         "marker": {
          "color": "rgb(0,116,217)"
         },
         "mode": "lines",
         "text": null,
         "type": "scatter",
         "x": [
          256.7218017578125,
          256.7218017578125,
          782.5,
          782.5
         ],
         "xaxis": "x",
         "y": [
          0.9431818181818182,
          0.9829059829059829,
          0.9829059829059829,
          0.9702970297029703
         ],
         "yaxis": "y"
        },
        {
         "hoverinfo": "all",
         "marker": {
          "color": "rgb(61,153,112)"
         },
         "mode": "lines",
         "text": null,
         "type": "scatter",
         "x": [
          955,
          955,
          965,
          965
         ],
         "xaxis": "x",
         "y": [
          0,
          0.4696969696969697,
          0.4696969696969697,
          0
         ],
         "yaxis": "y"
        },
        {
         "hoverinfo": "all",
         "marker": {
          "color": "rgb(0,116,217)"
         },
         "mode": "lines",
         "text": null,
         "type": "scatter",
         "x": [
          945,
          945,
          960,
          960
         ],
         "xaxis": "x",
         "y": [
          0,
          0.7362637362637363,
          0.7362637362637363,
          0.4696969696969697
         ],
         "yaxis": "y"
        },
        {
         "hoverinfo": "all",
         "marker": {
          "color": "rgb(255,65,54)"
         },
         "mode": "lines",
         "text": null,
         "type": "scatter",
         "x": [
          975,
          975,
          985,
          985
         ],
         "xaxis": "x",
         "y": [
          0,
          0.35294117647058826,
          0.35294117647058826,
          0
         ],
         "yaxis": "y"
        },
        {
         "hoverinfo": "all",
         "marker": {
          "color": "rgb(0,116,217)"
         },
         "mode": "lines",
         "text": null,
         "type": "scatter",
         "x": [
          1005,
          1005,
          1015,
          1015
         ],
         "xaxis": "x",
         "y": [
          0,
          0.75,
          0.75,
          0
         ],
         "yaxis": "y"
        },
        {
         "hoverinfo": "all",
         "marker": {
          "color": "rgb(0,116,217)"
         },
         "mode": "lines",
         "text": null,
         "type": "scatter",
         "x": [
          995,
          995,
          1010,
          1010
         ],
         "xaxis": "x",
         "y": [
          0,
          0.7619047619047619,
          0.7619047619047619,
          0.75
         ],
         "yaxis": "y"
        },
        {
         "hoverinfo": "all",
         "marker": {
          "color": "rgb(0,116,217)"
         },
         "mode": "lines",
         "text": null,
         "type": "scatter",
         "x": [
          980,
          980,
          1002.5,
          1002.5
         ],
         "xaxis": "x",
         "y": [
          0.35294117647058826,
          0.868421052631579,
          0.868421052631579,
          0.7619047619047619
         ],
         "yaxis": "y"
        },
        {
         "hoverinfo": "all",
         "marker": {
          "color": "rgb(0,116,217)"
         },
         "mode": "lines",
         "text": null,
         "type": "scatter",
         "x": [
          952.5,
          952.5,
          991.25,
          991.25
         ],
         "xaxis": "x",
         "y": [
          0.7362637362637363,
          0.9142857142857143,
          0.9142857142857143,
          0.868421052631579
         ],
         "yaxis": "y"
        },
        {
         "hoverinfo": "all",
         "marker": {
          "color": "rgb(0,116,217)"
         },
         "mode": "lines",
         "text": null,
         "type": "scatter",
         "x": [
          935,
          935,
          971.875,
          971.875
         ],
         "xaxis": "x",
         "y": [
          0,
          0.9615384615384616,
          0.9615384615384616,
          0.9142857142857143
         ],
         "yaxis": "y"
        },
        {
         "hoverinfo": "all",
         "marker": {
          "color": "rgb(35,205,205)"
         },
         "mode": "lines",
         "text": null,
         "type": "scatter",
         "x": [
          1025,
          1025,
          1035,
          1035
         ],
         "xaxis": "x",
         "y": [
          0,
          0.42424242424242425,
          0.42424242424242425,
          0
         ],
         "yaxis": "y"
        },
        {
         "hoverinfo": "all",
         "marker": {
          "color": "rgb(133,20,75)"
         },
         "mode": "lines",
         "text": null,
         "type": "scatter",
         "x": [
          1055,
          1055,
          1065,
          1065
         ],
         "xaxis": "x",
         "y": [
          0,
          0.4375,
          0.4375,
          0
         ],
         "yaxis": "y"
        },
        {
         "hoverinfo": "all",
         "marker": {
          "color": "rgb(0,116,217)"
         },
         "mode": "lines",
         "text": null,
         "type": "scatter",
         "x": [
          1045,
          1045,
          1060,
          1060
         ],
         "xaxis": "x",
         "y": [
          0,
          0.631578947368421,
          0.631578947368421,
          0.4375
         ],
         "yaxis": "y"
        },
        {
         "hoverinfo": "all",
         "marker": {
          "color": "rgb(255,220,0)"
         },
         "mode": "lines",
         "text": null,
         "type": "scatter",
         "x": [
          1095,
          1095,
          1105,
          1105
         ],
         "xaxis": "x",
         "y": [
          0,
          0.38461538461538464,
          0.38461538461538464,
          0
         ],
         "yaxis": "y"
        },
        {
         "hoverinfo": "all",
         "marker": {
          "color": "rgb(0,116,217)"
         },
         "mode": "lines",
         "text": null,
         "type": "scatter",
         "x": [
          1085,
          1085,
          1100,
          1100
         ],
         "xaxis": "x",
         "y": [
          0,
          0.5,
          0.5,
          0.38461538461538464
         ],
         "yaxis": "y"
        },
        {
         "hoverinfo": "all",
         "marker": {
          "color": "rgb(0,116,217)"
         },
         "mode": "lines",
         "text": null,
         "type": "scatter",
         "x": [
          1075,
          1075,
          1092.5,
          1092.5
         ],
         "xaxis": "x",
         "y": [
          0,
          0.6111111111111112,
          0.6111111111111112,
          0.5
         ],
         "yaxis": "y"
        },
        {
         "hoverinfo": "all",
         "marker": {
          "color": "rgb(0,116,217)"
         },
         "mode": "lines",
         "text": null,
         "type": "scatter",
         "x": [
          1115,
          1115,
          1125,
          1125
         ],
         "xaxis": "x",
         "y": [
          0,
          0.717948717948718,
          0.717948717948718,
          0
         ],
         "yaxis": "y"
        },
        {
         "hoverinfo": "all",
         "marker": {
          "color": "rgb(0,116,217)"
         },
         "mode": "lines",
         "text": null,
         "type": "scatter",
         "x": [
          1083.75,
          1083.75,
          1120,
          1120
         ],
         "xaxis": "x",
         "y": [
          0.6111111111111112,
          0.7307692307692307,
          0.7307692307692307,
          0.717948717948718
         ],
         "yaxis": "y"
        },
        {
         "hoverinfo": "all",
         "marker": {
          "color": "rgb(0,116,217)"
         },
         "mode": "lines",
         "text": null,
         "type": "scatter",
         "x": [
          1052.5,
          1052.5,
          1101.875,
          1101.875
         ],
         "xaxis": "x",
         "y": [
          0.631578947368421,
          0.8387096774193549,
          0.8387096774193549,
          0.7307692307692307
         ],
         "yaxis": "y"
        },
        {
         "hoverinfo": "all",
         "marker": {
          "color": "rgb(0,116,217)"
         },
         "mode": "lines",
         "text": null,
         "type": "scatter",
         "x": [
          1030,
          1030,
          1077.1875,
          1077.1875
         ],
         "xaxis": "x",
         "y": [
          0.42424242424242425,
          0.9814814814814815,
          0.9814814814814815,
          0.8387096774193549
         ],
         "yaxis": "y"
        },
        {
         "hoverinfo": "all",
         "marker": {
          "color": "rgb(40,35,35)"
         },
         "mode": "lines",
         "text": null,
         "type": "scatter",
         "x": [
          1135,
          1135,
          1145,
          1145
         ],
         "xaxis": "x",
         "y": [
          0,
          0.46938775510204084,
          0.46938775510204084,
          0
         ],
         "yaxis": "y"
        },
        {
         "hoverinfo": "all",
         "marker": {
          "color": "rgb(61,153,112)"
         },
         "mode": "lines",
         "text": null,
         "type": "scatter",
         "x": [
          1175,
          1175,
          1185,
          1185
         ],
         "xaxis": "x",
         "y": [
          0,
          0.4578313253012048,
          0.4578313253012048,
          0
         ],
         "yaxis": "y"
        },
        {
         "hoverinfo": "all",
         "marker": {
          "color": "rgb(61,153,112)"
         },
         "mode": "lines",
         "text": null,
         "type": "scatter",
         "x": [
          1165,
          1165,
          1180,
          1180
         ],
         "xaxis": "x",
         "y": [
          0,
          0.47560975609756095,
          0.47560975609756095,
          0.4578313253012048
         ],
         "yaxis": "y"
        },
        {
         "hoverinfo": "all",
         "marker": {
          "color": "rgb(0,116,217)"
         },
         "mode": "lines",
         "text": null,
         "type": "scatter",
         "x": [
          1155,
          1155,
          1172.5,
          1172.5
         ],
         "xaxis": "x",
         "y": [
          0,
          0.6136363636363636,
          0.6136363636363636,
          0.47560975609756095
         ],
         "yaxis": "y"
        },
        {
         "hoverinfo": "all",
         "marker": {
          "color": "rgb(0,116,217)"
         },
         "mode": "lines",
         "text": null,
         "type": "scatter",
         "x": [
          1140,
          1140,
          1163.75,
          1163.75
         ],
         "xaxis": "x",
         "y": [
          0.46938775510204084,
          0.8840579710144928,
          0.8840579710144928,
          0.6136363636363636
         ],
         "yaxis": "y"
        },
        {
         "hoverinfo": "all",
         "marker": {
          "color": "rgb(0,116,217)"
         },
         "mode": "lines",
         "text": null,
         "type": "scatter",
         "x": [
          1205,
          1205,
          1215,
          1215
         ],
         "xaxis": "x",
         "y": [
          0,
          0.6129032258064516,
          0.6129032258064516,
          0
         ],
         "yaxis": "y"
        },
        {
         "hoverinfo": "all",
         "marker": {
          "color": "rgb(0,116,217)"
         },
         "mode": "lines",
         "text": null,
         "type": "scatter",
         "x": [
          1195,
          1195,
          1210,
          1210
         ],
         "xaxis": "x",
         "y": [
          0,
          0.9024390243902439,
          0.9024390243902439,
          0.6129032258064516
         ],
         "yaxis": "y"
        },
        {
         "hoverinfo": "all",
         "marker": {
          "color": "rgb(0,116,217)"
         },
         "mode": "lines",
         "text": null,
         "type": "scatter",
         "x": [
          1225,
          1225,
          1235,
          1235
         ],
         "xaxis": "x",
         "y": [
          0,
          0.8461538461538461,
          0.8461538461538461,
          0
         ],
         "yaxis": "y"
        },
        {
         "hoverinfo": "all",
         "marker": {
          "color": "rgb(0,116,217)"
         },
         "mode": "lines",
         "text": null,
         "type": "scatter",
         "x": [
          1245,
          1245,
          1255,
          1255
         ],
         "xaxis": "x",
         "y": [
          0,
          0.6363636363636364,
          0.6363636363636364,
          0
         ],
         "yaxis": "y"
        },
        {
         "hoverinfo": "all",
         "marker": {
          "color": "rgb(0,116,217)"
         },
         "mode": "lines",
         "text": null,
         "type": "scatter",
         "x": [
          1265,
          1265,
          1275,
          1275
         ],
         "xaxis": "x",
         "y": [
          0,
          0.6,
          0.6,
          0
         ],
         "yaxis": "y"
        },
        {
         "hoverinfo": "all",
         "marker": {
          "color": "rgb(0,116,217)"
         },
         "mode": "lines",
         "text": null,
         "type": "scatter",
         "x": [
          1285,
          1285,
          1295,
          1295
         ],
         "xaxis": "x",
         "y": [
          0,
          0.6363636363636364,
          0.6363636363636364,
          0
         ],
         "yaxis": "y"
        },
        {
         "hoverinfo": "all",
         "marker": {
          "color": "rgb(0,116,217)"
         },
         "mode": "lines",
         "text": null,
         "type": "scatter",
         "x": [
          1270,
          1270,
          1290,
          1290
         ],
         "xaxis": "x",
         "y": [
          0.6,
          0.8064516129032258,
          0.8064516129032258,
          0.6363636363636364
         ],
         "yaxis": "y"
        },
        {
         "hoverinfo": "all",
         "marker": {
          "color": "rgb(255,65,54)"
         },
         "mode": "lines",
         "text": null,
         "type": "scatter",
         "x": [
          1305,
          1305,
          1315,
          1315
         ],
         "xaxis": "x",
         "y": [
          0,
          0.30158730158730157,
          0.30158730158730157,
          0
         ],
         "yaxis": "y"
        },
        {
         "hoverinfo": "all",
         "marker": {
          "color": "rgb(35,205,205)"
         },
         "mode": "lines",
         "text": null,
         "type": "scatter",
         "x": [
          1325,
          1325,
          1335,
          1335
         ],
         "xaxis": "x",
         "y": [
          0,
          0.35135135135135137,
          0.35135135135135137,
          0
         ],
         "yaxis": "y"
        },
        {
         "hoverinfo": "all",
         "marker": {
          "color": "rgb(0,116,217)"
         },
         "mode": "lines",
         "text": null,
         "type": "scatter",
         "x": [
          1310,
          1310,
          1330,
          1330
         ],
         "xaxis": "x",
         "y": [
          0.30158730158730157,
          0.5573770491803278,
          0.5573770491803278,
          0.35135135135135137
         ],
         "yaxis": "y"
        },
        {
         "hoverinfo": "all",
         "marker": {
          "color": "rgb(0,116,217)"
         },
         "mode": "lines",
         "text": null,
         "type": "scatter",
         "x": [
          1365,
          1365,
          1375,
          1375
         ],
         "xaxis": "x",
         "y": [
          0,
          0.59375,
          0.59375,
          0
         ],
         "yaxis": "y"
        },
        {
         "hoverinfo": "all",
         "marker": {
          "color": "rgb(0,116,217)"
         },
         "mode": "lines",
         "text": null,
         "type": "scatter",
         "x": [
          1355,
          1355,
          1370,
          1370
         ],
         "xaxis": "x",
         "y": [
          0,
          0.6428571428571429,
          0.6428571428571429,
          0.59375
         ],
         "yaxis": "y"
        },
        {
         "hoverinfo": "all",
         "marker": {
          "color": "rgb(0,116,217)"
         },
         "mode": "lines",
         "text": null,
         "type": "scatter",
         "x": [
          1345,
          1345,
          1362.5,
          1362.5
         ],
         "xaxis": "x",
         "y": [
          0,
          0.7692307692307693,
          0.7692307692307693,
          0.6428571428571429
         ],
         "yaxis": "y"
        },
        {
         "hoverinfo": "all",
         "marker": {
          "color": "rgb(0,116,217)"
         },
         "mode": "lines",
         "text": null,
         "type": "scatter",
         "x": [
          1320,
          1320,
          1353.75,
          1353.75
         ],
         "xaxis": "x",
         "y": [
          0.5573770491803278,
          0.8552631578947368,
          0.8552631578947368,
          0.7692307692307693
         ],
         "yaxis": "y"
        },
        {
         "hoverinfo": "all",
         "marker": {
          "color": "rgb(0,116,217)"
         },
         "mode": "lines",
         "text": null,
         "type": "scatter",
         "x": [
          1280,
          1280,
          1336.875,
          1336.875
         ],
         "xaxis": "x",
         "y": [
          0.8064516129032258,
          0.9761904761904762,
          0.9761904761904762,
          0.8552631578947368
         ],
         "yaxis": "y"
        },
        {
         "hoverinfo": "all",
         "marker": {
          "color": "rgb(133,20,75)"
         },
         "mode": "lines",
         "text": null,
         "type": "scatter",
         "x": [
          1385,
          1385,
          1395,
          1395
         ],
         "xaxis": "x",
         "y": [
          0,
          0.3333333333333333,
          0.3333333333333333,
          0
         ],
         "yaxis": "y"
        },
        {
         "hoverinfo": "all",
         "marker": {
          "color": "rgb(133,20,75)"
         },
         "mode": "lines",
         "text": null,
         "type": "scatter",
         "x": [
          1415,
          1415,
          1425,
          1425
         ],
         "xaxis": "x",
         "y": [
          0,
          0.2608695652173913,
          0.2608695652173913,
          0
         ],
         "yaxis": "y"
        },
        {
         "hoverinfo": "all",
         "marker": {
          "color": "rgb(133,20,75)"
         },
         "mode": "lines",
         "text": null,
         "type": "scatter",
         "x": [
          1405,
          1405,
          1420,
          1420
         ],
         "xaxis": "x",
         "y": [
          0,
          0.4,
          0.4,
          0.2608695652173913
         ],
         "yaxis": "y"
        },
        {
         "hoverinfo": "all",
         "marker": {
          "color": "rgb(133,20,75)"
         },
         "mode": "lines",
         "text": null,
         "type": "scatter",
         "x": [
          1390,
          1390,
          1412.5,
          1412.5
         ],
         "xaxis": "x",
         "y": [
          0.3333333333333333,
          0.4666666666666667,
          0.4666666666666667,
          0.4
         ],
         "yaxis": "y"
        },
        {
         "hoverinfo": "all",
         "marker": {
          "color": "rgb(0,116,217)"
         },
         "mode": "lines",
         "text": null,
         "type": "scatter",
         "x": [
          1445,
          1445,
          1455,
          1455
         ],
         "xaxis": "x",
         "y": [
          0,
          0.5,
          0.5,
          0
         ],
         "yaxis": "y"
        },
        {
         "hoverinfo": "all",
         "marker": {
          "color": "rgb(0,116,217)"
         },
         "mode": "lines",
         "text": null,
         "type": "scatter",
         "x": [
          1435,
          1435,
          1450,
          1450
         ],
         "xaxis": "x",
         "y": [
          0,
          0.875,
          0.875,
          0.5
         ],
         "yaxis": "y"
        },
        {
         "hoverinfo": "all",
         "marker": {
          "color": "rgb(0,116,217)"
         },
         "mode": "lines",
         "text": null,
         "type": "scatter",
         "x": [
          1401.25,
          1401.25,
          1442.5,
          1442.5
         ],
         "xaxis": "x",
         "y": [
          0.4666666666666667,
          0.9230769230769231,
          0.9230769230769231,
          0.875
         ],
         "yaxis": "y"
        },
        {
         "hoverinfo": "all",
         "marker": {
          "color": "rgb(0,116,217)"
         },
         "mode": "lines",
         "text": null,
         "type": "scatter",
         "x": [
          1475,
          1475,
          1485,
          1485
         ],
         "xaxis": "x",
         "y": [
          0,
          0.9285714285714286,
          0.9285714285714286,
          0
         ],
         "yaxis": "y"
        },
        {
         "hoverinfo": "all",
         "marker": {
          "color": "rgb(255,220,0)"
         },
         "mode": "lines",
         "text": null,
         "type": "scatter",
         "x": [
          1515,
          1515,
          1525,
          1525
         ],
         "xaxis": "x",
         "y": [
          0,
          0.39473684210526316,
          0.39473684210526316,
          0
         ],
         "yaxis": "y"
        },
        {
         "hoverinfo": "all",
         "marker": {
          "color": "rgb(0,116,217)"
         },
         "mode": "lines",
         "text": null,
         "type": "scatter",
         "x": [
          1505,
          1505,
          1520,
          1520
         ],
         "xaxis": "x",
         "y": [
          0,
          0.7045454545454546,
          0.7045454545454546,
          0.39473684210526316
         ],
         "yaxis": "y"
        },
        {
         "hoverinfo": "all",
         "marker": {
          "color": "rgb(0,116,217)"
         },
         "mode": "lines",
         "text": null,
         "type": "scatter",
         "x": [
          1495,
          1495,
          1512.5,
          1512.5
         ],
         "xaxis": "x",
         "y": [
          0,
          0.8157894736842105,
          0.8157894736842105,
          0.7045454545454546
         ],
         "yaxis": "y"
        },
        {
         "hoverinfo": "all",
         "marker": {
          "color": "rgb(0,116,217)"
         },
         "mode": "lines",
         "text": null,
         "type": "scatter",
         "x": [
          1535,
          1535,
          1545,
          1545
         ],
         "xaxis": "x",
         "y": [
          0,
          0.696969696969697,
          0.696969696969697,
          0
         ],
         "yaxis": "y"
        },
        {
         "hoverinfo": "all",
         "marker": {
          "color": "rgb(0,116,217)"
         },
         "mode": "lines",
         "text": null,
         "type": "scatter",
         "x": [
          1565,
          1565,
          1575,
          1575
         ],
         "xaxis": "x",
         "y": [
          0,
          0.5833333333333334,
          0.5833333333333334,
          0
         ],
         "yaxis": "y"
        },
        {
         "hoverinfo": "all",
         "marker": {
          "color": "rgb(0,116,217)"
         },
         "mode": "lines",
         "text": null,
         "type": "scatter",
         "x": [
          1555,
          1555,
          1570,
          1570
         ],
         "xaxis": "x",
         "y": [
          0,
          0.7857142857142857,
          0.7857142857142857,
          0.5833333333333334
         ],
         "yaxis": "y"
        },
        {
         "hoverinfo": "all",
         "marker": {
          "color": "rgb(0,116,217)"
         },
         "mode": "lines",
         "text": null,
         "type": "scatter",
         "x": [
          1540,
          1540,
          1562.5,
          1562.5
         ],
         "xaxis": "x",
         "y": [
          0.696969696969697,
          0.967741935483871,
          0.967741935483871,
          0.7857142857142857
         ],
         "yaxis": "y"
        },
        {
         "hoverinfo": "all",
         "marker": {
          "color": "rgb(0,116,217)"
         },
         "mode": "lines",
         "text": null,
         "type": "scatter",
         "x": [
          1503.75,
          1503.75,
          1551.25,
          1551.25
         ],
         "xaxis": "x",
         "y": [
          0.8157894736842105,
          0.9821428571428571,
          0.9821428571428571,
          0.967741935483871
         ],
         "yaxis": "y"
        },
        {
         "hoverinfo": "all",
         "marker": {
          "color": "rgb(40,35,35)"
         },
         "mode": "lines",
         "text": null,
         "type": "scatter",
         "x": [
          1585,
          1585,
          1595,
          1595
         ],
         "xaxis": "x",
         "y": [
          0,
          0.4375,
          0.4375,
          0
         ],
         "yaxis": "y"
        },
        {
         "hoverinfo": "all",
         "marker": {
          "color": "rgb(61,153,112)"
         },
         "mode": "lines",
         "text": null,
         "type": "scatter",
         "x": [
          1615,
          1615,
          1625,
          1625
         ],
         "xaxis": "x",
         "y": [
          0,
          0.2631578947368421,
          0.2631578947368421,
          0
         ],
         "yaxis": "y"
        },
        {
         "hoverinfo": "all",
         "marker": {
          "color": "rgb(0,116,217)"
         },
         "mode": "lines",
         "text": null,
         "type": "scatter",
         "x": [
          1605,
          1605,
          1620,
          1620
         ],
         "xaxis": "x",
         "y": [
          0,
          0.875,
          0.875,
          0.2631578947368421
         ],
         "yaxis": "y"
        },
        {
         "hoverinfo": "all",
         "marker": {
          "color": "rgb(0,116,217)"
         },
         "mode": "lines",
         "text": null,
         "type": "scatter",
         "x": [
          1590,
          1590,
          1612.5,
          1612.5
         ],
         "xaxis": "x",
         "y": [
          0.4375,
          0.9333333333333333,
          0.9333333333333333,
          0.875
         ],
         "yaxis": "y"
        },
        {
         "hoverinfo": "all",
         "marker": {
          "color": "rgb(255,65,54)"
         },
         "mode": "lines",
         "text": null,
         "type": "scatter",
         "x": [
          1655,
          1655,
          1665,
          1665
         ],
         "xaxis": "x",
         "y": [
          0,
          0.4166666666666667,
          0.4166666666666667,
          0
         ],
         "yaxis": "y"
        },
        {
         "hoverinfo": "all",
         "marker": {
          "color": "rgb(0,116,217)"
         },
         "mode": "lines",
         "text": null,
         "type": "scatter",
         "x": [
          1645,
          1645,
          1660,
          1660
         ],
         "xaxis": "x",
         "y": [
          0,
          0.625,
          0.625,
          0.4166666666666667
         ],
         "yaxis": "y"
        },
        {
         "hoverinfo": "all",
         "marker": {
          "color": "rgb(0,116,217)"
         },
         "mode": "lines",
         "text": null,
         "type": "scatter",
         "x": [
          1635,
          1635,
          1652.5,
          1652.5
         ],
         "xaxis": "x",
         "y": [
          0,
          0.8717948717948718,
          0.8717948717948718,
          0.625
         ],
         "yaxis": "y"
        },
        {
         "hoverinfo": "all",
         "marker": {
          "color": "rgb(0,116,217)"
         },
         "mode": "lines",
         "text": null,
         "type": "scatter",
         "x": [
          1685,
          1685,
          1695,
          1695
         ],
         "xaxis": "x",
         "y": [
          0,
          0.6031746031746031,
          0.6031746031746031,
          0
         ],
         "yaxis": "y"
        },
        {
         "hoverinfo": "all",
         "marker": {
          "color": "rgb(0,116,217)"
         },
         "mode": "lines",
         "text": null,
         "type": "scatter",
         "x": [
          1675,
          1675,
          1690,
          1690
         ],
         "xaxis": "x",
         "y": [
          0,
          0.782608695652174,
          0.782608695652174,
          0.6031746031746031
         ],
         "yaxis": "y"
        },
        {
         "hoverinfo": "all",
         "marker": {
          "color": "rgb(0,116,217)"
         },
         "mode": "lines",
         "text": null,
         "type": "scatter",
         "x": [
          1705,
          1705,
          1715,
          1715
         ],
         "xaxis": "x",
         "y": [
          0,
          0.8292682926829268,
          0.8292682926829268,
          0
         ],
         "yaxis": "y"
        },
        {
         "hoverinfo": "all",
         "marker": {
          "color": "rgb(0,116,217)"
         },
         "mode": "lines",
         "text": null,
         "type": "scatter",
         "x": [
          1682.5,
          1682.5,
          1710,
          1710
         ],
         "xaxis": "x",
         "y": [
          0.782608695652174,
          0.9230769230769231,
          0.9230769230769231,
          0.8292682926829268
         ],
         "yaxis": "y"
        },
        {
         "hoverinfo": "all",
         "marker": {
          "color": "rgb(0,116,217)"
         },
         "mode": "lines",
         "text": null,
         "type": "scatter",
         "x": [
          1643.75,
          1643.75,
          1696.25,
          1696.25
         ],
         "xaxis": "x",
         "y": [
          0.8717948717948718,
          0.9285714285714286,
          0.9285714285714286,
          0.9230769230769231
         ],
         "yaxis": "y"
        },
        {
         "hoverinfo": "all",
         "marker": {
          "color": "rgb(0,116,217)"
         },
         "mode": "lines",
         "text": null,
         "type": "scatter",
         "x": [
          1735,
          1735,
          1745,
          1745
         ],
         "xaxis": "x",
         "y": [
          0,
          0.8936170212765957,
          0.8936170212765957,
          0
         ],
         "yaxis": "y"
        },
        {
         "hoverinfo": "all",
         "marker": {
          "color": "rgb(0,116,217)"
         },
         "mode": "lines",
         "text": null,
         "type": "scatter",
         "x": [
          1725,
          1725,
          1740,
          1740
         ],
         "xaxis": "x",
         "y": [
          0,
          0.9508196721311475,
          0.9508196721311475,
          0.8936170212765957
         ],
         "yaxis": "y"
        },
        {
         "hoverinfo": "all",
         "marker": {
          "color": "rgb(0,116,217)"
         },
         "mode": "lines",
         "text": null,
         "type": "scatter",
         "x": [
          1670,
          1670,
          1732.5,
          1732.5
         ],
         "xaxis": "x",
         "y": [
          0.9285714285714286,
          0.9882352941176471,
          0.9882352941176471,
          0.9508196721311475
         ],
         "yaxis": "y"
        },
        {
         "hoverinfo": "all",
         "marker": {
          "color": "rgb(35,205,205)"
         },
         "mode": "lines",
         "text": null,
         "type": "scatter",
         "x": [
          1755,
          1755,
          1765,
          1765
         ],
         "xaxis": "x",
         "y": [
          0,
          0.4,
          0.4,
          0
         ],
         "yaxis": "y"
        },
        {
         "hoverinfo": "all",
         "marker": {
          "color": "rgb(133,20,75)"
         },
         "mode": "lines",
         "text": null,
         "type": "scatter",
         "x": [
          1785,
          1785,
          1795,
          1795
         ],
         "xaxis": "x",
         "y": [
          0,
          0.2857142857142857,
          0.2857142857142857,
          0
         ],
         "yaxis": "y"
        },
        {
         "hoverinfo": "all",
         "marker": {
          "color": "rgb(133,20,75)"
         },
         "mode": "lines",
         "text": null,
         "type": "scatter",
         "x": [
          1775,
          1775,
          1790,
          1790
         ],
         "xaxis": "x",
         "y": [
          0,
          0.391304347826087,
          0.391304347826087,
          0.2857142857142857
         ],
         "yaxis": "y"
        },
        {
         "hoverinfo": "all",
         "marker": {
          "color": "rgb(255,220,0)"
         },
         "mode": "lines",
         "text": null,
         "type": "scatter",
         "x": [
          1825,
          1825,
          1835,
          1835
         ],
         "xaxis": "x",
         "y": [
          0,
          0.2647058823529412,
          0.2647058823529412,
          0
         ],
         "yaxis": "y"
        },
        {
         "hoverinfo": "all",
         "marker": {
          "color": "rgb(255,220,0)"
         },
         "mode": "lines",
         "text": null,
         "type": "scatter",
         "x": [
          1815,
          1815,
          1830,
          1830
         ],
         "xaxis": "x",
         "y": [
          0,
          0.29411764705882354,
          0.29411764705882354,
          0.2647058823529412
         ],
         "yaxis": "y"
        },
        {
         "hoverinfo": "all",
         "marker": {
          "color": "rgb(255,220,0)"
         },
         "mode": "lines",
         "text": null,
         "type": "scatter",
         "x": [
          1805,
          1805,
          1822.5,
          1822.5
         ],
         "xaxis": "x",
         "y": [
          0,
          0.3684210526315789,
          0.3684210526315789,
          0.29411764705882354
         ],
         "yaxis": "y"
        },
        {
         "hoverinfo": "all",
         "marker": {
          "color": "rgb(255,220,0)"
         },
         "mode": "lines",
         "text": null,
         "type": "scatter",
         "x": [
          1845,
          1845,
          1855,
          1855
         ],
         "xaxis": "x",
         "y": [
          0,
          0.21875,
          0.21875,
          0
         ],
         "yaxis": "y"
        },
        {
         "hoverinfo": "all",
         "marker": {
          "color": "rgb(255,220,0)"
         },
         "mode": "lines",
         "text": null,
         "type": "scatter",
         "x": [
          1875,
          1875,
          1885,
          1885
         ],
         "xaxis": "x",
         "y": [
          0,
          0.25806451612903225,
          0.25806451612903225,
          0
         ],
         "yaxis": "y"
        },
        {
         "hoverinfo": "all",
         "marker": {
          "color": "rgb(255,220,0)"
         },
         "mode": "lines",
         "text": null,
         "type": "scatter",
         "x": [
          1865,
          1865,
          1880,
          1880
         ],
         "xaxis": "x",
         "y": [
          0,
          0.3235294117647059,
          0.3235294117647059,
          0.25806451612903225
         ],
         "yaxis": "y"
        },
        {
         "hoverinfo": "all",
         "marker": {
          "color": "rgb(255,220,0)"
         },
         "mode": "lines",
         "text": null,
         "type": "scatter",
         "x": [
          1850,
          1850,
          1872.5,
          1872.5
         ],
         "xaxis": "x",
         "y": [
          0.21875,
          0.38235294117647056,
          0.38235294117647056,
          0.3235294117647059
         ],
         "yaxis": "y"
        },
        {
         "hoverinfo": "all",
         "marker": {
          "color": "rgb(255,220,0)"
         },
         "mode": "lines",
         "text": null,
         "type": "scatter",
         "x": [
          1813.75,
          1813.75,
          1861.25,
          1861.25
         ],
         "xaxis": "x",
         "y": [
          0.3684210526315789,
          0.43243243243243246,
          0.43243243243243246,
          0.38235294117647056
         ],
         "yaxis": "y"
        },
        {
         "hoverinfo": "all",
         "marker": {
          "color": "rgb(0,116,217)"
         },
         "mode": "lines",
         "text": null,
         "type": "scatter",
         "x": [
          1782.5,
          1782.5,
          1837.5,
          1837.5
         ],
         "xaxis": "x",
         "y": [
          0.391304347826087,
          0.8,
          0.8,
          0.43243243243243246
         ],
         "yaxis": "y"
        },
        {
         "hoverinfo": "all",
         "marker": {
          "color": "rgb(0,116,217)"
         },
         "mode": "lines",
         "text": null,
         "type": "scatter",
         "x": [
          1760,
          1760,
          1810,
          1810
         ],
         "xaxis": "x",
         "y": [
          0.4,
          0.96,
          0.96,
          0.8
         ],
         "yaxis": "y"
        },
        {
         "hoverinfo": "all",
         "marker": {
          "color": "rgb(0,116,217)"
         },
         "mode": "lines",
         "text": null,
         "type": "scatter",
         "x": [
          1905,
          1905,
          1915,
          1915
         ],
         "xaxis": "x",
         "y": [
          0,
          0.5,
          0.5,
          0
         ],
         "yaxis": "y"
        },
        {
         "hoverinfo": "all",
         "marker": {
          "color": "rgb(40,35,35)"
         },
         "mode": "lines",
         "text": null,
         "type": "scatter",
         "x": [
          1925,
          1925,
          1935,
          1935
         ],
         "xaxis": "x",
         "y": [
          0,
          0.2857142857142857,
          0.2857142857142857,
          0
         ],
         "yaxis": "y"
        },
        {
         "hoverinfo": "all",
         "marker": {
          "color": "rgb(61,153,112)"
         },
         "mode": "lines",
         "text": null,
         "type": "scatter",
         "x": [
          1955,
          1955,
          1965,
          1965
         ],
         "xaxis": "x",
         "y": [
          0,
          0.2631578947368421,
          0.2631578947368421,
          0
         ],
         "yaxis": "y"
        },
        {
         "hoverinfo": "all",
         "marker": {
          "color": "rgb(0,116,217)"
         },
         "mode": "lines",
         "text": null,
         "type": "scatter",
         "x": [
          1945,
          1945,
          1960,
          1960
         ],
         "xaxis": "x",
         "y": [
          0,
          0.5416666666666666,
          0.5416666666666666,
          0.2631578947368421
         ],
         "yaxis": "y"
        },
        {
         "hoverinfo": "all",
         "marker": {
          "color": "rgb(0,116,217)"
         },
         "mode": "lines",
         "text": null,
         "type": "scatter",
         "x": [
          1930,
          1930,
          1952.5,
          1952.5
         ],
         "xaxis": "x",
         "y": [
          0.2857142857142857,
          0.8648648648648649,
          0.8648648648648649,
          0.5416666666666666
         ],
         "yaxis": "y"
        },
        {
         "hoverinfo": "all",
         "marker": {
          "color": "rgb(0,116,217)"
         },
         "mode": "lines",
         "text": null,
         "type": "scatter",
         "x": [
          1910,
          1910,
          1941.25,
          1941.25
         ],
         "xaxis": "x",
         "y": [
          0.5,
          0.9574468085106383,
          0.9574468085106383,
          0.8648648648648649
         ],
         "yaxis": "y"
        },
        {
         "hoverinfo": "all",
         "marker": {
          "color": "rgb(0,116,217)"
         },
         "mode": "lines",
         "text": null,
         "type": "scatter",
         "x": [
          1895,
          1895,
          1925.625,
          1925.625
         ],
         "xaxis": "x",
         "y": [
          0,
          1,
          1,
          0.9574468085106383
         ],
         "yaxis": "y"
        },
        {
         "hoverinfo": "all",
         "marker": {
          "color": "rgb(0,116,217)"
         },
         "mode": "lines",
         "text": null,
         "type": "scatter",
         "x": [
          1785,
          1785,
          1910.3125,
          1910.3125
         ],
         "xaxis": "x",
         "y": [
          0.96,
          1,
          1,
          1
         ],
         "yaxis": "y"
        },
        {
         "hoverinfo": "all",
         "marker": {
          "color": "rgb(0,116,217)"
         },
         "mode": "lines",
         "text": null,
         "type": "scatter",
         "x": [
          1701.25,
          1701.25,
          1847.65625,
          1847.65625
         ],
         "xaxis": "x",
         "y": [
          0.9882352941176471,
          1,
          1,
          1
         ],
         "yaxis": "y"
        },
        {
         "hoverinfo": "all",
         "marker": {
          "color": "rgb(0,116,217)"
         },
         "mode": "lines",
         "text": null,
         "type": "scatter",
         "x": [
          1601.25,
          1601.25,
          1774.453125,
          1774.453125
         ],
         "xaxis": "x",
         "y": [
          0.9333333333333333,
          1,
          1,
          1
         ],
         "yaxis": "y"
        },
        {
         "hoverinfo": "all",
         "marker": {
          "color": "rgb(0,116,217)"
         },
         "mode": "lines",
         "text": null,
         "type": "scatter",
         "x": [
          1527.5,
          1527.5,
          1687.8515625,
          1687.8515625
         ],
         "xaxis": "x",
         "y": [
          0.9821428571428571,
          1,
          1,
          1
         ],
         "yaxis": "y"
        },
        {
         "hoverinfo": "all",
         "marker": {
          "color": "rgb(0,116,217)"
         },
         "mode": "lines",
         "text": null,
         "type": "scatter",
         "x": [
          1480,
          1480,
          1607.67578125,
          1607.67578125
         ],
         "xaxis": "x",
         "y": [
          0.9285714285714286,
          1,
          1,
          1
         ],
         "yaxis": "y"
        },
        {
         "hoverinfo": "all",
         "marker": {
          "color": "rgb(0,116,217)"
         },
         "mode": "lines",
         "text": null,
         "type": "scatter",
         "x": [
          1465,
          1465,
          1543.837890625,
          1543.837890625
         ],
         "xaxis": "x",
         "y": [
          0,
          1,
          1,
          1
         ],
         "yaxis": "y"
        },
        {
         "hoverinfo": "all",
         "marker": {
          "color": "rgb(0,116,217)"
         },
         "mode": "lines",
         "text": null,
         "type": "scatter",
         "x": [
          1421.875,
          1421.875,
          1504.4189453125,
          1504.4189453125
         ],
         "xaxis": "x",
         "y": [
          0.9230769230769231,
          1,
          1,
          1
         ],
         "yaxis": "y"
        },
        {
         "hoverinfo": "all",
         "marker": {
          "color": "rgb(0,116,217)"
         },
         "mode": "lines",
         "text": null,
         "type": "scatter",
         "x": [
          1308.4375,
          1308.4375,
          1463.14697265625,
          1463.14697265625
         ],
         "xaxis": "x",
         "y": [
          0.9761904761904762,
          1,
          1,
          1
         ],
         "yaxis": "y"
        },
        {
         "hoverinfo": "all",
         "marker": {
          "color": "rgb(0,116,217)"
         },
         "mode": "lines",
         "text": null,
         "type": "scatter",
         "x": [
          1250,
          1250,
          1385.792236328125,
          1385.792236328125
         ],
         "xaxis": "x",
         "y": [
          0.6363636363636364,
          1,
          1,
          1
         ],
         "yaxis": "y"
        },
        {
         "hoverinfo": "all",
         "marker": {
          "color": "rgb(0,116,217)"
         },
         "mode": "lines",
         "text": null,
         "type": "scatter",
         "x": [
          1230,
          1230,
          1317.8961181640625,
          1317.8961181640625
         ],
         "xaxis": "x",
         "y": [
          0.8461538461538461,
          1,
          1,
          1
         ],
         "yaxis": "y"
        },
        {
         "hoverinfo": "all",
         "marker": {
          "color": "rgb(0,116,217)"
         },
         "mode": "lines",
         "text": null,
         "type": "scatter",
         "x": [
          1202.5,
          1202.5,
          1273.9480590820312,
          1273.9480590820312
         ],
         "xaxis": "x",
         "y": [
          0.9024390243902439,
          1,
          1,
          1
         ],
         "yaxis": "y"
        },
        {
         "hoverinfo": "all",
         "marker": {
          "color": "rgb(0,116,217)"
         },
         "mode": "lines",
         "text": null,
         "type": "scatter",
         "x": [
          1151.875,
          1151.875,
          1238.2240295410156,
          1238.2240295410156
         ],
         "xaxis": "x",
         "y": [
          0.8840579710144928,
          1,
          1,
          1
         ],
         "yaxis": "y"
        },
        {
         "hoverinfo": "all",
         "marker": {
          "color": "rgb(0,116,217)"
         },
         "mode": "lines",
         "text": null,
         "type": "scatter",
         "x": [
          1053.59375,
          1053.59375,
          1195.0495147705078,
          1195.0495147705078
         ],
         "xaxis": "x",
         "y": [
          0.9814814814814815,
          1,
          1,
          1
         ],
         "yaxis": "y"
        },
        {
         "hoverinfo": "all",
         "marker": {
          "color": "rgb(0,116,217)"
         },
         "mode": "lines",
         "text": null,
         "type": "scatter",
         "x": [
          953.4375,
          953.4375,
          1124.321632385254,
          1124.321632385254
         ],
         "xaxis": "x",
         "y": [
          0.9615384615384616,
          1,
          1,
          1
         ],
         "yaxis": "y"
        },
        {
         "hoverinfo": "all",
         "marker": {
          "color": "rgb(0,116,217)"
         },
         "mode": "lines",
         "text": null,
         "type": "scatter",
         "x": [
          519.6109008789062,
          519.6109008789062,
          1038.879566192627,
          1038.879566192627
         ],
         "xaxis": "x",
         "y": [
          0.9829059829059829,
          1,
          1,
          1
         ],
         "yaxis": "y"
        },
        {
         "hoverinfo": "all",
         "marker": {
          "color": "rgb(0,116,217)"
         },
         "mode": "lines",
         "text": null,
         "type": "scatter",
         "x": [
          59.4921875,
          59.4921875,
          779.2452335357666,
          779.2452335357666
         ],
         "xaxis": "x",
         "y": [
          0.9666666666666667,
          1,
          1,
          1
         ],
         "yaxis": "y"
        },
        {
         "hoverinfo": "all",
         "marker": {
          "color": "rgb(0,116,217)"
         },
         "mode": "lines",
         "text": null,
         "type": "scatter",
         "x": [
          5,
          5,
          419.3687105178833,
          419.3687105178833
         ],
         "xaxis": "x",
         "y": [
          0,
          1,
          1,
          1
         ],
         "yaxis": "y"
        }
       ],
       "layout": {
        "autosize": false,
        "height": 400,
        "hovermode": "closest",
        "showlegend": false,
        "title": "Python plotly dendro",
        "width": 900,
        "xaxis": {
         "mirror": "allticks",
         "rangemode": "tozero",
         "showgrid": false,
         "showline": true,
         "showticklabels": true,
         "tickmode": "array",
         "ticks": "outside",
         "ticktext": [
          "QE_2017_001815_797.51746_866",
          "QE_2017_001816_463.12311_410",
          "QE_2017_001814_340.16034_314",
          "QE_2017_001814_498.25430_475",
          "QE_2017_001814_314.14456_74",
          "QE_2017_001816_314.14462_79",
          "QE_2017_001815_342.17590_256",
          "QE_2017_001816_310.14957_134",
          "QE_2017_001816_339.10733_298",
          "QE_2017_001814_339.10742_366",
          "QE_2017_001814_231.04967_404",
          "QE_2017_001814_231.04964_314",
          "QE_2017_001814_231.04971_516",
          "QE_2017_001815_231.04971_369",
          "QE_2017_001814_507.18195_178",
          "QE_2017_001814_611.15997_285",
          "QE_2017_001816_611.16064_309",
          "QE_2017_001814_251.09117_393",
          "QE_2017_001815_219.10159_438",
          "QE_2017_001815_219.10146_381",
          "QE_2017_001814_219.10141_360",
          "QE_2017_001815_201.16367_442",
          "QE_2017_001816_201.16362_435",
          "QE_2017_001816_137.09584_445",
          "QE_2017_001814_191.14291_389",
          "QE_2017_001815_191.14287_312",
          "QE_2017_001815_191.14293_404",
          "QE_2017_001814_207.13779_559",
          "QE_2017_001814_207.13789_295",
          "QE_2017_001814_281.17450_492",
          "QE_2017_001814_243.15892_533",
          "QE_2017_001816_181.12199_794",
          "QE_2017_001814_181.12213_767",
          "QE_2017_001816_227.12766_295",
          "QE_2017_001814_227.12750_293",
          "QE_2017_001816_272.25824_582",
          "QE_2017_001814_209.15358_311",
          "QE_2017_001815_209.15350_312",
          "QE_2017_001814_209.15335_478",
          "QE_2017_001815_209.15349_295",
          "QE_2017_001815_353.26901_600",
          "QE_2017_001814_353.26868_633",
          "QE_2017_001814_279.23157_719",
          "QE_2017_001814_278.24756_683",
          "QE_2017_001814_293.21060_579",
          "QE_2017_001815_227.16408_344",
          "QE_2017_001814_283.19022_564",
          "QE_2017_001815_571.42920_870",
          "QE_2017_001815_435.25040_666",
          "QE_2017_001814_507.27179_607",
          "QE_2017_001814_261.22083_643",
          "QE_2017_001815_571.47168_711",
          "QE_2017_001814_261.22073_634",
          "QE_2017_001814_353.26889_609",
          "QE_2017_001814_353.26874_642",
          "QE_2017_001814_335.25772_725",
          "QE_2017_001816_335.25772_723",
          "QE_2017_001816_335.25772_586",
          "QE_2017_001814_335.25784_608",
          "QE_2017_001814_335.25784_628",
          "QE_2017_001815_335.25790_601",
          "QE_2017_001814_335.25772_638",
          "QE_2017_001814_219.17416_517",
          "QE_2017_001814_219.17429_497",
          "QE_2017_001814_219.17409_442",
          "QE_2017_001816_219.17416_451",
          "QE_2017_001816_337.27341_632",
          "QE_2017_001816_211.16916_405",
          "QE_2017_001815_209.08070_405",
          "QE_2017_001814_211.16902_440",
          "QE_2017_001815_211.16913_450",
          "QE_2017_001814_215.16406_483",
          "QE_2017_001815_215.16400_550",
          "QE_2017_001814_497.31033_643",
          "QE_2017_001815_792.56250_866",
          "QE_2017_001814_596.30963_602",
          "QE_2017_001816_613.48218_838",
          "QE_2017_001815_613.48260_734",
          "QE_2017_001814_792.56207_723",
          "QE_2017_001814_618.42633_695",
          "QE_2017_001815_568.42627_841",
          "QE_2017_001814_583.41431_647",
          "QE_2017_001814_618.42719_682",
          "QE_2017_001814_618.42780_646",
          "QE_2017_001814_601.42334_783",
          "QE_2017_001814_565.40350_722",
          "QE_2017_001814_583.41406_682",
          "QE_2017_001815_583.41406_707",
          "QE_2017_001816_583.41382_731",
          "QE_2017_001814_583.41406_735",
          "QE_2017_001814_599.40918_659",
          "QE_2017_001814_601.42426_706",
          "QE_2017_001815_599.40881_793",
          "QE_2017_001815_214.51021_60",
          "QE_2017_001815_268.59360_446",
          "QE_2017_001814_222.07031_314",
          "QE_2017_001814_250.10149_516",
          "QE_2017_001814_247.05975_245",
          "QE_2017_001815_247.05980_242",
          "QE_2017_001814_214.56496_409",
          "QE_2017_001815_212.03883_181",
          "QE_2017_001815_219.04675_291",
          "QE_2017_001815_268.10373_58",
          "QE_2017_001816_269.16055_60",
          "QE_2017_001815_364.34189_705",
          "QE_2017_001814_408.36810_703",
          "QE_2017_001814_466.40994_731",
          "QE_2017_001814_364.34241_751",
          "QE_2017_001814_424.36325_711",
          "QE_2017_001814_364.34244_761",
          "QE_2017_001814_421.35211_732",
          "QE_2017_001815_482.40488_739",
          "QE_2017_001815_408.36853_717",
          "QE_2017_001814_347.09073_203",
          "QE_2017_001814_347.09097_122",
          "QE_2017_001814_533.15497_206",
          "QE_2017_001815_533.15454_247",
          "QE_2017_001816_533.15460_271",
          "QE_2017_001814_533.15485_221",
          "QE_2017_001814_595.16577_315",
          "QE_2017_001814_463.12274_358",
          "QE_2017_001814_625.17639_345",
          "QE_2017_001816_333.15204_235",
          "QE_2017_001815_333.15173_245",
          "QE_2017_001814_319.13638_117",
          "QE_2017_001816_319.13614_143",
          "QE_2017_001814_194.04424_237",
          "QE_2017_001814_194.11740_217",
          "QE_2017_001814_194.11740_244",
          "QE_2017_001815_194.11745_132",
          "QE_2017_001815_194.04469_299",
          "QE_2017_001815_194.04474_327",
          "QE_2017_001815_194.04471_314",
          "QE_2017_001814_212.05521_327",
          "QE_2017_001816_212.05518_300",
          "QE_2017_001814_212.05518_265",
          "QE_2017_001814_194.04468_396",
          "QE_2017_001814_226.07077_397",
          "QE_2017_001815_273.13434_243",
          "QE_2017_001815_273.13425_199",
          "QE_2017_001814_291.14505_198",
          "QE_2017_001814_291.14420_241",
          "QE_2017_001815_291.14493_242",
          "QE_2017_001814_251.13872_201",
          "QE_2017_001815_235.14398_226",
          "QE_2017_001814_235.14395_180",
          "QE_2017_001815_141.05080_33",
          "QE_2017_001814_237.12305_220",
          "QE_2017_001815_237.12315_52",
          "QE_2017_001814_332.25827_467",
          "QE_2017_001814_332.25836_508",
          "QE_2017_001816_332.25842_487",
          "QE_2017_001814_332.25842_486",
          "QE_2017_001816_237.12325_171",
          "QE_2017_001814_221.12846_97",
          "QE_2017_001814_320.29468_638",
          "QE_2017_001814_320.29471_529",
          "QE_2017_001814_320.29477_539",
          "QE_2017_001814_241.15384_47",
          "QE_2017_001815_241.15446_48",
          "QE_2017_001816_229.15469_52",
          "QE_2017_001814_229.15399_46",
          "QE_2017_001814_229.15451_65",
          "QE_2017_001816_320.29483_548",
          "QE_2017_001816_338.26062_643",
          "QE_2017_001814_320.29456_577",
          "QE_2017_001814_320.29489_563",
          "QE_2017_001814_483.27118_651",
          "QE_2017_001814_338.34146_850",
          "QE_2017_001815_244.19048_762",
          "QE_2017_001814_129.12737_348",
          "QE_2017_001814_171.14908_419",
          "QE_2017_001815_132.04440_282",
          "QE_2017_001814_209.08058_363",
          "QE_2017_001814_241.15466_73",
          "QE_2017_001814_182.08116_51",
          "QE_2017_001815_182.08109_52",
          "QE_2017_001814_177.05418_236",
          "QE_2017_001816_177.05449_217",
          "QE_2017_001814_177.05450_306",
          "QE_2017_001816_199.98769_294",
          "QE_2017_001814_199.98778_290",
          "QE_2017_001816_199.98781_313",
          "QE_2017_001814_199.98778_325",
          "QE_2017_001814_199.98782_335",
          "QE_2017_001816_199.98772_359",
          "QE_2017_001814_199.98772_303",
          "QE_2017_001814_199.98788_30",
          "QE_2017_001815_199.98772_253",
          "QE_2017_001814_265.01541_33",
          "QE_2017_001815_247.12865_158",
          "QE_2017_001815_246.14465_137",
          "QE_2017_001816_260.16022_145",
          "QE_2017_001814_260.16037_143",
          "QE_2017_001814_233.14957_152",
          "QE_2017_001816_233.14955_129",
          "QE_2017_001814_233.14948_126"
         ],
         "tickvals": [
          5,
          15,
          25,
          35,
          45,
          55,
          65,
          75,
          85,
          95,
          105,
          115,
          125,
          135,
          145,
          155,
          165,
          175,
          185,
          195,
          205,
          215,
          225,
          235,
          245,
          255,
          265,
          275,
          285,
          295,
          305,
          315,
          325,
          335,
          345,
          355,
          365,
          375,
          385,
          395,
          405,
          415,
          425,
          435,
          445,
          455,
          465,
          475,
          485,
          495,
          505,
          515,
          525,
          535,
          545,
          555,
          565,
          575,
          585,
          595,
          605,
          615,
          625,
          635,
          645,
          655,
          665,
          675,
          685,
          695,
          705,
          715,
          725,
          735,
          745,
          755,
          765,
          775,
          785,
          795,
          805,
          815,
          825,
          835,
          845,
          855,
          865,
          875,
          885,
          895,
          905,
          915,
          925,
          935,
          945,
          955,
          965,
          975,
          985,
          995,
          1005,
          1015,
          1025,
          1035,
          1045,
          1055,
          1065,
          1075,
          1085,
          1095,
          1105,
          1115,
          1125,
          1135,
          1145,
          1155,
          1165,
          1175,
          1185,
          1195,
          1205,
          1215,
          1225,
          1235,
          1245,
          1255,
          1265,
          1275,
          1285,
          1295,
          1305,
          1315,
          1325,
          1335,
          1345,
          1355,
          1365,
          1375,
          1385,
          1395,
          1405,
          1415,
          1425,
          1435,
          1445,
          1455,
          1465,
          1475,
          1485,
          1495,
          1505,
          1515,
          1525,
          1535,
          1545,
          1555,
          1565,
          1575,
          1585,
          1595,
          1605,
          1615,
          1625,
          1635,
          1645,
          1655,
          1665,
          1675,
          1685,
          1695,
          1705,
          1715,
          1725,
          1735,
          1745,
          1755,
          1765,
          1775,
          1785,
          1795,
          1805,
          1815,
          1825,
          1835,
          1845,
          1855,
          1865,
          1875,
          1885,
          1895,
          1905,
          1915,
          1925,
          1935,
          1945,
          1955,
          1965
         ],
         "title": "sample",
         "type": "linear",
         "zeroline": false
        },
        "yaxis": {
         "mirror": "allticks",
         "rangemode": "tozero",
         "showgrid": false,
         "showline": true,
         "showticklabels": true,
         "ticks": "outside",
         "title": "distance",
         "type": "linear",
         "zeroline": false
        }
       }
      },
      "text/html": [
       "<div id=\"48196cc4-d42b-49e4-a7ae-61a0ae394386\" style=\"height: 400px; width: 900px;\" class=\"plotly-graph-div\"></div><script type=\"text/javascript\">require([\"plotly\"], function(Plotly) { window.PLOTLYENV=window.PLOTLYENV || {};window.PLOTLYENV.BASE_URL=\"https://plot.ly\";Plotly.newPlot(\"48196cc4-d42b-49e4-a7ae-61a0ae394386\", [{\"type\": \"scatter\", \"x\": [25.0, 25.0, 35.0, 35.0], \"y\": [0.0, 0.6862745098039216, 0.6862745098039216, 0.0], \"mode\": \"lines\", \"marker\": {\"color\": \"rgb(0,116,217)\"}, \"text\": null, \"hoverinfo\": \"all\", \"xaxis\": \"x\", \"yaxis\": \"y\"}, {\"type\": \"scatter\", \"x\": [45.0, 45.0, 55.0, 55.0], \"y\": [0.0, 0.5517241379310345, 0.5517241379310345, 0.0], \"mode\": \"lines\", \"marker\": {\"color\": \"rgb(0,116,217)\"}, \"text\": null, \"hoverinfo\": \"all\", \"xaxis\": \"x\", \"yaxis\": \"y\"}, {\"type\": \"scatter\", \"x\": [65.0, 65.0, 75.0, 75.0], \"y\": [0.0, 0.6896551724137931, 0.6896551724137931, 0.0], \"mode\": \"lines\", \"marker\": {\"color\": \"rgb(0,116,217)\"}, \"text\": null, \"hoverinfo\": \"all\", \"xaxis\": \"x\", \"yaxis\": \"y\"}, {\"type\": \"scatter\", \"x\": [50.0, 50.0, 70.0, 70.0], \"y\": [0.5517241379310345, 0.7222222222222222, 0.7222222222222222, 0.6896551724137931], \"mode\": \"lines\", \"marker\": {\"color\": \"rgb(0,116,217)\"}, \"text\": null, \"hoverinfo\": \"all\", \"xaxis\": \"x\", \"yaxis\": \"y\"}, {\"type\": \"scatter\", \"x\": [85.0, 85.0, 95.0, 95.0], \"y\": [0.0, 0.44, 0.44, 0.0], \"mode\": \"lines\", \"marker\": {\"color\": \"rgb(61,153,112)\"}, \"text\": null, \"hoverinfo\": \"all\", \"xaxis\": \"x\", \"yaxis\": \"y\"}, {\"type\": \"scatter\", \"x\": [125.0, 125.0, 135.0, 135.0], \"y\": [0.0, 0.391304347826087, 0.391304347826087, 0.0], \"mode\": \"lines\", \"marker\": {\"color\": \"rgb(255,65,54)\"}, \"text\": null, \"hoverinfo\": \"all\", \"xaxis\": \"x\", \"yaxis\": \"y\"}, {\"type\": \"scatter\", \"x\": [115.0, 115.0, 130.0, 130.0], \"y\": [0.0, 0.48148148148148145, 0.48148148148148145, 0.391304347826087], \"mode\": \"lines\", \"marker\": {\"color\": \"rgb(255,65,54)\"}, \"text\": null, \"hoverinfo\": \"all\", \"xaxis\": \"x\", \"yaxis\": \"y\"}, {\"type\": \"scatter\", \"x\": [105.0, 105.0, 122.5, 122.5], \"y\": [0.0, 0.5384615384615384, 0.5384615384615384, 0.48148148148148145], \"mode\": \"lines\", \"marker\": {\"color\": \"rgb(0,116,217)\"}, \"text\": null, \"hoverinfo\": \"all\", \"xaxis\": \"x\", \"yaxis\": \"y\"}, {\"type\": \"scatter\", \"x\": [90.0, 90.0, 113.75, 113.75], \"y\": [0.44, 0.78125, 0.78125, 0.5384615384615384], \"mode\": \"lines\", \"marker\": {\"color\": \"rgb(0,116,217)\"}, \"text\": null, \"hoverinfo\": \"all\", \"xaxis\": \"x\", \"yaxis\": \"y\"}, {\"type\": \"scatter\", \"x\": [60.0, 60.0, 101.875, 101.875], \"y\": [0.7222222222222222, 0.8571428571428571, 0.8571428571428571, 0.78125], \"mode\": \"lines\", \"marker\": {\"color\": \"rgb(0,116,217)\"}, \"text\": null, \"hoverinfo\": \"all\", \"xaxis\": \"x\", \"yaxis\": \"y\"}, {\"type\": \"scatter\", \"x\": [30.0, 30.0, 80.9375, 80.9375], \"y\": [0.6862745098039216, 0.8775510204081632, 0.8775510204081632, 0.8571428571428571], \"mode\": \"lines\", \"marker\": {\"color\": \"rgb(0,116,217)\"}, \"text\": null, \"hoverinfo\": \"all\", \"xaxis\": \"x\", \"yaxis\": \"y\"}, {\"type\": \"scatter\", \"x\": [155.0, 155.0, 165.0, 165.0], \"y\": [0.0, 0.38095238095238093, 0.38095238095238093, 0.0], \"mode\": \"lines\", \"marker\": {\"color\": \"rgb(35,205,205)\"}, \"text\": null, \"hoverinfo\": \"all\", \"xaxis\": \"x\", \"yaxis\": \"y\"}, {\"type\": \"scatter\", \"x\": [145.0, 145.0, 160.0, 160.0], \"y\": [0.0, 0.918918918918919, 0.918918918918919, 0.38095238095238093], \"mode\": \"lines\", \"marker\": {\"color\": \"rgb(0,116,217)\"}, \"text\": null, \"hoverinfo\": \"all\", \"xaxis\": \"x\", \"yaxis\": \"y\"}, {\"type\": \"scatter\", \"x\": [55.46875, 55.46875, 152.5, 152.5], \"y\": [0.8775510204081632, 0.9512195121951219, 0.9512195121951219, 0.918918918918919], \"mode\": \"lines\", \"marker\": {\"color\": \"rgb(0,116,217)\"}, \"text\": null, \"hoverinfo\": \"all\", \"xaxis\": \"x\", \"yaxis\": \"y\"}, {\"type\": \"scatter\", \"x\": [15.0, 15.0, 103.984375, 103.984375], \"y\": [0.0, 0.9666666666666667, 0.9666666666666667, 0.9512195121951219], \"mode\": \"lines\", \"marker\": {\"color\": \"rgb(0,116,217)\"}, \"text\": null, \"hoverinfo\": \"all\", \"xaxis\": \"x\", \"yaxis\": \"y\"}, {\"type\": \"scatter\", \"x\": [195.0, 195.0, 205.0, 205.0], \"y\": [0.0, 0.2833333333333333, 0.2833333333333333, 0.0], \"mode\": \"lines\", \"marker\": {\"color\": \"rgb(133,20,75)\"}, \"text\": null, \"hoverinfo\": \"all\", \"xaxis\": \"x\", \"yaxis\": \"y\"}, {\"type\": \"scatter\", \"x\": [185.0, 185.0, 200.0, 200.0], \"y\": [0.0, 0.4, 0.4, 0.2833333333333333], \"mode\": \"lines\", \"marker\": {\"color\": \"rgb(133,20,75)\"}, \"text\": null, \"hoverinfo\": \"all\", \"xaxis\": \"x\", \"yaxis\": \"y\"}, {\"type\": \"scatter\", \"x\": [175.0, 175.0, 192.5, 192.5], \"y\": [0.0, 0.5974025974025974, 0.5974025974025974, 0.4], \"mode\": \"lines\", \"marker\": {\"color\": \"rgb(0,116,217)\"}, \"text\": null, \"hoverinfo\": \"all\", \"xaxis\": \"x\", \"yaxis\": \"y\"}, {\"type\": \"scatter\", \"x\": [215.0, 215.0, 225.0, 225.0], \"y\": [0.0, 0.48333333333333334, 0.48333333333333334, 0.0], \"mode\": \"lines\", \"marker\": {\"color\": \"rgb(255,220,0)\"}, \"text\": null, \"hoverinfo\": \"all\", \"xaxis\": \"x\", \"yaxis\": \"y\"}, {\"type\": \"scatter\", \"x\": [255.0, 255.0, 265.0, 265.0], \"y\": [0.0, 0.40384615384615385, 0.40384615384615385, 0.0], \"mode\": \"lines\", \"marker\": {\"color\": \"rgb(40,35,35)\"}, \"text\": null, \"hoverinfo\": \"all\", \"xaxis\": \"x\", \"yaxis\": \"y\"}, {\"type\": \"scatter\", \"x\": [245.0, 245.0, 260.0, 260.0], \"y\": [0.0, 0.5, 0.5, 0.40384615384615385], \"mode\": \"lines\", \"marker\": {\"color\": \"rgb(0,116,217)\"}, \"text\": null, \"hoverinfo\": \"all\", \"xaxis\": \"x\", \"yaxis\": \"y\"}, {\"type\": \"scatter\", \"x\": [235.0, 235.0, 252.5, 252.5], \"y\": [0.0, 0.6938775510204082, 0.6938775510204082, 0.5], \"mode\": \"lines\", \"marker\": {\"color\": \"rgb(0,116,217)\"}, \"text\": null, \"hoverinfo\": \"all\", \"xaxis\": \"x\", \"yaxis\": \"y\"}, {\"type\": \"scatter\", \"x\": [295.0, 295.0, 305.0, 305.0], \"y\": [0.0, 0.359375, 0.359375, 0.0], \"mode\": \"lines\", \"marker\": {\"color\": \"rgb(61,153,112)\"}, \"text\": null, \"hoverinfo\": \"all\", \"xaxis\": \"x\", \"yaxis\": \"y\"}, {\"type\": \"scatter\", \"x\": [285.0, 285.0, 300.0, 300.0], \"y\": [0.0, 0.5068493150684932, 0.5068493150684932, 0.359375], \"mode\": \"lines\", \"marker\": {\"color\": \"rgb(0,116,217)\"}, \"text\": null, \"hoverinfo\": \"all\", \"xaxis\": \"x\", \"yaxis\": \"y\"}, {\"type\": \"scatter\", \"x\": [275.0, 275.0, 292.5, 292.5], \"y\": [0.0, 0.6125, 0.6125, 0.5068493150684932], \"mode\": \"lines\", \"marker\": {\"color\": \"rgb(0,116,217)\"}, \"text\": null, \"hoverinfo\": \"all\", \"xaxis\": \"x\", \"yaxis\": \"y\"}, {\"type\": \"scatter\", \"x\": [315.0, 315.0, 325.0, 325.0], \"y\": [0.0, 0.2777777777777778, 0.2777777777777778, 0.0], \"mode\": \"lines\", \"marker\": {\"color\": \"rgb(255,65,54)\"}, \"text\": null, \"hoverinfo\": \"all\", \"xaxis\": \"x\", \"yaxis\": \"y\"}, {\"type\": \"scatter\", \"x\": [335.0, 335.0, 345.0, 345.0], \"y\": [0.0, 0.3382352941176471, 0.3382352941176471, 0.0], \"mode\": \"lines\", \"marker\": {\"color\": \"rgb(35,205,205)\"}, \"text\": null, \"hoverinfo\": \"all\", \"xaxis\": \"x\", \"yaxis\": \"y\"}, {\"type\": \"scatter\", \"x\": [320.0, 320.0, 340.0, 340.0], \"y\": [0.2777777777777778, 0.6712328767123288, 0.6712328767123288, 0.3382352941176471], \"mode\": \"lines\", \"marker\": {\"color\": \"rgb(0,116,217)\"}, \"text\": null, \"hoverinfo\": \"all\", \"xaxis\": \"x\", \"yaxis\": \"y\"}, {\"type\": \"scatter\", \"x\": [283.75, 283.75, 330.0, 330.0], \"y\": [0.6125, 0.7567567567567568, 0.7567567567567568, 0.6712328767123288], \"mode\": \"lines\", \"marker\": {\"color\": \"rgb(0,116,217)\"}, \"text\": null, \"hoverinfo\": \"all\", \"xaxis\": \"x\", \"yaxis\": \"y\"}, {\"type\": \"scatter\", \"x\": [243.75, 243.75, 306.875, 306.875], \"y\": [0.6938775510204082, 0.7894736842105263, 0.7894736842105263, 0.7567567567567568], \"mode\": \"lines\", \"marker\": {\"color\": \"rgb(0,116,217)\"}, \"text\": null, \"hoverinfo\": \"all\", \"xaxis\": \"x\", \"yaxis\": \"y\"}, {\"type\": \"scatter\", \"x\": [220.0, 220.0, 275.3125, 275.3125], \"y\": [0.48333333333333334, 0.8421052631578947, 0.8421052631578947, 0.7894736842105263], \"mode\": \"lines\", \"marker\": {\"color\": \"rgb(0,116,217)\"}, \"text\": null, \"hoverinfo\": \"all\", \"xaxis\": \"x\", \"yaxis\": \"y\"}, {\"type\": \"scatter\", \"x\": [365.0, 365.0, 375.0, 375.0], \"y\": [0.0, 0.2894736842105263, 0.2894736842105263, 0.0], \"mode\": \"lines\", \"marker\": {\"color\": \"rgb(133,20,75)\"}, \"text\": null, \"hoverinfo\": \"all\", \"xaxis\": \"x\", \"yaxis\": \"y\"}, {\"type\": \"scatter\", \"x\": [385.0, 385.0, 395.0, 395.0], \"y\": [0.0, 0.3835616438356164, 0.3835616438356164, 0.0], \"mode\": \"lines\", \"marker\": {\"color\": \"rgb(133,20,75)\"}, \"text\": null, \"hoverinfo\": \"all\", \"xaxis\": \"x\", \"yaxis\": \"y\"}, {\"type\": \"scatter\", \"x\": [370.0, 370.0, 390.0, 390.0], \"y\": [0.2894736842105263, 0.4523809523809524, 0.4523809523809524, 0.3835616438356164], \"mode\": \"lines\", \"marker\": {\"color\": \"rgb(133,20,75)\"}, \"text\": null, \"hoverinfo\": \"all\", \"xaxis\": \"x\", \"yaxis\": \"y\"}, {\"type\": \"scatter\", \"x\": [405.0, 405.0, 415.0, 415.0], \"y\": [0.0, 0.2871287128712871, 0.2871287128712871, 0.0], \"mode\": \"lines\", \"marker\": {\"color\": \"rgb(255,220,0)\"}, \"text\": null, \"hoverinfo\": \"all\", \"xaxis\": \"x\", \"yaxis\": \"y\"}, {\"type\": \"scatter\", \"x\": [425.0, 425.0, 435.0, 435.0], \"y\": [0.0, 0.45, 0.45, 0.0], \"mode\": \"lines\", \"marker\": {\"color\": \"rgb(40,35,35)\"}, \"text\": null, \"hoverinfo\": \"all\", \"xaxis\": \"x\", \"yaxis\": \"y\"}, {\"type\": \"scatter\", \"x\": [410.0, 410.0, 430.0, 430.0], \"y\": [0.2871287128712871, 0.5636363636363636, 0.5636363636363636, 0.45], \"mode\": \"lines\", \"marker\": {\"color\": \"rgb(0,116,217)\"}, \"text\": null, \"hoverinfo\": \"all\", \"xaxis\": \"x\", \"yaxis\": \"y\"}, {\"type\": \"scatter\", \"x\": [455.0, 455.0, 465.0, 465.0], \"y\": [0.0, 0.4659090909090909, 0.4659090909090909, 0.0], \"mode\": \"lines\", \"marker\": {\"color\": \"rgb(61,153,112)\"}, \"text\": null, \"hoverinfo\": \"all\", \"xaxis\": \"x\", \"yaxis\": \"y\"}, {\"type\": \"scatter\", \"x\": [445.0, 445.0, 460.0, 460.0], \"y\": [0.0, 0.57, 0.57, 0.4659090909090909], \"mode\": \"lines\", \"marker\": {\"color\": \"rgb(0,116,217)\"}, \"text\": null, \"hoverinfo\": \"all\", \"xaxis\": \"x\", \"yaxis\": \"y\"}, {\"type\": \"scatter\", \"x\": [420.0, 420.0, 452.5, 452.5], \"y\": [0.5636363636363636, 0.6494845360824743, 0.6494845360824743, 0.57], \"mode\": \"lines\", \"marker\": {\"color\": \"rgb(0,116,217)\"}, \"text\": null, \"hoverinfo\": \"all\", \"xaxis\": \"x\", \"yaxis\": \"y\"}, {\"type\": \"scatter\", \"x\": [380.0, 380.0, 436.25, 436.25], \"y\": [0.4523809523809524, 0.7, 0.7, 0.6494845360824743], \"mode\": \"lines\", \"marker\": {\"color\": \"rgb(0,116,217)\"}, \"text\": null, \"hoverinfo\": \"all\", \"xaxis\": \"x\", \"yaxis\": \"y\"}, {\"type\": \"scatter\", \"x\": [505.0, 505.0, 515.0, 515.0], \"y\": [0.0, 0.40816326530612246, 0.40816326530612246, 0.0], \"mode\": \"lines\", \"marker\": {\"color\": \"rgb(255,65,54)\"}, \"text\": null, \"hoverinfo\": \"all\", \"xaxis\": \"x\", \"yaxis\": \"y\"}, {\"type\": \"scatter\", \"x\": [535.0, 535.0, 545.0, 545.0], \"y\": [0.0, 0.2786885245901639, 0.2786885245901639, 0.0], \"mode\": \"lines\", \"marker\": {\"color\": \"rgb(35,205,205)\"}, \"text\": null, \"hoverinfo\": \"all\", \"xaxis\": \"x\", \"yaxis\": \"y\"}, {\"type\": \"scatter\", \"x\": [525.0, 525.0, 540.0, 540.0], \"y\": [0.0, 0.32786885245901637, 0.32786885245901637, 0.2786885245901639], \"mode\": \"lines\", \"marker\": {\"color\": \"rgb(35,205,205)\"}, \"text\": null, \"hoverinfo\": \"all\", \"xaxis\": \"x\", \"yaxis\": \"y\"}, {\"type\": \"scatter\", \"x\": [575.0, 575.0, 585.0, 585.0], \"y\": [0.0, 0.22448979591836735, 0.22448979591836735, 0.0], \"mode\": \"lines\", \"marker\": {\"color\": \"rgb(35,205,205)\"}, \"text\": null, \"hoverinfo\": \"all\", \"xaxis\": \"x\", \"yaxis\": \"y\"}, {\"type\": \"scatter\", \"x\": [565.0, 565.0, 580.0, 580.0], \"y\": [0.0, 0.26, 0.26, 0.22448979591836735], \"mode\": \"lines\", \"marker\": {\"color\": \"rgb(35,205,205)\"}, \"text\": null, \"hoverinfo\": \"all\", \"xaxis\": \"x\", \"yaxis\": \"y\"}, {\"type\": \"scatter\", \"x\": [555.0, 555.0, 572.5, 572.5], \"y\": [0.0, 0.2830188679245283, 0.2830188679245283, 0.26], \"mode\": \"lines\", \"marker\": {\"color\": \"rgb(35,205,205)\"}, \"text\": null, \"hoverinfo\": \"all\", \"xaxis\": \"x\", \"yaxis\": \"y\"}, {\"type\": \"scatter\", \"x\": [605.0, 605.0, 615.0, 615.0], \"y\": [0.0, 0.29411764705882354, 0.29411764705882354, 0.0], \"mode\": \"lines\", \"marker\": {\"color\": \"rgb(35,205,205)\"}, \"text\": null, \"hoverinfo\": \"all\", \"xaxis\": \"x\", \"yaxis\": \"y\"}, {\"type\": \"scatter\", \"x\": [595.0, 595.0, 610.0, 610.0], \"y\": [0.0, 0.3275862068965517, 0.3275862068965517, 0.29411764705882354], \"mode\": \"lines\", \"marker\": {\"color\": \"rgb(35,205,205)\"}, \"text\": null, \"hoverinfo\": \"all\", \"xaxis\": \"x\", \"yaxis\": \"y\"}, {\"type\": \"scatter\", \"x\": [563.75, 563.75, 602.5, 602.5], \"y\": [0.2830188679245283, 0.35714285714285715, 0.35714285714285715, 0.3275862068965517], \"mode\": \"lines\", \"marker\": {\"color\": \"rgb(35,205,205)\"}, \"text\": null, \"hoverinfo\": \"all\", \"xaxis\": \"x\", \"yaxis\": \"y\"}, {\"type\": \"scatter\", \"x\": [532.5, 532.5, 583.125, 583.125], \"y\": [0.32786885245901637, 0.4444444444444444, 0.4444444444444444, 0.35714285714285715], \"mode\": \"lines\", \"marker\": {\"color\": \"rgb(35,205,205)\"}, \"text\": null, \"hoverinfo\": \"all\", \"xaxis\": \"x\", \"yaxis\": \"y\"}, {\"type\": \"scatter\", \"x\": [510.0, 510.0, 557.8125, 557.8125], \"y\": [0.40816326530612246, 0.5, 0.5, 0.4444444444444444], \"mode\": \"lines\", \"marker\": {\"color\": \"rgb(0,116,217)\"}, \"text\": null, \"hoverinfo\": \"all\", \"xaxis\": \"x\", \"yaxis\": \"y\"}, {\"type\": \"scatter\", \"x\": [495.0, 495.0, 533.90625, 533.90625], \"y\": [0.0, 0.5571428571428572, 0.5571428571428572, 0.5], \"mode\": \"lines\", \"marker\": {\"color\": \"rgb(0,116,217)\"}, \"text\": null, \"hoverinfo\": \"all\", \"xaxis\": \"x\", \"yaxis\": \"y\"}, {\"type\": \"scatter\", \"x\": [485.0, 485.0, 514.453125, 514.453125], \"y\": [0.0, 0.6833333333333333, 0.6833333333333333, 0.5571428571428572], \"mode\": \"lines\", \"marker\": {\"color\": \"rgb(0,116,217)\"}, \"text\": null, \"hoverinfo\": \"all\", \"xaxis\": \"x\", \"yaxis\": \"y\"}, {\"type\": \"scatter\", \"x\": [645.0, 645.0, 655.0, 655.0], \"y\": [0.0, 0.3125, 0.3125, 0.0], \"mode\": \"lines\", \"marker\": {\"color\": \"rgb(133,20,75)\"}, \"text\": null, \"hoverinfo\": \"all\", \"xaxis\": \"x\", \"yaxis\": \"y\"}, {\"type\": \"scatter\", \"x\": [635.0, 635.0, 650.0, 650.0], \"y\": [0.0, 0.43333333333333335, 0.43333333333333335, 0.3125], \"mode\": \"lines\", \"marker\": {\"color\": \"rgb(133,20,75)\"}, \"text\": null, \"hoverinfo\": \"all\", \"xaxis\": \"x\", \"yaxis\": \"y\"}, {\"type\": \"scatter\", \"x\": [625.0, 625.0, 642.5, 642.5], \"y\": [0.0, 0.509090909090909, 0.509090909090909, 0.43333333333333335], \"mode\": \"lines\", \"marker\": {\"color\": \"rgb(0,116,217)\"}, \"text\": null, \"hoverinfo\": \"all\", \"xaxis\": \"x\", \"yaxis\": \"y\"}, {\"type\": \"scatter\", \"x\": [695.0, 695.0, 705.0, 705.0], \"y\": [0.0, 0.19230769230769232, 0.19230769230769232, 0.0], \"mode\": \"lines\", \"marker\": {\"color\": \"rgb(255,220,0)\"}, \"text\": null, \"hoverinfo\": \"all\", \"xaxis\": \"x\", \"yaxis\": \"y\"}, {\"type\": \"scatter\", \"x\": [685.0, 685.0, 700.0, 700.0], \"y\": [0.0, 0.21153846153846154, 0.21153846153846154, 0.19230769230769232], \"mode\": \"lines\", \"marker\": {\"color\": \"rgb(255,220,0)\"}, \"text\": null, \"hoverinfo\": \"all\", \"xaxis\": \"x\", \"yaxis\": \"y\"}, {\"type\": \"scatter\", \"x\": [675.0, 675.0, 692.5, 692.5], \"y\": [0.0, 0.3, 0.3, 0.21153846153846154], \"mode\": \"lines\", \"marker\": {\"color\": \"rgb(255,220,0)\"}, \"text\": null, \"hoverinfo\": \"all\", \"xaxis\": \"x\", \"yaxis\": \"y\"}, {\"type\": \"scatter\", \"x\": [665.0, 665.0, 683.75, 683.75], \"y\": [0.0, 0.47761194029850745, 0.47761194029850745, 0.3], \"mode\": \"lines\", \"marker\": {\"color\": \"rgb(255,220,0)\"}, \"text\": null, \"hoverinfo\": \"all\", \"xaxis\": \"x\", \"yaxis\": \"y\"}, {\"type\": \"scatter\", \"x\": [715.0, 715.0, 725.0, 725.0], \"y\": [0.0, 0.5510204081632653, 0.5510204081632653, 0.0], \"mode\": \"lines\", \"marker\": {\"color\": \"rgb(0,116,217)\"}, \"text\": null, \"hoverinfo\": \"all\", \"xaxis\": \"x\", \"yaxis\": \"y\"}, {\"type\": \"scatter\", \"x\": [674.375, 674.375, 720.0, 720.0], \"y\": [0.47761194029850745, 0.5857142857142857, 0.5857142857142857, 0.5510204081632653], \"mode\": \"lines\", \"marker\": {\"color\": \"rgb(0,116,217)\"}, \"text\": null, \"hoverinfo\": \"all\", \"xaxis\": \"x\", \"yaxis\": \"y\"}, {\"type\": \"scatter\", \"x\": [633.75, 633.75, 697.1875, 697.1875], \"y\": [0.509090909090909, 0.7096774193548387, 0.7096774193548387, 0.5857142857142857], \"mode\": \"lines\", \"marker\": {\"color\": \"rgb(0,116,217)\"}, \"text\": null, \"hoverinfo\": \"all\", \"xaxis\": \"x\", \"yaxis\": \"y\"}, {\"type\": \"scatter\", \"x\": [499.7265625, 499.7265625, 665.46875, 665.46875], \"y\": [0.6833333333333333, 0.7466666666666667, 0.7466666666666667, 0.7096774193548387], \"mode\": \"lines\", \"marker\": {\"color\": \"rgb(0,116,217)\"}, \"text\": null, \"hoverinfo\": \"all\", \"xaxis\": \"x\", \"yaxis\": \"y\"}, {\"type\": \"scatter\", \"x\": [475.0, 475.0, 582.59765625, 582.59765625], \"y\": [0.0, 0.8095238095238095, 0.8095238095238095, 0.7466666666666667], \"mode\": \"lines\", \"marker\": {\"color\": \"rgb(0,116,217)\"}, \"text\": null, \"hoverinfo\": \"all\", \"xaxis\": \"x\", \"yaxis\": \"y\"}, {\"type\": \"scatter\", \"x\": [408.125, 408.125, 528.798828125, 528.798828125], \"y\": [0.7, 0.8306451612903226, 0.8306451612903226, 0.8095238095238095], \"mode\": \"lines\", \"marker\": {\"color\": \"rgb(0,116,217)\"}, \"text\": null, \"hoverinfo\": \"all\", \"xaxis\": \"x\", \"yaxis\": \"y\"}, {\"type\": \"scatter\", \"x\": [355.0, 355.0, 468.4619140625, 468.4619140625], \"y\": [0.0, 0.875, 0.875, 0.8306451612903226], \"mode\": \"lines\", \"marker\": {\"color\": \"rgb(0,116,217)\"}, \"text\": null, \"hoverinfo\": \"all\", \"xaxis\": \"x\", \"yaxis\": \"y\"}, {\"type\": \"scatter\", \"x\": [247.65625, 247.65625, 411.73095703125, 411.73095703125], \"y\": [0.8421052631578947, 0.9, 0.9, 0.875], \"mode\": \"lines\", \"marker\": {\"color\": \"rgb(0,116,217)\"}, \"text\": null, \"hoverinfo\": \"all\", \"xaxis\": \"x\", \"yaxis\": \"y\"}, {\"type\": \"scatter\", \"x\": [183.75, 183.75, 329.693603515625, 329.693603515625], \"y\": [0.5974025974025974, 0.9431818181818182, 0.9431818181818182, 0.9], \"mode\": \"lines\", \"marker\": {\"color\": \"rgb(0,116,217)\"}, \"text\": null, \"hoverinfo\": \"all\", \"xaxis\": \"x\", \"yaxis\": \"y\"}, {\"type\": \"scatter\", \"x\": [775.0, 775.0, 785.0, 785.0], \"y\": [0.0, 0.5857142857142857, 0.5857142857142857, 0.0], \"mode\": \"lines\", \"marker\": {\"color\": \"rgb(0,116,217)\"}, \"text\": null, \"hoverinfo\": \"all\", \"xaxis\": \"x\", \"yaxis\": \"y\"}, {\"type\": \"scatter\", \"x\": [765.0, 765.0, 780.0, 780.0], \"y\": [0.0, 0.6086956521739131, 0.6086956521739131, 0.5857142857142857], \"mode\": \"lines\", \"marker\": {\"color\": \"rgb(0,116,217)\"}, \"text\": null, \"hoverinfo\": \"all\", \"xaxis\": \"x\", \"yaxis\": \"y\"}, {\"type\": \"scatter\", \"x\": [755.0, 755.0, 772.5, 772.5], \"y\": [0.0, 0.7, 0.7, 0.6086956521739131], \"mode\": \"lines\", \"marker\": {\"color\": \"rgb(0,116,217)\"}, \"text\": null, \"hoverinfo\": \"all\", \"xaxis\": \"x\", \"yaxis\": \"y\"}, {\"type\": \"scatter\", \"x\": [745.0, 745.0, 763.75, 763.75], \"y\": [0.0, 0.7586206896551724, 0.7586206896551724, 0.7], \"mode\": \"lines\", \"marker\": {\"color\": \"rgb(0,116,217)\"}, \"text\": null, \"hoverinfo\": \"all\", \"xaxis\": \"x\", \"yaxis\": \"y\"}, {\"type\": \"scatter\", \"x\": [735.0, 735.0, 754.375, 754.375], \"y\": [0.0, 0.7792207792207793, 0.7792207792207793, 0.7586206896551724], \"mode\": \"lines\", \"marker\": {\"color\": \"rgb(0,116,217)\"}, \"text\": null, \"hoverinfo\": \"all\", \"xaxis\": \"x\", \"yaxis\": \"y\"}, {\"type\": \"scatter\", \"x\": [825.0, 825.0, 835.0, 835.0], \"y\": [0.0, 0.46875, 0.46875, 0.0], \"mode\": \"lines\", \"marker\": {\"color\": \"rgb(40,35,35)\"}, \"text\": null, \"hoverinfo\": \"all\", \"xaxis\": \"x\", \"yaxis\": \"y\"}, {\"type\": \"scatter\", \"x\": [815.0, 815.0, 830.0, 830.0], \"y\": [0.0, 0.6288659793814433, 0.6288659793814433, 0.46875], \"mode\": \"lines\", \"marker\": {\"color\": \"rgb(0,116,217)\"}, \"text\": null, \"hoverinfo\": \"all\", \"xaxis\": \"x\", \"yaxis\": \"y\"}, {\"type\": \"scatter\", \"x\": [805.0, 805.0, 822.5, 822.5], \"y\": [0.0, 0.7510729613733905, 0.7510729613733905, 0.6288659793814433], \"mode\": \"lines\", \"marker\": {\"color\": \"rgb(0,116,217)\"}, \"text\": null, \"hoverinfo\": \"all\", \"xaxis\": \"x\", \"yaxis\": \"y\"}, {\"type\": \"scatter\", \"x\": [865.0, 865.0, 875.0, 875.0], \"y\": [0.0, 0.5280898876404494, 0.5280898876404494, 0.0], \"mode\": \"lines\", \"marker\": {\"color\": \"rgb(0,116,217)\"}, \"text\": null, \"hoverinfo\": \"all\", \"xaxis\": \"x\", \"yaxis\": \"y\"}, {\"type\": \"scatter\", \"x\": [855.0, 855.0, 870.0, 870.0], \"y\": [0.0, 0.6049382716049383, 0.6049382716049383, 0.5280898876404494], \"mode\": \"lines\", \"marker\": {\"color\": \"rgb(0,116,217)\"}, \"text\": null, \"hoverinfo\": \"all\", \"xaxis\": \"x\", \"yaxis\": \"y\"}, {\"type\": \"scatter\", \"x\": [845.0, 845.0, 862.5, 862.5], \"y\": [0.0, 0.734375, 0.734375, 0.6049382716049383], \"mode\": \"lines\", \"marker\": {\"color\": \"rgb(0,116,217)\"}, \"text\": null, \"hoverinfo\": \"all\", \"xaxis\": \"x\", \"yaxis\": \"y\"}, {\"type\": \"scatter\", \"x\": [885.0, 885.0, 895.0, 895.0], \"y\": [0.0, 0.5471698113207547, 0.5471698113207547, 0.0], \"mode\": \"lines\", \"marker\": {\"color\": \"rgb(0,116,217)\"}, \"text\": null, \"hoverinfo\": \"all\", \"xaxis\": \"x\", \"yaxis\": \"y\"}, {\"type\": \"scatter\", \"x\": [915.0, 915.0, 925.0, 925.0], \"y\": [0.0, 0.6206896551724138, 0.6206896551724138, 0.0], \"mode\": \"lines\", \"marker\": {\"color\": \"rgb(0,116,217)\"}, \"text\": null, \"hoverinfo\": \"all\", \"xaxis\": \"x\", \"yaxis\": \"y\"}, {\"type\": \"scatter\", \"x\": [905.0, 905.0, 920.0, 920.0], \"y\": [0.0, 0.6590909090909091, 0.6590909090909091, 0.6206896551724138], \"mode\": \"lines\", \"marker\": {\"color\": \"rgb(0,116,217)\"}, \"text\": null, \"hoverinfo\": \"all\", \"xaxis\": \"x\", \"yaxis\": \"y\"}, {\"type\": \"scatter\", \"x\": [890.0, 890.0, 912.5, 912.5], \"y\": [0.5471698113207547, 0.7407407407407407, 0.7407407407407407, 0.6590909090909091], \"mode\": \"lines\", \"marker\": {\"color\": \"rgb(0,116,217)\"}, \"text\": null, \"hoverinfo\": \"all\", \"xaxis\": \"x\", \"yaxis\": \"y\"}, {\"type\": \"scatter\", \"x\": [853.75, 853.75, 901.25, 901.25], \"y\": [0.734375, 0.7899159663865546, 0.7899159663865546, 0.7407407407407407], \"mode\": \"lines\", \"marker\": {\"color\": \"rgb(0,116,217)\"}, \"text\": null, \"hoverinfo\": \"all\", \"xaxis\": \"x\", \"yaxis\": \"y\"}, {\"type\": \"scatter\", \"x\": [813.75, 813.75, 877.5, 877.5], \"y\": [0.7510729613733905, 0.8695652173913043, 0.8695652173913043, 0.7899159663865546], \"mode\": \"lines\", \"marker\": {\"color\": \"rgb(0,116,217)\"}, \"text\": null, \"hoverinfo\": \"all\", \"xaxis\": \"x\", \"yaxis\": \"y\"}, {\"type\": \"scatter\", \"x\": [795.0, 795.0, 845.625, 845.625], \"y\": [0.0, 0.94, 0.94, 0.8695652173913043], \"mode\": \"lines\", \"marker\": {\"color\": \"rgb(0,116,217)\"}, \"text\": null, \"hoverinfo\": \"all\", \"xaxis\": \"x\", \"yaxis\": \"y\"}, {\"type\": \"scatter\", \"x\": [744.6875, 744.6875, 820.3125, 820.3125], \"y\": [0.7792207792207793, 0.9702970297029703, 0.9702970297029703, 0.94], \"mode\": \"lines\", \"marker\": {\"color\": \"rgb(0,116,217)\"}, \"text\": null, \"hoverinfo\": \"all\", \"xaxis\": \"x\", \"yaxis\": \"y\"}, {\"type\": \"scatter\", \"x\": [256.7218017578125, 256.7218017578125, 782.5, 782.5], \"y\": [0.9431818181818182, 0.9829059829059829, 0.9829059829059829, 0.9702970297029703], \"mode\": \"lines\", \"marker\": {\"color\": \"rgb(0,116,217)\"}, \"text\": null, \"hoverinfo\": \"all\", \"xaxis\": \"x\", \"yaxis\": \"y\"}, {\"type\": \"scatter\", \"x\": [955.0, 955.0, 965.0, 965.0], \"y\": [0.0, 0.4696969696969697, 0.4696969696969697, 0.0], \"mode\": \"lines\", \"marker\": {\"color\": \"rgb(61,153,112)\"}, \"text\": null, \"hoverinfo\": \"all\", \"xaxis\": \"x\", \"yaxis\": \"y\"}, {\"type\": \"scatter\", \"x\": [945.0, 945.0, 960.0, 960.0], \"y\": [0.0, 0.7362637362637363, 0.7362637362637363, 0.4696969696969697], \"mode\": \"lines\", \"marker\": {\"color\": \"rgb(0,116,217)\"}, \"text\": null, \"hoverinfo\": \"all\", \"xaxis\": \"x\", \"yaxis\": \"y\"}, {\"type\": \"scatter\", \"x\": [975.0, 975.0, 985.0, 985.0], \"y\": [0.0, 0.35294117647058826, 0.35294117647058826, 0.0], \"mode\": \"lines\", \"marker\": {\"color\": \"rgb(255,65,54)\"}, \"text\": null, \"hoverinfo\": \"all\", \"xaxis\": \"x\", \"yaxis\": \"y\"}, {\"type\": \"scatter\", \"x\": [1005.0, 1005.0, 1015.0, 1015.0], \"y\": [0.0, 0.75, 0.75, 0.0], \"mode\": \"lines\", \"marker\": {\"color\": \"rgb(0,116,217)\"}, \"text\": null, \"hoverinfo\": \"all\", \"xaxis\": \"x\", \"yaxis\": \"y\"}, {\"type\": \"scatter\", \"x\": [995.0, 995.0, 1010.0, 1010.0], \"y\": [0.0, 0.7619047619047619, 0.7619047619047619, 0.75], \"mode\": \"lines\", \"marker\": {\"color\": \"rgb(0,116,217)\"}, \"text\": null, \"hoverinfo\": \"all\", \"xaxis\": \"x\", \"yaxis\": \"y\"}, {\"type\": \"scatter\", \"x\": [980.0, 980.0, 1002.5, 1002.5], \"y\": [0.35294117647058826, 0.868421052631579, 0.868421052631579, 0.7619047619047619], \"mode\": \"lines\", \"marker\": {\"color\": \"rgb(0,116,217)\"}, \"text\": null, \"hoverinfo\": \"all\", \"xaxis\": \"x\", \"yaxis\": \"y\"}, {\"type\": \"scatter\", \"x\": [952.5, 952.5, 991.25, 991.25], \"y\": [0.7362637362637363, 0.9142857142857143, 0.9142857142857143, 0.868421052631579], \"mode\": \"lines\", \"marker\": {\"color\": \"rgb(0,116,217)\"}, \"text\": null, \"hoverinfo\": \"all\", \"xaxis\": \"x\", \"yaxis\": \"y\"}, {\"type\": \"scatter\", \"x\": [935.0, 935.0, 971.875, 971.875], \"y\": [0.0, 0.9615384615384616, 0.9615384615384616, 0.9142857142857143], \"mode\": \"lines\", \"marker\": {\"color\": \"rgb(0,116,217)\"}, \"text\": null, \"hoverinfo\": \"all\", \"xaxis\": \"x\", \"yaxis\": \"y\"}, {\"type\": \"scatter\", \"x\": [1025.0, 1025.0, 1035.0, 1035.0], \"y\": [0.0, 0.42424242424242425, 0.42424242424242425, 0.0], \"mode\": \"lines\", \"marker\": {\"color\": \"rgb(35,205,205)\"}, \"text\": null, \"hoverinfo\": \"all\", \"xaxis\": \"x\", \"yaxis\": \"y\"}, {\"type\": \"scatter\", \"x\": [1055.0, 1055.0, 1065.0, 1065.0], \"y\": [0.0, 0.4375, 0.4375, 0.0], \"mode\": \"lines\", \"marker\": {\"color\": \"rgb(133,20,75)\"}, \"text\": null, \"hoverinfo\": \"all\", \"xaxis\": \"x\", \"yaxis\": \"y\"}, {\"type\": \"scatter\", \"x\": [1045.0, 1045.0, 1060.0, 1060.0], \"y\": [0.0, 0.631578947368421, 0.631578947368421, 0.4375], \"mode\": \"lines\", \"marker\": {\"color\": \"rgb(0,116,217)\"}, \"text\": null, \"hoverinfo\": \"all\", \"xaxis\": \"x\", \"yaxis\": \"y\"}, {\"type\": \"scatter\", \"x\": [1095.0, 1095.0, 1105.0, 1105.0], \"y\": [0.0, 0.38461538461538464, 0.38461538461538464, 0.0], \"mode\": \"lines\", \"marker\": {\"color\": \"rgb(255,220,0)\"}, \"text\": null, \"hoverinfo\": \"all\", \"xaxis\": \"x\", \"yaxis\": \"y\"}, {\"type\": \"scatter\", \"x\": [1085.0, 1085.0, 1100.0, 1100.0], \"y\": [0.0, 0.5, 0.5, 0.38461538461538464], \"mode\": \"lines\", \"marker\": {\"color\": \"rgb(0,116,217)\"}, \"text\": null, \"hoverinfo\": \"all\", \"xaxis\": \"x\", \"yaxis\": \"y\"}, {\"type\": \"scatter\", \"x\": [1075.0, 1075.0, 1092.5, 1092.5], \"y\": [0.0, 0.6111111111111112, 0.6111111111111112, 0.5], \"mode\": \"lines\", \"marker\": {\"color\": \"rgb(0,116,217)\"}, \"text\": null, \"hoverinfo\": \"all\", \"xaxis\": \"x\", \"yaxis\": \"y\"}, {\"type\": \"scatter\", \"x\": [1115.0, 1115.0, 1125.0, 1125.0], \"y\": [0.0, 0.717948717948718, 0.717948717948718, 0.0], \"mode\": \"lines\", \"marker\": {\"color\": \"rgb(0,116,217)\"}, \"text\": null, \"hoverinfo\": \"all\", \"xaxis\": \"x\", \"yaxis\": \"y\"}, {\"type\": \"scatter\", \"x\": [1083.75, 1083.75, 1120.0, 1120.0], \"y\": [0.6111111111111112, 0.7307692307692307, 0.7307692307692307, 0.717948717948718], \"mode\": \"lines\", \"marker\": {\"color\": \"rgb(0,116,217)\"}, \"text\": null, \"hoverinfo\": \"all\", \"xaxis\": \"x\", \"yaxis\": \"y\"}, {\"type\": \"scatter\", \"x\": [1052.5, 1052.5, 1101.875, 1101.875], \"y\": [0.631578947368421, 0.8387096774193549, 0.8387096774193549, 0.7307692307692307], \"mode\": \"lines\", \"marker\": {\"color\": \"rgb(0,116,217)\"}, \"text\": null, \"hoverinfo\": \"all\", \"xaxis\": \"x\", \"yaxis\": \"y\"}, {\"type\": \"scatter\", \"x\": [1030.0, 1030.0, 1077.1875, 1077.1875], \"y\": [0.42424242424242425, 0.9814814814814815, 0.9814814814814815, 0.8387096774193549], \"mode\": \"lines\", \"marker\": {\"color\": \"rgb(0,116,217)\"}, \"text\": null, \"hoverinfo\": \"all\", \"xaxis\": \"x\", \"yaxis\": \"y\"}, {\"type\": \"scatter\", \"x\": [1135.0, 1135.0, 1145.0, 1145.0], \"y\": [0.0, 0.46938775510204084, 0.46938775510204084, 0.0], \"mode\": \"lines\", \"marker\": {\"color\": \"rgb(40,35,35)\"}, \"text\": null, \"hoverinfo\": \"all\", \"xaxis\": \"x\", \"yaxis\": \"y\"}, {\"type\": \"scatter\", \"x\": [1175.0, 1175.0, 1185.0, 1185.0], \"y\": [0.0, 0.4578313253012048, 0.4578313253012048, 0.0], \"mode\": \"lines\", \"marker\": {\"color\": \"rgb(61,153,112)\"}, \"text\": null, \"hoverinfo\": \"all\", \"xaxis\": \"x\", \"yaxis\": \"y\"}, {\"type\": \"scatter\", \"x\": [1165.0, 1165.0, 1180.0, 1180.0], \"y\": [0.0, 0.47560975609756095, 0.47560975609756095, 0.4578313253012048], \"mode\": \"lines\", \"marker\": {\"color\": \"rgb(61,153,112)\"}, \"text\": null, \"hoverinfo\": \"all\", \"xaxis\": \"x\", \"yaxis\": \"y\"}, {\"type\": \"scatter\", \"x\": [1155.0, 1155.0, 1172.5, 1172.5], \"y\": [0.0, 0.6136363636363636, 0.6136363636363636, 0.47560975609756095], \"mode\": \"lines\", \"marker\": {\"color\": \"rgb(0,116,217)\"}, \"text\": null, \"hoverinfo\": \"all\", \"xaxis\": \"x\", \"yaxis\": \"y\"}, {\"type\": \"scatter\", \"x\": [1140.0, 1140.0, 1163.75, 1163.75], \"y\": [0.46938775510204084, 0.8840579710144928, 0.8840579710144928, 0.6136363636363636], \"mode\": \"lines\", \"marker\": {\"color\": \"rgb(0,116,217)\"}, \"text\": null, \"hoverinfo\": \"all\", \"xaxis\": \"x\", \"yaxis\": \"y\"}, {\"type\": \"scatter\", \"x\": [1205.0, 1205.0, 1215.0, 1215.0], \"y\": [0.0, 0.6129032258064516, 0.6129032258064516, 0.0], \"mode\": \"lines\", \"marker\": {\"color\": \"rgb(0,116,217)\"}, \"text\": null, \"hoverinfo\": \"all\", \"xaxis\": \"x\", \"yaxis\": \"y\"}, {\"type\": \"scatter\", \"x\": [1195.0, 1195.0, 1210.0, 1210.0], \"y\": [0.0, 0.9024390243902439, 0.9024390243902439, 0.6129032258064516], \"mode\": \"lines\", \"marker\": {\"color\": \"rgb(0,116,217)\"}, \"text\": null, \"hoverinfo\": \"all\", \"xaxis\": \"x\", \"yaxis\": \"y\"}, {\"type\": \"scatter\", \"x\": [1225.0, 1225.0, 1235.0, 1235.0], \"y\": [0.0, 0.8461538461538461, 0.8461538461538461, 0.0], \"mode\": \"lines\", \"marker\": {\"color\": \"rgb(0,116,217)\"}, \"text\": null, \"hoverinfo\": \"all\", \"xaxis\": \"x\", \"yaxis\": \"y\"}, {\"type\": \"scatter\", \"x\": [1245.0, 1245.0, 1255.0, 1255.0], \"y\": [0.0, 0.6363636363636364, 0.6363636363636364, 0.0], \"mode\": \"lines\", \"marker\": {\"color\": \"rgb(0,116,217)\"}, \"text\": null, \"hoverinfo\": \"all\", \"xaxis\": \"x\", \"yaxis\": \"y\"}, {\"type\": \"scatter\", \"x\": [1265.0, 1265.0, 1275.0, 1275.0], \"y\": [0.0, 0.6, 0.6, 0.0], \"mode\": \"lines\", \"marker\": {\"color\": \"rgb(0,116,217)\"}, \"text\": null, \"hoverinfo\": \"all\", \"xaxis\": \"x\", \"yaxis\": \"y\"}, {\"type\": \"scatter\", \"x\": [1285.0, 1285.0, 1295.0, 1295.0], \"y\": [0.0, 0.6363636363636364, 0.6363636363636364, 0.0], \"mode\": \"lines\", \"marker\": {\"color\": \"rgb(0,116,217)\"}, \"text\": null, \"hoverinfo\": \"all\", \"xaxis\": \"x\", \"yaxis\": \"y\"}, {\"type\": \"scatter\", \"x\": [1270.0, 1270.0, 1290.0, 1290.0], \"y\": [0.6, 0.8064516129032258, 0.8064516129032258, 0.6363636363636364], \"mode\": \"lines\", \"marker\": {\"color\": \"rgb(0,116,217)\"}, \"text\": null, \"hoverinfo\": \"all\", \"xaxis\": \"x\", \"yaxis\": \"y\"}, {\"type\": \"scatter\", \"x\": [1305.0, 1305.0, 1315.0, 1315.0], \"y\": [0.0, 0.30158730158730157, 0.30158730158730157, 0.0], \"mode\": \"lines\", \"marker\": {\"color\": \"rgb(255,65,54)\"}, \"text\": null, \"hoverinfo\": \"all\", \"xaxis\": \"x\", \"yaxis\": \"y\"}, {\"type\": \"scatter\", \"x\": [1325.0, 1325.0, 1335.0, 1335.0], \"y\": [0.0, 0.35135135135135137, 0.35135135135135137, 0.0], \"mode\": \"lines\", \"marker\": {\"color\": \"rgb(35,205,205)\"}, \"text\": null, \"hoverinfo\": \"all\", \"xaxis\": \"x\", \"yaxis\": \"y\"}, {\"type\": \"scatter\", \"x\": [1310.0, 1310.0, 1330.0, 1330.0], \"y\": [0.30158730158730157, 0.5573770491803278, 0.5573770491803278, 0.35135135135135137], \"mode\": \"lines\", \"marker\": {\"color\": \"rgb(0,116,217)\"}, \"text\": null, \"hoverinfo\": \"all\", \"xaxis\": \"x\", \"yaxis\": \"y\"}, {\"type\": \"scatter\", \"x\": [1365.0, 1365.0, 1375.0, 1375.0], \"y\": [0.0, 0.59375, 0.59375, 0.0], \"mode\": \"lines\", \"marker\": {\"color\": \"rgb(0,116,217)\"}, \"text\": null, \"hoverinfo\": \"all\", \"xaxis\": \"x\", \"yaxis\": \"y\"}, {\"type\": \"scatter\", \"x\": [1355.0, 1355.0, 1370.0, 1370.0], \"y\": [0.0, 0.6428571428571429, 0.6428571428571429, 0.59375], \"mode\": \"lines\", \"marker\": {\"color\": \"rgb(0,116,217)\"}, \"text\": null, \"hoverinfo\": \"all\", \"xaxis\": \"x\", \"yaxis\": \"y\"}, {\"type\": \"scatter\", \"x\": [1345.0, 1345.0, 1362.5, 1362.5], \"y\": [0.0, 0.7692307692307693, 0.7692307692307693, 0.6428571428571429], \"mode\": \"lines\", \"marker\": {\"color\": \"rgb(0,116,217)\"}, \"text\": null, \"hoverinfo\": \"all\", \"xaxis\": \"x\", \"yaxis\": \"y\"}, {\"type\": \"scatter\", \"x\": [1320.0, 1320.0, 1353.75, 1353.75], \"y\": [0.5573770491803278, 0.8552631578947368, 0.8552631578947368, 0.7692307692307693], \"mode\": \"lines\", \"marker\": {\"color\": \"rgb(0,116,217)\"}, \"text\": null, \"hoverinfo\": \"all\", \"xaxis\": \"x\", \"yaxis\": \"y\"}, {\"type\": \"scatter\", \"x\": [1280.0, 1280.0, 1336.875, 1336.875], \"y\": [0.8064516129032258, 0.9761904761904762, 0.9761904761904762, 0.8552631578947368], \"mode\": \"lines\", \"marker\": {\"color\": \"rgb(0,116,217)\"}, \"text\": null, \"hoverinfo\": \"all\", \"xaxis\": \"x\", \"yaxis\": \"y\"}, {\"type\": \"scatter\", \"x\": [1385.0, 1385.0, 1395.0, 1395.0], \"y\": [0.0, 0.3333333333333333, 0.3333333333333333, 0.0], \"mode\": \"lines\", \"marker\": {\"color\": \"rgb(133,20,75)\"}, \"text\": null, \"hoverinfo\": \"all\", \"xaxis\": \"x\", \"yaxis\": \"y\"}, {\"type\": \"scatter\", \"x\": [1415.0, 1415.0, 1425.0, 1425.0], \"y\": [0.0, 0.2608695652173913, 0.2608695652173913, 0.0], \"mode\": \"lines\", \"marker\": {\"color\": \"rgb(133,20,75)\"}, \"text\": null, \"hoverinfo\": \"all\", \"xaxis\": \"x\", \"yaxis\": \"y\"}, {\"type\": \"scatter\", \"x\": [1405.0, 1405.0, 1420.0, 1420.0], \"y\": [0.0, 0.4, 0.4, 0.2608695652173913], \"mode\": \"lines\", \"marker\": {\"color\": \"rgb(133,20,75)\"}, \"text\": null, \"hoverinfo\": \"all\", \"xaxis\": \"x\", \"yaxis\": \"y\"}, {\"type\": \"scatter\", \"x\": [1390.0, 1390.0, 1412.5, 1412.5], \"y\": [0.3333333333333333, 0.4666666666666667, 0.4666666666666667, 0.4], \"mode\": \"lines\", \"marker\": {\"color\": \"rgb(133,20,75)\"}, \"text\": null, \"hoverinfo\": \"all\", \"xaxis\": \"x\", \"yaxis\": \"y\"}, {\"type\": \"scatter\", \"x\": [1445.0, 1445.0, 1455.0, 1455.0], \"y\": [0.0, 0.5, 0.5, 0.0], \"mode\": \"lines\", \"marker\": {\"color\": \"rgb(0,116,217)\"}, \"text\": null, \"hoverinfo\": \"all\", \"xaxis\": \"x\", \"yaxis\": \"y\"}, {\"type\": \"scatter\", \"x\": [1435.0, 1435.0, 1450.0, 1450.0], \"y\": [0.0, 0.875, 0.875, 0.5], \"mode\": \"lines\", \"marker\": {\"color\": \"rgb(0,116,217)\"}, \"text\": null, \"hoverinfo\": \"all\", \"xaxis\": \"x\", \"yaxis\": \"y\"}, {\"type\": \"scatter\", \"x\": [1401.25, 1401.25, 1442.5, 1442.5], \"y\": [0.4666666666666667, 0.9230769230769231, 0.9230769230769231, 0.875], \"mode\": \"lines\", \"marker\": {\"color\": \"rgb(0,116,217)\"}, \"text\": null, \"hoverinfo\": \"all\", \"xaxis\": \"x\", \"yaxis\": \"y\"}, {\"type\": \"scatter\", \"x\": [1475.0, 1475.0, 1485.0, 1485.0], \"y\": [0.0, 0.9285714285714286, 0.9285714285714286, 0.0], \"mode\": \"lines\", \"marker\": {\"color\": \"rgb(0,116,217)\"}, \"text\": null, \"hoverinfo\": \"all\", \"xaxis\": \"x\", \"yaxis\": \"y\"}, {\"type\": \"scatter\", \"x\": [1515.0, 1515.0, 1525.0, 1525.0], \"y\": [0.0, 0.39473684210526316, 0.39473684210526316, 0.0], \"mode\": \"lines\", \"marker\": {\"color\": \"rgb(255,220,0)\"}, \"text\": null, \"hoverinfo\": \"all\", \"xaxis\": \"x\", \"yaxis\": \"y\"}, {\"type\": \"scatter\", \"x\": [1505.0, 1505.0, 1520.0, 1520.0], \"y\": [0.0, 0.7045454545454546, 0.7045454545454546, 0.39473684210526316], \"mode\": \"lines\", \"marker\": {\"color\": \"rgb(0,116,217)\"}, \"text\": null, \"hoverinfo\": \"all\", \"xaxis\": \"x\", \"yaxis\": \"y\"}, {\"type\": \"scatter\", \"x\": [1495.0, 1495.0, 1512.5, 1512.5], \"y\": [0.0, 0.8157894736842105, 0.8157894736842105, 0.7045454545454546], \"mode\": \"lines\", \"marker\": {\"color\": \"rgb(0,116,217)\"}, \"text\": null, \"hoverinfo\": \"all\", \"xaxis\": \"x\", \"yaxis\": \"y\"}, {\"type\": \"scatter\", \"x\": [1535.0, 1535.0, 1545.0, 1545.0], \"y\": [0.0, 0.696969696969697, 0.696969696969697, 0.0], \"mode\": \"lines\", \"marker\": {\"color\": \"rgb(0,116,217)\"}, \"text\": null, \"hoverinfo\": \"all\", \"xaxis\": \"x\", \"yaxis\": \"y\"}, {\"type\": \"scatter\", \"x\": [1565.0, 1565.0, 1575.0, 1575.0], \"y\": [0.0, 0.5833333333333334, 0.5833333333333334, 0.0], \"mode\": \"lines\", \"marker\": {\"color\": \"rgb(0,116,217)\"}, \"text\": null, \"hoverinfo\": \"all\", \"xaxis\": \"x\", \"yaxis\": \"y\"}, {\"type\": \"scatter\", \"x\": [1555.0, 1555.0, 1570.0, 1570.0], \"y\": [0.0, 0.7857142857142857, 0.7857142857142857, 0.5833333333333334], \"mode\": \"lines\", \"marker\": {\"color\": \"rgb(0,116,217)\"}, \"text\": null, \"hoverinfo\": \"all\", \"xaxis\": \"x\", \"yaxis\": \"y\"}, {\"type\": \"scatter\", \"x\": [1540.0, 1540.0, 1562.5, 1562.5], \"y\": [0.696969696969697, 0.967741935483871, 0.967741935483871, 0.7857142857142857], \"mode\": \"lines\", \"marker\": {\"color\": \"rgb(0,116,217)\"}, \"text\": null, \"hoverinfo\": \"all\", \"xaxis\": \"x\", \"yaxis\": \"y\"}, {\"type\": \"scatter\", \"x\": [1503.75, 1503.75, 1551.25, 1551.25], \"y\": [0.8157894736842105, 0.9821428571428571, 0.9821428571428571, 0.967741935483871], \"mode\": \"lines\", \"marker\": {\"color\": \"rgb(0,116,217)\"}, \"text\": null, \"hoverinfo\": \"all\", \"xaxis\": \"x\", \"yaxis\": \"y\"}, {\"type\": \"scatter\", \"x\": [1585.0, 1585.0, 1595.0, 1595.0], \"y\": [0.0, 0.4375, 0.4375, 0.0], \"mode\": \"lines\", \"marker\": {\"color\": \"rgb(40,35,35)\"}, \"text\": null, \"hoverinfo\": \"all\", \"xaxis\": \"x\", \"yaxis\": \"y\"}, {\"type\": \"scatter\", \"x\": [1615.0, 1615.0, 1625.0, 1625.0], \"y\": [0.0, 0.2631578947368421, 0.2631578947368421, 0.0], \"mode\": \"lines\", \"marker\": {\"color\": \"rgb(61,153,112)\"}, \"text\": null, \"hoverinfo\": \"all\", \"xaxis\": \"x\", \"yaxis\": \"y\"}, {\"type\": \"scatter\", \"x\": [1605.0, 1605.0, 1620.0, 1620.0], \"y\": [0.0, 0.875, 0.875, 0.2631578947368421], \"mode\": \"lines\", \"marker\": {\"color\": \"rgb(0,116,217)\"}, \"text\": null, \"hoverinfo\": \"all\", \"xaxis\": \"x\", \"yaxis\": \"y\"}, {\"type\": \"scatter\", \"x\": [1590.0, 1590.0, 1612.5, 1612.5], \"y\": [0.4375, 0.9333333333333333, 0.9333333333333333, 0.875], \"mode\": \"lines\", \"marker\": {\"color\": \"rgb(0,116,217)\"}, \"text\": null, \"hoverinfo\": \"all\", \"xaxis\": \"x\", \"yaxis\": \"y\"}, {\"type\": \"scatter\", \"x\": [1655.0, 1655.0, 1665.0, 1665.0], \"y\": [0.0, 0.4166666666666667, 0.4166666666666667, 0.0], \"mode\": \"lines\", \"marker\": {\"color\": \"rgb(255,65,54)\"}, \"text\": null, \"hoverinfo\": \"all\", \"xaxis\": \"x\", \"yaxis\": \"y\"}, {\"type\": \"scatter\", \"x\": [1645.0, 1645.0, 1660.0, 1660.0], \"y\": [0.0, 0.625, 0.625, 0.4166666666666667], \"mode\": \"lines\", \"marker\": {\"color\": \"rgb(0,116,217)\"}, \"text\": null, \"hoverinfo\": \"all\", \"xaxis\": \"x\", \"yaxis\": \"y\"}, {\"type\": \"scatter\", \"x\": [1635.0, 1635.0, 1652.5, 1652.5], \"y\": [0.0, 0.8717948717948718, 0.8717948717948718, 0.625], \"mode\": \"lines\", \"marker\": {\"color\": \"rgb(0,116,217)\"}, \"text\": null, \"hoverinfo\": \"all\", \"xaxis\": \"x\", \"yaxis\": \"y\"}, {\"type\": \"scatter\", \"x\": [1685.0, 1685.0, 1695.0, 1695.0], \"y\": [0.0, 0.6031746031746031, 0.6031746031746031, 0.0], \"mode\": \"lines\", \"marker\": {\"color\": \"rgb(0,116,217)\"}, \"text\": null, \"hoverinfo\": \"all\", \"xaxis\": \"x\", \"yaxis\": \"y\"}, {\"type\": \"scatter\", \"x\": [1675.0, 1675.0, 1690.0, 1690.0], \"y\": [0.0, 0.782608695652174, 0.782608695652174, 0.6031746031746031], \"mode\": \"lines\", \"marker\": {\"color\": \"rgb(0,116,217)\"}, \"text\": null, \"hoverinfo\": \"all\", \"xaxis\": \"x\", \"yaxis\": \"y\"}, {\"type\": \"scatter\", \"x\": [1705.0, 1705.0, 1715.0, 1715.0], \"y\": [0.0, 0.8292682926829268, 0.8292682926829268, 0.0], \"mode\": \"lines\", \"marker\": {\"color\": \"rgb(0,116,217)\"}, \"text\": null, \"hoverinfo\": \"all\", \"xaxis\": \"x\", \"yaxis\": \"y\"}, {\"type\": \"scatter\", \"x\": [1682.5, 1682.5, 1710.0, 1710.0], \"y\": [0.782608695652174, 0.9230769230769231, 0.9230769230769231, 0.8292682926829268], \"mode\": \"lines\", \"marker\": {\"color\": \"rgb(0,116,217)\"}, \"text\": null, \"hoverinfo\": \"all\", \"xaxis\": \"x\", \"yaxis\": \"y\"}, {\"type\": \"scatter\", \"x\": [1643.75, 1643.75, 1696.25, 1696.25], \"y\": [0.8717948717948718, 0.9285714285714286, 0.9285714285714286, 0.9230769230769231], \"mode\": \"lines\", \"marker\": {\"color\": \"rgb(0,116,217)\"}, \"text\": null, \"hoverinfo\": \"all\", \"xaxis\": \"x\", \"yaxis\": \"y\"}, {\"type\": \"scatter\", \"x\": [1735.0, 1735.0, 1745.0, 1745.0], \"y\": [0.0, 0.8936170212765957, 0.8936170212765957, 0.0], \"mode\": \"lines\", \"marker\": {\"color\": \"rgb(0,116,217)\"}, \"text\": null, \"hoverinfo\": \"all\", \"xaxis\": \"x\", \"yaxis\": \"y\"}, {\"type\": \"scatter\", \"x\": [1725.0, 1725.0, 1740.0, 1740.0], \"y\": [0.0, 0.9508196721311475, 0.9508196721311475, 0.8936170212765957], \"mode\": \"lines\", \"marker\": {\"color\": \"rgb(0,116,217)\"}, \"text\": null, \"hoverinfo\": \"all\", \"xaxis\": \"x\", \"yaxis\": \"y\"}, {\"type\": \"scatter\", \"x\": [1670.0, 1670.0, 1732.5, 1732.5], \"y\": [0.9285714285714286, 0.9882352941176471, 0.9882352941176471, 0.9508196721311475], \"mode\": \"lines\", \"marker\": {\"color\": \"rgb(0,116,217)\"}, \"text\": null, \"hoverinfo\": \"all\", \"xaxis\": \"x\", \"yaxis\": \"y\"}, {\"type\": \"scatter\", \"x\": [1755.0, 1755.0, 1765.0, 1765.0], \"y\": [0.0, 0.4, 0.4, 0.0], \"mode\": \"lines\", \"marker\": {\"color\": \"rgb(35,205,205)\"}, \"text\": null, \"hoverinfo\": \"all\", \"xaxis\": \"x\", \"yaxis\": \"y\"}, {\"type\": \"scatter\", \"x\": [1785.0, 1785.0, 1795.0, 1795.0], \"y\": [0.0, 0.2857142857142857, 0.2857142857142857, 0.0], \"mode\": \"lines\", \"marker\": {\"color\": \"rgb(133,20,75)\"}, \"text\": null, \"hoverinfo\": \"all\", \"xaxis\": \"x\", \"yaxis\": \"y\"}, {\"type\": \"scatter\", \"x\": [1775.0, 1775.0, 1790.0, 1790.0], \"y\": [0.0, 0.391304347826087, 0.391304347826087, 0.2857142857142857], \"mode\": \"lines\", \"marker\": {\"color\": \"rgb(133,20,75)\"}, \"text\": null, \"hoverinfo\": \"all\", \"xaxis\": \"x\", \"yaxis\": \"y\"}, {\"type\": \"scatter\", \"x\": [1825.0, 1825.0, 1835.0, 1835.0], \"y\": [0.0, 0.2647058823529412, 0.2647058823529412, 0.0], \"mode\": \"lines\", \"marker\": {\"color\": \"rgb(255,220,0)\"}, \"text\": null, \"hoverinfo\": \"all\", \"xaxis\": \"x\", \"yaxis\": \"y\"}, {\"type\": \"scatter\", \"x\": [1815.0, 1815.0, 1830.0, 1830.0], \"y\": [0.0, 0.29411764705882354, 0.29411764705882354, 0.2647058823529412], \"mode\": \"lines\", \"marker\": {\"color\": \"rgb(255,220,0)\"}, \"text\": null, \"hoverinfo\": \"all\", \"xaxis\": \"x\", \"yaxis\": \"y\"}, {\"type\": \"scatter\", \"x\": [1805.0, 1805.0, 1822.5, 1822.5], \"y\": [0.0, 0.3684210526315789, 0.3684210526315789, 0.29411764705882354], \"mode\": \"lines\", \"marker\": {\"color\": \"rgb(255,220,0)\"}, \"text\": null, \"hoverinfo\": \"all\", \"xaxis\": \"x\", \"yaxis\": \"y\"}, {\"type\": \"scatter\", \"x\": [1845.0, 1845.0, 1855.0, 1855.0], \"y\": [0.0, 0.21875, 0.21875, 0.0], \"mode\": \"lines\", \"marker\": {\"color\": \"rgb(255,220,0)\"}, \"text\": null, \"hoverinfo\": \"all\", \"xaxis\": \"x\", \"yaxis\": \"y\"}, {\"type\": \"scatter\", \"x\": [1875.0, 1875.0, 1885.0, 1885.0], \"y\": [0.0, 0.25806451612903225, 0.25806451612903225, 0.0], \"mode\": \"lines\", \"marker\": {\"color\": \"rgb(255,220,0)\"}, \"text\": null, \"hoverinfo\": \"all\", \"xaxis\": \"x\", \"yaxis\": \"y\"}, {\"type\": \"scatter\", \"x\": [1865.0, 1865.0, 1880.0, 1880.0], \"y\": [0.0, 0.3235294117647059, 0.3235294117647059, 0.25806451612903225], \"mode\": \"lines\", \"marker\": {\"color\": \"rgb(255,220,0)\"}, \"text\": null, \"hoverinfo\": \"all\", \"xaxis\": \"x\", \"yaxis\": \"y\"}, {\"type\": \"scatter\", \"x\": [1850.0, 1850.0, 1872.5, 1872.5], \"y\": [0.21875, 0.38235294117647056, 0.38235294117647056, 0.3235294117647059], \"mode\": \"lines\", \"marker\": {\"color\": \"rgb(255,220,0)\"}, \"text\": null, \"hoverinfo\": \"all\", \"xaxis\": \"x\", \"yaxis\": \"y\"}, {\"type\": \"scatter\", \"x\": [1813.75, 1813.75, 1861.25, 1861.25], \"y\": [0.3684210526315789, 0.43243243243243246, 0.43243243243243246, 0.38235294117647056], \"mode\": \"lines\", \"marker\": {\"color\": \"rgb(255,220,0)\"}, \"text\": null, \"hoverinfo\": \"all\", \"xaxis\": \"x\", \"yaxis\": \"y\"}, {\"type\": \"scatter\", \"x\": [1782.5, 1782.5, 1837.5, 1837.5], \"y\": [0.391304347826087, 0.8, 0.8, 0.43243243243243246], \"mode\": \"lines\", \"marker\": {\"color\": \"rgb(0,116,217)\"}, \"text\": null, \"hoverinfo\": \"all\", \"xaxis\": \"x\", \"yaxis\": \"y\"}, {\"type\": \"scatter\", \"x\": [1760.0, 1760.0, 1810.0, 1810.0], \"y\": [0.4, 0.96, 0.96, 0.8], \"mode\": \"lines\", \"marker\": {\"color\": \"rgb(0,116,217)\"}, \"text\": null, \"hoverinfo\": \"all\", \"xaxis\": \"x\", \"yaxis\": \"y\"}, {\"type\": \"scatter\", \"x\": [1905.0, 1905.0, 1915.0, 1915.0], \"y\": [0.0, 0.5, 0.5, 0.0], \"mode\": \"lines\", \"marker\": {\"color\": \"rgb(0,116,217)\"}, \"text\": null, \"hoverinfo\": \"all\", \"xaxis\": \"x\", \"yaxis\": \"y\"}, {\"type\": \"scatter\", \"x\": [1925.0, 1925.0, 1935.0, 1935.0], \"y\": [0.0, 0.2857142857142857, 0.2857142857142857, 0.0], \"mode\": \"lines\", \"marker\": {\"color\": \"rgb(40,35,35)\"}, \"text\": null, \"hoverinfo\": \"all\", \"xaxis\": \"x\", \"yaxis\": \"y\"}, {\"type\": \"scatter\", \"x\": [1955.0, 1955.0, 1965.0, 1965.0], \"y\": [0.0, 0.2631578947368421, 0.2631578947368421, 0.0], \"mode\": \"lines\", \"marker\": {\"color\": \"rgb(61,153,112)\"}, \"text\": null, \"hoverinfo\": \"all\", \"xaxis\": \"x\", \"yaxis\": \"y\"}, {\"type\": \"scatter\", \"x\": [1945.0, 1945.0, 1960.0, 1960.0], \"y\": [0.0, 0.5416666666666666, 0.5416666666666666, 0.2631578947368421], \"mode\": \"lines\", \"marker\": {\"color\": \"rgb(0,116,217)\"}, \"text\": null, \"hoverinfo\": \"all\", \"xaxis\": \"x\", \"yaxis\": \"y\"}, {\"type\": \"scatter\", \"x\": [1930.0, 1930.0, 1952.5, 1952.5], \"y\": [0.2857142857142857, 0.8648648648648649, 0.8648648648648649, 0.5416666666666666], \"mode\": \"lines\", \"marker\": {\"color\": \"rgb(0,116,217)\"}, \"text\": null, \"hoverinfo\": \"all\", \"xaxis\": \"x\", \"yaxis\": \"y\"}, {\"type\": \"scatter\", \"x\": [1910.0, 1910.0, 1941.25, 1941.25], \"y\": [0.5, 0.9574468085106383, 0.9574468085106383, 0.8648648648648649], \"mode\": \"lines\", \"marker\": {\"color\": \"rgb(0,116,217)\"}, \"text\": null, \"hoverinfo\": \"all\", \"xaxis\": \"x\", \"yaxis\": \"y\"}, {\"type\": \"scatter\", \"x\": [1895.0, 1895.0, 1925.625, 1925.625], \"y\": [0.0, 1.0, 1.0, 0.9574468085106383], \"mode\": \"lines\", \"marker\": {\"color\": \"rgb(0,116,217)\"}, \"text\": null, \"hoverinfo\": \"all\", \"xaxis\": \"x\", \"yaxis\": \"y\"}, {\"type\": \"scatter\", \"x\": [1785.0, 1785.0, 1910.3125, 1910.3125], \"y\": [0.96, 1.0, 1.0, 1.0], \"mode\": \"lines\", \"marker\": {\"color\": \"rgb(0,116,217)\"}, \"text\": null, \"hoverinfo\": \"all\", \"xaxis\": \"x\", \"yaxis\": \"y\"}, {\"type\": \"scatter\", \"x\": [1701.25, 1701.25, 1847.65625, 1847.65625], \"y\": [0.9882352941176471, 1.0, 1.0, 1.0], \"mode\": \"lines\", \"marker\": {\"color\": \"rgb(0,116,217)\"}, \"text\": null, \"hoverinfo\": \"all\", \"xaxis\": \"x\", \"yaxis\": \"y\"}, {\"type\": \"scatter\", \"x\": [1601.25, 1601.25, 1774.453125, 1774.453125], \"y\": [0.9333333333333333, 1.0, 1.0, 1.0], \"mode\": \"lines\", \"marker\": {\"color\": \"rgb(0,116,217)\"}, \"text\": null, \"hoverinfo\": \"all\", \"xaxis\": \"x\", \"yaxis\": \"y\"}, {\"type\": \"scatter\", \"x\": [1527.5, 1527.5, 1687.8515625, 1687.8515625], \"y\": [0.9821428571428571, 1.0, 1.0, 1.0], \"mode\": \"lines\", \"marker\": {\"color\": \"rgb(0,116,217)\"}, \"text\": null, \"hoverinfo\": \"all\", \"xaxis\": \"x\", \"yaxis\": \"y\"}, {\"type\": \"scatter\", \"x\": [1480.0, 1480.0, 1607.67578125, 1607.67578125], \"y\": [0.9285714285714286, 1.0, 1.0, 1.0], \"mode\": \"lines\", \"marker\": {\"color\": \"rgb(0,116,217)\"}, \"text\": null, \"hoverinfo\": \"all\", \"xaxis\": \"x\", \"yaxis\": \"y\"}, {\"type\": \"scatter\", \"x\": [1465.0, 1465.0, 1543.837890625, 1543.837890625], \"y\": [0.0, 1.0, 1.0, 1.0], \"mode\": \"lines\", \"marker\": {\"color\": \"rgb(0,116,217)\"}, \"text\": null, \"hoverinfo\": \"all\", \"xaxis\": \"x\", \"yaxis\": \"y\"}, {\"type\": \"scatter\", \"x\": [1421.875, 1421.875, 1504.4189453125, 1504.4189453125], \"y\": [0.9230769230769231, 1.0, 1.0, 1.0], \"mode\": \"lines\", \"marker\": {\"color\": \"rgb(0,116,217)\"}, \"text\": null, \"hoverinfo\": \"all\", \"xaxis\": \"x\", \"yaxis\": \"y\"}, {\"type\": \"scatter\", \"x\": [1308.4375, 1308.4375, 1463.14697265625, 1463.14697265625], \"y\": [0.9761904761904762, 1.0, 1.0, 1.0], \"mode\": \"lines\", \"marker\": {\"color\": \"rgb(0,116,217)\"}, \"text\": null, \"hoverinfo\": \"all\", \"xaxis\": \"x\", \"yaxis\": \"y\"}, {\"type\": \"scatter\", \"x\": [1250.0, 1250.0, 1385.792236328125, 1385.792236328125], \"y\": [0.6363636363636364, 1.0, 1.0, 1.0], \"mode\": \"lines\", \"marker\": {\"color\": \"rgb(0,116,217)\"}, \"text\": null, \"hoverinfo\": \"all\", \"xaxis\": \"x\", \"yaxis\": \"y\"}, {\"type\": \"scatter\", \"x\": [1230.0, 1230.0, 1317.8961181640625, 1317.8961181640625], \"y\": [0.8461538461538461, 1.0, 1.0, 1.0], \"mode\": \"lines\", \"marker\": {\"color\": \"rgb(0,116,217)\"}, \"text\": null, \"hoverinfo\": \"all\", \"xaxis\": \"x\", \"yaxis\": \"y\"}, {\"type\": \"scatter\", \"x\": [1202.5, 1202.5, 1273.9480590820312, 1273.9480590820312], \"y\": [0.9024390243902439, 1.0, 1.0, 1.0], \"mode\": \"lines\", \"marker\": {\"color\": \"rgb(0,116,217)\"}, \"text\": null, \"hoverinfo\": \"all\", \"xaxis\": \"x\", \"yaxis\": \"y\"}, {\"type\": \"scatter\", \"x\": [1151.875, 1151.875, 1238.2240295410156, 1238.2240295410156], \"y\": [0.8840579710144928, 1.0, 1.0, 1.0], \"mode\": \"lines\", \"marker\": {\"color\": \"rgb(0,116,217)\"}, \"text\": null, \"hoverinfo\": \"all\", \"xaxis\": \"x\", \"yaxis\": \"y\"}, {\"type\": \"scatter\", \"x\": [1053.59375, 1053.59375, 1195.0495147705078, 1195.0495147705078], \"y\": [0.9814814814814815, 1.0, 1.0, 1.0], \"mode\": \"lines\", \"marker\": {\"color\": \"rgb(0,116,217)\"}, \"text\": null, \"hoverinfo\": \"all\", \"xaxis\": \"x\", \"yaxis\": \"y\"}, {\"type\": \"scatter\", \"x\": [953.4375, 953.4375, 1124.321632385254, 1124.321632385254], \"y\": [0.9615384615384616, 1.0, 1.0, 1.0], \"mode\": \"lines\", \"marker\": {\"color\": \"rgb(0,116,217)\"}, \"text\": null, \"hoverinfo\": \"all\", \"xaxis\": \"x\", \"yaxis\": \"y\"}, {\"type\": \"scatter\", \"x\": [519.6109008789062, 519.6109008789062, 1038.879566192627, 1038.879566192627], \"y\": [0.9829059829059829, 1.0, 1.0, 1.0], \"mode\": \"lines\", \"marker\": {\"color\": \"rgb(0,116,217)\"}, \"text\": null, \"hoverinfo\": \"all\", \"xaxis\": \"x\", \"yaxis\": \"y\"}, {\"type\": \"scatter\", \"x\": [59.4921875, 59.4921875, 779.2452335357666, 779.2452335357666], \"y\": [0.9666666666666667, 1.0, 1.0, 1.0], \"mode\": \"lines\", \"marker\": {\"color\": \"rgb(0,116,217)\"}, \"text\": null, \"hoverinfo\": \"all\", \"xaxis\": \"x\", \"yaxis\": \"y\"}, {\"type\": \"scatter\", \"x\": [5.0, 5.0, 419.3687105178833, 419.3687105178833], \"y\": [0.0, 1.0, 1.0, 1.0], \"mode\": \"lines\", \"marker\": {\"color\": \"rgb(0,116,217)\"}, \"text\": null, \"hoverinfo\": \"all\", \"xaxis\": \"x\", \"yaxis\": \"y\"}], {\"xaxis\": {\"tickvals\": [5.0, 15.0, 25.0, 35.0, 45.0, 55.0, 65.0, 75.0, 85.0, 95.0, 105.0, 115.0, 125.0, 135.0, 145.0, 155.0, 165.0, 175.0, 185.0, 195.0, 205.0, 215.0, 225.0, 235.0, 245.0, 255.0, 265.0, 275.0, 285.0, 295.0, 305.0, 315.0, 325.0, 335.0, 345.0, 355.0, 365.0, 375.0, 385.0, 395.0, 405.0, 415.0, 425.0, 435.0, 445.0, 455.0, 465.0, 475.0, 485.0, 495.0, 505.0, 515.0, 525.0, 535.0, 545.0, 555.0, 565.0, 575.0, 585.0, 595.0, 605.0, 615.0, 625.0, 635.0, 645.0, 655.0, 665.0, 675.0, 685.0, 695.0, 705.0, 715.0, 725.0, 735.0, 745.0, 755.0, 765.0, 775.0, 785.0, 795.0, 805.0, 815.0, 825.0, 835.0, 845.0, 855.0, 865.0, 875.0, 885.0, 895.0, 905.0, 915.0, 925.0, 935.0, 945.0, 955.0, 965.0, 975.0, 985.0, 995.0, 1005.0, 1015.0, 1025.0, 1035.0, 1045.0, 1055.0, 1065.0, 1075.0, 1085.0, 1095.0, 1105.0, 1115.0, 1125.0, 1135.0, 1145.0, 1155.0, 1165.0, 1175.0, 1185.0, 1195.0, 1205.0, 1215.0, 1225.0, 1235.0, 1245.0, 1255.0, 1265.0, 1275.0, 1285.0, 1295.0, 1305.0, 1315.0, 1325.0, 1335.0, 1345.0, 1355.0, 1365.0, 1375.0, 1385.0, 1395.0, 1405.0, 1415.0, 1425.0, 1435.0, 1445.0, 1455.0, 1465.0, 1475.0, 1485.0, 1495.0, 1505.0, 1515.0, 1525.0, 1535.0, 1545.0, 1555.0, 1565.0, 1575.0, 1585.0, 1595.0, 1605.0, 1615.0, 1625.0, 1635.0, 1645.0, 1655.0, 1665.0, 1675.0, 1685.0, 1695.0, 1705.0, 1715.0, 1725.0, 1735.0, 1745.0, 1755.0, 1765.0, 1775.0, 1785.0, 1795.0, 1805.0, 1815.0, 1825.0, 1835.0, 1845.0, 1855.0, 1865.0, 1875.0, 1885.0, 1895.0, 1905.0, 1915.0, 1925.0, 1935.0, 1945.0, 1955.0, 1965.0], \"ticktext\": [\"QE_2017_001815_797.51746_866\", \"QE_2017_001816_463.12311_410\", \"QE_2017_001814_340.16034_314\", \"QE_2017_001814_498.25430_475\", \"QE_2017_001814_314.14456_74\", \"QE_2017_001816_314.14462_79\", \"QE_2017_001815_342.17590_256\", \"QE_2017_001816_310.14957_134\", \"QE_2017_001816_339.10733_298\", \"QE_2017_001814_339.10742_366\", \"QE_2017_001814_231.04967_404\", \"QE_2017_001814_231.04964_314\", \"QE_2017_001814_231.04971_516\", \"QE_2017_001815_231.04971_369\", \"QE_2017_001814_507.18195_178\", \"QE_2017_001814_611.15997_285\", \"QE_2017_001816_611.16064_309\", \"QE_2017_001814_251.09117_393\", \"QE_2017_001815_219.10159_438\", \"QE_2017_001815_219.10146_381\", \"QE_2017_001814_219.10141_360\", \"QE_2017_001815_201.16367_442\", \"QE_2017_001816_201.16362_435\", \"QE_2017_001816_137.09584_445\", \"QE_2017_001814_191.14291_389\", \"QE_2017_001815_191.14287_312\", \"QE_2017_001815_191.14293_404\", \"QE_2017_001814_207.13779_559\", \"QE_2017_001814_207.13789_295\", \"QE_2017_001814_281.17450_492\", \"QE_2017_001814_243.15892_533\", \"QE_2017_001816_181.12199_794\", \"QE_2017_001814_181.12213_767\", \"QE_2017_001816_227.12766_295\", \"QE_2017_001814_227.12750_293\", \"QE_2017_001816_272.25824_582\", \"QE_2017_001814_209.15358_311\", \"QE_2017_001815_209.15350_312\", \"QE_2017_001814_209.15335_478\", \"QE_2017_001815_209.15349_295\", \"QE_2017_001815_353.26901_600\", \"QE_2017_001814_353.26868_633\", \"QE_2017_001814_279.23157_719\", \"QE_2017_001814_278.24756_683\", \"QE_2017_001814_293.21060_579\", \"QE_2017_001815_227.16408_344\", \"QE_2017_001814_283.19022_564\", \"QE_2017_001815_571.42920_870\", \"QE_2017_001815_435.25040_666\", \"QE_2017_001814_507.27179_607\", \"QE_2017_001814_261.22083_643\", \"QE_2017_001815_571.47168_711\", \"QE_2017_001814_261.22073_634\", \"QE_2017_001814_353.26889_609\", \"QE_2017_001814_353.26874_642\", \"QE_2017_001814_335.25772_725\", \"QE_2017_001816_335.25772_723\", \"QE_2017_001816_335.25772_586\", \"QE_2017_001814_335.25784_608\", \"QE_2017_001814_335.25784_628\", \"QE_2017_001815_335.25790_601\", \"QE_2017_001814_335.25772_638\", \"QE_2017_001814_219.17416_517\", \"QE_2017_001814_219.17429_497\", \"QE_2017_001814_219.17409_442\", \"QE_2017_001816_219.17416_451\", \"QE_2017_001816_337.27341_632\", \"QE_2017_001816_211.16916_405\", \"QE_2017_001815_209.08070_405\", \"QE_2017_001814_211.16902_440\", \"QE_2017_001815_211.16913_450\", \"QE_2017_001814_215.16406_483\", \"QE_2017_001815_215.16400_550\", \"QE_2017_001814_497.31033_643\", \"QE_2017_001815_792.56250_866\", \"QE_2017_001814_596.30963_602\", \"QE_2017_001816_613.48218_838\", \"QE_2017_001815_613.48260_734\", \"QE_2017_001814_792.56207_723\", \"QE_2017_001814_618.42633_695\", \"QE_2017_001815_568.42627_841\", \"QE_2017_001814_583.41431_647\", \"QE_2017_001814_618.42719_682\", \"QE_2017_001814_618.42780_646\", \"QE_2017_001814_601.42334_783\", \"QE_2017_001814_565.40350_722\", \"QE_2017_001814_583.41406_682\", \"QE_2017_001815_583.41406_707\", \"QE_2017_001816_583.41382_731\", \"QE_2017_001814_583.41406_735\", \"QE_2017_001814_599.40918_659\", \"QE_2017_001814_601.42426_706\", \"QE_2017_001815_599.40881_793\", \"QE_2017_001815_214.51021_60\", \"QE_2017_001815_268.59360_446\", \"QE_2017_001814_222.07031_314\", \"QE_2017_001814_250.10149_516\", \"QE_2017_001814_247.05975_245\", \"QE_2017_001815_247.05980_242\", \"QE_2017_001814_214.56496_409\", \"QE_2017_001815_212.03883_181\", \"QE_2017_001815_219.04675_291\", \"QE_2017_001815_268.10373_58\", \"QE_2017_001816_269.16055_60\", \"QE_2017_001815_364.34189_705\", \"QE_2017_001814_408.36810_703\", \"QE_2017_001814_466.40994_731\", \"QE_2017_001814_364.34241_751\", \"QE_2017_001814_424.36325_711\", \"QE_2017_001814_364.34244_761\", \"QE_2017_001814_421.35211_732\", \"QE_2017_001815_482.40488_739\", \"QE_2017_001815_408.36853_717\", \"QE_2017_001814_347.09073_203\", \"QE_2017_001814_347.09097_122\", \"QE_2017_001814_533.15497_206\", \"QE_2017_001815_533.15454_247\", \"QE_2017_001816_533.15460_271\", \"QE_2017_001814_533.15485_221\", \"QE_2017_001814_595.16577_315\", \"QE_2017_001814_463.12274_358\", \"QE_2017_001814_625.17639_345\", \"QE_2017_001816_333.15204_235\", \"QE_2017_001815_333.15173_245\", \"QE_2017_001814_319.13638_117\", \"QE_2017_001816_319.13614_143\", \"QE_2017_001814_194.04424_237\", \"QE_2017_001814_194.11740_217\", \"QE_2017_001814_194.11740_244\", \"QE_2017_001815_194.11745_132\", \"QE_2017_001815_194.04469_299\", \"QE_2017_001815_194.04474_327\", \"QE_2017_001815_194.04471_314\", \"QE_2017_001814_212.05521_327\", \"QE_2017_001816_212.05518_300\", \"QE_2017_001814_212.05518_265\", \"QE_2017_001814_194.04468_396\", \"QE_2017_001814_226.07077_397\", \"QE_2017_001815_273.13434_243\", \"QE_2017_001815_273.13425_199\", \"QE_2017_001814_291.14505_198\", \"QE_2017_001814_291.14420_241\", \"QE_2017_001815_291.14493_242\", \"QE_2017_001814_251.13872_201\", \"QE_2017_001815_235.14398_226\", \"QE_2017_001814_235.14395_180\", \"QE_2017_001815_141.05080_33\", \"QE_2017_001814_237.12305_220\", \"QE_2017_001815_237.12315_52\", \"QE_2017_001814_332.25827_467\", \"QE_2017_001814_332.25836_508\", \"QE_2017_001816_332.25842_487\", \"QE_2017_001814_332.25842_486\", \"QE_2017_001816_237.12325_171\", \"QE_2017_001814_221.12846_97\", \"QE_2017_001814_320.29468_638\", \"QE_2017_001814_320.29471_529\", \"QE_2017_001814_320.29477_539\", \"QE_2017_001814_241.15384_47\", \"QE_2017_001815_241.15446_48\", \"QE_2017_001816_229.15469_52\", \"QE_2017_001814_229.15399_46\", \"QE_2017_001814_229.15451_65\", \"QE_2017_001816_320.29483_548\", \"QE_2017_001816_338.26062_643\", \"QE_2017_001814_320.29456_577\", \"QE_2017_001814_320.29489_563\", \"QE_2017_001814_483.27118_651\", \"QE_2017_001814_338.34146_850\", \"QE_2017_001815_244.19048_762\", \"QE_2017_001814_129.12737_348\", \"QE_2017_001814_171.14908_419\", \"QE_2017_001815_132.04440_282\", \"QE_2017_001814_209.08058_363\", \"QE_2017_001814_241.15466_73\", \"QE_2017_001814_182.08116_51\", \"QE_2017_001815_182.08109_52\", \"QE_2017_001814_177.05418_236\", \"QE_2017_001816_177.05449_217\", \"QE_2017_001814_177.05450_306\", \"QE_2017_001816_199.98769_294\", \"QE_2017_001814_199.98778_290\", \"QE_2017_001816_199.98781_313\", \"QE_2017_001814_199.98778_325\", \"QE_2017_001814_199.98782_335\", \"QE_2017_001816_199.98772_359\", \"QE_2017_001814_199.98772_303\", \"QE_2017_001814_199.98788_30\", \"QE_2017_001815_199.98772_253\", \"QE_2017_001814_265.01541_33\", \"QE_2017_001815_247.12865_158\", \"QE_2017_001815_246.14465_137\", \"QE_2017_001816_260.16022_145\", \"QE_2017_001814_260.16037_143\", \"QE_2017_001814_233.14957_152\", \"QE_2017_001816_233.14955_129\", \"QE_2017_001814_233.14948_126\"], \"tickmode\": \"array\", \"type\": \"linear\", \"ticks\": \"outside\", \"mirror\": \"allticks\", \"rangemode\": \"tozero\", \"showticklabels\": true, \"zeroline\": false, \"showgrid\": false, \"showline\": true, \"title\": \"sample\"}, \"yaxis\": {\"type\": \"linear\", \"ticks\": \"outside\", \"mirror\": \"allticks\", \"rangemode\": \"tozero\", \"showticklabels\": true, \"zeroline\": false, \"showgrid\": false, \"showline\": true, \"title\": \"distance\"}, \"showlegend\": false, \"autosize\": false, \"hovermode\": \"closest\", \"width\": 900, \"height\": 400, \"title\": \"Python plotly dendro\"}, {\"showLink\": true, \"linkText\": \"Export to plot.ly\"})});</script>"
      ],
      "text/vnd.plotly.v1+html": [
       "<div id=\"48196cc4-d42b-49e4-a7ae-61a0ae394386\" style=\"height: 400px; width: 900px;\" class=\"plotly-graph-div\"></div><script type=\"text/javascript\">require([\"plotly\"], function(Plotly) { window.PLOTLYENV=window.PLOTLYENV || {};window.PLOTLYENV.BASE_URL=\"https://plot.ly\";Plotly.newPlot(\"48196cc4-d42b-49e4-a7ae-61a0ae394386\", [{\"type\": \"scatter\", \"x\": [25.0, 25.0, 35.0, 35.0], \"y\": [0.0, 0.6862745098039216, 0.6862745098039216, 0.0], \"mode\": \"lines\", \"marker\": {\"color\": \"rgb(0,116,217)\"}, \"text\": null, \"hoverinfo\": \"all\", \"xaxis\": \"x\", \"yaxis\": \"y\"}, {\"type\": \"scatter\", \"x\": [45.0, 45.0, 55.0, 55.0], \"y\": [0.0, 0.5517241379310345, 0.5517241379310345, 0.0], \"mode\": \"lines\", \"marker\": {\"color\": \"rgb(0,116,217)\"}, \"text\": null, \"hoverinfo\": \"all\", \"xaxis\": \"x\", \"yaxis\": \"y\"}, {\"type\": \"scatter\", \"x\": [65.0, 65.0, 75.0, 75.0], \"y\": [0.0, 0.6896551724137931, 0.6896551724137931, 0.0], \"mode\": \"lines\", \"marker\": {\"color\": \"rgb(0,116,217)\"}, \"text\": null, \"hoverinfo\": \"all\", \"xaxis\": \"x\", \"yaxis\": \"y\"}, {\"type\": \"scatter\", \"x\": [50.0, 50.0, 70.0, 70.0], \"y\": [0.5517241379310345, 0.7222222222222222, 0.7222222222222222, 0.6896551724137931], \"mode\": \"lines\", \"marker\": {\"color\": \"rgb(0,116,217)\"}, \"text\": null, \"hoverinfo\": \"all\", \"xaxis\": \"x\", \"yaxis\": \"y\"}, {\"type\": \"scatter\", \"x\": [85.0, 85.0, 95.0, 95.0], \"y\": [0.0, 0.44, 0.44, 0.0], \"mode\": \"lines\", \"marker\": {\"color\": \"rgb(61,153,112)\"}, \"text\": null, \"hoverinfo\": \"all\", \"xaxis\": \"x\", \"yaxis\": \"y\"}, {\"type\": \"scatter\", \"x\": [125.0, 125.0, 135.0, 135.0], \"y\": [0.0, 0.391304347826087, 0.391304347826087, 0.0], \"mode\": \"lines\", \"marker\": {\"color\": \"rgb(255,65,54)\"}, \"text\": null, \"hoverinfo\": \"all\", \"xaxis\": \"x\", \"yaxis\": \"y\"}, {\"type\": \"scatter\", \"x\": [115.0, 115.0, 130.0, 130.0], \"y\": [0.0, 0.48148148148148145, 0.48148148148148145, 0.391304347826087], \"mode\": \"lines\", \"marker\": {\"color\": \"rgb(255,65,54)\"}, \"text\": null, \"hoverinfo\": \"all\", \"xaxis\": \"x\", \"yaxis\": \"y\"}, {\"type\": \"scatter\", \"x\": [105.0, 105.0, 122.5, 122.5], \"y\": [0.0, 0.5384615384615384, 0.5384615384615384, 0.48148148148148145], \"mode\": \"lines\", \"marker\": {\"color\": \"rgb(0,116,217)\"}, \"text\": null, \"hoverinfo\": \"all\", \"xaxis\": \"x\", \"yaxis\": \"y\"}, {\"type\": \"scatter\", \"x\": [90.0, 90.0, 113.75, 113.75], \"y\": [0.44, 0.78125, 0.78125, 0.5384615384615384], \"mode\": \"lines\", \"marker\": {\"color\": \"rgb(0,116,217)\"}, \"text\": null, \"hoverinfo\": \"all\", \"xaxis\": \"x\", \"yaxis\": \"y\"}, {\"type\": \"scatter\", \"x\": [60.0, 60.0, 101.875, 101.875], \"y\": [0.7222222222222222, 0.8571428571428571, 0.8571428571428571, 0.78125], \"mode\": \"lines\", \"marker\": {\"color\": \"rgb(0,116,217)\"}, \"text\": null, \"hoverinfo\": \"all\", \"xaxis\": \"x\", \"yaxis\": \"y\"}, {\"type\": \"scatter\", \"x\": [30.0, 30.0, 80.9375, 80.9375], \"y\": [0.6862745098039216, 0.8775510204081632, 0.8775510204081632, 0.8571428571428571], \"mode\": \"lines\", \"marker\": {\"color\": \"rgb(0,116,217)\"}, \"text\": null, \"hoverinfo\": \"all\", \"xaxis\": \"x\", \"yaxis\": \"y\"}, {\"type\": \"scatter\", \"x\": [155.0, 155.0, 165.0, 165.0], \"y\": [0.0, 0.38095238095238093, 0.38095238095238093, 0.0], \"mode\": \"lines\", \"marker\": {\"color\": \"rgb(35,205,205)\"}, \"text\": null, \"hoverinfo\": \"all\", \"xaxis\": \"x\", \"yaxis\": \"y\"}, {\"type\": \"scatter\", \"x\": [145.0, 145.0, 160.0, 160.0], \"y\": [0.0, 0.918918918918919, 0.918918918918919, 0.38095238095238093], \"mode\": \"lines\", \"marker\": {\"color\": \"rgb(0,116,217)\"}, \"text\": null, \"hoverinfo\": \"all\", \"xaxis\": \"x\", \"yaxis\": \"y\"}, {\"type\": \"scatter\", \"x\": [55.46875, 55.46875, 152.5, 152.5], \"y\": [0.8775510204081632, 0.9512195121951219, 0.9512195121951219, 0.918918918918919], \"mode\": \"lines\", \"marker\": {\"color\": \"rgb(0,116,217)\"}, \"text\": null, \"hoverinfo\": \"all\", \"xaxis\": \"x\", \"yaxis\": \"y\"}, {\"type\": \"scatter\", \"x\": [15.0, 15.0, 103.984375, 103.984375], \"y\": [0.0, 0.9666666666666667, 0.9666666666666667, 0.9512195121951219], \"mode\": \"lines\", \"marker\": {\"color\": \"rgb(0,116,217)\"}, \"text\": null, \"hoverinfo\": \"all\", \"xaxis\": \"x\", \"yaxis\": \"y\"}, {\"type\": \"scatter\", \"x\": [195.0, 195.0, 205.0, 205.0], \"y\": [0.0, 0.2833333333333333, 0.2833333333333333, 0.0], \"mode\": \"lines\", \"marker\": {\"color\": \"rgb(133,20,75)\"}, \"text\": null, \"hoverinfo\": \"all\", \"xaxis\": \"x\", \"yaxis\": \"y\"}, {\"type\": \"scatter\", \"x\": [185.0, 185.0, 200.0, 200.0], \"y\": [0.0, 0.4, 0.4, 0.2833333333333333], \"mode\": \"lines\", \"marker\": {\"color\": \"rgb(133,20,75)\"}, \"text\": null, \"hoverinfo\": \"all\", \"xaxis\": \"x\", \"yaxis\": \"y\"}, {\"type\": \"scatter\", \"x\": [175.0, 175.0, 192.5, 192.5], \"y\": [0.0, 0.5974025974025974, 0.5974025974025974, 0.4], \"mode\": \"lines\", \"marker\": {\"color\": \"rgb(0,116,217)\"}, \"text\": null, \"hoverinfo\": \"all\", \"xaxis\": \"x\", \"yaxis\": \"y\"}, {\"type\": \"scatter\", \"x\": [215.0, 215.0, 225.0, 225.0], \"y\": [0.0, 0.48333333333333334, 0.48333333333333334, 0.0], \"mode\": \"lines\", \"marker\": {\"color\": \"rgb(255,220,0)\"}, \"text\": null, \"hoverinfo\": \"all\", \"xaxis\": \"x\", \"yaxis\": \"y\"}, {\"type\": \"scatter\", \"x\": [255.0, 255.0, 265.0, 265.0], \"y\": [0.0, 0.40384615384615385, 0.40384615384615385, 0.0], \"mode\": \"lines\", \"marker\": {\"color\": \"rgb(40,35,35)\"}, \"text\": null, \"hoverinfo\": \"all\", \"xaxis\": \"x\", \"yaxis\": \"y\"}, {\"type\": \"scatter\", \"x\": [245.0, 245.0, 260.0, 260.0], \"y\": [0.0, 0.5, 0.5, 0.40384615384615385], \"mode\": \"lines\", \"marker\": {\"color\": \"rgb(0,116,217)\"}, \"text\": null, \"hoverinfo\": \"all\", \"xaxis\": \"x\", \"yaxis\": \"y\"}, {\"type\": \"scatter\", \"x\": [235.0, 235.0, 252.5, 252.5], \"y\": [0.0, 0.6938775510204082, 0.6938775510204082, 0.5], \"mode\": \"lines\", \"marker\": {\"color\": \"rgb(0,116,217)\"}, \"text\": null, \"hoverinfo\": \"all\", \"xaxis\": \"x\", \"yaxis\": \"y\"}, {\"type\": \"scatter\", \"x\": [295.0, 295.0, 305.0, 305.0], \"y\": [0.0, 0.359375, 0.359375, 0.0], \"mode\": \"lines\", \"marker\": {\"color\": \"rgb(61,153,112)\"}, \"text\": null, \"hoverinfo\": \"all\", \"xaxis\": \"x\", \"yaxis\": \"y\"}, {\"type\": \"scatter\", \"x\": [285.0, 285.0, 300.0, 300.0], \"y\": [0.0, 0.5068493150684932, 0.5068493150684932, 0.359375], \"mode\": \"lines\", \"marker\": {\"color\": \"rgb(0,116,217)\"}, \"text\": null, \"hoverinfo\": \"all\", \"xaxis\": \"x\", \"yaxis\": \"y\"}, {\"type\": \"scatter\", \"x\": [275.0, 275.0, 292.5, 292.5], \"y\": [0.0, 0.6125, 0.6125, 0.5068493150684932], \"mode\": \"lines\", \"marker\": {\"color\": \"rgb(0,116,217)\"}, \"text\": null, \"hoverinfo\": \"all\", \"xaxis\": \"x\", \"yaxis\": \"y\"}, {\"type\": \"scatter\", \"x\": [315.0, 315.0, 325.0, 325.0], \"y\": [0.0, 0.2777777777777778, 0.2777777777777778, 0.0], \"mode\": \"lines\", \"marker\": {\"color\": \"rgb(255,65,54)\"}, \"text\": null, \"hoverinfo\": \"all\", \"xaxis\": \"x\", \"yaxis\": \"y\"}, {\"type\": \"scatter\", \"x\": [335.0, 335.0, 345.0, 345.0], \"y\": [0.0, 0.3382352941176471, 0.3382352941176471, 0.0], \"mode\": \"lines\", \"marker\": {\"color\": \"rgb(35,205,205)\"}, \"text\": null, \"hoverinfo\": \"all\", \"xaxis\": \"x\", \"yaxis\": \"y\"}, {\"type\": \"scatter\", \"x\": [320.0, 320.0, 340.0, 340.0], \"y\": [0.2777777777777778, 0.6712328767123288, 0.6712328767123288, 0.3382352941176471], \"mode\": \"lines\", \"marker\": {\"color\": \"rgb(0,116,217)\"}, \"text\": null, \"hoverinfo\": \"all\", \"xaxis\": \"x\", \"yaxis\": \"y\"}, {\"type\": \"scatter\", \"x\": [283.75, 283.75, 330.0, 330.0], \"y\": [0.6125, 0.7567567567567568, 0.7567567567567568, 0.6712328767123288], \"mode\": \"lines\", \"marker\": {\"color\": \"rgb(0,116,217)\"}, \"text\": null, \"hoverinfo\": \"all\", \"xaxis\": \"x\", \"yaxis\": \"y\"}, {\"type\": \"scatter\", \"x\": [243.75, 243.75, 306.875, 306.875], \"y\": [0.6938775510204082, 0.7894736842105263, 0.7894736842105263, 0.7567567567567568], \"mode\": \"lines\", \"marker\": {\"color\": \"rgb(0,116,217)\"}, \"text\": null, \"hoverinfo\": \"all\", \"xaxis\": \"x\", \"yaxis\": \"y\"}, {\"type\": \"scatter\", \"x\": [220.0, 220.0, 275.3125, 275.3125], \"y\": [0.48333333333333334, 0.8421052631578947, 0.8421052631578947, 0.7894736842105263], \"mode\": \"lines\", \"marker\": {\"color\": \"rgb(0,116,217)\"}, \"text\": null, \"hoverinfo\": \"all\", \"xaxis\": \"x\", \"yaxis\": \"y\"}, {\"type\": \"scatter\", \"x\": [365.0, 365.0, 375.0, 375.0], \"y\": [0.0, 0.2894736842105263, 0.2894736842105263, 0.0], \"mode\": \"lines\", \"marker\": {\"color\": \"rgb(133,20,75)\"}, \"text\": null, \"hoverinfo\": \"all\", \"xaxis\": \"x\", \"yaxis\": \"y\"}, {\"type\": \"scatter\", \"x\": [385.0, 385.0, 395.0, 395.0], \"y\": [0.0, 0.3835616438356164, 0.3835616438356164, 0.0], \"mode\": \"lines\", \"marker\": {\"color\": \"rgb(133,20,75)\"}, \"text\": null, \"hoverinfo\": \"all\", \"xaxis\": \"x\", \"yaxis\": \"y\"}, {\"type\": \"scatter\", \"x\": [370.0, 370.0, 390.0, 390.0], \"y\": [0.2894736842105263, 0.4523809523809524, 0.4523809523809524, 0.3835616438356164], \"mode\": \"lines\", \"marker\": {\"color\": \"rgb(133,20,75)\"}, \"text\": null, \"hoverinfo\": \"all\", \"xaxis\": \"x\", \"yaxis\": \"y\"}, {\"type\": \"scatter\", \"x\": [405.0, 405.0, 415.0, 415.0], \"y\": [0.0, 0.2871287128712871, 0.2871287128712871, 0.0], \"mode\": \"lines\", \"marker\": {\"color\": \"rgb(255,220,0)\"}, \"text\": null, \"hoverinfo\": \"all\", \"xaxis\": \"x\", \"yaxis\": \"y\"}, {\"type\": \"scatter\", \"x\": [425.0, 425.0, 435.0, 435.0], \"y\": [0.0, 0.45, 0.45, 0.0], \"mode\": \"lines\", \"marker\": {\"color\": \"rgb(40,35,35)\"}, \"text\": null, \"hoverinfo\": \"all\", \"xaxis\": \"x\", \"yaxis\": \"y\"}, {\"type\": \"scatter\", \"x\": [410.0, 410.0, 430.0, 430.0], \"y\": [0.2871287128712871, 0.5636363636363636, 0.5636363636363636, 0.45], \"mode\": \"lines\", \"marker\": {\"color\": \"rgb(0,116,217)\"}, \"text\": null, \"hoverinfo\": \"all\", \"xaxis\": \"x\", \"yaxis\": \"y\"}, {\"type\": \"scatter\", \"x\": [455.0, 455.0, 465.0, 465.0], \"y\": [0.0, 0.4659090909090909, 0.4659090909090909, 0.0], \"mode\": \"lines\", \"marker\": {\"color\": \"rgb(61,153,112)\"}, \"text\": null, \"hoverinfo\": \"all\", \"xaxis\": \"x\", \"yaxis\": \"y\"}, {\"type\": \"scatter\", \"x\": [445.0, 445.0, 460.0, 460.0], \"y\": [0.0, 0.57, 0.57, 0.4659090909090909], \"mode\": \"lines\", \"marker\": {\"color\": \"rgb(0,116,217)\"}, \"text\": null, \"hoverinfo\": \"all\", \"xaxis\": \"x\", \"yaxis\": \"y\"}, {\"type\": \"scatter\", \"x\": [420.0, 420.0, 452.5, 452.5], \"y\": [0.5636363636363636, 0.6494845360824743, 0.6494845360824743, 0.57], \"mode\": \"lines\", \"marker\": {\"color\": \"rgb(0,116,217)\"}, \"text\": null, \"hoverinfo\": \"all\", \"xaxis\": \"x\", \"yaxis\": \"y\"}, {\"type\": \"scatter\", \"x\": [380.0, 380.0, 436.25, 436.25], \"y\": [0.4523809523809524, 0.7, 0.7, 0.6494845360824743], \"mode\": \"lines\", \"marker\": {\"color\": \"rgb(0,116,217)\"}, \"text\": null, \"hoverinfo\": \"all\", \"xaxis\": \"x\", \"yaxis\": \"y\"}, {\"type\": \"scatter\", \"x\": [505.0, 505.0, 515.0, 515.0], \"y\": [0.0, 0.40816326530612246, 0.40816326530612246, 0.0], \"mode\": \"lines\", \"marker\": {\"color\": \"rgb(255,65,54)\"}, \"text\": null, \"hoverinfo\": \"all\", \"xaxis\": \"x\", \"yaxis\": \"y\"}, {\"type\": \"scatter\", \"x\": [535.0, 535.0, 545.0, 545.0], \"y\": [0.0, 0.2786885245901639, 0.2786885245901639, 0.0], \"mode\": \"lines\", \"marker\": {\"color\": \"rgb(35,205,205)\"}, \"text\": null, \"hoverinfo\": \"all\", \"xaxis\": \"x\", \"yaxis\": \"y\"}, {\"type\": \"scatter\", \"x\": [525.0, 525.0, 540.0, 540.0], \"y\": [0.0, 0.32786885245901637, 0.32786885245901637, 0.2786885245901639], \"mode\": \"lines\", \"marker\": {\"color\": \"rgb(35,205,205)\"}, \"text\": null, \"hoverinfo\": \"all\", \"xaxis\": \"x\", \"yaxis\": \"y\"}, {\"type\": \"scatter\", \"x\": [575.0, 575.0, 585.0, 585.0], \"y\": [0.0, 0.22448979591836735, 0.22448979591836735, 0.0], \"mode\": \"lines\", \"marker\": {\"color\": \"rgb(35,205,205)\"}, \"text\": null, \"hoverinfo\": \"all\", \"xaxis\": \"x\", \"yaxis\": \"y\"}, {\"type\": \"scatter\", \"x\": [565.0, 565.0, 580.0, 580.0], \"y\": [0.0, 0.26, 0.26, 0.22448979591836735], \"mode\": \"lines\", \"marker\": {\"color\": \"rgb(35,205,205)\"}, \"text\": null, \"hoverinfo\": \"all\", \"xaxis\": \"x\", \"yaxis\": \"y\"}, {\"type\": \"scatter\", \"x\": [555.0, 555.0, 572.5, 572.5], \"y\": [0.0, 0.2830188679245283, 0.2830188679245283, 0.26], \"mode\": \"lines\", \"marker\": {\"color\": \"rgb(35,205,205)\"}, \"text\": null, \"hoverinfo\": \"all\", \"xaxis\": \"x\", \"yaxis\": \"y\"}, {\"type\": \"scatter\", \"x\": [605.0, 605.0, 615.0, 615.0], \"y\": [0.0, 0.29411764705882354, 0.29411764705882354, 0.0], \"mode\": \"lines\", \"marker\": {\"color\": \"rgb(35,205,205)\"}, \"text\": null, \"hoverinfo\": \"all\", \"xaxis\": \"x\", \"yaxis\": \"y\"}, {\"type\": \"scatter\", \"x\": [595.0, 595.0, 610.0, 610.0], \"y\": [0.0, 0.3275862068965517, 0.3275862068965517, 0.29411764705882354], \"mode\": \"lines\", \"marker\": {\"color\": \"rgb(35,205,205)\"}, \"text\": null, \"hoverinfo\": \"all\", \"xaxis\": \"x\", \"yaxis\": \"y\"}, {\"type\": \"scatter\", \"x\": [563.75, 563.75, 602.5, 602.5], \"y\": [0.2830188679245283, 0.35714285714285715, 0.35714285714285715, 0.3275862068965517], \"mode\": \"lines\", \"marker\": {\"color\": \"rgb(35,205,205)\"}, \"text\": null, \"hoverinfo\": \"all\", \"xaxis\": \"x\", \"yaxis\": \"y\"}, {\"type\": \"scatter\", \"x\": [532.5, 532.5, 583.125, 583.125], \"y\": [0.32786885245901637, 0.4444444444444444, 0.4444444444444444, 0.35714285714285715], \"mode\": \"lines\", \"marker\": {\"color\": \"rgb(35,205,205)\"}, \"text\": null, \"hoverinfo\": \"all\", \"xaxis\": \"x\", \"yaxis\": \"y\"}, {\"type\": \"scatter\", \"x\": [510.0, 510.0, 557.8125, 557.8125], \"y\": [0.40816326530612246, 0.5, 0.5, 0.4444444444444444], \"mode\": \"lines\", \"marker\": {\"color\": \"rgb(0,116,217)\"}, \"text\": null, \"hoverinfo\": \"all\", \"xaxis\": \"x\", \"yaxis\": \"y\"}, {\"type\": \"scatter\", \"x\": [495.0, 495.0, 533.90625, 533.90625], \"y\": [0.0, 0.5571428571428572, 0.5571428571428572, 0.5], \"mode\": \"lines\", \"marker\": {\"color\": \"rgb(0,116,217)\"}, \"text\": null, \"hoverinfo\": \"all\", \"xaxis\": \"x\", \"yaxis\": \"y\"}, {\"type\": \"scatter\", \"x\": [485.0, 485.0, 514.453125, 514.453125], \"y\": [0.0, 0.6833333333333333, 0.6833333333333333, 0.5571428571428572], \"mode\": \"lines\", \"marker\": {\"color\": \"rgb(0,116,217)\"}, \"text\": null, \"hoverinfo\": \"all\", \"xaxis\": \"x\", \"yaxis\": \"y\"}, {\"type\": \"scatter\", \"x\": [645.0, 645.0, 655.0, 655.0], \"y\": [0.0, 0.3125, 0.3125, 0.0], \"mode\": \"lines\", \"marker\": {\"color\": \"rgb(133,20,75)\"}, \"text\": null, \"hoverinfo\": \"all\", \"xaxis\": \"x\", \"yaxis\": \"y\"}, {\"type\": \"scatter\", \"x\": [635.0, 635.0, 650.0, 650.0], \"y\": [0.0, 0.43333333333333335, 0.43333333333333335, 0.3125], \"mode\": \"lines\", \"marker\": {\"color\": \"rgb(133,20,75)\"}, \"text\": null, \"hoverinfo\": \"all\", \"xaxis\": \"x\", \"yaxis\": \"y\"}, {\"type\": \"scatter\", \"x\": [625.0, 625.0, 642.5, 642.5], \"y\": [0.0, 0.509090909090909, 0.509090909090909, 0.43333333333333335], \"mode\": \"lines\", \"marker\": {\"color\": \"rgb(0,116,217)\"}, \"text\": null, \"hoverinfo\": \"all\", \"xaxis\": \"x\", \"yaxis\": \"y\"}, {\"type\": \"scatter\", \"x\": [695.0, 695.0, 705.0, 705.0], \"y\": [0.0, 0.19230769230769232, 0.19230769230769232, 0.0], \"mode\": \"lines\", \"marker\": {\"color\": \"rgb(255,220,0)\"}, \"text\": null, \"hoverinfo\": \"all\", \"xaxis\": \"x\", \"yaxis\": \"y\"}, {\"type\": \"scatter\", \"x\": [685.0, 685.0, 700.0, 700.0], \"y\": [0.0, 0.21153846153846154, 0.21153846153846154, 0.19230769230769232], \"mode\": \"lines\", \"marker\": {\"color\": \"rgb(255,220,0)\"}, \"text\": null, \"hoverinfo\": \"all\", \"xaxis\": \"x\", \"yaxis\": \"y\"}, {\"type\": \"scatter\", \"x\": [675.0, 675.0, 692.5, 692.5], \"y\": [0.0, 0.3, 0.3, 0.21153846153846154], \"mode\": \"lines\", \"marker\": {\"color\": \"rgb(255,220,0)\"}, \"text\": null, \"hoverinfo\": \"all\", \"xaxis\": \"x\", \"yaxis\": \"y\"}, {\"type\": \"scatter\", \"x\": [665.0, 665.0, 683.75, 683.75], \"y\": [0.0, 0.47761194029850745, 0.47761194029850745, 0.3], \"mode\": \"lines\", \"marker\": {\"color\": \"rgb(255,220,0)\"}, \"text\": null, \"hoverinfo\": \"all\", \"xaxis\": \"x\", \"yaxis\": \"y\"}, {\"type\": \"scatter\", \"x\": [715.0, 715.0, 725.0, 725.0], \"y\": [0.0, 0.5510204081632653, 0.5510204081632653, 0.0], \"mode\": \"lines\", \"marker\": {\"color\": \"rgb(0,116,217)\"}, \"text\": null, \"hoverinfo\": \"all\", \"xaxis\": \"x\", \"yaxis\": \"y\"}, {\"type\": \"scatter\", \"x\": [674.375, 674.375, 720.0, 720.0], \"y\": [0.47761194029850745, 0.5857142857142857, 0.5857142857142857, 0.5510204081632653], \"mode\": \"lines\", \"marker\": {\"color\": \"rgb(0,116,217)\"}, \"text\": null, \"hoverinfo\": \"all\", \"xaxis\": \"x\", \"yaxis\": \"y\"}, {\"type\": \"scatter\", \"x\": [633.75, 633.75, 697.1875, 697.1875], \"y\": [0.509090909090909, 0.7096774193548387, 0.7096774193548387, 0.5857142857142857], \"mode\": \"lines\", \"marker\": {\"color\": \"rgb(0,116,217)\"}, \"text\": null, \"hoverinfo\": \"all\", \"xaxis\": \"x\", \"yaxis\": \"y\"}, {\"type\": \"scatter\", \"x\": [499.7265625, 499.7265625, 665.46875, 665.46875], \"y\": [0.6833333333333333, 0.7466666666666667, 0.7466666666666667, 0.7096774193548387], \"mode\": \"lines\", \"marker\": {\"color\": \"rgb(0,116,217)\"}, \"text\": null, \"hoverinfo\": \"all\", \"xaxis\": \"x\", \"yaxis\": \"y\"}, {\"type\": \"scatter\", \"x\": [475.0, 475.0, 582.59765625, 582.59765625], \"y\": [0.0, 0.8095238095238095, 0.8095238095238095, 0.7466666666666667], \"mode\": \"lines\", \"marker\": {\"color\": \"rgb(0,116,217)\"}, \"text\": null, \"hoverinfo\": \"all\", \"xaxis\": \"x\", \"yaxis\": \"y\"}, {\"type\": \"scatter\", \"x\": [408.125, 408.125, 528.798828125, 528.798828125], \"y\": [0.7, 0.8306451612903226, 0.8306451612903226, 0.8095238095238095], \"mode\": \"lines\", \"marker\": {\"color\": \"rgb(0,116,217)\"}, \"text\": null, \"hoverinfo\": \"all\", \"xaxis\": \"x\", \"yaxis\": \"y\"}, {\"type\": \"scatter\", \"x\": [355.0, 355.0, 468.4619140625, 468.4619140625], \"y\": [0.0, 0.875, 0.875, 0.8306451612903226], \"mode\": \"lines\", \"marker\": {\"color\": \"rgb(0,116,217)\"}, \"text\": null, \"hoverinfo\": \"all\", \"xaxis\": \"x\", \"yaxis\": \"y\"}, {\"type\": \"scatter\", \"x\": [247.65625, 247.65625, 411.73095703125, 411.73095703125], \"y\": [0.8421052631578947, 0.9, 0.9, 0.875], \"mode\": \"lines\", \"marker\": {\"color\": \"rgb(0,116,217)\"}, \"text\": null, \"hoverinfo\": \"all\", \"xaxis\": \"x\", \"yaxis\": \"y\"}, {\"type\": \"scatter\", \"x\": [183.75, 183.75, 329.693603515625, 329.693603515625], \"y\": [0.5974025974025974, 0.9431818181818182, 0.9431818181818182, 0.9], \"mode\": \"lines\", \"marker\": {\"color\": \"rgb(0,116,217)\"}, \"text\": null, \"hoverinfo\": \"all\", \"xaxis\": \"x\", \"yaxis\": \"y\"}, {\"type\": \"scatter\", \"x\": [775.0, 775.0, 785.0, 785.0], \"y\": [0.0, 0.5857142857142857, 0.5857142857142857, 0.0], \"mode\": \"lines\", \"marker\": {\"color\": \"rgb(0,116,217)\"}, \"text\": null, \"hoverinfo\": \"all\", \"xaxis\": \"x\", \"yaxis\": \"y\"}, {\"type\": \"scatter\", \"x\": [765.0, 765.0, 780.0, 780.0], \"y\": [0.0, 0.6086956521739131, 0.6086956521739131, 0.5857142857142857], \"mode\": \"lines\", \"marker\": {\"color\": \"rgb(0,116,217)\"}, \"text\": null, \"hoverinfo\": \"all\", \"xaxis\": \"x\", \"yaxis\": \"y\"}, {\"type\": \"scatter\", \"x\": [755.0, 755.0, 772.5, 772.5], \"y\": [0.0, 0.7, 0.7, 0.6086956521739131], \"mode\": \"lines\", \"marker\": {\"color\": \"rgb(0,116,217)\"}, \"text\": null, \"hoverinfo\": \"all\", \"xaxis\": \"x\", \"yaxis\": \"y\"}, {\"type\": \"scatter\", \"x\": [745.0, 745.0, 763.75, 763.75], \"y\": [0.0, 0.7586206896551724, 0.7586206896551724, 0.7], \"mode\": \"lines\", \"marker\": {\"color\": \"rgb(0,116,217)\"}, \"text\": null, \"hoverinfo\": \"all\", \"xaxis\": \"x\", \"yaxis\": \"y\"}, {\"type\": \"scatter\", \"x\": [735.0, 735.0, 754.375, 754.375], \"y\": [0.0, 0.7792207792207793, 0.7792207792207793, 0.7586206896551724], \"mode\": \"lines\", \"marker\": {\"color\": \"rgb(0,116,217)\"}, \"text\": null, \"hoverinfo\": \"all\", \"xaxis\": \"x\", \"yaxis\": \"y\"}, {\"type\": \"scatter\", \"x\": [825.0, 825.0, 835.0, 835.0], \"y\": [0.0, 0.46875, 0.46875, 0.0], \"mode\": \"lines\", \"marker\": {\"color\": \"rgb(40,35,35)\"}, \"text\": null, \"hoverinfo\": \"all\", \"xaxis\": \"x\", \"yaxis\": \"y\"}, {\"type\": \"scatter\", \"x\": [815.0, 815.0, 830.0, 830.0], \"y\": [0.0, 0.6288659793814433, 0.6288659793814433, 0.46875], \"mode\": \"lines\", \"marker\": {\"color\": \"rgb(0,116,217)\"}, \"text\": null, \"hoverinfo\": \"all\", \"xaxis\": \"x\", \"yaxis\": \"y\"}, {\"type\": \"scatter\", \"x\": [805.0, 805.0, 822.5, 822.5], \"y\": [0.0, 0.7510729613733905, 0.7510729613733905, 0.6288659793814433], \"mode\": \"lines\", \"marker\": {\"color\": \"rgb(0,116,217)\"}, \"text\": null, \"hoverinfo\": \"all\", \"xaxis\": \"x\", \"yaxis\": \"y\"}, {\"type\": \"scatter\", \"x\": [865.0, 865.0, 875.0, 875.0], \"y\": [0.0, 0.5280898876404494, 0.5280898876404494, 0.0], \"mode\": \"lines\", \"marker\": {\"color\": \"rgb(0,116,217)\"}, \"text\": null, \"hoverinfo\": \"all\", \"xaxis\": \"x\", \"yaxis\": \"y\"}, {\"type\": \"scatter\", \"x\": [855.0, 855.0, 870.0, 870.0], \"y\": [0.0, 0.6049382716049383, 0.6049382716049383, 0.5280898876404494], \"mode\": \"lines\", \"marker\": {\"color\": \"rgb(0,116,217)\"}, \"text\": null, \"hoverinfo\": \"all\", \"xaxis\": \"x\", \"yaxis\": \"y\"}, {\"type\": \"scatter\", \"x\": [845.0, 845.0, 862.5, 862.5], \"y\": [0.0, 0.734375, 0.734375, 0.6049382716049383], \"mode\": \"lines\", \"marker\": {\"color\": \"rgb(0,116,217)\"}, \"text\": null, \"hoverinfo\": \"all\", \"xaxis\": \"x\", \"yaxis\": \"y\"}, {\"type\": \"scatter\", \"x\": [885.0, 885.0, 895.0, 895.0], \"y\": [0.0, 0.5471698113207547, 0.5471698113207547, 0.0], \"mode\": \"lines\", \"marker\": {\"color\": \"rgb(0,116,217)\"}, \"text\": null, \"hoverinfo\": \"all\", \"xaxis\": \"x\", \"yaxis\": \"y\"}, {\"type\": \"scatter\", \"x\": [915.0, 915.0, 925.0, 925.0], \"y\": [0.0, 0.6206896551724138, 0.6206896551724138, 0.0], \"mode\": \"lines\", \"marker\": {\"color\": \"rgb(0,116,217)\"}, \"text\": null, \"hoverinfo\": \"all\", \"xaxis\": \"x\", \"yaxis\": \"y\"}, {\"type\": \"scatter\", \"x\": [905.0, 905.0, 920.0, 920.0], \"y\": [0.0, 0.6590909090909091, 0.6590909090909091, 0.6206896551724138], \"mode\": \"lines\", \"marker\": {\"color\": \"rgb(0,116,217)\"}, \"text\": null, \"hoverinfo\": \"all\", \"xaxis\": \"x\", \"yaxis\": \"y\"}, {\"type\": \"scatter\", \"x\": [890.0, 890.0, 912.5, 912.5], \"y\": [0.5471698113207547, 0.7407407407407407, 0.7407407407407407, 0.6590909090909091], \"mode\": \"lines\", \"marker\": {\"color\": \"rgb(0,116,217)\"}, \"text\": null, \"hoverinfo\": \"all\", \"xaxis\": \"x\", \"yaxis\": \"y\"}, {\"type\": \"scatter\", \"x\": [853.75, 853.75, 901.25, 901.25], \"y\": [0.734375, 0.7899159663865546, 0.7899159663865546, 0.7407407407407407], \"mode\": \"lines\", \"marker\": {\"color\": \"rgb(0,116,217)\"}, \"text\": null, \"hoverinfo\": \"all\", \"xaxis\": \"x\", \"yaxis\": \"y\"}, {\"type\": \"scatter\", \"x\": [813.75, 813.75, 877.5, 877.5], \"y\": [0.7510729613733905, 0.8695652173913043, 0.8695652173913043, 0.7899159663865546], \"mode\": \"lines\", \"marker\": {\"color\": \"rgb(0,116,217)\"}, \"text\": null, \"hoverinfo\": \"all\", \"xaxis\": \"x\", \"yaxis\": \"y\"}, {\"type\": \"scatter\", \"x\": [795.0, 795.0, 845.625, 845.625], \"y\": [0.0, 0.94, 0.94, 0.8695652173913043], \"mode\": \"lines\", \"marker\": {\"color\": \"rgb(0,116,217)\"}, \"text\": null, \"hoverinfo\": \"all\", \"xaxis\": \"x\", \"yaxis\": \"y\"}, {\"type\": \"scatter\", \"x\": [744.6875, 744.6875, 820.3125, 820.3125], \"y\": [0.7792207792207793, 0.9702970297029703, 0.9702970297029703, 0.94], \"mode\": \"lines\", \"marker\": {\"color\": \"rgb(0,116,217)\"}, \"text\": null, \"hoverinfo\": \"all\", \"xaxis\": \"x\", \"yaxis\": \"y\"}, {\"type\": \"scatter\", \"x\": [256.7218017578125, 256.7218017578125, 782.5, 782.5], \"y\": [0.9431818181818182, 0.9829059829059829, 0.9829059829059829, 0.9702970297029703], \"mode\": \"lines\", \"marker\": {\"color\": \"rgb(0,116,217)\"}, \"text\": null, \"hoverinfo\": \"all\", \"xaxis\": \"x\", \"yaxis\": \"y\"}, {\"type\": \"scatter\", \"x\": [955.0, 955.0, 965.0, 965.0], \"y\": [0.0, 0.4696969696969697, 0.4696969696969697, 0.0], \"mode\": \"lines\", \"marker\": {\"color\": \"rgb(61,153,112)\"}, \"text\": null, \"hoverinfo\": \"all\", \"xaxis\": \"x\", \"yaxis\": \"y\"}, {\"type\": \"scatter\", \"x\": [945.0, 945.0, 960.0, 960.0], \"y\": [0.0, 0.7362637362637363, 0.7362637362637363, 0.4696969696969697], \"mode\": \"lines\", \"marker\": {\"color\": \"rgb(0,116,217)\"}, \"text\": null, \"hoverinfo\": \"all\", \"xaxis\": \"x\", \"yaxis\": \"y\"}, {\"type\": \"scatter\", \"x\": [975.0, 975.0, 985.0, 985.0], \"y\": [0.0, 0.35294117647058826, 0.35294117647058826, 0.0], \"mode\": \"lines\", \"marker\": {\"color\": \"rgb(255,65,54)\"}, \"text\": null, \"hoverinfo\": \"all\", \"xaxis\": \"x\", \"yaxis\": \"y\"}, {\"type\": \"scatter\", \"x\": [1005.0, 1005.0, 1015.0, 1015.0], \"y\": [0.0, 0.75, 0.75, 0.0], \"mode\": \"lines\", \"marker\": {\"color\": \"rgb(0,116,217)\"}, \"text\": null, \"hoverinfo\": \"all\", \"xaxis\": \"x\", \"yaxis\": \"y\"}, {\"type\": \"scatter\", \"x\": [995.0, 995.0, 1010.0, 1010.0], \"y\": [0.0, 0.7619047619047619, 0.7619047619047619, 0.75], \"mode\": \"lines\", \"marker\": {\"color\": \"rgb(0,116,217)\"}, \"text\": null, \"hoverinfo\": \"all\", \"xaxis\": \"x\", \"yaxis\": \"y\"}, {\"type\": \"scatter\", \"x\": [980.0, 980.0, 1002.5, 1002.5], \"y\": [0.35294117647058826, 0.868421052631579, 0.868421052631579, 0.7619047619047619], \"mode\": \"lines\", \"marker\": {\"color\": \"rgb(0,116,217)\"}, \"text\": null, \"hoverinfo\": \"all\", \"xaxis\": \"x\", \"yaxis\": \"y\"}, {\"type\": \"scatter\", \"x\": [952.5, 952.5, 991.25, 991.25], \"y\": [0.7362637362637363, 0.9142857142857143, 0.9142857142857143, 0.868421052631579], \"mode\": \"lines\", \"marker\": {\"color\": \"rgb(0,116,217)\"}, \"text\": null, \"hoverinfo\": \"all\", \"xaxis\": \"x\", \"yaxis\": \"y\"}, {\"type\": \"scatter\", \"x\": [935.0, 935.0, 971.875, 971.875], \"y\": [0.0, 0.9615384615384616, 0.9615384615384616, 0.9142857142857143], \"mode\": \"lines\", \"marker\": {\"color\": \"rgb(0,116,217)\"}, \"text\": null, \"hoverinfo\": \"all\", \"xaxis\": \"x\", \"yaxis\": \"y\"}, {\"type\": \"scatter\", \"x\": [1025.0, 1025.0, 1035.0, 1035.0], \"y\": [0.0, 0.42424242424242425, 0.42424242424242425, 0.0], \"mode\": \"lines\", \"marker\": {\"color\": \"rgb(35,205,205)\"}, \"text\": null, \"hoverinfo\": \"all\", \"xaxis\": \"x\", \"yaxis\": \"y\"}, {\"type\": \"scatter\", \"x\": [1055.0, 1055.0, 1065.0, 1065.0], \"y\": [0.0, 0.4375, 0.4375, 0.0], \"mode\": \"lines\", \"marker\": {\"color\": \"rgb(133,20,75)\"}, \"text\": null, \"hoverinfo\": \"all\", \"xaxis\": \"x\", \"yaxis\": \"y\"}, {\"type\": \"scatter\", \"x\": [1045.0, 1045.0, 1060.0, 1060.0], \"y\": [0.0, 0.631578947368421, 0.631578947368421, 0.4375], \"mode\": \"lines\", \"marker\": {\"color\": \"rgb(0,116,217)\"}, \"text\": null, \"hoverinfo\": \"all\", \"xaxis\": \"x\", \"yaxis\": \"y\"}, {\"type\": \"scatter\", \"x\": [1095.0, 1095.0, 1105.0, 1105.0], \"y\": [0.0, 0.38461538461538464, 0.38461538461538464, 0.0], \"mode\": \"lines\", \"marker\": {\"color\": \"rgb(255,220,0)\"}, \"text\": null, \"hoverinfo\": \"all\", \"xaxis\": \"x\", \"yaxis\": \"y\"}, {\"type\": \"scatter\", \"x\": [1085.0, 1085.0, 1100.0, 1100.0], \"y\": [0.0, 0.5, 0.5, 0.38461538461538464], \"mode\": \"lines\", \"marker\": {\"color\": \"rgb(0,116,217)\"}, \"text\": null, \"hoverinfo\": \"all\", \"xaxis\": \"x\", \"yaxis\": \"y\"}, {\"type\": \"scatter\", \"x\": [1075.0, 1075.0, 1092.5, 1092.5], \"y\": [0.0, 0.6111111111111112, 0.6111111111111112, 0.5], \"mode\": \"lines\", \"marker\": {\"color\": \"rgb(0,116,217)\"}, \"text\": null, \"hoverinfo\": \"all\", \"xaxis\": \"x\", \"yaxis\": \"y\"}, {\"type\": \"scatter\", \"x\": [1115.0, 1115.0, 1125.0, 1125.0], \"y\": [0.0, 0.717948717948718, 0.717948717948718, 0.0], \"mode\": \"lines\", \"marker\": {\"color\": \"rgb(0,116,217)\"}, \"text\": null, \"hoverinfo\": \"all\", \"xaxis\": \"x\", \"yaxis\": \"y\"}, {\"type\": \"scatter\", \"x\": [1083.75, 1083.75, 1120.0, 1120.0], \"y\": [0.6111111111111112, 0.7307692307692307, 0.7307692307692307, 0.717948717948718], \"mode\": \"lines\", \"marker\": {\"color\": \"rgb(0,116,217)\"}, \"text\": null, \"hoverinfo\": \"all\", \"xaxis\": \"x\", \"yaxis\": \"y\"}, {\"type\": \"scatter\", \"x\": [1052.5, 1052.5, 1101.875, 1101.875], \"y\": [0.631578947368421, 0.8387096774193549, 0.8387096774193549, 0.7307692307692307], \"mode\": \"lines\", \"marker\": {\"color\": \"rgb(0,116,217)\"}, \"text\": null, \"hoverinfo\": \"all\", \"xaxis\": \"x\", \"yaxis\": \"y\"}, {\"type\": \"scatter\", \"x\": [1030.0, 1030.0, 1077.1875, 1077.1875], \"y\": [0.42424242424242425, 0.9814814814814815, 0.9814814814814815, 0.8387096774193549], \"mode\": \"lines\", \"marker\": {\"color\": \"rgb(0,116,217)\"}, \"text\": null, \"hoverinfo\": \"all\", \"xaxis\": \"x\", \"yaxis\": \"y\"}, {\"type\": \"scatter\", \"x\": [1135.0, 1135.0, 1145.0, 1145.0], \"y\": [0.0, 0.46938775510204084, 0.46938775510204084, 0.0], \"mode\": \"lines\", \"marker\": {\"color\": \"rgb(40,35,35)\"}, \"text\": null, \"hoverinfo\": \"all\", \"xaxis\": \"x\", \"yaxis\": \"y\"}, {\"type\": \"scatter\", \"x\": [1175.0, 1175.0, 1185.0, 1185.0], \"y\": [0.0, 0.4578313253012048, 0.4578313253012048, 0.0], \"mode\": \"lines\", \"marker\": {\"color\": \"rgb(61,153,112)\"}, \"text\": null, \"hoverinfo\": \"all\", \"xaxis\": \"x\", \"yaxis\": \"y\"}, {\"type\": \"scatter\", \"x\": [1165.0, 1165.0, 1180.0, 1180.0], \"y\": [0.0, 0.47560975609756095, 0.47560975609756095, 0.4578313253012048], \"mode\": \"lines\", \"marker\": {\"color\": \"rgb(61,153,112)\"}, \"text\": null, \"hoverinfo\": \"all\", \"xaxis\": \"x\", \"yaxis\": \"y\"}, {\"type\": \"scatter\", \"x\": [1155.0, 1155.0, 1172.5, 1172.5], \"y\": [0.0, 0.6136363636363636, 0.6136363636363636, 0.47560975609756095], \"mode\": \"lines\", \"marker\": {\"color\": \"rgb(0,116,217)\"}, \"text\": null, \"hoverinfo\": \"all\", \"xaxis\": \"x\", \"yaxis\": \"y\"}, {\"type\": \"scatter\", \"x\": [1140.0, 1140.0, 1163.75, 1163.75], \"y\": [0.46938775510204084, 0.8840579710144928, 0.8840579710144928, 0.6136363636363636], \"mode\": \"lines\", \"marker\": {\"color\": \"rgb(0,116,217)\"}, \"text\": null, \"hoverinfo\": \"all\", \"xaxis\": \"x\", \"yaxis\": \"y\"}, {\"type\": \"scatter\", \"x\": [1205.0, 1205.0, 1215.0, 1215.0], \"y\": [0.0, 0.6129032258064516, 0.6129032258064516, 0.0], \"mode\": \"lines\", \"marker\": {\"color\": \"rgb(0,116,217)\"}, \"text\": null, \"hoverinfo\": \"all\", \"xaxis\": \"x\", \"yaxis\": \"y\"}, {\"type\": \"scatter\", \"x\": [1195.0, 1195.0, 1210.0, 1210.0], \"y\": [0.0, 0.9024390243902439, 0.9024390243902439, 0.6129032258064516], \"mode\": \"lines\", \"marker\": {\"color\": \"rgb(0,116,217)\"}, \"text\": null, \"hoverinfo\": \"all\", \"xaxis\": \"x\", \"yaxis\": \"y\"}, {\"type\": \"scatter\", \"x\": [1225.0, 1225.0, 1235.0, 1235.0], \"y\": [0.0, 0.8461538461538461, 0.8461538461538461, 0.0], \"mode\": \"lines\", \"marker\": {\"color\": \"rgb(0,116,217)\"}, \"text\": null, \"hoverinfo\": \"all\", \"xaxis\": \"x\", \"yaxis\": \"y\"}, {\"type\": \"scatter\", \"x\": [1245.0, 1245.0, 1255.0, 1255.0], \"y\": [0.0, 0.6363636363636364, 0.6363636363636364, 0.0], \"mode\": \"lines\", \"marker\": {\"color\": \"rgb(0,116,217)\"}, \"text\": null, \"hoverinfo\": \"all\", \"xaxis\": \"x\", \"yaxis\": \"y\"}, {\"type\": \"scatter\", \"x\": [1265.0, 1265.0, 1275.0, 1275.0], \"y\": [0.0, 0.6, 0.6, 0.0], \"mode\": \"lines\", \"marker\": {\"color\": \"rgb(0,116,217)\"}, \"text\": null, \"hoverinfo\": \"all\", \"xaxis\": \"x\", \"yaxis\": \"y\"}, {\"type\": \"scatter\", \"x\": [1285.0, 1285.0, 1295.0, 1295.0], \"y\": [0.0, 0.6363636363636364, 0.6363636363636364, 0.0], \"mode\": \"lines\", \"marker\": {\"color\": \"rgb(0,116,217)\"}, \"text\": null, \"hoverinfo\": \"all\", \"xaxis\": \"x\", \"yaxis\": \"y\"}, {\"type\": \"scatter\", \"x\": [1270.0, 1270.0, 1290.0, 1290.0], \"y\": [0.6, 0.8064516129032258, 0.8064516129032258, 0.6363636363636364], \"mode\": \"lines\", \"marker\": {\"color\": \"rgb(0,116,217)\"}, \"text\": null, \"hoverinfo\": \"all\", \"xaxis\": \"x\", \"yaxis\": \"y\"}, {\"type\": \"scatter\", \"x\": [1305.0, 1305.0, 1315.0, 1315.0], \"y\": [0.0, 0.30158730158730157, 0.30158730158730157, 0.0], \"mode\": \"lines\", \"marker\": {\"color\": \"rgb(255,65,54)\"}, \"text\": null, \"hoverinfo\": \"all\", \"xaxis\": \"x\", \"yaxis\": \"y\"}, {\"type\": \"scatter\", \"x\": [1325.0, 1325.0, 1335.0, 1335.0], \"y\": [0.0, 0.35135135135135137, 0.35135135135135137, 0.0], \"mode\": \"lines\", \"marker\": {\"color\": \"rgb(35,205,205)\"}, \"text\": null, \"hoverinfo\": \"all\", \"xaxis\": \"x\", \"yaxis\": \"y\"}, {\"type\": \"scatter\", \"x\": [1310.0, 1310.0, 1330.0, 1330.0], \"y\": [0.30158730158730157, 0.5573770491803278, 0.5573770491803278, 0.35135135135135137], \"mode\": \"lines\", \"marker\": {\"color\": \"rgb(0,116,217)\"}, \"text\": null, \"hoverinfo\": \"all\", \"xaxis\": \"x\", \"yaxis\": \"y\"}, {\"type\": \"scatter\", \"x\": [1365.0, 1365.0, 1375.0, 1375.0], \"y\": [0.0, 0.59375, 0.59375, 0.0], \"mode\": \"lines\", \"marker\": {\"color\": \"rgb(0,116,217)\"}, \"text\": null, \"hoverinfo\": \"all\", \"xaxis\": \"x\", \"yaxis\": \"y\"}, {\"type\": \"scatter\", \"x\": [1355.0, 1355.0, 1370.0, 1370.0], \"y\": [0.0, 0.6428571428571429, 0.6428571428571429, 0.59375], \"mode\": \"lines\", \"marker\": {\"color\": \"rgb(0,116,217)\"}, \"text\": null, \"hoverinfo\": \"all\", \"xaxis\": \"x\", \"yaxis\": \"y\"}, {\"type\": \"scatter\", \"x\": [1345.0, 1345.0, 1362.5, 1362.5], \"y\": [0.0, 0.7692307692307693, 0.7692307692307693, 0.6428571428571429], \"mode\": \"lines\", \"marker\": {\"color\": \"rgb(0,116,217)\"}, \"text\": null, \"hoverinfo\": \"all\", \"xaxis\": \"x\", \"yaxis\": \"y\"}, {\"type\": \"scatter\", \"x\": [1320.0, 1320.0, 1353.75, 1353.75], \"y\": [0.5573770491803278, 0.8552631578947368, 0.8552631578947368, 0.7692307692307693], \"mode\": \"lines\", \"marker\": {\"color\": \"rgb(0,116,217)\"}, \"text\": null, \"hoverinfo\": \"all\", \"xaxis\": \"x\", \"yaxis\": \"y\"}, {\"type\": \"scatter\", \"x\": [1280.0, 1280.0, 1336.875, 1336.875], \"y\": [0.8064516129032258, 0.9761904761904762, 0.9761904761904762, 0.8552631578947368], \"mode\": \"lines\", \"marker\": {\"color\": \"rgb(0,116,217)\"}, \"text\": null, \"hoverinfo\": \"all\", \"xaxis\": \"x\", \"yaxis\": \"y\"}, {\"type\": \"scatter\", \"x\": [1385.0, 1385.0, 1395.0, 1395.0], \"y\": [0.0, 0.3333333333333333, 0.3333333333333333, 0.0], \"mode\": \"lines\", \"marker\": {\"color\": \"rgb(133,20,75)\"}, \"text\": null, \"hoverinfo\": \"all\", \"xaxis\": \"x\", \"yaxis\": \"y\"}, {\"type\": \"scatter\", \"x\": [1415.0, 1415.0, 1425.0, 1425.0], \"y\": [0.0, 0.2608695652173913, 0.2608695652173913, 0.0], \"mode\": \"lines\", \"marker\": {\"color\": \"rgb(133,20,75)\"}, \"text\": null, \"hoverinfo\": \"all\", \"xaxis\": \"x\", \"yaxis\": \"y\"}, {\"type\": \"scatter\", \"x\": [1405.0, 1405.0, 1420.0, 1420.0], \"y\": [0.0, 0.4, 0.4, 0.2608695652173913], \"mode\": \"lines\", \"marker\": {\"color\": \"rgb(133,20,75)\"}, \"text\": null, \"hoverinfo\": \"all\", \"xaxis\": \"x\", \"yaxis\": \"y\"}, {\"type\": \"scatter\", \"x\": [1390.0, 1390.0, 1412.5, 1412.5], \"y\": [0.3333333333333333, 0.4666666666666667, 0.4666666666666667, 0.4], \"mode\": \"lines\", \"marker\": {\"color\": \"rgb(133,20,75)\"}, \"text\": null, \"hoverinfo\": \"all\", \"xaxis\": \"x\", \"yaxis\": \"y\"}, {\"type\": \"scatter\", \"x\": [1445.0, 1445.0, 1455.0, 1455.0], \"y\": [0.0, 0.5, 0.5, 0.0], \"mode\": \"lines\", \"marker\": {\"color\": \"rgb(0,116,217)\"}, \"text\": null, \"hoverinfo\": \"all\", \"xaxis\": \"x\", \"yaxis\": \"y\"}, {\"type\": \"scatter\", \"x\": [1435.0, 1435.0, 1450.0, 1450.0], \"y\": [0.0, 0.875, 0.875, 0.5], \"mode\": \"lines\", \"marker\": {\"color\": \"rgb(0,116,217)\"}, \"text\": null, \"hoverinfo\": \"all\", \"xaxis\": \"x\", \"yaxis\": \"y\"}, {\"type\": \"scatter\", \"x\": [1401.25, 1401.25, 1442.5, 1442.5], \"y\": [0.4666666666666667, 0.9230769230769231, 0.9230769230769231, 0.875], \"mode\": \"lines\", \"marker\": {\"color\": \"rgb(0,116,217)\"}, \"text\": null, \"hoverinfo\": \"all\", \"xaxis\": \"x\", \"yaxis\": \"y\"}, {\"type\": \"scatter\", \"x\": [1475.0, 1475.0, 1485.0, 1485.0], \"y\": [0.0, 0.9285714285714286, 0.9285714285714286, 0.0], \"mode\": \"lines\", \"marker\": {\"color\": \"rgb(0,116,217)\"}, \"text\": null, \"hoverinfo\": \"all\", \"xaxis\": \"x\", \"yaxis\": \"y\"}, {\"type\": \"scatter\", \"x\": [1515.0, 1515.0, 1525.0, 1525.0], \"y\": [0.0, 0.39473684210526316, 0.39473684210526316, 0.0], \"mode\": \"lines\", \"marker\": {\"color\": \"rgb(255,220,0)\"}, \"text\": null, \"hoverinfo\": \"all\", \"xaxis\": \"x\", \"yaxis\": \"y\"}, {\"type\": \"scatter\", \"x\": [1505.0, 1505.0, 1520.0, 1520.0], \"y\": [0.0, 0.7045454545454546, 0.7045454545454546, 0.39473684210526316], \"mode\": \"lines\", \"marker\": {\"color\": \"rgb(0,116,217)\"}, \"text\": null, \"hoverinfo\": \"all\", \"xaxis\": \"x\", \"yaxis\": \"y\"}, {\"type\": \"scatter\", \"x\": [1495.0, 1495.0, 1512.5, 1512.5], \"y\": [0.0, 0.8157894736842105, 0.8157894736842105, 0.7045454545454546], \"mode\": \"lines\", \"marker\": {\"color\": \"rgb(0,116,217)\"}, \"text\": null, \"hoverinfo\": \"all\", \"xaxis\": \"x\", \"yaxis\": \"y\"}, {\"type\": \"scatter\", \"x\": [1535.0, 1535.0, 1545.0, 1545.0], \"y\": [0.0, 0.696969696969697, 0.696969696969697, 0.0], \"mode\": \"lines\", \"marker\": {\"color\": \"rgb(0,116,217)\"}, \"text\": null, \"hoverinfo\": \"all\", \"xaxis\": \"x\", \"yaxis\": \"y\"}, {\"type\": \"scatter\", \"x\": [1565.0, 1565.0, 1575.0, 1575.0], \"y\": [0.0, 0.5833333333333334, 0.5833333333333334, 0.0], \"mode\": \"lines\", \"marker\": {\"color\": \"rgb(0,116,217)\"}, \"text\": null, \"hoverinfo\": \"all\", \"xaxis\": \"x\", \"yaxis\": \"y\"}, {\"type\": \"scatter\", \"x\": [1555.0, 1555.0, 1570.0, 1570.0], \"y\": [0.0, 0.7857142857142857, 0.7857142857142857, 0.5833333333333334], \"mode\": \"lines\", \"marker\": {\"color\": \"rgb(0,116,217)\"}, \"text\": null, \"hoverinfo\": \"all\", \"xaxis\": \"x\", \"yaxis\": \"y\"}, {\"type\": \"scatter\", \"x\": [1540.0, 1540.0, 1562.5, 1562.5], \"y\": [0.696969696969697, 0.967741935483871, 0.967741935483871, 0.7857142857142857], \"mode\": \"lines\", \"marker\": {\"color\": \"rgb(0,116,217)\"}, \"text\": null, \"hoverinfo\": \"all\", \"xaxis\": \"x\", \"yaxis\": \"y\"}, {\"type\": \"scatter\", \"x\": [1503.75, 1503.75, 1551.25, 1551.25], \"y\": [0.8157894736842105, 0.9821428571428571, 0.9821428571428571, 0.967741935483871], \"mode\": \"lines\", \"marker\": {\"color\": \"rgb(0,116,217)\"}, \"text\": null, \"hoverinfo\": \"all\", \"xaxis\": \"x\", \"yaxis\": \"y\"}, {\"type\": \"scatter\", \"x\": [1585.0, 1585.0, 1595.0, 1595.0], \"y\": [0.0, 0.4375, 0.4375, 0.0], \"mode\": \"lines\", \"marker\": {\"color\": \"rgb(40,35,35)\"}, \"text\": null, \"hoverinfo\": \"all\", \"xaxis\": \"x\", \"yaxis\": \"y\"}, {\"type\": \"scatter\", \"x\": [1615.0, 1615.0, 1625.0, 1625.0], \"y\": [0.0, 0.2631578947368421, 0.2631578947368421, 0.0], \"mode\": \"lines\", \"marker\": {\"color\": \"rgb(61,153,112)\"}, \"text\": null, \"hoverinfo\": \"all\", \"xaxis\": \"x\", \"yaxis\": \"y\"}, {\"type\": \"scatter\", \"x\": [1605.0, 1605.0, 1620.0, 1620.0], \"y\": [0.0, 0.875, 0.875, 0.2631578947368421], \"mode\": \"lines\", \"marker\": {\"color\": \"rgb(0,116,217)\"}, \"text\": null, \"hoverinfo\": \"all\", \"xaxis\": \"x\", \"yaxis\": \"y\"}, {\"type\": \"scatter\", \"x\": [1590.0, 1590.0, 1612.5, 1612.5], \"y\": [0.4375, 0.9333333333333333, 0.9333333333333333, 0.875], \"mode\": \"lines\", \"marker\": {\"color\": \"rgb(0,116,217)\"}, \"text\": null, \"hoverinfo\": \"all\", \"xaxis\": \"x\", \"yaxis\": \"y\"}, {\"type\": \"scatter\", \"x\": [1655.0, 1655.0, 1665.0, 1665.0], \"y\": [0.0, 0.4166666666666667, 0.4166666666666667, 0.0], \"mode\": \"lines\", \"marker\": {\"color\": \"rgb(255,65,54)\"}, \"text\": null, \"hoverinfo\": \"all\", \"xaxis\": \"x\", \"yaxis\": \"y\"}, {\"type\": \"scatter\", \"x\": [1645.0, 1645.0, 1660.0, 1660.0], \"y\": [0.0, 0.625, 0.625, 0.4166666666666667], \"mode\": \"lines\", \"marker\": {\"color\": \"rgb(0,116,217)\"}, \"text\": null, \"hoverinfo\": \"all\", \"xaxis\": \"x\", \"yaxis\": \"y\"}, {\"type\": \"scatter\", \"x\": [1635.0, 1635.0, 1652.5, 1652.5], \"y\": [0.0, 0.8717948717948718, 0.8717948717948718, 0.625], \"mode\": \"lines\", \"marker\": {\"color\": \"rgb(0,116,217)\"}, \"text\": null, \"hoverinfo\": \"all\", \"xaxis\": \"x\", \"yaxis\": \"y\"}, {\"type\": \"scatter\", \"x\": [1685.0, 1685.0, 1695.0, 1695.0], \"y\": [0.0, 0.6031746031746031, 0.6031746031746031, 0.0], \"mode\": \"lines\", \"marker\": {\"color\": \"rgb(0,116,217)\"}, \"text\": null, \"hoverinfo\": \"all\", \"xaxis\": \"x\", \"yaxis\": \"y\"}, {\"type\": \"scatter\", \"x\": [1675.0, 1675.0, 1690.0, 1690.0], \"y\": [0.0, 0.782608695652174, 0.782608695652174, 0.6031746031746031], \"mode\": \"lines\", \"marker\": {\"color\": \"rgb(0,116,217)\"}, \"text\": null, \"hoverinfo\": \"all\", \"xaxis\": \"x\", \"yaxis\": \"y\"}, {\"type\": \"scatter\", \"x\": [1705.0, 1705.0, 1715.0, 1715.0], \"y\": [0.0, 0.8292682926829268, 0.8292682926829268, 0.0], \"mode\": \"lines\", \"marker\": {\"color\": \"rgb(0,116,217)\"}, \"text\": null, \"hoverinfo\": \"all\", \"xaxis\": \"x\", \"yaxis\": \"y\"}, {\"type\": \"scatter\", \"x\": [1682.5, 1682.5, 1710.0, 1710.0], \"y\": [0.782608695652174, 0.9230769230769231, 0.9230769230769231, 0.8292682926829268], \"mode\": \"lines\", \"marker\": {\"color\": \"rgb(0,116,217)\"}, \"text\": null, \"hoverinfo\": \"all\", \"xaxis\": \"x\", \"yaxis\": \"y\"}, {\"type\": \"scatter\", \"x\": [1643.75, 1643.75, 1696.25, 1696.25], \"y\": [0.8717948717948718, 0.9285714285714286, 0.9285714285714286, 0.9230769230769231], \"mode\": \"lines\", \"marker\": {\"color\": \"rgb(0,116,217)\"}, \"text\": null, \"hoverinfo\": \"all\", \"xaxis\": \"x\", \"yaxis\": \"y\"}, {\"type\": \"scatter\", \"x\": [1735.0, 1735.0, 1745.0, 1745.0], \"y\": [0.0, 0.8936170212765957, 0.8936170212765957, 0.0], \"mode\": \"lines\", \"marker\": {\"color\": \"rgb(0,116,217)\"}, \"text\": null, \"hoverinfo\": \"all\", \"xaxis\": \"x\", \"yaxis\": \"y\"}, {\"type\": \"scatter\", \"x\": [1725.0, 1725.0, 1740.0, 1740.0], \"y\": [0.0, 0.9508196721311475, 0.9508196721311475, 0.8936170212765957], \"mode\": \"lines\", \"marker\": {\"color\": \"rgb(0,116,217)\"}, \"text\": null, \"hoverinfo\": \"all\", \"xaxis\": \"x\", \"yaxis\": \"y\"}, {\"type\": \"scatter\", \"x\": [1670.0, 1670.0, 1732.5, 1732.5], \"y\": [0.9285714285714286, 0.9882352941176471, 0.9882352941176471, 0.9508196721311475], \"mode\": \"lines\", \"marker\": {\"color\": \"rgb(0,116,217)\"}, \"text\": null, \"hoverinfo\": \"all\", \"xaxis\": \"x\", \"yaxis\": \"y\"}, {\"type\": \"scatter\", \"x\": [1755.0, 1755.0, 1765.0, 1765.0], \"y\": [0.0, 0.4, 0.4, 0.0], \"mode\": \"lines\", \"marker\": {\"color\": \"rgb(35,205,205)\"}, \"text\": null, \"hoverinfo\": \"all\", \"xaxis\": \"x\", \"yaxis\": \"y\"}, {\"type\": \"scatter\", \"x\": [1785.0, 1785.0, 1795.0, 1795.0], \"y\": [0.0, 0.2857142857142857, 0.2857142857142857, 0.0], \"mode\": \"lines\", \"marker\": {\"color\": \"rgb(133,20,75)\"}, \"text\": null, \"hoverinfo\": \"all\", \"xaxis\": \"x\", \"yaxis\": \"y\"}, {\"type\": \"scatter\", \"x\": [1775.0, 1775.0, 1790.0, 1790.0], \"y\": [0.0, 0.391304347826087, 0.391304347826087, 0.2857142857142857], \"mode\": \"lines\", \"marker\": {\"color\": \"rgb(133,20,75)\"}, \"text\": null, \"hoverinfo\": \"all\", \"xaxis\": \"x\", \"yaxis\": \"y\"}, {\"type\": \"scatter\", \"x\": [1825.0, 1825.0, 1835.0, 1835.0], \"y\": [0.0, 0.2647058823529412, 0.2647058823529412, 0.0], \"mode\": \"lines\", \"marker\": {\"color\": \"rgb(255,220,0)\"}, \"text\": null, \"hoverinfo\": \"all\", \"xaxis\": \"x\", \"yaxis\": \"y\"}, {\"type\": \"scatter\", \"x\": [1815.0, 1815.0, 1830.0, 1830.0], \"y\": [0.0, 0.29411764705882354, 0.29411764705882354, 0.2647058823529412], \"mode\": \"lines\", \"marker\": {\"color\": \"rgb(255,220,0)\"}, \"text\": null, \"hoverinfo\": \"all\", \"xaxis\": \"x\", \"yaxis\": \"y\"}, {\"type\": \"scatter\", \"x\": [1805.0, 1805.0, 1822.5, 1822.5], \"y\": [0.0, 0.3684210526315789, 0.3684210526315789, 0.29411764705882354], \"mode\": \"lines\", \"marker\": {\"color\": \"rgb(255,220,0)\"}, \"text\": null, \"hoverinfo\": \"all\", \"xaxis\": \"x\", \"yaxis\": \"y\"}, {\"type\": \"scatter\", \"x\": [1845.0, 1845.0, 1855.0, 1855.0], \"y\": [0.0, 0.21875, 0.21875, 0.0], \"mode\": \"lines\", \"marker\": {\"color\": \"rgb(255,220,0)\"}, \"text\": null, \"hoverinfo\": \"all\", \"xaxis\": \"x\", \"yaxis\": \"y\"}, {\"type\": \"scatter\", \"x\": [1875.0, 1875.0, 1885.0, 1885.0], \"y\": [0.0, 0.25806451612903225, 0.25806451612903225, 0.0], \"mode\": \"lines\", \"marker\": {\"color\": \"rgb(255,220,0)\"}, \"text\": null, \"hoverinfo\": \"all\", \"xaxis\": \"x\", \"yaxis\": \"y\"}, {\"type\": \"scatter\", \"x\": [1865.0, 1865.0, 1880.0, 1880.0], \"y\": [0.0, 0.3235294117647059, 0.3235294117647059, 0.25806451612903225], \"mode\": \"lines\", \"marker\": {\"color\": \"rgb(255,220,0)\"}, \"text\": null, \"hoverinfo\": \"all\", \"xaxis\": \"x\", \"yaxis\": \"y\"}, {\"type\": \"scatter\", \"x\": [1850.0, 1850.0, 1872.5, 1872.5], \"y\": [0.21875, 0.38235294117647056, 0.38235294117647056, 0.3235294117647059], \"mode\": \"lines\", \"marker\": {\"color\": \"rgb(255,220,0)\"}, \"text\": null, \"hoverinfo\": \"all\", \"xaxis\": \"x\", \"yaxis\": \"y\"}, {\"type\": \"scatter\", \"x\": [1813.75, 1813.75, 1861.25, 1861.25], \"y\": [0.3684210526315789, 0.43243243243243246, 0.43243243243243246, 0.38235294117647056], \"mode\": \"lines\", \"marker\": {\"color\": \"rgb(255,220,0)\"}, \"text\": null, \"hoverinfo\": \"all\", \"xaxis\": \"x\", \"yaxis\": \"y\"}, {\"type\": \"scatter\", \"x\": [1782.5, 1782.5, 1837.5, 1837.5], \"y\": [0.391304347826087, 0.8, 0.8, 0.43243243243243246], \"mode\": \"lines\", \"marker\": {\"color\": \"rgb(0,116,217)\"}, \"text\": null, \"hoverinfo\": \"all\", \"xaxis\": \"x\", \"yaxis\": \"y\"}, {\"type\": \"scatter\", \"x\": [1760.0, 1760.0, 1810.0, 1810.0], \"y\": [0.4, 0.96, 0.96, 0.8], \"mode\": \"lines\", \"marker\": {\"color\": \"rgb(0,116,217)\"}, \"text\": null, \"hoverinfo\": \"all\", \"xaxis\": \"x\", \"yaxis\": \"y\"}, {\"type\": \"scatter\", \"x\": [1905.0, 1905.0, 1915.0, 1915.0], \"y\": [0.0, 0.5, 0.5, 0.0], \"mode\": \"lines\", \"marker\": {\"color\": \"rgb(0,116,217)\"}, \"text\": null, \"hoverinfo\": \"all\", \"xaxis\": \"x\", \"yaxis\": \"y\"}, {\"type\": \"scatter\", \"x\": [1925.0, 1925.0, 1935.0, 1935.0], \"y\": [0.0, 0.2857142857142857, 0.2857142857142857, 0.0], \"mode\": \"lines\", \"marker\": {\"color\": \"rgb(40,35,35)\"}, \"text\": null, \"hoverinfo\": \"all\", \"xaxis\": \"x\", \"yaxis\": \"y\"}, {\"type\": \"scatter\", \"x\": [1955.0, 1955.0, 1965.0, 1965.0], \"y\": [0.0, 0.2631578947368421, 0.2631578947368421, 0.0], \"mode\": \"lines\", \"marker\": {\"color\": \"rgb(61,153,112)\"}, \"text\": null, \"hoverinfo\": \"all\", \"xaxis\": \"x\", \"yaxis\": \"y\"}, {\"type\": \"scatter\", \"x\": [1945.0, 1945.0, 1960.0, 1960.0], \"y\": [0.0, 0.5416666666666666, 0.5416666666666666, 0.2631578947368421], \"mode\": \"lines\", \"marker\": {\"color\": \"rgb(0,116,217)\"}, \"text\": null, \"hoverinfo\": \"all\", \"xaxis\": \"x\", \"yaxis\": \"y\"}, {\"type\": \"scatter\", \"x\": [1930.0, 1930.0, 1952.5, 1952.5], \"y\": [0.2857142857142857, 0.8648648648648649, 0.8648648648648649, 0.5416666666666666], \"mode\": \"lines\", \"marker\": {\"color\": \"rgb(0,116,217)\"}, \"text\": null, \"hoverinfo\": \"all\", \"xaxis\": \"x\", \"yaxis\": \"y\"}, {\"type\": \"scatter\", \"x\": [1910.0, 1910.0, 1941.25, 1941.25], \"y\": [0.5, 0.9574468085106383, 0.9574468085106383, 0.8648648648648649], \"mode\": \"lines\", \"marker\": {\"color\": \"rgb(0,116,217)\"}, \"text\": null, \"hoverinfo\": \"all\", \"xaxis\": \"x\", \"yaxis\": \"y\"}, {\"type\": \"scatter\", \"x\": [1895.0, 1895.0, 1925.625, 1925.625], \"y\": [0.0, 1.0, 1.0, 0.9574468085106383], \"mode\": \"lines\", \"marker\": {\"color\": \"rgb(0,116,217)\"}, \"text\": null, \"hoverinfo\": \"all\", \"xaxis\": \"x\", \"yaxis\": \"y\"}, {\"type\": \"scatter\", \"x\": [1785.0, 1785.0, 1910.3125, 1910.3125], \"y\": [0.96, 1.0, 1.0, 1.0], \"mode\": \"lines\", \"marker\": {\"color\": \"rgb(0,116,217)\"}, \"text\": null, \"hoverinfo\": \"all\", \"xaxis\": \"x\", \"yaxis\": \"y\"}, {\"type\": \"scatter\", \"x\": [1701.25, 1701.25, 1847.65625, 1847.65625], \"y\": [0.9882352941176471, 1.0, 1.0, 1.0], \"mode\": \"lines\", \"marker\": {\"color\": \"rgb(0,116,217)\"}, \"text\": null, \"hoverinfo\": \"all\", \"xaxis\": \"x\", \"yaxis\": \"y\"}, {\"type\": \"scatter\", \"x\": [1601.25, 1601.25, 1774.453125, 1774.453125], \"y\": [0.9333333333333333, 1.0, 1.0, 1.0], \"mode\": \"lines\", \"marker\": {\"color\": \"rgb(0,116,217)\"}, \"text\": null, \"hoverinfo\": \"all\", \"xaxis\": \"x\", \"yaxis\": \"y\"}, {\"type\": \"scatter\", \"x\": [1527.5, 1527.5, 1687.8515625, 1687.8515625], \"y\": [0.9821428571428571, 1.0, 1.0, 1.0], \"mode\": \"lines\", \"marker\": {\"color\": \"rgb(0,116,217)\"}, \"text\": null, \"hoverinfo\": \"all\", \"xaxis\": \"x\", \"yaxis\": \"y\"}, {\"type\": \"scatter\", \"x\": [1480.0, 1480.0, 1607.67578125, 1607.67578125], \"y\": [0.9285714285714286, 1.0, 1.0, 1.0], \"mode\": \"lines\", \"marker\": {\"color\": \"rgb(0,116,217)\"}, \"text\": null, \"hoverinfo\": \"all\", \"xaxis\": \"x\", \"yaxis\": \"y\"}, {\"type\": \"scatter\", \"x\": [1465.0, 1465.0, 1543.837890625, 1543.837890625], \"y\": [0.0, 1.0, 1.0, 1.0], \"mode\": \"lines\", \"marker\": {\"color\": \"rgb(0,116,217)\"}, \"text\": null, \"hoverinfo\": \"all\", \"xaxis\": \"x\", \"yaxis\": \"y\"}, {\"type\": \"scatter\", \"x\": [1421.875, 1421.875, 1504.4189453125, 1504.4189453125], \"y\": [0.9230769230769231, 1.0, 1.0, 1.0], \"mode\": \"lines\", \"marker\": {\"color\": \"rgb(0,116,217)\"}, \"text\": null, \"hoverinfo\": \"all\", \"xaxis\": \"x\", \"yaxis\": \"y\"}, {\"type\": \"scatter\", \"x\": [1308.4375, 1308.4375, 1463.14697265625, 1463.14697265625], \"y\": [0.9761904761904762, 1.0, 1.0, 1.0], \"mode\": \"lines\", \"marker\": {\"color\": \"rgb(0,116,217)\"}, \"text\": null, \"hoverinfo\": \"all\", \"xaxis\": \"x\", \"yaxis\": \"y\"}, {\"type\": \"scatter\", \"x\": [1250.0, 1250.0, 1385.792236328125, 1385.792236328125], \"y\": [0.6363636363636364, 1.0, 1.0, 1.0], \"mode\": \"lines\", \"marker\": {\"color\": \"rgb(0,116,217)\"}, \"text\": null, \"hoverinfo\": \"all\", \"xaxis\": \"x\", \"yaxis\": \"y\"}, {\"type\": \"scatter\", \"x\": [1230.0, 1230.0, 1317.8961181640625, 1317.8961181640625], \"y\": [0.8461538461538461, 1.0, 1.0, 1.0], \"mode\": \"lines\", \"marker\": {\"color\": \"rgb(0,116,217)\"}, \"text\": null, \"hoverinfo\": \"all\", \"xaxis\": \"x\", \"yaxis\": \"y\"}, {\"type\": \"scatter\", \"x\": [1202.5, 1202.5, 1273.9480590820312, 1273.9480590820312], \"y\": [0.9024390243902439, 1.0, 1.0, 1.0], \"mode\": \"lines\", \"marker\": {\"color\": \"rgb(0,116,217)\"}, \"text\": null, \"hoverinfo\": \"all\", \"xaxis\": \"x\", \"yaxis\": \"y\"}, {\"type\": \"scatter\", \"x\": [1151.875, 1151.875, 1238.2240295410156, 1238.2240295410156], \"y\": [0.8840579710144928, 1.0, 1.0, 1.0], \"mode\": \"lines\", \"marker\": {\"color\": \"rgb(0,116,217)\"}, \"text\": null, \"hoverinfo\": \"all\", \"xaxis\": \"x\", \"yaxis\": \"y\"}, {\"type\": \"scatter\", \"x\": [1053.59375, 1053.59375, 1195.0495147705078, 1195.0495147705078], \"y\": [0.9814814814814815, 1.0, 1.0, 1.0], \"mode\": \"lines\", \"marker\": {\"color\": \"rgb(0,116,217)\"}, \"text\": null, \"hoverinfo\": \"all\", \"xaxis\": \"x\", \"yaxis\": \"y\"}, {\"type\": \"scatter\", \"x\": [953.4375, 953.4375, 1124.321632385254, 1124.321632385254], \"y\": [0.9615384615384616, 1.0, 1.0, 1.0], \"mode\": \"lines\", \"marker\": {\"color\": \"rgb(0,116,217)\"}, \"text\": null, \"hoverinfo\": \"all\", \"xaxis\": \"x\", \"yaxis\": \"y\"}, {\"type\": \"scatter\", \"x\": [519.6109008789062, 519.6109008789062, 1038.879566192627, 1038.879566192627], \"y\": [0.9829059829059829, 1.0, 1.0, 1.0], \"mode\": \"lines\", \"marker\": {\"color\": \"rgb(0,116,217)\"}, \"text\": null, \"hoverinfo\": \"all\", \"xaxis\": \"x\", \"yaxis\": \"y\"}, {\"type\": \"scatter\", \"x\": [59.4921875, 59.4921875, 779.2452335357666, 779.2452335357666], \"y\": [0.9666666666666667, 1.0, 1.0, 1.0], \"mode\": \"lines\", \"marker\": {\"color\": \"rgb(0,116,217)\"}, \"text\": null, \"hoverinfo\": \"all\", \"xaxis\": \"x\", \"yaxis\": \"y\"}, {\"type\": \"scatter\", \"x\": [5.0, 5.0, 419.3687105178833, 419.3687105178833], \"y\": [0.0, 1.0, 1.0, 1.0], \"mode\": \"lines\", \"marker\": {\"color\": \"rgb(0,116,217)\"}, \"text\": null, \"hoverinfo\": \"all\", \"xaxis\": \"x\", \"yaxis\": \"y\"}], {\"xaxis\": {\"tickvals\": [5.0, 15.0, 25.0, 35.0, 45.0, 55.0, 65.0, 75.0, 85.0, 95.0, 105.0, 115.0, 125.0, 135.0, 145.0, 155.0, 165.0, 175.0, 185.0, 195.0, 205.0, 215.0, 225.0, 235.0, 245.0, 255.0, 265.0, 275.0, 285.0, 295.0, 305.0, 315.0, 325.0, 335.0, 345.0, 355.0, 365.0, 375.0, 385.0, 395.0, 405.0, 415.0, 425.0, 435.0, 445.0, 455.0, 465.0, 475.0, 485.0, 495.0, 505.0, 515.0, 525.0, 535.0, 545.0, 555.0, 565.0, 575.0, 585.0, 595.0, 605.0, 615.0, 625.0, 635.0, 645.0, 655.0, 665.0, 675.0, 685.0, 695.0, 705.0, 715.0, 725.0, 735.0, 745.0, 755.0, 765.0, 775.0, 785.0, 795.0, 805.0, 815.0, 825.0, 835.0, 845.0, 855.0, 865.0, 875.0, 885.0, 895.0, 905.0, 915.0, 925.0, 935.0, 945.0, 955.0, 965.0, 975.0, 985.0, 995.0, 1005.0, 1015.0, 1025.0, 1035.0, 1045.0, 1055.0, 1065.0, 1075.0, 1085.0, 1095.0, 1105.0, 1115.0, 1125.0, 1135.0, 1145.0, 1155.0, 1165.0, 1175.0, 1185.0, 1195.0, 1205.0, 1215.0, 1225.0, 1235.0, 1245.0, 1255.0, 1265.0, 1275.0, 1285.0, 1295.0, 1305.0, 1315.0, 1325.0, 1335.0, 1345.0, 1355.0, 1365.0, 1375.0, 1385.0, 1395.0, 1405.0, 1415.0, 1425.0, 1435.0, 1445.0, 1455.0, 1465.0, 1475.0, 1485.0, 1495.0, 1505.0, 1515.0, 1525.0, 1535.0, 1545.0, 1555.0, 1565.0, 1575.0, 1585.0, 1595.0, 1605.0, 1615.0, 1625.0, 1635.0, 1645.0, 1655.0, 1665.0, 1675.0, 1685.0, 1695.0, 1705.0, 1715.0, 1725.0, 1735.0, 1745.0, 1755.0, 1765.0, 1775.0, 1785.0, 1795.0, 1805.0, 1815.0, 1825.0, 1835.0, 1845.0, 1855.0, 1865.0, 1875.0, 1885.0, 1895.0, 1905.0, 1915.0, 1925.0, 1935.0, 1945.0, 1955.0, 1965.0], \"ticktext\": [\"QE_2017_001815_797.51746_866\", \"QE_2017_001816_463.12311_410\", \"QE_2017_001814_340.16034_314\", \"QE_2017_001814_498.25430_475\", \"QE_2017_001814_314.14456_74\", \"QE_2017_001816_314.14462_79\", \"QE_2017_001815_342.17590_256\", \"QE_2017_001816_310.14957_134\", \"QE_2017_001816_339.10733_298\", \"QE_2017_001814_339.10742_366\", \"QE_2017_001814_231.04967_404\", \"QE_2017_001814_231.04964_314\", \"QE_2017_001814_231.04971_516\", \"QE_2017_001815_231.04971_369\", \"QE_2017_001814_507.18195_178\", \"QE_2017_001814_611.15997_285\", \"QE_2017_001816_611.16064_309\", \"QE_2017_001814_251.09117_393\", \"QE_2017_001815_219.10159_438\", \"QE_2017_001815_219.10146_381\", \"QE_2017_001814_219.10141_360\", \"QE_2017_001815_201.16367_442\", \"QE_2017_001816_201.16362_435\", \"QE_2017_001816_137.09584_445\", \"QE_2017_001814_191.14291_389\", \"QE_2017_001815_191.14287_312\", \"QE_2017_001815_191.14293_404\", \"QE_2017_001814_207.13779_559\", \"QE_2017_001814_207.13789_295\", \"QE_2017_001814_281.17450_492\", \"QE_2017_001814_243.15892_533\", \"QE_2017_001816_181.12199_794\", \"QE_2017_001814_181.12213_767\", \"QE_2017_001816_227.12766_295\", \"QE_2017_001814_227.12750_293\", \"QE_2017_001816_272.25824_582\", \"QE_2017_001814_209.15358_311\", \"QE_2017_001815_209.15350_312\", \"QE_2017_001814_209.15335_478\", \"QE_2017_001815_209.15349_295\", \"QE_2017_001815_353.26901_600\", \"QE_2017_001814_353.26868_633\", \"QE_2017_001814_279.23157_719\", \"QE_2017_001814_278.24756_683\", \"QE_2017_001814_293.21060_579\", \"QE_2017_001815_227.16408_344\", \"QE_2017_001814_283.19022_564\", \"QE_2017_001815_571.42920_870\", \"QE_2017_001815_435.25040_666\", \"QE_2017_001814_507.27179_607\", \"QE_2017_001814_261.22083_643\", \"QE_2017_001815_571.47168_711\", \"QE_2017_001814_261.22073_634\", \"QE_2017_001814_353.26889_609\", \"QE_2017_001814_353.26874_642\", \"QE_2017_001814_335.25772_725\", \"QE_2017_001816_335.25772_723\", \"QE_2017_001816_335.25772_586\", \"QE_2017_001814_335.25784_608\", \"QE_2017_001814_335.25784_628\", \"QE_2017_001815_335.25790_601\", \"QE_2017_001814_335.25772_638\", \"QE_2017_001814_219.17416_517\", \"QE_2017_001814_219.17429_497\", \"QE_2017_001814_219.17409_442\", \"QE_2017_001816_219.17416_451\", \"QE_2017_001816_337.27341_632\", \"QE_2017_001816_211.16916_405\", \"QE_2017_001815_209.08070_405\", \"QE_2017_001814_211.16902_440\", \"QE_2017_001815_211.16913_450\", \"QE_2017_001814_215.16406_483\", \"QE_2017_001815_215.16400_550\", \"QE_2017_001814_497.31033_643\", \"QE_2017_001815_792.56250_866\", \"QE_2017_001814_596.30963_602\", \"QE_2017_001816_613.48218_838\", \"QE_2017_001815_613.48260_734\", \"QE_2017_001814_792.56207_723\", \"QE_2017_001814_618.42633_695\", \"QE_2017_001815_568.42627_841\", \"QE_2017_001814_583.41431_647\", \"QE_2017_001814_618.42719_682\", \"QE_2017_001814_618.42780_646\", \"QE_2017_001814_601.42334_783\", \"QE_2017_001814_565.40350_722\", \"QE_2017_001814_583.41406_682\", \"QE_2017_001815_583.41406_707\", \"QE_2017_001816_583.41382_731\", \"QE_2017_001814_583.41406_735\", \"QE_2017_001814_599.40918_659\", \"QE_2017_001814_601.42426_706\", \"QE_2017_001815_599.40881_793\", \"QE_2017_001815_214.51021_60\", \"QE_2017_001815_268.59360_446\", \"QE_2017_001814_222.07031_314\", \"QE_2017_001814_250.10149_516\", \"QE_2017_001814_247.05975_245\", \"QE_2017_001815_247.05980_242\", \"QE_2017_001814_214.56496_409\", \"QE_2017_001815_212.03883_181\", \"QE_2017_001815_219.04675_291\", \"QE_2017_001815_268.10373_58\", \"QE_2017_001816_269.16055_60\", \"QE_2017_001815_364.34189_705\", \"QE_2017_001814_408.36810_703\", \"QE_2017_001814_466.40994_731\", \"QE_2017_001814_364.34241_751\", \"QE_2017_001814_424.36325_711\", \"QE_2017_001814_364.34244_761\", \"QE_2017_001814_421.35211_732\", \"QE_2017_001815_482.40488_739\", \"QE_2017_001815_408.36853_717\", \"QE_2017_001814_347.09073_203\", \"QE_2017_001814_347.09097_122\", \"QE_2017_001814_533.15497_206\", \"QE_2017_001815_533.15454_247\", \"QE_2017_001816_533.15460_271\", \"QE_2017_001814_533.15485_221\", \"QE_2017_001814_595.16577_315\", \"QE_2017_001814_463.12274_358\", \"QE_2017_001814_625.17639_345\", \"QE_2017_001816_333.15204_235\", \"QE_2017_001815_333.15173_245\", \"QE_2017_001814_319.13638_117\", \"QE_2017_001816_319.13614_143\", \"QE_2017_001814_194.04424_237\", \"QE_2017_001814_194.11740_217\", \"QE_2017_001814_194.11740_244\", \"QE_2017_001815_194.11745_132\", \"QE_2017_001815_194.04469_299\", \"QE_2017_001815_194.04474_327\", \"QE_2017_001815_194.04471_314\", \"QE_2017_001814_212.05521_327\", \"QE_2017_001816_212.05518_300\", \"QE_2017_001814_212.05518_265\", \"QE_2017_001814_194.04468_396\", \"QE_2017_001814_226.07077_397\", \"QE_2017_001815_273.13434_243\", \"QE_2017_001815_273.13425_199\", \"QE_2017_001814_291.14505_198\", \"QE_2017_001814_291.14420_241\", \"QE_2017_001815_291.14493_242\", \"QE_2017_001814_251.13872_201\", \"QE_2017_001815_235.14398_226\", \"QE_2017_001814_235.14395_180\", \"QE_2017_001815_141.05080_33\", \"QE_2017_001814_237.12305_220\", \"QE_2017_001815_237.12315_52\", \"QE_2017_001814_332.25827_467\", \"QE_2017_001814_332.25836_508\", \"QE_2017_001816_332.25842_487\", \"QE_2017_001814_332.25842_486\", \"QE_2017_001816_237.12325_171\", \"QE_2017_001814_221.12846_97\", \"QE_2017_001814_320.29468_638\", \"QE_2017_001814_320.29471_529\", \"QE_2017_001814_320.29477_539\", \"QE_2017_001814_241.15384_47\", \"QE_2017_001815_241.15446_48\", \"QE_2017_001816_229.15469_52\", \"QE_2017_001814_229.15399_46\", \"QE_2017_001814_229.15451_65\", \"QE_2017_001816_320.29483_548\", \"QE_2017_001816_338.26062_643\", \"QE_2017_001814_320.29456_577\", \"QE_2017_001814_320.29489_563\", \"QE_2017_001814_483.27118_651\", \"QE_2017_001814_338.34146_850\", \"QE_2017_001815_244.19048_762\", \"QE_2017_001814_129.12737_348\", \"QE_2017_001814_171.14908_419\", \"QE_2017_001815_132.04440_282\", \"QE_2017_001814_209.08058_363\", \"QE_2017_001814_241.15466_73\", \"QE_2017_001814_182.08116_51\", \"QE_2017_001815_182.08109_52\", \"QE_2017_001814_177.05418_236\", \"QE_2017_001816_177.05449_217\", \"QE_2017_001814_177.05450_306\", \"QE_2017_001816_199.98769_294\", \"QE_2017_001814_199.98778_290\", \"QE_2017_001816_199.98781_313\", \"QE_2017_001814_199.98778_325\", \"QE_2017_001814_199.98782_335\", \"QE_2017_001816_199.98772_359\", \"QE_2017_001814_199.98772_303\", \"QE_2017_001814_199.98788_30\", \"QE_2017_001815_199.98772_253\", \"QE_2017_001814_265.01541_33\", \"QE_2017_001815_247.12865_158\", \"QE_2017_001815_246.14465_137\", \"QE_2017_001816_260.16022_145\", \"QE_2017_001814_260.16037_143\", \"QE_2017_001814_233.14957_152\", \"QE_2017_001816_233.14955_129\", \"QE_2017_001814_233.14948_126\"], \"tickmode\": \"array\", \"type\": \"linear\", \"ticks\": \"outside\", \"mirror\": \"allticks\", \"rangemode\": \"tozero\", \"showticklabels\": true, \"zeroline\": false, \"showgrid\": false, \"showline\": true, \"title\": \"sample\"}, \"yaxis\": {\"type\": \"linear\", \"ticks\": \"outside\", \"mirror\": \"allticks\", \"rangemode\": \"tozero\", \"showticklabels\": true, \"zeroline\": false, \"showgrid\": false, \"showline\": true, \"title\": \"distance\"}, \"showlegend\": false, \"autosize\": false, \"hovermode\": \"closest\", \"width\": 900, \"height\": 400, \"title\": \"Python plotly dendro\"}, {\"showLink\": true, \"linkText\": \"Export to plot.ly\"})});</script>"
      ]
     },
     "metadata": {},
     "output_type": "display_data"
    }
   ],
   "source": [
    "plotly.offline.init_notebook_mode(connected=True) # for visualising plot inline\n",
    "plotly.offline.iplot(k, filename='simple_dendrogram')"
   ]
  },
  {
   "cell_type": "code",
   "execution_count": 12,
   "metadata": {},
   "outputs": [
    {
     "ename": "NameError",
     "evalue": "name 'Dendogram' is not defined",
     "output_type": "error",
     "traceback": [
      "\u001b[0;31m---------------------------------------------------------------------------\u001b[0m",
      "\u001b[0;31mNameError\u001b[0m                                 Traceback (most recent call last)",
      "\u001b[0;32m<ipython-input-12-70d1ea24744d>\u001b[0m in \u001b[0;36m<module>\u001b[0;34m()\u001b[0m\n\u001b[0;32m----> 1\u001b[0;31m \u001b[0mDendogram\u001b[0m\u001b[0;34m.\u001b[0m\u001b[0mfrom_xlsx\u001b[0m\u001b[0;34m(\u001b[0m\u001b[0;34m)\u001b[0m\u001b[0;34m\u001b[0m\u001b[0m\n\u001b[0m",
      "\u001b[0;31mNameError\u001b[0m: name 'Dendogram' is not defined"
     ]
    }
   ],
   "source": []
  }
 ],
 "metadata": {
  "kernelspec": {
   "display_name": "Python 3",
   "language": "python",
   "name": "python3"
  },
  "language_info": {
   "codemirror_mode": {
    "name": "ipython",
    "version": 3
   },
   "file_extension": ".py",
   "mimetype": "text/x-python",
   "name": "python",
   "nbconvert_exporter": "python",
   "pygments_lexer": "ipython3",
   "version": "3.6.5"
  }
 },
 "nbformat": 4,
 "nbformat_minor": 2
}
