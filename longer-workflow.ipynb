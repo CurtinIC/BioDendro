{
 "cells": [
  {
   "cell_type": "markdown",
   "metadata": {},
   "source": [
    "# Details of the BioDendro pipeline"
   ]
  },
  {
   "cell_type": "markdown",
   "metadata": {},
   "source": [
    "## Running the pipeline manually\n",
    "\n",
    "BioDendro essentially does the following steps:\n",
    "\n",
    "1. Parse the MGF and components files\n",
    "   - Optionally scaling and filtering Ions from MGF with a minimum intensity threshold.\n",
    "2. Find Ions matching components\n",
    "3. Bins mz values by proximity\n",
    "4. Uses binned mz values to cluster components into a tree"
   ]
  },
  {
   "cell_type": "code",
   "execution_count": 1,
   "metadata": {},
   "outputs": [],
   "source": [
    "# Load required modules\n",
    "\n",
    "import os\n",
    "import plotly\n",
    "from BioDendro import preprocess\n",
    "from BioDendro import cluster"
   ]
  },
  {
   "cell_type": "markdown",
   "metadata": {},
   "source": [
    "Loading the MGF file is relatively straight forward using python.\n",
    "\n",
    "The pipeline changes the MGF record titles in a way that won't always be portable.\n",
    "If you encounter issues with record titles, you may wish to exclude the `split_msms_title` step."
   ]
  },
  {
   "cell_type": "code",
   "execution_count": 2,
   "metadata": {},
   "outputs": [
    {
     "data": {
      "text/plain": [
       "MGF(records=[\n",
       "MGFRecord(title='QE_2017_001814', retention=141.0, pepmass=Ion(mz=81.52061, intensity=1678597.25), charge='1+', ions=[Ion(mz=53.00264, intensity=1252.15), Ion(mz=60.7764, intensity=1324.65)]),\n",
       "MGFRecord(title='QE_2017_001814', retention=877.0, pepmass=Ion(mz=81.52061, intensity=19463956.0), charge='2+', ions=[Ion(mz=59.32066, intensity=14996.5), Ion(mz=131.81848, intensity=18682.3), Ion(mz=176.21725, intensity=18992.1)]),\n",
       "MGFRecord(title='QE_2017_001816', retention=447.0, pepmass=Ion(mz=81.52061, intensity=2814306.5), charge='1+', ions=[Ion(mz=53.0393, intensity=1853.67)]),\n",
       "MGFRecord(title='QE_2017_001814', retention=436.0, pepmass=Ion(mz=81.52064, intensity=2750625.5), charge='1+', ions=[Ion(mz=63.59929, intensity=2020.82)]),\n",
       "MGFRecord(title='QE_2017_001815', retention=887.0, pepmass=Ion(mz=81.52064, intensity=15775805.0), charge='2+', ions=[Ion(mz=124.5074, intensity=13727.9), Ion(mz=184.32289, intensity=14260.0)])\n",
       "...\n",
       "])"
      ]
     },
     "execution_count": 2,
     "metadata": {},
     "output_type": "execute_result"
    }
   ],
   "source": [
    "# Load the MSMS records\n",
    "\n",
    "with open(\"MSMS.mgf\") as handle:\n",
    "    mgf = preprocess.MGF.parse(handle)\n",
    "\n",
    "# Splits the title up.\n",
    "# You may need to skip this step.\n",
    "for record in mgf.records:\n",
    "    record.title = preprocess.split_msms_title(record.title)\n",
    "\n",
    "mgf"
   ]
  },
  {
   "cell_type": "markdown",
   "metadata": {},
   "source": [
    "At this point we might decide to scale and/or filter the Ions for each MGFRecord."
   ]
  },
  {
   "cell_type": "code",
   "execution_count": 3,
   "metadata": {},
   "outputs": [
    {
     "data": {
      "text/plain": [
       "MGF(records=[\n",
       "MGFRecord(title='QE_2017_001814', retention=141.0, pepmass=Ion(mz=81.52061, intensity=1678597.25), charge='1+', ions=[Ion(mz=53.00264, intensity=0.9452685615068132), Ion(mz=60.7764, intensity=1.0)]),\n",
       "MGFRecord(title='QE_2017_001814', retention=877.0, pepmass=Ion(mz=81.52061, intensity=19463956.0), charge='2+', ions=[Ion(mz=59.32066, intensity=0.7896177884488814), Ion(mz=131.81848, intensity=0.9836879544652777), Ion(mz=176.21725, intensity=1.0)]),\n",
       "MGFRecord(title='QE_2017_001816', retention=447.0, pepmass=Ion(mz=81.52061, intensity=2814306.5), charge='1+', ions=[Ion(mz=53.0393, intensity=1.0)]),\n",
       "MGFRecord(title='QE_2017_001814', retention=436.0, pepmass=Ion(mz=81.52064, intensity=2750625.5), charge='1+', ions=[Ion(mz=63.59929, intensity=1.0)]),\n",
       "MGFRecord(title='QE_2017_001815', retention=887.0, pepmass=Ion(mz=81.52064, intensity=15775805.0), charge='2+', ions=[Ion(mz=124.5074, intensity=0.9626858345021038), Ion(mz=184.32289, intensity=1.0)])\n",
       "...\n",
       "])"
      ]
     },
     "execution_count": 3,
     "metadata": {},
     "output_type": "execute_result"
    }
   ],
   "source": [
    "with open(\"MSMS.mgf\") as handle:\n",
    "    mgf_scaled = preprocess.MGF.parse(handle, scaling=True, filtering=True, eps=0.2)\n",
    "\n",
    "# Splits the title up.\n",
    "# You may need to skip this step.\n",
    "for record in mgf_scaled.records:\n",
    "    record.title = preprocess.split_msms_title(record.title)\n",
    "\n",
    "mgf_scaled"
   ]
  },
  {
   "cell_type": "markdown",
   "metadata": {},
   "source": [
    "You'll notice in the ions field of each MGF record that the \"intensity\" values have been scaled to numbers between 0 and 1, and that any ions with scaled intensity below 0.2 will be filtered out.\n",
    "\n",
    "Loading components files is a similar process."
   ]
  },
  {
   "cell_type": "code",
   "execution_count": 4,
   "metadata": {},
   "outputs": [
    {
     "data": {
      "text/plain": [
       "[SampleRecord(mz=125.9862, retention=56.964, original='Chinese Spring 1_001829_0849_m/z125.9862_RT0.9494'),\n",
       " SampleRecord(mz=129.1273, retention=318.834, original='Chinese Spring 1_001829_4030_m/z129.1273_RT5.3139'),\n",
       " SampleRecord(mz=129.1273, retention=348.516, original='Chinese Spring 1_001829_4681_m/z129.1273_RT5.8086'),\n",
       " SampleRecord(mz=129.1274, retention=327.924, original='Chinese Spring 1_001829_4250_m/z129.1274_RT5.4654'),\n",
       " SampleRecord(mz=129.1274, retention=392.68800000000005, original='Chinese Spring 1_001829_5303_m/z129.1274_RT6.5448')]"
      ]
     },
     "execution_count": 4,
     "metadata": {},
     "output_type": "execute_result"
    }
   ],
   "source": [
    "# Load the list of components to compare to the MSMS file\n",
    "\n",
    "with open(\"./component_list.txt\") as handle:\n",
    "    components = preprocess.SampleRecord.parse(handle)\n",
    "\n",
    "components[:5]"
   ]
  },
  {
   "cell_type": "markdown",
   "metadata": {},
   "source": [
    "Next we find the ions for each components."
   ]
  },
  {
   "cell_type": "code",
   "execution_count": 5,
   "metadata": {},
   "outputs": [
    {
     "data": {
      "text/html": [
       "<div>\n",
       "<style scoped>\n",
       "    .dataframe tbody tr th:only-of-type {\n",
       "        vertical-align: middle;\n",
       "    }\n",
       "\n",
       "    .dataframe tbody tr th {\n",
       "        vertical-align: top;\n",
       "    }\n",
       "\n",
       "    .dataframe thead th {\n",
       "        text-align: right;\n",
       "    }\n",
       "</style>\n",
       "<table border=\"1\" class=\"dataframe\">\n",
       "  <thead>\n",
       "    <tr style=\"text-align: right;\">\n",
       "      <th></th>\n",
       "      <th>component</th>\n",
       "      <th>sample</th>\n",
       "      <th>mz</th>\n",
       "    </tr>\n",
       "  </thead>\n",
       "  <tbody>\n",
       "    <tr>\n",
       "      <th>0</th>\n",
       "      <td>Chinese Spring 1_001829_6995_m/z353.2686_RT10....</td>\n",
       "      <td>QE_2017_001814_353.26889_609.0</td>\n",
       "      <td>50.06792</td>\n",
       "    </tr>\n",
       "    <tr>\n",
       "      <th>1</th>\n",
       "      <td>Chinese Spring 1_001829_2250_m/z177.0544_RT3.6957</td>\n",
       "      <td>QE_2017_001816_177.05449_217.0</td>\n",
       "      <td>50.44534</td>\n",
       "    </tr>\n",
       "    <tr>\n",
       "      <th>2</th>\n",
       "      <td>Chinese Spring 1_001829_2318_m/z235.1439_RT3.7670</td>\n",
       "      <td>QE_2017_001815_235.14398_226.0</td>\n",
       "      <td>50.48630</td>\n",
       "    </tr>\n",
       "    <tr>\n",
       "      <th>3</th>\n",
       "      <td>Chinese Spring 1_001829_5175_m/z219.1014_RT6.3621</td>\n",
       "      <td>QE_2017_001816_219.10153_382.0</td>\n",
       "      <td>50.49461</td>\n",
       "    </tr>\n",
       "    <tr>\n",
       "      <th>4</th>\n",
       "      <td>Chinese Spring 1_001829_5465_m/z211.1690_RT6.7722</td>\n",
       "      <td>QE_2017_001816_211.16916_405.0</td>\n",
       "      <td>50.49868</td>\n",
       "    </tr>\n",
       "  </tbody>\n",
       "</table>\n",
       "</div>"
      ],
      "text/plain": [
       "                                           component  \\\n",
       "0  Chinese Spring 1_001829_6995_m/z353.2686_RT10....   \n",
       "1  Chinese Spring 1_001829_2250_m/z177.0544_RT3.6957   \n",
       "2  Chinese Spring 1_001829_2318_m/z235.1439_RT3.7670   \n",
       "3  Chinese Spring 1_001829_5175_m/z219.1014_RT6.3621   \n",
       "4  Chinese Spring 1_001829_5465_m/z211.1690_RT6.7722   \n",
       "\n",
       "                           sample        mz  \n",
       "0  QE_2017_001814_353.26889_609.0  50.06792  \n",
       "1  QE_2017_001816_177.05449_217.0  50.44534  \n",
       "2  QE_2017_001815_235.14398_226.0  50.48630  \n",
       "3  QE_2017_001816_219.10153_382.0  50.49461  \n",
       "4  QE_2017_001816_211.16916_405.0  50.49868  "
      ]
     },
     "execution_count": 5,
     "metadata": {},
     "output_type": "execute_result"
    }
   ],
   "source": [
    "# Remove redundant records with mass and retention time tolerance \n",
    "\n",
    "df = preprocess.remove_redundancy(components, mgf, mz_tol=0.002, retention_tol=5, neutral=False)\n",
    "df.head()"
   ]
  },
  {
   "cell_type": "markdown",
   "metadata": {},
   "source": [
    "And finally, we can cluster the data using a `Tree` object.\n",
    "\n",
    "The interface to `Tree` is similar to `scikit-learn` objects, where first you initialise a model with parameters, then you fit it with some data."
   ]
  },
  {
   "cell_type": "code",
   "execution_count": 6,
   "metadata": {},
   "outputs": [],
   "source": [
    "# Using the non-redundant dataframe, bin analytes on threshold=8e-4 and return a data matrix\n",
    "# Cluster the data matrix using clustering_method=\"jaccard\"\n",
    "# Set threshold to color dendrogram and output clusters at cutoff=0.4\n",
    "\n",
    "tree = cluster.Tree(threshold=8e-4, clustering_method=\"jaccard\", cutoff=0.4)\n",
    "tree.fit(df)"
   ]
  },
  {
   "cell_type": "markdown",
   "metadata": {},
   "source": [
    "The threshold is the parameter that affects binning.\n",
    "Increasing the threshold will reduce the number of bins, decreasing the threshold will make bins more granular.\n",
    "\n",
    "The tree object now contains all of our intermediate data.\n",
    "\n",
    "We can look at which samples have which bins in a [Pandas](https://pandas.pydata.org/) dataframe.\n",
    "This is the matrix used to compute distances based on presence absence."
   ]
  },
  {
   "cell_type": "code",
   "execution_count": 7,
   "metadata": {},
   "outputs": [
    {
     "data": {
      "text/html": [
       "<div>\n",
       "<style scoped>\n",
       "    .dataframe tbody tr th:only-of-type {\n",
       "        vertical-align: middle;\n",
       "    }\n",
       "\n",
       "    .dataframe tbody tr th {\n",
       "        vertical-align: top;\n",
       "    }\n",
       "\n",
       "    .dataframe thead th {\n",
       "        text-align: right;\n",
       "    }\n",
       "</style>\n",
       "<table border=\"1\" class=\"dataframe\">\n",
       "  <thead>\n",
       "    <tr style=\"text-align: right;\">\n",
       "      <th>bins</th>\n",
       "      <th>100.0246_100.0246_100.0246</th>\n",
       "      <th>100.0395_100.0395_100.0395</th>\n",
       "      <th>100.0759_100.0759_100.0760</th>\n",
       "      <th>100.1123_100.1122_100.1123</th>\n",
       "      <th>100.1311_100.1311_100.1311</th>\n",
       "      <th>100.5562_100.5562_100.5562</th>\n",
       "      <th>100.6662_100.6662_100.6662</th>\n",
       "      <th>101.0235_101.0235_101.0235</th>\n",
       "      <th>101.0598_101.0596_101.0599</th>\n",
       "      <th>101.0712_101.0711_101.0712</th>\n",
       "      <th>...</th>\n",
       "      <th>98.0966_98.0964_98.0967</th>\n",
       "      <th>98.5142_98.5142_98.5142</th>\n",
       "      <th>98.5942_98.5942_98.5942</th>\n",
       "      <th>98.8081_98.8081_98.8081</th>\n",
       "      <th>98.9756_98.9755_98.9759</th>\n",
       "      <th>98.9844_98.9844_98.9845</th>\n",
       "      <th>99.0034_99.0034_99.0034</th>\n",
       "      <th>99.0443_99.0441_99.0445</th>\n",
       "      <th>99.0807_99.0804_99.0809</th>\n",
       "      <th>99.1172_99.1172_99.1172</th>\n",
       "    </tr>\n",
       "    <tr>\n",
       "      <th>component</th>\n",
       "      <th></th>\n",
       "      <th></th>\n",
       "      <th></th>\n",
       "      <th></th>\n",
       "      <th></th>\n",
       "      <th></th>\n",
       "      <th></th>\n",
       "      <th></th>\n",
       "      <th></th>\n",
       "      <th></th>\n",
       "      <th></th>\n",
       "      <th></th>\n",
       "      <th></th>\n",
       "      <th></th>\n",
       "      <th></th>\n",
       "      <th></th>\n",
       "      <th></th>\n",
       "      <th></th>\n",
       "      <th></th>\n",
       "      <th></th>\n",
       "      <th></th>\n",
       "    </tr>\n",
       "  </thead>\n",
       "  <tbody>\n",
       "    <tr>\n",
       "      <th>Chinese Spring 1_001829_0008_m/z199.9878_RT0.5260</th>\n",
       "      <td>False</td>\n",
       "      <td>False</td>\n",
       "      <td>False</td>\n",
       "      <td>False</td>\n",
       "      <td>False</td>\n",
       "      <td>False</td>\n",
       "      <td>False</td>\n",
       "      <td>False</td>\n",
       "      <td>False</td>\n",
       "      <td>False</td>\n",
       "      <td>...</td>\n",
       "      <td>False</td>\n",
       "      <td>False</td>\n",
       "      <td>False</td>\n",
       "      <td>False</td>\n",
       "      <td>False</td>\n",
       "      <td>False</td>\n",
       "      <td>False</td>\n",
       "      <td>False</td>\n",
       "      <td>False</td>\n",
       "      <td>False</td>\n",
       "    </tr>\n",
       "    <tr>\n",
       "      <th>Chinese Spring 1_001829_0094_m/z265.0154_RT0.5705</th>\n",
       "      <td>False</td>\n",
       "      <td>False</td>\n",
       "      <td>False</td>\n",
       "      <td>False</td>\n",
       "      <td>False</td>\n",
       "      <td>False</td>\n",
       "      <td>False</td>\n",
       "      <td>False</td>\n",
       "      <td>False</td>\n",
       "      <td>False</td>\n",
       "      <td>...</td>\n",
       "      <td>False</td>\n",
       "      <td>False</td>\n",
       "      <td>False</td>\n",
       "      <td>False</td>\n",
       "      <td>False</td>\n",
       "      <td>False</td>\n",
       "      <td>False</td>\n",
       "      <td>False</td>\n",
       "      <td>False</td>\n",
       "      <td>False</td>\n",
       "    </tr>\n",
       "    <tr>\n",
       "      <th>Chinese Spring 1_001829_0683_m/z229.1545_RT0.7845</th>\n",
       "      <td>False</td>\n",
       "      <td>False</td>\n",
       "      <td>False</td>\n",
       "      <td>False</td>\n",
       "      <td>False</td>\n",
       "      <td>False</td>\n",
       "      <td>False</td>\n",
       "      <td>False</td>\n",
       "      <td>False</td>\n",
       "      <td>False</td>\n",
       "      <td>...</td>\n",
       "      <td>False</td>\n",
       "      <td>False</td>\n",
       "      <td>False</td>\n",
       "      <td>False</td>\n",
       "      <td>False</td>\n",
       "      <td>False</td>\n",
       "      <td>False</td>\n",
       "      <td>False</td>\n",
       "      <td>False</td>\n",
       "      <td>False</td>\n",
       "    </tr>\n",
       "    <tr>\n",
       "      <th>Chinese Spring 1_001829_0724_m/z241.1544_RT0.7890</th>\n",
       "      <td>False</td>\n",
       "      <td>False</td>\n",
       "      <td>False</td>\n",
       "      <td>False</td>\n",
       "      <td>False</td>\n",
       "      <td>False</td>\n",
       "      <td>False</td>\n",
       "      <td>False</td>\n",
       "      <td>False</td>\n",
       "      <td>False</td>\n",
       "      <td>...</td>\n",
       "      <td>True</td>\n",
       "      <td>False</td>\n",
       "      <td>False</td>\n",
       "      <td>False</td>\n",
       "      <td>False</td>\n",
       "      <td>False</td>\n",
       "      <td>False</td>\n",
       "      <td>False</td>\n",
       "      <td>False</td>\n",
       "      <td>False</td>\n",
       "    </tr>\n",
       "    <tr>\n",
       "      <th>Chinese Spring 1_001829_0764_m/z229.1545_RT0.8469</th>\n",
       "      <td>False</td>\n",
       "      <td>False</td>\n",
       "      <td>False</td>\n",
       "      <td>False</td>\n",
       "      <td>False</td>\n",
       "      <td>False</td>\n",
       "      <td>False</td>\n",
       "      <td>False</td>\n",
       "      <td>False</td>\n",
       "      <td>False</td>\n",
       "      <td>...</td>\n",
       "      <td>False</td>\n",
       "      <td>False</td>\n",
       "      <td>False</td>\n",
       "      <td>False</td>\n",
       "      <td>False</td>\n",
       "      <td>False</td>\n",
       "      <td>False</td>\n",
       "      <td>False</td>\n",
       "      <td>False</td>\n",
       "      <td>False</td>\n",
       "    </tr>\n",
       "  </tbody>\n",
       "</table>\n",
       "<p>5 rows × 1941 columns</p>\n",
       "</div>"
      ],
      "text/plain": [
       "bins                                              100.0246_100.0246_100.0246  \\\n",
       "component                                                                      \n",
       "Chinese Spring 1_001829_0008_m/z199.9878_RT0.5260                      False   \n",
       "Chinese Spring 1_001829_0094_m/z265.0154_RT0.5705                      False   \n",
       "Chinese Spring 1_001829_0683_m/z229.1545_RT0.7845                      False   \n",
       "Chinese Spring 1_001829_0724_m/z241.1544_RT0.7890                      False   \n",
       "Chinese Spring 1_001829_0764_m/z229.1545_RT0.8469                      False   \n",
       "\n",
       "bins                                              100.0395_100.0395_100.0395  \\\n",
       "component                                                                      \n",
       "Chinese Spring 1_001829_0008_m/z199.9878_RT0.5260                      False   \n",
       "Chinese Spring 1_001829_0094_m/z265.0154_RT0.5705                      False   \n",
       "Chinese Spring 1_001829_0683_m/z229.1545_RT0.7845                      False   \n",
       "Chinese Spring 1_001829_0724_m/z241.1544_RT0.7890                      False   \n",
       "Chinese Spring 1_001829_0764_m/z229.1545_RT0.8469                      False   \n",
       "\n",
       "bins                                              100.0759_100.0759_100.0760  \\\n",
       "component                                                                      \n",
       "Chinese Spring 1_001829_0008_m/z199.9878_RT0.5260                      False   \n",
       "Chinese Spring 1_001829_0094_m/z265.0154_RT0.5705                      False   \n",
       "Chinese Spring 1_001829_0683_m/z229.1545_RT0.7845                      False   \n",
       "Chinese Spring 1_001829_0724_m/z241.1544_RT0.7890                      False   \n",
       "Chinese Spring 1_001829_0764_m/z229.1545_RT0.8469                      False   \n",
       "\n",
       "bins                                              100.1123_100.1122_100.1123  \\\n",
       "component                                                                      \n",
       "Chinese Spring 1_001829_0008_m/z199.9878_RT0.5260                      False   \n",
       "Chinese Spring 1_001829_0094_m/z265.0154_RT0.5705                      False   \n",
       "Chinese Spring 1_001829_0683_m/z229.1545_RT0.7845                      False   \n",
       "Chinese Spring 1_001829_0724_m/z241.1544_RT0.7890                      False   \n",
       "Chinese Spring 1_001829_0764_m/z229.1545_RT0.8469                      False   \n",
       "\n",
       "bins                                              100.1311_100.1311_100.1311  \\\n",
       "component                                                                      \n",
       "Chinese Spring 1_001829_0008_m/z199.9878_RT0.5260                      False   \n",
       "Chinese Spring 1_001829_0094_m/z265.0154_RT0.5705                      False   \n",
       "Chinese Spring 1_001829_0683_m/z229.1545_RT0.7845                      False   \n",
       "Chinese Spring 1_001829_0724_m/z241.1544_RT0.7890                      False   \n",
       "Chinese Spring 1_001829_0764_m/z229.1545_RT0.8469                      False   \n",
       "\n",
       "bins                                              100.5562_100.5562_100.5562  \\\n",
       "component                                                                      \n",
       "Chinese Spring 1_001829_0008_m/z199.9878_RT0.5260                      False   \n",
       "Chinese Spring 1_001829_0094_m/z265.0154_RT0.5705                      False   \n",
       "Chinese Spring 1_001829_0683_m/z229.1545_RT0.7845                      False   \n",
       "Chinese Spring 1_001829_0724_m/z241.1544_RT0.7890                      False   \n",
       "Chinese Spring 1_001829_0764_m/z229.1545_RT0.8469                      False   \n",
       "\n",
       "bins                                              100.6662_100.6662_100.6662  \\\n",
       "component                                                                      \n",
       "Chinese Spring 1_001829_0008_m/z199.9878_RT0.5260                      False   \n",
       "Chinese Spring 1_001829_0094_m/z265.0154_RT0.5705                      False   \n",
       "Chinese Spring 1_001829_0683_m/z229.1545_RT0.7845                      False   \n",
       "Chinese Spring 1_001829_0724_m/z241.1544_RT0.7890                      False   \n",
       "Chinese Spring 1_001829_0764_m/z229.1545_RT0.8469                      False   \n",
       "\n",
       "bins                                              101.0235_101.0235_101.0235  \\\n",
       "component                                                                      \n",
       "Chinese Spring 1_001829_0008_m/z199.9878_RT0.5260                      False   \n",
       "Chinese Spring 1_001829_0094_m/z265.0154_RT0.5705                      False   \n",
       "Chinese Spring 1_001829_0683_m/z229.1545_RT0.7845                      False   \n",
       "Chinese Spring 1_001829_0724_m/z241.1544_RT0.7890                      False   \n",
       "Chinese Spring 1_001829_0764_m/z229.1545_RT0.8469                      False   \n",
       "\n",
       "bins                                              101.0598_101.0596_101.0599  \\\n",
       "component                                                                      \n",
       "Chinese Spring 1_001829_0008_m/z199.9878_RT0.5260                      False   \n",
       "Chinese Spring 1_001829_0094_m/z265.0154_RT0.5705                      False   \n",
       "Chinese Spring 1_001829_0683_m/z229.1545_RT0.7845                      False   \n",
       "Chinese Spring 1_001829_0724_m/z241.1544_RT0.7890                      False   \n",
       "Chinese Spring 1_001829_0764_m/z229.1545_RT0.8469                      False   \n",
       "\n",
       "bins                                              101.0712_101.0711_101.0712  \\\n",
       "component                                                                      \n",
       "Chinese Spring 1_001829_0008_m/z199.9878_RT0.5260                      False   \n",
       "Chinese Spring 1_001829_0094_m/z265.0154_RT0.5705                      False   \n",
       "Chinese Spring 1_001829_0683_m/z229.1545_RT0.7845                      False   \n",
       "Chinese Spring 1_001829_0724_m/z241.1544_RT0.7890                      False   \n",
       "Chinese Spring 1_001829_0764_m/z229.1545_RT0.8469                      False   \n",
       "\n",
       "bins                                               ...  \\\n",
       "component                                          ...   \n",
       "Chinese Spring 1_001829_0008_m/z199.9878_RT0.5260  ...   \n",
       "Chinese Spring 1_001829_0094_m/z265.0154_RT0.5705  ...   \n",
       "Chinese Spring 1_001829_0683_m/z229.1545_RT0.7845  ...   \n",
       "Chinese Spring 1_001829_0724_m/z241.1544_RT0.7890  ...   \n",
       "Chinese Spring 1_001829_0764_m/z229.1545_RT0.8469  ...   \n",
       "\n",
       "bins                                              98.0966_98.0964_98.0967  \\\n",
       "component                                                                   \n",
       "Chinese Spring 1_001829_0008_m/z199.9878_RT0.5260                   False   \n",
       "Chinese Spring 1_001829_0094_m/z265.0154_RT0.5705                   False   \n",
       "Chinese Spring 1_001829_0683_m/z229.1545_RT0.7845                   False   \n",
       "Chinese Spring 1_001829_0724_m/z241.1544_RT0.7890                    True   \n",
       "Chinese Spring 1_001829_0764_m/z229.1545_RT0.8469                   False   \n",
       "\n",
       "bins                                              98.5142_98.5142_98.5142  \\\n",
       "component                                                                   \n",
       "Chinese Spring 1_001829_0008_m/z199.9878_RT0.5260                   False   \n",
       "Chinese Spring 1_001829_0094_m/z265.0154_RT0.5705                   False   \n",
       "Chinese Spring 1_001829_0683_m/z229.1545_RT0.7845                   False   \n",
       "Chinese Spring 1_001829_0724_m/z241.1544_RT0.7890                   False   \n",
       "Chinese Spring 1_001829_0764_m/z229.1545_RT0.8469                   False   \n",
       "\n",
       "bins                                              98.5942_98.5942_98.5942  \\\n",
       "component                                                                   \n",
       "Chinese Spring 1_001829_0008_m/z199.9878_RT0.5260                   False   \n",
       "Chinese Spring 1_001829_0094_m/z265.0154_RT0.5705                   False   \n",
       "Chinese Spring 1_001829_0683_m/z229.1545_RT0.7845                   False   \n",
       "Chinese Spring 1_001829_0724_m/z241.1544_RT0.7890                   False   \n",
       "Chinese Spring 1_001829_0764_m/z229.1545_RT0.8469                   False   \n",
       "\n",
       "bins                                              98.8081_98.8081_98.8081  \\\n",
       "component                                                                   \n",
       "Chinese Spring 1_001829_0008_m/z199.9878_RT0.5260                   False   \n",
       "Chinese Spring 1_001829_0094_m/z265.0154_RT0.5705                   False   \n",
       "Chinese Spring 1_001829_0683_m/z229.1545_RT0.7845                   False   \n",
       "Chinese Spring 1_001829_0724_m/z241.1544_RT0.7890                   False   \n",
       "Chinese Spring 1_001829_0764_m/z229.1545_RT0.8469                   False   \n",
       "\n",
       "bins                                              98.9756_98.9755_98.9759  \\\n",
       "component                                                                   \n",
       "Chinese Spring 1_001829_0008_m/z199.9878_RT0.5260                   False   \n",
       "Chinese Spring 1_001829_0094_m/z265.0154_RT0.5705                   False   \n",
       "Chinese Spring 1_001829_0683_m/z229.1545_RT0.7845                   False   \n",
       "Chinese Spring 1_001829_0724_m/z241.1544_RT0.7890                   False   \n",
       "Chinese Spring 1_001829_0764_m/z229.1545_RT0.8469                   False   \n",
       "\n",
       "bins                                              98.9844_98.9844_98.9845  \\\n",
       "component                                                                   \n",
       "Chinese Spring 1_001829_0008_m/z199.9878_RT0.5260                   False   \n",
       "Chinese Spring 1_001829_0094_m/z265.0154_RT0.5705                   False   \n",
       "Chinese Spring 1_001829_0683_m/z229.1545_RT0.7845                   False   \n",
       "Chinese Spring 1_001829_0724_m/z241.1544_RT0.7890                   False   \n",
       "Chinese Spring 1_001829_0764_m/z229.1545_RT0.8469                   False   \n",
       "\n",
       "bins                                              99.0034_99.0034_99.0034  \\\n",
       "component                                                                   \n",
       "Chinese Spring 1_001829_0008_m/z199.9878_RT0.5260                   False   \n",
       "Chinese Spring 1_001829_0094_m/z265.0154_RT0.5705                   False   \n",
       "Chinese Spring 1_001829_0683_m/z229.1545_RT0.7845                   False   \n",
       "Chinese Spring 1_001829_0724_m/z241.1544_RT0.7890                   False   \n",
       "Chinese Spring 1_001829_0764_m/z229.1545_RT0.8469                   False   \n",
       "\n",
       "bins                                              99.0443_99.0441_99.0445  \\\n",
       "component                                                                   \n",
       "Chinese Spring 1_001829_0008_m/z199.9878_RT0.5260                   False   \n",
       "Chinese Spring 1_001829_0094_m/z265.0154_RT0.5705                   False   \n",
       "Chinese Spring 1_001829_0683_m/z229.1545_RT0.7845                   False   \n",
       "Chinese Spring 1_001829_0724_m/z241.1544_RT0.7890                   False   \n",
       "Chinese Spring 1_001829_0764_m/z229.1545_RT0.8469                   False   \n",
       "\n",
       "bins                                              99.0807_99.0804_99.0809  \\\n",
       "component                                                                   \n",
       "Chinese Spring 1_001829_0008_m/z199.9878_RT0.5260                   False   \n",
       "Chinese Spring 1_001829_0094_m/z265.0154_RT0.5705                   False   \n",
       "Chinese Spring 1_001829_0683_m/z229.1545_RT0.7845                   False   \n",
       "Chinese Spring 1_001829_0724_m/z241.1544_RT0.7890                   False   \n",
       "Chinese Spring 1_001829_0764_m/z229.1545_RT0.8469                   False   \n",
       "\n",
       "bins                                              99.1172_99.1172_99.1172  \n",
       "component                                                                  \n",
       "Chinese Spring 1_001829_0008_m/z199.9878_RT0.5260                   False  \n",
       "Chinese Spring 1_001829_0094_m/z265.0154_RT0.5705                   False  \n",
       "Chinese Spring 1_001829_0683_m/z229.1545_RT0.7845                   False  \n",
       "Chinese Spring 1_001829_0724_m/z241.1544_RT0.7890                   False  \n",
       "Chinese Spring 1_001829_0764_m/z229.1545_RT0.8469                   False  \n",
       "\n",
       "[5 rows x 1941 columns]"
      ]
     },
     "execution_count": 7,
     "metadata": {},
     "output_type": "execute_result"
    }
   ],
   "source": [
    "# One hot encoded matrix output from mz binning.\n",
    "tree.onehot_df.head()"
   ]
  },
  {
   "cell_type": "markdown",
   "metadata": {},
   "source": [
    "NB. \"one-hot\" encoding is a common technique in ML/statistice where 1 (or True) denotes presence and 0 (or False) denotes absence.\n",
    "It's related to the concept of Dummy coding.\n",
    "\n",
    "We can also look at the clusters derived from the computed tree."
   ]
  },
  {
   "cell_type": "code",
   "execution_count": 8,
   "metadata": {},
   "outputs": [
    {
     "data": {
      "text/plain": [
       "array([ 75, 158, 156, 121, 157, 148, 122, 135, 149, 132, 144,  36,  37,\n",
       "       156, 156,  90, 133, 154, 129, 114, 126, 128, 155, 130, 127,  91,\n",
       "       141,  99,  97,  98, 101, 112, 110, 136,  73, 109, 100, 102, 152,\n",
       "        96, 140,  97,  96, 153, 140, 109,  87, 108, 111,  77, 131,  75,\n",
       "       143,  58,  52,  58,  74,  59,  79, 105, 150,  73,  78, 147,  52,\n",
       "       104, 137,  82,  84,  52,  67,  76, 151, 104,  55, 145,  48, 146,\n",
       "        93,  71,  80,  81,  93,  69, 106, 107,  83,  68,  61,  61, 142,\n",
       "        92,  49,  94,  61, 139,  61,  65, 125,  89,  53,  62, 123,  54,\n",
       "       123,  66, 124,  81, 138, 117, 116, 116, 118, 120,  72,  45,  45,\n",
       "        57,   7,   4,   9,  16,   6,  11,   8,   6,  19,   7,   9,  16,\n",
       "       119,   9,   6,   8,  12,  46,  32,  27,  47,  24,  20,  29,  28,\n",
       "        17,  26,  22,  30,  18,   6,   1,  31,   6,  25,  33,   3,  60,\n",
       "        34,  23,  19,  35,   2, 159,  85, 113, 128, 134,  76,  76,  70,\n",
       "        64,  64,  60,  88,  74,  50, 129,   5,  51,  65,  10,  14, 115,\n",
       "        76,  76, 103,  95,  86,  73, 160,  54,  63,  56,  21,  39,  38,\n",
       "        38,  42,  44,  42,  40,  43,  41,  41,  15,  13], dtype=int32)"
      ]
     },
     "execution_count": 8,
     "metadata": {},
     "output_type": "execute_result"
    }
   ],
   "source": [
    "# Clusters derived from the tree using cutoff=0.4\n",
    "tree.clusters"
   ]
  },
  {
   "cell_type": "markdown",
   "metadata": {},
   "source": [
    "This is a [numpy](https://www.numpy.org/) array.\n",
    "The order of these is the same as the row index in the one-hot dataframe.\n",
    "\n",
    "So we can obtain clusters for each sample like so..."
   ]
  },
  {
   "cell_type": "code",
   "execution_count": 9,
   "metadata": {
    "scrolled": false
   },
   "outputs": [
    {
     "data": {
      "text/plain": [
       "121"
      ]
     },
     "execution_count": 9,
     "metadata": {},
     "output_type": "execute_result"
    }
   ],
   "source": [
    "dict(zip(tree.onehot_df.index, tree.clusters))['Chinese Spring 1_001829_0724_m/z241.1544_RT0.7890']"
   ]
  },
  {
   "cell_type": "markdown",
   "metadata": {},
   "source": [
    "As with the python pipeline in the quick-start notebook, we can easily choose a new cutoff for clustering.\n",
    "In fact, the pipeline function returns a tree."
   ]
  },
  {
   "cell_type": "code",
   "execution_count": 10,
   "metadata": {},
   "outputs": [
    {
     "name": "stdout",
     "output_type": "stream",
     "text": [
      "BEFORE: Cutoff: 0.4 n clusters: 160\n",
      "AFTER: Cutoff: 0.6 n clusters: 113\n"
     ]
    }
   ],
   "source": [
    "# To pick new clusters without computing a new tree...\n",
    "print(\"BEFORE: Cutoff:\", tree.cutoff, \"n clusters:\", len(set(tree.clusters)))\n",
    "\n",
    "tree.cut_tree(cutoff=0.6)\n",
    "print(\"AFTER: Cutoff:\", tree.cutoff, \"n clusters:\", len(set(tree.clusters)))\n",
    "\n",
    "# Note that the object's cutoff value is changed."
   ]
  },
  {
   "cell_type": "markdown",
   "metadata": {},
   "source": [
    "To get the cluster numbers along-side the presence absence data we can simply add a new colum to the dataframe, \n",
    "since it's already in the correct order."
   ]
  },
  {
   "cell_type": "code",
   "execution_count": 11,
   "metadata": {},
   "outputs": [
    {
     "data": {
      "text/html": [
       "<div>\n",
       "<style scoped>\n",
       "    .dataframe tbody tr th:only-of-type {\n",
       "        vertical-align: middle;\n",
       "    }\n",
       "\n",
       "    .dataframe tbody tr th {\n",
       "        vertical-align: top;\n",
       "    }\n",
       "\n",
       "    .dataframe thead th {\n",
       "        text-align: right;\n",
       "    }\n",
       "</style>\n",
       "<table border=\"1\" class=\"dataframe\">\n",
       "  <thead>\n",
       "    <tr style=\"text-align: right;\">\n",
       "      <th>bins</th>\n",
       "      <th>cluster</th>\n",
       "      <th>100.0246_100.0246_100.0246</th>\n",
       "      <th>100.0395_100.0395_100.0395</th>\n",
       "      <th>100.0759_100.0759_100.0760</th>\n",
       "      <th>100.1123_100.1122_100.1123</th>\n",
       "      <th>100.1311_100.1311_100.1311</th>\n",
       "      <th>100.5562_100.5562_100.5562</th>\n",
       "      <th>100.6662_100.6662_100.6662</th>\n",
       "      <th>101.0235_101.0235_101.0235</th>\n",
       "      <th>101.0598_101.0596_101.0599</th>\n",
       "      <th>...</th>\n",
       "      <th>98.0966_98.0964_98.0967</th>\n",
       "      <th>98.5142_98.5142_98.5142</th>\n",
       "      <th>98.5942_98.5942_98.5942</th>\n",
       "      <th>98.8081_98.8081_98.8081</th>\n",
       "      <th>98.9756_98.9755_98.9759</th>\n",
       "      <th>98.9844_98.9844_98.9845</th>\n",
       "      <th>99.0034_99.0034_99.0034</th>\n",
       "      <th>99.0443_99.0441_99.0445</th>\n",
       "      <th>99.0807_99.0804_99.0809</th>\n",
       "      <th>99.1172_99.1172_99.1172</th>\n",
       "    </tr>\n",
       "    <tr>\n",
       "      <th>component</th>\n",
       "      <th></th>\n",
       "      <th></th>\n",
       "      <th></th>\n",
       "      <th></th>\n",
       "      <th></th>\n",
       "      <th></th>\n",
       "      <th></th>\n",
       "      <th></th>\n",
       "      <th></th>\n",
       "      <th></th>\n",
       "      <th></th>\n",
       "      <th></th>\n",
       "      <th></th>\n",
       "      <th></th>\n",
       "      <th></th>\n",
       "      <th></th>\n",
       "      <th></th>\n",
       "      <th></th>\n",
       "      <th></th>\n",
       "      <th></th>\n",
       "      <th></th>\n",
       "    </tr>\n",
       "  </thead>\n",
       "  <tbody>\n",
       "    <tr>\n",
       "      <th>Chinese Spring 1_001829_8737_m/z613.4826_RT13.9777</th>\n",
       "      <td>1</td>\n",
       "      <td>False</td>\n",
       "      <td>False</td>\n",
       "      <td>False</td>\n",
       "      <td>False</td>\n",
       "      <td>False</td>\n",
       "      <td>False</td>\n",
       "      <td>False</td>\n",
       "      <td>False</td>\n",
       "      <td>False</td>\n",
       "      <td>...</td>\n",
       "      <td>False</td>\n",
       "      <td>False</td>\n",
       "      <td>False</td>\n",
       "      <td>False</td>\n",
       "      <td>False</td>\n",
       "      <td>False</td>\n",
       "      <td>False</td>\n",
       "      <td>False</td>\n",
       "      <td>False</td>\n",
       "      <td>False</td>\n",
       "    </tr>\n",
       "    <tr>\n",
       "      <th>Chinese Spring 1_001829_7933_m/z792.5621_RT11.9987</th>\n",
       "      <td>1</td>\n",
       "      <td>False</td>\n",
       "      <td>False</td>\n",
       "      <td>False</td>\n",
       "      <td>False</td>\n",
       "      <td>False</td>\n",
       "      <td>False</td>\n",
       "      <td>False</td>\n",
       "      <td>False</td>\n",
       "      <td>False</td>\n",
       "      <td>...</td>\n",
       "      <td>False</td>\n",
       "      <td>False</td>\n",
       "      <td>False</td>\n",
       "      <td>False</td>\n",
       "      <td>False</td>\n",
       "      <td>False</td>\n",
       "      <td>False</td>\n",
       "      <td>False</td>\n",
       "      <td>False</td>\n",
       "      <td>False</td>\n",
       "    </tr>\n",
       "    <tr>\n",
       "      <th>Chinese Spring 1_001829_8203_m/z613.4826_RT12.2884</th>\n",
       "      <td>2</td>\n",
       "      <td>False</td>\n",
       "      <td>False</td>\n",
       "      <td>False</td>\n",
       "      <td>False</td>\n",
       "      <td>False</td>\n",
       "      <td>False</td>\n",
       "      <td>False</td>\n",
       "      <td>False</td>\n",
       "      <td>False</td>\n",
       "      <td>...</td>\n",
       "      <td>False</td>\n",
       "      <td>False</td>\n",
       "      <td>False</td>\n",
       "      <td>False</td>\n",
       "      <td>False</td>\n",
       "      <td>False</td>\n",
       "      <td>False</td>\n",
       "      <td>False</td>\n",
       "      <td>False</td>\n",
       "      <td>False</td>\n",
       "    </tr>\n",
       "    <tr>\n",
       "      <th>Chinese Spring 1_001829_6867_m/z596.3096_RT9.9999</th>\n",
       "      <td>3</td>\n",
       "      <td>False</td>\n",
       "      <td>False</td>\n",
       "      <td>False</td>\n",
       "      <td>False</td>\n",
       "      <td>False</td>\n",
       "      <td>False</td>\n",
       "      <td>False</td>\n",
       "      <td>False</td>\n",
       "      <td>False</td>\n",
       "      <td>...</td>\n",
       "      <td>False</td>\n",
       "      <td>False</td>\n",
       "      <td>False</td>\n",
       "      <td>False</td>\n",
       "      <td>False</td>\n",
       "      <td>False</td>\n",
       "      <td>False</td>\n",
       "      <td>False</td>\n",
       "      <td>False</td>\n",
       "      <td>False</td>\n",
       "    </tr>\n",
       "    <tr>\n",
       "      <th>Chinese Spring 5_001887_7848_m/z792.5621_RT14.4273</th>\n",
       "      <td>4</td>\n",
       "      <td>False</td>\n",
       "      <td>False</td>\n",
       "      <td>False</td>\n",
       "      <td>False</td>\n",
       "      <td>False</td>\n",
       "      <td>False</td>\n",
       "      <td>False</td>\n",
       "      <td>False</td>\n",
       "      <td>False</td>\n",
       "      <td>...</td>\n",
       "      <td>False</td>\n",
       "      <td>False</td>\n",
       "      <td>False</td>\n",
       "      <td>False</td>\n",
       "      <td>False</td>\n",
       "      <td>False</td>\n",
       "      <td>False</td>\n",
       "      <td>False</td>\n",
       "      <td>False</td>\n",
       "      <td>False</td>\n",
       "    </tr>\n",
       "  </tbody>\n",
       "</table>\n",
       "<p>5 rows × 1942 columns</p>\n",
       "</div>"
      ],
      "text/plain": [
       "bins                                                cluster  \\\n",
       "component                                                     \n",
       "Chinese Spring 1_001829_8737_m/z613.4826_RT13.9777        1   \n",
       "Chinese Spring 1_001829_7933_m/z792.5621_RT11.9987        1   \n",
       "Chinese Spring 1_001829_8203_m/z613.4826_RT12.2884        2   \n",
       "Chinese Spring 1_001829_6867_m/z596.3096_RT9.9999         3   \n",
       "Chinese Spring 5_001887_7848_m/z792.5621_RT14.4273        4   \n",
       "\n",
       "bins                                               100.0246_100.0246_100.0246  \\\n",
       "component                                                                       \n",
       "Chinese Spring 1_001829_8737_m/z613.4826_RT13.9777                      False   \n",
       "Chinese Spring 1_001829_7933_m/z792.5621_RT11.9987                      False   \n",
       "Chinese Spring 1_001829_8203_m/z613.4826_RT12.2884                      False   \n",
       "Chinese Spring 1_001829_6867_m/z596.3096_RT9.9999                       False   \n",
       "Chinese Spring 5_001887_7848_m/z792.5621_RT14.4273                      False   \n",
       "\n",
       "bins                                               100.0395_100.0395_100.0395  \\\n",
       "component                                                                       \n",
       "Chinese Spring 1_001829_8737_m/z613.4826_RT13.9777                      False   \n",
       "Chinese Spring 1_001829_7933_m/z792.5621_RT11.9987                      False   \n",
       "Chinese Spring 1_001829_8203_m/z613.4826_RT12.2884                      False   \n",
       "Chinese Spring 1_001829_6867_m/z596.3096_RT9.9999                       False   \n",
       "Chinese Spring 5_001887_7848_m/z792.5621_RT14.4273                      False   \n",
       "\n",
       "bins                                               100.0759_100.0759_100.0760  \\\n",
       "component                                                                       \n",
       "Chinese Spring 1_001829_8737_m/z613.4826_RT13.9777                      False   \n",
       "Chinese Spring 1_001829_7933_m/z792.5621_RT11.9987                      False   \n",
       "Chinese Spring 1_001829_8203_m/z613.4826_RT12.2884                      False   \n",
       "Chinese Spring 1_001829_6867_m/z596.3096_RT9.9999                       False   \n",
       "Chinese Spring 5_001887_7848_m/z792.5621_RT14.4273                      False   \n",
       "\n",
       "bins                                               100.1123_100.1122_100.1123  \\\n",
       "component                                                                       \n",
       "Chinese Spring 1_001829_8737_m/z613.4826_RT13.9777                      False   \n",
       "Chinese Spring 1_001829_7933_m/z792.5621_RT11.9987                      False   \n",
       "Chinese Spring 1_001829_8203_m/z613.4826_RT12.2884                      False   \n",
       "Chinese Spring 1_001829_6867_m/z596.3096_RT9.9999                       False   \n",
       "Chinese Spring 5_001887_7848_m/z792.5621_RT14.4273                      False   \n",
       "\n",
       "bins                                               100.1311_100.1311_100.1311  \\\n",
       "component                                                                       \n",
       "Chinese Spring 1_001829_8737_m/z613.4826_RT13.9777                      False   \n",
       "Chinese Spring 1_001829_7933_m/z792.5621_RT11.9987                      False   \n",
       "Chinese Spring 1_001829_8203_m/z613.4826_RT12.2884                      False   \n",
       "Chinese Spring 1_001829_6867_m/z596.3096_RT9.9999                       False   \n",
       "Chinese Spring 5_001887_7848_m/z792.5621_RT14.4273                      False   \n",
       "\n",
       "bins                                               100.5562_100.5562_100.5562  \\\n",
       "component                                                                       \n",
       "Chinese Spring 1_001829_8737_m/z613.4826_RT13.9777                      False   \n",
       "Chinese Spring 1_001829_7933_m/z792.5621_RT11.9987                      False   \n",
       "Chinese Spring 1_001829_8203_m/z613.4826_RT12.2884                      False   \n",
       "Chinese Spring 1_001829_6867_m/z596.3096_RT9.9999                       False   \n",
       "Chinese Spring 5_001887_7848_m/z792.5621_RT14.4273                      False   \n",
       "\n",
       "bins                                               100.6662_100.6662_100.6662  \\\n",
       "component                                                                       \n",
       "Chinese Spring 1_001829_8737_m/z613.4826_RT13.9777                      False   \n",
       "Chinese Spring 1_001829_7933_m/z792.5621_RT11.9987                      False   \n",
       "Chinese Spring 1_001829_8203_m/z613.4826_RT12.2884                      False   \n",
       "Chinese Spring 1_001829_6867_m/z596.3096_RT9.9999                       False   \n",
       "Chinese Spring 5_001887_7848_m/z792.5621_RT14.4273                      False   \n",
       "\n",
       "bins                                               101.0235_101.0235_101.0235  \\\n",
       "component                                                                       \n",
       "Chinese Spring 1_001829_8737_m/z613.4826_RT13.9777                      False   \n",
       "Chinese Spring 1_001829_7933_m/z792.5621_RT11.9987                      False   \n",
       "Chinese Spring 1_001829_8203_m/z613.4826_RT12.2884                      False   \n",
       "Chinese Spring 1_001829_6867_m/z596.3096_RT9.9999                       False   \n",
       "Chinese Spring 5_001887_7848_m/z792.5621_RT14.4273                      False   \n",
       "\n",
       "bins                                               101.0598_101.0596_101.0599  \\\n",
       "component                                                                       \n",
       "Chinese Spring 1_001829_8737_m/z613.4826_RT13.9777                      False   \n",
       "Chinese Spring 1_001829_7933_m/z792.5621_RT11.9987                      False   \n",
       "Chinese Spring 1_001829_8203_m/z613.4826_RT12.2884                      False   \n",
       "Chinese Spring 1_001829_6867_m/z596.3096_RT9.9999                       False   \n",
       "Chinese Spring 5_001887_7848_m/z792.5621_RT14.4273                      False   \n",
       "\n",
       "bins                                                ...  \\\n",
       "component                                           ...   \n",
       "Chinese Spring 1_001829_8737_m/z613.4826_RT13.9777  ...   \n",
       "Chinese Spring 1_001829_7933_m/z792.5621_RT11.9987  ...   \n",
       "Chinese Spring 1_001829_8203_m/z613.4826_RT12.2884  ...   \n",
       "Chinese Spring 1_001829_6867_m/z596.3096_RT9.9999   ...   \n",
       "Chinese Spring 5_001887_7848_m/z792.5621_RT14.4273  ...   \n",
       "\n",
       "bins                                               98.0966_98.0964_98.0967  \\\n",
       "component                                                                    \n",
       "Chinese Spring 1_001829_8737_m/z613.4826_RT13.9777                   False   \n",
       "Chinese Spring 1_001829_7933_m/z792.5621_RT11.9987                   False   \n",
       "Chinese Spring 1_001829_8203_m/z613.4826_RT12.2884                   False   \n",
       "Chinese Spring 1_001829_6867_m/z596.3096_RT9.9999                    False   \n",
       "Chinese Spring 5_001887_7848_m/z792.5621_RT14.4273                   False   \n",
       "\n",
       "bins                                               98.5142_98.5142_98.5142  \\\n",
       "component                                                                    \n",
       "Chinese Spring 1_001829_8737_m/z613.4826_RT13.9777                   False   \n",
       "Chinese Spring 1_001829_7933_m/z792.5621_RT11.9987                   False   \n",
       "Chinese Spring 1_001829_8203_m/z613.4826_RT12.2884                   False   \n",
       "Chinese Spring 1_001829_6867_m/z596.3096_RT9.9999                    False   \n",
       "Chinese Spring 5_001887_7848_m/z792.5621_RT14.4273                   False   \n",
       "\n",
       "bins                                               98.5942_98.5942_98.5942  \\\n",
       "component                                                                    \n",
       "Chinese Spring 1_001829_8737_m/z613.4826_RT13.9777                   False   \n",
       "Chinese Spring 1_001829_7933_m/z792.5621_RT11.9987                   False   \n",
       "Chinese Spring 1_001829_8203_m/z613.4826_RT12.2884                   False   \n",
       "Chinese Spring 1_001829_6867_m/z596.3096_RT9.9999                    False   \n",
       "Chinese Spring 5_001887_7848_m/z792.5621_RT14.4273                   False   \n",
       "\n",
       "bins                                               98.8081_98.8081_98.8081  \\\n",
       "component                                                                    \n",
       "Chinese Spring 1_001829_8737_m/z613.4826_RT13.9777                   False   \n",
       "Chinese Spring 1_001829_7933_m/z792.5621_RT11.9987                   False   \n",
       "Chinese Spring 1_001829_8203_m/z613.4826_RT12.2884                   False   \n",
       "Chinese Spring 1_001829_6867_m/z596.3096_RT9.9999                    False   \n",
       "Chinese Spring 5_001887_7848_m/z792.5621_RT14.4273                   False   \n",
       "\n",
       "bins                                               98.9756_98.9755_98.9759  \\\n",
       "component                                                                    \n",
       "Chinese Spring 1_001829_8737_m/z613.4826_RT13.9777                   False   \n",
       "Chinese Spring 1_001829_7933_m/z792.5621_RT11.9987                   False   \n",
       "Chinese Spring 1_001829_8203_m/z613.4826_RT12.2884                   False   \n",
       "Chinese Spring 1_001829_6867_m/z596.3096_RT9.9999                    False   \n",
       "Chinese Spring 5_001887_7848_m/z792.5621_RT14.4273                   False   \n",
       "\n",
       "bins                                               98.9844_98.9844_98.9845  \\\n",
       "component                                                                    \n",
       "Chinese Spring 1_001829_8737_m/z613.4826_RT13.9777                   False   \n",
       "Chinese Spring 1_001829_7933_m/z792.5621_RT11.9987                   False   \n",
       "Chinese Spring 1_001829_8203_m/z613.4826_RT12.2884                   False   \n",
       "Chinese Spring 1_001829_6867_m/z596.3096_RT9.9999                    False   \n",
       "Chinese Spring 5_001887_7848_m/z792.5621_RT14.4273                   False   \n",
       "\n",
       "bins                                               99.0034_99.0034_99.0034  \\\n",
       "component                                                                    \n",
       "Chinese Spring 1_001829_8737_m/z613.4826_RT13.9777                   False   \n",
       "Chinese Spring 1_001829_7933_m/z792.5621_RT11.9987                   False   \n",
       "Chinese Spring 1_001829_8203_m/z613.4826_RT12.2884                   False   \n",
       "Chinese Spring 1_001829_6867_m/z596.3096_RT9.9999                    False   \n",
       "Chinese Spring 5_001887_7848_m/z792.5621_RT14.4273                   False   \n",
       "\n",
       "bins                                               99.0443_99.0441_99.0445  \\\n",
       "component                                                                    \n",
       "Chinese Spring 1_001829_8737_m/z613.4826_RT13.9777                   False   \n",
       "Chinese Spring 1_001829_7933_m/z792.5621_RT11.9987                   False   \n",
       "Chinese Spring 1_001829_8203_m/z613.4826_RT12.2884                   False   \n",
       "Chinese Spring 1_001829_6867_m/z596.3096_RT9.9999                    False   \n",
       "Chinese Spring 5_001887_7848_m/z792.5621_RT14.4273                   False   \n",
       "\n",
       "bins                                               99.0807_99.0804_99.0809  \\\n",
       "component                                                                    \n",
       "Chinese Spring 1_001829_8737_m/z613.4826_RT13.9777                   False   \n",
       "Chinese Spring 1_001829_7933_m/z792.5621_RT11.9987                   False   \n",
       "Chinese Spring 1_001829_8203_m/z613.4826_RT12.2884                   False   \n",
       "Chinese Spring 1_001829_6867_m/z596.3096_RT9.9999                    False   \n",
       "Chinese Spring 5_001887_7848_m/z792.5621_RT14.4273                   False   \n",
       "\n",
       "bins                                               99.1172_99.1172_99.1172  \n",
       "component                                                                   \n",
       "Chinese Spring 1_001829_8737_m/z613.4826_RT13.9777                   False  \n",
       "Chinese Spring 1_001829_7933_m/z792.5621_RT11.9987                   False  \n",
       "Chinese Spring 1_001829_8203_m/z613.4826_RT12.2884                   False  \n",
       "Chinese Spring 1_001829_6867_m/z596.3096_RT9.9999                    False  \n",
       "Chinese Spring 5_001887_7848_m/z792.5621_RT14.4273                   False  \n",
       "\n",
       "[5 rows x 1942 columns]"
      ]
     },
     "execution_count": 11,
     "metadata": {},
     "output_type": "execute_result"
    }
   ],
   "source": [
    "# Make sure you take a copy to avoid editing the data.\n",
    "oh = tree.onehot_df.copy()\n",
    "oh[\"cluster\"] = tree.clusters\n",
    "\n",
    "# reorder columns\n",
    "oh = oh[[\"cluster\"] + [col for col in oh.columns if col != \"cluster\"]]\n",
    "\n",
    "# Sort values by cluster\n",
    "oh.sort_values(by=\"cluster\", inplace=True)\n",
    "\n",
    "oh.head()"
   ]
  },
  {
   "cell_type": "markdown",
   "metadata": {},
   "source": [
    "We can write out the results of the clustering as we saw in the quick-start notebook.\n",
    "Note that the `path` will be a directory where multiple files are written, and it must already exist.\n",
    "\n",
    "Also, any results already in the directory will be overwritten.\n",
    "The default path will use a combination of the date and time to avoid overwriting data."
   ]
  },
  {
   "cell_type": "code",
   "execution_count": 12,
   "metadata": {},
   "outputs": [],
   "source": [
    "# Create the directory to store results.\n",
    "os.makedirs(\"results\", exist_ok=True)\n",
    "\n",
    "# Generate the plots of clusters.\n",
    "tree.write_summaries(path=\"results\")"
   ]
  },
  {
   "cell_type": "code",
   "execution_count": 13,
   "metadata": {},
   "outputs": [
    {
     "name": "stdout",
     "output_type": "stream",
     "text": [
      "total 18272\n",
      "-rw-r--r--. 1 darcyabjones darcyabjones   71581 Apr 24 17:22 cluster_100_1.png\n",
      "-rw-r--r--. 1 darcyabjones darcyabjones    5855 Apr 24 17:22 cluster_100_1.xlsx\n",
      "-rw-r--r--. 1 darcyabjones darcyabjones   57123 Apr 24 17:22 cluster_101_1.png\n",
      "-rw-r--r--. 1 darcyabjones darcyabjones    5766 Apr 24 17:22 cluster_101_1.xlsx\n",
      "-rw-r--r--. 1 darcyabjones darcyabjones   68087 Apr 24 17:22 cluster_102_1.png\n",
      "-rw-r--r--. 1 darcyabjones darcyabjones    5852 Apr 24 17:22 cluster_102_1.xlsx\n",
      "-rw-r--r--. 1 darcyabjones darcyabjones  188951 Apr 24 17:21 cluster_10_2.png\n",
      "-rw-r--r--. 1 darcyabjones darcyabjones    7393 Apr 24 17:21 cluster_10_2.xlsx\n",
      "-rw-r--r--. 1 darcyabjones darcyabjones   83151 Apr 24 17:22 cluster_103_2.png\n"
     ]
    }
   ],
   "source": [
    "%%bash\n",
    "\n",
    "ls -l results | head"
   ]
  },
  {
   "cell_type": "markdown",
   "metadata": {},
   "source": [
    "We can inspect the hierarchical clustering linkage map output from scipy.\n",
    "Unfortunately, this lacks a bit of intuition.\n",
    "The first two columns refer to two nodes in the tree.\n",
    "The third column gives the distance between the two nodes.\n",
    "And the fourth column gives the number of leaves that are in or beneath these nodes."
   ]
  },
  {
   "cell_type": "code",
   "execution_count": 14,
   "metadata": {},
   "outputs": [
    {
     "data": {
      "text/plain": [
       "array([[1.30000000e+01, 1.40000000e+01, 0.00000000e+00, 2.00000000e+00],\n",
       "       [1.02000000e+02, 1.04000000e+02, 0.00000000e+00, 2.00000000e+00],\n",
       "       [1.10000000e+02, 1.11000000e+02, 0.00000000e+00, 2.00000000e+00],\n",
       "       [1.94000000e+02, 1.95000000e+02, 0.00000000e+00, 2.00000000e+00],\n",
       "       [7.10000000e+01, 1.66000000e+02, 1.81818182e-01, 2.00000000e+00],\n",
       "       [9.40000000e+01, 9.60000000e+01, 1.92307692e-01, 2.00000000e+00]])"
      ]
     },
     "execution_count": 14,
     "metadata": {},
     "output_type": "execute_result"
    }
   ],
   "source": [
    "# Linkage tree from scipy.\n",
    "tree.tree[:6]"
   ]
  },
  {
   "cell_type": "markdown",
   "metadata": {},
   "source": [
    "The tree is probably more useful to you.\n",
    "You can write an interactive tree to a file using the `plot` method on the `Tree` object."
   ]
  },
  {
   "cell_type": "code",
   "execution_count": 15,
   "metadata": {},
   "outputs": [],
   "source": [
    "# To write out the tree.\n",
    "# NB the results folder already exists from the previous step where we wrote summaries.\n",
    "tree.plot(filename=\"results/simple_dendrogram.html\", width=1000, height=1000);"
   ]
  },
  {
   "cell_type": "code",
   "execution_count": 16,
   "metadata": {},
   "outputs": [
    {
     "name": "stdout",
     "output_type": "stream",
     "text": [
      "-rw-r--r--. 1 darcyabjones darcyabjones 3155698 Apr 24 17:22 results/simple_dendrogram.html\n"
     ]
    }
   ],
   "source": [
    "%%bash\n",
    "ls -la results/simple_dendrogram.html"
   ]
  },
  {
   "cell_type": "markdown",
   "metadata": {},
   "source": [
    "Note that the width and height values are in pixels.\n",
    "If your sample names are fairly long like ours are, you might like to fiddle with the height.\n",
    "You can navigate to the .html file and open it in your favourite browser.\n",
    "\n",
    "Since you're already using a Jupyter notebook you might like to plot the tree inline with your other analysis.\n",
    "We can do that using some plotly functionality.\n",
    "\n",
    "The `plot` method returns a Plotly `Figure` object which you can use with normal plo`ly functions.\n",
    "So we can use the `notebook_mode` to show it inline."
   ]
  },
  {
   "cell_type": "code",
   "execution_count": 17,
   "metadata": {},
   "outputs": [
    {
     "data": {
      "text/html": [
       "        <script type=\"text/javascript\">\n",
       "        window.PlotlyConfig = {MathJaxConfig: 'local'};\n",
       "        if (window.MathJax) {MathJax.Hub.Config({SVG: {font: \"STIX-Web\"}});}\n",
       "        if (typeof require !== 'undefined') {\n",
       "        require.undef(\"plotly\");\n",
       "        requirejs.config({\n",
       "            paths: {\n",
       "                'plotly': ['https://cdn.plot.ly/plotly-latest.min']\n",
       "            }\n",
       "        });\n",
       "        require(['plotly'], function(Plotly) {\n",
       "            window._Plotly = Plotly;\n",
       "        });\n",
       "        }\n",
       "        </script>\n",
       "        "
      ]
     },
     "metadata": {},
     "output_type": "display_data"
    },
    {
     "data": {
      "application/vnd.plotly.v1+json": {
       "config": {
        "linkText": "Export to plot.ly",
        "plotlyServerURL": "https://plot.ly",
        "showLink": false
       },
       "data": [
        {
         "hoverinfo": "text",
         "marker": {
          "color": "rgb(61,153,112)"
         },
         "mode": "lines",
         "text": [
          "cluster: 1, component: Chinese Spring 1_001829_7933_m/z792.5621_RT11.9987",
          "cluster: 1, component: Chinese Spring 1_001829_7933_m/z792.5621_RT11.9987",
          "cluster: 1, component: Chinese Spring 1_001829_8737_m/z613.4826_RT13.9777",
          "cluster: 1, component: Chinese Spring 1_001829_8737_m/z613.4826_RT13.9777"
         ],
         "type": "scatter",
         "uid": "8fbc2a59-f457-4d40-8e89-691bdc12db85",
         "x": [
          15,
          15,
          25,
          25
         ],
         "xaxis": "x",
         "y": [
          0,
          0.5662650602409639,
          0.5662650602409639,
          0
         ],
         "yaxis": "y"
        },
        {
         "hoverinfo": "text",
         "marker": {
          "color": "rgb(0,116,217)"
         },
         "mode": "lines",
         "text": [
          "cluster: 2, component: Chinese Spring 1_001829_8203_m/z613.4826_RT12.2884",
          "cluster: 2, component: Chinese Spring 1_001829_8203_m/z613.4826_RT12.2884",
          null,
          null
         ],
         "type": "scatter",
         "uid": "65b55b10-1805-491a-88e1-b0cb40d13cc1",
         "x": [
          5,
          5,
          20,
          20
         ],
         "xaxis": "x",
         "y": [
          0,
          0.676923076923077,
          0.676923076923077,
          0.5662650602409639
         ],
         "yaxis": "y"
        },
        {
         "hoverinfo": "text",
         "marker": {
          "color": "rgb(0,116,217)"
         },
         "mode": "lines",
         "text": [
          "cluster: 3, component: Chinese Spring 1_001829_6867_m/z596.3096_RT9.9999",
          "cluster: 3, component: Chinese Spring 1_001829_6867_m/z596.3096_RT9.9999",
          "cluster: 4, component: Chinese Spring 5_001887_7848_m/z792.5621_RT14.4273",
          "cluster: 4, component: Chinese Spring 5_001887_7848_m/z792.5621_RT14.4273"
         ],
         "type": "scatter",
         "uid": "2449e008-d767-4bf5-890a-80b3336b4d9b",
         "x": [
          35,
          35,
          45,
          45
         ],
         "xaxis": "x",
         "y": [
          0,
          0.7142857142857143,
          0.7142857142857143,
          0
         ],
         "yaxis": "y"
        },
        {
         "hoverinfo": "text",
         "marker": {
          "color": "rgb(0,116,217)"
         },
         "mode": "lines",
         "text": [
          null,
          null,
          null,
          null
         ],
         "type": "scatter",
         "uid": "389bb1e4-dac3-427c-8f09-946f7d3f481e",
         "x": [
          12.5,
          12.5,
          40,
          40
         ],
         "xaxis": "x",
         "y": [
          0.676923076923077,
          0.7763157894736842,
          0.7763157894736842,
          0.7142857142857143
         ],
         "yaxis": "y"
        },
        {
         "hoverinfo": "text",
         "marker": {
          "color": "rgb(255,65,54)"
         },
         "mode": "lines",
         "text": [
          "cluster: 5, component: Chinese Spring 1_001829_6962_m/z335.2578_RT10.1118",
          "cluster: 5, component: Chinese Spring 1_001829_6962_m/z335.2578_RT10.1118",
          "cluster: 5, component: Chinese Spring 1_001829_7924_m/z335.2579_RT11.9987",
          "cluster: 5, component: Chinese Spring 1_001829_7924_m/z335.2579_RT11.9987"
         ],
         "type": "scatter",
         "uid": "43002430-f10a-4f46-bf7a-9f3ab9633e4f",
         "x": [
          105,
          105,
          115,
          115
         ],
         "xaxis": "x",
         "y": [
          0,
          0.26,
          0.26,
          0
         ],
         "yaxis": "y"
        },
        {
         "hoverinfo": "text",
         "marker": {
          "color": "rgb(255,65,54)"
         },
         "mode": "lines",
         "text": [
          "cluster: 5, component: Chinese Spring 1_001829_8002_m/z335.2578_RT12.0967",
          "cluster: 5, component: Chinese Spring 1_001829_8002_m/z335.2578_RT12.0967",
          null,
          null
         ],
         "type": "scatter",
         "uid": "5fb56cb8-8944-4f53-9df2-9f2086a41a73",
         "x": [
          95,
          95,
          110,
          110
         ],
         "xaxis": "x",
         "y": [
          0,
          0.2830188679245283,
          0.2830188679245283,
          0.26
         ],
         "yaxis": "y"
        },
        {
         "hoverinfo": "text",
         "marker": {
          "color": "rgb(255,65,54)"
         },
         "mode": "lines",
         "text": [
          "cluster: 5, component: Chinese Spring 1_001829_7102_m/z335.2578_RT10.4732",
          "cluster: 5, component: Chinese Spring 1_001829_7102_m/z335.2578_RT10.4732",
          "cluster: 5, component: Chinese Spring 1_001829_7304_m/z335.2577_RT10.7050",
          "cluster: 5, component: Chinese Spring 1_001829_7304_m/z335.2577_RT10.7050"
         ],
         "type": "scatter",
         "uid": "25580791-630c-44da-a5c5-ec83da190799",
         "x": [
          125,
          125,
          135,
          135
         ],
         "xaxis": "x",
         "y": [
          0,
          0.2857142857142857,
          0.2857142857142857,
          0
         ],
         "yaxis": "y"
        },
        {
         "hoverinfo": "text",
         "marker": {
          "color": "rgb(255,65,54)"
         },
         "mode": "lines",
         "text": [
          null,
          null,
          null,
          null
         ],
         "type": "scatter",
         "uid": "3b8a5aa0-1b4f-4335-8ef2-a49dffe95617",
         "x": [
          102.5,
          102.5,
          130,
          130
         ],
         "xaxis": "x",
         "y": [
          0.2830188679245283,
          0.3389830508474576,
          0.3389830508474576,
          0.2857142857142857
         ],
         "yaxis": "y"
        },
        {
         "hoverinfo": "text",
         "marker": {
          "color": "rgb(255,65,54)"
         },
         "mode": "lines",
         "text": [
          "cluster: 5, component: Chinese Spring 1_001829_6770_m/z335.2578_RT9.7767",
          "cluster: 5, component: Chinese Spring 1_001829_6770_m/z335.2578_RT9.7767",
          "cluster: 5, component: Chinese Spring 1_001829_7176_m/z261.2209_RT10.5802",
          "cluster: 5, component: Chinese Spring 1_001829_7176_m/z261.2209_RT10.5802"
         ],
         "type": "scatter",
         "uid": "a4bdb499-b219-4fee-9e8b-88af531a4575",
         "x": [
          145,
          145,
          155,
          155
         ],
         "xaxis": "x",
         "y": [
          0,
          0.375,
          0.375,
          0
         ],
         "yaxis": "y"
        },
        {
         "hoverinfo": "text",
         "marker": {
          "color": "rgb(255,65,54)"
         },
         "mode": "lines",
         "text": [
          null,
          null,
          null,
          null
         ],
         "type": "scatter",
         "uid": "10f9366d-8a66-4ea1-8e07-545ca53e94d5",
         "x": [
          116.25,
          116.25,
          150,
          150
         ],
         "xaxis": "x",
         "y": [
          0.3389830508474576,
          0.4117647058823529,
          0.4117647058823529,
          0.375
         ],
         "yaxis": "y"
        },
        {
         "hoverinfo": "text",
         "marker": {
          "color": "rgb(255,65,54)"
         },
         "mode": "lines",
         "text": [
          "cluster: 5, component: Chinese Spring 1_001829_6995_m/z353.2686_RT10.1519",
          "cluster: 5, component: Chinese Spring 1_001829_6995_m/z353.2686_RT10.1519",
          "cluster: 5, component: Chinese Spring 1_001829_7306_m/z353.2686_RT10.7050",
          "cluster: 5, component: Chinese Spring 1_001829_7306_m/z353.2686_RT10.7050"
         ],
         "type": "scatter",
         "uid": "32e3aafb-61c3-4742-ae3f-b1008a0b3b1b",
         "x": [
          165,
          165,
          175,
          175
         ],
         "xaxis": "x",
         "y": [
          0,
          0.27419354838709675,
          0.27419354838709675,
          0
         ],
         "yaxis": "y"
        },
        {
         "hoverinfo": "text",
         "marker": {
          "color": "rgb(255,65,54)"
         },
         "mode": "lines",
         "text": [
          "cluster: 5, component: Chinese Spring 1_001829_6884_m/z335.2579_RT10.0132",
          "cluster: 5, component: Chinese Spring 1_001829_6884_m/z335.2579_RT10.0132",
          "cluster: 5, component: Chinese Spring 1_001829_7178_m/z335.2579_RT10.5802",
          "cluster: 5, component: Chinese Spring 1_001829_7178_m/z335.2579_RT10.5802"
         ],
         "type": "scatter",
         "uid": "cb3a2c87-d2d2-4219-a3f1-276ce2970d17",
         "x": [
          195,
          195,
          205,
          205
         ],
         "xaxis": "x",
         "y": [
          0,
          0.29411764705882354,
          0.29411764705882354,
          0
         ],
         "yaxis": "y"
        },
        {
         "hoverinfo": "text",
         "marker": {
          "color": "rgb(255,65,54)"
         },
         "mode": "lines",
         "text": [
          "cluster: 5, component: Chinese Spring 1_001829_7300_m/z261.2209_RT10.7050",
          "cluster: 5, component: Chinese Spring 1_001829_7300_m/z261.2209_RT10.7050",
          null,
          null
         ],
         "type": "scatter",
         "uid": "bfcc68cc-b0df-4278-b611-8988c2632cbf",
         "x": [
          185,
          185,
          200,
          200
         ],
         "xaxis": "x",
         "y": [
          0,
          0.38461538461538464,
          0.38461538461538464,
          0.29411764705882354
         ],
         "yaxis": "y"
        },
        {
         "hoverinfo": "text",
         "marker": {
          "color": "rgb(255,65,54)"
         },
         "mode": "lines",
         "text": [
          null,
          null,
          null,
          null
         ],
         "type": "scatter",
         "uid": "05e07078-2698-450c-b4d7-282fd443058e",
         "x": [
          170,
          170,
          192.5,
          192.5
         ],
         "xaxis": "x",
         "y": [
          0.27419354838709675,
          0.43333333333333335,
          0.43333333333333335,
          0.38461538461538464
         ],
         "yaxis": "y"
        },
        {
         "hoverinfo": "text",
         "marker": {
          "color": "rgb(255,65,54)"
         },
         "mode": "lines",
         "text": [
          null,
          null,
          null,
          null
         ],
         "type": "scatter",
         "uid": "c948bd82-c53a-4ea9-972d-8c1db76b51e9",
         "x": [
          133.125,
          133.125,
          181.25,
          181.25
         ],
         "xaxis": "x",
         "y": [
          0.4117647058823529,
          0.46153846153846156,
          0.46153846153846156,
          0.43333333333333335
         ],
         "yaxis": "y"
        },
        {
         "hoverinfo": "text",
         "marker": {
          "color": "rgb(255,65,54)"
         },
         "mode": "lines",
         "text": [
          "cluster: 5, component: Cobra 1_001832_7415_m/z571.4716_RT11.9269",
          "cluster: 5, component: Cobra 1_001832_7415_m/z571.4716_RT11.9269",
          null,
          null
         ],
         "type": "scatter",
         "uid": "49400e00-b742-4b9c-840f-9eac0c0a6e35",
         "x": [
          85,
          85,
          157.1875,
          157.1875
         ],
         "xaxis": "x",
         "y": [
          0,
          0.5538461538461539,
          0.5538461538461539,
          0.46153846153846156
         ],
         "yaxis": "y"
        },
        {
         "hoverinfo": "text",
         "marker": {
          "color": "rgb(255,65,54)"
         },
         "mode": "lines",
         "text": [
          "cluster: 5, component: Chinese Spring 1_001829_6971_m/z507.2717_RT10.1162",
          "cluster: 5, component: Chinese Spring 1_001829_6971_m/z507.2717_RT10.1162",
          null,
          null
         ],
         "type": "scatter",
         "uid": "4d308295-5ff6-43e5-8bf8-a7f464b9e2de",
         "x": [
          75,
          75,
          121.09375,
          121.09375
         ],
         "xaxis": "x",
         "y": [
          0,
          0.5737704918032787,
          0.5737704918032787,
          0.5538461538461539
         ],
         "yaxis": "y"
        },
        {
         "hoverinfo": "text",
         "marker": {
          "color": "rgb(0,116,217)"
         },
         "mode": "lines",
         "text": [
          "cluster: 6, component: Chinese Spring 1_001829_7309_m/z497.3107_RT10.7050",
          "cluster: 6, component: Chinese Spring 1_001829_7309_m/z497.3107_RT10.7050",
          null,
          null
         ],
         "type": "scatter",
         "uid": "bdc70daa-20e8-4834-b7bf-dcb5c3ba9d1c",
         "x": [
          65,
          65,
          98.046875,
          98.046875
         ],
         "xaxis": "x",
         "y": [
          0,
          0.6986301369863014,
          0.6986301369863014,
          0.5737704918032787
         ],
         "yaxis": "y"
        },
        {
         "hoverinfo": "text",
         "marker": {
          "color": "rgb(0,116,217)"
         },
         "mode": "lines",
         "text": [
          "cluster: 7, component: blk_001809_2310_m/z571.4292_RT14.5025",
          "cluster: 7, component: blk_001809_2310_m/z571.4292_RT14.5025",
          null,
          null
         ],
         "type": "scatter",
         "uid": "8dcd1039-f624-4eec-96f6-4b2065194197",
         "x": [
          55,
          55,
          81.5234375,
          81.5234375
         ],
         "xaxis": "x",
         "y": [
          0,
          0.7962962962962963,
          0.7962962962962963,
          0.6986301369863014
         ],
         "yaxis": "y"
        },
        {
         "hoverinfo": "text",
         "marker": {
          "color": "rgb(0,116,217)"
         },
         "mode": "lines",
         "text": [
          "cluster: 8, component: Cobra 1_001832_8139_m/z338.3414_RT14.1645",
          "cluster: 8, component: Cobra 1_001832_8139_m/z338.3414_RT14.1645",
          "cluster: 9, component: blk_001809_2081_m/z244.1905_RT12.7018",
          "cluster: 9, component: blk_001809_2081_m/z244.1905_RT12.7018"
         ],
         "type": "scatter",
         "uid": "75d8d72f-7353-437c-89d5-53da83699020",
         "x": [
          225,
          225,
          235,
          235
         ],
         "xaxis": "x",
         "y": [
          0,
          0.6031746031746031,
          0.6031746031746031,
          0
         ],
         "yaxis": "y"
        },
        {
         "hoverinfo": "text",
         "marker": {
          "color": "rgb(35,205,205)"
         },
         "mode": "lines",
         "text": [
          "cluster: 10, component: Chinese Spring 1_001829_6885_m/z353.2690_RT10.0132",
          "cluster: 10, component: Chinese Spring 1_001829_6885_m/z353.2690_RT10.0132",
          "cluster: 10, component: Chinese Spring 1_001829_7180_m/z353.2688_RT10.5802",
          "cluster: 10, component: Chinese Spring 1_001829_7180_m/z353.2688_RT10.5802"
         ],
         "type": "scatter",
         "uid": "00b6d711-c660-44f6-a103-545a6df97995",
         "x": [
          245,
          245,
          255,
          255
         ],
         "xaxis": "x",
         "y": [
          0,
          0.2376237623762376,
          0.2376237623762376,
          0
         ],
         "yaxis": "y"
        },
        {
         "hoverinfo": "text",
         "marker": {
          "color": "rgb(35,205,205)"
         },
         "mode": "lines",
         "text": [
          "cluster: 10, component: Chinese Spring 1_001829_7587_m/z278.2475_RT11.3925",
          "cluster: 10, component: Chinese Spring 1_001829_7587_m/z278.2475_RT11.3925",
          "cluster: 10, component: Chinese Spring 1_001829_7923_m/z279.2315_RT11.9987",
          "cluster: 10, component: Chinese Spring 1_001829_7923_m/z279.2315_RT11.9987"
         ],
         "type": "scatter",
         "uid": "ee2052eb-142d-43c9-9e70-a794904b0a50",
         "x": [
          265,
          265,
          275,
          275
         ],
         "xaxis": "x",
         "y": [
          0,
          0.43209876543209874,
          0.43209876543209874,
          0
         ],
         "yaxis": "y"
        },
        {
         "hoverinfo": "text",
         "marker": {
          "color": "rgb(35,205,205)"
         },
         "mode": "lines",
         "text": [
          null,
          null,
          null,
          null
         ],
         "type": "scatter",
         "uid": "49f0abbc-3235-40a5-af9f-5cf669e1dde9",
         "x": [
          250,
          250,
          270,
          270
         ],
         "xaxis": "x",
         "y": [
          0.2376237623762376,
          0.5229357798165137,
          0.5229357798165137,
          0.43209876543209874
         ],
         "yaxis": "y"
        },
        {
         "hoverinfo": "text",
         "marker": {
          "color": "rgb(133,20,75)"
         },
         "mode": "lines",
         "text": [
          "cluster: 11, component: Chinese Spring 1_001829_7119_m/z337.2734_RT10.5000",
          "cluster: 11, component: Chinese Spring 1_001829_7119_m/z337.2734_RT10.5000",
          "cluster: 11, component: Chinese Spring 1_001829_8646_m/z337.2733_RT13.6924",
          "cluster: 11, component: Chinese Spring 1_001829_8646_m/z337.2733_RT13.6924"
         ],
         "type": "scatter",
         "uid": "a1705ceb-3b9b-4f98-b6d1-8ff545572a9c",
         "x": [
          295,
          295,
          305,
          305
         ],
         "xaxis": "x",
         "y": [
          0,
          0.373134328358209,
          0.373134328358209,
          0
         ],
         "yaxis": "y"
        },
        {
         "hoverinfo": "text",
         "marker": {
          "color": "rgb(133,20,75)"
         },
         "mode": "lines",
         "text": [
          "cluster: 11, component: Chinese Spring 1_001829_7499_m/z435.2504_RT11.0802",
          "cluster: 11, component: Chinese Spring 1_001829_7499_m/z435.2504_RT11.0802",
          null,
          null
         ],
         "type": "scatter",
         "uid": "7681020a-c1b8-4871-9770-5f09bd5f255b",
         "x": [
          285,
          285,
          300,
          300
         ],
         "xaxis": "x",
         "y": [
          0,
          0.5416666666666666,
          0.5416666666666666,
          0.373134328358209
         ],
         "yaxis": "y"
        },
        {
         "hoverinfo": "text",
         "marker": {
          "color": "rgb(0,116,217)"
         },
         "mode": "lines",
         "text": [
          null,
          null,
          null,
          null
         ],
         "type": "scatter",
         "uid": "8bbb01a3-2c78-421f-b5c4-abdb41430c37",
         "x": [
          260,
          260,
          292.5,
          292.5
         ],
         "xaxis": "x",
         "y": [
          0.5229357798165137,
          0.6875,
          0.6875,
          0.5416666666666666
         ],
         "yaxis": "y"
        },
        {
         "hoverinfo": "text",
         "marker": {
          "color": "rgb(0,116,217)"
         },
         "mode": "lines",
         "text": [
          null,
          null,
          null,
          null
         ],
         "type": "scatter",
         "uid": "a313fa6f-c6b6-40b9-87e3-d1d02c1c613e",
         "x": [
          230,
          230,
          276.25,
          276.25
         ],
         "xaxis": "x",
         "y": [
          0.6031746031746031,
          0.7590361445783133,
          0.7590361445783133,
          0.6875
         ],
         "yaxis": "y"
        },
        {
         "hoverinfo": "text",
         "marker": {
          "color": "rgb(0,116,217)"
         },
         "mode": "lines",
         "text": [
          "cluster: 12, component: blk_001809_0873_m/z272.2582_RT9.6975",
          "cluster: 12, component: blk_001809_0873_m/z272.2582_RT9.6975",
          null,
          null
         ],
         "type": "scatter",
         "uid": "b3291c28-18f2-4a30-bfdb-e3f2c9e3654b",
         "x": [
          215,
          215,
          253.125,
          253.125
         ],
         "xaxis": "x",
         "y": [
          0,
          0.8243243243243243,
          0.8243243243243243,
          0.7590361445783133
         ],
         "yaxis": "y"
        },
        {
         "hoverinfo": "text",
         "marker": {
          "color": "rgb(0,116,217)"
         },
         "mode": "lines",
         "text": [
          null,
          null,
          null,
          null
         ],
         "type": "scatter",
         "uid": "8b97b8d2-172c-49a8-8960-d28e43ad9d5a",
         "x": [
          68.26171875,
          68.26171875,
          234.0625,
          234.0625
         ],
         "xaxis": "x",
         "y": [
          0.7962962962962963,
          0.87,
          0.87,
          0.8243243243243243
         ],
         "yaxis": "y"
        },
        {
         "hoverinfo": "text",
         "marker": {
          "color": "rgb(0,116,217)"
         },
         "mode": "lines",
         "text": [
          null,
          null,
          null,
          null
         ],
         "type": "scatter",
         "uid": "43926ac9-13a7-40f1-a02a-70d0d078e783",
         "x": [
          26.25,
          26.25,
          151.162109375,
          151.162109375
         ],
         "xaxis": "x",
         "y": [
          0.7763157894736842,
          0.9130434782608695,
          0.9130434782608695,
          0.87
         ],
         "yaxis": "y"
        },
        {
         "hoverinfo": "text",
         "marker": {
          "color": "rgb(0,116,217)"
         },
         "mode": "lines",
         "text": [
          "cluster: 13, component: Chinese Spring 1_001829_7776_m/z601.4244_RT11.7714",
          "cluster: 13, component: Chinese Spring 1_001829_7776_m/z601.4244_RT11.7714",
          "cluster: 14, component: Chinese Spring 1_001829_8582_m/z599.4089_RT13.2111",
          "cluster: 14, component: Chinese Spring 1_001829_8582_m/z599.4089_RT13.2111"
         ],
         "type": "scatter",
         "uid": "af6fc6ac-cf07-46ff-a603-ae2635b4aae9",
         "x": [
          345,
          345,
          355,
          355
         ],
         "xaxis": "x",
         "y": [
          0,
          0.63,
          0.63,
          0
         ],
         "yaxis": "y"
        },
        {
         "hoverinfo": "text",
         "marker": {
          "color": "rgb(0,116,217)"
         },
         "mode": "lines",
         "text": [
          "cluster: 15, component: Chinese Spring 1_001829_7448_m/z599.4093_RT11.0178",
          "cluster: 15, component: Chinese Spring 1_001829_7448_m/z599.4093_RT11.0178",
          null,
          null
         ],
         "type": "scatter",
         "uid": "969ebdbd-a524-4adc-a4a4-52528c9a30ad",
         "x": [
          335,
          335,
          350,
          350
         ],
         "xaxis": "x",
         "y": [
          0,
          0.6710526315789473,
          0.6710526315789473,
          0.63
         ],
         "yaxis": "y"
        },
        {
         "hoverinfo": "text",
         "marker": {
          "color": "rgb(0,116,217)"
         },
         "mode": "lines",
         "text": [
          "cluster: 16, component: Chinese Spring 1_001829_8106_m/z583.4143_RT12.1770",
          "cluster: 16, component: Chinese Spring 1_001829_8106_m/z583.4143_RT12.1770",
          null,
          null
         ],
         "type": "scatter",
         "uid": "6455284d-f6ca-493d-be57-bc5f31873d1b",
         "x": [
          325,
          325,
          342.5,
          342.5
         ],
         "xaxis": "x",
         "y": [
          0,
          0.7578947368421053,
          0.7578947368421053,
          0.6710526315789473
         ],
         "yaxis": "y"
        },
        {
         "hoverinfo": "text",
         "marker": {
          "color": "rgb(0,116,217)"
         },
         "mode": "lines",
         "text": [
          "cluster: 17, component: Chinese Spring 1_001829_7690_m/z618.4271_RT11.6644",
          "cluster: 17, component: Chinese Spring 1_001829_7690_m/z618.4271_RT11.6644",
          null,
          null
         ],
         "type": "scatter",
         "uid": "75f9453e-2f31-401b-979f-95846c24fc55",
         "x": [
          315,
          315,
          333.75,
          333.75
         ],
         "xaxis": "x",
         "y": [
          0,
          0.8,
          0.8,
          0.7578947368421053
         ],
         "yaxis": "y"
        },
        {
         "hoverinfo": "text",
         "marker": {
          "color": "rgb(255,220,0)"
         },
         "mode": "lines",
         "text": [
          "cluster: 18, component: Chinese Spring 1_001829_7361_m/z618.4278_RT10.7852",
          "cluster: 18, component: Chinese Spring 1_001829_7361_m/z618.4278_RT10.7852",
          "cluster: 18, component: Chinese Spring 1_001829_7576_m/z618.4271_RT11.3791",
          "cluster: 18, component: Chinese Spring 1_001829_7576_m/z618.4271_RT11.3791"
         ],
         "type": "scatter",
         "uid": "60618dd6-c7f3-4a68-a5be-efc1ec16f32c",
         "x": [
          365,
          365,
          375,
          375
         ],
         "xaxis": "x",
         "y": [
          0,
          0.4732510288065844,
          0.4732510288065844,
          0
         ],
         "yaxis": "y"
        },
        {
         "hoverinfo": "text",
         "marker": {
          "color": "rgb(40,35,35)"
         },
         "mode": "lines",
         "text": [
          "cluster: 19, component: Chinese Spring 1_001829_7574_m/z583.4141_RT11.3791",
          "cluster: 19, component: Chinese Spring 1_001829_7574_m/z583.4141_RT11.3791",
          "cluster: 19, component: Chinese Spring 1_001829_7780_m/z583.4141_RT11.7758",
          "cluster: 19, component: Chinese Spring 1_001829_7780_m/z583.4141_RT11.7758"
         ],
         "type": "scatter",
         "uid": "a00d6193-975d-474c-9509-c9e585b4018e",
         "x": [
          405,
          405,
          415,
          415
         ],
         "xaxis": "x",
         "y": [
          0,
          0.5280898876404494,
          0.5280898876404494,
          0
         ],
         "yaxis": "y"
        },
        {
         "hoverinfo": "text",
         "marker": {
          "color": "rgb(0,116,217)"
         },
         "mode": "lines",
         "text": [
          "cluster: 20, component: Chinese Spring 1_001829_7954_m/z565.4037_RT12.0210",
          "cluster: 20, component: Chinese Spring 1_001829_7954_m/z565.4037_RT12.0210",
          null,
          null
         ],
         "type": "scatter",
         "uid": "30ad4b8a-cab0-48db-934d-c57e0d9f9c3c",
         "x": [
          395,
          395,
          410,
          410
         ],
         "xaxis": "x",
         "y": [
          0,
          0.6049382716049383,
          0.6049382716049383,
          0.5280898876404494
         ],
         "yaxis": "y"
        },
        {
         "hoverinfo": "text",
         "marker": {
          "color": "rgb(61,153,112)"
         },
         "mode": "lines",
         "text": [
          "cluster: 21, component: Chinese Spring 1_001829_7357_m/z583.4143_RT10.7852",
          "cluster: 21, component: Chinese Spring 1_001829_7357_m/z583.4143_RT10.7852",
          "cluster: 21, component: Chinese Spring 1_001829_8191_m/z583.4143_RT12.2617",
          "cluster: 21, component: Chinese Spring 1_001829_8191_m/z583.4143_RT12.2617"
         ],
         "type": "scatter",
         "uid": "c4765eb3-a19b-45d2-a36e-2d89b64647c6",
         "x": [
          435,
          435,
          445,
          445
         ],
         "xaxis": "x",
         "y": [
          0,
          0.5285714285714286,
          0.5285714285714286,
          0
         ],
         "yaxis": "y"
        },
        {
         "hoverinfo": "text",
         "marker": {
          "color": "rgb(0,116,217)"
         },
         "mode": "lines",
         "text": [
          "cluster: 22, component: Chinese Spring 1_001829_8525_m/z601.4234_RT13.0595",
          "cluster: 22, component: Chinese Spring 1_001829_8525_m/z601.4234_RT13.0595",
          null,
          null
         ],
         "type": "scatter",
         "uid": "00a6cabc-2e0d-4fa6-aa07-8cb3f2b57ab2",
         "x": [
          425,
          425,
          440,
          440
         ],
         "xaxis": "x",
         "y": [
          0,
          0.6966292134831461,
          0.6966292134831461,
          0.5285714285714286
         ],
         "yaxis": "y"
        },
        {
         "hoverinfo": "text",
         "marker": {
          "color": "rgb(0,116,217)"
         },
         "mode": "lines",
         "text": [
          null,
          null,
          null,
          null
         ],
         "type": "scatter",
         "uid": "1cef2e37-8709-4add-8a37-37895572f544",
         "x": [
          402.5,
          402.5,
          432.5,
          432.5
         ],
         "xaxis": "x",
         "y": [
          0.6049382716049383,
          0.734375,
          0.734375,
          0.6966292134831461
         ],
         "yaxis": "y"
        },
        {
         "hoverinfo": "text",
         "marker": {
          "color": "rgb(0,116,217)"
         },
         "mode": "lines",
         "text": [
          "cluster: 23, component: Chinese Spring 1_001829_8729_m/z568.4263_RT13.9732",
          "cluster: 23, component: Chinese Spring 1_001829_8729_m/z568.4263_RT13.9732",
          null,
          null
         ],
         "type": "scatter",
         "uid": "d9aa967a-58ce-4f7f-a958-228c122566a6",
         "x": [
          385,
          385,
          417.5,
          417.5
         ],
         "xaxis": "x",
         "y": [
          0,
          0.7642276422764228,
          0.7642276422764228,
          0.734375
         ],
         "yaxis": "y"
        },
        {
         "hoverinfo": "text",
         "marker": {
          "color": "rgb(0,116,217)"
         },
         "mode": "lines",
         "text": [
          null,
          null,
          null,
          null
         ],
         "type": "scatter",
         "uid": "92dffeba-6d7f-43fa-aaad-d65862ca6362",
         "x": [
          370,
          370,
          401.25,
          401.25
         ],
         "xaxis": "x",
         "y": [
          0.4732510288065844,
          0.8205128205128205,
          0.8205128205128205,
          0.7642276422764228
         ],
         "yaxis": "y"
        },
        {
         "hoverinfo": "text",
         "marker": {
          "color": "rgb(0,116,217)"
         },
         "mode": "lines",
         "text": [
          null,
          null,
          null,
          null
         ],
         "type": "scatter",
         "uid": "0fd75057-3d86-4a23-a5d7-3045039d3bd4",
         "x": [
          324.375,
          324.375,
          385.625,
          385.625
         ],
         "xaxis": "x",
         "y": [
          0.8,
          0.94,
          0.94,
          0.8205128205128205
         ],
         "yaxis": "y"
        },
        {
         "hoverinfo": "text",
         "marker": {
          "color": "rgb(0,116,217)"
         },
         "mode": "lines",
         "text": [
          null,
          null,
          null,
          null
         ],
         "type": "scatter",
         "uid": "b1098fa2-ae2f-40f2-85be-2a816bd94772",
         "x": [
          88.7060546875,
          88.7060546875,
          355,
          355
         ],
         "xaxis": "x",
         "y": [
          0.9130434782608695,
          0.9625,
          0.9625,
          0.94
         ],
         "yaxis": "y"
        },
        {
         "hoverinfo": "text",
         "marker": {
          "color": "rgb(255,65,54)"
         },
         "mode": "lines",
         "text": [
          "cluster: 24, component: Chinese Spring 1_001829_0928_m/z269.1605_RT1.0029",
          "cluster: 24, component: Chinese Spring 1_001829_0928_m/z269.1605_RT1.0029",
          "cluster: 24, component: Chinese Spring 1_001829_0989_m/z268.1037_RT1.0386",
          "cluster: 24, component: Chinese Spring 1_001829_0989_m/z268.1037_RT1.0386"
         ],
         "type": "scatter",
         "uid": "6f060597-f7e1-4715-9bf6-18bfd4d1c4f6",
         "x": [
          455,
          455,
          465,
          465
         ],
         "xaxis": "x",
         "y": [
          0,
          0.42424242424242425,
          0.42424242424242425,
          0
         ],
         "yaxis": "y"
        },
        {
         "hoverinfo": "text",
         "marker": {
          "color": "rgb(35,205,205)"
         },
         "mode": "lines",
         "text": [
          "cluster: 25, component: blk_001809_1552_m/z364.3418_RT11.7523",
          "cluster: 25, component: blk_001809_1552_m/z364.3418_RT11.7523",
          "cluster: 25, component: blk_001809_1616_m/z364.3418_RT11.8147",
          "cluster: 25, component: blk_001809_1616_m/z364.3418_RT11.8147"
         ],
         "type": "scatter",
         "uid": "2cd9fc68-89d3-47c2-9dcc-af5259e2f2b7",
         "x": [
          475,
          475,
          485,
          485
         ],
         "xaxis": "x",
         "y": [
          0,
          0,
          0,
          0
         ],
         "yaxis": "y"
        },
        {
         "hoverinfo": "text",
         "marker": {
          "color": "rgb(133,20,75)"
         },
         "mode": "lines",
         "text": [
          "cluster: 26, component: blk_001809_1516_m/z408.3681_RT11.7389",
          "cluster: 26, component: blk_001809_1516_m/z408.3681_RT11.7389",
          "cluster: 26, component: blk_001809_1750_m/z466.4099_RT12.1446",
          "cluster: 26, component: blk_001809_1750_m/z466.4099_RT12.1446"
         ],
         "type": "scatter",
         "uid": "6da0f7f9-0ef6-4892-b44f-0c574a9ef0aa",
         "x": [
          495,
          495,
          505,
          505
         ],
         "xaxis": "x",
         "y": [
          0,
          0.5882352941176471,
          0.5882352941176471,
          0
         ],
         "yaxis": "y"
        },
        {
         "hoverinfo": "text",
         "marker": {
          "color": "rgb(0,116,217)"
         },
         "mode": "lines",
         "text": [
          null,
          null,
          null,
          null
         ],
         "type": "scatter",
         "uid": "539e6fe1-e48b-42a7-a4e4-1625c2ffbbc1",
         "x": [
          480,
          480,
          500,
          500
         ],
         "xaxis": "x",
         "y": [
          0,
          0.6875,
          0.6875,
          0.5882352941176471
         ],
         "yaxis": "y"
        },
        {
         "hoverinfo": "text",
         "marker": {
          "color": "rgb(255,220,0)"
         },
         "mode": "lines",
         "text": [
          "cluster: 27, component: blk_001809_1999_m/z364.3424_RT12.5502",
          "cluster: 27, component: blk_001809_1999_m/z364.3424_RT12.5502",
          "cluster: 27, component: blk_001809_2060_m/z364.3424_RT12.6438",
          "cluster: 27, component: blk_001809_2060_m/z364.3424_RT12.6438"
         ],
         "type": "scatter",
         "uid": "8ce5cdcb-f8ab-45a6-876d-4255e816e6cd",
         "x": [
          535,
          535,
          545,
          545
         ],
         "xaxis": "x",
         "y": [
          0,
          0.36363636363636365,
          0.36363636363636365,
          0
         ],
         "yaxis": "y"
        },
        {
         "hoverinfo": "text",
         "marker": {
          "color": "rgb(40,35,35)"
         },
         "mode": "lines",
         "text": [
          "cluster: 28, component: blk_001809_1642_m/z424.3632_RT11.9261",
          "cluster: 28, component: blk_001809_1642_m/z424.3632_RT11.9261",
          "cluster: 28, component: blk_001809_1747_m/z421.3521_RT12.1446",
          "cluster: 28, component: blk_001809_1747_m/z421.3521_RT12.1446"
         ],
         "type": "scatter",
         "uid": "452219f0-ab33-450c-b364-9fb15853fbf3",
         "x": [
          555,
          555,
          565,
          565
         ],
         "xaxis": "x",
         "y": [
          0,
          0.3888888888888889,
          0.3888888888888889,
          0
         ],
         "yaxis": "y"
        },
        {
         "hoverinfo": "text",
         "marker": {
          "color": "rgb(0,116,217)"
         },
         "mode": "lines",
         "text": [
          null,
          null,
          null,
          null
         ],
         "type": "scatter",
         "uid": "0fc19b21-1976-4832-8b2a-bf2d1b1b9f2f",
         "x": [
          540,
          540,
          560,
          560
         ],
         "xaxis": "x",
         "y": [
          0.36363636363636365,
          0.6111111111111112,
          0.6111111111111112,
          0.3888888888888889
         ],
         "yaxis": "y"
        },
        {
         "hoverinfo": "text",
         "marker": {
          "color": "rgb(0,116,217)"
         },
         "mode": "lines",
         "text": [
          "cluster: 29, component: blk_001809_1903_m/z482.4048_RT12.3318",
          "cluster: 29, component: blk_001809_1903_m/z482.4048_RT12.3318",
          null,
          null
         ],
         "type": "scatter",
         "uid": "3490b976-ee00-44df-bed6-3a6753456e40",
         "x": [
          525,
          525,
          550,
          550
         ],
         "xaxis": "x",
         "y": [
          0,
          0.7037037037037037,
          0.7037037037037037,
          0.6111111111111112
         ],
         "yaxis": "y"
        },
        {
         "hoverinfo": "text",
         "marker": {
          "color": "rgb(0,116,217)"
         },
         "mode": "lines",
         "text": [
          "cluster: 30, component: blk_001809_1657_m/z408.3681_RT11.9395",
          "cluster: 30, component: blk_001809_1657_m/z408.3681_RT11.9395",
          null,
          null
         ],
         "type": "scatter",
         "uid": "39734a41-f781-482f-a1a9-3e130fb83318",
         "x": [
          515,
          515,
          537.5,
          537.5
         ],
         "xaxis": "x",
         "y": [
          0,
          0.7307692307692307,
          0.7307692307692307,
          0.7037037037037037
         ],
         "yaxis": "y"
        },
        {
         "hoverinfo": "text",
         "marker": {
          "color": "rgb(0,116,217)"
         },
         "mode": "lines",
         "text": [
          null,
          null,
          null,
          null
         ],
         "type": "scatter",
         "uid": "d72a1030-272b-4748-ad58-b4c1a00de453",
         "x": [
          490,
          490,
          526.25,
          526.25
         ],
         "xaxis": "x",
         "y": [
          0.6875,
          0.8387096774193549,
          0.8387096774193549,
          0.7307692307692307
         ],
         "yaxis": "y"
        },
        {
         "hoverinfo": "text",
         "marker": {
          "color": "rgb(0,116,217)"
         },
         "mode": "lines",
         "text": [
          null,
          null,
          null,
          null
         ],
         "type": "scatter",
         "uid": "81dd8696-38e5-444b-aa7d-5a3e003d298a",
         "x": [
          460,
          460,
          508.125,
          508.125
         ],
         "xaxis": "x",
         "y": [
          0.42424242424242425,
          0.9814814814814815,
          0.9814814814814815,
          0.8387096774193549
         ],
         "yaxis": "y"
        },
        {
         "hoverinfo": "text",
         "marker": {
          "color": "rgb(61,153,112)"
         },
         "mode": "lines",
         "text": [
          "cluster: 31, component: Chinese Spring 1_001829_6626_m/z320.2946_RT9.3934",
          "cluster: 31, component: Chinese Spring 1_001829_6626_m/z320.2946_RT9.3934",
          "cluster: 31, component: Chinese Spring 1_001829_6684_m/z320.2946_RT9.6341",
          "cluster: 31, component: Chinese Spring 1_001829_6684_m/z320.2946_RT9.6341"
         ],
         "type": "scatter",
         "uid": "55faf39f-f183-4ceb-ac04-948f6a93f3ae",
         "x": [
          595,
          595,
          605,
          605
         ],
         "xaxis": "x",
         "y": [
          0,
          0.36,
          0.36,
          0
         ],
         "yaxis": "y"
        },
        {
         "hoverinfo": "text",
         "marker": {
          "color": "rgb(0,116,217)"
         },
         "mode": "lines",
         "text": [
          "cluster: 32, component: Chinese Spring 1_001829_7338_m/z338.2607_RT10.7228",
          "cluster: 32, component: Chinese Spring 1_001829_7338_m/z338.2607_RT10.7228",
          null,
          null
         ],
         "type": "scatter",
         "uid": "3da996bf-fa40-4bbd-b848-05d13723ebd1",
         "x": [
          585,
          585,
          600,
          600
         ],
         "xaxis": "x",
         "y": [
          0,
          0.6153846153846154,
          0.6153846153846154,
          0.36
         ],
         "yaxis": "y"
        },
        {
         "hoverinfo": "text",
         "marker": {
          "color": "rgb(0,116,217)"
         },
         "mode": "lines",
         "text": [
          "cluster: 33, component: Chinese Spring 1_001829_7380_m/z483.2713_RT10.8387",
          "cluster: 33, component: Chinese Spring 1_001829_7380_m/z483.2713_RT10.8387",
          null,
          null
         ],
         "type": "scatter",
         "uid": "c696b169-4a8e-4a9f-b172-da281fd4ce58",
         "x": [
          575,
          575,
          592.5,
          592.5
         ],
         "xaxis": "x",
         "y": [
          0,
          0.8636363636363636,
          0.8636363636363636,
          0.6153846153846154
         ],
         "yaxis": "y"
        },
        {
         "hoverinfo": "text",
         "marker": {
          "color": "rgb(0,116,217)"
         },
         "mode": "lines",
         "text": [
          "cluster: 34, component: Chinese Spring 1_001829_4681_m/z129.1273_RT5.8086",
          "cluster: 34, component: Chinese Spring 1_001829_4681_m/z129.1273_RT5.8086",
          "cluster: 35, component: Chinese Spring 1_001829_5571_m/z171.1490_RT6.9999",
          "cluster: 35, component: Chinese Spring 1_001829_5571_m/z171.1490_RT6.9999"
         ],
         "type": "scatter",
         "uid": "71946ac6-1d2c-4e4c-9c78-20d6e03d7b6c",
         "x": [
          615,
          615,
          625,
          625
         ],
         "xaxis": "x",
         "y": [
          0,
          0.8666666666666667,
          0.8666666666666667,
          0
         ],
         "yaxis": "y"
        },
        {
         "hoverinfo": "text",
         "marker": {
          "color": "rgb(0,116,217)"
         },
         "mode": "lines",
         "text": [
          null,
          null,
          null,
          null
         ],
         "type": "scatter",
         "uid": "24081a20-b198-4c8a-85e3-bf3feee59920",
         "x": [
          583.75,
          583.75,
          620,
          620
         ],
         "xaxis": "x",
         "y": [
          0.8636363636363636,
          0.9032258064516129,
          0.9032258064516129,
          0.8666666666666667
         ],
         "yaxis": "y"
        },
        {
         "hoverinfo": "text",
         "marker": {
          "color": "rgb(255,65,54)"
         },
         "mode": "lines",
         "text": [
          "cluster: 36, component: Chinese Spring 3_001858_5649_m/z201.1636_RT7.2384",
          "cluster: 36, component: Chinese Spring 3_001858_5649_m/z201.1636_RT7.2384",
          "cluster: 36, component: Cobra 1_001832_5681_m/z201.1636_RT7.3651",
          "cluster: 36, component: Cobra 1_001832_5681_m/z201.1636_RT7.3651"
         ],
         "type": "scatter",
         "uid": "9bb4222b-1762-43dd-b265-b02866792496",
         "x": [
          635,
          635,
          645,
          645
         ],
         "xaxis": "x",
         "y": [
          0,
          0.48333333333333334,
          0.48333333333333334,
          0
         ],
         "yaxis": "y"
        },
        {
         "hoverinfo": "text",
         "marker": {
          "color": "rgb(35,205,205)"
         },
         "mode": "lines",
         "text": [
          "cluster: 37, component: Chinese Spring 1_001829_3874_m/z209.1534_RT5.1891",
          "cluster: 37, component: Chinese Spring 1_001829_3874_m/z209.1534_RT5.1891",
          "cluster: 37, component: Chinese Spring 1_001829_3976_m/z209.1534_RT5.2738",
          "cluster: 37, component: Chinese Spring 1_001829_3976_m/z209.1534_RT5.2738"
         ],
         "type": "scatter",
         "uid": "8ce20844-a0c9-47ac-9293-7cf08ce3fd41",
         "x": [
          675,
          675,
          685,
          685
         ],
         "xaxis": "x",
         "y": [
          0,
          0.2916666666666667,
          0.2916666666666667,
          0
         ],
         "yaxis": "y"
        },
        {
         "hoverinfo": "text",
         "marker": {
          "color": "rgb(35,205,205)"
         },
         "mode": "lines",
         "text": [
          "cluster: 37, component: Chinese Spring 1_001829_3534_m/z209.1534_RT4.9214",
          "cluster: 37, component: Chinese Spring 1_001829_3534_m/z209.1534_RT4.9214",
          null,
          null
         ],
         "type": "scatter",
         "uid": "7f76f749-b7af-45b1-8cf0-ac3ff7e67dfd",
         "x": [
          665,
          665,
          680,
          680
         ],
         "xaxis": "x",
         "y": [
          0,
          0.3835616438356164,
          0.3835616438356164,
          0.2916666666666667
         ],
         "yaxis": "y"
        },
        {
         "hoverinfo": "text",
         "marker": {
          "color": "rgb(35,205,205)"
         },
         "mode": "lines",
         "text": [
          "cluster: 37, component: Chinese Spring 1_001829_6034_m/z209.1534_RT7.9760",
          "cluster: 37, component: Chinese Spring 1_001829_6034_m/z209.1534_RT7.9760",
          null,
          null
         ],
         "type": "scatter",
         "uid": "1f658a48-ed9d-46b5-91f4-5776db536e38",
         "x": [
          655,
          655,
          672.5,
          672.5
         ],
         "xaxis": "x",
         "y": [
          0,
          0.4473684210526316,
          0.4473684210526316,
          0.3835616438356164
         ],
         "yaxis": "y"
        },
        {
         "hoverinfo": "text",
         "marker": {
          "color": "rgb(133,20,75)"
         },
         "mode": "lines",
         "text": [
          "cluster: 38, component: Chinese Spring 1_001829_6121_m/z281.1745_RT8.1944",
          "cluster: 38, component: Chinese Spring 1_001829_6121_m/z281.1745_RT8.1944",
          "cluster: 38, component: blk_001809_0513_m/z243.1589_RT8.8417",
          "cluster: 38, component: blk_001809_0513_m/z243.1589_RT8.8417"
         ],
         "type": "scatter",
         "uid": "d08b8c11-21c2-4e75-b4a7-1cb421386168",
         "x": [
          695,
          695,
          705,
          705
         ],
         "xaxis": "x",
         "y": [
          0,
          0.359375,
          0.359375,
          0
         ],
         "yaxis": "y"
        },
        {
         "hoverinfo": "text",
         "marker": {
          "color": "rgb(255,220,0)"
         },
         "mode": "lines",
         "text": [
          "cluster: 38, component: Chinese Spring 1_001829_4627_m/z227.1640_RT5.7507",
          "cluster: 38, component: Chinese Spring 1_001829_4627_m/z227.1640_RT5.7507",
          "cluster: 38, component: blk_001809_0743_m/z283.1902_RT9.4033",
          "cluster: 38, component: blk_001809_0743_m/z283.1902_RT9.4033"
         ],
         "type": "scatter",
         "uid": "28e831b6-5df3-4d58-993d-ad8b91f83bb6",
         "x": [
          725,
          725,
          735,
          735
         ],
         "xaxis": "x",
         "y": [
          0,
          0.47191011235955055,
          0.47191011235955055,
          0
         ],
         "yaxis": "y"
        },
        {
         "hoverinfo": "text",
         "marker": {
          "color": "rgb(255,220,0)"
         },
         "mode": "lines",
         "text": [
          "cluster: 38, component: Chinese Spring 1_001829_6701_m/z293.2106_RT9.6921",
          "cluster: 38, component: Chinese Spring 1_001829_6701_m/z293.2106_RT9.6921",
          null,
          null
         ],
         "type": "scatter",
         "uid": "1859b68f-98c7-4d50-9e4b-66ca12d5d19d",
         "x": [
          715,
          715,
          730,
          730
         ],
         "xaxis": "x",
         "y": [
          0,
          0.5454545454545454,
          0.5454545454545454,
          0.47191011235955055
         ],
         "yaxis": "y"
        },
        {
         "hoverinfo": "text",
         "marker": {
          "color": "rgb(0,116,217)"
         },
         "mode": "lines",
         "text": [
          null,
          null,
          null,
          null
         ],
         "type": "scatter",
         "uid": "d8027482-b9bf-4b99-ab68-88cec855b0cb",
         "x": [
          700,
          700,
          722.5,
          722.5
         ],
         "xaxis": "x",
         "y": [
          0.359375,
          0.6,
          0.6,
          0.5454545454545454
         ],
         "yaxis": "y"
        },
        {
         "hoverinfo": "text",
         "marker": {
          "color": "rgb(0,116,217)"
         },
         "mode": "lines",
         "text": [
          null,
          null,
          null,
          null
         ],
         "type": "scatter",
         "uid": "942624a7-ae7b-47c7-baef-5127f5928017",
         "x": [
          663.75,
          663.75,
          711.25,
          711.25
         ],
         "xaxis": "x",
         "y": [
          0.4473684210526316,
          0.6494845360824743,
          0.6494845360824743,
          0.6
         ],
         "yaxis": "y"
        },
        {
         "hoverinfo": "text",
         "marker": {
          "color": "rgb(40,35,35)"
         },
         "mode": "lines",
         "text": [
          "cluster: 39, component: Chinese Spring 1_001829_3487_m/z227.1275_RT4.8769",
          "cluster: 39, component: Chinese Spring 1_001829_3487_m/z227.1275_RT4.8769",
          "cluster: 39, component: Chinese Spring 1_001829_3537_m/z227.1276_RT4.9214",
          "cluster: 39, component: Chinese Spring 1_001829_3537_m/z227.1276_RT4.9214"
         ],
         "type": "scatter",
         "uid": "b6322339-08bc-486a-b707-eebc59d31b15",
         "x": [
          755,
          755,
          765,
          765
         ],
         "xaxis": "x",
         "y": [
          0,
          0.3382352941176471,
          0.3382352941176471,
          0
         ],
         "yaxis": "y"
        },
        {
         "hoverinfo": "text",
         "marker": {
          "color": "rgb(0,116,217)"
         },
         "mode": "lines",
         "text": [
          "cluster: 40, component: Chinese Spring 1_001829_3576_m/z207.1378_RT4.9437",
          "cluster: 40, component: Chinese Spring 1_001829_3576_m/z207.1378_RT4.9437",
          null,
          null
         ],
         "type": "scatter",
         "uid": "460edc1b-bf0c-4acb-8cba-a4700e1b8e8f",
         "x": [
          745,
          745,
          760,
          760
         ],
         "xaxis": "x",
         "y": [
          0,
          0.6710526315789473,
          0.6710526315789473,
          0.3382352941176471
         ],
         "yaxis": "y"
        },
        {
         "hoverinfo": "text",
         "marker": {
          "color": "rgb(0,116,217)"
         },
         "mode": "lines",
         "text": [
          null,
          null,
          null,
          null
         ],
         "type": "scatter",
         "uid": "dd737761-c80b-42c3-8931-b8bdf03eaf19",
         "x": [
          687.5,
          687.5,
          752.5,
          752.5
         ],
         "xaxis": "x",
         "y": [
          0.6494845360824743,
          0.7058823529411765,
          0.7058823529411765,
          0.6710526315789473
         ],
         "yaxis": "y"
        },
        {
         "hoverinfo": "text",
         "marker": {
          "color": "rgb(61,153,112)"
         },
         "mode": "lines",
         "text": [
          "cluster: 41, component: Chinese Spring 1_001829_8442_m/z181.1221_RT12.7876",
          "cluster: 41, component: Chinese Spring 1_001829_8442_m/z181.1221_RT12.7876",
          "cluster: 41, component: Chinese Spring 2_001850_7898_m/z181.1221_RT13.1904",
          "cluster: 41, component: Chinese Spring 2_001850_7898_m/z181.1221_RT13.1904"
         ],
         "type": "scatter",
         "uid": "9cc7ced0-d758-47e7-809f-4d494b6eee6f",
         "x": [
          775,
          775,
          785,
          785
         ],
         "xaxis": "x",
         "y": [
          0,
          0.2857142857142857,
          0.2857142857142857,
          0
         ],
         "yaxis": "y"
        },
        {
         "hoverinfo": "text",
         "marker": {
          "color": "rgb(255,65,54)"
         },
         "mode": "lines",
         "text": [
          "cluster: 42, component: Chinese Spring 1_001829_5697_m/z211.1691_RT7.3342",
          "cluster: 42, component: Chinese Spring 1_001829_5697_m/z211.1691_RT7.3342",
          "cluster: 42, component: Chinese Spring 1_001829_5778_m/z211.1691_RT7.5080",
          "cluster: 42, component: Chinese Spring 1_001829_5778_m/z211.1691_RT7.5080"
         ],
         "type": "scatter",
         "uid": "5928227e-2517-4448-a8d2-541db052b0e0",
         "x": [
          815,
          815,
          825,
          825
         ],
         "xaxis": "x",
         "y": [
          0,
          0.19230769230769232,
          0.19230769230769232,
          0
         ],
         "yaxis": "y"
        },
        {
         "hoverinfo": "text",
         "marker": {
          "color": "rgb(255,65,54)"
         },
         "mode": "lines",
         "text": [
          "cluster: 42, component: Chinese Spring 1_001829_5452_m/z209.0807_RT6.7499",
          "cluster: 42, component: Chinese Spring 1_001829_5452_m/z209.0807_RT6.7499",
          null,
          null
         ],
         "type": "scatter",
         "uid": "a1900af1-b134-4c20-b406-5db4322e58e1",
         "x": [
          805,
          805,
          820,
          820
         ],
         "xaxis": "x",
         "y": [
          0,
          0.21153846153846154,
          0.21153846153846154,
          0.19230769230769232
         ],
         "yaxis": "y"
        },
        {
         "hoverinfo": "text",
         "marker": {
          "color": "rgb(255,65,54)"
         },
         "mode": "lines",
         "text": [
          "cluster: 42, component: Chinese Spring 1_001829_5465_m/z211.1690_RT6.7722",
          "cluster: 42, component: Chinese Spring 1_001829_5465_m/z211.1690_RT6.7722",
          null,
          null
         ],
         "type": "scatter",
         "uid": "385a0baf-c37c-4479-99a0-1983878a91b2",
         "x": [
          795,
          795,
          812.5,
          812.5
         ],
         "xaxis": "x",
         "y": [
          0,
          0.3,
          0.3,
          0.21153846153846154
         ],
         "yaxis": "y"
        },
        {
         "hoverinfo": "text",
         "marker": {
          "color": "rgb(255,65,54)"
         },
         "mode": "lines",
         "text": [
          "cluster: 42, component: Chinese Spring 1_001829_6053_m/z215.1640_RT8.0384",
          "cluster: 42, component: Chinese Spring 1_001829_6053_m/z215.1640_RT8.0384",
          "cluster: 42, component: blk_001809_0654_m/z215.1640_RT9.1582",
          "cluster: 42, component: blk_001809_0654_m/z215.1640_RT9.1582"
         ],
         "type": "scatter",
         "uid": "74b0c167-d26d-4410-baa9-376b4f05e43e",
         "x": [
          835,
          835,
          845,
          845
         ],
         "xaxis": "x",
         "y": [
          0,
          0.48717948717948717,
          0.48717948717948717,
          0
         ],
         "yaxis": "y"
        },
        {
         "hoverinfo": "text",
         "marker": {
          "color": "rgb(255,65,54)"
         },
         "mode": "lines",
         "text": [
          null,
          null,
          null,
          null
         ],
         "type": "scatter",
         "uid": "2f2cff0b-25b0-427c-aa3f-b0246542452f",
         "x": [
          803.75,
          803.75,
          840,
          840
         ],
         "xaxis": "x",
         "y": [
          0.3,
          0.5818181818181818,
          0.5818181818181818,
          0.48717948717948717
         ],
         "yaxis": "y"
        },
        {
         "hoverinfo": "text",
         "marker": {
          "color": "rgb(0,116,217)"
         },
         "mode": "lines",
         "text": [
          null,
          null,
          null,
          null
         ],
         "type": "scatter",
         "uid": "f44c1b2f-e529-4bf3-8c17-5c83f98ec7c9",
         "x": [
          780,
          780,
          821.875,
          821.875
         ],
         "xaxis": "x",
         "y": [
          0.2857142857142857,
          0.7446808510638298,
          0.7446808510638298,
          0.5818181818181818
         ],
         "yaxis": "y"
        },
        {
         "hoverinfo": "text",
         "marker": {
          "color": "rgb(0,116,217)"
         },
         "mode": "lines",
         "text": [
          null,
          null,
          null,
          null
         ],
         "type": "scatter",
         "uid": "fc8ef665-e8cf-4c12-a63a-90085aa9350c",
         "x": [
          720,
          720,
          800.9375,
          800.9375
         ],
         "xaxis": "x",
         "y": [
          0.7058823529411765,
          0.7631578947368421,
          0.7631578947368421,
          0.7446808510638298
         ],
         "yaxis": "y"
        },
        {
         "hoverinfo": "text",
         "marker": {
          "color": "rgb(35,205,205)"
         },
         "mode": "lines",
         "text": [
          "cluster: 43, component: Chinese Spring 2_001850_6060_m/z219.1741_RT8.6023",
          "cluster: 43, component: Chinese Spring 2_001850_6060_m/z219.1741_RT8.6023",
          "cluster: 43, component: Chinese Spring 2_001850_6092_m/z219.1742_RT8.6424",
          "cluster: 43, component: Chinese Spring 2_001850_6092_m/z219.1742_RT8.6424"
         ],
         "type": "scatter",
         "uid": "1b35ae39-d221-4441-bb02-e7893db9c7af",
         "x": [
          865,
          865,
          875,
          875
         ],
         "xaxis": "x",
         "y": [
          0,
          0.25,
          0.25,
          0
         ],
         "yaxis": "y"
        },
        {
         "hoverinfo": "text",
         "marker": {
          "color": "rgb(35,205,205)"
         },
         "mode": "lines",
         "text": [
          "cluster: 43, component: Chinese Spring 1_001829_5806_m/z219.1741_RT7.5303",
          "cluster: 43, component: Chinese Spring 1_001829_5806_m/z219.1741_RT7.5303",
          "cluster: 43, component: Cobra 1_001832_5682_m/z219.1741_RT7.3651",
          "cluster: 43, component: Cobra 1_001832_5682_m/z219.1741_RT7.3651"
         ],
         "type": "scatter",
         "uid": "70d77801-eb1e-43c8-ae1f-1142433c486d",
         "x": [
          895,
          895,
          905,
          905
         ],
         "xaxis": "x",
         "y": [
          0,
          0.3125,
          0.3125,
          0
         ],
         "yaxis": "y"
        },
        {
         "hoverinfo": "text",
         "marker": {
          "color": "rgb(35,205,205)"
         },
         "mode": "lines",
         "text": [
          "cluster: 43, component: Chinese Spring 1_001829_6166_m/z219.1741_RT8.3371",
          "cluster: 43, component: Chinese Spring 1_001829_6166_m/z219.1741_RT8.3371",
          null,
          null
         ],
         "type": "scatter",
         "uid": "5f9c4108-5fed-4db6-8777-dfbf0fb37b36",
         "x": [
          885,
          885,
          900,
          900
         ],
         "xaxis": "x",
         "y": [
          0,
          0.4074074074074074,
          0.4074074074074074,
          0.3125
         ],
         "yaxis": "y"
        },
        {
         "hoverinfo": "text",
         "marker": {
          "color": "rgb(35,205,205)"
         },
         "mode": "lines",
         "text": [
          null,
          null,
          null,
          null
         ],
         "type": "scatter",
         "uid": "ff9403df-fe7a-416f-869c-a3acd38bbf6d",
         "x": [
          870,
          870,
          892.5,
          892.5
         ],
         "xaxis": "x",
         "y": [
          0.25,
          0.4583333333333333,
          0.4583333333333333,
          0.4074074074074074
         ],
         "yaxis": "y"
        },
        {
         "hoverinfo": "text",
         "marker": {
          "color": "rgb(133,20,75)"
         },
         "mode": "lines",
         "text": [
          "cluster: 44, component: Chinese Spring 1_001829_3978_m/z191.1429_RT5.2782",
          "cluster: 44, component: Chinese Spring 1_001829_3978_m/z191.1429_RT5.2782",
          "cluster: 44, component: Chinese Spring 1_001829_5431_m/z191.1429_RT6.7410",
          "cluster: 44, component: Chinese Spring 1_001829_5431_m/z191.1429_RT6.7410"
         ],
         "type": "scatter",
         "uid": "08d33817-7ad5-444c-bdb9-e218e882475e",
         "x": [
          925,
          925,
          935,
          935
         ],
         "xaxis": "x",
         "y": [
          0,
          0.43103448275862066,
          0.43103448275862066,
          0
         ],
         "yaxis": "y"
        },
        {
         "hoverinfo": "text",
         "marker": {
          "color": "rgb(133,20,75)"
         },
         "mode": "lines",
         "text": [
          "cluster: 44, component: Chinese Spring 1_001829_5301_m/z191.1428_RT6.5359",
          "cluster: 44, component: Chinese Spring 1_001829_5301_m/z191.1428_RT6.5359",
          null,
          null
         ],
         "type": "scatter",
         "uid": "6a5bebcf-a0fe-49a9-97f9-16c7f909d4b4",
         "x": [
          915,
          915,
          930,
          930
         ],
         "xaxis": "x",
         "y": [
          0,
          0.5,
          0.5,
          0.43103448275862066
         ],
         "yaxis": "y"
        },
        {
         "hoverinfo": "text",
         "marker": {
          "color": "rgb(0,116,217)"
         },
         "mode": "lines",
         "text": [
          null,
          null,
          null,
          null
         ],
         "type": "scatter",
         "uid": "e1ad3f5c-f3ff-437f-8d4a-a837e4102853",
         "x": [
          881.25,
          881.25,
          922.5,
          922.5
         ],
         "xaxis": "x",
         "y": [
          0.4583333333333333,
          0.68,
          0.68,
          0.5
         ],
         "yaxis": "y"
        },
        {
         "hoverinfo": "text",
         "marker": {
          "color": "rgb(0,116,217)"
         },
         "mode": "lines",
         "text": [
          "cluster: 45, component: Chinese Spring 2_001850_5547_m/z137.0960_RT7.4167",
          "cluster: 45, component: Chinese Spring 2_001850_5547_m/z137.0960_RT7.4167",
          null,
          null
         ],
         "type": "scatter",
         "uid": "88f893bb-8468-4e26-b989-899f1c0f074e",
         "x": [
          855,
          855,
          901.875,
          901.875
         ],
         "xaxis": "x",
         "y": [
          0,
          0.782608695652174,
          0.782608695652174,
          0.68
         ],
         "yaxis": "y"
        },
        {
         "hoverinfo": "text",
         "marker": {
          "color": "rgb(0,116,217)"
         },
         "mode": "lines",
         "text": [
          null,
          null,
          null,
          null
         ],
         "type": "scatter",
         "uid": "2df2d0ff-2ead-4d4d-8102-8024e8410f31",
         "x": [
          760.46875,
          760.46875,
          878.4375,
          878.4375
         ],
         "xaxis": "x",
         "y": [
          0.7631578947368421,
          0.8170731707317073,
          0.8170731707317073,
          0.782608695652174
         ],
         "yaxis": "y"
        },
        {
         "hoverinfo": "text",
         "marker": {
          "color": "rgb(0,116,217)"
         },
         "mode": "lines",
         "text": [
          null,
          null,
          null,
          null
         ],
         "type": "scatter",
         "uid": "ebcc0a49-5897-4619-825c-40e59728fca5",
         "x": [
          640,
          640,
          819.453125,
          819.453125
         ],
         "xaxis": "x",
         "y": [
          0.48333333333333334,
          0.8421052631578947,
          0.8421052631578947,
          0.8170731707317073
         ],
         "yaxis": "y"
        },
        {
         "hoverinfo": "text",
         "marker": {
          "color": "rgb(0,116,217)"
         },
         "mode": "lines",
         "text": [
          "cluster: 46, component: Chinese Spring 1_001829_4949_m/z209.0807_RT6.0494",
          "cluster: 46, component: Chinese Spring 1_001829_4949_m/z209.0807_RT6.0494",
          "cluster: 47, component: Chinese Spring 1_001829_6612_m/z207.1378_RT9.3355",
          "cluster: 47, component: Chinese Spring 1_001829_6612_m/z207.1378_RT9.3355"
         ],
         "type": "scatter",
         "uid": "3ac2a022-1fe1-4568-82da-ab111ff873e9",
         "x": [
          945,
          945,
          955,
          955
         ],
         "xaxis": "x",
         "y": [
          0,
          0.8556701030927835,
          0.8556701030927835,
          0
         ],
         "yaxis": "y"
        },
        {
         "hoverinfo": "text",
         "marker": {
          "color": "rgb(0,116,217)"
         },
         "mode": "lines",
         "text": [
          null,
          null,
          null,
          null
         ],
         "type": "scatter",
         "uid": "d516aa87-d3a2-4326-9c03-22446f690209",
         "x": [
          729.7265625,
          729.7265625,
          950,
          950
         ],
         "xaxis": "x",
         "y": [
          0.8421052631578947,
          0.9135802469135802,
          0.9135802469135802,
          0.8556701030927835
         ],
         "yaxis": "y"
        },
        {
         "hoverinfo": "text",
         "marker": {
          "color": "rgb(0,116,217)"
         },
         "mode": "lines",
         "text": [
          null,
          null,
          null,
          null
         ],
         "type": "scatter",
         "uid": "1ecd3043-7e66-4723-8c69-c55aee63b301",
         "x": [
          601.875,
          601.875,
          839.86328125,
          839.86328125
         ],
         "xaxis": "x",
         "y": [
          0.9032258064516129,
          0.9882352941176471,
          0.9882352941176471,
          0.9135802469135802
         ],
         "yaxis": "y"
        },
        {
         "hoverinfo": "text",
         "marker": {
          "color": "rgb(255,220,0)"
         },
         "mode": "lines",
         "text": [
          "cluster: 48, component: Chinese Spring 1_001829_3815_m/z177.0545_RT5.1175",
          "cluster: 48, component: Chinese Spring 1_001829_3815_m/z177.0545_RT5.1175",
          "cluster: 48, component: Espada 3_001867_2046_m/z177.0545_RT3.9185",
          "cluster: 48, component: Espada 3_001867_2046_m/z177.0545_RT3.9185"
         ],
         "type": "scatter",
         "uid": "aa0679f3-b78e-404d-932b-f741f2268667",
         "x": [
          985,
          985,
          995,
          995
         ],
         "xaxis": "x",
         "y": [
          0,
          0.35,
          0.35,
          0
         ],
         "yaxis": "y"
        },
        {
         "hoverinfo": "text",
         "marker": {
          "color": "rgb(255,220,0)"
         },
         "mode": "lines",
         "text": [
          "cluster: 48, component: Chinese Spring 1_001829_2250_m/z177.0544_RT3.6957",
          "cluster: 48, component: Chinese Spring 1_001829_2250_m/z177.0544_RT3.6957",
          null,
          null
         ],
         "type": "scatter",
         "uid": "7c135e5a-2cac-4c8d-a944-142bbc620bd2",
         "x": [
          975,
          975,
          990,
          990
         ],
         "xaxis": "x",
         "y": [
          0,
          0.391304347826087,
          0.391304347826087,
          0.35
         ],
         "yaxis": "y"
        },
        {
         "hoverinfo": "text",
         "marker": {
          "color": "rgb(40,35,35)"
         },
         "mode": "lines",
         "text": [
          "cluster: 49, component: Chinese Spring 1_001829_3575_m/z199.9878_RT4.9437",
          "cluster: 49, component: Chinese Spring 1_001829_3575_m/z199.9878_RT4.9437",
          "cluster: 49, component: Chinese Spring 3_001858_3785_m/z199.9877_RT5.0667",
          "cluster: 49, component: Chinese Spring 3_001858_3785_m/z199.9877_RT5.0667"
         ],
         "type": "scatter",
         "uid": "cb70e4c1-1c9f-42f1-8693-09548e1a1efa",
         "x": [
          1005,
          1005,
          1015,
          1015
         ],
         "xaxis": "x",
         "y": [
          0,
          0.34146341463414637,
          0.34146341463414637,
          0
         ],
         "yaxis": "y"
        },
        {
         "hoverinfo": "text",
         "marker": {
          "color": "rgb(40,35,35)"
         },
         "mode": "lines",
         "text": [
          "cluster: 49, component: Chinese Spring 1_001829_0008_m/z199.9878_RT0.5260",
          "cluster: 49, component: Chinese Spring 1_001829_0008_m/z199.9878_RT0.5260",
          "cluster: 49, component: Chinese Spring 1_001829_3401_m/z199.9878_RT4.8234",
          "cluster: 49, component: Chinese Spring 1_001829_3401_m/z199.9878_RT4.8234"
         ],
         "type": "scatter",
         "uid": "80810f67-24a2-4ac3-9a1e-5b0924828867",
         "x": [
          1025,
          1025,
          1035,
          1035
         ],
         "xaxis": "x",
         "y": [
          0,
          0.3,
          0.3,
          0
         ],
         "yaxis": "y"
        },
        {
         "hoverinfo": "text",
         "marker": {
          "color": "rgb(40,35,35)"
         },
         "mode": "lines",
         "text": [
          "cluster: 49, component: Chinese Spring 1_001829_4213_m/z199.9877_RT5.4298",
          "cluster: 49, component: Chinese Spring 1_001829_4213_m/z199.9877_RT5.4298",
          "cluster: 49, component: Chinese Spring 2_001850_3871_m/z199.9878_RT5.2900",
          "cluster: 49, component: Chinese Spring 2_001850_3871_m/z199.9878_RT5.2900"
         ],
         "type": "scatter",
         "uid": "b772c263-4524-4272-bc9e-6ced7eaf12d4",
         "x": [
          1045,
          1045,
          1055,
          1055
         ],
         "xaxis": "x",
         "y": [
          0,
          0.18181818181818182,
          0.18181818181818182,
          0
         ],
         "yaxis": "y"
        },
        {
         "hoverinfo": "text",
         "marker": {
          "color": "rgb(40,35,35)"
         },
         "mode": "lines",
         "text": [
          "cluster: 49, component: Chinese Spring 2_001850_4313_m/z199.9878_RT5.5708",
          "cluster: 49, component: Chinese Spring 2_001850_4313_m/z199.9878_RT5.5708",
          "cluster: 49, component: Cobra 2_001852_2321_m/z199.9877_RT4.2435",
          "cluster: 49, component: Cobra 2_001852_2321_m/z199.9877_RT4.2435"
         ],
         "type": "scatter",
         "uid": "6363fc11-3592-4645-a265-3f1c85cdb745",
         "x": [
          1075,
          1075,
          1085,
          1085
         ],
         "xaxis": "x",
         "y": [
          0,
          0.25,
          0.25,
          0
         ],
         "yaxis": "y"
        },
        {
         "hoverinfo": "text",
         "marker": {
          "color": "rgb(40,35,35)"
         },
         "mode": "lines",
         "text": [
          "cluster: 49, component: Cobra 2_001852_4324_m/z199.9878_RT6.0264",
          "cluster: 49, component: Cobra 2_001852_4324_m/z199.9878_RT6.0264",
          null,
          null
         ],
         "type": "scatter",
         "uid": "77e4236e-30d0-4e30-9c90-0671e0414ba7",
         "x": [
          1065,
          1065,
          1080,
          1080
         ],
         "xaxis": "x",
         "y": [
          0,
          0.3125,
          0.3125,
          0.25
         ],
         "yaxis": "y"
        },
        {
         "hoverinfo": "text",
         "marker": {
          "color": "rgb(40,35,35)"
         },
         "mode": "lines",
         "text": [
          null,
          null,
          null,
          null
         ],
         "type": "scatter",
         "uid": "974c1bf2-e2e4-4fa9-b1bb-7b4a6d95e6e4",
         "x": [
          1050,
          1050,
          1072.5,
          1072.5
         ],
         "xaxis": "x",
         "y": [
          0.18181818181818182,
          0.36363636363636365,
          0.36363636363636365,
          0.3125
         ],
         "yaxis": "y"
        },
        {
         "hoverinfo": "text",
         "marker": {
          "color": "rgb(40,35,35)"
         },
         "mode": "lines",
         "text": [
          null,
          null,
          null,
          null
         ],
         "type": "scatter",
         "uid": "c342edd2-6b3a-4c7e-afd6-0516e10a5727",
         "x": [
          1030,
          1030,
          1061.25,
          1061.25
         ],
         "xaxis": "x",
         "y": [
          0.3,
          0.42424242424242425,
          0.42424242424242425,
          0.36363636363636365
         ],
         "yaxis": "y"
        },
        {
         "hoverinfo": "text",
         "marker": {
          "color": "rgb(40,35,35)"
         },
         "mode": "lines",
         "text": [
          null,
          null,
          null,
          null
         ],
         "type": "scatter",
         "uid": "d8e27fa1-e8d1-4409-9201-a9f93c2bfc93",
         "x": [
          1010,
          1010,
          1045.625,
          1045.625
         ],
         "xaxis": "x",
         "y": [
          0.34146341463414637,
          0.47368421052631576,
          0.47368421052631576,
          0.42424242424242425
         ],
         "yaxis": "y"
        },
        {
         "hoverinfo": "text",
         "marker": {
          "color": "rgb(0,116,217)"
         },
         "mode": "lines",
         "text": [
          null,
          null,
          null,
          null
         ],
         "type": "scatter",
         "uid": "be8ed750-3064-458a-9e42-4eb10a4291c3",
         "x": [
          982.5,
          982.5,
          1027.8125,
          1027.8125
         ],
         "xaxis": "x",
         "y": [
          0.391304347826087,
          0.8214285714285714,
          0.8214285714285714,
          0.47368421052631576
         ],
         "yaxis": "y"
        },
        {
         "hoverinfo": "text",
         "marker": {
          "color": "rgb(61,153,112)"
         },
         "mode": "lines",
         "text": [
          "cluster: 50, component: Chinese Spring 1_001829_3296_m/z611.1606_RT4.7565",
          "cluster: 50, component: Chinese Spring 1_001829_3296_m/z611.1606_RT4.7565",
          "cluster: 50, component: Chinese Spring 1_001829_3857_m/z611.1606_RT5.1666",
          "cluster: 50, component: Chinese Spring 1_001829_3857_m/z611.1606_RT5.1666"
         ],
         "type": "scatter",
         "uid": "cf12fab8-8913-4ccf-bf4c-01a4ea798886",
         "x": [
          1105,
          1105,
          1115,
          1115
         ],
         "xaxis": "x",
         "y": [
          0,
          0.4583333333333333,
          0.4583333333333333,
          0
         ],
         "yaxis": "y"
        },
        {
         "hoverinfo": "text",
         "marker": {
          "color": "rgb(255,65,54)"
         },
         "mode": "lines",
         "text": [
          "cluster: 51, component: Chinese Spring 1_001829_3593_m/z339.1073_RT4.9571",
          "cluster: 51, component: Chinese Spring 1_001829_3593_m/z339.1073_RT4.9571",
          "cluster: 51, component: Chinese Spring 1_001829_4973_m/z339.1073_RT6.0940",
          "cluster: 51, component: Chinese Spring 1_001829_4973_m/z339.1073_RT6.0940"
         ],
         "type": "scatter",
         "uid": "11ea82bb-2685-4968-8870-fb65ba036a41",
         "x": [
          1125,
          1125,
          1135,
          1135
         ],
         "xaxis": "x",
         "y": [
          0,
          0.44,
          0.44,
          0
         ],
         "yaxis": "y"
        },
        {
         "hoverinfo": "text",
         "marker": {
          "color": "rgb(35,205,205)"
         },
         "mode": "lines",
         "text": [
          "cluster: 52, component: Chinese Spring 1_001829_5035_m/z231.0497_RT6.1564",
          "cluster: 52, component: Chinese Spring 1_001829_5035_m/z231.0497_RT6.1564",
          "cluster: 52, component: Chinese Spring 1_001829_6283_m/z231.0496_RT8.6045",
          "cluster: 52, component: Chinese Spring 1_001829_6283_m/z231.0496_RT8.6045"
         ],
         "type": "scatter",
         "uid": "3ea0fccb-97ed-44fa-8537-601bdc0a9ec0",
         "x": [
          1185,
          1185,
          1195,
          1195
         ],
         "xaxis": "x",
         "y": [
          0,
          0.391304347826087,
          0.391304347826087,
          0
         ],
         "yaxis": "y"
        },
        {
         "hoverinfo": "text",
         "marker": {
          "color": "rgb(35,205,205)"
         },
         "mode": "lines",
         "text": [
          "cluster: 52, component: Chinese Spring 1_001829_3927_m/z231.0497_RT5.2470",
          "cluster: 52, component: Chinese Spring 1_001829_3927_m/z231.0497_RT5.2470",
          null,
          null
         ],
         "type": "scatter",
         "uid": "18251af6-bbce-4d44-8880-7057eb068952",
         "x": [
          1175,
          1175,
          1190,
          1190
         ],
         "xaxis": "x",
         "y": [
          0,
          0.4090909090909091,
          0.4090909090909091,
          0.391304347826087
         ],
         "yaxis": "y"
        },
        {
         "hoverinfo": "text",
         "marker": {
          "color": "rgb(35,205,205)"
         },
         "mode": "lines",
         "text": [
          "cluster: 52, component: Chinese Spring 1_001829_5413_m/z231.0497_RT6.7231",
          "cluster: 52, component: Chinese Spring 1_001829_5413_m/z231.0497_RT6.7231",
          null,
          null
         ],
         "type": "scatter",
         "uid": "725db2a8-0f86-46e5-8541-503e77f39550",
         "x": [
          1165,
          1165,
          1182.5,
          1182.5
         ],
         "xaxis": "x",
         "y": [
          0,
          0.52,
          0.52,
          0.4090909090909091
         ],
         "yaxis": "y"
        },
        {
         "hoverinfo": "text",
         "marker": {
          "color": "rgb(0,116,217)"
         },
         "mode": "lines",
         "text": [
          "cluster: 53, component: Chinese Spring 1_001829_3932_m/z340.1603_RT5.2470",
          "cluster: 53, component: Chinese Spring 1_001829_3932_m/z340.1603_RT5.2470",
          null,
          null
         ],
         "type": "scatter",
         "uid": "df376a26-5c3d-4171-a5fe-2b80b838d545",
         "x": [
          1155,
          1155,
          1173.75,
          1173.75
         ],
         "xaxis": "x",
         "y": [
          0,
          0.6904761904761905,
          0.6904761904761905,
          0.52
         ],
         "yaxis": "y"
        },
        {
         "hoverinfo": "text",
         "marker": {
          "color": "rgb(133,20,75)"
         },
         "mode": "lines",
         "text": [
          "cluster: 54, component: Chinese Spring 2_001850_1213_m/z314.1446_RT1.3713",
          "cluster: 54, component: Chinese Spring 2_001850_1213_m/z314.1446_RT1.3713",
          "cluster: 54, component: Emu Rock 2_001847_1099_m/z314.1446_RT1.2598",
          "cluster: 54, component: Emu Rock 2_001847_1099_m/z314.1446_RT1.2598"
         ],
         "type": "scatter",
         "uid": "96b7feac-9a32-4f9e-ba3e-007f9a2ab784",
         "x": [
          1205,
          1205,
          1215,
          1215
         ],
         "xaxis": "x",
         "y": [
          0,
          0.4230769230769231,
          0.4230769230769231,
          0
         ],
         "yaxis": "y"
        },
        {
         "hoverinfo": "text",
         "marker": {
          "color": "rgb(0,116,217)"
         },
         "mode": "lines",
         "text": [
          "cluster: 55, component: Chinese Spring 1_001829_2752_m/z342.1759_RT4.2840",
          "cluster: 55, component: Chinese Spring 1_001829_2752_m/z342.1759_RT4.2840",
          "cluster: 56, component: Chinese Spring 3_001858_1605_m/z310.1495_RT2.2587",
          "cluster: 56, component: Chinese Spring 3_001858_1605_m/z310.1495_RT2.2587"
         ],
         "type": "scatter",
         "uid": "e2083e0f-e4b3-488f-be7b-10692eaa97ef",
         "x": [
          1225,
          1225,
          1235,
          1235
         ],
         "xaxis": "x",
         "y": [
          0,
          0.6785714285714286,
          0.6785714285714286,
          0
         ],
         "yaxis": "y"
        },
        {
         "hoverinfo": "text",
         "marker": {
          "color": "rgb(0,116,217)"
         },
         "mode": "lines",
         "text": [
          null,
          null,
          null,
          null
         ],
         "type": "scatter",
         "uid": "42ad2172-9fbe-491f-b0d9-bd85bbb9813c",
         "x": [
          1210,
          1210,
          1230,
          1230
         ],
         "xaxis": "x",
         "y": [
          0.4230769230769231,
          0.75,
          0.75,
          0.6785714285714286
         ],
         "yaxis": "y"
        },
        {
         "hoverinfo": "text",
         "marker": {
          "color": "rgb(0,116,217)"
         },
         "mode": "lines",
         "text": [
          null,
          null,
          null,
          null
         ],
         "type": "scatter",
         "uid": "625ed71e-b94c-47b3-b548-39be559c6f94",
         "x": [
          1164.375,
          1164.375,
          1220,
          1220
         ],
         "xaxis": "x",
         "y": [
          0.6904761904761905,
          0.8,
          0.8,
          0.75
         ],
         "yaxis": "y"
        },
        {
         "hoverinfo": "text",
         "marker": {
          "color": "rgb(0,116,217)"
         },
         "mode": "lines",
         "text": [
          "cluster: 57, component: Chinese Spring 1_001829_6003_m/z498.2543_RT7.9315",
          "cluster: 57, component: Chinese Spring 1_001829_6003_m/z498.2543_RT7.9315",
          null,
          null
         ],
         "type": "scatter",
         "uid": "dc2bf414-99e0-42b9-be3e-4f3ec5521851",
         "x": [
          1145,
          1145,
          1192.1875,
          1192.1875
         ],
         "xaxis": "x",
         "y": [
          0,
          0.8571428571428571,
          0.8571428571428571,
          0.8
         ],
         "yaxis": "y"
        },
        {
         "hoverinfo": "text",
         "marker": {
          "color": "rgb(0,116,217)"
         },
         "mode": "lines",
         "text": [
          null,
          null,
          null,
          null
         ],
         "type": "scatter",
         "uid": "d9be4c50-2d3d-4632-a5a9-102a21cc05c6",
         "x": [
          1130,
          1130,
          1168.59375,
          1168.59375
         ],
         "xaxis": "x",
         "y": [
          0.44,
          0.8775510204081632,
          0.8775510204081632,
          0.8571428571428571
         ],
         "yaxis": "y"
        },
        {
         "hoverinfo": "text",
         "marker": {
          "color": "rgb(0,116,217)"
         },
         "mode": "lines",
         "text": [
          "cluster: 58, component: Chinese Spring 1_001829_1178_m/z241.1544_RT1.1946",
          "cluster: 58, component: Chinese Spring 1_001829_1178_m/z241.1544_RT1.1946",
          "cluster: 59, component: Chinese Spring 1_001829_1844_m/z507.1819_RT2.9692",
          "cluster: 59, component: Chinese Spring 1_001829_1844_m/z507.1819_RT2.9692"
         ],
         "type": "scatter",
         "uid": "d43cbbbf-3a41-4350-8f68-333bf5da3eb7",
         "x": [
          1245,
          1245,
          1255,
          1255
         ],
         "xaxis": "x",
         "y": [
          0,
          0.9152542372881356,
          0.9152542372881356,
          0
         ],
         "yaxis": "y"
        },
        {
         "hoverinfo": "text",
         "marker": {
          "color": "rgb(0,116,217)"
         },
         "mode": "lines",
         "text": [
          null,
          null,
          null,
          null
         ],
         "type": "scatter",
         "uid": "51e931fb-5146-47ea-8260-e03f9b00aa19",
         "x": [
          1149.296875,
          1149.296875,
          1250,
          1250
         ],
         "xaxis": "x",
         "y": [
          0.8775510204081632,
          0.9302325581395349,
          0.9302325581395349,
          0.9152542372881356
         ],
         "yaxis": "y"
        },
        {
         "hoverinfo": "text",
         "marker": {
          "color": "rgb(0,116,217)"
         },
         "mode": "lines",
         "text": [
          null,
          null,
          null,
          null
         ],
         "type": "scatter",
         "uid": "8f5a404b-4841-4180-90af-a6d97744be56",
         "x": [
          1110,
          1110,
          1199.6484375,
          1199.6484375
         ],
         "xaxis": "x",
         "y": [
          0.4583333333333333,
          0.9622641509433962,
          0.9622641509433962,
          0.9302325581395349
         ],
         "yaxis": "y"
        },
        {
         "hoverinfo": "text",
         "marker": {
          "color": "rgb(0,116,217)"
         },
         "mode": "lines",
         "text": [
          "cluster: 60, component: Chinese Spring 1_001829_5512_m/z463.1233_RT6.8301",
          "cluster: 60, component: Chinese Spring 1_001829_5512_m/z463.1233_RT6.8301",
          null,
          null
         ],
         "type": "scatter",
         "uid": "a4bf5a23-4c70-4dab-af58-5a6943253c5b",
         "x": [
          1095,
          1095,
          1154.82421875,
          1154.82421875
         ],
         "xaxis": "x",
         "y": [
          0,
          0.9696969696969697,
          0.9696969696969697,
          0.9622641509433962
         ],
         "yaxis": "y"
        },
        {
         "hoverinfo": "text",
         "marker": {
          "color": "rgb(255,220,0)"
         },
         "mode": "lines",
         "text": [
          "cluster: 61, component: Chinese Spring 1_001829_4912_m/z219.1014_RT5.9958",
          "cluster: 61, component: Chinese Spring 1_001829_4912_m/z219.1014_RT5.9958",
          "cluster: 61, component: Chinese Spring 1_001829_5175_m/z219.1014_RT6.3621",
          "cluster: 61, component: Chinese Spring 1_001829_5175_m/z219.1014_RT6.3621"
         ],
         "type": "scatter",
         "uid": "ec1dd896-f533-484d-8170-2f6d520ce3d0",
         "x": [
          1285,
          1285,
          1295,
          1295
         ],
         "xaxis": "x",
         "y": [
          0,
          0.38181818181818183,
          0.38181818181818183,
          0
         ],
         "yaxis": "y"
        },
        {
         "hoverinfo": "text",
         "marker": {
          "color": "rgb(255,220,0)"
         },
         "mode": "lines",
         "text": [
          "cluster: 61, component: Chinese Spring 1_001829_5685_m/z219.1014_RT7.3074",
          "cluster: 61, component: Chinese Spring 1_001829_5685_m/z219.1014_RT7.3074",
          null,
          null
         ],
         "type": "scatter",
         "uid": "8315c636-cf11-4626-b837-ef11acb5a34d",
         "x": [
          1275,
          1275,
          1290,
          1290
         ],
         "xaxis": "x",
         "y": [
          0,
          0.4647887323943662,
          0.4647887323943662,
          0.38181818181818183
         ],
         "yaxis": "y"
        },
        {
         "hoverinfo": "text",
         "marker": {
          "color": "rgb(0,116,217)"
         },
         "mode": "lines",
         "text": [
          "cluster: 62, component: Correll 1_001837_4911_m/z251.0911_RT6.5612",
          "cluster: 62, component: Correll 1_001837_4911_m/z251.0911_RT6.5612",
          null,
          null
         ],
         "type": "scatter",
         "uid": "2e7c0495-4f14-454c-a7b3-d18f12ea671d",
         "x": [
          1265,
          1265,
          1282.5,
          1282.5
         ],
         "xaxis": "x",
         "y": [
          0,
          0.6527777777777778,
          0.6527777777777778,
          0.4647887323943662
         ],
         "yaxis": "y"
        },
        {
         "hoverinfo": "text",
         "marker": {
          "color": "rgb(40,35,35)"
         },
         "mode": "lines",
         "text": [
          "cluster: 63, component: Chinese Spring 1_001829_2478_m/z291.1449_RT4.0211",
          "cluster: 63, component: Chinese Spring 1_001829_2478_m/z291.1449_RT4.0211",
          "cluster: 63, component: Chinese Spring 1_001829_2534_m/z291.1449_RT4.0567",
          "cluster: 63, component: Chinese Spring 1_001829_2534_m/z291.1449_RT4.0567"
         ],
         "type": "scatter",
         "uid": "77d3e92e-ba00-4e5d-b8a3-dc822f470849",
         "x": [
          1305,
          1305,
          1315,
          1315
         ],
         "xaxis": "x",
         "y": [
          0,
          0.37037037037037035,
          0.37037037037037035,
          0
         ],
         "yaxis": "y"
        },
        {
         "hoverinfo": "text",
         "marker": {
          "color": "rgb(40,35,35)"
         },
         "mode": "lines",
         "text": [
          "cluster: 63, component: Chinese Spring 1_001829_1966_m/z273.1343_RT3.3302",
          "cluster: 63, component: Chinese Spring 1_001829_1966_m/z273.1343_RT3.3302",
          "cluster: 63, component: Chinese Spring 1_001829_2526_m/z273.1343_RT4.0523",
          "cluster: 63, component: Chinese Spring 1_001829_2526_m/z273.1343_RT4.0523"
         ],
         "type": "scatter",
         "uid": "4a92dcbd-5f81-43bd-b886-cde125b390ef",
         "x": [
          1335,
          1335,
          1345,
          1345
         ],
         "xaxis": "x",
         "y": [
          0,
          0.3333333333333333,
          0.3333333333333333,
          0
         ],
         "yaxis": "y"
        },
        {
         "hoverinfo": "text",
         "marker": {
          "color": "rgb(40,35,35)"
         },
         "mode": "lines",
         "text": [
          "cluster: 63, component: Chinese Spring 1_001829_1967_m/z291.1450_RT3.3302",
          "cluster: 63, component: Chinese Spring 1_001829_1967_m/z291.1450_RT3.3302",
          null,
          null
         ],
         "type": "scatter",
         "uid": "dc800217-7017-43c8-a7b0-c8f87c9fce0b",
         "x": [
          1325,
          1325,
          1340,
          1340
         ],
         "xaxis": "x",
         "y": [
          0,
          0.41935483870967744,
          0.41935483870967744,
          0.3333333333333333
         ],
         "yaxis": "y"
        },
        {
         "hoverinfo": "text",
         "marker": {
          "color": "rgb(40,35,35)"
         },
         "mode": "lines",
         "text": [
          null,
          null,
          null,
          null
         ],
         "type": "scatter",
         "uid": "f731df6b-dae2-4d72-a08b-689cc0a899cb",
         "x": [
          1310,
          1310,
          1332.5,
          1332.5
         ],
         "xaxis": "x",
         "y": [
          0.37037037037037035,
          0.5161290322580645,
          0.5161290322580645,
          0.41935483870967744
         ],
         "yaxis": "y"
        },
        {
         "hoverinfo": "text",
         "marker": {
          "color": "rgb(61,153,112)"
         },
         "mode": "lines",
         "text": [
          "cluster: 64, component: Chinese Spring 1_001829_1874_m/z235.1439_RT3.0271",
          "cluster: 64, component: Chinese Spring 1_001829_1874_m/z235.1439_RT3.0271",
          "cluster: 64, component: Chinese Spring 1_001829_2318_m/z235.1439_RT3.7670",
          "cluster: 64, component: Chinese Spring 1_001829_2318_m/z235.1439_RT3.7670"
         ],
         "type": "scatter",
         "uid": "27aaa172-5dba-43fb-a6d4-c9ef31e52162",
         "x": [
          1365,
          1365,
          1375,
          1375
         ],
         "xaxis": "x",
         "y": [
          0,
          0.5263157894736842,
          0.5263157894736842,
          0
         ],
         "yaxis": "y"
        },
        {
         "hoverinfo": "text",
         "marker": {
          "color": "rgb(0,116,217)"
         },
         "mode": "lines",
         "text": [
          "cluster: 65, component: Chinese Spring 1_001829_1994_m/z251.1387_RT3.3658",
          "cluster: 65, component: Chinese Spring 1_001829_1994_m/z251.1387_RT3.3658",
          null,
          null
         ],
         "type": "scatter",
         "uid": "fabc3d61-3e51-4c23-ad58-40c0e35d74f7",
         "x": [
          1355,
          1355,
          1370,
          1370
         ],
         "xaxis": "x",
         "y": [
          0,
          0.8636363636363636,
          0.8636363636363636,
          0.5263157894736842
         ],
         "yaxis": "y"
        },
        {
         "hoverinfo": "text",
         "marker": {
          "color": "rgb(0,116,217)"
         },
         "mode": "lines",
         "text": [
          null,
          null,
          null,
          null
         ],
         "type": "scatter",
         "uid": "eecc38fe-6889-42ed-b198-cc4e015c5470",
         "x": [
          1321.25,
          1321.25,
          1362.5,
          1362.5
         ],
         "xaxis": "x",
         "y": [
          0.5161290322580645,
          0.9166666666666666,
          0.9166666666666666,
          0.8636363636363636
         ],
         "yaxis": "y"
        },
        {
         "hoverinfo": "text",
         "marker": {
          "color": "rgb(0,116,217)"
         },
         "mode": "lines",
         "text": [
          null,
          null,
          null,
          null
         ],
         "type": "scatter",
         "uid": "cddf714d-1774-4203-ac69-7addd33f847d",
         "x": [
          1273.75,
          1273.75,
          1341.875,
          1341.875
         ],
         "xaxis": "x",
         "y": [
          0.6527777777777778,
          0.9891304347826086,
          0.9891304347826086,
          0.9166666666666666
         ],
         "yaxis": "y"
        },
        {
         "hoverinfo": "text",
         "marker": {
          "color": "rgb(0,116,217)"
         },
         "mode": "lines",
         "text": [
          "cluster: 66, component: Chinese Spring 1_001829_2426_m/z194.0447_RT3.9542",
          "cluster: 66, component: Chinese Spring 1_001829_2426_m/z194.0447_RT3.9542",
          "cluster: 67, component: Cobra 3_001856_2051_m/z194.1174_RT3.6295",
          "cluster: 67, component: Cobra 3_001856_2051_m/z194.1174_RT3.6295"
         ],
         "type": "scatter",
         "uid": "d9182aa1-0a72-4064-807f-20c2f056e3a7",
         "x": [
          1385,
          1385,
          1395,
          1395
         ],
         "xaxis": "x",
         "y": [
          0,
          0.6206896551724138,
          0.6206896551724138,
          0
         ],
         "yaxis": "y"
        },
        {
         "hoverinfo": "text",
         "marker": {
          "color": "rgb(255,65,54)"
         },
         "mode": "lines",
         "text": [
          "cluster: 68, component: Chinese Spring 1_001829_3914_m/z194.0447_RT5.2381",
          "cluster: 68, component: Chinese Spring 1_001829_3914_m/z194.0447_RT5.2381",
          "cluster: 68, component: Chinese Spring 1_001829_4309_m/z212.0552_RT5.4788",
          "cluster: 68, component: Chinese Spring 1_001829_4309_m/z212.0552_RT5.4788"
         ],
         "type": "scatter",
         "uid": "77e6b6ba-b0fe-490a-92f0-c90a22ec2d41",
         "x": [
          1415,
          1415,
          1425,
          1425
         ],
         "xaxis": "x",
         "y": [
          0,
          0.35135135135135137,
          0.35135135135135137,
          0
         ],
         "yaxis": "y"
        },
        {
         "hoverinfo": "text",
         "marker": {
          "color": "rgb(255,65,54)"
         },
         "mode": "lines",
         "text": [
          "cluster: 68, component: Chinese Spring 1_001829_3643_m/z194.0447_RT4.9972",
          "cluster: 68, component: Chinese Spring 1_001829_3643_m/z194.0447_RT4.9972",
          null,
          null
         ],
         "type": "scatter",
         "uid": "af892884-9715-4971-87cc-cd36db6754fa",
         "x": [
          1405,
          1405,
          1420,
          1420
         ],
         "xaxis": "x",
         "y": [
          0,
          0.5573770491803278,
          0.5573770491803278,
          0.35135135135135137
         ],
         "yaxis": "y"
        },
        {
         "hoverinfo": "text",
         "marker": {
          "color": "rgb(0,116,217)"
         },
         "mode": "lines",
         "text": [
          "cluster: 69, component: Chinese Spring 1_001829_5341_m/z194.0447_RT6.6117",
          "cluster: 69, component: Chinese Spring 1_001829_5341_m/z194.0447_RT6.6117",
          "cluster: 70, component: Chinese Spring 1_001829_5342_m/z226.0708_RT6.6117",
          "cluster: 70, component: Chinese Spring 1_001829_5342_m/z226.0708_RT6.6117"
         ],
         "type": "scatter",
         "uid": "429c6e41-2035-4709-b6b2-b8671bb55e26",
         "x": [
          1445,
          1445,
          1455,
          1455
         ],
         "xaxis": "x",
         "y": [
          0,
          0.6285714285714286,
          0.6285714285714286,
          0
         ],
         "yaxis": "y"
        },
        {
         "hoverinfo": "text",
         "marker": {
          "color": "rgb(0,116,217)"
         },
         "mode": "lines",
         "text": [
          "cluster: 71, component: Chinese Spring 1_001829_2958_m/z212.0552_RT4.4445",
          "cluster: 71, component: Chinese Spring 1_001829_2958_m/z212.0552_RT4.4445",
          null,
          null
         ],
         "type": "scatter",
         "uid": "21482be5-f389-42e9-aeae-d035ae84c56a",
         "x": [
          1435,
          1435,
          1450,
          1450
         ],
         "xaxis": "x",
         "y": [
          0,
          0.7,
          0.7,
          0.6285714285714286
         ],
         "yaxis": "y"
        },
        {
         "hoverinfo": "text",
         "marker": {
          "color": "rgb(0,116,217)"
         },
         "mode": "lines",
         "text": [
          null,
          null,
          null,
          null
         ],
         "type": "scatter",
         "uid": "75705167-347d-45de-9e7d-6b0535c88610",
         "x": [
          1412.5,
          1412.5,
          1442.5,
          1442.5
         ],
         "xaxis": "x",
         "y": [
          0.5573770491803278,
          0.8360655737704918,
          0.8360655737704918,
          0.7
         ],
         "yaxis": "y"
        },
        {
         "hoverinfo": "text",
         "marker": {
          "color": "rgb(0,116,217)"
         },
         "mode": "lines",
         "text": [
          null,
          null,
          null,
          null
         ],
         "type": "scatter",
         "uid": "d42364c5-34f7-4be6-9ddb-a0208fa615e3",
         "x": [
          1390,
          1390,
          1427.5,
          1427.5
         ],
         "xaxis": "x",
         "y": [
          0.6206896551724138,
          0.8548387096774194,
          0.8548387096774194,
          0.8360655737704918
         ],
         "yaxis": "y"
        },
        {
         "hoverinfo": "text",
         "marker": {
          "color": "rgb(35,205,205)"
         },
         "mode": "lines",
         "text": [
          "cluster: 72, component: Chinese Spring 1_001829_2262_m/z533.1549_RT3.7001",
          "cluster: 72, component: Chinese Spring 1_001829_2262_m/z533.1549_RT3.7001",
          "cluster: 72, component: Chinese Spring 1_001829_2618_m/z533.1546_RT4.1191",
          "cluster: 72, component: Chinese Spring 1_001829_2618_m/z533.1546_RT4.1191"
         ],
         "type": "scatter",
         "uid": "6131a7a4-72a6-4487-9e6f-5abc2892b932",
         "x": [
          1465,
          1465,
          1475,
          1475
         ],
         "xaxis": "x",
         "y": [
          0,
          0.36764705882352944,
          0.36764705882352944,
          0
         ],
         "yaxis": "y"
        },
        {
         "hoverinfo": "text",
         "marker": {
          "color": "rgb(35,205,205)"
         },
         "mode": "lines",
         "text": [
          "cluster: 72, component: Chinese Spring 1_001829_2044_m/z533.1546_RT3.4461",
          "cluster: 72, component: Chinese Spring 1_001829_2044_m/z533.1546_RT3.4461",
          "cluster: 72, component: Chinese Spring 1_001829_3026_m/z533.1549_RT4.5203",
          "cluster: 72, component: Chinese Spring 1_001829_3026_m/z533.1549_RT4.5203"
         ],
         "type": "scatter",
         "uid": "603d4051-ab50-4584-914e-09e434148422",
         "x": [
          1485,
          1485,
          1495,
          1495
         ],
         "xaxis": "x",
         "y": [
          0,
          0.45454545454545453,
          0.45454545454545453,
          0
         ],
         "yaxis": "y"
        },
        {
         "hoverinfo": "text",
         "marker": {
          "color": "rgb(35,205,205)"
         },
         "mode": "lines",
         "text": [
          null,
          null,
          null,
          null
         ],
         "type": "scatter",
         "uid": "cbc487a3-038b-4253-8661-c70f6de8c535",
         "x": [
          1470,
          1470,
          1490,
          1490
         ],
         "xaxis": "x",
         "y": [
          0.36764705882352944,
          0.5,
          0.5,
          0.45454545454545453
         ],
         "yaxis": "y"
        },
        {
         "hoverinfo": "text",
         "marker": {
          "color": "rgb(133,20,75)"
         },
         "mode": "lines",
         "text": [
          "cluster: 73, component: Chinese Spring 1_001829_2030_m/z347.0907_RT3.4015",
          "cluster: 73, component: Chinese Spring 1_001829_2030_m/z347.0907_RT3.4015",
          "cluster: 73, component: Chinese Spring 2_001850_1485_m/z347.0907_RT2.1112",
          "cluster: 73, component: Chinese Spring 2_001850_1485_m/z347.0907_RT2.1112"
         ],
         "type": "scatter",
         "uid": "1d54af75-489a-4f83-b1cf-f7881dcc44d4",
         "x": [
          1505,
          1505,
          1515,
          1515
         ],
         "xaxis": "x",
         "y": [
          0,
          0.5098039215686274,
          0.5098039215686274,
          0
         ],
         "yaxis": "y"
        },
        {
         "hoverinfo": "text",
         "marker": {
          "color": "rgb(0,116,217)"
         },
         "mode": "lines",
         "text": [
          null,
          null,
          null,
          null
         ],
         "type": "scatter",
         "uid": "14dfa53b-4633-4c77-b6ac-5752d5059d95",
         "x": [
          1480,
          1480,
          1510,
          1510
         ],
         "xaxis": "x",
         "y": [
          0.5,
          0.8804347826086957,
          0.8804347826086957,
          0.5098039215686274
         ],
         "yaxis": "y"
        },
        {
         "hoverinfo": "text",
         "marker": {
          "color": "rgb(0,116,217)"
         },
         "mode": "lines",
         "text": [
          null,
          null,
          null,
          null
         ],
         "type": "scatter",
         "uid": "ecc17644-32ab-4678-b023-b01b8b923bd2",
         "x": [
          1408.75,
          1408.75,
          1495,
          1495
         ],
         "xaxis": "x",
         "y": [
          0.8548387096774194,
          0.9857142857142858,
          0.9857142857142858,
          0.8804347826086957
         ],
         "yaxis": "y"
        },
        {
         "hoverinfo": "text",
         "marker": {
          "color": "rgb(0,116,217)"
         },
         "mode": "lines",
         "text": [
          "cluster: 74, component: Chinese Spring 1_001829_1626_m/z194.1174_RT2.2515",
          "cluster: 74, component: Chinese Spring 1_001829_1626_m/z194.1174_RT2.2515",
          "cluster: 75, component: Cobra 2_001852_2090_m/z194.1174_RT4.0473",
          "cluster: 75, component: Cobra 2_001852_2090_m/z194.1174_RT4.0473"
         ],
         "type": "scatter",
         "uid": "10dcee3e-eba8-4331-b835-be4f8ade1374",
         "x": [
          1525,
          1525,
          1535,
          1535
         ],
         "xaxis": "x",
         "y": [
          0,
          0.7142857142857143,
          0.7142857142857143,
          0
         ],
         "yaxis": "y"
        },
        {
         "hoverinfo": "text",
         "marker": {
          "color": "rgb(255,220,0)"
         },
         "mode": "lines",
         "text": [
          "cluster: 76, component: Chinese Spring 1_001829_6439_m/z320.2946_RT8.8987",
          "cluster: 76, component: Chinese Spring 1_001829_6439_m/z320.2946_RT8.8987",
          "cluster: 76, component: Chinese Spring 1_001829_6466_m/z320.2948_RT8.9700",
          "cluster: 76, component: Chinese Spring 1_001829_6466_m/z320.2948_RT8.9700"
         ],
         "type": "scatter",
         "uid": "460b618a-ac1c-4070-8f7d-e71c7ce771b3",
         "x": [
          1585,
          1585,
          1595,
          1595
         ],
         "xaxis": "x",
         "y": [
          0,
          0,
          0,
          0
         ],
         "yaxis": "y"
        },
        {
         "hoverinfo": "text",
         "marker": {
          "color": "rgb(255,220,0)"
         },
         "mode": "lines",
         "text": [
          "cluster: 76, component: Chinese Spring 1_001829_6404_m/z320.2946_RT8.8274",
          "cluster: 76, component: Chinese Spring 1_001829_6404_m/z320.2946_RT8.8274",
          null,
          null
         ],
         "type": "scatter",
         "uid": "2ee63aef-ce18-447e-bb6e-389fcdc16cdf",
         "x": [
          1575,
          1575,
          1590,
          1590
         ],
         "xaxis": "x",
         "y": [
          0,
          0.4444444444444444,
          0.4444444444444444,
          0
         ],
         "yaxis": "y"
        },
        {
         "hoverinfo": "text",
         "marker": {
          "color": "rgb(255,220,0)"
         },
         "mode": "lines",
         "text": [
          "cluster: 76, component: Chinese Spring 1_001829_6510_m/z320.2948_RT9.0458",
          "cluster: 76, component: Chinese Spring 1_001829_6510_m/z320.2948_RT9.0458",
          null,
          null
         ],
         "type": "scatter",
         "uid": "cbe8cf19-37bb-4853-9f6f-fd134339f8e4",
         "x": [
          1565,
          1565,
          1582.5,
          1582.5
         ],
         "xaxis": "x",
         "y": [
          0,
          0.5833333333333334,
          0.5833333333333334,
          0.4444444444444444
         ],
         "yaxis": "y"
        },
        {
         "hoverinfo": "text",
         "marker": {
          "color": "rgb(0,116,217)"
         },
         "mode": "lines",
         "text": [
          "cluster: 77, component: Chinese Spring 1_001829_7255_m/z320.2946_RT10.6470",
          "cluster: 77, component: Chinese Spring 1_001829_7255_m/z320.2946_RT10.6470",
          null,
          null
         ],
         "type": "scatter",
         "uid": "6251754b-9212-466e-ace1-ef2be7755e9c",
         "x": [
          1555,
          1555,
          1573.75,
          1573.75
         ],
         "xaxis": "x",
         "y": [
          0,
          0.7857142857142857,
          0.7857142857142857,
          0.5833333333333334
         ],
         "yaxis": "y"
        },
        {
         "hoverinfo": "text",
         "marker": {
          "color": "rgb(0,116,217)"
         },
         "mode": "lines",
         "text": [
          "cluster: 78, component: Chinese Spring 1_001829_6552_m/z320.2946_RT9.1394",
          "cluster: 78, component: Chinese Spring 1_001829_6552_m/z320.2946_RT9.1394",
          null,
          null
         ],
         "type": "scatter",
         "uid": "8c25460b-576d-4263-af7d-a13e8192a864",
         "x": [
          1545,
          1545,
          1564.375,
          1564.375
         ],
         "xaxis": "x",
         "y": [
          0,
          0.9393939393939394,
          0.9393939393939394,
          0.7857142857142857
         ],
         "yaxis": "y"
        },
        {
         "hoverinfo": "text",
         "marker": {
          "color": "rgb(0,116,217)"
         },
         "mode": "lines",
         "text": [
          null,
          null,
          null,
          null
         ],
         "type": "scatter",
         "uid": "495c36b5-6c6e-4d24-b2e5-00c4986ae38a",
         "x": [
          1530,
          1530,
          1554.6875,
          1554.6875
         ],
         "xaxis": "x",
         "y": [
          0.7142857142857143,
          0.9523809523809523,
          0.9523809523809523,
          0.9393939393939394
         ],
         "yaxis": "y"
        },
        {
         "hoverinfo": "text",
         "marker": {
          "color": "rgb(0,116,217)"
         },
         "mode": "lines",
         "text": [
          "cluster: 79, component: Chinese Spring 1_001829_0724_m/z241.1544_RT0.7890",
          "cluster: 79, component: Chinese Spring 1_001829_0724_m/z241.1544_RT0.7890",
          "cluster: 80, component: Chinese Spring 1_001829_0785_m/z241.1544_RT0.8781",
          "cluster: 80, component: Chinese Spring 1_001829_0785_m/z241.1544_RT0.8781"
         ],
         "type": "scatter",
         "uid": "cc84c9f9-3137-4319-892d-629482cf1e94",
         "x": [
          1605,
          1605,
          1615,
          1615
         ],
         "xaxis": "x",
         "y": [
          0,
          0.6363636363636364,
          0.6363636363636364,
          0
         ],
         "yaxis": "y"
        },
        {
         "hoverinfo": "text",
         "marker": {
          "color": "rgb(40,35,35)"
         },
         "mode": "lines",
         "text": [
          "cluster: 81, component: Chinese Spring 1_001829_6093_m/z332.2583_RT8.1097",
          "cluster: 81, component: Chinese Spring 1_001829_6093_m/z332.2583_RT8.1097",
          "cluster: 81, component: Chinese Spring 1_001829_6127_m/z332.2584_RT8.1989",
          "cluster: 81, component: Chinese Spring 1_001829_6127_m/z332.2584_RT8.1989"
         ],
         "type": "scatter",
         "uid": "b48249d3-f8f9-43aa-82eb-830dae59d301",
         "x": [
          1645,
          1645,
          1655,
          1655
         ],
         "xaxis": "x",
         "y": [
          0,
          0,
          0,
          0
         ],
         "yaxis": "y"
        },
        {
         "hoverinfo": "text",
         "marker": {
          "color": "rgb(0,116,217)"
         },
         "mode": "lines",
         "text": [
          "cluster: 82, component: Chinese Spring 1_001829_6229_m/z332.2583_RT8.4886",
          "cluster: 82, component: Chinese Spring 1_001829_6229_m/z332.2583_RT8.4886",
          null,
          null
         ],
         "type": "scatter",
         "uid": "1b3c55ad-acc5-4806-9328-86ba543750ec",
         "x": [
          1635,
          1635,
          1650,
          1650
         ],
         "xaxis": "x",
         "y": [
          0,
          0.6829268292682927,
          0.6829268292682927,
          0
         ],
         "yaxis": "y"
        },
        {
         "hoverinfo": "text",
         "marker": {
          "color": "rgb(0,116,217)"
         },
         "mode": "lines",
         "text": [
          "cluster: 83, component: Chinese Spring 1_001829_5942_m/z332.2584_RT7.8067",
          "cluster: 83, component: Chinese Spring 1_001829_5942_m/z332.2584_RT7.8067",
          null,
          null
         ],
         "type": "scatter",
         "uid": "8c76b8f2-5ddc-4d0d-a3a6-e7be5c44dabe",
         "x": [
          1625,
          1625,
          1642.5,
          1642.5
         ],
         "xaxis": "x",
         "y": [
          0,
          0.8,
          0.8,
          0.6829268292682927
         ],
         "yaxis": "y"
        },
        {
         "hoverinfo": "text",
         "marker": {
          "color": "rgb(0,116,217)"
         },
         "mode": "lines",
         "text": [
          null,
          null,
          null,
          null
         ],
         "type": "scatter",
         "uid": "3776661d-2a6c-4236-b0d7-07fc85aa10cb",
         "x": [
          1610,
          1610,
          1633.75,
          1633.75
         ],
         "xaxis": "x",
         "y": [
          0.6363636363636364,
          0.9666666666666667,
          0.9666666666666667,
          0.8
         ],
         "yaxis": "y"
        },
        {
         "hoverinfo": "text",
         "marker": {
          "color": "rgb(0,116,217)"
         },
         "mode": "lines",
         "text": [
          null,
          null,
          null,
          null
         ],
         "type": "scatter",
         "uid": "4a57c000-3eef-4aca-a341-2076ad5c7302",
         "x": [
          1542.34375,
          1542.34375,
          1621.875,
          1621.875
         ],
         "xaxis": "x",
         "y": [
          0.9523809523809523,
          0.9772727272727273,
          0.9772727272727273,
          0.9666666666666667
         ],
         "yaxis": "y"
        },
        {
         "hoverinfo": "text",
         "marker": {
          "color": "rgb(61,153,112)"
         },
         "mode": "lines",
         "text": [
          "cluster: 84, component: Chinese Spring 1_001829_1633_m/z246.1446_RT2.2783",
          "cluster: 84, component: Chinese Spring 1_001829_1633_m/z246.1446_RT2.2783",
          "cluster: 84, component: Chinese Spring 1_001829_1708_m/z247.1286_RT2.6482",
          "cluster: 84, component: Chinese Spring 1_001829_1708_m/z247.1286_RT2.6482"
         ],
         "type": "scatter",
         "uid": "aa3872a8-33f0-4056-b790-ad1e67dd6609",
         "x": [
          1685,
          1685,
          1695,
          1695
         ],
         "xaxis": "x",
         "y": [
          0,
          0.5,
          0.5,
          0
         ],
         "yaxis": "y"
        },
        {
         "hoverinfo": "text",
         "marker": {
          "color": "rgb(255,65,54)"
         },
         "mode": "lines",
         "text": [
          "cluster: 85, component: Chinese Spring 1_001829_1642_m/z260.1602_RT2.3719",
          "cluster: 85, component: Chinese Spring 1_001829_1642_m/z260.1602_RT2.3719",
          "cluster: 85, component: Chinese Spring 2_001850_1603_m/z260.1603_RT2.4945",
          "cluster: 85, component: Chinese Spring 2_001850_1603_m/z260.1603_RT2.4945"
         ],
         "type": "scatter",
         "uid": "178a1214-7a6c-436c-971b-dac6d07dfb28",
         "x": [
          1705,
          1705,
          1715,
          1715
         ],
         "xaxis": "x",
         "y": [
          0,
          0.2857142857142857,
          0.2857142857142857,
          0
         ],
         "yaxis": "y"
        },
        {
         "hoverinfo": "text",
         "marker": {
          "color": "rgb(35,205,205)"
         },
         "mode": "lines",
         "text": [
          "cluster: 86, component: Chinese Spring 1_001829_1564_m/z233.1494_RT2.1044",
          "cluster: 86, component: Chinese Spring 1_001829_1564_m/z233.1494_RT2.1044",
          "cluster: 86, component: Chinese Spring 5_001887_1443_m/z233.1494_RT2.2226",
          "cluster: 86, component: Chinese Spring 5_001887_1443_m/z233.1494_RT2.2226"
         ],
         "type": "scatter",
         "uid": "d5cc1058-6312-4356-b7f9-21264ab179a7",
         "x": [
          1735,
          1735,
          1745,
          1745
         ],
         "xaxis": "x",
         "y": [
          0,
          0.2631578947368421,
          0.2631578947368421,
          0
         ],
         "yaxis": "y"
        },
        {
         "hoverinfo": "text",
         "marker": {
          "color": "rgb(35,205,205)"
         },
         "mode": "lines",
         "text": [
          "cluster: 86, component: Chinese Spring 1_001829_1656_m/z233.1494_RT2.5234",
          "cluster: 86, component: Chinese Spring 1_001829_1656_m/z233.1494_RT2.5234",
          null,
          null
         ],
         "type": "scatter",
         "uid": "79d75120-18f5-4f9a-855d-92fab123c7c0",
         "x": [
          1725,
          1725,
          1740,
          1740
         ],
         "xaxis": "x",
         "y": [
          0,
          0.5416666666666666,
          0.5416666666666666,
          0.2631578947368421
         ],
         "yaxis": "y"
        },
        {
         "hoverinfo": "text",
         "marker": {
          "color": "rgb(0,116,217)"
         },
         "mode": "lines",
         "text": [
          null,
          null,
          null,
          null
         ],
         "type": "scatter",
         "uid": "07c620bc-6b17-4ab4-97ce-9cb644c2214c",
         "x": [
          1710,
          1710,
          1732.5,
          1732.5
         ],
         "xaxis": "x",
         "y": [
          0.2857142857142857,
          0.8648648648648649,
          0.8648648648648649,
          0.5416666666666666
         ],
         "yaxis": "y"
        },
        {
         "hoverinfo": "text",
         "marker": {
          "color": "rgb(0,116,217)"
         },
         "mode": "lines",
         "text": [
          null,
          null,
          null,
          null
         ],
         "type": "scatter",
         "uid": "c93be216-cb6a-4359-a9ae-01bfa0ad8108",
         "x": [
          1690,
          1690,
          1721.25,
          1721.25
         ],
         "xaxis": "x",
         "y": [
          0.5,
          0.9574468085106383,
          0.9574468085106383,
          0.8648648648648649
         ],
         "yaxis": "y"
        },
        {
         "hoverinfo": "text",
         "marker": {
          "color": "rgb(0,116,217)"
         },
         "mode": "lines",
         "text": [
          "cluster: 87, component: Chinese Spring 1_001829_3318_m/z132.0444_RT4.7743",
          "cluster: 87, component: Chinese Spring 1_001829_3318_m/z132.0444_RT4.7743",
          null,
          null
         ],
         "type": "scatter",
         "uid": "a4fc0b26-2925-4792-935d-ee9f4c27dd00",
         "x": [
          1675,
          1675,
          1705.625,
          1705.625
         ],
         "xaxis": "x",
         "y": [
          0,
          0.98,
          0.98,
          0.9574468085106383
         ],
         "yaxis": "y"
        },
        {
         "hoverinfo": "text",
         "marker": {
          "color": "rgb(0,116,217)"
         },
         "mode": "lines",
         "text": [
          "cluster: 88, component: Chinese Spring 1_001829_0877_m/z260.1603_RT0.9851",
          "cluster: 88, component: Chinese Spring 1_001829_0877_m/z260.1603_RT0.9851",
          null,
          null
         ],
         "type": "scatter",
         "uid": "7103f72f-cbae-4bdd-b950-b85bd91e1e1a",
         "x": [
          1665,
          1665,
          1690.3125,
          1690.3125
         ],
         "xaxis": "x",
         "y": [
          0,
          0.9846153846153847,
          0.9846153846153847,
          0.98
         ],
         "yaxis": "y"
        },
        {
         "hoverinfo": "text",
         "marker": {
          "color": "rgb(0,116,217)"
         },
         "mode": "lines",
         "text": [
          "cluster: 89, component: Chinese Spring 1_001829_1393_m/z221.1284_RT1.6494",
          "cluster: 89, component: Chinese Spring 1_001829_1393_m/z221.1284_RT1.6494",
          "cluster: 90, component: Chinese Spring 2_001850_1669_m/z237.1232_RT2.8467",
          "cluster: 90, component: Chinese Spring 2_001850_1669_m/z237.1232_RT2.8467"
         ],
         "type": "scatter",
         "uid": "a1323a7b-5331-494c-8480-be7f234a887d",
         "x": [
          1755,
          1755,
          1765,
          1765
         ],
         "xaxis": "x",
         "y": [
          0,
          0.7142857142857143,
          0.7142857142857143,
          0
         ],
         "yaxis": "y"
        },
        {
         "hoverinfo": "text",
         "marker": {
          "color": "rgb(0,116,217)"
         },
         "mode": "lines",
         "text": [
          "cluster: 91, component: Chinese Spring 1_001829_0821_m/z237.1231_RT0.9093",
          "cluster: 91, component: Chinese Spring 1_001829_0821_m/z237.1231_RT0.9093",
          "cluster: 92, component: Chinese Spring 1_001829_2218_m/z237.1231_RT3.6645",
          "cluster: 92, component: Chinese Spring 1_001829_2218_m/z237.1231_RT3.6645"
         ],
         "type": "scatter",
         "uid": "e0d054db-52b1-460f-b96e-16b1715760e0",
         "x": [
          1775,
          1775,
          1785,
          1785
         ],
         "xaxis": "x",
         "y": [
          0,
          0.9444444444444444,
          0.9444444444444444,
          0
         ],
         "yaxis": "y"
        },
        {
         "hoverinfo": "text",
         "marker": {
          "color": "rgb(0,116,217)"
         },
         "mode": "lines",
         "text": [
          null,
          null,
          null,
          null
         ],
         "type": "scatter",
         "uid": "ea2214c4-5e39-41b0-9029-4a8c1c1aa022",
         "x": [
          1760,
          1760,
          1780,
          1780
         ],
         "xaxis": "x",
         "y": [
          0.7142857142857143,
          0.9761904761904762,
          0.9761904761904762,
          0.9444444444444444
         ],
         "yaxis": "y"
        },
        {
         "hoverinfo": "text",
         "marker": {
          "color": "rgb(133,20,75)"
         },
         "mode": "lines",
         "text": [
          "cluster: 93, component: Chinese Spring 1_001829_3925_m/z222.0703_RT5.2470",
          "cluster: 93, component: Chinese Spring 1_001829_3925_m/z222.0703_RT5.2470",
          "cluster: 93, component: Chinese Spring 1_001829_6287_m/z250.1014_RT8.6045",
          "cluster: 93, component: Chinese Spring 1_001829_6287_m/z250.1014_RT8.6045"
         ],
         "type": "scatter",
         "uid": "ba855a7e-9d38-448f-8b1b-d894b950fb83",
         "x": [
          1825,
          1825,
          1835,
          1835
         ],
         "xaxis": "x",
         "y": [
          0,
          0.5081967213114754,
          0.5081967213114754,
          0
         ],
         "yaxis": "y"
        },
        {
         "hoverinfo": "text",
         "marker": {
          "color": "rgb(0,116,217)"
         },
         "mode": "lines",
         "text": [
          "cluster: 94, component: Chinese Spring 1_001829_5742_m/z268.5936_RT7.4233",
          "cluster: 94, component: Chinese Spring 1_001829_5742_m/z268.5936_RT7.4233",
          null,
          null
         ],
         "type": "scatter",
         "uid": "b3c04fc9-db84-499f-b1e0-337896dc6f06",
         "x": [
          1815,
          1815,
          1830,
          1830
         ],
         "xaxis": "x",
         "y": [
          0,
          0.6923076923076923,
          0.6923076923076923,
          0.5081967213114754
         ],
         "yaxis": "y"
        },
        {
         "hoverinfo": "text",
         "marker": {
          "color": "rgb(255,220,0)"
         },
         "mode": "lines",
         "text": [
          "cluster: 95, component: Chinese Spring 1_001829_2484_m/z247.0598_RT4.0255",
          "cluster: 95, component: Chinese Spring 1_001829_2484_m/z247.0598_RT4.0255",
          "cluster: 95, component: Chinese Spring 1_001829_2604_m/z247.0598_RT4.1147",
          "cluster: 95, component: Chinese Spring 1_001829_2604_m/z247.0598_RT4.1147"
         ],
         "type": "scatter",
         "uid": "6abbe30c-05a8-42fd-a62b-94258ada1585",
         "x": [
          1845,
          1845,
          1855,
          1855
         ],
         "xaxis": "x",
         "y": [
          0,
          0.35294117647058826,
          0.35294117647058826,
          0
         ],
         "yaxis": "y"
        },
        {
         "hoverinfo": "text",
         "marker": {
          "color": "rgb(0,116,217)"
         },
         "mode": "lines",
         "text": [
          "cluster: 96, component: Chinese Spring 1_001829_1873_m/z212.0390_RT3.0271",
          "cluster: 96, component: Chinese Spring 1_001829_1873_m/z212.0390_RT3.0271",
          "cluster: 97, component: Chinese Spring 1_001829_5506_m/z214.5649_RT6.8301",
          "cluster: 97, component: Chinese Spring 1_001829_5506_m/z214.5649_RT6.8301"
         ],
         "type": "scatter",
         "uid": "3d4e7e3c-2945-416d-8395-83293225cfb2",
         "x": [
          1875,
          1875,
          1885,
          1885
         ],
         "xaxis": "x",
         "y": [
          0,
          0.7777777777777778,
          0.7777777777777778,
          0
         ],
         "yaxis": "y"
        },
        {
         "hoverinfo": "text",
         "marker": {
          "color": "rgb(0,116,217)"
         },
         "mode": "lines",
         "text": [
          "cluster: 98, component: Chinese Spring 1_001829_3431_m/z219.0467_RT4.8501",
          "cluster: 98, component: Chinese Spring 1_001829_3431_m/z219.0467_RT4.8501",
          null,
          null
         ],
         "type": "scatter",
         "uid": "8abc88c2-4697-40cb-830d-e9ebe0f5e42e",
         "x": [
          1865,
          1865,
          1880,
          1880
         ],
         "xaxis": "x",
         "y": [
          0,
          0.8125,
          0.8125,
          0.7777777777777778
         ],
         "yaxis": "y"
        },
        {
         "hoverinfo": "text",
         "marker": {
          "color": "rgb(0,116,217)"
         },
         "mode": "lines",
         "text": [
          null,
          null,
          null,
          null
         ],
         "type": "scatter",
         "uid": "8445e4cb-cac1-4849-a969-2fcbaedb07ff",
         "x": [
          1850,
          1850,
          1872.5,
          1872.5
         ],
         "xaxis": "x",
         "y": [
          0.35294117647058826,
          0.8571428571428571,
          0.8571428571428571,
          0.8125
         ],
         "yaxis": "y"
        },
        {
         "hoverinfo": "text",
         "marker": {
          "color": "rgb(0,116,217)"
         },
         "mode": "lines",
         "text": [
          null,
          null,
          null,
          null
         ],
         "type": "scatter",
         "uid": "d724f7e0-e19f-4618-8b09-6deb9d6d68b8",
         "x": [
          1822.5,
          1822.5,
          1861.25,
          1861.25
         ],
         "xaxis": "x",
         "y": [
          0.6923076923076923,
          0.9178082191780822,
          0.9178082191780822,
          0.8571428571428571
         ],
         "yaxis": "y"
        },
        {
         "hoverinfo": "text",
         "marker": {
          "color": "rgb(0,116,217)"
         },
         "mode": "lines",
         "text": [
          "cluster: 99, component: Chinese Spring 1_001829_0924_m/z214.5102_RT1.0029",
          "cluster: 99, component: Chinese Spring 1_001829_0924_m/z214.5102_RT1.0029",
          null,
          null
         ],
         "type": "scatter",
         "uid": "025c1403-c930-420c-9fe0-35d91b480724",
         "x": [
          1805,
          1805,
          1841.875,
          1841.875
         ],
         "xaxis": "x",
         "y": [
          0,
          0.9534883720930233,
          0.9534883720930233,
          0.9178082191780822
         ],
         "yaxis": "y"
        },
        {
         "hoverinfo": "text",
         "marker": {
          "color": "rgb(0,116,217)"
         },
         "mode": "lines",
         "text": [
          "cluster: 100, component: Chinese Spring 1_001829_4649_m/z625.1763_RT5.7730",
          "cluster: 100, component: Chinese Spring 1_001829_4649_m/z625.1763_RT5.7730",
          "cluster: 101, component: Chinese Spring 1_001829_4877_m/z463.1232_RT5.9646",
          "cluster: 101, component: Chinese Spring 1_001829_4877_m/z463.1232_RT5.9646"
         ],
         "type": "scatter",
         "uid": "c0534c05-7b1f-4cc1-9939-8156e707847d",
         "x": [
          1905,
          1905,
          1915,
          1915
         ],
         "xaxis": "x",
         "y": [
          0,
          0.6774193548387096,
          0.6774193548387096,
          0
         ],
         "yaxis": "y"
        },
        {
         "hoverinfo": "text",
         "marker": {
          "color": "rgb(0,116,217)"
         },
         "mode": "lines",
         "text": [
          "cluster: 102, component: Chinese Spring 1_001829_3870_m/z595.1657_RT5.1846",
          "cluster: 102, component: Chinese Spring 1_001829_3870_m/z595.1657_RT5.1846",
          null,
          null
         ],
         "type": "scatter",
         "uid": "1c846e86-eed4-4f7b-9329-a7193867cc29",
         "x": [
          1895,
          1895,
          1910,
          1910
         ],
         "xaxis": "x",
         "y": [
          0,
          0.8947368421052632,
          0.8947368421052632,
          0.6774193548387096
         ],
         "yaxis": "y"
        },
        {
         "hoverinfo": "text",
         "marker": {
          "color": "rgb(40,35,35)"
         },
         "mode": "lines",
         "text": [
          "cluster: 103, component: Chinese Spring 1_001829_0770_m/z182.0811_RT0.8558",
          "cluster: 103, component: Chinese Spring 1_001829_0770_m/z182.0811_RT0.8558",
          "cluster: 103, component: Chinese Spring 1_001829_0839_m/z182.0811_RT0.9405",
          "cluster: 103, component: Chinese Spring 1_001829_0839_m/z182.0811_RT0.9405"
         ],
         "type": "scatter",
         "uid": "79307f99-fe0b-4235-b9fd-98d79a90cbd0",
         "x": [
          1925,
          1925,
          1935,
          1935
         ],
         "xaxis": "x",
         "y": [
          0,
          0.4375,
          0.4375,
          0
         ],
         "yaxis": "y"
        },
        {
         "hoverinfo": "text",
         "marker": {
          "color": "rgb(61,153,112)"
         },
         "mode": "lines",
         "text": [
          "cluster: 104, component: Chinese Spring 1_001829_3666_m/z212.0552_RT5.0017",
          "cluster: 104, component: Chinese Spring 1_001829_3666_m/z212.0552_RT5.0017",
          "cluster: 104, component: Chinese Spring 1_001829_4302_m/z194.0447_RT5.4788",
          "cluster: 104, component: Chinese Spring 1_001829_4302_m/z194.0447_RT5.4788"
         ],
         "type": "scatter",
         "uid": "302f08e1-a967-4fac-9b14-744c1ef97d1f",
         "x": [
          1945,
          1945,
          1955,
          1955
         ],
         "xaxis": "x",
         "y": [
          0,
          0.5370370370370371,
          0.5370370370370371,
          0
         ],
         "yaxis": "y"
        },
        {
         "hoverinfo": "text",
         "marker": {
          "color": "rgb(0,116,217)"
         },
         "mode": "lines",
         "text": [
          null,
          null,
          null,
          null
         ],
         "type": "scatter",
         "uid": "945d3547-5b5e-4d7a-a168-3a5f3b6cc82f",
         "x": [
          1930,
          1930,
          1950,
          1950
         ],
         "xaxis": "x",
         "y": [
          0.4375,
          0.921875,
          0.921875,
          0.5370370370370371
         ],
         "yaxis": "y"
        },
        {
         "hoverinfo": "text",
         "marker": {
          "color": "rgb(0,116,217)"
         },
         "mode": "lines",
         "text": [
          "cluster: 105, component: Chinese Spring 1_001829_2440_m/z333.1520_RT3.9631",
          "cluster: 105, component: Chinese Spring 1_001829_2440_m/z333.1520_RT3.9631",
          "cluster: 106, component: Chinese Spring 1_001829_2563_m/z333.1519_RT4.0835",
          "cluster: 106, component: Chinese Spring 1_001829_2563_m/z333.1519_RT4.0835"
         ],
         "type": "scatter",
         "uid": "048acadb-d626-4daa-961b-6153b1eb6e8b",
         "x": [
          1965,
          1965,
          1975,
          1975
         ],
         "xaxis": "x",
         "y": [
          0,
          0.8461538461538461,
          0.8461538461538461,
          0
         ],
         "yaxis": "y"
        },
        {
         "hoverinfo": "text",
         "marker": {
          "color": "rgb(0,116,217)"
         },
         "mode": "lines",
         "text": [
          "cluster: 107, component: Chinese Spring 1_001829_1519_m/z319.1363_RT1.9258",
          "cluster: 107, component: Chinese Spring 1_001829_1519_m/z319.1363_RT1.9258",
          "cluster: 108, component: Chinese Spring 1_001829_1645_m/z319.1363_RT2.3986",
          "cluster: 108, component: Chinese Spring 1_001829_1645_m/z319.1363_RT2.3986"
         ],
         "type": "scatter",
         "uid": "3f71e079-b9ba-4a43-8680-0ee2c9bf98c8",
         "x": [
          1985,
          1985,
          1995,
          1995
         ],
         "xaxis": "x",
         "y": [
          0,
          0.75,
          0.75,
          0
         ],
         "yaxis": "y"
        },
        {
         "hoverinfo": "text",
         "marker": {
          "color": "rgb(255,65,54)"
         },
         "mode": "lines",
         "text": [
          "cluster: 109, component: Chinese Spring 1_001829_1084_m/z229.1545_RT1.0920",
          "cluster: 109, component: Chinese Spring 1_001829_1084_m/z229.1545_RT1.0920",
          "cluster: 109, component: Chinese Spring 1_001829_1122_m/z229.1545_RT1.1143",
          "cluster: 109, component: Chinese Spring 1_001829_1122_m/z229.1545_RT1.1143"
         ],
         "type": "scatter",
         "uid": "c3fd5457-f4f8-4eba-af6b-236f3d830665",
         "x": [
          2035,
          2035,
          2045,
          2045
         ],
         "xaxis": "x",
         "y": [
          0,
          0,
          0,
          0
         ],
         "yaxis": "y"
        },
        {
         "hoverinfo": "text",
         "marker": {
          "color": "rgb(255,65,54)"
         },
         "mode": "lines",
         "text": [
          "cluster: 109, component: Chinese Spring 1_001829_0683_m/z229.1545_RT0.7845",
          "cluster: 109, component: Chinese Spring 1_001829_0683_m/z229.1545_RT0.7845",
          null,
          null
         ],
         "type": "scatter",
         "uid": "ff019e5d-0639-439a-a931-547a733ea746",
         "x": [
          2025,
          2025,
          2040,
          2040
         ],
         "xaxis": "x",
         "y": [
          0,
          0.38461538461538464,
          0.38461538461538464,
          0
         ],
         "yaxis": "y"
        },
        {
         "hoverinfo": "text",
         "marker": {
          "color": "rgb(0,116,217)"
         },
         "mode": "lines",
         "text": [
          "cluster: 110, component: Chinese Spring 1_001829_0764_m/z229.1545_RT0.8469",
          "cluster: 110, component: Chinese Spring 1_001829_0764_m/z229.1545_RT0.8469",
          null,
          null
         ],
         "type": "scatter",
         "uid": "938f76b3-59e5-4582-9526-6f132f9bb393",
         "x": [
          2015,
          2015,
          2032.5,
          2032.5
         ],
         "xaxis": "x",
         "y": [
          0,
          0.875,
          0.875,
          0.38461538461538464
         ],
         "yaxis": "y"
        },
        {
         "hoverinfo": "text",
         "marker": {
          "color": "rgb(0,116,217)"
         },
         "mode": "lines",
         "text": [
          "cluster: 111, component: Chinese Spring 1_001829_0094_m/z265.0154_RT0.5705",
          "cluster: 111, component: Chinese Spring 1_001829_0094_m/z265.0154_RT0.5705",
          null,
          null
         ],
         "type": "scatter",
         "uid": "0595b13a-1436-4514-a971-8dc441681cc9",
         "x": [
          2005,
          2005,
          2023.75,
          2023.75
         ],
         "xaxis": "x",
         "y": [
          0,
          1,
          1,
          0.875
         ],
         "yaxis": "y"
        },
        {
         "hoverinfo": "text",
         "marker": {
          "color": "rgb(0,116,217)"
         },
         "mode": "lines",
         "text": [
          null,
          null,
          null,
          null
         ],
         "type": "scatter",
         "uid": "71f07a7f-3b32-48e8-a0f0-22d10783c61d",
         "x": [
          1990,
          1990,
          2014.375,
          2014.375
         ],
         "xaxis": "x",
         "y": [
          0.75,
          1,
          1,
          1
         ],
         "yaxis": "y"
        },
        {
         "hoverinfo": "text",
         "marker": {
          "color": "rgb(0,116,217)"
         },
         "mode": "lines",
         "text": [
          null,
          null,
          null,
          null
         ],
         "type": "scatter",
         "uid": "0ae68f97-1d46-4db1-a115-d8a5f13d04f9",
         "x": [
          1970,
          1970,
          2002.1875,
          2002.1875
         ],
         "xaxis": "x",
         "y": [
          0.8461538461538461,
          1,
          1,
          1
         ],
         "yaxis": "y"
        },
        {
         "hoverinfo": "text",
         "marker": {
          "color": "rgb(0,116,217)"
         },
         "mode": "lines",
         "text": [
          null,
          null,
          null,
          null
         ],
         "type": "scatter",
         "uid": "0f49e7e3-27d1-4b72-9c0f-12f94c6e06bf",
         "x": [
          1940,
          1940,
          1986.09375,
          1986.09375
         ],
         "xaxis": "x",
         "y": [
          0.921875,
          1,
          1,
          1
         ],
         "yaxis": "y"
        },
        {
         "hoverinfo": "text",
         "marker": {
          "color": "rgb(0,116,217)"
         },
         "mode": "lines",
         "text": [
          null,
          null,
          null,
          null
         ],
         "type": "scatter",
         "uid": "64df7997-866d-4548-aa8b-cc966e48e285",
         "x": [
          1902.5,
          1902.5,
          1963.046875,
          1963.046875
         ],
         "xaxis": "x",
         "y": [
          0.8947368421052632,
          1,
          1,
          1
         ],
         "yaxis": "y"
        },
        {
         "hoverinfo": "text",
         "marker": {
          "color": "rgb(0,116,217)"
         },
         "mode": "lines",
         "text": [
          null,
          null,
          null,
          null
         ],
         "type": "scatter",
         "uid": "49e35284-90fa-4edb-b4df-be3de3ac7f0a",
         "x": [
          1823.4375,
          1823.4375,
          1932.7734375,
          1932.7734375
         ],
         "xaxis": "x",
         "y": [
          0.9534883720930233,
          1,
          1,
          1
         ],
         "yaxis": "y"
        },
        {
         "hoverinfo": "text",
         "marker": {
          "color": "rgb(0,116,217)"
         },
         "mode": "lines",
         "text": [
          "cluster: 112, component: Chinese Spring 1_001829_8795_m/z797.5175_RT14.4412",
          "cluster: 112, component: Chinese Spring 1_001829_8795_m/z797.5175_RT14.4412",
          null,
          null
         ],
         "type": "scatter",
         "uid": "539bbc28-bbf7-4264-aa76-367052a27478",
         "x": [
          1795,
          1795,
          1878.10546875,
          1878.10546875
         ],
         "xaxis": "x",
         "y": [
          0,
          1,
          1,
          1
         ],
         "yaxis": "y"
        },
        {
         "hoverinfo": "text",
         "marker": {
          "color": "rgb(0,116,217)"
         },
         "mode": "lines",
         "text": [
          null,
          null,
          null,
          null
         ],
         "type": "scatter",
         "uid": "115d88e0-2f25-406a-8017-0e0d7b82f351",
         "x": [
          1770,
          1770,
          1836.552734375,
          1836.552734375
         ],
         "xaxis": "x",
         "y": [
          0.9761904761904762,
          1,
          1,
          1
         ],
         "yaxis": "y"
        },
        {
         "hoverinfo": "text",
         "marker": {
          "color": "rgb(0,116,217)"
         },
         "mode": "lines",
         "text": [
          null,
          null,
          null,
          null
         ],
         "type": "scatter",
         "uid": "a0ef598d-1f78-420d-8d9b-6faaadbc35d7",
         "x": [
          1677.65625,
          1677.65625,
          1803.2763671875,
          1803.2763671875
         ],
         "xaxis": "x",
         "y": [
          0.9846153846153847,
          1,
          1,
          1
         ],
         "yaxis": "y"
        },
        {
         "hoverinfo": "text",
         "marker": {
          "color": "rgb(0,116,217)"
         },
         "mode": "lines",
         "text": [
          null,
          null,
          null,
          null
         ],
         "type": "scatter",
         "uid": "c3c8752b-e955-4d47-a73c-742b339386f1",
         "x": [
          1582.109375,
          1582.109375,
          1740.46630859375,
          1740.46630859375
         ],
         "xaxis": "x",
         "y": [
          0.9772727272727273,
          1,
          1,
          1
         ],
         "yaxis": "y"
        },
        {
         "hoverinfo": "text",
         "marker": {
          "color": "rgb(0,116,217)"
         },
         "mode": "lines",
         "text": [
          null,
          null,
          null,
          null
         ],
         "type": "scatter",
         "uid": "b4afe35f-4718-470d-a459-074a098fe867",
         "x": [
          1451.875,
          1451.875,
          1661.287841796875,
          1661.287841796875
         ],
         "xaxis": "x",
         "y": [
          0.9857142857142858,
          1,
          1,
          1
         ],
         "yaxis": "y"
        },
        {
         "hoverinfo": "text",
         "marker": {
          "color": "rgb(0,116,217)"
         },
         "mode": "lines",
         "text": [
          null,
          null,
          null,
          null
         ],
         "type": "scatter",
         "uid": "97460c3c-68ba-4c5b-8b4b-1c233161fb6e",
         "x": [
          1307.8125,
          1307.8125,
          1556.5814208984375,
          1556.5814208984375
         ],
         "xaxis": "x",
         "y": [
          0.9891304347826086,
          1,
          1,
          1
         ],
         "yaxis": "y"
        },
        {
         "hoverinfo": "text",
         "marker": {
          "color": "rgb(0,116,217)"
         },
         "mode": "lines",
         "text": [
          null,
          null,
          null,
          null
         ],
         "type": "scatter",
         "uid": "996fbb53-8b0f-4e87-85f2-728fca06afdd",
         "x": [
          1124.912109375,
          1124.912109375,
          1432.1969604492188,
          1432.1969604492188
         ],
         "xaxis": "x",
         "y": [
          0.9696969696969697,
          1,
          1,
          1
         ],
         "yaxis": "y"
        },
        {
         "hoverinfo": "text",
         "marker": {
          "color": "rgb(0,116,217)"
         },
         "mode": "lines",
         "text": [
          null,
          null,
          null,
          null
         ],
         "type": "scatter",
         "uid": "55973694-3235-41c6-947d-c1500bc1eb2e",
         "x": [
          1005.15625,
          1005.15625,
          1278.5545349121094,
          1278.5545349121094
         ],
         "xaxis": "x",
         "y": [
          0.8214285714285714,
          1,
          1,
          1
         ],
         "yaxis": "y"
        },
        {
         "hoverinfo": "text",
         "marker": {
          "color": "rgb(0,116,217)"
         },
         "mode": "lines",
         "text": [
          "cluster: 113, component: blk_001809_0035_m/z141.0508_RT0.5557",
          "cluster: 113, component: blk_001809_0035_m/z141.0508_RT0.5557",
          null,
          null
         ],
         "type": "scatter",
         "uid": "a9bcfa52-a78e-4de3-a081-da3edf83649a",
         "x": [
          965,
          965,
          1141.8553924560547,
          1141.8553924560547
         ],
         "xaxis": "x",
         "y": [
          0,
          1,
          1,
          1
         ],
         "yaxis": "y"
        },
        {
         "hoverinfo": "text",
         "marker": {
          "color": "rgb(0,116,217)"
         },
         "mode": "lines",
         "text": [
          null,
          null,
          null,
          null
         ],
         "type": "scatter",
         "uid": "ff4174a1-158e-4baf-99b7-490c6f4912fe",
         "x": [
          720.869140625,
          720.869140625,
          1053.4276962280273,
          1053.4276962280273
         ],
         "xaxis": "x",
         "y": [
          0.9882352941176471,
          1,
          1,
          1
         ],
         "yaxis": "y"
        },
        {
         "hoverinfo": "text",
         "marker": {
          "color": "rgb(0,116,217)"
         },
         "mode": "lines",
         "text": [
          null,
          null,
          null,
          null
         ],
         "type": "scatter",
         "uid": "de5a2010-6fae-4f33-860b-7b0456c467f9",
         "x": [
          484.0625,
          484.0625,
          887.1484184265137,
          887.1484184265137
         ],
         "xaxis": "x",
         "y": [
          0.9814814814814815,
          1,
          1,
          1
         ],
         "yaxis": "y"
        },
        {
         "hoverinfo": "text",
         "marker": {
          "color": "rgb(0,116,217)"
         },
         "mode": "lines",
         "text": [
          null,
          null,
          null,
          null
         ],
         "type": "scatter",
         "uid": "1d1a99ad-29a1-4a8c-ac1a-a3b011f21a22",
         "x": [
          221.85302734375,
          221.85302734375,
          685.6054592132568,
          685.6054592132568
         ],
         "xaxis": "x",
         "y": [
          0.9625,
          1,
          1,
          1
         ],
         "yaxis": "y"
        }
       ],
       "layout": {
        "autosize": false,
        "height": 700,
        "hovermode": "closest",
        "margin": {
         "b": 612
        },
        "showlegend": false,
        "title": {
         "text": "Component clusters. method = jaccard, cutoff = 0.6, threshold = 0.0008"
        },
        "width": 800,
        "xaxis": {
         "mirror": "allticks",
         "rangemode": "tozero",
         "showgrid": false,
         "showline": true,
         "showticklabels": true,
         "tickmode": "array",
         "ticks": "outside",
         "ticktext": [
          "Chinese Spring 1_001829_8203_m/z613.4826_RT12.2884",
          "Chinese Spring 1_001829_7933_m/z792.5621_RT11.9987",
          "Chinese Spring 1_001829_8737_m/z613.4826_RT13.9777",
          "Chinese Spring 1_001829_6867_m/z596.3096_RT9.9999",
          "Chinese Spring 5_001887_7848_m/z792.5621_RT14.4273",
          "blk_001809_2310_m/z571.4292_RT14.5025",
          "Chinese Spring 1_001829_7309_m/z497.3107_RT10.7050",
          "Chinese Spring 1_001829_6971_m/z507.2717_RT10.1162",
          "Cobra 1_001832_7415_m/z571.4716_RT11.9269",
          "Chinese Spring 1_001829_8002_m/z335.2578_RT12.0967",
          "Chinese Spring 1_001829_6962_m/z335.2578_RT10.1118",
          "Chinese Spring 1_001829_7924_m/z335.2579_RT11.9987",
          "Chinese Spring 1_001829_7102_m/z335.2578_RT10.4732",
          "Chinese Spring 1_001829_7304_m/z335.2577_RT10.7050",
          "Chinese Spring 1_001829_6770_m/z335.2578_RT9.7767",
          "Chinese Spring 1_001829_7176_m/z261.2209_RT10.5802",
          "Chinese Spring 1_001829_6995_m/z353.2686_RT10.1519",
          "Chinese Spring 1_001829_7306_m/z353.2686_RT10.7050",
          "Chinese Spring 1_001829_7300_m/z261.2209_RT10.7050",
          "Chinese Spring 1_001829_6884_m/z335.2579_RT10.0132",
          "Chinese Spring 1_001829_7178_m/z335.2579_RT10.5802",
          "blk_001809_0873_m/z272.2582_RT9.6975",
          "Cobra 1_001832_8139_m/z338.3414_RT14.1645",
          "blk_001809_2081_m/z244.1905_RT12.7018",
          "Chinese Spring 1_001829_6885_m/z353.2690_RT10.0132",
          "Chinese Spring 1_001829_7180_m/z353.2688_RT10.5802",
          "Chinese Spring 1_001829_7587_m/z278.2475_RT11.3925",
          "Chinese Spring 1_001829_7923_m/z279.2315_RT11.9987",
          "Chinese Spring 1_001829_7499_m/z435.2504_RT11.0802",
          "Chinese Spring 1_001829_7119_m/z337.2734_RT10.5000",
          "Chinese Spring 1_001829_8646_m/z337.2733_RT13.6924",
          "Chinese Spring 1_001829_7690_m/z618.4271_RT11.6644",
          "Chinese Spring 1_001829_8106_m/z583.4143_RT12.1770",
          "Chinese Spring 1_001829_7448_m/z599.4093_RT11.0178",
          "Chinese Spring 1_001829_7776_m/z601.4244_RT11.7714",
          "Chinese Spring 1_001829_8582_m/z599.4089_RT13.2111",
          "Chinese Spring 1_001829_7361_m/z618.4278_RT10.7852",
          "Chinese Spring 1_001829_7576_m/z618.4271_RT11.3791",
          "Chinese Spring 1_001829_8729_m/z568.4263_RT13.9732",
          "Chinese Spring 1_001829_7954_m/z565.4037_RT12.0210",
          "Chinese Spring 1_001829_7574_m/z583.4141_RT11.3791",
          "Chinese Spring 1_001829_7780_m/z583.4141_RT11.7758",
          "Chinese Spring 1_001829_8525_m/z601.4234_RT13.0595",
          "Chinese Spring 1_001829_7357_m/z583.4143_RT10.7852",
          "Chinese Spring 1_001829_8191_m/z583.4143_RT12.2617",
          "Chinese Spring 1_001829_0928_m/z269.1605_RT1.0029",
          "Chinese Spring 1_001829_0989_m/z268.1037_RT1.0386",
          "blk_001809_1552_m/z364.3418_RT11.7523",
          "blk_001809_1616_m/z364.3418_RT11.8147",
          "blk_001809_1516_m/z408.3681_RT11.7389",
          "blk_001809_1750_m/z466.4099_RT12.1446",
          "blk_001809_1657_m/z408.3681_RT11.9395",
          "blk_001809_1903_m/z482.4048_RT12.3318",
          "blk_001809_1999_m/z364.3424_RT12.5502",
          "blk_001809_2060_m/z364.3424_RT12.6438",
          "blk_001809_1642_m/z424.3632_RT11.9261",
          "blk_001809_1747_m/z421.3521_RT12.1446",
          "Chinese Spring 1_001829_7380_m/z483.2713_RT10.8387",
          "Chinese Spring 1_001829_7338_m/z338.2607_RT10.7228",
          "Chinese Spring 1_001829_6626_m/z320.2946_RT9.3934",
          "Chinese Spring 1_001829_6684_m/z320.2946_RT9.6341",
          "Chinese Spring 1_001829_4681_m/z129.1273_RT5.8086",
          "Chinese Spring 1_001829_5571_m/z171.1490_RT6.9999",
          "Chinese Spring 3_001858_5649_m/z201.1636_RT7.2384",
          "Cobra 1_001832_5681_m/z201.1636_RT7.3651",
          "Chinese Spring 1_001829_6034_m/z209.1534_RT7.9760",
          "Chinese Spring 1_001829_3534_m/z209.1534_RT4.9214",
          "Chinese Spring 1_001829_3874_m/z209.1534_RT5.1891",
          "Chinese Spring 1_001829_3976_m/z209.1534_RT5.2738",
          "Chinese Spring 1_001829_6121_m/z281.1745_RT8.1944",
          "blk_001809_0513_m/z243.1589_RT8.8417",
          "Chinese Spring 1_001829_6701_m/z293.2106_RT9.6921",
          "Chinese Spring 1_001829_4627_m/z227.1640_RT5.7507",
          "blk_001809_0743_m/z283.1902_RT9.4033",
          "Chinese Spring 1_001829_3576_m/z207.1378_RT4.9437",
          "Chinese Spring 1_001829_3487_m/z227.1275_RT4.8769",
          "Chinese Spring 1_001829_3537_m/z227.1276_RT4.9214",
          "Chinese Spring 1_001829_8442_m/z181.1221_RT12.7876",
          "Chinese Spring 2_001850_7898_m/z181.1221_RT13.1904",
          "Chinese Spring 1_001829_5465_m/z211.1690_RT6.7722",
          "Chinese Spring 1_001829_5452_m/z209.0807_RT6.7499",
          "Chinese Spring 1_001829_5697_m/z211.1691_RT7.3342",
          "Chinese Spring 1_001829_5778_m/z211.1691_RT7.5080",
          "Chinese Spring 1_001829_6053_m/z215.1640_RT8.0384",
          "blk_001809_0654_m/z215.1640_RT9.1582",
          "Chinese Spring 2_001850_5547_m/z137.0960_RT7.4167",
          "Chinese Spring 2_001850_6060_m/z219.1741_RT8.6023",
          "Chinese Spring 2_001850_6092_m/z219.1742_RT8.6424",
          "Chinese Spring 1_001829_6166_m/z219.1741_RT8.3371",
          "Chinese Spring 1_001829_5806_m/z219.1741_RT7.5303",
          "Cobra 1_001832_5682_m/z219.1741_RT7.3651",
          "Chinese Spring 1_001829_5301_m/z191.1428_RT6.5359",
          "Chinese Spring 1_001829_3978_m/z191.1429_RT5.2782",
          "Chinese Spring 1_001829_5431_m/z191.1429_RT6.7410",
          "Chinese Spring 1_001829_4949_m/z209.0807_RT6.0494",
          "Chinese Spring 1_001829_6612_m/z207.1378_RT9.3355",
          "blk_001809_0035_m/z141.0508_RT0.5557",
          "Chinese Spring 1_001829_2250_m/z177.0544_RT3.6957",
          "Chinese Spring 1_001829_3815_m/z177.0545_RT5.1175",
          "Espada 3_001867_2046_m/z177.0545_RT3.9185",
          "Chinese Spring 1_001829_3575_m/z199.9878_RT4.9437",
          "Chinese Spring 3_001858_3785_m/z199.9877_RT5.0667",
          "Chinese Spring 1_001829_0008_m/z199.9878_RT0.5260",
          "Chinese Spring 1_001829_3401_m/z199.9878_RT4.8234",
          "Chinese Spring 1_001829_4213_m/z199.9877_RT5.4298",
          "Chinese Spring 2_001850_3871_m/z199.9878_RT5.2900",
          "Cobra 2_001852_4324_m/z199.9878_RT6.0264",
          "Chinese Spring 2_001850_4313_m/z199.9878_RT5.5708",
          "Cobra 2_001852_2321_m/z199.9877_RT4.2435",
          "Chinese Spring 1_001829_5512_m/z463.1233_RT6.8301",
          "Chinese Spring 1_001829_3296_m/z611.1606_RT4.7565",
          "Chinese Spring 1_001829_3857_m/z611.1606_RT5.1666",
          "Chinese Spring 1_001829_3593_m/z339.1073_RT4.9571",
          "Chinese Spring 1_001829_4973_m/z339.1073_RT6.0940",
          "Chinese Spring 1_001829_6003_m/z498.2543_RT7.9315",
          "Chinese Spring 1_001829_3932_m/z340.1603_RT5.2470",
          "Chinese Spring 1_001829_5413_m/z231.0497_RT6.7231",
          "Chinese Spring 1_001829_3927_m/z231.0497_RT5.2470",
          "Chinese Spring 1_001829_5035_m/z231.0497_RT6.1564",
          "Chinese Spring 1_001829_6283_m/z231.0496_RT8.6045",
          "Chinese Spring 2_001850_1213_m/z314.1446_RT1.3713",
          "Emu Rock 2_001847_1099_m/z314.1446_RT1.2598",
          "Chinese Spring 1_001829_2752_m/z342.1759_RT4.2840",
          "Chinese Spring 3_001858_1605_m/z310.1495_RT2.2587",
          "Chinese Spring 1_001829_1178_m/z241.1544_RT1.1946",
          "Chinese Spring 1_001829_1844_m/z507.1819_RT2.9692",
          "Correll 1_001837_4911_m/z251.0911_RT6.5612",
          "Chinese Spring 1_001829_5685_m/z219.1014_RT7.3074",
          "Chinese Spring 1_001829_4912_m/z219.1014_RT5.9958",
          "Chinese Spring 1_001829_5175_m/z219.1014_RT6.3621",
          "Chinese Spring 1_001829_2478_m/z291.1449_RT4.0211",
          "Chinese Spring 1_001829_2534_m/z291.1449_RT4.0567",
          "Chinese Spring 1_001829_1967_m/z291.1450_RT3.3302",
          "Chinese Spring 1_001829_1966_m/z273.1343_RT3.3302",
          "Chinese Spring 1_001829_2526_m/z273.1343_RT4.0523",
          "Chinese Spring 1_001829_1994_m/z251.1387_RT3.3658",
          "Chinese Spring 1_001829_1874_m/z235.1439_RT3.0271",
          "Chinese Spring 1_001829_2318_m/z235.1439_RT3.7670",
          "Chinese Spring 1_001829_2426_m/z194.0447_RT3.9542",
          "Cobra 3_001856_2051_m/z194.1174_RT3.6295",
          "Chinese Spring 1_001829_3643_m/z194.0447_RT4.9972",
          "Chinese Spring 1_001829_3914_m/z194.0447_RT5.2381",
          "Chinese Spring 1_001829_4309_m/z212.0552_RT5.4788",
          "Chinese Spring 1_001829_2958_m/z212.0552_RT4.4445",
          "Chinese Spring 1_001829_5341_m/z194.0447_RT6.6117",
          "Chinese Spring 1_001829_5342_m/z226.0708_RT6.6117",
          "Chinese Spring 1_001829_2262_m/z533.1549_RT3.7001",
          "Chinese Spring 1_001829_2618_m/z533.1546_RT4.1191",
          "Chinese Spring 1_001829_2044_m/z533.1546_RT3.4461",
          "Chinese Spring 1_001829_3026_m/z533.1549_RT4.5203",
          "Chinese Spring 1_001829_2030_m/z347.0907_RT3.4015",
          "Chinese Spring 2_001850_1485_m/z347.0907_RT2.1112",
          "Chinese Spring 1_001829_1626_m/z194.1174_RT2.2515",
          "Cobra 2_001852_2090_m/z194.1174_RT4.0473",
          "Chinese Spring 1_001829_6552_m/z320.2946_RT9.1394",
          "Chinese Spring 1_001829_7255_m/z320.2946_RT10.6470",
          "Chinese Spring 1_001829_6510_m/z320.2948_RT9.0458",
          "Chinese Spring 1_001829_6404_m/z320.2946_RT8.8274",
          "Chinese Spring 1_001829_6439_m/z320.2946_RT8.8987",
          "Chinese Spring 1_001829_6466_m/z320.2948_RT8.9700",
          "Chinese Spring 1_001829_0724_m/z241.1544_RT0.7890",
          "Chinese Spring 1_001829_0785_m/z241.1544_RT0.8781",
          "Chinese Spring 1_001829_5942_m/z332.2584_RT7.8067",
          "Chinese Spring 1_001829_6229_m/z332.2583_RT8.4886",
          "Chinese Spring 1_001829_6093_m/z332.2583_RT8.1097",
          "Chinese Spring 1_001829_6127_m/z332.2584_RT8.1989",
          "Chinese Spring 1_001829_0877_m/z260.1603_RT0.9851",
          "Chinese Spring 1_001829_3318_m/z132.0444_RT4.7743",
          "Chinese Spring 1_001829_1633_m/z246.1446_RT2.2783",
          "Chinese Spring 1_001829_1708_m/z247.1286_RT2.6482",
          "Chinese Spring 1_001829_1642_m/z260.1602_RT2.3719",
          "Chinese Spring 2_001850_1603_m/z260.1603_RT2.4945",
          "Chinese Spring 1_001829_1656_m/z233.1494_RT2.5234",
          "Chinese Spring 1_001829_1564_m/z233.1494_RT2.1044",
          "Chinese Spring 5_001887_1443_m/z233.1494_RT2.2226",
          "Chinese Spring 1_001829_1393_m/z221.1284_RT1.6494",
          "Chinese Spring 2_001850_1669_m/z237.1232_RT2.8467",
          "Chinese Spring 1_001829_0821_m/z237.1231_RT0.9093",
          "Chinese Spring 1_001829_2218_m/z237.1231_RT3.6645",
          "Chinese Spring 1_001829_8795_m/z797.5175_RT14.4412",
          "Chinese Spring 1_001829_0924_m/z214.5102_RT1.0029",
          "Chinese Spring 1_001829_5742_m/z268.5936_RT7.4233",
          "Chinese Spring 1_001829_3925_m/z222.0703_RT5.2470",
          "Chinese Spring 1_001829_6287_m/z250.1014_RT8.6045",
          "Chinese Spring 1_001829_2484_m/z247.0598_RT4.0255",
          "Chinese Spring 1_001829_2604_m/z247.0598_RT4.1147",
          "Chinese Spring 1_001829_3431_m/z219.0467_RT4.8501",
          "Chinese Spring 1_001829_1873_m/z212.0390_RT3.0271",
          "Chinese Spring 1_001829_5506_m/z214.5649_RT6.8301",
          "Chinese Spring 1_001829_3870_m/z595.1657_RT5.1846",
          "Chinese Spring 1_001829_4649_m/z625.1763_RT5.7730",
          "Chinese Spring 1_001829_4877_m/z463.1232_RT5.9646",
          "Chinese Spring 1_001829_0770_m/z182.0811_RT0.8558",
          "Chinese Spring 1_001829_0839_m/z182.0811_RT0.9405",
          "Chinese Spring 1_001829_3666_m/z212.0552_RT5.0017",
          "Chinese Spring 1_001829_4302_m/z194.0447_RT5.4788",
          "Chinese Spring 1_001829_2440_m/z333.1520_RT3.9631",
          "Chinese Spring 1_001829_2563_m/z333.1519_RT4.0835",
          "Chinese Spring 1_001829_1519_m/z319.1363_RT1.9258",
          "Chinese Spring 1_001829_1645_m/z319.1363_RT2.3986",
          "Chinese Spring 1_001829_0094_m/z265.0154_RT0.5705",
          "Chinese Spring 1_001829_0764_m/z229.1545_RT0.8469",
          "Chinese Spring 1_001829_0683_m/z229.1545_RT0.7845",
          "Chinese Spring 1_001829_1084_m/z229.1545_RT1.0920",
          "Chinese Spring 1_001829_1122_m/z229.1545_RT1.1143"
         ],
         "tickvals": [
          5,
          15,
          25,
          35,
          45,
          55,
          65,
          75,
          85,
          95,
          105,
          115,
          125,
          135,
          145,
          155,
          165,
          175,
          185,
          195,
          205,
          215,
          225,
          235,
          245,
          255,
          265,
          275,
          285,
          295,
          305,
          315,
          325,
          335,
          345,
          355,
          365,
          375,
          385,
          395,
          405,
          415,
          425,
          435,
          445,
          455,
          465,
          475,
          485,
          495,
          505,
          515,
          525,
          535,
          545,
          555,
          565,
          575,
          585,
          595,
          605,
          615,
          625,
          635,
          645,
          655,
          665,
          675,
          685,
          695,
          705,
          715,
          725,
          735,
          745,
          755,
          765,
          775,
          785,
          795,
          805,
          815,
          825,
          835,
          845,
          855,
          865,
          875,
          885,
          895,
          905,
          915,
          925,
          935,
          945,
          955,
          965,
          975,
          985,
          995,
          1005,
          1015,
          1025,
          1035,
          1045,
          1055,
          1065,
          1075,
          1085,
          1095,
          1105,
          1115,
          1125,
          1135,
          1145,
          1155,
          1165,
          1175,
          1185,
          1195,
          1205,
          1215,
          1225,
          1235,
          1245,
          1255,
          1265,
          1275,
          1285,
          1295,
          1305,
          1315,
          1325,
          1335,
          1345,
          1355,
          1365,
          1375,
          1385,
          1395,
          1405,
          1415,
          1425,
          1435,
          1445,
          1455,
          1465,
          1475,
          1485,
          1495,
          1505,
          1515,
          1525,
          1535,
          1545,
          1555,
          1565,
          1575,
          1585,
          1595,
          1605,
          1615,
          1625,
          1635,
          1645,
          1655,
          1665,
          1675,
          1685,
          1695,
          1705,
          1715,
          1725,
          1735,
          1745,
          1755,
          1765,
          1775,
          1785,
          1795,
          1805,
          1815,
          1825,
          1835,
          1845,
          1855,
          1865,
          1875,
          1885,
          1895,
          1905,
          1915,
          1925,
          1935,
          1945,
          1955,
          1965,
          1975,
          1985,
          1995,
          2005,
          2015,
          2025,
          2035,
          2045
         ],
         "title": {
          "text": "Components"
         },
         "type": "linear",
         "zeroline": false
        },
        "yaxis": {
         "mirror": "allticks",
         "rangemode": "tozero",
         "showgrid": false,
         "showline": true,
         "showticklabels": true,
         "ticks": "outside",
         "title": {
          "text": "Distance"
         },
         "type": "linear",
         "zeroline": false
        }
       }
      },
      "text/html": [
       "<div>\n",
       "        \n",
       "        \n",
       "            <div id=\"feccdc54-2e6f-49ef-8569-5259ecef221e\" class=\"plotly-graph-div\"></div>\n",
       "            <script type=\"text/javascript\">\n",
       "                require([\"plotly\"], function(Plotly) {\n",
       "                    window.PLOTLYENV=window.PLOTLYENV || {};\n",
       "                    window.PLOTLYENV.BASE_URL='https://plot.ly';\n",
       "                    \n",
       "                if (document.getElementById(\"feccdc54-2e6f-49ef-8569-5259ecef221e\")) {\n",
       "                    Plotly.newPlot(\n",
       "                        'feccdc54-2e6f-49ef-8569-5259ecef221e',\n",
       "                        [{\"hoverinfo\": \"text\", \"marker\": {\"color\": \"rgb(61,153,112)\"}, \"mode\": \"lines\", \"text\": [\"cluster: 1, component: Chinese Spring 1_001829_7933_m/z792.5621_RT11.9987\", \"cluster: 1, component: Chinese Spring 1_001829_7933_m/z792.5621_RT11.9987\", \"cluster: 1, component: Chinese Spring 1_001829_8737_m/z613.4826_RT13.9777\", \"cluster: 1, component: Chinese Spring 1_001829_8737_m/z613.4826_RT13.9777\"], \"type\": \"scatter\", \"uid\": \"5fdd9cd8-94db-47f6-aa82-e67bef8c6f7e\", \"x\": [15.0, 15.0, 25.0, 25.0], \"xaxis\": \"x\", \"y\": [0.0, 0.5662650602409639, 0.5662650602409639, 0.0], \"yaxis\": \"y\"}, {\"hoverinfo\": \"text\", \"marker\": {\"color\": \"rgb(0,116,217)\"}, \"mode\": \"lines\", \"text\": [\"cluster: 2, component: Chinese Spring 1_001829_8203_m/z613.4826_RT12.2884\", \"cluster: 2, component: Chinese Spring 1_001829_8203_m/z613.4826_RT12.2884\", null, null], \"type\": \"scatter\", \"uid\": \"ad24fe5a-9d2a-4ca0-be76-6fa15acd9998\", \"x\": [5.0, 5.0, 20.0, 20.0], \"xaxis\": \"x\", \"y\": [0.0, 0.676923076923077, 0.676923076923077, 0.5662650602409639], \"yaxis\": \"y\"}, {\"hoverinfo\": \"text\", \"marker\": {\"color\": \"rgb(0,116,217)\"}, \"mode\": \"lines\", \"text\": [\"cluster: 3, component: Chinese Spring 1_001829_6867_m/z596.3096_RT9.9999\", \"cluster: 3, component: Chinese Spring 1_001829_6867_m/z596.3096_RT9.9999\", \"cluster: 4, component: Chinese Spring 5_001887_7848_m/z792.5621_RT14.4273\", \"cluster: 4, component: Chinese Spring 5_001887_7848_m/z792.5621_RT14.4273\"], \"type\": \"scatter\", \"uid\": \"1376b8c3-ef80-41d3-8749-65de5d826ba8\", \"x\": [35.0, 35.0, 45.0, 45.0], \"xaxis\": \"x\", \"y\": [0.0, 0.7142857142857143, 0.7142857142857143, 0.0], \"yaxis\": \"y\"}, {\"hoverinfo\": \"text\", \"marker\": {\"color\": \"rgb(0,116,217)\"}, \"mode\": \"lines\", \"text\": [null, null, null, null], \"type\": \"scatter\", \"uid\": \"6b4c38ae-a71f-4dc9-8271-d22340ffed3d\", \"x\": [12.5, 12.5, 40.0, 40.0], \"xaxis\": \"x\", \"y\": [0.676923076923077, 0.7763157894736842, 0.7763157894736842, 0.7142857142857143], \"yaxis\": \"y\"}, {\"hoverinfo\": \"text\", \"marker\": {\"color\": \"rgb(255,65,54)\"}, \"mode\": \"lines\", \"text\": [\"cluster: 5, component: Chinese Spring 1_001829_6962_m/z335.2578_RT10.1118\", \"cluster: 5, component: Chinese Spring 1_001829_6962_m/z335.2578_RT10.1118\", \"cluster: 5, component: Chinese Spring 1_001829_7924_m/z335.2579_RT11.9987\", \"cluster: 5, component: Chinese Spring 1_001829_7924_m/z335.2579_RT11.9987\"], \"type\": \"scatter\", \"uid\": \"4374b4b9-8436-47a1-a694-f6e77819fada\", \"x\": [105.0, 105.0, 115.0, 115.0], \"xaxis\": \"x\", \"y\": [0.0, 0.26, 0.26, 0.0], \"yaxis\": \"y\"}, {\"hoverinfo\": \"text\", \"marker\": {\"color\": \"rgb(255,65,54)\"}, \"mode\": \"lines\", \"text\": [\"cluster: 5, component: Chinese Spring 1_001829_8002_m/z335.2578_RT12.0967\", \"cluster: 5, component: Chinese Spring 1_001829_8002_m/z335.2578_RT12.0967\", null, null], \"type\": \"scatter\", \"uid\": \"774ada86-36b0-4d45-bf7d-6cea6b2391b0\", \"x\": [95.0, 95.0, 110.0, 110.0], \"xaxis\": \"x\", \"y\": [0.0, 0.2830188679245283, 0.2830188679245283, 0.26], \"yaxis\": \"y\"}, {\"hoverinfo\": \"text\", \"marker\": {\"color\": \"rgb(255,65,54)\"}, \"mode\": \"lines\", \"text\": [\"cluster: 5, component: Chinese Spring 1_001829_7102_m/z335.2578_RT10.4732\", \"cluster: 5, component: Chinese Spring 1_001829_7102_m/z335.2578_RT10.4732\", \"cluster: 5, component: Chinese Spring 1_001829_7304_m/z335.2577_RT10.7050\", \"cluster: 5, component: Chinese Spring 1_001829_7304_m/z335.2577_RT10.7050\"], \"type\": \"scatter\", \"uid\": \"5c55eb16-6166-466b-89dd-587ce65cdda9\", \"x\": [125.0, 125.0, 135.0, 135.0], \"xaxis\": \"x\", \"y\": [0.0, 0.2857142857142857, 0.2857142857142857, 0.0], \"yaxis\": \"y\"}, {\"hoverinfo\": \"text\", \"marker\": {\"color\": \"rgb(255,65,54)\"}, \"mode\": \"lines\", \"text\": [null, null, null, null], \"type\": \"scatter\", \"uid\": \"bc88bc81-1053-476f-9ff4-1a183fcb409c\", \"x\": [102.5, 102.5, 130.0, 130.0], \"xaxis\": \"x\", \"y\": [0.2830188679245283, 0.3389830508474576, 0.3389830508474576, 0.2857142857142857], \"yaxis\": \"y\"}, {\"hoverinfo\": \"text\", \"marker\": {\"color\": \"rgb(255,65,54)\"}, \"mode\": \"lines\", \"text\": [\"cluster: 5, component: Chinese Spring 1_001829_6770_m/z335.2578_RT9.7767\", \"cluster: 5, component: Chinese Spring 1_001829_6770_m/z335.2578_RT9.7767\", \"cluster: 5, component: Chinese Spring 1_001829_7176_m/z261.2209_RT10.5802\", \"cluster: 5, component: Chinese Spring 1_001829_7176_m/z261.2209_RT10.5802\"], \"type\": \"scatter\", \"uid\": \"d7343895-2bcc-471e-8537-36ee174fe972\", \"x\": [145.0, 145.0, 155.0, 155.0], \"xaxis\": \"x\", \"y\": [0.0, 0.375, 0.375, 0.0], \"yaxis\": \"y\"}, {\"hoverinfo\": \"text\", \"marker\": {\"color\": \"rgb(255,65,54)\"}, \"mode\": \"lines\", \"text\": [null, null, null, null], \"type\": \"scatter\", \"uid\": \"08cfec1a-5293-4186-b585-530e608e6d96\", \"x\": [116.25, 116.25, 150.0, 150.0], \"xaxis\": \"x\", \"y\": [0.3389830508474576, 0.4117647058823529, 0.4117647058823529, 0.375], \"yaxis\": \"y\"}, {\"hoverinfo\": \"text\", \"marker\": {\"color\": \"rgb(255,65,54)\"}, \"mode\": \"lines\", \"text\": [\"cluster: 5, component: Chinese Spring 1_001829_6995_m/z353.2686_RT10.1519\", \"cluster: 5, component: Chinese Spring 1_001829_6995_m/z353.2686_RT10.1519\", \"cluster: 5, component: Chinese Spring 1_001829_7306_m/z353.2686_RT10.7050\", \"cluster: 5, component: Chinese Spring 1_001829_7306_m/z353.2686_RT10.7050\"], \"type\": \"scatter\", \"uid\": \"5a8cbcc5-55a5-438b-bf6b-70d22f47dbdb\", \"x\": [165.0, 165.0, 175.0, 175.0], \"xaxis\": \"x\", \"y\": [0.0, 0.27419354838709675, 0.27419354838709675, 0.0], \"yaxis\": \"y\"}, {\"hoverinfo\": \"text\", \"marker\": {\"color\": \"rgb(255,65,54)\"}, \"mode\": \"lines\", \"text\": [\"cluster: 5, component: Chinese Spring 1_001829_6884_m/z335.2579_RT10.0132\", \"cluster: 5, component: Chinese Spring 1_001829_6884_m/z335.2579_RT10.0132\", \"cluster: 5, component: Chinese Spring 1_001829_7178_m/z335.2579_RT10.5802\", \"cluster: 5, component: Chinese Spring 1_001829_7178_m/z335.2579_RT10.5802\"], \"type\": \"scatter\", \"uid\": \"acf69040-2e1d-4710-9ee2-ca06587d9f77\", \"x\": [195.0, 195.0, 205.0, 205.0], \"xaxis\": \"x\", \"y\": [0.0, 0.29411764705882354, 0.29411764705882354, 0.0], \"yaxis\": \"y\"}, {\"hoverinfo\": \"text\", \"marker\": {\"color\": \"rgb(255,65,54)\"}, \"mode\": \"lines\", \"text\": [\"cluster: 5, component: Chinese Spring 1_001829_7300_m/z261.2209_RT10.7050\", \"cluster: 5, component: Chinese Spring 1_001829_7300_m/z261.2209_RT10.7050\", null, null], \"type\": \"scatter\", \"uid\": \"86f76757-5cd2-44d3-aad2-feeea9b3fb44\", \"x\": [185.0, 185.0, 200.0, 200.0], \"xaxis\": \"x\", \"y\": [0.0, 0.38461538461538464, 0.38461538461538464, 0.29411764705882354], \"yaxis\": \"y\"}, {\"hoverinfo\": \"text\", \"marker\": {\"color\": \"rgb(255,65,54)\"}, \"mode\": \"lines\", \"text\": [null, null, null, null], \"type\": \"scatter\", \"uid\": \"360e2e19-1196-493d-87e8-55d4abc559b8\", \"x\": [170.0, 170.0, 192.5, 192.5], \"xaxis\": \"x\", \"y\": [0.27419354838709675, 0.43333333333333335, 0.43333333333333335, 0.38461538461538464], \"yaxis\": \"y\"}, {\"hoverinfo\": \"text\", \"marker\": {\"color\": \"rgb(255,65,54)\"}, \"mode\": \"lines\", \"text\": [null, null, null, null], \"type\": \"scatter\", \"uid\": \"677fe050-e1f5-4f74-a767-30d1cb7b116b\", \"x\": [133.125, 133.125, 181.25, 181.25], \"xaxis\": \"x\", \"y\": [0.4117647058823529, 0.46153846153846156, 0.46153846153846156, 0.43333333333333335], \"yaxis\": \"y\"}, {\"hoverinfo\": \"text\", \"marker\": {\"color\": \"rgb(255,65,54)\"}, \"mode\": \"lines\", \"text\": [\"cluster: 5, component: Cobra 1_001832_7415_m/z571.4716_RT11.9269\", \"cluster: 5, component: Cobra 1_001832_7415_m/z571.4716_RT11.9269\", null, null], \"type\": \"scatter\", \"uid\": \"9017051f-1869-4588-8cd5-20fa42099683\", \"x\": [85.0, 85.0, 157.1875, 157.1875], \"xaxis\": \"x\", \"y\": [0.0, 0.5538461538461539, 0.5538461538461539, 0.46153846153846156], \"yaxis\": \"y\"}, {\"hoverinfo\": \"text\", \"marker\": {\"color\": \"rgb(255,65,54)\"}, \"mode\": \"lines\", \"text\": [\"cluster: 5, component: Chinese Spring 1_001829_6971_m/z507.2717_RT10.1162\", \"cluster: 5, component: Chinese Spring 1_001829_6971_m/z507.2717_RT10.1162\", null, null], \"type\": \"scatter\", \"uid\": \"6d07a590-f4ca-4634-84c8-54b8de9be1d3\", \"x\": [75.0, 75.0, 121.09375, 121.09375], \"xaxis\": \"x\", \"y\": [0.0, 0.5737704918032787, 0.5737704918032787, 0.5538461538461539], \"yaxis\": \"y\"}, {\"hoverinfo\": \"text\", \"marker\": {\"color\": \"rgb(0,116,217)\"}, \"mode\": \"lines\", \"text\": [\"cluster: 6, component: Chinese Spring 1_001829_7309_m/z497.3107_RT10.7050\", \"cluster: 6, component: Chinese Spring 1_001829_7309_m/z497.3107_RT10.7050\", null, null], \"type\": \"scatter\", \"uid\": \"09bcfb80-eb76-4566-b892-b43a1be1e76e\", \"x\": [65.0, 65.0, 98.046875, 98.046875], \"xaxis\": \"x\", \"y\": [0.0, 0.6986301369863014, 0.6986301369863014, 0.5737704918032787], \"yaxis\": \"y\"}, {\"hoverinfo\": \"text\", \"marker\": {\"color\": \"rgb(0,116,217)\"}, \"mode\": \"lines\", \"text\": [\"cluster: 7, component: blk_001809_2310_m/z571.4292_RT14.5025\", \"cluster: 7, component: blk_001809_2310_m/z571.4292_RT14.5025\", null, null], \"type\": \"scatter\", \"uid\": \"5694137c-eb80-48e6-8864-7bd0e5b518a4\", \"x\": [55.0, 55.0, 81.5234375, 81.5234375], \"xaxis\": \"x\", \"y\": [0.0, 0.7962962962962963, 0.7962962962962963, 0.6986301369863014], \"yaxis\": \"y\"}, {\"hoverinfo\": \"text\", \"marker\": {\"color\": \"rgb(0,116,217)\"}, \"mode\": \"lines\", \"text\": [\"cluster: 8, component: Cobra 1_001832_8139_m/z338.3414_RT14.1645\", \"cluster: 8, component: Cobra 1_001832_8139_m/z338.3414_RT14.1645\", \"cluster: 9, component: blk_001809_2081_m/z244.1905_RT12.7018\", \"cluster: 9, component: blk_001809_2081_m/z244.1905_RT12.7018\"], \"type\": \"scatter\", \"uid\": \"b2d96cc4-502d-4fb6-9530-6a2c3418f8a0\", \"x\": [225.0, 225.0, 235.0, 235.0], \"xaxis\": \"x\", \"y\": [0.0, 0.6031746031746031, 0.6031746031746031, 0.0], \"yaxis\": \"y\"}, {\"hoverinfo\": \"text\", \"marker\": {\"color\": \"rgb(35,205,205)\"}, \"mode\": \"lines\", \"text\": [\"cluster: 10, component: Chinese Spring 1_001829_6885_m/z353.2690_RT10.0132\", \"cluster: 10, component: Chinese Spring 1_001829_6885_m/z353.2690_RT10.0132\", \"cluster: 10, component: Chinese Spring 1_001829_7180_m/z353.2688_RT10.5802\", \"cluster: 10, component: Chinese Spring 1_001829_7180_m/z353.2688_RT10.5802\"], \"type\": \"scatter\", \"uid\": \"cebc85bc-72b0-4c23-8f2d-8a66b61ee634\", \"x\": [245.0, 245.0, 255.0, 255.0], \"xaxis\": \"x\", \"y\": [0.0, 0.2376237623762376, 0.2376237623762376, 0.0], \"yaxis\": \"y\"}, {\"hoverinfo\": \"text\", \"marker\": {\"color\": \"rgb(35,205,205)\"}, \"mode\": \"lines\", \"text\": [\"cluster: 10, component: Chinese Spring 1_001829_7587_m/z278.2475_RT11.3925\", \"cluster: 10, component: Chinese Spring 1_001829_7587_m/z278.2475_RT11.3925\", \"cluster: 10, component: Chinese Spring 1_001829_7923_m/z279.2315_RT11.9987\", \"cluster: 10, component: Chinese Spring 1_001829_7923_m/z279.2315_RT11.9987\"], \"type\": \"scatter\", \"uid\": \"ee04928b-a08a-4b52-bc17-9ad83a56e298\", \"x\": [265.0, 265.0, 275.0, 275.0], \"xaxis\": \"x\", \"y\": [0.0, 0.43209876543209874, 0.43209876543209874, 0.0], \"yaxis\": \"y\"}, {\"hoverinfo\": \"text\", \"marker\": {\"color\": \"rgb(35,205,205)\"}, \"mode\": \"lines\", \"text\": [null, null, null, null], \"type\": \"scatter\", \"uid\": \"17a7609d-9ea7-4b92-935c-fe79ab6074e2\", \"x\": [250.0, 250.0, 270.0, 270.0], \"xaxis\": \"x\", \"y\": [0.2376237623762376, 0.5229357798165137, 0.5229357798165137, 0.43209876543209874], \"yaxis\": \"y\"}, {\"hoverinfo\": \"text\", \"marker\": {\"color\": \"rgb(133,20,75)\"}, \"mode\": \"lines\", \"text\": [\"cluster: 11, component: Chinese Spring 1_001829_7119_m/z337.2734_RT10.5000\", \"cluster: 11, component: Chinese Spring 1_001829_7119_m/z337.2734_RT10.5000\", \"cluster: 11, component: Chinese Spring 1_001829_8646_m/z337.2733_RT13.6924\", \"cluster: 11, component: Chinese Spring 1_001829_8646_m/z337.2733_RT13.6924\"], \"type\": \"scatter\", \"uid\": \"5f1d3861-0d67-4c59-a80f-763aeb3c9339\", \"x\": [295.0, 295.0, 305.0, 305.0], \"xaxis\": \"x\", \"y\": [0.0, 0.373134328358209, 0.373134328358209, 0.0], \"yaxis\": \"y\"}, {\"hoverinfo\": \"text\", \"marker\": {\"color\": \"rgb(133,20,75)\"}, \"mode\": \"lines\", \"text\": [\"cluster: 11, component: Chinese Spring 1_001829_7499_m/z435.2504_RT11.0802\", \"cluster: 11, component: Chinese Spring 1_001829_7499_m/z435.2504_RT11.0802\", null, null], \"type\": \"scatter\", \"uid\": \"bb42f84e-2868-41a9-ac56-680fff6c590d\", \"x\": [285.0, 285.0, 300.0, 300.0], \"xaxis\": \"x\", \"y\": [0.0, 0.5416666666666666, 0.5416666666666666, 0.373134328358209], \"yaxis\": \"y\"}, {\"hoverinfo\": \"text\", \"marker\": {\"color\": \"rgb(0,116,217)\"}, \"mode\": \"lines\", \"text\": [null, null, null, null], \"type\": \"scatter\", \"uid\": \"a4143e20-bed7-4f6e-ab0f-af0039c4a1c5\", \"x\": [260.0, 260.0, 292.5, 292.5], \"xaxis\": \"x\", \"y\": [0.5229357798165137, 0.6875, 0.6875, 0.5416666666666666], \"yaxis\": \"y\"}, {\"hoverinfo\": \"text\", \"marker\": {\"color\": \"rgb(0,116,217)\"}, \"mode\": \"lines\", \"text\": [null, null, null, null], \"type\": \"scatter\", \"uid\": \"afd6a3cb-05c8-4a94-8bd2-7088c204c6b9\", \"x\": [230.0, 230.0, 276.25, 276.25], \"xaxis\": \"x\", \"y\": [0.6031746031746031, 0.7590361445783133, 0.7590361445783133, 0.6875], \"yaxis\": \"y\"}, {\"hoverinfo\": \"text\", \"marker\": {\"color\": \"rgb(0,116,217)\"}, \"mode\": \"lines\", \"text\": [\"cluster: 12, component: blk_001809_0873_m/z272.2582_RT9.6975\", \"cluster: 12, component: blk_001809_0873_m/z272.2582_RT9.6975\", null, null], \"type\": \"scatter\", \"uid\": \"46f847a4-a865-4b13-8a2d-38699fce8b30\", \"x\": [215.0, 215.0, 253.125, 253.125], \"xaxis\": \"x\", \"y\": [0.0, 0.8243243243243243, 0.8243243243243243, 0.7590361445783133], \"yaxis\": \"y\"}, {\"hoverinfo\": \"text\", \"marker\": {\"color\": \"rgb(0,116,217)\"}, \"mode\": \"lines\", \"text\": [null, null, null, null], \"type\": \"scatter\", \"uid\": \"e8a18d73-f9ed-47f3-b94a-10b601bb8f52\", \"x\": [68.26171875, 68.26171875, 234.0625, 234.0625], \"xaxis\": \"x\", \"y\": [0.7962962962962963, 0.87, 0.87, 0.8243243243243243], \"yaxis\": \"y\"}, {\"hoverinfo\": \"text\", \"marker\": {\"color\": \"rgb(0,116,217)\"}, \"mode\": \"lines\", \"text\": [null, null, null, null], \"type\": \"scatter\", \"uid\": \"123e33ab-afdb-4836-a362-038f405b7470\", \"x\": [26.25, 26.25, 151.162109375, 151.162109375], \"xaxis\": \"x\", \"y\": [0.7763157894736842, 0.9130434782608695, 0.9130434782608695, 0.87], \"yaxis\": \"y\"}, {\"hoverinfo\": \"text\", \"marker\": {\"color\": \"rgb(0,116,217)\"}, \"mode\": \"lines\", \"text\": [\"cluster: 13, component: Chinese Spring 1_001829_7776_m/z601.4244_RT11.7714\", \"cluster: 13, component: Chinese Spring 1_001829_7776_m/z601.4244_RT11.7714\", \"cluster: 14, component: Chinese Spring 1_001829_8582_m/z599.4089_RT13.2111\", \"cluster: 14, component: Chinese Spring 1_001829_8582_m/z599.4089_RT13.2111\"], \"type\": \"scatter\", \"uid\": \"a57ad2b5-fdb3-427e-806f-53da9788d79c\", \"x\": [345.0, 345.0, 355.0, 355.0], \"xaxis\": \"x\", \"y\": [0.0, 0.63, 0.63, 0.0], \"yaxis\": \"y\"}, {\"hoverinfo\": \"text\", \"marker\": {\"color\": \"rgb(0,116,217)\"}, \"mode\": \"lines\", \"text\": [\"cluster: 15, component: Chinese Spring 1_001829_7448_m/z599.4093_RT11.0178\", \"cluster: 15, component: Chinese Spring 1_001829_7448_m/z599.4093_RT11.0178\", null, null], \"type\": \"scatter\", \"uid\": \"45aca72f-7e1f-4855-a65b-4453e2a68104\", \"x\": [335.0, 335.0, 350.0, 350.0], \"xaxis\": \"x\", \"y\": [0.0, 0.6710526315789473, 0.6710526315789473, 0.63], \"yaxis\": \"y\"}, {\"hoverinfo\": \"text\", \"marker\": {\"color\": \"rgb(0,116,217)\"}, \"mode\": \"lines\", \"text\": [\"cluster: 16, component: Chinese Spring 1_001829_8106_m/z583.4143_RT12.1770\", \"cluster: 16, component: Chinese Spring 1_001829_8106_m/z583.4143_RT12.1770\", null, null], \"type\": \"scatter\", \"uid\": \"28e2a286-c22d-414c-8446-940912ec363c\", \"x\": [325.0, 325.0, 342.5, 342.5], \"xaxis\": \"x\", \"y\": [0.0, 0.7578947368421053, 0.7578947368421053, 0.6710526315789473], \"yaxis\": \"y\"}, {\"hoverinfo\": \"text\", \"marker\": {\"color\": \"rgb(0,116,217)\"}, \"mode\": \"lines\", \"text\": [\"cluster: 17, component: Chinese Spring 1_001829_7690_m/z618.4271_RT11.6644\", \"cluster: 17, component: Chinese Spring 1_001829_7690_m/z618.4271_RT11.6644\", null, null], \"type\": \"scatter\", \"uid\": \"06c122b3-a7d7-4489-8ab8-7bf44e47f7b2\", \"x\": [315.0, 315.0, 333.75, 333.75], \"xaxis\": \"x\", \"y\": [0.0, 0.8, 0.8, 0.7578947368421053], \"yaxis\": \"y\"}, {\"hoverinfo\": \"text\", \"marker\": {\"color\": \"rgb(255,220,0)\"}, \"mode\": \"lines\", \"text\": [\"cluster: 18, component: Chinese Spring 1_001829_7361_m/z618.4278_RT10.7852\", \"cluster: 18, component: Chinese Spring 1_001829_7361_m/z618.4278_RT10.7852\", \"cluster: 18, component: Chinese Spring 1_001829_7576_m/z618.4271_RT11.3791\", \"cluster: 18, component: Chinese Spring 1_001829_7576_m/z618.4271_RT11.3791\"], \"type\": \"scatter\", \"uid\": \"cd198312-19d3-47f8-9269-dcfda9c8084a\", \"x\": [365.0, 365.0, 375.0, 375.0], \"xaxis\": \"x\", \"y\": [0.0, 0.4732510288065844, 0.4732510288065844, 0.0], \"yaxis\": \"y\"}, {\"hoverinfo\": \"text\", \"marker\": {\"color\": \"rgb(40,35,35)\"}, \"mode\": \"lines\", \"text\": [\"cluster: 19, component: Chinese Spring 1_001829_7574_m/z583.4141_RT11.3791\", \"cluster: 19, component: Chinese Spring 1_001829_7574_m/z583.4141_RT11.3791\", \"cluster: 19, component: Chinese Spring 1_001829_7780_m/z583.4141_RT11.7758\", \"cluster: 19, component: Chinese Spring 1_001829_7780_m/z583.4141_RT11.7758\"], \"type\": \"scatter\", \"uid\": \"f288c348-fc68-4785-be5b-d432582fc1b4\", \"x\": [405.0, 405.0, 415.0, 415.0], \"xaxis\": \"x\", \"y\": [0.0, 0.5280898876404494, 0.5280898876404494, 0.0], \"yaxis\": \"y\"}, {\"hoverinfo\": \"text\", \"marker\": {\"color\": \"rgb(0,116,217)\"}, \"mode\": \"lines\", \"text\": [\"cluster: 20, component: Chinese Spring 1_001829_7954_m/z565.4037_RT12.0210\", \"cluster: 20, component: Chinese Spring 1_001829_7954_m/z565.4037_RT12.0210\", null, null], \"type\": \"scatter\", \"uid\": \"b685c207-1204-430f-941e-2c1fc7078f51\", \"x\": [395.0, 395.0, 410.0, 410.0], \"xaxis\": \"x\", \"y\": [0.0, 0.6049382716049383, 0.6049382716049383, 0.5280898876404494], \"yaxis\": \"y\"}, {\"hoverinfo\": \"text\", \"marker\": {\"color\": \"rgb(61,153,112)\"}, \"mode\": \"lines\", \"text\": [\"cluster: 21, component: Chinese Spring 1_001829_7357_m/z583.4143_RT10.7852\", \"cluster: 21, component: Chinese Spring 1_001829_7357_m/z583.4143_RT10.7852\", \"cluster: 21, component: Chinese Spring 1_001829_8191_m/z583.4143_RT12.2617\", \"cluster: 21, component: Chinese Spring 1_001829_8191_m/z583.4143_RT12.2617\"], \"type\": \"scatter\", \"uid\": \"dbf82a66-8337-4372-ae0b-603616ecebba\", \"x\": [435.0, 435.0, 445.0, 445.0], \"xaxis\": \"x\", \"y\": [0.0, 0.5285714285714286, 0.5285714285714286, 0.0], \"yaxis\": \"y\"}, {\"hoverinfo\": \"text\", \"marker\": {\"color\": \"rgb(0,116,217)\"}, \"mode\": \"lines\", \"text\": [\"cluster: 22, component: Chinese Spring 1_001829_8525_m/z601.4234_RT13.0595\", \"cluster: 22, component: Chinese Spring 1_001829_8525_m/z601.4234_RT13.0595\", null, null], \"type\": \"scatter\", \"uid\": \"f593c455-1b92-4d2b-83dd-d0bcadeb8b64\", \"x\": [425.0, 425.0, 440.0, 440.0], \"xaxis\": \"x\", \"y\": [0.0, 0.6966292134831461, 0.6966292134831461, 0.5285714285714286], \"yaxis\": \"y\"}, {\"hoverinfo\": \"text\", \"marker\": {\"color\": \"rgb(0,116,217)\"}, \"mode\": \"lines\", \"text\": [null, null, null, null], \"type\": \"scatter\", \"uid\": \"890ee0c1-5e2e-4176-9b90-1d2c0dd7529e\", \"x\": [402.5, 402.5, 432.5, 432.5], \"xaxis\": \"x\", \"y\": [0.6049382716049383, 0.734375, 0.734375, 0.6966292134831461], \"yaxis\": \"y\"}, {\"hoverinfo\": \"text\", \"marker\": {\"color\": \"rgb(0,116,217)\"}, \"mode\": \"lines\", \"text\": [\"cluster: 23, component: Chinese Spring 1_001829_8729_m/z568.4263_RT13.9732\", \"cluster: 23, component: Chinese Spring 1_001829_8729_m/z568.4263_RT13.9732\", null, null], \"type\": \"scatter\", \"uid\": \"637ee36e-7f46-4d26-8a5e-19798dd88159\", \"x\": [385.0, 385.0, 417.5, 417.5], \"xaxis\": \"x\", \"y\": [0.0, 0.7642276422764228, 0.7642276422764228, 0.734375], \"yaxis\": \"y\"}, {\"hoverinfo\": \"text\", \"marker\": {\"color\": \"rgb(0,116,217)\"}, \"mode\": \"lines\", \"text\": [null, null, null, null], \"type\": \"scatter\", \"uid\": \"985cd06e-0e88-4239-8a4e-70784f375d38\", \"x\": [370.0, 370.0, 401.25, 401.25], \"xaxis\": \"x\", \"y\": [0.4732510288065844, 0.8205128205128205, 0.8205128205128205, 0.7642276422764228], \"yaxis\": \"y\"}, {\"hoverinfo\": \"text\", \"marker\": {\"color\": \"rgb(0,116,217)\"}, \"mode\": \"lines\", \"text\": [null, null, null, null], \"type\": \"scatter\", \"uid\": \"a9cda29f-4c64-460c-83dc-6073a8d92f78\", \"x\": [324.375, 324.375, 385.625, 385.625], \"xaxis\": \"x\", \"y\": [0.8, 0.94, 0.94, 0.8205128205128205], \"yaxis\": \"y\"}, {\"hoverinfo\": \"text\", \"marker\": {\"color\": \"rgb(0,116,217)\"}, \"mode\": \"lines\", \"text\": [null, null, null, null], \"type\": \"scatter\", \"uid\": \"dc1eaf02-e6ba-4a30-904e-293a89837252\", \"x\": [88.7060546875, 88.7060546875, 355.0, 355.0], \"xaxis\": \"x\", \"y\": [0.9130434782608695, 0.9625, 0.9625, 0.94], \"yaxis\": \"y\"}, {\"hoverinfo\": \"text\", \"marker\": {\"color\": \"rgb(255,65,54)\"}, \"mode\": \"lines\", \"text\": [\"cluster: 24, component: Chinese Spring 1_001829_0928_m/z269.1605_RT1.0029\", \"cluster: 24, component: Chinese Spring 1_001829_0928_m/z269.1605_RT1.0029\", \"cluster: 24, component: Chinese Spring 1_001829_0989_m/z268.1037_RT1.0386\", \"cluster: 24, component: Chinese Spring 1_001829_0989_m/z268.1037_RT1.0386\"], \"type\": \"scatter\", \"uid\": \"da1d2c28-fdf6-4b44-8caa-ba5b44dda14d\", \"x\": [455.0, 455.0, 465.0, 465.0], \"xaxis\": \"x\", \"y\": [0.0, 0.42424242424242425, 0.42424242424242425, 0.0], \"yaxis\": \"y\"}, {\"hoverinfo\": \"text\", \"marker\": {\"color\": \"rgb(35,205,205)\"}, \"mode\": \"lines\", \"text\": [\"cluster: 25, component: blk_001809_1552_m/z364.3418_RT11.7523\", \"cluster: 25, component: blk_001809_1552_m/z364.3418_RT11.7523\", \"cluster: 25, component: blk_001809_1616_m/z364.3418_RT11.8147\", \"cluster: 25, component: blk_001809_1616_m/z364.3418_RT11.8147\"], \"type\": \"scatter\", \"uid\": \"caaa2d84-786a-41cc-b046-01bc12718651\", \"x\": [475.0, 475.0, 485.0, 485.0], \"xaxis\": \"x\", \"y\": [0.0, 0.0, 0.0, 0.0], \"yaxis\": \"y\"}, {\"hoverinfo\": \"text\", \"marker\": {\"color\": \"rgb(133,20,75)\"}, \"mode\": \"lines\", \"text\": [\"cluster: 26, component: blk_001809_1516_m/z408.3681_RT11.7389\", \"cluster: 26, component: blk_001809_1516_m/z408.3681_RT11.7389\", \"cluster: 26, component: blk_001809_1750_m/z466.4099_RT12.1446\", \"cluster: 26, component: blk_001809_1750_m/z466.4099_RT12.1446\"], \"type\": \"scatter\", \"uid\": \"930c3f7e-273c-4f0a-98a5-d0f2e439d002\", \"x\": [495.0, 495.0, 505.0, 505.0], \"xaxis\": \"x\", \"y\": [0.0, 0.5882352941176471, 0.5882352941176471, 0.0], \"yaxis\": \"y\"}, {\"hoverinfo\": \"text\", \"marker\": {\"color\": \"rgb(0,116,217)\"}, \"mode\": \"lines\", \"text\": [null, null, null, null], \"type\": \"scatter\", \"uid\": \"24dde207-e9c9-42c8-8cda-55335bf31913\", \"x\": [480.0, 480.0, 500.0, 500.0], \"xaxis\": \"x\", \"y\": [0.0, 0.6875, 0.6875, 0.5882352941176471], \"yaxis\": \"y\"}, {\"hoverinfo\": \"text\", \"marker\": {\"color\": \"rgb(255,220,0)\"}, \"mode\": \"lines\", \"text\": [\"cluster: 27, component: blk_001809_1999_m/z364.3424_RT12.5502\", \"cluster: 27, component: blk_001809_1999_m/z364.3424_RT12.5502\", \"cluster: 27, component: blk_001809_2060_m/z364.3424_RT12.6438\", \"cluster: 27, component: blk_001809_2060_m/z364.3424_RT12.6438\"], \"type\": \"scatter\", \"uid\": \"0558d487-2dfb-4592-b2c0-c6923cdfee25\", \"x\": [535.0, 535.0, 545.0, 545.0], \"xaxis\": \"x\", \"y\": [0.0, 0.36363636363636365, 0.36363636363636365, 0.0], \"yaxis\": \"y\"}, {\"hoverinfo\": \"text\", \"marker\": {\"color\": \"rgb(40,35,35)\"}, \"mode\": \"lines\", \"text\": [\"cluster: 28, component: blk_001809_1642_m/z424.3632_RT11.9261\", \"cluster: 28, component: blk_001809_1642_m/z424.3632_RT11.9261\", \"cluster: 28, component: blk_001809_1747_m/z421.3521_RT12.1446\", \"cluster: 28, component: blk_001809_1747_m/z421.3521_RT12.1446\"], \"type\": \"scatter\", \"uid\": \"9bd1c57c-6470-4f96-9301-615ad8f010e1\", \"x\": [555.0, 555.0, 565.0, 565.0], \"xaxis\": \"x\", \"y\": [0.0, 0.3888888888888889, 0.3888888888888889, 0.0], \"yaxis\": \"y\"}, {\"hoverinfo\": \"text\", \"marker\": {\"color\": \"rgb(0,116,217)\"}, \"mode\": \"lines\", \"text\": [null, null, null, null], \"type\": \"scatter\", \"uid\": \"022bcc8b-bd7c-4bb3-9416-a469cb199707\", \"x\": [540.0, 540.0, 560.0, 560.0], \"xaxis\": \"x\", \"y\": [0.36363636363636365, 0.6111111111111112, 0.6111111111111112, 0.3888888888888889], \"yaxis\": \"y\"}, {\"hoverinfo\": \"text\", \"marker\": {\"color\": \"rgb(0,116,217)\"}, \"mode\": \"lines\", \"text\": [\"cluster: 29, component: blk_001809_1903_m/z482.4048_RT12.3318\", \"cluster: 29, component: blk_001809_1903_m/z482.4048_RT12.3318\", null, null], \"type\": \"scatter\", \"uid\": \"6d0fc42e-abc7-4864-b4eb-89b3c7d695cd\", \"x\": [525.0, 525.0, 550.0, 550.0], \"xaxis\": \"x\", \"y\": [0.0, 0.7037037037037037, 0.7037037037037037, 0.6111111111111112], \"yaxis\": \"y\"}, {\"hoverinfo\": \"text\", \"marker\": {\"color\": \"rgb(0,116,217)\"}, \"mode\": \"lines\", \"text\": [\"cluster: 30, component: blk_001809_1657_m/z408.3681_RT11.9395\", \"cluster: 30, component: blk_001809_1657_m/z408.3681_RT11.9395\", null, null], \"type\": \"scatter\", \"uid\": \"34574f60-4108-4e9d-bb16-ed3c08f6ed4d\", \"x\": [515.0, 515.0, 537.5, 537.5], \"xaxis\": \"x\", \"y\": [0.0, 0.7307692307692307, 0.7307692307692307, 0.7037037037037037], \"yaxis\": \"y\"}, {\"hoverinfo\": \"text\", \"marker\": {\"color\": \"rgb(0,116,217)\"}, \"mode\": \"lines\", \"text\": [null, null, null, null], \"type\": \"scatter\", \"uid\": \"05a8dc32-c6dc-4908-afce-e882501004da\", \"x\": [490.0, 490.0, 526.25, 526.25], \"xaxis\": \"x\", \"y\": [0.6875, 0.8387096774193549, 0.8387096774193549, 0.7307692307692307], \"yaxis\": \"y\"}, {\"hoverinfo\": \"text\", \"marker\": {\"color\": \"rgb(0,116,217)\"}, \"mode\": \"lines\", \"text\": [null, null, null, null], \"type\": \"scatter\", \"uid\": \"12325f6a-dcc5-4d43-84fe-fd1712a825bd\", \"x\": [460.0, 460.0, 508.125, 508.125], \"xaxis\": \"x\", \"y\": [0.42424242424242425, 0.9814814814814815, 0.9814814814814815, 0.8387096774193549], \"yaxis\": \"y\"}, {\"hoverinfo\": \"text\", \"marker\": {\"color\": \"rgb(61,153,112)\"}, \"mode\": \"lines\", \"text\": [\"cluster: 31, component: Chinese Spring 1_001829_6626_m/z320.2946_RT9.3934\", \"cluster: 31, component: Chinese Spring 1_001829_6626_m/z320.2946_RT9.3934\", \"cluster: 31, component: Chinese Spring 1_001829_6684_m/z320.2946_RT9.6341\", \"cluster: 31, component: Chinese Spring 1_001829_6684_m/z320.2946_RT9.6341\"], \"type\": \"scatter\", \"uid\": \"20be233c-7ea7-4f71-ad9f-18edca820da4\", \"x\": [595.0, 595.0, 605.0, 605.0], \"xaxis\": \"x\", \"y\": [0.0, 0.36, 0.36, 0.0], \"yaxis\": \"y\"}, {\"hoverinfo\": \"text\", \"marker\": {\"color\": \"rgb(0,116,217)\"}, \"mode\": \"lines\", \"text\": [\"cluster: 32, component: Chinese Spring 1_001829_7338_m/z338.2607_RT10.7228\", \"cluster: 32, component: Chinese Spring 1_001829_7338_m/z338.2607_RT10.7228\", null, null], \"type\": \"scatter\", \"uid\": \"8b725bcd-1a7a-41e8-88ee-ed787acb0148\", \"x\": [585.0, 585.0, 600.0, 600.0], \"xaxis\": \"x\", \"y\": [0.0, 0.6153846153846154, 0.6153846153846154, 0.36], \"yaxis\": \"y\"}, {\"hoverinfo\": \"text\", \"marker\": {\"color\": \"rgb(0,116,217)\"}, \"mode\": \"lines\", \"text\": [\"cluster: 33, component: Chinese Spring 1_001829_7380_m/z483.2713_RT10.8387\", \"cluster: 33, component: Chinese Spring 1_001829_7380_m/z483.2713_RT10.8387\", null, null], \"type\": \"scatter\", \"uid\": \"2f4e59db-74b4-453c-8ca6-9ffb342eb9ec\", \"x\": [575.0, 575.0, 592.5, 592.5], \"xaxis\": \"x\", \"y\": [0.0, 0.8636363636363636, 0.8636363636363636, 0.6153846153846154], \"yaxis\": \"y\"}, {\"hoverinfo\": \"text\", \"marker\": {\"color\": \"rgb(0,116,217)\"}, \"mode\": \"lines\", \"text\": [\"cluster: 34, component: Chinese Spring 1_001829_4681_m/z129.1273_RT5.8086\", \"cluster: 34, component: Chinese Spring 1_001829_4681_m/z129.1273_RT5.8086\", \"cluster: 35, component: Chinese Spring 1_001829_5571_m/z171.1490_RT6.9999\", \"cluster: 35, component: Chinese Spring 1_001829_5571_m/z171.1490_RT6.9999\"], \"type\": \"scatter\", \"uid\": \"203e074a-b016-44a5-872a-668e7135bae8\", \"x\": [615.0, 615.0, 625.0, 625.0], \"xaxis\": \"x\", \"y\": [0.0, 0.8666666666666667, 0.8666666666666667, 0.0], \"yaxis\": \"y\"}, {\"hoverinfo\": \"text\", \"marker\": {\"color\": \"rgb(0,116,217)\"}, \"mode\": \"lines\", \"text\": [null, null, null, null], \"type\": \"scatter\", \"uid\": \"3e973497-33f8-43b0-b055-4b6f06428e5f\", \"x\": [583.75, 583.75, 620.0, 620.0], \"xaxis\": \"x\", \"y\": [0.8636363636363636, 0.9032258064516129, 0.9032258064516129, 0.8666666666666667], \"yaxis\": \"y\"}, {\"hoverinfo\": \"text\", \"marker\": {\"color\": \"rgb(255,65,54)\"}, \"mode\": \"lines\", \"text\": [\"cluster: 36, component: Chinese Spring 3_001858_5649_m/z201.1636_RT7.2384\", \"cluster: 36, component: Chinese Spring 3_001858_5649_m/z201.1636_RT7.2384\", \"cluster: 36, component: Cobra 1_001832_5681_m/z201.1636_RT7.3651\", \"cluster: 36, component: Cobra 1_001832_5681_m/z201.1636_RT7.3651\"], \"type\": \"scatter\", \"uid\": \"c5a76103-f3e8-4662-aeae-bec93483ba39\", \"x\": [635.0, 635.0, 645.0, 645.0], \"xaxis\": \"x\", \"y\": [0.0, 0.48333333333333334, 0.48333333333333334, 0.0], \"yaxis\": \"y\"}, {\"hoverinfo\": \"text\", \"marker\": {\"color\": \"rgb(35,205,205)\"}, \"mode\": \"lines\", \"text\": [\"cluster: 37, component: Chinese Spring 1_001829_3874_m/z209.1534_RT5.1891\", \"cluster: 37, component: Chinese Spring 1_001829_3874_m/z209.1534_RT5.1891\", \"cluster: 37, component: Chinese Spring 1_001829_3976_m/z209.1534_RT5.2738\", \"cluster: 37, component: Chinese Spring 1_001829_3976_m/z209.1534_RT5.2738\"], \"type\": \"scatter\", \"uid\": \"3ffa83ea-7eb2-40a4-b558-e7934f039fbb\", \"x\": [675.0, 675.0, 685.0, 685.0], \"xaxis\": \"x\", \"y\": [0.0, 0.2916666666666667, 0.2916666666666667, 0.0], \"yaxis\": \"y\"}, {\"hoverinfo\": \"text\", \"marker\": {\"color\": \"rgb(35,205,205)\"}, \"mode\": \"lines\", \"text\": [\"cluster: 37, component: Chinese Spring 1_001829_3534_m/z209.1534_RT4.9214\", \"cluster: 37, component: Chinese Spring 1_001829_3534_m/z209.1534_RT4.9214\", null, null], \"type\": \"scatter\", \"uid\": \"0926a0dc-04bf-4d59-966d-97508e9af323\", \"x\": [665.0, 665.0, 680.0, 680.0], \"xaxis\": \"x\", \"y\": [0.0, 0.3835616438356164, 0.3835616438356164, 0.2916666666666667], \"yaxis\": \"y\"}, {\"hoverinfo\": \"text\", \"marker\": {\"color\": \"rgb(35,205,205)\"}, \"mode\": \"lines\", \"text\": [\"cluster: 37, component: Chinese Spring 1_001829_6034_m/z209.1534_RT7.9760\", \"cluster: 37, component: Chinese Spring 1_001829_6034_m/z209.1534_RT7.9760\", null, null], \"type\": \"scatter\", \"uid\": \"9d3ea01a-8681-410e-975e-26f97b1d47d1\", \"x\": [655.0, 655.0, 672.5, 672.5], \"xaxis\": \"x\", \"y\": [0.0, 0.4473684210526316, 0.4473684210526316, 0.3835616438356164], \"yaxis\": \"y\"}, {\"hoverinfo\": \"text\", \"marker\": {\"color\": \"rgb(133,20,75)\"}, \"mode\": \"lines\", \"text\": [\"cluster: 38, component: Chinese Spring 1_001829_6121_m/z281.1745_RT8.1944\", \"cluster: 38, component: Chinese Spring 1_001829_6121_m/z281.1745_RT8.1944\", \"cluster: 38, component: blk_001809_0513_m/z243.1589_RT8.8417\", \"cluster: 38, component: blk_001809_0513_m/z243.1589_RT8.8417\"], \"type\": \"scatter\", \"uid\": \"374c0b93-3340-4af7-bf41-e582832b3d79\", \"x\": [695.0, 695.0, 705.0, 705.0], \"xaxis\": \"x\", \"y\": [0.0, 0.359375, 0.359375, 0.0], \"yaxis\": \"y\"}, {\"hoverinfo\": \"text\", \"marker\": {\"color\": \"rgb(255,220,0)\"}, \"mode\": \"lines\", \"text\": [\"cluster: 38, component: Chinese Spring 1_001829_4627_m/z227.1640_RT5.7507\", \"cluster: 38, component: Chinese Spring 1_001829_4627_m/z227.1640_RT5.7507\", \"cluster: 38, component: blk_001809_0743_m/z283.1902_RT9.4033\", \"cluster: 38, component: blk_001809_0743_m/z283.1902_RT9.4033\"], \"type\": \"scatter\", \"uid\": \"0c39dff8-f6dd-4d42-9811-272aa1f24860\", \"x\": [725.0, 725.0, 735.0, 735.0], \"xaxis\": \"x\", \"y\": [0.0, 0.47191011235955055, 0.47191011235955055, 0.0], \"yaxis\": \"y\"}, {\"hoverinfo\": \"text\", \"marker\": {\"color\": \"rgb(255,220,0)\"}, \"mode\": \"lines\", \"text\": [\"cluster: 38, component: Chinese Spring 1_001829_6701_m/z293.2106_RT9.6921\", \"cluster: 38, component: Chinese Spring 1_001829_6701_m/z293.2106_RT9.6921\", null, null], \"type\": \"scatter\", \"uid\": \"61803139-3742-4e30-830c-61267cbed5ad\", \"x\": [715.0, 715.0, 730.0, 730.0], \"xaxis\": \"x\", \"y\": [0.0, 0.5454545454545454, 0.5454545454545454, 0.47191011235955055], \"yaxis\": \"y\"}, {\"hoverinfo\": \"text\", \"marker\": {\"color\": \"rgb(0,116,217)\"}, \"mode\": \"lines\", \"text\": [null, null, null, null], \"type\": \"scatter\", \"uid\": \"b3c478e4-7097-40c8-96c6-306d1d46df10\", \"x\": [700.0, 700.0, 722.5, 722.5], \"xaxis\": \"x\", \"y\": [0.359375, 0.6, 0.6, 0.5454545454545454], \"yaxis\": \"y\"}, {\"hoverinfo\": \"text\", \"marker\": {\"color\": \"rgb(0,116,217)\"}, \"mode\": \"lines\", \"text\": [null, null, null, null], \"type\": \"scatter\", \"uid\": \"896ad0d3-56bc-4d15-b6ec-1085201941c6\", \"x\": [663.75, 663.75, 711.25, 711.25], \"xaxis\": \"x\", \"y\": [0.4473684210526316, 0.6494845360824743, 0.6494845360824743, 0.6], \"yaxis\": \"y\"}, {\"hoverinfo\": \"text\", \"marker\": {\"color\": \"rgb(40,35,35)\"}, \"mode\": \"lines\", \"text\": [\"cluster: 39, component: Chinese Spring 1_001829_3487_m/z227.1275_RT4.8769\", \"cluster: 39, component: Chinese Spring 1_001829_3487_m/z227.1275_RT4.8769\", \"cluster: 39, component: Chinese Spring 1_001829_3537_m/z227.1276_RT4.9214\", \"cluster: 39, component: Chinese Spring 1_001829_3537_m/z227.1276_RT4.9214\"], \"type\": \"scatter\", \"uid\": \"fcfff336-69bd-4ce6-a0bd-5c40ad2b7150\", \"x\": [755.0, 755.0, 765.0, 765.0], \"xaxis\": \"x\", \"y\": [0.0, 0.3382352941176471, 0.3382352941176471, 0.0], \"yaxis\": \"y\"}, {\"hoverinfo\": \"text\", \"marker\": {\"color\": \"rgb(0,116,217)\"}, \"mode\": \"lines\", \"text\": [\"cluster: 40, component: Chinese Spring 1_001829_3576_m/z207.1378_RT4.9437\", \"cluster: 40, component: Chinese Spring 1_001829_3576_m/z207.1378_RT4.9437\", null, null], \"type\": \"scatter\", \"uid\": \"754a3559-53f7-47fd-b97d-4fa4f157771e\", \"x\": [745.0, 745.0, 760.0, 760.0], \"xaxis\": \"x\", \"y\": [0.0, 0.6710526315789473, 0.6710526315789473, 0.3382352941176471], \"yaxis\": \"y\"}, {\"hoverinfo\": \"text\", \"marker\": {\"color\": \"rgb(0,116,217)\"}, \"mode\": \"lines\", \"text\": [null, null, null, null], \"type\": \"scatter\", \"uid\": \"8376281f-ba83-4175-8167-6a0e177b75c7\", \"x\": [687.5, 687.5, 752.5, 752.5], \"xaxis\": \"x\", \"y\": [0.6494845360824743, 0.7058823529411765, 0.7058823529411765, 0.6710526315789473], \"yaxis\": \"y\"}, {\"hoverinfo\": \"text\", \"marker\": {\"color\": \"rgb(61,153,112)\"}, \"mode\": \"lines\", \"text\": [\"cluster: 41, component: Chinese Spring 1_001829_8442_m/z181.1221_RT12.7876\", \"cluster: 41, component: Chinese Spring 1_001829_8442_m/z181.1221_RT12.7876\", \"cluster: 41, component: Chinese Spring 2_001850_7898_m/z181.1221_RT13.1904\", \"cluster: 41, component: Chinese Spring 2_001850_7898_m/z181.1221_RT13.1904\"], \"type\": \"scatter\", \"uid\": \"e5638708-6f96-4602-8243-768a714db506\", \"x\": [775.0, 775.0, 785.0, 785.0], \"xaxis\": \"x\", \"y\": [0.0, 0.2857142857142857, 0.2857142857142857, 0.0], \"yaxis\": \"y\"}, {\"hoverinfo\": \"text\", \"marker\": {\"color\": \"rgb(255,65,54)\"}, \"mode\": \"lines\", \"text\": [\"cluster: 42, component: Chinese Spring 1_001829_5697_m/z211.1691_RT7.3342\", \"cluster: 42, component: Chinese Spring 1_001829_5697_m/z211.1691_RT7.3342\", \"cluster: 42, component: Chinese Spring 1_001829_5778_m/z211.1691_RT7.5080\", \"cluster: 42, component: Chinese Spring 1_001829_5778_m/z211.1691_RT7.5080\"], \"type\": \"scatter\", \"uid\": \"8f71d2a6-5e54-41a8-8cb1-338816cb5510\", \"x\": [815.0, 815.0, 825.0, 825.0], \"xaxis\": \"x\", \"y\": [0.0, 0.19230769230769232, 0.19230769230769232, 0.0], \"yaxis\": \"y\"}, {\"hoverinfo\": \"text\", \"marker\": {\"color\": \"rgb(255,65,54)\"}, \"mode\": \"lines\", \"text\": [\"cluster: 42, component: Chinese Spring 1_001829_5452_m/z209.0807_RT6.7499\", \"cluster: 42, component: Chinese Spring 1_001829_5452_m/z209.0807_RT6.7499\", null, null], \"type\": \"scatter\", \"uid\": \"97b542ff-5ffb-4e84-aaf6-a738a898bc04\", \"x\": [805.0, 805.0, 820.0, 820.0], \"xaxis\": \"x\", \"y\": [0.0, 0.21153846153846154, 0.21153846153846154, 0.19230769230769232], \"yaxis\": \"y\"}, {\"hoverinfo\": \"text\", \"marker\": {\"color\": \"rgb(255,65,54)\"}, \"mode\": \"lines\", \"text\": [\"cluster: 42, component: Chinese Spring 1_001829_5465_m/z211.1690_RT6.7722\", \"cluster: 42, component: Chinese Spring 1_001829_5465_m/z211.1690_RT6.7722\", null, null], \"type\": \"scatter\", \"uid\": \"1e1ef57d-c797-4f40-a5ff-2e49e6fd6b7e\", \"x\": [795.0, 795.0, 812.5, 812.5], \"xaxis\": \"x\", \"y\": [0.0, 0.3, 0.3, 0.21153846153846154], \"yaxis\": \"y\"}, {\"hoverinfo\": \"text\", \"marker\": {\"color\": \"rgb(255,65,54)\"}, \"mode\": \"lines\", \"text\": [\"cluster: 42, component: Chinese Spring 1_001829_6053_m/z215.1640_RT8.0384\", \"cluster: 42, component: Chinese Spring 1_001829_6053_m/z215.1640_RT8.0384\", \"cluster: 42, component: blk_001809_0654_m/z215.1640_RT9.1582\", \"cluster: 42, component: blk_001809_0654_m/z215.1640_RT9.1582\"], \"type\": \"scatter\", \"uid\": \"cc23878b-3f51-4232-81bf-254e145b6f9c\", \"x\": [835.0, 835.0, 845.0, 845.0], \"xaxis\": \"x\", \"y\": [0.0, 0.48717948717948717, 0.48717948717948717, 0.0], \"yaxis\": \"y\"}, {\"hoverinfo\": \"text\", \"marker\": {\"color\": \"rgb(255,65,54)\"}, \"mode\": \"lines\", \"text\": [null, null, null, null], \"type\": \"scatter\", \"uid\": \"ce1a7c2a-1a09-4406-ba92-2647bc3dee90\", \"x\": [803.75, 803.75, 840.0, 840.0], \"xaxis\": \"x\", \"y\": [0.3, 0.5818181818181818, 0.5818181818181818, 0.48717948717948717], \"yaxis\": \"y\"}, {\"hoverinfo\": \"text\", \"marker\": {\"color\": \"rgb(0,116,217)\"}, \"mode\": \"lines\", \"text\": [null, null, null, null], \"type\": \"scatter\", \"uid\": \"1c04e1bd-c660-4aec-928a-4ac9e311397f\", \"x\": [780.0, 780.0, 821.875, 821.875], \"xaxis\": \"x\", \"y\": [0.2857142857142857, 0.7446808510638298, 0.7446808510638298, 0.5818181818181818], \"yaxis\": \"y\"}, {\"hoverinfo\": \"text\", \"marker\": {\"color\": \"rgb(0,116,217)\"}, \"mode\": \"lines\", \"text\": [null, null, null, null], \"type\": \"scatter\", \"uid\": \"d81b12b9-812f-46f2-9bf2-3732144dd666\", \"x\": [720.0, 720.0, 800.9375, 800.9375], \"xaxis\": \"x\", \"y\": [0.7058823529411765, 0.7631578947368421, 0.7631578947368421, 0.7446808510638298], \"yaxis\": \"y\"}, {\"hoverinfo\": \"text\", \"marker\": {\"color\": \"rgb(35,205,205)\"}, \"mode\": \"lines\", \"text\": [\"cluster: 43, component: Chinese Spring 2_001850_6060_m/z219.1741_RT8.6023\", \"cluster: 43, component: Chinese Spring 2_001850_6060_m/z219.1741_RT8.6023\", \"cluster: 43, component: Chinese Spring 2_001850_6092_m/z219.1742_RT8.6424\", \"cluster: 43, component: Chinese Spring 2_001850_6092_m/z219.1742_RT8.6424\"], \"type\": \"scatter\", \"uid\": \"62c970b8-bc37-43a2-b704-302084e89b53\", \"x\": [865.0, 865.0, 875.0, 875.0], \"xaxis\": \"x\", \"y\": [0.0, 0.25, 0.25, 0.0], \"yaxis\": \"y\"}, {\"hoverinfo\": \"text\", \"marker\": {\"color\": \"rgb(35,205,205)\"}, \"mode\": \"lines\", \"text\": [\"cluster: 43, component: Chinese Spring 1_001829_5806_m/z219.1741_RT7.5303\", \"cluster: 43, component: Chinese Spring 1_001829_5806_m/z219.1741_RT7.5303\", \"cluster: 43, component: Cobra 1_001832_5682_m/z219.1741_RT7.3651\", \"cluster: 43, component: Cobra 1_001832_5682_m/z219.1741_RT7.3651\"], \"type\": \"scatter\", \"uid\": \"35d51c40-c931-437c-a52e-62b8e6dd72f1\", \"x\": [895.0, 895.0, 905.0, 905.0], \"xaxis\": \"x\", \"y\": [0.0, 0.3125, 0.3125, 0.0], \"yaxis\": \"y\"}, {\"hoverinfo\": \"text\", \"marker\": {\"color\": \"rgb(35,205,205)\"}, \"mode\": \"lines\", \"text\": [\"cluster: 43, component: Chinese Spring 1_001829_6166_m/z219.1741_RT8.3371\", \"cluster: 43, component: Chinese Spring 1_001829_6166_m/z219.1741_RT8.3371\", null, null], \"type\": \"scatter\", \"uid\": \"19b51008-de70-4e75-bbdc-82e757f18f8a\", \"x\": [885.0, 885.0, 900.0, 900.0], \"xaxis\": \"x\", \"y\": [0.0, 0.4074074074074074, 0.4074074074074074, 0.3125], \"yaxis\": \"y\"}, {\"hoverinfo\": \"text\", \"marker\": {\"color\": \"rgb(35,205,205)\"}, \"mode\": \"lines\", \"text\": [null, null, null, null], \"type\": \"scatter\", \"uid\": \"ee1417dd-904c-4c7a-b062-cd901e95af7d\", \"x\": [870.0, 870.0, 892.5, 892.5], \"xaxis\": \"x\", \"y\": [0.25, 0.4583333333333333, 0.4583333333333333, 0.4074074074074074], \"yaxis\": \"y\"}, {\"hoverinfo\": \"text\", \"marker\": {\"color\": \"rgb(133,20,75)\"}, \"mode\": \"lines\", \"text\": [\"cluster: 44, component: Chinese Spring 1_001829_3978_m/z191.1429_RT5.2782\", \"cluster: 44, component: Chinese Spring 1_001829_3978_m/z191.1429_RT5.2782\", \"cluster: 44, component: Chinese Spring 1_001829_5431_m/z191.1429_RT6.7410\", \"cluster: 44, component: Chinese Spring 1_001829_5431_m/z191.1429_RT6.7410\"], \"type\": \"scatter\", \"uid\": \"18a1ec02-3dca-4ed1-8a0d-5cec94208c45\", \"x\": [925.0, 925.0, 935.0, 935.0], \"xaxis\": \"x\", \"y\": [0.0, 0.43103448275862066, 0.43103448275862066, 0.0], \"yaxis\": \"y\"}, {\"hoverinfo\": \"text\", \"marker\": {\"color\": \"rgb(133,20,75)\"}, \"mode\": \"lines\", \"text\": [\"cluster: 44, component: Chinese Spring 1_001829_5301_m/z191.1428_RT6.5359\", \"cluster: 44, component: Chinese Spring 1_001829_5301_m/z191.1428_RT6.5359\", null, null], \"type\": \"scatter\", \"uid\": \"740a64c4-b61e-4ffb-87c9-f4ac4366a4d4\", \"x\": [915.0, 915.0, 930.0, 930.0], \"xaxis\": \"x\", \"y\": [0.0, 0.5, 0.5, 0.43103448275862066], \"yaxis\": \"y\"}, {\"hoverinfo\": \"text\", \"marker\": {\"color\": \"rgb(0,116,217)\"}, \"mode\": \"lines\", \"text\": [null, null, null, null], \"type\": \"scatter\", \"uid\": \"f51a5bdc-c3ba-4cd8-8133-2b9bf17bed6a\", \"x\": [881.25, 881.25, 922.5, 922.5], \"xaxis\": \"x\", \"y\": [0.4583333333333333, 0.68, 0.68, 0.5], \"yaxis\": \"y\"}, {\"hoverinfo\": \"text\", \"marker\": {\"color\": \"rgb(0,116,217)\"}, \"mode\": \"lines\", \"text\": [\"cluster: 45, component: Chinese Spring 2_001850_5547_m/z137.0960_RT7.4167\", \"cluster: 45, component: Chinese Spring 2_001850_5547_m/z137.0960_RT7.4167\", null, null], \"type\": \"scatter\", \"uid\": \"db414200-cf47-4e31-8a67-1cbda2884ed0\", \"x\": [855.0, 855.0, 901.875, 901.875], \"xaxis\": \"x\", \"y\": [0.0, 0.782608695652174, 0.782608695652174, 0.68], \"yaxis\": \"y\"}, {\"hoverinfo\": \"text\", \"marker\": {\"color\": \"rgb(0,116,217)\"}, \"mode\": \"lines\", \"text\": [null, null, null, null], \"type\": \"scatter\", \"uid\": \"89f88a86-ebdf-48b9-8524-e676e6d56e98\", \"x\": [760.46875, 760.46875, 878.4375, 878.4375], \"xaxis\": \"x\", \"y\": [0.7631578947368421, 0.8170731707317073, 0.8170731707317073, 0.782608695652174], \"yaxis\": \"y\"}, {\"hoverinfo\": \"text\", \"marker\": {\"color\": \"rgb(0,116,217)\"}, \"mode\": \"lines\", \"text\": [null, null, null, null], \"type\": \"scatter\", \"uid\": \"c04d033d-bcef-4af0-aa18-4b44ca28deb9\", \"x\": [640.0, 640.0, 819.453125, 819.453125], \"xaxis\": \"x\", \"y\": [0.48333333333333334, 0.8421052631578947, 0.8421052631578947, 0.8170731707317073], \"yaxis\": \"y\"}, {\"hoverinfo\": \"text\", \"marker\": {\"color\": \"rgb(0,116,217)\"}, \"mode\": \"lines\", \"text\": [\"cluster: 46, component: Chinese Spring 1_001829_4949_m/z209.0807_RT6.0494\", \"cluster: 46, component: Chinese Spring 1_001829_4949_m/z209.0807_RT6.0494\", \"cluster: 47, component: Chinese Spring 1_001829_6612_m/z207.1378_RT9.3355\", \"cluster: 47, component: Chinese Spring 1_001829_6612_m/z207.1378_RT9.3355\"], \"type\": \"scatter\", \"uid\": \"190f04ba-42cb-41aa-b94d-25f96e568516\", \"x\": [945.0, 945.0, 955.0, 955.0], \"xaxis\": \"x\", \"y\": [0.0, 0.8556701030927835, 0.8556701030927835, 0.0], \"yaxis\": \"y\"}, {\"hoverinfo\": \"text\", \"marker\": {\"color\": \"rgb(0,116,217)\"}, \"mode\": \"lines\", \"text\": [null, null, null, null], \"type\": \"scatter\", \"uid\": \"86caca67-95f8-49a3-9894-2c74103105c8\", \"x\": [729.7265625, 729.7265625, 950.0, 950.0], \"xaxis\": \"x\", \"y\": [0.8421052631578947, 0.9135802469135802, 0.9135802469135802, 0.8556701030927835], \"yaxis\": \"y\"}, {\"hoverinfo\": \"text\", \"marker\": {\"color\": \"rgb(0,116,217)\"}, \"mode\": \"lines\", \"text\": [null, null, null, null], \"type\": \"scatter\", \"uid\": \"595c64f4-2798-4816-be45-74e43a125274\", \"x\": [601.875, 601.875, 839.86328125, 839.86328125], \"xaxis\": \"x\", \"y\": [0.9032258064516129, 0.9882352941176471, 0.9882352941176471, 0.9135802469135802], \"yaxis\": \"y\"}, {\"hoverinfo\": \"text\", \"marker\": {\"color\": \"rgb(255,220,0)\"}, \"mode\": \"lines\", \"text\": [\"cluster: 48, component: Chinese Spring 1_001829_3815_m/z177.0545_RT5.1175\", \"cluster: 48, component: Chinese Spring 1_001829_3815_m/z177.0545_RT5.1175\", \"cluster: 48, component: Espada 3_001867_2046_m/z177.0545_RT3.9185\", \"cluster: 48, component: Espada 3_001867_2046_m/z177.0545_RT3.9185\"], \"type\": \"scatter\", \"uid\": \"0ce010a4-f5c3-4ef9-99ac-e034dbe5354c\", \"x\": [985.0, 985.0, 995.0, 995.0], \"xaxis\": \"x\", \"y\": [0.0, 0.35, 0.35, 0.0], \"yaxis\": \"y\"}, {\"hoverinfo\": \"text\", \"marker\": {\"color\": \"rgb(255,220,0)\"}, \"mode\": \"lines\", \"text\": [\"cluster: 48, component: Chinese Spring 1_001829_2250_m/z177.0544_RT3.6957\", \"cluster: 48, component: Chinese Spring 1_001829_2250_m/z177.0544_RT3.6957\", null, null], \"type\": \"scatter\", \"uid\": \"7e8d6535-d782-4d51-b6a4-f75ef17df6b3\", \"x\": [975.0, 975.0, 990.0, 990.0], \"xaxis\": \"x\", \"y\": [0.0, 0.391304347826087, 0.391304347826087, 0.35], \"yaxis\": \"y\"}, {\"hoverinfo\": \"text\", \"marker\": {\"color\": \"rgb(40,35,35)\"}, \"mode\": \"lines\", \"text\": [\"cluster: 49, component: Chinese Spring 1_001829_3575_m/z199.9878_RT4.9437\", \"cluster: 49, component: Chinese Spring 1_001829_3575_m/z199.9878_RT4.9437\", \"cluster: 49, component: Chinese Spring 3_001858_3785_m/z199.9877_RT5.0667\", \"cluster: 49, component: Chinese Spring 3_001858_3785_m/z199.9877_RT5.0667\"], \"type\": \"scatter\", \"uid\": \"fdbf9827-2389-45c2-b623-f3c1423ae959\", \"x\": [1005.0, 1005.0, 1015.0, 1015.0], \"xaxis\": \"x\", \"y\": [0.0, 0.34146341463414637, 0.34146341463414637, 0.0], \"yaxis\": \"y\"}, {\"hoverinfo\": \"text\", \"marker\": {\"color\": \"rgb(40,35,35)\"}, \"mode\": \"lines\", \"text\": [\"cluster: 49, component: Chinese Spring 1_001829_0008_m/z199.9878_RT0.5260\", \"cluster: 49, component: Chinese Spring 1_001829_0008_m/z199.9878_RT0.5260\", \"cluster: 49, component: Chinese Spring 1_001829_3401_m/z199.9878_RT4.8234\", \"cluster: 49, component: Chinese Spring 1_001829_3401_m/z199.9878_RT4.8234\"], \"type\": \"scatter\", \"uid\": \"6afee8d2-8052-4417-9a2a-29099b9bb239\", \"x\": [1025.0, 1025.0, 1035.0, 1035.0], \"xaxis\": \"x\", \"y\": [0.0, 0.3, 0.3, 0.0], \"yaxis\": \"y\"}, {\"hoverinfo\": \"text\", \"marker\": {\"color\": \"rgb(40,35,35)\"}, \"mode\": \"lines\", \"text\": [\"cluster: 49, component: Chinese Spring 1_001829_4213_m/z199.9877_RT5.4298\", \"cluster: 49, component: Chinese Spring 1_001829_4213_m/z199.9877_RT5.4298\", \"cluster: 49, component: Chinese Spring 2_001850_3871_m/z199.9878_RT5.2900\", \"cluster: 49, component: Chinese Spring 2_001850_3871_m/z199.9878_RT5.2900\"], \"type\": \"scatter\", \"uid\": \"a19d2996-f9bd-4d1a-b3d5-a62d0a95b51d\", \"x\": [1045.0, 1045.0, 1055.0, 1055.0], \"xaxis\": \"x\", \"y\": [0.0, 0.18181818181818182, 0.18181818181818182, 0.0], \"yaxis\": \"y\"}, {\"hoverinfo\": \"text\", \"marker\": {\"color\": \"rgb(40,35,35)\"}, \"mode\": \"lines\", \"text\": [\"cluster: 49, component: Chinese Spring 2_001850_4313_m/z199.9878_RT5.5708\", \"cluster: 49, component: Chinese Spring 2_001850_4313_m/z199.9878_RT5.5708\", \"cluster: 49, component: Cobra 2_001852_2321_m/z199.9877_RT4.2435\", \"cluster: 49, component: Cobra 2_001852_2321_m/z199.9877_RT4.2435\"], \"type\": \"scatter\", \"uid\": \"192d97a6-a984-4a32-b820-5ab92a6416a5\", \"x\": [1075.0, 1075.0, 1085.0, 1085.0], \"xaxis\": \"x\", \"y\": [0.0, 0.25, 0.25, 0.0], \"yaxis\": \"y\"}, {\"hoverinfo\": \"text\", \"marker\": {\"color\": \"rgb(40,35,35)\"}, \"mode\": \"lines\", \"text\": [\"cluster: 49, component: Cobra 2_001852_4324_m/z199.9878_RT6.0264\", \"cluster: 49, component: Cobra 2_001852_4324_m/z199.9878_RT6.0264\", null, null], \"type\": \"scatter\", \"uid\": \"03a1078f-02a2-4ede-8130-20cf972985d7\", \"x\": [1065.0, 1065.0, 1080.0, 1080.0], \"xaxis\": \"x\", \"y\": [0.0, 0.3125, 0.3125, 0.25], \"yaxis\": \"y\"}, {\"hoverinfo\": \"text\", \"marker\": {\"color\": \"rgb(40,35,35)\"}, \"mode\": \"lines\", \"text\": [null, null, null, null], \"type\": \"scatter\", \"uid\": \"4a41de84-50f1-4c9c-91c3-eb4cc878ea85\", \"x\": [1050.0, 1050.0, 1072.5, 1072.5], \"xaxis\": \"x\", \"y\": [0.18181818181818182, 0.36363636363636365, 0.36363636363636365, 0.3125], \"yaxis\": \"y\"}, {\"hoverinfo\": \"text\", \"marker\": {\"color\": \"rgb(40,35,35)\"}, \"mode\": \"lines\", \"text\": [null, null, null, null], \"type\": \"scatter\", \"uid\": \"925aea84-7d40-417f-acce-55b3bb342743\", \"x\": [1030.0, 1030.0, 1061.25, 1061.25], \"xaxis\": \"x\", \"y\": [0.3, 0.42424242424242425, 0.42424242424242425, 0.36363636363636365], \"yaxis\": \"y\"}, {\"hoverinfo\": \"text\", \"marker\": {\"color\": \"rgb(40,35,35)\"}, \"mode\": \"lines\", \"text\": [null, null, null, null], \"type\": \"scatter\", \"uid\": \"950b0289-58c3-4e73-b49a-fe1e58efe34b\", \"x\": [1010.0, 1010.0, 1045.625, 1045.625], \"xaxis\": \"x\", \"y\": [0.34146341463414637, 0.47368421052631576, 0.47368421052631576, 0.42424242424242425], \"yaxis\": \"y\"}, {\"hoverinfo\": \"text\", \"marker\": {\"color\": \"rgb(0,116,217)\"}, \"mode\": \"lines\", \"text\": [null, null, null, null], \"type\": \"scatter\", \"uid\": \"f9cedc2b-6e01-42ad-bb07-305252f3b72f\", \"x\": [982.5, 982.5, 1027.8125, 1027.8125], \"xaxis\": \"x\", \"y\": [0.391304347826087, 0.8214285714285714, 0.8214285714285714, 0.47368421052631576], \"yaxis\": \"y\"}, {\"hoverinfo\": \"text\", \"marker\": {\"color\": \"rgb(61,153,112)\"}, \"mode\": \"lines\", \"text\": [\"cluster: 50, component: Chinese Spring 1_001829_3296_m/z611.1606_RT4.7565\", \"cluster: 50, component: Chinese Spring 1_001829_3296_m/z611.1606_RT4.7565\", \"cluster: 50, component: Chinese Spring 1_001829_3857_m/z611.1606_RT5.1666\", \"cluster: 50, component: Chinese Spring 1_001829_3857_m/z611.1606_RT5.1666\"], \"type\": \"scatter\", \"uid\": \"5627ea88-03a2-496c-a9a6-d285cf6defc9\", \"x\": [1105.0, 1105.0, 1115.0, 1115.0], \"xaxis\": \"x\", \"y\": [0.0, 0.4583333333333333, 0.4583333333333333, 0.0], \"yaxis\": \"y\"}, {\"hoverinfo\": \"text\", \"marker\": {\"color\": \"rgb(255,65,54)\"}, \"mode\": \"lines\", \"text\": [\"cluster: 51, component: Chinese Spring 1_001829_3593_m/z339.1073_RT4.9571\", \"cluster: 51, component: Chinese Spring 1_001829_3593_m/z339.1073_RT4.9571\", \"cluster: 51, component: Chinese Spring 1_001829_4973_m/z339.1073_RT6.0940\", \"cluster: 51, component: Chinese Spring 1_001829_4973_m/z339.1073_RT6.0940\"], \"type\": \"scatter\", \"uid\": \"5ea0160e-50f8-4af4-aff1-844b9a52b033\", \"x\": [1125.0, 1125.0, 1135.0, 1135.0], \"xaxis\": \"x\", \"y\": [0.0, 0.44, 0.44, 0.0], \"yaxis\": \"y\"}, {\"hoverinfo\": \"text\", \"marker\": {\"color\": \"rgb(35,205,205)\"}, \"mode\": \"lines\", \"text\": [\"cluster: 52, component: Chinese Spring 1_001829_5035_m/z231.0497_RT6.1564\", \"cluster: 52, component: Chinese Spring 1_001829_5035_m/z231.0497_RT6.1564\", \"cluster: 52, component: Chinese Spring 1_001829_6283_m/z231.0496_RT8.6045\", \"cluster: 52, component: Chinese Spring 1_001829_6283_m/z231.0496_RT8.6045\"], \"type\": \"scatter\", \"uid\": \"5b647647-0379-4a66-80dc-3ab4c7aecaea\", \"x\": [1185.0, 1185.0, 1195.0, 1195.0], \"xaxis\": \"x\", \"y\": [0.0, 0.391304347826087, 0.391304347826087, 0.0], \"yaxis\": \"y\"}, {\"hoverinfo\": \"text\", \"marker\": {\"color\": \"rgb(35,205,205)\"}, \"mode\": \"lines\", \"text\": [\"cluster: 52, component: Chinese Spring 1_001829_3927_m/z231.0497_RT5.2470\", \"cluster: 52, component: Chinese Spring 1_001829_3927_m/z231.0497_RT5.2470\", null, null], \"type\": \"scatter\", \"uid\": \"61a01f25-b87e-4058-86ad-8a7749f2e52b\", \"x\": [1175.0, 1175.0, 1190.0, 1190.0], \"xaxis\": \"x\", \"y\": [0.0, 0.4090909090909091, 0.4090909090909091, 0.391304347826087], \"yaxis\": \"y\"}, {\"hoverinfo\": \"text\", \"marker\": {\"color\": \"rgb(35,205,205)\"}, \"mode\": \"lines\", \"text\": [\"cluster: 52, component: Chinese Spring 1_001829_5413_m/z231.0497_RT6.7231\", \"cluster: 52, component: Chinese Spring 1_001829_5413_m/z231.0497_RT6.7231\", null, null], \"type\": \"scatter\", \"uid\": \"8af16e80-babd-4394-88da-84d9e88f4304\", \"x\": [1165.0, 1165.0, 1182.5, 1182.5], \"xaxis\": \"x\", \"y\": [0.0, 0.52, 0.52, 0.4090909090909091], \"yaxis\": \"y\"}, {\"hoverinfo\": \"text\", \"marker\": {\"color\": \"rgb(0,116,217)\"}, \"mode\": \"lines\", \"text\": [\"cluster: 53, component: Chinese Spring 1_001829_3932_m/z340.1603_RT5.2470\", \"cluster: 53, component: Chinese Spring 1_001829_3932_m/z340.1603_RT5.2470\", null, null], \"type\": \"scatter\", \"uid\": \"74673242-6a7e-4e4a-981a-9f330bd55166\", \"x\": [1155.0, 1155.0, 1173.75, 1173.75], \"xaxis\": \"x\", \"y\": [0.0, 0.6904761904761905, 0.6904761904761905, 0.52], \"yaxis\": \"y\"}, {\"hoverinfo\": \"text\", \"marker\": {\"color\": \"rgb(133,20,75)\"}, \"mode\": \"lines\", \"text\": [\"cluster: 54, component: Chinese Spring 2_001850_1213_m/z314.1446_RT1.3713\", \"cluster: 54, component: Chinese Spring 2_001850_1213_m/z314.1446_RT1.3713\", \"cluster: 54, component: Emu Rock 2_001847_1099_m/z314.1446_RT1.2598\", \"cluster: 54, component: Emu Rock 2_001847_1099_m/z314.1446_RT1.2598\"], \"type\": \"scatter\", \"uid\": \"b0849395-8e74-4b82-949b-bdd93db7e756\", \"x\": [1205.0, 1205.0, 1215.0, 1215.0], \"xaxis\": \"x\", \"y\": [0.0, 0.4230769230769231, 0.4230769230769231, 0.0], \"yaxis\": \"y\"}, {\"hoverinfo\": \"text\", \"marker\": {\"color\": \"rgb(0,116,217)\"}, \"mode\": \"lines\", \"text\": [\"cluster: 55, component: Chinese Spring 1_001829_2752_m/z342.1759_RT4.2840\", \"cluster: 55, component: Chinese Spring 1_001829_2752_m/z342.1759_RT4.2840\", \"cluster: 56, component: Chinese Spring 3_001858_1605_m/z310.1495_RT2.2587\", \"cluster: 56, component: Chinese Spring 3_001858_1605_m/z310.1495_RT2.2587\"], \"type\": \"scatter\", \"uid\": \"7636179f-8506-4b60-bda4-9789da270508\", \"x\": [1225.0, 1225.0, 1235.0, 1235.0], \"xaxis\": \"x\", \"y\": [0.0, 0.6785714285714286, 0.6785714285714286, 0.0], \"yaxis\": \"y\"}, {\"hoverinfo\": \"text\", \"marker\": {\"color\": \"rgb(0,116,217)\"}, \"mode\": \"lines\", \"text\": [null, null, null, null], \"type\": \"scatter\", \"uid\": \"9dd1530e-60bc-44cb-aad2-dea4e9db98ea\", \"x\": [1210.0, 1210.0, 1230.0, 1230.0], \"xaxis\": \"x\", \"y\": [0.4230769230769231, 0.75, 0.75, 0.6785714285714286], \"yaxis\": \"y\"}, {\"hoverinfo\": \"text\", \"marker\": {\"color\": \"rgb(0,116,217)\"}, \"mode\": \"lines\", \"text\": [null, null, null, null], \"type\": \"scatter\", \"uid\": \"c584aaa5-e5dc-45de-93d7-a3f8e53d4d61\", \"x\": [1164.375, 1164.375, 1220.0, 1220.0], \"xaxis\": \"x\", \"y\": [0.6904761904761905, 0.8, 0.8, 0.75], \"yaxis\": \"y\"}, {\"hoverinfo\": \"text\", \"marker\": {\"color\": \"rgb(0,116,217)\"}, \"mode\": \"lines\", \"text\": [\"cluster: 57, component: Chinese Spring 1_001829_6003_m/z498.2543_RT7.9315\", \"cluster: 57, component: Chinese Spring 1_001829_6003_m/z498.2543_RT7.9315\", null, null], \"type\": \"scatter\", \"uid\": \"cac85d52-272e-4b3c-a115-cbd4285948a5\", \"x\": [1145.0, 1145.0, 1192.1875, 1192.1875], \"xaxis\": \"x\", \"y\": [0.0, 0.8571428571428571, 0.8571428571428571, 0.8], \"yaxis\": \"y\"}, {\"hoverinfo\": \"text\", \"marker\": {\"color\": \"rgb(0,116,217)\"}, \"mode\": \"lines\", \"text\": [null, null, null, null], \"type\": \"scatter\", \"uid\": \"f6845836-b62e-47cc-b883-b75527ced831\", \"x\": [1130.0, 1130.0, 1168.59375, 1168.59375], \"xaxis\": \"x\", \"y\": [0.44, 0.8775510204081632, 0.8775510204081632, 0.8571428571428571], \"yaxis\": \"y\"}, {\"hoverinfo\": \"text\", \"marker\": {\"color\": \"rgb(0,116,217)\"}, \"mode\": \"lines\", \"text\": [\"cluster: 58, component: Chinese Spring 1_001829_1178_m/z241.1544_RT1.1946\", \"cluster: 58, component: Chinese Spring 1_001829_1178_m/z241.1544_RT1.1946\", \"cluster: 59, component: Chinese Spring 1_001829_1844_m/z507.1819_RT2.9692\", \"cluster: 59, component: Chinese Spring 1_001829_1844_m/z507.1819_RT2.9692\"], \"type\": \"scatter\", \"uid\": \"a61dc4e3-60f0-438e-a96a-230fd19391a6\", \"x\": [1245.0, 1245.0, 1255.0, 1255.0], \"xaxis\": \"x\", \"y\": [0.0, 0.9152542372881356, 0.9152542372881356, 0.0], \"yaxis\": \"y\"}, {\"hoverinfo\": \"text\", \"marker\": {\"color\": \"rgb(0,116,217)\"}, \"mode\": \"lines\", \"text\": [null, null, null, null], \"type\": \"scatter\", \"uid\": \"772a3a5c-8041-4794-a5c8-b4d763b413e2\", \"x\": [1149.296875, 1149.296875, 1250.0, 1250.0], \"xaxis\": \"x\", \"y\": [0.8775510204081632, 0.9302325581395349, 0.9302325581395349, 0.9152542372881356], \"yaxis\": \"y\"}, {\"hoverinfo\": \"text\", \"marker\": {\"color\": \"rgb(0,116,217)\"}, \"mode\": \"lines\", \"text\": [null, null, null, null], \"type\": \"scatter\", \"uid\": \"eaa62ad4-6e51-4af1-8228-6e16289f9cbf\", \"x\": [1110.0, 1110.0, 1199.6484375, 1199.6484375], \"xaxis\": \"x\", \"y\": [0.4583333333333333, 0.9622641509433962, 0.9622641509433962, 0.9302325581395349], \"yaxis\": \"y\"}, {\"hoverinfo\": \"text\", \"marker\": {\"color\": \"rgb(0,116,217)\"}, \"mode\": \"lines\", \"text\": [\"cluster: 60, component: Chinese Spring 1_001829_5512_m/z463.1233_RT6.8301\", \"cluster: 60, component: Chinese Spring 1_001829_5512_m/z463.1233_RT6.8301\", null, null], \"type\": \"scatter\", \"uid\": \"bcb2e6f7-55d8-43c2-bcab-01e817a9cd8f\", \"x\": [1095.0, 1095.0, 1154.82421875, 1154.82421875], \"xaxis\": \"x\", \"y\": [0.0, 0.9696969696969697, 0.9696969696969697, 0.9622641509433962], \"yaxis\": \"y\"}, {\"hoverinfo\": \"text\", \"marker\": {\"color\": \"rgb(255,220,0)\"}, \"mode\": \"lines\", \"text\": [\"cluster: 61, component: Chinese Spring 1_001829_4912_m/z219.1014_RT5.9958\", \"cluster: 61, component: Chinese Spring 1_001829_4912_m/z219.1014_RT5.9958\", \"cluster: 61, component: Chinese Spring 1_001829_5175_m/z219.1014_RT6.3621\", \"cluster: 61, component: Chinese Spring 1_001829_5175_m/z219.1014_RT6.3621\"], \"type\": \"scatter\", \"uid\": \"cfdaa846-fe3e-4740-aaff-6c5ed372f3ed\", \"x\": [1285.0, 1285.0, 1295.0, 1295.0], \"xaxis\": \"x\", \"y\": [0.0, 0.38181818181818183, 0.38181818181818183, 0.0], \"yaxis\": \"y\"}, {\"hoverinfo\": \"text\", \"marker\": {\"color\": \"rgb(255,220,0)\"}, \"mode\": \"lines\", \"text\": [\"cluster: 61, component: Chinese Spring 1_001829_5685_m/z219.1014_RT7.3074\", \"cluster: 61, component: Chinese Spring 1_001829_5685_m/z219.1014_RT7.3074\", null, null], \"type\": \"scatter\", \"uid\": \"6a377e20-2465-4665-b149-7084d3fd2151\", \"x\": [1275.0, 1275.0, 1290.0, 1290.0], \"xaxis\": \"x\", \"y\": [0.0, 0.4647887323943662, 0.4647887323943662, 0.38181818181818183], \"yaxis\": \"y\"}, {\"hoverinfo\": \"text\", \"marker\": {\"color\": \"rgb(0,116,217)\"}, \"mode\": \"lines\", \"text\": [\"cluster: 62, component: Correll 1_001837_4911_m/z251.0911_RT6.5612\", \"cluster: 62, component: Correll 1_001837_4911_m/z251.0911_RT6.5612\", null, null], \"type\": \"scatter\", \"uid\": \"c9f97f8b-8a35-44d1-aa81-dc6b99ac50ac\", \"x\": [1265.0, 1265.0, 1282.5, 1282.5], \"xaxis\": \"x\", \"y\": [0.0, 0.6527777777777778, 0.6527777777777778, 0.4647887323943662], \"yaxis\": \"y\"}, {\"hoverinfo\": \"text\", \"marker\": {\"color\": \"rgb(40,35,35)\"}, \"mode\": \"lines\", \"text\": [\"cluster: 63, component: Chinese Spring 1_001829_2478_m/z291.1449_RT4.0211\", \"cluster: 63, component: Chinese Spring 1_001829_2478_m/z291.1449_RT4.0211\", \"cluster: 63, component: Chinese Spring 1_001829_2534_m/z291.1449_RT4.0567\", \"cluster: 63, component: Chinese Spring 1_001829_2534_m/z291.1449_RT4.0567\"], \"type\": \"scatter\", \"uid\": \"a7fd838d-13af-493b-a5da-d0139ee98444\", \"x\": [1305.0, 1305.0, 1315.0, 1315.0], \"xaxis\": \"x\", \"y\": [0.0, 0.37037037037037035, 0.37037037037037035, 0.0], \"yaxis\": \"y\"}, {\"hoverinfo\": \"text\", \"marker\": {\"color\": \"rgb(40,35,35)\"}, \"mode\": \"lines\", \"text\": [\"cluster: 63, component: Chinese Spring 1_001829_1966_m/z273.1343_RT3.3302\", \"cluster: 63, component: Chinese Spring 1_001829_1966_m/z273.1343_RT3.3302\", \"cluster: 63, component: Chinese Spring 1_001829_2526_m/z273.1343_RT4.0523\", \"cluster: 63, component: Chinese Spring 1_001829_2526_m/z273.1343_RT4.0523\"], \"type\": \"scatter\", \"uid\": \"7db1ac82-98bc-4def-962b-74007c68eee1\", \"x\": [1335.0, 1335.0, 1345.0, 1345.0], \"xaxis\": \"x\", \"y\": [0.0, 0.3333333333333333, 0.3333333333333333, 0.0], \"yaxis\": \"y\"}, {\"hoverinfo\": \"text\", \"marker\": {\"color\": \"rgb(40,35,35)\"}, \"mode\": \"lines\", \"text\": [\"cluster: 63, component: Chinese Spring 1_001829_1967_m/z291.1450_RT3.3302\", \"cluster: 63, component: Chinese Spring 1_001829_1967_m/z291.1450_RT3.3302\", null, null], \"type\": \"scatter\", \"uid\": \"9d6fc391-1ef3-4e61-9a6c-6fdda5ee62d8\", \"x\": [1325.0, 1325.0, 1340.0, 1340.0], \"xaxis\": \"x\", \"y\": [0.0, 0.41935483870967744, 0.41935483870967744, 0.3333333333333333], \"yaxis\": \"y\"}, {\"hoverinfo\": \"text\", \"marker\": {\"color\": \"rgb(40,35,35)\"}, \"mode\": \"lines\", \"text\": [null, null, null, null], \"type\": \"scatter\", \"uid\": \"11b6fb43-b5e3-47d8-b142-ee3abddf3807\", \"x\": [1310.0, 1310.0, 1332.5, 1332.5], \"xaxis\": \"x\", \"y\": [0.37037037037037035, 0.5161290322580645, 0.5161290322580645, 0.41935483870967744], \"yaxis\": \"y\"}, {\"hoverinfo\": \"text\", \"marker\": {\"color\": \"rgb(61,153,112)\"}, \"mode\": \"lines\", \"text\": [\"cluster: 64, component: Chinese Spring 1_001829_1874_m/z235.1439_RT3.0271\", \"cluster: 64, component: Chinese Spring 1_001829_1874_m/z235.1439_RT3.0271\", \"cluster: 64, component: Chinese Spring 1_001829_2318_m/z235.1439_RT3.7670\", \"cluster: 64, component: Chinese Spring 1_001829_2318_m/z235.1439_RT3.7670\"], \"type\": \"scatter\", \"uid\": \"157ceca3-7999-4079-aaa6-90c172a45c23\", \"x\": [1365.0, 1365.0, 1375.0, 1375.0], \"xaxis\": \"x\", \"y\": [0.0, 0.5263157894736842, 0.5263157894736842, 0.0], \"yaxis\": \"y\"}, {\"hoverinfo\": \"text\", \"marker\": {\"color\": \"rgb(0,116,217)\"}, \"mode\": \"lines\", \"text\": [\"cluster: 65, component: Chinese Spring 1_001829_1994_m/z251.1387_RT3.3658\", \"cluster: 65, component: Chinese Spring 1_001829_1994_m/z251.1387_RT3.3658\", null, null], \"type\": \"scatter\", \"uid\": \"321c5a3b-9530-4dad-94cf-3c79d92cec90\", \"x\": [1355.0, 1355.0, 1370.0, 1370.0], \"xaxis\": \"x\", \"y\": [0.0, 0.8636363636363636, 0.8636363636363636, 0.5263157894736842], \"yaxis\": \"y\"}, {\"hoverinfo\": \"text\", \"marker\": {\"color\": \"rgb(0,116,217)\"}, \"mode\": \"lines\", \"text\": [null, null, null, null], \"type\": \"scatter\", \"uid\": \"432a69ae-3570-4c81-894c-e42651adf579\", \"x\": [1321.25, 1321.25, 1362.5, 1362.5], \"xaxis\": \"x\", \"y\": [0.5161290322580645, 0.9166666666666666, 0.9166666666666666, 0.8636363636363636], \"yaxis\": \"y\"}, {\"hoverinfo\": \"text\", \"marker\": {\"color\": \"rgb(0,116,217)\"}, \"mode\": \"lines\", \"text\": [null, null, null, null], \"type\": \"scatter\", \"uid\": \"2a28dc1c-7529-498c-9665-b28ed781b271\", \"x\": [1273.75, 1273.75, 1341.875, 1341.875], \"xaxis\": \"x\", \"y\": [0.6527777777777778, 0.9891304347826086, 0.9891304347826086, 0.9166666666666666], \"yaxis\": \"y\"}, {\"hoverinfo\": \"text\", \"marker\": {\"color\": \"rgb(0,116,217)\"}, \"mode\": \"lines\", \"text\": [\"cluster: 66, component: Chinese Spring 1_001829_2426_m/z194.0447_RT3.9542\", \"cluster: 66, component: Chinese Spring 1_001829_2426_m/z194.0447_RT3.9542\", \"cluster: 67, component: Cobra 3_001856_2051_m/z194.1174_RT3.6295\", \"cluster: 67, component: Cobra 3_001856_2051_m/z194.1174_RT3.6295\"], \"type\": \"scatter\", \"uid\": \"fdecbfaf-e5f1-4cfe-9325-de757e0c8ae1\", \"x\": [1385.0, 1385.0, 1395.0, 1395.0], \"xaxis\": \"x\", \"y\": [0.0, 0.6206896551724138, 0.6206896551724138, 0.0], \"yaxis\": \"y\"}, {\"hoverinfo\": \"text\", \"marker\": {\"color\": \"rgb(255,65,54)\"}, \"mode\": \"lines\", \"text\": [\"cluster: 68, component: Chinese Spring 1_001829_3914_m/z194.0447_RT5.2381\", \"cluster: 68, component: Chinese Spring 1_001829_3914_m/z194.0447_RT5.2381\", \"cluster: 68, component: Chinese Spring 1_001829_4309_m/z212.0552_RT5.4788\", \"cluster: 68, component: Chinese Spring 1_001829_4309_m/z212.0552_RT5.4788\"], \"type\": \"scatter\", \"uid\": \"e85e9f46-2751-49bb-abea-1f0397a19dff\", \"x\": [1415.0, 1415.0, 1425.0, 1425.0], \"xaxis\": \"x\", \"y\": [0.0, 0.35135135135135137, 0.35135135135135137, 0.0], \"yaxis\": \"y\"}, {\"hoverinfo\": \"text\", \"marker\": {\"color\": \"rgb(255,65,54)\"}, \"mode\": \"lines\", \"text\": [\"cluster: 68, component: Chinese Spring 1_001829_3643_m/z194.0447_RT4.9972\", \"cluster: 68, component: Chinese Spring 1_001829_3643_m/z194.0447_RT4.9972\", null, null], \"type\": \"scatter\", \"uid\": \"6522f6e4-fb0f-45f4-a5fb-4199edbe2b7f\", \"x\": [1405.0, 1405.0, 1420.0, 1420.0], \"xaxis\": \"x\", \"y\": [0.0, 0.5573770491803278, 0.5573770491803278, 0.35135135135135137], \"yaxis\": \"y\"}, {\"hoverinfo\": \"text\", \"marker\": {\"color\": \"rgb(0,116,217)\"}, \"mode\": \"lines\", \"text\": [\"cluster: 69, component: Chinese Spring 1_001829_5341_m/z194.0447_RT6.6117\", \"cluster: 69, component: Chinese Spring 1_001829_5341_m/z194.0447_RT6.6117\", \"cluster: 70, component: Chinese Spring 1_001829_5342_m/z226.0708_RT6.6117\", \"cluster: 70, component: Chinese Spring 1_001829_5342_m/z226.0708_RT6.6117\"], \"type\": \"scatter\", \"uid\": \"3e16f706-2ba7-4932-a84a-351ce309e9cd\", \"x\": [1445.0, 1445.0, 1455.0, 1455.0], \"xaxis\": \"x\", \"y\": [0.0, 0.6285714285714286, 0.6285714285714286, 0.0], \"yaxis\": \"y\"}, {\"hoverinfo\": \"text\", \"marker\": {\"color\": \"rgb(0,116,217)\"}, \"mode\": \"lines\", \"text\": [\"cluster: 71, component: Chinese Spring 1_001829_2958_m/z212.0552_RT4.4445\", \"cluster: 71, component: Chinese Spring 1_001829_2958_m/z212.0552_RT4.4445\", null, null], \"type\": \"scatter\", \"uid\": \"89dc9df4-556e-4344-b313-c54c6087bc7c\", \"x\": [1435.0, 1435.0, 1450.0, 1450.0], \"xaxis\": \"x\", \"y\": [0.0, 0.7, 0.7, 0.6285714285714286], \"yaxis\": \"y\"}, {\"hoverinfo\": \"text\", \"marker\": {\"color\": \"rgb(0,116,217)\"}, \"mode\": \"lines\", \"text\": [null, null, null, null], \"type\": \"scatter\", \"uid\": \"531dfd17-0a0e-4e70-894c-4a8fbc0d3b79\", \"x\": [1412.5, 1412.5, 1442.5, 1442.5], \"xaxis\": \"x\", \"y\": [0.5573770491803278, 0.8360655737704918, 0.8360655737704918, 0.7], \"yaxis\": \"y\"}, {\"hoverinfo\": \"text\", \"marker\": {\"color\": \"rgb(0,116,217)\"}, \"mode\": \"lines\", \"text\": [null, null, null, null], \"type\": \"scatter\", \"uid\": \"8cab9e12-7ff0-4c59-be8f-515d6c0ee72b\", \"x\": [1390.0, 1390.0, 1427.5, 1427.5], \"xaxis\": \"x\", \"y\": [0.6206896551724138, 0.8548387096774194, 0.8548387096774194, 0.8360655737704918], \"yaxis\": \"y\"}, {\"hoverinfo\": \"text\", \"marker\": {\"color\": \"rgb(35,205,205)\"}, \"mode\": \"lines\", \"text\": [\"cluster: 72, component: Chinese Spring 1_001829_2262_m/z533.1549_RT3.7001\", \"cluster: 72, component: Chinese Spring 1_001829_2262_m/z533.1549_RT3.7001\", \"cluster: 72, component: Chinese Spring 1_001829_2618_m/z533.1546_RT4.1191\", \"cluster: 72, component: Chinese Spring 1_001829_2618_m/z533.1546_RT4.1191\"], \"type\": \"scatter\", \"uid\": \"33546674-e1ba-48e9-b74b-16cfdff28289\", \"x\": [1465.0, 1465.0, 1475.0, 1475.0], \"xaxis\": \"x\", \"y\": [0.0, 0.36764705882352944, 0.36764705882352944, 0.0], \"yaxis\": \"y\"}, {\"hoverinfo\": \"text\", \"marker\": {\"color\": \"rgb(35,205,205)\"}, \"mode\": \"lines\", \"text\": [\"cluster: 72, component: Chinese Spring 1_001829_2044_m/z533.1546_RT3.4461\", \"cluster: 72, component: Chinese Spring 1_001829_2044_m/z533.1546_RT3.4461\", \"cluster: 72, component: Chinese Spring 1_001829_3026_m/z533.1549_RT4.5203\", \"cluster: 72, component: Chinese Spring 1_001829_3026_m/z533.1549_RT4.5203\"], \"type\": \"scatter\", \"uid\": \"db00d06c-88e8-42ca-9996-ec32dddc596f\", \"x\": [1485.0, 1485.0, 1495.0, 1495.0], \"xaxis\": \"x\", \"y\": [0.0, 0.45454545454545453, 0.45454545454545453, 0.0], \"yaxis\": \"y\"}, {\"hoverinfo\": \"text\", \"marker\": {\"color\": \"rgb(35,205,205)\"}, \"mode\": \"lines\", \"text\": [null, null, null, null], \"type\": \"scatter\", \"uid\": \"8d3e4bee-bf3b-4681-84cf-1f349501a0bc\", \"x\": [1470.0, 1470.0, 1490.0, 1490.0], \"xaxis\": \"x\", \"y\": [0.36764705882352944, 0.5, 0.5, 0.45454545454545453], \"yaxis\": \"y\"}, {\"hoverinfo\": \"text\", \"marker\": {\"color\": \"rgb(133,20,75)\"}, \"mode\": \"lines\", \"text\": [\"cluster: 73, component: Chinese Spring 1_001829_2030_m/z347.0907_RT3.4015\", \"cluster: 73, component: Chinese Spring 1_001829_2030_m/z347.0907_RT3.4015\", \"cluster: 73, component: Chinese Spring 2_001850_1485_m/z347.0907_RT2.1112\", \"cluster: 73, component: Chinese Spring 2_001850_1485_m/z347.0907_RT2.1112\"], \"type\": \"scatter\", \"uid\": \"f542970c-9db1-477f-a48e-cf183e3d6825\", \"x\": [1505.0, 1505.0, 1515.0, 1515.0], \"xaxis\": \"x\", \"y\": [0.0, 0.5098039215686274, 0.5098039215686274, 0.0], \"yaxis\": \"y\"}, {\"hoverinfo\": \"text\", \"marker\": {\"color\": \"rgb(0,116,217)\"}, \"mode\": \"lines\", \"text\": [null, null, null, null], \"type\": \"scatter\", \"uid\": \"1ae1dd82-efe3-4a2f-8b0b-114aaaf19489\", \"x\": [1480.0, 1480.0, 1510.0, 1510.0], \"xaxis\": \"x\", \"y\": [0.5, 0.8804347826086957, 0.8804347826086957, 0.5098039215686274], \"yaxis\": \"y\"}, {\"hoverinfo\": \"text\", \"marker\": {\"color\": \"rgb(0,116,217)\"}, \"mode\": \"lines\", \"text\": [null, null, null, null], \"type\": \"scatter\", \"uid\": \"bbf6e79b-a397-48b9-8a8d-cf2674597a8d\", \"x\": [1408.75, 1408.75, 1495.0, 1495.0], \"xaxis\": \"x\", \"y\": [0.8548387096774194, 0.9857142857142858, 0.9857142857142858, 0.8804347826086957], \"yaxis\": \"y\"}, {\"hoverinfo\": \"text\", \"marker\": {\"color\": \"rgb(0,116,217)\"}, \"mode\": \"lines\", \"text\": [\"cluster: 74, component: Chinese Spring 1_001829_1626_m/z194.1174_RT2.2515\", \"cluster: 74, component: Chinese Spring 1_001829_1626_m/z194.1174_RT2.2515\", \"cluster: 75, component: Cobra 2_001852_2090_m/z194.1174_RT4.0473\", \"cluster: 75, component: Cobra 2_001852_2090_m/z194.1174_RT4.0473\"], \"type\": \"scatter\", \"uid\": \"9e07414d-49cb-4e91-b66a-91710c839f7a\", \"x\": [1525.0, 1525.0, 1535.0, 1535.0], \"xaxis\": \"x\", \"y\": [0.0, 0.7142857142857143, 0.7142857142857143, 0.0], \"yaxis\": \"y\"}, {\"hoverinfo\": \"text\", \"marker\": {\"color\": \"rgb(255,220,0)\"}, \"mode\": \"lines\", \"text\": [\"cluster: 76, component: Chinese Spring 1_001829_6439_m/z320.2946_RT8.8987\", \"cluster: 76, component: Chinese Spring 1_001829_6439_m/z320.2946_RT8.8987\", \"cluster: 76, component: Chinese Spring 1_001829_6466_m/z320.2948_RT8.9700\", \"cluster: 76, component: Chinese Spring 1_001829_6466_m/z320.2948_RT8.9700\"], \"type\": \"scatter\", \"uid\": \"c1c4470b-b289-4611-a4c7-45fcf7bc9b15\", \"x\": [1585.0, 1585.0, 1595.0, 1595.0], \"xaxis\": \"x\", \"y\": [0.0, 0.0, 0.0, 0.0], \"yaxis\": \"y\"}, {\"hoverinfo\": \"text\", \"marker\": {\"color\": \"rgb(255,220,0)\"}, \"mode\": \"lines\", \"text\": [\"cluster: 76, component: Chinese Spring 1_001829_6404_m/z320.2946_RT8.8274\", \"cluster: 76, component: Chinese Spring 1_001829_6404_m/z320.2946_RT8.8274\", null, null], \"type\": \"scatter\", \"uid\": \"480522da-10fb-4968-9917-5c4e704680a4\", \"x\": [1575.0, 1575.0, 1590.0, 1590.0], \"xaxis\": \"x\", \"y\": [0.0, 0.4444444444444444, 0.4444444444444444, 0.0], \"yaxis\": \"y\"}, {\"hoverinfo\": \"text\", \"marker\": {\"color\": \"rgb(255,220,0)\"}, \"mode\": \"lines\", \"text\": [\"cluster: 76, component: Chinese Spring 1_001829_6510_m/z320.2948_RT9.0458\", \"cluster: 76, component: Chinese Spring 1_001829_6510_m/z320.2948_RT9.0458\", null, null], \"type\": \"scatter\", \"uid\": \"db49abcb-f331-46f4-baa0-75207be5a869\", \"x\": [1565.0, 1565.0, 1582.5, 1582.5], \"xaxis\": \"x\", \"y\": [0.0, 0.5833333333333334, 0.5833333333333334, 0.4444444444444444], \"yaxis\": \"y\"}, {\"hoverinfo\": \"text\", \"marker\": {\"color\": \"rgb(0,116,217)\"}, \"mode\": \"lines\", \"text\": [\"cluster: 77, component: Chinese Spring 1_001829_7255_m/z320.2946_RT10.6470\", \"cluster: 77, component: Chinese Spring 1_001829_7255_m/z320.2946_RT10.6470\", null, null], \"type\": \"scatter\", \"uid\": \"a18323f4-415e-4cc2-862f-b768434eaab6\", \"x\": [1555.0, 1555.0, 1573.75, 1573.75], \"xaxis\": \"x\", \"y\": [0.0, 0.7857142857142857, 0.7857142857142857, 0.5833333333333334], \"yaxis\": \"y\"}, {\"hoverinfo\": \"text\", \"marker\": {\"color\": \"rgb(0,116,217)\"}, \"mode\": \"lines\", \"text\": [\"cluster: 78, component: Chinese Spring 1_001829_6552_m/z320.2946_RT9.1394\", \"cluster: 78, component: Chinese Spring 1_001829_6552_m/z320.2946_RT9.1394\", null, null], \"type\": \"scatter\", \"uid\": \"8b0a705c-809d-4213-8db1-1dd449cf0ec5\", \"x\": [1545.0, 1545.0, 1564.375, 1564.375], \"xaxis\": \"x\", \"y\": [0.0, 0.9393939393939394, 0.9393939393939394, 0.7857142857142857], \"yaxis\": \"y\"}, {\"hoverinfo\": \"text\", \"marker\": {\"color\": \"rgb(0,116,217)\"}, \"mode\": \"lines\", \"text\": [null, null, null, null], \"type\": \"scatter\", \"uid\": \"49afce36-5c66-41f4-8e45-fda8cda4d1c9\", \"x\": [1530.0, 1530.0, 1554.6875, 1554.6875], \"xaxis\": \"x\", \"y\": [0.7142857142857143, 0.9523809523809523, 0.9523809523809523, 0.9393939393939394], \"yaxis\": \"y\"}, {\"hoverinfo\": \"text\", \"marker\": {\"color\": \"rgb(0,116,217)\"}, \"mode\": \"lines\", \"text\": [\"cluster: 79, component: Chinese Spring 1_001829_0724_m/z241.1544_RT0.7890\", \"cluster: 79, component: Chinese Spring 1_001829_0724_m/z241.1544_RT0.7890\", \"cluster: 80, component: Chinese Spring 1_001829_0785_m/z241.1544_RT0.8781\", \"cluster: 80, component: Chinese Spring 1_001829_0785_m/z241.1544_RT0.8781\"], \"type\": \"scatter\", \"uid\": \"f0cf7674-4eae-4364-b9c0-5756b9bd5126\", \"x\": [1605.0, 1605.0, 1615.0, 1615.0], \"xaxis\": \"x\", \"y\": [0.0, 0.6363636363636364, 0.6363636363636364, 0.0], \"yaxis\": \"y\"}, {\"hoverinfo\": \"text\", \"marker\": {\"color\": \"rgb(40,35,35)\"}, \"mode\": \"lines\", \"text\": [\"cluster: 81, component: Chinese Spring 1_001829_6093_m/z332.2583_RT8.1097\", \"cluster: 81, component: Chinese Spring 1_001829_6093_m/z332.2583_RT8.1097\", \"cluster: 81, component: Chinese Spring 1_001829_6127_m/z332.2584_RT8.1989\", \"cluster: 81, component: Chinese Spring 1_001829_6127_m/z332.2584_RT8.1989\"], \"type\": \"scatter\", \"uid\": \"83912fcc-720c-405c-8199-64cad0e252e9\", \"x\": [1645.0, 1645.0, 1655.0, 1655.0], \"xaxis\": \"x\", \"y\": [0.0, 0.0, 0.0, 0.0], \"yaxis\": \"y\"}, {\"hoverinfo\": \"text\", \"marker\": {\"color\": \"rgb(0,116,217)\"}, \"mode\": \"lines\", \"text\": [\"cluster: 82, component: Chinese Spring 1_001829_6229_m/z332.2583_RT8.4886\", \"cluster: 82, component: Chinese Spring 1_001829_6229_m/z332.2583_RT8.4886\", null, null], \"type\": \"scatter\", \"uid\": \"8f907855-38bc-4fdc-9513-5992ec916521\", \"x\": [1635.0, 1635.0, 1650.0, 1650.0], \"xaxis\": \"x\", \"y\": [0.0, 0.6829268292682927, 0.6829268292682927, 0.0], \"yaxis\": \"y\"}, {\"hoverinfo\": \"text\", \"marker\": {\"color\": \"rgb(0,116,217)\"}, \"mode\": \"lines\", \"text\": [\"cluster: 83, component: Chinese Spring 1_001829_5942_m/z332.2584_RT7.8067\", \"cluster: 83, component: Chinese Spring 1_001829_5942_m/z332.2584_RT7.8067\", null, null], \"type\": \"scatter\", \"uid\": \"465f1494-a205-4298-98dd-8fd4574b8838\", \"x\": [1625.0, 1625.0, 1642.5, 1642.5], \"xaxis\": \"x\", \"y\": [0.0, 0.8, 0.8, 0.6829268292682927], \"yaxis\": \"y\"}, {\"hoverinfo\": \"text\", \"marker\": {\"color\": \"rgb(0,116,217)\"}, \"mode\": \"lines\", \"text\": [null, null, null, null], \"type\": \"scatter\", \"uid\": \"6ba44321-6f92-4f06-8997-e55c06342396\", \"x\": [1610.0, 1610.0, 1633.75, 1633.75], \"xaxis\": \"x\", \"y\": [0.6363636363636364, 0.9666666666666667, 0.9666666666666667, 0.8], \"yaxis\": \"y\"}, {\"hoverinfo\": \"text\", \"marker\": {\"color\": \"rgb(0,116,217)\"}, \"mode\": \"lines\", \"text\": [null, null, null, null], \"type\": \"scatter\", \"uid\": \"ef14fe37-2f39-4e41-b039-081345ff895b\", \"x\": [1542.34375, 1542.34375, 1621.875, 1621.875], \"xaxis\": \"x\", \"y\": [0.9523809523809523, 0.9772727272727273, 0.9772727272727273, 0.9666666666666667], \"yaxis\": \"y\"}, {\"hoverinfo\": \"text\", \"marker\": {\"color\": \"rgb(61,153,112)\"}, \"mode\": \"lines\", \"text\": [\"cluster: 84, component: Chinese Spring 1_001829_1633_m/z246.1446_RT2.2783\", \"cluster: 84, component: Chinese Spring 1_001829_1633_m/z246.1446_RT2.2783\", \"cluster: 84, component: Chinese Spring 1_001829_1708_m/z247.1286_RT2.6482\", \"cluster: 84, component: Chinese Spring 1_001829_1708_m/z247.1286_RT2.6482\"], \"type\": \"scatter\", \"uid\": \"d69b2118-f347-4863-b6ca-cbb25d1a5df0\", \"x\": [1685.0, 1685.0, 1695.0, 1695.0], \"xaxis\": \"x\", \"y\": [0.0, 0.5, 0.5, 0.0], \"yaxis\": \"y\"}, {\"hoverinfo\": \"text\", \"marker\": {\"color\": \"rgb(255,65,54)\"}, \"mode\": \"lines\", \"text\": [\"cluster: 85, component: Chinese Spring 1_001829_1642_m/z260.1602_RT2.3719\", \"cluster: 85, component: Chinese Spring 1_001829_1642_m/z260.1602_RT2.3719\", \"cluster: 85, component: Chinese Spring 2_001850_1603_m/z260.1603_RT2.4945\", \"cluster: 85, component: Chinese Spring 2_001850_1603_m/z260.1603_RT2.4945\"], \"type\": \"scatter\", \"uid\": \"7044cd93-1e36-4b34-98ce-ecd472788abb\", \"x\": [1705.0, 1705.0, 1715.0, 1715.0], \"xaxis\": \"x\", \"y\": [0.0, 0.2857142857142857, 0.2857142857142857, 0.0], \"yaxis\": \"y\"}, {\"hoverinfo\": \"text\", \"marker\": {\"color\": \"rgb(35,205,205)\"}, \"mode\": \"lines\", \"text\": [\"cluster: 86, component: Chinese Spring 1_001829_1564_m/z233.1494_RT2.1044\", \"cluster: 86, component: Chinese Spring 1_001829_1564_m/z233.1494_RT2.1044\", \"cluster: 86, component: Chinese Spring 5_001887_1443_m/z233.1494_RT2.2226\", \"cluster: 86, component: Chinese Spring 5_001887_1443_m/z233.1494_RT2.2226\"], \"type\": \"scatter\", \"uid\": \"bf099205-3df7-48a4-8588-dab1bfafac9e\", \"x\": [1735.0, 1735.0, 1745.0, 1745.0], \"xaxis\": \"x\", \"y\": [0.0, 0.2631578947368421, 0.2631578947368421, 0.0], \"yaxis\": \"y\"}, {\"hoverinfo\": \"text\", \"marker\": {\"color\": \"rgb(35,205,205)\"}, \"mode\": \"lines\", \"text\": [\"cluster: 86, component: Chinese Spring 1_001829_1656_m/z233.1494_RT2.5234\", \"cluster: 86, component: Chinese Spring 1_001829_1656_m/z233.1494_RT2.5234\", null, null], \"type\": \"scatter\", \"uid\": \"009a471f-b8ca-4ea0-bade-2cd916315953\", \"x\": [1725.0, 1725.0, 1740.0, 1740.0], \"xaxis\": \"x\", \"y\": [0.0, 0.5416666666666666, 0.5416666666666666, 0.2631578947368421], \"yaxis\": \"y\"}, {\"hoverinfo\": \"text\", \"marker\": {\"color\": \"rgb(0,116,217)\"}, \"mode\": \"lines\", \"text\": [null, null, null, null], \"type\": \"scatter\", \"uid\": \"fd890137-cd61-408f-bad9-497a0e5b900c\", \"x\": [1710.0, 1710.0, 1732.5, 1732.5], \"xaxis\": \"x\", \"y\": [0.2857142857142857, 0.8648648648648649, 0.8648648648648649, 0.5416666666666666], \"yaxis\": \"y\"}, {\"hoverinfo\": \"text\", \"marker\": {\"color\": \"rgb(0,116,217)\"}, \"mode\": \"lines\", \"text\": [null, null, null, null], \"type\": \"scatter\", \"uid\": \"2d3ab33c-b7d4-4c5b-b26d-f7abd065d2f6\", \"x\": [1690.0, 1690.0, 1721.25, 1721.25], \"xaxis\": \"x\", \"y\": [0.5, 0.9574468085106383, 0.9574468085106383, 0.8648648648648649], \"yaxis\": \"y\"}, {\"hoverinfo\": \"text\", \"marker\": {\"color\": \"rgb(0,116,217)\"}, \"mode\": \"lines\", \"text\": [\"cluster: 87, component: Chinese Spring 1_001829_3318_m/z132.0444_RT4.7743\", \"cluster: 87, component: Chinese Spring 1_001829_3318_m/z132.0444_RT4.7743\", null, null], \"type\": \"scatter\", \"uid\": \"97ebbe33-38b2-45b0-8292-9c3a1defde78\", \"x\": [1675.0, 1675.0, 1705.625, 1705.625], \"xaxis\": \"x\", \"y\": [0.0, 0.98, 0.98, 0.9574468085106383], \"yaxis\": \"y\"}, {\"hoverinfo\": \"text\", \"marker\": {\"color\": \"rgb(0,116,217)\"}, \"mode\": \"lines\", \"text\": [\"cluster: 88, component: Chinese Spring 1_001829_0877_m/z260.1603_RT0.9851\", \"cluster: 88, component: Chinese Spring 1_001829_0877_m/z260.1603_RT0.9851\", null, null], \"type\": \"scatter\", \"uid\": \"bf0c4a6d-4632-4b20-aae8-183533b3e623\", \"x\": [1665.0, 1665.0, 1690.3125, 1690.3125], \"xaxis\": \"x\", \"y\": [0.0, 0.9846153846153847, 0.9846153846153847, 0.98], \"yaxis\": \"y\"}, {\"hoverinfo\": \"text\", \"marker\": {\"color\": \"rgb(0,116,217)\"}, \"mode\": \"lines\", \"text\": [\"cluster: 89, component: Chinese Spring 1_001829_1393_m/z221.1284_RT1.6494\", \"cluster: 89, component: Chinese Spring 1_001829_1393_m/z221.1284_RT1.6494\", \"cluster: 90, component: Chinese Spring 2_001850_1669_m/z237.1232_RT2.8467\", \"cluster: 90, component: Chinese Spring 2_001850_1669_m/z237.1232_RT2.8467\"], \"type\": \"scatter\", \"uid\": \"e0889135-727a-4082-a62b-466954193899\", \"x\": [1755.0, 1755.0, 1765.0, 1765.0], \"xaxis\": \"x\", \"y\": [0.0, 0.7142857142857143, 0.7142857142857143, 0.0], \"yaxis\": \"y\"}, {\"hoverinfo\": \"text\", \"marker\": {\"color\": \"rgb(0,116,217)\"}, \"mode\": \"lines\", \"text\": [\"cluster: 91, component: Chinese Spring 1_001829_0821_m/z237.1231_RT0.9093\", \"cluster: 91, component: Chinese Spring 1_001829_0821_m/z237.1231_RT0.9093\", \"cluster: 92, component: Chinese Spring 1_001829_2218_m/z237.1231_RT3.6645\", \"cluster: 92, component: Chinese Spring 1_001829_2218_m/z237.1231_RT3.6645\"], \"type\": \"scatter\", \"uid\": \"d3860901-e3ee-41a3-aaf0-ea159c03a4c9\", \"x\": [1775.0, 1775.0, 1785.0, 1785.0], \"xaxis\": \"x\", \"y\": [0.0, 0.9444444444444444, 0.9444444444444444, 0.0], \"yaxis\": \"y\"}, {\"hoverinfo\": \"text\", \"marker\": {\"color\": \"rgb(0,116,217)\"}, \"mode\": \"lines\", \"text\": [null, null, null, null], \"type\": \"scatter\", \"uid\": \"8c8f19c7-8872-49b4-bbfa-c7f881c2890f\", \"x\": [1760.0, 1760.0, 1780.0, 1780.0], \"xaxis\": \"x\", \"y\": [0.7142857142857143, 0.9761904761904762, 0.9761904761904762, 0.9444444444444444], \"yaxis\": \"y\"}, {\"hoverinfo\": \"text\", \"marker\": {\"color\": \"rgb(133,20,75)\"}, \"mode\": \"lines\", \"text\": [\"cluster: 93, component: Chinese Spring 1_001829_3925_m/z222.0703_RT5.2470\", \"cluster: 93, component: Chinese Spring 1_001829_3925_m/z222.0703_RT5.2470\", \"cluster: 93, component: Chinese Spring 1_001829_6287_m/z250.1014_RT8.6045\", \"cluster: 93, component: Chinese Spring 1_001829_6287_m/z250.1014_RT8.6045\"], \"type\": \"scatter\", \"uid\": \"3d4a33cb-6cc7-463a-90e0-7d4b256dfc31\", \"x\": [1825.0, 1825.0, 1835.0, 1835.0], \"xaxis\": \"x\", \"y\": [0.0, 0.5081967213114754, 0.5081967213114754, 0.0], \"yaxis\": \"y\"}, {\"hoverinfo\": \"text\", \"marker\": {\"color\": \"rgb(0,116,217)\"}, \"mode\": \"lines\", \"text\": [\"cluster: 94, component: Chinese Spring 1_001829_5742_m/z268.5936_RT7.4233\", \"cluster: 94, component: Chinese Spring 1_001829_5742_m/z268.5936_RT7.4233\", null, null], \"type\": \"scatter\", \"uid\": \"c78137aa-bacd-444c-a6a2-6a598bd65691\", \"x\": [1815.0, 1815.0, 1830.0, 1830.0], \"xaxis\": \"x\", \"y\": [0.0, 0.6923076923076923, 0.6923076923076923, 0.5081967213114754], \"yaxis\": \"y\"}, {\"hoverinfo\": \"text\", \"marker\": {\"color\": \"rgb(255,220,0)\"}, \"mode\": \"lines\", \"text\": [\"cluster: 95, component: Chinese Spring 1_001829_2484_m/z247.0598_RT4.0255\", \"cluster: 95, component: Chinese Spring 1_001829_2484_m/z247.0598_RT4.0255\", \"cluster: 95, component: Chinese Spring 1_001829_2604_m/z247.0598_RT4.1147\", \"cluster: 95, component: Chinese Spring 1_001829_2604_m/z247.0598_RT4.1147\"], \"type\": \"scatter\", \"uid\": \"4e34dbfc-695a-422a-b7dc-9b697d13c4f0\", \"x\": [1845.0, 1845.0, 1855.0, 1855.0], \"xaxis\": \"x\", \"y\": [0.0, 0.35294117647058826, 0.35294117647058826, 0.0], \"yaxis\": \"y\"}, {\"hoverinfo\": \"text\", \"marker\": {\"color\": \"rgb(0,116,217)\"}, \"mode\": \"lines\", \"text\": [\"cluster: 96, component: Chinese Spring 1_001829_1873_m/z212.0390_RT3.0271\", \"cluster: 96, component: Chinese Spring 1_001829_1873_m/z212.0390_RT3.0271\", \"cluster: 97, component: Chinese Spring 1_001829_5506_m/z214.5649_RT6.8301\", \"cluster: 97, component: Chinese Spring 1_001829_5506_m/z214.5649_RT6.8301\"], \"type\": \"scatter\", \"uid\": \"4b7065da-22ae-4d51-a3e3-4cd3ba25a293\", \"x\": [1875.0, 1875.0, 1885.0, 1885.0], \"xaxis\": \"x\", \"y\": [0.0, 0.7777777777777778, 0.7777777777777778, 0.0], \"yaxis\": \"y\"}, {\"hoverinfo\": \"text\", \"marker\": {\"color\": \"rgb(0,116,217)\"}, \"mode\": \"lines\", \"text\": [\"cluster: 98, component: Chinese Spring 1_001829_3431_m/z219.0467_RT4.8501\", \"cluster: 98, component: Chinese Spring 1_001829_3431_m/z219.0467_RT4.8501\", null, null], \"type\": \"scatter\", \"uid\": \"53a81a79-c482-4451-9bd6-4ac459a31ee3\", \"x\": [1865.0, 1865.0, 1880.0, 1880.0], \"xaxis\": \"x\", \"y\": [0.0, 0.8125, 0.8125, 0.7777777777777778], \"yaxis\": \"y\"}, {\"hoverinfo\": \"text\", \"marker\": {\"color\": \"rgb(0,116,217)\"}, \"mode\": \"lines\", \"text\": [null, null, null, null], \"type\": \"scatter\", \"uid\": \"ab70fd0d-fb4f-42fd-8bbe-6f32a6b6e8d2\", \"x\": [1850.0, 1850.0, 1872.5, 1872.5], \"xaxis\": \"x\", \"y\": [0.35294117647058826, 0.8571428571428571, 0.8571428571428571, 0.8125], \"yaxis\": \"y\"}, {\"hoverinfo\": \"text\", \"marker\": {\"color\": \"rgb(0,116,217)\"}, \"mode\": \"lines\", \"text\": [null, null, null, null], \"type\": \"scatter\", \"uid\": \"8416ba06-c949-4e8e-975b-6d0ba7c4777b\", \"x\": [1822.5, 1822.5, 1861.25, 1861.25], \"xaxis\": \"x\", \"y\": [0.6923076923076923, 0.9178082191780822, 0.9178082191780822, 0.8571428571428571], \"yaxis\": \"y\"}, {\"hoverinfo\": \"text\", \"marker\": {\"color\": \"rgb(0,116,217)\"}, \"mode\": \"lines\", \"text\": [\"cluster: 99, component: Chinese Spring 1_001829_0924_m/z214.5102_RT1.0029\", \"cluster: 99, component: Chinese Spring 1_001829_0924_m/z214.5102_RT1.0029\", null, null], \"type\": \"scatter\", \"uid\": \"9739e84e-8911-456c-a0d5-986eb0e9a2f4\", \"x\": [1805.0, 1805.0, 1841.875, 1841.875], \"xaxis\": \"x\", \"y\": [0.0, 0.9534883720930233, 0.9534883720930233, 0.9178082191780822], \"yaxis\": \"y\"}, {\"hoverinfo\": \"text\", \"marker\": {\"color\": \"rgb(0,116,217)\"}, \"mode\": \"lines\", \"text\": [\"cluster: 100, component: Chinese Spring 1_001829_4649_m/z625.1763_RT5.7730\", \"cluster: 100, component: Chinese Spring 1_001829_4649_m/z625.1763_RT5.7730\", \"cluster: 101, component: Chinese Spring 1_001829_4877_m/z463.1232_RT5.9646\", \"cluster: 101, component: Chinese Spring 1_001829_4877_m/z463.1232_RT5.9646\"], \"type\": \"scatter\", \"uid\": \"0a4884fa-bdac-41cf-8c0e-3dd20be84f0c\", \"x\": [1905.0, 1905.0, 1915.0, 1915.0], \"xaxis\": \"x\", \"y\": [0.0, 0.6774193548387096, 0.6774193548387096, 0.0], \"yaxis\": \"y\"}, {\"hoverinfo\": \"text\", \"marker\": {\"color\": \"rgb(0,116,217)\"}, \"mode\": \"lines\", \"text\": [\"cluster: 102, component: Chinese Spring 1_001829_3870_m/z595.1657_RT5.1846\", \"cluster: 102, component: Chinese Spring 1_001829_3870_m/z595.1657_RT5.1846\", null, null], \"type\": \"scatter\", \"uid\": \"ad365777-5503-482a-a4a8-bf20515fd3c7\", \"x\": [1895.0, 1895.0, 1910.0, 1910.0], \"xaxis\": \"x\", \"y\": [0.0, 0.8947368421052632, 0.8947368421052632, 0.6774193548387096], \"yaxis\": \"y\"}, {\"hoverinfo\": \"text\", \"marker\": {\"color\": \"rgb(40,35,35)\"}, \"mode\": \"lines\", \"text\": [\"cluster: 103, component: Chinese Spring 1_001829_0770_m/z182.0811_RT0.8558\", \"cluster: 103, component: Chinese Spring 1_001829_0770_m/z182.0811_RT0.8558\", \"cluster: 103, component: Chinese Spring 1_001829_0839_m/z182.0811_RT0.9405\", \"cluster: 103, component: Chinese Spring 1_001829_0839_m/z182.0811_RT0.9405\"], \"type\": \"scatter\", \"uid\": \"3c854e78-0276-4c52-b7dc-73e7f8da9bda\", \"x\": [1925.0, 1925.0, 1935.0, 1935.0], \"xaxis\": \"x\", \"y\": [0.0, 0.4375, 0.4375, 0.0], \"yaxis\": \"y\"}, {\"hoverinfo\": \"text\", \"marker\": {\"color\": \"rgb(61,153,112)\"}, \"mode\": \"lines\", \"text\": [\"cluster: 104, component: Chinese Spring 1_001829_3666_m/z212.0552_RT5.0017\", \"cluster: 104, component: Chinese Spring 1_001829_3666_m/z212.0552_RT5.0017\", \"cluster: 104, component: Chinese Spring 1_001829_4302_m/z194.0447_RT5.4788\", \"cluster: 104, component: Chinese Spring 1_001829_4302_m/z194.0447_RT5.4788\"], \"type\": \"scatter\", \"uid\": \"392128d9-59d0-4a38-a13f-7d162773b8ec\", \"x\": [1945.0, 1945.0, 1955.0, 1955.0], \"xaxis\": \"x\", \"y\": [0.0, 0.5370370370370371, 0.5370370370370371, 0.0], \"yaxis\": \"y\"}, {\"hoverinfo\": \"text\", \"marker\": {\"color\": \"rgb(0,116,217)\"}, \"mode\": \"lines\", \"text\": [null, null, null, null], \"type\": \"scatter\", \"uid\": \"b74bda8c-0a1c-4630-aeca-07a60a8da198\", \"x\": [1930.0, 1930.0, 1950.0, 1950.0], \"xaxis\": \"x\", \"y\": [0.4375, 0.921875, 0.921875, 0.5370370370370371], \"yaxis\": \"y\"}, {\"hoverinfo\": \"text\", \"marker\": {\"color\": \"rgb(0,116,217)\"}, \"mode\": \"lines\", \"text\": [\"cluster: 105, component: Chinese Spring 1_001829_2440_m/z333.1520_RT3.9631\", \"cluster: 105, component: Chinese Spring 1_001829_2440_m/z333.1520_RT3.9631\", \"cluster: 106, component: Chinese Spring 1_001829_2563_m/z333.1519_RT4.0835\", \"cluster: 106, component: Chinese Spring 1_001829_2563_m/z333.1519_RT4.0835\"], \"type\": \"scatter\", \"uid\": \"2ef60448-694a-4bb0-9349-f69b820eb726\", \"x\": [1965.0, 1965.0, 1975.0, 1975.0], \"xaxis\": \"x\", \"y\": [0.0, 0.8461538461538461, 0.8461538461538461, 0.0], \"yaxis\": \"y\"}, {\"hoverinfo\": \"text\", \"marker\": {\"color\": \"rgb(0,116,217)\"}, \"mode\": \"lines\", \"text\": [\"cluster: 107, component: Chinese Spring 1_001829_1519_m/z319.1363_RT1.9258\", \"cluster: 107, component: Chinese Spring 1_001829_1519_m/z319.1363_RT1.9258\", \"cluster: 108, component: Chinese Spring 1_001829_1645_m/z319.1363_RT2.3986\", \"cluster: 108, component: Chinese Spring 1_001829_1645_m/z319.1363_RT2.3986\"], \"type\": \"scatter\", \"uid\": \"d7561ff4-1792-45cf-b52d-526648153e31\", \"x\": [1985.0, 1985.0, 1995.0, 1995.0], \"xaxis\": \"x\", \"y\": [0.0, 0.75, 0.75, 0.0], \"yaxis\": \"y\"}, {\"hoverinfo\": \"text\", \"marker\": {\"color\": \"rgb(255,65,54)\"}, \"mode\": \"lines\", \"text\": [\"cluster: 109, component: Chinese Spring 1_001829_1084_m/z229.1545_RT1.0920\", \"cluster: 109, component: Chinese Spring 1_001829_1084_m/z229.1545_RT1.0920\", \"cluster: 109, component: Chinese Spring 1_001829_1122_m/z229.1545_RT1.1143\", \"cluster: 109, component: Chinese Spring 1_001829_1122_m/z229.1545_RT1.1143\"], \"type\": \"scatter\", \"uid\": \"1ba0acd2-ff1a-4957-b82b-1f72ceee6a99\", \"x\": [2035.0, 2035.0, 2045.0, 2045.0], \"xaxis\": \"x\", \"y\": [0.0, 0.0, 0.0, 0.0], \"yaxis\": \"y\"}, {\"hoverinfo\": \"text\", \"marker\": {\"color\": \"rgb(255,65,54)\"}, \"mode\": \"lines\", \"text\": [\"cluster: 109, component: Chinese Spring 1_001829_0683_m/z229.1545_RT0.7845\", \"cluster: 109, component: Chinese Spring 1_001829_0683_m/z229.1545_RT0.7845\", null, null], \"type\": \"scatter\", \"uid\": \"5bd87a3d-1ce1-43c8-a61e-17283fac9135\", \"x\": [2025.0, 2025.0, 2040.0, 2040.0], \"xaxis\": \"x\", \"y\": [0.0, 0.38461538461538464, 0.38461538461538464, 0.0], \"yaxis\": \"y\"}, {\"hoverinfo\": \"text\", \"marker\": {\"color\": \"rgb(0,116,217)\"}, \"mode\": \"lines\", \"text\": [\"cluster: 110, component: Chinese Spring 1_001829_0764_m/z229.1545_RT0.8469\", \"cluster: 110, component: Chinese Spring 1_001829_0764_m/z229.1545_RT0.8469\", null, null], \"type\": \"scatter\", \"uid\": \"4a7f4985-80ed-4b35-bac1-54415b0738da\", \"x\": [2015.0, 2015.0, 2032.5, 2032.5], \"xaxis\": \"x\", \"y\": [0.0, 0.875, 0.875, 0.38461538461538464], \"yaxis\": \"y\"}, {\"hoverinfo\": \"text\", \"marker\": {\"color\": \"rgb(0,116,217)\"}, \"mode\": \"lines\", \"text\": [\"cluster: 111, component: Chinese Spring 1_001829_0094_m/z265.0154_RT0.5705\", \"cluster: 111, component: Chinese Spring 1_001829_0094_m/z265.0154_RT0.5705\", null, null], \"type\": \"scatter\", \"uid\": \"96661b83-7f3d-4412-9487-c4849a2fa92f\", \"x\": [2005.0, 2005.0, 2023.75, 2023.75], \"xaxis\": \"x\", \"y\": [0.0, 1.0, 1.0, 0.875], \"yaxis\": \"y\"}, {\"hoverinfo\": \"text\", \"marker\": {\"color\": \"rgb(0,116,217)\"}, \"mode\": \"lines\", \"text\": [null, null, null, null], \"type\": \"scatter\", \"uid\": \"3672a9da-78b7-4f98-90a6-64c7ac6fcb51\", \"x\": [1990.0, 1990.0, 2014.375, 2014.375], \"xaxis\": \"x\", \"y\": [0.75, 1.0, 1.0, 1.0], \"yaxis\": \"y\"}, {\"hoverinfo\": \"text\", \"marker\": {\"color\": \"rgb(0,116,217)\"}, \"mode\": \"lines\", \"text\": [null, null, null, null], \"type\": \"scatter\", \"uid\": \"d70e9d1c-d6bb-4761-b228-6836eb7c1ace\", \"x\": [1970.0, 1970.0, 2002.1875, 2002.1875], \"xaxis\": \"x\", \"y\": [0.8461538461538461, 1.0, 1.0, 1.0], \"yaxis\": \"y\"}, {\"hoverinfo\": \"text\", \"marker\": {\"color\": \"rgb(0,116,217)\"}, \"mode\": \"lines\", \"text\": [null, null, null, null], \"type\": \"scatter\", \"uid\": \"8c4067f3-47e8-4b9c-9d5b-a41d202d5bfc\", \"x\": [1940.0, 1940.0, 1986.09375, 1986.09375], \"xaxis\": \"x\", \"y\": [0.921875, 1.0, 1.0, 1.0], \"yaxis\": \"y\"}, {\"hoverinfo\": \"text\", \"marker\": {\"color\": \"rgb(0,116,217)\"}, \"mode\": \"lines\", \"text\": [null, null, null, null], \"type\": \"scatter\", \"uid\": \"d928877b-4078-406d-b291-1b53a099a3a8\", \"x\": [1902.5, 1902.5, 1963.046875, 1963.046875], \"xaxis\": \"x\", \"y\": [0.8947368421052632, 1.0, 1.0, 1.0], \"yaxis\": \"y\"}, {\"hoverinfo\": \"text\", \"marker\": {\"color\": \"rgb(0,116,217)\"}, \"mode\": \"lines\", \"text\": [null, null, null, null], \"type\": \"scatter\", \"uid\": \"39a39b6d-fef0-43b7-95c7-6ebed61ef7d6\", \"x\": [1823.4375, 1823.4375, 1932.7734375, 1932.7734375], \"xaxis\": \"x\", \"y\": [0.9534883720930233, 1.0, 1.0, 1.0], \"yaxis\": \"y\"}, {\"hoverinfo\": \"text\", \"marker\": {\"color\": \"rgb(0,116,217)\"}, \"mode\": \"lines\", \"text\": [\"cluster: 112, component: Chinese Spring 1_001829_8795_m/z797.5175_RT14.4412\", \"cluster: 112, component: Chinese Spring 1_001829_8795_m/z797.5175_RT14.4412\", null, null], \"type\": \"scatter\", \"uid\": \"07ae5978-09bb-402b-adff-70bc61b75427\", \"x\": [1795.0, 1795.0, 1878.10546875, 1878.10546875], \"xaxis\": \"x\", \"y\": [0.0, 1.0, 1.0, 1.0], \"yaxis\": \"y\"}, {\"hoverinfo\": \"text\", \"marker\": {\"color\": \"rgb(0,116,217)\"}, \"mode\": \"lines\", \"text\": [null, null, null, null], \"type\": \"scatter\", \"uid\": \"1706821b-419b-44b4-b439-702fe9443fc1\", \"x\": [1770.0, 1770.0, 1836.552734375, 1836.552734375], \"xaxis\": \"x\", \"y\": [0.9761904761904762, 1.0, 1.0, 1.0], \"yaxis\": \"y\"}, {\"hoverinfo\": \"text\", \"marker\": {\"color\": \"rgb(0,116,217)\"}, \"mode\": \"lines\", \"text\": [null, null, null, null], \"type\": \"scatter\", \"uid\": \"286398b1-7054-4608-ab64-15b7e3231038\", \"x\": [1677.65625, 1677.65625, 1803.2763671875, 1803.2763671875], \"xaxis\": \"x\", \"y\": [0.9846153846153847, 1.0, 1.0, 1.0], \"yaxis\": \"y\"}, {\"hoverinfo\": \"text\", \"marker\": {\"color\": \"rgb(0,116,217)\"}, \"mode\": \"lines\", \"text\": [null, null, null, null], \"type\": \"scatter\", \"uid\": \"03941bbf-ac4f-4ee1-a3f4-addbc4feb41d\", \"x\": [1582.109375, 1582.109375, 1740.46630859375, 1740.46630859375], \"xaxis\": \"x\", \"y\": [0.9772727272727273, 1.0, 1.0, 1.0], \"yaxis\": \"y\"}, {\"hoverinfo\": \"text\", \"marker\": {\"color\": \"rgb(0,116,217)\"}, \"mode\": \"lines\", \"text\": [null, null, null, null], \"type\": \"scatter\", \"uid\": \"dc04e1a3-6ff2-4648-8a98-220c6ee9584c\", \"x\": [1451.875, 1451.875, 1661.287841796875, 1661.287841796875], \"xaxis\": \"x\", \"y\": [0.9857142857142858, 1.0, 1.0, 1.0], \"yaxis\": \"y\"}, {\"hoverinfo\": \"text\", \"marker\": {\"color\": \"rgb(0,116,217)\"}, \"mode\": \"lines\", \"text\": [null, null, null, null], \"type\": \"scatter\", \"uid\": \"d33ecd86-bae0-4b93-a00a-7909badc8f2e\", \"x\": [1307.8125, 1307.8125, 1556.5814208984375, 1556.5814208984375], \"xaxis\": \"x\", \"y\": [0.9891304347826086, 1.0, 1.0, 1.0], \"yaxis\": \"y\"}, {\"hoverinfo\": \"text\", \"marker\": {\"color\": \"rgb(0,116,217)\"}, \"mode\": \"lines\", \"text\": [null, null, null, null], \"type\": \"scatter\", \"uid\": \"b302f5a0-87f4-4e12-bfd6-e04a5631614c\", \"x\": [1124.912109375, 1124.912109375, 1432.1969604492188, 1432.1969604492188], \"xaxis\": \"x\", \"y\": [0.9696969696969697, 1.0, 1.0, 1.0], \"yaxis\": \"y\"}, {\"hoverinfo\": \"text\", \"marker\": {\"color\": \"rgb(0,116,217)\"}, \"mode\": \"lines\", \"text\": [null, null, null, null], \"type\": \"scatter\", \"uid\": \"08124839-63a4-41e4-b10d-0286064a7400\", \"x\": [1005.15625, 1005.15625, 1278.5545349121094, 1278.5545349121094], \"xaxis\": \"x\", \"y\": [0.8214285714285714, 1.0, 1.0, 1.0], \"yaxis\": \"y\"}, {\"hoverinfo\": \"text\", \"marker\": {\"color\": \"rgb(0,116,217)\"}, \"mode\": \"lines\", \"text\": [\"cluster: 113, component: blk_001809_0035_m/z141.0508_RT0.5557\", \"cluster: 113, component: blk_001809_0035_m/z141.0508_RT0.5557\", null, null], \"type\": \"scatter\", \"uid\": \"f00283c1-a166-46c8-a75e-87c0aff03cf0\", \"x\": [965.0, 965.0, 1141.8553924560547, 1141.8553924560547], \"xaxis\": \"x\", \"y\": [0.0, 1.0, 1.0, 1.0], \"yaxis\": \"y\"}, {\"hoverinfo\": \"text\", \"marker\": {\"color\": \"rgb(0,116,217)\"}, \"mode\": \"lines\", \"text\": [null, null, null, null], \"type\": \"scatter\", \"uid\": \"8913b57a-bda3-4ba5-adc6-fa95c264e1e6\", \"x\": [720.869140625, 720.869140625, 1053.4276962280273, 1053.4276962280273], \"xaxis\": \"x\", \"y\": [0.9882352941176471, 1.0, 1.0, 1.0], \"yaxis\": \"y\"}, {\"hoverinfo\": \"text\", \"marker\": {\"color\": \"rgb(0,116,217)\"}, \"mode\": \"lines\", \"text\": [null, null, null, null], \"type\": \"scatter\", \"uid\": \"0ebe43ff-e123-4d0b-a65f-b4fa22a9ff90\", \"x\": [484.0625, 484.0625, 887.1484184265137, 887.1484184265137], \"xaxis\": \"x\", \"y\": [0.9814814814814815, 1.0, 1.0, 1.0], \"yaxis\": \"y\"}, {\"hoverinfo\": \"text\", \"marker\": {\"color\": \"rgb(0,116,217)\"}, \"mode\": \"lines\", \"text\": [null, null, null, null], \"type\": \"scatter\", \"uid\": \"85f735cd-d03b-4923-9cb4-174d35d4da01\", \"x\": [221.85302734375, 221.85302734375, 685.6054592132568, 685.6054592132568], \"xaxis\": \"x\", \"y\": [0.9625, 1.0, 1.0, 1.0], \"yaxis\": \"y\"}],\n",
       "                        {\"autosize\": false, \"height\": 700, \"hovermode\": \"closest\", \"margin\": {\"b\": 612}, \"showlegend\": false, \"title\": {\"text\": \"Component clusters. method = jaccard, cutoff = 0.6, threshold = 0.0008\"}, \"width\": 800, \"xaxis\": {\"mirror\": \"allticks\", \"rangemode\": \"tozero\", \"showgrid\": false, \"showline\": true, \"showticklabels\": true, \"tickmode\": \"array\", \"ticks\": \"outside\", \"ticktext\": [\"Chinese Spring 1_001829_8203_m/z613.4826_RT12.2884\", \"Chinese Spring 1_001829_7933_m/z792.5621_RT11.9987\", \"Chinese Spring 1_001829_8737_m/z613.4826_RT13.9777\", \"Chinese Spring 1_001829_6867_m/z596.3096_RT9.9999\", \"Chinese Spring 5_001887_7848_m/z792.5621_RT14.4273\", \"blk_001809_2310_m/z571.4292_RT14.5025\", \"Chinese Spring 1_001829_7309_m/z497.3107_RT10.7050\", \"Chinese Spring 1_001829_6971_m/z507.2717_RT10.1162\", \"Cobra 1_001832_7415_m/z571.4716_RT11.9269\", \"Chinese Spring 1_001829_8002_m/z335.2578_RT12.0967\", \"Chinese Spring 1_001829_6962_m/z335.2578_RT10.1118\", \"Chinese Spring 1_001829_7924_m/z335.2579_RT11.9987\", \"Chinese Spring 1_001829_7102_m/z335.2578_RT10.4732\", \"Chinese Spring 1_001829_7304_m/z335.2577_RT10.7050\", \"Chinese Spring 1_001829_6770_m/z335.2578_RT9.7767\", \"Chinese Spring 1_001829_7176_m/z261.2209_RT10.5802\", \"Chinese Spring 1_001829_6995_m/z353.2686_RT10.1519\", \"Chinese Spring 1_001829_7306_m/z353.2686_RT10.7050\", \"Chinese Spring 1_001829_7300_m/z261.2209_RT10.7050\", \"Chinese Spring 1_001829_6884_m/z335.2579_RT10.0132\", \"Chinese Spring 1_001829_7178_m/z335.2579_RT10.5802\", \"blk_001809_0873_m/z272.2582_RT9.6975\", \"Cobra 1_001832_8139_m/z338.3414_RT14.1645\", \"blk_001809_2081_m/z244.1905_RT12.7018\", \"Chinese Spring 1_001829_6885_m/z353.2690_RT10.0132\", \"Chinese Spring 1_001829_7180_m/z353.2688_RT10.5802\", \"Chinese Spring 1_001829_7587_m/z278.2475_RT11.3925\", \"Chinese Spring 1_001829_7923_m/z279.2315_RT11.9987\", \"Chinese Spring 1_001829_7499_m/z435.2504_RT11.0802\", \"Chinese Spring 1_001829_7119_m/z337.2734_RT10.5000\", \"Chinese Spring 1_001829_8646_m/z337.2733_RT13.6924\", \"Chinese Spring 1_001829_7690_m/z618.4271_RT11.6644\", \"Chinese Spring 1_001829_8106_m/z583.4143_RT12.1770\", \"Chinese Spring 1_001829_7448_m/z599.4093_RT11.0178\", \"Chinese Spring 1_001829_7776_m/z601.4244_RT11.7714\", \"Chinese Spring 1_001829_8582_m/z599.4089_RT13.2111\", \"Chinese Spring 1_001829_7361_m/z618.4278_RT10.7852\", \"Chinese Spring 1_001829_7576_m/z618.4271_RT11.3791\", \"Chinese Spring 1_001829_8729_m/z568.4263_RT13.9732\", \"Chinese Spring 1_001829_7954_m/z565.4037_RT12.0210\", \"Chinese Spring 1_001829_7574_m/z583.4141_RT11.3791\", \"Chinese Spring 1_001829_7780_m/z583.4141_RT11.7758\", \"Chinese Spring 1_001829_8525_m/z601.4234_RT13.0595\", \"Chinese Spring 1_001829_7357_m/z583.4143_RT10.7852\", \"Chinese Spring 1_001829_8191_m/z583.4143_RT12.2617\", \"Chinese Spring 1_001829_0928_m/z269.1605_RT1.0029\", \"Chinese Spring 1_001829_0989_m/z268.1037_RT1.0386\", \"blk_001809_1552_m/z364.3418_RT11.7523\", \"blk_001809_1616_m/z364.3418_RT11.8147\", \"blk_001809_1516_m/z408.3681_RT11.7389\", \"blk_001809_1750_m/z466.4099_RT12.1446\", \"blk_001809_1657_m/z408.3681_RT11.9395\", \"blk_001809_1903_m/z482.4048_RT12.3318\", \"blk_001809_1999_m/z364.3424_RT12.5502\", \"blk_001809_2060_m/z364.3424_RT12.6438\", \"blk_001809_1642_m/z424.3632_RT11.9261\", \"blk_001809_1747_m/z421.3521_RT12.1446\", \"Chinese Spring 1_001829_7380_m/z483.2713_RT10.8387\", \"Chinese Spring 1_001829_7338_m/z338.2607_RT10.7228\", \"Chinese Spring 1_001829_6626_m/z320.2946_RT9.3934\", \"Chinese Spring 1_001829_6684_m/z320.2946_RT9.6341\", \"Chinese Spring 1_001829_4681_m/z129.1273_RT5.8086\", \"Chinese Spring 1_001829_5571_m/z171.1490_RT6.9999\", \"Chinese Spring 3_001858_5649_m/z201.1636_RT7.2384\", \"Cobra 1_001832_5681_m/z201.1636_RT7.3651\", \"Chinese Spring 1_001829_6034_m/z209.1534_RT7.9760\", \"Chinese Spring 1_001829_3534_m/z209.1534_RT4.9214\", \"Chinese Spring 1_001829_3874_m/z209.1534_RT5.1891\", \"Chinese Spring 1_001829_3976_m/z209.1534_RT5.2738\", \"Chinese Spring 1_001829_6121_m/z281.1745_RT8.1944\", \"blk_001809_0513_m/z243.1589_RT8.8417\", \"Chinese Spring 1_001829_6701_m/z293.2106_RT9.6921\", \"Chinese Spring 1_001829_4627_m/z227.1640_RT5.7507\", \"blk_001809_0743_m/z283.1902_RT9.4033\", \"Chinese Spring 1_001829_3576_m/z207.1378_RT4.9437\", \"Chinese Spring 1_001829_3487_m/z227.1275_RT4.8769\", \"Chinese Spring 1_001829_3537_m/z227.1276_RT4.9214\", \"Chinese Spring 1_001829_8442_m/z181.1221_RT12.7876\", \"Chinese Spring 2_001850_7898_m/z181.1221_RT13.1904\", \"Chinese Spring 1_001829_5465_m/z211.1690_RT6.7722\", \"Chinese Spring 1_001829_5452_m/z209.0807_RT6.7499\", \"Chinese Spring 1_001829_5697_m/z211.1691_RT7.3342\", \"Chinese Spring 1_001829_5778_m/z211.1691_RT7.5080\", \"Chinese Spring 1_001829_6053_m/z215.1640_RT8.0384\", \"blk_001809_0654_m/z215.1640_RT9.1582\", \"Chinese Spring 2_001850_5547_m/z137.0960_RT7.4167\", \"Chinese Spring 2_001850_6060_m/z219.1741_RT8.6023\", \"Chinese Spring 2_001850_6092_m/z219.1742_RT8.6424\", \"Chinese Spring 1_001829_6166_m/z219.1741_RT8.3371\", \"Chinese Spring 1_001829_5806_m/z219.1741_RT7.5303\", \"Cobra 1_001832_5682_m/z219.1741_RT7.3651\", \"Chinese Spring 1_001829_5301_m/z191.1428_RT6.5359\", \"Chinese Spring 1_001829_3978_m/z191.1429_RT5.2782\", \"Chinese Spring 1_001829_5431_m/z191.1429_RT6.7410\", \"Chinese Spring 1_001829_4949_m/z209.0807_RT6.0494\", \"Chinese Spring 1_001829_6612_m/z207.1378_RT9.3355\", \"blk_001809_0035_m/z141.0508_RT0.5557\", \"Chinese Spring 1_001829_2250_m/z177.0544_RT3.6957\", \"Chinese Spring 1_001829_3815_m/z177.0545_RT5.1175\", \"Espada 3_001867_2046_m/z177.0545_RT3.9185\", \"Chinese Spring 1_001829_3575_m/z199.9878_RT4.9437\", \"Chinese Spring 3_001858_3785_m/z199.9877_RT5.0667\", \"Chinese Spring 1_001829_0008_m/z199.9878_RT0.5260\", \"Chinese Spring 1_001829_3401_m/z199.9878_RT4.8234\", \"Chinese Spring 1_001829_4213_m/z199.9877_RT5.4298\", \"Chinese Spring 2_001850_3871_m/z199.9878_RT5.2900\", \"Cobra 2_001852_4324_m/z199.9878_RT6.0264\", \"Chinese Spring 2_001850_4313_m/z199.9878_RT5.5708\", \"Cobra 2_001852_2321_m/z199.9877_RT4.2435\", \"Chinese Spring 1_001829_5512_m/z463.1233_RT6.8301\", \"Chinese Spring 1_001829_3296_m/z611.1606_RT4.7565\", \"Chinese Spring 1_001829_3857_m/z611.1606_RT5.1666\", \"Chinese Spring 1_001829_3593_m/z339.1073_RT4.9571\", \"Chinese Spring 1_001829_4973_m/z339.1073_RT6.0940\", \"Chinese Spring 1_001829_6003_m/z498.2543_RT7.9315\", \"Chinese Spring 1_001829_3932_m/z340.1603_RT5.2470\", \"Chinese Spring 1_001829_5413_m/z231.0497_RT6.7231\", \"Chinese Spring 1_001829_3927_m/z231.0497_RT5.2470\", \"Chinese Spring 1_001829_5035_m/z231.0497_RT6.1564\", \"Chinese Spring 1_001829_6283_m/z231.0496_RT8.6045\", \"Chinese Spring 2_001850_1213_m/z314.1446_RT1.3713\", \"Emu Rock 2_001847_1099_m/z314.1446_RT1.2598\", \"Chinese Spring 1_001829_2752_m/z342.1759_RT4.2840\", \"Chinese Spring 3_001858_1605_m/z310.1495_RT2.2587\", \"Chinese Spring 1_001829_1178_m/z241.1544_RT1.1946\", \"Chinese Spring 1_001829_1844_m/z507.1819_RT2.9692\", \"Correll 1_001837_4911_m/z251.0911_RT6.5612\", \"Chinese Spring 1_001829_5685_m/z219.1014_RT7.3074\", \"Chinese Spring 1_001829_4912_m/z219.1014_RT5.9958\", \"Chinese Spring 1_001829_5175_m/z219.1014_RT6.3621\", \"Chinese Spring 1_001829_2478_m/z291.1449_RT4.0211\", \"Chinese Spring 1_001829_2534_m/z291.1449_RT4.0567\", \"Chinese Spring 1_001829_1967_m/z291.1450_RT3.3302\", \"Chinese Spring 1_001829_1966_m/z273.1343_RT3.3302\", \"Chinese Spring 1_001829_2526_m/z273.1343_RT4.0523\", \"Chinese Spring 1_001829_1994_m/z251.1387_RT3.3658\", \"Chinese Spring 1_001829_1874_m/z235.1439_RT3.0271\", \"Chinese Spring 1_001829_2318_m/z235.1439_RT3.7670\", \"Chinese Spring 1_001829_2426_m/z194.0447_RT3.9542\", \"Cobra 3_001856_2051_m/z194.1174_RT3.6295\", \"Chinese Spring 1_001829_3643_m/z194.0447_RT4.9972\", \"Chinese Spring 1_001829_3914_m/z194.0447_RT5.2381\", \"Chinese Spring 1_001829_4309_m/z212.0552_RT5.4788\", \"Chinese Spring 1_001829_2958_m/z212.0552_RT4.4445\", \"Chinese Spring 1_001829_5341_m/z194.0447_RT6.6117\", \"Chinese Spring 1_001829_5342_m/z226.0708_RT6.6117\", \"Chinese Spring 1_001829_2262_m/z533.1549_RT3.7001\", \"Chinese Spring 1_001829_2618_m/z533.1546_RT4.1191\", \"Chinese Spring 1_001829_2044_m/z533.1546_RT3.4461\", \"Chinese Spring 1_001829_3026_m/z533.1549_RT4.5203\", \"Chinese Spring 1_001829_2030_m/z347.0907_RT3.4015\", \"Chinese Spring 2_001850_1485_m/z347.0907_RT2.1112\", \"Chinese Spring 1_001829_1626_m/z194.1174_RT2.2515\", \"Cobra 2_001852_2090_m/z194.1174_RT4.0473\", \"Chinese Spring 1_001829_6552_m/z320.2946_RT9.1394\", \"Chinese Spring 1_001829_7255_m/z320.2946_RT10.6470\", \"Chinese Spring 1_001829_6510_m/z320.2948_RT9.0458\", \"Chinese Spring 1_001829_6404_m/z320.2946_RT8.8274\", \"Chinese Spring 1_001829_6439_m/z320.2946_RT8.8987\", \"Chinese Spring 1_001829_6466_m/z320.2948_RT8.9700\", \"Chinese Spring 1_001829_0724_m/z241.1544_RT0.7890\", \"Chinese Spring 1_001829_0785_m/z241.1544_RT0.8781\", \"Chinese Spring 1_001829_5942_m/z332.2584_RT7.8067\", \"Chinese Spring 1_001829_6229_m/z332.2583_RT8.4886\", \"Chinese Spring 1_001829_6093_m/z332.2583_RT8.1097\", \"Chinese Spring 1_001829_6127_m/z332.2584_RT8.1989\", \"Chinese Spring 1_001829_0877_m/z260.1603_RT0.9851\", \"Chinese Spring 1_001829_3318_m/z132.0444_RT4.7743\", \"Chinese Spring 1_001829_1633_m/z246.1446_RT2.2783\", \"Chinese Spring 1_001829_1708_m/z247.1286_RT2.6482\", \"Chinese Spring 1_001829_1642_m/z260.1602_RT2.3719\", \"Chinese Spring 2_001850_1603_m/z260.1603_RT2.4945\", \"Chinese Spring 1_001829_1656_m/z233.1494_RT2.5234\", \"Chinese Spring 1_001829_1564_m/z233.1494_RT2.1044\", \"Chinese Spring 5_001887_1443_m/z233.1494_RT2.2226\", \"Chinese Spring 1_001829_1393_m/z221.1284_RT1.6494\", \"Chinese Spring 2_001850_1669_m/z237.1232_RT2.8467\", \"Chinese Spring 1_001829_0821_m/z237.1231_RT0.9093\", \"Chinese Spring 1_001829_2218_m/z237.1231_RT3.6645\", \"Chinese Spring 1_001829_8795_m/z797.5175_RT14.4412\", \"Chinese Spring 1_001829_0924_m/z214.5102_RT1.0029\", \"Chinese Spring 1_001829_5742_m/z268.5936_RT7.4233\", \"Chinese Spring 1_001829_3925_m/z222.0703_RT5.2470\", \"Chinese Spring 1_001829_6287_m/z250.1014_RT8.6045\", \"Chinese Spring 1_001829_2484_m/z247.0598_RT4.0255\", \"Chinese Spring 1_001829_2604_m/z247.0598_RT4.1147\", \"Chinese Spring 1_001829_3431_m/z219.0467_RT4.8501\", \"Chinese Spring 1_001829_1873_m/z212.0390_RT3.0271\", \"Chinese Spring 1_001829_5506_m/z214.5649_RT6.8301\", \"Chinese Spring 1_001829_3870_m/z595.1657_RT5.1846\", \"Chinese Spring 1_001829_4649_m/z625.1763_RT5.7730\", \"Chinese Spring 1_001829_4877_m/z463.1232_RT5.9646\", \"Chinese Spring 1_001829_0770_m/z182.0811_RT0.8558\", \"Chinese Spring 1_001829_0839_m/z182.0811_RT0.9405\", \"Chinese Spring 1_001829_3666_m/z212.0552_RT5.0017\", \"Chinese Spring 1_001829_4302_m/z194.0447_RT5.4788\", \"Chinese Spring 1_001829_2440_m/z333.1520_RT3.9631\", \"Chinese Spring 1_001829_2563_m/z333.1519_RT4.0835\", \"Chinese Spring 1_001829_1519_m/z319.1363_RT1.9258\", \"Chinese Spring 1_001829_1645_m/z319.1363_RT2.3986\", \"Chinese Spring 1_001829_0094_m/z265.0154_RT0.5705\", \"Chinese Spring 1_001829_0764_m/z229.1545_RT0.8469\", \"Chinese Spring 1_001829_0683_m/z229.1545_RT0.7845\", \"Chinese Spring 1_001829_1084_m/z229.1545_RT1.0920\", \"Chinese Spring 1_001829_1122_m/z229.1545_RT1.1143\"], \"tickvals\": [5, 15, 25, 35, 45, 55, 65, 75, 85, 95, 105, 115, 125, 135, 145, 155, 165, 175, 185, 195, 205, 215, 225, 235, 245, 255, 265, 275, 285, 295, 305, 315, 325, 335, 345, 355, 365, 375, 385, 395, 405, 415, 425, 435, 445, 455, 465, 475, 485, 495, 505, 515, 525, 535, 545, 555, 565, 575, 585, 595, 605, 615, 625, 635, 645, 655, 665, 675, 685, 695, 705, 715, 725, 735, 745, 755, 765, 775, 785, 795, 805, 815, 825, 835, 845, 855, 865, 875, 885, 895, 905, 915, 925, 935, 945, 955, 965, 975, 985, 995, 1005, 1015, 1025, 1035, 1045, 1055, 1065, 1075, 1085, 1095, 1105, 1115, 1125, 1135, 1145, 1155, 1165, 1175, 1185, 1195, 1205, 1215, 1225, 1235, 1245, 1255, 1265, 1275, 1285, 1295, 1305, 1315, 1325, 1335, 1345, 1355, 1365, 1375, 1385, 1395, 1405, 1415, 1425, 1435, 1445, 1455, 1465, 1475, 1485, 1495, 1505, 1515, 1525, 1535, 1545, 1555, 1565, 1575, 1585, 1595, 1605, 1615, 1625, 1635, 1645, 1655, 1665, 1675, 1685, 1695, 1705, 1715, 1725, 1735, 1745, 1755, 1765, 1775, 1785, 1795, 1805, 1815, 1825, 1835, 1845, 1855, 1865, 1875, 1885, 1895, 1905, 1915, 1925, 1935, 1945, 1955, 1965, 1975, 1985, 1995, 2005, 2015, 2025, 2035, 2045], \"title\": {\"text\": \"Components\"}, \"type\": \"linear\", \"zeroline\": false}, \"yaxis\": {\"mirror\": \"allticks\", \"rangemode\": \"tozero\", \"showgrid\": false, \"showline\": true, \"showticklabels\": true, \"ticks\": \"outside\", \"title\": {\"text\": \"Distance\"}, \"type\": \"linear\", \"zeroline\": false}},\n",
       "                        {\"showLink\": false, \"linkText\": \"Export to plot.ly\", \"plotlyServerURL\": \"https://plot.ly\"}\n",
       "                    )\n",
       "                };\n",
       "                });\n",
       "            </script>\n",
       "        </div>"
      ]
     },
     "metadata": {},
     "output_type": "display_data"
    }
   ],
   "source": [
    "# Make it a bit smaller this time\n",
    "iplot = tree.plot(width=800, height=700)\n",
    "\n",
    "# for visualising plot inline\n",
    "# You only need to set connected to True once per notebook,\n",
    "# but doing it multiple times won't hurt.\n",
    "plotly.offline.init_notebook_mode(connected=True)\n",
    "\n",
    "plotly.offline.iplot(iplot)"
   ]
  },
  {
   "cell_type": "markdown",
   "metadata": {},
   "source": [
    "Rolling over the leaf nodes with your mouse you'll be able to see which cluster each component belongs to, so you can then track it down in your results folder.\n",
    "\n",
    "The `plot` method is just a wrapper around the `dendrogram` function in `BioDendro.plot.dendrogram`.\n",
    "If you want to customise your plot e.g. with custom titles, you can do that there.\n",
    "\n",
    "The `dendrogram` function is a modified version of plotlys [`figure_factory.create_dendrogram`](https://plot.ly/python/dendrogram/) function.\n",
    "It is modified to reduce complexity, to handle text-rollover and to allow us to provide precomputed trees rather than having to recompute the tree each time (possibly yielding different trees and different clusters)."
   ]
  },
  {
   "cell_type": "code",
   "execution_count": 18,
   "metadata": {},
   "outputs": [
    {
     "data": {
      "application/vnd.plotly.v1+json": {
       "config": {
        "linkText": "Export to plot.ly",
        "plotlyServerURL": "https://plot.ly",
        "showLink": false
       },
       "data": [
        {
         "hoverinfo": "text",
         "marker": {
          "color": "rgb(61,153,112)"
         },
         "mode": "lines",
         "text": [
          "cluster: 1, component: Chinese Spring 1_001829_7933_m/z792.5621_RT11.9987",
          "cluster: 1, component: Chinese Spring 1_001829_7933_m/z792.5621_RT11.9987",
          "cluster: 1, component: Chinese Spring 1_001829_8737_m/z613.4826_RT13.9777",
          "cluster: 1, component: Chinese Spring 1_001829_8737_m/z613.4826_RT13.9777"
         ],
         "type": "scatter",
         "uid": "dce5380e-a200-400d-8e10-87f6e63092c6",
         "x": [
          15,
          15,
          25,
          25
         ],
         "xaxis": "x",
         "y": [
          0,
          0.5662650602409639,
          0.5662650602409639,
          0
         ],
         "yaxis": "y"
        },
        {
         "hoverinfo": "text",
         "marker": {
          "color": "rgb(0,116,217)"
         },
         "mode": "lines",
         "text": [
          "cluster: 2, component: Chinese Spring 1_001829_8203_m/z613.4826_RT12.2884",
          "cluster: 2, component: Chinese Spring 1_001829_8203_m/z613.4826_RT12.2884",
          null,
          null
         ],
         "type": "scatter",
         "uid": "a9ba2eb5-5742-4d5d-af0e-1aa4e8298bc6",
         "x": [
          5,
          5,
          20,
          20
         ],
         "xaxis": "x",
         "y": [
          0,
          0.676923076923077,
          0.676923076923077,
          0.5662650602409639
         ],
         "yaxis": "y"
        },
        {
         "hoverinfo": "text",
         "marker": {
          "color": "rgb(0,116,217)"
         },
         "mode": "lines",
         "text": [
          "cluster: 3, component: Chinese Spring 1_001829_6867_m/z596.3096_RT9.9999",
          "cluster: 3, component: Chinese Spring 1_001829_6867_m/z596.3096_RT9.9999",
          "cluster: 4, component: Chinese Spring 5_001887_7848_m/z792.5621_RT14.4273",
          "cluster: 4, component: Chinese Spring 5_001887_7848_m/z792.5621_RT14.4273"
         ],
         "type": "scatter",
         "uid": "10a51254-782b-4fd8-a09d-51963c69f365",
         "x": [
          35,
          35,
          45,
          45
         ],
         "xaxis": "x",
         "y": [
          0,
          0.7142857142857143,
          0.7142857142857143,
          0
         ],
         "yaxis": "y"
        },
        {
         "hoverinfo": "text",
         "marker": {
          "color": "rgb(0,116,217)"
         },
         "mode": "lines",
         "text": [
          null,
          null,
          null,
          null
         ],
         "type": "scatter",
         "uid": "7b4f26b7-f5a7-482b-80cc-e0b3673bfb5f",
         "x": [
          12.5,
          12.5,
          40,
          40
         ],
         "xaxis": "x",
         "y": [
          0.676923076923077,
          0.7763157894736842,
          0.7763157894736842,
          0.7142857142857143
         ],
         "yaxis": "y"
        },
        {
         "hoverinfo": "text",
         "marker": {
          "color": "rgb(255,65,54)"
         },
         "mode": "lines",
         "text": [
          "cluster: 5, component: Chinese Spring 1_001829_6962_m/z335.2578_RT10.1118",
          "cluster: 5, component: Chinese Spring 1_001829_6962_m/z335.2578_RT10.1118",
          "cluster: 5, component: Chinese Spring 1_001829_7924_m/z335.2579_RT11.9987",
          "cluster: 5, component: Chinese Spring 1_001829_7924_m/z335.2579_RT11.9987"
         ],
         "type": "scatter",
         "uid": "e8cd7ff9-bb53-45ae-a872-b91ddf869454",
         "x": [
          105,
          105,
          115,
          115
         ],
         "xaxis": "x",
         "y": [
          0,
          0.26,
          0.26,
          0
         ],
         "yaxis": "y"
        },
        {
         "hoverinfo": "text",
         "marker": {
          "color": "rgb(255,65,54)"
         },
         "mode": "lines",
         "text": [
          "cluster: 5, component: Chinese Spring 1_001829_8002_m/z335.2578_RT12.0967",
          "cluster: 5, component: Chinese Spring 1_001829_8002_m/z335.2578_RT12.0967",
          null,
          null
         ],
         "type": "scatter",
         "uid": "11a63ab6-eec3-40c8-88e8-c3a42384207b",
         "x": [
          95,
          95,
          110,
          110
         ],
         "xaxis": "x",
         "y": [
          0,
          0.2830188679245283,
          0.2830188679245283,
          0.26
         ],
         "yaxis": "y"
        },
        {
         "hoverinfo": "text",
         "marker": {
          "color": "rgb(255,65,54)"
         },
         "mode": "lines",
         "text": [
          "cluster: 5, component: Chinese Spring 1_001829_7102_m/z335.2578_RT10.4732",
          "cluster: 5, component: Chinese Spring 1_001829_7102_m/z335.2578_RT10.4732",
          "cluster: 5, component: Chinese Spring 1_001829_7304_m/z335.2577_RT10.7050",
          "cluster: 5, component: Chinese Spring 1_001829_7304_m/z335.2577_RT10.7050"
         ],
         "type": "scatter",
         "uid": "1c2f3fb4-a6fe-4820-9854-1a62ab0d1ace",
         "x": [
          125,
          125,
          135,
          135
         ],
         "xaxis": "x",
         "y": [
          0,
          0.2857142857142857,
          0.2857142857142857,
          0
         ],
         "yaxis": "y"
        },
        {
         "hoverinfo": "text",
         "marker": {
          "color": "rgb(255,65,54)"
         },
         "mode": "lines",
         "text": [
          null,
          null,
          null,
          null
         ],
         "type": "scatter",
         "uid": "ddd1b27d-bf4d-416f-acec-617b1f70962b",
         "x": [
          102.5,
          102.5,
          130,
          130
         ],
         "xaxis": "x",
         "y": [
          0.2830188679245283,
          0.3389830508474576,
          0.3389830508474576,
          0.2857142857142857
         ],
         "yaxis": "y"
        },
        {
         "hoverinfo": "text",
         "marker": {
          "color": "rgb(255,65,54)"
         },
         "mode": "lines",
         "text": [
          "cluster: 5, component: Chinese Spring 1_001829_6770_m/z335.2578_RT9.7767",
          "cluster: 5, component: Chinese Spring 1_001829_6770_m/z335.2578_RT9.7767",
          "cluster: 5, component: Chinese Spring 1_001829_7176_m/z261.2209_RT10.5802",
          "cluster: 5, component: Chinese Spring 1_001829_7176_m/z261.2209_RT10.5802"
         ],
         "type": "scatter",
         "uid": "23aa81e7-d6bd-4dd9-8af0-8de332766593",
         "x": [
          145,
          145,
          155,
          155
         ],
         "xaxis": "x",
         "y": [
          0,
          0.375,
          0.375,
          0
         ],
         "yaxis": "y"
        },
        {
         "hoverinfo": "text",
         "marker": {
          "color": "rgb(255,65,54)"
         },
         "mode": "lines",
         "text": [
          null,
          null,
          null,
          null
         ],
         "type": "scatter",
         "uid": "536c0758-f5a1-4df7-83ba-059aba21cc9c",
         "x": [
          116.25,
          116.25,
          150,
          150
         ],
         "xaxis": "x",
         "y": [
          0.3389830508474576,
          0.4117647058823529,
          0.4117647058823529,
          0.375
         ],
         "yaxis": "y"
        },
        {
         "hoverinfo": "text",
         "marker": {
          "color": "rgb(255,65,54)"
         },
         "mode": "lines",
         "text": [
          "cluster: 5, component: Chinese Spring 1_001829_6995_m/z353.2686_RT10.1519",
          "cluster: 5, component: Chinese Spring 1_001829_6995_m/z353.2686_RT10.1519",
          "cluster: 5, component: Chinese Spring 1_001829_7306_m/z353.2686_RT10.7050",
          "cluster: 5, component: Chinese Spring 1_001829_7306_m/z353.2686_RT10.7050"
         ],
         "type": "scatter",
         "uid": "ee0b3157-bb45-4601-a249-26c5361a36aa",
         "x": [
          165,
          165,
          175,
          175
         ],
         "xaxis": "x",
         "y": [
          0,
          0.27419354838709675,
          0.27419354838709675,
          0
         ],
         "yaxis": "y"
        },
        {
         "hoverinfo": "text",
         "marker": {
          "color": "rgb(255,65,54)"
         },
         "mode": "lines",
         "text": [
          "cluster: 5, component: Chinese Spring 1_001829_6884_m/z335.2579_RT10.0132",
          "cluster: 5, component: Chinese Spring 1_001829_6884_m/z335.2579_RT10.0132",
          "cluster: 5, component: Chinese Spring 1_001829_7178_m/z335.2579_RT10.5802",
          "cluster: 5, component: Chinese Spring 1_001829_7178_m/z335.2579_RT10.5802"
         ],
         "type": "scatter",
         "uid": "af01f374-c866-41c8-86b0-1bcfb62426ce",
         "x": [
          195,
          195,
          205,
          205
         ],
         "xaxis": "x",
         "y": [
          0,
          0.29411764705882354,
          0.29411764705882354,
          0
         ],
         "yaxis": "y"
        },
        {
         "hoverinfo": "text",
         "marker": {
          "color": "rgb(255,65,54)"
         },
         "mode": "lines",
         "text": [
          "cluster: 5, component: Chinese Spring 1_001829_7300_m/z261.2209_RT10.7050",
          "cluster: 5, component: Chinese Spring 1_001829_7300_m/z261.2209_RT10.7050",
          null,
          null
         ],
         "type": "scatter",
         "uid": "35955f52-562d-4744-84ca-b243365ba1de",
         "x": [
          185,
          185,
          200,
          200
         ],
         "xaxis": "x",
         "y": [
          0,
          0.38461538461538464,
          0.38461538461538464,
          0.29411764705882354
         ],
         "yaxis": "y"
        },
        {
         "hoverinfo": "text",
         "marker": {
          "color": "rgb(255,65,54)"
         },
         "mode": "lines",
         "text": [
          null,
          null,
          null,
          null
         ],
         "type": "scatter",
         "uid": "8526222c-4845-4133-9c23-fde1514912d0",
         "x": [
          170,
          170,
          192.5,
          192.5
         ],
         "xaxis": "x",
         "y": [
          0.27419354838709675,
          0.43333333333333335,
          0.43333333333333335,
          0.38461538461538464
         ],
         "yaxis": "y"
        },
        {
         "hoverinfo": "text",
         "marker": {
          "color": "rgb(255,65,54)"
         },
         "mode": "lines",
         "text": [
          null,
          null,
          null,
          null
         ],
         "type": "scatter",
         "uid": "aee69186-c7a0-41f8-a9bd-aa09b7ca764b",
         "x": [
          133.125,
          133.125,
          181.25,
          181.25
         ],
         "xaxis": "x",
         "y": [
          0.4117647058823529,
          0.46153846153846156,
          0.46153846153846156,
          0.43333333333333335
         ],
         "yaxis": "y"
        },
        {
         "hoverinfo": "text",
         "marker": {
          "color": "rgb(255,65,54)"
         },
         "mode": "lines",
         "text": [
          "cluster: 5, component: Cobra 1_001832_7415_m/z571.4716_RT11.9269",
          "cluster: 5, component: Cobra 1_001832_7415_m/z571.4716_RT11.9269",
          null,
          null
         ],
         "type": "scatter",
         "uid": "a0369019-b01a-4429-93ad-64cca72ee1cc",
         "x": [
          85,
          85,
          157.1875,
          157.1875
         ],
         "xaxis": "x",
         "y": [
          0,
          0.5538461538461539,
          0.5538461538461539,
          0.46153846153846156
         ],
         "yaxis": "y"
        },
        {
         "hoverinfo": "text",
         "marker": {
          "color": "rgb(255,65,54)"
         },
         "mode": "lines",
         "text": [
          "cluster: 5, component: Chinese Spring 1_001829_6971_m/z507.2717_RT10.1162",
          "cluster: 5, component: Chinese Spring 1_001829_6971_m/z507.2717_RT10.1162",
          null,
          null
         ],
         "type": "scatter",
         "uid": "8dd7722a-8ba1-45e6-9532-385ce53a1e38",
         "x": [
          75,
          75,
          121.09375,
          121.09375
         ],
         "xaxis": "x",
         "y": [
          0,
          0.5737704918032787,
          0.5737704918032787,
          0.5538461538461539
         ],
         "yaxis": "y"
        },
        {
         "hoverinfo": "text",
         "marker": {
          "color": "rgb(0,116,217)"
         },
         "mode": "lines",
         "text": [
          "cluster: 6, component: Chinese Spring 1_001829_7309_m/z497.3107_RT10.7050",
          "cluster: 6, component: Chinese Spring 1_001829_7309_m/z497.3107_RT10.7050",
          null,
          null
         ],
         "type": "scatter",
         "uid": "70239647-c10e-4f27-b8df-777c728f3ddb",
         "x": [
          65,
          65,
          98.046875,
          98.046875
         ],
         "xaxis": "x",
         "y": [
          0,
          0.6986301369863014,
          0.6986301369863014,
          0.5737704918032787
         ],
         "yaxis": "y"
        },
        {
         "hoverinfo": "text",
         "marker": {
          "color": "rgb(0,116,217)"
         },
         "mode": "lines",
         "text": [
          "cluster: 7, component: blk_001809_2310_m/z571.4292_RT14.5025",
          "cluster: 7, component: blk_001809_2310_m/z571.4292_RT14.5025",
          null,
          null
         ],
         "type": "scatter",
         "uid": "2e699389-4ee6-4d45-8a10-8d78a8658603",
         "x": [
          55,
          55,
          81.5234375,
          81.5234375
         ],
         "xaxis": "x",
         "y": [
          0,
          0.7962962962962963,
          0.7962962962962963,
          0.6986301369863014
         ],
         "yaxis": "y"
        },
        {
         "hoverinfo": "text",
         "marker": {
          "color": "rgb(0,116,217)"
         },
         "mode": "lines",
         "text": [
          "cluster: 8, component: Cobra 1_001832_8139_m/z338.3414_RT14.1645",
          "cluster: 8, component: Cobra 1_001832_8139_m/z338.3414_RT14.1645",
          "cluster: 9, component: blk_001809_2081_m/z244.1905_RT12.7018",
          "cluster: 9, component: blk_001809_2081_m/z244.1905_RT12.7018"
         ],
         "type": "scatter",
         "uid": "049cfd99-1f80-4403-a17a-a6f1f9356d86",
         "x": [
          225,
          225,
          235,
          235
         ],
         "xaxis": "x",
         "y": [
          0,
          0.6031746031746031,
          0.6031746031746031,
          0
         ],
         "yaxis": "y"
        },
        {
         "hoverinfo": "text",
         "marker": {
          "color": "rgb(35,205,205)"
         },
         "mode": "lines",
         "text": [
          "cluster: 10, component: Chinese Spring 1_001829_6885_m/z353.2690_RT10.0132",
          "cluster: 10, component: Chinese Spring 1_001829_6885_m/z353.2690_RT10.0132",
          "cluster: 10, component: Chinese Spring 1_001829_7180_m/z353.2688_RT10.5802",
          "cluster: 10, component: Chinese Spring 1_001829_7180_m/z353.2688_RT10.5802"
         ],
         "type": "scatter",
         "uid": "5f2fa4cf-2230-44d6-b1f4-7ef8b59f3f20",
         "x": [
          245,
          245,
          255,
          255
         ],
         "xaxis": "x",
         "y": [
          0,
          0.2376237623762376,
          0.2376237623762376,
          0
         ],
         "yaxis": "y"
        },
        {
         "hoverinfo": "text",
         "marker": {
          "color": "rgb(35,205,205)"
         },
         "mode": "lines",
         "text": [
          "cluster: 10, component: Chinese Spring 1_001829_7587_m/z278.2475_RT11.3925",
          "cluster: 10, component: Chinese Spring 1_001829_7587_m/z278.2475_RT11.3925",
          "cluster: 10, component: Chinese Spring 1_001829_7923_m/z279.2315_RT11.9987",
          "cluster: 10, component: Chinese Spring 1_001829_7923_m/z279.2315_RT11.9987"
         ],
         "type": "scatter",
         "uid": "d085e274-310e-48da-949e-6689e8204b00",
         "x": [
          265,
          265,
          275,
          275
         ],
         "xaxis": "x",
         "y": [
          0,
          0.43209876543209874,
          0.43209876543209874,
          0
         ],
         "yaxis": "y"
        },
        {
         "hoverinfo": "text",
         "marker": {
          "color": "rgb(35,205,205)"
         },
         "mode": "lines",
         "text": [
          null,
          null,
          null,
          null
         ],
         "type": "scatter",
         "uid": "92c1832d-4da1-443b-84d5-f8e7cdca3469",
         "x": [
          250,
          250,
          270,
          270
         ],
         "xaxis": "x",
         "y": [
          0.2376237623762376,
          0.5229357798165137,
          0.5229357798165137,
          0.43209876543209874
         ],
         "yaxis": "y"
        },
        {
         "hoverinfo": "text",
         "marker": {
          "color": "rgb(133,20,75)"
         },
         "mode": "lines",
         "text": [
          "cluster: 11, component: Chinese Spring 1_001829_7119_m/z337.2734_RT10.5000",
          "cluster: 11, component: Chinese Spring 1_001829_7119_m/z337.2734_RT10.5000",
          "cluster: 11, component: Chinese Spring 1_001829_8646_m/z337.2733_RT13.6924",
          "cluster: 11, component: Chinese Spring 1_001829_8646_m/z337.2733_RT13.6924"
         ],
         "type": "scatter",
         "uid": "20fc932c-77d2-4187-8f0d-27cb84dc42a0",
         "x": [
          295,
          295,
          305,
          305
         ],
         "xaxis": "x",
         "y": [
          0,
          0.373134328358209,
          0.373134328358209,
          0
         ],
         "yaxis": "y"
        },
        {
         "hoverinfo": "text",
         "marker": {
          "color": "rgb(133,20,75)"
         },
         "mode": "lines",
         "text": [
          "cluster: 11, component: Chinese Spring 1_001829_7499_m/z435.2504_RT11.0802",
          "cluster: 11, component: Chinese Spring 1_001829_7499_m/z435.2504_RT11.0802",
          null,
          null
         ],
         "type": "scatter",
         "uid": "2bc06c1b-cfda-49c9-8e64-71d3bb6f7b88",
         "x": [
          285,
          285,
          300,
          300
         ],
         "xaxis": "x",
         "y": [
          0,
          0.5416666666666666,
          0.5416666666666666,
          0.373134328358209
         ],
         "yaxis": "y"
        },
        {
         "hoverinfo": "text",
         "marker": {
          "color": "rgb(0,116,217)"
         },
         "mode": "lines",
         "text": [
          null,
          null,
          null,
          null
         ],
         "type": "scatter",
         "uid": "0b7c8fef-09e1-4777-9ab9-9c0c2e036808",
         "x": [
          260,
          260,
          292.5,
          292.5
         ],
         "xaxis": "x",
         "y": [
          0.5229357798165137,
          0.6875,
          0.6875,
          0.5416666666666666
         ],
         "yaxis": "y"
        },
        {
         "hoverinfo": "text",
         "marker": {
          "color": "rgb(0,116,217)"
         },
         "mode": "lines",
         "text": [
          null,
          null,
          null,
          null
         ],
         "type": "scatter",
         "uid": "04d4923b-b3ea-47ff-b518-107458641026",
         "x": [
          230,
          230,
          276.25,
          276.25
         ],
         "xaxis": "x",
         "y": [
          0.6031746031746031,
          0.7590361445783133,
          0.7590361445783133,
          0.6875
         ],
         "yaxis": "y"
        },
        {
         "hoverinfo": "text",
         "marker": {
          "color": "rgb(0,116,217)"
         },
         "mode": "lines",
         "text": [
          "cluster: 12, component: blk_001809_0873_m/z272.2582_RT9.6975",
          "cluster: 12, component: blk_001809_0873_m/z272.2582_RT9.6975",
          null,
          null
         ],
         "type": "scatter",
         "uid": "5d3074f0-b9f8-4626-9d37-3ab419c66fc9",
         "x": [
          215,
          215,
          253.125,
          253.125
         ],
         "xaxis": "x",
         "y": [
          0,
          0.8243243243243243,
          0.8243243243243243,
          0.7590361445783133
         ],
         "yaxis": "y"
        },
        {
         "hoverinfo": "text",
         "marker": {
          "color": "rgb(0,116,217)"
         },
         "mode": "lines",
         "text": [
          null,
          null,
          null,
          null
         ],
         "type": "scatter",
         "uid": "fec69cdb-c126-410c-b0d6-26f640188878",
         "x": [
          68.26171875,
          68.26171875,
          234.0625,
          234.0625
         ],
         "xaxis": "x",
         "y": [
          0.7962962962962963,
          0.87,
          0.87,
          0.8243243243243243
         ],
         "yaxis": "y"
        },
        {
         "hoverinfo": "text",
         "marker": {
          "color": "rgb(0,116,217)"
         },
         "mode": "lines",
         "text": [
          null,
          null,
          null,
          null
         ],
         "type": "scatter",
         "uid": "1f689dc0-8d32-4d09-a834-dbe83196539e",
         "x": [
          26.25,
          26.25,
          151.162109375,
          151.162109375
         ],
         "xaxis": "x",
         "y": [
          0.7763157894736842,
          0.9130434782608695,
          0.9130434782608695,
          0.87
         ],
         "yaxis": "y"
        },
        {
         "hoverinfo": "text",
         "marker": {
          "color": "rgb(0,116,217)"
         },
         "mode": "lines",
         "text": [
          "cluster: 13, component: Chinese Spring 1_001829_7776_m/z601.4244_RT11.7714",
          "cluster: 13, component: Chinese Spring 1_001829_7776_m/z601.4244_RT11.7714",
          "cluster: 14, component: Chinese Spring 1_001829_8582_m/z599.4089_RT13.2111",
          "cluster: 14, component: Chinese Spring 1_001829_8582_m/z599.4089_RT13.2111"
         ],
         "type": "scatter",
         "uid": "859406e0-6270-421d-8f13-1b6738424b1d",
         "x": [
          345,
          345,
          355,
          355
         ],
         "xaxis": "x",
         "y": [
          0,
          0.63,
          0.63,
          0
         ],
         "yaxis": "y"
        },
        {
         "hoverinfo": "text",
         "marker": {
          "color": "rgb(0,116,217)"
         },
         "mode": "lines",
         "text": [
          "cluster: 15, component: Chinese Spring 1_001829_7448_m/z599.4093_RT11.0178",
          "cluster: 15, component: Chinese Spring 1_001829_7448_m/z599.4093_RT11.0178",
          null,
          null
         ],
         "type": "scatter",
         "uid": "18c8e68b-7c8e-49de-b323-3787a5913839",
         "x": [
          335,
          335,
          350,
          350
         ],
         "xaxis": "x",
         "y": [
          0,
          0.6710526315789473,
          0.6710526315789473,
          0.63
         ],
         "yaxis": "y"
        },
        {
         "hoverinfo": "text",
         "marker": {
          "color": "rgb(0,116,217)"
         },
         "mode": "lines",
         "text": [
          "cluster: 16, component: Chinese Spring 1_001829_8106_m/z583.4143_RT12.1770",
          "cluster: 16, component: Chinese Spring 1_001829_8106_m/z583.4143_RT12.1770",
          null,
          null
         ],
         "type": "scatter",
         "uid": "7f3b81f7-a5cd-4510-a9fb-5bba6182dc39",
         "x": [
          325,
          325,
          342.5,
          342.5
         ],
         "xaxis": "x",
         "y": [
          0,
          0.7578947368421053,
          0.7578947368421053,
          0.6710526315789473
         ],
         "yaxis": "y"
        },
        {
         "hoverinfo": "text",
         "marker": {
          "color": "rgb(0,116,217)"
         },
         "mode": "lines",
         "text": [
          "cluster: 17, component: Chinese Spring 1_001829_7690_m/z618.4271_RT11.6644",
          "cluster: 17, component: Chinese Spring 1_001829_7690_m/z618.4271_RT11.6644",
          null,
          null
         ],
         "type": "scatter",
         "uid": "dbacb9b0-7bad-4588-a623-6648363051e1",
         "x": [
          315,
          315,
          333.75,
          333.75
         ],
         "xaxis": "x",
         "y": [
          0,
          0.8,
          0.8,
          0.7578947368421053
         ],
         "yaxis": "y"
        },
        {
         "hoverinfo": "text",
         "marker": {
          "color": "rgb(255,220,0)"
         },
         "mode": "lines",
         "text": [
          "cluster: 18, component: Chinese Spring 1_001829_7361_m/z618.4278_RT10.7852",
          "cluster: 18, component: Chinese Spring 1_001829_7361_m/z618.4278_RT10.7852",
          "cluster: 18, component: Chinese Spring 1_001829_7576_m/z618.4271_RT11.3791",
          "cluster: 18, component: Chinese Spring 1_001829_7576_m/z618.4271_RT11.3791"
         ],
         "type": "scatter",
         "uid": "a5d1e2d8-dc80-466e-9d9d-6646d380565e",
         "x": [
          365,
          365,
          375,
          375
         ],
         "xaxis": "x",
         "y": [
          0,
          0.4732510288065844,
          0.4732510288065844,
          0
         ],
         "yaxis": "y"
        },
        {
         "hoverinfo": "text",
         "marker": {
          "color": "rgb(40,35,35)"
         },
         "mode": "lines",
         "text": [
          "cluster: 19, component: Chinese Spring 1_001829_7574_m/z583.4141_RT11.3791",
          "cluster: 19, component: Chinese Spring 1_001829_7574_m/z583.4141_RT11.3791",
          "cluster: 19, component: Chinese Spring 1_001829_7780_m/z583.4141_RT11.7758",
          "cluster: 19, component: Chinese Spring 1_001829_7780_m/z583.4141_RT11.7758"
         ],
         "type": "scatter",
         "uid": "14b8a09b-0bcf-48da-a387-59f235e9474c",
         "x": [
          405,
          405,
          415,
          415
         ],
         "xaxis": "x",
         "y": [
          0,
          0.5280898876404494,
          0.5280898876404494,
          0
         ],
         "yaxis": "y"
        },
        {
         "hoverinfo": "text",
         "marker": {
          "color": "rgb(0,116,217)"
         },
         "mode": "lines",
         "text": [
          "cluster: 20, component: Chinese Spring 1_001829_7954_m/z565.4037_RT12.0210",
          "cluster: 20, component: Chinese Spring 1_001829_7954_m/z565.4037_RT12.0210",
          null,
          null
         ],
         "type": "scatter",
         "uid": "1db4750c-22bd-4649-ad5d-41876882ebde",
         "x": [
          395,
          395,
          410,
          410
         ],
         "xaxis": "x",
         "y": [
          0,
          0.6049382716049383,
          0.6049382716049383,
          0.5280898876404494
         ],
         "yaxis": "y"
        },
        {
         "hoverinfo": "text",
         "marker": {
          "color": "rgb(61,153,112)"
         },
         "mode": "lines",
         "text": [
          "cluster: 21, component: Chinese Spring 1_001829_7357_m/z583.4143_RT10.7852",
          "cluster: 21, component: Chinese Spring 1_001829_7357_m/z583.4143_RT10.7852",
          "cluster: 21, component: Chinese Spring 1_001829_8191_m/z583.4143_RT12.2617",
          "cluster: 21, component: Chinese Spring 1_001829_8191_m/z583.4143_RT12.2617"
         ],
         "type": "scatter",
         "uid": "6cf35502-4ffb-40a7-aa79-cda940d6f6e6",
         "x": [
          435,
          435,
          445,
          445
         ],
         "xaxis": "x",
         "y": [
          0,
          0.5285714285714286,
          0.5285714285714286,
          0
         ],
         "yaxis": "y"
        },
        {
         "hoverinfo": "text",
         "marker": {
          "color": "rgb(0,116,217)"
         },
         "mode": "lines",
         "text": [
          "cluster: 22, component: Chinese Spring 1_001829_8525_m/z601.4234_RT13.0595",
          "cluster: 22, component: Chinese Spring 1_001829_8525_m/z601.4234_RT13.0595",
          null,
          null
         ],
         "type": "scatter",
         "uid": "8a007381-7965-4d7b-848a-600c98283a71",
         "x": [
          425,
          425,
          440,
          440
         ],
         "xaxis": "x",
         "y": [
          0,
          0.6966292134831461,
          0.6966292134831461,
          0.5285714285714286
         ],
         "yaxis": "y"
        },
        {
         "hoverinfo": "text",
         "marker": {
          "color": "rgb(0,116,217)"
         },
         "mode": "lines",
         "text": [
          null,
          null,
          null,
          null
         ],
         "type": "scatter",
         "uid": "7adec68e-efb1-4523-a847-07c24673154d",
         "x": [
          402.5,
          402.5,
          432.5,
          432.5
         ],
         "xaxis": "x",
         "y": [
          0.6049382716049383,
          0.734375,
          0.734375,
          0.6966292134831461
         ],
         "yaxis": "y"
        },
        {
         "hoverinfo": "text",
         "marker": {
          "color": "rgb(0,116,217)"
         },
         "mode": "lines",
         "text": [
          "cluster: 23, component: Chinese Spring 1_001829_8729_m/z568.4263_RT13.9732",
          "cluster: 23, component: Chinese Spring 1_001829_8729_m/z568.4263_RT13.9732",
          null,
          null
         ],
         "type": "scatter",
         "uid": "77a158f0-9779-4a36-b2e4-605f49a442a5",
         "x": [
          385,
          385,
          417.5,
          417.5
         ],
         "xaxis": "x",
         "y": [
          0,
          0.7642276422764228,
          0.7642276422764228,
          0.734375
         ],
         "yaxis": "y"
        },
        {
         "hoverinfo": "text",
         "marker": {
          "color": "rgb(0,116,217)"
         },
         "mode": "lines",
         "text": [
          null,
          null,
          null,
          null
         ],
         "type": "scatter",
         "uid": "93c5a010-0aba-4ee3-8a29-575352a6d703",
         "x": [
          370,
          370,
          401.25,
          401.25
         ],
         "xaxis": "x",
         "y": [
          0.4732510288065844,
          0.8205128205128205,
          0.8205128205128205,
          0.7642276422764228
         ],
         "yaxis": "y"
        },
        {
         "hoverinfo": "text",
         "marker": {
          "color": "rgb(0,116,217)"
         },
         "mode": "lines",
         "text": [
          null,
          null,
          null,
          null
         ],
         "type": "scatter",
         "uid": "190328ac-a111-451c-bb48-dc54b99fb733",
         "x": [
          324.375,
          324.375,
          385.625,
          385.625
         ],
         "xaxis": "x",
         "y": [
          0.8,
          0.94,
          0.94,
          0.8205128205128205
         ],
         "yaxis": "y"
        },
        {
         "hoverinfo": "text",
         "marker": {
          "color": "rgb(0,116,217)"
         },
         "mode": "lines",
         "text": [
          null,
          null,
          null,
          null
         ],
         "type": "scatter",
         "uid": "e0177eab-5231-49c9-9616-ad8658613ad4",
         "x": [
          88.7060546875,
          88.7060546875,
          355,
          355
         ],
         "xaxis": "x",
         "y": [
          0.9130434782608695,
          0.9625,
          0.9625,
          0.94
         ],
         "yaxis": "y"
        },
        {
         "hoverinfo": "text",
         "marker": {
          "color": "rgb(255,65,54)"
         },
         "mode": "lines",
         "text": [
          "cluster: 24, component: Chinese Spring 1_001829_0928_m/z269.1605_RT1.0029",
          "cluster: 24, component: Chinese Spring 1_001829_0928_m/z269.1605_RT1.0029",
          "cluster: 24, component: Chinese Spring 1_001829_0989_m/z268.1037_RT1.0386",
          "cluster: 24, component: Chinese Spring 1_001829_0989_m/z268.1037_RT1.0386"
         ],
         "type": "scatter",
         "uid": "1df4aef8-6c85-4e4f-95af-7d07a190a52c",
         "x": [
          455,
          455,
          465,
          465
         ],
         "xaxis": "x",
         "y": [
          0,
          0.42424242424242425,
          0.42424242424242425,
          0
         ],
         "yaxis": "y"
        },
        {
         "hoverinfo": "text",
         "marker": {
          "color": "rgb(35,205,205)"
         },
         "mode": "lines",
         "text": [
          "cluster: 25, component: blk_001809_1552_m/z364.3418_RT11.7523",
          "cluster: 25, component: blk_001809_1552_m/z364.3418_RT11.7523",
          "cluster: 25, component: blk_001809_1616_m/z364.3418_RT11.8147",
          "cluster: 25, component: blk_001809_1616_m/z364.3418_RT11.8147"
         ],
         "type": "scatter",
         "uid": "fa731b28-ea83-4b75-9c4d-cd7fb744886a",
         "x": [
          475,
          475,
          485,
          485
         ],
         "xaxis": "x",
         "y": [
          0,
          0,
          0,
          0
         ],
         "yaxis": "y"
        },
        {
         "hoverinfo": "text",
         "marker": {
          "color": "rgb(133,20,75)"
         },
         "mode": "lines",
         "text": [
          "cluster: 26, component: blk_001809_1516_m/z408.3681_RT11.7389",
          "cluster: 26, component: blk_001809_1516_m/z408.3681_RT11.7389",
          "cluster: 26, component: blk_001809_1750_m/z466.4099_RT12.1446",
          "cluster: 26, component: blk_001809_1750_m/z466.4099_RT12.1446"
         ],
         "type": "scatter",
         "uid": "7d48560d-dfca-4be4-97a0-b2d69d7ce55f",
         "x": [
          495,
          495,
          505,
          505
         ],
         "xaxis": "x",
         "y": [
          0,
          0.5882352941176471,
          0.5882352941176471,
          0
         ],
         "yaxis": "y"
        },
        {
         "hoverinfo": "text",
         "marker": {
          "color": "rgb(0,116,217)"
         },
         "mode": "lines",
         "text": [
          null,
          null,
          null,
          null
         ],
         "type": "scatter",
         "uid": "6b45edda-0750-418e-aee9-3a3bbae61f20",
         "x": [
          480,
          480,
          500,
          500
         ],
         "xaxis": "x",
         "y": [
          0,
          0.6875,
          0.6875,
          0.5882352941176471
         ],
         "yaxis": "y"
        },
        {
         "hoverinfo": "text",
         "marker": {
          "color": "rgb(255,220,0)"
         },
         "mode": "lines",
         "text": [
          "cluster: 27, component: blk_001809_1999_m/z364.3424_RT12.5502",
          "cluster: 27, component: blk_001809_1999_m/z364.3424_RT12.5502",
          "cluster: 27, component: blk_001809_2060_m/z364.3424_RT12.6438",
          "cluster: 27, component: blk_001809_2060_m/z364.3424_RT12.6438"
         ],
         "type": "scatter",
         "uid": "f02b2c51-fadc-4d90-9339-51b1b9be9a0c",
         "x": [
          535,
          535,
          545,
          545
         ],
         "xaxis": "x",
         "y": [
          0,
          0.36363636363636365,
          0.36363636363636365,
          0
         ],
         "yaxis": "y"
        },
        {
         "hoverinfo": "text",
         "marker": {
          "color": "rgb(40,35,35)"
         },
         "mode": "lines",
         "text": [
          "cluster: 28, component: blk_001809_1642_m/z424.3632_RT11.9261",
          "cluster: 28, component: blk_001809_1642_m/z424.3632_RT11.9261",
          "cluster: 28, component: blk_001809_1747_m/z421.3521_RT12.1446",
          "cluster: 28, component: blk_001809_1747_m/z421.3521_RT12.1446"
         ],
         "type": "scatter",
         "uid": "f6338c53-0808-4d23-88e7-1d70fb29dca0",
         "x": [
          555,
          555,
          565,
          565
         ],
         "xaxis": "x",
         "y": [
          0,
          0.3888888888888889,
          0.3888888888888889,
          0
         ],
         "yaxis": "y"
        },
        {
         "hoverinfo": "text",
         "marker": {
          "color": "rgb(0,116,217)"
         },
         "mode": "lines",
         "text": [
          null,
          null,
          null,
          null
         ],
         "type": "scatter",
         "uid": "8e6a0785-dd6b-437c-95df-81f3e8cf1258",
         "x": [
          540,
          540,
          560,
          560
         ],
         "xaxis": "x",
         "y": [
          0.36363636363636365,
          0.6111111111111112,
          0.6111111111111112,
          0.3888888888888889
         ],
         "yaxis": "y"
        },
        {
         "hoverinfo": "text",
         "marker": {
          "color": "rgb(0,116,217)"
         },
         "mode": "lines",
         "text": [
          "cluster: 29, component: blk_001809_1903_m/z482.4048_RT12.3318",
          "cluster: 29, component: blk_001809_1903_m/z482.4048_RT12.3318",
          null,
          null
         ],
         "type": "scatter",
         "uid": "5a6b812a-35fb-4a97-83b5-18f6530964f9",
         "x": [
          525,
          525,
          550,
          550
         ],
         "xaxis": "x",
         "y": [
          0,
          0.7037037037037037,
          0.7037037037037037,
          0.6111111111111112
         ],
         "yaxis": "y"
        },
        {
         "hoverinfo": "text",
         "marker": {
          "color": "rgb(0,116,217)"
         },
         "mode": "lines",
         "text": [
          "cluster: 30, component: blk_001809_1657_m/z408.3681_RT11.9395",
          "cluster: 30, component: blk_001809_1657_m/z408.3681_RT11.9395",
          null,
          null
         ],
         "type": "scatter",
         "uid": "11eef744-d3ed-4408-84c1-6e0e5611a009",
         "x": [
          515,
          515,
          537.5,
          537.5
         ],
         "xaxis": "x",
         "y": [
          0,
          0.7307692307692307,
          0.7307692307692307,
          0.7037037037037037
         ],
         "yaxis": "y"
        },
        {
         "hoverinfo": "text",
         "marker": {
          "color": "rgb(0,116,217)"
         },
         "mode": "lines",
         "text": [
          null,
          null,
          null,
          null
         ],
         "type": "scatter",
         "uid": "fb05e5ab-6fcf-428b-b03b-91c2f8e337e9",
         "x": [
          490,
          490,
          526.25,
          526.25
         ],
         "xaxis": "x",
         "y": [
          0.6875,
          0.8387096774193549,
          0.8387096774193549,
          0.7307692307692307
         ],
         "yaxis": "y"
        },
        {
         "hoverinfo": "text",
         "marker": {
          "color": "rgb(0,116,217)"
         },
         "mode": "lines",
         "text": [
          null,
          null,
          null,
          null
         ],
         "type": "scatter",
         "uid": "cff1ae10-cc96-4ce5-9104-bfb545d7684c",
         "x": [
          460,
          460,
          508.125,
          508.125
         ],
         "xaxis": "x",
         "y": [
          0.42424242424242425,
          0.9814814814814815,
          0.9814814814814815,
          0.8387096774193549
         ],
         "yaxis": "y"
        },
        {
         "hoverinfo": "text",
         "marker": {
          "color": "rgb(61,153,112)"
         },
         "mode": "lines",
         "text": [
          "cluster: 31, component: Chinese Spring 1_001829_6626_m/z320.2946_RT9.3934",
          "cluster: 31, component: Chinese Spring 1_001829_6626_m/z320.2946_RT9.3934",
          "cluster: 31, component: Chinese Spring 1_001829_6684_m/z320.2946_RT9.6341",
          "cluster: 31, component: Chinese Spring 1_001829_6684_m/z320.2946_RT9.6341"
         ],
         "type": "scatter",
         "uid": "4c3a3b34-c81a-4eea-815b-70d5b67cd0b2",
         "x": [
          595,
          595,
          605,
          605
         ],
         "xaxis": "x",
         "y": [
          0,
          0.36,
          0.36,
          0
         ],
         "yaxis": "y"
        },
        {
         "hoverinfo": "text",
         "marker": {
          "color": "rgb(0,116,217)"
         },
         "mode": "lines",
         "text": [
          "cluster: 32, component: Chinese Spring 1_001829_7338_m/z338.2607_RT10.7228",
          "cluster: 32, component: Chinese Spring 1_001829_7338_m/z338.2607_RT10.7228",
          null,
          null
         ],
         "type": "scatter",
         "uid": "684c29c0-65d2-4d0c-ab40-5aeae9ee6acc",
         "x": [
          585,
          585,
          600,
          600
         ],
         "xaxis": "x",
         "y": [
          0,
          0.6153846153846154,
          0.6153846153846154,
          0.36
         ],
         "yaxis": "y"
        },
        {
         "hoverinfo": "text",
         "marker": {
          "color": "rgb(0,116,217)"
         },
         "mode": "lines",
         "text": [
          "cluster: 33, component: Chinese Spring 1_001829_7380_m/z483.2713_RT10.8387",
          "cluster: 33, component: Chinese Spring 1_001829_7380_m/z483.2713_RT10.8387",
          null,
          null
         ],
         "type": "scatter",
         "uid": "543c2359-f535-4d1c-abdc-d4f39ba9212f",
         "x": [
          575,
          575,
          592.5,
          592.5
         ],
         "xaxis": "x",
         "y": [
          0,
          0.8636363636363636,
          0.8636363636363636,
          0.6153846153846154
         ],
         "yaxis": "y"
        },
        {
         "hoverinfo": "text",
         "marker": {
          "color": "rgb(0,116,217)"
         },
         "mode": "lines",
         "text": [
          "cluster: 34, component: Chinese Spring 1_001829_4681_m/z129.1273_RT5.8086",
          "cluster: 34, component: Chinese Spring 1_001829_4681_m/z129.1273_RT5.8086",
          "cluster: 35, component: Chinese Spring 1_001829_5571_m/z171.1490_RT6.9999",
          "cluster: 35, component: Chinese Spring 1_001829_5571_m/z171.1490_RT6.9999"
         ],
         "type": "scatter",
         "uid": "7e86faa4-8429-4560-9ed2-9363219e00c4",
         "x": [
          615,
          615,
          625,
          625
         ],
         "xaxis": "x",
         "y": [
          0,
          0.8666666666666667,
          0.8666666666666667,
          0
         ],
         "yaxis": "y"
        },
        {
         "hoverinfo": "text",
         "marker": {
          "color": "rgb(0,116,217)"
         },
         "mode": "lines",
         "text": [
          null,
          null,
          null,
          null
         ],
         "type": "scatter",
         "uid": "b37f8eda-84df-4c7f-854f-97a0af539507",
         "x": [
          583.75,
          583.75,
          620,
          620
         ],
         "xaxis": "x",
         "y": [
          0.8636363636363636,
          0.9032258064516129,
          0.9032258064516129,
          0.8666666666666667
         ],
         "yaxis": "y"
        },
        {
         "hoverinfo": "text",
         "marker": {
          "color": "rgb(255,65,54)"
         },
         "mode": "lines",
         "text": [
          "cluster: 36, component: Chinese Spring 3_001858_5649_m/z201.1636_RT7.2384",
          "cluster: 36, component: Chinese Spring 3_001858_5649_m/z201.1636_RT7.2384",
          "cluster: 36, component: Cobra 1_001832_5681_m/z201.1636_RT7.3651",
          "cluster: 36, component: Cobra 1_001832_5681_m/z201.1636_RT7.3651"
         ],
         "type": "scatter",
         "uid": "c6f99ed5-e4c1-4ffc-8600-2bda7dedb93c",
         "x": [
          635,
          635,
          645,
          645
         ],
         "xaxis": "x",
         "y": [
          0,
          0.48333333333333334,
          0.48333333333333334,
          0
         ],
         "yaxis": "y"
        },
        {
         "hoverinfo": "text",
         "marker": {
          "color": "rgb(35,205,205)"
         },
         "mode": "lines",
         "text": [
          "cluster: 37, component: Chinese Spring 1_001829_3874_m/z209.1534_RT5.1891",
          "cluster: 37, component: Chinese Spring 1_001829_3874_m/z209.1534_RT5.1891",
          "cluster: 37, component: Chinese Spring 1_001829_3976_m/z209.1534_RT5.2738",
          "cluster: 37, component: Chinese Spring 1_001829_3976_m/z209.1534_RT5.2738"
         ],
         "type": "scatter",
         "uid": "673b2bb0-4c16-44a0-b1ef-e683fc0d9f33",
         "x": [
          675,
          675,
          685,
          685
         ],
         "xaxis": "x",
         "y": [
          0,
          0.2916666666666667,
          0.2916666666666667,
          0
         ],
         "yaxis": "y"
        },
        {
         "hoverinfo": "text",
         "marker": {
          "color": "rgb(35,205,205)"
         },
         "mode": "lines",
         "text": [
          "cluster: 37, component: Chinese Spring 1_001829_3534_m/z209.1534_RT4.9214",
          "cluster: 37, component: Chinese Spring 1_001829_3534_m/z209.1534_RT4.9214",
          null,
          null
         ],
         "type": "scatter",
         "uid": "62c3f9a1-ff99-44ca-b53d-9329304948c8",
         "x": [
          665,
          665,
          680,
          680
         ],
         "xaxis": "x",
         "y": [
          0,
          0.3835616438356164,
          0.3835616438356164,
          0.2916666666666667
         ],
         "yaxis": "y"
        },
        {
         "hoverinfo": "text",
         "marker": {
          "color": "rgb(35,205,205)"
         },
         "mode": "lines",
         "text": [
          "cluster: 37, component: Chinese Spring 1_001829_6034_m/z209.1534_RT7.9760",
          "cluster: 37, component: Chinese Spring 1_001829_6034_m/z209.1534_RT7.9760",
          null,
          null
         ],
         "type": "scatter",
         "uid": "62d8b973-56a9-4d09-96af-73c4d5a62477",
         "x": [
          655,
          655,
          672.5,
          672.5
         ],
         "xaxis": "x",
         "y": [
          0,
          0.4473684210526316,
          0.4473684210526316,
          0.3835616438356164
         ],
         "yaxis": "y"
        },
        {
         "hoverinfo": "text",
         "marker": {
          "color": "rgb(133,20,75)"
         },
         "mode": "lines",
         "text": [
          "cluster: 38, component: Chinese Spring 1_001829_6121_m/z281.1745_RT8.1944",
          "cluster: 38, component: Chinese Spring 1_001829_6121_m/z281.1745_RT8.1944",
          "cluster: 38, component: blk_001809_0513_m/z243.1589_RT8.8417",
          "cluster: 38, component: blk_001809_0513_m/z243.1589_RT8.8417"
         ],
         "type": "scatter",
         "uid": "23b9da8a-ec3e-4170-a4df-63b182fcb1bf",
         "x": [
          695,
          695,
          705,
          705
         ],
         "xaxis": "x",
         "y": [
          0,
          0.359375,
          0.359375,
          0
         ],
         "yaxis": "y"
        },
        {
         "hoverinfo": "text",
         "marker": {
          "color": "rgb(255,220,0)"
         },
         "mode": "lines",
         "text": [
          "cluster: 38, component: Chinese Spring 1_001829_4627_m/z227.1640_RT5.7507",
          "cluster: 38, component: Chinese Spring 1_001829_4627_m/z227.1640_RT5.7507",
          "cluster: 38, component: blk_001809_0743_m/z283.1902_RT9.4033",
          "cluster: 38, component: blk_001809_0743_m/z283.1902_RT9.4033"
         ],
         "type": "scatter",
         "uid": "1c235b1b-eefb-4d61-8f77-ae40df6dc38d",
         "x": [
          725,
          725,
          735,
          735
         ],
         "xaxis": "x",
         "y": [
          0,
          0.47191011235955055,
          0.47191011235955055,
          0
         ],
         "yaxis": "y"
        },
        {
         "hoverinfo": "text",
         "marker": {
          "color": "rgb(255,220,0)"
         },
         "mode": "lines",
         "text": [
          "cluster: 38, component: Chinese Spring 1_001829_6701_m/z293.2106_RT9.6921",
          "cluster: 38, component: Chinese Spring 1_001829_6701_m/z293.2106_RT9.6921",
          null,
          null
         ],
         "type": "scatter",
         "uid": "609780a7-600d-4b66-b919-5d0f1eb108e5",
         "x": [
          715,
          715,
          730,
          730
         ],
         "xaxis": "x",
         "y": [
          0,
          0.5454545454545454,
          0.5454545454545454,
          0.47191011235955055
         ],
         "yaxis": "y"
        },
        {
         "hoverinfo": "text",
         "marker": {
          "color": "rgb(0,116,217)"
         },
         "mode": "lines",
         "text": [
          null,
          null,
          null,
          null
         ],
         "type": "scatter",
         "uid": "36f552ca-6e28-48ca-b390-3c058c862c3b",
         "x": [
          700,
          700,
          722.5,
          722.5
         ],
         "xaxis": "x",
         "y": [
          0.359375,
          0.6,
          0.6,
          0.5454545454545454
         ],
         "yaxis": "y"
        },
        {
         "hoverinfo": "text",
         "marker": {
          "color": "rgb(0,116,217)"
         },
         "mode": "lines",
         "text": [
          null,
          null,
          null,
          null
         ],
         "type": "scatter",
         "uid": "f73c160f-bdf0-46b6-ad6e-3546d8e1374e",
         "x": [
          663.75,
          663.75,
          711.25,
          711.25
         ],
         "xaxis": "x",
         "y": [
          0.4473684210526316,
          0.6494845360824743,
          0.6494845360824743,
          0.6
         ],
         "yaxis": "y"
        },
        {
         "hoverinfo": "text",
         "marker": {
          "color": "rgb(40,35,35)"
         },
         "mode": "lines",
         "text": [
          "cluster: 39, component: Chinese Spring 1_001829_3487_m/z227.1275_RT4.8769",
          "cluster: 39, component: Chinese Spring 1_001829_3487_m/z227.1275_RT4.8769",
          "cluster: 39, component: Chinese Spring 1_001829_3537_m/z227.1276_RT4.9214",
          "cluster: 39, component: Chinese Spring 1_001829_3537_m/z227.1276_RT4.9214"
         ],
         "type": "scatter",
         "uid": "9420a73d-d043-4029-93e4-9e0480c7ebe9",
         "x": [
          755,
          755,
          765,
          765
         ],
         "xaxis": "x",
         "y": [
          0,
          0.3382352941176471,
          0.3382352941176471,
          0
         ],
         "yaxis": "y"
        },
        {
         "hoverinfo": "text",
         "marker": {
          "color": "rgb(0,116,217)"
         },
         "mode": "lines",
         "text": [
          "cluster: 40, component: Chinese Spring 1_001829_3576_m/z207.1378_RT4.9437",
          "cluster: 40, component: Chinese Spring 1_001829_3576_m/z207.1378_RT4.9437",
          null,
          null
         ],
         "type": "scatter",
         "uid": "78bc7b63-b4b2-4fa8-88a2-c9b23781b81a",
         "x": [
          745,
          745,
          760,
          760
         ],
         "xaxis": "x",
         "y": [
          0,
          0.6710526315789473,
          0.6710526315789473,
          0.3382352941176471
         ],
         "yaxis": "y"
        },
        {
         "hoverinfo": "text",
         "marker": {
          "color": "rgb(0,116,217)"
         },
         "mode": "lines",
         "text": [
          null,
          null,
          null,
          null
         ],
         "type": "scatter",
         "uid": "8106dbba-1cfb-4567-80a6-9bc06836c6c7",
         "x": [
          687.5,
          687.5,
          752.5,
          752.5
         ],
         "xaxis": "x",
         "y": [
          0.6494845360824743,
          0.7058823529411765,
          0.7058823529411765,
          0.6710526315789473
         ],
         "yaxis": "y"
        },
        {
         "hoverinfo": "text",
         "marker": {
          "color": "rgb(61,153,112)"
         },
         "mode": "lines",
         "text": [
          "cluster: 41, component: Chinese Spring 1_001829_8442_m/z181.1221_RT12.7876",
          "cluster: 41, component: Chinese Spring 1_001829_8442_m/z181.1221_RT12.7876",
          "cluster: 41, component: Chinese Spring 2_001850_7898_m/z181.1221_RT13.1904",
          "cluster: 41, component: Chinese Spring 2_001850_7898_m/z181.1221_RT13.1904"
         ],
         "type": "scatter",
         "uid": "99a5d12f-58c5-4478-9049-6abfd6bf7ba0",
         "x": [
          775,
          775,
          785,
          785
         ],
         "xaxis": "x",
         "y": [
          0,
          0.2857142857142857,
          0.2857142857142857,
          0
         ],
         "yaxis": "y"
        },
        {
         "hoverinfo": "text",
         "marker": {
          "color": "rgb(255,65,54)"
         },
         "mode": "lines",
         "text": [
          "cluster: 42, component: Chinese Spring 1_001829_5697_m/z211.1691_RT7.3342",
          "cluster: 42, component: Chinese Spring 1_001829_5697_m/z211.1691_RT7.3342",
          "cluster: 42, component: Chinese Spring 1_001829_5778_m/z211.1691_RT7.5080",
          "cluster: 42, component: Chinese Spring 1_001829_5778_m/z211.1691_RT7.5080"
         ],
         "type": "scatter",
         "uid": "4afcd283-0ebf-4a50-90e9-e6958122f83b",
         "x": [
          815,
          815,
          825,
          825
         ],
         "xaxis": "x",
         "y": [
          0,
          0.19230769230769232,
          0.19230769230769232,
          0
         ],
         "yaxis": "y"
        },
        {
         "hoverinfo": "text",
         "marker": {
          "color": "rgb(255,65,54)"
         },
         "mode": "lines",
         "text": [
          "cluster: 42, component: Chinese Spring 1_001829_5452_m/z209.0807_RT6.7499",
          "cluster: 42, component: Chinese Spring 1_001829_5452_m/z209.0807_RT6.7499",
          null,
          null
         ],
         "type": "scatter",
         "uid": "412bb23a-cc66-47c0-bf61-3030485a4c03",
         "x": [
          805,
          805,
          820,
          820
         ],
         "xaxis": "x",
         "y": [
          0,
          0.21153846153846154,
          0.21153846153846154,
          0.19230769230769232
         ],
         "yaxis": "y"
        },
        {
         "hoverinfo": "text",
         "marker": {
          "color": "rgb(255,65,54)"
         },
         "mode": "lines",
         "text": [
          "cluster: 42, component: Chinese Spring 1_001829_5465_m/z211.1690_RT6.7722",
          "cluster: 42, component: Chinese Spring 1_001829_5465_m/z211.1690_RT6.7722",
          null,
          null
         ],
         "type": "scatter",
         "uid": "d1e660b5-5694-42e3-9550-ab978ace0a1c",
         "x": [
          795,
          795,
          812.5,
          812.5
         ],
         "xaxis": "x",
         "y": [
          0,
          0.3,
          0.3,
          0.21153846153846154
         ],
         "yaxis": "y"
        },
        {
         "hoverinfo": "text",
         "marker": {
          "color": "rgb(255,65,54)"
         },
         "mode": "lines",
         "text": [
          "cluster: 42, component: Chinese Spring 1_001829_6053_m/z215.1640_RT8.0384",
          "cluster: 42, component: Chinese Spring 1_001829_6053_m/z215.1640_RT8.0384",
          "cluster: 42, component: blk_001809_0654_m/z215.1640_RT9.1582",
          "cluster: 42, component: blk_001809_0654_m/z215.1640_RT9.1582"
         ],
         "type": "scatter",
         "uid": "80dfd920-4dc8-468c-8269-e74b9444c360",
         "x": [
          835,
          835,
          845,
          845
         ],
         "xaxis": "x",
         "y": [
          0,
          0.48717948717948717,
          0.48717948717948717,
          0
         ],
         "yaxis": "y"
        },
        {
         "hoverinfo": "text",
         "marker": {
          "color": "rgb(255,65,54)"
         },
         "mode": "lines",
         "text": [
          null,
          null,
          null,
          null
         ],
         "type": "scatter",
         "uid": "f3e84faa-ea5c-4df7-87e0-ca142fd20adb",
         "x": [
          803.75,
          803.75,
          840,
          840
         ],
         "xaxis": "x",
         "y": [
          0.3,
          0.5818181818181818,
          0.5818181818181818,
          0.48717948717948717
         ],
         "yaxis": "y"
        },
        {
         "hoverinfo": "text",
         "marker": {
          "color": "rgb(0,116,217)"
         },
         "mode": "lines",
         "text": [
          null,
          null,
          null,
          null
         ],
         "type": "scatter",
         "uid": "0ae1bfda-3112-499b-b56a-fc3ea275a40c",
         "x": [
          780,
          780,
          821.875,
          821.875
         ],
         "xaxis": "x",
         "y": [
          0.2857142857142857,
          0.7446808510638298,
          0.7446808510638298,
          0.5818181818181818
         ],
         "yaxis": "y"
        },
        {
         "hoverinfo": "text",
         "marker": {
          "color": "rgb(0,116,217)"
         },
         "mode": "lines",
         "text": [
          null,
          null,
          null,
          null
         ],
         "type": "scatter",
         "uid": "620dc2fc-b5f8-4ab9-81d3-665c62048acb",
         "x": [
          720,
          720,
          800.9375,
          800.9375
         ],
         "xaxis": "x",
         "y": [
          0.7058823529411765,
          0.7631578947368421,
          0.7631578947368421,
          0.7446808510638298
         ],
         "yaxis": "y"
        },
        {
         "hoverinfo": "text",
         "marker": {
          "color": "rgb(35,205,205)"
         },
         "mode": "lines",
         "text": [
          "cluster: 43, component: Chinese Spring 2_001850_6060_m/z219.1741_RT8.6023",
          "cluster: 43, component: Chinese Spring 2_001850_6060_m/z219.1741_RT8.6023",
          "cluster: 43, component: Chinese Spring 2_001850_6092_m/z219.1742_RT8.6424",
          "cluster: 43, component: Chinese Spring 2_001850_6092_m/z219.1742_RT8.6424"
         ],
         "type": "scatter",
         "uid": "aedfd3d1-29b0-4403-8c4e-32378fca9803",
         "x": [
          865,
          865,
          875,
          875
         ],
         "xaxis": "x",
         "y": [
          0,
          0.25,
          0.25,
          0
         ],
         "yaxis": "y"
        },
        {
         "hoverinfo": "text",
         "marker": {
          "color": "rgb(35,205,205)"
         },
         "mode": "lines",
         "text": [
          "cluster: 43, component: Chinese Spring 1_001829_5806_m/z219.1741_RT7.5303",
          "cluster: 43, component: Chinese Spring 1_001829_5806_m/z219.1741_RT7.5303",
          "cluster: 43, component: Cobra 1_001832_5682_m/z219.1741_RT7.3651",
          "cluster: 43, component: Cobra 1_001832_5682_m/z219.1741_RT7.3651"
         ],
         "type": "scatter",
         "uid": "6bc0486a-7bc5-4944-9f9b-713843fe6df8",
         "x": [
          895,
          895,
          905,
          905
         ],
         "xaxis": "x",
         "y": [
          0,
          0.3125,
          0.3125,
          0
         ],
         "yaxis": "y"
        },
        {
         "hoverinfo": "text",
         "marker": {
          "color": "rgb(35,205,205)"
         },
         "mode": "lines",
         "text": [
          "cluster: 43, component: Chinese Spring 1_001829_6166_m/z219.1741_RT8.3371",
          "cluster: 43, component: Chinese Spring 1_001829_6166_m/z219.1741_RT8.3371",
          null,
          null
         ],
         "type": "scatter",
         "uid": "dc07b451-4109-4298-9a9c-d2e17bb81502",
         "x": [
          885,
          885,
          900,
          900
         ],
         "xaxis": "x",
         "y": [
          0,
          0.4074074074074074,
          0.4074074074074074,
          0.3125
         ],
         "yaxis": "y"
        },
        {
         "hoverinfo": "text",
         "marker": {
          "color": "rgb(35,205,205)"
         },
         "mode": "lines",
         "text": [
          null,
          null,
          null,
          null
         ],
         "type": "scatter",
         "uid": "a4c4d67f-be72-4f8e-8235-66db2d4334ce",
         "x": [
          870,
          870,
          892.5,
          892.5
         ],
         "xaxis": "x",
         "y": [
          0.25,
          0.4583333333333333,
          0.4583333333333333,
          0.4074074074074074
         ],
         "yaxis": "y"
        },
        {
         "hoverinfo": "text",
         "marker": {
          "color": "rgb(133,20,75)"
         },
         "mode": "lines",
         "text": [
          "cluster: 44, component: Chinese Spring 1_001829_3978_m/z191.1429_RT5.2782",
          "cluster: 44, component: Chinese Spring 1_001829_3978_m/z191.1429_RT5.2782",
          "cluster: 44, component: Chinese Spring 1_001829_5431_m/z191.1429_RT6.7410",
          "cluster: 44, component: Chinese Spring 1_001829_5431_m/z191.1429_RT6.7410"
         ],
         "type": "scatter",
         "uid": "b831d93f-9820-4e2d-88e1-de0504a68eca",
         "x": [
          925,
          925,
          935,
          935
         ],
         "xaxis": "x",
         "y": [
          0,
          0.43103448275862066,
          0.43103448275862066,
          0
         ],
         "yaxis": "y"
        },
        {
         "hoverinfo": "text",
         "marker": {
          "color": "rgb(133,20,75)"
         },
         "mode": "lines",
         "text": [
          "cluster: 44, component: Chinese Spring 1_001829_5301_m/z191.1428_RT6.5359",
          "cluster: 44, component: Chinese Spring 1_001829_5301_m/z191.1428_RT6.5359",
          null,
          null
         ],
         "type": "scatter",
         "uid": "3d855488-0b4b-49f7-a5b8-4e1e946fbc6b",
         "x": [
          915,
          915,
          930,
          930
         ],
         "xaxis": "x",
         "y": [
          0,
          0.5,
          0.5,
          0.43103448275862066
         ],
         "yaxis": "y"
        },
        {
         "hoverinfo": "text",
         "marker": {
          "color": "rgb(0,116,217)"
         },
         "mode": "lines",
         "text": [
          null,
          null,
          null,
          null
         ],
         "type": "scatter",
         "uid": "489dd23c-f6aa-4d0b-9b3e-9cb858b0bedc",
         "x": [
          881.25,
          881.25,
          922.5,
          922.5
         ],
         "xaxis": "x",
         "y": [
          0.4583333333333333,
          0.68,
          0.68,
          0.5
         ],
         "yaxis": "y"
        },
        {
         "hoverinfo": "text",
         "marker": {
          "color": "rgb(0,116,217)"
         },
         "mode": "lines",
         "text": [
          "cluster: 45, component: Chinese Spring 2_001850_5547_m/z137.0960_RT7.4167",
          "cluster: 45, component: Chinese Spring 2_001850_5547_m/z137.0960_RT7.4167",
          null,
          null
         ],
         "type": "scatter",
         "uid": "2a85dd9c-a7b3-45ea-b1c2-d4defca20a89",
         "x": [
          855,
          855,
          901.875,
          901.875
         ],
         "xaxis": "x",
         "y": [
          0,
          0.782608695652174,
          0.782608695652174,
          0.68
         ],
         "yaxis": "y"
        },
        {
         "hoverinfo": "text",
         "marker": {
          "color": "rgb(0,116,217)"
         },
         "mode": "lines",
         "text": [
          null,
          null,
          null,
          null
         ],
         "type": "scatter",
         "uid": "70e41b36-39b0-41b6-bc13-75581fe6ce12",
         "x": [
          760.46875,
          760.46875,
          878.4375,
          878.4375
         ],
         "xaxis": "x",
         "y": [
          0.7631578947368421,
          0.8170731707317073,
          0.8170731707317073,
          0.782608695652174
         ],
         "yaxis": "y"
        },
        {
         "hoverinfo": "text",
         "marker": {
          "color": "rgb(0,116,217)"
         },
         "mode": "lines",
         "text": [
          null,
          null,
          null,
          null
         ],
         "type": "scatter",
         "uid": "3667d34a-c6d7-482b-952b-288934ca13d3",
         "x": [
          640,
          640,
          819.453125,
          819.453125
         ],
         "xaxis": "x",
         "y": [
          0.48333333333333334,
          0.8421052631578947,
          0.8421052631578947,
          0.8170731707317073
         ],
         "yaxis": "y"
        },
        {
         "hoverinfo": "text",
         "marker": {
          "color": "rgb(0,116,217)"
         },
         "mode": "lines",
         "text": [
          "cluster: 46, component: Chinese Spring 1_001829_4949_m/z209.0807_RT6.0494",
          "cluster: 46, component: Chinese Spring 1_001829_4949_m/z209.0807_RT6.0494",
          "cluster: 47, component: Chinese Spring 1_001829_6612_m/z207.1378_RT9.3355",
          "cluster: 47, component: Chinese Spring 1_001829_6612_m/z207.1378_RT9.3355"
         ],
         "type": "scatter",
         "uid": "b1fa69ba-895b-44c7-81f7-2f3073af6fdb",
         "x": [
          945,
          945,
          955,
          955
         ],
         "xaxis": "x",
         "y": [
          0,
          0.8556701030927835,
          0.8556701030927835,
          0
         ],
         "yaxis": "y"
        },
        {
         "hoverinfo": "text",
         "marker": {
          "color": "rgb(0,116,217)"
         },
         "mode": "lines",
         "text": [
          null,
          null,
          null,
          null
         ],
         "type": "scatter",
         "uid": "555712c7-9383-4c50-be82-faeaaa45d5b4",
         "x": [
          729.7265625,
          729.7265625,
          950,
          950
         ],
         "xaxis": "x",
         "y": [
          0.8421052631578947,
          0.9135802469135802,
          0.9135802469135802,
          0.8556701030927835
         ],
         "yaxis": "y"
        },
        {
         "hoverinfo": "text",
         "marker": {
          "color": "rgb(0,116,217)"
         },
         "mode": "lines",
         "text": [
          null,
          null,
          null,
          null
         ],
         "type": "scatter",
         "uid": "093ea2ec-130e-4fb7-bfd9-0b4290fc8b13",
         "x": [
          601.875,
          601.875,
          839.86328125,
          839.86328125
         ],
         "xaxis": "x",
         "y": [
          0.9032258064516129,
          0.9882352941176471,
          0.9882352941176471,
          0.9135802469135802
         ],
         "yaxis": "y"
        },
        {
         "hoverinfo": "text",
         "marker": {
          "color": "rgb(255,220,0)"
         },
         "mode": "lines",
         "text": [
          "cluster: 48, component: Chinese Spring 1_001829_3815_m/z177.0545_RT5.1175",
          "cluster: 48, component: Chinese Spring 1_001829_3815_m/z177.0545_RT5.1175",
          "cluster: 48, component: Espada 3_001867_2046_m/z177.0545_RT3.9185",
          "cluster: 48, component: Espada 3_001867_2046_m/z177.0545_RT3.9185"
         ],
         "type": "scatter",
         "uid": "df9457f8-ebd5-4a68-bc0b-39ff411f79ca",
         "x": [
          985,
          985,
          995,
          995
         ],
         "xaxis": "x",
         "y": [
          0,
          0.35,
          0.35,
          0
         ],
         "yaxis": "y"
        },
        {
         "hoverinfo": "text",
         "marker": {
          "color": "rgb(255,220,0)"
         },
         "mode": "lines",
         "text": [
          "cluster: 48, component: Chinese Spring 1_001829_2250_m/z177.0544_RT3.6957",
          "cluster: 48, component: Chinese Spring 1_001829_2250_m/z177.0544_RT3.6957",
          null,
          null
         ],
         "type": "scatter",
         "uid": "435da5e0-0d44-42f9-8301-fc939260738e",
         "x": [
          975,
          975,
          990,
          990
         ],
         "xaxis": "x",
         "y": [
          0,
          0.391304347826087,
          0.391304347826087,
          0.35
         ],
         "yaxis": "y"
        },
        {
         "hoverinfo": "text",
         "marker": {
          "color": "rgb(40,35,35)"
         },
         "mode": "lines",
         "text": [
          "cluster: 49, component: Chinese Spring 1_001829_3575_m/z199.9878_RT4.9437",
          "cluster: 49, component: Chinese Spring 1_001829_3575_m/z199.9878_RT4.9437",
          "cluster: 49, component: Chinese Spring 3_001858_3785_m/z199.9877_RT5.0667",
          "cluster: 49, component: Chinese Spring 3_001858_3785_m/z199.9877_RT5.0667"
         ],
         "type": "scatter",
         "uid": "f2a91eb2-613f-46bf-b92d-bd1b2d9a077f",
         "x": [
          1005,
          1005,
          1015,
          1015
         ],
         "xaxis": "x",
         "y": [
          0,
          0.34146341463414637,
          0.34146341463414637,
          0
         ],
         "yaxis": "y"
        },
        {
         "hoverinfo": "text",
         "marker": {
          "color": "rgb(40,35,35)"
         },
         "mode": "lines",
         "text": [
          "cluster: 49, component: Chinese Spring 1_001829_0008_m/z199.9878_RT0.5260",
          "cluster: 49, component: Chinese Spring 1_001829_0008_m/z199.9878_RT0.5260",
          "cluster: 49, component: Chinese Spring 1_001829_3401_m/z199.9878_RT4.8234",
          "cluster: 49, component: Chinese Spring 1_001829_3401_m/z199.9878_RT4.8234"
         ],
         "type": "scatter",
         "uid": "85ba0cce-ca59-4263-9329-10add1b3252d",
         "x": [
          1025,
          1025,
          1035,
          1035
         ],
         "xaxis": "x",
         "y": [
          0,
          0.3,
          0.3,
          0
         ],
         "yaxis": "y"
        },
        {
         "hoverinfo": "text",
         "marker": {
          "color": "rgb(40,35,35)"
         },
         "mode": "lines",
         "text": [
          "cluster: 49, component: Chinese Spring 1_001829_4213_m/z199.9877_RT5.4298",
          "cluster: 49, component: Chinese Spring 1_001829_4213_m/z199.9877_RT5.4298",
          "cluster: 49, component: Chinese Spring 2_001850_3871_m/z199.9878_RT5.2900",
          "cluster: 49, component: Chinese Spring 2_001850_3871_m/z199.9878_RT5.2900"
         ],
         "type": "scatter",
         "uid": "34a8014f-7fc1-41d9-b898-2f25f0d19384",
         "x": [
          1045,
          1045,
          1055,
          1055
         ],
         "xaxis": "x",
         "y": [
          0,
          0.18181818181818182,
          0.18181818181818182,
          0
         ],
         "yaxis": "y"
        },
        {
         "hoverinfo": "text",
         "marker": {
          "color": "rgb(40,35,35)"
         },
         "mode": "lines",
         "text": [
          "cluster: 49, component: Chinese Spring 2_001850_4313_m/z199.9878_RT5.5708",
          "cluster: 49, component: Chinese Spring 2_001850_4313_m/z199.9878_RT5.5708",
          "cluster: 49, component: Cobra 2_001852_2321_m/z199.9877_RT4.2435",
          "cluster: 49, component: Cobra 2_001852_2321_m/z199.9877_RT4.2435"
         ],
         "type": "scatter",
         "uid": "55e96933-b334-45fc-99f0-8dbb8e8e9861",
         "x": [
          1075,
          1075,
          1085,
          1085
         ],
         "xaxis": "x",
         "y": [
          0,
          0.25,
          0.25,
          0
         ],
         "yaxis": "y"
        },
        {
         "hoverinfo": "text",
         "marker": {
          "color": "rgb(40,35,35)"
         },
         "mode": "lines",
         "text": [
          "cluster: 49, component: Cobra 2_001852_4324_m/z199.9878_RT6.0264",
          "cluster: 49, component: Cobra 2_001852_4324_m/z199.9878_RT6.0264",
          null,
          null
         ],
         "type": "scatter",
         "uid": "cc8cf611-2251-42fb-91ee-cbb7e3af9027",
         "x": [
          1065,
          1065,
          1080,
          1080
         ],
         "xaxis": "x",
         "y": [
          0,
          0.3125,
          0.3125,
          0.25
         ],
         "yaxis": "y"
        },
        {
         "hoverinfo": "text",
         "marker": {
          "color": "rgb(40,35,35)"
         },
         "mode": "lines",
         "text": [
          null,
          null,
          null,
          null
         ],
         "type": "scatter",
         "uid": "4df70d7e-e44c-41a0-ba6f-5aa1de8a88a6",
         "x": [
          1050,
          1050,
          1072.5,
          1072.5
         ],
         "xaxis": "x",
         "y": [
          0.18181818181818182,
          0.36363636363636365,
          0.36363636363636365,
          0.3125
         ],
         "yaxis": "y"
        },
        {
         "hoverinfo": "text",
         "marker": {
          "color": "rgb(40,35,35)"
         },
         "mode": "lines",
         "text": [
          null,
          null,
          null,
          null
         ],
         "type": "scatter",
         "uid": "5ed90228-1dcd-43b4-9075-2cbe855c1dcf",
         "x": [
          1030,
          1030,
          1061.25,
          1061.25
         ],
         "xaxis": "x",
         "y": [
          0.3,
          0.42424242424242425,
          0.42424242424242425,
          0.36363636363636365
         ],
         "yaxis": "y"
        },
        {
         "hoverinfo": "text",
         "marker": {
          "color": "rgb(40,35,35)"
         },
         "mode": "lines",
         "text": [
          null,
          null,
          null,
          null
         ],
         "type": "scatter",
         "uid": "5d83dd58-10dc-4696-a164-8eb94ed874b8",
         "x": [
          1010,
          1010,
          1045.625,
          1045.625
         ],
         "xaxis": "x",
         "y": [
          0.34146341463414637,
          0.47368421052631576,
          0.47368421052631576,
          0.42424242424242425
         ],
         "yaxis": "y"
        },
        {
         "hoverinfo": "text",
         "marker": {
          "color": "rgb(0,116,217)"
         },
         "mode": "lines",
         "text": [
          null,
          null,
          null,
          null
         ],
         "type": "scatter",
         "uid": "455842d6-3cad-4d6c-aad9-9fc379cc56b3",
         "x": [
          982.5,
          982.5,
          1027.8125,
          1027.8125
         ],
         "xaxis": "x",
         "y": [
          0.391304347826087,
          0.8214285714285714,
          0.8214285714285714,
          0.47368421052631576
         ],
         "yaxis": "y"
        },
        {
         "hoverinfo": "text",
         "marker": {
          "color": "rgb(61,153,112)"
         },
         "mode": "lines",
         "text": [
          "cluster: 50, component: Chinese Spring 1_001829_3296_m/z611.1606_RT4.7565",
          "cluster: 50, component: Chinese Spring 1_001829_3296_m/z611.1606_RT4.7565",
          "cluster: 50, component: Chinese Spring 1_001829_3857_m/z611.1606_RT5.1666",
          "cluster: 50, component: Chinese Spring 1_001829_3857_m/z611.1606_RT5.1666"
         ],
         "type": "scatter",
         "uid": "7d8962e2-10c6-49af-bb70-35f10335d16a",
         "x": [
          1105,
          1105,
          1115,
          1115
         ],
         "xaxis": "x",
         "y": [
          0,
          0.4583333333333333,
          0.4583333333333333,
          0
         ],
         "yaxis": "y"
        },
        {
         "hoverinfo": "text",
         "marker": {
          "color": "rgb(255,65,54)"
         },
         "mode": "lines",
         "text": [
          "cluster: 51, component: Chinese Spring 1_001829_3593_m/z339.1073_RT4.9571",
          "cluster: 51, component: Chinese Spring 1_001829_3593_m/z339.1073_RT4.9571",
          "cluster: 51, component: Chinese Spring 1_001829_4973_m/z339.1073_RT6.0940",
          "cluster: 51, component: Chinese Spring 1_001829_4973_m/z339.1073_RT6.0940"
         ],
         "type": "scatter",
         "uid": "68d76fb1-fc75-41d7-b39c-9c7a13952ae8",
         "x": [
          1125,
          1125,
          1135,
          1135
         ],
         "xaxis": "x",
         "y": [
          0,
          0.44,
          0.44,
          0
         ],
         "yaxis": "y"
        },
        {
         "hoverinfo": "text",
         "marker": {
          "color": "rgb(35,205,205)"
         },
         "mode": "lines",
         "text": [
          "cluster: 52, component: Chinese Spring 1_001829_5035_m/z231.0497_RT6.1564",
          "cluster: 52, component: Chinese Spring 1_001829_5035_m/z231.0497_RT6.1564",
          "cluster: 52, component: Chinese Spring 1_001829_6283_m/z231.0496_RT8.6045",
          "cluster: 52, component: Chinese Spring 1_001829_6283_m/z231.0496_RT8.6045"
         ],
         "type": "scatter",
         "uid": "6dae92a5-bcad-459c-bf52-a5a1922a851f",
         "x": [
          1185,
          1185,
          1195,
          1195
         ],
         "xaxis": "x",
         "y": [
          0,
          0.391304347826087,
          0.391304347826087,
          0
         ],
         "yaxis": "y"
        },
        {
         "hoverinfo": "text",
         "marker": {
          "color": "rgb(35,205,205)"
         },
         "mode": "lines",
         "text": [
          "cluster: 52, component: Chinese Spring 1_001829_3927_m/z231.0497_RT5.2470",
          "cluster: 52, component: Chinese Spring 1_001829_3927_m/z231.0497_RT5.2470",
          null,
          null
         ],
         "type": "scatter",
         "uid": "27f7a8aa-edc5-4bfd-a2e1-f8dc3c00da53",
         "x": [
          1175,
          1175,
          1190,
          1190
         ],
         "xaxis": "x",
         "y": [
          0,
          0.4090909090909091,
          0.4090909090909091,
          0.391304347826087
         ],
         "yaxis": "y"
        },
        {
         "hoverinfo": "text",
         "marker": {
          "color": "rgb(35,205,205)"
         },
         "mode": "lines",
         "text": [
          "cluster: 52, component: Chinese Spring 1_001829_5413_m/z231.0497_RT6.7231",
          "cluster: 52, component: Chinese Spring 1_001829_5413_m/z231.0497_RT6.7231",
          null,
          null
         ],
         "type": "scatter",
         "uid": "bc515f58-2a46-4ba2-936b-e02c90459bc7",
         "x": [
          1165,
          1165,
          1182.5,
          1182.5
         ],
         "xaxis": "x",
         "y": [
          0,
          0.52,
          0.52,
          0.4090909090909091
         ],
         "yaxis": "y"
        },
        {
         "hoverinfo": "text",
         "marker": {
          "color": "rgb(0,116,217)"
         },
         "mode": "lines",
         "text": [
          "cluster: 53, component: Chinese Spring 1_001829_3932_m/z340.1603_RT5.2470",
          "cluster: 53, component: Chinese Spring 1_001829_3932_m/z340.1603_RT5.2470",
          null,
          null
         ],
         "type": "scatter",
         "uid": "98cb0f58-4081-419f-9b71-441d05e51fe1",
         "x": [
          1155,
          1155,
          1173.75,
          1173.75
         ],
         "xaxis": "x",
         "y": [
          0,
          0.6904761904761905,
          0.6904761904761905,
          0.52
         ],
         "yaxis": "y"
        },
        {
         "hoverinfo": "text",
         "marker": {
          "color": "rgb(133,20,75)"
         },
         "mode": "lines",
         "text": [
          "cluster: 54, component: Chinese Spring 2_001850_1213_m/z314.1446_RT1.3713",
          "cluster: 54, component: Chinese Spring 2_001850_1213_m/z314.1446_RT1.3713",
          "cluster: 54, component: Emu Rock 2_001847_1099_m/z314.1446_RT1.2598",
          "cluster: 54, component: Emu Rock 2_001847_1099_m/z314.1446_RT1.2598"
         ],
         "type": "scatter",
         "uid": "25def290-5973-421a-8348-f1fbe79f61c8",
         "x": [
          1205,
          1205,
          1215,
          1215
         ],
         "xaxis": "x",
         "y": [
          0,
          0.4230769230769231,
          0.4230769230769231,
          0
         ],
         "yaxis": "y"
        },
        {
         "hoverinfo": "text",
         "marker": {
          "color": "rgb(0,116,217)"
         },
         "mode": "lines",
         "text": [
          "cluster: 55, component: Chinese Spring 1_001829_2752_m/z342.1759_RT4.2840",
          "cluster: 55, component: Chinese Spring 1_001829_2752_m/z342.1759_RT4.2840",
          "cluster: 56, component: Chinese Spring 3_001858_1605_m/z310.1495_RT2.2587",
          "cluster: 56, component: Chinese Spring 3_001858_1605_m/z310.1495_RT2.2587"
         ],
         "type": "scatter",
         "uid": "9b3acf7d-7544-423c-abbb-9f2cc26b1dd1",
         "x": [
          1225,
          1225,
          1235,
          1235
         ],
         "xaxis": "x",
         "y": [
          0,
          0.6785714285714286,
          0.6785714285714286,
          0
         ],
         "yaxis": "y"
        },
        {
         "hoverinfo": "text",
         "marker": {
          "color": "rgb(0,116,217)"
         },
         "mode": "lines",
         "text": [
          null,
          null,
          null,
          null
         ],
         "type": "scatter",
         "uid": "196026f8-0e2d-4a9c-b446-ae5df9dcae12",
         "x": [
          1210,
          1210,
          1230,
          1230
         ],
         "xaxis": "x",
         "y": [
          0.4230769230769231,
          0.75,
          0.75,
          0.6785714285714286
         ],
         "yaxis": "y"
        },
        {
         "hoverinfo": "text",
         "marker": {
          "color": "rgb(0,116,217)"
         },
         "mode": "lines",
         "text": [
          null,
          null,
          null,
          null
         ],
         "type": "scatter",
         "uid": "3291ab8d-936b-48e6-8c8a-e60b5b604129",
         "x": [
          1164.375,
          1164.375,
          1220,
          1220
         ],
         "xaxis": "x",
         "y": [
          0.6904761904761905,
          0.8,
          0.8,
          0.75
         ],
         "yaxis": "y"
        },
        {
         "hoverinfo": "text",
         "marker": {
          "color": "rgb(0,116,217)"
         },
         "mode": "lines",
         "text": [
          "cluster: 57, component: Chinese Spring 1_001829_6003_m/z498.2543_RT7.9315",
          "cluster: 57, component: Chinese Spring 1_001829_6003_m/z498.2543_RT7.9315",
          null,
          null
         ],
         "type": "scatter",
         "uid": "997c863b-08eb-41bd-a668-55c444f67bfb",
         "x": [
          1145,
          1145,
          1192.1875,
          1192.1875
         ],
         "xaxis": "x",
         "y": [
          0,
          0.8571428571428571,
          0.8571428571428571,
          0.8
         ],
         "yaxis": "y"
        },
        {
         "hoverinfo": "text",
         "marker": {
          "color": "rgb(0,116,217)"
         },
         "mode": "lines",
         "text": [
          null,
          null,
          null,
          null
         ],
         "type": "scatter",
         "uid": "36e0b1f2-b564-400e-971b-2aed88efda6d",
         "x": [
          1130,
          1130,
          1168.59375,
          1168.59375
         ],
         "xaxis": "x",
         "y": [
          0.44,
          0.8775510204081632,
          0.8775510204081632,
          0.8571428571428571
         ],
         "yaxis": "y"
        },
        {
         "hoverinfo": "text",
         "marker": {
          "color": "rgb(0,116,217)"
         },
         "mode": "lines",
         "text": [
          "cluster: 58, component: Chinese Spring 1_001829_1178_m/z241.1544_RT1.1946",
          "cluster: 58, component: Chinese Spring 1_001829_1178_m/z241.1544_RT1.1946",
          "cluster: 59, component: Chinese Spring 1_001829_1844_m/z507.1819_RT2.9692",
          "cluster: 59, component: Chinese Spring 1_001829_1844_m/z507.1819_RT2.9692"
         ],
         "type": "scatter",
         "uid": "de4c63a5-210d-4624-8133-6df79739cd14",
         "x": [
          1245,
          1245,
          1255,
          1255
         ],
         "xaxis": "x",
         "y": [
          0,
          0.9152542372881356,
          0.9152542372881356,
          0
         ],
         "yaxis": "y"
        },
        {
         "hoverinfo": "text",
         "marker": {
          "color": "rgb(0,116,217)"
         },
         "mode": "lines",
         "text": [
          null,
          null,
          null,
          null
         ],
         "type": "scatter",
         "uid": "7e38a9c4-c400-4392-86cb-b464f1a4d8a0",
         "x": [
          1149.296875,
          1149.296875,
          1250,
          1250
         ],
         "xaxis": "x",
         "y": [
          0.8775510204081632,
          0.9302325581395349,
          0.9302325581395349,
          0.9152542372881356
         ],
         "yaxis": "y"
        },
        {
         "hoverinfo": "text",
         "marker": {
          "color": "rgb(0,116,217)"
         },
         "mode": "lines",
         "text": [
          null,
          null,
          null,
          null
         ],
         "type": "scatter",
         "uid": "d608eb69-68a6-4ccc-a9b9-983e63de9774",
         "x": [
          1110,
          1110,
          1199.6484375,
          1199.6484375
         ],
         "xaxis": "x",
         "y": [
          0.4583333333333333,
          0.9622641509433962,
          0.9622641509433962,
          0.9302325581395349
         ],
         "yaxis": "y"
        },
        {
         "hoverinfo": "text",
         "marker": {
          "color": "rgb(0,116,217)"
         },
         "mode": "lines",
         "text": [
          "cluster: 60, component: Chinese Spring 1_001829_5512_m/z463.1233_RT6.8301",
          "cluster: 60, component: Chinese Spring 1_001829_5512_m/z463.1233_RT6.8301",
          null,
          null
         ],
         "type": "scatter",
         "uid": "44ea271a-1e27-4c96-82f1-778a1fc418fc",
         "x": [
          1095,
          1095,
          1154.82421875,
          1154.82421875
         ],
         "xaxis": "x",
         "y": [
          0,
          0.9696969696969697,
          0.9696969696969697,
          0.9622641509433962
         ],
         "yaxis": "y"
        },
        {
         "hoverinfo": "text",
         "marker": {
          "color": "rgb(255,220,0)"
         },
         "mode": "lines",
         "text": [
          "cluster: 61, component: Chinese Spring 1_001829_4912_m/z219.1014_RT5.9958",
          "cluster: 61, component: Chinese Spring 1_001829_4912_m/z219.1014_RT5.9958",
          "cluster: 61, component: Chinese Spring 1_001829_5175_m/z219.1014_RT6.3621",
          "cluster: 61, component: Chinese Spring 1_001829_5175_m/z219.1014_RT6.3621"
         ],
         "type": "scatter",
         "uid": "3880cdd5-2a45-4c88-92d5-69aabdf9c183",
         "x": [
          1285,
          1285,
          1295,
          1295
         ],
         "xaxis": "x",
         "y": [
          0,
          0.38181818181818183,
          0.38181818181818183,
          0
         ],
         "yaxis": "y"
        },
        {
         "hoverinfo": "text",
         "marker": {
          "color": "rgb(255,220,0)"
         },
         "mode": "lines",
         "text": [
          "cluster: 61, component: Chinese Spring 1_001829_5685_m/z219.1014_RT7.3074",
          "cluster: 61, component: Chinese Spring 1_001829_5685_m/z219.1014_RT7.3074",
          null,
          null
         ],
         "type": "scatter",
         "uid": "0b82bcce-5434-4bf6-9fdb-0d5c2ab067e4",
         "x": [
          1275,
          1275,
          1290,
          1290
         ],
         "xaxis": "x",
         "y": [
          0,
          0.4647887323943662,
          0.4647887323943662,
          0.38181818181818183
         ],
         "yaxis": "y"
        },
        {
         "hoverinfo": "text",
         "marker": {
          "color": "rgb(0,116,217)"
         },
         "mode": "lines",
         "text": [
          "cluster: 62, component: Correll 1_001837_4911_m/z251.0911_RT6.5612",
          "cluster: 62, component: Correll 1_001837_4911_m/z251.0911_RT6.5612",
          null,
          null
         ],
         "type": "scatter",
         "uid": "76b53478-63ff-4e91-aa44-1011185b4408",
         "x": [
          1265,
          1265,
          1282.5,
          1282.5
         ],
         "xaxis": "x",
         "y": [
          0,
          0.6527777777777778,
          0.6527777777777778,
          0.4647887323943662
         ],
         "yaxis": "y"
        },
        {
         "hoverinfo": "text",
         "marker": {
          "color": "rgb(40,35,35)"
         },
         "mode": "lines",
         "text": [
          "cluster: 63, component: Chinese Spring 1_001829_2478_m/z291.1449_RT4.0211",
          "cluster: 63, component: Chinese Spring 1_001829_2478_m/z291.1449_RT4.0211",
          "cluster: 63, component: Chinese Spring 1_001829_2534_m/z291.1449_RT4.0567",
          "cluster: 63, component: Chinese Spring 1_001829_2534_m/z291.1449_RT4.0567"
         ],
         "type": "scatter",
         "uid": "23b6df5a-b58e-4d9f-99eb-af75f2f649ab",
         "x": [
          1305,
          1305,
          1315,
          1315
         ],
         "xaxis": "x",
         "y": [
          0,
          0.37037037037037035,
          0.37037037037037035,
          0
         ],
         "yaxis": "y"
        },
        {
         "hoverinfo": "text",
         "marker": {
          "color": "rgb(40,35,35)"
         },
         "mode": "lines",
         "text": [
          "cluster: 63, component: Chinese Spring 1_001829_1966_m/z273.1343_RT3.3302",
          "cluster: 63, component: Chinese Spring 1_001829_1966_m/z273.1343_RT3.3302",
          "cluster: 63, component: Chinese Spring 1_001829_2526_m/z273.1343_RT4.0523",
          "cluster: 63, component: Chinese Spring 1_001829_2526_m/z273.1343_RT4.0523"
         ],
         "type": "scatter",
         "uid": "77906c67-c660-453f-92b1-76fa6553b22b",
         "x": [
          1335,
          1335,
          1345,
          1345
         ],
         "xaxis": "x",
         "y": [
          0,
          0.3333333333333333,
          0.3333333333333333,
          0
         ],
         "yaxis": "y"
        },
        {
         "hoverinfo": "text",
         "marker": {
          "color": "rgb(40,35,35)"
         },
         "mode": "lines",
         "text": [
          "cluster: 63, component: Chinese Spring 1_001829_1967_m/z291.1450_RT3.3302",
          "cluster: 63, component: Chinese Spring 1_001829_1967_m/z291.1450_RT3.3302",
          null,
          null
         ],
         "type": "scatter",
         "uid": "e0fc3b77-7e38-4350-8716-120d6a465637",
         "x": [
          1325,
          1325,
          1340,
          1340
         ],
         "xaxis": "x",
         "y": [
          0,
          0.41935483870967744,
          0.41935483870967744,
          0.3333333333333333
         ],
         "yaxis": "y"
        },
        {
         "hoverinfo": "text",
         "marker": {
          "color": "rgb(40,35,35)"
         },
         "mode": "lines",
         "text": [
          null,
          null,
          null,
          null
         ],
         "type": "scatter",
         "uid": "8068af4b-0271-4898-b8c9-60d0d75a81f5",
         "x": [
          1310,
          1310,
          1332.5,
          1332.5
         ],
         "xaxis": "x",
         "y": [
          0.37037037037037035,
          0.5161290322580645,
          0.5161290322580645,
          0.41935483870967744
         ],
         "yaxis": "y"
        },
        {
         "hoverinfo": "text",
         "marker": {
          "color": "rgb(61,153,112)"
         },
         "mode": "lines",
         "text": [
          "cluster: 64, component: Chinese Spring 1_001829_1874_m/z235.1439_RT3.0271",
          "cluster: 64, component: Chinese Spring 1_001829_1874_m/z235.1439_RT3.0271",
          "cluster: 64, component: Chinese Spring 1_001829_2318_m/z235.1439_RT3.7670",
          "cluster: 64, component: Chinese Spring 1_001829_2318_m/z235.1439_RT3.7670"
         ],
         "type": "scatter",
         "uid": "ec4998aa-07d8-4f52-8596-dde7235bad4a",
         "x": [
          1365,
          1365,
          1375,
          1375
         ],
         "xaxis": "x",
         "y": [
          0,
          0.5263157894736842,
          0.5263157894736842,
          0
         ],
         "yaxis": "y"
        },
        {
         "hoverinfo": "text",
         "marker": {
          "color": "rgb(0,116,217)"
         },
         "mode": "lines",
         "text": [
          "cluster: 65, component: Chinese Spring 1_001829_1994_m/z251.1387_RT3.3658",
          "cluster: 65, component: Chinese Spring 1_001829_1994_m/z251.1387_RT3.3658",
          null,
          null
         ],
         "type": "scatter",
         "uid": "8a44dffd-425c-4103-8022-5bd0ace56766",
         "x": [
          1355,
          1355,
          1370,
          1370
         ],
         "xaxis": "x",
         "y": [
          0,
          0.8636363636363636,
          0.8636363636363636,
          0.5263157894736842
         ],
         "yaxis": "y"
        },
        {
         "hoverinfo": "text",
         "marker": {
          "color": "rgb(0,116,217)"
         },
         "mode": "lines",
         "text": [
          null,
          null,
          null,
          null
         ],
         "type": "scatter",
         "uid": "4d98b513-d33a-43c2-9907-a4ea5f23a347",
         "x": [
          1321.25,
          1321.25,
          1362.5,
          1362.5
         ],
         "xaxis": "x",
         "y": [
          0.5161290322580645,
          0.9166666666666666,
          0.9166666666666666,
          0.8636363636363636
         ],
         "yaxis": "y"
        },
        {
         "hoverinfo": "text",
         "marker": {
          "color": "rgb(0,116,217)"
         },
         "mode": "lines",
         "text": [
          null,
          null,
          null,
          null
         ],
         "type": "scatter",
         "uid": "a15e07ca-8413-4dec-b6c2-8e12fa61458e",
         "x": [
          1273.75,
          1273.75,
          1341.875,
          1341.875
         ],
         "xaxis": "x",
         "y": [
          0.6527777777777778,
          0.9891304347826086,
          0.9891304347826086,
          0.9166666666666666
         ],
         "yaxis": "y"
        },
        {
         "hoverinfo": "text",
         "marker": {
          "color": "rgb(0,116,217)"
         },
         "mode": "lines",
         "text": [
          "cluster: 66, component: Chinese Spring 1_001829_2426_m/z194.0447_RT3.9542",
          "cluster: 66, component: Chinese Spring 1_001829_2426_m/z194.0447_RT3.9542",
          "cluster: 67, component: Cobra 3_001856_2051_m/z194.1174_RT3.6295",
          "cluster: 67, component: Cobra 3_001856_2051_m/z194.1174_RT3.6295"
         ],
         "type": "scatter",
         "uid": "728ebb85-403a-4ab8-b876-9ef0beb00fe1",
         "x": [
          1385,
          1385,
          1395,
          1395
         ],
         "xaxis": "x",
         "y": [
          0,
          0.6206896551724138,
          0.6206896551724138,
          0
         ],
         "yaxis": "y"
        },
        {
         "hoverinfo": "text",
         "marker": {
          "color": "rgb(255,65,54)"
         },
         "mode": "lines",
         "text": [
          "cluster: 68, component: Chinese Spring 1_001829_3914_m/z194.0447_RT5.2381",
          "cluster: 68, component: Chinese Spring 1_001829_3914_m/z194.0447_RT5.2381",
          "cluster: 68, component: Chinese Spring 1_001829_4309_m/z212.0552_RT5.4788",
          "cluster: 68, component: Chinese Spring 1_001829_4309_m/z212.0552_RT5.4788"
         ],
         "type": "scatter",
         "uid": "45c79a98-e477-4003-a36f-e49485439272",
         "x": [
          1415,
          1415,
          1425,
          1425
         ],
         "xaxis": "x",
         "y": [
          0,
          0.35135135135135137,
          0.35135135135135137,
          0
         ],
         "yaxis": "y"
        },
        {
         "hoverinfo": "text",
         "marker": {
          "color": "rgb(255,65,54)"
         },
         "mode": "lines",
         "text": [
          "cluster: 68, component: Chinese Spring 1_001829_3643_m/z194.0447_RT4.9972",
          "cluster: 68, component: Chinese Spring 1_001829_3643_m/z194.0447_RT4.9972",
          null,
          null
         ],
         "type": "scatter",
         "uid": "947c4207-232f-41f1-b66f-f9324488d605",
         "x": [
          1405,
          1405,
          1420,
          1420
         ],
         "xaxis": "x",
         "y": [
          0,
          0.5573770491803278,
          0.5573770491803278,
          0.35135135135135137
         ],
         "yaxis": "y"
        },
        {
         "hoverinfo": "text",
         "marker": {
          "color": "rgb(0,116,217)"
         },
         "mode": "lines",
         "text": [
          "cluster: 69, component: Chinese Spring 1_001829_5341_m/z194.0447_RT6.6117",
          "cluster: 69, component: Chinese Spring 1_001829_5341_m/z194.0447_RT6.6117",
          "cluster: 70, component: Chinese Spring 1_001829_5342_m/z226.0708_RT6.6117",
          "cluster: 70, component: Chinese Spring 1_001829_5342_m/z226.0708_RT6.6117"
         ],
         "type": "scatter",
         "uid": "4954486b-31b1-473b-9bca-586e7eb30320",
         "x": [
          1445,
          1445,
          1455,
          1455
         ],
         "xaxis": "x",
         "y": [
          0,
          0.6285714285714286,
          0.6285714285714286,
          0
         ],
         "yaxis": "y"
        },
        {
         "hoverinfo": "text",
         "marker": {
          "color": "rgb(0,116,217)"
         },
         "mode": "lines",
         "text": [
          "cluster: 71, component: Chinese Spring 1_001829_2958_m/z212.0552_RT4.4445",
          "cluster: 71, component: Chinese Spring 1_001829_2958_m/z212.0552_RT4.4445",
          null,
          null
         ],
         "type": "scatter",
         "uid": "8915054c-9efd-462b-897e-712b634aa59d",
         "x": [
          1435,
          1435,
          1450,
          1450
         ],
         "xaxis": "x",
         "y": [
          0,
          0.7,
          0.7,
          0.6285714285714286
         ],
         "yaxis": "y"
        },
        {
         "hoverinfo": "text",
         "marker": {
          "color": "rgb(0,116,217)"
         },
         "mode": "lines",
         "text": [
          null,
          null,
          null,
          null
         ],
         "type": "scatter",
         "uid": "32ab5ded-83f1-426e-8ea7-57bee11de32a",
         "x": [
          1412.5,
          1412.5,
          1442.5,
          1442.5
         ],
         "xaxis": "x",
         "y": [
          0.5573770491803278,
          0.8360655737704918,
          0.8360655737704918,
          0.7
         ],
         "yaxis": "y"
        },
        {
         "hoverinfo": "text",
         "marker": {
          "color": "rgb(0,116,217)"
         },
         "mode": "lines",
         "text": [
          null,
          null,
          null,
          null
         ],
         "type": "scatter",
         "uid": "16e95289-b669-4b9c-8f6c-5368bc063162",
         "x": [
          1390,
          1390,
          1427.5,
          1427.5
         ],
         "xaxis": "x",
         "y": [
          0.6206896551724138,
          0.8548387096774194,
          0.8548387096774194,
          0.8360655737704918
         ],
         "yaxis": "y"
        },
        {
         "hoverinfo": "text",
         "marker": {
          "color": "rgb(35,205,205)"
         },
         "mode": "lines",
         "text": [
          "cluster: 72, component: Chinese Spring 1_001829_2262_m/z533.1549_RT3.7001",
          "cluster: 72, component: Chinese Spring 1_001829_2262_m/z533.1549_RT3.7001",
          "cluster: 72, component: Chinese Spring 1_001829_2618_m/z533.1546_RT4.1191",
          "cluster: 72, component: Chinese Spring 1_001829_2618_m/z533.1546_RT4.1191"
         ],
         "type": "scatter",
         "uid": "36fd2a25-621a-482d-a7da-b4dac41bbdda",
         "x": [
          1465,
          1465,
          1475,
          1475
         ],
         "xaxis": "x",
         "y": [
          0,
          0.36764705882352944,
          0.36764705882352944,
          0
         ],
         "yaxis": "y"
        },
        {
         "hoverinfo": "text",
         "marker": {
          "color": "rgb(35,205,205)"
         },
         "mode": "lines",
         "text": [
          "cluster: 72, component: Chinese Spring 1_001829_2044_m/z533.1546_RT3.4461",
          "cluster: 72, component: Chinese Spring 1_001829_2044_m/z533.1546_RT3.4461",
          "cluster: 72, component: Chinese Spring 1_001829_3026_m/z533.1549_RT4.5203",
          "cluster: 72, component: Chinese Spring 1_001829_3026_m/z533.1549_RT4.5203"
         ],
         "type": "scatter",
         "uid": "82ea5232-745c-484f-9344-7928ebd80201",
         "x": [
          1485,
          1485,
          1495,
          1495
         ],
         "xaxis": "x",
         "y": [
          0,
          0.45454545454545453,
          0.45454545454545453,
          0
         ],
         "yaxis": "y"
        },
        {
         "hoverinfo": "text",
         "marker": {
          "color": "rgb(35,205,205)"
         },
         "mode": "lines",
         "text": [
          null,
          null,
          null,
          null
         ],
         "type": "scatter",
         "uid": "e71614dd-ff43-413c-89fc-08fb044e01ee",
         "x": [
          1470,
          1470,
          1490,
          1490
         ],
         "xaxis": "x",
         "y": [
          0.36764705882352944,
          0.5,
          0.5,
          0.45454545454545453
         ],
         "yaxis": "y"
        },
        {
         "hoverinfo": "text",
         "marker": {
          "color": "rgb(133,20,75)"
         },
         "mode": "lines",
         "text": [
          "cluster: 73, component: Chinese Spring 1_001829_2030_m/z347.0907_RT3.4015",
          "cluster: 73, component: Chinese Spring 1_001829_2030_m/z347.0907_RT3.4015",
          "cluster: 73, component: Chinese Spring 2_001850_1485_m/z347.0907_RT2.1112",
          "cluster: 73, component: Chinese Spring 2_001850_1485_m/z347.0907_RT2.1112"
         ],
         "type": "scatter",
         "uid": "1951632b-0b38-4e4d-80bc-da94389b39f2",
         "x": [
          1505,
          1505,
          1515,
          1515
         ],
         "xaxis": "x",
         "y": [
          0,
          0.5098039215686274,
          0.5098039215686274,
          0
         ],
         "yaxis": "y"
        },
        {
         "hoverinfo": "text",
         "marker": {
          "color": "rgb(0,116,217)"
         },
         "mode": "lines",
         "text": [
          null,
          null,
          null,
          null
         ],
         "type": "scatter",
         "uid": "886cc107-4f7a-45d7-a538-1bba710c6605",
         "x": [
          1480,
          1480,
          1510,
          1510
         ],
         "xaxis": "x",
         "y": [
          0.5,
          0.8804347826086957,
          0.8804347826086957,
          0.5098039215686274
         ],
         "yaxis": "y"
        },
        {
         "hoverinfo": "text",
         "marker": {
          "color": "rgb(0,116,217)"
         },
         "mode": "lines",
         "text": [
          null,
          null,
          null,
          null
         ],
         "type": "scatter",
         "uid": "2202c784-df86-4ebb-96e6-b910fd993dca",
         "x": [
          1408.75,
          1408.75,
          1495,
          1495
         ],
         "xaxis": "x",
         "y": [
          0.8548387096774194,
          0.9857142857142858,
          0.9857142857142858,
          0.8804347826086957
         ],
         "yaxis": "y"
        },
        {
         "hoverinfo": "text",
         "marker": {
          "color": "rgb(0,116,217)"
         },
         "mode": "lines",
         "text": [
          "cluster: 74, component: Chinese Spring 1_001829_1626_m/z194.1174_RT2.2515",
          "cluster: 74, component: Chinese Spring 1_001829_1626_m/z194.1174_RT2.2515",
          "cluster: 75, component: Cobra 2_001852_2090_m/z194.1174_RT4.0473",
          "cluster: 75, component: Cobra 2_001852_2090_m/z194.1174_RT4.0473"
         ],
         "type": "scatter",
         "uid": "2018d205-4feb-40f5-8be7-e7b342f6ec7c",
         "x": [
          1525,
          1525,
          1535,
          1535
         ],
         "xaxis": "x",
         "y": [
          0,
          0.7142857142857143,
          0.7142857142857143,
          0
         ],
         "yaxis": "y"
        },
        {
         "hoverinfo": "text",
         "marker": {
          "color": "rgb(255,220,0)"
         },
         "mode": "lines",
         "text": [
          "cluster: 76, component: Chinese Spring 1_001829_6439_m/z320.2946_RT8.8987",
          "cluster: 76, component: Chinese Spring 1_001829_6439_m/z320.2946_RT8.8987",
          "cluster: 76, component: Chinese Spring 1_001829_6466_m/z320.2948_RT8.9700",
          "cluster: 76, component: Chinese Spring 1_001829_6466_m/z320.2948_RT8.9700"
         ],
         "type": "scatter",
         "uid": "a5fcfdd1-f363-4d1a-86f8-3408c8706e80",
         "x": [
          1585,
          1585,
          1595,
          1595
         ],
         "xaxis": "x",
         "y": [
          0,
          0,
          0,
          0
         ],
         "yaxis": "y"
        },
        {
         "hoverinfo": "text",
         "marker": {
          "color": "rgb(255,220,0)"
         },
         "mode": "lines",
         "text": [
          "cluster: 76, component: Chinese Spring 1_001829_6404_m/z320.2946_RT8.8274",
          "cluster: 76, component: Chinese Spring 1_001829_6404_m/z320.2946_RT8.8274",
          null,
          null
         ],
         "type": "scatter",
         "uid": "b65e5757-bbdf-4105-ab06-2def68a20de0",
         "x": [
          1575,
          1575,
          1590,
          1590
         ],
         "xaxis": "x",
         "y": [
          0,
          0.4444444444444444,
          0.4444444444444444,
          0
         ],
         "yaxis": "y"
        },
        {
         "hoverinfo": "text",
         "marker": {
          "color": "rgb(255,220,0)"
         },
         "mode": "lines",
         "text": [
          "cluster: 76, component: Chinese Spring 1_001829_6510_m/z320.2948_RT9.0458",
          "cluster: 76, component: Chinese Spring 1_001829_6510_m/z320.2948_RT9.0458",
          null,
          null
         ],
         "type": "scatter",
         "uid": "72f5cdc6-01f6-4468-9769-4c453e990d76",
         "x": [
          1565,
          1565,
          1582.5,
          1582.5
         ],
         "xaxis": "x",
         "y": [
          0,
          0.5833333333333334,
          0.5833333333333334,
          0.4444444444444444
         ],
         "yaxis": "y"
        },
        {
         "hoverinfo": "text",
         "marker": {
          "color": "rgb(0,116,217)"
         },
         "mode": "lines",
         "text": [
          "cluster: 77, component: Chinese Spring 1_001829_7255_m/z320.2946_RT10.6470",
          "cluster: 77, component: Chinese Spring 1_001829_7255_m/z320.2946_RT10.6470",
          null,
          null
         ],
         "type": "scatter",
         "uid": "3d4854f7-8bea-4a03-98d2-fa099752a026",
         "x": [
          1555,
          1555,
          1573.75,
          1573.75
         ],
         "xaxis": "x",
         "y": [
          0,
          0.7857142857142857,
          0.7857142857142857,
          0.5833333333333334
         ],
         "yaxis": "y"
        },
        {
         "hoverinfo": "text",
         "marker": {
          "color": "rgb(0,116,217)"
         },
         "mode": "lines",
         "text": [
          "cluster: 78, component: Chinese Spring 1_001829_6552_m/z320.2946_RT9.1394",
          "cluster: 78, component: Chinese Spring 1_001829_6552_m/z320.2946_RT9.1394",
          null,
          null
         ],
         "type": "scatter",
         "uid": "06c500ef-f292-4d15-b374-923498454829",
         "x": [
          1545,
          1545,
          1564.375,
          1564.375
         ],
         "xaxis": "x",
         "y": [
          0,
          0.9393939393939394,
          0.9393939393939394,
          0.7857142857142857
         ],
         "yaxis": "y"
        },
        {
         "hoverinfo": "text",
         "marker": {
          "color": "rgb(0,116,217)"
         },
         "mode": "lines",
         "text": [
          null,
          null,
          null,
          null
         ],
         "type": "scatter",
         "uid": "e134ded3-e248-4f29-a7a3-5f3b6569ad9b",
         "x": [
          1530,
          1530,
          1554.6875,
          1554.6875
         ],
         "xaxis": "x",
         "y": [
          0.7142857142857143,
          0.9523809523809523,
          0.9523809523809523,
          0.9393939393939394
         ],
         "yaxis": "y"
        },
        {
         "hoverinfo": "text",
         "marker": {
          "color": "rgb(0,116,217)"
         },
         "mode": "lines",
         "text": [
          "cluster: 79, component: Chinese Spring 1_001829_0724_m/z241.1544_RT0.7890",
          "cluster: 79, component: Chinese Spring 1_001829_0724_m/z241.1544_RT0.7890",
          "cluster: 80, component: Chinese Spring 1_001829_0785_m/z241.1544_RT0.8781",
          "cluster: 80, component: Chinese Spring 1_001829_0785_m/z241.1544_RT0.8781"
         ],
         "type": "scatter",
         "uid": "adf2c0d5-09ae-4da7-ab82-117d271ccdf8",
         "x": [
          1605,
          1605,
          1615,
          1615
         ],
         "xaxis": "x",
         "y": [
          0,
          0.6363636363636364,
          0.6363636363636364,
          0
         ],
         "yaxis": "y"
        },
        {
         "hoverinfo": "text",
         "marker": {
          "color": "rgb(40,35,35)"
         },
         "mode": "lines",
         "text": [
          "cluster: 81, component: Chinese Spring 1_001829_6093_m/z332.2583_RT8.1097",
          "cluster: 81, component: Chinese Spring 1_001829_6093_m/z332.2583_RT8.1097",
          "cluster: 81, component: Chinese Spring 1_001829_6127_m/z332.2584_RT8.1989",
          "cluster: 81, component: Chinese Spring 1_001829_6127_m/z332.2584_RT8.1989"
         ],
         "type": "scatter",
         "uid": "a3841718-cfa8-441a-9590-7d9c94fe96d8",
         "x": [
          1645,
          1645,
          1655,
          1655
         ],
         "xaxis": "x",
         "y": [
          0,
          0,
          0,
          0
         ],
         "yaxis": "y"
        },
        {
         "hoverinfo": "text",
         "marker": {
          "color": "rgb(0,116,217)"
         },
         "mode": "lines",
         "text": [
          "cluster: 82, component: Chinese Spring 1_001829_6229_m/z332.2583_RT8.4886",
          "cluster: 82, component: Chinese Spring 1_001829_6229_m/z332.2583_RT8.4886",
          null,
          null
         ],
         "type": "scatter",
         "uid": "21f40067-091d-4331-8258-c17494a1d5d6",
         "x": [
          1635,
          1635,
          1650,
          1650
         ],
         "xaxis": "x",
         "y": [
          0,
          0.6829268292682927,
          0.6829268292682927,
          0
         ],
         "yaxis": "y"
        },
        {
         "hoverinfo": "text",
         "marker": {
          "color": "rgb(0,116,217)"
         },
         "mode": "lines",
         "text": [
          "cluster: 83, component: Chinese Spring 1_001829_5942_m/z332.2584_RT7.8067",
          "cluster: 83, component: Chinese Spring 1_001829_5942_m/z332.2584_RT7.8067",
          null,
          null
         ],
         "type": "scatter",
         "uid": "4ff6a669-1ddb-43de-9c56-f0e48aa54b71",
         "x": [
          1625,
          1625,
          1642.5,
          1642.5
         ],
         "xaxis": "x",
         "y": [
          0,
          0.8,
          0.8,
          0.6829268292682927
         ],
         "yaxis": "y"
        },
        {
         "hoverinfo": "text",
         "marker": {
          "color": "rgb(0,116,217)"
         },
         "mode": "lines",
         "text": [
          null,
          null,
          null,
          null
         ],
         "type": "scatter",
         "uid": "cdba04ab-d5e5-42a0-b014-ac31550a7c5d",
         "x": [
          1610,
          1610,
          1633.75,
          1633.75
         ],
         "xaxis": "x",
         "y": [
          0.6363636363636364,
          0.9666666666666667,
          0.9666666666666667,
          0.8
         ],
         "yaxis": "y"
        },
        {
         "hoverinfo": "text",
         "marker": {
          "color": "rgb(0,116,217)"
         },
         "mode": "lines",
         "text": [
          null,
          null,
          null,
          null
         ],
         "type": "scatter",
         "uid": "7b944adb-9d23-4ab9-84d5-3d160b09f5f5",
         "x": [
          1542.34375,
          1542.34375,
          1621.875,
          1621.875
         ],
         "xaxis": "x",
         "y": [
          0.9523809523809523,
          0.9772727272727273,
          0.9772727272727273,
          0.9666666666666667
         ],
         "yaxis": "y"
        },
        {
         "hoverinfo": "text",
         "marker": {
          "color": "rgb(61,153,112)"
         },
         "mode": "lines",
         "text": [
          "cluster: 84, component: Chinese Spring 1_001829_1633_m/z246.1446_RT2.2783",
          "cluster: 84, component: Chinese Spring 1_001829_1633_m/z246.1446_RT2.2783",
          "cluster: 84, component: Chinese Spring 1_001829_1708_m/z247.1286_RT2.6482",
          "cluster: 84, component: Chinese Spring 1_001829_1708_m/z247.1286_RT2.6482"
         ],
         "type": "scatter",
         "uid": "35bb9a03-6348-4680-a7b3-0acbe3f56939",
         "x": [
          1685,
          1685,
          1695,
          1695
         ],
         "xaxis": "x",
         "y": [
          0,
          0.5,
          0.5,
          0
         ],
         "yaxis": "y"
        },
        {
         "hoverinfo": "text",
         "marker": {
          "color": "rgb(255,65,54)"
         },
         "mode": "lines",
         "text": [
          "cluster: 85, component: Chinese Spring 1_001829_1642_m/z260.1602_RT2.3719",
          "cluster: 85, component: Chinese Spring 1_001829_1642_m/z260.1602_RT2.3719",
          "cluster: 85, component: Chinese Spring 2_001850_1603_m/z260.1603_RT2.4945",
          "cluster: 85, component: Chinese Spring 2_001850_1603_m/z260.1603_RT2.4945"
         ],
         "type": "scatter",
         "uid": "e70b907d-d4a3-49f3-845c-6c625d9a4c5f",
         "x": [
          1705,
          1705,
          1715,
          1715
         ],
         "xaxis": "x",
         "y": [
          0,
          0.2857142857142857,
          0.2857142857142857,
          0
         ],
         "yaxis": "y"
        },
        {
         "hoverinfo": "text",
         "marker": {
          "color": "rgb(35,205,205)"
         },
         "mode": "lines",
         "text": [
          "cluster: 86, component: Chinese Spring 1_001829_1564_m/z233.1494_RT2.1044",
          "cluster: 86, component: Chinese Spring 1_001829_1564_m/z233.1494_RT2.1044",
          "cluster: 86, component: Chinese Spring 5_001887_1443_m/z233.1494_RT2.2226",
          "cluster: 86, component: Chinese Spring 5_001887_1443_m/z233.1494_RT2.2226"
         ],
         "type": "scatter",
         "uid": "d866df40-ac12-4641-8bc2-c592ce170944",
         "x": [
          1735,
          1735,
          1745,
          1745
         ],
         "xaxis": "x",
         "y": [
          0,
          0.2631578947368421,
          0.2631578947368421,
          0
         ],
         "yaxis": "y"
        },
        {
         "hoverinfo": "text",
         "marker": {
          "color": "rgb(35,205,205)"
         },
         "mode": "lines",
         "text": [
          "cluster: 86, component: Chinese Spring 1_001829_1656_m/z233.1494_RT2.5234",
          "cluster: 86, component: Chinese Spring 1_001829_1656_m/z233.1494_RT2.5234",
          null,
          null
         ],
         "type": "scatter",
         "uid": "561e8885-e5ec-404e-8d0a-a7570241304a",
         "x": [
          1725,
          1725,
          1740,
          1740
         ],
         "xaxis": "x",
         "y": [
          0,
          0.5416666666666666,
          0.5416666666666666,
          0.2631578947368421
         ],
         "yaxis": "y"
        },
        {
         "hoverinfo": "text",
         "marker": {
          "color": "rgb(0,116,217)"
         },
         "mode": "lines",
         "text": [
          null,
          null,
          null,
          null
         ],
         "type": "scatter",
         "uid": "ed1e1c00-1a6e-4443-b991-d09c29131d0b",
         "x": [
          1710,
          1710,
          1732.5,
          1732.5
         ],
         "xaxis": "x",
         "y": [
          0.2857142857142857,
          0.8648648648648649,
          0.8648648648648649,
          0.5416666666666666
         ],
         "yaxis": "y"
        },
        {
         "hoverinfo": "text",
         "marker": {
          "color": "rgb(0,116,217)"
         },
         "mode": "lines",
         "text": [
          null,
          null,
          null,
          null
         ],
         "type": "scatter",
         "uid": "f6a05596-b771-462d-85e5-dd0b241b992f",
         "x": [
          1690,
          1690,
          1721.25,
          1721.25
         ],
         "xaxis": "x",
         "y": [
          0.5,
          0.9574468085106383,
          0.9574468085106383,
          0.8648648648648649
         ],
         "yaxis": "y"
        },
        {
         "hoverinfo": "text",
         "marker": {
          "color": "rgb(0,116,217)"
         },
         "mode": "lines",
         "text": [
          "cluster: 87, component: Chinese Spring 1_001829_3318_m/z132.0444_RT4.7743",
          "cluster: 87, component: Chinese Spring 1_001829_3318_m/z132.0444_RT4.7743",
          null,
          null
         ],
         "type": "scatter",
         "uid": "2e63dc47-bae4-43f7-a2f5-3b1ea0751b53",
         "x": [
          1675,
          1675,
          1705.625,
          1705.625
         ],
         "xaxis": "x",
         "y": [
          0,
          0.98,
          0.98,
          0.9574468085106383
         ],
         "yaxis": "y"
        },
        {
         "hoverinfo": "text",
         "marker": {
          "color": "rgb(0,116,217)"
         },
         "mode": "lines",
         "text": [
          "cluster: 88, component: Chinese Spring 1_001829_0877_m/z260.1603_RT0.9851",
          "cluster: 88, component: Chinese Spring 1_001829_0877_m/z260.1603_RT0.9851",
          null,
          null
         ],
         "type": "scatter",
         "uid": "0aa3b8c6-3612-4b5b-8063-0643b06f4c54",
         "x": [
          1665,
          1665,
          1690.3125,
          1690.3125
         ],
         "xaxis": "x",
         "y": [
          0,
          0.9846153846153847,
          0.9846153846153847,
          0.98
         ],
         "yaxis": "y"
        },
        {
         "hoverinfo": "text",
         "marker": {
          "color": "rgb(0,116,217)"
         },
         "mode": "lines",
         "text": [
          "cluster: 89, component: Chinese Spring 1_001829_1393_m/z221.1284_RT1.6494",
          "cluster: 89, component: Chinese Spring 1_001829_1393_m/z221.1284_RT1.6494",
          "cluster: 90, component: Chinese Spring 2_001850_1669_m/z237.1232_RT2.8467",
          "cluster: 90, component: Chinese Spring 2_001850_1669_m/z237.1232_RT2.8467"
         ],
         "type": "scatter",
         "uid": "1c73a3fc-5431-424d-9932-08a41d6542d8",
         "x": [
          1755,
          1755,
          1765,
          1765
         ],
         "xaxis": "x",
         "y": [
          0,
          0.7142857142857143,
          0.7142857142857143,
          0
         ],
         "yaxis": "y"
        },
        {
         "hoverinfo": "text",
         "marker": {
          "color": "rgb(0,116,217)"
         },
         "mode": "lines",
         "text": [
          "cluster: 91, component: Chinese Spring 1_001829_0821_m/z237.1231_RT0.9093",
          "cluster: 91, component: Chinese Spring 1_001829_0821_m/z237.1231_RT0.9093",
          "cluster: 92, component: Chinese Spring 1_001829_2218_m/z237.1231_RT3.6645",
          "cluster: 92, component: Chinese Spring 1_001829_2218_m/z237.1231_RT3.6645"
         ],
         "type": "scatter",
         "uid": "1f714cc0-b0b9-4466-ba4e-2b27d1d40103",
         "x": [
          1775,
          1775,
          1785,
          1785
         ],
         "xaxis": "x",
         "y": [
          0,
          0.9444444444444444,
          0.9444444444444444,
          0
         ],
         "yaxis": "y"
        },
        {
         "hoverinfo": "text",
         "marker": {
          "color": "rgb(0,116,217)"
         },
         "mode": "lines",
         "text": [
          null,
          null,
          null,
          null
         ],
         "type": "scatter",
         "uid": "547018dc-15b9-459b-8982-7e4479591790",
         "x": [
          1760,
          1760,
          1780,
          1780
         ],
         "xaxis": "x",
         "y": [
          0.7142857142857143,
          0.9761904761904762,
          0.9761904761904762,
          0.9444444444444444
         ],
         "yaxis": "y"
        },
        {
         "hoverinfo": "text",
         "marker": {
          "color": "rgb(133,20,75)"
         },
         "mode": "lines",
         "text": [
          "cluster: 93, component: Chinese Spring 1_001829_3925_m/z222.0703_RT5.2470",
          "cluster: 93, component: Chinese Spring 1_001829_3925_m/z222.0703_RT5.2470",
          "cluster: 93, component: Chinese Spring 1_001829_6287_m/z250.1014_RT8.6045",
          "cluster: 93, component: Chinese Spring 1_001829_6287_m/z250.1014_RT8.6045"
         ],
         "type": "scatter",
         "uid": "ae34a8e0-3302-4f0e-9dc7-f15c593ad5aa",
         "x": [
          1825,
          1825,
          1835,
          1835
         ],
         "xaxis": "x",
         "y": [
          0,
          0.5081967213114754,
          0.5081967213114754,
          0
         ],
         "yaxis": "y"
        },
        {
         "hoverinfo": "text",
         "marker": {
          "color": "rgb(0,116,217)"
         },
         "mode": "lines",
         "text": [
          "cluster: 94, component: Chinese Spring 1_001829_5742_m/z268.5936_RT7.4233",
          "cluster: 94, component: Chinese Spring 1_001829_5742_m/z268.5936_RT7.4233",
          null,
          null
         ],
         "type": "scatter",
         "uid": "ab14bae5-6f35-443f-a301-13a602e49405",
         "x": [
          1815,
          1815,
          1830,
          1830
         ],
         "xaxis": "x",
         "y": [
          0,
          0.6923076923076923,
          0.6923076923076923,
          0.5081967213114754
         ],
         "yaxis": "y"
        },
        {
         "hoverinfo": "text",
         "marker": {
          "color": "rgb(255,220,0)"
         },
         "mode": "lines",
         "text": [
          "cluster: 95, component: Chinese Spring 1_001829_2484_m/z247.0598_RT4.0255",
          "cluster: 95, component: Chinese Spring 1_001829_2484_m/z247.0598_RT4.0255",
          "cluster: 95, component: Chinese Spring 1_001829_2604_m/z247.0598_RT4.1147",
          "cluster: 95, component: Chinese Spring 1_001829_2604_m/z247.0598_RT4.1147"
         ],
         "type": "scatter",
         "uid": "01c2ed11-84e8-4ad1-806b-794f90dbf630",
         "x": [
          1845,
          1845,
          1855,
          1855
         ],
         "xaxis": "x",
         "y": [
          0,
          0.35294117647058826,
          0.35294117647058826,
          0
         ],
         "yaxis": "y"
        },
        {
         "hoverinfo": "text",
         "marker": {
          "color": "rgb(0,116,217)"
         },
         "mode": "lines",
         "text": [
          "cluster: 96, component: Chinese Spring 1_001829_1873_m/z212.0390_RT3.0271",
          "cluster: 96, component: Chinese Spring 1_001829_1873_m/z212.0390_RT3.0271",
          "cluster: 97, component: Chinese Spring 1_001829_5506_m/z214.5649_RT6.8301",
          "cluster: 97, component: Chinese Spring 1_001829_5506_m/z214.5649_RT6.8301"
         ],
         "type": "scatter",
         "uid": "57c4ac11-310a-469e-bc6e-e1f238169f34",
         "x": [
          1875,
          1875,
          1885,
          1885
         ],
         "xaxis": "x",
         "y": [
          0,
          0.7777777777777778,
          0.7777777777777778,
          0
         ],
         "yaxis": "y"
        },
        {
         "hoverinfo": "text",
         "marker": {
          "color": "rgb(0,116,217)"
         },
         "mode": "lines",
         "text": [
          "cluster: 98, component: Chinese Spring 1_001829_3431_m/z219.0467_RT4.8501",
          "cluster: 98, component: Chinese Spring 1_001829_3431_m/z219.0467_RT4.8501",
          null,
          null
         ],
         "type": "scatter",
         "uid": "0619be07-3856-427b-8e0c-25c9a0bbfce1",
         "x": [
          1865,
          1865,
          1880,
          1880
         ],
         "xaxis": "x",
         "y": [
          0,
          0.8125,
          0.8125,
          0.7777777777777778
         ],
         "yaxis": "y"
        },
        {
         "hoverinfo": "text",
         "marker": {
          "color": "rgb(0,116,217)"
         },
         "mode": "lines",
         "text": [
          null,
          null,
          null,
          null
         ],
         "type": "scatter",
         "uid": "702ea464-a098-453a-b451-f43e1b61e958",
         "x": [
          1850,
          1850,
          1872.5,
          1872.5
         ],
         "xaxis": "x",
         "y": [
          0.35294117647058826,
          0.8571428571428571,
          0.8571428571428571,
          0.8125
         ],
         "yaxis": "y"
        },
        {
         "hoverinfo": "text",
         "marker": {
          "color": "rgb(0,116,217)"
         },
         "mode": "lines",
         "text": [
          null,
          null,
          null,
          null
         ],
         "type": "scatter",
         "uid": "e9c8f59d-2129-4472-be44-773f2e0cca7a",
         "x": [
          1822.5,
          1822.5,
          1861.25,
          1861.25
         ],
         "xaxis": "x",
         "y": [
          0.6923076923076923,
          0.9178082191780822,
          0.9178082191780822,
          0.8571428571428571
         ],
         "yaxis": "y"
        },
        {
         "hoverinfo": "text",
         "marker": {
          "color": "rgb(0,116,217)"
         },
         "mode": "lines",
         "text": [
          "cluster: 99, component: Chinese Spring 1_001829_0924_m/z214.5102_RT1.0029",
          "cluster: 99, component: Chinese Spring 1_001829_0924_m/z214.5102_RT1.0029",
          null,
          null
         ],
         "type": "scatter",
         "uid": "66520fb2-b4e6-41fe-b894-7d59d413e573",
         "x": [
          1805,
          1805,
          1841.875,
          1841.875
         ],
         "xaxis": "x",
         "y": [
          0,
          0.9534883720930233,
          0.9534883720930233,
          0.9178082191780822
         ],
         "yaxis": "y"
        },
        {
         "hoverinfo": "text",
         "marker": {
          "color": "rgb(0,116,217)"
         },
         "mode": "lines",
         "text": [
          "cluster: 100, component: Chinese Spring 1_001829_4649_m/z625.1763_RT5.7730",
          "cluster: 100, component: Chinese Spring 1_001829_4649_m/z625.1763_RT5.7730",
          "cluster: 101, component: Chinese Spring 1_001829_4877_m/z463.1232_RT5.9646",
          "cluster: 101, component: Chinese Spring 1_001829_4877_m/z463.1232_RT5.9646"
         ],
         "type": "scatter",
         "uid": "cb5640b1-0efa-4a2e-87fb-270653276df3",
         "x": [
          1905,
          1905,
          1915,
          1915
         ],
         "xaxis": "x",
         "y": [
          0,
          0.6774193548387096,
          0.6774193548387096,
          0
         ],
         "yaxis": "y"
        },
        {
         "hoverinfo": "text",
         "marker": {
          "color": "rgb(0,116,217)"
         },
         "mode": "lines",
         "text": [
          "cluster: 102, component: Chinese Spring 1_001829_3870_m/z595.1657_RT5.1846",
          "cluster: 102, component: Chinese Spring 1_001829_3870_m/z595.1657_RT5.1846",
          null,
          null
         ],
         "type": "scatter",
         "uid": "737296cb-7e45-4edd-a8d0-3ac7faf83e8a",
         "x": [
          1895,
          1895,
          1910,
          1910
         ],
         "xaxis": "x",
         "y": [
          0,
          0.8947368421052632,
          0.8947368421052632,
          0.6774193548387096
         ],
         "yaxis": "y"
        },
        {
         "hoverinfo": "text",
         "marker": {
          "color": "rgb(40,35,35)"
         },
         "mode": "lines",
         "text": [
          "cluster: 103, component: Chinese Spring 1_001829_0770_m/z182.0811_RT0.8558",
          "cluster: 103, component: Chinese Spring 1_001829_0770_m/z182.0811_RT0.8558",
          "cluster: 103, component: Chinese Spring 1_001829_0839_m/z182.0811_RT0.9405",
          "cluster: 103, component: Chinese Spring 1_001829_0839_m/z182.0811_RT0.9405"
         ],
         "type": "scatter",
         "uid": "1109174d-b06a-4cdf-9d67-17d63c532a72",
         "x": [
          1925,
          1925,
          1935,
          1935
         ],
         "xaxis": "x",
         "y": [
          0,
          0.4375,
          0.4375,
          0
         ],
         "yaxis": "y"
        },
        {
         "hoverinfo": "text",
         "marker": {
          "color": "rgb(61,153,112)"
         },
         "mode": "lines",
         "text": [
          "cluster: 104, component: Chinese Spring 1_001829_3666_m/z212.0552_RT5.0017",
          "cluster: 104, component: Chinese Spring 1_001829_3666_m/z212.0552_RT5.0017",
          "cluster: 104, component: Chinese Spring 1_001829_4302_m/z194.0447_RT5.4788",
          "cluster: 104, component: Chinese Spring 1_001829_4302_m/z194.0447_RT5.4788"
         ],
         "type": "scatter",
         "uid": "a0fe99fa-4377-4e65-b4c5-68246cfed836",
         "x": [
          1945,
          1945,
          1955,
          1955
         ],
         "xaxis": "x",
         "y": [
          0,
          0.5370370370370371,
          0.5370370370370371,
          0
         ],
         "yaxis": "y"
        },
        {
         "hoverinfo": "text",
         "marker": {
          "color": "rgb(0,116,217)"
         },
         "mode": "lines",
         "text": [
          null,
          null,
          null,
          null
         ],
         "type": "scatter",
         "uid": "dddd0a6b-79dc-4856-bd8c-90e6c48fc09a",
         "x": [
          1930,
          1930,
          1950,
          1950
         ],
         "xaxis": "x",
         "y": [
          0.4375,
          0.921875,
          0.921875,
          0.5370370370370371
         ],
         "yaxis": "y"
        },
        {
         "hoverinfo": "text",
         "marker": {
          "color": "rgb(0,116,217)"
         },
         "mode": "lines",
         "text": [
          "cluster: 105, component: Chinese Spring 1_001829_2440_m/z333.1520_RT3.9631",
          "cluster: 105, component: Chinese Spring 1_001829_2440_m/z333.1520_RT3.9631",
          "cluster: 106, component: Chinese Spring 1_001829_2563_m/z333.1519_RT4.0835",
          "cluster: 106, component: Chinese Spring 1_001829_2563_m/z333.1519_RT4.0835"
         ],
         "type": "scatter",
         "uid": "e4b2ba78-811d-4f74-9e3c-126f25811148",
         "x": [
          1965,
          1965,
          1975,
          1975
         ],
         "xaxis": "x",
         "y": [
          0,
          0.8461538461538461,
          0.8461538461538461,
          0
         ],
         "yaxis": "y"
        },
        {
         "hoverinfo": "text",
         "marker": {
          "color": "rgb(0,116,217)"
         },
         "mode": "lines",
         "text": [
          "cluster: 107, component: Chinese Spring 1_001829_1519_m/z319.1363_RT1.9258",
          "cluster: 107, component: Chinese Spring 1_001829_1519_m/z319.1363_RT1.9258",
          "cluster: 108, component: Chinese Spring 1_001829_1645_m/z319.1363_RT2.3986",
          "cluster: 108, component: Chinese Spring 1_001829_1645_m/z319.1363_RT2.3986"
         ],
         "type": "scatter",
         "uid": "7a4661b3-d3d5-45eb-ac0a-bf94b4e16614",
         "x": [
          1985,
          1985,
          1995,
          1995
         ],
         "xaxis": "x",
         "y": [
          0,
          0.75,
          0.75,
          0
         ],
         "yaxis": "y"
        },
        {
         "hoverinfo": "text",
         "marker": {
          "color": "rgb(255,65,54)"
         },
         "mode": "lines",
         "text": [
          "cluster: 109, component: Chinese Spring 1_001829_1084_m/z229.1545_RT1.0920",
          "cluster: 109, component: Chinese Spring 1_001829_1084_m/z229.1545_RT1.0920",
          "cluster: 109, component: Chinese Spring 1_001829_1122_m/z229.1545_RT1.1143",
          "cluster: 109, component: Chinese Spring 1_001829_1122_m/z229.1545_RT1.1143"
         ],
         "type": "scatter",
         "uid": "d6cd641a-febd-4670-8ac4-0497f5058b3d",
         "x": [
          2035,
          2035,
          2045,
          2045
         ],
         "xaxis": "x",
         "y": [
          0,
          0,
          0,
          0
         ],
         "yaxis": "y"
        },
        {
         "hoverinfo": "text",
         "marker": {
          "color": "rgb(255,65,54)"
         },
         "mode": "lines",
         "text": [
          "cluster: 109, component: Chinese Spring 1_001829_0683_m/z229.1545_RT0.7845",
          "cluster: 109, component: Chinese Spring 1_001829_0683_m/z229.1545_RT0.7845",
          null,
          null
         ],
         "type": "scatter",
         "uid": "578140a0-644c-43de-8902-aa43407bc5fc",
         "x": [
          2025,
          2025,
          2040,
          2040
         ],
         "xaxis": "x",
         "y": [
          0,
          0.38461538461538464,
          0.38461538461538464,
          0
         ],
         "yaxis": "y"
        },
        {
         "hoverinfo": "text",
         "marker": {
          "color": "rgb(0,116,217)"
         },
         "mode": "lines",
         "text": [
          "cluster: 110, component: Chinese Spring 1_001829_0764_m/z229.1545_RT0.8469",
          "cluster: 110, component: Chinese Spring 1_001829_0764_m/z229.1545_RT0.8469",
          null,
          null
         ],
         "type": "scatter",
         "uid": "9b073348-8c36-4fab-9d7f-d5817f38bc54",
         "x": [
          2015,
          2015,
          2032.5,
          2032.5
         ],
         "xaxis": "x",
         "y": [
          0,
          0.875,
          0.875,
          0.38461538461538464
         ],
         "yaxis": "y"
        },
        {
         "hoverinfo": "text",
         "marker": {
          "color": "rgb(0,116,217)"
         },
         "mode": "lines",
         "text": [
          "cluster: 111, component: Chinese Spring 1_001829_0094_m/z265.0154_RT0.5705",
          "cluster: 111, component: Chinese Spring 1_001829_0094_m/z265.0154_RT0.5705",
          null,
          null
         ],
         "type": "scatter",
         "uid": "63347941-3ee8-466a-95a8-1c748a625763",
         "x": [
          2005,
          2005,
          2023.75,
          2023.75
         ],
         "xaxis": "x",
         "y": [
          0,
          1,
          1,
          0.875
         ],
         "yaxis": "y"
        },
        {
         "hoverinfo": "text",
         "marker": {
          "color": "rgb(0,116,217)"
         },
         "mode": "lines",
         "text": [
          null,
          null,
          null,
          null
         ],
         "type": "scatter",
         "uid": "71da32fb-db7c-4b93-9610-fc755c7a1169",
         "x": [
          1990,
          1990,
          2014.375,
          2014.375
         ],
         "xaxis": "x",
         "y": [
          0.75,
          1,
          1,
          1
         ],
         "yaxis": "y"
        },
        {
         "hoverinfo": "text",
         "marker": {
          "color": "rgb(0,116,217)"
         },
         "mode": "lines",
         "text": [
          null,
          null,
          null,
          null
         ],
         "type": "scatter",
         "uid": "ecf58226-a607-41fa-b519-9f8d0a14f1d0",
         "x": [
          1970,
          1970,
          2002.1875,
          2002.1875
         ],
         "xaxis": "x",
         "y": [
          0.8461538461538461,
          1,
          1,
          1
         ],
         "yaxis": "y"
        },
        {
         "hoverinfo": "text",
         "marker": {
          "color": "rgb(0,116,217)"
         },
         "mode": "lines",
         "text": [
          null,
          null,
          null,
          null
         ],
         "type": "scatter",
         "uid": "50164f44-9c8e-40ab-8bc7-7f9a93ed2036",
         "x": [
          1940,
          1940,
          1986.09375,
          1986.09375
         ],
         "xaxis": "x",
         "y": [
          0.921875,
          1,
          1,
          1
         ],
         "yaxis": "y"
        },
        {
         "hoverinfo": "text",
         "marker": {
          "color": "rgb(0,116,217)"
         },
         "mode": "lines",
         "text": [
          null,
          null,
          null,
          null
         ],
         "type": "scatter",
         "uid": "662dc8c1-06b6-4b9f-88f5-ce5a200e9417",
         "x": [
          1902.5,
          1902.5,
          1963.046875,
          1963.046875
         ],
         "xaxis": "x",
         "y": [
          0.8947368421052632,
          1,
          1,
          1
         ],
         "yaxis": "y"
        },
        {
         "hoverinfo": "text",
         "marker": {
          "color": "rgb(0,116,217)"
         },
         "mode": "lines",
         "text": [
          null,
          null,
          null,
          null
         ],
         "type": "scatter",
         "uid": "46770251-9e8a-43d7-9853-33a6cd32d088",
         "x": [
          1823.4375,
          1823.4375,
          1932.7734375,
          1932.7734375
         ],
         "xaxis": "x",
         "y": [
          0.9534883720930233,
          1,
          1,
          1
         ],
         "yaxis": "y"
        },
        {
         "hoverinfo": "text",
         "marker": {
          "color": "rgb(0,116,217)"
         },
         "mode": "lines",
         "text": [
          "cluster: 112, component: Chinese Spring 1_001829_8795_m/z797.5175_RT14.4412",
          "cluster: 112, component: Chinese Spring 1_001829_8795_m/z797.5175_RT14.4412",
          null,
          null
         ],
         "type": "scatter",
         "uid": "752530eb-e09c-4b1f-a90f-f96d20289789",
         "x": [
          1795,
          1795,
          1878.10546875,
          1878.10546875
         ],
         "xaxis": "x",
         "y": [
          0,
          1,
          1,
          1
         ],
         "yaxis": "y"
        },
        {
         "hoverinfo": "text",
         "marker": {
          "color": "rgb(0,116,217)"
         },
         "mode": "lines",
         "text": [
          null,
          null,
          null,
          null
         ],
         "type": "scatter",
         "uid": "8ca48e5e-0452-49fc-b690-3d80571a5e77",
         "x": [
          1770,
          1770,
          1836.552734375,
          1836.552734375
         ],
         "xaxis": "x",
         "y": [
          0.9761904761904762,
          1,
          1,
          1
         ],
         "yaxis": "y"
        },
        {
         "hoverinfo": "text",
         "marker": {
          "color": "rgb(0,116,217)"
         },
         "mode": "lines",
         "text": [
          null,
          null,
          null,
          null
         ],
         "type": "scatter",
         "uid": "79987b86-3e79-4d2a-ba32-32a6186e447e",
         "x": [
          1677.65625,
          1677.65625,
          1803.2763671875,
          1803.2763671875
         ],
         "xaxis": "x",
         "y": [
          0.9846153846153847,
          1,
          1,
          1
         ],
         "yaxis": "y"
        },
        {
         "hoverinfo": "text",
         "marker": {
          "color": "rgb(0,116,217)"
         },
         "mode": "lines",
         "text": [
          null,
          null,
          null,
          null
         ],
         "type": "scatter",
         "uid": "90e8eeee-4c83-454d-a8c2-1f03ef0b4606",
         "x": [
          1582.109375,
          1582.109375,
          1740.46630859375,
          1740.46630859375
         ],
         "xaxis": "x",
         "y": [
          0.9772727272727273,
          1,
          1,
          1
         ],
         "yaxis": "y"
        },
        {
         "hoverinfo": "text",
         "marker": {
          "color": "rgb(0,116,217)"
         },
         "mode": "lines",
         "text": [
          null,
          null,
          null,
          null
         ],
         "type": "scatter",
         "uid": "a4d27e14-ffe5-4d0c-b274-befdbc77b76e",
         "x": [
          1451.875,
          1451.875,
          1661.287841796875,
          1661.287841796875
         ],
         "xaxis": "x",
         "y": [
          0.9857142857142858,
          1,
          1,
          1
         ],
         "yaxis": "y"
        },
        {
         "hoverinfo": "text",
         "marker": {
          "color": "rgb(0,116,217)"
         },
         "mode": "lines",
         "text": [
          null,
          null,
          null,
          null
         ],
         "type": "scatter",
         "uid": "f3143dca-bf77-461f-ad82-03ac16bea75a",
         "x": [
          1307.8125,
          1307.8125,
          1556.5814208984375,
          1556.5814208984375
         ],
         "xaxis": "x",
         "y": [
          0.9891304347826086,
          1,
          1,
          1
         ],
         "yaxis": "y"
        },
        {
         "hoverinfo": "text",
         "marker": {
          "color": "rgb(0,116,217)"
         },
         "mode": "lines",
         "text": [
          null,
          null,
          null,
          null
         ],
         "type": "scatter",
         "uid": "955896d1-a497-4f95-8a5a-a06bde4ed876",
         "x": [
          1124.912109375,
          1124.912109375,
          1432.1969604492188,
          1432.1969604492188
         ],
         "xaxis": "x",
         "y": [
          0.9696969696969697,
          1,
          1,
          1
         ],
         "yaxis": "y"
        },
        {
         "hoverinfo": "text",
         "marker": {
          "color": "rgb(0,116,217)"
         },
         "mode": "lines",
         "text": [
          null,
          null,
          null,
          null
         ],
         "type": "scatter",
         "uid": "4d492e0d-d3b2-4010-946f-33f899ecbc3a",
         "x": [
          1005.15625,
          1005.15625,
          1278.5545349121094,
          1278.5545349121094
         ],
         "xaxis": "x",
         "y": [
          0.8214285714285714,
          1,
          1,
          1
         ],
         "yaxis": "y"
        },
        {
         "hoverinfo": "text",
         "marker": {
          "color": "rgb(0,116,217)"
         },
         "mode": "lines",
         "text": [
          "cluster: 113, component: blk_001809_0035_m/z141.0508_RT0.5557",
          "cluster: 113, component: blk_001809_0035_m/z141.0508_RT0.5557",
          null,
          null
         ],
         "type": "scatter",
         "uid": "a1c151c3-3241-46ae-8d0a-bdea81b4b66e",
         "x": [
          965,
          965,
          1141.8553924560547,
          1141.8553924560547
         ],
         "xaxis": "x",
         "y": [
          0,
          1,
          1,
          1
         ],
         "yaxis": "y"
        },
        {
         "hoverinfo": "text",
         "marker": {
          "color": "rgb(0,116,217)"
         },
         "mode": "lines",
         "text": [
          null,
          null,
          null,
          null
         ],
         "type": "scatter",
         "uid": "2fb7b58b-d054-4463-87b9-44d74801cd23",
         "x": [
          720.869140625,
          720.869140625,
          1053.4276962280273,
          1053.4276962280273
         ],
         "xaxis": "x",
         "y": [
          0.9882352941176471,
          1,
          1,
          1
         ],
         "yaxis": "y"
        },
        {
         "hoverinfo": "text",
         "marker": {
          "color": "rgb(0,116,217)"
         },
         "mode": "lines",
         "text": [
          null,
          null,
          null,
          null
         ],
         "type": "scatter",
         "uid": "80382cdd-0924-4786-b682-4ee4c49fddcb",
         "x": [
          484.0625,
          484.0625,
          887.1484184265137,
          887.1484184265137
         ],
         "xaxis": "x",
         "y": [
          0.9814814814814815,
          1,
          1,
          1
         ],
         "yaxis": "y"
        },
        {
         "hoverinfo": "text",
         "marker": {
          "color": "rgb(0,116,217)"
         },
         "mode": "lines",
         "text": [
          null,
          null,
          null,
          null
         ],
         "type": "scatter",
         "uid": "5091ca65-9591-4067-83e0-b796e89b6dd1",
         "x": [
          221.85302734375,
          221.85302734375,
          685.6054592132568,
          685.6054592132568
         ],
         "xaxis": "x",
         "y": [
          0.9625,
          1,
          1,
          1
         ],
         "yaxis": "y"
        }
       ],
       "layout": {
        "autosize": false,
        "height": 700,
        "hovermode": "closest",
        "margin": {
         "b": 612
        },
        "showlegend": false,
        "title": {
         "text": "TreesRCool"
        },
        "width": 800,
        "xaxis": {
         "mirror": "allticks",
         "rangemode": "tozero",
         "showgrid": false,
         "showline": true,
         "showticklabels": true,
         "tickmode": "array",
         "ticks": "outside",
         "ticktext": [
          "Chinese Spring 1_001829_8203_m/z613.4826_RT12.2884",
          "Chinese Spring 1_001829_7933_m/z792.5621_RT11.9987",
          "Chinese Spring 1_001829_8737_m/z613.4826_RT13.9777",
          "Chinese Spring 1_001829_6867_m/z596.3096_RT9.9999",
          "Chinese Spring 5_001887_7848_m/z792.5621_RT14.4273",
          "blk_001809_2310_m/z571.4292_RT14.5025",
          "Chinese Spring 1_001829_7309_m/z497.3107_RT10.7050",
          "Chinese Spring 1_001829_6971_m/z507.2717_RT10.1162",
          "Cobra 1_001832_7415_m/z571.4716_RT11.9269",
          "Chinese Spring 1_001829_8002_m/z335.2578_RT12.0967",
          "Chinese Spring 1_001829_6962_m/z335.2578_RT10.1118",
          "Chinese Spring 1_001829_7924_m/z335.2579_RT11.9987",
          "Chinese Spring 1_001829_7102_m/z335.2578_RT10.4732",
          "Chinese Spring 1_001829_7304_m/z335.2577_RT10.7050",
          "Chinese Spring 1_001829_6770_m/z335.2578_RT9.7767",
          "Chinese Spring 1_001829_7176_m/z261.2209_RT10.5802",
          "Chinese Spring 1_001829_6995_m/z353.2686_RT10.1519",
          "Chinese Spring 1_001829_7306_m/z353.2686_RT10.7050",
          "Chinese Spring 1_001829_7300_m/z261.2209_RT10.7050",
          "Chinese Spring 1_001829_6884_m/z335.2579_RT10.0132",
          "Chinese Spring 1_001829_7178_m/z335.2579_RT10.5802",
          "blk_001809_0873_m/z272.2582_RT9.6975",
          "Cobra 1_001832_8139_m/z338.3414_RT14.1645",
          "blk_001809_2081_m/z244.1905_RT12.7018",
          "Chinese Spring 1_001829_6885_m/z353.2690_RT10.0132",
          "Chinese Spring 1_001829_7180_m/z353.2688_RT10.5802",
          "Chinese Spring 1_001829_7587_m/z278.2475_RT11.3925",
          "Chinese Spring 1_001829_7923_m/z279.2315_RT11.9987",
          "Chinese Spring 1_001829_7499_m/z435.2504_RT11.0802",
          "Chinese Spring 1_001829_7119_m/z337.2734_RT10.5000",
          "Chinese Spring 1_001829_8646_m/z337.2733_RT13.6924",
          "Chinese Spring 1_001829_7690_m/z618.4271_RT11.6644",
          "Chinese Spring 1_001829_8106_m/z583.4143_RT12.1770",
          "Chinese Spring 1_001829_7448_m/z599.4093_RT11.0178",
          "Chinese Spring 1_001829_7776_m/z601.4244_RT11.7714",
          "Chinese Spring 1_001829_8582_m/z599.4089_RT13.2111",
          "Chinese Spring 1_001829_7361_m/z618.4278_RT10.7852",
          "Chinese Spring 1_001829_7576_m/z618.4271_RT11.3791",
          "Chinese Spring 1_001829_8729_m/z568.4263_RT13.9732",
          "Chinese Spring 1_001829_7954_m/z565.4037_RT12.0210",
          "Chinese Spring 1_001829_7574_m/z583.4141_RT11.3791",
          "Chinese Spring 1_001829_7780_m/z583.4141_RT11.7758",
          "Chinese Spring 1_001829_8525_m/z601.4234_RT13.0595",
          "Chinese Spring 1_001829_7357_m/z583.4143_RT10.7852",
          "Chinese Spring 1_001829_8191_m/z583.4143_RT12.2617",
          "Chinese Spring 1_001829_0928_m/z269.1605_RT1.0029",
          "Chinese Spring 1_001829_0989_m/z268.1037_RT1.0386",
          "blk_001809_1552_m/z364.3418_RT11.7523",
          "blk_001809_1616_m/z364.3418_RT11.8147",
          "blk_001809_1516_m/z408.3681_RT11.7389",
          "blk_001809_1750_m/z466.4099_RT12.1446",
          "blk_001809_1657_m/z408.3681_RT11.9395",
          "blk_001809_1903_m/z482.4048_RT12.3318",
          "blk_001809_1999_m/z364.3424_RT12.5502",
          "blk_001809_2060_m/z364.3424_RT12.6438",
          "blk_001809_1642_m/z424.3632_RT11.9261",
          "blk_001809_1747_m/z421.3521_RT12.1446",
          "Chinese Spring 1_001829_7380_m/z483.2713_RT10.8387",
          "Chinese Spring 1_001829_7338_m/z338.2607_RT10.7228",
          "Chinese Spring 1_001829_6626_m/z320.2946_RT9.3934",
          "Chinese Spring 1_001829_6684_m/z320.2946_RT9.6341",
          "Chinese Spring 1_001829_4681_m/z129.1273_RT5.8086",
          "Chinese Spring 1_001829_5571_m/z171.1490_RT6.9999",
          "Chinese Spring 3_001858_5649_m/z201.1636_RT7.2384",
          "Cobra 1_001832_5681_m/z201.1636_RT7.3651",
          "Chinese Spring 1_001829_6034_m/z209.1534_RT7.9760",
          "Chinese Spring 1_001829_3534_m/z209.1534_RT4.9214",
          "Chinese Spring 1_001829_3874_m/z209.1534_RT5.1891",
          "Chinese Spring 1_001829_3976_m/z209.1534_RT5.2738",
          "Chinese Spring 1_001829_6121_m/z281.1745_RT8.1944",
          "blk_001809_0513_m/z243.1589_RT8.8417",
          "Chinese Spring 1_001829_6701_m/z293.2106_RT9.6921",
          "Chinese Spring 1_001829_4627_m/z227.1640_RT5.7507",
          "blk_001809_0743_m/z283.1902_RT9.4033",
          "Chinese Spring 1_001829_3576_m/z207.1378_RT4.9437",
          "Chinese Spring 1_001829_3487_m/z227.1275_RT4.8769",
          "Chinese Spring 1_001829_3537_m/z227.1276_RT4.9214",
          "Chinese Spring 1_001829_8442_m/z181.1221_RT12.7876",
          "Chinese Spring 2_001850_7898_m/z181.1221_RT13.1904",
          "Chinese Spring 1_001829_5465_m/z211.1690_RT6.7722",
          "Chinese Spring 1_001829_5452_m/z209.0807_RT6.7499",
          "Chinese Spring 1_001829_5697_m/z211.1691_RT7.3342",
          "Chinese Spring 1_001829_5778_m/z211.1691_RT7.5080",
          "Chinese Spring 1_001829_6053_m/z215.1640_RT8.0384",
          "blk_001809_0654_m/z215.1640_RT9.1582",
          "Chinese Spring 2_001850_5547_m/z137.0960_RT7.4167",
          "Chinese Spring 2_001850_6060_m/z219.1741_RT8.6023",
          "Chinese Spring 2_001850_6092_m/z219.1742_RT8.6424",
          "Chinese Spring 1_001829_6166_m/z219.1741_RT8.3371",
          "Chinese Spring 1_001829_5806_m/z219.1741_RT7.5303",
          "Cobra 1_001832_5682_m/z219.1741_RT7.3651",
          "Chinese Spring 1_001829_5301_m/z191.1428_RT6.5359",
          "Chinese Spring 1_001829_3978_m/z191.1429_RT5.2782",
          "Chinese Spring 1_001829_5431_m/z191.1429_RT6.7410",
          "Chinese Spring 1_001829_4949_m/z209.0807_RT6.0494",
          "Chinese Spring 1_001829_6612_m/z207.1378_RT9.3355",
          "blk_001809_0035_m/z141.0508_RT0.5557",
          "Chinese Spring 1_001829_2250_m/z177.0544_RT3.6957",
          "Chinese Spring 1_001829_3815_m/z177.0545_RT5.1175",
          "Espada 3_001867_2046_m/z177.0545_RT3.9185",
          "Chinese Spring 1_001829_3575_m/z199.9878_RT4.9437",
          "Chinese Spring 3_001858_3785_m/z199.9877_RT5.0667",
          "Chinese Spring 1_001829_0008_m/z199.9878_RT0.5260",
          "Chinese Spring 1_001829_3401_m/z199.9878_RT4.8234",
          "Chinese Spring 1_001829_4213_m/z199.9877_RT5.4298",
          "Chinese Spring 2_001850_3871_m/z199.9878_RT5.2900",
          "Cobra 2_001852_4324_m/z199.9878_RT6.0264",
          "Chinese Spring 2_001850_4313_m/z199.9878_RT5.5708",
          "Cobra 2_001852_2321_m/z199.9877_RT4.2435",
          "Chinese Spring 1_001829_5512_m/z463.1233_RT6.8301",
          "Chinese Spring 1_001829_3296_m/z611.1606_RT4.7565",
          "Chinese Spring 1_001829_3857_m/z611.1606_RT5.1666",
          "Chinese Spring 1_001829_3593_m/z339.1073_RT4.9571",
          "Chinese Spring 1_001829_4973_m/z339.1073_RT6.0940",
          "Chinese Spring 1_001829_6003_m/z498.2543_RT7.9315",
          "Chinese Spring 1_001829_3932_m/z340.1603_RT5.2470",
          "Chinese Spring 1_001829_5413_m/z231.0497_RT6.7231",
          "Chinese Spring 1_001829_3927_m/z231.0497_RT5.2470",
          "Chinese Spring 1_001829_5035_m/z231.0497_RT6.1564",
          "Chinese Spring 1_001829_6283_m/z231.0496_RT8.6045",
          "Chinese Spring 2_001850_1213_m/z314.1446_RT1.3713",
          "Emu Rock 2_001847_1099_m/z314.1446_RT1.2598",
          "Chinese Spring 1_001829_2752_m/z342.1759_RT4.2840",
          "Chinese Spring 3_001858_1605_m/z310.1495_RT2.2587",
          "Chinese Spring 1_001829_1178_m/z241.1544_RT1.1946",
          "Chinese Spring 1_001829_1844_m/z507.1819_RT2.9692",
          "Correll 1_001837_4911_m/z251.0911_RT6.5612",
          "Chinese Spring 1_001829_5685_m/z219.1014_RT7.3074",
          "Chinese Spring 1_001829_4912_m/z219.1014_RT5.9958",
          "Chinese Spring 1_001829_5175_m/z219.1014_RT6.3621",
          "Chinese Spring 1_001829_2478_m/z291.1449_RT4.0211",
          "Chinese Spring 1_001829_2534_m/z291.1449_RT4.0567",
          "Chinese Spring 1_001829_1967_m/z291.1450_RT3.3302",
          "Chinese Spring 1_001829_1966_m/z273.1343_RT3.3302",
          "Chinese Spring 1_001829_2526_m/z273.1343_RT4.0523",
          "Chinese Spring 1_001829_1994_m/z251.1387_RT3.3658",
          "Chinese Spring 1_001829_1874_m/z235.1439_RT3.0271",
          "Chinese Spring 1_001829_2318_m/z235.1439_RT3.7670",
          "Chinese Spring 1_001829_2426_m/z194.0447_RT3.9542",
          "Cobra 3_001856_2051_m/z194.1174_RT3.6295",
          "Chinese Spring 1_001829_3643_m/z194.0447_RT4.9972",
          "Chinese Spring 1_001829_3914_m/z194.0447_RT5.2381",
          "Chinese Spring 1_001829_4309_m/z212.0552_RT5.4788",
          "Chinese Spring 1_001829_2958_m/z212.0552_RT4.4445",
          "Chinese Spring 1_001829_5341_m/z194.0447_RT6.6117",
          "Chinese Spring 1_001829_5342_m/z226.0708_RT6.6117",
          "Chinese Spring 1_001829_2262_m/z533.1549_RT3.7001",
          "Chinese Spring 1_001829_2618_m/z533.1546_RT4.1191",
          "Chinese Spring 1_001829_2044_m/z533.1546_RT3.4461",
          "Chinese Spring 1_001829_3026_m/z533.1549_RT4.5203",
          "Chinese Spring 1_001829_2030_m/z347.0907_RT3.4015",
          "Chinese Spring 2_001850_1485_m/z347.0907_RT2.1112",
          "Chinese Spring 1_001829_1626_m/z194.1174_RT2.2515",
          "Cobra 2_001852_2090_m/z194.1174_RT4.0473",
          "Chinese Spring 1_001829_6552_m/z320.2946_RT9.1394",
          "Chinese Spring 1_001829_7255_m/z320.2946_RT10.6470",
          "Chinese Spring 1_001829_6510_m/z320.2948_RT9.0458",
          "Chinese Spring 1_001829_6404_m/z320.2946_RT8.8274",
          "Chinese Spring 1_001829_6439_m/z320.2946_RT8.8987",
          "Chinese Spring 1_001829_6466_m/z320.2948_RT8.9700",
          "Chinese Spring 1_001829_0724_m/z241.1544_RT0.7890",
          "Chinese Spring 1_001829_0785_m/z241.1544_RT0.8781",
          "Chinese Spring 1_001829_5942_m/z332.2584_RT7.8067",
          "Chinese Spring 1_001829_6229_m/z332.2583_RT8.4886",
          "Chinese Spring 1_001829_6093_m/z332.2583_RT8.1097",
          "Chinese Spring 1_001829_6127_m/z332.2584_RT8.1989",
          "Chinese Spring 1_001829_0877_m/z260.1603_RT0.9851",
          "Chinese Spring 1_001829_3318_m/z132.0444_RT4.7743",
          "Chinese Spring 1_001829_1633_m/z246.1446_RT2.2783",
          "Chinese Spring 1_001829_1708_m/z247.1286_RT2.6482",
          "Chinese Spring 1_001829_1642_m/z260.1602_RT2.3719",
          "Chinese Spring 2_001850_1603_m/z260.1603_RT2.4945",
          "Chinese Spring 1_001829_1656_m/z233.1494_RT2.5234",
          "Chinese Spring 1_001829_1564_m/z233.1494_RT2.1044",
          "Chinese Spring 5_001887_1443_m/z233.1494_RT2.2226",
          "Chinese Spring 1_001829_1393_m/z221.1284_RT1.6494",
          "Chinese Spring 2_001850_1669_m/z237.1232_RT2.8467",
          "Chinese Spring 1_001829_0821_m/z237.1231_RT0.9093",
          "Chinese Spring 1_001829_2218_m/z237.1231_RT3.6645",
          "Chinese Spring 1_001829_8795_m/z797.5175_RT14.4412",
          "Chinese Spring 1_001829_0924_m/z214.5102_RT1.0029",
          "Chinese Spring 1_001829_5742_m/z268.5936_RT7.4233",
          "Chinese Spring 1_001829_3925_m/z222.0703_RT5.2470",
          "Chinese Spring 1_001829_6287_m/z250.1014_RT8.6045",
          "Chinese Spring 1_001829_2484_m/z247.0598_RT4.0255",
          "Chinese Spring 1_001829_2604_m/z247.0598_RT4.1147",
          "Chinese Spring 1_001829_3431_m/z219.0467_RT4.8501",
          "Chinese Spring 1_001829_1873_m/z212.0390_RT3.0271",
          "Chinese Spring 1_001829_5506_m/z214.5649_RT6.8301",
          "Chinese Spring 1_001829_3870_m/z595.1657_RT5.1846",
          "Chinese Spring 1_001829_4649_m/z625.1763_RT5.7730",
          "Chinese Spring 1_001829_4877_m/z463.1232_RT5.9646",
          "Chinese Spring 1_001829_0770_m/z182.0811_RT0.8558",
          "Chinese Spring 1_001829_0839_m/z182.0811_RT0.9405",
          "Chinese Spring 1_001829_3666_m/z212.0552_RT5.0017",
          "Chinese Spring 1_001829_4302_m/z194.0447_RT5.4788",
          "Chinese Spring 1_001829_2440_m/z333.1520_RT3.9631",
          "Chinese Spring 1_001829_2563_m/z333.1519_RT4.0835",
          "Chinese Spring 1_001829_1519_m/z319.1363_RT1.9258",
          "Chinese Spring 1_001829_1645_m/z319.1363_RT2.3986",
          "Chinese Spring 1_001829_0094_m/z265.0154_RT0.5705",
          "Chinese Spring 1_001829_0764_m/z229.1545_RT0.8469",
          "Chinese Spring 1_001829_0683_m/z229.1545_RT0.7845",
          "Chinese Spring 1_001829_1084_m/z229.1545_RT1.0920",
          "Chinese Spring 1_001829_1122_m/z229.1545_RT1.1143"
         ],
         "tickvals": [
          5,
          15,
          25,
          35,
          45,
          55,
          65,
          75,
          85,
          95,
          105,
          115,
          125,
          135,
          145,
          155,
          165,
          175,
          185,
          195,
          205,
          215,
          225,
          235,
          245,
          255,
          265,
          275,
          285,
          295,
          305,
          315,
          325,
          335,
          345,
          355,
          365,
          375,
          385,
          395,
          405,
          415,
          425,
          435,
          445,
          455,
          465,
          475,
          485,
          495,
          505,
          515,
          525,
          535,
          545,
          555,
          565,
          575,
          585,
          595,
          605,
          615,
          625,
          635,
          645,
          655,
          665,
          675,
          685,
          695,
          705,
          715,
          725,
          735,
          745,
          755,
          765,
          775,
          785,
          795,
          805,
          815,
          825,
          835,
          845,
          855,
          865,
          875,
          885,
          895,
          905,
          915,
          925,
          935,
          945,
          955,
          965,
          975,
          985,
          995,
          1005,
          1015,
          1025,
          1035,
          1045,
          1055,
          1065,
          1075,
          1085,
          1095,
          1105,
          1115,
          1125,
          1135,
          1145,
          1155,
          1165,
          1175,
          1185,
          1195,
          1205,
          1215,
          1225,
          1235,
          1245,
          1255,
          1265,
          1275,
          1285,
          1295,
          1305,
          1315,
          1325,
          1335,
          1345,
          1355,
          1365,
          1375,
          1385,
          1395,
          1405,
          1415,
          1425,
          1435,
          1445,
          1455,
          1465,
          1475,
          1485,
          1495,
          1505,
          1515,
          1525,
          1535,
          1545,
          1555,
          1565,
          1575,
          1585,
          1595,
          1605,
          1615,
          1625,
          1635,
          1645,
          1655,
          1665,
          1675,
          1685,
          1695,
          1705,
          1715,
          1725,
          1735,
          1745,
          1755,
          1765,
          1775,
          1785,
          1795,
          1805,
          1815,
          1825,
          1835,
          1845,
          1855,
          1865,
          1875,
          1885,
          1895,
          1905,
          1915,
          1925,
          1935,
          1945,
          1955,
          1965,
          1975,
          1985,
          1995,
          2005,
          2015,
          2025,
          2035,
          2045
         ],
         "title": {
          "text": "Samples"
         },
         "type": "linear",
         "zeroline": false
        },
        "yaxis": {
         "mirror": "allticks",
         "rangemode": "tozero",
         "showgrid": false,
         "showline": true,
         "showticklabels": true,
         "ticks": "outside",
         "title": {
          "text": "Distance"
         },
         "type": "linear",
         "zeroline": false
        }
       }
      },
      "text/html": [
       "<div>\n",
       "        \n",
       "        \n",
       "            <div id=\"804cb23d-8b89-417f-8803-343a79925094\" class=\"plotly-graph-div\"></div>\n",
       "            <script type=\"text/javascript\">\n",
       "                require([\"plotly\"], function(Plotly) {\n",
       "                    window.PLOTLYENV=window.PLOTLYENV || {};\n",
       "                    window.PLOTLYENV.BASE_URL='https://plot.ly';\n",
       "                    \n",
       "                if (document.getElementById(\"804cb23d-8b89-417f-8803-343a79925094\")) {\n",
       "                    Plotly.newPlot(\n",
       "                        '804cb23d-8b89-417f-8803-343a79925094',\n",
       "                        [{\"hoverinfo\": \"text\", \"marker\": {\"color\": \"rgb(61,153,112)\"}, \"mode\": \"lines\", \"text\": [\"cluster: 1, component: Chinese Spring 1_001829_7933_m/z792.5621_RT11.9987\", \"cluster: 1, component: Chinese Spring 1_001829_7933_m/z792.5621_RT11.9987\", \"cluster: 1, component: Chinese Spring 1_001829_8737_m/z613.4826_RT13.9777\", \"cluster: 1, component: Chinese Spring 1_001829_8737_m/z613.4826_RT13.9777\"], \"type\": \"scatter\", \"uid\": \"23a800ce-9b7a-4edc-a9f0-f1ba8b16ed68\", \"x\": [15.0, 15.0, 25.0, 25.0], \"xaxis\": \"x\", \"y\": [0.0, 0.5662650602409639, 0.5662650602409639, 0.0], \"yaxis\": \"y\"}, {\"hoverinfo\": \"text\", \"marker\": {\"color\": \"rgb(0,116,217)\"}, \"mode\": \"lines\", \"text\": [\"cluster: 2, component: Chinese Spring 1_001829_8203_m/z613.4826_RT12.2884\", \"cluster: 2, component: Chinese Spring 1_001829_8203_m/z613.4826_RT12.2884\", null, null], \"type\": \"scatter\", \"uid\": \"bfc1e7e1-ae1d-4fdd-978c-cd6477052d52\", \"x\": [5.0, 5.0, 20.0, 20.0], \"xaxis\": \"x\", \"y\": [0.0, 0.676923076923077, 0.676923076923077, 0.5662650602409639], \"yaxis\": \"y\"}, {\"hoverinfo\": \"text\", \"marker\": {\"color\": \"rgb(0,116,217)\"}, \"mode\": \"lines\", \"text\": [\"cluster: 3, component: Chinese Spring 1_001829_6867_m/z596.3096_RT9.9999\", \"cluster: 3, component: Chinese Spring 1_001829_6867_m/z596.3096_RT9.9999\", \"cluster: 4, component: Chinese Spring 5_001887_7848_m/z792.5621_RT14.4273\", \"cluster: 4, component: Chinese Spring 5_001887_7848_m/z792.5621_RT14.4273\"], \"type\": \"scatter\", \"uid\": \"1daee6b8-f494-4fe4-a432-a00330839cf5\", \"x\": [35.0, 35.0, 45.0, 45.0], \"xaxis\": \"x\", \"y\": [0.0, 0.7142857142857143, 0.7142857142857143, 0.0], \"yaxis\": \"y\"}, {\"hoverinfo\": \"text\", \"marker\": {\"color\": \"rgb(0,116,217)\"}, \"mode\": \"lines\", \"text\": [null, null, null, null], \"type\": \"scatter\", \"uid\": \"f6542c92-9458-4904-97ce-7200058a081b\", \"x\": [12.5, 12.5, 40.0, 40.0], \"xaxis\": \"x\", \"y\": [0.676923076923077, 0.7763157894736842, 0.7763157894736842, 0.7142857142857143], \"yaxis\": \"y\"}, {\"hoverinfo\": \"text\", \"marker\": {\"color\": \"rgb(255,65,54)\"}, \"mode\": \"lines\", \"text\": [\"cluster: 5, component: Chinese Spring 1_001829_6962_m/z335.2578_RT10.1118\", \"cluster: 5, component: Chinese Spring 1_001829_6962_m/z335.2578_RT10.1118\", \"cluster: 5, component: Chinese Spring 1_001829_7924_m/z335.2579_RT11.9987\", \"cluster: 5, component: Chinese Spring 1_001829_7924_m/z335.2579_RT11.9987\"], \"type\": \"scatter\", \"uid\": \"1f3b18d6-6768-4685-9bda-ae89ebf92d84\", \"x\": [105.0, 105.0, 115.0, 115.0], \"xaxis\": \"x\", \"y\": [0.0, 0.26, 0.26, 0.0], \"yaxis\": \"y\"}, {\"hoverinfo\": \"text\", \"marker\": {\"color\": \"rgb(255,65,54)\"}, \"mode\": \"lines\", \"text\": [\"cluster: 5, component: Chinese Spring 1_001829_8002_m/z335.2578_RT12.0967\", \"cluster: 5, component: Chinese Spring 1_001829_8002_m/z335.2578_RT12.0967\", null, null], \"type\": \"scatter\", \"uid\": \"f6d8cf07-c8c2-40e4-b974-83dd0933837b\", \"x\": [95.0, 95.0, 110.0, 110.0], \"xaxis\": \"x\", \"y\": [0.0, 0.2830188679245283, 0.2830188679245283, 0.26], \"yaxis\": \"y\"}, {\"hoverinfo\": \"text\", \"marker\": {\"color\": \"rgb(255,65,54)\"}, \"mode\": \"lines\", \"text\": [\"cluster: 5, component: Chinese Spring 1_001829_7102_m/z335.2578_RT10.4732\", \"cluster: 5, component: Chinese Spring 1_001829_7102_m/z335.2578_RT10.4732\", \"cluster: 5, component: Chinese Spring 1_001829_7304_m/z335.2577_RT10.7050\", \"cluster: 5, component: Chinese Spring 1_001829_7304_m/z335.2577_RT10.7050\"], \"type\": \"scatter\", \"uid\": \"13067e5a-8dc6-41af-973c-bcbea020554f\", \"x\": [125.0, 125.0, 135.0, 135.0], \"xaxis\": \"x\", \"y\": [0.0, 0.2857142857142857, 0.2857142857142857, 0.0], \"yaxis\": \"y\"}, {\"hoverinfo\": \"text\", \"marker\": {\"color\": \"rgb(255,65,54)\"}, \"mode\": \"lines\", \"text\": [null, null, null, null], \"type\": \"scatter\", \"uid\": \"930c2cd6-0379-4695-afb5-86ebe2ef868d\", \"x\": [102.5, 102.5, 130.0, 130.0], \"xaxis\": \"x\", \"y\": [0.2830188679245283, 0.3389830508474576, 0.3389830508474576, 0.2857142857142857], \"yaxis\": \"y\"}, {\"hoverinfo\": \"text\", \"marker\": {\"color\": \"rgb(255,65,54)\"}, \"mode\": \"lines\", \"text\": [\"cluster: 5, component: Chinese Spring 1_001829_6770_m/z335.2578_RT9.7767\", \"cluster: 5, component: Chinese Spring 1_001829_6770_m/z335.2578_RT9.7767\", \"cluster: 5, component: Chinese Spring 1_001829_7176_m/z261.2209_RT10.5802\", \"cluster: 5, component: Chinese Spring 1_001829_7176_m/z261.2209_RT10.5802\"], \"type\": \"scatter\", \"uid\": \"dba697af-2c43-44b1-91f6-8ccdd16f9df2\", \"x\": [145.0, 145.0, 155.0, 155.0], \"xaxis\": \"x\", \"y\": [0.0, 0.375, 0.375, 0.0], \"yaxis\": \"y\"}, {\"hoverinfo\": \"text\", \"marker\": {\"color\": \"rgb(255,65,54)\"}, \"mode\": \"lines\", \"text\": [null, null, null, null], \"type\": \"scatter\", \"uid\": \"3ff0cdb4-4663-454a-8184-c6d2a1444b69\", \"x\": [116.25, 116.25, 150.0, 150.0], \"xaxis\": \"x\", \"y\": [0.3389830508474576, 0.4117647058823529, 0.4117647058823529, 0.375], \"yaxis\": \"y\"}, {\"hoverinfo\": \"text\", \"marker\": {\"color\": \"rgb(255,65,54)\"}, \"mode\": \"lines\", \"text\": [\"cluster: 5, component: Chinese Spring 1_001829_6995_m/z353.2686_RT10.1519\", \"cluster: 5, component: Chinese Spring 1_001829_6995_m/z353.2686_RT10.1519\", \"cluster: 5, component: Chinese Spring 1_001829_7306_m/z353.2686_RT10.7050\", \"cluster: 5, component: Chinese Spring 1_001829_7306_m/z353.2686_RT10.7050\"], \"type\": \"scatter\", \"uid\": \"814c5c0c-cc50-4408-b225-b43fa8ccc65f\", \"x\": [165.0, 165.0, 175.0, 175.0], \"xaxis\": \"x\", \"y\": [0.0, 0.27419354838709675, 0.27419354838709675, 0.0], \"yaxis\": \"y\"}, {\"hoverinfo\": \"text\", \"marker\": {\"color\": \"rgb(255,65,54)\"}, \"mode\": \"lines\", \"text\": [\"cluster: 5, component: Chinese Spring 1_001829_6884_m/z335.2579_RT10.0132\", \"cluster: 5, component: Chinese Spring 1_001829_6884_m/z335.2579_RT10.0132\", \"cluster: 5, component: Chinese Spring 1_001829_7178_m/z335.2579_RT10.5802\", \"cluster: 5, component: Chinese Spring 1_001829_7178_m/z335.2579_RT10.5802\"], \"type\": \"scatter\", \"uid\": \"ffbbca2d-d81b-4160-81ce-16e0c59caf75\", \"x\": [195.0, 195.0, 205.0, 205.0], \"xaxis\": \"x\", \"y\": [0.0, 0.29411764705882354, 0.29411764705882354, 0.0], \"yaxis\": \"y\"}, {\"hoverinfo\": \"text\", \"marker\": {\"color\": \"rgb(255,65,54)\"}, \"mode\": \"lines\", \"text\": [\"cluster: 5, component: Chinese Spring 1_001829_7300_m/z261.2209_RT10.7050\", \"cluster: 5, component: Chinese Spring 1_001829_7300_m/z261.2209_RT10.7050\", null, null], \"type\": \"scatter\", \"uid\": \"1551cfd7-10d7-408d-ae9c-3436bde851ac\", \"x\": [185.0, 185.0, 200.0, 200.0], \"xaxis\": \"x\", \"y\": [0.0, 0.38461538461538464, 0.38461538461538464, 0.29411764705882354], \"yaxis\": \"y\"}, {\"hoverinfo\": \"text\", \"marker\": {\"color\": \"rgb(255,65,54)\"}, \"mode\": \"lines\", \"text\": [null, null, null, null], \"type\": \"scatter\", \"uid\": \"5c0bd5f5-62a4-4178-9d3a-c5fd1eb3e9e7\", \"x\": [170.0, 170.0, 192.5, 192.5], \"xaxis\": \"x\", \"y\": [0.27419354838709675, 0.43333333333333335, 0.43333333333333335, 0.38461538461538464], \"yaxis\": \"y\"}, {\"hoverinfo\": \"text\", \"marker\": {\"color\": \"rgb(255,65,54)\"}, \"mode\": \"lines\", \"text\": [null, null, null, null], \"type\": \"scatter\", \"uid\": \"7e764cac-b3fc-4bcb-808a-dae84583a98f\", \"x\": [133.125, 133.125, 181.25, 181.25], \"xaxis\": \"x\", \"y\": [0.4117647058823529, 0.46153846153846156, 0.46153846153846156, 0.43333333333333335], \"yaxis\": \"y\"}, {\"hoverinfo\": \"text\", \"marker\": {\"color\": \"rgb(255,65,54)\"}, \"mode\": \"lines\", \"text\": [\"cluster: 5, component: Cobra 1_001832_7415_m/z571.4716_RT11.9269\", \"cluster: 5, component: Cobra 1_001832_7415_m/z571.4716_RT11.9269\", null, null], \"type\": \"scatter\", \"uid\": \"1aba4522-d3f0-455b-ba58-e19d28e6da22\", \"x\": [85.0, 85.0, 157.1875, 157.1875], \"xaxis\": \"x\", \"y\": [0.0, 0.5538461538461539, 0.5538461538461539, 0.46153846153846156], \"yaxis\": \"y\"}, {\"hoverinfo\": \"text\", \"marker\": {\"color\": \"rgb(255,65,54)\"}, \"mode\": \"lines\", \"text\": [\"cluster: 5, component: Chinese Spring 1_001829_6971_m/z507.2717_RT10.1162\", \"cluster: 5, component: Chinese Spring 1_001829_6971_m/z507.2717_RT10.1162\", null, null], \"type\": \"scatter\", \"uid\": \"65d78af4-d4e3-4ef1-b28a-da1d95859c67\", \"x\": [75.0, 75.0, 121.09375, 121.09375], \"xaxis\": \"x\", \"y\": [0.0, 0.5737704918032787, 0.5737704918032787, 0.5538461538461539], \"yaxis\": \"y\"}, {\"hoverinfo\": \"text\", \"marker\": {\"color\": \"rgb(0,116,217)\"}, \"mode\": \"lines\", \"text\": [\"cluster: 6, component: Chinese Spring 1_001829_7309_m/z497.3107_RT10.7050\", \"cluster: 6, component: Chinese Spring 1_001829_7309_m/z497.3107_RT10.7050\", null, null], \"type\": \"scatter\", \"uid\": \"b5678dee-a67a-47f0-a2a0-87c3d9327428\", \"x\": [65.0, 65.0, 98.046875, 98.046875], \"xaxis\": \"x\", \"y\": [0.0, 0.6986301369863014, 0.6986301369863014, 0.5737704918032787], \"yaxis\": \"y\"}, {\"hoverinfo\": \"text\", \"marker\": {\"color\": \"rgb(0,116,217)\"}, \"mode\": \"lines\", \"text\": [\"cluster: 7, component: blk_001809_2310_m/z571.4292_RT14.5025\", \"cluster: 7, component: blk_001809_2310_m/z571.4292_RT14.5025\", null, null], \"type\": \"scatter\", \"uid\": \"047c1108-aada-4b85-886c-8dc49ea1b860\", \"x\": [55.0, 55.0, 81.5234375, 81.5234375], \"xaxis\": \"x\", \"y\": [0.0, 0.7962962962962963, 0.7962962962962963, 0.6986301369863014], \"yaxis\": \"y\"}, {\"hoverinfo\": \"text\", \"marker\": {\"color\": \"rgb(0,116,217)\"}, \"mode\": \"lines\", \"text\": [\"cluster: 8, component: Cobra 1_001832_8139_m/z338.3414_RT14.1645\", \"cluster: 8, component: Cobra 1_001832_8139_m/z338.3414_RT14.1645\", \"cluster: 9, component: blk_001809_2081_m/z244.1905_RT12.7018\", \"cluster: 9, component: blk_001809_2081_m/z244.1905_RT12.7018\"], \"type\": \"scatter\", \"uid\": \"484ac616-6bd2-48f7-bd41-16490819c29f\", \"x\": [225.0, 225.0, 235.0, 235.0], \"xaxis\": \"x\", \"y\": [0.0, 0.6031746031746031, 0.6031746031746031, 0.0], \"yaxis\": \"y\"}, {\"hoverinfo\": \"text\", \"marker\": {\"color\": \"rgb(35,205,205)\"}, \"mode\": \"lines\", \"text\": [\"cluster: 10, component: Chinese Spring 1_001829_6885_m/z353.2690_RT10.0132\", \"cluster: 10, component: Chinese Spring 1_001829_6885_m/z353.2690_RT10.0132\", \"cluster: 10, component: Chinese Spring 1_001829_7180_m/z353.2688_RT10.5802\", \"cluster: 10, component: Chinese Spring 1_001829_7180_m/z353.2688_RT10.5802\"], \"type\": \"scatter\", \"uid\": \"4bd8008a-9fd1-48e0-bdb9-a16dc0be8bc1\", \"x\": [245.0, 245.0, 255.0, 255.0], \"xaxis\": \"x\", \"y\": [0.0, 0.2376237623762376, 0.2376237623762376, 0.0], \"yaxis\": \"y\"}, {\"hoverinfo\": \"text\", \"marker\": {\"color\": \"rgb(35,205,205)\"}, \"mode\": \"lines\", \"text\": [\"cluster: 10, component: Chinese Spring 1_001829_7587_m/z278.2475_RT11.3925\", \"cluster: 10, component: Chinese Spring 1_001829_7587_m/z278.2475_RT11.3925\", \"cluster: 10, component: Chinese Spring 1_001829_7923_m/z279.2315_RT11.9987\", \"cluster: 10, component: Chinese Spring 1_001829_7923_m/z279.2315_RT11.9987\"], \"type\": \"scatter\", \"uid\": \"f297b276-9263-43b6-837a-bdb63067d913\", \"x\": [265.0, 265.0, 275.0, 275.0], \"xaxis\": \"x\", \"y\": [0.0, 0.43209876543209874, 0.43209876543209874, 0.0], \"yaxis\": \"y\"}, {\"hoverinfo\": \"text\", \"marker\": {\"color\": \"rgb(35,205,205)\"}, \"mode\": \"lines\", \"text\": [null, null, null, null], \"type\": \"scatter\", \"uid\": \"3ef65452-0b7a-4fe1-b4b2-47a669e152c2\", \"x\": [250.0, 250.0, 270.0, 270.0], \"xaxis\": \"x\", \"y\": [0.2376237623762376, 0.5229357798165137, 0.5229357798165137, 0.43209876543209874], \"yaxis\": \"y\"}, {\"hoverinfo\": \"text\", \"marker\": {\"color\": \"rgb(133,20,75)\"}, \"mode\": \"lines\", \"text\": [\"cluster: 11, component: Chinese Spring 1_001829_7119_m/z337.2734_RT10.5000\", \"cluster: 11, component: Chinese Spring 1_001829_7119_m/z337.2734_RT10.5000\", \"cluster: 11, component: Chinese Spring 1_001829_8646_m/z337.2733_RT13.6924\", \"cluster: 11, component: Chinese Spring 1_001829_8646_m/z337.2733_RT13.6924\"], \"type\": \"scatter\", \"uid\": \"9ec0c130-929e-4849-9eb2-fe6b6342fffb\", \"x\": [295.0, 295.0, 305.0, 305.0], \"xaxis\": \"x\", \"y\": [0.0, 0.373134328358209, 0.373134328358209, 0.0], \"yaxis\": \"y\"}, {\"hoverinfo\": \"text\", \"marker\": {\"color\": \"rgb(133,20,75)\"}, \"mode\": \"lines\", \"text\": [\"cluster: 11, component: Chinese Spring 1_001829_7499_m/z435.2504_RT11.0802\", \"cluster: 11, component: Chinese Spring 1_001829_7499_m/z435.2504_RT11.0802\", null, null], \"type\": \"scatter\", \"uid\": \"09388ffd-0cb6-42d8-a19f-94ea7524cc68\", \"x\": [285.0, 285.0, 300.0, 300.0], \"xaxis\": \"x\", \"y\": [0.0, 0.5416666666666666, 0.5416666666666666, 0.373134328358209], \"yaxis\": \"y\"}, {\"hoverinfo\": \"text\", \"marker\": {\"color\": \"rgb(0,116,217)\"}, \"mode\": \"lines\", \"text\": [null, null, null, null], \"type\": \"scatter\", \"uid\": \"7c9104f5-ce00-449f-948e-e374a1a9a499\", \"x\": [260.0, 260.0, 292.5, 292.5], \"xaxis\": \"x\", \"y\": [0.5229357798165137, 0.6875, 0.6875, 0.5416666666666666], \"yaxis\": \"y\"}, {\"hoverinfo\": \"text\", \"marker\": {\"color\": \"rgb(0,116,217)\"}, \"mode\": \"lines\", \"text\": [null, null, null, null], \"type\": \"scatter\", \"uid\": \"91c05a68-41f6-480e-a63d-eb6b6ac4d3cc\", \"x\": [230.0, 230.0, 276.25, 276.25], \"xaxis\": \"x\", \"y\": [0.6031746031746031, 0.7590361445783133, 0.7590361445783133, 0.6875], \"yaxis\": \"y\"}, {\"hoverinfo\": \"text\", \"marker\": {\"color\": \"rgb(0,116,217)\"}, \"mode\": \"lines\", \"text\": [\"cluster: 12, component: blk_001809_0873_m/z272.2582_RT9.6975\", \"cluster: 12, component: blk_001809_0873_m/z272.2582_RT9.6975\", null, null], \"type\": \"scatter\", \"uid\": \"8677c63f-0ec6-4b96-8766-cac000e573fe\", \"x\": [215.0, 215.0, 253.125, 253.125], \"xaxis\": \"x\", \"y\": [0.0, 0.8243243243243243, 0.8243243243243243, 0.7590361445783133], \"yaxis\": \"y\"}, {\"hoverinfo\": \"text\", \"marker\": {\"color\": \"rgb(0,116,217)\"}, \"mode\": \"lines\", \"text\": [null, null, null, null], \"type\": \"scatter\", \"uid\": \"ce2730cc-c514-4f36-b0e3-ef0494c173b3\", \"x\": [68.26171875, 68.26171875, 234.0625, 234.0625], \"xaxis\": \"x\", \"y\": [0.7962962962962963, 0.87, 0.87, 0.8243243243243243], \"yaxis\": \"y\"}, {\"hoverinfo\": \"text\", \"marker\": {\"color\": \"rgb(0,116,217)\"}, \"mode\": \"lines\", \"text\": [null, null, null, null], \"type\": \"scatter\", \"uid\": \"03239325-d634-4f5c-8bab-7334d4b9cc6e\", \"x\": [26.25, 26.25, 151.162109375, 151.162109375], \"xaxis\": \"x\", \"y\": [0.7763157894736842, 0.9130434782608695, 0.9130434782608695, 0.87], \"yaxis\": \"y\"}, {\"hoverinfo\": \"text\", \"marker\": {\"color\": \"rgb(0,116,217)\"}, \"mode\": \"lines\", \"text\": [\"cluster: 13, component: Chinese Spring 1_001829_7776_m/z601.4244_RT11.7714\", \"cluster: 13, component: Chinese Spring 1_001829_7776_m/z601.4244_RT11.7714\", \"cluster: 14, component: Chinese Spring 1_001829_8582_m/z599.4089_RT13.2111\", \"cluster: 14, component: Chinese Spring 1_001829_8582_m/z599.4089_RT13.2111\"], \"type\": \"scatter\", \"uid\": \"07e49fd6-be51-4ab1-a134-a96afc73fa92\", \"x\": [345.0, 345.0, 355.0, 355.0], \"xaxis\": \"x\", \"y\": [0.0, 0.63, 0.63, 0.0], \"yaxis\": \"y\"}, {\"hoverinfo\": \"text\", \"marker\": {\"color\": \"rgb(0,116,217)\"}, \"mode\": \"lines\", \"text\": [\"cluster: 15, component: Chinese Spring 1_001829_7448_m/z599.4093_RT11.0178\", \"cluster: 15, component: Chinese Spring 1_001829_7448_m/z599.4093_RT11.0178\", null, null], \"type\": \"scatter\", \"uid\": \"b7f360a1-507f-4c85-966f-e4e85d35b6cf\", \"x\": [335.0, 335.0, 350.0, 350.0], \"xaxis\": \"x\", \"y\": [0.0, 0.6710526315789473, 0.6710526315789473, 0.63], \"yaxis\": \"y\"}, {\"hoverinfo\": \"text\", \"marker\": {\"color\": \"rgb(0,116,217)\"}, \"mode\": \"lines\", \"text\": [\"cluster: 16, component: Chinese Spring 1_001829_8106_m/z583.4143_RT12.1770\", \"cluster: 16, component: Chinese Spring 1_001829_8106_m/z583.4143_RT12.1770\", null, null], \"type\": \"scatter\", \"uid\": \"40cd513c-54dd-4e0c-a45f-6bf60048ef9a\", \"x\": [325.0, 325.0, 342.5, 342.5], \"xaxis\": \"x\", \"y\": [0.0, 0.7578947368421053, 0.7578947368421053, 0.6710526315789473], \"yaxis\": \"y\"}, {\"hoverinfo\": \"text\", \"marker\": {\"color\": \"rgb(0,116,217)\"}, \"mode\": \"lines\", \"text\": [\"cluster: 17, component: Chinese Spring 1_001829_7690_m/z618.4271_RT11.6644\", \"cluster: 17, component: Chinese Spring 1_001829_7690_m/z618.4271_RT11.6644\", null, null], \"type\": \"scatter\", \"uid\": \"a46f72cc-16b3-4e35-a177-630646365a29\", \"x\": [315.0, 315.0, 333.75, 333.75], \"xaxis\": \"x\", \"y\": [0.0, 0.8, 0.8, 0.7578947368421053], \"yaxis\": \"y\"}, {\"hoverinfo\": \"text\", \"marker\": {\"color\": \"rgb(255,220,0)\"}, \"mode\": \"lines\", \"text\": [\"cluster: 18, component: Chinese Spring 1_001829_7361_m/z618.4278_RT10.7852\", \"cluster: 18, component: Chinese Spring 1_001829_7361_m/z618.4278_RT10.7852\", \"cluster: 18, component: Chinese Spring 1_001829_7576_m/z618.4271_RT11.3791\", \"cluster: 18, component: Chinese Spring 1_001829_7576_m/z618.4271_RT11.3791\"], \"type\": \"scatter\", \"uid\": \"13f23a23-3962-4023-a732-d0f61f14ecb3\", \"x\": [365.0, 365.0, 375.0, 375.0], \"xaxis\": \"x\", \"y\": [0.0, 0.4732510288065844, 0.4732510288065844, 0.0], \"yaxis\": \"y\"}, {\"hoverinfo\": \"text\", \"marker\": {\"color\": \"rgb(40,35,35)\"}, \"mode\": \"lines\", \"text\": [\"cluster: 19, component: Chinese Spring 1_001829_7574_m/z583.4141_RT11.3791\", \"cluster: 19, component: Chinese Spring 1_001829_7574_m/z583.4141_RT11.3791\", \"cluster: 19, component: Chinese Spring 1_001829_7780_m/z583.4141_RT11.7758\", \"cluster: 19, component: Chinese Spring 1_001829_7780_m/z583.4141_RT11.7758\"], \"type\": \"scatter\", \"uid\": \"dbfaa37a-b6e7-449f-8bc1-a84b9ac16d4a\", \"x\": [405.0, 405.0, 415.0, 415.0], \"xaxis\": \"x\", \"y\": [0.0, 0.5280898876404494, 0.5280898876404494, 0.0], \"yaxis\": \"y\"}, {\"hoverinfo\": \"text\", \"marker\": {\"color\": \"rgb(0,116,217)\"}, \"mode\": \"lines\", \"text\": [\"cluster: 20, component: Chinese Spring 1_001829_7954_m/z565.4037_RT12.0210\", \"cluster: 20, component: Chinese Spring 1_001829_7954_m/z565.4037_RT12.0210\", null, null], \"type\": \"scatter\", \"uid\": \"260084ab-71b8-4813-bb95-9240ff783119\", \"x\": [395.0, 395.0, 410.0, 410.0], \"xaxis\": \"x\", \"y\": [0.0, 0.6049382716049383, 0.6049382716049383, 0.5280898876404494], \"yaxis\": \"y\"}, {\"hoverinfo\": \"text\", \"marker\": {\"color\": \"rgb(61,153,112)\"}, \"mode\": \"lines\", \"text\": [\"cluster: 21, component: Chinese Spring 1_001829_7357_m/z583.4143_RT10.7852\", \"cluster: 21, component: Chinese Spring 1_001829_7357_m/z583.4143_RT10.7852\", \"cluster: 21, component: Chinese Spring 1_001829_8191_m/z583.4143_RT12.2617\", \"cluster: 21, component: Chinese Spring 1_001829_8191_m/z583.4143_RT12.2617\"], \"type\": \"scatter\", \"uid\": \"a85b5226-0dab-411d-89a2-cf9ca35c8a48\", \"x\": [435.0, 435.0, 445.0, 445.0], \"xaxis\": \"x\", \"y\": [0.0, 0.5285714285714286, 0.5285714285714286, 0.0], \"yaxis\": \"y\"}, {\"hoverinfo\": \"text\", \"marker\": {\"color\": \"rgb(0,116,217)\"}, \"mode\": \"lines\", \"text\": [\"cluster: 22, component: Chinese Spring 1_001829_8525_m/z601.4234_RT13.0595\", \"cluster: 22, component: Chinese Spring 1_001829_8525_m/z601.4234_RT13.0595\", null, null], \"type\": \"scatter\", \"uid\": \"3379df82-38b4-4d09-9591-020393f85d04\", \"x\": [425.0, 425.0, 440.0, 440.0], \"xaxis\": \"x\", \"y\": [0.0, 0.6966292134831461, 0.6966292134831461, 0.5285714285714286], \"yaxis\": \"y\"}, {\"hoverinfo\": \"text\", \"marker\": {\"color\": \"rgb(0,116,217)\"}, \"mode\": \"lines\", \"text\": [null, null, null, null], \"type\": \"scatter\", \"uid\": \"b06a7d65-27a4-43ad-bf42-a41b0dc542dc\", \"x\": [402.5, 402.5, 432.5, 432.5], \"xaxis\": \"x\", \"y\": [0.6049382716049383, 0.734375, 0.734375, 0.6966292134831461], \"yaxis\": \"y\"}, {\"hoverinfo\": \"text\", \"marker\": {\"color\": \"rgb(0,116,217)\"}, \"mode\": \"lines\", \"text\": [\"cluster: 23, component: Chinese Spring 1_001829_8729_m/z568.4263_RT13.9732\", \"cluster: 23, component: Chinese Spring 1_001829_8729_m/z568.4263_RT13.9732\", null, null], \"type\": \"scatter\", \"uid\": \"b9551097-e4a6-4672-9f60-f753a3828afe\", \"x\": [385.0, 385.0, 417.5, 417.5], \"xaxis\": \"x\", \"y\": [0.0, 0.7642276422764228, 0.7642276422764228, 0.734375], \"yaxis\": \"y\"}, {\"hoverinfo\": \"text\", \"marker\": {\"color\": \"rgb(0,116,217)\"}, \"mode\": \"lines\", \"text\": [null, null, null, null], \"type\": \"scatter\", \"uid\": \"0ce74c40-f388-4782-a3fc-50e9b0a17c3a\", \"x\": [370.0, 370.0, 401.25, 401.25], \"xaxis\": \"x\", \"y\": [0.4732510288065844, 0.8205128205128205, 0.8205128205128205, 0.7642276422764228], \"yaxis\": \"y\"}, {\"hoverinfo\": \"text\", \"marker\": {\"color\": \"rgb(0,116,217)\"}, \"mode\": \"lines\", \"text\": [null, null, null, null], \"type\": \"scatter\", \"uid\": \"f5ec9b05-f183-4290-9a3b-7e01a76b0e73\", \"x\": [324.375, 324.375, 385.625, 385.625], \"xaxis\": \"x\", \"y\": [0.8, 0.94, 0.94, 0.8205128205128205], \"yaxis\": \"y\"}, {\"hoverinfo\": \"text\", \"marker\": {\"color\": \"rgb(0,116,217)\"}, \"mode\": \"lines\", \"text\": [null, null, null, null], \"type\": \"scatter\", \"uid\": \"e471320e-62d1-4321-b1ff-5eaf7fb296ae\", \"x\": [88.7060546875, 88.7060546875, 355.0, 355.0], \"xaxis\": \"x\", \"y\": [0.9130434782608695, 0.9625, 0.9625, 0.94], \"yaxis\": \"y\"}, {\"hoverinfo\": \"text\", \"marker\": {\"color\": \"rgb(255,65,54)\"}, \"mode\": \"lines\", \"text\": [\"cluster: 24, component: Chinese Spring 1_001829_0928_m/z269.1605_RT1.0029\", \"cluster: 24, component: Chinese Spring 1_001829_0928_m/z269.1605_RT1.0029\", \"cluster: 24, component: Chinese Spring 1_001829_0989_m/z268.1037_RT1.0386\", \"cluster: 24, component: Chinese Spring 1_001829_0989_m/z268.1037_RT1.0386\"], \"type\": \"scatter\", \"uid\": \"547af225-ad3d-43af-bc5f-4bba56806022\", \"x\": [455.0, 455.0, 465.0, 465.0], \"xaxis\": \"x\", \"y\": [0.0, 0.42424242424242425, 0.42424242424242425, 0.0], \"yaxis\": \"y\"}, {\"hoverinfo\": \"text\", \"marker\": {\"color\": \"rgb(35,205,205)\"}, \"mode\": \"lines\", \"text\": [\"cluster: 25, component: blk_001809_1552_m/z364.3418_RT11.7523\", \"cluster: 25, component: blk_001809_1552_m/z364.3418_RT11.7523\", \"cluster: 25, component: blk_001809_1616_m/z364.3418_RT11.8147\", \"cluster: 25, component: blk_001809_1616_m/z364.3418_RT11.8147\"], \"type\": \"scatter\", \"uid\": \"b73b95c4-aa24-4d99-9f9e-72a410395f6d\", \"x\": [475.0, 475.0, 485.0, 485.0], \"xaxis\": \"x\", \"y\": [0.0, 0.0, 0.0, 0.0], \"yaxis\": \"y\"}, {\"hoverinfo\": \"text\", \"marker\": {\"color\": \"rgb(133,20,75)\"}, \"mode\": \"lines\", \"text\": [\"cluster: 26, component: blk_001809_1516_m/z408.3681_RT11.7389\", \"cluster: 26, component: blk_001809_1516_m/z408.3681_RT11.7389\", \"cluster: 26, component: blk_001809_1750_m/z466.4099_RT12.1446\", \"cluster: 26, component: blk_001809_1750_m/z466.4099_RT12.1446\"], \"type\": \"scatter\", \"uid\": \"414e7d20-ee54-4d4a-a421-9b2867027eca\", \"x\": [495.0, 495.0, 505.0, 505.0], \"xaxis\": \"x\", \"y\": [0.0, 0.5882352941176471, 0.5882352941176471, 0.0], \"yaxis\": \"y\"}, {\"hoverinfo\": \"text\", \"marker\": {\"color\": \"rgb(0,116,217)\"}, \"mode\": \"lines\", \"text\": [null, null, null, null], \"type\": \"scatter\", \"uid\": \"99efb01e-bf5f-423f-bf0a-bb3c4c17c292\", \"x\": [480.0, 480.0, 500.0, 500.0], \"xaxis\": \"x\", \"y\": [0.0, 0.6875, 0.6875, 0.5882352941176471], \"yaxis\": \"y\"}, {\"hoverinfo\": \"text\", \"marker\": {\"color\": \"rgb(255,220,0)\"}, \"mode\": \"lines\", \"text\": [\"cluster: 27, component: blk_001809_1999_m/z364.3424_RT12.5502\", \"cluster: 27, component: blk_001809_1999_m/z364.3424_RT12.5502\", \"cluster: 27, component: blk_001809_2060_m/z364.3424_RT12.6438\", \"cluster: 27, component: blk_001809_2060_m/z364.3424_RT12.6438\"], \"type\": \"scatter\", \"uid\": \"f9d7ff40-38c9-48bc-84b2-6d60d5fccbc8\", \"x\": [535.0, 535.0, 545.0, 545.0], \"xaxis\": \"x\", \"y\": [0.0, 0.36363636363636365, 0.36363636363636365, 0.0], \"yaxis\": \"y\"}, {\"hoverinfo\": \"text\", \"marker\": {\"color\": \"rgb(40,35,35)\"}, \"mode\": \"lines\", \"text\": [\"cluster: 28, component: blk_001809_1642_m/z424.3632_RT11.9261\", \"cluster: 28, component: blk_001809_1642_m/z424.3632_RT11.9261\", \"cluster: 28, component: blk_001809_1747_m/z421.3521_RT12.1446\", \"cluster: 28, component: blk_001809_1747_m/z421.3521_RT12.1446\"], \"type\": \"scatter\", \"uid\": \"f3fe0b96-44a7-47b0-937e-018a86a18ce5\", \"x\": [555.0, 555.0, 565.0, 565.0], \"xaxis\": \"x\", \"y\": [0.0, 0.3888888888888889, 0.3888888888888889, 0.0], \"yaxis\": \"y\"}, {\"hoverinfo\": \"text\", \"marker\": {\"color\": \"rgb(0,116,217)\"}, \"mode\": \"lines\", \"text\": [null, null, null, null], \"type\": \"scatter\", \"uid\": \"ec1575bb-aeb8-4382-a3be-bf74e87930f5\", \"x\": [540.0, 540.0, 560.0, 560.0], \"xaxis\": \"x\", \"y\": [0.36363636363636365, 0.6111111111111112, 0.6111111111111112, 0.3888888888888889], \"yaxis\": \"y\"}, {\"hoverinfo\": \"text\", \"marker\": {\"color\": \"rgb(0,116,217)\"}, \"mode\": \"lines\", \"text\": [\"cluster: 29, component: blk_001809_1903_m/z482.4048_RT12.3318\", \"cluster: 29, component: blk_001809_1903_m/z482.4048_RT12.3318\", null, null], \"type\": \"scatter\", \"uid\": \"90af435b-5516-4d10-9fcd-dd79edd1143d\", \"x\": [525.0, 525.0, 550.0, 550.0], \"xaxis\": \"x\", \"y\": [0.0, 0.7037037037037037, 0.7037037037037037, 0.6111111111111112], \"yaxis\": \"y\"}, {\"hoverinfo\": \"text\", \"marker\": {\"color\": \"rgb(0,116,217)\"}, \"mode\": \"lines\", \"text\": [\"cluster: 30, component: blk_001809_1657_m/z408.3681_RT11.9395\", \"cluster: 30, component: blk_001809_1657_m/z408.3681_RT11.9395\", null, null], \"type\": \"scatter\", \"uid\": \"388a4f44-25ad-42c5-ad39-7969327fa704\", \"x\": [515.0, 515.0, 537.5, 537.5], \"xaxis\": \"x\", \"y\": [0.0, 0.7307692307692307, 0.7307692307692307, 0.7037037037037037], \"yaxis\": \"y\"}, {\"hoverinfo\": \"text\", \"marker\": {\"color\": \"rgb(0,116,217)\"}, \"mode\": \"lines\", \"text\": [null, null, null, null], \"type\": \"scatter\", \"uid\": \"c4afa62a-321c-4b26-a756-0b4e79b30ec0\", \"x\": [490.0, 490.0, 526.25, 526.25], \"xaxis\": \"x\", \"y\": [0.6875, 0.8387096774193549, 0.8387096774193549, 0.7307692307692307], \"yaxis\": \"y\"}, {\"hoverinfo\": \"text\", \"marker\": {\"color\": \"rgb(0,116,217)\"}, \"mode\": \"lines\", \"text\": [null, null, null, null], \"type\": \"scatter\", \"uid\": \"80d2e92f-f3ad-4838-aacb-d94c3f710aa3\", \"x\": [460.0, 460.0, 508.125, 508.125], \"xaxis\": \"x\", \"y\": [0.42424242424242425, 0.9814814814814815, 0.9814814814814815, 0.8387096774193549], \"yaxis\": \"y\"}, {\"hoverinfo\": \"text\", \"marker\": {\"color\": \"rgb(61,153,112)\"}, \"mode\": \"lines\", \"text\": [\"cluster: 31, component: Chinese Spring 1_001829_6626_m/z320.2946_RT9.3934\", \"cluster: 31, component: Chinese Spring 1_001829_6626_m/z320.2946_RT9.3934\", \"cluster: 31, component: Chinese Spring 1_001829_6684_m/z320.2946_RT9.6341\", \"cluster: 31, component: Chinese Spring 1_001829_6684_m/z320.2946_RT9.6341\"], \"type\": \"scatter\", \"uid\": \"c5ef6033-6da6-403d-8f70-f4fc5e9097c8\", \"x\": [595.0, 595.0, 605.0, 605.0], \"xaxis\": \"x\", \"y\": [0.0, 0.36, 0.36, 0.0], \"yaxis\": \"y\"}, {\"hoverinfo\": \"text\", \"marker\": {\"color\": \"rgb(0,116,217)\"}, \"mode\": \"lines\", \"text\": [\"cluster: 32, component: Chinese Spring 1_001829_7338_m/z338.2607_RT10.7228\", \"cluster: 32, component: Chinese Spring 1_001829_7338_m/z338.2607_RT10.7228\", null, null], \"type\": \"scatter\", \"uid\": \"eff75075-9111-4a41-be55-1166a04c5986\", \"x\": [585.0, 585.0, 600.0, 600.0], \"xaxis\": \"x\", \"y\": [0.0, 0.6153846153846154, 0.6153846153846154, 0.36], \"yaxis\": \"y\"}, {\"hoverinfo\": \"text\", \"marker\": {\"color\": \"rgb(0,116,217)\"}, \"mode\": \"lines\", \"text\": [\"cluster: 33, component: Chinese Spring 1_001829_7380_m/z483.2713_RT10.8387\", \"cluster: 33, component: Chinese Spring 1_001829_7380_m/z483.2713_RT10.8387\", null, null], \"type\": \"scatter\", \"uid\": \"3cff712c-7354-4957-9994-ce71478870d4\", \"x\": [575.0, 575.0, 592.5, 592.5], \"xaxis\": \"x\", \"y\": [0.0, 0.8636363636363636, 0.8636363636363636, 0.6153846153846154], \"yaxis\": \"y\"}, {\"hoverinfo\": \"text\", \"marker\": {\"color\": \"rgb(0,116,217)\"}, \"mode\": \"lines\", \"text\": [\"cluster: 34, component: Chinese Spring 1_001829_4681_m/z129.1273_RT5.8086\", \"cluster: 34, component: Chinese Spring 1_001829_4681_m/z129.1273_RT5.8086\", \"cluster: 35, component: Chinese Spring 1_001829_5571_m/z171.1490_RT6.9999\", \"cluster: 35, component: Chinese Spring 1_001829_5571_m/z171.1490_RT6.9999\"], \"type\": \"scatter\", \"uid\": \"19d76aa2-aa0a-4b53-b081-b46b9da78863\", \"x\": [615.0, 615.0, 625.0, 625.0], \"xaxis\": \"x\", \"y\": [0.0, 0.8666666666666667, 0.8666666666666667, 0.0], \"yaxis\": \"y\"}, {\"hoverinfo\": \"text\", \"marker\": {\"color\": \"rgb(0,116,217)\"}, \"mode\": \"lines\", \"text\": [null, null, null, null], \"type\": \"scatter\", \"uid\": \"367de713-42dd-4f3b-a087-b3f58fe7eccb\", \"x\": [583.75, 583.75, 620.0, 620.0], \"xaxis\": \"x\", \"y\": [0.8636363636363636, 0.9032258064516129, 0.9032258064516129, 0.8666666666666667], \"yaxis\": \"y\"}, {\"hoverinfo\": \"text\", \"marker\": {\"color\": \"rgb(255,65,54)\"}, \"mode\": \"lines\", \"text\": [\"cluster: 36, component: Chinese Spring 3_001858_5649_m/z201.1636_RT7.2384\", \"cluster: 36, component: Chinese Spring 3_001858_5649_m/z201.1636_RT7.2384\", \"cluster: 36, component: Cobra 1_001832_5681_m/z201.1636_RT7.3651\", \"cluster: 36, component: Cobra 1_001832_5681_m/z201.1636_RT7.3651\"], \"type\": \"scatter\", \"uid\": \"eea87df3-c1bb-4fd6-967b-dab46942918b\", \"x\": [635.0, 635.0, 645.0, 645.0], \"xaxis\": \"x\", \"y\": [0.0, 0.48333333333333334, 0.48333333333333334, 0.0], \"yaxis\": \"y\"}, {\"hoverinfo\": \"text\", \"marker\": {\"color\": \"rgb(35,205,205)\"}, \"mode\": \"lines\", \"text\": [\"cluster: 37, component: Chinese Spring 1_001829_3874_m/z209.1534_RT5.1891\", \"cluster: 37, component: Chinese Spring 1_001829_3874_m/z209.1534_RT5.1891\", \"cluster: 37, component: Chinese Spring 1_001829_3976_m/z209.1534_RT5.2738\", \"cluster: 37, component: Chinese Spring 1_001829_3976_m/z209.1534_RT5.2738\"], \"type\": \"scatter\", \"uid\": \"bcc53291-85d1-4d17-b869-f7e764cda628\", \"x\": [675.0, 675.0, 685.0, 685.0], \"xaxis\": \"x\", \"y\": [0.0, 0.2916666666666667, 0.2916666666666667, 0.0], \"yaxis\": \"y\"}, {\"hoverinfo\": \"text\", \"marker\": {\"color\": \"rgb(35,205,205)\"}, \"mode\": \"lines\", \"text\": [\"cluster: 37, component: Chinese Spring 1_001829_3534_m/z209.1534_RT4.9214\", \"cluster: 37, component: Chinese Spring 1_001829_3534_m/z209.1534_RT4.9214\", null, null], \"type\": \"scatter\", \"uid\": \"0f2a72de-1a4b-49e3-8172-4c8b0ec4b2f8\", \"x\": [665.0, 665.0, 680.0, 680.0], \"xaxis\": \"x\", \"y\": [0.0, 0.3835616438356164, 0.3835616438356164, 0.2916666666666667], \"yaxis\": \"y\"}, {\"hoverinfo\": \"text\", \"marker\": {\"color\": \"rgb(35,205,205)\"}, \"mode\": \"lines\", \"text\": [\"cluster: 37, component: Chinese Spring 1_001829_6034_m/z209.1534_RT7.9760\", \"cluster: 37, component: Chinese Spring 1_001829_6034_m/z209.1534_RT7.9760\", null, null], \"type\": \"scatter\", \"uid\": \"ec1592cd-567a-48a5-b77c-35dd71901d50\", \"x\": [655.0, 655.0, 672.5, 672.5], \"xaxis\": \"x\", \"y\": [0.0, 0.4473684210526316, 0.4473684210526316, 0.3835616438356164], \"yaxis\": \"y\"}, {\"hoverinfo\": \"text\", \"marker\": {\"color\": \"rgb(133,20,75)\"}, \"mode\": \"lines\", \"text\": [\"cluster: 38, component: Chinese Spring 1_001829_6121_m/z281.1745_RT8.1944\", \"cluster: 38, component: Chinese Spring 1_001829_6121_m/z281.1745_RT8.1944\", \"cluster: 38, component: blk_001809_0513_m/z243.1589_RT8.8417\", \"cluster: 38, component: blk_001809_0513_m/z243.1589_RT8.8417\"], \"type\": \"scatter\", \"uid\": \"add4a64a-78f2-4780-93c0-170f74dbc70a\", \"x\": [695.0, 695.0, 705.0, 705.0], \"xaxis\": \"x\", \"y\": [0.0, 0.359375, 0.359375, 0.0], \"yaxis\": \"y\"}, {\"hoverinfo\": \"text\", \"marker\": {\"color\": \"rgb(255,220,0)\"}, \"mode\": \"lines\", \"text\": [\"cluster: 38, component: Chinese Spring 1_001829_4627_m/z227.1640_RT5.7507\", \"cluster: 38, component: Chinese Spring 1_001829_4627_m/z227.1640_RT5.7507\", \"cluster: 38, component: blk_001809_0743_m/z283.1902_RT9.4033\", \"cluster: 38, component: blk_001809_0743_m/z283.1902_RT9.4033\"], \"type\": \"scatter\", \"uid\": \"2df2fbde-f7c2-41ef-82b4-329bf1c000dd\", \"x\": [725.0, 725.0, 735.0, 735.0], \"xaxis\": \"x\", \"y\": [0.0, 0.47191011235955055, 0.47191011235955055, 0.0], \"yaxis\": \"y\"}, {\"hoverinfo\": \"text\", \"marker\": {\"color\": \"rgb(255,220,0)\"}, \"mode\": \"lines\", \"text\": [\"cluster: 38, component: Chinese Spring 1_001829_6701_m/z293.2106_RT9.6921\", \"cluster: 38, component: Chinese Spring 1_001829_6701_m/z293.2106_RT9.6921\", null, null], \"type\": \"scatter\", \"uid\": \"9dd8d79e-a837-4e6e-8ff8-6c0a961e7ab6\", \"x\": [715.0, 715.0, 730.0, 730.0], \"xaxis\": \"x\", \"y\": [0.0, 0.5454545454545454, 0.5454545454545454, 0.47191011235955055], \"yaxis\": \"y\"}, {\"hoverinfo\": \"text\", \"marker\": {\"color\": \"rgb(0,116,217)\"}, \"mode\": \"lines\", \"text\": [null, null, null, null], \"type\": \"scatter\", \"uid\": \"220f9c87-1734-4d5a-8f1b-f0360736802a\", \"x\": [700.0, 700.0, 722.5, 722.5], \"xaxis\": \"x\", \"y\": [0.359375, 0.6, 0.6, 0.5454545454545454], \"yaxis\": \"y\"}, {\"hoverinfo\": \"text\", \"marker\": {\"color\": \"rgb(0,116,217)\"}, \"mode\": \"lines\", \"text\": [null, null, null, null], \"type\": \"scatter\", \"uid\": \"0f8ab3db-737c-473e-acdf-89d816168a84\", \"x\": [663.75, 663.75, 711.25, 711.25], \"xaxis\": \"x\", \"y\": [0.4473684210526316, 0.6494845360824743, 0.6494845360824743, 0.6], \"yaxis\": \"y\"}, {\"hoverinfo\": \"text\", \"marker\": {\"color\": \"rgb(40,35,35)\"}, \"mode\": \"lines\", \"text\": [\"cluster: 39, component: Chinese Spring 1_001829_3487_m/z227.1275_RT4.8769\", \"cluster: 39, component: Chinese Spring 1_001829_3487_m/z227.1275_RT4.8769\", \"cluster: 39, component: Chinese Spring 1_001829_3537_m/z227.1276_RT4.9214\", \"cluster: 39, component: Chinese Spring 1_001829_3537_m/z227.1276_RT4.9214\"], \"type\": \"scatter\", \"uid\": \"b4f948e2-51a9-4e82-9623-6cf2d43aaf80\", \"x\": [755.0, 755.0, 765.0, 765.0], \"xaxis\": \"x\", \"y\": [0.0, 0.3382352941176471, 0.3382352941176471, 0.0], \"yaxis\": \"y\"}, {\"hoverinfo\": \"text\", \"marker\": {\"color\": \"rgb(0,116,217)\"}, \"mode\": \"lines\", \"text\": [\"cluster: 40, component: Chinese Spring 1_001829_3576_m/z207.1378_RT4.9437\", \"cluster: 40, component: Chinese Spring 1_001829_3576_m/z207.1378_RT4.9437\", null, null], \"type\": \"scatter\", \"uid\": \"89ffb210-613b-4c90-a662-e7f0631d41f2\", \"x\": [745.0, 745.0, 760.0, 760.0], \"xaxis\": \"x\", \"y\": [0.0, 0.6710526315789473, 0.6710526315789473, 0.3382352941176471], \"yaxis\": \"y\"}, {\"hoverinfo\": \"text\", \"marker\": {\"color\": \"rgb(0,116,217)\"}, \"mode\": \"lines\", \"text\": [null, null, null, null], \"type\": \"scatter\", \"uid\": \"9fa55230-8133-4d9b-aaba-a07ba8c0b7db\", \"x\": [687.5, 687.5, 752.5, 752.5], \"xaxis\": \"x\", \"y\": [0.6494845360824743, 0.7058823529411765, 0.7058823529411765, 0.6710526315789473], \"yaxis\": \"y\"}, {\"hoverinfo\": \"text\", \"marker\": {\"color\": \"rgb(61,153,112)\"}, \"mode\": \"lines\", \"text\": [\"cluster: 41, component: Chinese Spring 1_001829_8442_m/z181.1221_RT12.7876\", \"cluster: 41, component: Chinese Spring 1_001829_8442_m/z181.1221_RT12.7876\", \"cluster: 41, component: Chinese Spring 2_001850_7898_m/z181.1221_RT13.1904\", \"cluster: 41, component: Chinese Spring 2_001850_7898_m/z181.1221_RT13.1904\"], \"type\": \"scatter\", \"uid\": \"49eb6191-ddd2-4428-a54e-3c5951f123e0\", \"x\": [775.0, 775.0, 785.0, 785.0], \"xaxis\": \"x\", \"y\": [0.0, 0.2857142857142857, 0.2857142857142857, 0.0], \"yaxis\": \"y\"}, {\"hoverinfo\": \"text\", \"marker\": {\"color\": \"rgb(255,65,54)\"}, \"mode\": \"lines\", \"text\": [\"cluster: 42, component: Chinese Spring 1_001829_5697_m/z211.1691_RT7.3342\", \"cluster: 42, component: Chinese Spring 1_001829_5697_m/z211.1691_RT7.3342\", \"cluster: 42, component: Chinese Spring 1_001829_5778_m/z211.1691_RT7.5080\", \"cluster: 42, component: Chinese Spring 1_001829_5778_m/z211.1691_RT7.5080\"], \"type\": \"scatter\", \"uid\": \"d6ee4fd2-796c-4975-94a4-8dbe84cbb5cd\", \"x\": [815.0, 815.0, 825.0, 825.0], \"xaxis\": \"x\", \"y\": [0.0, 0.19230769230769232, 0.19230769230769232, 0.0], \"yaxis\": \"y\"}, {\"hoverinfo\": \"text\", \"marker\": {\"color\": \"rgb(255,65,54)\"}, \"mode\": \"lines\", \"text\": [\"cluster: 42, component: Chinese Spring 1_001829_5452_m/z209.0807_RT6.7499\", \"cluster: 42, component: Chinese Spring 1_001829_5452_m/z209.0807_RT6.7499\", null, null], \"type\": \"scatter\", \"uid\": \"1794aaf6-b94b-43d3-8def-d65d8d6503f4\", \"x\": [805.0, 805.0, 820.0, 820.0], \"xaxis\": \"x\", \"y\": [0.0, 0.21153846153846154, 0.21153846153846154, 0.19230769230769232], \"yaxis\": \"y\"}, {\"hoverinfo\": \"text\", \"marker\": {\"color\": \"rgb(255,65,54)\"}, \"mode\": \"lines\", \"text\": [\"cluster: 42, component: Chinese Spring 1_001829_5465_m/z211.1690_RT6.7722\", \"cluster: 42, component: Chinese Spring 1_001829_5465_m/z211.1690_RT6.7722\", null, null], \"type\": \"scatter\", \"uid\": \"10694bb4-47d1-40ed-a429-7b9f27c61d1e\", \"x\": [795.0, 795.0, 812.5, 812.5], \"xaxis\": \"x\", \"y\": [0.0, 0.3, 0.3, 0.21153846153846154], \"yaxis\": \"y\"}, {\"hoverinfo\": \"text\", \"marker\": {\"color\": \"rgb(255,65,54)\"}, \"mode\": \"lines\", \"text\": [\"cluster: 42, component: Chinese Spring 1_001829_6053_m/z215.1640_RT8.0384\", \"cluster: 42, component: Chinese Spring 1_001829_6053_m/z215.1640_RT8.0384\", \"cluster: 42, component: blk_001809_0654_m/z215.1640_RT9.1582\", \"cluster: 42, component: blk_001809_0654_m/z215.1640_RT9.1582\"], \"type\": \"scatter\", \"uid\": \"b950a7d0-bb45-48c1-a49b-0ce245e66a2e\", \"x\": [835.0, 835.0, 845.0, 845.0], \"xaxis\": \"x\", \"y\": [0.0, 0.48717948717948717, 0.48717948717948717, 0.0], \"yaxis\": \"y\"}, {\"hoverinfo\": \"text\", \"marker\": {\"color\": \"rgb(255,65,54)\"}, \"mode\": \"lines\", \"text\": [null, null, null, null], \"type\": \"scatter\", \"uid\": \"378f0f2f-a632-46cf-ac65-48b3e9771fd5\", \"x\": [803.75, 803.75, 840.0, 840.0], \"xaxis\": \"x\", \"y\": [0.3, 0.5818181818181818, 0.5818181818181818, 0.48717948717948717], \"yaxis\": \"y\"}, {\"hoverinfo\": \"text\", \"marker\": {\"color\": \"rgb(0,116,217)\"}, \"mode\": \"lines\", \"text\": [null, null, null, null], \"type\": \"scatter\", \"uid\": \"9c60dd70-1aa8-4917-bbdd-6761883f90b3\", \"x\": [780.0, 780.0, 821.875, 821.875], \"xaxis\": \"x\", \"y\": [0.2857142857142857, 0.7446808510638298, 0.7446808510638298, 0.5818181818181818], \"yaxis\": \"y\"}, {\"hoverinfo\": \"text\", \"marker\": {\"color\": \"rgb(0,116,217)\"}, \"mode\": \"lines\", \"text\": [null, null, null, null], \"type\": \"scatter\", \"uid\": \"2b7fc8ca-6776-4cac-b369-f141dde30b84\", \"x\": [720.0, 720.0, 800.9375, 800.9375], \"xaxis\": \"x\", \"y\": [0.7058823529411765, 0.7631578947368421, 0.7631578947368421, 0.7446808510638298], \"yaxis\": \"y\"}, {\"hoverinfo\": \"text\", \"marker\": {\"color\": \"rgb(35,205,205)\"}, \"mode\": \"lines\", \"text\": [\"cluster: 43, component: Chinese Spring 2_001850_6060_m/z219.1741_RT8.6023\", \"cluster: 43, component: Chinese Spring 2_001850_6060_m/z219.1741_RT8.6023\", \"cluster: 43, component: Chinese Spring 2_001850_6092_m/z219.1742_RT8.6424\", \"cluster: 43, component: Chinese Spring 2_001850_6092_m/z219.1742_RT8.6424\"], \"type\": \"scatter\", \"uid\": \"f19cec1c-50a2-4420-9f59-9e8435dbc8ed\", \"x\": [865.0, 865.0, 875.0, 875.0], \"xaxis\": \"x\", \"y\": [0.0, 0.25, 0.25, 0.0], \"yaxis\": \"y\"}, {\"hoverinfo\": \"text\", \"marker\": {\"color\": \"rgb(35,205,205)\"}, \"mode\": \"lines\", \"text\": [\"cluster: 43, component: Chinese Spring 1_001829_5806_m/z219.1741_RT7.5303\", \"cluster: 43, component: Chinese Spring 1_001829_5806_m/z219.1741_RT7.5303\", \"cluster: 43, component: Cobra 1_001832_5682_m/z219.1741_RT7.3651\", \"cluster: 43, component: Cobra 1_001832_5682_m/z219.1741_RT7.3651\"], \"type\": \"scatter\", \"uid\": \"f029d6d4-831f-451d-b353-00c66bb6beb8\", \"x\": [895.0, 895.0, 905.0, 905.0], \"xaxis\": \"x\", \"y\": [0.0, 0.3125, 0.3125, 0.0], \"yaxis\": \"y\"}, {\"hoverinfo\": \"text\", \"marker\": {\"color\": \"rgb(35,205,205)\"}, \"mode\": \"lines\", \"text\": [\"cluster: 43, component: Chinese Spring 1_001829_6166_m/z219.1741_RT8.3371\", \"cluster: 43, component: Chinese Spring 1_001829_6166_m/z219.1741_RT8.3371\", null, null], \"type\": \"scatter\", \"uid\": \"449cdb7a-65cf-4c21-a065-c0060af5f4ae\", \"x\": [885.0, 885.0, 900.0, 900.0], \"xaxis\": \"x\", \"y\": [0.0, 0.4074074074074074, 0.4074074074074074, 0.3125], \"yaxis\": \"y\"}, {\"hoverinfo\": \"text\", \"marker\": {\"color\": \"rgb(35,205,205)\"}, \"mode\": \"lines\", \"text\": [null, null, null, null], \"type\": \"scatter\", \"uid\": \"75596010-60ae-4c04-ba66-4447cb34c392\", \"x\": [870.0, 870.0, 892.5, 892.5], \"xaxis\": \"x\", \"y\": [0.25, 0.4583333333333333, 0.4583333333333333, 0.4074074074074074], \"yaxis\": \"y\"}, {\"hoverinfo\": \"text\", \"marker\": {\"color\": \"rgb(133,20,75)\"}, \"mode\": \"lines\", \"text\": [\"cluster: 44, component: Chinese Spring 1_001829_3978_m/z191.1429_RT5.2782\", \"cluster: 44, component: Chinese Spring 1_001829_3978_m/z191.1429_RT5.2782\", \"cluster: 44, component: Chinese Spring 1_001829_5431_m/z191.1429_RT6.7410\", \"cluster: 44, component: Chinese Spring 1_001829_5431_m/z191.1429_RT6.7410\"], \"type\": \"scatter\", \"uid\": \"14435a06-e688-4ac9-a403-93ede4e12895\", \"x\": [925.0, 925.0, 935.0, 935.0], \"xaxis\": \"x\", \"y\": [0.0, 0.43103448275862066, 0.43103448275862066, 0.0], \"yaxis\": \"y\"}, {\"hoverinfo\": \"text\", \"marker\": {\"color\": \"rgb(133,20,75)\"}, \"mode\": \"lines\", \"text\": [\"cluster: 44, component: Chinese Spring 1_001829_5301_m/z191.1428_RT6.5359\", \"cluster: 44, component: Chinese Spring 1_001829_5301_m/z191.1428_RT6.5359\", null, null], \"type\": \"scatter\", \"uid\": \"3346ade6-89c7-4307-a8c0-30b2858798b9\", \"x\": [915.0, 915.0, 930.0, 930.0], \"xaxis\": \"x\", \"y\": [0.0, 0.5, 0.5, 0.43103448275862066], \"yaxis\": \"y\"}, {\"hoverinfo\": \"text\", \"marker\": {\"color\": \"rgb(0,116,217)\"}, \"mode\": \"lines\", \"text\": [null, null, null, null], \"type\": \"scatter\", \"uid\": \"ef76122a-e9b3-4bfe-beba-eb73ca3e9712\", \"x\": [881.25, 881.25, 922.5, 922.5], \"xaxis\": \"x\", \"y\": [0.4583333333333333, 0.68, 0.68, 0.5], \"yaxis\": \"y\"}, {\"hoverinfo\": \"text\", \"marker\": {\"color\": \"rgb(0,116,217)\"}, \"mode\": \"lines\", \"text\": [\"cluster: 45, component: Chinese Spring 2_001850_5547_m/z137.0960_RT7.4167\", \"cluster: 45, component: Chinese Spring 2_001850_5547_m/z137.0960_RT7.4167\", null, null], \"type\": \"scatter\", \"uid\": \"8d52ebb9-93fc-4371-ae3a-1a4bffeac6c6\", \"x\": [855.0, 855.0, 901.875, 901.875], \"xaxis\": \"x\", \"y\": [0.0, 0.782608695652174, 0.782608695652174, 0.68], \"yaxis\": \"y\"}, {\"hoverinfo\": \"text\", \"marker\": {\"color\": \"rgb(0,116,217)\"}, \"mode\": \"lines\", \"text\": [null, null, null, null], \"type\": \"scatter\", \"uid\": \"09a45df8-c9e6-46e2-b01a-6c5fdbeb04a1\", \"x\": [760.46875, 760.46875, 878.4375, 878.4375], \"xaxis\": \"x\", \"y\": [0.7631578947368421, 0.8170731707317073, 0.8170731707317073, 0.782608695652174], \"yaxis\": \"y\"}, {\"hoverinfo\": \"text\", \"marker\": {\"color\": \"rgb(0,116,217)\"}, \"mode\": \"lines\", \"text\": [null, null, null, null], \"type\": \"scatter\", \"uid\": \"46762178-1db2-4f43-b9d5-c73cfb562bbb\", \"x\": [640.0, 640.0, 819.453125, 819.453125], \"xaxis\": \"x\", \"y\": [0.48333333333333334, 0.8421052631578947, 0.8421052631578947, 0.8170731707317073], \"yaxis\": \"y\"}, {\"hoverinfo\": \"text\", \"marker\": {\"color\": \"rgb(0,116,217)\"}, \"mode\": \"lines\", \"text\": [\"cluster: 46, component: Chinese Spring 1_001829_4949_m/z209.0807_RT6.0494\", \"cluster: 46, component: Chinese Spring 1_001829_4949_m/z209.0807_RT6.0494\", \"cluster: 47, component: Chinese Spring 1_001829_6612_m/z207.1378_RT9.3355\", \"cluster: 47, component: Chinese Spring 1_001829_6612_m/z207.1378_RT9.3355\"], \"type\": \"scatter\", \"uid\": \"a0e93c14-667d-43d5-b420-75a3f36b6e66\", \"x\": [945.0, 945.0, 955.0, 955.0], \"xaxis\": \"x\", \"y\": [0.0, 0.8556701030927835, 0.8556701030927835, 0.0], \"yaxis\": \"y\"}, {\"hoverinfo\": \"text\", \"marker\": {\"color\": \"rgb(0,116,217)\"}, \"mode\": \"lines\", \"text\": [null, null, null, null], \"type\": \"scatter\", \"uid\": \"e9e0d6cc-3235-47ff-90f8-dd57015f6744\", \"x\": [729.7265625, 729.7265625, 950.0, 950.0], \"xaxis\": \"x\", \"y\": [0.8421052631578947, 0.9135802469135802, 0.9135802469135802, 0.8556701030927835], \"yaxis\": \"y\"}, {\"hoverinfo\": \"text\", \"marker\": {\"color\": \"rgb(0,116,217)\"}, \"mode\": \"lines\", \"text\": [null, null, null, null], \"type\": \"scatter\", \"uid\": \"62844f2d-dc7f-493d-8093-d707aa017e80\", \"x\": [601.875, 601.875, 839.86328125, 839.86328125], \"xaxis\": \"x\", \"y\": [0.9032258064516129, 0.9882352941176471, 0.9882352941176471, 0.9135802469135802], \"yaxis\": \"y\"}, {\"hoverinfo\": \"text\", \"marker\": {\"color\": \"rgb(255,220,0)\"}, \"mode\": \"lines\", \"text\": [\"cluster: 48, component: Chinese Spring 1_001829_3815_m/z177.0545_RT5.1175\", \"cluster: 48, component: Chinese Spring 1_001829_3815_m/z177.0545_RT5.1175\", \"cluster: 48, component: Espada 3_001867_2046_m/z177.0545_RT3.9185\", \"cluster: 48, component: Espada 3_001867_2046_m/z177.0545_RT3.9185\"], \"type\": \"scatter\", \"uid\": \"c907adfc-09ed-4651-b0bf-2693dba2ac48\", \"x\": [985.0, 985.0, 995.0, 995.0], \"xaxis\": \"x\", \"y\": [0.0, 0.35, 0.35, 0.0], \"yaxis\": \"y\"}, {\"hoverinfo\": \"text\", \"marker\": {\"color\": \"rgb(255,220,0)\"}, \"mode\": \"lines\", \"text\": [\"cluster: 48, component: Chinese Spring 1_001829_2250_m/z177.0544_RT3.6957\", \"cluster: 48, component: Chinese Spring 1_001829_2250_m/z177.0544_RT3.6957\", null, null], \"type\": \"scatter\", \"uid\": \"18419e87-2a10-4c55-b5c3-774800baf8b4\", \"x\": [975.0, 975.0, 990.0, 990.0], \"xaxis\": \"x\", \"y\": [0.0, 0.391304347826087, 0.391304347826087, 0.35], \"yaxis\": \"y\"}, {\"hoverinfo\": \"text\", \"marker\": {\"color\": \"rgb(40,35,35)\"}, \"mode\": \"lines\", \"text\": [\"cluster: 49, component: Chinese Spring 1_001829_3575_m/z199.9878_RT4.9437\", \"cluster: 49, component: Chinese Spring 1_001829_3575_m/z199.9878_RT4.9437\", \"cluster: 49, component: Chinese Spring 3_001858_3785_m/z199.9877_RT5.0667\", \"cluster: 49, component: Chinese Spring 3_001858_3785_m/z199.9877_RT5.0667\"], \"type\": \"scatter\", \"uid\": \"8e166ba5-6046-4046-ae31-be5314b7aa81\", \"x\": [1005.0, 1005.0, 1015.0, 1015.0], \"xaxis\": \"x\", \"y\": [0.0, 0.34146341463414637, 0.34146341463414637, 0.0], \"yaxis\": \"y\"}, {\"hoverinfo\": \"text\", \"marker\": {\"color\": \"rgb(40,35,35)\"}, \"mode\": \"lines\", \"text\": [\"cluster: 49, component: Chinese Spring 1_001829_0008_m/z199.9878_RT0.5260\", \"cluster: 49, component: Chinese Spring 1_001829_0008_m/z199.9878_RT0.5260\", \"cluster: 49, component: Chinese Spring 1_001829_3401_m/z199.9878_RT4.8234\", \"cluster: 49, component: Chinese Spring 1_001829_3401_m/z199.9878_RT4.8234\"], \"type\": \"scatter\", \"uid\": \"09e8a269-b297-464f-ab04-4fe227714c2c\", \"x\": [1025.0, 1025.0, 1035.0, 1035.0], \"xaxis\": \"x\", \"y\": [0.0, 0.3, 0.3, 0.0], \"yaxis\": \"y\"}, {\"hoverinfo\": \"text\", \"marker\": {\"color\": \"rgb(40,35,35)\"}, \"mode\": \"lines\", \"text\": [\"cluster: 49, component: Chinese Spring 1_001829_4213_m/z199.9877_RT5.4298\", \"cluster: 49, component: Chinese Spring 1_001829_4213_m/z199.9877_RT5.4298\", \"cluster: 49, component: Chinese Spring 2_001850_3871_m/z199.9878_RT5.2900\", \"cluster: 49, component: Chinese Spring 2_001850_3871_m/z199.9878_RT5.2900\"], \"type\": \"scatter\", \"uid\": \"863f7e8e-a554-459a-97a0-3aae3b3e226e\", \"x\": [1045.0, 1045.0, 1055.0, 1055.0], \"xaxis\": \"x\", \"y\": [0.0, 0.18181818181818182, 0.18181818181818182, 0.0], \"yaxis\": \"y\"}, {\"hoverinfo\": \"text\", \"marker\": {\"color\": \"rgb(40,35,35)\"}, \"mode\": \"lines\", \"text\": [\"cluster: 49, component: Chinese Spring 2_001850_4313_m/z199.9878_RT5.5708\", \"cluster: 49, component: Chinese Spring 2_001850_4313_m/z199.9878_RT5.5708\", \"cluster: 49, component: Cobra 2_001852_2321_m/z199.9877_RT4.2435\", \"cluster: 49, component: Cobra 2_001852_2321_m/z199.9877_RT4.2435\"], \"type\": \"scatter\", \"uid\": \"84cdbc9b-aca8-47c7-a42b-9f22a071b3f6\", \"x\": [1075.0, 1075.0, 1085.0, 1085.0], \"xaxis\": \"x\", \"y\": [0.0, 0.25, 0.25, 0.0], \"yaxis\": \"y\"}, {\"hoverinfo\": \"text\", \"marker\": {\"color\": \"rgb(40,35,35)\"}, \"mode\": \"lines\", \"text\": [\"cluster: 49, component: Cobra 2_001852_4324_m/z199.9878_RT6.0264\", \"cluster: 49, component: Cobra 2_001852_4324_m/z199.9878_RT6.0264\", null, null], \"type\": \"scatter\", \"uid\": \"915f1fad-ee59-4d1d-9f69-c8ab681ac5c9\", \"x\": [1065.0, 1065.0, 1080.0, 1080.0], \"xaxis\": \"x\", \"y\": [0.0, 0.3125, 0.3125, 0.25], \"yaxis\": \"y\"}, {\"hoverinfo\": \"text\", \"marker\": {\"color\": \"rgb(40,35,35)\"}, \"mode\": \"lines\", \"text\": [null, null, null, null], \"type\": \"scatter\", \"uid\": \"6f43732b-9ec5-4dd6-83f1-5a2d4179b8ec\", \"x\": [1050.0, 1050.0, 1072.5, 1072.5], \"xaxis\": \"x\", \"y\": [0.18181818181818182, 0.36363636363636365, 0.36363636363636365, 0.3125], \"yaxis\": \"y\"}, {\"hoverinfo\": \"text\", \"marker\": {\"color\": \"rgb(40,35,35)\"}, \"mode\": \"lines\", \"text\": [null, null, null, null], \"type\": \"scatter\", \"uid\": \"4fafbced-e1fc-413f-9899-dc03facbaa50\", \"x\": [1030.0, 1030.0, 1061.25, 1061.25], \"xaxis\": \"x\", \"y\": [0.3, 0.42424242424242425, 0.42424242424242425, 0.36363636363636365], \"yaxis\": \"y\"}, {\"hoverinfo\": \"text\", \"marker\": {\"color\": \"rgb(40,35,35)\"}, \"mode\": \"lines\", \"text\": [null, null, null, null], \"type\": \"scatter\", \"uid\": \"56dc44be-d475-42b6-a0bb-08de06d0c490\", \"x\": [1010.0, 1010.0, 1045.625, 1045.625], \"xaxis\": \"x\", \"y\": [0.34146341463414637, 0.47368421052631576, 0.47368421052631576, 0.42424242424242425], \"yaxis\": \"y\"}, {\"hoverinfo\": \"text\", \"marker\": {\"color\": \"rgb(0,116,217)\"}, \"mode\": \"lines\", \"text\": [null, null, null, null], \"type\": \"scatter\", \"uid\": \"f8a5f0be-019c-4f25-bcb1-7556e5c3f991\", \"x\": [982.5, 982.5, 1027.8125, 1027.8125], \"xaxis\": \"x\", \"y\": [0.391304347826087, 0.8214285714285714, 0.8214285714285714, 0.47368421052631576], \"yaxis\": \"y\"}, {\"hoverinfo\": \"text\", \"marker\": {\"color\": \"rgb(61,153,112)\"}, \"mode\": \"lines\", \"text\": [\"cluster: 50, component: Chinese Spring 1_001829_3296_m/z611.1606_RT4.7565\", \"cluster: 50, component: Chinese Spring 1_001829_3296_m/z611.1606_RT4.7565\", \"cluster: 50, component: Chinese Spring 1_001829_3857_m/z611.1606_RT5.1666\", \"cluster: 50, component: Chinese Spring 1_001829_3857_m/z611.1606_RT5.1666\"], \"type\": \"scatter\", \"uid\": \"aa67e5b9-fdca-41f3-83bd-a97bb6f37cf5\", \"x\": [1105.0, 1105.0, 1115.0, 1115.0], \"xaxis\": \"x\", \"y\": [0.0, 0.4583333333333333, 0.4583333333333333, 0.0], \"yaxis\": \"y\"}, {\"hoverinfo\": \"text\", \"marker\": {\"color\": \"rgb(255,65,54)\"}, \"mode\": \"lines\", \"text\": [\"cluster: 51, component: Chinese Spring 1_001829_3593_m/z339.1073_RT4.9571\", \"cluster: 51, component: Chinese Spring 1_001829_3593_m/z339.1073_RT4.9571\", \"cluster: 51, component: Chinese Spring 1_001829_4973_m/z339.1073_RT6.0940\", \"cluster: 51, component: Chinese Spring 1_001829_4973_m/z339.1073_RT6.0940\"], \"type\": \"scatter\", \"uid\": \"f495781e-719b-454d-a94c-11bd85cb635b\", \"x\": [1125.0, 1125.0, 1135.0, 1135.0], \"xaxis\": \"x\", \"y\": [0.0, 0.44, 0.44, 0.0], \"yaxis\": \"y\"}, {\"hoverinfo\": \"text\", \"marker\": {\"color\": \"rgb(35,205,205)\"}, \"mode\": \"lines\", \"text\": [\"cluster: 52, component: Chinese Spring 1_001829_5035_m/z231.0497_RT6.1564\", \"cluster: 52, component: Chinese Spring 1_001829_5035_m/z231.0497_RT6.1564\", \"cluster: 52, component: Chinese Spring 1_001829_6283_m/z231.0496_RT8.6045\", \"cluster: 52, component: Chinese Spring 1_001829_6283_m/z231.0496_RT8.6045\"], \"type\": \"scatter\", \"uid\": \"c8f7c51b-b047-41e0-b480-8aecfa04899c\", \"x\": [1185.0, 1185.0, 1195.0, 1195.0], \"xaxis\": \"x\", \"y\": [0.0, 0.391304347826087, 0.391304347826087, 0.0], \"yaxis\": \"y\"}, {\"hoverinfo\": \"text\", \"marker\": {\"color\": \"rgb(35,205,205)\"}, \"mode\": \"lines\", \"text\": [\"cluster: 52, component: Chinese Spring 1_001829_3927_m/z231.0497_RT5.2470\", \"cluster: 52, component: Chinese Spring 1_001829_3927_m/z231.0497_RT5.2470\", null, null], \"type\": \"scatter\", \"uid\": \"d79a76bc-e730-4fd8-8787-21b27711a46a\", \"x\": [1175.0, 1175.0, 1190.0, 1190.0], \"xaxis\": \"x\", \"y\": [0.0, 0.4090909090909091, 0.4090909090909091, 0.391304347826087], \"yaxis\": \"y\"}, {\"hoverinfo\": \"text\", \"marker\": {\"color\": \"rgb(35,205,205)\"}, \"mode\": \"lines\", \"text\": [\"cluster: 52, component: Chinese Spring 1_001829_5413_m/z231.0497_RT6.7231\", \"cluster: 52, component: Chinese Spring 1_001829_5413_m/z231.0497_RT6.7231\", null, null], \"type\": \"scatter\", \"uid\": \"66854ffa-5cfb-4762-9fe5-d3ed8a8ebbf0\", \"x\": [1165.0, 1165.0, 1182.5, 1182.5], \"xaxis\": \"x\", \"y\": [0.0, 0.52, 0.52, 0.4090909090909091], \"yaxis\": \"y\"}, {\"hoverinfo\": \"text\", \"marker\": {\"color\": \"rgb(0,116,217)\"}, \"mode\": \"lines\", \"text\": [\"cluster: 53, component: Chinese Spring 1_001829_3932_m/z340.1603_RT5.2470\", \"cluster: 53, component: Chinese Spring 1_001829_3932_m/z340.1603_RT5.2470\", null, null], \"type\": \"scatter\", \"uid\": \"189f6d57-689f-49bb-8329-b85106e54a95\", \"x\": [1155.0, 1155.0, 1173.75, 1173.75], \"xaxis\": \"x\", \"y\": [0.0, 0.6904761904761905, 0.6904761904761905, 0.52], \"yaxis\": \"y\"}, {\"hoverinfo\": \"text\", \"marker\": {\"color\": \"rgb(133,20,75)\"}, \"mode\": \"lines\", \"text\": [\"cluster: 54, component: Chinese Spring 2_001850_1213_m/z314.1446_RT1.3713\", \"cluster: 54, component: Chinese Spring 2_001850_1213_m/z314.1446_RT1.3713\", \"cluster: 54, component: Emu Rock 2_001847_1099_m/z314.1446_RT1.2598\", \"cluster: 54, component: Emu Rock 2_001847_1099_m/z314.1446_RT1.2598\"], \"type\": \"scatter\", \"uid\": \"bda6ece5-949c-471e-8179-78ed82e8585a\", \"x\": [1205.0, 1205.0, 1215.0, 1215.0], \"xaxis\": \"x\", \"y\": [0.0, 0.4230769230769231, 0.4230769230769231, 0.0], \"yaxis\": \"y\"}, {\"hoverinfo\": \"text\", \"marker\": {\"color\": \"rgb(0,116,217)\"}, \"mode\": \"lines\", \"text\": [\"cluster: 55, component: Chinese Spring 1_001829_2752_m/z342.1759_RT4.2840\", \"cluster: 55, component: Chinese Spring 1_001829_2752_m/z342.1759_RT4.2840\", \"cluster: 56, component: Chinese Spring 3_001858_1605_m/z310.1495_RT2.2587\", \"cluster: 56, component: Chinese Spring 3_001858_1605_m/z310.1495_RT2.2587\"], \"type\": \"scatter\", \"uid\": \"13768c07-5918-4c93-b996-a6d0b1129e8f\", \"x\": [1225.0, 1225.0, 1235.0, 1235.0], \"xaxis\": \"x\", \"y\": [0.0, 0.6785714285714286, 0.6785714285714286, 0.0], \"yaxis\": \"y\"}, {\"hoverinfo\": \"text\", \"marker\": {\"color\": \"rgb(0,116,217)\"}, \"mode\": \"lines\", \"text\": [null, null, null, null], \"type\": \"scatter\", \"uid\": \"e678737d-e988-44e5-a181-f5a3abbefb4e\", \"x\": [1210.0, 1210.0, 1230.0, 1230.0], \"xaxis\": \"x\", \"y\": [0.4230769230769231, 0.75, 0.75, 0.6785714285714286], \"yaxis\": \"y\"}, {\"hoverinfo\": \"text\", \"marker\": {\"color\": \"rgb(0,116,217)\"}, \"mode\": \"lines\", \"text\": [null, null, null, null], \"type\": \"scatter\", \"uid\": \"5533abbc-1d40-4dfe-bc05-86e2bd365e46\", \"x\": [1164.375, 1164.375, 1220.0, 1220.0], \"xaxis\": \"x\", \"y\": [0.6904761904761905, 0.8, 0.8, 0.75], \"yaxis\": \"y\"}, {\"hoverinfo\": \"text\", \"marker\": {\"color\": \"rgb(0,116,217)\"}, \"mode\": \"lines\", \"text\": [\"cluster: 57, component: Chinese Spring 1_001829_6003_m/z498.2543_RT7.9315\", \"cluster: 57, component: Chinese Spring 1_001829_6003_m/z498.2543_RT7.9315\", null, null], \"type\": \"scatter\", \"uid\": \"29e49aa0-e56c-48c1-9797-7544290d0216\", \"x\": [1145.0, 1145.0, 1192.1875, 1192.1875], \"xaxis\": \"x\", \"y\": [0.0, 0.8571428571428571, 0.8571428571428571, 0.8], \"yaxis\": \"y\"}, {\"hoverinfo\": \"text\", \"marker\": {\"color\": \"rgb(0,116,217)\"}, \"mode\": \"lines\", \"text\": [null, null, null, null], \"type\": \"scatter\", \"uid\": \"9abddc20-4de6-4f20-92c8-8e4a24747666\", \"x\": [1130.0, 1130.0, 1168.59375, 1168.59375], \"xaxis\": \"x\", \"y\": [0.44, 0.8775510204081632, 0.8775510204081632, 0.8571428571428571], \"yaxis\": \"y\"}, {\"hoverinfo\": \"text\", \"marker\": {\"color\": \"rgb(0,116,217)\"}, \"mode\": \"lines\", \"text\": [\"cluster: 58, component: Chinese Spring 1_001829_1178_m/z241.1544_RT1.1946\", \"cluster: 58, component: Chinese Spring 1_001829_1178_m/z241.1544_RT1.1946\", \"cluster: 59, component: Chinese Spring 1_001829_1844_m/z507.1819_RT2.9692\", \"cluster: 59, component: Chinese Spring 1_001829_1844_m/z507.1819_RT2.9692\"], \"type\": \"scatter\", \"uid\": \"0a91f2c5-0c78-45cc-86dd-111afab57b8f\", \"x\": [1245.0, 1245.0, 1255.0, 1255.0], \"xaxis\": \"x\", \"y\": [0.0, 0.9152542372881356, 0.9152542372881356, 0.0], \"yaxis\": \"y\"}, {\"hoverinfo\": \"text\", \"marker\": {\"color\": \"rgb(0,116,217)\"}, \"mode\": \"lines\", \"text\": [null, null, null, null], \"type\": \"scatter\", \"uid\": \"fea40496-f14d-4563-bc67-677e6a8f4b0a\", \"x\": [1149.296875, 1149.296875, 1250.0, 1250.0], \"xaxis\": \"x\", \"y\": [0.8775510204081632, 0.9302325581395349, 0.9302325581395349, 0.9152542372881356], \"yaxis\": \"y\"}, {\"hoverinfo\": \"text\", \"marker\": {\"color\": \"rgb(0,116,217)\"}, \"mode\": \"lines\", \"text\": [null, null, null, null], \"type\": \"scatter\", \"uid\": \"8766c70b-80d0-40a1-9b31-355feb2c5f0d\", \"x\": [1110.0, 1110.0, 1199.6484375, 1199.6484375], \"xaxis\": \"x\", \"y\": [0.4583333333333333, 0.9622641509433962, 0.9622641509433962, 0.9302325581395349], \"yaxis\": \"y\"}, {\"hoverinfo\": \"text\", \"marker\": {\"color\": \"rgb(0,116,217)\"}, \"mode\": \"lines\", \"text\": [\"cluster: 60, component: Chinese Spring 1_001829_5512_m/z463.1233_RT6.8301\", \"cluster: 60, component: Chinese Spring 1_001829_5512_m/z463.1233_RT6.8301\", null, null], \"type\": \"scatter\", \"uid\": \"629c3a31-ab6a-4de0-a12e-dbe9fa62d4d5\", \"x\": [1095.0, 1095.0, 1154.82421875, 1154.82421875], \"xaxis\": \"x\", \"y\": [0.0, 0.9696969696969697, 0.9696969696969697, 0.9622641509433962], \"yaxis\": \"y\"}, {\"hoverinfo\": \"text\", \"marker\": {\"color\": \"rgb(255,220,0)\"}, \"mode\": \"lines\", \"text\": [\"cluster: 61, component: Chinese Spring 1_001829_4912_m/z219.1014_RT5.9958\", \"cluster: 61, component: Chinese Spring 1_001829_4912_m/z219.1014_RT5.9958\", \"cluster: 61, component: Chinese Spring 1_001829_5175_m/z219.1014_RT6.3621\", \"cluster: 61, component: Chinese Spring 1_001829_5175_m/z219.1014_RT6.3621\"], \"type\": \"scatter\", \"uid\": \"cbb4f03d-d84b-43d5-9bed-be4029022ba4\", \"x\": [1285.0, 1285.0, 1295.0, 1295.0], \"xaxis\": \"x\", \"y\": [0.0, 0.38181818181818183, 0.38181818181818183, 0.0], \"yaxis\": \"y\"}, {\"hoverinfo\": \"text\", \"marker\": {\"color\": \"rgb(255,220,0)\"}, \"mode\": \"lines\", \"text\": [\"cluster: 61, component: Chinese Spring 1_001829_5685_m/z219.1014_RT7.3074\", \"cluster: 61, component: Chinese Spring 1_001829_5685_m/z219.1014_RT7.3074\", null, null], \"type\": \"scatter\", \"uid\": \"e5f8738a-9fd7-4d34-9dae-0fea8d15fc39\", \"x\": [1275.0, 1275.0, 1290.0, 1290.0], \"xaxis\": \"x\", \"y\": [0.0, 0.4647887323943662, 0.4647887323943662, 0.38181818181818183], \"yaxis\": \"y\"}, {\"hoverinfo\": \"text\", \"marker\": {\"color\": \"rgb(0,116,217)\"}, \"mode\": \"lines\", \"text\": [\"cluster: 62, component: Correll 1_001837_4911_m/z251.0911_RT6.5612\", \"cluster: 62, component: Correll 1_001837_4911_m/z251.0911_RT6.5612\", null, null], \"type\": \"scatter\", \"uid\": \"44b58a0e-196f-4c38-82f8-be65e7b10393\", \"x\": [1265.0, 1265.0, 1282.5, 1282.5], \"xaxis\": \"x\", \"y\": [0.0, 0.6527777777777778, 0.6527777777777778, 0.4647887323943662], \"yaxis\": \"y\"}, {\"hoverinfo\": \"text\", \"marker\": {\"color\": \"rgb(40,35,35)\"}, \"mode\": \"lines\", \"text\": [\"cluster: 63, component: Chinese Spring 1_001829_2478_m/z291.1449_RT4.0211\", \"cluster: 63, component: Chinese Spring 1_001829_2478_m/z291.1449_RT4.0211\", \"cluster: 63, component: Chinese Spring 1_001829_2534_m/z291.1449_RT4.0567\", \"cluster: 63, component: Chinese Spring 1_001829_2534_m/z291.1449_RT4.0567\"], \"type\": \"scatter\", \"uid\": \"bb2ccadf-a865-44c1-8528-dddf44f6b46d\", \"x\": [1305.0, 1305.0, 1315.0, 1315.0], \"xaxis\": \"x\", \"y\": [0.0, 0.37037037037037035, 0.37037037037037035, 0.0], \"yaxis\": \"y\"}, {\"hoverinfo\": \"text\", \"marker\": {\"color\": \"rgb(40,35,35)\"}, \"mode\": \"lines\", \"text\": [\"cluster: 63, component: Chinese Spring 1_001829_1966_m/z273.1343_RT3.3302\", \"cluster: 63, component: Chinese Spring 1_001829_1966_m/z273.1343_RT3.3302\", \"cluster: 63, component: Chinese Spring 1_001829_2526_m/z273.1343_RT4.0523\", \"cluster: 63, component: Chinese Spring 1_001829_2526_m/z273.1343_RT4.0523\"], \"type\": \"scatter\", \"uid\": \"b6e736cd-a5c5-4d0a-b67b-7dd1759e4eb6\", \"x\": [1335.0, 1335.0, 1345.0, 1345.0], \"xaxis\": \"x\", \"y\": [0.0, 0.3333333333333333, 0.3333333333333333, 0.0], \"yaxis\": \"y\"}, {\"hoverinfo\": \"text\", \"marker\": {\"color\": \"rgb(40,35,35)\"}, \"mode\": \"lines\", \"text\": [\"cluster: 63, component: Chinese Spring 1_001829_1967_m/z291.1450_RT3.3302\", \"cluster: 63, component: Chinese Spring 1_001829_1967_m/z291.1450_RT3.3302\", null, null], \"type\": \"scatter\", \"uid\": \"14722ecc-272a-4f3e-996a-cec915a87d94\", \"x\": [1325.0, 1325.0, 1340.0, 1340.0], \"xaxis\": \"x\", \"y\": [0.0, 0.41935483870967744, 0.41935483870967744, 0.3333333333333333], \"yaxis\": \"y\"}, {\"hoverinfo\": \"text\", \"marker\": {\"color\": \"rgb(40,35,35)\"}, \"mode\": \"lines\", \"text\": [null, null, null, null], \"type\": \"scatter\", \"uid\": \"4447fb1b-0e72-41f0-ad99-ed338a643c59\", \"x\": [1310.0, 1310.0, 1332.5, 1332.5], \"xaxis\": \"x\", \"y\": [0.37037037037037035, 0.5161290322580645, 0.5161290322580645, 0.41935483870967744], \"yaxis\": \"y\"}, {\"hoverinfo\": \"text\", \"marker\": {\"color\": \"rgb(61,153,112)\"}, \"mode\": \"lines\", \"text\": [\"cluster: 64, component: Chinese Spring 1_001829_1874_m/z235.1439_RT3.0271\", \"cluster: 64, component: Chinese Spring 1_001829_1874_m/z235.1439_RT3.0271\", \"cluster: 64, component: Chinese Spring 1_001829_2318_m/z235.1439_RT3.7670\", \"cluster: 64, component: Chinese Spring 1_001829_2318_m/z235.1439_RT3.7670\"], \"type\": \"scatter\", \"uid\": \"87bbc6cd-f203-44ed-a025-624a9cc514cf\", \"x\": [1365.0, 1365.0, 1375.0, 1375.0], \"xaxis\": \"x\", \"y\": [0.0, 0.5263157894736842, 0.5263157894736842, 0.0], \"yaxis\": \"y\"}, {\"hoverinfo\": \"text\", \"marker\": {\"color\": \"rgb(0,116,217)\"}, \"mode\": \"lines\", \"text\": [\"cluster: 65, component: Chinese Spring 1_001829_1994_m/z251.1387_RT3.3658\", \"cluster: 65, component: Chinese Spring 1_001829_1994_m/z251.1387_RT3.3658\", null, null], \"type\": \"scatter\", \"uid\": \"22b1d0aa-dad5-474f-99e3-f82a26e6be41\", \"x\": [1355.0, 1355.0, 1370.0, 1370.0], \"xaxis\": \"x\", \"y\": [0.0, 0.8636363636363636, 0.8636363636363636, 0.5263157894736842], \"yaxis\": \"y\"}, {\"hoverinfo\": \"text\", \"marker\": {\"color\": \"rgb(0,116,217)\"}, \"mode\": \"lines\", \"text\": [null, null, null, null], \"type\": \"scatter\", \"uid\": \"7d62cb56-db72-4ae6-a4e1-dd3d1e5f0644\", \"x\": [1321.25, 1321.25, 1362.5, 1362.5], \"xaxis\": \"x\", \"y\": [0.5161290322580645, 0.9166666666666666, 0.9166666666666666, 0.8636363636363636], \"yaxis\": \"y\"}, {\"hoverinfo\": \"text\", \"marker\": {\"color\": \"rgb(0,116,217)\"}, \"mode\": \"lines\", \"text\": [null, null, null, null], \"type\": \"scatter\", \"uid\": \"577c661c-4b61-45c6-af70-ec852d1fc4e2\", \"x\": [1273.75, 1273.75, 1341.875, 1341.875], \"xaxis\": \"x\", \"y\": [0.6527777777777778, 0.9891304347826086, 0.9891304347826086, 0.9166666666666666], \"yaxis\": \"y\"}, {\"hoverinfo\": \"text\", \"marker\": {\"color\": \"rgb(0,116,217)\"}, \"mode\": \"lines\", \"text\": [\"cluster: 66, component: Chinese Spring 1_001829_2426_m/z194.0447_RT3.9542\", \"cluster: 66, component: Chinese Spring 1_001829_2426_m/z194.0447_RT3.9542\", \"cluster: 67, component: Cobra 3_001856_2051_m/z194.1174_RT3.6295\", \"cluster: 67, component: Cobra 3_001856_2051_m/z194.1174_RT3.6295\"], \"type\": \"scatter\", \"uid\": \"97d4b4b2-a730-4cf1-9cab-878342fefcc0\", \"x\": [1385.0, 1385.0, 1395.0, 1395.0], \"xaxis\": \"x\", \"y\": [0.0, 0.6206896551724138, 0.6206896551724138, 0.0], \"yaxis\": \"y\"}, {\"hoverinfo\": \"text\", \"marker\": {\"color\": \"rgb(255,65,54)\"}, \"mode\": \"lines\", \"text\": [\"cluster: 68, component: Chinese Spring 1_001829_3914_m/z194.0447_RT5.2381\", \"cluster: 68, component: Chinese Spring 1_001829_3914_m/z194.0447_RT5.2381\", \"cluster: 68, component: Chinese Spring 1_001829_4309_m/z212.0552_RT5.4788\", \"cluster: 68, component: Chinese Spring 1_001829_4309_m/z212.0552_RT5.4788\"], \"type\": \"scatter\", \"uid\": \"0cb8a232-c9ae-4714-bce7-5727ffd0feb7\", \"x\": [1415.0, 1415.0, 1425.0, 1425.0], \"xaxis\": \"x\", \"y\": [0.0, 0.35135135135135137, 0.35135135135135137, 0.0], \"yaxis\": \"y\"}, {\"hoverinfo\": \"text\", \"marker\": {\"color\": \"rgb(255,65,54)\"}, \"mode\": \"lines\", \"text\": [\"cluster: 68, component: Chinese Spring 1_001829_3643_m/z194.0447_RT4.9972\", \"cluster: 68, component: Chinese Spring 1_001829_3643_m/z194.0447_RT4.9972\", null, null], \"type\": \"scatter\", \"uid\": \"90fbfd98-9eac-4b62-a7e7-1c8f418da2e2\", \"x\": [1405.0, 1405.0, 1420.0, 1420.0], \"xaxis\": \"x\", \"y\": [0.0, 0.5573770491803278, 0.5573770491803278, 0.35135135135135137], \"yaxis\": \"y\"}, {\"hoverinfo\": \"text\", \"marker\": {\"color\": \"rgb(0,116,217)\"}, \"mode\": \"lines\", \"text\": [\"cluster: 69, component: Chinese Spring 1_001829_5341_m/z194.0447_RT6.6117\", \"cluster: 69, component: Chinese Spring 1_001829_5341_m/z194.0447_RT6.6117\", \"cluster: 70, component: Chinese Spring 1_001829_5342_m/z226.0708_RT6.6117\", \"cluster: 70, component: Chinese Spring 1_001829_5342_m/z226.0708_RT6.6117\"], \"type\": \"scatter\", \"uid\": \"75dbd841-c6b2-4a11-8ecc-6f8ca288abff\", \"x\": [1445.0, 1445.0, 1455.0, 1455.0], \"xaxis\": \"x\", \"y\": [0.0, 0.6285714285714286, 0.6285714285714286, 0.0], \"yaxis\": \"y\"}, {\"hoverinfo\": \"text\", \"marker\": {\"color\": \"rgb(0,116,217)\"}, \"mode\": \"lines\", \"text\": [\"cluster: 71, component: Chinese Spring 1_001829_2958_m/z212.0552_RT4.4445\", \"cluster: 71, component: Chinese Spring 1_001829_2958_m/z212.0552_RT4.4445\", null, null], \"type\": \"scatter\", \"uid\": \"7b1e2356-923d-4e87-ac95-418e1d608ed1\", \"x\": [1435.0, 1435.0, 1450.0, 1450.0], \"xaxis\": \"x\", \"y\": [0.0, 0.7, 0.7, 0.6285714285714286], \"yaxis\": \"y\"}, {\"hoverinfo\": \"text\", \"marker\": {\"color\": \"rgb(0,116,217)\"}, \"mode\": \"lines\", \"text\": [null, null, null, null], \"type\": \"scatter\", \"uid\": \"4892a9df-d337-4832-bd9c-062819ff9f3c\", \"x\": [1412.5, 1412.5, 1442.5, 1442.5], \"xaxis\": \"x\", \"y\": [0.5573770491803278, 0.8360655737704918, 0.8360655737704918, 0.7], \"yaxis\": \"y\"}, {\"hoverinfo\": \"text\", \"marker\": {\"color\": \"rgb(0,116,217)\"}, \"mode\": \"lines\", \"text\": [null, null, null, null], \"type\": \"scatter\", \"uid\": \"2119581e-038d-4004-96d4-ca091e934e54\", \"x\": [1390.0, 1390.0, 1427.5, 1427.5], \"xaxis\": \"x\", \"y\": [0.6206896551724138, 0.8548387096774194, 0.8548387096774194, 0.8360655737704918], \"yaxis\": \"y\"}, {\"hoverinfo\": \"text\", \"marker\": {\"color\": \"rgb(35,205,205)\"}, \"mode\": \"lines\", \"text\": [\"cluster: 72, component: Chinese Spring 1_001829_2262_m/z533.1549_RT3.7001\", \"cluster: 72, component: Chinese Spring 1_001829_2262_m/z533.1549_RT3.7001\", \"cluster: 72, component: Chinese Spring 1_001829_2618_m/z533.1546_RT4.1191\", \"cluster: 72, component: Chinese Spring 1_001829_2618_m/z533.1546_RT4.1191\"], \"type\": \"scatter\", \"uid\": \"6b83fe66-9b15-495d-a623-02c4d2dd8721\", \"x\": [1465.0, 1465.0, 1475.0, 1475.0], \"xaxis\": \"x\", \"y\": [0.0, 0.36764705882352944, 0.36764705882352944, 0.0], \"yaxis\": \"y\"}, {\"hoverinfo\": \"text\", \"marker\": {\"color\": \"rgb(35,205,205)\"}, \"mode\": \"lines\", \"text\": [\"cluster: 72, component: Chinese Spring 1_001829_2044_m/z533.1546_RT3.4461\", \"cluster: 72, component: Chinese Spring 1_001829_2044_m/z533.1546_RT3.4461\", \"cluster: 72, component: Chinese Spring 1_001829_3026_m/z533.1549_RT4.5203\", \"cluster: 72, component: Chinese Spring 1_001829_3026_m/z533.1549_RT4.5203\"], \"type\": \"scatter\", \"uid\": \"8d550ac0-ac91-4706-bbd5-f4a0bd7c45f4\", \"x\": [1485.0, 1485.0, 1495.0, 1495.0], \"xaxis\": \"x\", \"y\": [0.0, 0.45454545454545453, 0.45454545454545453, 0.0], \"yaxis\": \"y\"}, {\"hoverinfo\": \"text\", \"marker\": {\"color\": \"rgb(35,205,205)\"}, \"mode\": \"lines\", \"text\": [null, null, null, null], \"type\": \"scatter\", \"uid\": \"391d0af0-aef0-4ef4-9663-2729dbc1177e\", \"x\": [1470.0, 1470.0, 1490.0, 1490.0], \"xaxis\": \"x\", \"y\": [0.36764705882352944, 0.5, 0.5, 0.45454545454545453], \"yaxis\": \"y\"}, {\"hoverinfo\": \"text\", \"marker\": {\"color\": \"rgb(133,20,75)\"}, \"mode\": \"lines\", \"text\": [\"cluster: 73, component: Chinese Spring 1_001829_2030_m/z347.0907_RT3.4015\", \"cluster: 73, component: Chinese Spring 1_001829_2030_m/z347.0907_RT3.4015\", \"cluster: 73, component: Chinese Spring 2_001850_1485_m/z347.0907_RT2.1112\", \"cluster: 73, component: Chinese Spring 2_001850_1485_m/z347.0907_RT2.1112\"], \"type\": \"scatter\", \"uid\": \"7a1e4a72-aeb3-485f-8a72-30dab7f9b01f\", \"x\": [1505.0, 1505.0, 1515.0, 1515.0], \"xaxis\": \"x\", \"y\": [0.0, 0.5098039215686274, 0.5098039215686274, 0.0], \"yaxis\": \"y\"}, {\"hoverinfo\": \"text\", \"marker\": {\"color\": \"rgb(0,116,217)\"}, \"mode\": \"lines\", \"text\": [null, null, null, null], \"type\": \"scatter\", \"uid\": \"86ed3faf-3a56-4a98-8e40-0d1403f5aa95\", \"x\": [1480.0, 1480.0, 1510.0, 1510.0], \"xaxis\": \"x\", \"y\": [0.5, 0.8804347826086957, 0.8804347826086957, 0.5098039215686274], \"yaxis\": \"y\"}, {\"hoverinfo\": \"text\", \"marker\": {\"color\": \"rgb(0,116,217)\"}, \"mode\": \"lines\", \"text\": [null, null, null, null], \"type\": \"scatter\", \"uid\": \"fbb01c6c-0b75-471d-ab7f-234505599cd3\", \"x\": [1408.75, 1408.75, 1495.0, 1495.0], \"xaxis\": \"x\", \"y\": [0.8548387096774194, 0.9857142857142858, 0.9857142857142858, 0.8804347826086957], \"yaxis\": \"y\"}, {\"hoverinfo\": \"text\", \"marker\": {\"color\": \"rgb(0,116,217)\"}, \"mode\": \"lines\", \"text\": [\"cluster: 74, component: Chinese Spring 1_001829_1626_m/z194.1174_RT2.2515\", \"cluster: 74, component: Chinese Spring 1_001829_1626_m/z194.1174_RT2.2515\", \"cluster: 75, component: Cobra 2_001852_2090_m/z194.1174_RT4.0473\", \"cluster: 75, component: Cobra 2_001852_2090_m/z194.1174_RT4.0473\"], \"type\": \"scatter\", \"uid\": \"320fab35-aca9-4ab2-80e7-1e48b97f9c77\", \"x\": [1525.0, 1525.0, 1535.0, 1535.0], \"xaxis\": \"x\", \"y\": [0.0, 0.7142857142857143, 0.7142857142857143, 0.0], \"yaxis\": \"y\"}, {\"hoverinfo\": \"text\", \"marker\": {\"color\": \"rgb(255,220,0)\"}, \"mode\": \"lines\", \"text\": [\"cluster: 76, component: Chinese Spring 1_001829_6439_m/z320.2946_RT8.8987\", \"cluster: 76, component: Chinese Spring 1_001829_6439_m/z320.2946_RT8.8987\", \"cluster: 76, component: Chinese Spring 1_001829_6466_m/z320.2948_RT8.9700\", \"cluster: 76, component: Chinese Spring 1_001829_6466_m/z320.2948_RT8.9700\"], \"type\": \"scatter\", \"uid\": \"3dac413f-b64b-4ad7-ade6-cad699e3d65c\", \"x\": [1585.0, 1585.0, 1595.0, 1595.0], \"xaxis\": \"x\", \"y\": [0.0, 0.0, 0.0, 0.0], \"yaxis\": \"y\"}, {\"hoverinfo\": \"text\", \"marker\": {\"color\": \"rgb(255,220,0)\"}, \"mode\": \"lines\", \"text\": [\"cluster: 76, component: Chinese Spring 1_001829_6404_m/z320.2946_RT8.8274\", \"cluster: 76, component: Chinese Spring 1_001829_6404_m/z320.2946_RT8.8274\", null, null], \"type\": \"scatter\", \"uid\": \"9323d275-6431-400b-84f1-db4ef4db59d1\", \"x\": [1575.0, 1575.0, 1590.0, 1590.0], \"xaxis\": \"x\", \"y\": [0.0, 0.4444444444444444, 0.4444444444444444, 0.0], \"yaxis\": \"y\"}, {\"hoverinfo\": \"text\", \"marker\": {\"color\": \"rgb(255,220,0)\"}, \"mode\": \"lines\", \"text\": [\"cluster: 76, component: Chinese Spring 1_001829_6510_m/z320.2948_RT9.0458\", \"cluster: 76, component: Chinese Spring 1_001829_6510_m/z320.2948_RT9.0458\", null, null], \"type\": \"scatter\", \"uid\": \"6ca09155-b65d-45a6-bc48-ef5c4b6c7b06\", \"x\": [1565.0, 1565.0, 1582.5, 1582.5], \"xaxis\": \"x\", \"y\": [0.0, 0.5833333333333334, 0.5833333333333334, 0.4444444444444444], \"yaxis\": \"y\"}, {\"hoverinfo\": \"text\", \"marker\": {\"color\": \"rgb(0,116,217)\"}, \"mode\": \"lines\", \"text\": [\"cluster: 77, component: Chinese Spring 1_001829_7255_m/z320.2946_RT10.6470\", \"cluster: 77, component: Chinese Spring 1_001829_7255_m/z320.2946_RT10.6470\", null, null], \"type\": \"scatter\", \"uid\": \"33be9160-6d84-41c2-be97-c248ecf9fb36\", \"x\": [1555.0, 1555.0, 1573.75, 1573.75], \"xaxis\": \"x\", \"y\": [0.0, 0.7857142857142857, 0.7857142857142857, 0.5833333333333334], \"yaxis\": \"y\"}, {\"hoverinfo\": \"text\", \"marker\": {\"color\": \"rgb(0,116,217)\"}, \"mode\": \"lines\", \"text\": [\"cluster: 78, component: Chinese Spring 1_001829_6552_m/z320.2946_RT9.1394\", \"cluster: 78, component: Chinese Spring 1_001829_6552_m/z320.2946_RT9.1394\", null, null], \"type\": \"scatter\", \"uid\": \"4df2b660-4edb-4005-b50c-f57d6b90e792\", \"x\": [1545.0, 1545.0, 1564.375, 1564.375], \"xaxis\": \"x\", \"y\": [0.0, 0.9393939393939394, 0.9393939393939394, 0.7857142857142857], \"yaxis\": \"y\"}, {\"hoverinfo\": \"text\", \"marker\": {\"color\": \"rgb(0,116,217)\"}, \"mode\": \"lines\", \"text\": [null, null, null, null], \"type\": \"scatter\", \"uid\": \"c384f909-23c1-4849-abb4-bb9fb158e34e\", \"x\": [1530.0, 1530.0, 1554.6875, 1554.6875], \"xaxis\": \"x\", \"y\": [0.7142857142857143, 0.9523809523809523, 0.9523809523809523, 0.9393939393939394], \"yaxis\": \"y\"}, {\"hoverinfo\": \"text\", \"marker\": {\"color\": \"rgb(0,116,217)\"}, \"mode\": \"lines\", \"text\": [\"cluster: 79, component: Chinese Spring 1_001829_0724_m/z241.1544_RT0.7890\", \"cluster: 79, component: Chinese Spring 1_001829_0724_m/z241.1544_RT0.7890\", \"cluster: 80, component: Chinese Spring 1_001829_0785_m/z241.1544_RT0.8781\", \"cluster: 80, component: Chinese Spring 1_001829_0785_m/z241.1544_RT0.8781\"], \"type\": \"scatter\", \"uid\": \"4c502356-3476-43fa-ab0c-aae2ead61a38\", \"x\": [1605.0, 1605.0, 1615.0, 1615.0], \"xaxis\": \"x\", \"y\": [0.0, 0.6363636363636364, 0.6363636363636364, 0.0], \"yaxis\": \"y\"}, {\"hoverinfo\": \"text\", \"marker\": {\"color\": \"rgb(40,35,35)\"}, \"mode\": \"lines\", \"text\": [\"cluster: 81, component: Chinese Spring 1_001829_6093_m/z332.2583_RT8.1097\", \"cluster: 81, component: Chinese Spring 1_001829_6093_m/z332.2583_RT8.1097\", \"cluster: 81, component: Chinese Spring 1_001829_6127_m/z332.2584_RT8.1989\", \"cluster: 81, component: Chinese Spring 1_001829_6127_m/z332.2584_RT8.1989\"], \"type\": \"scatter\", \"uid\": \"dfbcff55-bffe-4002-8feb-30f511a3299c\", \"x\": [1645.0, 1645.0, 1655.0, 1655.0], \"xaxis\": \"x\", \"y\": [0.0, 0.0, 0.0, 0.0], \"yaxis\": \"y\"}, {\"hoverinfo\": \"text\", \"marker\": {\"color\": \"rgb(0,116,217)\"}, \"mode\": \"lines\", \"text\": [\"cluster: 82, component: Chinese Spring 1_001829_6229_m/z332.2583_RT8.4886\", \"cluster: 82, component: Chinese Spring 1_001829_6229_m/z332.2583_RT8.4886\", null, null], \"type\": \"scatter\", \"uid\": \"f845288f-f9c5-48dc-9440-f1a5e8324f9a\", \"x\": [1635.0, 1635.0, 1650.0, 1650.0], \"xaxis\": \"x\", \"y\": [0.0, 0.6829268292682927, 0.6829268292682927, 0.0], \"yaxis\": \"y\"}, {\"hoverinfo\": \"text\", \"marker\": {\"color\": \"rgb(0,116,217)\"}, \"mode\": \"lines\", \"text\": [\"cluster: 83, component: Chinese Spring 1_001829_5942_m/z332.2584_RT7.8067\", \"cluster: 83, component: Chinese Spring 1_001829_5942_m/z332.2584_RT7.8067\", null, null], \"type\": \"scatter\", \"uid\": \"d3a3a51a-3fbc-4b53-bd31-d1d55880be34\", \"x\": [1625.0, 1625.0, 1642.5, 1642.5], \"xaxis\": \"x\", \"y\": [0.0, 0.8, 0.8, 0.6829268292682927], \"yaxis\": \"y\"}, {\"hoverinfo\": \"text\", \"marker\": {\"color\": \"rgb(0,116,217)\"}, \"mode\": \"lines\", \"text\": [null, null, null, null], \"type\": \"scatter\", \"uid\": \"0197033c-7314-45a0-aad9-982865a41fe9\", \"x\": [1610.0, 1610.0, 1633.75, 1633.75], \"xaxis\": \"x\", \"y\": [0.6363636363636364, 0.9666666666666667, 0.9666666666666667, 0.8], \"yaxis\": \"y\"}, {\"hoverinfo\": \"text\", \"marker\": {\"color\": \"rgb(0,116,217)\"}, \"mode\": \"lines\", \"text\": [null, null, null, null], \"type\": \"scatter\", \"uid\": \"8691cb6e-3327-45b8-8686-f38b743ba230\", \"x\": [1542.34375, 1542.34375, 1621.875, 1621.875], \"xaxis\": \"x\", \"y\": [0.9523809523809523, 0.9772727272727273, 0.9772727272727273, 0.9666666666666667], \"yaxis\": \"y\"}, {\"hoverinfo\": \"text\", \"marker\": {\"color\": \"rgb(61,153,112)\"}, \"mode\": \"lines\", \"text\": [\"cluster: 84, component: Chinese Spring 1_001829_1633_m/z246.1446_RT2.2783\", \"cluster: 84, component: Chinese Spring 1_001829_1633_m/z246.1446_RT2.2783\", \"cluster: 84, component: Chinese Spring 1_001829_1708_m/z247.1286_RT2.6482\", \"cluster: 84, component: Chinese Spring 1_001829_1708_m/z247.1286_RT2.6482\"], \"type\": \"scatter\", \"uid\": \"86f20a16-4c1a-4369-9d06-ca995207482a\", \"x\": [1685.0, 1685.0, 1695.0, 1695.0], \"xaxis\": \"x\", \"y\": [0.0, 0.5, 0.5, 0.0], \"yaxis\": \"y\"}, {\"hoverinfo\": \"text\", \"marker\": {\"color\": \"rgb(255,65,54)\"}, \"mode\": \"lines\", \"text\": [\"cluster: 85, component: Chinese Spring 1_001829_1642_m/z260.1602_RT2.3719\", \"cluster: 85, component: Chinese Spring 1_001829_1642_m/z260.1602_RT2.3719\", \"cluster: 85, component: Chinese Spring 2_001850_1603_m/z260.1603_RT2.4945\", \"cluster: 85, component: Chinese Spring 2_001850_1603_m/z260.1603_RT2.4945\"], \"type\": \"scatter\", \"uid\": \"22bba69a-8cdf-4520-9543-34691bcfcd26\", \"x\": [1705.0, 1705.0, 1715.0, 1715.0], \"xaxis\": \"x\", \"y\": [0.0, 0.2857142857142857, 0.2857142857142857, 0.0], \"yaxis\": \"y\"}, {\"hoverinfo\": \"text\", \"marker\": {\"color\": \"rgb(35,205,205)\"}, \"mode\": \"lines\", \"text\": [\"cluster: 86, component: Chinese Spring 1_001829_1564_m/z233.1494_RT2.1044\", \"cluster: 86, component: Chinese Spring 1_001829_1564_m/z233.1494_RT2.1044\", \"cluster: 86, component: Chinese Spring 5_001887_1443_m/z233.1494_RT2.2226\", \"cluster: 86, component: Chinese Spring 5_001887_1443_m/z233.1494_RT2.2226\"], \"type\": \"scatter\", \"uid\": \"f9ad5d75-ad90-4f5a-8d07-64b23e30d60e\", \"x\": [1735.0, 1735.0, 1745.0, 1745.0], \"xaxis\": \"x\", \"y\": [0.0, 0.2631578947368421, 0.2631578947368421, 0.0], \"yaxis\": \"y\"}, {\"hoverinfo\": \"text\", \"marker\": {\"color\": \"rgb(35,205,205)\"}, \"mode\": \"lines\", \"text\": [\"cluster: 86, component: Chinese Spring 1_001829_1656_m/z233.1494_RT2.5234\", \"cluster: 86, component: Chinese Spring 1_001829_1656_m/z233.1494_RT2.5234\", null, null], \"type\": \"scatter\", \"uid\": \"b84adc22-67c7-467d-adac-ef5fe86833f3\", \"x\": [1725.0, 1725.0, 1740.0, 1740.0], \"xaxis\": \"x\", \"y\": [0.0, 0.5416666666666666, 0.5416666666666666, 0.2631578947368421], \"yaxis\": \"y\"}, {\"hoverinfo\": \"text\", \"marker\": {\"color\": \"rgb(0,116,217)\"}, \"mode\": \"lines\", \"text\": [null, null, null, null], \"type\": \"scatter\", \"uid\": \"c9b1b6aa-f4d0-437b-a04c-1849e7d0f47d\", \"x\": [1710.0, 1710.0, 1732.5, 1732.5], \"xaxis\": \"x\", \"y\": [0.2857142857142857, 0.8648648648648649, 0.8648648648648649, 0.5416666666666666], \"yaxis\": \"y\"}, {\"hoverinfo\": \"text\", \"marker\": {\"color\": \"rgb(0,116,217)\"}, \"mode\": \"lines\", \"text\": [null, null, null, null], \"type\": \"scatter\", \"uid\": \"94f1c6f7-3888-48d0-915b-fbc704e3c513\", \"x\": [1690.0, 1690.0, 1721.25, 1721.25], \"xaxis\": \"x\", \"y\": [0.5, 0.9574468085106383, 0.9574468085106383, 0.8648648648648649], \"yaxis\": \"y\"}, {\"hoverinfo\": \"text\", \"marker\": {\"color\": \"rgb(0,116,217)\"}, \"mode\": \"lines\", \"text\": [\"cluster: 87, component: Chinese Spring 1_001829_3318_m/z132.0444_RT4.7743\", \"cluster: 87, component: Chinese Spring 1_001829_3318_m/z132.0444_RT4.7743\", null, null], \"type\": \"scatter\", \"uid\": \"7e4463db-7fb1-4aa3-a81a-0c1b4d76fb9e\", \"x\": [1675.0, 1675.0, 1705.625, 1705.625], \"xaxis\": \"x\", \"y\": [0.0, 0.98, 0.98, 0.9574468085106383], \"yaxis\": \"y\"}, {\"hoverinfo\": \"text\", \"marker\": {\"color\": \"rgb(0,116,217)\"}, \"mode\": \"lines\", \"text\": [\"cluster: 88, component: Chinese Spring 1_001829_0877_m/z260.1603_RT0.9851\", \"cluster: 88, component: Chinese Spring 1_001829_0877_m/z260.1603_RT0.9851\", null, null], \"type\": \"scatter\", \"uid\": \"5a876fec-3640-4d6d-9ad0-8e36c03f36ef\", \"x\": [1665.0, 1665.0, 1690.3125, 1690.3125], \"xaxis\": \"x\", \"y\": [0.0, 0.9846153846153847, 0.9846153846153847, 0.98], \"yaxis\": \"y\"}, {\"hoverinfo\": \"text\", \"marker\": {\"color\": \"rgb(0,116,217)\"}, \"mode\": \"lines\", \"text\": [\"cluster: 89, component: Chinese Spring 1_001829_1393_m/z221.1284_RT1.6494\", \"cluster: 89, component: Chinese Spring 1_001829_1393_m/z221.1284_RT1.6494\", \"cluster: 90, component: Chinese Spring 2_001850_1669_m/z237.1232_RT2.8467\", \"cluster: 90, component: Chinese Spring 2_001850_1669_m/z237.1232_RT2.8467\"], \"type\": \"scatter\", \"uid\": \"8144264c-2951-46af-b64e-c52868abf363\", \"x\": [1755.0, 1755.0, 1765.0, 1765.0], \"xaxis\": \"x\", \"y\": [0.0, 0.7142857142857143, 0.7142857142857143, 0.0], \"yaxis\": \"y\"}, {\"hoverinfo\": \"text\", \"marker\": {\"color\": \"rgb(0,116,217)\"}, \"mode\": \"lines\", \"text\": [\"cluster: 91, component: Chinese Spring 1_001829_0821_m/z237.1231_RT0.9093\", \"cluster: 91, component: Chinese Spring 1_001829_0821_m/z237.1231_RT0.9093\", \"cluster: 92, component: Chinese Spring 1_001829_2218_m/z237.1231_RT3.6645\", \"cluster: 92, component: Chinese Spring 1_001829_2218_m/z237.1231_RT3.6645\"], \"type\": \"scatter\", \"uid\": \"8eabe978-f09f-4eeb-ae3d-7318b36c4eed\", \"x\": [1775.0, 1775.0, 1785.0, 1785.0], \"xaxis\": \"x\", \"y\": [0.0, 0.9444444444444444, 0.9444444444444444, 0.0], \"yaxis\": \"y\"}, {\"hoverinfo\": \"text\", \"marker\": {\"color\": \"rgb(0,116,217)\"}, \"mode\": \"lines\", \"text\": [null, null, null, null], \"type\": \"scatter\", \"uid\": \"cc954060-f50c-4ad2-a468-86836a1ee490\", \"x\": [1760.0, 1760.0, 1780.0, 1780.0], \"xaxis\": \"x\", \"y\": [0.7142857142857143, 0.9761904761904762, 0.9761904761904762, 0.9444444444444444], \"yaxis\": \"y\"}, {\"hoverinfo\": \"text\", \"marker\": {\"color\": \"rgb(133,20,75)\"}, \"mode\": \"lines\", \"text\": [\"cluster: 93, component: Chinese Spring 1_001829_3925_m/z222.0703_RT5.2470\", \"cluster: 93, component: Chinese Spring 1_001829_3925_m/z222.0703_RT5.2470\", \"cluster: 93, component: Chinese Spring 1_001829_6287_m/z250.1014_RT8.6045\", \"cluster: 93, component: Chinese Spring 1_001829_6287_m/z250.1014_RT8.6045\"], \"type\": \"scatter\", \"uid\": \"0f0d88ad-0c79-4bb6-b8f7-0c669e48a4a6\", \"x\": [1825.0, 1825.0, 1835.0, 1835.0], \"xaxis\": \"x\", \"y\": [0.0, 0.5081967213114754, 0.5081967213114754, 0.0], \"yaxis\": \"y\"}, {\"hoverinfo\": \"text\", \"marker\": {\"color\": \"rgb(0,116,217)\"}, \"mode\": \"lines\", \"text\": [\"cluster: 94, component: Chinese Spring 1_001829_5742_m/z268.5936_RT7.4233\", \"cluster: 94, component: Chinese Spring 1_001829_5742_m/z268.5936_RT7.4233\", null, null], \"type\": \"scatter\", \"uid\": \"22d34907-ba5d-4b9c-bf96-cf2ae00c3403\", \"x\": [1815.0, 1815.0, 1830.0, 1830.0], \"xaxis\": \"x\", \"y\": [0.0, 0.6923076923076923, 0.6923076923076923, 0.5081967213114754], \"yaxis\": \"y\"}, {\"hoverinfo\": \"text\", \"marker\": {\"color\": \"rgb(255,220,0)\"}, \"mode\": \"lines\", \"text\": [\"cluster: 95, component: Chinese Spring 1_001829_2484_m/z247.0598_RT4.0255\", \"cluster: 95, component: Chinese Spring 1_001829_2484_m/z247.0598_RT4.0255\", \"cluster: 95, component: Chinese Spring 1_001829_2604_m/z247.0598_RT4.1147\", \"cluster: 95, component: Chinese Spring 1_001829_2604_m/z247.0598_RT4.1147\"], \"type\": \"scatter\", \"uid\": \"86b5dc87-df99-4882-9858-6a757678e06d\", \"x\": [1845.0, 1845.0, 1855.0, 1855.0], \"xaxis\": \"x\", \"y\": [0.0, 0.35294117647058826, 0.35294117647058826, 0.0], \"yaxis\": \"y\"}, {\"hoverinfo\": \"text\", \"marker\": {\"color\": \"rgb(0,116,217)\"}, \"mode\": \"lines\", \"text\": [\"cluster: 96, component: Chinese Spring 1_001829_1873_m/z212.0390_RT3.0271\", \"cluster: 96, component: Chinese Spring 1_001829_1873_m/z212.0390_RT3.0271\", \"cluster: 97, component: Chinese Spring 1_001829_5506_m/z214.5649_RT6.8301\", \"cluster: 97, component: Chinese Spring 1_001829_5506_m/z214.5649_RT6.8301\"], \"type\": \"scatter\", \"uid\": \"8b1797fb-68eb-45a1-89d4-696191ef79ab\", \"x\": [1875.0, 1875.0, 1885.0, 1885.0], \"xaxis\": \"x\", \"y\": [0.0, 0.7777777777777778, 0.7777777777777778, 0.0], \"yaxis\": \"y\"}, {\"hoverinfo\": \"text\", \"marker\": {\"color\": \"rgb(0,116,217)\"}, \"mode\": \"lines\", \"text\": [\"cluster: 98, component: Chinese Spring 1_001829_3431_m/z219.0467_RT4.8501\", \"cluster: 98, component: Chinese Spring 1_001829_3431_m/z219.0467_RT4.8501\", null, null], \"type\": \"scatter\", \"uid\": \"1c8065bb-79f5-45a6-b91d-0f3d16614303\", \"x\": [1865.0, 1865.0, 1880.0, 1880.0], \"xaxis\": \"x\", \"y\": [0.0, 0.8125, 0.8125, 0.7777777777777778], \"yaxis\": \"y\"}, {\"hoverinfo\": \"text\", \"marker\": {\"color\": \"rgb(0,116,217)\"}, \"mode\": \"lines\", \"text\": [null, null, null, null], \"type\": \"scatter\", \"uid\": \"6fd9f82a-3550-4535-92a4-2073041d61b8\", \"x\": [1850.0, 1850.0, 1872.5, 1872.5], \"xaxis\": \"x\", \"y\": [0.35294117647058826, 0.8571428571428571, 0.8571428571428571, 0.8125], \"yaxis\": \"y\"}, {\"hoverinfo\": \"text\", \"marker\": {\"color\": \"rgb(0,116,217)\"}, \"mode\": \"lines\", \"text\": [null, null, null, null], \"type\": \"scatter\", \"uid\": \"f00e10d3-4f9a-42cb-9363-0ad4eba07978\", \"x\": [1822.5, 1822.5, 1861.25, 1861.25], \"xaxis\": \"x\", \"y\": [0.6923076923076923, 0.9178082191780822, 0.9178082191780822, 0.8571428571428571], \"yaxis\": \"y\"}, {\"hoverinfo\": \"text\", \"marker\": {\"color\": \"rgb(0,116,217)\"}, \"mode\": \"lines\", \"text\": [\"cluster: 99, component: Chinese Spring 1_001829_0924_m/z214.5102_RT1.0029\", \"cluster: 99, component: Chinese Spring 1_001829_0924_m/z214.5102_RT1.0029\", null, null], \"type\": \"scatter\", \"uid\": \"09e2d10d-4bd1-4e87-bfd1-e54247f91e68\", \"x\": [1805.0, 1805.0, 1841.875, 1841.875], \"xaxis\": \"x\", \"y\": [0.0, 0.9534883720930233, 0.9534883720930233, 0.9178082191780822], \"yaxis\": \"y\"}, {\"hoverinfo\": \"text\", \"marker\": {\"color\": \"rgb(0,116,217)\"}, \"mode\": \"lines\", \"text\": [\"cluster: 100, component: Chinese Spring 1_001829_4649_m/z625.1763_RT5.7730\", \"cluster: 100, component: Chinese Spring 1_001829_4649_m/z625.1763_RT5.7730\", \"cluster: 101, component: Chinese Spring 1_001829_4877_m/z463.1232_RT5.9646\", \"cluster: 101, component: Chinese Spring 1_001829_4877_m/z463.1232_RT5.9646\"], \"type\": \"scatter\", \"uid\": \"ee77e7a6-4d6b-4b42-9f6e-676c8d83c486\", \"x\": [1905.0, 1905.0, 1915.0, 1915.0], \"xaxis\": \"x\", \"y\": [0.0, 0.6774193548387096, 0.6774193548387096, 0.0], \"yaxis\": \"y\"}, {\"hoverinfo\": \"text\", \"marker\": {\"color\": \"rgb(0,116,217)\"}, \"mode\": \"lines\", \"text\": [\"cluster: 102, component: Chinese Spring 1_001829_3870_m/z595.1657_RT5.1846\", \"cluster: 102, component: Chinese Spring 1_001829_3870_m/z595.1657_RT5.1846\", null, null], \"type\": \"scatter\", \"uid\": \"39d649e0-2440-4587-916f-9b4e44b78fe6\", \"x\": [1895.0, 1895.0, 1910.0, 1910.0], \"xaxis\": \"x\", \"y\": [0.0, 0.8947368421052632, 0.8947368421052632, 0.6774193548387096], \"yaxis\": \"y\"}, {\"hoverinfo\": \"text\", \"marker\": {\"color\": \"rgb(40,35,35)\"}, \"mode\": \"lines\", \"text\": [\"cluster: 103, component: Chinese Spring 1_001829_0770_m/z182.0811_RT0.8558\", \"cluster: 103, component: Chinese Spring 1_001829_0770_m/z182.0811_RT0.8558\", \"cluster: 103, component: Chinese Spring 1_001829_0839_m/z182.0811_RT0.9405\", \"cluster: 103, component: Chinese Spring 1_001829_0839_m/z182.0811_RT0.9405\"], \"type\": \"scatter\", \"uid\": \"db047849-a9d1-4907-a687-050011fb4d43\", \"x\": [1925.0, 1925.0, 1935.0, 1935.0], \"xaxis\": \"x\", \"y\": [0.0, 0.4375, 0.4375, 0.0], \"yaxis\": \"y\"}, {\"hoverinfo\": \"text\", \"marker\": {\"color\": \"rgb(61,153,112)\"}, \"mode\": \"lines\", \"text\": [\"cluster: 104, component: Chinese Spring 1_001829_3666_m/z212.0552_RT5.0017\", \"cluster: 104, component: Chinese Spring 1_001829_3666_m/z212.0552_RT5.0017\", \"cluster: 104, component: Chinese Spring 1_001829_4302_m/z194.0447_RT5.4788\", \"cluster: 104, component: Chinese Spring 1_001829_4302_m/z194.0447_RT5.4788\"], \"type\": \"scatter\", \"uid\": \"d3c551fd-7970-4eac-aa3d-b1ed9b6140d1\", \"x\": [1945.0, 1945.0, 1955.0, 1955.0], \"xaxis\": \"x\", \"y\": [0.0, 0.5370370370370371, 0.5370370370370371, 0.0], \"yaxis\": \"y\"}, {\"hoverinfo\": \"text\", \"marker\": {\"color\": \"rgb(0,116,217)\"}, \"mode\": \"lines\", \"text\": [null, null, null, null], \"type\": \"scatter\", \"uid\": \"6aa99431-f521-4072-9b4c-3b4683c4c5ff\", \"x\": [1930.0, 1930.0, 1950.0, 1950.0], \"xaxis\": \"x\", \"y\": [0.4375, 0.921875, 0.921875, 0.5370370370370371], \"yaxis\": \"y\"}, {\"hoverinfo\": \"text\", \"marker\": {\"color\": \"rgb(0,116,217)\"}, \"mode\": \"lines\", \"text\": [\"cluster: 105, component: Chinese Spring 1_001829_2440_m/z333.1520_RT3.9631\", \"cluster: 105, component: Chinese Spring 1_001829_2440_m/z333.1520_RT3.9631\", \"cluster: 106, component: Chinese Spring 1_001829_2563_m/z333.1519_RT4.0835\", \"cluster: 106, component: Chinese Spring 1_001829_2563_m/z333.1519_RT4.0835\"], \"type\": \"scatter\", \"uid\": \"56540c92-8e92-40a8-a5fe-3116341321a6\", \"x\": [1965.0, 1965.0, 1975.0, 1975.0], \"xaxis\": \"x\", \"y\": [0.0, 0.8461538461538461, 0.8461538461538461, 0.0], \"yaxis\": \"y\"}, {\"hoverinfo\": \"text\", \"marker\": {\"color\": \"rgb(0,116,217)\"}, \"mode\": \"lines\", \"text\": [\"cluster: 107, component: Chinese Spring 1_001829_1519_m/z319.1363_RT1.9258\", \"cluster: 107, component: Chinese Spring 1_001829_1519_m/z319.1363_RT1.9258\", \"cluster: 108, component: Chinese Spring 1_001829_1645_m/z319.1363_RT2.3986\", \"cluster: 108, component: Chinese Spring 1_001829_1645_m/z319.1363_RT2.3986\"], \"type\": \"scatter\", \"uid\": \"bb4d85b7-d115-4574-a322-4695620a180c\", \"x\": [1985.0, 1985.0, 1995.0, 1995.0], \"xaxis\": \"x\", \"y\": [0.0, 0.75, 0.75, 0.0], \"yaxis\": \"y\"}, {\"hoverinfo\": \"text\", \"marker\": {\"color\": \"rgb(255,65,54)\"}, \"mode\": \"lines\", \"text\": [\"cluster: 109, component: Chinese Spring 1_001829_1084_m/z229.1545_RT1.0920\", \"cluster: 109, component: Chinese Spring 1_001829_1084_m/z229.1545_RT1.0920\", \"cluster: 109, component: Chinese Spring 1_001829_1122_m/z229.1545_RT1.1143\", \"cluster: 109, component: Chinese Spring 1_001829_1122_m/z229.1545_RT1.1143\"], \"type\": \"scatter\", \"uid\": \"55475016-7cc2-4b48-b0a8-46b5dbdf7b91\", \"x\": [2035.0, 2035.0, 2045.0, 2045.0], \"xaxis\": \"x\", \"y\": [0.0, 0.0, 0.0, 0.0], \"yaxis\": \"y\"}, {\"hoverinfo\": \"text\", \"marker\": {\"color\": \"rgb(255,65,54)\"}, \"mode\": \"lines\", \"text\": [\"cluster: 109, component: Chinese Spring 1_001829_0683_m/z229.1545_RT0.7845\", \"cluster: 109, component: Chinese Spring 1_001829_0683_m/z229.1545_RT0.7845\", null, null], \"type\": \"scatter\", \"uid\": \"d21d6a48-e13d-4c32-9c6e-25404197766c\", \"x\": [2025.0, 2025.0, 2040.0, 2040.0], \"xaxis\": \"x\", \"y\": [0.0, 0.38461538461538464, 0.38461538461538464, 0.0], \"yaxis\": \"y\"}, {\"hoverinfo\": \"text\", \"marker\": {\"color\": \"rgb(0,116,217)\"}, \"mode\": \"lines\", \"text\": [\"cluster: 110, component: Chinese Spring 1_001829_0764_m/z229.1545_RT0.8469\", \"cluster: 110, component: Chinese Spring 1_001829_0764_m/z229.1545_RT0.8469\", null, null], \"type\": \"scatter\", \"uid\": \"2e906b44-d97d-4d60-aa31-b0ef56cb7523\", \"x\": [2015.0, 2015.0, 2032.5, 2032.5], \"xaxis\": \"x\", \"y\": [0.0, 0.875, 0.875, 0.38461538461538464], \"yaxis\": \"y\"}, {\"hoverinfo\": \"text\", \"marker\": {\"color\": \"rgb(0,116,217)\"}, \"mode\": \"lines\", \"text\": [\"cluster: 111, component: Chinese Spring 1_001829_0094_m/z265.0154_RT0.5705\", \"cluster: 111, component: Chinese Spring 1_001829_0094_m/z265.0154_RT0.5705\", null, null], \"type\": \"scatter\", \"uid\": \"dd29b4b1-4504-4917-972b-ab136d55378b\", \"x\": [2005.0, 2005.0, 2023.75, 2023.75], \"xaxis\": \"x\", \"y\": [0.0, 1.0, 1.0, 0.875], \"yaxis\": \"y\"}, {\"hoverinfo\": \"text\", \"marker\": {\"color\": \"rgb(0,116,217)\"}, \"mode\": \"lines\", \"text\": [null, null, null, null], \"type\": \"scatter\", \"uid\": \"43f58955-7ccb-4ef3-8546-0cabc3731167\", \"x\": [1990.0, 1990.0, 2014.375, 2014.375], \"xaxis\": \"x\", \"y\": [0.75, 1.0, 1.0, 1.0], \"yaxis\": \"y\"}, {\"hoverinfo\": \"text\", \"marker\": {\"color\": \"rgb(0,116,217)\"}, \"mode\": \"lines\", \"text\": [null, null, null, null], \"type\": \"scatter\", \"uid\": \"b2b9f40c-b28b-4b48-ad86-89b1af12e2cb\", \"x\": [1970.0, 1970.0, 2002.1875, 2002.1875], \"xaxis\": \"x\", \"y\": [0.8461538461538461, 1.0, 1.0, 1.0], \"yaxis\": \"y\"}, {\"hoverinfo\": \"text\", \"marker\": {\"color\": \"rgb(0,116,217)\"}, \"mode\": \"lines\", \"text\": [null, null, null, null], \"type\": \"scatter\", \"uid\": \"bf70bb35-8c74-4be5-9ecc-d0ded1677ca7\", \"x\": [1940.0, 1940.0, 1986.09375, 1986.09375], \"xaxis\": \"x\", \"y\": [0.921875, 1.0, 1.0, 1.0], \"yaxis\": \"y\"}, {\"hoverinfo\": \"text\", \"marker\": {\"color\": \"rgb(0,116,217)\"}, \"mode\": \"lines\", \"text\": [null, null, null, null], \"type\": \"scatter\", \"uid\": \"663c8501-0117-457e-8cd3-9163cdc8d8ee\", \"x\": [1902.5, 1902.5, 1963.046875, 1963.046875], \"xaxis\": \"x\", \"y\": [0.8947368421052632, 1.0, 1.0, 1.0], \"yaxis\": \"y\"}, {\"hoverinfo\": \"text\", \"marker\": {\"color\": \"rgb(0,116,217)\"}, \"mode\": \"lines\", \"text\": [null, null, null, null], \"type\": \"scatter\", \"uid\": \"725b44be-65ff-435e-b8f4-fa87dfcb12f4\", \"x\": [1823.4375, 1823.4375, 1932.7734375, 1932.7734375], \"xaxis\": \"x\", \"y\": [0.9534883720930233, 1.0, 1.0, 1.0], \"yaxis\": \"y\"}, {\"hoverinfo\": \"text\", \"marker\": {\"color\": \"rgb(0,116,217)\"}, \"mode\": \"lines\", \"text\": [\"cluster: 112, component: Chinese Spring 1_001829_8795_m/z797.5175_RT14.4412\", \"cluster: 112, component: Chinese Spring 1_001829_8795_m/z797.5175_RT14.4412\", null, null], \"type\": \"scatter\", \"uid\": \"6f48689c-5d85-4673-aae7-ccf44ab505ed\", \"x\": [1795.0, 1795.0, 1878.10546875, 1878.10546875], \"xaxis\": \"x\", \"y\": [0.0, 1.0, 1.0, 1.0], \"yaxis\": \"y\"}, {\"hoverinfo\": \"text\", \"marker\": {\"color\": \"rgb(0,116,217)\"}, \"mode\": \"lines\", \"text\": [null, null, null, null], \"type\": \"scatter\", \"uid\": \"e4d7bf94-1dbd-4ac5-8f6c-d9920caed9f4\", \"x\": [1770.0, 1770.0, 1836.552734375, 1836.552734375], \"xaxis\": \"x\", \"y\": [0.9761904761904762, 1.0, 1.0, 1.0], \"yaxis\": \"y\"}, {\"hoverinfo\": \"text\", \"marker\": {\"color\": \"rgb(0,116,217)\"}, \"mode\": \"lines\", \"text\": [null, null, null, null], \"type\": \"scatter\", \"uid\": \"ffe8cbeb-688a-4b3a-b29d-608f2ecd8872\", \"x\": [1677.65625, 1677.65625, 1803.2763671875, 1803.2763671875], \"xaxis\": \"x\", \"y\": [0.9846153846153847, 1.0, 1.0, 1.0], \"yaxis\": \"y\"}, {\"hoverinfo\": \"text\", \"marker\": {\"color\": \"rgb(0,116,217)\"}, \"mode\": \"lines\", \"text\": [null, null, null, null], \"type\": \"scatter\", \"uid\": \"e0e2eacd-c403-44a5-a848-070e7c9e4bc3\", \"x\": [1582.109375, 1582.109375, 1740.46630859375, 1740.46630859375], \"xaxis\": \"x\", \"y\": [0.9772727272727273, 1.0, 1.0, 1.0], \"yaxis\": \"y\"}, {\"hoverinfo\": \"text\", \"marker\": {\"color\": \"rgb(0,116,217)\"}, \"mode\": \"lines\", \"text\": [null, null, null, null], \"type\": \"scatter\", \"uid\": \"879c3f32-c861-44dd-ba20-3e80217a9ef4\", \"x\": [1451.875, 1451.875, 1661.287841796875, 1661.287841796875], \"xaxis\": \"x\", \"y\": [0.9857142857142858, 1.0, 1.0, 1.0], \"yaxis\": \"y\"}, {\"hoverinfo\": \"text\", \"marker\": {\"color\": \"rgb(0,116,217)\"}, \"mode\": \"lines\", \"text\": [null, null, null, null], \"type\": \"scatter\", \"uid\": \"290bcbec-dd7c-476c-a7b6-2e993a1b7e29\", \"x\": [1307.8125, 1307.8125, 1556.5814208984375, 1556.5814208984375], \"xaxis\": \"x\", \"y\": [0.9891304347826086, 1.0, 1.0, 1.0], \"yaxis\": \"y\"}, {\"hoverinfo\": \"text\", \"marker\": {\"color\": \"rgb(0,116,217)\"}, \"mode\": \"lines\", \"text\": [null, null, null, null], \"type\": \"scatter\", \"uid\": \"2b00a906-32aa-436a-80db-86659f7fda7f\", \"x\": [1124.912109375, 1124.912109375, 1432.1969604492188, 1432.1969604492188], \"xaxis\": \"x\", \"y\": [0.9696969696969697, 1.0, 1.0, 1.0], \"yaxis\": \"y\"}, {\"hoverinfo\": \"text\", \"marker\": {\"color\": \"rgb(0,116,217)\"}, \"mode\": \"lines\", \"text\": [null, null, null, null], \"type\": \"scatter\", \"uid\": \"ce710fc1-76b2-4dbf-870c-1e3265d2b85e\", \"x\": [1005.15625, 1005.15625, 1278.5545349121094, 1278.5545349121094], \"xaxis\": \"x\", \"y\": [0.8214285714285714, 1.0, 1.0, 1.0], \"yaxis\": \"y\"}, {\"hoverinfo\": \"text\", \"marker\": {\"color\": \"rgb(0,116,217)\"}, \"mode\": \"lines\", \"text\": [\"cluster: 113, component: blk_001809_0035_m/z141.0508_RT0.5557\", \"cluster: 113, component: blk_001809_0035_m/z141.0508_RT0.5557\", null, null], \"type\": \"scatter\", \"uid\": \"4e6d8207-ce24-4bbf-99ef-b3b002a2b82c\", \"x\": [965.0, 965.0, 1141.8553924560547, 1141.8553924560547], \"xaxis\": \"x\", \"y\": [0.0, 1.0, 1.0, 1.0], \"yaxis\": \"y\"}, {\"hoverinfo\": \"text\", \"marker\": {\"color\": \"rgb(0,116,217)\"}, \"mode\": \"lines\", \"text\": [null, null, null, null], \"type\": \"scatter\", \"uid\": \"02a20c17-c815-46eb-bc25-e48ca2a6b83f\", \"x\": [720.869140625, 720.869140625, 1053.4276962280273, 1053.4276962280273], \"xaxis\": \"x\", \"y\": [0.9882352941176471, 1.0, 1.0, 1.0], \"yaxis\": \"y\"}, {\"hoverinfo\": \"text\", \"marker\": {\"color\": \"rgb(0,116,217)\"}, \"mode\": \"lines\", \"text\": [null, null, null, null], \"type\": \"scatter\", \"uid\": \"1f81169f-ecad-4ece-8045-28aa885284f7\", \"x\": [484.0625, 484.0625, 887.1484184265137, 887.1484184265137], \"xaxis\": \"x\", \"y\": [0.9814814814814815, 1.0, 1.0, 1.0], \"yaxis\": \"y\"}, {\"hoverinfo\": \"text\", \"marker\": {\"color\": \"rgb(0,116,217)\"}, \"mode\": \"lines\", \"text\": [null, null, null, null], \"type\": \"scatter\", \"uid\": \"c3e40991-42b1-4de6-aa09-2e98f6547273\", \"x\": [221.85302734375, 221.85302734375, 685.6054592132568, 685.6054592132568], \"xaxis\": \"x\", \"y\": [0.9625, 1.0, 1.0, 1.0], \"yaxis\": \"y\"}],\n",
       "                        {\"autosize\": false, \"height\": 700, \"hovermode\": \"closest\", \"margin\": {\"b\": 612}, \"showlegend\": false, \"title\": {\"text\": \"TreesRCool\"}, \"width\": 800, \"xaxis\": {\"mirror\": \"allticks\", \"rangemode\": \"tozero\", \"showgrid\": false, \"showline\": true, \"showticklabels\": true, \"tickmode\": \"array\", \"ticks\": \"outside\", \"ticktext\": [\"Chinese Spring 1_001829_8203_m/z613.4826_RT12.2884\", \"Chinese Spring 1_001829_7933_m/z792.5621_RT11.9987\", \"Chinese Spring 1_001829_8737_m/z613.4826_RT13.9777\", \"Chinese Spring 1_001829_6867_m/z596.3096_RT9.9999\", \"Chinese Spring 5_001887_7848_m/z792.5621_RT14.4273\", \"blk_001809_2310_m/z571.4292_RT14.5025\", \"Chinese Spring 1_001829_7309_m/z497.3107_RT10.7050\", \"Chinese Spring 1_001829_6971_m/z507.2717_RT10.1162\", \"Cobra 1_001832_7415_m/z571.4716_RT11.9269\", \"Chinese Spring 1_001829_8002_m/z335.2578_RT12.0967\", \"Chinese Spring 1_001829_6962_m/z335.2578_RT10.1118\", \"Chinese Spring 1_001829_7924_m/z335.2579_RT11.9987\", \"Chinese Spring 1_001829_7102_m/z335.2578_RT10.4732\", \"Chinese Spring 1_001829_7304_m/z335.2577_RT10.7050\", \"Chinese Spring 1_001829_6770_m/z335.2578_RT9.7767\", \"Chinese Spring 1_001829_7176_m/z261.2209_RT10.5802\", \"Chinese Spring 1_001829_6995_m/z353.2686_RT10.1519\", \"Chinese Spring 1_001829_7306_m/z353.2686_RT10.7050\", \"Chinese Spring 1_001829_7300_m/z261.2209_RT10.7050\", \"Chinese Spring 1_001829_6884_m/z335.2579_RT10.0132\", \"Chinese Spring 1_001829_7178_m/z335.2579_RT10.5802\", \"blk_001809_0873_m/z272.2582_RT9.6975\", \"Cobra 1_001832_8139_m/z338.3414_RT14.1645\", \"blk_001809_2081_m/z244.1905_RT12.7018\", \"Chinese Spring 1_001829_6885_m/z353.2690_RT10.0132\", \"Chinese Spring 1_001829_7180_m/z353.2688_RT10.5802\", \"Chinese Spring 1_001829_7587_m/z278.2475_RT11.3925\", \"Chinese Spring 1_001829_7923_m/z279.2315_RT11.9987\", \"Chinese Spring 1_001829_7499_m/z435.2504_RT11.0802\", \"Chinese Spring 1_001829_7119_m/z337.2734_RT10.5000\", \"Chinese Spring 1_001829_8646_m/z337.2733_RT13.6924\", \"Chinese Spring 1_001829_7690_m/z618.4271_RT11.6644\", \"Chinese Spring 1_001829_8106_m/z583.4143_RT12.1770\", \"Chinese Spring 1_001829_7448_m/z599.4093_RT11.0178\", \"Chinese Spring 1_001829_7776_m/z601.4244_RT11.7714\", \"Chinese Spring 1_001829_8582_m/z599.4089_RT13.2111\", \"Chinese Spring 1_001829_7361_m/z618.4278_RT10.7852\", \"Chinese Spring 1_001829_7576_m/z618.4271_RT11.3791\", \"Chinese Spring 1_001829_8729_m/z568.4263_RT13.9732\", \"Chinese Spring 1_001829_7954_m/z565.4037_RT12.0210\", \"Chinese Spring 1_001829_7574_m/z583.4141_RT11.3791\", \"Chinese Spring 1_001829_7780_m/z583.4141_RT11.7758\", \"Chinese Spring 1_001829_8525_m/z601.4234_RT13.0595\", \"Chinese Spring 1_001829_7357_m/z583.4143_RT10.7852\", \"Chinese Spring 1_001829_8191_m/z583.4143_RT12.2617\", \"Chinese Spring 1_001829_0928_m/z269.1605_RT1.0029\", \"Chinese Spring 1_001829_0989_m/z268.1037_RT1.0386\", \"blk_001809_1552_m/z364.3418_RT11.7523\", \"blk_001809_1616_m/z364.3418_RT11.8147\", \"blk_001809_1516_m/z408.3681_RT11.7389\", \"blk_001809_1750_m/z466.4099_RT12.1446\", \"blk_001809_1657_m/z408.3681_RT11.9395\", \"blk_001809_1903_m/z482.4048_RT12.3318\", \"blk_001809_1999_m/z364.3424_RT12.5502\", \"blk_001809_2060_m/z364.3424_RT12.6438\", \"blk_001809_1642_m/z424.3632_RT11.9261\", \"blk_001809_1747_m/z421.3521_RT12.1446\", \"Chinese Spring 1_001829_7380_m/z483.2713_RT10.8387\", \"Chinese Spring 1_001829_7338_m/z338.2607_RT10.7228\", \"Chinese Spring 1_001829_6626_m/z320.2946_RT9.3934\", \"Chinese Spring 1_001829_6684_m/z320.2946_RT9.6341\", \"Chinese Spring 1_001829_4681_m/z129.1273_RT5.8086\", \"Chinese Spring 1_001829_5571_m/z171.1490_RT6.9999\", \"Chinese Spring 3_001858_5649_m/z201.1636_RT7.2384\", \"Cobra 1_001832_5681_m/z201.1636_RT7.3651\", \"Chinese Spring 1_001829_6034_m/z209.1534_RT7.9760\", \"Chinese Spring 1_001829_3534_m/z209.1534_RT4.9214\", \"Chinese Spring 1_001829_3874_m/z209.1534_RT5.1891\", \"Chinese Spring 1_001829_3976_m/z209.1534_RT5.2738\", \"Chinese Spring 1_001829_6121_m/z281.1745_RT8.1944\", \"blk_001809_0513_m/z243.1589_RT8.8417\", \"Chinese Spring 1_001829_6701_m/z293.2106_RT9.6921\", \"Chinese Spring 1_001829_4627_m/z227.1640_RT5.7507\", \"blk_001809_0743_m/z283.1902_RT9.4033\", \"Chinese Spring 1_001829_3576_m/z207.1378_RT4.9437\", \"Chinese Spring 1_001829_3487_m/z227.1275_RT4.8769\", \"Chinese Spring 1_001829_3537_m/z227.1276_RT4.9214\", \"Chinese Spring 1_001829_8442_m/z181.1221_RT12.7876\", \"Chinese Spring 2_001850_7898_m/z181.1221_RT13.1904\", \"Chinese Spring 1_001829_5465_m/z211.1690_RT6.7722\", \"Chinese Spring 1_001829_5452_m/z209.0807_RT6.7499\", \"Chinese Spring 1_001829_5697_m/z211.1691_RT7.3342\", \"Chinese Spring 1_001829_5778_m/z211.1691_RT7.5080\", \"Chinese Spring 1_001829_6053_m/z215.1640_RT8.0384\", \"blk_001809_0654_m/z215.1640_RT9.1582\", \"Chinese Spring 2_001850_5547_m/z137.0960_RT7.4167\", \"Chinese Spring 2_001850_6060_m/z219.1741_RT8.6023\", \"Chinese Spring 2_001850_6092_m/z219.1742_RT8.6424\", \"Chinese Spring 1_001829_6166_m/z219.1741_RT8.3371\", \"Chinese Spring 1_001829_5806_m/z219.1741_RT7.5303\", \"Cobra 1_001832_5682_m/z219.1741_RT7.3651\", \"Chinese Spring 1_001829_5301_m/z191.1428_RT6.5359\", \"Chinese Spring 1_001829_3978_m/z191.1429_RT5.2782\", \"Chinese Spring 1_001829_5431_m/z191.1429_RT6.7410\", \"Chinese Spring 1_001829_4949_m/z209.0807_RT6.0494\", \"Chinese Spring 1_001829_6612_m/z207.1378_RT9.3355\", \"blk_001809_0035_m/z141.0508_RT0.5557\", \"Chinese Spring 1_001829_2250_m/z177.0544_RT3.6957\", \"Chinese Spring 1_001829_3815_m/z177.0545_RT5.1175\", \"Espada 3_001867_2046_m/z177.0545_RT3.9185\", \"Chinese Spring 1_001829_3575_m/z199.9878_RT4.9437\", \"Chinese Spring 3_001858_3785_m/z199.9877_RT5.0667\", \"Chinese Spring 1_001829_0008_m/z199.9878_RT0.5260\", \"Chinese Spring 1_001829_3401_m/z199.9878_RT4.8234\", \"Chinese Spring 1_001829_4213_m/z199.9877_RT5.4298\", \"Chinese Spring 2_001850_3871_m/z199.9878_RT5.2900\", \"Cobra 2_001852_4324_m/z199.9878_RT6.0264\", \"Chinese Spring 2_001850_4313_m/z199.9878_RT5.5708\", \"Cobra 2_001852_2321_m/z199.9877_RT4.2435\", \"Chinese Spring 1_001829_5512_m/z463.1233_RT6.8301\", \"Chinese Spring 1_001829_3296_m/z611.1606_RT4.7565\", \"Chinese Spring 1_001829_3857_m/z611.1606_RT5.1666\", \"Chinese Spring 1_001829_3593_m/z339.1073_RT4.9571\", \"Chinese Spring 1_001829_4973_m/z339.1073_RT6.0940\", \"Chinese Spring 1_001829_6003_m/z498.2543_RT7.9315\", \"Chinese Spring 1_001829_3932_m/z340.1603_RT5.2470\", \"Chinese Spring 1_001829_5413_m/z231.0497_RT6.7231\", \"Chinese Spring 1_001829_3927_m/z231.0497_RT5.2470\", \"Chinese Spring 1_001829_5035_m/z231.0497_RT6.1564\", \"Chinese Spring 1_001829_6283_m/z231.0496_RT8.6045\", \"Chinese Spring 2_001850_1213_m/z314.1446_RT1.3713\", \"Emu Rock 2_001847_1099_m/z314.1446_RT1.2598\", \"Chinese Spring 1_001829_2752_m/z342.1759_RT4.2840\", \"Chinese Spring 3_001858_1605_m/z310.1495_RT2.2587\", \"Chinese Spring 1_001829_1178_m/z241.1544_RT1.1946\", \"Chinese Spring 1_001829_1844_m/z507.1819_RT2.9692\", \"Correll 1_001837_4911_m/z251.0911_RT6.5612\", \"Chinese Spring 1_001829_5685_m/z219.1014_RT7.3074\", \"Chinese Spring 1_001829_4912_m/z219.1014_RT5.9958\", \"Chinese Spring 1_001829_5175_m/z219.1014_RT6.3621\", \"Chinese Spring 1_001829_2478_m/z291.1449_RT4.0211\", \"Chinese Spring 1_001829_2534_m/z291.1449_RT4.0567\", \"Chinese Spring 1_001829_1967_m/z291.1450_RT3.3302\", \"Chinese Spring 1_001829_1966_m/z273.1343_RT3.3302\", \"Chinese Spring 1_001829_2526_m/z273.1343_RT4.0523\", \"Chinese Spring 1_001829_1994_m/z251.1387_RT3.3658\", \"Chinese Spring 1_001829_1874_m/z235.1439_RT3.0271\", \"Chinese Spring 1_001829_2318_m/z235.1439_RT3.7670\", \"Chinese Spring 1_001829_2426_m/z194.0447_RT3.9542\", \"Cobra 3_001856_2051_m/z194.1174_RT3.6295\", \"Chinese Spring 1_001829_3643_m/z194.0447_RT4.9972\", \"Chinese Spring 1_001829_3914_m/z194.0447_RT5.2381\", \"Chinese Spring 1_001829_4309_m/z212.0552_RT5.4788\", \"Chinese Spring 1_001829_2958_m/z212.0552_RT4.4445\", \"Chinese Spring 1_001829_5341_m/z194.0447_RT6.6117\", \"Chinese Spring 1_001829_5342_m/z226.0708_RT6.6117\", \"Chinese Spring 1_001829_2262_m/z533.1549_RT3.7001\", \"Chinese Spring 1_001829_2618_m/z533.1546_RT4.1191\", \"Chinese Spring 1_001829_2044_m/z533.1546_RT3.4461\", \"Chinese Spring 1_001829_3026_m/z533.1549_RT4.5203\", \"Chinese Spring 1_001829_2030_m/z347.0907_RT3.4015\", \"Chinese Spring 2_001850_1485_m/z347.0907_RT2.1112\", \"Chinese Spring 1_001829_1626_m/z194.1174_RT2.2515\", \"Cobra 2_001852_2090_m/z194.1174_RT4.0473\", \"Chinese Spring 1_001829_6552_m/z320.2946_RT9.1394\", \"Chinese Spring 1_001829_7255_m/z320.2946_RT10.6470\", \"Chinese Spring 1_001829_6510_m/z320.2948_RT9.0458\", \"Chinese Spring 1_001829_6404_m/z320.2946_RT8.8274\", \"Chinese Spring 1_001829_6439_m/z320.2946_RT8.8987\", \"Chinese Spring 1_001829_6466_m/z320.2948_RT8.9700\", \"Chinese Spring 1_001829_0724_m/z241.1544_RT0.7890\", \"Chinese Spring 1_001829_0785_m/z241.1544_RT0.8781\", \"Chinese Spring 1_001829_5942_m/z332.2584_RT7.8067\", \"Chinese Spring 1_001829_6229_m/z332.2583_RT8.4886\", \"Chinese Spring 1_001829_6093_m/z332.2583_RT8.1097\", \"Chinese Spring 1_001829_6127_m/z332.2584_RT8.1989\", \"Chinese Spring 1_001829_0877_m/z260.1603_RT0.9851\", \"Chinese Spring 1_001829_3318_m/z132.0444_RT4.7743\", \"Chinese Spring 1_001829_1633_m/z246.1446_RT2.2783\", \"Chinese Spring 1_001829_1708_m/z247.1286_RT2.6482\", \"Chinese Spring 1_001829_1642_m/z260.1602_RT2.3719\", \"Chinese Spring 2_001850_1603_m/z260.1603_RT2.4945\", \"Chinese Spring 1_001829_1656_m/z233.1494_RT2.5234\", \"Chinese Spring 1_001829_1564_m/z233.1494_RT2.1044\", \"Chinese Spring 5_001887_1443_m/z233.1494_RT2.2226\", \"Chinese Spring 1_001829_1393_m/z221.1284_RT1.6494\", \"Chinese Spring 2_001850_1669_m/z237.1232_RT2.8467\", \"Chinese Spring 1_001829_0821_m/z237.1231_RT0.9093\", \"Chinese Spring 1_001829_2218_m/z237.1231_RT3.6645\", \"Chinese Spring 1_001829_8795_m/z797.5175_RT14.4412\", \"Chinese Spring 1_001829_0924_m/z214.5102_RT1.0029\", \"Chinese Spring 1_001829_5742_m/z268.5936_RT7.4233\", \"Chinese Spring 1_001829_3925_m/z222.0703_RT5.2470\", \"Chinese Spring 1_001829_6287_m/z250.1014_RT8.6045\", \"Chinese Spring 1_001829_2484_m/z247.0598_RT4.0255\", \"Chinese Spring 1_001829_2604_m/z247.0598_RT4.1147\", \"Chinese Spring 1_001829_3431_m/z219.0467_RT4.8501\", \"Chinese Spring 1_001829_1873_m/z212.0390_RT3.0271\", \"Chinese Spring 1_001829_5506_m/z214.5649_RT6.8301\", \"Chinese Spring 1_001829_3870_m/z595.1657_RT5.1846\", \"Chinese Spring 1_001829_4649_m/z625.1763_RT5.7730\", \"Chinese Spring 1_001829_4877_m/z463.1232_RT5.9646\", \"Chinese Spring 1_001829_0770_m/z182.0811_RT0.8558\", \"Chinese Spring 1_001829_0839_m/z182.0811_RT0.9405\", \"Chinese Spring 1_001829_3666_m/z212.0552_RT5.0017\", \"Chinese Spring 1_001829_4302_m/z194.0447_RT5.4788\", \"Chinese Spring 1_001829_2440_m/z333.1520_RT3.9631\", \"Chinese Spring 1_001829_2563_m/z333.1519_RT4.0835\", \"Chinese Spring 1_001829_1519_m/z319.1363_RT1.9258\", \"Chinese Spring 1_001829_1645_m/z319.1363_RT2.3986\", \"Chinese Spring 1_001829_0094_m/z265.0154_RT0.5705\", \"Chinese Spring 1_001829_0764_m/z229.1545_RT0.8469\", \"Chinese Spring 1_001829_0683_m/z229.1545_RT0.7845\", \"Chinese Spring 1_001829_1084_m/z229.1545_RT1.0920\", \"Chinese Spring 1_001829_1122_m/z229.1545_RT1.1143\"], \"tickvals\": [5, 15, 25, 35, 45, 55, 65, 75, 85, 95, 105, 115, 125, 135, 145, 155, 165, 175, 185, 195, 205, 215, 225, 235, 245, 255, 265, 275, 285, 295, 305, 315, 325, 335, 345, 355, 365, 375, 385, 395, 405, 415, 425, 435, 445, 455, 465, 475, 485, 495, 505, 515, 525, 535, 545, 555, 565, 575, 585, 595, 605, 615, 625, 635, 645, 655, 665, 675, 685, 695, 705, 715, 725, 735, 745, 755, 765, 775, 785, 795, 805, 815, 825, 835, 845, 855, 865, 875, 885, 895, 905, 915, 925, 935, 945, 955, 965, 975, 985, 995, 1005, 1015, 1025, 1035, 1045, 1055, 1065, 1075, 1085, 1095, 1105, 1115, 1125, 1135, 1145, 1155, 1165, 1175, 1185, 1195, 1205, 1215, 1225, 1235, 1245, 1255, 1265, 1275, 1285, 1295, 1305, 1315, 1325, 1335, 1345, 1355, 1365, 1375, 1385, 1395, 1405, 1415, 1425, 1435, 1445, 1455, 1465, 1475, 1485, 1495, 1505, 1515, 1525, 1535, 1545, 1555, 1565, 1575, 1585, 1595, 1605, 1615, 1625, 1635, 1645, 1655, 1665, 1675, 1685, 1695, 1705, 1715, 1725, 1735, 1745, 1755, 1765, 1775, 1785, 1795, 1805, 1815, 1825, 1835, 1845, 1855, 1865, 1875, 1885, 1895, 1905, 1915, 1925, 1935, 1945, 1955, 1965, 1975, 1985, 1995, 2005, 2015, 2025, 2035, 2045], \"title\": {\"text\": \"Samples\"}, \"type\": \"linear\", \"zeroline\": false}, \"yaxis\": {\"mirror\": \"allticks\", \"rangemode\": \"tozero\", \"showgrid\": false, \"showline\": true, \"showticklabels\": true, \"ticks\": \"outside\", \"title\": {\"text\": \"Distance\"}, \"type\": \"linear\", \"zeroline\": false}},\n",
       "                        {\"showLink\": false, \"linkText\": \"Export to plot.ly\", \"plotlyServerURL\": \"https://plot.ly\"}\n",
       "                    )\n",
       "                };\n",
       "                });\n",
       "            </script>\n",
       "        </div>"
      ]
     },
     "metadata": {},
     "output_type": "display_data"
    }
   ],
   "source": [
    "from BioDendro.plot import dendrogram\n",
    "\n",
    "iplot = dendrogram(tree, width=800, height=700, title=\"TreesRCool\", xlabel=\"Samples\", ylabel=\"Distance\")\n",
    "plotly.offline.iplot(iplot)"
   ]
  },
  {
   "cell_type": "markdown",
   "metadata": {},
   "source": [
    "There are some features that we're working on.\n",
    "\n",
    "In dendrogram, the `hovertext` parameter allows you to specify arbitrary text for when you hover over the data.\n",
    "However, the current tree drawing algorithm reorders the internal nodes, and we can't find the correct order for internal node data from the output of that function.\n",
    "For now know that it exists, and if you figure it out, please let us know!"
   ]
  },
  {
   "cell_type": "code",
   "execution_count": null,
   "metadata": {},
   "outputs": [],
   "source": []
  }
 ],
 "metadata": {
  "kernelspec": {
   "display_name": "Python 3",
   "language": "python",
   "name": "python3"
  },
  "language_info": {
   "codemirror_mode": {
    "name": "ipython",
    "version": 3
   },
   "file_extension": ".py",
   "mimetype": "text/x-python",
   "name": "python",
   "nbconvert_exporter": "python",
   "pygments_lexer": "ipython3",
   "version": "3.6.5"
  }
 },
 "nbformat": 4,
 "nbformat_minor": 2
}
