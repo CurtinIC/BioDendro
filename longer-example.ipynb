{
 "cells": [
  {
   "cell_type": "markdown",
   "metadata": {},
   "source": [
    "# Details of the BioDendro pipeline"
   ]
  },
  {
   "cell_type": "markdown",
   "metadata": {},
   "source": [
    "## Running the pipeline manually\n",
    "\n",
    "BioDendro essentially does the following steps:\n",
    "\n",
    "1. Parse the MGF and components files\n",
    "   - Optionally scaling and filtering Ions from MGF with a minimum intensity threshold.\n",
    "2. Find Ions matching components\n",
    "3. Bins mz values by proximity\n",
    "4. Uses binned mz values to cluster components into a tree"
   ]
  },
  {
   "cell_type": "code",
   "execution_count": 1,
   "metadata": {},
   "outputs": [],
   "source": [
    "# Load required modules\n",
    "\n",
    "import os\n",
    "import plotly\n",
    "from BioDendro import preprocess\n",
    "from BioDendro import cluster"
   ]
  },
  {
   "cell_type": "markdown",
   "metadata": {},
   "source": [
    "Loading the MGF file is relatively straight forward using python.\n",
    "\n",
    "The pipeline changes the MGF record titles in a way that won't always be portable.\n",
    "If you encounter issues with record titles, you may wish to exclude the `split_msms_title` step."
   ]
  },
  {
   "cell_type": "code",
   "execution_count": 2,
   "metadata": {},
   "outputs": [
    {
     "data": {
      "text/plain": [
       "MGF(records=[\n",
       "MGFRecord(title='QE_2017_001814', retention=141.0, pepmass=Ion(mz=81.52061, intensity=1678597.25), charge='1+', ions=[Ion(mz=53.00264, intensity=1252.15), Ion(mz=60.7764, intensity=1324.65)]),\n",
       "MGFRecord(title='QE_2017_001814', retention=877.0, pepmass=Ion(mz=81.52061, intensity=19463956.0), charge='2+', ions=[Ion(mz=59.32066, intensity=14996.5), Ion(mz=131.81848, intensity=18682.3), Ion(mz=176.21725, intensity=18992.1)]),\n",
       "MGFRecord(title='QE_2017_001816', retention=447.0, pepmass=Ion(mz=81.52061, intensity=2814306.5), charge='1+', ions=[Ion(mz=53.0393, intensity=1853.67)]),\n",
       "MGFRecord(title='QE_2017_001814', retention=436.0, pepmass=Ion(mz=81.52064, intensity=2750625.5), charge='1+', ions=[Ion(mz=63.59929, intensity=2020.82)]),\n",
       "MGFRecord(title='QE_2017_001815', retention=887.0, pepmass=Ion(mz=81.52064, intensity=15775805.0), charge='2+', ions=[Ion(mz=124.5074, intensity=13727.9), Ion(mz=184.32289, intensity=14260.0)])\n",
       "...\n",
       "])"
      ]
     },
     "execution_count": 2,
     "metadata": {},
     "output_type": "execute_result"
    }
   ],
   "source": [
    "# Load the MSMS records\n",
    "\n",
    "with open(\"MSMS.mgf\") as handle:\n",
    "    mgf = preprocess.MGF.parse(handle)\n",
    "\n",
    "# Splits the title up.\n",
    "# You may need to skip this step.\n",
    "for record in mgf.records:\n",
    "    record.title = preprocess.split_msms_title(record.title)\n",
    "\n",
    "mgf"
   ]
  },
  {
   "cell_type": "markdown",
   "metadata": {},
   "source": [
    "At this point we might decide to scale and/or filter the Ions for each MGFRecord."
   ]
  },
  {
   "cell_type": "code",
   "execution_count": 3,
   "metadata": {},
   "outputs": [
    {
     "data": {
      "text/plain": [
       "MGF(records=[\n",
       "MGFRecord(title='QE_2017_001814', retention=141.0, pepmass=Ion(mz=81.52061, intensity=1678597.25), charge='1+', ions=[Ion(mz=53.00264, intensity=0.9452685615068132), Ion(mz=60.7764, intensity=1.0)]),\n",
       "MGFRecord(title='QE_2017_001814', retention=877.0, pepmass=Ion(mz=81.52061, intensity=19463956.0), charge='2+', ions=[Ion(mz=59.32066, intensity=0.7896177884488814), Ion(mz=131.81848, intensity=0.9836879544652777), Ion(mz=176.21725, intensity=1.0)]),\n",
       "MGFRecord(title='QE_2017_001816', retention=447.0, pepmass=Ion(mz=81.52061, intensity=2814306.5), charge='1+', ions=[Ion(mz=53.0393, intensity=1.0)]),\n",
       "MGFRecord(title='QE_2017_001814', retention=436.0, pepmass=Ion(mz=81.52064, intensity=2750625.5), charge='1+', ions=[Ion(mz=63.59929, intensity=1.0)]),\n",
       "MGFRecord(title='QE_2017_001815', retention=887.0, pepmass=Ion(mz=81.52064, intensity=15775805.0), charge='2+', ions=[Ion(mz=124.5074, intensity=0.9626858345021038), Ion(mz=184.32289, intensity=1.0)])\n",
       "...\n",
       "])"
      ]
     },
     "execution_count": 3,
     "metadata": {},
     "output_type": "execute_result"
    }
   ],
   "source": [
    "with open(\"MSMS.mgf\") as handle:\n",
    "    mgf_scaled = preprocess.MGF.parse(handle, scaling=True, filtering=True, eps=0.2)\n",
    "\n",
    "# Splits the title up.\n",
    "# You may need to skip this step.\n",
    "for record in mgf_scaled.records:\n",
    "    record.title = preprocess.split_msms_title(record.title)\n",
    "\n",
    "mgf_scaled"
   ]
  },
  {
   "cell_type": "markdown",
   "metadata": {},
   "source": [
    "You'll notice in the ions field of each MGF record that the \"intensity\" values have been scaled to numbers between 0 and 1, and that any ions with scaled intensity below 0.2 will be filtered out.\n",
    "\n",
    "Loading components files is a similar process."
   ]
  },
  {
   "cell_type": "code",
   "execution_count": 4,
   "metadata": {},
   "outputs": [
    {
     "data": {
      "text/plain": [
       "[SampleRecord(mz=125.9862, retention=56.964, original='Chinese Spring 1_001829_0849_m/z125.9862_RT0.9494'),\n",
       " SampleRecord(mz=129.1273, retention=318.834, original='Chinese Spring 1_001829_4030_m/z129.1273_RT5.3139'),\n",
       " SampleRecord(mz=129.1273, retention=348.516, original='Chinese Spring 1_001829_4681_m/z129.1273_RT5.8086'),\n",
       " SampleRecord(mz=129.1274, retention=327.924, original='Chinese Spring 1_001829_4250_m/z129.1274_RT5.4654'),\n",
       " SampleRecord(mz=129.1274, retention=392.68800000000005, original='Chinese Spring 1_001829_5303_m/z129.1274_RT6.5448')]"
      ]
     },
     "execution_count": 4,
     "metadata": {},
     "output_type": "execute_result"
    }
   ],
   "source": [
    "# Load the list of components to compare to the MSMS file\n",
    "\n",
    "with open(\"./component_list.txt\") as handle:\n",
    "    components = preprocess.SampleRecord.parse(handle)\n",
    "\n",
    "components[:5]"
   ]
  },
  {
   "cell_type": "markdown",
   "metadata": {},
   "source": [
    "Next we find the ions for each components."
   ]
  },
  {
   "cell_type": "code",
   "execution_count": 5,
   "metadata": {},
   "outputs": [
    {
     "data": {
      "text/html": [
       "<div>\n",
       "<style scoped>\n",
       "    .dataframe tbody tr th:only-of-type {\n",
       "        vertical-align: middle;\n",
       "    }\n",
       "\n",
       "    .dataframe tbody tr th {\n",
       "        vertical-align: top;\n",
       "    }\n",
       "\n",
       "    .dataframe thead th {\n",
       "        text-align: right;\n",
       "    }\n",
       "</style>\n",
       "<table border=\"1\" class=\"dataframe\">\n",
       "  <thead>\n",
       "    <tr style=\"text-align: right;\">\n",
       "      <th></th>\n",
       "      <th>component</th>\n",
       "      <th>sample</th>\n",
       "      <th>mz</th>\n",
       "    </tr>\n",
       "  </thead>\n",
       "  <tbody>\n",
       "    <tr>\n",
       "      <th>0</th>\n",
       "      <td>Chinese Spring 1_001829_6995_m/z353.2686_RT10....</td>\n",
       "      <td>QE_2017_001814_353.26889_609.0</td>\n",
       "      <td>50.06792</td>\n",
       "    </tr>\n",
       "    <tr>\n",
       "      <th>1</th>\n",
       "      <td>Chinese Spring 1_001829_2250_m/z177.0544_RT3.6957</td>\n",
       "      <td>QE_2017_001816_177.05449_217.0</td>\n",
       "      <td>50.44534</td>\n",
       "    </tr>\n",
       "    <tr>\n",
       "      <th>2</th>\n",
       "      <td>Chinese Spring 1_001829_2318_m/z235.1439_RT3.7670</td>\n",
       "      <td>QE_2017_001815_235.14398_226.0</td>\n",
       "      <td>50.48630</td>\n",
       "    </tr>\n",
       "    <tr>\n",
       "      <th>3</th>\n",
       "      <td>Chinese Spring 1_001829_5175_m/z219.1014_RT6.3621</td>\n",
       "      <td>QE_2017_001816_219.10153_382.0</td>\n",
       "      <td>50.49461</td>\n",
       "    </tr>\n",
       "    <tr>\n",
       "      <th>4</th>\n",
       "      <td>Chinese Spring 1_001829_5465_m/z211.1690_RT6.7722</td>\n",
       "      <td>QE_2017_001816_211.16916_405.0</td>\n",
       "      <td>50.49868</td>\n",
       "    </tr>\n",
       "  </tbody>\n",
       "</table>\n",
       "</div>"
      ],
      "text/plain": [
       "                                           component  \\\n",
       "0  Chinese Spring 1_001829_6995_m/z353.2686_RT10....   \n",
       "1  Chinese Spring 1_001829_2250_m/z177.0544_RT3.6957   \n",
       "2  Chinese Spring 1_001829_2318_m/z235.1439_RT3.7670   \n",
       "3  Chinese Spring 1_001829_5175_m/z219.1014_RT6.3621   \n",
       "4  Chinese Spring 1_001829_5465_m/z211.1690_RT6.7722   \n",
       "\n",
       "                           sample        mz  \n",
       "0  QE_2017_001814_353.26889_609.0  50.06792  \n",
       "1  QE_2017_001816_177.05449_217.0  50.44534  \n",
       "2  QE_2017_001815_235.14398_226.0  50.48630  \n",
       "3  QE_2017_001816_219.10153_382.0  50.49461  \n",
       "4  QE_2017_001816_211.16916_405.0  50.49868  "
      ]
     },
     "execution_count": 5,
     "metadata": {},
     "output_type": "execute_result"
    }
   ],
   "source": [
    "# Remove redundant records with mass and retention time tolerance \n",
    "\n",
    "df = preprocess.remove_redundancy(components, mgf, mz_tol=0.002, retention_tol=5, neutral=False)\n",
    "df.head()"
   ]
  },
  {
   "cell_type": "markdown",
   "metadata": {},
   "source": [
    "And finally, we can cluster the data using a `Tree` object.\n",
    "\n",
    "The interface to `Tree` is similar to `scikit-learn` objects, where first you initialise a model with parameters, then you fit it with some data."
   ]
  },
  {
   "cell_type": "code",
   "execution_count": 6,
   "metadata": {},
   "outputs": [],
   "source": [
    "# Using the non-redundant dataframe, bin analytes on threshold=8e-4 and return a data matrix\n",
    "# Cluster the data matrix using clustering_method=\"jaccard\"\n",
    "# Set threshold to color dendrogram and output clusters at cutoff=0.4\n",
    "\n",
    "tree = cluster.Tree(threshold=8e-4, clustering_method=\"jaccard\", cutoff=0.4)\n",
    "tree.fit(df)"
   ]
  },
  {
   "cell_type": "markdown",
   "metadata": {},
   "source": [
    "The threshold is the parameter that affects binning.\n",
    "Increasing the threshold will reduce the number of bins, decreasing the threshold will make bins more granular.\n",
    "\n",
    "The tree object now contains all of our intermediate data.\n",
    "\n",
    "We can look at which samples have which bins in a [Pandas](https://pandas.pydata.org/) dataframe.\n",
    "This is the matrix used to compute distances based on presence absence."
   ]
  },
  {
   "cell_type": "code",
   "execution_count": 7,
   "metadata": {},
   "outputs": [
    {
     "data": {
      "text/html": [
       "<div>\n",
       "<style scoped>\n",
       "    .dataframe tbody tr th:only-of-type {\n",
       "        vertical-align: middle;\n",
       "    }\n",
       "\n",
       "    .dataframe tbody tr th {\n",
       "        vertical-align: top;\n",
       "    }\n",
       "\n",
       "    .dataframe thead th {\n",
       "        text-align: right;\n",
       "    }\n",
       "</style>\n",
       "<table border=\"1\" class=\"dataframe\">\n",
       "  <thead>\n",
       "    <tr style=\"text-align: right;\">\n",
       "      <th>bins</th>\n",
       "      <th>100.0246_100.0246_100.0246</th>\n",
       "      <th>100.0395_100.0395_100.0395</th>\n",
       "      <th>100.0759_100.0759_100.0760</th>\n",
       "      <th>100.1123_100.1122_100.1123</th>\n",
       "      <th>100.1311_100.1311_100.1311</th>\n",
       "      <th>100.5562_100.5562_100.5562</th>\n",
       "      <th>100.6662_100.6662_100.6662</th>\n",
       "      <th>101.0235_101.0235_101.0235</th>\n",
       "      <th>101.0598_101.0596_101.0599</th>\n",
       "      <th>101.0712_101.0711_101.0712</th>\n",
       "      <th>...</th>\n",
       "      <th>98.0966_98.0964_98.0967</th>\n",
       "      <th>98.5142_98.5142_98.5142</th>\n",
       "      <th>98.5942_98.5942_98.5942</th>\n",
       "      <th>98.8081_98.8081_98.8081</th>\n",
       "      <th>98.9756_98.9755_98.9759</th>\n",
       "      <th>98.9844_98.9844_98.9845</th>\n",
       "      <th>99.0034_99.0034_99.0034</th>\n",
       "      <th>99.0443_99.0441_99.0445</th>\n",
       "      <th>99.0807_99.0804_99.0809</th>\n",
       "      <th>99.1172_99.1172_99.1172</th>\n",
       "    </tr>\n",
       "    <tr>\n",
       "      <th>sample</th>\n",
       "      <th></th>\n",
       "      <th></th>\n",
       "      <th></th>\n",
       "      <th></th>\n",
       "      <th></th>\n",
       "      <th></th>\n",
       "      <th></th>\n",
       "      <th></th>\n",
       "      <th></th>\n",
       "      <th></th>\n",
       "      <th></th>\n",
       "      <th></th>\n",
       "      <th></th>\n",
       "      <th></th>\n",
       "      <th></th>\n",
       "      <th></th>\n",
       "      <th></th>\n",
       "      <th></th>\n",
       "      <th></th>\n",
       "      <th></th>\n",
       "      <th></th>\n",
       "    </tr>\n",
       "  </thead>\n",
       "  <tbody>\n",
       "    <tr>\n",
       "      <th>QE_2017_001814_177.05418_236.0</th>\n",
       "      <td>False</td>\n",
       "      <td>False</td>\n",
       "      <td>False</td>\n",
       "      <td>False</td>\n",
       "      <td>False</td>\n",
       "      <td>False</td>\n",
       "      <td>False</td>\n",
       "      <td>False</td>\n",
       "      <td>False</td>\n",
       "      <td>False</td>\n",
       "      <td>...</td>\n",
       "      <td>False</td>\n",
       "      <td>False</td>\n",
       "      <td>False</td>\n",
       "      <td>False</td>\n",
       "      <td>False</td>\n",
       "      <td>False</td>\n",
       "      <td>False</td>\n",
       "      <td>False</td>\n",
       "      <td>False</td>\n",
       "      <td>False</td>\n",
       "    </tr>\n",
       "    <tr>\n",
       "      <th>QE_2017_001814_182.08116_51.0</th>\n",
       "      <td>False</td>\n",
       "      <td>False</td>\n",
       "      <td>False</td>\n",
       "      <td>False</td>\n",
       "      <td>False</td>\n",
       "      <td>False</td>\n",
       "      <td>False</td>\n",
       "      <td>False</td>\n",
       "      <td>False</td>\n",
       "      <td>False</td>\n",
       "      <td>...</td>\n",
       "      <td>False</td>\n",
       "      <td>False</td>\n",
       "      <td>False</td>\n",
       "      <td>False</td>\n",
       "      <td>False</td>\n",
       "      <td>False</td>\n",
       "      <td>False</td>\n",
       "      <td>False</td>\n",
       "      <td>False</td>\n",
       "      <td>False</td>\n",
       "    </tr>\n",
       "    <tr>\n",
       "      <th>QE_2017_001814_191.14291_389.0</th>\n",
       "      <td>False</td>\n",
       "      <td>False</td>\n",
       "      <td>False</td>\n",
       "      <td>False</td>\n",
       "      <td>False</td>\n",
       "      <td>False</td>\n",
       "      <td>False</td>\n",
       "      <td>False</td>\n",
       "      <td>False</td>\n",
       "      <td>False</td>\n",
       "      <td>...</td>\n",
       "      <td>False</td>\n",
       "      <td>False</td>\n",
       "      <td>False</td>\n",
       "      <td>False</td>\n",
       "      <td>False</td>\n",
       "      <td>False</td>\n",
       "      <td>False</td>\n",
       "      <td>False</td>\n",
       "      <td>False</td>\n",
       "      <td>False</td>\n",
       "    </tr>\n",
       "    <tr>\n",
       "      <th>QE_2017_001814_194.04424_237.0</th>\n",
       "      <td>False</td>\n",
       "      <td>False</td>\n",
       "      <td>False</td>\n",
       "      <td>False</td>\n",
       "      <td>False</td>\n",
       "      <td>False</td>\n",
       "      <td>False</td>\n",
       "      <td>False</td>\n",
       "      <td>False</td>\n",
       "      <td>False</td>\n",
       "      <td>...</td>\n",
       "      <td>False</td>\n",
       "      <td>False</td>\n",
       "      <td>False</td>\n",
       "      <td>False</td>\n",
       "      <td>False</td>\n",
       "      <td>False</td>\n",
       "      <td>False</td>\n",
       "      <td>False</td>\n",
       "      <td>False</td>\n",
       "      <td>False</td>\n",
       "    </tr>\n",
       "    <tr>\n",
       "      <th>QE_2017_001814_194.1174_244.0</th>\n",
       "      <td>False</td>\n",
       "      <td>False</td>\n",
       "      <td>False</td>\n",
       "      <td>False</td>\n",
       "      <td>False</td>\n",
       "      <td>False</td>\n",
       "      <td>False</td>\n",
       "      <td>False</td>\n",
       "      <td>False</td>\n",
       "      <td>False</td>\n",
       "      <td>...</td>\n",
       "      <td>False</td>\n",
       "      <td>False</td>\n",
       "      <td>False</td>\n",
       "      <td>False</td>\n",
       "      <td>False</td>\n",
       "      <td>False</td>\n",
       "      <td>False</td>\n",
       "      <td>False</td>\n",
       "      <td>False</td>\n",
       "      <td>False</td>\n",
       "    </tr>\n",
       "  </tbody>\n",
       "</table>\n",
       "<p>5 rows × 1941 columns</p>\n",
       "</div>"
      ],
      "text/plain": [
       "bins                           100.0246_100.0246_100.0246  \\\n",
       "sample                                                      \n",
       "QE_2017_001814_177.05418_236.0                      False   \n",
       "QE_2017_001814_182.08116_51.0                       False   \n",
       "QE_2017_001814_191.14291_389.0                      False   \n",
       "QE_2017_001814_194.04424_237.0                      False   \n",
       "QE_2017_001814_194.1174_244.0                       False   \n",
       "\n",
       "bins                           100.0395_100.0395_100.0395  \\\n",
       "sample                                                      \n",
       "QE_2017_001814_177.05418_236.0                      False   \n",
       "QE_2017_001814_182.08116_51.0                       False   \n",
       "QE_2017_001814_191.14291_389.0                      False   \n",
       "QE_2017_001814_194.04424_237.0                      False   \n",
       "QE_2017_001814_194.1174_244.0                       False   \n",
       "\n",
       "bins                           100.0759_100.0759_100.0760  \\\n",
       "sample                                                      \n",
       "QE_2017_001814_177.05418_236.0                      False   \n",
       "QE_2017_001814_182.08116_51.0                       False   \n",
       "QE_2017_001814_191.14291_389.0                      False   \n",
       "QE_2017_001814_194.04424_237.0                      False   \n",
       "QE_2017_001814_194.1174_244.0                       False   \n",
       "\n",
       "bins                           100.1123_100.1122_100.1123  \\\n",
       "sample                                                      \n",
       "QE_2017_001814_177.05418_236.0                      False   \n",
       "QE_2017_001814_182.08116_51.0                       False   \n",
       "QE_2017_001814_191.14291_389.0                      False   \n",
       "QE_2017_001814_194.04424_237.0                      False   \n",
       "QE_2017_001814_194.1174_244.0                       False   \n",
       "\n",
       "bins                           100.1311_100.1311_100.1311  \\\n",
       "sample                                                      \n",
       "QE_2017_001814_177.05418_236.0                      False   \n",
       "QE_2017_001814_182.08116_51.0                       False   \n",
       "QE_2017_001814_191.14291_389.0                      False   \n",
       "QE_2017_001814_194.04424_237.0                      False   \n",
       "QE_2017_001814_194.1174_244.0                       False   \n",
       "\n",
       "bins                           100.5562_100.5562_100.5562  \\\n",
       "sample                                                      \n",
       "QE_2017_001814_177.05418_236.0                      False   \n",
       "QE_2017_001814_182.08116_51.0                       False   \n",
       "QE_2017_001814_191.14291_389.0                      False   \n",
       "QE_2017_001814_194.04424_237.0                      False   \n",
       "QE_2017_001814_194.1174_244.0                       False   \n",
       "\n",
       "bins                           100.6662_100.6662_100.6662  \\\n",
       "sample                                                      \n",
       "QE_2017_001814_177.05418_236.0                      False   \n",
       "QE_2017_001814_182.08116_51.0                       False   \n",
       "QE_2017_001814_191.14291_389.0                      False   \n",
       "QE_2017_001814_194.04424_237.0                      False   \n",
       "QE_2017_001814_194.1174_244.0                       False   \n",
       "\n",
       "bins                           101.0235_101.0235_101.0235  \\\n",
       "sample                                                      \n",
       "QE_2017_001814_177.05418_236.0                      False   \n",
       "QE_2017_001814_182.08116_51.0                       False   \n",
       "QE_2017_001814_191.14291_389.0                      False   \n",
       "QE_2017_001814_194.04424_237.0                      False   \n",
       "QE_2017_001814_194.1174_244.0                       False   \n",
       "\n",
       "bins                           101.0598_101.0596_101.0599  \\\n",
       "sample                                                      \n",
       "QE_2017_001814_177.05418_236.0                      False   \n",
       "QE_2017_001814_182.08116_51.0                       False   \n",
       "QE_2017_001814_191.14291_389.0                      False   \n",
       "QE_2017_001814_194.04424_237.0                      False   \n",
       "QE_2017_001814_194.1174_244.0                       False   \n",
       "\n",
       "bins                           101.0712_101.0711_101.0712  ...  \\\n",
       "sample                                                     ...   \n",
       "QE_2017_001814_177.05418_236.0                      False  ...   \n",
       "QE_2017_001814_182.08116_51.0                       False  ...   \n",
       "QE_2017_001814_191.14291_389.0                      False  ...   \n",
       "QE_2017_001814_194.04424_237.0                      False  ...   \n",
       "QE_2017_001814_194.1174_244.0                       False  ...   \n",
       "\n",
       "bins                           98.0966_98.0964_98.0967  \\\n",
       "sample                                                   \n",
       "QE_2017_001814_177.05418_236.0                   False   \n",
       "QE_2017_001814_182.08116_51.0                    False   \n",
       "QE_2017_001814_191.14291_389.0                   False   \n",
       "QE_2017_001814_194.04424_237.0                   False   \n",
       "QE_2017_001814_194.1174_244.0                    False   \n",
       "\n",
       "bins                           98.5142_98.5142_98.5142  \\\n",
       "sample                                                   \n",
       "QE_2017_001814_177.05418_236.0                   False   \n",
       "QE_2017_001814_182.08116_51.0                    False   \n",
       "QE_2017_001814_191.14291_389.0                   False   \n",
       "QE_2017_001814_194.04424_237.0                   False   \n",
       "QE_2017_001814_194.1174_244.0                    False   \n",
       "\n",
       "bins                           98.5942_98.5942_98.5942  \\\n",
       "sample                                                   \n",
       "QE_2017_001814_177.05418_236.0                   False   \n",
       "QE_2017_001814_182.08116_51.0                    False   \n",
       "QE_2017_001814_191.14291_389.0                   False   \n",
       "QE_2017_001814_194.04424_237.0                   False   \n",
       "QE_2017_001814_194.1174_244.0                    False   \n",
       "\n",
       "bins                           98.8081_98.8081_98.8081  \\\n",
       "sample                                                   \n",
       "QE_2017_001814_177.05418_236.0                   False   \n",
       "QE_2017_001814_182.08116_51.0                    False   \n",
       "QE_2017_001814_191.14291_389.0                   False   \n",
       "QE_2017_001814_194.04424_237.0                   False   \n",
       "QE_2017_001814_194.1174_244.0                    False   \n",
       "\n",
       "bins                           98.9756_98.9755_98.9759  \\\n",
       "sample                                                   \n",
       "QE_2017_001814_177.05418_236.0                   False   \n",
       "QE_2017_001814_182.08116_51.0                    False   \n",
       "QE_2017_001814_191.14291_389.0                   False   \n",
       "QE_2017_001814_194.04424_237.0                   False   \n",
       "QE_2017_001814_194.1174_244.0                    False   \n",
       "\n",
       "bins                           98.9844_98.9844_98.9845  \\\n",
       "sample                                                   \n",
       "QE_2017_001814_177.05418_236.0                   False   \n",
       "QE_2017_001814_182.08116_51.0                    False   \n",
       "QE_2017_001814_191.14291_389.0                   False   \n",
       "QE_2017_001814_194.04424_237.0                   False   \n",
       "QE_2017_001814_194.1174_244.0                    False   \n",
       "\n",
       "bins                           99.0034_99.0034_99.0034  \\\n",
       "sample                                                   \n",
       "QE_2017_001814_177.05418_236.0                   False   \n",
       "QE_2017_001814_182.08116_51.0                    False   \n",
       "QE_2017_001814_191.14291_389.0                   False   \n",
       "QE_2017_001814_194.04424_237.0                   False   \n",
       "QE_2017_001814_194.1174_244.0                    False   \n",
       "\n",
       "bins                           99.0443_99.0441_99.0445  \\\n",
       "sample                                                   \n",
       "QE_2017_001814_177.05418_236.0                   False   \n",
       "QE_2017_001814_182.08116_51.0                    False   \n",
       "QE_2017_001814_191.14291_389.0                   False   \n",
       "QE_2017_001814_194.04424_237.0                   False   \n",
       "QE_2017_001814_194.1174_244.0                    False   \n",
       "\n",
       "bins                           99.0807_99.0804_99.0809 99.1172_99.1172_99.1172  \n",
       "sample                                                                          \n",
       "QE_2017_001814_177.05418_236.0                   False                   False  \n",
       "QE_2017_001814_182.08116_51.0                    False                   False  \n",
       "QE_2017_001814_191.14291_389.0                   False                   False  \n",
       "QE_2017_001814_194.04424_237.0                   False                   False  \n",
       "QE_2017_001814_194.1174_244.0                    False                   False  \n",
       "\n",
       "[5 rows x 1941 columns]"
      ]
     },
     "execution_count": 7,
     "metadata": {},
     "output_type": "execute_result"
    }
   ],
   "source": [
    "# One hot encoded matrix output from mz binning.\n",
    "tree.onehot_df.head()"
   ]
  },
  {
   "cell_type": "markdown",
   "metadata": {},
   "source": [
    "NB. \"one-hot\" encoding is a common technique in ML/statistice where 1 (or True) denotes presence and 0 (or False) denotes absence.\n",
    "It's related to the concept of Dummy coding.\n",
    "\n",
    "We can also look at the clusters derived from the computed tree."
   ]
  },
  {
   "cell_type": "code",
   "execution_count": 8,
   "metadata": {},
   "outputs": [
    {
     "data": {
      "text/plain": [
       "array([151, 147,  97,  36, 103, 153,  99,  89,  93,  93,  92,  40,  86,\n",
       "       145,  61, 137, 138, 143, 110, 111,  70,  82, 129, 126, 119, 136,\n",
       "         7,  17,  82, 120,  85, 115,  73, 108, 105, 107, 114,   9,   6,\n",
       "         6,   6,  14,  59,  46,  16,   8,  53,  75,  12,  69,  31,  29,\n",
       "         4,  34,  22,  57,  26,  76, 158,  77, 151,  88,  95,  39,  38,\n",
       "        41, 149,  37, 154, 153,  78,  87,  89,  80,  81,  80,  89, 130,\n",
       "        42,  38, 133, 131,  90, 117, 118,  92, 141, 127,  83,  62,  61,\n",
       "        63, 123,  15, 134, 129, 135, 125, 140,   9, 159,  48, 121, 121,\n",
       "        18,  84,  65,  73, 106, 112, 101,   6,   7,   9,  64,  47,   8,\n",
       "        52,  53,  56, 155,  55,  71,  11,  44,  35,  13,  32,  30,  33,\n",
       "       157,  58,  27, 156,   5, 160, 139,  98, 151,  88, 148,  96, 104,\n",
       "       152, 154, 154, 152, 154, 154,  79, 100,  80,  89, 150,  91, 132,\n",
       "       117,  94,  86, 145, 146, 137, 124, 144, 142, 136, 128,  49,  21,\n",
       "       120, 122,  67,  66, 116, 109, 113, 102,   6,  19,  19,  74,  60,\n",
       "        68,  16,  50,  54,  54,  20,  72,  51,  43,  43,  45,  10,  25,\n",
       "        23,  24,   1,   3,  28,   2], dtype=int32)"
      ]
     },
     "execution_count": 8,
     "metadata": {},
     "output_type": "execute_result"
    }
   ],
   "source": [
    "# Clusters derived from the tree using cutoff=0.4\n",
    "tree.clusters"
   ]
  },
  {
   "cell_type": "markdown",
   "metadata": {},
   "source": [
    "This is a [numpy](https://www.numpy.org/) array.\n",
    "The order of these is the same as the row index in the one-hot dataframe.\n",
    "\n",
    "So we can obtain clusters for each sample like so..."
   ]
  },
  {
   "cell_type": "code",
   "execution_count": 9,
   "metadata": {
    "scrolled": false
   },
   "outputs": [
    {
     "data": {
      "text/plain": [
       "151"
      ]
     },
     "execution_count": 9,
     "metadata": {},
     "output_type": "execute_result"
    }
   ],
   "source": [
    "dict(zip(tree.onehot_df.index, tree.clusters))['QE_2017_001814_177.05418_236.0']"
   ]
  },
  {
   "cell_type": "markdown",
   "metadata": {},
   "source": [
    "As with the python pipeline in the quick-start notebook, we can easily choose a new cutoff for clustering.\n",
    "In fact, the pipeline function returns a tree."
   ]
  },
  {
   "cell_type": "code",
   "execution_count": 10,
   "metadata": {},
   "outputs": [
    {
     "name": "stdout",
     "output_type": "stream",
     "text": [
      "BEFORE: Cutoff: 0.4 n clusters: 160\n",
      "AFTER: Cutoff: 0.6 n clusters: 113\n"
     ]
    }
   ],
   "source": [
    "# To pick new clusters without computing a new tree...\n",
    "print(\"BEFORE: Cutoff:\", tree.cutoff, \"n clusters:\", len(set(tree.clusters)))\n",
    "\n",
    "tree.cut_tree(cutoff=0.6)\n",
    "print(\"AFTER: Cutoff:\", tree.cutoff, \"n clusters:\", len(set(tree.clusters)))\n",
    "\n",
    "# Note that the object's cutoff value is changed."
   ]
  },
  {
   "cell_type": "markdown",
   "metadata": {},
   "source": [
    "To get the cluster numbers along-side the presence absence data we can simply add a new colum to the dataframe, \n",
    "since it's already in the correct order."
   ]
  },
  {
   "cell_type": "code",
   "execution_count": 11,
   "metadata": {},
   "outputs": [
    {
     "data": {
      "text/html": [
       "<div>\n",
       "<style scoped>\n",
       "    .dataframe tbody tr th:only-of-type {\n",
       "        vertical-align: middle;\n",
       "    }\n",
       "\n",
       "    .dataframe tbody tr th {\n",
       "        vertical-align: top;\n",
       "    }\n",
       "\n",
       "    .dataframe thead th {\n",
       "        text-align: right;\n",
       "    }\n",
       "</style>\n",
       "<table border=\"1\" class=\"dataframe\">\n",
       "  <thead>\n",
       "    <tr style=\"text-align: right;\">\n",
       "      <th>bins</th>\n",
       "      <th>cluster</th>\n",
       "      <th>100.0246_100.0246_100.0246</th>\n",
       "      <th>100.0395_100.0395_100.0395</th>\n",
       "      <th>100.0759_100.0759_100.0760</th>\n",
       "      <th>100.1123_100.1122_100.1123</th>\n",
       "      <th>100.1311_100.1311_100.1311</th>\n",
       "      <th>100.5562_100.5562_100.5562</th>\n",
       "      <th>100.6662_100.6662_100.6662</th>\n",
       "      <th>101.0235_101.0235_101.0235</th>\n",
       "      <th>101.0598_101.0596_101.0599</th>\n",
       "      <th>...</th>\n",
       "      <th>98.0966_98.0964_98.0967</th>\n",
       "      <th>98.5142_98.5142_98.5142</th>\n",
       "      <th>98.5942_98.5942_98.5942</th>\n",
       "      <th>98.8081_98.8081_98.8081</th>\n",
       "      <th>98.9756_98.9755_98.9759</th>\n",
       "      <th>98.9844_98.9844_98.9845</th>\n",
       "      <th>99.0034_99.0034_99.0034</th>\n",
       "      <th>99.0443_99.0441_99.0445</th>\n",
       "      <th>99.0807_99.0804_99.0809</th>\n",
       "      <th>99.1172_99.1172_99.1172</th>\n",
       "    </tr>\n",
       "    <tr>\n",
       "      <th>sample</th>\n",
       "      <th></th>\n",
       "      <th></th>\n",
       "      <th></th>\n",
       "      <th></th>\n",
       "      <th></th>\n",
       "      <th></th>\n",
       "      <th></th>\n",
       "      <th></th>\n",
       "      <th></th>\n",
       "      <th></th>\n",
       "      <th></th>\n",
       "      <th></th>\n",
       "      <th></th>\n",
       "      <th></th>\n",
       "      <th></th>\n",
       "      <th></th>\n",
       "      <th></th>\n",
       "      <th></th>\n",
       "      <th></th>\n",
       "      <th></th>\n",
       "      <th></th>\n",
       "    </tr>\n",
       "  </thead>\n",
       "  <tbody>\n",
       "    <tr>\n",
       "      <th>QE_2017_001816_792.56232_718.0</th>\n",
       "      <td>1</td>\n",
       "      <td>False</td>\n",
       "      <td>False</td>\n",
       "      <td>False</td>\n",
       "      <td>False</td>\n",
       "      <td>False</td>\n",
       "      <td>False</td>\n",
       "      <td>False</td>\n",
       "      <td>False</td>\n",
       "      <td>False</td>\n",
       "      <td>...</td>\n",
       "      <td>False</td>\n",
       "      <td>False</td>\n",
       "      <td>False</td>\n",
       "      <td>False</td>\n",
       "      <td>False</td>\n",
       "      <td>False</td>\n",
       "      <td>False</td>\n",
       "      <td>False</td>\n",
       "      <td>False</td>\n",
       "      <td>False</td>\n",
       "    </tr>\n",
       "    <tr>\n",
       "      <th>QE_2017_001816_613.48218_838.0</th>\n",
       "      <td>1</td>\n",
       "      <td>False</td>\n",
       "      <td>False</td>\n",
       "      <td>False</td>\n",
       "      <td>False</td>\n",
       "      <td>False</td>\n",
       "      <td>False</td>\n",
       "      <td>False</td>\n",
       "      <td>False</td>\n",
       "      <td>False</td>\n",
       "      <td>...</td>\n",
       "      <td>False</td>\n",
       "      <td>False</td>\n",
       "      <td>False</td>\n",
       "      <td>False</td>\n",
       "      <td>False</td>\n",
       "      <td>False</td>\n",
       "      <td>False</td>\n",
       "      <td>False</td>\n",
       "      <td>False</td>\n",
       "      <td>False</td>\n",
       "    </tr>\n",
       "    <tr>\n",
       "      <th>QE_2017_001816_613.4826_738.0</th>\n",
       "      <td>2</td>\n",
       "      <td>False</td>\n",
       "      <td>False</td>\n",
       "      <td>False</td>\n",
       "      <td>False</td>\n",
       "      <td>False</td>\n",
       "      <td>False</td>\n",
       "      <td>False</td>\n",
       "      <td>False</td>\n",
       "      <td>False</td>\n",
       "      <td>...</td>\n",
       "      <td>False</td>\n",
       "      <td>False</td>\n",
       "      <td>False</td>\n",
       "      <td>False</td>\n",
       "      <td>False</td>\n",
       "      <td>False</td>\n",
       "      <td>False</td>\n",
       "      <td>False</td>\n",
       "      <td>False</td>\n",
       "      <td>False</td>\n",
       "    </tr>\n",
       "    <tr>\n",
       "      <th>QE_2017_001814_596.30963_602.0</th>\n",
       "      <td>3</td>\n",
       "      <td>False</td>\n",
       "      <td>False</td>\n",
       "      <td>False</td>\n",
       "      <td>False</td>\n",
       "      <td>False</td>\n",
       "      <td>False</td>\n",
       "      <td>False</td>\n",
       "      <td>False</td>\n",
       "      <td>False</td>\n",
       "      <td>...</td>\n",
       "      <td>False</td>\n",
       "      <td>False</td>\n",
       "      <td>False</td>\n",
       "      <td>False</td>\n",
       "      <td>False</td>\n",
       "      <td>False</td>\n",
       "      <td>False</td>\n",
       "      <td>False</td>\n",
       "      <td>False</td>\n",
       "      <td>False</td>\n",
       "    </tr>\n",
       "    <tr>\n",
       "      <th>QE_2017_001815_792.5625_866.0</th>\n",
       "      <td>4</td>\n",
       "      <td>False</td>\n",
       "      <td>False</td>\n",
       "      <td>False</td>\n",
       "      <td>False</td>\n",
       "      <td>False</td>\n",
       "      <td>False</td>\n",
       "      <td>False</td>\n",
       "      <td>False</td>\n",
       "      <td>False</td>\n",
       "      <td>...</td>\n",
       "      <td>False</td>\n",
       "      <td>False</td>\n",
       "      <td>False</td>\n",
       "      <td>False</td>\n",
       "      <td>False</td>\n",
       "      <td>False</td>\n",
       "      <td>False</td>\n",
       "      <td>False</td>\n",
       "      <td>False</td>\n",
       "      <td>False</td>\n",
       "    </tr>\n",
       "  </tbody>\n",
       "</table>\n",
       "<p>5 rows × 1942 columns</p>\n",
       "</div>"
      ],
      "text/plain": [
       "bins                            cluster 100.0246_100.0246_100.0246  \\\n",
       "sample                                                               \n",
       "QE_2017_001816_792.56232_718.0        1                      False   \n",
       "QE_2017_001816_613.48218_838.0        1                      False   \n",
       "QE_2017_001816_613.4826_738.0         2                      False   \n",
       "QE_2017_001814_596.30963_602.0        3                      False   \n",
       "QE_2017_001815_792.5625_866.0         4                      False   \n",
       "\n",
       "bins                           100.0395_100.0395_100.0395  \\\n",
       "sample                                                      \n",
       "QE_2017_001816_792.56232_718.0                      False   \n",
       "QE_2017_001816_613.48218_838.0                      False   \n",
       "QE_2017_001816_613.4826_738.0                       False   \n",
       "QE_2017_001814_596.30963_602.0                      False   \n",
       "QE_2017_001815_792.5625_866.0                       False   \n",
       "\n",
       "bins                           100.0759_100.0759_100.0760  \\\n",
       "sample                                                      \n",
       "QE_2017_001816_792.56232_718.0                      False   \n",
       "QE_2017_001816_613.48218_838.0                      False   \n",
       "QE_2017_001816_613.4826_738.0                       False   \n",
       "QE_2017_001814_596.30963_602.0                      False   \n",
       "QE_2017_001815_792.5625_866.0                       False   \n",
       "\n",
       "bins                           100.1123_100.1122_100.1123  \\\n",
       "sample                                                      \n",
       "QE_2017_001816_792.56232_718.0                      False   \n",
       "QE_2017_001816_613.48218_838.0                      False   \n",
       "QE_2017_001816_613.4826_738.0                       False   \n",
       "QE_2017_001814_596.30963_602.0                      False   \n",
       "QE_2017_001815_792.5625_866.0                       False   \n",
       "\n",
       "bins                           100.1311_100.1311_100.1311  \\\n",
       "sample                                                      \n",
       "QE_2017_001816_792.56232_718.0                      False   \n",
       "QE_2017_001816_613.48218_838.0                      False   \n",
       "QE_2017_001816_613.4826_738.0                       False   \n",
       "QE_2017_001814_596.30963_602.0                      False   \n",
       "QE_2017_001815_792.5625_866.0                       False   \n",
       "\n",
       "bins                           100.5562_100.5562_100.5562  \\\n",
       "sample                                                      \n",
       "QE_2017_001816_792.56232_718.0                      False   \n",
       "QE_2017_001816_613.48218_838.0                      False   \n",
       "QE_2017_001816_613.4826_738.0                       False   \n",
       "QE_2017_001814_596.30963_602.0                      False   \n",
       "QE_2017_001815_792.5625_866.0                       False   \n",
       "\n",
       "bins                           100.6662_100.6662_100.6662  \\\n",
       "sample                                                      \n",
       "QE_2017_001816_792.56232_718.0                      False   \n",
       "QE_2017_001816_613.48218_838.0                      False   \n",
       "QE_2017_001816_613.4826_738.0                       False   \n",
       "QE_2017_001814_596.30963_602.0                      False   \n",
       "QE_2017_001815_792.5625_866.0                       False   \n",
       "\n",
       "bins                           101.0235_101.0235_101.0235  \\\n",
       "sample                                                      \n",
       "QE_2017_001816_792.56232_718.0                      False   \n",
       "QE_2017_001816_613.48218_838.0                      False   \n",
       "QE_2017_001816_613.4826_738.0                       False   \n",
       "QE_2017_001814_596.30963_602.0                      False   \n",
       "QE_2017_001815_792.5625_866.0                       False   \n",
       "\n",
       "bins                           101.0598_101.0596_101.0599  ...  \\\n",
       "sample                                                     ...   \n",
       "QE_2017_001816_792.56232_718.0                      False  ...   \n",
       "QE_2017_001816_613.48218_838.0                      False  ...   \n",
       "QE_2017_001816_613.4826_738.0                       False  ...   \n",
       "QE_2017_001814_596.30963_602.0                      False  ...   \n",
       "QE_2017_001815_792.5625_866.0                       False  ...   \n",
       "\n",
       "bins                           98.0966_98.0964_98.0967  \\\n",
       "sample                                                   \n",
       "QE_2017_001816_792.56232_718.0                   False   \n",
       "QE_2017_001816_613.48218_838.0                   False   \n",
       "QE_2017_001816_613.4826_738.0                    False   \n",
       "QE_2017_001814_596.30963_602.0                   False   \n",
       "QE_2017_001815_792.5625_866.0                    False   \n",
       "\n",
       "bins                           98.5142_98.5142_98.5142  \\\n",
       "sample                                                   \n",
       "QE_2017_001816_792.56232_718.0                   False   \n",
       "QE_2017_001816_613.48218_838.0                   False   \n",
       "QE_2017_001816_613.4826_738.0                    False   \n",
       "QE_2017_001814_596.30963_602.0                   False   \n",
       "QE_2017_001815_792.5625_866.0                    False   \n",
       "\n",
       "bins                           98.5942_98.5942_98.5942  \\\n",
       "sample                                                   \n",
       "QE_2017_001816_792.56232_718.0                   False   \n",
       "QE_2017_001816_613.48218_838.0                   False   \n",
       "QE_2017_001816_613.4826_738.0                    False   \n",
       "QE_2017_001814_596.30963_602.0                   False   \n",
       "QE_2017_001815_792.5625_866.0                    False   \n",
       "\n",
       "bins                           98.8081_98.8081_98.8081  \\\n",
       "sample                                                   \n",
       "QE_2017_001816_792.56232_718.0                   False   \n",
       "QE_2017_001816_613.48218_838.0                   False   \n",
       "QE_2017_001816_613.4826_738.0                    False   \n",
       "QE_2017_001814_596.30963_602.0                   False   \n",
       "QE_2017_001815_792.5625_866.0                    False   \n",
       "\n",
       "bins                           98.9756_98.9755_98.9759  \\\n",
       "sample                                                   \n",
       "QE_2017_001816_792.56232_718.0                   False   \n",
       "QE_2017_001816_613.48218_838.0                   False   \n",
       "QE_2017_001816_613.4826_738.0                    False   \n",
       "QE_2017_001814_596.30963_602.0                   False   \n",
       "QE_2017_001815_792.5625_866.0                    False   \n",
       "\n",
       "bins                           98.9844_98.9844_98.9845  \\\n",
       "sample                                                   \n",
       "QE_2017_001816_792.56232_718.0                   False   \n",
       "QE_2017_001816_613.48218_838.0                   False   \n",
       "QE_2017_001816_613.4826_738.0                    False   \n",
       "QE_2017_001814_596.30963_602.0                   False   \n",
       "QE_2017_001815_792.5625_866.0                    False   \n",
       "\n",
       "bins                           99.0034_99.0034_99.0034  \\\n",
       "sample                                                   \n",
       "QE_2017_001816_792.56232_718.0                   False   \n",
       "QE_2017_001816_613.48218_838.0                   False   \n",
       "QE_2017_001816_613.4826_738.0                    False   \n",
       "QE_2017_001814_596.30963_602.0                   False   \n",
       "QE_2017_001815_792.5625_866.0                    False   \n",
       "\n",
       "bins                           99.0443_99.0441_99.0445  \\\n",
       "sample                                                   \n",
       "QE_2017_001816_792.56232_718.0                   False   \n",
       "QE_2017_001816_613.48218_838.0                   False   \n",
       "QE_2017_001816_613.4826_738.0                    False   \n",
       "QE_2017_001814_596.30963_602.0                   False   \n",
       "QE_2017_001815_792.5625_866.0                    False   \n",
       "\n",
       "bins                           99.0807_99.0804_99.0809 99.1172_99.1172_99.1172  \n",
       "sample                                                                          \n",
       "QE_2017_001816_792.56232_718.0                   False                   False  \n",
       "QE_2017_001816_613.48218_838.0                   False                   False  \n",
       "QE_2017_001816_613.4826_738.0                    False                   False  \n",
       "QE_2017_001814_596.30963_602.0                   False                   False  \n",
       "QE_2017_001815_792.5625_866.0                    False                   False  \n",
       "\n",
       "[5 rows x 1942 columns]"
      ]
     },
     "execution_count": 11,
     "metadata": {},
     "output_type": "execute_result"
    }
   ],
   "source": [
    "# Make sure you take a copy to avoid editing the data.\n",
    "oh = tree.onehot_df.copy()\n",
    "oh[\"cluster\"] = tree.clusters\n",
    "\n",
    "# reorder columns\n",
    "oh = oh[[\"cluster\"] + [col for col in oh.columns if col != \"cluster\"]]\n",
    "\n",
    "# Sort values by cluster\n",
    "oh.sort_values(by=\"cluster\", inplace=True)\n",
    "\n",
    "oh.head()"
   ]
  },
  {
   "cell_type": "markdown",
   "metadata": {},
   "source": [
    "We can write out the results of the clustering as we saw in the quick-start notebook.\n",
    "Note that the `path` will be a directory where multiple files are written, and it must already exist.\n",
    "\n",
    "Also, any results already in the directory will be overwritten.\n",
    "The default path will use a combination of the date and time to avoid overwriting data."
   ]
  },
  {
   "cell_type": "code",
   "execution_count": 12,
   "metadata": {},
   "outputs": [],
   "source": [
    "# Create the directory to store results.\n",
    "os.makedirs(\"results\", exist_ok=True)\n",
    "\n",
    "# Generate the plots of clusters.\n",
    "tree.write_summaries(path=\"results\")"
   ]
  },
  {
   "cell_type": "code",
   "execution_count": 13,
   "metadata": {},
   "outputs": [
    {
     "name": "stdout",
     "output_type": "stream",
     "text": [
      "total 21380\n",
      "-rw-r--r--. 1 darcyabjones darcyabjones   61595 Apr 17 18:11 cluster_100_1.png\n",
      "-rw-r--r--. 1 darcyabjones darcyabjones    5777 Apr 17 18:11 cluster_100_1.xlsx\n",
      "-rw-r--r--. 1 darcyabjones darcyabjones   60178 Apr 17 18:11 cluster_101_1.png\n",
      "-rw-r--r--. 1 darcyabjones darcyabjones    5754 Apr 17 18:11 cluster_101_1.xlsx\n",
      "-rw-r--r--. 1 darcyabjones darcyabjones  212217 Apr 17 16:55 cluster_10_12.png\n",
      "-rw-r--r--. 1 darcyabjones darcyabjones   10746 Apr 17 16:55 cluster_10_12.xlsx\n",
      "-rw-r--r--. 1 darcyabjones darcyabjones   77106 Apr 17 18:11 cluster_102_2.png\n",
      "-rw-r--r--. 1 darcyabjones darcyabjones    5993 Apr 17 18:11 cluster_102_2.xlsx\n",
      "-rw-r--r--. 1 darcyabjones darcyabjones   60734 Apr 17 18:11 cluster_103_1.png\n"
     ]
    }
   ],
   "source": [
    "%%bash\n",
    "\n",
    "ls -l results | head"
   ]
  },
  {
   "cell_type": "markdown",
   "metadata": {},
   "source": [
    "We can inspect the hierarchical clustering linkage map output from scipy.\n",
    "Unfortunately, this lacks a bit of intuition.\n",
    "The first two columns refer to two nodes in the tree.\n",
    "The third column gives the distance between the two nodes.\n",
    "And the fourth column gives the number of leaves that are in or beneath these nodes."
   ]
  },
  {
   "cell_type": "code",
   "execution_count": 14,
   "metadata": {},
   "outputs": [
    {
     "data": {
      "text/plain": [
       "array([[6.80000000e+01, 1.48000000e+02, 1.81818182e-01, 2.00000000e+00],\n",
       "       [7.00000000e+00, 7.60000000e+01, 1.92307692e-01, 2.00000000e+00],\n",
       "       [7.20000000e+01, 2.02000000e+02, 2.11538462e-01, 3.00000000e+00],\n",
       "       [4.40000000e+01, 1.83000000e+02, 2.37623762e-01, 2.00000000e+00],\n",
       "       [1.45000000e+02, 1.47000000e+02, 2.50000000e-01, 2.00000000e+00],\n",
       "       [1.00000000e+01, 8.50000000e+01, 2.50000000e-01, 2.00000000e+00]])"
      ]
     },
     "execution_count": 14,
     "metadata": {},
     "output_type": "execute_result"
    }
   ],
   "source": [
    "# Linkage tree from scipy.\n",
    "tree.tree[:6]"
   ]
  },
  {
   "cell_type": "markdown",
   "metadata": {},
   "source": [
    "The tree is probably more useful to you.\n",
    "You can write an interactive tree to a file using the `plot` method on the `Tree` object."
   ]
  },
  {
   "cell_type": "code",
   "execution_count": 15,
   "metadata": {},
   "outputs": [],
   "source": [
    "# To write out the tree.\n",
    "# NB the results folder already exists from the previous step where we wrote summaries.\n",
    "tree.plot(filename=\"results/simple_dendrogram.html\", width=1000, height=1000);"
   ]
  },
  {
   "cell_type": "code",
   "execution_count": 16,
   "metadata": {},
   "outputs": [
    {
     "name": "stdout",
     "output_type": "stream",
     "text": [
      "-rw-r--r--. 1 darcyabjones darcyabjones 3143386 Apr 17 18:12 results/simple_dendrogram.html\n"
     ]
    }
   ],
   "source": [
    "%%bash\n",
    "ls -la results/simple_dendrogram.html"
   ]
  },
  {
   "cell_type": "markdown",
   "metadata": {},
   "source": [
    "Note that the width and height values are in pixels.\n",
    "If your sample names are fairly long like ours are, you might like to fiddle with the height.\n",
    "You can navigate to the .html file and open it in your favourite browser.\n",
    "\n",
    "Since you're already using a Jupyter notebook you might like to plot the tree inline with your other analysis.\n",
    "We can do that using some plotly functionality.\n",
    "\n",
    "The `plot` method returns a Plotly `Figure` object which you can use with normal plo`ly functions.\n",
    "So we can use the `notebook_mode` to show it inline."
   ]
  },
  {
   "cell_type": "code",
   "execution_count": 17,
   "metadata": {},
   "outputs": [
    {
     "data": {
      "text/html": [
       "        <script type=\"text/javascript\">\n",
       "        window.PlotlyConfig = {MathJaxConfig: 'local'};\n",
       "        if (window.MathJax) {MathJax.Hub.Config({SVG: {font: \"STIX-Web\"}});}\n",
       "        if (typeof require !== 'undefined') {\n",
       "        require.undef(\"plotly\");\n",
       "        requirejs.config({\n",
       "            paths: {\n",
       "                'plotly': ['https://cdn.plot.ly/plotly-latest.min']\n",
       "            }\n",
       "        });\n",
       "        require(['plotly'], function(Plotly) {\n",
       "            window._Plotly = Plotly;\n",
       "        });\n",
       "        }\n",
       "        </script>\n",
       "        "
      ]
     },
     "metadata": {},
     "output_type": "display_data"
    },
    {
     "data": {
      "application/vnd.plotly.v1+json": {
       "config": {
        "linkText": "Export to plot.ly",
        "plotlyServerURL": "https://plot.ly",
        "showLink": false
       },
       "data": [
        {
         "hoverinfo": "text",
         "marker": {
          "color": "rgb(61,153,112)"
         },
         "mode": "lines",
         "text": [
          "cluster: 1, component: QE_2017_001816_613.48218_838.0",
          "cluster: 1, component: QE_2017_001816_613.48218_838.0",
          "cluster: 1, component: QE_2017_001816_792.56232_718.0",
          "cluster: 1, component: QE_2017_001816_792.56232_718.0"
         ],
         "type": "scatter",
         "uid": "fe2e9043-48a3-4de9-b50e-852cb32fd6de",
         "x": [
          15,
          15,
          25,
          25
         ],
         "xaxis": "x",
         "y": [
          0,
          0.5662650602409639,
          0.5662650602409639,
          0
         ],
         "yaxis": "y"
        },
        {
         "hoverinfo": "text",
         "marker": {
          "color": "rgb(0,116,217)"
         },
         "mode": "lines",
         "text": [
          "cluster: 2, component: QE_2017_001816_613.4826_738.0",
          "cluster: 2, component: QE_2017_001816_613.4826_738.0",
          null,
          null
         ],
         "type": "scatter",
         "uid": "4ec4b3df-9d48-46c5-ba46-7435579328e2",
         "x": [
          5,
          5,
          20,
          20
         ],
         "xaxis": "x",
         "y": [
          0,
          0.676923076923077,
          0.676923076923077,
          0.5662650602409639
         ],
         "yaxis": "y"
        },
        {
         "hoverinfo": "text",
         "marker": {
          "color": "rgb(0,116,217)"
         },
         "mode": "lines",
         "text": [
          "cluster: 3, component: QE_2017_001814_596.30963_602.0",
          "cluster: 3, component: QE_2017_001814_596.30963_602.0",
          "cluster: 4, component: QE_2017_001815_792.5625_866.0",
          "cluster: 4, component: QE_2017_001815_792.5625_866.0"
         ],
         "type": "scatter",
         "uid": "899d5a37-2f9b-4b4f-aba3-3e31d6cf9316",
         "x": [
          35,
          35,
          45,
          45
         ],
         "xaxis": "x",
         "y": [
          0,
          0.7142857142857143,
          0.7142857142857143,
          0
         ],
         "yaxis": "y"
        },
        {
         "hoverinfo": "text",
         "marker": {
          "color": "rgb(0,116,217)"
         },
         "mode": "lines",
         "text": [
          null,
          null,
          null,
          null
         ],
         "type": "scatter",
         "uid": "21709b3f-02c4-4b8a-8a0b-0d0fb0c8b3cc",
         "x": [
          12.5,
          12.5,
          40,
          40
         ],
         "xaxis": "x",
         "y": [
          0.676923076923077,
          0.7763157894736842,
          0.7763157894736842,
          0.7142857142857143
         ],
         "yaxis": "y"
        },
        {
         "hoverinfo": "text",
         "marker": {
          "color": "rgb(255,65,54)"
         },
         "mode": "lines",
         "text": [
          "cluster: 5, component: QE_2017_001814_335.25784_608.0",
          "cluster: 5, component: QE_2017_001814_335.25784_608.0",
          "cluster: 5, component: QE_2017_001816_335.25772_723.0",
          "cluster: 5, component: QE_2017_001816_335.25772_723.0"
         ],
         "type": "scatter",
         "uid": "3627a961-3f93-468c-8c41-e9dffcb74211",
         "x": [
          105,
          105,
          115,
          115
         ],
         "xaxis": "x",
         "y": [
          0,
          0.26,
          0.26,
          0
         ],
         "yaxis": "y"
        },
        {
         "hoverinfo": "text",
         "marker": {
          "color": "rgb(255,65,54)"
         },
         "mode": "lines",
         "text": [
          "cluster: 5, component: QE_2017_001814_335.25772_725.0",
          "cluster: 5, component: QE_2017_001814_335.25772_725.0",
          null,
          null
         ],
         "type": "scatter",
         "uid": "12b8ecff-b6f8-4332-9d26-4e354c2055c4",
         "x": [
          95,
          95,
          110,
          110
         ],
         "xaxis": "x",
         "y": [
          0,
          0.2830188679245283,
          0.2830188679245283,
          0.26
         ],
         "yaxis": "y"
        },
        {
         "hoverinfo": "text",
         "marker": {
          "color": "rgb(255,65,54)"
         },
         "mode": "lines",
         "text": [
          "cluster: 5, component: QE_2017_001814_335.25784_628.0",
          "cluster: 5, component: QE_2017_001814_335.25784_628.0",
          "cluster: 5, component: QE_2017_001815_335.25745_642.0",
          "cluster: 5, component: QE_2017_001815_335.25745_642.0"
         ],
         "type": "scatter",
         "uid": "7b844d10-5e16-4db8-8d0a-9bbe37047ea7",
         "x": [
          125,
          125,
          135,
          135
         ],
         "xaxis": "x",
         "y": [
          0,
          0.2857142857142857,
          0.2857142857142857,
          0
         ],
         "yaxis": "y"
        },
        {
         "hoverinfo": "text",
         "marker": {
          "color": "rgb(255,65,54)"
         },
         "mode": "lines",
         "text": [
          null,
          null,
          null,
          null
         ],
         "type": "scatter",
         "uid": "c7c73290-753d-4ac7-ba92-90996a326cb2",
         "x": [
          102.5,
          102.5,
          130,
          130
         ],
         "xaxis": "x",
         "y": [
          0.2830188679245283,
          0.3389830508474576,
          0.3389830508474576,
          0.2857142857142857
         ],
         "yaxis": "y"
        },
        {
         "hoverinfo": "text",
         "marker": {
          "color": "rgb(255,65,54)"
         },
         "mode": "lines",
         "text": [
          "cluster: 5, component: QE_2017_001814_261.22073_634.0",
          "cluster: 5, component: QE_2017_001814_261.22073_634.0",
          "cluster: 5, component: QE_2017_001815_335.25784_587.0",
          "cluster: 5, component: QE_2017_001815_335.25784_587.0"
         ],
         "type": "scatter",
         "uid": "80ebb1cd-26cc-48c9-9cf8-210889fae406",
         "x": [
          145,
          145,
          155,
          155
         ],
         "xaxis": "x",
         "y": [
          0,
          0.375,
          0.375,
          0
         ],
         "yaxis": "y"
        },
        {
         "hoverinfo": "text",
         "marker": {
          "color": "rgb(255,65,54)"
         },
         "mode": "lines",
         "text": [
          null,
          null,
          null,
          null
         ],
         "type": "scatter",
         "uid": "d15fa381-f757-403b-b350-d01e4992f0d8",
         "x": [
          116.25,
          116.25,
          150,
          150
         ],
         "xaxis": "x",
         "y": [
          0.3389830508474576,
          0.4117647058823529,
          0.4117647058823529,
          0.375
         ],
         "yaxis": "y"
        },
        {
         "hoverinfo": "text",
         "marker": {
          "color": "rgb(255,65,54)"
         },
         "mode": "lines",
         "text": [
          "cluster: 5, component: QE_2017_001814_353.26889_609.0",
          "cluster: 5, component: QE_2017_001814_353.26889_609.0",
          "cluster: 5, component: QE_2017_001815_353.26862_642.0",
          "cluster: 5, component: QE_2017_001815_353.26862_642.0"
         ],
         "type": "scatter",
         "uid": "11c6054d-4f6d-4e64-b6a5-f8c0a303f124",
         "x": [
          165,
          165,
          175,
          175
         ],
         "xaxis": "x",
         "y": [
          0,
          0.27419354838709675,
          0.27419354838709675,
          0
         ],
         "yaxis": "y"
        },
        {
         "hoverinfo": "text",
         "marker": {
          "color": "rgb(255,65,54)"
         },
         "mode": "lines",
         "text": [
          "cluster: 5, component: QE_2017_001814_335.25772_638.0",
          "cluster: 5, component: QE_2017_001814_335.25772_638.0",
          "cluster: 5, component: QE_2017_001815_335.2579_601.0",
          "cluster: 5, component: QE_2017_001815_335.2579_601.0"
         ],
         "type": "scatter",
         "uid": "cfbd419f-baf2-483d-9264-3304b2f4b398",
         "x": [
          195,
          195,
          205,
          205
         ],
         "xaxis": "x",
         "y": [
          0,
          0.29411764705882354,
          0.29411764705882354,
          0
         ],
         "yaxis": "y"
        },
        {
         "hoverinfo": "text",
         "marker": {
          "color": "rgb(255,65,54)"
         },
         "mode": "lines",
         "text": [
          "cluster: 5, component: QE_2017_001815_261.22073_643.0",
          "cluster: 5, component: QE_2017_001815_261.22073_643.0",
          null,
          null
         ],
         "type": "scatter",
         "uid": "f0f20e9f-e908-4305-872d-32a15ef5a39c",
         "x": [
          185,
          185,
          200,
          200
         ],
         "xaxis": "x",
         "y": [
          0,
          0.38461538461538464,
          0.38461538461538464,
          0.29411764705882354
         ],
         "yaxis": "y"
        },
        {
         "hoverinfo": "text",
         "marker": {
          "color": "rgb(255,65,54)"
         },
         "mode": "lines",
         "text": [
          null,
          null,
          null,
          null
         ],
         "type": "scatter",
         "uid": "53820d74-36cd-44b5-a6df-66f18982cbb5",
         "x": [
          170,
          170,
          192.5,
          192.5
         ],
         "xaxis": "x",
         "y": [
          0.27419354838709675,
          0.43333333333333335,
          0.43333333333333335,
          0.38461538461538464
         ],
         "yaxis": "y"
        },
        {
         "hoverinfo": "text",
         "marker": {
          "color": "rgb(255,65,54)"
         },
         "mode": "lines",
         "text": [
          null,
          null,
          null,
          null
         ],
         "type": "scatter",
         "uid": "9bf7922a-c8f3-4ae3-a5b5-7003f0be1ac2",
         "x": [
          133.125,
          133.125,
          181.25,
          181.25
         ],
         "xaxis": "x",
         "y": [
          0.4117647058823529,
          0.46153846153846156,
          0.46153846153846156,
          0.43333333333333335
         ],
         "yaxis": "y"
        },
        {
         "hoverinfo": "text",
         "marker": {
          "color": "rgb(255,65,54)"
         },
         "mode": "lines",
         "text": [
          "cluster: 5, component: QE_2017_001816_571.47186_717.0",
          "cluster: 5, component: QE_2017_001816_571.47186_717.0",
          null,
          null
         ],
         "type": "scatter",
         "uid": "50ce641e-9f18-4eb0-84d1-533eb1d1b560",
         "x": [
          85,
          85,
          157.1875,
          157.1875
         ],
         "xaxis": "x",
         "y": [
          0,
          0.5538461538461539,
          0.5538461538461539,
          0.46153846153846156
         ],
         "yaxis": "y"
        },
        {
         "hoverinfo": "text",
         "marker": {
          "color": "rgb(255,65,54)"
         },
         "mode": "lines",
         "text": [
          "cluster: 5, component: QE_2017_001815_507.27145_607.0",
          "cluster: 5, component: QE_2017_001815_507.27145_607.0",
          null,
          null
         ],
         "type": "scatter",
         "uid": "cfe61509-49f4-4d21-9efd-1ef01b041863",
         "x": [
          75,
          75,
          121.09375,
          121.09375
         ],
         "xaxis": "x",
         "y": [
          0,
          0.5737704918032787,
          0.5737704918032787,
          0.5538461538461539
         ],
         "yaxis": "y"
        },
        {
         "hoverinfo": "text",
         "marker": {
          "color": "rgb(0,116,217)"
         },
         "mode": "lines",
         "text": [
          "cluster: 6, component: QE_2017_001814_497.31033_643.0",
          "cluster: 6, component: QE_2017_001814_497.31033_643.0",
          null,
          null
         ],
         "type": "scatter",
         "uid": "3db18220-8d96-40ab-a2d9-8ada4d972790",
         "x": [
          65,
          65,
          98.046875,
          98.046875
         ],
         "xaxis": "x",
         "y": [
          0,
          0.6986301369863014,
          0.6986301369863014,
          0.5737704918032787
         ],
         "yaxis": "y"
        },
        {
         "hoverinfo": "text",
         "marker": {
          "color": "rgb(0,116,217)"
         },
         "mode": "lines",
         "text": [
          "cluster: 7, component: QE_2017_001815_571.4292_870.0",
          "cluster: 7, component: QE_2017_001815_571.4292_870.0",
          null,
          null
         ],
         "type": "scatter",
         "uid": "f32cfd81-314b-490e-a4fc-7fb5f7b7ca72",
         "x": [
          55,
          55,
          81.5234375,
          81.5234375
         ],
         "xaxis": "x",
         "y": [
          0,
          0.7962962962962963,
          0.7962962962962963,
          0.6986301369863014
         ],
         "yaxis": "y"
        },
        {
         "hoverinfo": "text",
         "marker": {
          "color": "rgb(0,116,217)"
         },
         "mode": "lines",
         "text": [
          "cluster: 8, component: QE_2017_001814_338.34146_850.0",
          "cluster: 8, component: QE_2017_001814_338.34146_850.0",
          "cluster: 9, component: QE_2017_001815_244.19048_762.0",
          "cluster: 9, component: QE_2017_001815_244.19048_762.0"
         ],
         "type": "scatter",
         "uid": "64090e7a-95a8-49e7-b755-ccf2b7af60ae",
         "x": [
          225,
          225,
          235,
          235
         ],
         "xaxis": "x",
         "y": [
          0,
          0.6031746031746031,
          0.6031746031746031,
          0
         ],
         "yaxis": "y"
        },
        {
         "hoverinfo": "text",
         "marker": {
          "color": "rgb(35,205,205)"
         },
         "mode": "lines",
         "text": [
          "cluster: 10, component: QE_2017_001814_353.26868_633.0",
          "cluster: 10, component: QE_2017_001814_353.26868_633.0",
          "cluster: 10, component: QE_2017_001816_353.26892_600.0",
          "cluster: 10, component: QE_2017_001816_353.26892_600.0"
         ],
         "type": "scatter",
         "uid": "246ad32f-9bda-4a57-890f-af549a172e63",
         "x": [
          245,
          245,
          255,
          255
         ],
         "xaxis": "x",
         "y": [
          0,
          0.2376237623762376,
          0.2376237623762376,
          0
         ],
         "yaxis": "y"
        },
        {
         "hoverinfo": "text",
         "marker": {
          "color": "rgb(35,205,205)"
         },
         "mode": "lines",
         "text": [
          "cluster: 10, component: QE_2017_001814_279.23157_719.0",
          "cluster: 10, component: QE_2017_001814_279.23157_719.0",
          "cluster: 10, component: QE_2017_001815_278.24762_684.0",
          "cluster: 10, component: QE_2017_001815_278.24762_684.0"
         ],
         "type": "scatter",
         "uid": "de3b63f1-1195-49f5-806b-d203de8ddfbd",
         "x": [
          265,
          265,
          275,
          275
         ],
         "xaxis": "x",
         "y": [
          0,
          0.43209876543209874,
          0.43209876543209874,
          0
         ],
         "yaxis": "y"
        },
        {
         "hoverinfo": "text",
         "marker": {
          "color": "rgb(35,205,205)"
         },
         "mode": "lines",
         "text": [
          null,
          null,
          null,
          null
         ],
         "type": "scatter",
         "uid": "e9d5e047-b59c-44de-8397-c05b7260d7a0",
         "x": [
          250,
          250,
          270,
          270
         ],
         "xaxis": "x",
         "y": [
          0.2376237623762376,
          0.5229357798165137,
          0.5229357798165137,
          0.43209876543209874
         ],
         "yaxis": "y"
        },
        {
         "hoverinfo": "text",
         "marker": {
          "color": "rgb(133,20,75)"
         },
         "mode": "lines",
         "text": [
          "cluster: 11, component: QE_2017_001816_337.27338_826.0",
          "cluster: 11, component: QE_2017_001816_337.27338_826.0",
          "cluster: 11, component: QE_2017_001816_337.27341_632.0",
          "cluster: 11, component: QE_2017_001816_337.27341_632.0"
         ],
         "type": "scatter",
         "uid": "950144a6-5a22-4dcd-9fec-7f9c793f9bf1",
         "x": [
          295,
          295,
          305,
          305
         ],
         "xaxis": "x",
         "y": [
          0,
          0.373134328358209,
          0.373134328358209,
          0
         ],
         "yaxis": "y"
        },
        {
         "hoverinfo": "text",
         "marker": {
          "color": "rgb(133,20,75)"
         },
         "mode": "lines",
         "text": [
          "cluster: 11, component: QE_2017_001816_435.25037_666.0",
          "cluster: 11, component: QE_2017_001816_435.25037_666.0",
          null,
          null
         ],
         "type": "scatter",
         "uid": "4c4796df-78e2-4238-b0ac-86ee2d05f09a",
         "x": [
          285,
          285,
          300,
          300
         ],
         "xaxis": "x",
         "y": [
          0,
          0.5416666666666666,
          0.5416666666666666,
          0.373134328358209
         ],
         "yaxis": "y"
        },
        {
         "hoverinfo": "text",
         "marker": {
          "color": "rgb(0,116,217)"
         },
         "mode": "lines",
         "text": [
          null,
          null,
          null,
          null
         ],
         "type": "scatter",
         "uid": "cdfd0e35-7d3a-4ced-90f0-f05c6446dab0",
         "x": [
          260,
          260,
          292.5,
          292.5
         ],
         "xaxis": "x",
         "y": [
          0.5229357798165137,
          0.6875,
          0.6875,
          0.5416666666666666
         ],
         "yaxis": "y"
        },
        {
         "hoverinfo": "text",
         "marker": {
          "color": "rgb(0,116,217)"
         },
         "mode": "lines",
         "text": [
          null,
          null,
          null,
          null
         ],
         "type": "scatter",
         "uid": "cfb29e8c-07e6-494f-a2e5-4859ea0a22e3",
         "x": [
          230,
          230,
          276.25,
          276.25
         ],
         "xaxis": "x",
         "y": [
          0.6031746031746031,
          0.7590361445783133,
          0.7590361445783133,
          0.6875
         ],
         "yaxis": "y"
        },
        {
         "hoverinfo": "text",
         "marker": {
          "color": "rgb(0,116,217)"
         },
         "mode": "lines",
         "text": [
          "cluster: 12, component: QE_2017_001816_272.25824_582.0",
          "cluster: 12, component: QE_2017_001816_272.25824_582.0",
          null,
          null
         ],
         "type": "scatter",
         "uid": "719fc6d1-8a24-455e-bc11-4d8eea2ff8e2",
         "x": [
          215,
          215,
          253.125,
          253.125
         ],
         "xaxis": "x",
         "y": [
          0,
          0.8243243243243243,
          0.8243243243243243,
          0.7590361445783133
         ],
         "yaxis": "y"
        },
        {
         "hoverinfo": "text",
         "marker": {
          "color": "rgb(0,116,217)"
         },
         "mode": "lines",
         "text": [
          null,
          null,
          null,
          null
         ],
         "type": "scatter",
         "uid": "f9f08107-2e6d-4c93-9bec-289fbbd1787b",
         "x": [
          68.26171875,
          68.26171875,
          234.0625,
          234.0625
         ],
         "xaxis": "x",
         "y": [
          0.7962962962962963,
          0.87,
          0.87,
          0.8243243243243243
         ],
         "yaxis": "y"
        },
        {
         "hoverinfo": "text",
         "marker": {
          "color": "rgb(0,116,217)"
         },
         "mode": "lines",
         "text": [
          null,
          null,
          null,
          null
         ],
         "type": "scatter",
         "uid": "e15deeb8-e467-4135-8d2e-9cb14961b48b",
         "x": [
          26.25,
          26.25,
          151.162109375,
          151.162109375
         ],
         "xaxis": "x",
         "y": [
          0.7763157894736842,
          0.9130434782608695,
          0.9130434782608695,
          0.87
         ],
         "yaxis": "y"
        },
        {
         "hoverinfo": "text",
         "marker": {
          "color": "rgb(0,116,217)"
         },
         "mode": "lines",
         "text": [
          "cluster: 13, component: QE_2017_001814_601.42426_706.0",
          "cluster: 13, component: QE_2017_001814_601.42426_706.0",
          "cluster: 14, component: QE_2017_001816_599.40869_793.0",
          "cluster: 14, component: QE_2017_001816_599.40869_793.0"
         ],
         "type": "scatter",
         "uid": "a1eefb31-cf46-40c7-9d7f-11301e6ff350",
         "x": [
          345,
          345,
          355,
          355
         ],
         "xaxis": "x",
         "y": [
          0,
          0.63,
          0.63,
          0
         ],
         "yaxis": "y"
        },
        {
         "hoverinfo": "text",
         "marker": {
          "color": "rgb(0,116,217)"
         },
         "mode": "lines",
         "text": [
          "cluster: 15, component: QE_2017_001816_599.40948_660.0",
          "cluster: 15, component: QE_2017_001816_599.40948_660.0",
          null,
          null
         ],
         "type": "scatter",
         "uid": "9826c0aa-cbe8-4625-90a3-5010fb1adbd7",
         "x": [
          335,
          335,
          350,
          350
         ],
         "xaxis": "x",
         "y": [
          0,
          0.6710526315789473,
          0.6710526315789473,
          0.63
         ],
         "yaxis": "y"
        },
        {
         "hoverinfo": "text",
         "marker": {
          "color": "rgb(0,116,217)"
         },
         "mode": "lines",
         "text": [
          "cluster: 16, component: QE_2017_001816_583.41382_731.0",
          "cluster: 16, component: QE_2017_001816_583.41382_731.0",
          null,
          null
         ],
         "type": "scatter",
         "uid": "fae2a85e-eaa9-40ec-bdba-bbc9a05472d2",
         "x": [
          325,
          325,
          342.5,
          342.5
         ],
         "xaxis": "x",
         "y": [
          0,
          0.7578947368421053,
          0.7578947368421053,
          0.6710526315789473
         ],
         "yaxis": "y"
        },
        {
         "hoverinfo": "text",
         "marker": {
          "color": "rgb(0,116,217)"
         },
         "mode": "lines",
         "text": [
          "cluster: 17, component: QE_2017_001814_618.42633_695.0",
          "cluster: 17, component: QE_2017_001814_618.42633_695.0",
          null,
          null
         ],
         "type": "scatter",
         "uid": "21cec3c1-2c75-4732-af2b-f912f6b1b71e",
         "x": [
          315,
          315,
          333.75,
          333.75
         ],
         "xaxis": "x",
         "y": [
          0,
          0.8,
          0.8,
          0.7578947368421053
         ],
         "yaxis": "y"
        },
        {
         "hoverinfo": "text",
         "marker": {
          "color": "rgb(255,220,0)"
         },
         "mode": "lines",
         "text": [
          "cluster: 18, component: QE_2017_001815_618.42773_646.0",
          "cluster: 18, component: QE_2017_001815_618.42773_646.0",
          "cluster: 18, component: QE_2017_001816_618.427_682.0",
          "cluster: 18, component: QE_2017_001816_618.427_682.0"
         ],
         "type": "scatter",
         "uid": "bf206eab-e670-4c3b-8630-a9693aca4c4c",
         "x": [
          365,
          365,
          375,
          375
         ],
         "xaxis": "x",
         "y": [
          0,
          0.4732510288065844,
          0.4732510288065844,
          0
         ],
         "yaxis": "y"
        },
        {
         "hoverinfo": "text",
         "marker": {
          "color": "rgb(40,35,35)"
         },
         "mode": "lines",
         "text": [
          "cluster: 19, component: QE_2017_001814_583.41406_682.0",
          "cluster: 19, component: QE_2017_001814_583.41406_682.0",
          "cluster: 19, component: QE_2017_001815_583.41406_707.0",
          "cluster: 19, component: QE_2017_001815_583.41406_707.0"
         ],
         "type": "scatter",
         "uid": "0dd77d61-992d-478c-a2da-e06542bc1d94",
         "x": [
          405,
          405,
          415,
          415
         ],
         "xaxis": "x",
         "y": [
          0,
          0.5280898876404494,
          0.5280898876404494,
          0
         ],
         "yaxis": "y"
        },
        {
         "hoverinfo": "text",
         "marker": {
          "color": "rgb(0,116,217)"
         },
         "mode": "lines",
         "text": [
          "cluster: 20, component: QE_2017_001814_565.4035_722.0",
          "cluster: 20, component: QE_2017_001814_565.4035_722.0",
          null,
          null
         ],
         "type": "scatter",
         "uid": "38f5dd10-97b3-42cd-ad15-6c9afc9986af",
         "x": [
          395,
          395,
          410,
          410
         ],
         "xaxis": "x",
         "y": [
          0,
          0.6049382716049383,
          0.6049382716049383,
          0.5280898876404494
         ],
         "yaxis": "y"
        },
        {
         "hoverinfo": "text",
         "marker": {
          "color": "rgb(61,153,112)"
         },
         "mode": "lines",
         "text": [
          "cluster: 21, component: QE_2017_001815_583.41388_735.0",
          "cluster: 21, component: QE_2017_001815_583.41388_735.0",
          "cluster: 21, component: QE_2017_001815_583.41418_647.0",
          "cluster: 21, component: QE_2017_001815_583.41418_647.0"
         ],
         "type": "scatter",
         "uid": "e11a4a09-ecf6-447c-adbf-01cd8ca14e80",
         "x": [
          435,
          435,
          445,
          445
         ],
         "xaxis": "x",
         "y": [
          0,
          0.5285714285714286,
          0.5285714285714286,
          0
         ],
         "yaxis": "y"
        },
        {
         "hoverinfo": "text",
         "marker": {
          "color": "rgb(0,116,217)"
         },
         "mode": "lines",
         "text": [
          "cluster: 22, component: QE_2017_001814_601.42334_783.0",
          "cluster: 22, component: QE_2017_001814_601.42334_783.0",
          null,
          null
         ],
         "type": "scatter",
         "uid": "7d1def72-4e9c-438d-9aef-a53f3b765fa5",
         "x": [
          425,
          425,
          440,
          440
         ],
         "xaxis": "x",
         "y": [
          0,
          0.6966292134831461,
          0.6966292134831461,
          0.5285714285714286
         ],
         "yaxis": "y"
        },
        {
         "hoverinfo": "text",
         "marker": {
          "color": "rgb(0,116,217)"
         },
         "mode": "lines",
         "text": [
          null,
          null,
          null,
          null
         ],
         "type": "scatter",
         "uid": "e3394474-ab4f-40c0-868f-15891004ff32",
         "x": [
          402.5,
          402.5,
          432.5,
          432.5
         ],
         "xaxis": "x",
         "y": [
          0.6049382716049383,
          0.734375,
          0.734375,
          0.6966292134831461
         ],
         "yaxis": "y"
        },
        {
         "hoverinfo": "text",
         "marker": {
          "color": "rgb(0,116,217)"
         },
         "mode": "lines",
         "text": [
          "cluster: 23, component: QE_2017_001815_568.42627_841.0",
          "cluster: 23, component: QE_2017_001815_568.42627_841.0",
          null,
          null
         ],
         "type": "scatter",
         "uid": "8aafa39f-081e-4356-abc0-7e3e874d6166",
         "x": [
          385,
          385,
          417.5,
          417.5
         ],
         "xaxis": "x",
         "y": [
          0,
          0.7642276422764228,
          0.7642276422764228,
          0.734375
         ],
         "yaxis": "y"
        },
        {
         "hoverinfo": "text",
         "marker": {
          "color": "rgb(0,116,217)"
         },
         "mode": "lines",
         "text": [
          null,
          null,
          null,
          null
         ],
         "type": "scatter",
         "uid": "4ef364db-d144-4001-a973-9c3f79f7a777",
         "x": [
          370,
          370,
          401.25,
          401.25
         ],
         "xaxis": "x",
         "y": [
          0.4732510288065844,
          0.8205128205128205,
          0.8205128205128205,
          0.7642276422764228
         ],
         "yaxis": "y"
        },
        {
         "hoverinfo": "text",
         "marker": {
          "color": "rgb(0,116,217)"
         },
         "mode": "lines",
         "text": [
          null,
          null,
          null,
          null
         ],
         "type": "scatter",
         "uid": "a64c984a-0dec-4632-bae5-0e0febd36cfc",
         "x": [
          324.375,
          324.375,
          385.625,
          385.625
         ],
         "xaxis": "x",
         "y": [
          0.8,
          0.94,
          0.94,
          0.8205128205128205
         ],
         "yaxis": "y"
        },
        {
         "hoverinfo": "text",
         "marker": {
          "color": "rgb(0,116,217)"
         },
         "mode": "lines",
         "text": [
          null,
          null,
          null,
          null
         ],
         "type": "scatter",
         "uid": "68db51f6-e747-4343-9609-71256dc3b3b5",
         "x": [
          88.7060546875,
          88.7060546875,
          355,
          355
         ],
         "xaxis": "x",
         "y": [
          0.9130434782608695,
          0.9625,
          0.9625,
          0.94
         ],
         "yaxis": "y"
        },
        {
         "hoverinfo": "text",
         "marker": {
          "color": "rgb(0,116,217)"
         },
         "mode": "lines",
         "text": [
          "cluster: 24, component: QE_2017_001814_194.04424_237.0",
          "cluster: 24, component: QE_2017_001814_194.04424_237.0",
          "cluster: 25, component: QE_2017_001815_194.11751_218.0",
          "cluster: 25, component: QE_2017_001815_194.11751_218.0"
         ],
         "type": "scatter",
         "uid": "ce956580-abcd-4f68-9f3a-240025d7974a",
         "x": [
          455,
          455,
          465,
          465
         ],
         "xaxis": "x",
         "y": [
          0,
          0.6206896551724138,
          0.6206896551724138,
          0
         ],
         "yaxis": "y"
        },
        {
         "hoverinfo": "text",
         "marker": {
          "color": "rgb(255,65,54)"
         },
         "mode": "lines",
         "text": [
          "cluster: 26, component: QE_2017_001815_194.04471_314.0",
          "cluster: 26, component: QE_2017_001815_194.04471_314.0",
          "cluster: 26, component: QE_2017_001815_212.05513_328.0",
          "cluster: 26, component: QE_2017_001815_212.05513_328.0"
         ],
         "type": "scatter",
         "uid": "8994ad5f-0fac-4261-a623-8de062197c05",
         "x": [
          485,
          485,
          495,
          495
         ],
         "xaxis": "x",
         "y": [
          0,
          0.35135135135135137,
          0.35135135135135137,
          0
         ],
         "yaxis": "y"
        },
        {
         "hoverinfo": "text",
         "marker": {
          "color": "rgb(255,65,54)"
         },
         "mode": "lines",
         "text": [
          "cluster: 26, component: QE_2017_001815_194.04469_299.0",
          "cluster: 26, component: QE_2017_001815_194.04469_299.0",
          null,
          null
         ],
         "type": "scatter",
         "uid": "50343f53-474b-4da9-b8b0-8f995a509046",
         "x": [
          475,
          475,
          490,
          490
         ],
         "xaxis": "x",
         "y": [
          0,
          0.5573770491803278,
          0.5573770491803278,
          0.35135135135135137
         ],
         "yaxis": "y"
        },
        {
         "hoverinfo": "text",
         "marker": {
          "color": "rgb(0,116,217)"
         },
         "mode": "lines",
         "text": [
          "cluster: 27, component: QE_2017_001814_226.07077_397.0",
          "cluster: 27, component: QE_2017_001814_226.07077_397.0",
          "cluster: 28, component: QE_2017_001815_194.04471_397.0",
          "cluster: 28, component: QE_2017_001815_194.04471_397.0"
         ],
         "type": "scatter",
         "uid": "04d58eb3-cb21-45b6-b0aa-c4bf4e58bb54",
         "x": [
          515,
          515,
          525,
          525
         ],
         "xaxis": "x",
         "y": [
          0,
          0.6285714285714286,
          0.6285714285714286,
          0
         ],
         "yaxis": "y"
        },
        {
         "hoverinfo": "text",
         "marker": {
          "color": "rgb(0,116,217)"
         },
         "mode": "lines",
         "text": [
          "cluster: 29, component: QE_2017_001815_212.05505_267.0",
          "cluster: 29, component: QE_2017_001815_212.05505_267.0",
          null,
          null
         ],
         "type": "scatter",
         "uid": "1791c40d-b7f9-4b43-ab28-11ca24474eff",
         "x": [
          505,
          505,
          520,
          520
         ],
         "xaxis": "x",
         "y": [
          0,
          0.7,
          0.7,
          0.6285714285714286
         ],
         "yaxis": "y"
        },
        {
         "hoverinfo": "text",
         "marker": {
          "color": "rgb(0,116,217)"
         },
         "mode": "lines",
         "text": [
          null,
          null,
          null,
          null
         ],
         "type": "scatter",
         "uid": "9ab76b59-7dd1-49be-9679-66ac15d3d54f",
         "x": [
          482.5,
          482.5,
          512.5,
          512.5
         ],
         "xaxis": "x",
         "y": [
          0.5573770491803278,
          0.8360655737704918,
          0.8360655737704918,
          0.7
         ],
         "yaxis": "y"
        },
        {
         "hoverinfo": "text",
         "marker": {
          "color": "rgb(0,116,217)"
         },
         "mode": "lines",
         "text": [
          null,
          null,
          null,
          null
         ],
         "type": "scatter",
         "uid": "9e2e2d2d-d299-4573-a8d0-19eb164a7d4c",
         "x": [
          460,
          460,
          497.5,
          497.5
         ],
         "xaxis": "x",
         "y": [
          0.6206896551724138,
          0.8548387096774194,
          0.8548387096774194,
          0.8360655737704918
         ],
         "yaxis": "y"
        },
        {
         "hoverinfo": "text",
         "marker": {
          "color": "rgb(35,205,205)"
         },
         "mode": "lines",
         "text": [
          "cluster: 30, component: QE_2017_001816_533.15442_247.0",
          "cluster: 30, component: QE_2017_001816_533.15442_247.0",
          "cluster: 30, component: QE_2017_001816_533.15466_222.0",
          "cluster: 30, component: QE_2017_001816_533.15466_222.0"
         ],
         "type": "scatter",
         "uid": "45613927-cf80-45dd-a695-e6a612fd2185",
         "x": [
          535,
          535,
          545,
          545
         ],
         "xaxis": "x",
         "y": [
          0,
          0.36764705882352944,
          0.36764705882352944,
          0
         ],
         "yaxis": "y"
        },
        {
         "hoverinfo": "text",
         "marker": {
          "color": "rgb(35,205,205)"
         },
         "mode": "lines",
         "text": [
          "cluster: 30, component: QE_2017_001815_533.1546_207.0",
          "cluster: 30, component: QE_2017_001815_533.1546_207.0",
          "cluster: 30, component: QE_2017_001816_533.1546_271.0",
          "cluster: 30, component: QE_2017_001816_533.1546_271.0"
         ],
         "type": "scatter",
         "uid": "3d491818-d4e4-43f4-9d22-87136c51f25e",
         "x": [
          555,
          555,
          565,
          565
         ],
         "xaxis": "x",
         "y": [
          0,
          0.45454545454545453,
          0.45454545454545453,
          0
         ],
         "yaxis": "y"
        },
        {
         "hoverinfo": "text",
         "marker": {
          "color": "rgb(35,205,205)"
         },
         "mode": "lines",
         "text": [
          null,
          null,
          null,
          null
         ],
         "type": "scatter",
         "uid": "1160198c-a1c3-4eb9-a5e8-e1bac4adb8c3",
         "x": [
          540,
          540,
          560,
          560
         ],
         "xaxis": "x",
         "y": [
          0.36764705882352944,
          0.5,
          0.5,
          0.45454545454545453
         ],
         "yaxis": "y"
        },
        {
         "hoverinfo": "text",
         "marker": {
          "color": "rgb(133,20,75)"
         },
         "mode": "lines",
         "text": [
          "cluster: 31, component: QE_2017_001814_347.09097_122.0",
          "cluster: 31, component: QE_2017_001814_347.09097_122.0",
          "cluster: 31, component: QE_2017_001815_347.09067_204.0",
          "cluster: 31, component: QE_2017_001815_347.09067_204.0"
         ],
         "type": "scatter",
         "uid": "ee6c1da5-042a-4523-9a0f-3a95ed53d94f",
         "x": [
          575,
          575,
          585,
          585
         ],
         "xaxis": "x",
         "y": [
          0,
          0.5098039215686274,
          0.5098039215686274,
          0
         ],
         "yaxis": "y"
        },
        {
         "hoverinfo": "text",
         "marker": {
          "color": "rgb(0,116,217)"
         },
         "mode": "lines",
         "text": [
          null,
          null,
          null,
          null
         ],
         "type": "scatter",
         "uid": "219facf5-8537-45f0-bfa7-a1c25d9b8e7a",
         "x": [
          550,
          550,
          580,
          580
         ],
         "xaxis": "x",
         "y": [
          0.5,
          0.8804347826086957,
          0.8804347826086957,
          0.5098039215686274
         ],
         "yaxis": "y"
        },
        {
         "hoverinfo": "text",
         "marker": {
          "color": "rgb(0,116,217)"
         },
         "mode": "lines",
         "text": [
          null,
          null,
          null,
          null
         ],
         "type": "scatter",
         "uid": "cafa81d8-baa1-41ca-bd84-82c82527fc3d",
         "x": [
          478.75,
          478.75,
          565,
          565
         ],
         "xaxis": "x",
         "y": [
          0.8548387096774194,
          0.9857142857142858,
          0.9857142857142858,
          0.8804347826086957
         ],
         "yaxis": "y"
        },
        {
         "hoverinfo": "text",
         "marker": {
          "color": "rgb(255,220,0)"
         },
         "mode": "lines",
         "text": [
          "cluster: 32, component: QE_2017_001815_268.10373_58.0",
          "cluster: 32, component: QE_2017_001815_268.10373_58.0",
          "cluster: 32, component: QE_2017_001816_269.16055_60.0",
          "cluster: 32, component: QE_2017_001816_269.16055_60.0"
         ],
         "type": "scatter",
         "uid": "ac503229-1ad9-40f3-bcf0-d5bd6f0f4d96",
         "x": [
          595,
          595,
          605,
          605
         ],
         "xaxis": "x",
         "y": [
          0,
          0.42424242424242425,
          0.42424242424242425,
          0
         ],
         "yaxis": "y"
        },
        {
         "hoverinfo": "text",
         "marker": {
          "color": "rgb(40,35,35)"
         },
         "mode": "lines",
         "text": [
          "cluster: 33, component: QE_2017_001816_408.36832_704.0",
          "cluster: 33, component: QE_2017_001816_408.36832_704.0",
          "cluster: 33, component: QE_2017_001816_466.40979_731.0",
          "cluster: 33, component: QE_2017_001816_466.40979_731.0"
         ],
         "type": "scatter",
         "uid": "a5f5ad9b-aaf6-43b1-9685-eaf29a3c29ff",
         "x": [
          625,
          625,
          635,
          635
         ],
         "xaxis": "x",
         "y": [
          0,
          0.5882352941176471,
          0.5882352941176471,
          0
         ],
         "yaxis": "y"
        },
        {
         "hoverinfo": "text",
         "marker": {
          "color": "rgb(0,116,217)"
         },
         "mode": "lines",
         "text": [
          "cluster: 34, component: QE_2017_001815_364.34189_705.0",
          "cluster: 34, component: QE_2017_001815_364.34189_705.0",
          null,
          null
         ],
         "type": "scatter",
         "uid": "f64ddb6a-6fdd-4368-b7a3-feb8ae94f66f",
         "x": [
          615,
          615,
          630,
          630
         ],
         "xaxis": "x",
         "y": [
          0,
          0.6875,
          0.6875,
          0.5882352941176471
         ],
         "yaxis": "y"
        },
        {
         "hoverinfo": "text",
         "marker": {
          "color": "rgb(61,153,112)"
         },
         "mode": "lines",
         "text": [
          "cluster: 35, component: QE_2017_001814_364.34244_761.0",
          "cluster: 35, component: QE_2017_001814_364.34244_761.0",
          "cluster: 35, component: QE_2017_001815_364.34253_752.0",
          "cluster: 35, component: QE_2017_001815_364.34253_752.0"
         ],
         "type": "scatter",
         "uid": "f53d6a02-7cce-4498-b9fa-ea2b4d22bb9f",
         "x": [
          665,
          665,
          675,
          675
         ],
         "xaxis": "x",
         "y": [
          0,
          0.36363636363636365,
          0.36363636363636365,
          0
         ],
         "yaxis": "y"
        },
        {
         "hoverinfo": "text",
         "marker": {
          "color": "rgb(255,65,54)"
         },
         "mode": "lines",
         "text": [
          "cluster: 36, component: QE_2017_001816_421.35226_731.0",
          "cluster: 36, component: QE_2017_001816_421.35226_731.0",
          "cluster: 36, component: QE_2017_001816_424.36325_712.0",
          "cluster: 36, component: QE_2017_001816_424.36325_712.0"
         ],
         "type": "scatter",
         "uid": "d21bb2ec-94f9-4b94-9bb7-0bc1db20692a",
         "x": [
          685,
          685,
          695,
          695
         ],
         "xaxis": "x",
         "y": [
          0,
          0.3888888888888889,
          0.3888888888888889,
          0
         ],
         "yaxis": "y"
        },
        {
         "hoverinfo": "text",
         "marker": {
          "color": "rgb(0,116,217)"
         },
         "mode": "lines",
         "text": [
          null,
          null,
          null,
          null
         ],
         "type": "scatter",
         "uid": "4dd16b05-dfcb-4b59-8f33-f99a001ea849",
         "x": [
          670,
          670,
          690,
          690
         ],
         "xaxis": "x",
         "y": [
          0.36363636363636365,
          0.6111111111111112,
          0.6111111111111112,
          0.3888888888888889
         ],
         "yaxis": "y"
        },
        {
         "hoverinfo": "text",
         "marker": {
          "color": "rgb(0,116,217)"
         },
         "mode": "lines",
         "text": [
          "cluster: 37, component: QE_2017_001815_482.40488_739.0",
          "cluster: 37, component: QE_2017_001815_482.40488_739.0",
          null,
          null
         ],
         "type": "scatter",
         "uid": "ff0d75e5-b99b-4610-a50f-03497c8da5f6",
         "x": [
          655,
          655,
          680,
          680
         ],
         "xaxis": "x",
         "y": [
          0,
          0.7037037037037037,
          0.7037037037037037,
          0.6111111111111112
         ],
         "yaxis": "y"
        },
        {
         "hoverinfo": "text",
         "marker": {
          "color": "rgb(0,116,217)"
         },
         "mode": "lines",
         "text": [
          "cluster: 38, component: QE_2017_001815_408.36853_717.0",
          "cluster: 38, component: QE_2017_001815_408.36853_717.0",
          null,
          null
         ],
         "type": "scatter",
         "uid": "b8bef84e-e298-4fe7-a08a-3869a282fbb4",
         "x": [
          645,
          645,
          667.5,
          667.5
         ],
         "xaxis": "x",
         "y": [
          0,
          0.7307692307692307,
          0.7307692307692307,
          0.7037037037037037
         ],
         "yaxis": "y"
        },
        {
         "hoverinfo": "text",
         "marker": {
          "color": "rgb(0,116,217)"
         },
         "mode": "lines",
         "text": [
          null,
          null,
          null,
          null
         ],
         "type": "scatter",
         "uid": "1c01de1a-5fea-4f99-819e-defdaab01b0a",
         "x": [
          622.5,
          622.5,
          656.25,
          656.25
         ],
         "xaxis": "x",
         "y": [
          0.6875,
          0.8387096774193549,
          0.8387096774193549,
          0.7307692307692307
         ],
         "yaxis": "y"
        },
        {
         "hoverinfo": "text",
         "marker": {
          "color": "rgb(0,116,217)"
         },
         "mode": "lines",
         "text": [
          null,
          null,
          null,
          null
         ],
         "type": "scatter",
         "uid": "0eb9c3bf-13ee-4815-9108-df90e89844f5",
         "x": [
          600,
          600,
          639.375,
          639.375
         ],
         "xaxis": "x",
         "y": [
          0.42424242424242425,
          0.9814814814814815,
          0.9814814814814815,
          0.8387096774193549
         ],
         "yaxis": "y"
        },
        {
         "hoverinfo": "text",
         "marker": {
          "color": "rgb(35,205,205)"
         },
         "mode": "lines",
         "text": [
          "cluster: 39, component: QE_2017_001814_611.15997_285.0",
          "cluster: 39, component: QE_2017_001814_611.15997_285.0",
          "cluster: 39, component: QE_2017_001815_611.16046_309.0",
          "cluster: 39, component: QE_2017_001815_611.16046_309.0"
         ],
         "type": "scatter",
         "uid": "9852d4c2-fc8c-4e2e-8c95-2b73e541bc1f",
         "x": [
          715,
          715,
          725,
          725
         ],
         "xaxis": "x",
         "y": [
          0,
          0.4583333333333333,
          0.4583333333333333,
          0
         ],
         "yaxis": "y"
        },
        {
         "hoverinfo": "text",
         "marker": {
          "color": "rgb(133,20,75)"
         },
         "mode": "lines",
         "text": [
          "cluster: 40, component: QE_2017_001814_339.10742_366.0",
          "cluster: 40, component: QE_2017_001814_339.10742_366.0",
          "cluster: 40, component: QE_2017_001816_339.10733_298.0",
          "cluster: 40, component: QE_2017_001816_339.10733_298.0"
         ],
         "type": "scatter",
         "uid": "2d0e3ca1-6139-4872-a3f7-6aec26e3277f",
         "x": [
          735,
          735,
          745,
          745
         ],
         "xaxis": "x",
         "y": [
          0,
          0.44,
          0.44,
          0
         ],
         "yaxis": "y"
        },
        {
         "hoverinfo": "text",
         "marker": {
          "color": "rgb(255,220,0)"
         },
         "mode": "lines",
         "text": [
          "cluster: 41, component: QE_2017_001814_231.04971_516.0",
          "cluster: 41, component: QE_2017_001814_231.04971_516.0",
          "cluster: 41, component: QE_2017_001815_231.04971_369.0",
          "cluster: 41, component: QE_2017_001815_231.04971_369.0"
         ],
         "type": "scatter",
         "uid": "80e057b9-9481-4a25-ad63-0559de666a83",
         "x": [
          795,
          795,
          805,
          805
         ],
         "xaxis": "x",
         "y": [
          0,
          0.391304347826087,
          0.391304347826087,
          0
         ],
         "yaxis": "y"
        },
        {
         "hoverinfo": "text",
         "marker": {
          "color": "rgb(255,220,0)"
         },
         "mode": "lines",
         "text": [
          "cluster: 41, component: QE_2017_001815_231.04968_315.0",
          "cluster: 41, component: QE_2017_001815_231.04968_315.0",
          null,
          null
         ],
         "type": "scatter",
         "uid": "2f9b9d16-9c5f-4138-abcf-596597427774",
         "x": [
          785,
          785,
          800,
          800
         ],
         "xaxis": "x",
         "y": [
          0,
          0.4090909090909091,
          0.4090909090909091,
          0.391304347826087
         ],
         "yaxis": "y"
        },
        {
         "hoverinfo": "text",
         "marker": {
          "color": "rgb(255,220,0)"
         },
         "mode": "lines",
         "text": [
          "cluster: 41, component: QE_2017_001815_231.04973_403.0",
          "cluster: 41, component: QE_2017_001815_231.04973_403.0",
          null,
          null
         ],
         "type": "scatter",
         "uid": "ddd19b4a-416c-4f90-9966-ad040bd5471a",
         "x": [
          775,
          775,
          792.5,
          792.5
         ],
         "xaxis": "x",
         "y": [
          0,
          0.52,
          0.52,
          0.4090909090909091
         ],
         "yaxis": "y"
        },
        {
         "hoverinfo": "text",
         "marker": {
          "color": "rgb(0,116,217)"
         },
         "mode": "lines",
         "text": [
          "cluster: 42, component: QE_2017_001815_340.16019_314.0",
          "cluster: 42, component: QE_2017_001815_340.16019_314.0",
          null,
          null
         ],
         "type": "scatter",
         "uid": "04bc5402-283b-4fa9-a3ce-e03f9a81b5fd",
         "x": [
          765,
          765,
          783.75,
          783.75
         ],
         "xaxis": "x",
         "y": [
          0,
          0.6904761904761905,
          0.6904761904761905,
          0.52
         ],
         "yaxis": "y"
        },
        {
         "hoverinfo": "text",
         "marker": {
          "color": "rgb(40,35,35)"
         },
         "mode": "lines",
         "text": [
          "cluster: 43, component: QE_2017_001815_314.14453_76.0",
          "cluster: 43, component: QE_2017_001815_314.14453_76.0",
          "cluster: 43, component: QE_2017_001816_314.14462_79.0",
          "cluster: 43, component: QE_2017_001816_314.14462_79.0"
         ],
         "type": "scatter",
         "uid": "f9dc101d-c866-4550-b6b1-f8a42a4b2f25",
         "x": [
          815,
          815,
          825,
          825
         ],
         "xaxis": "x",
         "y": [
          0,
          0.4230769230769231,
          0.4230769230769231,
          0
         ],
         "yaxis": "y"
        },
        {
         "hoverinfo": "text",
         "marker": {
          "color": "rgb(0,116,217)"
         },
         "mode": "lines",
         "text": [
          "cluster: 44, component: QE_2017_001816_310.14957_134.0",
          "cluster: 44, component: QE_2017_001816_310.14957_134.0",
          "cluster: 45, component: QE_2017_001816_342.17584_257.0",
          "cluster: 45, component: QE_2017_001816_342.17584_257.0"
         ],
         "type": "scatter",
         "uid": "086d062c-2718-457c-8e96-e9b43fda1597",
         "x": [
          835,
          835,
          845,
          845
         ],
         "xaxis": "x",
         "y": [
          0,
          0.6785714285714286,
          0.6785714285714286,
          0
         ],
         "yaxis": "y"
        },
        {
         "hoverinfo": "text",
         "marker": {
          "color": "rgb(0,116,217)"
         },
         "mode": "lines",
         "text": [
          null,
          null,
          null,
          null
         ],
         "type": "scatter",
         "uid": "1ddbb6c2-353f-4880-aeab-2394a333d5b0",
         "x": [
          820,
          820,
          840,
          840
         ],
         "xaxis": "x",
         "y": [
          0.4230769230769231,
          0.75,
          0.75,
          0.6785714285714286
         ],
         "yaxis": "y"
        },
        {
         "hoverinfo": "text",
         "marker": {
          "color": "rgb(0,116,217)"
         },
         "mode": "lines",
         "text": [
          null,
          null,
          null,
          null
         ],
         "type": "scatter",
         "uid": "b8d14918-a462-463c-a726-1368f9112a95",
         "x": [
          774.375,
          774.375,
          830,
          830
         ],
         "xaxis": "x",
         "y": [
          0.6904761904761905,
          0.8,
          0.8,
          0.75
         ],
         "yaxis": "y"
        },
        {
         "hoverinfo": "text",
         "marker": {
          "color": "rgb(0,116,217)"
         },
         "mode": "lines",
         "text": [
          "cluster: 46, component: QE_2017_001814_498.2543_475.0",
          "cluster: 46, component: QE_2017_001814_498.2543_475.0",
          null,
          null
         ],
         "type": "scatter",
         "uid": "264793d6-f7a3-4ce1-8fb1-71bc691ec60d",
         "x": [
          755,
          755,
          802.1875,
          802.1875
         ],
         "xaxis": "x",
         "y": [
          0,
          0.8571428571428571,
          0.8571428571428571,
          0.8
         ],
         "yaxis": "y"
        },
        {
         "hoverinfo": "text",
         "marker": {
          "color": "rgb(0,116,217)"
         },
         "mode": "lines",
         "text": [
          null,
          null,
          null,
          null
         ],
         "type": "scatter",
         "uid": "c2829b5f-ae39-41fb-9105-e60f3299fffc",
         "x": [
          740,
          740,
          778.59375,
          778.59375
         ],
         "xaxis": "x",
         "y": [
          0.44,
          0.8775510204081632,
          0.8775510204081632,
          0.8571428571428571
         ],
         "yaxis": "y"
        },
        {
         "hoverinfo": "text",
         "marker": {
          "color": "rgb(0,116,217)"
         },
         "mode": "lines",
         "text": [
          "cluster: 47, component: QE_2017_001814_241.15466_73.0",
          "cluster: 47, component: QE_2017_001814_241.15466_73.0",
          "cluster: 48, component: QE_2017_001815_507.18192_178.0",
          "cluster: 48, component: QE_2017_001815_507.18192_178.0"
         ],
         "type": "scatter",
         "uid": "808c0129-c220-41d0-87ab-2c8715905eca",
         "x": [
          855,
          855,
          865,
          865
         ],
         "xaxis": "x",
         "y": [
          0,
          0.9152542372881356,
          0.9152542372881356,
          0
         ],
         "yaxis": "y"
        },
        {
         "hoverinfo": "text",
         "marker": {
          "color": "rgb(0,116,217)"
         },
         "mode": "lines",
         "text": [
          null,
          null,
          null,
          null
         ],
         "type": "scatter",
         "uid": "82bbcd80-4e87-4102-9842-161b24328142",
         "x": [
          759.296875,
          759.296875,
          860,
          860
         ],
         "xaxis": "x",
         "y": [
          0.8775510204081632,
          0.9302325581395349,
          0.9302325581395349,
          0.9152542372881356
         ],
         "yaxis": "y"
        },
        {
         "hoverinfo": "text",
         "marker": {
          "color": "rgb(0,116,217)"
         },
         "mode": "lines",
         "text": [
          null,
          null,
          null,
          null
         ],
         "type": "scatter",
         "uid": "8af2f31b-1a1e-43ca-b6c9-6ff5499d06dd",
         "x": [
          720,
          720,
          809.6484375,
          809.6484375
         ],
         "xaxis": "x",
         "y": [
          0.4583333333333333,
          0.9622641509433962,
          0.9622641509433962,
          0.9302325581395349
         ],
         "yaxis": "y"
        },
        {
         "hoverinfo": "text",
         "marker": {
          "color": "rgb(0,116,217)"
         },
         "mode": "lines",
         "text": [
          "cluster: 49, component: QE_2017_001816_463.12311_410.0",
          "cluster: 49, component: QE_2017_001816_463.12311_410.0",
          null,
          null
         ],
         "type": "scatter",
         "uid": "5efbd3dd-cff0-4c4f-a2f7-02d1310a9992",
         "x": [
          705,
          705,
          764.82421875,
          764.82421875
         ],
         "xaxis": "x",
         "y": [
          0,
          0.9696969696969697,
          0.9696969696969697,
          0.9622641509433962
         ],
         "yaxis": "y"
        },
        {
         "hoverinfo": "text",
         "marker": {
          "color": "rgb(61,153,112)"
         },
         "mode": "lines",
         "text": [
          "cluster: 50, component: QE_2017_001814_320.29456_577.0",
          "cluster: 50, component: QE_2017_001814_320.29456_577.0",
          "cluster: 50, component: QE_2017_001815_320.29471_563.0",
          "cluster: 50, component: QE_2017_001815_320.29471_563.0"
         ],
         "type": "scatter",
         "uid": "3711f9be-bb3f-42f2-8dbb-7e2b4373bf74",
         "x": [
          895,
          895,
          905,
          905
         ],
         "xaxis": "x",
         "y": [
          0,
          0.36,
          0.36,
          0
         ],
         "yaxis": "y"
        },
        {
         "hoverinfo": "text",
         "marker": {
          "color": "rgb(0,116,217)"
         },
         "mode": "lines",
         "text": [
          "cluster: 51, component: QE_2017_001816_338.26062_643.0",
          "cluster: 51, component: QE_2017_001816_338.26062_643.0",
          null,
          null
         ],
         "type": "scatter",
         "uid": "45934d5b-a8c1-417a-8cc3-a3f339dd0506",
         "x": [
          885,
          885,
          900,
          900
         ],
         "xaxis": "x",
         "y": [
          0,
          0.6153846153846154,
          0.6153846153846154,
          0.36
         ],
         "yaxis": "y"
        },
        {
         "hoverinfo": "text",
         "marker": {
          "color": "rgb(0,116,217)"
         },
         "mode": "lines",
         "text": [
          "cluster: 52, component: QE_2017_001814_483.27118_651.0",
          "cluster: 52, component: QE_2017_001814_483.27118_651.0",
          null,
          null
         ],
         "type": "scatter",
         "uid": "1e67d49a-2b34-4ccc-8bdf-c9f588fc8935",
         "x": [
          875,
          875,
          892.5,
          892.5
         ],
         "xaxis": "x",
         "y": [
          0,
          0.8636363636363636,
          0.8636363636363636,
          0.6153846153846154
         ],
         "yaxis": "y"
        },
        {
         "hoverinfo": "text",
         "marker": {
          "color": "rgb(0,116,217)"
         },
         "mode": "lines",
         "text": [
          "cluster: 53, component: QE_2017_001815_129.12741_349.0",
          "cluster: 53, component: QE_2017_001815_129.12741_349.0",
          "cluster: 54, component: QE_2017_001815_171.14914_420.0",
          "cluster: 54, component: QE_2017_001815_171.14914_420.0"
         ],
         "type": "scatter",
         "uid": "e0405825-2421-4833-a077-5e6b91b227b9",
         "x": [
          915,
          915,
          925,
          925
         ],
         "xaxis": "x",
         "y": [
          0,
          0.8666666666666667,
          0.8666666666666667,
          0
         ],
         "yaxis": "y"
        },
        {
         "hoverinfo": "text",
         "marker": {
          "color": "rgb(0,116,217)"
         },
         "mode": "lines",
         "text": [
          null,
          null,
          null,
          null
         ],
         "type": "scatter",
         "uid": "1b12dd71-6641-43d9-b20f-4903f4dbb312",
         "x": [
          883.75,
          883.75,
          920,
          920
         ],
         "xaxis": "x",
         "y": [
          0.8636363636363636,
          0.9032258064516129,
          0.9032258064516129,
          0.8666666666666667
         ],
         "yaxis": "y"
        },
        {
         "hoverinfo": "text",
         "marker": {
          "color": "rgb(255,65,54)"
         },
         "mode": "lines",
         "text": [
          "cluster: 55, component: QE_2017_001815_201.16367_442.0",
          "cluster: 55, component: QE_2017_001815_201.16367_442.0",
          "cluster: 55, component: QE_2017_001816_201.16362_435.0",
          "cluster: 55, component: QE_2017_001816_201.16362_435.0"
         ],
         "type": "scatter",
         "uid": "aba61f7d-ccbc-4c06-a6b8-3abdb92dd5f1",
         "x": [
          935,
          935,
          945,
          945
         ],
         "xaxis": "x",
         "y": [
          0,
          0.48333333333333334,
          0.48333333333333334,
          0
         ],
         "yaxis": "y"
        },
        {
         "hoverinfo": "text",
         "marker": {
          "color": "rgb(35,205,205)"
         },
         "mode": "lines",
         "text": [
          "cluster: 56, component: QE_2017_001815_209.1535_312.0",
          "cluster: 56, component: QE_2017_001815_209.1535_312.0",
          "cluster: 56, component: QE_2017_001816_209.15344_311.0",
          "cluster: 56, component: QE_2017_001816_209.15344_311.0"
         ],
         "type": "scatter",
         "uid": "72238ae2-dd6b-423e-b9db-7a3059d5df90",
         "x": [
          975,
          975,
          985,
          985
         ],
         "xaxis": "x",
         "y": [
          0,
          0.2916666666666667,
          0.2916666666666667,
          0
         ],
         "yaxis": "y"
        },
        {
         "hoverinfo": "text",
         "marker": {
          "color": "rgb(35,205,205)"
         },
         "mode": "lines",
         "text": [
          "cluster: 56, component: QE_2017_001815_209.15349_295.0",
          "cluster: 56, component: QE_2017_001815_209.15349_295.0",
          null,
          null
         ],
         "type": "scatter",
         "uid": "d158c307-3de8-4ff8-9898-d24c1c4cf816",
         "x": [
          965,
          965,
          980,
          980
         ],
         "xaxis": "x",
         "y": [
          0,
          0.3835616438356164,
          0.3835616438356164,
          0.2916666666666667
         ],
         "yaxis": "y"
        },
        {
         "hoverinfo": "text",
         "marker": {
          "color": "rgb(35,205,205)"
         },
         "mode": "lines",
         "text": [
          "cluster: 56, component: QE_2017_001815_209.15352_479.0",
          "cluster: 56, component: QE_2017_001815_209.15352_479.0",
          null,
          null
         ],
         "type": "scatter",
         "uid": "9f22cc41-e729-4257-a110-347721183a93",
         "x": [
          955,
          955,
          972.5,
          972.5
         ],
         "xaxis": "x",
         "y": [
          0,
          0.4473684210526316,
          0.4473684210526316,
          0.3835616438356164
         ],
         "yaxis": "y"
        },
        {
         "hoverinfo": "text",
         "marker": {
          "color": "rgb(133,20,75)"
         },
         "mode": "lines",
         "text": [
          "cluster: 57, component: QE_2017_001814_243.15892_533.0",
          "cluster: 57, component: QE_2017_001814_243.15892_533.0",
          "cluster: 57, component: QE_2017_001814_281.1745_492.0",
          "cluster: 57, component: QE_2017_001814_281.1745_492.0"
         ],
         "type": "scatter",
         "uid": "899481f0-5460-4f73-8f57-a1fd432e0439",
         "x": [
          995,
          995,
          1005,
          1005
         ],
         "xaxis": "x",
         "y": [
          0,
          0.359375,
          0.359375,
          0
         ],
         "yaxis": "y"
        },
        {
         "hoverinfo": "text",
         "marker": {
          "color": "rgb(255,220,0)"
         },
         "mode": "lines",
         "text": [
          "cluster: 57, component: QE_2017_001815_227.16408_344.0",
          "cluster: 57, component: QE_2017_001815_227.16408_344.0",
          "cluster: 57, component: QE_2017_001815_283.19009_564.0",
          "cluster: 57, component: QE_2017_001815_283.19009_564.0"
         ],
         "type": "scatter",
         "uid": "28a23556-76a0-488d-bec8-3ec8f688e184",
         "x": [
          1025,
          1025,
          1035,
          1035
         ],
         "xaxis": "x",
         "y": [
          0,
          0.47191011235955055,
          0.47191011235955055,
          0
         ],
         "yaxis": "y"
        },
        {
         "hoverinfo": "text",
         "marker": {
          "color": "rgb(255,220,0)"
         },
         "mode": "lines",
         "text": [
          "cluster: 57, component: QE_2017_001814_293.2106_579.0",
          "cluster: 57, component: QE_2017_001814_293.2106_579.0",
          null,
          null
         ],
         "type": "scatter",
         "uid": "0a178f72-94c5-4dfa-91b7-3ae55be2d523",
         "x": [
          1015,
          1015,
          1030,
          1030
         ],
         "xaxis": "x",
         "y": [
          0,
          0.5454545454545454,
          0.5454545454545454,
          0.47191011235955055
         ],
         "yaxis": "y"
        },
        {
         "hoverinfo": "text",
         "marker": {
          "color": "rgb(0,116,217)"
         },
         "mode": "lines",
         "text": [
          null,
          null,
          null,
          null
         ],
         "type": "scatter",
         "uid": "31088d8a-792f-41a9-b216-fcbdb9118710",
         "x": [
          1000,
          1000,
          1022.5,
          1022.5
         ],
         "xaxis": "x",
         "y": [
          0.359375,
          0.6,
          0.6,
          0.5454545454545454
         ],
         "yaxis": "y"
        },
        {
         "hoverinfo": "text",
         "marker": {
          "color": "rgb(0,116,217)"
         },
         "mode": "lines",
         "text": [
          null,
          null,
          null,
          null
         ],
         "type": "scatter",
         "uid": "dd8e0b4a-e6cd-4bc6-aa3e-22680cd02540",
         "x": [
          963.75,
          963.75,
          1011.25,
          1011.25
         ],
         "xaxis": "x",
         "y": [
          0.4473684210526316,
          0.6494845360824743,
          0.6494845360824743,
          0.6
         ],
         "yaxis": "y"
        },
        {
         "hoverinfo": "text",
         "marker": {
          "color": "rgb(40,35,35)"
         },
         "mode": "lines",
         "text": [
          "cluster: 58, component: QE_2017_001814_227.1275_293.0",
          "cluster: 58, component: QE_2017_001814_227.1275_293.0",
          "cluster: 58, component: QE_2017_001816_227.12766_295.0",
          "cluster: 58, component: QE_2017_001816_227.12766_295.0"
         ],
         "type": "scatter",
         "uid": "0f9c6b5b-812e-469f-a25f-221cb0122210",
         "x": [
          1055,
          1055,
          1065,
          1065
         ],
         "xaxis": "x",
         "y": [
          0,
          0.3382352941176471,
          0.3382352941176471,
          0
         ],
         "yaxis": "y"
        },
        {
         "hoverinfo": "text",
         "marker": {
          "color": "rgb(0,116,217)"
         },
         "mode": "lines",
         "text": [
          "cluster: 59, component: QE_2017_001815_207.13785_297.0",
          "cluster: 59, component: QE_2017_001815_207.13785_297.0",
          null,
          null
         ],
         "type": "scatter",
         "uid": "bdd7344b-6d81-4a79-9919-65371a346f56",
         "x": [
          1045,
          1045,
          1060,
          1060
         ],
         "xaxis": "x",
         "y": [
          0,
          0.6710526315789473,
          0.6710526315789473,
          0.3382352941176471
         ],
         "yaxis": "y"
        },
        {
         "hoverinfo": "text",
         "marker": {
          "color": "rgb(0,116,217)"
         },
         "mode": "lines",
         "text": [
          null,
          null,
          null,
          null
         ],
         "type": "scatter",
         "uid": "9424e53d-4ed4-49b6-bfe3-e4d75e48f780",
         "x": [
          987.5,
          987.5,
          1052.5,
          1052.5
         ],
         "xaxis": "x",
         "y": [
          0.6494845360824743,
          0.7058823529411765,
          0.7058823529411765,
          0.6710526315789473
         ],
         "yaxis": "y"
        },
        {
         "hoverinfo": "text",
         "marker": {
          "color": "rgb(61,153,112)"
         },
         "mode": "lines",
         "text": [
          "cluster: 60, component: QE_2017_001815_181.1221_767.0",
          "cluster: 60, component: QE_2017_001815_181.1221_767.0",
          "cluster: 60, component: QE_2017_001816_181.12199_794.0",
          "cluster: 60, component: QE_2017_001816_181.12199_794.0"
         ],
         "type": "scatter",
         "uid": "f43711cd-f5bf-4821-ab01-83825b340a82",
         "x": [
          1075,
          1075,
          1085,
          1085
         ],
         "xaxis": "x",
         "y": [
          0,
          0.2857142857142857,
          0.2857142857142857,
          0
         ],
         "yaxis": "y"
        },
        {
         "hoverinfo": "text",
         "marker": {
          "color": "rgb(255,65,54)"
         },
         "mode": "lines",
         "text": [
          "cluster: 61, component: QE_2017_001814_211.16902_440.0",
          "cluster: 61, component: QE_2017_001814_211.16902_440.0",
          "cluster: 61, component: QE_2017_001815_211.16913_450.0",
          "cluster: 61, component: QE_2017_001815_211.16913_450.0"
         ],
         "type": "scatter",
         "uid": "c656f1f8-55a7-4474-afb7-c5d3f881dac8",
         "x": [
          1115,
          1115,
          1125,
          1125
         ],
         "xaxis": "x",
         "y": [
          0,
          0.19230769230769232,
          0.19230769230769232,
          0
         ],
         "yaxis": "y"
        },
        {
         "hoverinfo": "text",
         "marker": {
          "color": "rgb(255,65,54)"
         },
         "mode": "lines",
         "text": [
          "cluster: 61, component: QE_2017_001815_209.0807_405.0",
          "cluster: 61, component: QE_2017_001815_209.0807_405.0",
          null,
          null
         ],
         "type": "scatter",
         "uid": "e2258958-5b72-410a-8522-d2b4b914f08f",
         "x": [
          1105,
          1105,
          1120,
          1120
         ],
         "xaxis": "x",
         "y": [
          0,
          0.21153846153846154,
          0.21153846153846154,
          0.19230769230769232
         ],
         "yaxis": "y"
        },
        {
         "hoverinfo": "text",
         "marker": {
          "color": "rgb(255,65,54)"
         },
         "mode": "lines",
         "text": [
          "cluster: 61, component: QE_2017_001816_211.16916_405.0",
          "cluster: 61, component: QE_2017_001816_211.16916_405.0",
          null,
          null
         ],
         "type": "scatter",
         "uid": "0b3dab15-3165-4939-b6d8-f0e1f3d30eb5",
         "x": [
          1095,
          1095,
          1112.5,
          1112.5
         ],
         "xaxis": "x",
         "y": [
          0,
          0.3,
          0.3,
          0.21153846153846154
         ],
         "yaxis": "y"
        },
        {
         "hoverinfo": "text",
         "marker": {
          "color": "rgb(255,65,54)"
         },
         "mode": "lines",
         "text": [
          "cluster: 61, component: QE_2017_001815_215.164_550.0",
          "cluster: 61, component: QE_2017_001815_215.164_550.0",
          "cluster: 61, component: QE_2017_001816_215.16411_482.0",
          "cluster: 61, component: QE_2017_001816_215.16411_482.0"
         ],
         "type": "scatter",
         "uid": "0c4201c0-7869-4a81-87f0-8fa4420f7ac9",
         "x": [
          1135,
          1135,
          1145,
          1145
         ],
         "xaxis": "x",
         "y": [
          0,
          0.48717948717948717,
          0.48717948717948717,
          0
         ],
         "yaxis": "y"
        },
        {
         "hoverinfo": "text",
         "marker": {
          "color": "rgb(255,65,54)"
         },
         "mode": "lines",
         "text": [
          null,
          null,
          null,
          null
         ],
         "type": "scatter",
         "uid": "5c119f6e-1225-4d50-b837-a40a5738c965",
         "x": [
          1103.75,
          1103.75,
          1140,
          1140
         ],
         "xaxis": "x",
         "y": [
          0.3,
          0.5818181818181818,
          0.5818181818181818,
          0.48717948717948717
         ],
         "yaxis": "y"
        },
        {
         "hoverinfo": "text",
         "marker": {
          "color": "rgb(0,116,217)"
         },
         "mode": "lines",
         "text": [
          null,
          null,
          null,
          null
         ],
         "type": "scatter",
         "uid": "19738828-8f63-4987-870a-29571560c9ec",
         "x": [
          1080,
          1080,
          1121.875,
          1121.875
         ],
         "xaxis": "x",
         "y": [
          0.2857142857142857,
          0.7446808510638298,
          0.7446808510638298,
          0.5818181818181818
         ],
         "yaxis": "y"
        },
        {
         "hoverinfo": "text",
         "marker": {
          "color": "rgb(0,116,217)"
         },
         "mode": "lines",
         "text": [
          null,
          null,
          null,
          null
         ],
         "type": "scatter",
         "uid": "6317fdff-e671-45cf-ac98-e80cad977604",
         "x": [
          1020,
          1020,
          1100.9375,
          1100.9375
         ],
         "xaxis": "x",
         "y": [
          0.7058823529411765,
          0.7631578947368421,
          0.7631578947368421,
          0.7446808510638298
         ],
         "yaxis": "y"
        },
        {
         "hoverinfo": "text",
         "marker": {
          "color": "rgb(35,205,205)"
         },
         "mode": "lines",
         "text": [
          "cluster: 62, component: QE_2017_001814_219.17416_517.0",
          "cluster: 62, component: QE_2017_001814_219.17416_517.0",
          "cluster: 62, component: QE_2017_001815_219.17421_516.0",
          "cluster: 62, component: QE_2017_001815_219.17421_516.0"
         ],
         "type": "scatter",
         "uid": "53e029f4-6023-46b3-9c78-f530ad4be5e0",
         "x": [
          1165,
          1165,
          1175,
          1175
         ],
         "xaxis": "x",
         "y": [
          0,
          0.25,
          0.25,
          0
         ],
         "yaxis": "y"
        },
        {
         "hoverinfo": "text",
         "marker": {
          "color": "rgb(35,205,205)"
         },
         "mode": "lines",
         "text": [
          "cluster: 62, component: QE_2017_001814_219.17401_452.0",
          "cluster: 62, component: QE_2017_001814_219.17401_452.0",
          "cluster: 62, component: QE_2017_001814_219.17409_442.0",
          "cluster: 62, component: QE_2017_001814_219.17409_442.0"
         ],
         "type": "scatter",
         "uid": "d5217628-c628-45a6-a0e8-2ebaa638ccb7",
         "x": [
          1195,
          1195,
          1205,
          1205
         ],
         "xaxis": "x",
         "y": [
          0,
          0.3125,
          0.3125,
          0
         ],
         "yaxis": "y"
        },
        {
         "hoverinfo": "text",
         "marker": {
          "color": "rgb(35,205,205)"
         },
         "mode": "lines",
         "text": [
          "cluster: 62, component: QE_2017_001816_219.17438_502.0",
          "cluster: 62, component: QE_2017_001816_219.17438_502.0",
          null,
          null
         ],
         "type": "scatter",
         "uid": "29cd04c7-ff53-4f28-9568-b25f26c486cf",
         "x": [
          1185,
          1185,
          1200,
          1200
         ],
         "xaxis": "x",
         "y": [
          0,
          0.4074074074074074,
          0.4074074074074074,
          0.3125
         ],
         "yaxis": "y"
        },
        {
         "hoverinfo": "text",
         "marker": {
          "color": "rgb(35,205,205)"
         },
         "mode": "lines",
         "text": [
          null,
          null,
          null,
          null
         ],
         "type": "scatter",
         "uid": "1b6f1ab0-8621-4840-879e-c9e718ea0826",
         "x": [
          1170,
          1170,
          1192.5,
          1192.5
         ],
         "xaxis": "x",
         "y": [
          0.25,
          0.4583333333333333,
          0.4583333333333333,
          0.4074074074074074
         ],
         "yaxis": "y"
        },
        {
         "hoverinfo": "text",
         "marker": {
          "color": "rgb(133,20,75)"
         },
         "mode": "lines",
         "text": [
          "cluster: 63, component: QE_2017_001815_191.14287_312.0",
          "cluster: 63, component: QE_2017_001815_191.14287_312.0",
          "cluster: 63, component: QE_2017_001816_191.14291_404.0",
          "cluster: 63, component: QE_2017_001816_191.14291_404.0"
         ],
         "type": "scatter",
         "uid": "21607f2a-6a28-46e2-bc98-b97ad9f1621f",
         "x": [
          1225,
          1225,
          1235,
          1235
         ],
         "xaxis": "x",
         "y": [
          0,
          0.43103448275862066,
          0.43103448275862066,
          0
         ],
         "yaxis": "y"
        },
        {
         "hoverinfo": "text",
         "marker": {
          "color": "rgb(133,20,75)"
         },
         "mode": "lines",
         "text": [
          "cluster: 63, component: QE_2017_001814_191.14291_389.0",
          "cluster: 63, component: QE_2017_001814_191.14291_389.0",
          null,
          null
         ],
         "type": "scatter",
         "uid": "bbb4c1f1-3913-489e-a340-d3103041c966",
         "x": [
          1215,
          1215,
          1230,
          1230
         ],
         "xaxis": "x",
         "y": [
          0,
          0.5,
          0.5,
          0.43103448275862066
         ],
         "yaxis": "y"
        },
        {
         "hoverinfo": "text",
         "marker": {
          "color": "rgb(0,116,217)"
         },
         "mode": "lines",
         "text": [
          null,
          null,
          null,
          null
         ],
         "type": "scatter",
         "uid": "a912f293-e8ee-41cc-aa46-d548ea38fa50",
         "x": [
          1181.25,
          1181.25,
          1222.5,
          1222.5
         ],
         "xaxis": "x",
         "y": [
          0.4583333333333333,
          0.68,
          0.68,
          0.5
         ],
         "yaxis": "y"
        },
        {
         "hoverinfo": "text",
         "marker": {
          "color": "rgb(0,116,217)"
         },
         "mode": "lines",
         "text": [
          "cluster: 64, component: QE_2017_001816_137.09584_445.0",
          "cluster: 64, component: QE_2017_001816_137.09584_445.0",
          null,
          null
         ],
         "type": "scatter",
         "uid": "228eaae2-ffab-4fab-ac6a-d4340cfda856",
         "x": [
          1155,
          1155,
          1201.875,
          1201.875
         ],
         "xaxis": "x",
         "y": [
          0,
          0.782608695652174,
          0.782608695652174,
          0.68
         ],
         "yaxis": "y"
        },
        {
         "hoverinfo": "text",
         "marker": {
          "color": "rgb(0,116,217)"
         },
         "mode": "lines",
         "text": [
          null,
          null,
          null,
          null
         ],
         "type": "scatter",
         "uid": "e9305d60-29bb-4fd9-be3f-5cc0f3e5baf8",
         "x": [
          1060.46875,
          1060.46875,
          1178.4375,
          1178.4375
         ],
         "xaxis": "x",
         "y": [
          0.7631578947368421,
          0.8170731707317073,
          0.8170731707317073,
          0.782608695652174
         ],
         "yaxis": "y"
        },
        {
         "hoverinfo": "text",
         "marker": {
          "color": "rgb(0,116,217)"
         },
         "mode": "lines",
         "text": [
          null,
          null,
          null,
          null
         ],
         "type": "scatter",
         "uid": "6bda9da1-48ae-470a-a45a-758000f609db",
         "x": [
          940,
          940,
          1119.453125,
          1119.453125
         ],
         "xaxis": "x",
         "y": [
          0.48333333333333334,
          0.8421052631578947,
          0.8421052631578947,
          0.8170731707317073
         ],
         "yaxis": "y"
        },
        {
         "hoverinfo": "text",
         "marker": {
          "color": "rgb(0,116,217)"
         },
         "mode": "lines",
         "text": [
          "cluster: 65, component: QE_2017_001814_209.08058_363.0",
          "cluster: 65, component: QE_2017_001814_209.08058_363.0",
          "cluster: 66, component: QE_2017_001816_207.13779_561.0",
          "cluster: 66, component: QE_2017_001816_207.13779_561.0"
         ],
         "type": "scatter",
         "uid": "323ca4f3-7728-4ebf-bc8e-1660ecef1dac",
         "x": [
          1245,
          1245,
          1255,
          1255
         ],
         "xaxis": "x",
         "y": [
          0,
          0.8556701030927835,
          0.8556701030927835,
          0
         ],
         "yaxis": "y"
        },
        {
         "hoverinfo": "text",
         "marker": {
          "color": "rgb(0,116,217)"
         },
         "mode": "lines",
         "text": [
          null,
          null,
          null,
          null
         ],
         "type": "scatter",
         "uid": "398c08c9-bec9-4232-8a45-ba373e013899",
         "x": [
          1029.7265625,
          1029.7265625,
          1250,
          1250
         ],
         "xaxis": "x",
         "y": [
          0.8421052631578947,
          0.9135802469135802,
          0.9135802469135802,
          0.8556701030927835
         ],
         "yaxis": "y"
        },
        {
         "hoverinfo": "text",
         "marker": {
          "color": "rgb(0,116,217)"
         },
         "mode": "lines",
         "text": [
          null,
          null,
          null,
          null
         ],
         "type": "scatter",
         "uid": "1cca8632-4845-4af1-9a8a-c8d2a45ef838",
         "x": [
          901.875,
          901.875,
          1139.86328125,
          1139.86328125
         ],
         "xaxis": "x",
         "y": [
          0.9032258064516129,
          0.9882352941176471,
          0.9882352941176471,
          0.9135802469135802
         ],
         "yaxis": "y"
        },
        {
         "hoverinfo": "text",
         "marker": {
          "color": "rgb(0,116,217)"
         },
         "mode": "lines",
         "text": [
          "cluster: 67, component: QE_2017_001815_333.15173_245.0",
          "cluster: 67, component: QE_2017_001815_333.15173_245.0",
          "cluster: 68, component: QE_2017_001816_333.15204_235.0",
          "cluster: 68, component: QE_2017_001816_333.15204_235.0"
         ],
         "type": "scatter",
         "uid": "9bce28e9-3faa-495e-9674-6a24178a0858",
         "x": [
          1265,
          1265,
          1275,
          1275
         ],
         "xaxis": "x",
         "y": [
          0,
          0.8461538461538461,
          0.8461538461538461,
          0
         ],
         "yaxis": "y"
        },
        {
         "hoverinfo": "text",
         "marker": {
          "color": "rgb(0,116,217)"
         },
         "mode": "lines",
         "text": [
          "cluster: 69, component: QE_2017_001814_194.1174_244.0",
          "cluster: 69, component: QE_2017_001814_194.1174_244.0",
          "cluster: 70, component: QE_2017_001816_194.11746_133.0",
          "cluster: 70, component: QE_2017_001816_194.11746_133.0"
         ],
         "type": "scatter",
         "uid": "53517189-f2b6-4198-9d3a-9087d4cd1374",
         "x": [
          1285,
          1285,
          1295,
          1295
         ],
         "xaxis": "x",
         "y": [
          0,
          0.7142857142857143,
          0.7142857142857143,
          0
         ],
         "yaxis": "y"
        },
        {
         "hoverinfo": "text",
         "marker": {
          "color": "rgb(255,220,0)"
         },
         "mode": "lines",
         "text": [
          "cluster: 71, component: QE_2017_001814_320.29471_529.0",
          "cluster: 71, component: QE_2017_001814_320.29471_529.0",
          "cluster: 71, component: QE_2017_001815_320.29486_538.0",
          "cluster: 71, component: QE_2017_001815_320.29486_538.0"
         ],
         "type": "scatter",
         "uid": "17f267e6-5c56-4c20-91a7-6740483dbf16",
         "x": [
          1335,
          1335,
          1345,
          1345
         ],
         "xaxis": "x",
         "y": [
          0,
          0.4444444444444444,
          0.4444444444444444,
          0
         ],
         "yaxis": "y"
        },
        {
         "hoverinfo": "text",
         "marker": {
          "color": "rgb(255,220,0)"
         },
         "mode": "lines",
         "text": [
          "cluster: 71, component: QE_2017_001814_320.29477_539.0",
          "cluster: 71, component: QE_2017_001814_320.29477_539.0",
          null,
          null
         ],
         "type": "scatter",
         "uid": "1b14f954-94a6-42d8-ad4f-e212a72a56d2",
         "x": [
          1325,
          1325,
          1340,
          1340
         ],
         "xaxis": "x",
         "y": [
          0,
          0.5833333333333334,
          0.5833333333333334,
          0.4444444444444444
         ],
         "yaxis": "y"
        },
        {
         "hoverinfo": "text",
         "marker": {
          "color": "rgb(0,116,217)"
         },
         "mode": "lines",
         "text": [
          "cluster: 72, component: QE_2017_001814_320.29468_638.0",
          "cluster: 72, component: QE_2017_001814_320.29468_638.0",
          null,
          null
         ],
         "type": "scatter",
         "uid": "f5affeb4-f8a4-4951-baf7-e2b0d75212ee",
         "x": [
          1315,
          1315,
          1332.5,
          1332.5
         ],
         "xaxis": "x",
         "y": [
          0,
          0.7857142857142857,
          0.7857142857142857,
          0.5833333333333334
         ],
         "yaxis": "y"
        },
        {
         "hoverinfo": "text",
         "marker": {
          "color": "rgb(0,116,217)"
         },
         "mode": "lines",
         "text": [
          "cluster: 73, component: QE_2017_001816_320.29483_548.0",
          "cluster: 73, component: QE_2017_001816_320.29483_548.0",
          null,
          null
         ],
         "type": "scatter",
         "uid": "2a9b9699-8eac-472d-8742-9179c92ffcc8",
         "x": [
          1305,
          1305,
          1323.75,
          1323.75
         ],
         "xaxis": "x",
         "y": [
          0,
          0.9393939393939394,
          0.9393939393939394,
          0.7857142857142857
         ],
         "yaxis": "y"
        },
        {
         "hoverinfo": "text",
         "marker": {
          "color": "rgb(0,116,217)"
         },
         "mode": "lines",
         "text": [
          null,
          null,
          null,
          null
         ],
         "type": "scatter",
         "uid": "522609d3-8889-40cf-b1c6-8ec636f69b00",
         "x": [
          1290,
          1290,
          1314.375,
          1314.375
         ],
         "xaxis": "x",
         "y": [
          0.7142857142857143,
          0.9523809523809523,
          0.9523809523809523,
          0.9393939393939394
         ],
         "yaxis": "y"
        },
        {
         "hoverinfo": "text",
         "marker": {
          "color": "rgb(0,116,217)"
         },
         "mode": "lines",
         "text": [
          "cluster: 74, component: QE_2017_001814_241.15384_47.0",
          "cluster: 74, component: QE_2017_001814_241.15384_47.0",
          "cluster: 75, component: QE_2017_001814_241.15446_57.0",
          "cluster: 75, component: QE_2017_001814_241.15446_57.0"
         ],
         "type": "scatter",
         "uid": "75031473-69eb-4d1b-8b2e-f15e6309728b",
         "x": [
          1355,
          1355,
          1365,
          1365
         ],
         "xaxis": "x",
         "y": [
          0,
          0.6363636363636364,
          0.6363636363636364,
          0
         ],
         "yaxis": "y"
        },
        {
         "hoverinfo": "text",
         "marker": {
          "color": "rgb(0,116,217)"
         },
         "mode": "lines",
         "text": [
          "cluster: 76, component: QE_2017_001815_332.25827_508.0",
          "cluster: 76, component: QE_2017_001815_332.25827_508.0",
          "cluster: 77, component: QE_2017_001816_332.25842_487.0",
          "cluster: 77, component: QE_2017_001816_332.25842_487.0"
         ],
         "type": "scatter",
         "uid": "26bcf586-cbb8-444b-9454-dca681dce168",
         "x": [
          1385,
          1385,
          1395,
          1395
         ],
         "xaxis": "x",
         "y": [
          0,
          0.6829268292682927,
          0.6829268292682927,
          0
         ],
         "yaxis": "y"
        },
        {
         "hoverinfo": "text",
         "marker": {
          "color": "rgb(0,116,217)"
         },
         "mode": "lines",
         "text": [
          "cluster: 78, component: QE_2017_001814_332.25827_467.0",
          "cluster: 78, component: QE_2017_001814_332.25827_467.0",
          null,
          null
         ],
         "type": "scatter",
         "uid": "7538b6d0-6ce7-4736-a28d-7b776fbb550e",
         "x": [
          1375,
          1375,
          1390,
          1390
         ],
         "xaxis": "x",
         "y": [
          0,
          0.8,
          0.8,
          0.6829268292682927
         ],
         "yaxis": "y"
        },
        {
         "hoverinfo": "text",
         "marker": {
          "color": "rgb(0,116,217)"
         },
         "mode": "lines",
         "text": [
          null,
          null,
          null,
          null
         ],
         "type": "scatter",
         "uid": "4b66fe18-2149-4014-97f2-877f50ed0a51",
         "x": [
          1360,
          1360,
          1382.5,
          1382.5
         ],
         "xaxis": "x",
         "y": [
          0.6363636363636364,
          0.9666666666666667,
          0.9666666666666667,
          0.8
         ],
         "yaxis": "y"
        },
        {
         "hoverinfo": "text",
         "marker": {
          "color": "rgb(0,116,217)"
         },
         "mode": "lines",
         "text": [
          null,
          null,
          null,
          null
         ],
         "type": "scatter",
         "uid": "869398db-6333-4802-88f8-40905bdc205b",
         "x": [
          1302.1875,
          1302.1875,
          1371.25,
          1371.25
         ],
         "xaxis": "x",
         "y": [
          0.9523809523809523,
          0.9772727272727273,
          0.9772727272727273,
          0.9666666666666667
         ],
         "yaxis": "y"
        },
        {
         "hoverinfo": "text",
         "marker": {
          "color": "rgb(0,116,217)"
         },
         "mode": "lines",
         "text": [
          "cluster: 79, component: QE_2017_001814_319.13638_117.0",
          "cluster: 79, component: QE_2017_001814_319.13638_117.0",
          "cluster: 80, component: QE_2017_001816_319.13614_143.0",
          "cluster: 80, component: QE_2017_001816_319.13614_143.0"
         ],
         "type": "scatter",
         "uid": "0acd9a58-c94e-4b05-94ad-ae75ec7c22f0",
         "x": [
          1405,
          1405,
          1415,
          1415
         ],
         "xaxis": "x",
         "y": [
          0,
          0.75,
          0.75,
          0
         ],
         "yaxis": "y"
        },
        {
         "hoverinfo": "text",
         "marker": {
          "color": "rgb(40,35,35)"
         },
         "mode": "lines",
         "text": [
          "cluster: 81, component: QE_2017_001815_219.10139_360.0",
          "cluster: 81, component: QE_2017_001815_219.10139_360.0",
          "cluster: 81, component: QE_2017_001816_219.10153_382.0",
          "cluster: 81, component: QE_2017_001816_219.10153_382.0"
         ],
         "type": "scatter",
         "uid": "c78179aa-c4d8-4596-a5a1-d7b9bc6f8278",
         "x": [
          1445,
          1445,
          1455,
          1455
         ],
         "xaxis": "x",
         "y": [
          0,
          0.38181818181818183,
          0.38181818181818183,
          0
         ],
         "yaxis": "y"
        },
        {
         "hoverinfo": "text",
         "marker": {
          "color": "rgb(40,35,35)"
         },
         "mode": "lines",
         "text": [
          "cluster: 81, component: QE_2017_001815_219.10159_438.0",
          "cluster: 81, component: QE_2017_001815_219.10159_438.0",
          null,
          null
         ],
         "type": "scatter",
         "uid": "fb3dfaec-9021-4c27-8e70-16daffdb1bd6",
         "x": [
          1435,
          1435,
          1450,
          1450
         ],
         "xaxis": "x",
         "y": [
          0,
          0.4647887323943662,
          0.4647887323943662,
          0.38181818181818183
         ],
         "yaxis": "y"
        },
        {
         "hoverinfo": "text",
         "marker": {
          "color": "rgb(0,116,217)"
         },
         "mode": "lines",
         "text": [
          "cluster: 82, component: QE_2017_001814_251.09117_393.0",
          "cluster: 82, component: QE_2017_001814_251.09117_393.0",
          null,
          null
         ],
         "type": "scatter",
         "uid": "3e7baeb6-e9d7-4495-8e4f-38284d7f4113",
         "x": [
          1425,
          1425,
          1442.5,
          1442.5
         ],
         "xaxis": "x",
         "y": [
          0,
          0.6527777777777778,
          0.6527777777777778,
          0.4647887323943662
         ],
         "yaxis": "y"
        },
        {
         "hoverinfo": "text",
         "marker": {
          "color": "rgb(61,153,112)"
         },
         "mode": "lines",
         "text": [
          "cluster: 83, component: QE_2017_001814_291.1442_241.0",
          "cluster: 83, component: QE_2017_001814_291.1442_241.0",
          "cluster: 83, component: QE_2017_001816_291.14493_243.0",
          "cluster: 83, component: QE_2017_001816_291.14493_243.0"
         ],
         "type": "scatter",
         "uid": "76806a84-065c-4f4b-ab08-7eed82d786ec",
         "x": [
          1465,
          1465,
          1475,
          1475
         ],
         "xaxis": "x",
         "y": [
          0,
          0.37037037037037035,
          0.37037037037037035,
          0
         ],
         "yaxis": "y"
        },
        {
         "hoverinfo": "text",
         "marker": {
          "color": "rgb(61,153,112)"
         },
         "mode": "lines",
         "text": [
          "cluster: 83, component: QE_2017_001815_273.13425_199.0",
          "cluster: 83, component: QE_2017_001815_273.13425_199.0",
          "cluster: 83, component: QE_2017_001815_273.13434_243.0",
          "cluster: 83, component: QE_2017_001815_273.13434_243.0"
         ],
         "type": "scatter",
         "uid": "49c5d831-b985-44fe-b090-3dd3351a12a7",
         "x": [
          1495,
          1495,
          1505,
          1505
         ],
         "xaxis": "x",
         "y": [
          0,
          0.3333333333333333,
          0.3333333333333333,
          0
         ],
         "yaxis": "y"
        },
        {
         "hoverinfo": "text",
         "marker": {
          "color": "rgb(61,153,112)"
         },
         "mode": "lines",
         "text": [
          "cluster: 83, component: QE_2017_001816_291.14499_200.0",
          "cluster: 83, component: QE_2017_001816_291.14499_200.0",
          null,
          null
         ],
         "type": "scatter",
         "uid": "27499876-30f1-4ceb-af30-4d796f95e2d4",
         "x": [
          1485,
          1485,
          1500,
          1500
         ],
         "xaxis": "x",
         "y": [
          0,
          0.41935483870967744,
          0.41935483870967744,
          0.3333333333333333
         ],
         "yaxis": "y"
        },
        {
         "hoverinfo": "text",
         "marker": {
          "color": "rgb(61,153,112)"
         },
         "mode": "lines",
         "text": [
          null,
          null,
          null,
          null
         ],
         "type": "scatter",
         "uid": "a217c3db-7a4b-4222-9507-7f66eb329b82",
         "x": [
          1470,
          1470,
          1492.5,
          1492.5
         ],
         "xaxis": "x",
         "y": [
          0.37037037037037035,
          0.5161290322580645,
          0.5161290322580645,
          0.41935483870967744
         ],
         "yaxis": "y"
        },
        {
         "hoverinfo": "text",
         "marker": {
          "color": "rgb(255,65,54)"
         },
         "mode": "lines",
         "text": [
          "cluster: 84, component: QE_2017_001815_235.14398_226.0",
          "cluster: 84, component: QE_2017_001815_235.14398_226.0",
          "cluster: 84, component: QE_2017_001816_235.14397_183.0",
          "cluster: 84, component: QE_2017_001816_235.14397_183.0"
         ],
         "type": "scatter",
         "uid": "473ad74f-c0ba-46cd-afae-6d212363fd75",
         "x": [
          1525,
          1525,
          1535,
          1535
         ],
         "xaxis": "x",
         "y": [
          0,
          0.5263157894736842,
          0.5263157894736842,
          0
         ],
         "yaxis": "y"
        },
        {
         "hoverinfo": "text",
         "marker": {
          "color": "rgb(0,116,217)"
         },
         "mode": "lines",
         "text": [
          "cluster: 85, component: QE_2017_001815_251.13873_202.0",
          "cluster: 85, component: QE_2017_001815_251.13873_202.0",
          null,
          null
         ],
         "type": "scatter",
         "uid": "f9b4c4c7-4d36-43b8-95b4-1547fbcc2c14",
         "x": [
          1515,
          1515,
          1530,
          1530
         ],
         "xaxis": "x",
         "y": [
          0,
          0.8636363636363636,
          0.8636363636363636,
          0.5263157894736842
         ],
         "yaxis": "y"
        },
        {
         "hoverinfo": "text",
         "marker": {
          "color": "rgb(0,116,217)"
         },
         "mode": "lines",
         "text": [
          null,
          null,
          null,
          null
         ],
         "type": "scatter",
         "uid": "104b1c0f-0b7a-4985-ad18-afca47c8bc33",
         "x": [
          1481.25,
          1481.25,
          1522.5,
          1522.5
         ],
         "xaxis": "x",
         "y": [
          0.5161290322580645,
          0.9166666666666666,
          0.9166666666666666,
          0.8636363636363636
         ],
         "yaxis": "y"
        },
        {
         "hoverinfo": "text",
         "marker": {
          "color": "rgb(0,116,217)"
         },
         "mode": "lines",
         "text": [
          null,
          null,
          null,
          null
         ],
         "type": "scatter",
         "uid": "7c6ccb3d-abfa-4ca3-9d29-15d861303830",
         "x": [
          1433.75,
          1433.75,
          1501.875,
          1501.875
         ],
         "xaxis": "x",
         "y": [
          0.6527777777777778,
          0.9891304347826086,
          0.9891304347826086,
          0.9166666666666666
         ],
         "yaxis": "y"
        },
        {
         "hoverinfo": "text",
         "marker": {
          "color": "rgb(35,205,205)"
         },
         "mode": "lines",
         "text": [
          "cluster: 86, component: QE_2017_001814_250.10149_516.0",
          "cluster: 86, component: QE_2017_001814_250.10149_516.0",
          "cluster: 86, component: QE_2017_001815_222.07033_315.0",
          "cluster: 86, component: QE_2017_001815_222.07033_315.0"
         ],
         "type": "scatter",
         "uid": "72d0f9aa-b2d2-4962-844d-34e25e663ee8",
         "x": [
          1565,
          1565,
          1575,
          1575
         ],
         "xaxis": "x",
         "y": [
          0,
          0.5081967213114754,
          0.5081967213114754,
          0
         ],
         "yaxis": "y"
        },
        {
         "hoverinfo": "text",
         "marker": {
          "color": "rgb(0,116,217)"
         },
         "mode": "lines",
         "text": [
          "cluster: 87, component: QE_2017_001816_268.59351_445.0",
          "cluster: 87, component: QE_2017_001816_268.59351_445.0",
          null,
          null
         ],
         "type": "scatter",
         "uid": "e5b23019-2353-49a2-8ec3-b0031fb43c41",
         "x": [
          1555,
          1555,
          1570,
          1570
         ],
         "xaxis": "x",
         "y": [
          0,
          0.6923076923076923,
          0.6923076923076923,
          0.5081967213114754
         ],
         "yaxis": "y"
        },
        {
         "hoverinfo": "text",
         "marker": {
          "color": "rgb(133,20,75)"
         },
         "mode": "lines",
         "text": [
          "cluster: 88, component: QE_2017_001814_247.05975_245.0",
          "cluster: 88, component: QE_2017_001814_247.05975_245.0",
          "cluster: 88, component: QE_2017_001815_247.0598_242.0",
          "cluster: 88, component: QE_2017_001815_247.0598_242.0"
         ],
         "type": "scatter",
         "uid": "0ecaee29-6ac3-416b-a6f9-153439b498e6",
         "x": [
          1585,
          1585,
          1595,
          1595
         ],
         "xaxis": "x",
         "y": [
          0,
          0.35294117647058826,
          0.35294117647058826,
          0
         ],
         "yaxis": "y"
        },
        {
         "hoverinfo": "text",
         "marker": {
          "color": "rgb(0,116,217)"
         },
         "mode": "lines",
         "text": [
          "cluster: 89, component: QE_2017_001815_212.03883_181.0",
          "cluster: 89, component: QE_2017_001815_212.03883_181.0",
          "cluster: 90, component: QE_2017_001815_214.56488_409.0",
          "cluster: 90, component: QE_2017_001815_214.56488_409.0"
         ],
         "type": "scatter",
         "uid": "c33c9d92-d2f7-4727-b8dc-7c6708f5c737",
         "x": [
          1615,
          1615,
          1625,
          1625
         ],
         "xaxis": "x",
         "y": [
          0,
          0.7777777777777778,
          0.7777777777777778,
          0
         ],
         "yaxis": "y"
        },
        {
         "hoverinfo": "text",
         "marker": {
          "color": "rgb(0,116,217)"
         },
         "mode": "lines",
         "text": [
          "cluster: 91, component: QE_2017_001816_219.04672_291.0",
          "cluster: 91, component: QE_2017_001816_219.04672_291.0",
          null,
          null
         ],
         "type": "scatter",
         "uid": "fc1e7633-9f1f-44d7-b16e-57acab558a36",
         "x": [
          1605,
          1605,
          1620,
          1620
         ],
         "xaxis": "x",
         "y": [
          0,
          0.8125,
          0.8125,
          0.7777777777777778
         ],
         "yaxis": "y"
        },
        {
         "hoverinfo": "text",
         "marker": {
          "color": "rgb(0,116,217)"
         },
         "mode": "lines",
         "text": [
          null,
          null,
          null,
          null
         ],
         "type": "scatter",
         "uid": "34d067ff-819a-47aa-9dd1-da58bbf4606d",
         "x": [
          1590,
          1590,
          1612.5,
          1612.5
         ],
         "xaxis": "x",
         "y": [
          0.35294117647058826,
          0.8571428571428571,
          0.8571428571428571,
          0.8125
         ],
         "yaxis": "y"
        },
        {
         "hoverinfo": "text",
         "marker": {
          "color": "rgb(0,116,217)"
         },
         "mode": "lines",
         "text": [
          null,
          null,
          null,
          null
         ],
         "type": "scatter",
         "uid": "163f112c-262f-4646-9e64-d67dce9a5b8c",
         "x": [
          1562.5,
          1562.5,
          1601.25,
          1601.25
         ],
         "xaxis": "x",
         "y": [
          0.6923076923076923,
          0.9178082191780822,
          0.9178082191780822,
          0.8571428571428571
         ],
         "yaxis": "y"
        },
        {
         "hoverinfo": "text",
         "marker": {
          "color": "rgb(0,116,217)"
         },
         "mode": "lines",
         "text": [
          "cluster: 92, component: QE_2017_001815_214.51021_60.0",
          "cluster: 92, component: QE_2017_001815_214.51021_60.0",
          null,
          null
         ],
         "type": "scatter",
         "uid": "c5f92512-6395-4d36-89c0-855f3e786f0b",
         "x": [
          1545,
          1545,
          1581.875,
          1581.875
         ],
         "xaxis": "x",
         "y": [
          0,
          0.9534883720930233,
          0.9534883720930233,
          0.9178082191780822
         ],
         "yaxis": "y"
        },
        {
         "hoverinfo": "text",
         "marker": {
          "color": "rgb(255,220,0)"
         },
         "mode": "lines",
         "text": [
          "cluster: 93, component: QE_2017_001815_246.14465_137.0",
          "cluster: 93, component: QE_2017_001815_246.14465_137.0",
          "cluster: 93, component: QE_2017_001815_247.12865_158.0",
          "cluster: 93, component: QE_2017_001815_247.12865_158.0"
         ],
         "type": "scatter",
         "uid": "2cbfcdbb-0115-40ba-b716-6e52b9a73bcd",
         "x": [
          1655,
          1655,
          1665,
          1665
         ],
         "xaxis": "x",
         "y": [
          0,
          0.5,
          0.5,
          0
         ],
         "yaxis": "y"
        },
        {
         "hoverinfo": "text",
         "marker": {
          "color": "rgb(40,35,35)"
         },
         "mode": "lines",
         "text": [
          "cluster: 94, component: QE_2017_001814_260.16037_143.0",
          "cluster: 94, component: QE_2017_001814_260.16037_143.0",
          "cluster: 94, component: QE_2017_001816_260.16022_145.0",
          "cluster: 94, component: QE_2017_001816_260.16022_145.0"
         ],
         "type": "scatter",
         "uid": "4c15c21e-3084-4fa2-b1d4-287c2f81ef35",
         "x": [
          1675,
          1675,
          1685,
          1685
         ],
         "xaxis": "x",
         "y": [
          0,
          0.2857142857142857,
          0.2857142857142857,
          0
         ],
         "yaxis": "y"
        },
        {
         "hoverinfo": "text",
         "marker": {
          "color": "rgb(61,153,112)"
         },
         "mode": "lines",
         "text": [
          "cluster: 95, component: QE_2017_001814_233.14948_126.0",
          "cluster: 95, component: QE_2017_001814_233.14948_126.0",
          "cluster: 95, component: QE_2017_001816_233.14955_129.0",
          "cluster: 95, component: QE_2017_001816_233.14955_129.0"
         ],
         "type": "scatter",
         "uid": "f05c105e-58b5-4cea-a5ea-8914c34ec137",
         "x": [
          1705,
          1705,
          1715,
          1715
         ],
         "xaxis": "x",
         "y": [
          0,
          0.2631578947368421,
          0.2631578947368421,
          0
         ],
         "yaxis": "y"
        },
        {
         "hoverinfo": "text",
         "marker": {
          "color": "rgb(61,153,112)"
         },
         "mode": "lines",
         "text": [
          "cluster: 95, component: QE_2017_001814_233.14957_152.0",
          "cluster: 95, component: QE_2017_001814_233.14957_152.0",
          null,
          null
         ],
         "type": "scatter",
         "uid": "ef9a9a57-3ff3-49f4-961d-5542a15c9fbc",
         "x": [
          1695,
          1695,
          1710,
          1710
         ],
         "xaxis": "x",
         "y": [
          0,
          0.5416666666666666,
          0.5416666666666666,
          0.2631578947368421
         ],
         "yaxis": "y"
        },
        {
         "hoverinfo": "text",
         "marker": {
          "color": "rgb(0,116,217)"
         },
         "mode": "lines",
         "text": [
          null,
          null,
          null,
          null
         ],
         "type": "scatter",
         "uid": "4e4673a4-f6aa-4d50-aeaf-922c05e06c45",
         "x": [
          1680,
          1680,
          1702.5,
          1702.5
         ],
         "xaxis": "x",
         "y": [
          0.2857142857142857,
          0.8648648648648649,
          0.8648648648648649,
          0.5416666666666666
         ],
         "yaxis": "y"
        },
        {
         "hoverinfo": "text",
         "marker": {
          "color": "rgb(0,116,217)"
         },
         "mode": "lines",
         "text": [
          null,
          null,
          null,
          null
         ],
         "type": "scatter",
         "uid": "a5594250-89ac-4d55-b1c1-102f04245a1d",
         "x": [
          1660,
          1660,
          1691.25,
          1691.25
         ],
         "xaxis": "x",
         "y": [
          0.5,
          0.9574468085106383,
          0.9574468085106383,
          0.8648648648648649
         ],
         "yaxis": "y"
        },
        {
         "hoverinfo": "text",
         "marker": {
          "color": "rgb(0,116,217)"
         },
         "mode": "lines",
         "text": [
          "cluster: 96, component: QE_2017_001816_132.04436_283.0",
          "cluster: 96, component: QE_2017_001816_132.04436_283.0",
          null,
          null
         ],
         "type": "scatter",
         "uid": "f2cebb6a-4de9-4b08-b902-41ecbf3c4e11",
         "x": [
          1645,
          1645,
          1675.625,
          1675.625
         ],
         "xaxis": "x",
         "y": [
          0,
          0.98,
          0.98,
          0.9574468085106383
         ],
         "yaxis": "y"
        },
        {
         "hoverinfo": "text",
         "marker": {
          "color": "rgb(0,116,217)"
         },
         "mode": "lines",
         "text": [
          "cluster: 97, component: QE_2017_001815_260.16016_64.0",
          "cluster: 97, component: QE_2017_001815_260.16016_64.0",
          null,
          null
         ],
         "type": "scatter",
         "uid": "8447fce9-e5da-44dc-8b1d-1c1d6a376eee",
         "x": [
          1635,
          1635,
          1660.3125,
          1660.3125
         ],
         "xaxis": "x",
         "y": [
          0,
          0.9846153846153847,
          0.9846153846153847,
          0.98
         ],
         "yaxis": "y"
        },
        {
         "hoverinfo": "text",
         "marker": {
          "color": "rgb(0,116,217)"
         },
         "mode": "lines",
         "text": [
          "cluster: 98, component: QE_2017_001815_221.12837_99.0",
          "cluster: 98, component: QE_2017_001815_221.12837_99.0",
          "cluster: 99, component: QE_2017_001816_237.12325_171.0",
          "cluster: 99, component: QE_2017_001816_237.12325_171.0"
         ],
         "type": "scatter",
         "uid": "00447cb6-bd2b-469a-9e04-1affc62cebc4",
         "x": [
          1725,
          1725,
          1735,
          1735
         ],
         "xaxis": "x",
         "y": [
          0,
          0.7142857142857143,
          0.7142857142857143,
          0
         ],
         "yaxis": "y"
        },
        {
         "hoverinfo": "text",
         "marker": {
          "color": "rgb(0,116,217)"
         },
         "mode": "lines",
         "text": [
          "cluster: 100, component: QE_2017_001814_237.12305_220.0",
          "cluster: 100, component: QE_2017_001814_237.12305_220.0",
          "cluster: 101, component: QE_2017_001816_237.12323_53.0",
          "cluster: 101, component: QE_2017_001816_237.12323_53.0"
         ],
         "type": "scatter",
         "uid": "a459ecc6-c14f-4937-bb2c-b951a94c17fd",
         "x": [
          1745,
          1745,
          1755,
          1755
         ],
         "xaxis": "x",
         "y": [
          0,
          0.9444444444444444,
          0.9444444444444444,
          0
         ],
         "yaxis": "y"
        },
        {
         "hoverinfo": "text",
         "marker": {
          "color": "rgb(0,116,217)"
         },
         "mode": "lines",
         "text": [
          null,
          null,
          null,
          null
         ],
         "type": "scatter",
         "uid": "cb2fb1a7-aceb-4c2d-9530-e9f4f4db2234",
         "x": [
          1730,
          1730,
          1750,
          1750
         ],
         "xaxis": "x",
         "y": [
          0.7142857142857143,
          0.9761904761904762,
          0.9761904761904762,
          0.9444444444444444
         ],
         "yaxis": "y"
        },
        {
         "hoverinfo": "text",
         "marker": {
          "color": "rgb(255,65,54)"
         },
         "mode": "lines",
         "text": [
          "cluster: 102, component: QE_2017_001814_229.15399_46.0",
          "cluster: 102, component: QE_2017_001814_229.15399_46.0",
          "cluster: 102, component: QE_2017_001816_229.15451_66.0",
          "cluster: 102, component: QE_2017_001816_229.15451_66.0"
         ],
         "type": "scatter",
         "uid": "4182f857-7073-4d49-a044-83b9dd4014f3",
         "x": [
          1775,
          1775,
          1785,
          1785
         ],
         "xaxis": "x",
         "y": [
          0,
          0.38461538461538464,
          0.38461538461538464,
          0
         ],
         "yaxis": "y"
        },
        {
         "hoverinfo": "text",
         "marker": {
          "color": "rgb(0,116,217)"
         },
         "mode": "lines",
         "text": [
          "cluster: 103, component: QE_2017_001816_229.15469_52.0",
          "cluster: 103, component: QE_2017_001816_229.15469_52.0",
          null,
          null
         ],
         "type": "scatter",
         "uid": "0cdbed3f-6be3-4a2c-848f-1850dfebf2a2",
         "x": [
          1765,
          1765,
          1780,
          1780
         ],
         "xaxis": "x",
         "y": [
          0,
          0.875,
          0.875,
          0.38461538461538464
         ],
         "yaxis": "y"
        },
        {
         "hoverinfo": "text",
         "marker": {
          "color": "rgb(35,205,205)"
         },
         "mode": "lines",
         "text": [
          "cluster: 104, component: QE_2017_001814_182.08116_51.0",
          "cluster: 104, component: QE_2017_001814_182.08116_51.0",
          "cluster: 104, component: QE_2017_001816_182.08116_55.0",
          "cluster: 104, component: QE_2017_001816_182.08116_55.0"
         ],
         "type": "scatter",
         "uid": "c5ceb980-6ccc-4e08-a7be-12061e2fbef2",
         "x": [
          1795,
          1795,
          1805,
          1805
         ],
         "xaxis": "x",
         "y": [
          0,
          0.4375,
          0.4375,
          0
         ],
         "yaxis": "y"
        },
        {
         "hoverinfo": "text",
         "marker": {
          "color": "rgb(133,20,75)"
         },
         "mode": "lines",
         "text": [
          "cluster: 105, component: QE_2017_001815_194.04474_330.0",
          "cluster: 105, component: QE_2017_001815_194.04474_330.0",
          "cluster: 105, component: QE_2017_001816_212.05518_300.0",
          "cluster: 105, component: QE_2017_001816_212.05518_300.0"
         ],
         "type": "scatter",
         "uid": "23cc6fc7-c801-461d-9e9b-1bf6ab1e3cf1",
         "x": [
          1815,
          1815,
          1825,
          1825
         ],
         "xaxis": "x",
         "y": [
          0,
          0.5370370370370371,
          0.5370370370370371,
          0
         ],
         "yaxis": "y"
        },
        {
         "hoverinfo": "text",
         "marker": {
          "color": "rgb(0,116,217)"
         },
         "mode": "lines",
         "text": [
          null,
          null,
          null,
          null
         ],
         "type": "scatter",
         "uid": "500dc1ce-1b88-4862-b498-0ade3b4e4493",
         "x": [
          1800,
          1800,
          1820,
          1820
         ],
         "xaxis": "x",
         "y": [
          0.4375,
          0.921875,
          0.921875,
          0.5370370370370371
         ],
         "yaxis": "y"
        },
        {
         "hoverinfo": "text",
         "marker": {
          "color": "rgb(255,220,0)"
         },
         "mode": "lines",
         "text": [
          "cluster: 106, component: QE_2017_001814_177.05418_236.0",
          "cluster: 106, component: QE_2017_001814_177.05418_236.0",
          "cluster: 106, component: QE_2017_001815_177.05444_307.0",
          "cluster: 106, component: QE_2017_001815_177.05444_307.0"
         ],
         "type": "scatter",
         "uid": "45c3246d-3e56-49b0-8b5d-e750eb83ead9",
         "x": [
          1845,
          1845,
          1855,
          1855
         ],
         "xaxis": "x",
         "y": [
          0,
          0.35,
          0.35,
          0
         ],
         "yaxis": "y"
        },
        {
         "hoverinfo": "text",
         "marker": {
          "color": "rgb(255,220,0)"
         },
         "mode": "lines",
         "text": [
          "cluster: 106, component: QE_2017_001816_177.05449_217.0",
          "cluster: 106, component: QE_2017_001816_177.05449_217.0",
          null,
          null
         ],
         "type": "scatter",
         "uid": "4ef7e37e-b13f-47e1-b891-48ff1b177d10",
         "x": [
          1835,
          1835,
          1850,
          1850
         ],
         "xaxis": "x",
         "y": [
          0,
          0.391304347826087,
          0.391304347826087,
          0.35
         ],
         "yaxis": "y"
        },
        {
         "hoverinfo": "text",
         "marker": {
          "color": "rgb(40,35,35)"
         },
         "mode": "lines",
         "text": [
          "cluster: 107, component: QE_2017_001816_199.98769_294.0",
          "cluster: 107, component: QE_2017_001816_199.98769_294.0",
          "cluster: 107, component: QE_2017_001816_199.98776_304.0",
          "cluster: 107, component: QE_2017_001816_199.98776_304.0"
         ],
         "type": "scatter",
         "uid": "1e3a717b-d049-4e61-b70c-d455a4ad33d7",
         "x": [
          1865,
          1865,
          1875,
          1875
         ],
         "xaxis": "x",
         "y": [
          0,
          0.34146341463414637,
          0.34146341463414637,
          0
         ],
         "yaxis": "y"
        },
        {
         "hoverinfo": "text",
         "marker": {
          "color": "rgb(40,35,35)"
         },
         "mode": "lines",
         "text": [
          "cluster: 107, component: QE_2017_001814_199.98778_290.0",
          "cluster: 107, component: QE_2017_001814_199.98778_290.0",
          "cluster: 107, component: QE_2017_001815_199.98779_30.0",
          "cluster: 107, component: QE_2017_001815_199.98779_30.0"
         ],
         "type": "scatter",
         "uid": "633ef141-a5d5-450d-a6b2-f6be9e6bc68c",
         "x": [
          1885,
          1885,
          1895,
          1895
         ],
         "xaxis": "x",
         "y": [
          0,
          0.3,
          0.3,
          0
         ],
         "yaxis": "y"
        },
        {
         "hoverinfo": "text",
         "marker": {
          "color": "rgb(40,35,35)"
         },
         "mode": "lines",
         "text": [
          "cluster: 107, component: QE_2017_001815_199.98772_326.0",
          "cluster: 107, component: QE_2017_001815_199.98772_326.0",
          "cluster: 107, component: QE_2017_001816_199.98781_313.0",
          "cluster: 107, component: QE_2017_001816_199.98781_313.0"
         ],
         "type": "scatter",
         "uid": "e720be4e-855a-44c6-9a0d-a6baf2f79b74",
         "x": [
          1905,
          1905,
          1915,
          1915
         ],
         "xaxis": "x",
         "y": [
          0,
          0.18181818181818182,
          0.18181818181818182,
          0
         ],
         "yaxis": "y"
        },
        {
         "hoverinfo": "text",
         "marker": {
          "color": "rgb(40,35,35)"
         },
         "mode": "lines",
         "text": [
          "cluster: 107, component: QE_2017_001816_199.98776_254.0",
          "cluster: 107, component: QE_2017_001816_199.98776_254.0",
          "cluster: 107, component: QE_2017_001816_199.98779_335.0",
          "cluster: 107, component: QE_2017_001816_199.98779_335.0"
         ],
         "type": "scatter",
         "uid": "cf29a807-5c35-4ab8-9dc2-fffd52499878",
         "x": [
          1935,
          1935,
          1945,
          1945
         ],
         "xaxis": "x",
         "y": [
          0,
          0.25,
          0.25,
          0
         ],
         "yaxis": "y"
        },
        {
         "hoverinfo": "text",
         "marker": {
          "color": "rgb(40,35,35)"
         },
         "mode": "lines",
         "text": [
          "cluster: 107, component: QE_2017_001816_199.98772_359.0",
          "cluster: 107, component: QE_2017_001816_199.98772_359.0",
          null,
          null
         ],
         "type": "scatter",
         "uid": "61afc3c8-dd54-4216-b777-1ac1369e3096",
         "x": [
          1925,
          1925,
          1940,
          1940
         ],
         "xaxis": "x",
         "y": [
          0,
          0.3125,
          0.3125,
          0.25
         ],
         "yaxis": "y"
        },
        {
         "hoverinfo": "text",
         "marker": {
          "color": "rgb(40,35,35)"
         },
         "mode": "lines",
         "text": [
          null,
          null,
          null,
          null
         ],
         "type": "scatter",
         "uid": "fd1bc068-abba-43ea-bc8b-75687f1a7218",
         "x": [
          1910,
          1910,
          1932.5,
          1932.5
         ],
         "xaxis": "x",
         "y": [
          0.18181818181818182,
          0.36363636363636365,
          0.36363636363636365,
          0.3125
         ],
         "yaxis": "y"
        },
        {
         "hoverinfo": "text",
         "marker": {
          "color": "rgb(40,35,35)"
         },
         "mode": "lines",
         "text": [
          null,
          null,
          null,
          null
         ],
         "type": "scatter",
         "uid": "7486c6cb-4155-4773-9bbe-cdd58ffc5386",
         "x": [
          1890,
          1890,
          1921.25,
          1921.25
         ],
         "xaxis": "x",
         "y": [
          0.3,
          0.42424242424242425,
          0.42424242424242425,
          0.36363636363636365
         ],
         "yaxis": "y"
        },
        {
         "hoverinfo": "text",
         "marker": {
          "color": "rgb(40,35,35)"
         },
         "mode": "lines",
         "text": [
          null,
          null,
          null,
          null
         ],
         "type": "scatter",
         "uid": "74f259a2-d531-43ba-af9d-c70384ad0ac7",
         "x": [
          1870,
          1870,
          1905.625,
          1905.625
         ],
         "xaxis": "x",
         "y": [
          0.34146341463414637,
          0.47368421052631576,
          0.47368421052631576,
          0.42424242424242425
         ],
         "yaxis": "y"
        },
        {
         "hoverinfo": "text",
         "marker": {
          "color": "rgb(0,116,217)"
         },
         "mode": "lines",
         "text": [
          null,
          null,
          null,
          null
         ],
         "type": "scatter",
         "uid": "a7a1eb16-01fc-456d-b683-d9d4386dc633",
         "x": [
          1842.5,
          1842.5,
          1887.8125,
          1887.8125
         ],
         "xaxis": "x",
         "y": [
          0.391304347826087,
          0.8214285714285714,
          0.8214285714285714,
          0.47368421052631576
         ],
         "yaxis": "y"
        },
        {
         "hoverinfo": "text",
         "marker": {
          "color": "rgb(0,116,217)"
         },
         "mode": "lines",
         "text": [
          "cluster: 108, component: QE_2017_001815_463.12268_358.0",
          "cluster: 108, component: QE_2017_001815_463.12268_358.0",
          "cluster: 109, component: QE_2017_001815_625.17633_345.0",
          "cluster: 109, component: QE_2017_001815_625.17633_345.0"
         ],
         "type": "scatter",
         "uid": "875b717a-5b42-4783-874d-c0a3d76c1160",
         "x": [
          1975,
          1975,
          1985,
          1985
         ],
         "xaxis": "x",
         "y": [
          0,
          0.6774193548387096,
          0.6774193548387096,
          0
         ],
         "yaxis": "y"
        },
        {
         "hoverinfo": "text",
         "marker": {
          "color": "rgb(0,116,217)"
         },
         "mode": "lines",
         "text": [
          "cluster: 110, component: QE_2017_001815_595.16559_315.0",
          "cluster: 110, component: QE_2017_001815_595.16559_315.0",
          null,
          null
         ],
         "type": "scatter",
         "uid": "419bfa96-9d48-4d63-ab8b-dcec35f41678",
         "x": [
          1965,
          1965,
          1980,
          1980
         ],
         "xaxis": "x",
         "y": [
          0,
          0.8947368421052632,
          0.8947368421052632,
          0.6774193548387096
         ],
         "yaxis": "y"
        },
        {
         "hoverinfo": "text",
         "marker": {
          "color": "rgb(0,116,217)"
         },
         "mode": "lines",
         "text": [
          "cluster: 111, component: QE_2017_001815_141.0508_33.0",
          "cluster: 111, component: QE_2017_001815_141.0508_33.0",
          "cluster: 112, component: QE_2017_001815_265.01532_33.0",
          "cluster: 112, component: QE_2017_001815_265.01532_33.0"
         ],
         "type": "scatter",
         "uid": "a8044a75-d770-4fdd-8c31-9708e992c4b2",
         "x": [
          1995,
          1995,
          2005,
          2005
         ],
         "xaxis": "x",
         "y": [
          0,
          1,
          1,
          0
         ],
         "yaxis": "y"
        },
        {
         "hoverinfo": "text",
         "marker": {
          "color": "rgb(0,116,217)"
         },
         "mode": "lines",
         "text": [
          null,
          null,
          null,
          null
         ],
         "type": "scatter",
         "uid": "966504c9-4761-4558-a632-e4e0a34967d7",
         "x": [
          1972.5,
          1972.5,
          2000,
          2000
         ],
         "xaxis": "x",
         "y": [
          0.8947368421052632,
          1,
          1,
          1
         ],
         "yaxis": "y"
        },
        {
         "hoverinfo": "text",
         "marker": {
          "color": "rgb(0,116,217)"
         },
         "mode": "lines",
         "text": [
          "cluster: 113, component: QE_2017_001815_797.51746_866.0",
          "cluster: 113, component: QE_2017_001815_797.51746_866.0",
          null,
          null
         ],
         "type": "scatter",
         "uid": "0fc34731-3a8a-4742-a929-759b9b3bd0c7",
         "x": [
          1955,
          1955,
          1986.25,
          1986.25
         ],
         "xaxis": "x",
         "y": [
          0,
          1,
          1,
          1
         ],
         "yaxis": "y"
        },
        {
         "hoverinfo": "text",
         "marker": {
          "color": "rgb(0,116,217)"
         },
         "mode": "lines",
         "text": [
          null,
          null,
          null,
          null
         ],
         "type": "scatter",
         "uid": "9d1a245d-a9ca-4315-a26c-38e9f5fce075",
         "x": [
          1865.15625,
          1865.15625,
          1970.625,
          1970.625
         ],
         "xaxis": "x",
         "y": [
          0.8214285714285714,
          1,
          1,
          1
         ],
         "yaxis": "y"
        },
        {
         "hoverinfo": "text",
         "marker": {
          "color": "rgb(0,116,217)"
         },
         "mode": "lines",
         "text": [
          null,
          null,
          null,
          null
         ],
         "type": "scatter",
         "uid": "9ba3e172-fe80-4bf5-b5ec-819a2bb68f79",
         "x": [
          1810,
          1810,
          1917.890625,
          1917.890625
         ],
         "xaxis": "x",
         "y": [
          0.921875,
          1,
          1,
          1
         ],
         "yaxis": "y"
        },
        {
         "hoverinfo": "text",
         "marker": {
          "color": "rgb(0,116,217)"
         },
         "mode": "lines",
         "text": [
          null,
          null,
          null,
          null
         ],
         "type": "scatter",
         "uid": "3a31c81f-d51c-4e6d-81bb-72a56eedf91a",
         "x": [
          1772.5,
          1772.5,
          1863.9453125,
          1863.9453125
         ],
         "xaxis": "x",
         "y": [
          0.875,
          1,
          1,
          1
         ],
         "yaxis": "y"
        },
        {
         "hoverinfo": "text",
         "marker": {
          "color": "rgb(0,116,217)"
         },
         "mode": "lines",
         "text": [
          null,
          null,
          null,
          null
         ],
         "type": "scatter",
         "uid": "12861f75-bda5-4239-b32b-c771e84907aa",
         "x": [
          1740,
          1740,
          1818.22265625,
          1818.22265625
         ],
         "xaxis": "x",
         "y": [
          0.9761904761904762,
          1,
          1,
          1
         ],
         "yaxis": "y"
        },
        {
         "hoverinfo": "text",
         "marker": {
          "color": "rgb(0,116,217)"
         },
         "mode": "lines",
         "text": [
          null,
          null,
          null,
          null
         ],
         "type": "scatter",
         "uid": "513ef3a1-9914-41da-8ab0-ae6ac129cde7",
         "x": [
          1647.65625,
          1647.65625,
          1779.111328125,
          1779.111328125
         ],
         "xaxis": "x",
         "y": [
          0.9846153846153847,
          1,
          1,
          1
         ],
         "yaxis": "y"
        },
        {
         "hoverinfo": "text",
         "marker": {
          "color": "rgb(0,116,217)"
         },
         "mode": "lines",
         "text": [
          null,
          null,
          null,
          null
         ],
         "type": "scatter",
         "uid": "f9e31886-0c43-4bed-a856-0d4a8b956f6d",
         "x": [
          1563.4375,
          1563.4375,
          1713.3837890625,
          1713.3837890625
         ],
         "xaxis": "x",
         "y": [
          0.9534883720930233,
          1,
          1,
          1
         ],
         "yaxis": "y"
        },
        {
         "hoverinfo": "text",
         "marker": {
          "color": "rgb(0,116,217)"
         },
         "mode": "lines",
         "text": [
          null,
          null,
          null,
          null
         ],
         "type": "scatter",
         "uid": "a5952ae5-defa-4a8f-861c-0d8cc0df2c44",
         "x": [
          1467.8125,
          1467.8125,
          1638.41064453125,
          1638.41064453125
         ],
         "xaxis": "x",
         "y": [
          0.9891304347826086,
          1,
          1,
          1
         ],
         "yaxis": "y"
        },
        {
         "hoverinfo": "text",
         "marker": {
          "color": "rgb(0,116,217)"
         },
         "mode": "lines",
         "text": [
          null,
          null,
          null,
          null
         ],
         "type": "scatter",
         "uid": "e51126a8-a429-4443-896b-b69b91ae67b6",
         "x": [
          1410,
          1410,
          1553.111572265625,
          1553.111572265625
         ],
         "xaxis": "x",
         "y": [
          0.75,
          1,
          1,
          1
         ],
         "yaxis": "y"
        },
        {
         "hoverinfo": "text",
         "marker": {
          "color": "rgb(0,116,217)"
         },
         "mode": "lines",
         "text": [
          null,
          null,
          null,
          null
         ],
         "type": "scatter",
         "uid": "a245ce22-fa1d-4c2e-8240-6e060837534a",
         "x": [
          1336.71875,
          1336.71875,
          1481.5557861328125,
          1481.5557861328125
         ],
         "xaxis": "x",
         "y": [
          0.9772727272727273,
          1,
          1,
          1
         ],
         "yaxis": "y"
        },
        {
         "hoverinfo": "text",
         "marker": {
          "color": "rgb(0,116,217)"
         },
         "mode": "lines",
         "text": [
          null,
          null,
          null,
          null
         ],
         "type": "scatter",
         "uid": "82c54120-6c9c-4d05-86db-1c597c2b2717",
         "x": [
          1270,
          1270,
          1409.1372680664062,
          1409.1372680664062
         ],
         "xaxis": "x",
         "y": [
          0.8461538461538461,
          1,
          1,
          1
         ],
         "yaxis": "y"
        },
        {
         "hoverinfo": "text",
         "marker": {
          "color": "rgb(0,116,217)"
         },
         "mode": "lines",
         "text": [
          null,
          null,
          null,
          null
         ],
         "type": "scatter",
         "uid": "0a3a8aec-8acc-48bc-a825-92f8d1cc181c",
         "x": [
          1020.869140625,
          1020.869140625,
          1339.5686340332031,
          1339.5686340332031
         ],
         "xaxis": "x",
         "y": [
          0.9882352941176471,
          1,
          1,
          1
         ],
         "yaxis": "y"
        },
        {
         "hoverinfo": "text",
         "marker": {
          "color": "rgb(0,116,217)"
         },
         "mode": "lines",
         "text": [
          null,
          null,
          null,
          null
         ],
         "type": "scatter",
         "uid": "795aa515-b019-4287-ad73-e1da31b0856d",
         "x": [
          734.912109375,
          734.912109375,
          1180.2188873291016,
          1180.2188873291016
         ],
         "xaxis": "x",
         "y": [
          0.9696969696969697,
          1,
          1,
          1
         ],
         "yaxis": "y"
        },
        {
         "hoverinfo": "text",
         "marker": {
          "color": "rgb(0,116,217)"
         },
         "mode": "lines",
         "text": [
          null,
          null,
          null,
          null
         ],
         "type": "scatter",
         "uid": "82cbd365-5549-40c0-82c6-b0cd1c3f3a84",
         "x": [
          619.6875,
          619.6875,
          957.5654983520508,
          957.5654983520508
         ],
         "xaxis": "x",
         "y": [
          0.9814814814814815,
          1,
          1,
          1
         ],
         "yaxis": "y"
        },
        {
         "hoverinfo": "text",
         "marker": {
          "color": "rgb(0,116,217)"
         },
         "mode": "lines",
         "text": [
          null,
          null,
          null,
          null
         ],
         "type": "scatter",
         "uid": "87aae4c7-e27c-4128-a0dd-1d89c19c8281",
         "x": [
          521.875,
          521.875,
          788.6264991760254,
          788.6264991760254
         ],
         "xaxis": "x",
         "y": [
          0.9857142857142858,
          1,
          1,
          1
         ],
         "yaxis": "y"
        },
        {
         "hoverinfo": "text",
         "marker": {
          "color": "rgb(0,116,217)"
         },
         "mode": "lines",
         "text": [
          null,
          null,
          null,
          null
         ],
         "type": "scatter",
         "uid": "08b7ae77-18e6-40ee-8eef-110d9b1f2d6d",
         "x": [
          221.85302734375,
          221.85302734375,
          655.2507495880127,
          655.2507495880127
         ],
         "xaxis": "x",
         "y": [
          0.9625,
          1,
          1,
          1
         ],
         "yaxis": "y"
        }
       ],
       "layout": {
        "autosize": false,
        "height": 700,
        "hovermode": "closest",
        "margin": {
         "b": 372
        },
        "showlegend": false,
        "title": {
         "text": "Component clusters. method = jaccard, cutoff = 0.6, threshold = 0.0008"
        },
        "width": 800,
        "xaxis": {
         "mirror": "allticks",
         "rangemode": "tozero",
         "showgrid": false,
         "showline": true,
         "showticklabels": true,
         "tickmode": "array",
         "ticks": "outside",
         "ticktext": [
          "QE_2017_001816_613.4826_738.0",
          "QE_2017_001816_613.48218_838.0",
          "QE_2017_001816_792.56232_718.0",
          "QE_2017_001814_596.30963_602.0",
          "QE_2017_001815_792.5625_866.0",
          "QE_2017_001815_571.4292_870.0",
          "QE_2017_001814_497.31033_643.0",
          "QE_2017_001815_507.27145_607.0",
          "QE_2017_001816_571.47186_717.0",
          "QE_2017_001814_335.25772_725.0",
          "QE_2017_001814_335.25784_608.0",
          "QE_2017_001816_335.25772_723.0",
          "QE_2017_001814_335.25784_628.0",
          "QE_2017_001815_335.25745_642.0",
          "QE_2017_001814_261.22073_634.0",
          "QE_2017_001815_335.25784_587.0",
          "QE_2017_001814_353.26889_609.0",
          "QE_2017_001815_353.26862_642.0",
          "QE_2017_001815_261.22073_643.0",
          "QE_2017_001814_335.25772_638.0",
          "QE_2017_001815_335.2579_601.0",
          "QE_2017_001816_272.25824_582.0",
          "QE_2017_001814_338.34146_850.0",
          "QE_2017_001815_244.19048_762.0",
          "QE_2017_001814_353.26868_633.0",
          "QE_2017_001816_353.26892_600.0",
          "QE_2017_001814_279.23157_719.0",
          "QE_2017_001815_278.24762_684.0",
          "QE_2017_001816_435.25037_666.0",
          "QE_2017_001816_337.27338_826.0",
          "QE_2017_001816_337.27341_632.0",
          "QE_2017_001814_618.42633_695.0",
          "QE_2017_001816_583.41382_731.0",
          "QE_2017_001816_599.40948_660.0",
          "QE_2017_001814_601.42426_706.0",
          "QE_2017_001816_599.40869_793.0",
          "QE_2017_001815_618.42773_646.0",
          "QE_2017_001816_618.427_682.0",
          "QE_2017_001815_568.42627_841.0",
          "QE_2017_001814_565.4035_722.0",
          "QE_2017_001814_583.41406_682.0",
          "QE_2017_001815_583.41406_707.0",
          "QE_2017_001814_601.42334_783.0",
          "QE_2017_001815_583.41388_735.0",
          "QE_2017_001815_583.41418_647.0",
          "QE_2017_001814_194.04424_237.0",
          "QE_2017_001815_194.11751_218.0",
          "QE_2017_001815_194.04469_299.0",
          "QE_2017_001815_194.04471_314.0",
          "QE_2017_001815_212.05513_328.0",
          "QE_2017_001815_212.05505_267.0",
          "QE_2017_001814_226.07077_397.0",
          "QE_2017_001815_194.04471_397.0",
          "QE_2017_001816_533.15442_247.0",
          "QE_2017_001816_533.15466_222.0",
          "QE_2017_001815_533.1546_207.0",
          "QE_2017_001816_533.1546_271.0",
          "QE_2017_001814_347.09097_122.0",
          "QE_2017_001815_347.09067_204.0",
          "QE_2017_001815_268.10373_58.0",
          "QE_2017_001816_269.16055_60.0",
          "QE_2017_001815_364.34189_705.0",
          "QE_2017_001816_408.36832_704.0",
          "QE_2017_001816_466.40979_731.0",
          "QE_2017_001815_408.36853_717.0",
          "QE_2017_001815_482.40488_739.0",
          "QE_2017_001814_364.34244_761.0",
          "QE_2017_001815_364.34253_752.0",
          "QE_2017_001816_421.35226_731.0",
          "QE_2017_001816_424.36325_712.0",
          "QE_2017_001816_463.12311_410.0",
          "QE_2017_001814_611.15997_285.0",
          "QE_2017_001815_611.16046_309.0",
          "QE_2017_001814_339.10742_366.0",
          "QE_2017_001816_339.10733_298.0",
          "QE_2017_001814_498.2543_475.0",
          "QE_2017_001815_340.16019_314.0",
          "QE_2017_001815_231.04973_403.0",
          "QE_2017_001815_231.04968_315.0",
          "QE_2017_001814_231.04971_516.0",
          "QE_2017_001815_231.04971_369.0",
          "QE_2017_001815_314.14453_76.0",
          "QE_2017_001816_314.14462_79.0",
          "QE_2017_001816_310.14957_134.0",
          "QE_2017_001816_342.17584_257.0",
          "QE_2017_001814_241.15466_73.0",
          "QE_2017_001815_507.18192_178.0",
          "QE_2017_001814_483.27118_651.0",
          "QE_2017_001816_338.26062_643.0",
          "QE_2017_001814_320.29456_577.0",
          "QE_2017_001815_320.29471_563.0",
          "QE_2017_001815_129.12741_349.0",
          "QE_2017_001815_171.14914_420.0",
          "QE_2017_001815_201.16367_442.0",
          "QE_2017_001816_201.16362_435.0",
          "QE_2017_001815_209.15352_479.0",
          "QE_2017_001815_209.15349_295.0",
          "QE_2017_001815_209.1535_312.0",
          "QE_2017_001816_209.15344_311.0",
          "QE_2017_001814_243.15892_533.0",
          "QE_2017_001814_281.1745_492.0",
          "QE_2017_001814_293.2106_579.0",
          "QE_2017_001815_227.16408_344.0",
          "QE_2017_001815_283.19009_564.0",
          "QE_2017_001815_207.13785_297.0",
          "QE_2017_001814_227.1275_293.0",
          "QE_2017_001816_227.12766_295.0",
          "QE_2017_001815_181.1221_767.0",
          "QE_2017_001816_181.12199_794.0",
          "QE_2017_001816_211.16916_405.0",
          "QE_2017_001815_209.0807_405.0",
          "QE_2017_001814_211.16902_440.0",
          "QE_2017_001815_211.16913_450.0",
          "QE_2017_001815_215.164_550.0",
          "QE_2017_001816_215.16411_482.0",
          "QE_2017_001816_137.09584_445.0",
          "QE_2017_001814_219.17416_517.0",
          "QE_2017_001815_219.17421_516.0",
          "QE_2017_001816_219.17438_502.0",
          "QE_2017_001814_219.17401_452.0",
          "QE_2017_001814_219.17409_442.0",
          "QE_2017_001814_191.14291_389.0",
          "QE_2017_001815_191.14287_312.0",
          "QE_2017_001816_191.14291_404.0",
          "QE_2017_001814_209.08058_363.0",
          "QE_2017_001816_207.13779_561.0",
          "QE_2017_001815_333.15173_245.0",
          "QE_2017_001816_333.15204_235.0",
          "QE_2017_001814_194.1174_244.0",
          "QE_2017_001816_194.11746_133.0",
          "QE_2017_001816_320.29483_548.0",
          "QE_2017_001814_320.29468_638.0",
          "QE_2017_001814_320.29477_539.0",
          "QE_2017_001814_320.29471_529.0",
          "QE_2017_001815_320.29486_538.0",
          "QE_2017_001814_241.15384_47.0",
          "QE_2017_001814_241.15446_57.0",
          "QE_2017_001814_332.25827_467.0",
          "QE_2017_001815_332.25827_508.0",
          "QE_2017_001816_332.25842_487.0",
          "QE_2017_001814_319.13638_117.0",
          "QE_2017_001816_319.13614_143.0",
          "QE_2017_001814_251.09117_393.0",
          "QE_2017_001815_219.10159_438.0",
          "QE_2017_001815_219.10139_360.0",
          "QE_2017_001816_219.10153_382.0",
          "QE_2017_001814_291.1442_241.0",
          "QE_2017_001816_291.14493_243.0",
          "QE_2017_001816_291.14499_200.0",
          "QE_2017_001815_273.13425_199.0",
          "QE_2017_001815_273.13434_243.0",
          "QE_2017_001815_251.13873_202.0",
          "QE_2017_001815_235.14398_226.0",
          "QE_2017_001816_235.14397_183.0",
          "QE_2017_001815_214.51021_60.0",
          "QE_2017_001816_268.59351_445.0",
          "QE_2017_001814_250.10149_516.0",
          "QE_2017_001815_222.07033_315.0",
          "QE_2017_001814_247.05975_245.0",
          "QE_2017_001815_247.0598_242.0",
          "QE_2017_001816_219.04672_291.0",
          "QE_2017_001815_212.03883_181.0",
          "QE_2017_001815_214.56488_409.0",
          "QE_2017_001815_260.16016_64.0",
          "QE_2017_001816_132.04436_283.0",
          "QE_2017_001815_246.14465_137.0",
          "QE_2017_001815_247.12865_158.0",
          "QE_2017_001814_260.16037_143.0",
          "QE_2017_001816_260.16022_145.0",
          "QE_2017_001814_233.14957_152.0",
          "QE_2017_001814_233.14948_126.0",
          "QE_2017_001816_233.14955_129.0",
          "QE_2017_001815_221.12837_99.0",
          "QE_2017_001816_237.12325_171.0",
          "QE_2017_001814_237.12305_220.0",
          "QE_2017_001816_237.12323_53.0",
          "QE_2017_001816_229.15469_52.0",
          "QE_2017_001814_229.15399_46.0",
          "QE_2017_001816_229.15451_66.0",
          "QE_2017_001814_182.08116_51.0",
          "QE_2017_001816_182.08116_55.0",
          "QE_2017_001815_194.04474_330.0",
          "QE_2017_001816_212.05518_300.0",
          "QE_2017_001816_177.05449_217.0",
          "QE_2017_001814_177.05418_236.0",
          "QE_2017_001815_177.05444_307.0",
          "QE_2017_001816_199.98769_294.0",
          "QE_2017_001816_199.98776_304.0",
          "QE_2017_001814_199.98778_290.0",
          "QE_2017_001815_199.98779_30.0",
          "QE_2017_001815_199.98772_326.0",
          "QE_2017_001816_199.98781_313.0",
          "QE_2017_001816_199.98772_359.0",
          "QE_2017_001816_199.98776_254.0",
          "QE_2017_001816_199.98779_335.0",
          "QE_2017_001815_797.51746_866.0",
          "QE_2017_001815_595.16559_315.0",
          "QE_2017_001815_463.12268_358.0",
          "QE_2017_001815_625.17633_345.0",
          "QE_2017_001815_141.0508_33.0",
          "QE_2017_001815_265.01532_33.0"
         ],
         "tickvals": [
          5,
          15,
          25,
          35,
          45,
          55,
          65,
          75,
          85,
          95,
          105,
          115,
          125,
          135,
          145,
          155,
          165,
          175,
          185,
          195,
          205,
          215,
          225,
          235,
          245,
          255,
          265,
          275,
          285,
          295,
          305,
          315,
          325,
          335,
          345,
          355,
          365,
          375,
          385,
          395,
          405,
          415,
          425,
          435,
          445,
          455,
          465,
          475,
          485,
          495,
          505,
          515,
          525,
          535,
          545,
          555,
          565,
          575,
          585,
          595,
          605,
          615,
          625,
          635,
          645,
          655,
          665,
          675,
          685,
          695,
          705,
          715,
          725,
          735,
          745,
          755,
          765,
          775,
          785,
          795,
          805,
          815,
          825,
          835,
          845,
          855,
          865,
          875,
          885,
          895,
          905,
          915,
          925,
          935,
          945,
          955,
          965,
          975,
          985,
          995,
          1005,
          1015,
          1025,
          1035,
          1045,
          1055,
          1065,
          1075,
          1085,
          1095,
          1105,
          1115,
          1125,
          1135,
          1145,
          1155,
          1165,
          1175,
          1185,
          1195,
          1205,
          1215,
          1225,
          1235,
          1245,
          1255,
          1265,
          1275,
          1285,
          1295,
          1305,
          1315,
          1325,
          1335,
          1345,
          1355,
          1365,
          1375,
          1385,
          1395,
          1405,
          1415,
          1425,
          1435,
          1445,
          1455,
          1465,
          1475,
          1485,
          1495,
          1505,
          1515,
          1525,
          1535,
          1545,
          1555,
          1565,
          1575,
          1585,
          1595,
          1605,
          1615,
          1625,
          1635,
          1645,
          1655,
          1665,
          1675,
          1685,
          1695,
          1705,
          1715,
          1725,
          1735,
          1745,
          1755,
          1765,
          1775,
          1785,
          1795,
          1805,
          1815,
          1825,
          1835,
          1845,
          1855,
          1865,
          1875,
          1885,
          1895,
          1905,
          1915,
          1925,
          1935,
          1945,
          1955,
          1965,
          1975,
          1985,
          1995,
          2005
         ],
         "title": {
          "text": "Components"
         },
         "type": "linear",
         "zeroline": false
        },
        "yaxis": {
         "mirror": "allticks",
         "rangemode": "tozero",
         "showgrid": false,
         "showline": true,
         "showticklabels": true,
         "ticks": "outside",
         "title": {
          "text": "Distance"
         },
         "type": "linear",
         "zeroline": false
        }
       }
      },
      "text/html": [
       "<div>\n",
       "        \n",
       "        \n",
       "            <div id=\"7e7469bf-45cb-43e4-a269-000a03c27285\" class=\"plotly-graph-div\"></div>\n",
       "            <script type=\"text/javascript\">\n",
       "                require([\"plotly\"], function(Plotly) {\n",
       "                    window.PLOTLYENV=window.PLOTLYENV || {};\n",
       "                    window.PLOTLYENV.BASE_URL='https://plot.ly';\n",
       "                    \n",
       "                if (document.getElementById(\"7e7469bf-45cb-43e4-a269-000a03c27285\")) {\n",
       "                    Plotly.newPlot(\n",
       "                        '7e7469bf-45cb-43e4-a269-000a03c27285',\n",
       "                        [{\"hoverinfo\": \"text\", \"marker\": {\"color\": \"rgb(61,153,112)\"}, \"mode\": \"lines\", \"text\": [\"cluster: 1, component: QE_2017_001816_613.48218_838.0\", \"cluster: 1, component: QE_2017_001816_613.48218_838.0\", \"cluster: 1, component: QE_2017_001816_792.56232_718.0\", \"cluster: 1, component: QE_2017_001816_792.56232_718.0\"], \"type\": \"scatter\", \"uid\": \"cc305d33-4f2b-4ce5-bf16-55719365d1d8\", \"x\": [15.0, 15.0, 25.0, 25.0], \"xaxis\": \"x\", \"y\": [0.0, 0.5662650602409639, 0.5662650602409639, 0.0], \"yaxis\": \"y\"}, {\"hoverinfo\": \"text\", \"marker\": {\"color\": \"rgb(0,116,217)\"}, \"mode\": \"lines\", \"text\": [\"cluster: 2, component: QE_2017_001816_613.4826_738.0\", \"cluster: 2, component: QE_2017_001816_613.4826_738.0\", null, null], \"type\": \"scatter\", \"uid\": \"90394701-f390-4601-ad00-7d5d7cbe63ec\", \"x\": [5.0, 5.0, 20.0, 20.0], \"xaxis\": \"x\", \"y\": [0.0, 0.676923076923077, 0.676923076923077, 0.5662650602409639], \"yaxis\": \"y\"}, {\"hoverinfo\": \"text\", \"marker\": {\"color\": \"rgb(0,116,217)\"}, \"mode\": \"lines\", \"text\": [\"cluster: 3, component: QE_2017_001814_596.30963_602.0\", \"cluster: 3, component: QE_2017_001814_596.30963_602.0\", \"cluster: 4, component: QE_2017_001815_792.5625_866.0\", \"cluster: 4, component: QE_2017_001815_792.5625_866.0\"], \"type\": \"scatter\", \"uid\": \"81ee7118-0c07-432d-a6ed-36b2fb35c1f8\", \"x\": [35.0, 35.0, 45.0, 45.0], \"xaxis\": \"x\", \"y\": [0.0, 0.7142857142857143, 0.7142857142857143, 0.0], \"yaxis\": \"y\"}, {\"hoverinfo\": \"text\", \"marker\": {\"color\": \"rgb(0,116,217)\"}, \"mode\": \"lines\", \"text\": [null, null, null, null], \"type\": \"scatter\", \"uid\": \"5e45b4fd-6a63-4dc4-aa7b-3aee790b8443\", \"x\": [12.5, 12.5, 40.0, 40.0], \"xaxis\": \"x\", \"y\": [0.676923076923077, 0.7763157894736842, 0.7763157894736842, 0.7142857142857143], \"yaxis\": \"y\"}, {\"hoverinfo\": \"text\", \"marker\": {\"color\": \"rgb(255,65,54)\"}, \"mode\": \"lines\", \"text\": [\"cluster: 5, component: QE_2017_001814_335.25784_608.0\", \"cluster: 5, component: QE_2017_001814_335.25784_608.0\", \"cluster: 5, component: QE_2017_001816_335.25772_723.0\", \"cluster: 5, component: QE_2017_001816_335.25772_723.0\"], \"type\": \"scatter\", \"uid\": \"7d6a06f8-46d4-4597-af82-521b3457a5a8\", \"x\": [105.0, 105.0, 115.0, 115.0], \"xaxis\": \"x\", \"y\": [0.0, 0.26, 0.26, 0.0], \"yaxis\": \"y\"}, {\"hoverinfo\": \"text\", \"marker\": {\"color\": \"rgb(255,65,54)\"}, \"mode\": \"lines\", \"text\": [\"cluster: 5, component: QE_2017_001814_335.25772_725.0\", \"cluster: 5, component: QE_2017_001814_335.25772_725.0\", null, null], \"type\": \"scatter\", \"uid\": \"0776f6c6-5218-49d5-89f7-b3781d6ffbb2\", \"x\": [95.0, 95.0, 110.0, 110.0], \"xaxis\": \"x\", \"y\": [0.0, 0.2830188679245283, 0.2830188679245283, 0.26], \"yaxis\": \"y\"}, {\"hoverinfo\": \"text\", \"marker\": {\"color\": \"rgb(255,65,54)\"}, \"mode\": \"lines\", \"text\": [\"cluster: 5, component: QE_2017_001814_335.25784_628.0\", \"cluster: 5, component: QE_2017_001814_335.25784_628.0\", \"cluster: 5, component: QE_2017_001815_335.25745_642.0\", \"cluster: 5, component: QE_2017_001815_335.25745_642.0\"], \"type\": \"scatter\", \"uid\": \"abb463b2-8f5a-449f-962d-10da48f8a961\", \"x\": [125.0, 125.0, 135.0, 135.0], \"xaxis\": \"x\", \"y\": [0.0, 0.2857142857142857, 0.2857142857142857, 0.0], \"yaxis\": \"y\"}, {\"hoverinfo\": \"text\", \"marker\": {\"color\": \"rgb(255,65,54)\"}, \"mode\": \"lines\", \"text\": [null, null, null, null], \"type\": \"scatter\", \"uid\": \"19a9b309-dc7f-4a61-8839-b7ef8c97cf9e\", \"x\": [102.5, 102.5, 130.0, 130.0], \"xaxis\": \"x\", \"y\": [0.2830188679245283, 0.3389830508474576, 0.3389830508474576, 0.2857142857142857], \"yaxis\": \"y\"}, {\"hoverinfo\": \"text\", \"marker\": {\"color\": \"rgb(255,65,54)\"}, \"mode\": \"lines\", \"text\": [\"cluster: 5, component: QE_2017_001814_261.22073_634.0\", \"cluster: 5, component: QE_2017_001814_261.22073_634.0\", \"cluster: 5, component: QE_2017_001815_335.25784_587.0\", \"cluster: 5, component: QE_2017_001815_335.25784_587.0\"], \"type\": \"scatter\", \"uid\": \"d0e06cf9-2130-48ca-91f6-716030fbabba\", \"x\": [145.0, 145.0, 155.0, 155.0], \"xaxis\": \"x\", \"y\": [0.0, 0.375, 0.375, 0.0], \"yaxis\": \"y\"}, {\"hoverinfo\": \"text\", \"marker\": {\"color\": \"rgb(255,65,54)\"}, \"mode\": \"lines\", \"text\": [null, null, null, null], \"type\": \"scatter\", \"uid\": \"9979cb47-22d3-4b30-8d5a-2b136af9f695\", \"x\": [116.25, 116.25, 150.0, 150.0], \"xaxis\": \"x\", \"y\": [0.3389830508474576, 0.4117647058823529, 0.4117647058823529, 0.375], \"yaxis\": \"y\"}, {\"hoverinfo\": \"text\", \"marker\": {\"color\": \"rgb(255,65,54)\"}, \"mode\": \"lines\", \"text\": [\"cluster: 5, component: QE_2017_001814_353.26889_609.0\", \"cluster: 5, component: QE_2017_001814_353.26889_609.0\", \"cluster: 5, component: QE_2017_001815_353.26862_642.0\", \"cluster: 5, component: QE_2017_001815_353.26862_642.0\"], \"type\": \"scatter\", \"uid\": \"6456b16f-dd4e-466f-b7d0-f85a897c7cb8\", \"x\": [165.0, 165.0, 175.0, 175.0], \"xaxis\": \"x\", \"y\": [0.0, 0.27419354838709675, 0.27419354838709675, 0.0], \"yaxis\": \"y\"}, {\"hoverinfo\": \"text\", \"marker\": {\"color\": \"rgb(255,65,54)\"}, \"mode\": \"lines\", \"text\": [\"cluster: 5, component: QE_2017_001814_335.25772_638.0\", \"cluster: 5, component: QE_2017_001814_335.25772_638.0\", \"cluster: 5, component: QE_2017_001815_335.2579_601.0\", \"cluster: 5, component: QE_2017_001815_335.2579_601.0\"], \"type\": \"scatter\", \"uid\": \"b08da2b7-09fb-4d34-bc56-7a1db611f768\", \"x\": [195.0, 195.0, 205.0, 205.0], \"xaxis\": \"x\", \"y\": [0.0, 0.29411764705882354, 0.29411764705882354, 0.0], \"yaxis\": \"y\"}, {\"hoverinfo\": \"text\", \"marker\": {\"color\": \"rgb(255,65,54)\"}, \"mode\": \"lines\", \"text\": [\"cluster: 5, component: QE_2017_001815_261.22073_643.0\", \"cluster: 5, component: QE_2017_001815_261.22073_643.0\", null, null], \"type\": \"scatter\", \"uid\": \"1218810c-b1dd-4c87-9f43-afac0c5b3d02\", \"x\": [185.0, 185.0, 200.0, 200.0], \"xaxis\": \"x\", \"y\": [0.0, 0.38461538461538464, 0.38461538461538464, 0.29411764705882354], \"yaxis\": \"y\"}, {\"hoverinfo\": \"text\", \"marker\": {\"color\": \"rgb(255,65,54)\"}, \"mode\": \"lines\", \"text\": [null, null, null, null], \"type\": \"scatter\", \"uid\": \"c4320c5f-8fbe-45ac-b746-106f935d21a0\", \"x\": [170.0, 170.0, 192.5, 192.5], \"xaxis\": \"x\", \"y\": [0.27419354838709675, 0.43333333333333335, 0.43333333333333335, 0.38461538461538464], \"yaxis\": \"y\"}, {\"hoverinfo\": \"text\", \"marker\": {\"color\": \"rgb(255,65,54)\"}, \"mode\": \"lines\", \"text\": [null, null, null, null], \"type\": \"scatter\", \"uid\": \"22d9636b-a1b5-42f3-8c50-1cfd158d487f\", \"x\": [133.125, 133.125, 181.25, 181.25], \"xaxis\": \"x\", \"y\": [0.4117647058823529, 0.46153846153846156, 0.46153846153846156, 0.43333333333333335], \"yaxis\": \"y\"}, {\"hoverinfo\": \"text\", \"marker\": {\"color\": \"rgb(255,65,54)\"}, \"mode\": \"lines\", \"text\": [\"cluster: 5, component: QE_2017_001816_571.47186_717.0\", \"cluster: 5, component: QE_2017_001816_571.47186_717.0\", null, null], \"type\": \"scatter\", \"uid\": \"92ee9b3e-827f-4fc4-9f3a-aef1a20df399\", \"x\": [85.0, 85.0, 157.1875, 157.1875], \"xaxis\": \"x\", \"y\": [0.0, 0.5538461538461539, 0.5538461538461539, 0.46153846153846156], \"yaxis\": \"y\"}, {\"hoverinfo\": \"text\", \"marker\": {\"color\": \"rgb(255,65,54)\"}, \"mode\": \"lines\", \"text\": [\"cluster: 5, component: QE_2017_001815_507.27145_607.0\", \"cluster: 5, component: QE_2017_001815_507.27145_607.0\", null, null], \"type\": \"scatter\", \"uid\": \"8d50e727-4afa-4b10-a43a-61d573a1338e\", \"x\": [75.0, 75.0, 121.09375, 121.09375], \"xaxis\": \"x\", \"y\": [0.0, 0.5737704918032787, 0.5737704918032787, 0.5538461538461539], \"yaxis\": \"y\"}, {\"hoverinfo\": \"text\", \"marker\": {\"color\": \"rgb(0,116,217)\"}, \"mode\": \"lines\", \"text\": [\"cluster: 6, component: QE_2017_001814_497.31033_643.0\", \"cluster: 6, component: QE_2017_001814_497.31033_643.0\", null, null], \"type\": \"scatter\", \"uid\": \"6e73a5e9-286b-49a6-9de8-fc482a729018\", \"x\": [65.0, 65.0, 98.046875, 98.046875], \"xaxis\": \"x\", \"y\": [0.0, 0.6986301369863014, 0.6986301369863014, 0.5737704918032787], \"yaxis\": \"y\"}, {\"hoverinfo\": \"text\", \"marker\": {\"color\": \"rgb(0,116,217)\"}, \"mode\": \"lines\", \"text\": [\"cluster: 7, component: QE_2017_001815_571.4292_870.0\", \"cluster: 7, component: QE_2017_001815_571.4292_870.0\", null, null], \"type\": \"scatter\", \"uid\": \"70f331d8-2b2e-436f-a226-5ef0ac38795a\", \"x\": [55.0, 55.0, 81.5234375, 81.5234375], \"xaxis\": \"x\", \"y\": [0.0, 0.7962962962962963, 0.7962962962962963, 0.6986301369863014], \"yaxis\": \"y\"}, {\"hoverinfo\": \"text\", \"marker\": {\"color\": \"rgb(0,116,217)\"}, \"mode\": \"lines\", \"text\": [\"cluster: 8, component: QE_2017_001814_338.34146_850.0\", \"cluster: 8, component: QE_2017_001814_338.34146_850.0\", \"cluster: 9, component: QE_2017_001815_244.19048_762.0\", \"cluster: 9, component: QE_2017_001815_244.19048_762.0\"], \"type\": \"scatter\", \"uid\": \"c9d30922-9887-4dfb-ac5d-3cec57140d26\", \"x\": [225.0, 225.0, 235.0, 235.0], \"xaxis\": \"x\", \"y\": [0.0, 0.6031746031746031, 0.6031746031746031, 0.0], \"yaxis\": \"y\"}, {\"hoverinfo\": \"text\", \"marker\": {\"color\": \"rgb(35,205,205)\"}, \"mode\": \"lines\", \"text\": [\"cluster: 10, component: QE_2017_001814_353.26868_633.0\", \"cluster: 10, component: QE_2017_001814_353.26868_633.0\", \"cluster: 10, component: QE_2017_001816_353.26892_600.0\", \"cluster: 10, component: QE_2017_001816_353.26892_600.0\"], \"type\": \"scatter\", \"uid\": \"d68035eb-40f4-4593-9e5d-daf86e8f5b46\", \"x\": [245.0, 245.0, 255.0, 255.0], \"xaxis\": \"x\", \"y\": [0.0, 0.2376237623762376, 0.2376237623762376, 0.0], \"yaxis\": \"y\"}, {\"hoverinfo\": \"text\", \"marker\": {\"color\": \"rgb(35,205,205)\"}, \"mode\": \"lines\", \"text\": [\"cluster: 10, component: QE_2017_001814_279.23157_719.0\", \"cluster: 10, component: QE_2017_001814_279.23157_719.0\", \"cluster: 10, component: QE_2017_001815_278.24762_684.0\", \"cluster: 10, component: QE_2017_001815_278.24762_684.0\"], \"type\": \"scatter\", \"uid\": \"0ec0fec0-001f-441f-b3ca-f122a4a2657e\", \"x\": [265.0, 265.0, 275.0, 275.0], \"xaxis\": \"x\", \"y\": [0.0, 0.43209876543209874, 0.43209876543209874, 0.0], \"yaxis\": \"y\"}, {\"hoverinfo\": \"text\", \"marker\": {\"color\": \"rgb(35,205,205)\"}, \"mode\": \"lines\", \"text\": [null, null, null, null], \"type\": \"scatter\", \"uid\": \"53484998-64e5-44b5-a265-fdefa8faf5f7\", \"x\": [250.0, 250.0, 270.0, 270.0], \"xaxis\": \"x\", \"y\": [0.2376237623762376, 0.5229357798165137, 0.5229357798165137, 0.43209876543209874], \"yaxis\": \"y\"}, {\"hoverinfo\": \"text\", \"marker\": {\"color\": \"rgb(133,20,75)\"}, \"mode\": \"lines\", \"text\": [\"cluster: 11, component: QE_2017_001816_337.27338_826.0\", \"cluster: 11, component: QE_2017_001816_337.27338_826.0\", \"cluster: 11, component: QE_2017_001816_337.27341_632.0\", \"cluster: 11, component: QE_2017_001816_337.27341_632.0\"], \"type\": \"scatter\", \"uid\": \"be644c93-1927-4e26-909f-eadb45e9a65d\", \"x\": [295.0, 295.0, 305.0, 305.0], \"xaxis\": \"x\", \"y\": [0.0, 0.373134328358209, 0.373134328358209, 0.0], \"yaxis\": \"y\"}, {\"hoverinfo\": \"text\", \"marker\": {\"color\": \"rgb(133,20,75)\"}, \"mode\": \"lines\", \"text\": [\"cluster: 11, component: QE_2017_001816_435.25037_666.0\", \"cluster: 11, component: QE_2017_001816_435.25037_666.0\", null, null], \"type\": \"scatter\", \"uid\": \"48c352a8-993b-4dca-a438-3b6bf43dd67d\", \"x\": [285.0, 285.0, 300.0, 300.0], \"xaxis\": \"x\", \"y\": [0.0, 0.5416666666666666, 0.5416666666666666, 0.373134328358209], \"yaxis\": \"y\"}, {\"hoverinfo\": \"text\", \"marker\": {\"color\": \"rgb(0,116,217)\"}, \"mode\": \"lines\", \"text\": [null, null, null, null], \"type\": \"scatter\", \"uid\": \"ab52a142-43e4-4677-bd2a-734f9e8b6992\", \"x\": [260.0, 260.0, 292.5, 292.5], \"xaxis\": \"x\", \"y\": [0.5229357798165137, 0.6875, 0.6875, 0.5416666666666666], \"yaxis\": \"y\"}, {\"hoverinfo\": \"text\", \"marker\": {\"color\": \"rgb(0,116,217)\"}, \"mode\": \"lines\", \"text\": [null, null, null, null], \"type\": \"scatter\", \"uid\": \"fb808ee0-d483-43b9-b451-88162ff4c3dc\", \"x\": [230.0, 230.0, 276.25, 276.25], \"xaxis\": \"x\", \"y\": [0.6031746031746031, 0.7590361445783133, 0.7590361445783133, 0.6875], \"yaxis\": \"y\"}, {\"hoverinfo\": \"text\", \"marker\": {\"color\": \"rgb(0,116,217)\"}, \"mode\": \"lines\", \"text\": [\"cluster: 12, component: QE_2017_001816_272.25824_582.0\", \"cluster: 12, component: QE_2017_001816_272.25824_582.0\", null, null], \"type\": \"scatter\", \"uid\": \"6731d9b8-2677-47a6-9baa-58d060e15270\", \"x\": [215.0, 215.0, 253.125, 253.125], \"xaxis\": \"x\", \"y\": [0.0, 0.8243243243243243, 0.8243243243243243, 0.7590361445783133], \"yaxis\": \"y\"}, {\"hoverinfo\": \"text\", \"marker\": {\"color\": \"rgb(0,116,217)\"}, \"mode\": \"lines\", \"text\": [null, null, null, null], \"type\": \"scatter\", \"uid\": \"8bae575d-fd45-4f47-a3a9-a55693931db0\", \"x\": [68.26171875, 68.26171875, 234.0625, 234.0625], \"xaxis\": \"x\", \"y\": [0.7962962962962963, 0.87, 0.87, 0.8243243243243243], \"yaxis\": \"y\"}, {\"hoverinfo\": \"text\", \"marker\": {\"color\": \"rgb(0,116,217)\"}, \"mode\": \"lines\", \"text\": [null, null, null, null], \"type\": \"scatter\", \"uid\": \"7365017d-d636-4455-9ebb-9ee4b95d71cb\", \"x\": [26.25, 26.25, 151.162109375, 151.162109375], \"xaxis\": \"x\", \"y\": [0.7763157894736842, 0.9130434782608695, 0.9130434782608695, 0.87], \"yaxis\": \"y\"}, {\"hoverinfo\": \"text\", \"marker\": {\"color\": \"rgb(0,116,217)\"}, \"mode\": \"lines\", \"text\": [\"cluster: 13, component: QE_2017_001814_601.42426_706.0\", \"cluster: 13, component: QE_2017_001814_601.42426_706.0\", \"cluster: 14, component: QE_2017_001816_599.40869_793.0\", \"cluster: 14, component: QE_2017_001816_599.40869_793.0\"], \"type\": \"scatter\", \"uid\": \"78100125-d197-4042-b267-16dfd688fd64\", \"x\": [345.0, 345.0, 355.0, 355.0], \"xaxis\": \"x\", \"y\": [0.0, 0.63, 0.63, 0.0], \"yaxis\": \"y\"}, {\"hoverinfo\": \"text\", \"marker\": {\"color\": \"rgb(0,116,217)\"}, \"mode\": \"lines\", \"text\": [\"cluster: 15, component: QE_2017_001816_599.40948_660.0\", \"cluster: 15, component: QE_2017_001816_599.40948_660.0\", null, null], \"type\": \"scatter\", \"uid\": \"8637cad1-3cb5-4f24-8eef-a40500388394\", \"x\": [335.0, 335.0, 350.0, 350.0], \"xaxis\": \"x\", \"y\": [0.0, 0.6710526315789473, 0.6710526315789473, 0.63], \"yaxis\": \"y\"}, {\"hoverinfo\": \"text\", \"marker\": {\"color\": \"rgb(0,116,217)\"}, \"mode\": \"lines\", \"text\": [\"cluster: 16, component: QE_2017_001816_583.41382_731.0\", \"cluster: 16, component: QE_2017_001816_583.41382_731.0\", null, null], \"type\": \"scatter\", \"uid\": \"4f17b80f-85fb-4011-bf75-252cfa66c551\", \"x\": [325.0, 325.0, 342.5, 342.5], \"xaxis\": \"x\", \"y\": [0.0, 0.7578947368421053, 0.7578947368421053, 0.6710526315789473], \"yaxis\": \"y\"}, {\"hoverinfo\": \"text\", \"marker\": {\"color\": \"rgb(0,116,217)\"}, \"mode\": \"lines\", \"text\": [\"cluster: 17, component: QE_2017_001814_618.42633_695.0\", \"cluster: 17, component: QE_2017_001814_618.42633_695.0\", null, null], \"type\": \"scatter\", \"uid\": \"a0b05d30-d6c2-4aee-b43e-314f3e0998a4\", \"x\": [315.0, 315.0, 333.75, 333.75], \"xaxis\": \"x\", \"y\": [0.0, 0.8, 0.8, 0.7578947368421053], \"yaxis\": \"y\"}, {\"hoverinfo\": \"text\", \"marker\": {\"color\": \"rgb(255,220,0)\"}, \"mode\": \"lines\", \"text\": [\"cluster: 18, component: QE_2017_001815_618.42773_646.0\", \"cluster: 18, component: QE_2017_001815_618.42773_646.0\", \"cluster: 18, component: QE_2017_001816_618.427_682.0\", \"cluster: 18, component: QE_2017_001816_618.427_682.0\"], \"type\": \"scatter\", \"uid\": \"95c5c262-df6f-49e2-a8d5-7b9075409b40\", \"x\": [365.0, 365.0, 375.0, 375.0], \"xaxis\": \"x\", \"y\": [0.0, 0.4732510288065844, 0.4732510288065844, 0.0], \"yaxis\": \"y\"}, {\"hoverinfo\": \"text\", \"marker\": {\"color\": \"rgb(40,35,35)\"}, \"mode\": \"lines\", \"text\": [\"cluster: 19, component: QE_2017_001814_583.41406_682.0\", \"cluster: 19, component: QE_2017_001814_583.41406_682.0\", \"cluster: 19, component: QE_2017_001815_583.41406_707.0\", \"cluster: 19, component: QE_2017_001815_583.41406_707.0\"], \"type\": \"scatter\", \"uid\": \"6523f658-c189-4008-80c9-d3f74bcf7a75\", \"x\": [405.0, 405.0, 415.0, 415.0], \"xaxis\": \"x\", \"y\": [0.0, 0.5280898876404494, 0.5280898876404494, 0.0], \"yaxis\": \"y\"}, {\"hoverinfo\": \"text\", \"marker\": {\"color\": \"rgb(0,116,217)\"}, \"mode\": \"lines\", \"text\": [\"cluster: 20, component: QE_2017_001814_565.4035_722.0\", \"cluster: 20, component: QE_2017_001814_565.4035_722.0\", null, null], \"type\": \"scatter\", \"uid\": \"c4a03dc7-9902-4f4c-a430-c3c7ee4ad66e\", \"x\": [395.0, 395.0, 410.0, 410.0], \"xaxis\": \"x\", \"y\": [0.0, 0.6049382716049383, 0.6049382716049383, 0.5280898876404494], \"yaxis\": \"y\"}, {\"hoverinfo\": \"text\", \"marker\": {\"color\": \"rgb(61,153,112)\"}, \"mode\": \"lines\", \"text\": [\"cluster: 21, component: QE_2017_001815_583.41388_735.0\", \"cluster: 21, component: QE_2017_001815_583.41388_735.0\", \"cluster: 21, component: QE_2017_001815_583.41418_647.0\", \"cluster: 21, component: QE_2017_001815_583.41418_647.0\"], \"type\": \"scatter\", \"uid\": \"ffadba56-cd8a-468a-b382-fb18af35d2cc\", \"x\": [435.0, 435.0, 445.0, 445.0], \"xaxis\": \"x\", \"y\": [0.0, 0.5285714285714286, 0.5285714285714286, 0.0], \"yaxis\": \"y\"}, {\"hoverinfo\": \"text\", \"marker\": {\"color\": \"rgb(0,116,217)\"}, \"mode\": \"lines\", \"text\": [\"cluster: 22, component: QE_2017_001814_601.42334_783.0\", \"cluster: 22, component: QE_2017_001814_601.42334_783.0\", null, null], \"type\": \"scatter\", \"uid\": \"4928515b-bb89-4b6e-9424-0d18a2a641b5\", \"x\": [425.0, 425.0, 440.0, 440.0], \"xaxis\": \"x\", \"y\": [0.0, 0.6966292134831461, 0.6966292134831461, 0.5285714285714286], \"yaxis\": \"y\"}, {\"hoverinfo\": \"text\", \"marker\": {\"color\": \"rgb(0,116,217)\"}, \"mode\": \"lines\", \"text\": [null, null, null, null], \"type\": \"scatter\", \"uid\": \"e1696001-cfba-433a-9e4a-10c674a3cb2d\", \"x\": [402.5, 402.5, 432.5, 432.5], \"xaxis\": \"x\", \"y\": [0.6049382716049383, 0.734375, 0.734375, 0.6966292134831461], \"yaxis\": \"y\"}, {\"hoverinfo\": \"text\", \"marker\": {\"color\": \"rgb(0,116,217)\"}, \"mode\": \"lines\", \"text\": [\"cluster: 23, component: QE_2017_001815_568.42627_841.0\", \"cluster: 23, component: QE_2017_001815_568.42627_841.0\", null, null], \"type\": \"scatter\", \"uid\": \"ffcfc1a1-ee02-46f7-9e81-3ff4d0ae2535\", \"x\": [385.0, 385.0, 417.5, 417.5], \"xaxis\": \"x\", \"y\": [0.0, 0.7642276422764228, 0.7642276422764228, 0.734375], \"yaxis\": \"y\"}, {\"hoverinfo\": \"text\", \"marker\": {\"color\": \"rgb(0,116,217)\"}, \"mode\": \"lines\", \"text\": [null, null, null, null], \"type\": \"scatter\", \"uid\": \"42dc08d7-eacd-45da-adea-7626e5548785\", \"x\": [370.0, 370.0, 401.25, 401.25], \"xaxis\": \"x\", \"y\": [0.4732510288065844, 0.8205128205128205, 0.8205128205128205, 0.7642276422764228], \"yaxis\": \"y\"}, {\"hoverinfo\": \"text\", \"marker\": {\"color\": \"rgb(0,116,217)\"}, \"mode\": \"lines\", \"text\": [null, null, null, null], \"type\": \"scatter\", \"uid\": \"39238b5a-34ed-4705-85a1-3a1e56530b51\", \"x\": [324.375, 324.375, 385.625, 385.625], \"xaxis\": \"x\", \"y\": [0.8, 0.94, 0.94, 0.8205128205128205], \"yaxis\": \"y\"}, {\"hoverinfo\": \"text\", \"marker\": {\"color\": \"rgb(0,116,217)\"}, \"mode\": \"lines\", \"text\": [null, null, null, null], \"type\": \"scatter\", \"uid\": \"74aa5c8b-af8c-47fb-8e5c-e3b862590a0e\", \"x\": [88.7060546875, 88.7060546875, 355.0, 355.0], \"xaxis\": \"x\", \"y\": [0.9130434782608695, 0.9625, 0.9625, 0.94], \"yaxis\": \"y\"}, {\"hoverinfo\": \"text\", \"marker\": {\"color\": \"rgb(0,116,217)\"}, \"mode\": \"lines\", \"text\": [\"cluster: 24, component: QE_2017_001814_194.04424_237.0\", \"cluster: 24, component: QE_2017_001814_194.04424_237.0\", \"cluster: 25, component: QE_2017_001815_194.11751_218.0\", \"cluster: 25, component: QE_2017_001815_194.11751_218.0\"], \"type\": \"scatter\", \"uid\": \"303ff32a-4649-4d05-9641-1c57c77953a4\", \"x\": [455.0, 455.0, 465.0, 465.0], \"xaxis\": \"x\", \"y\": [0.0, 0.6206896551724138, 0.6206896551724138, 0.0], \"yaxis\": \"y\"}, {\"hoverinfo\": \"text\", \"marker\": {\"color\": \"rgb(255,65,54)\"}, \"mode\": \"lines\", \"text\": [\"cluster: 26, component: QE_2017_001815_194.04471_314.0\", \"cluster: 26, component: QE_2017_001815_194.04471_314.0\", \"cluster: 26, component: QE_2017_001815_212.05513_328.0\", \"cluster: 26, component: QE_2017_001815_212.05513_328.0\"], \"type\": \"scatter\", \"uid\": \"9eaf03fc-7a7e-489a-9956-c820fc80ed16\", \"x\": [485.0, 485.0, 495.0, 495.0], \"xaxis\": \"x\", \"y\": [0.0, 0.35135135135135137, 0.35135135135135137, 0.0], \"yaxis\": \"y\"}, {\"hoverinfo\": \"text\", \"marker\": {\"color\": \"rgb(255,65,54)\"}, \"mode\": \"lines\", \"text\": [\"cluster: 26, component: QE_2017_001815_194.04469_299.0\", \"cluster: 26, component: QE_2017_001815_194.04469_299.0\", null, null], \"type\": \"scatter\", \"uid\": \"b4be4f0c-ea24-4d7d-a0fb-8ecac923d502\", \"x\": [475.0, 475.0, 490.0, 490.0], \"xaxis\": \"x\", \"y\": [0.0, 0.5573770491803278, 0.5573770491803278, 0.35135135135135137], \"yaxis\": \"y\"}, {\"hoverinfo\": \"text\", \"marker\": {\"color\": \"rgb(0,116,217)\"}, \"mode\": \"lines\", \"text\": [\"cluster: 27, component: QE_2017_001814_226.07077_397.0\", \"cluster: 27, component: QE_2017_001814_226.07077_397.0\", \"cluster: 28, component: QE_2017_001815_194.04471_397.0\", \"cluster: 28, component: QE_2017_001815_194.04471_397.0\"], \"type\": \"scatter\", \"uid\": \"835d0573-9948-41d4-9590-0cf7fdf54b5f\", \"x\": [515.0, 515.0, 525.0, 525.0], \"xaxis\": \"x\", \"y\": [0.0, 0.6285714285714286, 0.6285714285714286, 0.0], \"yaxis\": \"y\"}, {\"hoverinfo\": \"text\", \"marker\": {\"color\": \"rgb(0,116,217)\"}, \"mode\": \"lines\", \"text\": [\"cluster: 29, component: QE_2017_001815_212.05505_267.0\", \"cluster: 29, component: QE_2017_001815_212.05505_267.0\", null, null], \"type\": \"scatter\", \"uid\": \"78a301c3-c6d9-412f-8e65-06aabb5bb337\", \"x\": [505.0, 505.0, 520.0, 520.0], \"xaxis\": \"x\", \"y\": [0.0, 0.7, 0.7, 0.6285714285714286], \"yaxis\": \"y\"}, {\"hoverinfo\": \"text\", \"marker\": {\"color\": \"rgb(0,116,217)\"}, \"mode\": \"lines\", \"text\": [null, null, null, null], \"type\": \"scatter\", \"uid\": \"b0432a25-a47e-4a57-9098-9f964cd25d3d\", \"x\": [482.5, 482.5, 512.5, 512.5], \"xaxis\": \"x\", \"y\": [0.5573770491803278, 0.8360655737704918, 0.8360655737704918, 0.7], \"yaxis\": \"y\"}, {\"hoverinfo\": \"text\", \"marker\": {\"color\": \"rgb(0,116,217)\"}, \"mode\": \"lines\", \"text\": [null, null, null, null], \"type\": \"scatter\", \"uid\": \"a5e5450d-de2d-4199-800d-83a9e16e5aa0\", \"x\": [460.0, 460.0, 497.5, 497.5], \"xaxis\": \"x\", \"y\": [0.6206896551724138, 0.8548387096774194, 0.8548387096774194, 0.8360655737704918], \"yaxis\": \"y\"}, {\"hoverinfo\": \"text\", \"marker\": {\"color\": \"rgb(35,205,205)\"}, \"mode\": \"lines\", \"text\": [\"cluster: 30, component: QE_2017_001816_533.15442_247.0\", \"cluster: 30, component: QE_2017_001816_533.15442_247.0\", \"cluster: 30, component: QE_2017_001816_533.15466_222.0\", \"cluster: 30, component: QE_2017_001816_533.15466_222.0\"], \"type\": \"scatter\", \"uid\": \"65812167-e897-4ccf-8448-7b4d7da46eb7\", \"x\": [535.0, 535.0, 545.0, 545.0], \"xaxis\": \"x\", \"y\": [0.0, 0.36764705882352944, 0.36764705882352944, 0.0], \"yaxis\": \"y\"}, {\"hoverinfo\": \"text\", \"marker\": {\"color\": \"rgb(35,205,205)\"}, \"mode\": \"lines\", \"text\": [\"cluster: 30, component: QE_2017_001815_533.1546_207.0\", \"cluster: 30, component: QE_2017_001815_533.1546_207.0\", \"cluster: 30, component: QE_2017_001816_533.1546_271.0\", \"cluster: 30, component: QE_2017_001816_533.1546_271.0\"], \"type\": \"scatter\", \"uid\": \"b9374d29-308d-4841-9764-f94ab1a4a270\", \"x\": [555.0, 555.0, 565.0, 565.0], \"xaxis\": \"x\", \"y\": [0.0, 0.45454545454545453, 0.45454545454545453, 0.0], \"yaxis\": \"y\"}, {\"hoverinfo\": \"text\", \"marker\": {\"color\": \"rgb(35,205,205)\"}, \"mode\": \"lines\", \"text\": [null, null, null, null], \"type\": \"scatter\", \"uid\": \"8066ffcb-9877-4a27-902b-6345afd36ac9\", \"x\": [540.0, 540.0, 560.0, 560.0], \"xaxis\": \"x\", \"y\": [0.36764705882352944, 0.5, 0.5, 0.45454545454545453], \"yaxis\": \"y\"}, {\"hoverinfo\": \"text\", \"marker\": {\"color\": \"rgb(133,20,75)\"}, \"mode\": \"lines\", \"text\": [\"cluster: 31, component: QE_2017_001814_347.09097_122.0\", \"cluster: 31, component: QE_2017_001814_347.09097_122.0\", \"cluster: 31, component: QE_2017_001815_347.09067_204.0\", \"cluster: 31, component: QE_2017_001815_347.09067_204.0\"], \"type\": \"scatter\", \"uid\": \"4080b652-9407-48ef-b990-df6ba624c03b\", \"x\": [575.0, 575.0, 585.0, 585.0], \"xaxis\": \"x\", \"y\": [0.0, 0.5098039215686274, 0.5098039215686274, 0.0], \"yaxis\": \"y\"}, {\"hoverinfo\": \"text\", \"marker\": {\"color\": \"rgb(0,116,217)\"}, \"mode\": \"lines\", \"text\": [null, null, null, null], \"type\": \"scatter\", \"uid\": \"4099e5f6-8daa-4ccd-9246-723f6820a43a\", \"x\": [550.0, 550.0, 580.0, 580.0], \"xaxis\": \"x\", \"y\": [0.5, 0.8804347826086957, 0.8804347826086957, 0.5098039215686274], \"yaxis\": \"y\"}, {\"hoverinfo\": \"text\", \"marker\": {\"color\": \"rgb(0,116,217)\"}, \"mode\": \"lines\", \"text\": [null, null, null, null], \"type\": \"scatter\", \"uid\": \"d4402aa2-b910-4864-a92e-bdf2bec1b080\", \"x\": [478.75, 478.75, 565.0, 565.0], \"xaxis\": \"x\", \"y\": [0.8548387096774194, 0.9857142857142858, 0.9857142857142858, 0.8804347826086957], \"yaxis\": \"y\"}, {\"hoverinfo\": \"text\", \"marker\": {\"color\": \"rgb(255,220,0)\"}, \"mode\": \"lines\", \"text\": [\"cluster: 32, component: QE_2017_001815_268.10373_58.0\", \"cluster: 32, component: QE_2017_001815_268.10373_58.0\", \"cluster: 32, component: QE_2017_001816_269.16055_60.0\", \"cluster: 32, component: QE_2017_001816_269.16055_60.0\"], \"type\": \"scatter\", \"uid\": \"961d7bb5-5213-4695-9ec5-99410545ed01\", \"x\": [595.0, 595.0, 605.0, 605.0], \"xaxis\": \"x\", \"y\": [0.0, 0.42424242424242425, 0.42424242424242425, 0.0], \"yaxis\": \"y\"}, {\"hoverinfo\": \"text\", \"marker\": {\"color\": \"rgb(40,35,35)\"}, \"mode\": \"lines\", \"text\": [\"cluster: 33, component: QE_2017_001816_408.36832_704.0\", \"cluster: 33, component: QE_2017_001816_408.36832_704.0\", \"cluster: 33, component: QE_2017_001816_466.40979_731.0\", \"cluster: 33, component: QE_2017_001816_466.40979_731.0\"], \"type\": \"scatter\", \"uid\": \"eb07649e-ec34-468a-9ff1-cf0f23cb67bc\", \"x\": [625.0, 625.0, 635.0, 635.0], \"xaxis\": \"x\", \"y\": [0.0, 0.5882352941176471, 0.5882352941176471, 0.0], \"yaxis\": \"y\"}, {\"hoverinfo\": \"text\", \"marker\": {\"color\": \"rgb(0,116,217)\"}, \"mode\": \"lines\", \"text\": [\"cluster: 34, component: QE_2017_001815_364.34189_705.0\", \"cluster: 34, component: QE_2017_001815_364.34189_705.0\", null, null], \"type\": \"scatter\", \"uid\": \"421bdb22-7817-4dc8-a475-cb34c57f83cb\", \"x\": [615.0, 615.0, 630.0, 630.0], \"xaxis\": \"x\", \"y\": [0.0, 0.6875, 0.6875, 0.5882352941176471], \"yaxis\": \"y\"}, {\"hoverinfo\": \"text\", \"marker\": {\"color\": \"rgb(61,153,112)\"}, \"mode\": \"lines\", \"text\": [\"cluster: 35, component: QE_2017_001814_364.34244_761.0\", \"cluster: 35, component: QE_2017_001814_364.34244_761.0\", \"cluster: 35, component: QE_2017_001815_364.34253_752.0\", \"cluster: 35, component: QE_2017_001815_364.34253_752.0\"], \"type\": \"scatter\", \"uid\": \"84034198-69a7-4247-b874-6a6eb311f96a\", \"x\": [665.0, 665.0, 675.0, 675.0], \"xaxis\": \"x\", \"y\": [0.0, 0.36363636363636365, 0.36363636363636365, 0.0], \"yaxis\": \"y\"}, {\"hoverinfo\": \"text\", \"marker\": {\"color\": \"rgb(255,65,54)\"}, \"mode\": \"lines\", \"text\": [\"cluster: 36, component: QE_2017_001816_421.35226_731.0\", \"cluster: 36, component: QE_2017_001816_421.35226_731.0\", \"cluster: 36, component: QE_2017_001816_424.36325_712.0\", \"cluster: 36, component: QE_2017_001816_424.36325_712.0\"], \"type\": \"scatter\", \"uid\": \"e9efb51f-7a46-4579-add7-51e4d8584c0f\", \"x\": [685.0, 685.0, 695.0, 695.0], \"xaxis\": \"x\", \"y\": [0.0, 0.3888888888888889, 0.3888888888888889, 0.0], \"yaxis\": \"y\"}, {\"hoverinfo\": \"text\", \"marker\": {\"color\": \"rgb(0,116,217)\"}, \"mode\": \"lines\", \"text\": [null, null, null, null], \"type\": \"scatter\", \"uid\": \"f2f568a1-d52f-43f0-a909-1bce60e32db9\", \"x\": [670.0, 670.0, 690.0, 690.0], \"xaxis\": \"x\", \"y\": [0.36363636363636365, 0.6111111111111112, 0.6111111111111112, 0.3888888888888889], \"yaxis\": \"y\"}, {\"hoverinfo\": \"text\", \"marker\": {\"color\": \"rgb(0,116,217)\"}, \"mode\": \"lines\", \"text\": [\"cluster: 37, component: QE_2017_001815_482.40488_739.0\", \"cluster: 37, component: QE_2017_001815_482.40488_739.0\", null, null], \"type\": \"scatter\", \"uid\": \"520d9155-70bd-44a0-bc1a-2b023c8b1d62\", \"x\": [655.0, 655.0, 680.0, 680.0], \"xaxis\": \"x\", \"y\": [0.0, 0.7037037037037037, 0.7037037037037037, 0.6111111111111112], \"yaxis\": \"y\"}, {\"hoverinfo\": \"text\", \"marker\": {\"color\": \"rgb(0,116,217)\"}, \"mode\": \"lines\", \"text\": [\"cluster: 38, component: QE_2017_001815_408.36853_717.0\", \"cluster: 38, component: QE_2017_001815_408.36853_717.0\", null, null], \"type\": \"scatter\", \"uid\": \"c6d67e72-c947-4cd2-b26e-07674b41b99b\", \"x\": [645.0, 645.0, 667.5, 667.5], \"xaxis\": \"x\", \"y\": [0.0, 0.7307692307692307, 0.7307692307692307, 0.7037037037037037], \"yaxis\": \"y\"}, {\"hoverinfo\": \"text\", \"marker\": {\"color\": \"rgb(0,116,217)\"}, \"mode\": \"lines\", \"text\": [null, null, null, null], \"type\": \"scatter\", \"uid\": \"6fbbf58e-21dd-412d-941e-5dfa0f935048\", \"x\": [622.5, 622.5, 656.25, 656.25], \"xaxis\": \"x\", \"y\": [0.6875, 0.8387096774193549, 0.8387096774193549, 0.7307692307692307], \"yaxis\": \"y\"}, {\"hoverinfo\": \"text\", \"marker\": {\"color\": \"rgb(0,116,217)\"}, \"mode\": \"lines\", \"text\": [null, null, null, null], \"type\": \"scatter\", \"uid\": \"16c576b1-2455-444b-8fb2-b9d33fb6c53a\", \"x\": [600.0, 600.0, 639.375, 639.375], \"xaxis\": \"x\", \"y\": [0.42424242424242425, 0.9814814814814815, 0.9814814814814815, 0.8387096774193549], \"yaxis\": \"y\"}, {\"hoverinfo\": \"text\", \"marker\": {\"color\": \"rgb(35,205,205)\"}, \"mode\": \"lines\", \"text\": [\"cluster: 39, component: QE_2017_001814_611.15997_285.0\", \"cluster: 39, component: QE_2017_001814_611.15997_285.0\", \"cluster: 39, component: QE_2017_001815_611.16046_309.0\", \"cluster: 39, component: QE_2017_001815_611.16046_309.0\"], \"type\": \"scatter\", \"uid\": \"751aa822-63b9-42c2-8e64-473153719835\", \"x\": [715.0, 715.0, 725.0, 725.0], \"xaxis\": \"x\", \"y\": [0.0, 0.4583333333333333, 0.4583333333333333, 0.0], \"yaxis\": \"y\"}, {\"hoverinfo\": \"text\", \"marker\": {\"color\": \"rgb(133,20,75)\"}, \"mode\": \"lines\", \"text\": [\"cluster: 40, component: QE_2017_001814_339.10742_366.0\", \"cluster: 40, component: QE_2017_001814_339.10742_366.0\", \"cluster: 40, component: QE_2017_001816_339.10733_298.0\", \"cluster: 40, component: QE_2017_001816_339.10733_298.0\"], \"type\": \"scatter\", \"uid\": \"caa91d84-682c-41a4-880c-1174b4d8a181\", \"x\": [735.0, 735.0, 745.0, 745.0], \"xaxis\": \"x\", \"y\": [0.0, 0.44, 0.44, 0.0], \"yaxis\": \"y\"}, {\"hoverinfo\": \"text\", \"marker\": {\"color\": \"rgb(255,220,0)\"}, \"mode\": \"lines\", \"text\": [\"cluster: 41, component: QE_2017_001814_231.04971_516.0\", \"cluster: 41, component: QE_2017_001814_231.04971_516.0\", \"cluster: 41, component: QE_2017_001815_231.04971_369.0\", \"cluster: 41, component: QE_2017_001815_231.04971_369.0\"], \"type\": \"scatter\", \"uid\": \"fadc70f3-9212-4397-b977-6c6707861759\", \"x\": [795.0, 795.0, 805.0, 805.0], \"xaxis\": \"x\", \"y\": [0.0, 0.391304347826087, 0.391304347826087, 0.0], \"yaxis\": \"y\"}, {\"hoverinfo\": \"text\", \"marker\": {\"color\": \"rgb(255,220,0)\"}, \"mode\": \"lines\", \"text\": [\"cluster: 41, component: QE_2017_001815_231.04968_315.0\", \"cluster: 41, component: QE_2017_001815_231.04968_315.0\", null, null], \"type\": \"scatter\", \"uid\": \"8ae0a047-13f2-48d5-9765-2e3ed5d9f186\", \"x\": [785.0, 785.0, 800.0, 800.0], \"xaxis\": \"x\", \"y\": [0.0, 0.4090909090909091, 0.4090909090909091, 0.391304347826087], \"yaxis\": \"y\"}, {\"hoverinfo\": \"text\", \"marker\": {\"color\": \"rgb(255,220,0)\"}, \"mode\": \"lines\", \"text\": [\"cluster: 41, component: QE_2017_001815_231.04973_403.0\", \"cluster: 41, component: QE_2017_001815_231.04973_403.0\", null, null], \"type\": \"scatter\", \"uid\": \"992202bc-dd23-4d08-942e-666b86571533\", \"x\": [775.0, 775.0, 792.5, 792.5], \"xaxis\": \"x\", \"y\": [0.0, 0.52, 0.52, 0.4090909090909091], \"yaxis\": \"y\"}, {\"hoverinfo\": \"text\", \"marker\": {\"color\": \"rgb(0,116,217)\"}, \"mode\": \"lines\", \"text\": [\"cluster: 42, component: QE_2017_001815_340.16019_314.0\", \"cluster: 42, component: QE_2017_001815_340.16019_314.0\", null, null], \"type\": \"scatter\", \"uid\": \"9878110f-a031-4b10-82ba-8dc865c57f93\", \"x\": [765.0, 765.0, 783.75, 783.75], \"xaxis\": \"x\", \"y\": [0.0, 0.6904761904761905, 0.6904761904761905, 0.52], \"yaxis\": \"y\"}, {\"hoverinfo\": \"text\", \"marker\": {\"color\": \"rgb(40,35,35)\"}, \"mode\": \"lines\", \"text\": [\"cluster: 43, component: QE_2017_001815_314.14453_76.0\", \"cluster: 43, component: QE_2017_001815_314.14453_76.0\", \"cluster: 43, component: QE_2017_001816_314.14462_79.0\", \"cluster: 43, component: QE_2017_001816_314.14462_79.0\"], \"type\": \"scatter\", \"uid\": \"a4aae5e4-2ba8-494c-b0e8-ff67287d189b\", \"x\": [815.0, 815.0, 825.0, 825.0], \"xaxis\": \"x\", \"y\": [0.0, 0.4230769230769231, 0.4230769230769231, 0.0], \"yaxis\": \"y\"}, {\"hoverinfo\": \"text\", \"marker\": {\"color\": \"rgb(0,116,217)\"}, \"mode\": \"lines\", \"text\": [\"cluster: 44, component: QE_2017_001816_310.14957_134.0\", \"cluster: 44, component: QE_2017_001816_310.14957_134.0\", \"cluster: 45, component: QE_2017_001816_342.17584_257.0\", \"cluster: 45, component: QE_2017_001816_342.17584_257.0\"], \"type\": \"scatter\", \"uid\": \"40f1e9d2-7437-472b-90e7-3c96a89ee62e\", \"x\": [835.0, 835.0, 845.0, 845.0], \"xaxis\": \"x\", \"y\": [0.0, 0.6785714285714286, 0.6785714285714286, 0.0], \"yaxis\": \"y\"}, {\"hoverinfo\": \"text\", \"marker\": {\"color\": \"rgb(0,116,217)\"}, \"mode\": \"lines\", \"text\": [null, null, null, null], \"type\": \"scatter\", \"uid\": \"25312a11-c94f-49e6-910a-87849279acd8\", \"x\": [820.0, 820.0, 840.0, 840.0], \"xaxis\": \"x\", \"y\": [0.4230769230769231, 0.75, 0.75, 0.6785714285714286], \"yaxis\": \"y\"}, {\"hoverinfo\": \"text\", \"marker\": {\"color\": \"rgb(0,116,217)\"}, \"mode\": \"lines\", \"text\": [null, null, null, null], \"type\": \"scatter\", \"uid\": \"f444bed9-1a5d-4b58-843e-4effaa5a6a68\", \"x\": [774.375, 774.375, 830.0, 830.0], \"xaxis\": \"x\", \"y\": [0.6904761904761905, 0.8, 0.8, 0.75], \"yaxis\": \"y\"}, {\"hoverinfo\": \"text\", \"marker\": {\"color\": \"rgb(0,116,217)\"}, \"mode\": \"lines\", \"text\": [\"cluster: 46, component: QE_2017_001814_498.2543_475.0\", \"cluster: 46, component: QE_2017_001814_498.2543_475.0\", null, null], \"type\": \"scatter\", \"uid\": \"d6f560f4-18ae-455a-aaef-79370c4c506c\", \"x\": [755.0, 755.0, 802.1875, 802.1875], \"xaxis\": \"x\", \"y\": [0.0, 0.8571428571428571, 0.8571428571428571, 0.8], \"yaxis\": \"y\"}, {\"hoverinfo\": \"text\", \"marker\": {\"color\": \"rgb(0,116,217)\"}, \"mode\": \"lines\", \"text\": [null, null, null, null], \"type\": \"scatter\", \"uid\": \"1c575649-5007-48f1-b26f-4442686b2b7f\", \"x\": [740.0, 740.0, 778.59375, 778.59375], \"xaxis\": \"x\", \"y\": [0.44, 0.8775510204081632, 0.8775510204081632, 0.8571428571428571], \"yaxis\": \"y\"}, {\"hoverinfo\": \"text\", \"marker\": {\"color\": \"rgb(0,116,217)\"}, \"mode\": \"lines\", \"text\": [\"cluster: 47, component: QE_2017_001814_241.15466_73.0\", \"cluster: 47, component: QE_2017_001814_241.15466_73.0\", \"cluster: 48, component: QE_2017_001815_507.18192_178.0\", \"cluster: 48, component: QE_2017_001815_507.18192_178.0\"], \"type\": \"scatter\", \"uid\": \"2c8cd232-3839-4a30-9ab0-06d6755d6fb5\", \"x\": [855.0, 855.0, 865.0, 865.0], \"xaxis\": \"x\", \"y\": [0.0, 0.9152542372881356, 0.9152542372881356, 0.0], \"yaxis\": \"y\"}, {\"hoverinfo\": \"text\", \"marker\": {\"color\": \"rgb(0,116,217)\"}, \"mode\": \"lines\", \"text\": [null, null, null, null], \"type\": \"scatter\", \"uid\": \"bd9f4bb0-395c-4ba5-a1e0-0ef23081d634\", \"x\": [759.296875, 759.296875, 860.0, 860.0], \"xaxis\": \"x\", \"y\": [0.8775510204081632, 0.9302325581395349, 0.9302325581395349, 0.9152542372881356], \"yaxis\": \"y\"}, {\"hoverinfo\": \"text\", \"marker\": {\"color\": \"rgb(0,116,217)\"}, \"mode\": \"lines\", \"text\": [null, null, null, null], \"type\": \"scatter\", \"uid\": \"89ce7592-8c93-4e30-bbe0-90627bc80d30\", \"x\": [720.0, 720.0, 809.6484375, 809.6484375], \"xaxis\": \"x\", \"y\": [0.4583333333333333, 0.9622641509433962, 0.9622641509433962, 0.9302325581395349], \"yaxis\": \"y\"}, {\"hoverinfo\": \"text\", \"marker\": {\"color\": \"rgb(0,116,217)\"}, \"mode\": \"lines\", \"text\": [\"cluster: 49, component: QE_2017_001816_463.12311_410.0\", \"cluster: 49, component: QE_2017_001816_463.12311_410.0\", null, null], \"type\": \"scatter\", \"uid\": \"dc43701c-8b19-48eb-abf6-1386bab43ff1\", \"x\": [705.0, 705.0, 764.82421875, 764.82421875], \"xaxis\": \"x\", \"y\": [0.0, 0.9696969696969697, 0.9696969696969697, 0.9622641509433962], \"yaxis\": \"y\"}, {\"hoverinfo\": \"text\", \"marker\": {\"color\": \"rgb(61,153,112)\"}, \"mode\": \"lines\", \"text\": [\"cluster: 50, component: QE_2017_001814_320.29456_577.0\", \"cluster: 50, component: QE_2017_001814_320.29456_577.0\", \"cluster: 50, component: QE_2017_001815_320.29471_563.0\", \"cluster: 50, component: QE_2017_001815_320.29471_563.0\"], \"type\": \"scatter\", \"uid\": \"36df440e-9736-4f98-a908-3b57c1accddf\", \"x\": [895.0, 895.0, 905.0, 905.0], \"xaxis\": \"x\", \"y\": [0.0, 0.36, 0.36, 0.0], \"yaxis\": \"y\"}, {\"hoverinfo\": \"text\", \"marker\": {\"color\": \"rgb(0,116,217)\"}, \"mode\": \"lines\", \"text\": [\"cluster: 51, component: QE_2017_001816_338.26062_643.0\", \"cluster: 51, component: QE_2017_001816_338.26062_643.0\", null, null], \"type\": \"scatter\", \"uid\": \"1874f32c-8df0-4558-bb45-c9401f7f6f5a\", \"x\": [885.0, 885.0, 900.0, 900.0], \"xaxis\": \"x\", \"y\": [0.0, 0.6153846153846154, 0.6153846153846154, 0.36], \"yaxis\": \"y\"}, {\"hoverinfo\": \"text\", \"marker\": {\"color\": \"rgb(0,116,217)\"}, \"mode\": \"lines\", \"text\": [\"cluster: 52, component: QE_2017_001814_483.27118_651.0\", \"cluster: 52, component: QE_2017_001814_483.27118_651.0\", null, null], \"type\": \"scatter\", \"uid\": \"90aab57f-de8b-4b40-b492-b018d56fbd90\", \"x\": [875.0, 875.0, 892.5, 892.5], \"xaxis\": \"x\", \"y\": [0.0, 0.8636363636363636, 0.8636363636363636, 0.6153846153846154], \"yaxis\": \"y\"}, {\"hoverinfo\": \"text\", \"marker\": {\"color\": \"rgb(0,116,217)\"}, \"mode\": \"lines\", \"text\": [\"cluster: 53, component: QE_2017_001815_129.12741_349.0\", \"cluster: 53, component: QE_2017_001815_129.12741_349.0\", \"cluster: 54, component: QE_2017_001815_171.14914_420.0\", \"cluster: 54, component: QE_2017_001815_171.14914_420.0\"], \"type\": \"scatter\", \"uid\": \"41f999f5-3269-4de7-a9d8-7621cdbc08e4\", \"x\": [915.0, 915.0, 925.0, 925.0], \"xaxis\": \"x\", \"y\": [0.0, 0.8666666666666667, 0.8666666666666667, 0.0], \"yaxis\": \"y\"}, {\"hoverinfo\": \"text\", \"marker\": {\"color\": \"rgb(0,116,217)\"}, \"mode\": \"lines\", \"text\": [null, null, null, null], \"type\": \"scatter\", \"uid\": \"05a5bdf0-37b5-4fda-afe3-7df1f130a249\", \"x\": [883.75, 883.75, 920.0, 920.0], \"xaxis\": \"x\", \"y\": [0.8636363636363636, 0.9032258064516129, 0.9032258064516129, 0.8666666666666667], \"yaxis\": \"y\"}, {\"hoverinfo\": \"text\", \"marker\": {\"color\": \"rgb(255,65,54)\"}, \"mode\": \"lines\", \"text\": [\"cluster: 55, component: QE_2017_001815_201.16367_442.0\", \"cluster: 55, component: QE_2017_001815_201.16367_442.0\", \"cluster: 55, component: QE_2017_001816_201.16362_435.0\", \"cluster: 55, component: QE_2017_001816_201.16362_435.0\"], \"type\": \"scatter\", \"uid\": \"3d6d6eb3-fe29-4a11-bb33-f5b93b400831\", \"x\": [935.0, 935.0, 945.0, 945.0], \"xaxis\": \"x\", \"y\": [0.0, 0.48333333333333334, 0.48333333333333334, 0.0], \"yaxis\": \"y\"}, {\"hoverinfo\": \"text\", \"marker\": {\"color\": \"rgb(35,205,205)\"}, \"mode\": \"lines\", \"text\": [\"cluster: 56, component: QE_2017_001815_209.1535_312.0\", \"cluster: 56, component: QE_2017_001815_209.1535_312.0\", \"cluster: 56, component: QE_2017_001816_209.15344_311.0\", \"cluster: 56, component: QE_2017_001816_209.15344_311.0\"], \"type\": \"scatter\", \"uid\": \"3a00025b-d762-405c-9555-4ca8262f0a92\", \"x\": [975.0, 975.0, 985.0, 985.0], \"xaxis\": \"x\", \"y\": [0.0, 0.2916666666666667, 0.2916666666666667, 0.0], \"yaxis\": \"y\"}, {\"hoverinfo\": \"text\", \"marker\": {\"color\": \"rgb(35,205,205)\"}, \"mode\": \"lines\", \"text\": [\"cluster: 56, component: QE_2017_001815_209.15349_295.0\", \"cluster: 56, component: QE_2017_001815_209.15349_295.0\", null, null], \"type\": \"scatter\", \"uid\": \"4a12ae9f-e60e-4bb1-8628-dbbffa004e97\", \"x\": [965.0, 965.0, 980.0, 980.0], \"xaxis\": \"x\", \"y\": [0.0, 0.3835616438356164, 0.3835616438356164, 0.2916666666666667], \"yaxis\": \"y\"}, {\"hoverinfo\": \"text\", \"marker\": {\"color\": \"rgb(35,205,205)\"}, \"mode\": \"lines\", \"text\": [\"cluster: 56, component: QE_2017_001815_209.15352_479.0\", \"cluster: 56, component: QE_2017_001815_209.15352_479.0\", null, null], \"type\": \"scatter\", \"uid\": \"c594f329-59ad-4812-a988-b99881e1b53b\", \"x\": [955.0, 955.0, 972.5, 972.5], \"xaxis\": \"x\", \"y\": [0.0, 0.4473684210526316, 0.4473684210526316, 0.3835616438356164], \"yaxis\": \"y\"}, {\"hoverinfo\": \"text\", \"marker\": {\"color\": \"rgb(133,20,75)\"}, \"mode\": \"lines\", \"text\": [\"cluster: 57, component: QE_2017_001814_243.15892_533.0\", \"cluster: 57, component: QE_2017_001814_243.15892_533.0\", \"cluster: 57, component: QE_2017_001814_281.1745_492.0\", \"cluster: 57, component: QE_2017_001814_281.1745_492.0\"], \"type\": \"scatter\", \"uid\": \"8ff07e0f-0217-44dc-9745-c6146f35c7af\", \"x\": [995.0, 995.0, 1005.0, 1005.0], \"xaxis\": \"x\", \"y\": [0.0, 0.359375, 0.359375, 0.0], \"yaxis\": \"y\"}, {\"hoverinfo\": \"text\", \"marker\": {\"color\": \"rgb(255,220,0)\"}, \"mode\": \"lines\", \"text\": [\"cluster: 57, component: QE_2017_001815_227.16408_344.0\", \"cluster: 57, component: QE_2017_001815_227.16408_344.0\", \"cluster: 57, component: QE_2017_001815_283.19009_564.0\", \"cluster: 57, component: QE_2017_001815_283.19009_564.0\"], \"type\": \"scatter\", \"uid\": \"6280dbd6-eb59-4629-8da2-03371b634d5f\", \"x\": [1025.0, 1025.0, 1035.0, 1035.0], \"xaxis\": \"x\", \"y\": [0.0, 0.47191011235955055, 0.47191011235955055, 0.0], \"yaxis\": \"y\"}, {\"hoverinfo\": \"text\", \"marker\": {\"color\": \"rgb(255,220,0)\"}, \"mode\": \"lines\", \"text\": [\"cluster: 57, component: QE_2017_001814_293.2106_579.0\", \"cluster: 57, component: QE_2017_001814_293.2106_579.0\", null, null], \"type\": \"scatter\", \"uid\": \"2a513c0a-e991-42bc-a1d7-ec060733c636\", \"x\": [1015.0, 1015.0, 1030.0, 1030.0], \"xaxis\": \"x\", \"y\": [0.0, 0.5454545454545454, 0.5454545454545454, 0.47191011235955055], \"yaxis\": \"y\"}, {\"hoverinfo\": \"text\", \"marker\": {\"color\": \"rgb(0,116,217)\"}, \"mode\": \"lines\", \"text\": [null, null, null, null], \"type\": \"scatter\", \"uid\": \"1541cc0c-8fb2-40d6-b326-42c1d42331bc\", \"x\": [1000.0, 1000.0, 1022.5, 1022.5], \"xaxis\": \"x\", \"y\": [0.359375, 0.6, 0.6, 0.5454545454545454], \"yaxis\": \"y\"}, {\"hoverinfo\": \"text\", \"marker\": {\"color\": \"rgb(0,116,217)\"}, \"mode\": \"lines\", \"text\": [null, null, null, null], \"type\": \"scatter\", \"uid\": \"665cdcf5-e0a9-4591-9585-21306d29c4ab\", \"x\": [963.75, 963.75, 1011.25, 1011.25], \"xaxis\": \"x\", \"y\": [0.4473684210526316, 0.6494845360824743, 0.6494845360824743, 0.6], \"yaxis\": \"y\"}, {\"hoverinfo\": \"text\", \"marker\": {\"color\": \"rgb(40,35,35)\"}, \"mode\": \"lines\", \"text\": [\"cluster: 58, component: QE_2017_001814_227.1275_293.0\", \"cluster: 58, component: QE_2017_001814_227.1275_293.0\", \"cluster: 58, component: QE_2017_001816_227.12766_295.0\", \"cluster: 58, component: QE_2017_001816_227.12766_295.0\"], \"type\": \"scatter\", \"uid\": \"5ff60a81-bb22-4e22-a4a3-615fe4c3c557\", \"x\": [1055.0, 1055.0, 1065.0, 1065.0], \"xaxis\": \"x\", \"y\": [0.0, 0.3382352941176471, 0.3382352941176471, 0.0], \"yaxis\": \"y\"}, {\"hoverinfo\": \"text\", \"marker\": {\"color\": \"rgb(0,116,217)\"}, \"mode\": \"lines\", \"text\": [\"cluster: 59, component: QE_2017_001815_207.13785_297.0\", \"cluster: 59, component: QE_2017_001815_207.13785_297.0\", null, null], \"type\": \"scatter\", \"uid\": \"c5cb5acb-0f0d-4b43-8ff8-3db58412589f\", \"x\": [1045.0, 1045.0, 1060.0, 1060.0], \"xaxis\": \"x\", \"y\": [0.0, 0.6710526315789473, 0.6710526315789473, 0.3382352941176471], \"yaxis\": \"y\"}, {\"hoverinfo\": \"text\", \"marker\": {\"color\": \"rgb(0,116,217)\"}, \"mode\": \"lines\", \"text\": [null, null, null, null], \"type\": \"scatter\", \"uid\": \"f6b5a005-604c-4ffc-9829-955396fe3068\", \"x\": [987.5, 987.5, 1052.5, 1052.5], \"xaxis\": \"x\", \"y\": [0.6494845360824743, 0.7058823529411765, 0.7058823529411765, 0.6710526315789473], \"yaxis\": \"y\"}, {\"hoverinfo\": \"text\", \"marker\": {\"color\": \"rgb(61,153,112)\"}, \"mode\": \"lines\", \"text\": [\"cluster: 60, component: QE_2017_001815_181.1221_767.0\", \"cluster: 60, component: QE_2017_001815_181.1221_767.0\", \"cluster: 60, component: QE_2017_001816_181.12199_794.0\", \"cluster: 60, component: QE_2017_001816_181.12199_794.0\"], \"type\": \"scatter\", \"uid\": \"e858e389-cfe4-43ed-9ec7-d231b09efc34\", \"x\": [1075.0, 1075.0, 1085.0, 1085.0], \"xaxis\": \"x\", \"y\": [0.0, 0.2857142857142857, 0.2857142857142857, 0.0], \"yaxis\": \"y\"}, {\"hoverinfo\": \"text\", \"marker\": {\"color\": \"rgb(255,65,54)\"}, \"mode\": \"lines\", \"text\": [\"cluster: 61, component: QE_2017_001814_211.16902_440.0\", \"cluster: 61, component: QE_2017_001814_211.16902_440.0\", \"cluster: 61, component: QE_2017_001815_211.16913_450.0\", \"cluster: 61, component: QE_2017_001815_211.16913_450.0\"], \"type\": \"scatter\", \"uid\": \"25f386b3-f3a1-4688-becc-9fc35dcb1488\", \"x\": [1115.0, 1115.0, 1125.0, 1125.0], \"xaxis\": \"x\", \"y\": [0.0, 0.19230769230769232, 0.19230769230769232, 0.0], \"yaxis\": \"y\"}, {\"hoverinfo\": \"text\", \"marker\": {\"color\": \"rgb(255,65,54)\"}, \"mode\": \"lines\", \"text\": [\"cluster: 61, component: QE_2017_001815_209.0807_405.0\", \"cluster: 61, component: QE_2017_001815_209.0807_405.0\", null, null], \"type\": \"scatter\", \"uid\": \"7cd42a28-3d64-4e7e-99bc-018091162266\", \"x\": [1105.0, 1105.0, 1120.0, 1120.0], \"xaxis\": \"x\", \"y\": [0.0, 0.21153846153846154, 0.21153846153846154, 0.19230769230769232], \"yaxis\": \"y\"}, {\"hoverinfo\": \"text\", \"marker\": {\"color\": \"rgb(255,65,54)\"}, \"mode\": \"lines\", \"text\": [\"cluster: 61, component: QE_2017_001816_211.16916_405.0\", \"cluster: 61, component: QE_2017_001816_211.16916_405.0\", null, null], \"type\": \"scatter\", \"uid\": \"094e41a9-2805-47da-8722-157e66beef80\", \"x\": [1095.0, 1095.0, 1112.5, 1112.5], \"xaxis\": \"x\", \"y\": [0.0, 0.3, 0.3, 0.21153846153846154], \"yaxis\": \"y\"}, {\"hoverinfo\": \"text\", \"marker\": {\"color\": \"rgb(255,65,54)\"}, \"mode\": \"lines\", \"text\": [\"cluster: 61, component: QE_2017_001815_215.164_550.0\", \"cluster: 61, component: QE_2017_001815_215.164_550.0\", \"cluster: 61, component: QE_2017_001816_215.16411_482.0\", \"cluster: 61, component: QE_2017_001816_215.16411_482.0\"], \"type\": \"scatter\", \"uid\": \"110f6976-df63-4bb2-b5db-87032224e155\", \"x\": [1135.0, 1135.0, 1145.0, 1145.0], \"xaxis\": \"x\", \"y\": [0.0, 0.48717948717948717, 0.48717948717948717, 0.0], \"yaxis\": \"y\"}, {\"hoverinfo\": \"text\", \"marker\": {\"color\": \"rgb(255,65,54)\"}, \"mode\": \"lines\", \"text\": [null, null, null, null], \"type\": \"scatter\", \"uid\": \"fa6a6d8e-cda1-451f-9094-54aa93baef7f\", \"x\": [1103.75, 1103.75, 1140.0, 1140.0], \"xaxis\": \"x\", \"y\": [0.3, 0.5818181818181818, 0.5818181818181818, 0.48717948717948717], \"yaxis\": \"y\"}, {\"hoverinfo\": \"text\", \"marker\": {\"color\": \"rgb(0,116,217)\"}, \"mode\": \"lines\", \"text\": [null, null, null, null], \"type\": \"scatter\", \"uid\": \"d0b7f65a-4e3c-48dc-8d8c-97174e9c0e50\", \"x\": [1080.0, 1080.0, 1121.875, 1121.875], \"xaxis\": \"x\", \"y\": [0.2857142857142857, 0.7446808510638298, 0.7446808510638298, 0.5818181818181818], \"yaxis\": \"y\"}, {\"hoverinfo\": \"text\", \"marker\": {\"color\": \"rgb(0,116,217)\"}, \"mode\": \"lines\", \"text\": [null, null, null, null], \"type\": \"scatter\", \"uid\": \"8222f0f0-cfa0-4157-8307-abf6697f434d\", \"x\": [1020.0, 1020.0, 1100.9375, 1100.9375], \"xaxis\": \"x\", \"y\": [0.7058823529411765, 0.7631578947368421, 0.7631578947368421, 0.7446808510638298], \"yaxis\": \"y\"}, {\"hoverinfo\": \"text\", \"marker\": {\"color\": \"rgb(35,205,205)\"}, \"mode\": \"lines\", \"text\": [\"cluster: 62, component: QE_2017_001814_219.17416_517.0\", \"cluster: 62, component: QE_2017_001814_219.17416_517.0\", \"cluster: 62, component: QE_2017_001815_219.17421_516.0\", \"cluster: 62, component: QE_2017_001815_219.17421_516.0\"], \"type\": \"scatter\", \"uid\": \"ebbf26f9-172e-4ddf-b15a-1382cb8667d1\", \"x\": [1165.0, 1165.0, 1175.0, 1175.0], \"xaxis\": \"x\", \"y\": [0.0, 0.25, 0.25, 0.0], \"yaxis\": \"y\"}, {\"hoverinfo\": \"text\", \"marker\": {\"color\": \"rgb(35,205,205)\"}, \"mode\": \"lines\", \"text\": [\"cluster: 62, component: QE_2017_001814_219.17401_452.0\", \"cluster: 62, component: QE_2017_001814_219.17401_452.0\", \"cluster: 62, component: QE_2017_001814_219.17409_442.0\", \"cluster: 62, component: QE_2017_001814_219.17409_442.0\"], \"type\": \"scatter\", \"uid\": \"beb0e4c3-eca1-4391-888d-49519b17a249\", \"x\": [1195.0, 1195.0, 1205.0, 1205.0], \"xaxis\": \"x\", \"y\": [0.0, 0.3125, 0.3125, 0.0], \"yaxis\": \"y\"}, {\"hoverinfo\": \"text\", \"marker\": {\"color\": \"rgb(35,205,205)\"}, \"mode\": \"lines\", \"text\": [\"cluster: 62, component: QE_2017_001816_219.17438_502.0\", \"cluster: 62, component: QE_2017_001816_219.17438_502.0\", null, null], \"type\": \"scatter\", \"uid\": \"d2e098b9-a676-472f-9cb6-b0b63f049e35\", \"x\": [1185.0, 1185.0, 1200.0, 1200.0], \"xaxis\": \"x\", \"y\": [0.0, 0.4074074074074074, 0.4074074074074074, 0.3125], \"yaxis\": \"y\"}, {\"hoverinfo\": \"text\", \"marker\": {\"color\": \"rgb(35,205,205)\"}, \"mode\": \"lines\", \"text\": [null, null, null, null], \"type\": \"scatter\", \"uid\": \"68aa5bf2-0ab6-41db-8c5b-9ddab16380aa\", \"x\": [1170.0, 1170.0, 1192.5, 1192.5], \"xaxis\": \"x\", \"y\": [0.25, 0.4583333333333333, 0.4583333333333333, 0.4074074074074074], \"yaxis\": \"y\"}, {\"hoverinfo\": \"text\", \"marker\": {\"color\": \"rgb(133,20,75)\"}, \"mode\": \"lines\", \"text\": [\"cluster: 63, component: QE_2017_001815_191.14287_312.0\", \"cluster: 63, component: QE_2017_001815_191.14287_312.0\", \"cluster: 63, component: QE_2017_001816_191.14291_404.0\", \"cluster: 63, component: QE_2017_001816_191.14291_404.0\"], \"type\": \"scatter\", \"uid\": \"3e7ad572-23f3-443a-a826-c7bc4226acd3\", \"x\": [1225.0, 1225.0, 1235.0, 1235.0], \"xaxis\": \"x\", \"y\": [0.0, 0.43103448275862066, 0.43103448275862066, 0.0], \"yaxis\": \"y\"}, {\"hoverinfo\": \"text\", \"marker\": {\"color\": \"rgb(133,20,75)\"}, \"mode\": \"lines\", \"text\": [\"cluster: 63, component: QE_2017_001814_191.14291_389.0\", \"cluster: 63, component: QE_2017_001814_191.14291_389.0\", null, null], \"type\": \"scatter\", \"uid\": \"baf83267-e8eb-4415-80fa-b1030e3945be\", \"x\": [1215.0, 1215.0, 1230.0, 1230.0], \"xaxis\": \"x\", \"y\": [0.0, 0.5, 0.5, 0.43103448275862066], \"yaxis\": \"y\"}, {\"hoverinfo\": \"text\", \"marker\": {\"color\": \"rgb(0,116,217)\"}, \"mode\": \"lines\", \"text\": [null, null, null, null], \"type\": \"scatter\", \"uid\": \"ba8da630-76af-4c0d-adaa-47dfcf16e22a\", \"x\": [1181.25, 1181.25, 1222.5, 1222.5], \"xaxis\": \"x\", \"y\": [0.4583333333333333, 0.68, 0.68, 0.5], \"yaxis\": \"y\"}, {\"hoverinfo\": \"text\", \"marker\": {\"color\": \"rgb(0,116,217)\"}, \"mode\": \"lines\", \"text\": [\"cluster: 64, component: QE_2017_001816_137.09584_445.0\", \"cluster: 64, component: QE_2017_001816_137.09584_445.0\", null, null], \"type\": \"scatter\", \"uid\": \"0baf791a-4143-40d4-ba2f-47c9b8fc5b3e\", \"x\": [1155.0, 1155.0, 1201.875, 1201.875], \"xaxis\": \"x\", \"y\": [0.0, 0.782608695652174, 0.782608695652174, 0.68], \"yaxis\": \"y\"}, {\"hoverinfo\": \"text\", \"marker\": {\"color\": \"rgb(0,116,217)\"}, \"mode\": \"lines\", \"text\": [null, null, null, null], \"type\": \"scatter\", \"uid\": \"e5e89287-1279-4fcb-8c31-6d46077eefdd\", \"x\": [1060.46875, 1060.46875, 1178.4375, 1178.4375], \"xaxis\": \"x\", \"y\": [0.7631578947368421, 0.8170731707317073, 0.8170731707317073, 0.782608695652174], \"yaxis\": \"y\"}, {\"hoverinfo\": \"text\", \"marker\": {\"color\": \"rgb(0,116,217)\"}, \"mode\": \"lines\", \"text\": [null, null, null, null], \"type\": \"scatter\", \"uid\": \"f0989e32-a00c-4716-9658-823f6e4314aa\", \"x\": [940.0, 940.0, 1119.453125, 1119.453125], \"xaxis\": \"x\", \"y\": [0.48333333333333334, 0.8421052631578947, 0.8421052631578947, 0.8170731707317073], \"yaxis\": \"y\"}, {\"hoverinfo\": \"text\", \"marker\": {\"color\": \"rgb(0,116,217)\"}, \"mode\": \"lines\", \"text\": [\"cluster: 65, component: QE_2017_001814_209.08058_363.0\", \"cluster: 65, component: QE_2017_001814_209.08058_363.0\", \"cluster: 66, component: QE_2017_001816_207.13779_561.0\", \"cluster: 66, component: QE_2017_001816_207.13779_561.0\"], \"type\": \"scatter\", \"uid\": \"fb40fbb1-d07c-4c50-a219-2b42ff08c3c5\", \"x\": [1245.0, 1245.0, 1255.0, 1255.0], \"xaxis\": \"x\", \"y\": [0.0, 0.8556701030927835, 0.8556701030927835, 0.0], \"yaxis\": \"y\"}, {\"hoverinfo\": \"text\", \"marker\": {\"color\": \"rgb(0,116,217)\"}, \"mode\": \"lines\", \"text\": [null, null, null, null], \"type\": \"scatter\", \"uid\": \"95f04ad4-f476-459c-acac-b7fda7b516f0\", \"x\": [1029.7265625, 1029.7265625, 1250.0, 1250.0], \"xaxis\": \"x\", \"y\": [0.8421052631578947, 0.9135802469135802, 0.9135802469135802, 0.8556701030927835], \"yaxis\": \"y\"}, {\"hoverinfo\": \"text\", \"marker\": {\"color\": \"rgb(0,116,217)\"}, \"mode\": \"lines\", \"text\": [null, null, null, null], \"type\": \"scatter\", \"uid\": \"530f5e31-78ff-4a4b-b606-79cbce6d8dab\", \"x\": [901.875, 901.875, 1139.86328125, 1139.86328125], \"xaxis\": \"x\", \"y\": [0.9032258064516129, 0.9882352941176471, 0.9882352941176471, 0.9135802469135802], \"yaxis\": \"y\"}, {\"hoverinfo\": \"text\", \"marker\": {\"color\": \"rgb(0,116,217)\"}, \"mode\": \"lines\", \"text\": [\"cluster: 67, component: QE_2017_001815_333.15173_245.0\", \"cluster: 67, component: QE_2017_001815_333.15173_245.0\", \"cluster: 68, component: QE_2017_001816_333.15204_235.0\", \"cluster: 68, component: QE_2017_001816_333.15204_235.0\"], \"type\": \"scatter\", \"uid\": \"231b1738-bb36-42f9-af19-e15072155009\", \"x\": [1265.0, 1265.0, 1275.0, 1275.0], \"xaxis\": \"x\", \"y\": [0.0, 0.8461538461538461, 0.8461538461538461, 0.0], \"yaxis\": \"y\"}, {\"hoverinfo\": \"text\", \"marker\": {\"color\": \"rgb(0,116,217)\"}, \"mode\": \"lines\", \"text\": [\"cluster: 69, component: QE_2017_001814_194.1174_244.0\", \"cluster: 69, component: QE_2017_001814_194.1174_244.0\", \"cluster: 70, component: QE_2017_001816_194.11746_133.0\", \"cluster: 70, component: QE_2017_001816_194.11746_133.0\"], \"type\": \"scatter\", \"uid\": \"c63b9f4b-7c32-4ca7-8951-b54a6268a671\", \"x\": [1285.0, 1285.0, 1295.0, 1295.0], \"xaxis\": \"x\", \"y\": [0.0, 0.7142857142857143, 0.7142857142857143, 0.0], \"yaxis\": \"y\"}, {\"hoverinfo\": \"text\", \"marker\": {\"color\": \"rgb(255,220,0)\"}, \"mode\": \"lines\", \"text\": [\"cluster: 71, component: QE_2017_001814_320.29471_529.0\", \"cluster: 71, component: QE_2017_001814_320.29471_529.0\", \"cluster: 71, component: QE_2017_001815_320.29486_538.0\", \"cluster: 71, component: QE_2017_001815_320.29486_538.0\"], \"type\": \"scatter\", \"uid\": \"3ecdacfd-a0be-4e41-ac64-af8fe1c5f3d1\", \"x\": [1335.0, 1335.0, 1345.0, 1345.0], \"xaxis\": \"x\", \"y\": [0.0, 0.4444444444444444, 0.4444444444444444, 0.0], \"yaxis\": \"y\"}, {\"hoverinfo\": \"text\", \"marker\": {\"color\": \"rgb(255,220,0)\"}, \"mode\": \"lines\", \"text\": [\"cluster: 71, component: QE_2017_001814_320.29477_539.0\", \"cluster: 71, component: QE_2017_001814_320.29477_539.0\", null, null], \"type\": \"scatter\", \"uid\": \"4c6302f8-e246-4401-aa6a-4cb09ff51337\", \"x\": [1325.0, 1325.0, 1340.0, 1340.0], \"xaxis\": \"x\", \"y\": [0.0, 0.5833333333333334, 0.5833333333333334, 0.4444444444444444], \"yaxis\": \"y\"}, {\"hoverinfo\": \"text\", \"marker\": {\"color\": \"rgb(0,116,217)\"}, \"mode\": \"lines\", \"text\": [\"cluster: 72, component: QE_2017_001814_320.29468_638.0\", \"cluster: 72, component: QE_2017_001814_320.29468_638.0\", null, null], \"type\": \"scatter\", \"uid\": \"fabfc28f-6315-415d-b94c-f8d53ea0ad8e\", \"x\": [1315.0, 1315.0, 1332.5, 1332.5], \"xaxis\": \"x\", \"y\": [0.0, 0.7857142857142857, 0.7857142857142857, 0.5833333333333334], \"yaxis\": \"y\"}, {\"hoverinfo\": \"text\", \"marker\": {\"color\": \"rgb(0,116,217)\"}, \"mode\": \"lines\", \"text\": [\"cluster: 73, component: QE_2017_001816_320.29483_548.0\", \"cluster: 73, component: QE_2017_001816_320.29483_548.0\", null, null], \"type\": \"scatter\", \"uid\": \"817cffe1-07d1-4d7e-ba0e-af95add250a1\", \"x\": [1305.0, 1305.0, 1323.75, 1323.75], \"xaxis\": \"x\", \"y\": [0.0, 0.9393939393939394, 0.9393939393939394, 0.7857142857142857], \"yaxis\": \"y\"}, {\"hoverinfo\": \"text\", \"marker\": {\"color\": \"rgb(0,116,217)\"}, \"mode\": \"lines\", \"text\": [null, null, null, null], \"type\": \"scatter\", \"uid\": \"bd0420df-117a-4c65-b62a-167d9a837ec8\", \"x\": [1290.0, 1290.0, 1314.375, 1314.375], \"xaxis\": \"x\", \"y\": [0.7142857142857143, 0.9523809523809523, 0.9523809523809523, 0.9393939393939394], \"yaxis\": \"y\"}, {\"hoverinfo\": \"text\", \"marker\": {\"color\": \"rgb(0,116,217)\"}, \"mode\": \"lines\", \"text\": [\"cluster: 74, component: QE_2017_001814_241.15384_47.0\", \"cluster: 74, component: QE_2017_001814_241.15384_47.0\", \"cluster: 75, component: QE_2017_001814_241.15446_57.0\", \"cluster: 75, component: QE_2017_001814_241.15446_57.0\"], \"type\": \"scatter\", \"uid\": \"28c709f8-8a55-4ccd-b63c-7167c9fb25e2\", \"x\": [1355.0, 1355.0, 1365.0, 1365.0], \"xaxis\": \"x\", \"y\": [0.0, 0.6363636363636364, 0.6363636363636364, 0.0], \"yaxis\": \"y\"}, {\"hoverinfo\": \"text\", \"marker\": {\"color\": \"rgb(0,116,217)\"}, \"mode\": \"lines\", \"text\": [\"cluster: 76, component: QE_2017_001815_332.25827_508.0\", \"cluster: 76, component: QE_2017_001815_332.25827_508.0\", \"cluster: 77, component: QE_2017_001816_332.25842_487.0\", \"cluster: 77, component: QE_2017_001816_332.25842_487.0\"], \"type\": \"scatter\", \"uid\": \"f734a232-453d-4a70-99d1-6e4342960c74\", \"x\": [1385.0, 1385.0, 1395.0, 1395.0], \"xaxis\": \"x\", \"y\": [0.0, 0.6829268292682927, 0.6829268292682927, 0.0], \"yaxis\": \"y\"}, {\"hoverinfo\": \"text\", \"marker\": {\"color\": \"rgb(0,116,217)\"}, \"mode\": \"lines\", \"text\": [\"cluster: 78, component: QE_2017_001814_332.25827_467.0\", \"cluster: 78, component: QE_2017_001814_332.25827_467.0\", null, null], \"type\": \"scatter\", \"uid\": \"bf3ff2c3-f880-4688-b7be-6f91c795522a\", \"x\": [1375.0, 1375.0, 1390.0, 1390.0], \"xaxis\": \"x\", \"y\": [0.0, 0.8, 0.8, 0.6829268292682927], \"yaxis\": \"y\"}, {\"hoverinfo\": \"text\", \"marker\": {\"color\": \"rgb(0,116,217)\"}, \"mode\": \"lines\", \"text\": [null, null, null, null], \"type\": \"scatter\", \"uid\": \"b66abfa6-4a97-442b-abc1-2991c60418fc\", \"x\": [1360.0, 1360.0, 1382.5, 1382.5], \"xaxis\": \"x\", \"y\": [0.6363636363636364, 0.9666666666666667, 0.9666666666666667, 0.8], \"yaxis\": \"y\"}, {\"hoverinfo\": \"text\", \"marker\": {\"color\": \"rgb(0,116,217)\"}, \"mode\": \"lines\", \"text\": [null, null, null, null], \"type\": \"scatter\", \"uid\": \"9b5ef1cf-5f30-4d88-9f28-836308c61b2b\", \"x\": [1302.1875, 1302.1875, 1371.25, 1371.25], \"xaxis\": \"x\", \"y\": [0.9523809523809523, 0.9772727272727273, 0.9772727272727273, 0.9666666666666667], \"yaxis\": \"y\"}, {\"hoverinfo\": \"text\", \"marker\": {\"color\": \"rgb(0,116,217)\"}, \"mode\": \"lines\", \"text\": [\"cluster: 79, component: QE_2017_001814_319.13638_117.0\", \"cluster: 79, component: QE_2017_001814_319.13638_117.0\", \"cluster: 80, component: QE_2017_001816_319.13614_143.0\", \"cluster: 80, component: QE_2017_001816_319.13614_143.0\"], \"type\": \"scatter\", \"uid\": \"10feeb61-5475-4fe3-8af4-eb1963c37209\", \"x\": [1405.0, 1405.0, 1415.0, 1415.0], \"xaxis\": \"x\", \"y\": [0.0, 0.75, 0.75, 0.0], \"yaxis\": \"y\"}, {\"hoverinfo\": \"text\", \"marker\": {\"color\": \"rgb(40,35,35)\"}, \"mode\": \"lines\", \"text\": [\"cluster: 81, component: QE_2017_001815_219.10139_360.0\", \"cluster: 81, component: QE_2017_001815_219.10139_360.0\", \"cluster: 81, component: QE_2017_001816_219.10153_382.0\", \"cluster: 81, component: QE_2017_001816_219.10153_382.0\"], \"type\": \"scatter\", \"uid\": \"a47b62d5-ef31-42db-8806-34becca136b2\", \"x\": [1445.0, 1445.0, 1455.0, 1455.0], \"xaxis\": \"x\", \"y\": [0.0, 0.38181818181818183, 0.38181818181818183, 0.0], \"yaxis\": \"y\"}, {\"hoverinfo\": \"text\", \"marker\": {\"color\": \"rgb(40,35,35)\"}, \"mode\": \"lines\", \"text\": [\"cluster: 81, component: QE_2017_001815_219.10159_438.0\", \"cluster: 81, component: QE_2017_001815_219.10159_438.0\", null, null], \"type\": \"scatter\", \"uid\": \"2355d43c-2925-4d64-af2a-24d211b1b498\", \"x\": [1435.0, 1435.0, 1450.0, 1450.0], \"xaxis\": \"x\", \"y\": [0.0, 0.4647887323943662, 0.4647887323943662, 0.38181818181818183], \"yaxis\": \"y\"}, {\"hoverinfo\": \"text\", \"marker\": {\"color\": \"rgb(0,116,217)\"}, \"mode\": \"lines\", \"text\": [\"cluster: 82, component: QE_2017_001814_251.09117_393.0\", \"cluster: 82, component: QE_2017_001814_251.09117_393.0\", null, null], \"type\": \"scatter\", \"uid\": \"3049eb15-ed0d-4faa-a370-142b280c52cc\", \"x\": [1425.0, 1425.0, 1442.5, 1442.5], \"xaxis\": \"x\", \"y\": [0.0, 0.6527777777777778, 0.6527777777777778, 0.4647887323943662], \"yaxis\": \"y\"}, {\"hoverinfo\": \"text\", \"marker\": {\"color\": \"rgb(61,153,112)\"}, \"mode\": \"lines\", \"text\": [\"cluster: 83, component: QE_2017_001814_291.1442_241.0\", \"cluster: 83, component: QE_2017_001814_291.1442_241.0\", \"cluster: 83, component: QE_2017_001816_291.14493_243.0\", \"cluster: 83, component: QE_2017_001816_291.14493_243.0\"], \"type\": \"scatter\", \"uid\": \"3c97be12-f5df-47ee-9270-cb4bd1e8f9d2\", \"x\": [1465.0, 1465.0, 1475.0, 1475.0], \"xaxis\": \"x\", \"y\": [0.0, 0.37037037037037035, 0.37037037037037035, 0.0], \"yaxis\": \"y\"}, {\"hoverinfo\": \"text\", \"marker\": {\"color\": \"rgb(61,153,112)\"}, \"mode\": \"lines\", \"text\": [\"cluster: 83, component: QE_2017_001815_273.13425_199.0\", \"cluster: 83, component: QE_2017_001815_273.13425_199.0\", \"cluster: 83, component: QE_2017_001815_273.13434_243.0\", \"cluster: 83, component: QE_2017_001815_273.13434_243.0\"], \"type\": \"scatter\", \"uid\": \"6e2503b9-92dd-499c-8cc1-9714ff3760a5\", \"x\": [1495.0, 1495.0, 1505.0, 1505.0], \"xaxis\": \"x\", \"y\": [0.0, 0.3333333333333333, 0.3333333333333333, 0.0], \"yaxis\": \"y\"}, {\"hoverinfo\": \"text\", \"marker\": {\"color\": \"rgb(61,153,112)\"}, \"mode\": \"lines\", \"text\": [\"cluster: 83, component: QE_2017_001816_291.14499_200.0\", \"cluster: 83, component: QE_2017_001816_291.14499_200.0\", null, null], \"type\": \"scatter\", \"uid\": \"9608a52f-ba47-4a23-a30a-cab644ec51ef\", \"x\": [1485.0, 1485.0, 1500.0, 1500.0], \"xaxis\": \"x\", \"y\": [0.0, 0.41935483870967744, 0.41935483870967744, 0.3333333333333333], \"yaxis\": \"y\"}, {\"hoverinfo\": \"text\", \"marker\": {\"color\": \"rgb(61,153,112)\"}, \"mode\": \"lines\", \"text\": [null, null, null, null], \"type\": \"scatter\", \"uid\": \"7170ba61-54c4-4857-9c38-bf4504231584\", \"x\": [1470.0, 1470.0, 1492.5, 1492.5], \"xaxis\": \"x\", \"y\": [0.37037037037037035, 0.5161290322580645, 0.5161290322580645, 0.41935483870967744], \"yaxis\": \"y\"}, {\"hoverinfo\": \"text\", \"marker\": {\"color\": \"rgb(255,65,54)\"}, \"mode\": \"lines\", \"text\": [\"cluster: 84, component: QE_2017_001815_235.14398_226.0\", \"cluster: 84, component: QE_2017_001815_235.14398_226.0\", \"cluster: 84, component: QE_2017_001816_235.14397_183.0\", \"cluster: 84, component: QE_2017_001816_235.14397_183.0\"], \"type\": \"scatter\", \"uid\": \"552f6683-3294-43ad-a1c2-d75a6d828d96\", \"x\": [1525.0, 1525.0, 1535.0, 1535.0], \"xaxis\": \"x\", \"y\": [0.0, 0.5263157894736842, 0.5263157894736842, 0.0], \"yaxis\": \"y\"}, {\"hoverinfo\": \"text\", \"marker\": {\"color\": \"rgb(0,116,217)\"}, \"mode\": \"lines\", \"text\": [\"cluster: 85, component: QE_2017_001815_251.13873_202.0\", \"cluster: 85, component: QE_2017_001815_251.13873_202.0\", null, null], \"type\": \"scatter\", \"uid\": \"5abe2fb0-b1cb-417f-9d21-d099d07c3854\", \"x\": [1515.0, 1515.0, 1530.0, 1530.0], \"xaxis\": \"x\", \"y\": [0.0, 0.8636363636363636, 0.8636363636363636, 0.5263157894736842], \"yaxis\": \"y\"}, {\"hoverinfo\": \"text\", \"marker\": {\"color\": \"rgb(0,116,217)\"}, \"mode\": \"lines\", \"text\": [null, null, null, null], \"type\": \"scatter\", \"uid\": \"b7deb902-914f-4113-9dd8-b06dff2bbc67\", \"x\": [1481.25, 1481.25, 1522.5, 1522.5], \"xaxis\": \"x\", \"y\": [0.5161290322580645, 0.9166666666666666, 0.9166666666666666, 0.8636363636363636], \"yaxis\": \"y\"}, {\"hoverinfo\": \"text\", \"marker\": {\"color\": \"rgb(0,116,217)\"}, \"mode\": \"lines\", \"text\": [null, null, null, null], \"type\": \"scatter\", \"uid\": \"3fb249f1-d3e5-4d90-92f0-ad731c4eaabd\", \"x\": [1433.75, 1433.75, 1501.875, 1501.875], \"xaxis\": \"x\", \"y\": [0.6527777777777778, 0.9891304347826086, 0.9891304347826086, 0.9166666666666666], \"yaxis\": \"y\"}, {\"hoverinfo\": \"text\", \"marker\": {\"color\": \"rgb(35,205,205)\"}, \"mode\": \"lines\", \"text\": [\"cluster: 86, component: QE_2017_001814_250.10149_516.0\", \"cluster: 86, component: QE_2017_001814_250.10149_516.0\", \"cluster: 86, component: QE_2017_001815_222.07033_315.0\", \"cluster: 86, component: QE_2017_001815_222.07033_315.0\"], \"type\": \"scatter\", \"uid\": \"a81e492d-3fc6-4f81-821a-7ac2f0c79036\", \"x\": [1565.0, 1565.0, 1575.0, 1575.0], \"xaxis\": \"x\", \"y\": [0.0, 0.5081967213114754, 0.5081967213114754, 0.0], \"yaxis\": \"y\"}, {\"hoverinfo\": \"text\", \"marker\": {\"color\": \"rgb(0,116,217)\"}, \"mode\": \"lines\", \"text\": [\"cluster: 87, component: QE_2017_001816_268.59351_445.0\", \"cluster: 87, component: QE_2017_001816_268.59351_445.0\", null, null], \"type\": \"scatter\", \"uid\": \"24795bac-a546-4efc-bc44-bda11cce0350\", \"x\": [1555.0, 1555.0, 1570.0, 1570.0], \"xaxis\": \"x\", \"y\": [0.0, 0.6923076923076923, 0.6923076923076923, 0.5081967213114754], \"yaxis\": \"y\"}, {\"hoverinfo\": \"text\", \"marker\": {\"color\": \"rgb(133,20,75)\"}, \"mode\": \"lines\", \"text\": [\"cluster: 88, component: QE_2017_001814_247.05975_245.0\", \"cluster: 88, component: QE_2017_001814_247.05975_245.0\", \"cluster: 88, component: QE_2017_001815_247.0598_242.0\", \"cluster: 88, component: QE_2017_001815_247.0598_242.0\"], \"type\": \"scatter\", \"uid\": \"2b8097ba-9dac-4fb3-b87f-019a3bd6eb40\", \"x\": [1585.0, 1585.0, 1595.0, 1595.0], \"xaxis\": \"x\", \"y\": [0.0, 0.35294117647058826, 0.35294117647058826, 0.0], \"yaxis\": \"y\"}, {\"hoverinfo\": \"text\", \"marker\": {\"color\": \"rgb(0,116,217)\"}, \"mode\": \"lines\", \"text\": [\"cluster: 89, component: QE_2017_001815_212.03883_181.0\", \"cluster: 89, component: QE_2017_001815_212.03883_181.0\", \"cluster: 90, component: QE_2017_001815_214.56488_409.0\", \"cluster: 90, component: QE_2017_001815_214.56488_409.0\"], \"type\": \"scatter\", \"uid\": \"d8016126-931f-4807-bb61-cffc864cadfb\", \"x\": [1615.0, 1615.0, 1625.0, 1625.0], \"xaxis\": \"x\", \"y\": [0.0, 0.7777777777777778, 0.7777777777777778, 0.0], \"yaxis\": \"y\"}, {\"hoverinfo\": \"text\", \"marker\": {\"color\": \"rgb(0,116,217)\"}, \"mode\": \"lines\", \"text\": [\"cluster: 91, component: QE_2017_001816_219.04672_291.0\", \"cluster: 91, component: QE_2017_001816_219.04672_291.0\", null, null], \"type\": \"scatter\", \"uid\": \"7e43b627-1e4e-4909-8acc-d042bc7328d1\", \"x\": [1605.0, 1605.0, 1620.0, 1620.0], \"xaxis\": \"x\", \"y\": [0.0, 0.8125, 0.8125, 0.7777777777777778], \"yaxis\": \"y\"}, {\"hoverinfo\": \"text\", \"marker\": {\"color\": \"rgb(0,116,217)\"}, \"mode\": \"lines\", \"text\": [null, null, null, null], \"type\": \"scatter\", \"uid\": \"d4a33903-f9ab-4ddc-83d0-15a14fa3725d\", \"x\": [1590.0, 1590.0, 1612.5, 1612.5], \"xaxis\": \"x\", \"y\": [0.35294117647058826, 0.8571428571428571, 0.8571428571428571, 0.8125], \"yaxis\": \"y\"}, {\"hoverinfo\": \"text\", \"marker\": {\"color\": \"rgb(0,116,217)\"}, \"mode\": \"lines\", \"text\": [null, null, null, null], \"type\": \"scatter\", \"uid\": \"5bd96641-912d-49b6-a786-5d97a55e9a5d\", \"x\": [1562.5, 1562.5, 1601.25, 1601.25], \"xaxis\": \"x\", \"y\": [0.6923076923076923, 0.9178082191780822, 0.9178082191780822, 0.8571428571428571], \"yaxis\": \"y\"}, {\"hoverinfo\": \"text\", \"marker\": {\"color\": \"rgb(0,116,217)\"}, \"mode\": \"lines\", \"text\": [\"cluster: 92, component: QE_2017_001815_214.51021_60.0\", \"cluster: 92, component: QE_2017_001815_214.51021_60.0\", null, null], \"type\": \"scatter\", \"uid\": \"50cfe987-9710-4085-b1cb-079f7159aa5a\", \"x\": [1545.0, 1545.0, 1581.875, 1581.875], \"xaxis\": \"x\", \"y\": [0.0, 0.9534883720930233, 0.9534883720930233, 0.9178082191780822], \"yaxis\": \"y\"}, {\"hoverinfo\": \"text\", \"marker\": {\"color\": \"rgb(255,220,0)\"}, \"mode\": \"lines\", \"text\": [\"cluster: 93, component: QE_2017_001815_246.14465_137.0\", \"cluster: 93, component: QE_2017_001815_246.14465_137.0\", \"cluster: 93, component: QE_2017_001815_247.12865_158.0\", \"cluster: 93, component: QE_2017_001815_247.12865_158.0\"], \"type\": \"scatter\", \"uid\": \"daebe4dd-2146-4a5c-bb9d-d0d4fb3316b9\", \"x\": [1655.0, 1655.0, 1665.0, 1665.0], \"xaxis\": \"x\", \"y\": [0.0, 0.5, 0.5, 0.0], \"yaxis\": \"y\"}, {\"hoverinfo\": \"text\", \"marker\": {\"color\": \"rgb(40,35,35)\"}, \"mode\": \"lines\", \"text\": [\"cluster: 94, component: QE_2017_001814_260.16037_143.0\", \"cluster: 94, component: QE_2017_001814_260.16037_143.0\", \"cluster: 94, component: QE_2017_001816_260.16022_145.0\", \"cluster: 94, component: QE_2017_001816_260.16022_145.0\"], \"type\": \"scatter\", \"uid\": \"6f57de8f-c15f-4f13-b653-ba964948831b\", \"x\": [1675.0, 1675.0, 1685.0, 1685.0], \"xaxis\": \"x\", \"y\": [0.0, 0.2857142857142857, 0.2857142857142857, 0.0], \"yaxis\": \"y\"}, {\"hoverinfo\": \"text\", \"marker\": {\"color\": \"rgb(61,153,112)\"}, \"mode\": \"lines\", \"text\": [\"cluster: 95, component: QE_2017_001814_233.14948_126.0\", \"cluster: 95, component: QE_2017_001814_233.14948_126.0\", \"cluster: 95, component: QE_2017_001816_233.14955_129.0\", \"cluster: 95, component: QE_2017_001816_233.14955_129.0\"], \"type\": \"scatter\", \"uid\": \"94af2bd6-8e1e-4847-95f4-6aab35401380\", \"x\": [1705.0, 1705.0, 1715.0, 1715.0], \"xaxis\": \"x\", \"y\": [0.0, 0.2631578947368421, 0.2631578947368421, 0.0], \"yaxis\": \"y\"}, {\"hoverinfo\": \"text\", \"marker\": {\"color\": \"rgb(61,153,112)\"}, \"mode\": \"lines\", \"text\": [\"cluster: 95, component: QE_2017_001814_233.14957_152.0\", \"cluster: 95, component: QE_2017_001814_233.14957_152.0\", null, null], \"type\": \"scatter\", \"uid\": \"ba9abddf-53df-4980-b448-f4e10a5dcbc8\", \"x\": [1695.0, 1695.0, 1710.0, 1710.0], \"xaxis\": \"x\", \"y\": [0.0, 0.5416666666666666, 0.5416666666666666, 0.2631578947368421], \"yaxis\": \"y\"}, {\"hoverinfo\": \"text\", \"marker\": {\"color\": \"rgb(0,116,217)\"}, \"mode\": \"lines\", \"text\": [null, null, null, null], \"type\": \"scatter\", \"uid\": \"f27e5229-4c42-483a-84b7-01f68e4bce86\", \"x\": [1680.0, 1680.0, 1702.5, 1702.5], \"xaxis\": \"x\", \"y\": [0.2857142857142857, 0.8648648648648649, 0.8648648648648649, 0.5416666666666666], \"yaxis\": \"y\"}, {\"hoverinfo\": \"text\", \"marker\": {\"color\": \"rgb(0,116,217)\"}, \"mode\": \"lines\", \"text\": [null, null, null, null], \"type\": \"scatter\", \"uid\": \"7196db0e-8340-4913-aef3-bcc9b89f5934\", \"x\": [1660.0, 1660.0, 1691.25, 1691.25], \"xaxis\": \"x\", \"y\": [0.5, 0.9574468085106383, 0.9574468085106383, 0.8648648648648649], \"yaxis\": \"y\"}, {\"hoverinfo\": \"text\", \"marker\": {\"color\": \"rgb(0,116,217)\"}, \"mode\": \"lines\", \"text\": [\"cluster: 96, component: QE_2017_001816_132.04436_283.0\", \"cluster: 96, component: QE_2017_001816_132.04436_283.0\", null, null], \"type\": \"scatter\", \"uid\": \"3c66acef-c1ad-456a-bea7-d00351063361\", \"x\": [1645.0, 1645.0, 1675.625, 1675.625], \"xaxis\": \"x\", \"y\": [0.0, 0.98, 0.98, 0.9574468085106383], \"yaxis\": \"y\"}, {\"hoverinfo\": \"text\", \"marker\": {\"color\": \"rgb(0,116,217)\"}, \"mode\": \"lines\", \"text\": [\"cluster: 97, component: QE_2017_001815_260.16016_64.0\", \"cluster: 97, component: QE_2017_001815_260.16016_64.0\", null, null], \"type\": \"scatter\", \"uid\": \"6057e9aa-dc72-4730-abb1-3fa69ff53f75\", \"x\": [1635.0, 1635.0, 1660.3125, 1660.3125], \"xaxis\": \"x\", \"y\": [0.0, 0.9846153846153847, 0.9846153846153847, 0.98], \"yaxis\": \"y\"}, {\"hoverinfo\": \"text\", \"marker\": {\"color\": \"rgb(0,116,217)\"}, \"mode\": \"lines\", \"text\": [\"cluster: 98, component: QE_2017_001815_221.12837_99.0\", \"cluster: 98, component: QE_2017_001815_221.12837_99.0\", \"cluster: 99, component: QE_2017_001816_237.12325_171.0\", \"cluster: 99, component: QE_2017_001816_237.12325_171.0\"], \"type\": \"scatter\", \"uid\": \"26bd3fe7-3597-46a6-beaa-e17ac2698647\", \"x\": [1725.0, 1725.0, 1735.0, 1735.0], \"xaxis\": \"x\", \"y\": [0.0, 0.7142857142857143, 0.7142857142857143, 0.0], \"yaxis\": \"y\"}, {\"hoverinfo\": \"text\", \"marker\": {\"color\": \"rgb(0,116,217)\"}, \"mode\": \"lines\", \"text\": [\"cluster: 100, component: QE_2017_001814_237.12305_220.0\", \"cluster: 100, component: QE_2017_001814_237.12305_220.0\", \"cluster: 101, component: QE_2017_001816_237.12323_53.0\", \"cluster: 101, component: QE_2017_001816_237.12323_53.0\"], \"type\": \"scatter\", \"uid\": \"cccb2398-4790-4f8c-89c0-a9c736656cd7\", \"x\": [1745.0, 1745.0, 1755.0, 1755.0], \"xaxis\": \"x\", \"y\": [0.0, 0.9444444444444444, 0.9444444444444444, 0.0], \"yaxis\": \"y\"}, {\"hoverinfo\": \"text\", \"marker\": {\"color\": \"rgb(0,116,217)\"}, \"mode\": \"lines\", \"text\": [null, null, null, null], \"type\": \"scatter\", \"uid\": \"e73cdf1f-3e81-4298-806e-927943d12155\", \"x\": [1730.0, 1730.0, 1750.0, 1750.0], \"xaxis\": \"x\", \"y\": [0.7142857142857143, 0.9761904761904762, 0.9761904761904762, 0.9444444444444444], \"yaxis\": \"y\"}, {\"hoverinfo\": \"text\", \"marker\": {\"color\": \"rgb(255,65,54)\"}, \"mode\": \"lines\", \"text\": [\"cluster: 102, component: QE_2017_001814_229.15399_46.0\", \"cluster: 102, component: QE_2017_001814_229.15399_46.0\", \"cluster: 102, component: QE_2017_001816_229.15451_66.0\", \"cluster: 102, component: QE_2017_001816_229.15451_66.0\"], \"type\": \"scatter\", \"uid\": \"70b5900a-6e4b-4b73-8760-a8dad87bcecd\", \"x\": [1775.0, 1775.0, 1785.0, 1785.0], \"xaxis\": \"x\", \"y\": [0.0, 0.38461538461538464, 0.38461538461538464, 0.0], \"yaxis\": \"y\"}, {\"hoverinfo\": \"text\", \"marker\": {\"color\": \"rgb(0,116,217)\"}, \"mode\": \"lines\", \"text\": [\"cluster: 103, component: QE_2017_001816_229.15469_52.0\", \"cluster: 103, component: QE_2017_001816_229.15469_52.0\", null, null], \"type\": \"scatter\", \"uid\": \"948e88ff-45f2-4a16-8341-a8a8f42d6353\", \"x\": [1765.0, 1765.0, 1780.0, 1780.0], \"xaxis\": \"x\", \"y\": [0.0, 0.875, 0.875, 0.38461538461538464], \"yaxis\": \"y\"}, {\"hoverinfo\": \"text\", \"marker\": {\"color\": \"rgb(35,205,205)\"}, \"mode\": \"lines\", \"text\": [\"cluster: 104, component: QE_2017_001814_182.08116_51.0\", \"cluster: 104, component: QE_2017_001814_182.08116_51.0\", \"cluster: 104, component: QE_2017_001816_182.08116_55.0\", \"cluster: 104, component: QE_2017_001816_182.08116_55.0\"], \"type\": \"scatter\", \"uid\": \"ad05809e-3e9b-4fe8-9f7e-7450e53a3254\", \"x\": [1795.0, 1795.0, 1805.0, 1805.0], \"xaxis\": \"x\", \"y\": [0.0, 0.4375, 0.4375, 0.0], \"yaxis\": \"y\"}, {\"hoverinfo\": \"text\", \"marker\": {\"color\": \"rgb(133,20,75)\"}, \"mode\": \"lines\", \"text\": [\"cluster: 105, component: QE_2017_001815_194.04474_330.0\", \"cluster: 105, component: QE_2017_001815_194.04474_330.0\", \"cluster: 105, component: QE_2017_001816_212.05518_300.0\", \"cluster: 105, component: QE_2017_001816_212.05518_300.0\"], \"type\": \"scatter\", \"uid\": \"c8abdd3f-e9ea-45c8-855b-00a1e335ae06\", \"x\": [1815.0, 1815.0, 1825.0, 1825.0], \"xaxis\": \"x\", \"y\": [0.0, 0.5370370370370371, 0.5370370370370371, 0.0], \"yaxis\": \"y\"}, {\"hoverinfo\": \"text\", \"marker\": {\"color\": \"rgb(0,116,217)\"}, \"mode\": \"lines\", \"text\": [null, null, null, null], \"type\": \"scatter\", \"uid\": \"567f0bee-735d-42ae-9efb-e5bec8be12d4\", \"x\": [1800.0, 1800.0, 1820.0, 1820.0], \"xaxis\": \"x\", \"y\": [0.4375, 0.921875, 0.921875, 0.5370370370370371], \"yaxis\": \"y\"}, {\"hoverinfo\": \"text\", \"marker\": {\"color\": \"rgb(255,220,0)\"}, \"mode\": \"lines\", \"text\": [\"cluster: 106, component: QE_2017_001814_177.05418_236.0\", \"cluster: 106, component: QE_2017_001814_177.05418_236.0\", \"cluster: 106, component: QE_2017_001815_177.05444_307.0\", \"cluster: 106, component: QE_2017_001815_177.05444_307.0\"], \"type\": \"scatter\", \"uid\": \"dfe58b8b-f102-4f0b-a0a4-8335e9b69530\", \"x\": [1845.0, 1845.0, 1855.0, 1855.0], \"xaxis\": \"x\", \"y\": [0.0, 0.35, 0.35, 0.0], \"yaxis\": \"y\"}, {\"hoverinfo\": \"text\", \"marker\": {\"color\": \"rgb(255,220,0)\"}, \"mode\": \"lines\", \"text\": [\"cluster: 106, component: QE_2017_001816_177.05449_217.0\", \"cluster: 106, component: QE_2017_001816_177.05449_217.0\", null, null], \"type\": \"scatter\", \"uid\": \"448fe3b8-7277-4042-821c-64c191e86be5\", \"x\": [1835.0, 1835.0, 1850.0, 1850.0], \"xaxis\": \"x\", \"y\": [0.0, 0.391304347826087, 0.391304347826087, 0.35], \"yaxis\": \"y\"}, {\"hoverinfo\": \"text\", \"marker\": {\"color\": \"rgb(40,35,35)\"}, \"mode\": \"lines\", \"text\": [\"cluster: 107, component: QE_2017_001816_199.98769_294.0\", \"cluster: 107, component: QE_2017_001816_199.98769_294.0\", \"cluster: 107, component: QE_2017_001816_199.98776_304.0\", \"cluster: 107, component: QE_2017_001816_199.98776_304.0\"], \"type\": \"scatter\", \"uid\": \"a03c1eba-f4b4-4f05-87fb-93004af7c606\", \"x\": [1865.0, 1865.0, 1875.0, 1875.0], \"xaxis\": \"x\", \"y\": [0.0, 0.34146341463414637, 0.34146341463414637, 0.0], \"yaxis\": \"y\"}, {\"hoverinfo\": \"text\", \"marker\": {\"color\": \"rgb(40,35,35)\"}, \"mode\": \"lines\", \"text\": [\"cluster: 107, component: QE_2017_001814_199.98778_290.0\", \"cluster: 107, component: QE_2017_001814_199.98778_290.0\", \"cluster: 107, component: QE_2017_001815_199.98779_30.0\", \"cluster: 107, component: QE_2017_001815_199.98779_30.0\"], \"type\": \"scatter\", \"uid\": \"64c99d82-df3d-41ae-a771-16d7f218a923\", \"x\": [1885.0, 1885.0, 1895.0, 1895.0], \"xaxis\": \"x\", \"y\": [0.0, 0.3, 0.3, 0.0], \"yaxis\": \"y\"}, {\"hoverinfo\": \"text\", \"marker\": {\"color\": \"rgb(40,35,35)\"}, \"mode\": \"lines\", \"text\": [\"cluster: 107, component: QE_2017_001815_199.98772_326.0\", \"cluster: 107, component: QE_2017_001815_199.98772_326.0\", \"cluster: 107, component: QE_2017_001816_199.98781_313.0\", \"cluster: 107, component: QE_2017_001816_199.98781_313.0\"], \"type\": \"scatter\", \"uid\": \"2e46930e-2a15-4154-a0de-2408f0d36cdd\", \"x\": [1905.0, 1905.0, 1915.0, 1915.0], \"xaxis\": \"x\", \"y\": [0.0, 0.18181818181818182, 0.18181818181818182, 0.0], \"yaxis\": \"y\"}, {\"hoverinfo\": \"text\", \"marker\": {\"color\": \"rgb(40,35,35)\"}, \"mode\": \"lines\", \"text\": [\"cluster: 107, component: QE_2017_001816_199.98776_254.0\", \"cluster: 107, component: QE_2017_001816_199.98776_254.0\", \"cluster: 107, component: QE_2017_001816_199.98779_335.0\", \"cluster: 107, component: QE_2017_001816_199.98779_335.0\"], \"type\": \"scatter\", \"uid\": \"f0bfb459-3927-44ff-80ed-efc6a354bb82\", \"x\": [1935.0, 1935.0, 1945.0, 1945.0], \"xaxis\": \"x\", \"y\": [0.0, 0.25, 0.25, 0.0], \"yaxis\": \"y\"}, {\"hoverinfo\": \"text\", \"marker\": {\"color\": \"rgb(40,35,35)\"}, \"mode\": \"lines\", \"text\": [\"cluster: 107, component: QE_2017_001816_199.98772_359.0\", \"cluster: 107, component: QE_2017_001816_199.98772_359.0\", null, null], \"type\": \"scatter\", \"uid\": \"e049032c-b76c-40a0-9e84-a19771a26b2a\", \"x\": [1925.0, 1925.0, 1940.0, 1940.0], \"xaxis\": \"x\", \"y\": [0.0, 0.3125, 0.3125, 0.25], \"yaxis\": \"y\"}, {\"hoverinfo\": \"text\", \"marker\": {\"color\": \"rgb(40,35,35)\"}, \"mode\": \"lines\", \"text\": [null, null, null, null], \"type\": \"scatter\", \"uid\": \"1b79f9a5-072c-4f38-a0b5-dc9c16c76bc4\", \"x\": [1910.0, 1910.0, 1932.5, 1932.5], \"xaxis\": \"x\", \"y\": [0.18181818181818182, 0.36363636363636365, 0.36363636363636365, 0.3125], \"yaxis\": \"y\"}, {\"hoverinfo\": \"text\", \"marker\": {\"color\": \"rgb(40,35,35)\"}, \"mode\": \"lines\", \"text\": [null, null, null, null], \"type\": \"scatter\", \"uid\": \"11873e5b-77d0-487a-a03c-d58ac4f982fd\", \"x\": [1890.0, 1890.0, 1921.25, 1921.25], \"xaxis\": \"x\", \"y\": [0.3, 0.42424242424242425, 0.42424242424242425, 0.36363636363636365], \"yaxis\": \"y\"}, {\"hoverinfo\": \"text\", \"marker\": {\"color\": \"rgb(40,35,35)\"}, \"mode\": \"lines\", \"text\": [null, null, null, null], \"type\": \"scatter\", \"uid\": \"ff619d44-3c5c-4412-b107-8251ee78f6df\", \"x\": [1870.0, 1870.0, 1905.625, 1905.625], \"xaxis\": \"x\", \"y\": [0.34146341463414637, 0.47368421052631576, 0.47368421052631576, 0.42424242424242425], \"yaxis\": \"y\"}, {\"hoverinfo\": \"text\", \"marker\": {\"color\": \"rgb(0,116,217)\"}, \"mode\": \"lines\", \"text\": [null, null, null, null], \"type\": \"scatter\", \"uid\": \"86912212-6bd8-4f74-9550-a466ef738eab\", \"x\": [1842.5, 1842.5, 1887.8125, 1887.8125], \"xaxis\": \"x\", \"y\": [0.391304347826087, 0.8214285714285714, 0.8214285714285714, 0.47368421052631576], \"yaxis\": \"y\"}, {\"hoverinfo\": \"text\", \"marker\": {\"color\": \"rgb(0,116,217)\"}, \"mode\": \"lines\", \"text\": [\"cluster: 108, component: QE_2017_001815_463.12268_358.0\", \"cluster: 108, component: QE_2017_001815_463.12268_358.0\", \"cluster: 109, component: QE_2017_001815_625.17633_345.0\", \"cluster: 109, component: QE_2017_001815_625.17633_345.0\"], \"type\": \"scatter\", \"uid\": \"dda5fa07-016f-4e15-be9b-5dd5729bf9eb\", \"x\": [1975.0, 1975.0, 1985.0, 1985.0], \"xaxis\": \"x\", \"y\": [0.0, 0.6774193548387096, 0.6774193548387096, 0.0], \"yaxis\": \"y\"}, {\"hoverinfo\": \"text\", \"marker\": {\"color\": \"rgb(0,116,217)\"}, \"mode\": \"lines\", \"text\": [\"cluster: 110, component: QE_2017_001815_595.16559_315.0\", \"cluster: 110, component: QE_2017_001815_595.16559_315.0\", null, null], \"type\": \"scatter\", \"uid\": \"fdeef6c0-d170-43b4-afca-bd7a79b1a423\", \"x\": [1965.0, 1965.0, 1980.0, 1980.0], \"xaxis\": \"x\", \"y\": [0.0, 0.8947368421052632, 0.8947368421052632, 0.6774193548387096], \"yaxis\": \"y\"}, {\"hoverinfo\": \"text\", \"marker\": {\"color\": \"rgb(0,116,217)\"}, \"mode\": \"lines\", \"text\": [\"cluster: 111, component: QE_2017_001815_141.0508_33.0\", \"cluster: 111, component: QE_2017_001815_141.0508_33.0\", \"cluster: 112, component: QE_2017_001815_265.01532_33.0\", \"cluster: 112, component: QE_2017_001815_265.01532_33.0\"], \"type\": \"scatter\", \"uid\": \"0ba2f81a-615d-48c2-837e-96f1ed41e02b\", \"x\": [1995.0, 1995.0, 2005.0, 2005.0], \"xaxis\": \"x\", \"y\": [0.0, 1.0, 1.0, 0.0], \"yaxis\": \"y\"}, {\"hoverinfo\": \"text\", \"marker\": {\"color\": \"rgb(0,116,217)\"}, \"mode\": \"lines\", \"text\": [null, null, null, null], \"type\": \"scatter\", \"uid\": \"997f7054-2959-430d-8922-aed32738d7bf\", \"x\": [1972.5, 1972.5, 2000.0, 2000.0], \"xaxis\": \"x\", \"y\": [0.8947368421052632, 1.0, 1.0, 1.0], \"yaxis\": \"y\"}, {\"hoverinfo\": \"text\", \"marker\": {\"color\": \"rgb(0,116,217)\"}, \"mode\": \"lines\", \"text\": [\"cluster: 113, component: QE_2017_001815_797.51746_866.0\", \"cluster: 113, component: QE_2017_001815_797.51746_866.0\", null, null], \"type\": \"scatter\", \"uid\": \"0813b1a0-0379-4bb1-97c5-2ce71ff944cd\", \"x\": [1955.0, 1955.0, 1986.25, 1986.25], \"xaxis\": \"x\", \"y\": [0.0, 1.0, 1.0, 1.0], \"yaxis\": \"y\"}, {\"hoverinfo\": \"text\", \"marker\": {\"color\": \"rgb(0,116,217)\"}, \"mode\": \"lines\", \"text\": [null, null, null, null], \"type\": \"scatter\", \"uid\": \"04414b54-b483-423e-9dc9-5abef8285bc1\", \"x\": [1865.15625, 1865.15625, 1970.625, 1970.625], \"xaxis\": \"x\", \"y\": [0.8214285714285714, 1.0, 1.0, 1.0], \"yaxis\": \"y\"}, {\"hoverinfo\": \"text\", \"marker\": {\"color\": \"rgb(0,116,217)\"}, \"mode\": \"lines\", \"text\": [null, null, null, null], \"type\": \"scatter\", \"uid\": \"b675180e-f583-4aa1-8ed4-145575db1ace\", \"x\": [1810.0, 1810.0, 1917.890625, 1917.890625], \"xaxis\": \"x\", \"y\": [0.921875, 1.0, 1.0, 1.0], \"yaxis\": \"y\"}, {\"hoverinfo\": \"text\", \"marker\": {\"color\": \"rgb(0,116,217)\"}, \"mode\": \"lines\", \"text\": [null, null, null, null], \"type\": \"scatter\", \"uid\": \"1ac659de-0a2b-4449-9816-cdfd3be4623d\", \"x\": [1772.5, 1772.5, 1863.9453125, 1863.9453125], \"xaxis\": \"x\", \"y\": [0.875, 1.0, 1.0, 1.0], \"yaxis\": \"y\"}, {\"hoverinfo\": \"text\", \"marker\": {\"color\": \"rgb(0,116,217)\"}, \"mode\": \"lines\", \"text\": [null, null, null, null], \"type\": \"scatter\", \"uid\": \"287d739b-d949-4274-ae46-960f4cf20be1\", \"x\": [1740.0, 1740.0, 1818.22265625, 1818.22265625], \"xaxis\": \"x\", \"y\": [0.9761904761904762, 1.0, 1.0, 1.0], \"yaxis\": \"y\"}, {\"hoverinfo\": \"text\", \"marker\": {\"color\": \"rgb(0,116,217)\"}, \"mode\": \"lines\", \"text\": [null, null, null, null], \"type\": \"scatter\", \"uid\": \"9ade7596-61ee-40d8-bbdf-ca6437fe7d88\", \"x\": [1647.65625, 1647.65625, 1779.111328125, 1779.111328125], \"xaxis\": \"x\", \"y\": [0.9846153846153847, 1.0, 1.0, 1.0], \"yaxis\": \"y\"}, {\"hoverinfo\": \"text\", \"marker\": {\"color\": \"rgb(0,116,217)\"}, \"mode\": \"lines\", \"text\": [null, null, null, null], \"type\": \"scatter\", \"uid\": \"bcaca387-8773-41bd-a0ae-e1031072f6d1\", \"x\": [1563.4375, 1563.4375, 1713.3837890625, 1713.3837890625], \"xaxis\": \"x\", \"y\": [0.9534883720930233, 1.0, 1.0, 1.0], \"yaxis\": \"y\"}, {\"hoverinfo\": \"text\", \"marker\": {\"color\": \"rgb(0,116,217)\"}, \"mode\": \"lines\", \"text\": [null, null, null, null], \"type\": \"scatter\", \"uid\": \"aaa33d71-bd3a-4c37-a128-7d2e3e354793\", \"x\": [1467.8125, 1467.8125, 1638.41064453125, 1638.41064453125], \"xaxis\": \"x\", \"y\": [0.9891304347826086, 1.0, 1.0, 1.0], \"yaxis\": \"y\"}, {\"hoverinfo\": \"text\", \"marker\": {\"color\": \"rgb(0,116,217)\"}, \"mode\": \"lines\", \"text\": [null, null, null, null], \"type\": \"scatter\", \"uid\": \"f2ed0bc5-6028-4bfa-8186-2730ad92a1cb\", \"x\": [1410.0, 1410.0, 1553.111572265625, 1553.111572265625], \"xaxis\": \"x\", \"y\": [0.75, 1.0, 1.0, 1.0], \"yaxis\": \"y\"}, {\"hoverinfo\": \"text\", \"marker\": {\"color\": \"rgb(0,116,217)\"}, \"mode\": \"lines\", \"text\": [null, null, null, null], \"type\": \"scatter\", \"uid\": \"bbe407b3-517e-45bb-a52c-85b1739108aa\", \"x\": [1336.71875, 1336.71875, 1481.5557861328125, 1481.5557861328125], \"xaxis\": \"x\", \"y\": [0.9772727272727273, 1.0, 1.0, 1.0], \"yaxis\": \"y\"}, {\"hoverinfo\": \"text\", \"marker\": {\"color\": \"rgb(0,116,217)\"}, \"mode\": \"lines\", \"text\": [null, null, null, null], \"type\": \"scatter\", \"uid\": \"784b86ac-9ba0-43e1-aa1f-17d79f310f8a\", \"x\": [1270.0, 1270.0, 1409.1372680664062, 1409.1372680664062], \"xaxis\": \"x\", \"y\": [0.8461538461538461, 1.0, 1.0, 1.0], \"yaxis\": \"y\"}, {\"hoverinfo\": \"text\", \"marker\": {\"color\": \"rgb(0,116,217)\"}, \"mode\": \"lines\", \"text\": [null, null, null, null], \"type\": \"scatter\", \"uid\": \"2b97299a-bb34-470d-a2ad-76384084c5df\", \"x\": [1020.869140625, 1020.869140625, 1339.5686340332031, 1339.5686340332031], \"xaxis\": \"x\", \"y\": [0.9882352941176471, 1.0, 1.0, 1.0], \"yaxis\": \"y\"}, {\"hoverinfo\": \"text\", \"marker\": {\"color\": \"rgb(0,116,217)\"}, \"mode\": \"lines\", \"text\": [null, null, null, null], \"type\": \"scatter\", \"uid\": \"188dbb0c-f099-4904-8465-30a3904c6868\", \"x\": [734.912109375, 734.912109375, 1180.2188873291016, 1180.2188873291016], \"xaxis\": \"x\", \"y\": [0.9696969696969697, 1.0, 1.0, 1.0], \"yaxis\": \"y\"}, {\"hoverinfo\": \"text\", \"marker\": {\"color\": \"rgb(0,116,217)\"}, \"mode\": \"lines\", \"text\": [null, null, null, null], \"type\": \"scatter\", \"uid\": \"a2ef48bb-de3a-4d73-804f-2fb1828026ba\", \"x\": [619.6875, 619.6875, 957.5654983520508, 957.5654983520508], \"xaxis\": \"x\", \"y\": [0.9814814814814815, 1.0, 1.0, 1.0], \"yaxis\": \"y\"}, {\"hoverinfo\": \"text\", \"marker\": {\"color\": \"rgb(0,116,217)\"}, \"mode\": \"lines\", \"text\": [null, null, null, null], \"type\": \"scatter\", \"uid\": \"e467ad8e-9765-4a04-9f6c-a9174900f8d2\", \"x\": [521.875, 521.875, 788.6264991760254, 788.6264991760254], \"xaxis\": \"x\", \"y\": [0.9857142857142858, 1.0, 1.0, 1.0], \"yaxis\": \"y\"}, {\"hoverinfo\": \"text\", \"marker\": {\"color\": \"rgb(0,116,217)\"}, \"mode\": \"lines\", \"text\": [null, null, null, null], \"type\": \"scatter\", \"uid\": \"46d0cfc8-a36d-4bb6-ab2f-f59f8bedfd06\", \"x\": [221.85302734375, 221.85302734375, 655.2507495880127, 655.2507495880127], \"xaxis\": \"x\", \"y\": [0.9625, 1.0, 1.0, 1.0], \"yaxis\": \"y\"}],\n",
       "                        {\"autosize\": false, \"height\": 700, \"hovermode\": \"closest\", \"margin\": {\"b\": 372}, \"showlegend\": false, \"title\": {\"text\": \"Component clusters. method = jaccard, cutoff = 0.6, threshold = 0.0008\"}, \"width\": 800, \"xaxis\": {\"mirror\": \"allticks\", \"rangemode\": \"tozero\", \"showgrid\": false, \"showline\": true, \"showticklabels\": true, \"tickmode\": \"array\", \"ticks\": \"outside\", \"ticktext\": [\"QE_2017_001816_613.4826_738.0\", \"QE_2017_001816_613.48218_838.0\", \"QE_2017_001816_792.56232_718.0\", \"QE_2017_001814_596.30963_602.0\", \"QE_2017_001815_792.5625_866.0\", \"QE_2017_001815_571.4292_870.0\", \"QE_2017_001814_497.31033_643.0\", \"QE_2017_001815_507.27145_607.0\", \"QE_2017_001816_571.47186_717.0\", \"QE_2017_001814_335.25772_725.0\", \"QE_2017_001814_335.25784_608.0\", \"QE_2017_001816_335.25772_723.0\", \"QE_2017_001814_335.25784_628.0\", \"QE_2017_001815_335.25745_642.0\", \"QE_2017_001814_261.22073_634.0\", \"QE_2017_001815_335.25784_587.0\", \"QE_2017_001814_353.26889_609.0\", \"QE_2017_001815_353.26862_642.0\", \"QE_2017_001815_261.22073_643.0\", \"QE_2017_001814_335.25772_638.0\", \"QE_2017_001815_335.2579_601.0\", \"QE_2017_001816_272.25824_582.0\", \"QE_2017_001814_338.34146_850.0\", \"QE_2017_001815_244.19048_762.0\", \"QE_2017_001814_353.26868_633.0\", \"QE_2017_001816_353.26892_600.0\", \"QE_2017_001814_279.23157_719.0\", \"QE_2017_001815_278.24762_684.0\", \"QE_2017_001816_435.25037_666.0\", \"QE_2017_001816_337.27338_826.0\", \"QE_2017_001816_337.27341_632.0\", \"QE_2017_001814_618.42633_695.0\", \"QE_2017_001816_583.41382_731.0\", \"QE_2017_001816_599.40948_660.0\", \"QE_2017_001814_601.42426_706.0\", \"QE_2017_001816_599.40869_793.0\", \"QE_2017_001815_618.42773_646.0\", \"QE_2017_001816_618.427_682.0\", \"QE_2017_001815_568.42627_841.0\", \"QE_2017_001814_565.4035_722.0\", \"QE_2017_001814_583.41406_682.0\", \"QE_2017_001815_583.41406_707.0\", \"QE_2017_001814_601.42334_783.0\", \"QE_2017_001815_583.41388_735.0\", \"QE_2017_001815_583.41418_647.0\", \"QE_2017_001814_194.04424_237.0\", \"QE_2017_001815_194.11751_218.0\", \"QE_2017_001815_194.04469_299.0\", \"QE_2017_001815_194.04471_314.0\", \"QE_2017_001815_212.05513_328.0\", \"QE_2017_001815_212.05505_267.0\", \"QE_2017_001814_226.07077_397.0\", \"QE_2017_001815_194.04471_397.0\", \"QE_2017_001816_533.15442_247.0\", \"QE_2017_001816_533.15466_222.0\", \"QE_2017_001815_533.1546_207.0\", \"QE_2017_001816_533.1546_271.0\", \"QE_2017_001814_347.09097_122.0\", \"QE_2017_001815_347.09067_204.0\", \"QE_2017_001815_268.10373_58.0\", \"QE_2017_001816_269.16055_60.0\", \"QE_2017_001815_364.34189_705.0\", \"QE_2017_001816_408.36832_704.0\", \"QE_2017_001816_466.40979_731.0\", \"QE_2017_001815_408.36853_717.0\", \"QE_2017_001815_482.40488_739.0\", \"QE_2017_001814_364.34244_761.0\", \"QE_2017_001815_364.34253_752.0\", \"QE_2017_001816_421.35226_731.0\", \"QE_2017_001816_424.36325_712.0\", \"QE_2017_001816_463.12311_410.0\", \"QE_2017_001814_611.15997_285.0\", \"QE_2017_001815_611.16046_309.0\", \"QE_2017_001814_339.10742_366.0\", \"QE_2017_001816_339.10733_298.0\", \"QE_2017_001814_498.2543_475.0\", \"QE_2017_001815_340.16019_314.0\", \"QE_2017_001815_231.04973_403.0\", \"QE_2017_001815_231.04968_315.0\", \"QE_2017_001814_231.04971_516.0\", \"QE_2017_001815_231.04971_369.0\", \"QE_2017_001815_314.14453_76.0\", \"QE_2017_001816_314.14462_79.0\", \"QE_2017_001816_310.14957_134.0\", \"QE_2017_001816_342.17584_257.0\", \"QE_2017_001814_241.15466_73.0\", \"QE_2017_001815_507.18192_178.0\", \"QE_2017_001814_483.27118_651.0\", \"QE_2017_001816_338.26062_643.0\", \"QE_2017_001814_320.29456_577.0\", \"QE_2017_001815_320.29471_563.0\", \"QE_2017_001815_129.12741_349.0\", \"QE_2017_001815_171.14914_420.0\", \"QE_2017_001815_201.16367_442.0\", \"QE_2017_001816_201.16362_435.0\", \"QE_2017_001815_209.15352_479.0\", \"QE_2017_001815_209.15349_295.0\", \"QE_2017_001815_209.1535_312.0\", \"QE_2017_001816_209.15344_311.0\", \"QE_2017_001814_243.15892_533.0\", \"QE_2017_001814_281.1745_492.0\", \"QE_2017_001814_293.2106_579.0\", \"QE_2017_001815_227.16408_344.0\", \"QE_2017_001815_283.19009_564.0\", \"QE_2017_001815_207.13785_297.0\", \"QE_2017_001814_227.1275_293.0\", \"QE_2017_001816_227.12766_295.0\", \"QE_2017_001815_181.1221_767.0\", \"QE_2017_001816_181.12199_794.0\", \"QE_2017_001816_211.16916_405.0\", \"QE_2017_001815_209.0807_405.0\", \"QE_2017_001814_211.16902_440.0\", \"QE_2017_001815_211.16913_450.0\", \"QE_2017_001815_215.164_550.0\", \"QE_2017_001816_215.16411_482.0\", \"QE_2017_001816_137.09584_445.0\", \"QE_2017_001814_219.17416_517.0\", \"QE_2017_001815_219.17421_516.0\", \"QE_2017_001816_219.17438_502.0\", \"QE_2017_001814_219.17401_452.0\", \"QE_2017_001814_219.17409_442.0\", \"QE_2017_001814_191.14291_389.0\", \"QE_2017_001815_191.14287_312.0\", \"QE_2017_001816_191.14291_404.0\", \"QE_2017_001814_209.08058_363.0\", \"QE_2017_001816_207.13779_561.0\", \"QE_2017_001815_333.15173_245.0\", \"QE_2017_001816_333.15204_235.0\", \"QE_2017_001814_194.1174_244.0\", \"QE_2017_001816_194.11746_133.0\", \"QE_2017_001816_320.29483_548.0\", \"QE_2017_001814_320.29468_638.0\", \"QE_2017_001814_320.29477_539.0\", \"QE_2017_001814_320.29471_529.0\", \"QE_2017_001815_320.29486_538.0\", \"QE_2017_001814_241.15384_47.0\", \"QE_2017_001814_241.15446_57.0\", \"QE_2017_001814_332.25827_467.0\", \"QE_2017_001815_332.25827_508.0\", \"QE_2017_001816_332.25842_487.0\", \"QE_2017_001814_319.13638_117.0\", \"QE_2017_001816_319.13614_143.0\", \"QE_2017_001814_251.09117_393.0\", \"QE_2017_001815_219.10159_438.0\", \"QE_2017_001815_219.10139_360.0\", \"QE_2017_001816_219.10153_382.0\", \"QE_2017_001814_291.1442_241.0\", \"QE_2017_001816_291.14493_243.0\", \"QE_2017_001816_291.14499_200.0\", \"QE_2017_001815_273.13425_199.0\", \"QE_2017_001815_273.13434_243.0\", \"QE_2017_001815_251.13873_202.0\", \"QE_2017_001815_235.14398_226.0\", \"QE_2017_001816_235.14397_183.0\", \"QE_2017_001815_214.51021_60.0\", \"QE_2017_001816_268.59351_445.0\", \"QE_2017_001814_250.10149_516.0\", \"QE_2017_001815_222.07033_315.0\", \"QE_2017_001814_247.05975_245.0\", \"QE_2017_001815_247.0598_242.0\", \"QE_2017_001816_219.04672_291.0\", \"QE_2017_001815_212.03883_181.0\", \"QE_2017_001815_214.56488_409.0\", \"QE_2017_001815_260.16016_64.0\", \"QE_2017_001816_132.04436_283.0\", \"QE_2017_001815_246.14465_137.0\", \"QE_2017_001815_247.12865_158.0\", \"QE_2017_001814_260.16037_143.0\", \"QE_2017_001816_260.16022_145.0\", \"QE_2017_001814_233.14957_152.0\", \"QE_2017_001814_233.14948_126.0\", \"QE_2017_001816_233.14955_129.0\", \"QE_2017_001815_221.12837_99.0\", \"QE_2017_001816_237.12325_171.0\", \"QE_2017_001814_237.12305_220.0\", \"QE_2017_001816_237.12323_53.0\", \"QE_2017_001816_229.15469_52.0\", \"QE_2017_001814_229.15399_46.0\", \"QE_2017_001816_229.15451_66.0\", \"QE_2017_001814_182.08116_51.0\", \"QE_2017_001816_182.08116_55.0\", \"QE_2017_001815_194.04474_330.0\", \"QE_2017_001816_212.05518_300.0\", \"QE_2017_001816_177.05449_217.0\", \"QE_2017_001814_177.05418_236.0\", \"QE_2017_001815_177.05444_307.0\", \"QE_2017_001816_199.98769_294.0\", \"QE_2017_001816_199.98776_304.0\", \"QE_2017_001814_199.98778_290.0\", \"QE_2017_001815_199.98779_30.0\", \"QE_2017_001815_199.98772_326.0\", \"QE_2017_001816_199.98781_313.0\", \"QE_2017_001816_199.98772_359.0\", \"QE_2017_001816_199.98776_254.0\", \"QE_2017_001816_199.98779_335.0\", \"QE_2017_001815_797.51746_866.0\", \"QE_2017_001815_595.16559_315.0\", \"QE_2017_001815_463.12268_358.0\", \"QE_2017_001815_625.17633_345.0\", \"QE_2017_001815_141.0508_33.0\", \"QE_2017_001815_265.01532_33.0\"], \"tickvals\": [5.0, 15.0, 25.0, 35.0, 45.0, 55.0, 65.0, 75.0, 85.0, 95.0, 105.0, 115.0, 125.0, 135.0, 145.0, 155.0, 165.0, 175.0, 185.0, 195.0, 205.0, 215.0, 225.0, 235.0, 245.0, 255.0, 265.0, 275.0, 285.0, 295.0, 305.0, 315.0, 325.0, 335.0, 345.0, 355.0, 365.0, 375.0, 385.0, 395.0, 405.0, 415.0, 425.0, 435.0, 445.0, 455.0, 465.0, 475.0, 485.0, 495.0, 505.0, 515.0, 525.0, 535.0, 545.0, 555.0, 565.0, 575.0, 585.0, 595.0, 605.0, 615.0, 625.0, 635.0, 645.0, 655.0, 665.0, 675.0, 685.0, 695.0, 705.0, 715.0, 725.0, 735.0, 745.0, 755.0, 765.0, 775.0, 785.0, 795.0, 805.0, 815.0, 825.0, 835.0, 845.0, 855.0, 865.0, 875.0, 885.0, 895.0, 905.0, 915.0, 925.0, 935.0, 945.0, 955.0, 965.0, 975.0, 985.0, 995.0, 1005.0, 1015.0, 1025.0, 1035.0, 1045.0, 1055.0, 1065.0, 1075.0, 1085.0, 1095.0, 1105.0, 1115.0, 1125.0, 1135.0, 1145.0, 1155.0, 1165.0, 1175.0, 1185.0, 1195.0, 1205.0, 1215.0, 1225.0, 1235.0, 1245.0, 1255.0, 1265.0, 1275.0, 1285.0, 1295.0, 1305.0, 1315.0, 1325.0, 1335.0, 1345.0, 1355.0, 1365.0, 1375.0, 1385.0, 1395.0, 1405.0, 1415.0, 1425.0, 1435.0, 1445.0, 1455.0, 1465.0, 1475.0, 1485.0, 1495.0, 1505.0, 1515.0, 1525.0, 1535.0, 1545.0, 1555.0, 1565.0, 1575.0, 1585.0, 1595.0, 1605.0, 1615.0, 1625.0, 1635.0, 1645.0, 1655.0, 1665.0, 1675.0, 1685.0, 1695.0, 1705.0, 1715.0, 1725.0, 1735.0, 1745.0, 1755.0, 1765.0, 1775.0, 1785.0, 1795.0, 1805.0, 1815.0, 1825.0, 1835.0, 1845.0, 1855.0, 1865.0, 1875.0, 1885.0, 1895.0, 1905.0, 1915.0, 1925.0, 1935.0, 1945.0, 1955.0, 1965.0, 1975.0, 1985.0, 1995.0, 2005.0], \"title\": {\"text\": \"Components\"}, \"type\": \"linear\", \"zeroline\": false}, \"yaxis\": {\"mirror\": \"allticks\", \"rangemode\": \"tozero\", \"showgrid\": false, \"showline\": true, \"showticklabels\": true, \"ticks\": \"outside\", \"title\": {\"text\": \"Distance\"}, \"type\": \"linear\", \"zeroline\": false}},\n",
       "                        {\"showLink\": false, \"linkText\": \"Export to plot.ly\", \"plotlyServerURL\": \"https://plot.ly\"}\n",
       "                    )\n",
       "                };\n",
       "                });\n",
       "            </script>\n",
       "        </div>"
      ]
     },
     "metadata": {},
     "output_type": "display_data"
    }
   ],
   "source": [
    "# Make it a bit smaller this time\n",
    "iplot = tree.plot(width=800, height=700)\n",
    "\n",
    "# for visualising plot inline\n",
    "# You only need to set connected to True once per notebook,\n",
    "# but doing it multiple times won't hurt.\n",
    "plotly.offline.init_notebook_mode(connected=True)\n",
    "\n",
    "plotly.offline.iplot(iplot)"
   ]
  },
  {
   "cell_type": "markdown",
   "metadata": {},
   "source": [
    "Rolling over the leaf nodes with your mouse you'll be able to see which cluster each component belongs to, so you can then track it down in your results folder.\n",
    "\n",
    "The `plot` method is just a wrapper around the `dendrogram` function in `BioDendro.plot.dendrogram`.\n",
    "If you want to customise your plot e.g. with custom titles, you can do that there.\n",
    "\n",
    "The `dendrogram` function is a modified version of plotlys [`figure_factory.create_dendrogram`](https://plot.ly/python/dendrogram/) function.\n",
    "It is modified to reduce complexity, to handle text-rollover and to allow us to provide precomputed trees rather than having to recompute the tree each time (possibly yielding different trees and different clusters)."
   ]
  },
  {
   "cell_type": "code",
   "execution_count": 18,
   "metadata": {},
   "outputs": [
    {
     "data": {
      "application/vnd.plotly.v1+json": {
       "config": {
        "linkText": "Export to plot.ly",
        "plotlyServerURL": "https://plot.ly",
        "showLink": false
       },
       "data": [
        {
         "hoverinfo": "text",
         "marker": {
          "color": "rgb(61,153,112)"
         },
         "mode": "lines",
         "text": [
          "cluster: 1, component: QE_2017_001816_613.48218_838.0",
          "cluster: 1, component: QE_2017_001816_613.48218_838.0",
          "cluster: 1, component: QE_2017_001816_792.56232_718.0",
          "cluster: 1, component: QE_2017_001816_792.56232_718.0"
         ],
         "type": "scatter",
         "uid": "16a34e0f-8bf0-4d86-b1f5-d9ba92aac9da",
         "x": [
          15,
          15,
          25,
          25
         ],
         "xaxis": "x",
         "y": [
          0,
          0.5662650602409639,
          0.5662650602409639,
          0
         ],
         "yaxis": "y"
        },
        {
         "hoverinfo": "text",
         "marker": {
          "color": "rgb(0,116,217)"
         },
         "mode": "lines",
         "text": [
          "cluster: 2, component: QE_2017_001816_613.4826_738.0",
          "cluster: 2, component: QE_2017_001816_613.4826_738.0",
          null,
          null
         ],
         "type": "scatter",
         "uid": "0ba82f9a-16a0-4d27-8d36-220c2d599bba",
         "x": [
          5,
          5,
          20,
          20
         ],
         "xaxis": "x",
         "y": [
          0,
          0.676923076923077,
          0.676923076923077,
          0.5662650602409639
         ],
         "yaxis": "y"
        },
        {
         "hoverinfo": "text",
         "marker": {
          "color": "rgb(0,116,217)"
         },
         "mode": "lines",
         "text": [
          "cluster: 3, component: QE_2017_001814_596.30963_602.0",
          "cluster: 3, component: QE_2017_001814_596.30963_602.0",
          "cluster: 4, component: QE_2017_001815_792.5625_866.0",
          "cluster: 4, component: QE_2017_001815_792.5625_866.0"
         ],
         "type": "scatter",
         "uid": "0ad11e16-b343-4ba8-b1ce-1f07ed77392e",
         "x": [
          35,
          35,
          45,
          45
         ],
         "xaxis": "x",
         "y": [
          0,
          0.7142857142857143,
          0.7142857142857143,
          0
         ],
         "yaxis": "y"
        },
        {
         "hoverinfo": "text",
         "marker": {
          "color": "rgb(0,116,217)"
         },
         "mode": "lines",
         "text": [
          null,
          null,
          null,
          null
         ],
         "type": "scatter",
         "uid": "8dbb81a2-29f4-47c8-830f-f36868fdb008",
         "x": [
          12.5,
          12.5,
          40,
          40
         ],
         "xaxis": "x",
         "y": [
          0.676923076923077,
          0.7763157894736842,
          0.7763157894736842,
          0.7142857142857143
         ],
         "yaxis": "y"
        },
        {
         "hoverinfo": "text",
         "marker": {
          "color": "rgb(255,65,54)"
         },
         "mode": "lines",
         "text": [
          "cluster: 5, component: QE_2017_001814_335.25784_608.0",
          "cluster: 5, component: QE_2017_001814_335.25784_608.0",
          "cluster: 5, component: QE_2017_001816_335.25772_723.0",
          "cluster: 5, component: QE_2017_001816_335.25772_723.0"
         ],
         "type": "scatter",
         "uid": "3355afad-bbf5-4f26-9fc2-64e92ca0d501",
         "x": [
          105,
          105,
          115,
          115
         ],
         "xaxis": "x",
         "y": [
          0,
          0.26,
          0.26,
          0
         ],
         "yaxis": "y"
        },
        {
         "hoverinfo": "text",
         "marker": {
          "color": "rgb(255,65,54)"
         },
         "mode": "lines",
         "text": [
          "cluster: 5, component: QE_2017_001814_335.25772_725.0",
          "cluster: 5, component: QE_2017_001814_335.25772_725.0",
          null,
          null
         ],
         "type": "scatter",
         "uid": "8e60b35f-f1d8-41be-b306-b4434044715b",
         "x": [
          95,
          95,
          110,
          110
         ],
         "xaxis": "x",
         "y": [
          0,
          0.2830188679245283,
          0.2830188679245283,
          0.26
         ],
         "yaxis": "y"
        },
        {
         "hoverinfo": "text",
         "marker": {
          "color": "rgb(255,65,54)"
         },
         "mode": "lines",
         "text": [
          "cluster: 5, component: QE_2017_001814_335.25784_628.0",
          "cluster: 5, component: QE_2017_001814_335.25784_628.0",
          "cluster: 5, component: QE_2017_001815_335.25745_642.0",
          "cluster: 5, component: QE_2017_001815_335.25745_642.0"
         ],
         "type": "scatter",
         "uid": "2b1a450a-17a5-4d98-a0d4-9fbd46f96e72",
         "x": [
          125,
          125,
          135,
          135
         ],
         "xaxis": "x",
         "y": [
          0,
          0.2857142857142857,
          0.2857142857142857,
          0
         ],
         "yaxis": "y"
        },
        {
         "hoverinfo": "text",
         "marker": {
          "color": "rgb(255,65,54)"
         },
         "mode": "lines",
         "text": [
          null,
          null,
          null,
          null
         ],
         "type": "scatter",
         "uid": "8545612a-a409-409b-be21-1cb7829b0f17",
         "x": [
          102.5,
          102.5,
          130,
          130
         ],
         "xaxis": "x",
         "y": [
          0.2830188679245283,
          0.3389830508474576,
          0.3389830508474576,
          0.2857142857142857
         ],
         "yaxis": "y"
        },
        {
         "hoverinfo": "text",
         "marker": {
          "color": "rgb(255,65,54)"
         },
         "mode": "lines",
         "text": [
          "cluster: 5, component: QE_2017_001814_261.22073_634.0",
          "cluster: 5, component: QE_2017_001814_261.22073_634.0",
          "cluster: 5, component: QE_2017_001815_335.25784_587.0",
          "cluster: 5, component: QE_2017_001815_335.25784_587.0"
         ],
         "type": "scatter",
         "uid": "9bf05e19-4512-4515-8e50-64b9a194a877",
         "x": [
          145,
          145,
          155,
          155
         ],
         "xaxis": "x",
         "y": [
          0,
          0.375,
          0.375,
          0
         ],
         "yaxis": "y"
        },
        {
         "hoverinfo": "text",
         "marker": {
          "color": "rgb(255,65,54)"
         },
         "mode": "lines",
         "text": [
          null,
          null,
          null,
          null
         ],
         "type": "scatter",
         "uid": "e4a2b0db-670e-4463-9a79-6cb3bb84b1c2",
         "x": [
          116.25,
          116.25,
          150,
          150
         ],
         "xaxis": "x",
         "y": [
          0.3389830508474576,
          0.4117647058823529,
          0.4117647058823529,
          0.375
         ],
         "yaxis": "y"
        },
        {
         "hoverinfo": "text",
         "marker": {
          "color": "rgb(255,65,54)"
         },
         "mode": "lines",
         "text": [
          "cluster: 5, component: QE_2017_001814_353.26889_609.0",
          "cluster: 5, component: QE_2017_001814_353.26889_609.0",
          "cluster: 5, component: QE_2017_001815_353.26862_642.0",
          "cluster: 5, component: QE_2017_001815_353.26862_642.0"
         ],
         "type": "scatter",
         "uid": "3e447dd5-32b0-4e73-8c1c-47e9aafdce3b",
         "x": [
          165,
          165,
          175,
          175
         ],
         "xaxis": "x",
         "y": [
          0,
          0.27419354838709675,
          0.27419354838709675,
          0
         ],
         "yaxis": "y"
        },
        {
         "hoverinfo": "text",
         "marker": {
          "color": "rgb(255,65,54)"
         },
         "mode": "lines",
         "text": [
          "cluster: 5, component: QE_2017_001814_335.25772_638.0",
          "cluster: 5, component: QE_2017_001814_335.25772_638.0",
          "cluster: 5, component: QE_2017_001815_335.2579_601.0",
          "cluster: 5, component: QE_2017_001815_335.2579_601.0"
         ],
         "type": "scatter",
         "uid": "1fcec506-6a8b-4ced-9a52-17d9b9dd536f",
         "x": [
          195,
          195,
          205,
          205
         ],
         "xaxis": "x",
         "y": [
          0,
          0.29411764705882354,
          0.29411764705882354,
          0
         ],
         "yaxis": "y"
        },
        {
         "hoverinfo": "text",
         "marker": {
          "color": "rgb(255,65,54)"
         },
         "mode": "lines",
         "text": [
          "cluster: 5, component: QE_2017_001815_261.22073_643.0",
          "cluster: 5, component: QE_2017_001815_261.22073_643.0",
          null,
          null
         ],
         "type": "scatter",
         "uid": "062ab1e2-ddd4-45d2-8952-1dda05fcd8e0",
         "x": [
          185,
          185,
          200,
          200
         ],
         "xaxis": "x",
         "y": [
          0,
          0.38461538461538464,
          0.38461538461538464,
          0.29411764705882354
         ],
         "yaxis": "y"
        },
        {
         "hoverinfo": "text",
         "marker": {
          "color": "rgb(255,65,54)"
         },
         "mode": "lines",
         "text": [
          null,
          null,
          null,
          null
         ],
         "type": "scatter",
         "uid": "1d1d71cf-10da-4324-861f-0c89b2225348",
         "x": [
          170,
          170,
          192.5,
          192.5
         ],
         "xaxis": "x",
         "y": [
          0.27419354838709675,
          0.43333333333333335,
          0.43333333333333335,
          0.38461538461538464
         ],
         "yaxis": "y"
        },
        {
         "hoverinfo": "text",
         "marker": {
          "color": "rgb(255,65,54)"
         },
         "mode": "lines",
         "text": [
          null,
          null,
          null,
          null
         ],
         "type": "scatter",
         "uid": "9d519bee-e42b-49a5-a063-023322f70b92",
         "x": [
          133.125,
          133.125,
          181.25,
          181.25
         ],
         "xaxis": "x",
         "y": [
          0.4117647058823529,
          0.46153846153846156,
          0.46153846153846156,
          0.43333333333333335
         ],
         "yaxis": "y"
        },
        {
         "hoverinfo": "text",
         "marker": {
          "color": "rgb(255,65,54)"
         },
         "mode": "lines",
         "text": [
          "cluster: 5, component: QE_2017_001816_571.47186_717.0",
          "cluster: 5, component: QE_2017_001816_571.47186_717.0",
          null,
          null
         ],
         "type": "scatter",
         "uid": "ed91735f-403e-4bb4-a596-fef9a94af9e6",
         "x": [
          85,
          85,
          157.1875,
          157.1875
         ],
         "xaxis": "x",
         "y": [
          0,
          0.5538461538461539,
          0.5538461538461539,
          0.46153846153846156
         ],
         "yaxis": "y"
        },
        {
         "hoverinfo": "text",
         "marker": {
          "color": "rgb(255,65,54)"
         },
         "mode": "lines",
         "text": [
          "cluster: 5, component: QE_2017_001815_507.27145_607.0",
          "cluster: 5, component: QE_2017_001815_507.27145_607.0",
          null,
          null
         ],
         "type": "scatter",
         "uid": "f7c80057-05c6-4e1d-8299-9cb44bb5465e",
         "x": [
          75,
          75,
          121.09375,
          121.09375
         ],
         "xaxis": "x",
         "y": [
          0,
          0.5737704918032787,
          0.5737704918032787,
          0.5538461538461539
         ],
         "yaxis": "y"
        },
        {
         "hoverinfo": "text",
         "marker": {
          "color": "rgb(0,116,217)"
         },
         "mode": "lines",
         "text": [
          "cluster: 6, component: QE_2017_001814_497.31033_643.0",
          "cluster: 6, component: QE_2017_001814_497.31033_643.0",
          null,
          null
         ],
         "type": "scatter",
         "uid": "42585e9f-7208-4f84-ba46-52c153a4c35f",
         "x": [
          65,
          65,
          98.046875,
          98.046875
         ],
         "xaxis": "x",
         "y": [
          0,
          0.6986301369863014,
          0.6986301369863014,
          0.5737704918032787
         ],
         "yaxis": "y"
        },
        {
         "hoverinfo": "text",
         "marker": {
          "color": "rgb(0,116,217)"
         },
         "mode": "lines",
         "text": [
          "cluster: 7, component: QE_2017_001815_571.4292_870.0",
          "cluster: 7, component: QE_2017_001815_571.4292_870.0",
          null,
          null
         ],
         "type": "scatter",
         "uid": "61412610-ec68-4a15-87fd-e79470ec8e8f",
         "x": [
          55,
          55,
          81.5234375,
          81.5234375
         ],
         "xaxis": "x",
         "y": [
          0,
          0.7962962962962963,
          0.7962962962962963,
          0.6986301369863014
         ],
         "yaxis": "y"
        },
        {
         "hoverinfo": "text",
         "marker": {
          "color": "rgb(0,116,217)"
         },
         "mode": "lines",
         "text": [
          "cluster: 8, component: QE_2017_001814_338.34146_850.0",
          "cluster: 8, component: QE_2017_001814_338.34146_850.0",
          "cluster: 9, component: QE_2017_001815_244.19048_762.0",
          "cluster: 9, component: QE_2017_001815_244.19048_762.0"
         ],
         "type": "scatter",
         "uid": "9207f81f-0811-427a-9958-5d306777027a",
         "x": [
          225,
          225,
          235,
          235
         ],
         "xaxis": "x",
         "y": [
          0,
          0.6031746031746031,
          0.6031746031746031,
          0
         ],
         "yaxis": "y"
        },
        {
         "hoverinfo": "text",
         "marker": {
          "color": "rgb(35,205,205)"
         },
         "mode": "lines",
         "text": [
          "cluster: 10, component: QE_2017_001814_353.26868_633.0",
          "cluster: 10, component: QE_2017_001814_353.26868_633.0",
          "cluster: 10, component: QE_2017_001816_353.26892_600.0",
          "cluster: 10, component: QE_2017_001816_353.26892_600.0"
         ],
         "type": "scatter",
         "uid": "1429f309-b1da-4c8f-9e16-2e50d6f32345",
         "x": [
          245,
          245,
          255,
          255
         ],
         "xaxis": "x",
         "y": [
          0,
          0.2376237623762376,
          0.2376237623762376,
          0
         ],
         "yaxis": "y"
        },
        {
         "hoverinfo": "text",
         "marker": {
          "color": "rgb(35,205,205)"
         },
         "mode": "lines",
         "text": [
          "cluster: 10, component: QE_2017_001814_279.23157_719.0",
          "cluster: 10, component: QE_2017_001814_279.23157_719.0",
          "cluster: 10, component: QE_2017_001815_278.24762_684.0",
          "cluster: 10, component: QE_2017_001815_278.24762_684.0"
         ],
         "type": "scatter",
         "uid": "5f14e6e6-50d2-43a9-b7f6-a8369b546f87",
         "x": [
          265,
          265,
          275,
          275
         ],
         "xaxis": "x",
         "y": [
          0,
          0.43209876543209874,
          0.43209876543209874,
          0
         ],
         "yaxis": "y"
        },
        {
         "hoverinfo": "text",
         "marker": {
          "color": "rgb(35,205,205)"
         },
         "mode": "lines",
         "text": [
          null,
          null,
          null,
          null
         ],
         "type": "scatter",
         "uid": "a2416765-df7d-49ef-8266-d75e985bb3a0",
         "x": [
          250,
          250,
          270,
          270
         ],
         "xaxis": "x",
         "y": [
          0.2376237623762376,
          0.5229357798165137,
          0.5229357798165137,
          0.43209876543209874
         ],
         "yaxis": "y"
        },
        {
         "hoverinfo": "text",
         "marker": {
          "color": "rgb(133,20,75)"
         },
         "mode": "lines",
         "text": [
          "cluster: 11, component: QE_2017_001816_337.27338_826.0",
          "cluster: 11, component: QE_2017_001816_337.27338_826.0",
          "cluster: 11, component: QE_2017_001816_337.27341_632.0",
          "cluster: 11, component: QE_2017_001816_337.27341_632.0"
         ],
         "type": "scatter",
         "uid": "c0fa253d-ffcf-4dbe-859c-88048492b82c",
         "x": [
          295,
          295,
          305,
          305
         ],
         "xaxis": "x",
         "y": [
          0,
          0.373134328358209,
          0.373134328358209,
          0
         ],
         "yaxis": "y"
        },
        {
         "hoverinfo": "text",
         "marker": {
          "color": "rgb(133,20,75)"
         },
         "mode": "lines",
         "text": [
          "cluster: 11, component: QE_2017_001816_435.25037_666.0",
          "cluster: 11, component: QE_2017_001816_435.25037_666.0",
          null,
          null
         ],
         "type": "scatter",
         "uid": "5097db8a-a487-42fb-ae36-f57333c4aa16",
         "x": [
          285,
          285,
          300,
          300
         ],
         "xaxis": "x",
         "y": [
          0,
          0.5416666666666666,
          0.5416666666666666,
          0.373134328358209
         ],
         "yaxis": "y"
        },
        {
         "hoverinfo": "text",
         "marker": {
          "color": "rgb(0,116,217)"
         },
         "mode": "lines",
         "text": [
          null,
          null,
          null,
          null
         ],
         "type": "scatter",
         "uid": "8b9472d6-03e5-42b2-95c0-3142f294bd85",
         "x": [
          260,
          260,
          292.5,
          292.5
         ],
         "xaxis": "x",
         "y": [
          0.5229357798165137,
          0.6875,
          0.6875,
          0.5416666666666666
         ],
         "yaxis": "y"
        },
        {
         "hoverinfo": "text",
         "marker": {
          "color": "rgb(0,116,217)"
         },
         "mode": "lines",
         "text": [
          null,
          null,
          null,
          null
         ],
         "type": "scatter",
         "uid": "9974abcb-3251-4fcb-9e20-d364aa671d71",
         "x": [
          230,
          230,
          276.25,
          276.25
         ],
         "xaxis": "x",
         "y": [
          0.6031746031746031,
          0.7590361445783133,
          0.7590361445783133,
          0.6875
         ],
         "yaxis": "y"
        },
        {
         "hoverinfo": "text",
         "marker": {
          "color": "rgb(0,116,217)"
         },
         "mode": "lines",
         "text": [
          "cluster: 12, component: QE_2017_001816_272.25824_582.0",
          "cluster: 12, component: QE_2017_001816_272.25824_582.0",
          null,
          null
         ],
         "type": "scatter",
         "uid": "04c2ace1-8683-4fdd-b748-6c94f24e2457",
         "x": [
          215,
          215,
          253.125,
          253.125
         ],
         "xaxis": "x",
         "y": [
          0,
          0.8243243243243243,
          0.8243243243243243,
          0.7590361445783133
         ],
         "yaxis": "y"
        },
        {
         "hoverinfo": "text",
         "marker": {
          "color": "rgb(0,116,217)"
         },
         "mode": "lines",
         "text": [
          null,
          null,
          null,
          null
         ],
         "type": "scatter",
         "uid": "0841e9bc-90f9-4a13-bf35-abcd593a3a33",
         "x": [
          68.26171875,
          68.26171875,
          234.0625,
          234.0625
         ],
         "xaxis": "x",
         "y": [
          0.7962962962962963,
          0.87,
          0.87,
          0.8243243243243243
         ],
         "yaxis": "y"
        },
        {
         "hoverinfo": "text",
         "marker": {
          "color": "rgb(0,116,217)"
         },
         "mode": "lines",
         "text": [
          null,
          null,
          null,
          null
         ],
         "type": "scatter",
         "uid": "a2a2d254-62d2-42b0-a465-2f7a3aa14d4b",
         "x": [
          26.25,
          26.25,
          151.162109375,
          151.162109375
         ],
         "xaxis": "x",
         "y": [
          0.7763157894736842,
          0.9130434782608695,
          0.9130434782608695,
          0.87
         ],
         "yaxis": "y"
        },
        {
         "hoverinfo": "text",
         "marker": {
          "color": "rgb(0,116,217)"
         },
         "mode": "lines",
         "text": [
          "cluster: 13, component: QE_2017_001814_601.42426_706.0",
          "cluster: 13, component: QE_2017_001814_601.42426_706.0",
          "cluster: 14, component: QE_2017_001816_599.40869_793.0",
          "cluster: 14, component: QE_2017_001816_599.40869_793.0"
         ],
         "type": "scatter",
         "uid": "0e4e76ee-1357-4f26-9a17-34e73dd3d526",
         "x": [
          345,
          345,
          355,
          355
         ],
         "xaxis": "x",
         "y": [
          0,
          0.63,
          0.63,
          0
         ],
         "yaxis": "y"
        },
        {
         "hoverinfo": "text",
         "marker": {
          "color": "rgb(0,116,217)"
         },
         "mode": "lines",
         "text": [
          "cluster: 15, component: QE_2017_001816_599.40948_660.0",
          "cluster: 15, component: QE_2017_001816_599.40948_660.0",
          null,
          null
         ],
         "type": "scatter",
         "uid": "3736d7fe-fdc4-4950-b7d9-3e12c79c4f6d",
         "x": [
          335,
          335,
          350,
          350
         ],
         "xaxis": "x",
         "y": [
          0,
          0.6710526315789473,
          0.6710526315789473,
          0.63
         ],
         "yaxis": "y"
        },
        {
         "hoverinfo": "text",
         "marker": {
          "color": "rgb(0,116,217)"
         },
         "mode": "lines",
         "text": [
          "cluster: 16, component: QE_2017_001816_583.41382_731.0",
          "cluster: 16, component: QE_2017_001816_583.41382_731.0",
          null,
          null
         ],
         "type": "scatter",
         "uid": "61d810d0-d6cf-47f0-8b48-2b3721e885ec",
         "x": [
          325,
          325,
          342.5,
          342.5
         ],
         "xaxis": "x",
         "y": [
          0,
          0.7578947368421053,
          0.7578947368421053,
          0.6710526315789473
         ],
         "yaxis": "y"
        },
        {
         "hoverinfo": "text",
         "marker": {
          "color": "rgb(0,116,217)"
         },
         "mode": "lines",
         "text": [
          "cluster: 17, component: QE_2017_001814_618.42633_695.0",
          "cluster: 17, component: QE_2017_001814_618.42633_695.0",
          null,
          null
         ],
         "type": "scatter",
         "uid": "d5627fbd-08ef-4b82-a177-62fdd902d327",
         "x": [
          315,
          315,
          333.75,
          333.75
         ],
         "xaxis": "x",
         "y": [
          0,
          0.8,
          0.8,
          0.7578947368421053
         ],
         "yaxis": "y"
        },
        {
         "hoverinfo": "text",
         "marker": {
          "color": "rgb(255,220,0)"
         },
         "mode": "lines",
         "text": [
          "cluster: 18, component: QE_2017_001815_618.42773_646.0",
          "cluster: 18, component: QE_2017_001815_618.42773_646.0",
          "cluster: 18, component: QE_2017_001816_618.427_682.0",
          "cluster: 18, component: QE_2017_001816_618.427_682.0"
         ],
         "type": "scatter",
         "uid": "0d77ec14-8f14-45fa-b608-c9a4d7d62293",
         "x": [
          365,
          365,
          375,
          375
         ],
         "xaxis": "x",
         "y": [
          0,
          0.4732510288065844,
          0.4732510288065844,
          0
         ],
         "yaxis": "y"
        },
        {
         "hoverinfo": "text",
         "marker": {
          "color": "rgb(40,35,35)"
         },
         "mode": "lines",
         "text": [
          "cluster: 19, component: QE_2017_001814_583.41406_682.0",
          "cluster: 19, component: QE_2017_001814_583.41406_682.0",
          "cluster: 19, component: QE_2017_001815_583.41406_707.0",
          "cluster: 19, component: QE_2017_001815_583.41406_707.0"
         ],
         "type": "scatter",
         "uid": "3537c558-eeba-43ed-8054-c702121674e6",
         "x": [
          405,
          405,
          415,
          415
         ],
         "xaxis": "x",
         "y": [
          0,
          0.5280898876404494,
          0.5280898876404494,
          0
         ],
         "yaxis": "y"
        },
        {
         "hoverinfo": "text",
         "marker": {
          "color": "rgb(0,116,217)"
         },
         "mode": "lines",
         "text": [
          "cluster: 20, component: QE_2017_001814_565.4035_722.0",
          "cluster: 20, component: QE_2017_001814_565.4035_722.0",
          null,
          null
         ],
         "type": "scatter",
         "uid": "4ad2a32a-1918-40c6-bdfc-21306b381ab2",
         "x": [
          395,
          395,
          410,
          410
         ],
         "xaxis": "x",
         "y": [
          0,
          0.6049382716049383,
          0.6049382716049383,
          0.5280898876404494
         ],
         "yaxis": "y"
        },
        {
         "hoverinfo": "text",
         "marker": {
          "color": "rgb(61,153,112)"
         },
         "mode": "lines",
         "text": [
          "cluster: 21, component: QE_2017_001815_583.41388_735.0",
          "cluster: 21, component: QE_2017_001815_583.41388_735.0",
          "cluster: 21, component: QE_2017_001815_583.41418_647.0",
          "cluster: 21, component: QE_2017_001815_583.41418_647.0"
         ],
         "type": "scatter",
         "uid": "d19e4169-9405-4a46-a6c3-7812d46c214c",
         "x": [
          435,
          435,
          445,
          445
         ],
         "xaxis": "x",
         "y": [
          0,
          0.5285714285714286,
          0.5285714285714286,
          0
         ],
         "yaxis": "y"
        },
        {
         "hoverinfo": "text",
         "marker": {
          "color": "rgb(0,116,217)"
         },
         "mode": "lines",
         "text": [
          "cluster: 22, component: QE_2017_001814_601.42334_783.0",
          "cluster: 22, component: QE_2017_001814_601.42334_783.0",
          null,
          null
         ],
         "type": "scatter",
         "uid": "fc6899b7-a2cb-4700-82cc-0acc6dbb5603",
         "x": [
          425,
          425,
          440,
          440
         ],
         "xaxis": "x",
         "y": [
          0,
          0.6966292134831461,
          0.6966292134831461,
          0.5285714285714286
         ],
         "yaxis": "y"
        },
        {
         "hoverinfo": "text",
         "marker": {
          "color": "rgb(0,116,217)"
         },
         "mode": "lines",
         "text": [
          null,
          null,
          null,
          null
         ],
         "type": "scatter",
         "uid": "40ec49c3-ca5f-4cca-a713-8b730d5fa456",
         "x": [
          402.5,
          402.5,
          432.5,
          432.5
         ],
         "xaxis": "x",
         "y": [
          0.6049382716049383,
          0.734375,
          0.734375,
          0.6966292134831461
         ],
         "yaxis": "y"
        },
        {
         "hoverinfo": "text",
         "marker": {
          "color": "rgb(0,116,217)"
         },
         "mode": "lines",
         "text": [
          "cluster: 23, component: QE_2017_001815_568.42627_841.0",
          "cluster: 23, component: QE_2017_001815_568.42627_841.0",
          null,
          null
         ],
         "type": "scatter",
         "uid": "1a5d315c-b2cf-45f7-a5f8-f0bfec367cca",
         "x": [
          385,
          385,
          417.5,
          417.5
         ],
         "xaxis": "x",
         "y": [
          0,
          0.7642276422764228,
          0.7642276422764228,
          0.734375
         ],
         "yaxis": "y"
        },
        {
         "hoverinfo": "text",
         "marker": {
          "color": "rgb(0,116,217)"
         },
         "mode": "lines",
         "text": [
          null,
          null,
          null,
          null
         ],
         "type": "scatter",
         "uid": "c49e9d05-473b-4c67-8b06-76f1a7e5bcad",
         "x": [
          370,
          370,
          401.25,
          401.25
         ],
         "xaxis": "x",
         "y": [
          0.4732510288065844,
          0.8205128205128205,
          0.8205128205128205,
          0.7642276422764228
         ],
         "yaxis": "y"
        },
        {
         "hoverinfo": "text",
         "marker": {
          "color": "rgb(0,116,217)"
         },
         "mode": "lines",
         "text": [
          null,
          null,
          null,
          null
         ],
         "type": "scatter",
         "uid": "0e56f651-2019-40f6-bc54-bd29cd053fa1",
         "x": [
          324.375,
          324.375,
          385.625,
          385.625
         ],
         "xaxis": "x",
         "y": [
          0.8,
          0.94,
          0.94,
          0.8205128205128205
         ],
         "yaxis": "y"
        },
        {
         "hoverinfo": "text",
         "marker": {
          "color": "rgb(0,116,217)"
         },
         "mode": "lines",
         "text": [
          null,
          null,
          null,
          null
         ],
         "type": "scatter",
         "uid": "7fee64e3-63d3-4a66-ae10-e900fb4fcda5",
         "x": [
          88.7060546875,
          88.7060546875,
          355,
          355
         ],
         "xaxis": "x",
         "y": [
          0.9130434782608695,
          0.9625,
          0.9625,
          0.94
         ],
         "yaxis": "y"
        },
        {
         "hoverinfo": "text",
         "marker": {
          "color": "rgb(0,116,217)"
         },
         "mode": "lines",
         "text": [
          "cluster: 24, component: QE_2017_001814_194.04424_237.0",
          "cluster: 24, component: QE_2017_001814_194.04424_237.0",
          "cluster: 25, component: QE_2017_001815_194.11751_218.0",
          "cluster: 25, component: QE_2017_001815_194.11751_218.0"
         ],
         "type": "scatter",
         "uid": "07391b72-c7e1-4a42-9b01-3407b1fc96b8",
         "x": [
          455,
          455,
          465,
          465
         ],
         "xaxis": "x",
         "y": [
          0,
          0.6206896551724138,
          0.6206896551724138,
          0
         ],
         "yaxis": "y"
        },
        {
         "hoverinfo": "text",
         "marker": {
          "color": "rgb(255,65,54)"
         },
         "mode": "lines",
         "text": [
          "cluster: 26, component: QE_2017_001815_194.04471_314.0",
          "cluster: 26, component: QE_2017_001815_194.04471_314.0",
          "cluster: 26, component: QE_2017_001815_212.05513_328.0",
          "cluster: 26, component: QE_2017_001815_212.05513_328.0"
         ],
         "type": "scatter",
         "uid": "fa270db1-00b9-45de-a210-c0252a2cfd1e",
         "x": [
          485,
          485,
          495,
          495
         ],
         "xaxis": "x",
         "y": [
          0,
          0.35135135135135137,
          0.35135135135135137,
          0
         ],
         "yaxis": "y"
        },
        {
         "hoverinfo": "text",
         "marker": {
          "color": "rgb(255,65,54)"
         },
         "mode": "lines",
         "text": [
          "cluster: 26, component: QE_2017_001815_194.04469_299.0",
          "cluster: 26, component: QE_2017_001815_194.04469_299.0",
          null,
          null
         ],
         "type": "scatter",
         "uid": "ed411c82-266f-49ac-a9fb-ace8b2e025d7",
         "x": [
          475,
          475,
          490,
          490
         ],
         "xaxis": "x",
         "y": [
          0,
          0.5573770491803278,
          0.5573770491803278,
          0.35135135135135137
         ],
         "yaxis": "y"
        },
        {
         "hoverinfo": "text",
         "marker": {
          "color": "rgb(0,116,217)"
         },
         "mode": "lines",
         "text": [
          "cluster: 27, component: QE_2017_001814_226.07077_397.0",
          "cluster: 27, component: QE_2017_001814_226.07077_397.0",
          "cluster: 28, component: QE_2017_001815_194.04471_397.0",
          "cluster: 28, component: QE_2017_001815_194.04471_397.0"
         ],
         "type": "scatter",
         "uid": "909ca41f-2566-4a42-89aa-efb2f18e1502",
         "x": [
          515,
          515,
          525,
          525
         ],
         "xaxis": "x",
         "y": [
          0,
          0.6285714285714286,
          0.6285714285714286,
          0
         ],
         "yaxis": "y"
        },
        {
         "hoverinfo": "text",
         "marker": {
          "color": "rgb(0,116,217)"
         },
         "mode": "lines",
         "text": [
          "cluster: 29, component: QE_2017_001815_212.05505_267.0",
          "cluster: 29, component: QE_2017_001815_212.05505_267.0",
          null,
          null
         ],
         "type": "scatter",
         "uid": "74608047-6bdb-451d-8ce0-865d08af8061",
         "x": [
          505,
          505,
          520,
          520
         ],
         "xaxis": "x",
         "y": [
          0,
          0.7,
          0.7,
          0.6285714285714286
         ],
         "yaxis": "y"
        },
        {
         "hoverinfo": "text",
         "marker": {
          "color": "rgb(0,116,217)"
         },
         "mode": "lines",
         "text": [
          null,
          null,
          null,
          null
         ],
         "type": "scatter",
         "uid": "3b8ba927-c8bc-4016-b978-d5df5bb6b693",
         "x": [
          482.5,
          482.5,
          512.5,
          512.5
         ],
         "xaxis": "x",
         "y": [
          0.5573770491803278,
          0.8360655737704918,
          0.8360655737704918,
          0.7
         ],
         "yaxis": "y"
        },
        {
         "hoverinfo": "text",
         "marker": {
          "color": "rgb(0,116,217)"
         },
         "mode": "lines",
         "text": [
          null,
          null,
          null,
          null
         ],
         "type": "scatter",
         "uid": "6193e6d5-2b6b-4d61-b493-99a4f8d802b1",
         "x": [
          460,
          460,
          497.5,
          497.5
         ],
         "xaxis": "x",
         "y": [
          0.6206896551724138,
          0.8548387096774194,
          0.8548387096774194,
          0.8360655737704918
         ],
         "yaxis": "y"
        },
        {
         "hoverinfo": "text",
         "marker": {
          "color": "rgb(35,205,205)"
         },
         "mode": "lines",
         "text": [
          "cluster: 30, component: QE_2017_001816_533.15442_247.0",
          "cluster: 30, component: QE_2017_001816_533.15442_247.0",
          "cluster: 30, component: QE_2017_001816_533.15466_222.0",
          "cluster: 30, component: QE_2017_001816_533.15466_222.0"
         ],
         "type": "scatter",
         "uid": "32eb220d-543d-4492-bd83-2c9bda32f65a",
         "x": [
          535,
          535,
          545,
          545
         ],
         "xaxis": "x",
         "y": [
          0,
          0.36764705882352944,
          0.36764705882352944,
          0
         ],
         "yaxis": "y"
        },
        {
         "hoverinfo": "text",
         "marker": {
          "color": "rgb(35,205,205)"
         },
         "mode": "lines",
         "text": [
          "cluster: 30, component: QE_2017_001815_533.1546_207.0",
          "cluster: 30, component: QE_2017_001815_533.1546_207.0",
          "cluster: 30, component: QE_2017_001816_533.1546_271.0",
          "cluster: 30, component: QE_2017_001816_533.1546_271.0"
         ],
         "type": "scatter",
         "uid": "1f43b1a7-eb0c-4154-a57f-6b82dcdda97a",
         "x": [
          555,
          555,
          565,
          565
         ],
         "xaxis": "x",
         "y": [
          0,
          0.45454545454545453,
          0.45454545454545453,
          0
         ],
         "yaxis": "y"
        },
        {
         "hoverinfo": "text",
         "marker": {
          "color": "rgb(35,205,205)"
         },
         "mode": "lines",
         "text": [
          null,
          null,
          null,
          null
         ],
         "type": "scatter",
         "uid": "02354338-b660-4a3b-9f85-19851c89f92f",
         "x": [
          540,
          540,
          560,
          560
         ],
         "xaxis": "x",
         "y": [
          0.36764705882352944,
          0.5,
          0.5,
          0.45454545454545453
         ],
         "yaxis": "y"
        },
        {
         "hoverinfo": "text",
         "marker": {
          "color": "rgb(133,20,75)"
         },
         "mode": "lines",
         "text": [
          "cluster: 31, component: QE_2017_001814_347.09097_122.0",
          "cluster: 31, component: QE_2017_001814_347.09097_122.0",
          "cluster: 31, component: QE_2017_001815_347.09067_204.0",
          "cluster: 31, component: QE_2017_001815_347.09067_204.0"
         ],
         "type": "scatter",
         "uid": "4eb358b6-c972-4a05-9b80-f721966947f6",
         "x": [
          575,
          575,
          585,
          585
         ],
         "xaxis": "x",
         "y": [
          0,
          0.5098039215686274,
          0.5098039215686274,
          0
         ],
         "yaxis": "y"
        },
        {
         "hoverinfo": "text",
         "marker": {
          "color": "rgb(0,116,217)"
         },
         "mode": "lines",
         "text": [
          null,
          null,
          null,
          null
         ],
         "type": "scatter",
         "uid": "c21c3562-e183-42f9-8ce1-ee98cf07a045",
         "x": [
          550,
          550,
          580,
          580
         ],
         "xaxis": "x",
         "y": [
          0.5,
          0.8804347826086957,
          0.8804347826086957,
          0.5098039215686274
         ],
         "yaxis": "y"
        },
        {
         "hoverinfo": "text",
         "marker": {
          "color": "rgb(0,116,217)"
         },
         "mode": "lines",
         "text": [
          null,
          null,
          null,
          null
         ],
         "type": "scatter",
         "uid": "59af21fa-12c1-4018-a171-647a8506249a",
         "x": [
          478.75,
          478.75,
          565,
          565
         ],
         "xaxis": "x",
         "y": [
          0.8548387096774194,
          0.9857142857142858,
          0.9857142857142858,
          0.8804347826086957
         ],
         "yaxis": "y"
        },
        {
         "hoverinfo": "text",
         "marker": {
          "color": "rgb(255,220,0)"
         },
         "mode": "lines",
         "text": [
          "cluster: 32, component: QE_2017_001815_268.10373_58.0",
          "cluster: 32, component: QE_2017_001815_268.10373_58.0",
          "cluster: 32, component: QE_2017_001816_269.16055_60.0",
          "cluster: 32, component: QE_2017_001816_269.16055_60.0"
         ],
         "type": "scatter",
         "uid": "2d40de2b-d480-43af-970b-bf1920b8fb59",
         "x": [
          595,
          595,
          605,
          605
         ],
         "xaxis": "x",
         "y": [
          0,
          0.42424242424242425,
          0.42424242424242425,
          0
         ],
         "yaxis": "y"
        },
        {
         "hoverinfo": "text",
         "marker": {
          "color": "rgb(40,35,35)"
         },
         "mode": "lines",
         "text": [
          "cluster: 33, component: QE_2017_001816_408.36832_704.0",
          "cluster: 33, component: QE_2017_001816_408.36832_704.0",
          "cluster: 33, component: QE_2017_001816_466.40979_731.0",
          "cluster: 33, component: QE_2017_001816_466.40979_731.0"
         ],
         "type": "scatter",
         "uid": "387472a2-30f8-4683-82f2-3b4101ec524f",
         "x": [
          625,
          625,
          635,
          635
         ],
         "xaxis": "x",
         "y": [
          0,
          0.5882352941176471,
          0.5882352941176471,
          0
         ],
         "yaxis": "y"
        },
        {
         "hoverinfo": "text",
         "marker": {
          "color": "rgb(0,116,217)"
         },
         "mode": "lines",
         "text": [
          "cluster: 34, component: QE_2017_001815_364.34189_705.0",
          "cluster: 34, component: QE_2017_001815_364.34189_705.0",
          null,
          null
         ],
         "type": "scatter",
         "uid": "28126b6b-ef55-433a-9571-0fef7448f5a5",
         "x": [
          615,
          615,
          630,
          630
         ],
         "xaxis": "x",
         "y": [
          0,
          0.6875,
          0.6875,
          0.5882352941176471
         ],
         "yaxis": "y"
        },
        {
         "hoverinfo": "text",
         "marker": {
          "color": "rgb(61,153,112)"
         },
         "mode": "lines",
         "text": [
          "cluster: 35, component: QE_2017_001814_364.34244_761.0",
          "cluster: 35, component: QE_2017_001814_364.34244_761.0",
          "cluster: 35, component: QE_2017_001815_364.34253_752.0",
          "cluster: 35, component: QE_2017_001815_364.34253_752.0"
         ],
         "type": "scatter",
         "uid": "4d75a787-f2be-40e0-8db3-9e2221fe1e5c",
         "x": [
          665,
          665,
          675,
          675
         ],
         "xaxis": "x",
         "y": [
          0,
          0.36363636363636365,
          0.36363636363636365,
          0
         ],
         "yaxis": "y"
        },
        {
         "hoverinfo": "text",
         "marker": {
          "color": "rgb(255,65,54)"
         },
         "mode": "lines",
         "text": [
          "cluster: 36, component: QE_2017_001816_421.35226_731.0",
          "cluster: 36, component: QE_2017_001816_421.35226_731.0",
          "cluster: 36, component: QE_2017_001816_424.36325_712.0",
          "cluster: 36, component: QE_2017_001816_424.36325_712.0"
         ],
         "type": "scatter",
         "uid": "f6318128-7620-40bc-8d0f-5b1940377175",
         "x": [
          685,
          685,
          695,
          695
         ],
         "xaxis": "x",
         "y": [
          0,
          0.3888888888888889,
          0.3888888888888889,
          0
         ],
         "yaxis": "y"
        },
        {
         "hoverinfo": "text",
         "marker": {
          "color": "rgb(0,116,217)"
         },
         "mode": "lines",
         "text": [
          null,
          null,
          null,
          null
         ],
         "type": "scatter",
         "uid": "343fdbf2-f812-4fa4-b658-1afbc12a2228",
         "x": [
          670,
          670,
          690,
          690
         ],
         "xaxis": "x",
         "y": [
          0.36363636363636365,
          0.6111111111111112,
          0.6111111111111112,
          0.3888888888888889
         ],
         "yaxis": "y"
        },
        {
         "hoverinfo": "text",
         "marker": {
          "color": "rgb(0,116,217)"
         },
         "mode": "lines",
         "text": [
          "cluster: 37, component: QE_2017_001815_482.40488_739.0",
          "cluster: 37, component: QE_2017_001815_482.40488_739.0",
          null,
          null
         ],
         "type": "scatter",
         "uid": "429fa6b6-de67-4903-8266-9ba8fb231c67",
         "x": [
          655,
          655,
          680,
          680
         ],
         "xaxis": "x",
         "y": [
          0,
          0.7037037037037037,
          0.7037037037037037,
          0.6111111111111112
         ],
         "yaxis": "y"
        },
        {
         "hoverinfo": "text",
         "marker": {
          "color": "rgb(0,116,217)"
         },
         "mode": "lines",
         "text": [
          "cluster: 38, component: QE_2017_001815_408.36853_717.0",
          "cluster: 38, component: QE_2017_001815_408.36853_717.0",
          null,
          null
         ],
         "type": "scatter",
         "uid": "cae5fac8-b0f0-410a-9050-2b13d7f5cb0b",
         "x": [
          645,
          645,
          667.5,
          667.5
         ],
         "xaxis": "x",
         "y": [
          0,
          0.7307692307692307,
          0.7307692307692307,
          0.7037037037037037
         ],
         "yaxis": "y"
        },
        {
         "hoverinfo": "text",
         "marker": {
          "color": "rgb(0,116,217)"
         },
         "mode": "lines",
         "text": [
          null,
          null,
          null,
          null
         ],
         "type": "scatter",
         "uid": "a82419f3-d635-4915-af4e-c8974536f318",
         "x": [
          622.5,
          622.5,
          656.25,
          656.25
         ],
         "xaxis": "x",
         "y": [
          0.6875,
          0.8387096774193549,
          0.8387096774193549,
          0.7307692307692307
         ],
         "yaxis": "y"
        },
        {
         "hoverinfo": "text",
         "marker": {
          "color": "rgb(0,116,217)"
         },
         "mode": "lines",
         "text": [
          null,
          null,
          null,
          null
         ],
         "type": "scatter",
         "uid": "6449808b-92df-4e8c-809d-0a58b936cfe9",
         "x": [
          600,
          600,
          639.375,
          639.375
         ],
         "xaxis": "x",
         "y": [
          0.42424242424242425,
          0.9814814814814815,
          0.9814814814814815,
          0.8387096774193549
         ],
         "yaxis": "y"
        },
        {
         "hoverinfo": "text",
         "marker": {
          "color": "rgb(35,205,205)"
         },
         "mode": "lines",
         "text": [
          "cluster: 39, component: QE_2017_001814_611.15997_285.0",
          "cluster: 39, component: QE_2017_001814_611.15997_285.0",
          "cluster: 39, component: QE_2017_001815_611.16046_309.0",
          "cluster: 39, component: QE_2017_001815_611.16046_309.0"
         ],
         "type": "scatter",
         "uid": "833d8299-d19b-4856-9096-d42f78c3991f",
         "x": [
          715,
          715,
          725,
          725
         ],
         "xaxis": "x",
         "y": [
          0,
          0.4583333333333333,
          0.4583333333333333,
          0
         ],
         "yaxis": "y"
        },
        {
         "hoverinfo": "text",
         "marker": {
          "color": "rgb(133,20,75)"
         },
         "mode": "lines",
         "text": [
          "cluster: 40, component: QE_2017_001814_339.10742_366.0",
          "cluster: 40, component: QE_2017_001814_339.10742_366.0",
          "cluster: 40, component: QE_2017_001816_339.10733_298.0",
          "cluster: 40, component: QE_2017_001816_339.10733_298.0"
         ],
         "type": "scatter",
         "uid": "000a0f68-e082-4eda-9b2e-78723e3552a5",
         "x": [
          735,
          735,
          745,
          745
         ],
         "xaxis": "x",
         "y": [
          0,
          0.44,
          0.44,
          0
         ],
         "yaxis": "y"
        },
        {
         "hoverinfo": "text",
         "marker": {
          "color": "rgb(255,220,0)"
         },
         "mode": "lines",
         "text": [
          "cluster: 41, component: QE_2017_001814_231.04971_516.0",
          "cluster: 41, component: QE_2017_001814_231.04971_516.0",
          "cluster: 41, component: QE_2017_001815_231.04971_369.0",
          "cluster: 41, component: QE_2017_001815_231.04971_369.0"
         ],
         "type": "scatter",
         "uid": "97311b60-c624-41d0-9e52-952ac1e0f2b9",
         "x": [
          795,
          795,
          805,
          805
         ],
         "xaxis": "x",
         "y": [
          0,
          0.391304347826087,
          0.391304347826087,
          0
         ],
         "yaxis": "y"
        },
        {
         "hoverinfo": "text",
         "marker": {
          "color": "rgb(255,220,0)"
         },
         "mode": "lines",
         "text": [
          "cluster: 41, component: QE_2017_001815_231.04968_315.0",
          "cluster: 41, component: QE_2017_001815_231.04968_315.0",
          null,
          null
         ],
         "type": "scatter",
         "uid": "a96cf2e9-ab09-492d-acac-434ffad2556a",
         "x": [
          785,
          785,
          800,
          800
         ],
         "xaxis": "x",
         "y": [
          0,
          0.4090909090909091,
          0.4090909090909091,
          0.391304347826087
         ],
         "yaxis": "y"
        },
        {
         "hoverinfo": "text",
         "marker": {
          "color": "rgb(255,220,0)"
         },
         "mode": "lines",
         "text": [
          "cluster: 41, component: QE_2017_001815_231.04973_403.0",
          "cluster: 41, component: QE_2017_001815_231.04973_403.0",
          null,
          null
         ],
         "type": "scatter",
         "uid": "c311156c-f42c-4425-91e4-77c723787d5b",
         "x": [
          775,
          775,
          792.5,
          792.5
         ],
         "xaxis": "x",
         "y": [
          0,
          0.52,
          0.52,
          0.4090909090909091
         ],
         "yaxis": "y"
        },
        {
         "hoverinfo": "text",
         "marker": {
          "color": "rgb(0,116,217)"
         },
         "mode": "lines",
         "text": [
          "cluster: 42, component: QE_2017_001815_340.16019_314.0",
          "cluster: 42, component: QE_2017_001815_340.16019_314.0",
          null,
          null
         ],
         "type": "scatter",
         "uid": "ce8ce332-a2d3-4e60-892f-f3e13611fcc2",
         "x": [
          765,
          765,
          783.75,
          783.75
         ],
         "xaxis": "x",
         "y": [
          0,
          0.6904761904761905,
          0.6904761904761905,
          0.52
         ],
         "yaxis": "y"
        },
        {
         "hoverinfo": "text",
         "marker": {
          "color": "rgb(40,35,35)"
         },
         "mode": "lines",
         "text": [
          "cluster: 43, component: QE_2017_001815_314.14453_76.0",
          "cluster: 43, component: QE_2017_001815_314.14453_76.0",
          "cluster: 43, component: QE_2017_001816_314.14462_79.0",
          "cluster: 43, component: QE_2017_001816_314.14462_79.0"
         ],
         "type": "scatter",
         "uid": "9edc3234-6e73-403f-b9f3-31cae73581dc",
         "x": [
          815,
          815,
          825,
          825
         ],
         "xaxis": "x",
         "y": [
          0,
          0.4230769230769231,
          0.4230769230769231,
          0
         ],
         "yaxis": "y"
        },
        {
         "hoverinfo": "text",
         "marker": {
          "color": "rgb(0,116,217)"
         },
         "mode": "lines",
         "text": [
          "cluster: 44, component: QE_2017_001816_310.14957_134.0",
          "cluster: 44, component: QE_2017_001816_310.14957_134.0",
          "cluster: 45, component: QE_2017_001816_342.17584_257.0",
          "cluster: 45, component: QE_2017_001816_342.17584_257.0"
         ],
         "type": "scatter",
         "uid": "789d7026-6a59-42d9-8c7e-5aa761c2a983",
         "x": [
          835,
          835,
          845,
          845
         ],
         "xaxis": "x",
         "y": [
          0,
          0.6785714285714286,
          0.6785714285714286,
          0
         ],
         "yaxis": "y"
        },
        {
         "hoverinfo": "text",
         "marker": {
          "color": "rgb(0,116,217)"
         },
         "mode": "lines",
         "text": [
          null,
          null,
          null,
          null
         ],
         "type": "scatter",
         "uid": "9c2cb6f2-3713-4e9b-bfe7-2837063a0c8a",
         "x": [
          820,
          820,
          840,
          840
         ],
         "xaxis": "x",
         "y": [
          0.4230769230769231,
          0.75,
          0.75,
          0.6785714285714286
         ],
         "yaxis": "y"
        },
        {
         "hoverinfo": "text",
         "marker": {
          "color": "rgb(0,116,217)"
         },
         "mode": "lines",
         "text": [
          null,
          null,
          null,
          null
         ],
         "type": "scatter",
         "uid": "66d958de-9f3c-4fb1-b4f9-00d042e16124",
         "x": [
          774.375,
          774.375,
          830,
          830
         ],
         "xaxis": "x",
         "y": [
          0.6904761904761905,
          0.8,
          0.8,
          0.75
         ],
         "yaxis": "y"
        },
        {
         "hoverinfo": "text",
         "marker": {
          "color": "rgb(0,116,217)"
         },
         "mode": "lines",
         "text": [
          "cluster: 46, component: QE_2017_001814_498.2543_475.0",
          "cluster: 46, component: QE_2017_001814_498.2543_475.0",
          null,
          null
         ],
         "type": "scatter",
         "uid": "354eb417-88a6-4c9e-a678-fe0b7515bb9d",
         "x": [
          755,
          755,
          802.1875,
          802.1875
         ],
         "xaxis": "x",
         "y": [
          0,
          0.8571428571428571,
          0.8571428571428571,
          0.8
         ],
         "yaxis": "y"
        },
        {
         "hoverinfo": "text",
         "marker": {
          "color": "rgb(0,116,217)"
         },
         "mode": "lines",
         "text": [
          null,
          null,
          null,
          null
         ],
         "type": "scatter",
         "uid": "e18f5f12-421a-441d-8354-b1df31163e80",
         "x": [
          740,
          740,
          778.59375,
          778.59375
         ],
         "xaxis": "x",
         "y": [
          0.44,
          0.8775510204081632,
          0.8775510204081632,
          0.8571428571428571
         ],
         "yaxis": "y"
        },
        {
         "hoverinfo": "text",
         "marker": {
          "color": "rgb(0,116,217)"
         },
         "mode": "lines",
         "text": [
          "cluster: 47, component: QE_2017_001814_241.15466_73.0",
          "cluster: 47, component: QE_2017_001814_241.15466_73.0",
          "cluster: 48, component: QE_2017_001815_507.18192_178.0",
          "cluster: 48, component: QE_2017_001815_507.18192_178.0"
         ],
         "type": "scatter",
         "uid": "b84e4ee5-b99a-4433-ae30-0f51f3fce9b9",
         "x": [
          855,
          855,
          865,
          865
         ],
         "xaxis": "x",
         "y": [
          0,
          0.9152542372881356,
          0.9152542372881356,
          0
         ],
         "yaxis": "y"
        },
        {
         "hoverinfo": "text",
         "marker": {
          "color": "rgb(0,116,217)"
         },
         "mode": "lines",
         "text": [
          null,
          null,
          null,
          null
         ],
         "type": "scatter",
         "uid": "fc52ebe2-2a1b-41dd-85a2-5f553bb888a7",
         "x": [
          759.296875,
          759.296875,
          860,
          860
         ],
         "xaxis": "x",
         "y": [
          0.8775510204081632,
          0.9302325581395349,
          0.9302325581395349,
          0.9152542372881356
         ],
         "yaxis": "y"
        },
        {
         "hoverinfo": "text",
         "marker": {
          "color": "rgb(0,116,217)"
         },
         "mode": "lines",
         "text": [
          null,
          null,
          null,
          null
         ],
         "type": "scatter",
         "uid": "feeb019b-d472-4217-b2d3-8332d38dbe48",
         "x": [
          720,
          720,
          809.6484375,
          809.6484375
         ],
         "xaxis": "x",
         "y": [
          0.4583333333333333,
          0.9622641509433962,
          0.9622641509433962,
          0.9302325581395349
         ],
         "yaxis": "y"
        },
        {
         "hoverinfo": "text",
         "marker": {
          "color": "rgb(0,116,217)"
         },
         "mode": "lines",
         "text": [
          "cluster: 49, component: QE_2017_001816_463.12311_410.0",
          "cluster: 49, component: QE_2017_001816_463.12311_410.0",
          null,
          null
         ],
         "type": "scatter",
         "uid": "3d4c8e6b-e155-4272-b506-477dcd9a1554",
         "x": [
          705,
          705,
          764.82421875,
          764.82421875
         ],
         "xaxis": "x",
         "y": [
          0,
          0.9696969696969697,
          0.9696969696969697,
          0.9622641509433962
         ],
         "yaxis": "y"
        },
        {
         "hoverinfo": "text",
         "marker": {
          "color": "rgb(61,153,112)"
         },
         "mode": "lines",
         "text": [
          "cluster: 50, component: QE_2017_001814_320.29456_577.0",
          "cluster: 50, component: QE_2017_001814_320.29456_577.0",
          "cluster: 50, component: QE_2017_001815_320.29471_563.0",
          "cluster: 50, component: QE_2017_001815_320.29471_563.0"
         ],
         "type": "scatter",
         "uid": "c3f28023-6cae-4234-b6f6-954d7c0bcc61",
         "x": [
          895,
          895,
          905,
          905
         ],
         "xaxis": "x",
         "y": [
          0,
          0.36,
          0.36,
          0
         ],
         "yaxis": "y"
        },
        {
         "hoverinfo": "text",
         "marker": {
          "color": "rgb(0,116,217)"
         },
         "mode": "lines",
         "text": [
          "cluster: 51, component: QE_2017_001816_338.26062_643.0",
          "cluster: 51, component: QE_2017_001816_338.26062_643.0",
          null,
          null
         ],
         "type": "scatter",
         "uid": "04c76eb4-fe96-4dee-88a5-46d7a7f75ff3",
         "x": [
          885,
          885,
          900,
          900
         ],
         "xaxis": "x",
         "y": [
          0,
          0.6153846153846154,
          0.6153846153846154,
          0.36
         ],
         "yaxis": "y"
        },
        {
         "hoverinfo": "text",
         "marker": {
          "color": "rgb(0,116,217)"
         },
         "mode": "lines",
         "text": [
          "cluster: 52, component: QE_2017_001814_483.27118_651.0",
          "cluster: 52, component: QE_2017_001814_483.27118_651.0",
          null,
          null
         ],
         "type": "scatter",
         "uid": "a4e57a4d-07be-477a-89c4-d6b1388e4cf0",
         "x": [
          875,
          875,
          892.5,
          892.5
         ],
         "xaxis": "x",
         "y": [
          0,
          0.8636363636363636,
          0.8636363636363636,
          0.6153846153846154
         ],
         "yaxis": "y"
        },
        {
         "hoverinfo": "text",
         "marker": {
          "color": "rgb(0,116,217)"
         },
         "mode": "lines",
         "text": [
          "cluster: 53, component: QE_2017_001815_129.12741_349.0",
          "cluster: 53, component: QE_2017_001815_129.12741_349.0",
          "cluster: 54, component: QE_2017_001815_171.14914_420.0",
          "cluster: 54, component: QE_2017_001815_171.14914_420.0"
         ],
         "type": "scatter",
         "uid": "36911040-cd7d-427c-8f72-53d3b991c868",
         "x": [
          915,
          915,
          925,
          925
         ],
         "xaxis": "x",
         "y": [
          0,
          0.8666666666666667,
          0.8666666666666667,
          0
         ],
         "yaxis": "y"
        },
        {
         "hoverinfo": "text",
         "marker": {
          "color": "rgb(0,116,217)"
         },
         "mode": "lines",
         "text": [
          null,
          null,
          null,
          null
         ],
         "type": "scatter",
         "uid": "99142d2f-3d6c-419d-963e-3e589c8dd465",
         "x": [
          883.75,
          883.75,
          920,
          920
         ],
         "xaxis": "x",
         "y": [
          0.8636363636363636,
          0.9032258064516129,
          0.9032258064516129,
          0.8666666666666667
         ],
         "yaxis": "y"
        },
        {
         "hoverinfo": "text",
         "marker": {
          "color": "rgb(255,65,54)"
         },
         "mode": "lines",
         "text": [
          "cluster: 55, component: QE_2017_001815_201.16367_442.0",
          "cluster: 55, component: QE_2017_001815_201.16367_442.0",
          "cluster: 55, component: QE_2017_001816_201.16362_435.0",
          "cluster: 55, component: QE_2017_001816_201.16362_435.0"
         ],
         "type": "scatter",
         "uid": "92748ea9-079b-4357-bac7-db7fb4275348",
         "x": [
          935,
          935,
          945,
          945
         ],
         "xaxis": "x",
         "y": [
          0,
          0.48333333333333334,
          0.48333333333333334,
          0
         ],
         "yaxis": "y"
        },
        {
         "hoverinfo": "text",
         "marker": {
          "color": "rgb(35,205,205)"
         },
         "mode": "lines",
         "text": [
          "cluster: 56, component: QE_2017_001815_209.1535_312.0",
          "cluster: 56, component: QE_2017_001815_209.1535_312.0",
          "cluster: 56, component: QE_2017_001816_209.15344_311.0",
          "cluster: 56, component: QE_2017_001816_209.15344_311.0"
         ],
         "type": "scatter",
         "uid": "adc71ee0-69d3-48bb-8556-e91da3b4ed9c",
         "x": [
          975,
          975,
          985,
          985
         ],
         "xaxis": "x",
         "y": [
          0,
          0.2916666666666667,
          0.2916666666666667,
          0
         ],
         "yaxis": "y"
        },
        {
         "hoverinfo": "text",
         "marker": {
          "color": "rgb(35,205,205)"
         },
         "mode": "lines",
         "text": [
          "cluster: 56, component: QE_2017_001815_209.15349_295.0",
          "cluster: 56, component: QE_2017_001815_209.15349_295.0",
          null,
          null
         ],
         "type": "scatter",
         "uid": "aec699cf-ebe1-48c7-8076-3658ce1e99ea",
         "x": [
          965,
          965,
          980,
          980
         ],
         "xaxis": "x",
         "y": [
          0,
          0.3835616438356164,
          0.3835616438356164,
          0.2916666666666667
         ],
         "yaxis": "y"
        },
        {
         "hoverinfo": "text",
         "marker": {
          "color": "rgb(35,205,205)"
         },
         "mode": "lines",
         "text": [
          "cluster: 56, component: QE_2017_001815_209.15352_479.0",
          "cluster: 56, component: QE_2017_001815_209.15352_479.0",
          null,
          null
         ],
         "type": "scatter",
         "uid": "f3db22a1-36c2-46f2-b734-1ee5c60643da",
         "x": [
          955,
          955,
          972.5,
          972.5
         ],
         "xaxis": "x",
         "y": [
          0,
          0.4473684210526316,
          0.4473684210526316,
          0.3835616438356164
         ],
         "yaxis": "y"
        },
        {
         "hoverinfo": "text",
         "marker": {
          "color": "rgb(133,20,75)"
         },
         "mode": "lines",
         "text": [
          "cluster: 57, component: QE_2017_001814_243.15892_533.0",
          "cluster: 57, component: QE_2017_001814_243.15892_533.0",
          "cluster: 57, component: QE_2017_001814_281.1745_492.0",
          "cluster: 57, component: QE_2017_001814_281.1745_492.0"
         ],
         "type": "scatter",
         "uid": "9762e35b-857b-4571-a0b8-d56a6f390f87",
         "x": [
          995,
          995,
          1005,
          1005
         ],
         "xaxis": "x",
         "y": [
          0,
          0.359375,
          0.359375,
          0
         ],
         "yaxis": "y"
        },
        {
         "hoverinfo": "text",
         "marker": {
          "color": "rgb(255,220,0)"
         },
         "mode": "lines",
         "text": [
          "cluster: 57, component: QE_2017_001815_227.16408_344.0",
          "cluster: 57, component: QE_2017_001815_227.16408_344.0",
          "cluster: 57, component: QE_2017_001815_283.19009_564.0",
          "cluster: 57, component: QE_2017_001815_283.19009_564.0"
         ],
         "type": "scatter",
         "uid": "aa444ac3-3deb-440c-a64e-eb80f4d9563d",
         "x": [
          1025,
          1025,
          1035,
          1035
         ],
         "xaxis": "x",
         "y": [
          0,
          0.47191011235955055,
          0.47191011235955055,
          0
         ],
         "yaxis": "y"
        },
        {
         "hoverinfo": "text",
         "marker": {
          "color": "rgb(255,220,0)"
         },
         "mode": "lines",
         "text": [
          "cluster: 57, component: QE_2017_001814_293.2106_579.0",
          "cluster: 57, component: QE_2017_001814_293.2106_579.0",
          null,
          null
         ],
         "type": "scatter",
         "uid": "061d72d2-d616-4b67-ac45-c6d67a5c83e0",
         "x": [
          1015,
          1015,
          1030,
          1030
         ],
         "xaxis": "x",
         "y": [
          0,
          0.5454545454545454,
          0.5454545454545454,
          0.47191011235955055
         ],
         "yaxis": "y"
        },
        {
         "hoverinfo": "text",
         "marker": {
          "color": "rgb(0,116,217)"
         },
         "mode": "lines",
         "text": [
          null,
          null,
          null,
          null
         ],
         "type": "scatter",
         "uid": "6ca4dbe8-d11e-4ddb-b84c-2e9b35ff1595",
         "x": [
          1000,
          1000,
          1022.5,
          1022.5
         ],
         "xaxis": "x",
         "y": [
          0.359375,
          0.6,
          0.6,
          0.5454545454545454
         ],
         "yaxis": "y"
        },
        {
         "hoverinfo": "text",
         "marker": {
          "color": "rgb(0,116,217)"
         },
         "mode": "lines",
         "text": [
          null,
          null,
          null,
          null
         ],
         "type": "scatter",
         "uid": "7426a81d-7bb8-4fa4-96ab-d67b4dd47603",
         "x": [
          963.75,
          963.75,
          1011.25,
          1011.25
         ],
         "xaxis": "x",
         "y": [
          0.4473684210526316,
          0.6494845360824743,
          0.6494845360824743,
          0.6
         ],
         "yaxis": "y"
        },
        {
         "hoverinfo": "text",
         "marker": {
          "color": "rgb(40,35,35)"
         },
         "mode": "lines",
         "text": [
          "cluster: 58, component: QE_2017_001814_227.1275_293.0",
          "cluster: 58, component: QE_2017_001814_227.1275_293.0",
          "cluster: 58, component: QE_2017_001816_227.12766_295.0",
          "cluster: 58, component: QE_2017_001816_227.12766_295.0"
         ],
         "type": "scatter",
         "uid": "946de5af-5dd1-4e27-a690-6cd2c9b7d16b",
         "x": [
          1055,
          1055,
          1065,
          1065
         ],
         "xaxis": "x",
         "y": [
          0,
          0.3382352941176471,
          0.3382352941176471,
          0
         ],
         "yaxis": "y"
        },
        {
         "hoverinfo": "text",
         "marker": {
          "color": "rgb(0,116,217)"
         },
         "mode": "lines",
         "text": [
          "cluster: 59, component: QE_2017_001815_207.13785_297.0",
          "cluster: 59, component: QE_2017_001815_207.13785_297.0",
          null,
          null
         ],
         "type": "scatter",
         "uid": "0ca706ec-18d7-4c05-a9d3-42e94abae61c",
         "x": [
          1045,
          1045,
          1060,
          1060
         ],
         "xaxis": "x",
         "y": [
          0,
          0.6710526315789473,
          0.6710526315789473,
          0.3382352941176471
         ],
         "yaxis": "y"
        },
        {
         "hoverinfo": "text",
         "marker": {
          "color": "rgb(0,116,217)"
         },
         "mode": "lines",
         "text": [
          null,
          null,
          null,
          null
         ],
         "type": "scatter",
         "uid": "496cc73e-da0d-45b1-af70-80faa40c23c1",
         "x": [
          987.5,
          987.5,
          1052.5,
          1052.5
         ],
         "xaxis": "x",
         "y": [
          0.6494845360824743,
          0.7058823529411765,
          0.7058823529411765,
          0.6710526315789473
         ],
         "yaxis": "y"
        },
        {
         "hoverinfo": "text",
         "marker": {
          "color": "rgb(61,153,112)"
         },
         "mode": "lines",
         "text": [
          "cluster: 60, component: QE_2017_001815_181.1221_767.0",
          "cluster: 60, component: QE_2017_001815_181.1221_767.0",
          "cluster: 60, component: QE_2017_001816_181.12199_794.0",
          "cluster: 60, component: QE_2017_001816_181.12199_794.0"
         ],
         "type": "scatter",
         "uid": "466f52a4-009e-45eb-91c8-3d14291b41b5",
         "x": [
          1075,
          1075,
          1085,
          1085
         ],
         "xaxis": "x",
         "y": [
          0,
          0.2857142857142857,
          0.2857142857142857,
          0
         ],
         "yaxis": "y"
        },
        {
         "hoverinfo": "text",
         "marker": {
          "color": "rgb(255,65,54)"
         },
         "mode": "lines",
         "text": [
          "cluster: 61, component: QE_2017_001814_211.16902_440.0",
          "cluster: 61, component: QE_2017_001814_211.16902_440.0",
          "cluster: 61, component: QE_2017_001815_211.16913_450.0",
          "cluster: 61, component: QE_2017_001815_211.16913_450.0"
         ],
         "type": "scatter",
         "uid": "a8622ba5-8027-44f7-aa34-625e25c46271",
         "x": [
          1115,
          1115,
          1125,
          1125
         ],
         "xaxis": "x",
         "y": [
          0,
          0.19230769230769232,
          0.19230769230769232,
          0
         ],
         "yaxis": "y"
        },
        {
         "hoverinfo": "text",
         "marker": {
          "color": "rgb(255,65,54)"
         },
         "mode": "lines",
         "text": [
          "cluster: 61, component: QE_2017_001815_209.0807_405.0",
          "cluster: 61, component: QE_2017_001815_209.0807_405.0",
          null,
          null
         ],
         "type": "scatter",
         "uid": "959129d8-ff8b-461d-84d2-52e1160378b0",
         "x": [
          1105,
          1105,
          1120,
          1120
         ],
         "xaxis": "x",
         "y": [
          0,
          0.21153846153846154,
          0.21153846153846154,
          0.19230769230769232
         ],
         "yaxis": "y"
        },
        {
         "hoverinfo": "text",
         "marker": {
          "color": "rgb(255,65,54)"
         },
         "mode": "lines",
         "text": [
          "cluster: 61, component: QE_2017_001816_211.16916_405.0",
          "cluster: 61, component: QE_2017_001816_211.16916_405.0",
          null,
          null
         ],
         "type": "scatter",
         "uid": "7cc04ad3-9159-4c87-a907-6036d1d22925",
         "x": [
          1095,
          1095,
          1112.5,
          1112.5
         ],
         "xaxis": "x",
         "y": [
          0,
          0.3,
          0.3,
          0.21153846153846154
         ],
         "yaxis": "y"
        },
        {
         "hoverinfo": "text",
         "marker": {
          "color": "rgb(255,65,54)"
         },
         "mode": "lines",
         "text": [
          "cluster: 61, component: QE_2017_001815_215.164_550.0",
          "cluster: 61, component: QE_2017_001815_215.164_550.0",
          "cluster: 61, component: QE_2017_001816_215.16411_482.0",
          "cluster: 61, component: QE_2017_001816_215.16411_482.0"
         ],
         "type": "scatter",
         "uid": "7a6864e0-36a7-4e8f-9dc9-53d68f707269",
         "x": [
          1135,
          1135,
          1145,
          1145
         ],
         "xaxis": "x",
         "y": [
          0,
          0.48717948717948717,
          0.48717948717948717,
          0
         ],
         "yaxis": "y"
        },
        {
         "hoverinfo": "text",
         "marker": {
          "color": "rgb(255,65,54)"
         },
         "mode": "lines",
         "text": [
          null,
          null,
          null,
          null
         ],
         "type": "scatter",
         "uid": "705cecd3-6dad-4d4c-bb5a-1419a7324d6d",
         "x": [
          1103.75,
          1103.75,
          1140,
          1140
         ],
         "xaxis": "x",
         "y": [
          0.3,
          0.5818181818181818,
          0.5818181818181818,
          0.48717948717948717
         ],
         "yaxis": "y"
        },
        {
         "hoverinfo": "text",
         "marker": {
          "color": "rgb(0,116,217)"
         },
         "mode": "lines",
         "text": [
          null,
          null,
          null,
          null
         ],
         "type": "scatter",
         "uid": "24958fd1-a081-4f23-b850-25a33ba6a1bf",
         "x": [
          1080,
          1080,
          1121.875,
          1121.875
         ],
         "xaxis": "x",
         "y": [
          0.2857142857142857,
          0.7446808510638298,
          0.7446808510638298,
          0.5818181818181818
         ],
         "yaxis": "y"
        },
        {
         "hoverinfo": "text",
         "marker": {
          "color": "rgb(0,116,217)"
         },
         "mode": "lines",
         "text": [
          null,
          null,
          null,
          null
         ],
         "type": "scatter",
         "uid": "c8f43b2f-0f27-4a64-bf76-dbc04c47dde4",
         "x": [
          1020,
          1020,
          1100.9375,
          1100.9375
         ],
         "xaxis": "x",
         "y": [
          0.7058823529411765,
          0.7631578947368421,
          0.7631578947368421,
          0.7446808510638298
         ],
         "yaxis": "y"
        },
        {
         "hoverinfo": "text",
         "marker": {
          "color": "rgb(35,205,205)"
         },
         "mode": "lines",
         "text": [
          "cluster: 62, component: QE_2017_001814_219.17416_517.0",
          "cluster: 62, component: QE_2017_001814_219.17416_517.0",
          "cluster: 62, component: QE_2017_001815_219.17421_516.0",
          "cluster: 62, component: QE_2017_001815_219.17421_516.0"
         ],
         "type": "scatter",
         "uid": "4c126ce0-9fab-4812-af1c-beb520d608cd",
         "x": [
          1165,
          1165,
          1175,
          1175
         ],
         "xaxis": "x",
         "y": [
          0,
          0.25,
          0.25,
          0
         ],
         "yaxis": "y"
        },
        {
         "hoverinfo": "text",
         "marker": {
          "color": "rgb(35,205,205)"
         },
         "mode": "lines",
         "text": [
          "cluster: 62, component: QE_2017_001814_219.17401_452.0",
          "cluster: 62, component: QE_2017_001814_219.17401_452.0",
          "cluster: 62, component: QE_2017_001814_219.17409_442.0",
          "cluster: 62, component: QE_2017_001814_219.17409_442.0"
         ],
         "type": "scatter",
         "uid": "b5269da2-e3a0-4ec1-89c7-f542c30d9fb3",
         "x": [
          1195,
          1195,
          1205,
          1205
         ],
         "xaxis": "x",
         "y": [
          0,
          0.3125,
          0.3125,
          0
         ],
         "yaxis": "y"
        },
        {
         "hoverinfo": "text",
         "marker": {
          "color": "rgb(35,205,205)"
         },
         "mode": "lines",
         "text": [
          "cluster: 62, component: QE_2017_001816_219.17438_502.0",
          "cluster: 62, component: QE_2017_001816_219.17438_502.0",
          null,
          null
         ],
         "type": "scatter",
         "uid": "f92a69cf-a0f7-4424-95c0-df9c9d203fb2",
         "x": [
          1185,
          1185,
          1200,
          1200
         ],
         "xaxis": "x",
         "y": [
          0,
          0.4074074074074074,
          0.4074074074074074,
          0.3125
         ],
         "yaxis": "y"
        },
        {
         "hoverinfo": "text",
         "marker": {
          "color": "rgb(35,205,205)"
         },
         "mode": "lines",
         "text": [
          null,
          null,
          null,
          null
         ],
         "type": "scatter",
         "uid": "44abb1ef-f3c8-4e99-b6bc-ee15bf077abc",
         "x": [
          1170,
          1170,
          1192.5,
          1192.5
         ],
         "xaxis": "x",
         "y": [
          0.25,
          0.4583333333333333,
          0.4583333333333333,
          0.4074074074074074
         ],
         "yaxis": "y"
        },
        {
         "hoverinfo": "text",
         "marker": {
          "color": "rgb(133,20,75)"
         },
         "mode": "lines",
         "text": [
          "cluster: 63, component: QE_2017_001815_191.14287_312.0",
          "cluster: 63, component: QE_2017_001815_191.14287_312.0",
          "cluster: 63, component: QE_2017_001816_191.14291_404.0",
          "cluster: 63, component: QE_2017_001816_191.14291_404.0"
         ],
         "type": "scatter",
         "uid": "a6460c90-2d46-444e-b719-a7adfbe52dd5",
         "x": [
          1225,
          1225,
          1235,
          1235
         ],
         "xaxis": "x",
         "y": [
          0,
          0.43103448275862066,
          0.43103448275862066,
          0
         ],
         "yaxis": "y"
        },
        {
         "hoverinfo": "text",
         "marker": {
          "color": "rgb(133,20,75)"
         },
         "mode": "lines",
         "text": [
          "cluster: 63, component: QE_2017_001814_191.14291_389.0",
          "cluster: 63, component: QE_2017_001814_191.14291_389.0",
          null,
          null
         ],
         "type": "scatter",
         "uid": "f9744588-9eeb-432f-8fc0-54e1b1ee8c6b",
         "x": [
          1215,
          1215,
          1230,
          1230
         ],
         "xaxis": "x",
         "y": [
          0,
          0.5,
          0.5,
          0.43103448275862066
         ],
         "yaxis": "y"
        },
        {
         "hoverinfo": "text",
         "marker": {
          "color": "rgb(0,116,217)"
         },
         "mode": "lines",
         "text": [
          null,
          null,
          null,
          null
         ],
         "type": "scatter",
         "uid": "58f6cfb9-8743-4174-a4f9-b60f39df13ea",
         "x": [
          1181.25,
          1181.25,
          1222.5,
          1222.5
         ],
         "xaxis": "x",
         "y": [
          0.4583333333333333,
          0.68,
          0.68,
          0.5
         ],
         "yaxis": "y"
        },
        {
         "hoverinfo": "text",
         "marker": {
          "color": "rgb(0,116,217)"
         },
         "mode": "lines",
         "text": [
          "cluster: 64, component: QE_2017_001816_137.09584_445.0",
          "cluster: 64, component: QE_2017_001816_137.09584_445.0",
          null,
          null
         ],
         "type": "scatter",
         "uid": "0534ed07-39aa-4455-bd44-7924515d09ac",
         "x": [
          1155,
          1155,
          1201.875,
          1201.875
         ],
         "xaxis": "x",
         "y": [
          0,
          0.782608695652174,
          0.782608695652174,
          0.68
         ],
         "yaxis": "y"
        },
        {
         "hoverinfo": "text",
         "marker": {
          "color": "rgb(0,116,217)"
         },
         "mode": "lines",
         "text": [
          null,
          null,
          null,
          null
         ],
         "type": "scatter",
         "uid": "ad92aa42-a605-409d-b6a4-2d734ee00e6c",
         "x": [
          1060.46875,
          1060.46875,
          1178.4375,
          1178.4375
         ],
         "xaxis": "x",
         "y": [
          0.7631578947368421,
          0.8170731707317073,
          0.8170731707317073,
          0.782608695652174
         ],
         "yaxis": "y"
        },
        {
         "hoverinfo": "text",
         "marker": {
          "color": "rgb(0,116,217)"
         },
         "mode": "lines",
         "text": [
          null,
          null,
          null,
          null
         ],
         "type": "scatter",
         "uid": "7074b37b-01f3-4df5-9e56-1deef092d694",
         "x": [
          940,
          940,
          1119.453125,
          1119.453125
         ],
         "xaxis": "x",
         "y": [
          0.48333333333333334,
          0.8421052631578947,
          0.8421052631578947,
          0.8170731707317073
         ],
         "yaxis": "y"
        },
        {
         "hoverinfo": "text",
         "marker": {
          "color": "rgb(0,116,217)"
         },
         "mode": "lines",
         "text": [
          "cluster: 65, component: QE_2017_001814_209.08058_363.0",
          "cluster: 65, component: QE_2017_001814_209.08058_363.0",
          "cluster: 66, component: QE_2017_001816_207.13779_561.0",
          "cluster: 66, component: QE_2017_001816_207.13779_561.0"
         ],
         "type": "scatter",
         "uid": "b13c37c2-5845-4c97-8395-6f9978fb86fb",
         "x": [
          1245,
          1245,
          1255,
          1255
         ],
         "xaxis": "x",
         "y": [
          0,
          0.8556701030927835,
          0.8556701030927835,
          0
         ],
         "yaxis": "y"
        },
        {
         "hoverinfo": "text",
         "marker": {
          "color": "rgb(0,116,217)"
         },
         "mode": "lines",
         "text": [
          null,
          null,
          null,
          null
         ],
         "type": "scatter",
         "uid": "72a257f4-87f1-4429-ae9d-ee64746e763c",
         "x": [
          1029.7265625,
          1029.7265625,
          1250,
          1250
         ],
         "xaxis": "x",
         "y": [
          0.8421052631578947,
          0.9135802469135802,
          0.9135802469135802,
          0.8556701030927835
         ],
         "yaxis": "y"
        },
        {
         "hoverinfo": "text",
         "marker": {
          "color": "rgb(0,116,217)"
         },
         "mode": "lines",
         "text": [
          null,
          null,
          null,
          null
         ],
         "type": "scatter",
         "uid": "e44459e1-9723-48b3-80ca-10f212f30621",
         "x": [
          901.875,
          901.875,
          1139.86328125,
          1139.86328125
         ],
         "xaxis": "x",
         "y": [
          0.9032258064516129,
          0.9882352941176471,
          0.9882352941176471,
          0.9135802469135802
         ],
         "yaxis": "y"
        },
        {
         "hoverinfo": "text",
         "marker": {
          "color": "rgb(0,116,217)"
         },
         "mode": "lines",
         "text": [
          "cluster: 67, component: QE_2017_001815_333.15173_245.0",
          "cluster: 67, component: QE_2017_001815_333.15173_245.0",
          "cluster: 68, component: QE_2017_001816_333.15204_235.0",
          "cluster: 68, component: QE_2017_001816_333.15204_235.0"
         ],
         "type": "scatter",
         "uid": "d86d41d7-6789-4023-81d2-8b79f5d8170d",
         "x": [
          1265,
          1265,
          1275,
          1275
         ],
         "xaxis": "x",
         "y": [
          0,
          0.8461538461538461,
          0.8461538461538461,
          0
         ],
         "yaxis": "y"
        },
        {
         "hoverinfo": "text",
         "marker": {
          "color": "rgb(0,116,217)"
         },
         "mode": "lines",
         "text": [
          "cluster: 69, component: QE_2017_001814_194.1174_244.0",
          "cluster: 69, component: QE_2017_001814_194.1174_244.0",
          "cluster: 70, component: QE_2017_001816_194.11746_133.0",
          "cluster: 70, component: QE_2017_001816_194.11746_133.0"
         ],
         "type": "scatter",
         "uid": "5f12aa9b-b9f7-4a2b-af69-b54896dce02f",
         "x": [
          1285,
          1285,
          1295,
          1295
         ],
         "xaxis": "x",
         "y": [
          0,
          0.7142857142857143,
          0.7142857142857143,
          0
         ],
         "yaxis": "y"
        },
        {
         "hoverinfo": "text",
         "marker": {
          "color": "rgb(255,220,0)"
         },
         "mode": "lines",
         "text": [
          "cluster: 71, component: QE_2017_001814_320.29471_529.0",
          "cluster: 71, component: QE_2017_001814_320.29471_529.0",
          "cluster: 71, component: QE_2017_001815_320.29486_538.0",
          "cluster: 71, component: QE_2017_001815_320.29486_538.0"
         ],
         "type": "scatter",
         "uid": "f953adec-12a2-42ce-99bd-c50776a628b8",
         "x": [
          1335,
          1335,
          1345,
          1345
         ],
         "xaxis": "x",
         "y": [
          0,
          0.4444444444444444,
          0.4444444444444444,
          0
         ],
         "yaxis": "y"
        },
        {
         "hoverinfo": "text",
         "marker": {
          "color": "rgb(255,220,0)"
         },
         "mode": "lines",
         "text": [
          "cluster: 71, component: QE_2017_001814_320.29477_539.0",
          "cluster: 71, component: QE_2017_001814_320.29477_539.0",
          null,
          null
         ],
         "type": "scatter",
         "uid": "eebe332b-0573-4e2f-b490-ebc5c5d4265d",
         "x": [
          1325,
          1325,
          1340,
          1340
         ],
         "xaxis": "x",
         "y": [
          0,
          0.5833333333333334,
          0.5833333333333334,
          0.4444444444444444
         ],
         "yaxis": "y"
        },
        {
         "hoverinfo": "text",
         "marker": {
          "color": "rgb(0,116,217)"
         },
         "mode": "lines",
         "text": [
          "cluster: 72, component: QE_2017_001814_320.29468_638.0",
          "cluster: 72, component: QE_2017_001814_320.29468_638.0",
          null,
          null
         ],
         "type": "scatter",
         "uid": "b13086af-a6b3-495b-8c26-646bb2ffab45",
         "x": [
          1315,
          1315,
          1332.5,
          1332.5
         ],
         "xaxis": "x",
         "y": [
          0,
          0.7857142857142857,
          0.7857142857142857,
          0.5833333333333334
         ],
         "yaxis": "y"
        },
        {
         "hoverinfo": "text",
         "marker": {
          "color": "rgb(0,116,217)"
         },
         "mode": "lines",
         "text": [
          "cluster: 73, component: QE_2017_001816_320.29483_548.0",
          "cluster: 73, component: QE_2017_001816_320.29483_548.0",
          null,
          null
         ],
         "type": "scatter",
         "uid": "26cd133c-e419-4bdd-b967-cec624c6e047",
         "x": [
          1305,
          1305,
          1323.75,
          1323.75
         ],
         "xaxis": "x",
         "y": [
          0,
          0.9393939393939394,
          0.9393939393939394,
          0.7857142857142857
         ],
         "yaxis": "y"
        },
        {
         "hoverinfo": "text",
         "marker": {
          "color": "rgb(0,116,217)"
         },
         "mode": "lines",
         "text": [
          null,
          null,
          null,
          null
         ],
         "type": "scatter",
         "uid": "13828924-f473-4096-b246-4693b606d6bd",
         "x": [
          1290,
          1290,
          1314.375,
          1314.375
         ],
         "xaxis": "x",
         "y": [
          0.7142857142857143,
          0.9523809523809523,
          0.9523809523809523,
          0.9393939393939394
         ],
         "yaxis": "y"
        },
        {
         "hoverinfo": "text",
         "marker": {
          "color": "rgb(0,116,217)"
         },
         "mode": "lines",
         "text": [
          "cluster: 74, component: QE_2017_001814_241.15384_47.0",
          "cluster: 74, component: QE_2017_001814_241.15384_47.0",
          "cluster: 75, component: QE_2017_001814_241.15446_57.0",
          "cluster: 75, component: QE_2017_001814_241.15446_57.0"
         ],
         "type": "scatter",
         "uid": "f74380d0-4fa4-4ea8-805c-2f7b03f17028",
         "x": [
          1355,
          1355,
          1365,
          1365
         ],
         "xaxis": "x",
         "y": [
          0,
          0.6363636363636364,
          0.6363636363636364,
          0
         ],
         "yaxis": "y"
        },
        {
         "hoverinfo": "text",
         "marker": {
          "color": "rgb(0,116,217)"
         },
         "mode": "lines",
         "text": [
          "cluster: 76, component: QE_2017_001815_332.25827_508.0",
          "cluster: 76, component: QE_2017_001815_332.25827_508.0",
          "cluster: 77, component: QE_2017_001816_332.25842_487.0",
          "cluster: 77, component: QE_2017_001816_332.25842_487.0"
         ],
         "type": "scatter",
         "uid": "c8270e37-200d-4af7-b073-1c7b24cfa14d",
         "x": [
          1385,
          1385,
          1395,
          1395
         ],
         "xaxis": "x",
         "y": [
          0,
          0.6829268292682927,
          0.6829268292682927,
          0
         ],
         "yaxis": "y"
        },
        {
         "hoverinfo": "text",
         "marker": {
          "color": "rgb(0,116,217)"
         },
         "mode": "lines",
         "text": [
          "cluster: 78, component: QE_2017_001814_332.25827_467.0",
          "cluster: 78, component: QE_2017_001814_332.25827_467.0",
          null,
          null
         ],
         "type": "scatter",
         "uid": "1d97d01f-c4ac-4d5d-b502-84d297ab248c",
         "x": [
          1375,
          1375,
          1390,
          1390
         ],
         "xaxis": "x",
         "y": [
          0,
          0.8,
          0.8,
          0.6829268292682927
         ],
         "yaxis": "y"
        },
        {
         "hoverinfo": "text",
         "marker": {
          "color": "rgb(0,116,217)"
         },
         "mode": "lines",
         "text": [
          null,
          null,
          null,
          null
         ],
         "type": "scatter",
         "uid": "55da1c4e-28ba-4373-8a5b-dc31d039edad",
         "x": [
          1360,
          1360,
          1382.5,
          1382.5
         ],
         "xaxis": "x",
         "y": [
          0.6363636363636364,
          0.9666666666666667,
          0.9666666666666667,
          0.8
         ],
         "yaxis": "y"
        },
        {
         "hoverinfo": "text",
         "marker": {
          "color": "rgb(0,116,217)"
         },
         "mode": "lines",
         "text": [
          null,
          null,
          null,
          null
         ],
         "type": "scatter",
         "uid": "e6db35a7-9d95-4633-82cd-2621aa80d7a3",
         "x": [
          1302.1875,
          1302.1875,
          1371.25,
          1371.25
         ],
         "xaxis": "x",
         "y": [
          0.9523809523809523,
          0.9772727272727273,
          0.9772727272727273,
          0.9666666666666667
         ],
         "yaxis": "y"
        },
        {
         "hoverinfo": "text",
         "marker": {
          "color": "rgb(0,116,217)"
         },
         "mode": "lines",
         "text": [
          "cluster: 79, component: QE_2017_001814_319.13638_117.0",
          "cluster: 79, component: QE_2017_001814_319.13638_117.0",
          "cluster: 80, component: QE_2017_001816_319.13614_143.0",
          "cluster: 80, component: QE_2017_001816_319.13614_143.0"
         ],
         "type": "scatter",
         "uid": "e36fc99e-5d61-41c3-8be9-ca2e28e84a82",
         "x": [
          1405,
          1405,
          1415,
          1415
         ],
         "xaxis": "x",
         "y": [
          0,
          0.75,
          0.75,
          0
         ],
         "yaxis": "y"
        },
        {
         "hoverinfo": "text",
         "marker": {
          "color": "rgb(40,35,35)"
         },
         "mode": "lines",
         "text": [
          "cluster: 81, component: QE_2017_001815_219.10139_360.0",
          "cluster: 81, component: QE_2017_001815_219.10139_360.0",
          "cluster: 81, component: QE_2017_001816_219.10153_382.0",
          "cluster: 81, component: QE_2017_001816_219.10153_382.0"
         ],
         "type": "scatter",
         "uid": "b83b3a63-a178-48b3-b8bb-73c5a97266e1",
         "x": [
          1445,
          1445,
          1455,
          1455
         ],
         "xaxis": "x",
         "y": [
          0,
          0.38181818181818183,
          0.38181818181818183,
          0
         ],
         "yaxis": "y"
        },
        {
         "hoverinfo": "text",
         "marker": {
          "color": "rgb(40,35,35)"
         },
         "mode": "lines",
         "text": [
          "cluster: 81, component: QE_2017_001815_219.10159_438.0",
          "cluster: 81, component: QE_2017_001815_219.10159_438.0",
          null,
          null
         ],
         "type": "scatter",
         "uid": "d0599819-8988-41e6-8467-e2a072c9d125",
         "x": [
          1435,
          1435,
          1450,
          1450
         ],
         "xaxis": "x",
         "y": [
          0,
          0.4647887323943662,
          0.4647887323943662,
          0.38181818181818183
         ],
         "yaxis": "y"
        },
        {
         "hoverinfo": "text",
         "marker": {
          "color": "rgb(0,116,217)"
         },
         "mode": "lines",
         "text": [
          "cluster: 82, component: QE_2017_001814_251.09117_393.0",
          "cluster: 82, component: QE_2017_001814_251.09117_393.0",
          null,
          null
         ],
         "type": "scatter",
         "uid": "771fcc68-9d52-401e-8fc9-6be226666608",
         "x": [
          1425,
          1425,
          1442.5,
          1442.5
         ],
         "xaxis": "x",
         "y": [
          0,
          0.6527777777777778,
          0.6527777777777778,
          0.4647887323943662
         ],
         "yaxis": "y"
        },
        {
         "hoverinfo": "text",
         "marker": {
          "color": "rgb(61,153,112)"
         },
         "mode": "lines",
         "text": [
          "cluster: 83, component: QE_2017_001814_291.1442_241.0",
          "cluster: 83, component: QE_2017_001814_291.1442_241.0",
          "cluster: 83, component: QE_2017_001816_291.14493_243.0",
          "cluster: 83, component: QE_2017_001816_291.14493_243.0"
         ],
         "type": "scatter",
         "uid": "c08ef52e-3c22-4af4-b340-5daf236c22be",
         "x": [
          1465,
          1465,
          1475,
          1475
         ],
         "xaxis": "x",
         "y": [
          0,
          0.37037037037037035,
          0.37037037037037035,
          0
         ],
         "yaxis": "y"
        },
        {
         "hoverinfo": "text",
         "marker": {
          "color": "rgb(61,153,112)"
         },
         "mode": "lines",
         "text": [
          "cluster: 83, component: QE_2017_001815_273.13425_199.0",
          "cluster: 83, component: QE_2017_001815_273.13425_199.0",
          "cluster: 83, component: QE_2017_001815_273.13434_243.0",
          "cluster: 83, component: QE_2017_001815_273.13434_243.0"
         ],
         "type": "scatter",
         "uid": "b48647e0-3689-4865-82ab-acf645c29feb",
         "x": [
          1495,
          1495,
          1505,
          1505
         ],
         "xaxis": "x",
         "y": [
          0,
          0.3333333333333333,
          0.3333333333333333,
          0
         ],
         "yaxis": "y"
        },
        {
         "hoverinfo": "text",
         "marker": {
          "color": "rgb(61,153,112)"
         },
         "mode": "lines",
         "text": [
          "cluster: 83, component: QE_2017_001816_291.14499_200.0",
          "cluster: 83, component: QE_2017_001816_291.14499_200.0",
          null,
          null
         ],
         "type": "scatter",
         "uid": "4e6fda57-aec4-493b-ad76-8318088b0285",
         "x": [
          1485,
          1485,
          1500,
          1500
         ],
         "xaxis": "x",
         "y": [
          0,
          0.41935483870967744,
          0.41935483870967744,
          0.3333333333333333
         ],
         "yaxis": "y"
        },
        {
         "hoverinfo": "text",
         "marker": {
          "color": "rgb(61,153,112)"
         },
         "mode": "lines",
         "text": [
          null,
          null,
          null,
          null
         ],
         "type": "scatter",
         "uid": "422bca9b-8f40-41e1-a246-b9e7b4a88bed",
         "x": [
          1470,
          1470,
          1492.5,
          1492.5
         ],
         "xaxis": "x",
         "y": [
          0.37037037037037035,
          0.5161290322580645,
          0.5161290322580645,
          0.41935483870967744
         ],
         "yaxis": "y"
        },
        {
         "hoverinfo": "text",
         "marker": {
          "color": "rgb(255,65,54)"
         },
         "mode": "lines",
         "text": [
          "cluster: 84, component: QE_2017_001815_235.14398_226.0",
          "cluster: 84, component: QE_2017_001815_235.14398_226.0",
          "cluster: 84, component: QE_2017_001816_235.14397_183.0",
          "cluster: 84, component: QE_2017_001816_235.14397_183.0"
         ],
         "type": "scatter",
         "uid": "8cfbff62-db4a-4176-95dc-a05c32197be2",
         "x": [
          1525,
          1525,
          1535,
          1535
         ],
         "xaxis": "x",
         "y": [
          0,
          0.5263157894736842,
          0.5263157894736842,
          0
         ],
         "yaxis": "y"
        },
        {
         "hoverinfo": "text",
         "marker": {
          "color": "rgb(0,116,217)"
         },
         "mode": "lines",
         "text": [
          "cluster: 85, component: QE_2017_001815_251.13873_202.0",
          "cluster: 85, component: QE_2017_001815_251.13873_202.0",
          null,
          null
         ],
         "type": "scatter",
         "uid": "46af34da-9ea4-4d24-b615-d936534e102c",
         "x": [
          1515,
          1515,
          1530,
          1530
         ],
         "xaxis": "x",
         "y": [
          0,
          0.8636363636363636,
          0.8636363636363636,
          0.5263157894736842
         ],
         "yaxis": "y"
        },
        {
         "hoverinfo": "text",
         "marker": {
          "color": "rgb(0,116,217)"
         },
         "mode": "lines",
         "text": [
          null,
          null,
          null,
          null
         ],
         "type": "scatter",
         "uid": "a57cdd0f-0416-4446-b40f-08611fad94be",
         "x": [
          1481.25,
          1481.25,
          1522.5,
          1522.5
         ],
         "xaxis": "x",
         "y": [
          0.5161290322580645,
          0.9166666666666666,
          0.9166666666666666,
          0.8636363636363636
         ],
         "yaxis": "y"
        },
        {
         "hoverinfo": "text",
         "marker": {
          "color": "rgb(0,116,217)"
         },
         "mode": "lines",
         "text": [
          null,
          null,
          null,
          null
         ],
         "type": "scatter",
         "uid": "f03c9a34-f1f0-49a2-9878-f2173ab858bc",
         "x": [
          1433.75,
          1433.75,
          1501.875,
          1501.875
         ],
         "xaxis": "x",
         "y": [
          0.6527777777777778,
          0.9891304347826086,
          0.9891304347826086,
          0.9166666666666666
         ],
         "yaxis": "y"
        },
        {
         "hoverinfo": "text",
         "marker": {
          "color": "rgb(35,205,205)"
         },
         "mode": "lines",
         "text": [
          "cluster: 86, component: QE_2017_001814_250.10149_516.0",
          "cluster: 86, component: QE_2017_001814_250.10149_516.0",
          "cluster: 86, component: QE_2017_001815_222.07033_315.0",
          "cluster: 86, component: QE_2017_001815_222.07033_315.0"
         ],
         "type": "scatter",
         "uid": "37b123ca-4405-4051-a8a8-595ff8f27965",
         "x": [
          1565,
          1565,
          1575,
          1575
         ],
         "xaxis": "x",
         "y": [
          0,
          0.5081967213114754,
          0.5081967213114754,
          0
         ],
         "yaxis": "y"
        },
        {
         "hoverinfo": "text",
         "marker": {
          "color": "rgb(0,116,217)"
         },
         "mode": "lines",
         "text": [
          "cluster: 87, component: QE_2017_001816_268.59351_445.0",
          "cluster: 87, component: QE_2017_001816_268.59351_445.0",
          null,
          null
         ],
         "type": "scatter",
         "uid": "16e1767a-c439-4300-bf25-096ddb10cf1b",
         "x": [
          1555,
          1555,
          1570,
          1570
         ],
         "xaxis": "x",
         "y": [
          0,
          0.6923076923076923,
          0.6923076923076923,
          0.5081967213114754
         ],
         "yaxis": "y"
        },
        {
         "hoverinfo": "text",
         "marker": {
          "color": "rgb(133,20,75)"
         },
         "mode": "lines",
         "text": [
          "cluster: 88, component: QE_2017_001814_247.05975_245.0",
          "cluster: 88, component: QE_2017_001814_247.05975_245.0",
          "cluster: 88, component: QE_2017_001815_247.0598_242.0",
          "cluster: 88, component: QE_2017_001815_247.0598_242.0"
         ],
         "type": "scatter",
         "uid": "95da162b-3d9a-4a48-b5ac-1148ff9270f5",
         "x": [
          1585,
          1585,
          1595,
          1595
         ],
         "xaxis": "x",
         "y": [
          0,
          0.35294117647058826,
          0.35294117647058826,
          0
         ],
         "yaxis": "y"
        },
        {
         "hoverinfo": "text",
         "marker": {
          "color": "rgb(0,116,217)"
         },
         "mode": "lines",
         "text": [
          "cluster: 89, component: QE_2017_001815_212.03883_181.0",
          "cluster: 89, component: QE_2017_001815_212.03883_181.0",
          "cluster: 90, component: QE_2017_001815_214.56488_409.0",
          "cluster: 90, component: QE_2017_001815_214.56488_409.0"
         ],
         "type": "scatter",
         "uid": "da33cefa-40ca-4cb8-bf88-7824877edd60",
         "x": [
          1615,
          1615,
          1625,
          1625
         ],
         "xaxis": "x",
         "y": [
          0,
          0.7777777777777778,
          0.7777777777777778,
          0
         ],
         "yaxis": "y"
        },
        {
         "hoverinfo": "text",
         "marker": {
          "color": "rgb(0,116,217)"
         },
         "mode": "lines",
         "text": [
          "cluster: 91, component: QE_2017_001816_219.04672_291.0",
          "cluster: 91, component: QE_2017_001816_219.04672_291.0",
          null,
          null
         ],
         "type": "scatter",
         "uid": "4511df91-e903-43e8-9089-9924ed42fdbe",
         "x": [
          1605,
          1605,
          1620,
          1620
         ],
         "xaxis": "x",
         "y": [
          0,
          0.8125,
          0.8125,
          0.7777777777777778
         ],
         "yaxis": "y"
        },
        {
         "hoverinfo": "text",
         "marker": {
          "color": "rgb(0,116,217)"
         },
         "mode": "lines",
         "text": [
          null,
          null,
          null,
          null
         ],
         "type": "scatter",
         "uid": "bb0eefd4-d9ea-4ccb-a08e-4053b1be82b2",
         "x": [
          1590,
          1590,
          1612.5,
          1612.5
         ],
         "xaxis": "x",
         "y": [
          0.35294117647058826,
          0.8571428571428571,
          0.8571428571428571,
          0.8125
         ],
         "yaxis": "y"
        },
        {
         "hoverinfo": "text",
         "marker": {
          "color": "rgb(0,116,217)"
         },
         "mode": "lines",
         "text": [
          null,
          null,
          null,
          null
         ],
         "type": "scatter",
         "uid": "ad25f491-f89a-43bf-a2a3-763b66e1d5bc",
         "x": [
          1562.5,
          1562.5,
          1601.25,
          1601.25
         ],
         "xaxis": "x",
         "y": [
          0.6923076923076923,
          0.9178082191780822,
          0.9178082191780822,
          0.8571428571428571
         ],
         "yaxis": "y"
        },
        {
         "hoverinfo": "text",
         "marker": {
          "color": "rgb(0,116,217)"
         },
         "mode": "lines",
         "text": [
          "cluster: 92, component: QE_2017_001815_214.51021_60.0",
          "cluster: 92, component: QE_2017_001815_214.51021_60.0",
          null,
          null
         ],
         "type": "scatter",
         "uid": "7f78a712-127b-40fe-819d-67f02a231c3c",
         "x": [
          1545,
          1545,
          1581.875,
          1581.875
         ],
         "xaxis": "x",
         "y": [
          0,
          0.9534883720930233,
          0.9534883720930233,
          0.9178082191780822
         ],
         "yaxis": "y"
        },
        {
         "hoverinfo": "text",
         "marker": {
          "color": "rgb(255,220,0)"
         },
         "mode": "lines",
         "text": [
          "cluster: 93, component: QE_2017_001815_246.14465_137.0",
          "cluster: 93, component: QE_2017_001815_246.14465_137.0",
          "cluster: 93, component: QE_2017_001815_247.12865_158.0",
          "cluster: 93, component: QE_2017_001815_247.12865_158.0"
         ],
         "type": "scatter",
         "uid": "2214ab0a-ee55-4f29-8e3d-869c1f04068c",
         "x": [
          1655,
          1655,
          1665,
          1665
         ],
         "xaxis": "x",
         "y": [
          0,
          0.5,
          0.5,
          0
         ],
         "yaxis": "y"
        },
        {
         "hoverinfo": "text",
         "marker": {
          "color": "rgb(40,35,35)"
         },
         "mode": "lines",
         "text": [
          "cluster: 94, component: QE_2017_001814_260.16037_143.0",
          "cluster: 94, component: QE_2017_001814_260.16037_143.0",
          "cluster: 94, component: QE_2017_001816_260.16022_145.0",
          "cluster: 94, component: QE_2017_001816_260.16022_145.0"
         ],
         "type": "scatter",
         "uid": "e52637f2-eda9-42cb-9576-3eb74cc0371e",
         "x": [
          1675,
          1675,
          1685,
          1685
         ],
         "xaxis": "x",
         "y": [
          0,
          0.2857142857142857,
          0.2857142857142857,
          0
         ],
         "yaxis": "y"
        },
        {
         "hoverinfo": "text",
         "marker": {
          "color": "rgb(61,153,112)"
         },
         "mode": "lines",
         "text": [
          "cluster: 95, component: QE_2017_001814_233.14948_126.0",
          "cluster: 95, component: QE_2017_001814_233.14948_126.0",
          "cluster: 95, component: QE_2017_001816_233.14955_129.0",
          "cluster: 95, component: QE_2017_001816_233.14955_129.0"
         ],
         "type": "scatter",
         "uid": "73d068d3-676d-4f33-9dd2-410409a371b2",
         "x": [
          1705,
          1705,
          1715,
          1715
         ],
         "xaxis": "x",
         "y": [
          0,
          0.2631578947368421,
          0.2631578947368421,
          0
         ],
         "yaxis": "y"
        },
        {
         "hoverinfo": "text",
         "marker": {
          "color": "rgb(61,153,112)"
         },
         "mode": "lines",
         "text": [
          "cluster: 95, component: QE_2017_001814_233.14957_152.0",
          "cluster: 95, component: QE_2017_001814_233.14957_152.0",
          null,
          null
         ],
         "type": "scatter",
         "uid": "350387dd-27c1-4f2f-b3af-240b430f687f",
         "x": [
          1695,
          1695,
          1710,
          1710
         ],
         "xaxis": "x",
         "y": [
          0,
          0.5416666666666666,
          0.5416666666666666,
          0.2631578947368421
         ],
         "yaxis": "y"
        },
        {
         "hoverinfo": "text",
         "marker": {
          "color": "rgb(0,116,217)"
         },
         "mode": "lines",
         "text": [
          null,
          null,
          null,
          null
         ],
         "type": "scatter",
         "uid": "763b75bf-5f7f-4012-b2c0-cf23dd9d5bdf",
         "x": [
          1680,
          1680,
          1702.5,
          1702.5
         ],
         "xaxis": "x",
         "y": [
          0.2857142857142857,
          0.8648648648648649,
          0.8648648648648649,
          0.5416666666666666
         ],
         "yaxis": "y"
        },
        {
         "hoverinfo": "text",
         "marker": {
          "color": "rgb(0,116,217)"
         },
         "mode": "lines",
         "text": [
          null,
          null,
          null,
          null
         ],
         "type": "scatter",
         "uid": "2d2f2750-264c-4b7d-b91d-f7817319c3a4",
         "x": [
          1660,
          1660,
          1691.25,
          1691.25
         ],
         "xaxis": "x",
         "y": [
          0.5,
          0.9574468085106383,
          0.9574468085106383,
          0.8648648648648649
         ],
         "yaxis": "y"
        },
        {
         "hoverinfo": "text",
         "marker": {
          "color": "rgb(0,116,217)"
         },
         "mode": "lines",
         "text": [
          "cluster: 96, component: QE_2017_001816_132.04436_283.0",
          "cluster: 96, component: QE_2017_001816_132.04436_283.0",
          null,
          null
         ],
         "type": "scatter",
         "uid": "838017ad-ca40-4df0-ae52-40da928c8bdf",
         "x": [
          1645,
          1645,
          1675.625,
          1675.625
         ],
         "xaxis": "x",
         "y": [
          0,
          0.98,
          0.98,
          0.9574468085106383
         ],
         "yaxis": "y"
        },
        {
         "hoverinfo": "text",
         "marker": {
          "color": "rgb(0,116,217)"
         },
         "mode": "lines",
         "text": [
          "cluster: 97, component: QE_2017_001815_260.16016_64.0",
          "cluster: 97, component: QE_2017_001815_260.16016_64.0",
          null,
          null
         ],
         "type": "scatter",
         "uid": "3624fde4-7be2-4d3f-8e35-7966f1954805",
         "x": [
          1635,
          1635,
          1660.3125,
          1660.3125
         ],
         "xaxis": "x",
         "y": [
          0,
          0.9846153846153847,
          0.9846153846153847,
          0.98
         ],
         "yaxis": "y"
        },
        {
         "hoverinfo": "text",
         "marker": {
          "color": "rgb(0,116,217)"
         },
         "mode": "lines",
         "text": [
          "cluster: 98, component: QE_2017_001815_221.12837_99.0",
          "cluster: 98, component: QE_2017_001815_221.12837_99.0",
          "cluster: 99, component: QE_2017_001816_237.12325_171.0",
          "cluster: 99, component: QE_2017_001816_237.12325_171.0"
         ],
         "type": "scatter",
         "uid": "1f839e5a-4bfb-4841-ad56-3e9f23b0cccc",
         "x": [
          1725,
          1725,
          1735,
          1735
         ],
         "xaxis": "x",
         "y": [
          0,
          0.7142857142857143,
          0.7142857142857143,
          0
         ],
         "yaxis": "y"
        },
        {
         "hoverinfo": "text",
         "marker": {
          "color": "rgb(0,116,217)"
         },
         "mode": "lines",
         "text": [
          "cluster: 100, component: QE_2017_001814_237.12305_220.0",
          "cluster: 100, component: QE_2017_001814_237.12305_220.0",
          "cluster: 101, component: QE_2017_001816_237.12323_53.0",
          "cluster: 101, component: QE_2017_001816_237.12323_53.0"
         ],
         "type": "scatter",
         "uid": "01c0ec73-ac25-41ef-a01c-3e4aeb3bd10b",
         "x": [
          1745,
          1745,
          1755,
          1755
         ],
         "xaxis": "x",
         "y": [
          0,
          0.9444444444444444,
          0.9444444444444444,
          0
         ],
         "yaxis": "y"
        },
        {
         "hoverinfo": "text",
         "marker": {
          "color": "rgb(0,116,217)"
         },
         "mode": "lines",
         "text": [
          null,
          null,
          null,
          null
         ],
         "type": "scatter",
         "uid": "172eb381-c2e7-43d2-98df-b7d47873e7c5",
         "x": [
          1730,
          1730,
          1750,
          1750
         ],
         "xaxis": "x",
         "y": [
          0.7142857142857143,
          0.9761904761904762,
          0.9761904761904762,
          0.9444444444444444
         ],
         "yaxis": "y"
        },
        {
         "hoverinfo": "text",
         "marker": {
          "color": "rgb(255,65,54)"
         },
         "mode": "lines",
         "text": [
          "cluster: 102, component: QE_2017_001814_229.15399_46.0",
          "cluster: 102, component: QE_2017_001814_229.15399_46.0",
          "cluster: 102, component: QE_2017_001816_229.15451_66.0",
          "cluster: 102, component: QE_2017_001816_229.15451_66.0"
         ],
         "type": "scatter",
         "uid": "dfe8792b-dd1d-48fb-8fe9-2e245d1b5f7f",
         "x": [
          1775,
          1775,
          1785,
          1785
         ],
         "xaxis": "x",
         "y": [
          0,
          0.38461538461538464,
          0.38461538461538464,
          0
         ],
         "yaxis": "y"
        },
        {
         "hoverinfo": "text",
         "marker": {
          "color": "rgb(0,116,217)"
         },
         "mode": "lines",
         "text": [
          "cluster: 103, component: QE_2017_001816_229.15469_52.0",
          "cluster: 103, component: QE_2017_001816_229.15469_52.0",
          null,
          null
         ],
         "type": "scatter",
         "uid": "2c05e77b-de1f-4112-a7f2-4bf7eb37d544",
         "x": [
          1765,
          1765,
          1780,
          1780
         ],
         "xaxis": "x",
         "y": [
          0,
          0.875,
          0.875,
          0.38461538461538464
         ],
         "yaxis": "y"
        },
        {
         "hoverinfo": "text",
         "marker": {
          "color": "rgb(35,205,205)"
         },
         "mode": "lines",
         "text": [
          "cluster: 104, component: QE_2017_001814_182.08116_51.0",
          "cluster: 104, component: QE_2017_001814_182.08116_51.0",
          "cluster: 104, component: QE_2017_001816_182.08116_55.0",
          "cluster: 104, component: QE_2017_001816_182.08116_55.0"
         ],
         "type": "scatter",
         "uid": "f74adfc4-4244-4da0-bae8-6f195a461799",
         "x": [
          1795,
          1795,
          1805,
          1805
         ],
         "xaxis": "x",
         "y": [
          0,
          0.4375,
          0.4375,
          0
         ],
         "yaxis": "y"
        },
        {
         "hoverinfo": "text",
         "marker": {
          "color": "rgb(133,20,75)"
         },
         "mode": "lines",
         "text": [
          "cluster: 105, component: QE_2017_001815_194.04474_330.0",
          "cluster: 105, component: QE_2017_001815_194.04474_330.0",
          "cluster: 105, component: QE_2017_001816_212.05518_300.0",
          "cluster: 105, component: QE_2017_001816_212.05518_300.0"
         ],
         "type": "scatter",
         "uid": "4f78b7f9-9847-4c79-ae88-7f2db0cd6151",
         "x": [
          1815,
          1815,
          1825,
          1825
         ],
         "xaxis": "x",
         "y": [
          0,
          0.5370370370370371,
          0.5370370370370371,
          0
         ],
         "yaxis": "y"
        },
        {
         "hoverinfo": "text",
         "marker": {
          "color": "rgb(0,116,217)"
         },
         "mode": "lines",
         "text": [
          null,
          null,
          null,
          null
         ],
         "type": "scatter",
         "uid": "6bc65494-b496-427d-9bb2-51602642e486",
         "x": [
          1800,
          1800,
          1820,
          1820
         ],
         "xaxis": "x",
         "y": [
          0.4375,
          0.921875,
          0.921875,
          0.5370370370370371
         ],
         "yaxis": "y"
        },
        {
         "hoverinfo": "text",
         "marker": {
          "color": "rgb(255,220,0)"
         },
         "mode": "lines",
         "text": [
          "cluster: 106, component: QE_2017_001814_177.05418_236.0",
          "cluster: 106, component: QE_2017_001814_177.05418_236.0",
          "cluster: 106, component: QE_2017_001815_177.05444_307.0",
          "cluster: 106, component: QE_2017_001815_177.05444_307.0"
         ],
         "type": "scatter",
         "uid": "0e210bb3-761f-4150-9eeb-a0605ee6378e",
         "x": [
          1845,
          1845,
          1855,
          1855
         ],
         "xaxis": "x",
         "y": [
          0,
          0.35,
          0.35,
          0
         ],
         "yaxis": "y"
        },
        {
         "hoverinfo": "text",
         "marker": {
          "color": "rgb(255,220,0)"
         },
         "mode": "lines",
         "text": [
          "cluster: 106, component: QE_2017_001816_177.05449_217.0",
          "cluster: 106, component: QE_2017_001816_177.05449_217.0",
          null,
          null
         ],
         "type": "scatter",
         "uid": "eebac0f0-6722-4862-a45c-d32067b2893a",
         "x": [
          1835,
          1835,
          1850,
          1850
         ],
         "xaxis": "x",
         "y": [
          0,
          0.391304347826087,
          0.391304347826087,
          0.35
         ],
         "yaxis": "y"
        },
        {
         "hoverinfo": "text",
         "marker": {
          "color": "rgb(40,35,35)"
         },
         "mode": "lines",
         "text": [
          "cluster: 107, component: QE_2017_001816_199.98769_294.0",
          "cluster: 107, component: QE_2017_001816_199.98769_294.0",
          "cluster: 107, component: QE_2017_001816_199.98776_304.0",
          "cluster: 107, component: QE_2017_001816_199.98776_304.0"
         ],
         "type": "scatter",
         "uid": "11f06a3d-49c1-4c1d-b5da-0c9815af3470",
         "x": [
          1865,
          1865,
          1875,
          1875
         ],
         "xaxis": "x",
         "y": [
          0,
          0.34146341463414637,
          0.34146341463414637,
          0
         ],
         "yaxis": "y"
        },
        {
         "hoverinfo": "text",
         "marker": {
          "color": "rgb(40,35,35)"
         },
         "mode": "lines",
         "text": [
          "cluster: 107, component: QE_2017_001814_199.98778_290.0",
          "cluster: 107, component: QE_2017_001814_199.98778_290.0",
          "cluster: 107, component: QE_2017_001815_199.98779_30.0",
          "cluster: 107, component: QE_2017_001815_199.98779_30.0"
         ],
         "type": "scatter",
         "uid": "d8e1ffcd-3adf-446c-9d5f-7d010b0c8cf3",
         "x": [
          1885,
          1885,
          1895,
          1895
         ],
         "xaxis": "x",
         "y": [
          0,
          0.3,
          0.3,
          0
         ],
         "yaxis": "y"
        },
        {
         "hoverinfo": "text",
         "marker": {
          "color": "rgb(40,35,35)"
         },
         "mode": "lines",
         "text": [
          "cluster: 107, component: QE_2017_001815_199.98772_326.0",
          "cluster: 107, component: QE_2017_001815_199.98772_326.0",
          "cluster: 107, component: QE_2017_001816_199.98781_313.0",
          "cluster: 107, component: QE_2017_001816_199.98781_313.0"
         ],
         "type": "scatter",
         "uid": "24d80132-68fc-4ac3-a1a8-bd609f4a4933",
         "x": [
          1905,
          1905,
          1915,
          1915
         ],
         "xaxis": "x",
         "y": [
          0,
          0.18181818181818182,
          0.18181818181818182,
          0
         ],
         "yaxis": "y"
        },
        {
         "hoverinfo": "text",
         "marker": {
          "color": "rgb(40,35,35)"
         },
         "mode": "lines",
         "text": [
          "cluster: 107, component: QE_2017_001816_199.98776_254.0",
          "cluster: 107, component: QE_2017_001816_199.98776_254.0",
          "cluster: 107, component: QE_2017_001816_199.98779_335.0",
          "cluster: 107, component: QE_2017_001816_199.98779_335.0"
         ],
         "type": "scatter",
         "uid": "261a8e0e-e417-46a3-af85-04cc0430a761",
         "x": [
          1935,
          1935,
          1945,
          1945
         ],
         "xaxis": "x",
         "y": [
          0,
          0.25,
          0.25,
          0
         ],
         "yaxis": "y"
        },
        {
         "hoverinfo": "text",
         "marker": {
          "color": "rgb(40,35,35)"
         },
         "mode": "lines",
         "text": [
          "cluster: 107, component: QE_2017_001816_199.98772_359.0",
          "cluster: 107, component: QE_2017_001816_199.98772_359.0",
          null,
          null
         ],
         "type": "scatter",
         "uid": "3bd02766-270a-4b63-804c-ef02ba12bee0",
         "x": [
          1925,
          1925,
          1940,
          1940
         ],
         "xaxis": "x",
         "y": [
          0,
          0.3125,
          0.3125,
          0.25
         ],
         "yaxis": "y"
        },
        {
         "hoverinfo": "text",
         "marker": {
          "color": "rgb(40,35,35)"
         },
         "mode": "lines",
         "text": [
          null,
          null,
          null,
          null
         ],
         "type": "scatter",
         "uid": "1e7dfe4d-747e-4f65-8442-2137230af60d",
         "x": [
          1910,
          1910,
          1932.5,
          1932.5
         ],
         "xaxis": "x",
         "y": [
          0.18181818181818182,
          0.36363636363636365,
          0.36363636363636365,
          0.3125
         ],
         "yaxis": "y"
        },
        {
         "hoverinfo": "text",
         "marker": {
          "color": "rgb(40,35,35)"
         },
         "mode": "lines",
         "text": [
          null,
          null,
          null,
          null
         ],
         "type": "scatter",
         "uid": "2d2b80ea-cb62-47c3-8c82-c5ae12f2c1b1",
         "x": [
          1890,
          1890,
          1921.25,
          1921.25
         ],
         "xaxis": "x",
         "y": [
          0.3,
          0.42424242424242425,
          0.42424242424242425,
          0.36363636363636365
         ],
         "yaxis": "y"
        },
        {
         "hoverinfo": "text",
         "marker": {
          "color": "rgb(40,35,35)"
         },
         "mode": "lines",
         "text": [
          null,
          null,
          null,
          null
         ],
         "type": "scatter",
         "uid": "e998a0cd-d71e-4979-807b-af98fa42a2f9",
         "x": [
          1870,
          1870,
          1905.625,
          1905.625
         ],
         "xaxis": "x",
         "y": [
          0.34146341463414637,
          0.47368421052631576,
          0.47368421052631576,
          0.42424242424242425
         ],
         "yaxis": "y"
        },
        {
         "hoverinfo": "text",
         "marker": {
          "color": "rgb(0,116,217)"
         },
         "mode": "lines",
         "text": [
          null,
          null,
          null,
          null
         ],
         "type": "scatter",
         "uid": "29978e69-1bab-4254-abcf-293e018727e4",
         "x": [
          1842.5,
          1842.5,
          1887.8125,
          1887.8125
         ],
         "xaxis": "x",
         "y": [
          0.391304347826087,
          0.8214285714285714,
          0.8214285714285714,
          0.47368421052631576
         ],
         "yaxis": "y"
        },
        {
         "hoverinfo": "text",
         "marker": {
          "color": "rgb(0,116,217)"
         },
         "mode": "lines",
         "text": [
          "cluster: 108, component: QE_2017_001815_463.12268_358.0",
          "cluster: 108, component: QE_2017_001815_463.12268_358.0",
          "cluster: 109, component: QE_2017_001815_625.17633_345.0",
          "cluster: 109, component: QE_2017_001815_625.17633_345.0"
         ],
         "type": "scatter",
         "uid": "b46ed09e-1d90-4de0-aaa9-30bee1e47a78",
         "x": [
          1975,
          1975,
          1985,
          1985
         ],
         "xaxis": "x",
         "y": [
          0,
          0.6774193548387096,
          0.6774193548387096,
          0
         ],
         "yaxis": "y"
        },
        {
         "hoverinfo": "text",
         "marker": {
          "color": "rgb(0,116,217)"
         },
         "mode": "lines",
         "text": [
          "cluster: 110, component: QE_2017_001815_595.16559_315.0",
          "cluster: 110, component: QE_2017_001815_595.16559_315.0",
          null,
          null
         ],
         "type": "scatter",
         "uid": "02fa6b8b-7ee2-4dda-a56e-3830f687cd82",
         "x": [
          1965,
          1965,
          1980,
          1980
         ],
         "xaxis": "x",
         "y": [
          0,
          0.8947368421052632,
          0.8947368421052632,
          0.6774193548387096
         ],
         "yaxis": "y"
        },
        {
         "hoverinfo": "text",
         "marker": {
          "color": "rgb(0,116,217)"
         },
         "mode": "lines",
         "text": [
          "cluster: 111, component: QE_2017_001815_141.0508_33.0",
          "cluster: 111, component: QE_2017_001815_141.0508_33.0",
          "cluster: 112, component: QE_2017_001815_265.01532_33.0",
          "cluster: 112, component: QE_2017_001815_265.01532_33.0"
         ],
         "type": "scatter",
         "uid": "f071ca91-9117-43bb-9d79-62e408daff2e",
         "x": [
          1995,
          1995,
          2005,
          2005
         ],
         "xaxis": "x",
         "y": [
          0,
          1,
          1,
          0
         ],
         "yaxis": "y"
        },
        {
         "hoverinfo": "text",
         "marker": {
          "color": "rgb(0,116,217)"
         },
         "mode": "lines",
         "text": [
          null,
          null,
          null,
          null
         ],
         "type": "scatter",
         "uid": "10bf23e5-da8a-4f97-bbbf-e6f5d32044e4",
         "x": [
          1972.5,
          1972.5,
          2000,
          2000
         ],
         "xaxis": "x",
         "y": [
          0.8947368421052632,
          1,
          1,
          1
         ],
         "yaxis": "y"
        },
        {
         "hoverinfo": "text",
         "marker": {
          "color": "rgb(0,116,217)"
         },
         "mode": "lines",
         "text": [
          "cluster: 113, component: QE_2017_001815_797.51746_866.0",
          "cluster: 113, component: QE_2017_001815_797.51746_866.0",
          null,
          null
         ],
         "type": "scatter",
         "uid": "c8af79ff-cbe9-4e42-917e-72623d262605",
         "x": [
          1955,
          1955,
          1986.25,
          1986.25
         ],
         "xaxis": "x",
         "y": [
          0,
          1,
          1,
          1
         ],
         "yaxis": "y"
        },
        {
         "hoverinfo": "text",
         "marker": {
          "color": "rgb(0,116,217)"
         },
         "mode": "lines",
         "text": [
          null,
          null,
          null,
          null
         ],
         "type": "scatter",
         "uid": "25d0d588-a88f-425c-ae15-d435aeff41e2",
         "x": [
          1865.15625,
          1865.15625,
          1970.625,
          1970.625
         ],
         "xaxis": "x",
         "y": [
          0.8214285714285714,
          1,
          1,
          1
         ],
         "yaxis": "y"
        },
        {
         "hoverinfo": "text",
         "marker": {
          "color": "rgb(0,116,217)"
         },
         "mode": "lines",
         "text": [
          null,
          null,
          null,
          null
         ],
         "type": "scatter",
         "uid": "9b750d62-a060-407e-ad5e-f390ee1114b4",
         "x": [
          1810,
          1810,
          1917.890625,
          1917.890625
         ],
         "xaxis": "x",
         "y": [
          0.921875,
          1,
          1,
          1
         ],
         "yaxis": "y"
        },
        {
         "hoverinfo": "text",
         "marker": {
          "color": "rgb(0,116,217)"
         },
         "mode": "lines",
         "text": [
          null,
          null,
          null,
          null
         ],
         "type": "scatter",
         "uid": "5036fdc9-67ae-4790-8d99-e0b274289897",
         "x": [
          1772.5,
          1772.5,
          1863.9453125,
          1863.9453125
         ],
         "xaxis": "x",
         "y": [
          0.875,
          1,
          1,
          1
         ],
         "yaxis": "y"
        },
        {
         "hoverinfo": "text",
         "marker": {
          "color": "rgb(0,116,217)"
         },
         "mode": "lines",
         "text": [
          null,
          null,
          null,
          null
         ],
         "type": "scatter",
         "uid": "b90cf2ba-485a-4055-ba65-1f6cb4f060a4",
         "x": [
          1740,
          1740,
          1818.22265625,
          1818.22265625
         ],
         "xaxis": "x",
         "y": [
          0.9761904761904762,
          1,
          1,
          1
         ],
         "yaxis": "y"
        },
        {
         "hoverinfo": "text",
         "marker": {
          "color": "rgb(0,116,217)"
         },
         "mode": "lines",
         "text": [
          null,
          null,
          null,
          null
         ],
         "type": "scatter",
         "uid": "1e9d619a-54d6-4e84-9feb-377e151444c4",
         "x": [
          1647.65625,
          1647.65625,
          1779.111328125,
          1779.111328125
         ],
         "xaxis": "x",
         "y": [
          0.9846153846153847,
          1,
          1,
          1
         ],
         "yaxis": "y"
        },
        {
         "hoverinfo": "text",
         "marker": {
          "color": "rgb(0,116,217)"
         },
         "mode": "lines",
         "text": [
          null,
          null,
          null,
          null
         ],
         "type": "scatter",
         "uid": "bd4b47aa-4445-4ad2-aecd-773ded1ed361",
         "x": [
          1563.4375,
          1563.4375,
          1713.3837890625,
          1713.3837890625
         ],
         "xaxis": "x",
         "y": [
          0.9534883720930233,
          1,
          1,
          1
         ],
         "yaxis": "y"
        },
        {
         "hoverinfo": "text",
         "marker": {
          "color": "rgb(0,116,217)"
         },
         "mode": "lines",
         "text": [
          null,
          null,
          null,
          null
         ],
         "type": "scatter",
         "uid": "4248d801-41e9-4aff-b6d6-8977d036acbc",
         "x": [
          1467.8125,
          1467.8125,
          1638.41064453125,
          1638.41064453125
         ],
         "xaxis": "x",
         "y": [
          0.9891304347826086,
          1,
          1,
          1
         ],
         "yaxis": "y"
        },
        {
         "hoverinfo": "text",
         "marker": {
          "color": "rgb(0,116,217)"
         },
         "mode": "lines",
         "text": [
          null,
          null,
          null,
          null
         ],
         "type": "scatter",
         "uid": "a08f0c19-0463-48ce-86d7-ff666d92b57d",
         "x": [
          1410,
          1410,
          1553.111572265625,
          1553.111572265625
         ],
         "xaxis": "x",
         "y": [
          0.75,
          1,
          1,
          1
         ],
         "yaxis": "y"
        },
        {
         "hoverinfo": "text",
         "marker": {
          "color": "rgb(0,116,217)"
         },
         "mode": "lines",
         "text": [
          null,
          null,
          null,
          null
         ],
         "type": "scatter",
         "uid": "6ce55441-6447-4587-a0d0-1a9677b05196",
         "x": [
          1336.71875,
          1336.71875,
          1481.5557861328125,
          1481.5557861328125
         ],
         "xaxis": "x",
         "y": [
          0.9772727272727273,
          1,
          1,
          1
         ],
         "yaxis": "y"
        },
        {
         "hoverinfo": "text",
         "marker": {
          "color": "rgb(0,116,217)"
         },
         "mode": "lines",
         "text": [
          null,
          null,
          null,
          null
         ],
         "type": "scatter",
         "uid": "b4f31e9e-6db2-4386-a1cd-9ad1182b925f",
         "x": [
          1270,
          1270,
          1409.1372680664062,
          1409.1372680664062
         ],
         "xaxis": "x",
         "y": [
          0.8461538461538461,
          1,
          1,
          1
         ],
         "yaxis": "y"
        },
        {
         "hoverinfo": "text",
         "marker": {
          "color": "rgb(0,116,217)"
         },
         "mode": "lines",
         "text": [
          null,
          null,
          null,
          null
         ],
         "type": "scatter",
         "uid": "e56cded3-30bd-414b-9400-5de6bdfd602f",
         "x": [
          1020.869140625,
          1020.869140625,
          1339.5686340332031,
          1339.5686340332031
         ],
         "xaxis": "x",
         "y": [
          0.9882352941176471,
          1,
          1,
          1
         ],
         "yaxis": "y"
        },
        {
         "hoverinfo": "text",
         "marker": {
          "color": "rgb(0,116,217)"
         },
         "mode": "lines",
         "text": [
          null,
          null,
          null,
          null
         ],
         "type": "scatter",
         "uid": "9e7b641a-ecf9-4941-9035-5d6f13fd780e",
         "x": [
          734.912109375,
          734.912109375,
          1180.2188873291016,
          1180.2188873291016
         ],
         "xaxis": "x",
         "y": [
          0.9696969696969697,
          1,
          1,
          1
         ],
         "yaxis": "y"
        },
        {
         "hoverinfo": "text",
         "marker": {
          "color": "rgb(0,116,217)"
         },
         "mode": "lines",
         "text": [
          null,
          null,
          null,
          null
         ],
         "type": "scatter",
         "uid": "9f1d30be-b94f-47c9-805a-acd86dabcdba",
         "x": [
          619.6875,
          619.6875,
          957.5654983520508,
          957.5654983520508
         ],
         "xaxis": "x",
         "y": [
          0.9814814814814815,
          1,
          1,
          1
         ],
         "yaxis": "y"
        },
        {
         "hoverinfo": "text",
         "marker": {
          "color": "rgb(0,116,217)"
         },
         "mode": "lines",
         "text": [
          null,
          null,
          null,
          null
         ],
         "type": "scatter",
         "uid": "881d0566-f95e-4413-a089-500154ce2757",
         "x": [
          521.875,
          521.875,
          788.6264991760254,
          788.6264991760254
         ],
         "xaxis": "x",
         "y": [
          0.9857142857142858,
          1,
          1,
          1
         ],
         "yaxis": "y"
        },
        {
         "hoverinfo": "text",
         "marker": {
          "color": "rgb(0,116,217)"
         },
         "mode": "lines",
         "text": [
          null,
          null,
          null,
          null
         ],
         "type": "scatter",
         "uid": "b502da3d-6c32-40b9-8e88-d441a340f431",
         "x": [
          221.85302734375,
          221.85302734375,
          655.2507495880127,
          655.2507495880127
         ],
         "xaxis": "x",
         "y": [
          0.9625,
          1,
          1,
          1
         ],
         "yaxis": "y"
        }
       ],
       "layout": {
        "autosize": false,
        "height": 700,
        "hovermode": "closest",
        "margin": {
         "b": 372
        },
        "showlegend": false,
        "title": {
         "text": "TreesRCool"
        },
        "width": 800,
        "xaxis": {
         "mirror": "allticks",
         "rangemode": "tozero",
         "showgrid": false,
         "showline": true,
         "showticklabels": true,
         "tickmode": "array",
         "ticks": "outside",
         "ticktext": [
          "QE_2017_001816_613.4826_738.0",
          "QE_2017_001816_613.48218_838.0",
          "QE_2017_001816_792.56232_718.0",
          "QE_2017_001814_596.30963_602.0",
          "QE_2017_001815_792.5625_866.0",
          "QE_2017_001815_571.4292_870.0",
          "QE_2017_001814_497.31033_643.0",
          "QE_2017_001815_507.27145_607.0",
          "QE_2017_001816_571.47186_717.0",
          "QE_2017_001814_335.25772_725.0",
          "QE_2017_001814_335.25784_608.0",
          "QE_2017_001816_335.25772_723.0",
          "QE_2017_001814_335.25784_628.0",
          "QE_2017_001815_335.25745_642.0",
          "QE_2017_001814_261.22073_634.0",
          "QE_2017_001815_335.25784_587.0",
          "QE_2017_001814_353.26889_609.0",
          "QE_2017_001815_353.26862_642.0",
          "QE_2017_001815_261.22073_643.0",
          "QE_2017_001814_335.25772_638.0",
          "QE_2017_001815_335.2579_601.0",
          "QE_2017_001816_272.25824_582.0",
          "QE_2017_001814_338.34146_850.0",
          "QE_2017_001815_244.19048_762.0",
          "QE_2017_001814_353.26868_633.0",
          "QE_2017_001816_353.26892_600.0",
          "QE_2017_001814_279.23157_719.0",
          "QE_2017_001815_278.24762_684.0",
          "QE_2017_001816_435.25037_666.0",
          "QE_2017_001816_337.27338_826.0",
          "QE_2017_001816_337.27341_632.0",
          "QE_2017_001814_618.42633_695.0",
          "QE_2017_001816_583.41382_731.0",
          "QE_2017_001816_599.40948_660.0",
          "QE_2017_001814_601.42426_706.0",
          "QE_2017_001816_599.40869_793.0",
          "QE_2017_001815_618.42773_646.0",
          "QE_2017_001816_618.427_682.0",
          "QE_2017_001815_568.42627_841.0",
          "QE_2017_001814_565.4035_722.0",
          "QE_2017_001814_583.41406_682.0",
          "QE_2017_001815_583.41406_707.0",
          "QE_2017_001814_601.42334_783.0",
          "QE_2017_001815_583.41388_735.0",
          "QE_2017_001815_583.41418_647.0",
          "QE_2017_001814_194.04424_237.0",
          "QE_2017_001815_194.11751_218.0",
          "QE_2017_001815_194.04469_299.0",
          "QE_2017_001815_194.04471_314.0",
          "QE_2017_001815_212.05513_328.0",
          "QE_2017_001815_212.05505_267.0",
          "QE_2017_001814_226.07077_397.0",
          "QE_2017_001815_194.04471_397.0",
          "QE_2017_001816_533.15442_247.0",
          "QE_2017_001816_533.15466_222.0",
          "QE_2017_001815_533.1546_207.0",
          "QE_2017_001816_533.1546_271.0",
          "QE_2017_001814_347.09097_122.0",
          "QE_2017_001815_347.09067_204.0",
          "QE_2017_001815_268.10373_58.0",
          "QE_2017_001816_269.16055_60.0",
          "QE_2017_001815_364.34189_705.0",
          "QE_2017_001816_408.36832_704.0",
          "QE_2017_001816_466.40979_731.0",
          "QE_2017_001815_408.36853_717.0",
          "QE_2017_001815_482.40488_739.0",
          "QE_2017_001814_364.34244_761.0",
          "QE_2017_001815_364.34253_752.0",
          "QE_2017_001816_421.35226_731.0",
          "QE_2017_001816_424.36325_712.0",
          "QE_2017_001816_463.12311_410.0",
          "QE_2017_001814_611.15997_285.0",
          "QE_2017_001815_611.16046_309.0",
          "QE_2017_001814_339.10742_366.0",
          "QE_2017_001816_339.10733_298.0",
          "QE_2017_001814_498.2543_475.0",
          "QE_2017_001815_340.16019_314.0",
          "QE_2017_001815_231.04973_403.0",
          "QE_2017_001815_231.04968_315.0",
          "QE_2017_001814_231.04971_516.0",
          "QE_2017_001815_231.04971_369.0",
          "QE_2017_001815_314.14453_76.0",
          "QE_2017_001816_314.14462_79.0",
          "QE_2017_001816_310.14957_134.0",
          "QE_2017_001816_342.17584_257.0",
          "QE_2017_001814_241.15466_73.0",
          "QE_2017_001815_507.18192_178.0",
          "QE_2017_001814_483.27118_651.0",
          "QE_2017_001816_338.26062_643.0",
          "QE_2017_001814_320.29456_577.0",
          "QE_2017_001815_320.29471_563.0",
          "QE_2017_001815_129.12741_349.0",
          "QE_2017_001815_171.14914_420.0",
          "QE_2017_001815_201.16367_442.0",
          "QE_2017_001816_201.16362_435.0",
          "QE_2017_001815_209.15352_479.0",
          "QE_2017_001815_209.15349_295.0",
          "QE_2017_001815_209.1535_312.0",
          "QE_2017_001816_209.15344_311.0",
          "QE_2017_001814_243.15892_533.0",
          "QE_2017_001814_281.1745_492.0",
          "QE_2017_001814_293.2106_579.0",
          "QE_2017_001815_227.16408_344.0",
          "QE_2017_001815_283.19009_564.0",
          "QE_2017_001815_207.13785_297.0",
          "QE_2017_001814_227.1275_293.0",
          "QE_2017_001816_227.12766_295.0",
          "QE_2017_001815_181.1221_767.0",
          "QE_2017_001816_181.12199_794.0",
          "QE_2017_001816_211.16916_405.0",
          "QE_2017_001815_209.0807_405.0",
          "QE_2017_001814_211.16902_440.0",
          "QE_2017_001815_211.16913_450.0",
          "QE_2017_001815_215.164_550.0",
          "QE_2017_001816_215.16411_482.0",
          "QE_2017_001816_137.09584_445.0",
          "QE_2017_001814_219.17416_517.0",
          "QE_2017_001815_219.17421_516.0",
          "QE_2017_001816_219.17438_502.0",
          "QE_2017_001814_219.17401_452.0",
          "QE_2017_001814_219.17409_442.0",
          "QE_2017_001814_191.14291_389.0",
          "QE_2017_001815_191.14287_312.0",
          "QE_2017_001816_191.14291_404.0",
          "QE_2017_001814_209.08058_363.0",
          "QE_2017_001816_207.13779_561.0",
          "QE_2017_001815_333.15173_245.0",
          "QE_2017_001816_333.15204_235.0",
          "QE_2017_001814_194.1174_244.0",
          "QE_2017_001816_194.11746_133.0",
          "QE_2017_001816_320.29483_548.0",
          "QE_2017_001814_320.29468_638.0",
          "QE_2017_001814_320.29477_539.0",
          "QE_2017_001814_320.29471_529.0",
          "QE_2017_001815_320.29486_538.0",
          "QE_2017_001814_241.15384_47.0",
          "QE_2017_001814_241.15446_57.0",
          "QE_2017_001814_332.25827_467.0",
          "QE_2017_001815_332.25827_508.0",
          "QE_2017_001816_332.25842_487.0",
          "QE_2017_001814_319.13638_117.0",
          "QE_2017_001816_319.13614_143.0",
          "QE_2017_001814_251.09117_393.0",
          "QE_2017_001815_219.10159_438.0",
          "QE_2017_001815_219.10139_360.0",
          "QE_2017_001816_219.10153_382.0",
          "QE_2017_001814_291.1442_241.0",
          "QE_2017_001816_291.14493_243.0",
          "QE_2017_001816_291.14499_200.0",
          "QE_2017_001815_273.13425_199.0",
          "QE_2017_001815_273.13434_243.0",
          "QE_2017_001815_251.13873_202.0",
          "QE_2017_001815_235.14398_226.0",
          "QE_2017_001816_235.14397_183.0",
          "QE_2017_001815_214.51021_60.0",
          "QE_2017_001816_268.59351_445.0",
          "QE_2017_001814_250.10149_516.0",
          "QE_2017_001815_222.07033_315.0",
          "QE_2017_001814_247.05975_245.0",
          "QE_2017_001815_247.0598_242.0",
          "QE_2017_001816_219.04672_291.0",
          "QE_2017_001815_212.03883_181.0",
          "QE_2017_001815_214.56488_409.0",
          "QE_2017_001815_260.16016_64.0",
          "QE_2017_001816_132.04436_283.0",
          "QE_2017_001815_246.14465_137.0",
          "QE_2017_001815_247.12865_158.0",
          "QE_2017_001814_260.16037_143.0",
          "QE_2017_001816_260.16022_145.0",
          "QE_2017_001814_233.14957_152.0",
          "QE_2017_001814_233.14948_126.0",
          "QE_2017_001816_233.14955_129.0",
          "QE_2017_001815_221.12837_99.0",
          "QE_2017_001816_237.12325_171.0",
          "QE_2017_001814_237.12305_220.0",
          "QE_2017_001816_237.12323_53.0",
          "QE_2017_001816_229.15469_52.0",
          "QE_2017_001814_229.15399_46.0",
          "QE_2017_001816_229.15451_66.0",
          "QE_2017_001814_182.08116_51.0",
          "QE_2017_001816_182.08116_55.0",
          "QE_2017_001815_194.04474_330.0",
          "QE_2017_001816_212.05518_300.0",
          "QE_2017_001816_177.05449_217.0",
          "QE_2017_001814_177.05418_236.0",
          "QE_2017_001815_177.05444_307.0",
          "QE_2017_001816_199.98769_294.0",
          "QE_2017_001816_199.98776_304.0",
          "QE_2017_001814_199.98778_290.0",
          "QE_2017_001815_199.98779_30.0",
          "QE_2017_001815_199.98772_326.0",
          "QE_2017_001816_199.98781_313.0",
          "QE_2017_001816_199.98772_359.0",
          "QE_2017_001816_199.98776_254.0",
          "QE_2017_001816_199.98779_335.0",
          "QE_2017_001815_797.51746_866.0",
          "QE_2017_001815_595.16559_315.0",
          "QE_2017_001815_463.12268_358.0",
          "QE_2017_001815_625.17633_345.0",
          "QE_2017_001815_141.0508_33.0",
          "QE_2017_001815_265.01532_33.0"
         ],
         "tickvals": [
          5,
          15,
          25,
          35,
          45,
          55,
          65,
          75,
          85,
          95,
          105,
          115,
          125,
          135,
          145,
          155,
          165,
          175,
          185,
          195,
          205,
          215,
          225,
          235,
          245,
          255,
          265,
          275,
          285,
          295,
          305,
          315,
          325,
          335,
          345,
          355,
          365,
          375,
          385,
          395,
          405,
          415,
          425,
          435,
          445,
          455,
          465,
          475,
          485,
          495,
          505,
          515,
          525,
          535,
          545,
          555,
          565,
          575,
          585,
          595,
          605,
          615,
          625,
          635,
          645,
          655,
          665,
          675,
          685,
          695,
          705,
          715,
          725,
          735,
          745,
          755,
          765,
          775,
          785,
          795,
          805,
          815,
          825,
          835,
          845,
          855,
          865,
          875,
          885,
          895,
          905,
          915,
          925,
          935,
          945,
          955,
          965,
          975,
          985,
          995,
          1005,
          1015,
          1025,
          1035,
          1045,
          1055,
          1065,
          1075,
          1085,
          1095,
          1105,
          1115,
          1125,
          1135,
          1145,
          1155,
          1165,
          1175,
          1185,
          1195,
          1205,
          1215,
          1225,
          1235,
          1245,
          1255,
          1265,
          1275,
          1285,
          1295,
          1305,
          1315,
          1325,
          1335,
          1345,
          1355,
          1365,
          1375,
          1385,
          1395,
          1405,
          1415,
          1425,
          1435,
          1445,
          1455,
          1465,
          1475,
          1485,
          1495,
          1505,
          1515,
          1525,
          1535,
          1545,
          1555,
          1565,
          1575,
          1585,
          1595,
          1605,
          1615,
          1625,
          1635,
          1645,
          1655,
          1665,
          1675,
          1685,
          1695,
          1705,
          1715,
          1725,
          1735,
          1745,
          1755,
          1765,
          1775,
          1785,
          1795,
          1805,
          1815,
          1825,
          1835,
          1845,
          1855,
          1865,
          1875,
          1885,
          1895,
          1905,
          1915,
          1925,
          1935,
          1945,
          1955,
          1965,
          1975,
          1985,
          1995,
          2005
         ],
         "title": {
          "text": "Samples"
         },
         "type": "linear",
         "zeroline": false
        },
        "yaxis": {
         "mirror": "allticks",
         "rangemode": "tozero",
         "showgrid": false,
         "showline": true,
         "showticklabels": true,
         "ticks": "outside",
         "title": {
          "text": "Distance"
         },
         "type": "linear",
         "zeroline": false
        }
       }
      },
      "text/html": [
       "<div>\n",
       "        \n",
       "        \n",
       "            <div id=\"19a4434f-99bb-4417-9804-24c6b82f7e4a\" class=\"plotly-graph-div\"></div>\n",
       "            <script type=\"text/javascript\">\n",
       "                require([\"plotly\"], function(Plotly) {\n",
       "                    window.PLOTLYENV=window.PLOTLYENV || {};\n",
       "                    window.PLOTLYENV.BASE_URL='https://plot.ly';\n",
       "                    \n",
       "                if (document.getElementById(\"19a4434f-99bb-4417-9804-24c6b82f7e4a\")) {\n",
       "                    Plotly.newPlot(\n",
       "                        '19a4434f-99bb-4417-9804-24c6b82f7e4a',\n",
       "                        [{\"hoverinfo\": \"text\", \"marker\": {\"color\": \"rgb(61,153,112)\"}, \"mode\": \"lines\", \"text\": [\"cluster: 1, component: QE_2017_001816_613.48218_838.0\", \"cluster: 1, component: QE_2017_001816_613.48218_838.0\", \"cluster: 1, component: QE_2017_001816_792.56232_718.0\", \"cluster: 1, component: QE_2017_001816_792.56232_718.0\"], \"type\": \"scatter\", \"uid\": \"2b5f0b64-c45e-4826-bed8-3182aea5bc38\", \"x\": [15.0, 15.0, 25.0, 25.0], \"xaxis\": \"x\", \"y\": [0.0, 0.5662650602409639, 0.5662650602409639, 0.0], \"yaxis\": \"y\"}, {\"hoverinfo\": \"text\", \"marker\": {\"color\": \"rgb(0,116,217)\"}, \"mode\": \"lines\", \"text\": [\"cluster: 2, component: QE_2017_001816_613.4826_738.0\", \"cluster: 2, component: QE_2017_001816_613.4826_738.0\", null, null], \"type\": \"scatter\", \"uid\": \"8f7f3eec-ffc0-4319-aee6-adddc8a77938\", \"x\": [5.0, 5.0, 20.0, 20.0], \"xaxis\": \"x\", \"y\": [0.0, 0.676923076923077, 0.676923076923077, 0.5662650602409639], \"yaxis\": \"y\"}, {\"hoverinfo\": \"text\", \"marker\": {\"color\": \"rgb(0,116,217)\"}, \"mode\": \"lines\", \"text\": [\"cluster: 3, component: QE_2017_001814_596.30963_602.0\", \"cluster: 3, component: QE_2017_001814_596.30963_602.0\", \"cluster: 4, component: QE_2017_001815_792.5625_866.0\", \"cluster: 4, component: QE_2017_001815_792.5625_866.0\"], \"type\": \"scatter\", \"uid\": \"626e4c41-02e6-47b0-a06a-dce556fff30c\", \"x\": [35.0, 35.0, 45.0, 45.0], \"xaxis\": \"x\", \"y\": [0.0, 0.7142857142857143, 0.7142857142857143, 0.0], \"yaxis\": \"y\"}, {\"hoverinfo\": \"text\", \"marker\": {\"color\": \"rgb(0,116,217)\"}, \"mode\": \"lines\", \"text\": [null, null, null, null], \"type\": \"scatter\", \"uid\": \"5d3672ef-43ee-4b80-9ed5-1f82e98fdb56\", \"x\": [12.5, 12.5, 40.0, 40.0], \"xaxis\": \"x\", \"y\": [0.676923076923077, 0.7763157894736842, 0.7763157894736842, 0.7142857142857143], \"yaxis\": \"y\"}, {\"hoverinfo\": \"text\", \"marker\": {\"color\": \"rgb(255,65,54)\"}, \"mode\": \"lines\", \"text\": [\"cluster: 5, component: QE_2017_001814_335.25784_608.0\", \"cluster: 5, component: QE_2017_001814_335.25784_608.0\", \"cluster: 5, component: QE_2017_001816_335.25772_723.0\", \"cluster: 5, component: QE_2017_001816_335.25772_723.0\"], \"type\": \"scatter\", \"uid\": \"bf22e3b4-77cb-4ec2-b908-45af4878e204\", \"x\": [105.0, 105.0, 115.0, 115.0], \"xaxis\": \"x\", \"y\": [0.0, 0.26, 0.26, 0.0], \"yaxis\": \"y\"}, {\"hoverinfo\": \"text\", \"marker\": {\"color\": \"rgb(255,65,54)\"}, \"mode\": \"lines\", \"text\": [\"cluster: 5, component: QE_2017_001814_335.25772_725.0\", \"cluster: 5, component: QE_2017_001814_335.25772_725.0\", null, null], \"type\": \"scatter\", \"uid\": \"d98cf8cd-5225-4a0a-bfa5-22d259f94823\", \"x\": [95.0, 95.0, 110.0, 110.0], \"xaxis\": \"x\", \"y\": [0.0, 0.2830188679245283, 0.2830188679245283, 0.26], \"yaxis\": \"y\"}, {\"hoverinfo\": \"text\", \"marker\": {\"color\": \"rgb(255,65,54)\"}, \"mode\": \"lines\", \"text\": [\"cluster: 5, component: QE_2017_001814_335.25784_628.0\", \"cluster: 5, component: QE_2017_001814_335.25784_628.0\", \"cluster: 5, component: QE_2017_001815_335.25745_642.0\", \"cluster: 5, component: QE_2017_001815_335.25745_642.0\"], \"type\": \"scatter\", \"uid\": \"bb6cd70c-765a-4f5a-bd4b-f570019f9826\", \"x\": [125.0, 125.0, 135.0, 135.0], \"xaxis\": \"x\", \"y\": [0.0, 0.2857142857142857, 0.2857142857142857, 0.0], \"yaxis\": \"y\"}, {\"hoverinfo\": \"text\", \"marker\": {\"color\": \"rgb(255,65,54)\"}, \"mode\": \"lines\", \"text\": [null, null, null, null], \"type\": \"scatter\", \"uid\": \"95589e61-205e-4b10-8fab-32d12841de2e\", \"x\": [102.5, 102.5, 130.0, 130.0], \"xaxis\": \"x\", \"y\": [0.2830188679245283, 0.3389830508474576, 0.3389830508474576, 0.2857142857142857], \"yaxis\": \"y\"}, {\"hoverinfo\": \"text\", \"marker\": {\"color\": \"rgb(255,65,54)\"}, \"mode\": \"lines\", \"text\": [\"cluster: 5, component: QE_2017_001814_261.22073_634.0\", \"cluster: 5, component: QE_2017_001814_261.22073_634.0\", \"cluster: 5, component: QE_2017_001815_335.25784_587.0\", \"cluster: 5, component: QE_2017_001815_335.25784_587.0\"], \"type\": \"scatter\", \"uid\": \"2c6b65ed-e9ba-4931-86d6-25bba9fccde3\", \"x\": [145.0, 145.0, 155.0, 155.0], \"xaxis\": \"x\", \"y\": [0.0, 0.375, 0.375, 0.0], \"yaxis\": \"y\"}, {\"hoverinfo\": \"text\", \"marker\": {\"color\": \"rgb(255,65,54)\"}, \"mode\": \"lines\", \"text\": [null, null, null, null], \"type\": \"scatter\", \"uid\": \"a282e2d4-d990-4d8c-a3a5-a111e2c9b195\", \"x\": [116.25, 116.25, 150.0, 150.0], \"xaxis\": \"x\", \"y\": [0.3389830508474576, 0.4117647058823529, 0.4117647058823529, 0.375], \"yaxis\": \"y\"}, {\"hoverinfo\": \"text\", \"marker\": {\"color\": \"rgb(255,65,54)\"}, \"mode\": \"lines\", \"text\": [\"cluster: 5, component: QE_2017_001814_353.26889_609.0\", \"cluster: 5, component: QE_2017_001814_353.26889_609.0\", \"cluster: 5, component: QE_2017_001815_353.26862_642.0\", \"cluster: 5, component: QE_2017_001815_353.26862_642.0\"], \"type\": \"scatter\", \"uid\": \"04261183-868f-4e79-ab0b-e85a9dea84fc\", \"x\": [165.0, 165.0, 175.0, 175.0], \"xaxis\": \"x\", \"y\": [0.0, 0.27419354838709675, 0.27419354838709675, 0.0], \"yaxis\": \"y\"}, {\"hoverinfo\": \"text\", \"marker\": {\"color\": \"rgb(255,65,54)\"}, \"mode\": \"lines\", \"text\": [\"cluster: 5, component: QE_2017_001814_335.25772_638.0\", \"cluster: 5, component: QE_2017_001814_335.25772_638.0\", \"cluster: 5, component: QE_2017_001815_335.2579_601.0\", \"cluster: 5, component: QE_2017_001815_335.2579_601.0\"], \"type\": \"scatter\", \"uid\": \"48829a38-aafa-4026-accd-726aeef1c634\", \"x\": [195.0, 195.0, 205.0, 205.0], \"xaxis\": \"x\", \"y\": [0.0, 0.29411764705882354, 0.29411764705882354, 0.0], \"yaxis\": \"y\"}, {\"hoverinfo\": \"text\", \"marker\": {\"color\": \"rgb(255,65,54)\"}, \"mode\": \"lines\", \"text\": [\"cluster: 5, component: QE_2017_001815_261.22073_643.0\", \"cluster: 5, component: QE_2017_001815_261.22073_643.0\", null, null], \"type\": \"scatter\", \"uid\": \"0f98bf85-3b32-4c39-a47a-627e96af5537\", \"x\": [185.0, 185.0, 200.0, 200.0], \"xaxis\": \"x\", \"y\": [0.0, 0.38461538461538464, 0.38461538461538464, 0.29411764705882354], \"yaxis\": \"y\"}, {\"hoverinfo\": \"text\", \"marker\": {\"color\": \"rgb(255,65,54)\"}, \"mode\": \"lines\", \"text\": [null, null, null, null], \"type\": \"scatter\", \"uid\": \"6adb42cd-156f-415b-9fad-50451ad68c4a\", \"x\": [170.0, 170.0, 192.5, 192.5], \"xaxis\": \"x\", \"y\": [0.27419354838709675, 0.43333333333333335, 0.43333333333333335, 0.38461538461538464], \"yaxis\": \"y\"}, {\"hoverinfo\": \"text\", \"marker\": {\"color\": \"rgb(255,65,54)\"}, \"mode\": \"lines\", \"text\": [null, null, null, null], \"type\": \"scatter\", \"uid\": \"4c444e4f-e166-47f2-98dd-0518eecc7b8d\", \"x\": [133.125, 133.125, 181.25, 181.25], \"xaxis\": \"x\", \"y\": [0.4117647058823529, 0.46153846153846156, 0.46153846153846156, 0.43333333333333335], \"yaxis\": \"y\"}, {\"hoverinfo\": \"text\", \"marker\": {\"color\": \"rgb(255,65,54)\"}, \"mode\": \"lines\", \"text\": [\"cluster: 5, component: QE_2017_001816_571.47186_717.0\", \"cluster: 5, component: QE_2017_001816_571.47186_717.0\", null, null], \"type\": \"scatter\", \"uid\": \"22bf302d-f372-4b4a-8f09-0ec3eefcae5f\", \"x\": [85.0, 85.0, 157.1875, 157.1875], \"xaxis\": \"x\", \"y\": [0.0, 0.5538461538461539, 0.5538461538461539, 0.46153846153846156], \"yaxis\": \"y\"}, {\"hoverinfo\": \"text\", \"marker\": {\"color\": \"rgb(255,65,54)\"}, \"mode\": \"lines\", \"text\": [\"cluster: 5, component: QE_2017_001815_507.27145_607.0\", \"cluster: 5, component: QE_2017_001815_507.27145_607.0\", null, null], \"type\": \"scatter\", \"uid\": \"21f08f61-ca21-475e-8a9c-c77484fb892a\", \"x\": [75.0, 75.0, 121.09375, 121.09375], \"xaxis\": \"x\", \"y\": [0.0, 0.5737704918032787, 0.5737704918032787, 0.5538461538461539], \"yaxis\": \"y\"}, {\"hoverinfo\": \"text\", \"marker\": {\"color\": \"rgb(0,116,217)\"}, \"mode\": \"lines\", \"text\": [\"cluster: 6, component: QE_2017_001814_497.31033_643.0\", \"cluster: 6, component: QE_2017_001814_497.31033_643.0\", null, null], \"type\": \"scatter\", \"uid\": \"cad71f1f-b46e-4ab7-bc37-c69b917c8f60\", \"x\": [65.0, 65.0, 98.046875, 98.046875], \"xaxis\": \"x\", \"y\": [0.0, 0.6986301369863014, 0.6986301369863014, 0.5737704918032787], \"yaxis\": \"y\"}, {\"hoverinfo\": \"text\", \"marker\": {\"color\": \"rgb(0,116,217)\"}, \"mode\": \"lines\", \"text\": [\"cluster: 7, component: QE_2017_001815_571.4292_870.0\", \"cluster: 7, component: QE_2017_001815_571.4292_870.0\", null, null], \"type\": \"scatter\", \"uid\": \"fe091c20-2e51-493c-bda6-33e00553fbde\", \"x\": [55.0, 55.0, 81.5234375, 81.5234375], \"xaxis\": \"x\", \"y\": [0.0, 0.7962962962962963, 0.7962962962962963, 0.6986301369863014], \"yaxis\": \"y\"}, {\"hoverinfo\": \"text\", \"marker\": {\"color\": \"rgb(0,116,217)\"}, \"mode\": \"lines\", \"text\": [\"cluster: 8, component: QE_2017_001814_338.34146_850.0\", \"cluster: 8, component: QE_2017_001814_338.34146_850.0\", \"cluster: 9, component: QE_2017_001815_244.19048_762.0\", \"cluster: 9, component: QE_2017_001815_244.19048_762.0\"], \"type\": \"scatter\", \"uid\": \"cfd6033b-3da0-407e-8323-b5c737fef6f8\", \"x\": [225.0, 225.0, 235.0, 235.0], \"xaxis\": \"x\", \"y\": [0.0, 0.6031746031746031, 0.6031746031746031, 0.0], \"yaxis\": \"y\"}, {\"hoverinfo\": \"text\", \"marker\": {\"color\": \"rgb(35,205,205)\"}, \"mode\": \"lines\", \"text\": [\"cluster: 10, component: QE_2017_001814_353.26868_633.0\", \"cluster: 10, component: QE_2017_001814_353.26868_633.0\", \"cluster: 10, component: QE_2017_001816_353.26892_600.0\", \"cluster: 10, component: QE_2017_001816_353.26892_600.0\"], \"type\": \"scatter\", \"uid\": \"d5cb587e-a2a0-47de-9d56-734e27ca2309\", \"x\": [245.0, 245.0, 255.0, 255.0], \"xaxis\": \"x\", \"y\": [0.0, 0.2376237623762376, 0.2376237623762376, 0.0], \"yaxis\": \"y\"}, {\"hoverinfo\": \"text\", \"marker\": {\"color\": \"rgb(35,205,205)\"}, \"mode\": \"lines\", \"text\": [\"cluster: 10, component: QE_2017_001814_279.23157_719.0\", \"cluster: 10, component: QE_2017_001814_279.23157_719.0\", \"cluster: 10, component: QE_2017_001815_278.24762_684.0\", \"cluster: 10, component: QE_2017_001815_278.24762_684.0\"], \"type\": \"scatter\", \"uid\": \"070a9ce0-846f-4681-88fd-076d12a7d9ea\", \"x\": [265.0, 265.0, 275.0, 275.0], \"xaxis\": \"x\", \"y\": [0.0, 0.43209876543209874, 0.43209876543209874, 0.0], \"yaxis\": \"y\"}, {\"hoverinfo\": \"text\", \"marker\": {\"color\": \"rgb(35,205,205)\"}, \"mode\": \"lines\", \"text\": [null, null, null, null], \"type\": \"scatter\", \"uid\": \"53fc27de-fd96-4df1-b1d1-5534a2aad9a7\", \"x\": [250.0, 250.0, 270.0, 270.0], \"xaxis\": \"x\", \"y\": [0.2376237623762376, 0.5229357798165137, 0.5229357798165137, 0.43209876543209874], \"yaxis\": \"y\"}, {\"hoverinfo\": \"text\", \"marker\": {\"color\": \"rgb(133,20,75)\"}, \"mode\": \"lines\", \"text\": [\"cluster: 11, component: QE_2017_001816_337.27338_826.0\", \"cluster: 11, component: QE_2017_001816_337.27338_826.0\", \"cluster: 11, component: QE_2017_001816_337.27341_632.0\", \"cluster: 11, component: QE_2017_001816_337.27341_632.0\"], \"type\": \"scatter\", \"uid\": \"96826eb6-ec2c-4ec7-a8e5-33962c9fd7a5\", \"x\": [295.0, 295.0, 305.0, 305.0], \"xaxis\": \"x\", \"y\": [0.0, 0.373134328358209, 0.373134328358209, 0.0], \"yaxis\": \"y\"}, {\"hoverinfo\": \"text\", \"marker\": {\"color\": \"rgb(133,20,75)\"}, \"mode\": \"lines\", \"text\": [\"cluster: 11, component: QE_2017_001816_435.25037_666.0\", \"cluster: 11, component: QE_2017_001816_435.25037_666.0\", null, null], \"type\": \"scatter\", \"uid\": \"e8b6b59d-6993-4ac5-b495-ec1662927b0a\", \"x\": [285.0, 285.0, 300.0, 300.0], \"xaxis\": \"x\", \"y\": [0.0, 0.5416666666666666, 0.5416666666666666, 0.373134328358209], \"yaxis\": \"y\"}, {\"hoverinfo\": \"text\", \"marker\": {\"color\": \"rgb(0,116,217)\"}, \"mode\": \"lines\", \"text\": [null, null, null, null], \"type\": \"scatter\", \"uid\": \"8cd8ab0b-ba2a-4875-8315-6efaf04b1927\", \"x\": [260.0, 260.0, 292.5, 292.5], \"xaxis\": \"x\", \"y\": [0.5229357798165137, 0.6875, 0.6875, 0.5416666666666666], \"yaxis\": \"y\"}, {\"hoverinfo\": \"text\", \"marker\": {\"color\": \"rgb(0,116,217)\"}, \"mode\": \"lines\", \"text\": [null, null, null, null], \"type\": \"scatter\", \"uid\": \"7d1a2eab-b331-4950-b165-1c6b1ffa4c14\", \"x\": [230.0, 230.0, 276.25, 276.25], \"xaxis\": \"x\", \"y\": [0.6031746031746031, 0.7590361445783133, 0.7590361445783133, 0.6875], \"yaxis\": \"y\"}, {\"hoverinfo\": \"text\", \"marker\": {\"color\": \"rgb(0,116,217)\"}, \"mode\": \"lines\", \"text\": [\"cluster: 12, component: QE_2017_001816_272.25824_582.0\", \"cluster: 12, component: QE_2017_001816_272.25824_582.0\", null, null], \"type\": \"scatter\", \"uid\": \"c4b0f58b-3cc6-46d9-82e4-8159661e83d8\", \"x\": [215.0, 215.0, 253.125, 253.125], \"xaxis\": \"x\", \"y\": [0.0, 0.8243243243243243, 0.8243243243243243, 0.7590361445783133], \"yaxis\": \"y\"}, {\"hoverinfo\": \"text\", \"marker\": {\"color\": \"rgb(0,116,217)\"}, \"mode\": \"lines\", \"text\": [null, null, null, null], \"type\": \"scatter\", \"uid\": \"0a2fd2f0-4a75-4696-a7a9-2d83eecfe92a\", \"x\": [68.26171875, 68.26171875, 234.0625, 234.0625], \"xaxis\": \"x\", \"y\": [0.7962962962962963, 0.87, 0.87, 0.8243243243243243], \"yaxis\": \"y\"}, {\"hoverinfo\": \"text\", \"marker\": {\"color\": \"rgb(0,116,217)\"}, \"mode\": \"lines\", \"text\": [null, null, null, null], \"type\": \"scatter\", \"uid\": \"ad950ac6-592b-42d5-99fc-c6281657cb30\", \"x\": [26.25, 26.25, 151.162109375, 151.162109375], \"xaxis\": \"x\", \"y\": [0.7763157894736842, 0.9130434782608695, 0.9130434782608695, 0.87], \"yaxis\": \"y\"}, {\"hoverinfo\": \"text\", \"marker\": {\"color\": \"rgb(0,116,217)\"}, \"mode\": \"lines\", \"text\": [\"cluster: 13, component: QE_2017_001814_601.42426_706.0\", \"cluster: 13, component: QE_2017_001814_601.42426_706.0\", \"cluster: 14, component: QE_2017_001816_599.40869_793.0\", \"cluster: 14, component: QE_2017_001816_599.40869_793.0\"], \"type\": \"scatter\", \"uid\": \"d6ebf44d-48fe-4daa-99cb-9f27943bbc13\", \"x\": [345.0, 345.0, 355.0, 355.0], \"xaxis\": \"x\", \"y\": [0.0, 0.63, 0.63, 0.0], \"yaxis\": \"y\"}, {\"hoverinfo\": \"text\", \"marker\": {\"color\": \"rgb(0,116,217)\"}, \"mode\": \"lines\", \"text\": [\"cluster: 15, component: QE_2017_001816_599.40948_660.0\", \"cluster: 15, component: QE_2017_001816_599.40948_660.0\", null, null], \"type\": \"scatter\", \"uid\": \"e28a1fdb-c76f-4705-adf3-a9c59bdf2378\", \"x\": [335.0, 335.0, 350.0, 350.0], \"xaxis\": \"x\", \"y\": [0.0, 0.6710526315789473, 0.6710526315789473, 0.63], \"yaxis\": \"y\"}, {\"hoverinfo\": \"text\", \"marker\": {\"color\": \"rgb(0,116,217)\"}, \"mode\": \"lines\", \"text\": [\"cluster: 16, component: QE_2017_001816_583.41382_731.0\", \"cluster: 16, component: QE_2017_001816_583.41382_731.0\", null, null], \"type\": \"scatter\", \"uid\": \"c89de9a0-5ce4-48b5-a737-8ed39f881e87\", \"x\": [325.0, 325.0, 342.5, 342.5], \"xaxis\": \"x\", \"y\": [0.0, 0.7578947368421053, 0.7578947368421053, 0.6710526315789473], \"yaxis\": \"y\"}, {\"hoverinfo\": \"text\", \"marker\": {\"color\": \"rgb(0,116,217)\"}, \"mode\": \"lines\", \"text\": [\"cluster: 17, component: QE_2017_001814_618.42633_695.0\", \"cluster: 17, component: QE_2017_001814_618.42633_695.0\", null, null], \"type\": \"scatter\", \"uid\": \"3001fcab-649c-42a4-a674-a6b55234e8d9\", \"x\": [315.0, 315.0, 333.75, 333.75], \"xaxis\": \"x\", \"y\": [0.0, 0.8, 0.8, 0.7578947368421053], \"yaxis\": \"y\"}, {\"hoverinfo\": \"text\", \"marker\": {\"color\": \"rgb(255,220,0)\"}, \"mode\": \"lines\", \"text\": [\"cluster: 18, component: QE_2017_001815_618.42773_646.0\", \"cluster: 18, component: QE_2017_001815_618.42773_646.0\", \"cluster: 18, component: QE_2017_001816_618.427_682.0\", \"cluster: 18, component: QE_2017_001816_618.427_682.0\"], \"type\": \"scatter\", \"uid\": \"8dfff2ac-77e8-4c18-9861-13cc3b1034fa\", \"x\": [365.0, 365.0, 375.0, 375.0], \"xaxis\": \"x\", \"y\": [0.0, 0.4732510288065844, 0.4732510288065844, 0.0], \"yaxis\": \"y\"}, {\"hoverinfo\": \"text\", \"marker\": {\"color\": \"rgb(40,35,35)\"}, \"mode\": \"lines\", \"text\": [\"cluster: 19, component: QE_2017_001814_583.41406_682.0\", \"cluster: 19, component: QE_2017_001814_583.41406_682.0\", \"cluster: 19, component: QE_2017_001815_583.41406_707.0\", \"cluster: 19, component: QE_2017_001815_583.41406_707.0\"], \"type\": \"scatter\", \"uid\": \"67aa2695-7a1d-40f6-abaf-09698886f3f1\", \"x\": [405.0, 405.0, 415.0, 415.0], \"xaxis\": \"x\", \"y\": [0.0, 0.5280898876404494, 0.5280898876404494, 0.0], \"yaxis\": \"y\"}, {\"hoverinfo\": \"text\", \"marker\": {\"color\": \"rgb(0,116,217)\"}, \"mode\": \"lines\", \"text\": [\"cluster: 20, component: QE_2017_001814_565.4035_722.0\", \"cluster: 20, component: QE_2017_001814_565.4035_722.0\", null, null], \"type\": \"scatter\", \"uid\": \"845fa2e3-aa8a-4cea-920c-8c183575bd6c\", \"x\": [395.0, 395.0, 410.0, 410.0], \"xaxis\": \"x\", \"y\": [0.0, 0.6049382716049383, 0.6049382716049383, 0.5280898876404494], \"yaxis\": \"y\"}, {\"hoverinfo\": \"text\", \"marker\": {\"color\": \"rgb(61,153,112)\"}, \"mode\": \"lines\", \"text\": [\"cluster: 21, component: QE_2017_001815_583.41388_735.0\", \"cluster: 21, component: QE_2017_001815_583.41388_735.0\", \"cluster: 21, component: QE_2017_001815_583.41418_647.0\", \"cluster: 21, component: QE_2017_001815_583.41418_647.0\"], \"type\": \"scatter\", \"uid\": \"4ceaaf57-31ba-4231-be4e-366ad0a851ad\", \"x\": [435.0, 435.0, 445.0, 445.0], \"xaxis\": \"x\", \"y\": [0.0, 0.5285714285714286, 0.5285714285714286, 0.0], \"yaxis\": \"y\"}, {\"hoverinfo\": \"text\", \"marker\": {\"color\": \"rgb(0,116,217)\"}, \"mode\": \"lines\", \"text\": [\"cluster: 22, component: QE_2017_001814_601.42334_783.0\", \"cluster: 22, component: QE_2017_001814_601.42334_783.0\", null, null], \"type\": \"scatter\", \"uid\": \"ef58a0bf-c461-4141-8143-c58bb9219789\", \"x\": [425.0, 425.0, 440.0, 440.0], \"xaxis\": \"x\", \"y\": [0.0, 0.6966292134831461, 0.6966292134831461, 0.5285714285714286], \"yaxis\": \"y\"}, {\"hoverinfo\": \"text\", \"marker\": {\"color\": \"rgb(0,116,217)\"}, \"mode\": \"lines\", \"text\": [null, null, null, null], \"type\": \"scatter\", \"uid\": \"4f6c6ed6-2b36-4cbf-9dda-2b7a9efd9961\", \"x\": [402.5, 402.5, 432.5, 432.5], \"xaxis\": \"x\", \"y\": [0.6049382716049383, 0.734375, 0.734375, 0.6966292134831461], \"yaxis\": \"y\"}, {\"hoverinfo\": \"text\", \"marker\": {\"color\": \"rgb(0,116,217)\"}, \"mode\": \"lines\", \"text\": [\"cluster: 23, component: QE_2017_001815_568.42627_841.0\", \"cluster: 23, component: QE_2017_001815_568.42627_841.0\", null, null], \"type\": \"scatter\", \"uid\": \"5c4cf680-1e79-403d-9fea-80578df2a450\", \"x\": [385.0, 385.0, 417.5, 417.5], \"xaxis\": \"x\", \"y\": [0.0, 0.7642276422764228, 0.7642276422764228, 0.734375], \"yaxis\": \"y\"}, {\"hoverinfo\": \"text\", \"marker\": {\"color\": \"rgb(0,116,217)\"}, \"mode\": \"lines\", \"text\": [null, null, null, null], \"type\": \"scatter\", \"uid\": \"d46a72ff-a2b5-41fa-b022-fe541b2c31da\", \"x\": [370.0, 370.0, 401.25, 401.25], \"xaxis\": \"x\", \"y\": [0.4732510288065844, 0.8205128205128205, 0.8205128205128205, 0.7642276422764228], \"yaxis\": \"y\"}, {\"hoverinfo\": \"text\", \"marker\": {\"color\": \"rgb(0,116,217)\"}, \"mode\": \"lines\", \"text\": [null, null, null, null], \"type\": \"scatter\", \"uid\": \"9e675c91-de44-4ef0-a24f-833673851053\", \"x\": [324.375, 324.375, 385.625, 385.625], \"xaxis\": \"x\", \"y\": [0.8, 0.94, 0.94, 0.8205128205128205], \"yaxis\": \"y\"}, {\"hoverinfo\": \"text\", \"marker\": {\"color\": \"rgb(0,116,217)\"}, \"mode\": \"lines\", \"text\": [null, null, null, null], \"type\": \"scatter\", \"uid\": \"4d172796-9bf5-45a2-a0e7-88a8ae70f4a5\", \"x\": [88.7060546875, 88.7060546875, 355.0, 355.0], \"xaxis\": \"x\", \"y\": [0.9130434782608695, 0.9625, 0.9625, 0.94], \"yaxis\": \"y\"}, {\"hoverinfo\": \"text\", \"marker\": {\"color\": \"rgb(0,116,217)\"}, \"mode\": \"lines\", \"text\": [\"cluster: 24, component: QE_2017_001814_194.04424_237.0\", \"cluster: 24, component: QE_2017_001814_194.04424_237.0\", \"cluster: 25, component: QE_2017_001815_194.11751_218.0\", \"cluster: 25, component: QE_2017_001815_194.11751_218.0\"], \"type\": \"scatter\", \"uid\": \"be00210e-a73e-4d0c-b8d3-6a8e55c6f0f1\", \"x\": [455.0, 455.0, 465.0, 465.0], \"xaxis\": \"x\", \"y\": [0.0, 0.6206896551724138, 0.6206896551724138, 0.0], \"yaxis\": \"y\"}, {\"hoverinfo\": \"text\", \"marker\": {\"color\": \"rgb(255,65,54)\"}, \"mode\": \"lines\", \"text\": [\"cluster: 26, component: QE_2017_001815_194.04471_314.0\", \"cluster: 26, component: QE_2017_001815_194.04471_314.0\", \"cluster: 26, component: QE_2017_001815_212.05513_328.0\", \"cluster: 26, component: QE_2017_001815_212.05513_328.0\"], \"type\": \"scatter\", \"uid\": \"582776ca-74c8-420a-93f8-469752de6679\", \"x\": [485.0, 485.0, 495.0, 495.0], \"xaxis\": \"x\", \"y\": [0.0, 0.35135135135135137, 0.35135135135135137, 0.0], \"yaxis\": \"y\"}, {\"hoverinfo\": \"text\", \"marker\": {\"color\": \"rgb(255,65,54)\"}, \"mode\": \"lines\", \"text\": [\"cluster: 26, component: QE_2017_001815_194.04469_299.0\", \"cluster: 26, component: QE_2017_001815_194.04469_299.0\", null, null], \"type\": \"scatter\", \"uid\": \"bdb56b39-351f-475f-95f5-53fbbcbae058\", \"x\": [475.0, 475.0, 490.0, 490.0], \"xaxis\": \"x\", \"y\": [0.0, 0.5573770491803278, 0.5573770491803278, 0.35135135135135137], \"yaxis\": \"y\"}, {\"hoverinfo\": \"text\", \"marker\": {\"color\": \"rgb(0,116,217)\"}, \"mode\": \"lines\", \"text\": [\"cluster: 27, component: QE_2017_001814_226.07077_397.0\", \"cluster: 27, component: QE_2017_001814_226.07077_397.0\", \"cluster: 28, component: QE_2017_001815_194.04471_397.0\", \"cluster: 28, component: QE_2017_001815_194.04471_397.0\"], \"type\": \"scatter\", \"uid\": \"f5cf0160-5600-48ea-b532-d7fcc47fb1a8\", \"x\": [515.0, 515.0, 525.0, 525.0], \"xaxis\": \"x\", \"y\": [0.0, 0.6285714285714286, 0.6285714285714286, 0.0], \"yaxis\": \"y\"}, {\"hoverinfo\": \"text\", \"marker\": {\"color\": \"rgb(0,116,217)\"}, \"mode\": \"lines\", \"text\": [\"cluster: 29, component: QE_2017_001815_212.05505_267.0\", \"cluster: 29, component: QE_2017_001815_212.05505_267.0\", null, null], \"type\": \"scatter\", \"uid\": \"34ebf0b9-e3b0-4857-a99f-8f4728f2182b\", \"x\": [505.0, 505.0, 520.0, 520.0], \"xaxis\": \"x\", \"y\": [0.0, 0.7, 0.7, 0.6285714285714286], \"yaxis\": \"y\"}, {\"hoverinfo\": \"text\", \"marker\": {\"color\": \"rgb(0,116,217)\"}, \"mode\": \"lines\", \"text\": [null, null, null, null], \"type\": \"scatter\", \"uid\": \"5dfb2140-849a-45ce-8926-147c492ed653\", \"x\": [482.5, 482.5, 512.5, 512.5], \"xaxis\": \"x\", \"y\": [0.5573770491803278, 0.8360655737704918, 0.8360655737704918, 0.7], \"yaxis\": \"y\"}, {\"hoverinfo\": \"text\", \"marker\": {\"color\": \"rgb(0,116,217)\"}, \"mode\": \"lines\", \"text\": [null, null, null, null], \"type\": \"scatter\", \"uid\": \"6d43311a-986b-48f4-82d9-0e54925bf7f1\", \"x\": [460.0, 460.0, 497.5, 497.5], \"xaxis\": \"x\", \"y\": [0.6206896551724138, 0.8548387096774194, 0.8548387096774194, 0.8360655737704918], \"yaxis\": \"y\"}, {\"hoverinfo\": \"text\", \"marker\": {\"color\": \"rgb(35,205,205)\"}, \"mode\": \"lines\", \"text\": [\"cluster: 30, component: QE_2017_001816_533.15442_247.0\", \"cluster: 30, component: QE_2017_001816_533.15442_247.0\", \"cluster: 30, component: QE_2017_001816_533.15466_222.0\", \"cluster: 30, component: QE_2017_001816_533.15466_222.0\"], \"type\": \"scatter\", \"uid\": \"6bc2b2fd-9c59-4a32-bee2-eb9eebae5d8f\", \"x\": [535.0, 535.0, 545.0, 545.0], \"xaxis\": \"x\", \"y\": [0.0, 0.36764705882352944, 0.36764705882352944, 0.0], \"yaxis\": \"y\"}, {\"hoverinfo\": \"text\", \"marker\": {\"color\": \"rgb(35,205,205)\"}, \"mode\": \"lines\", \"text\": [\"cluster: 30, component: QE_2017_001815_533.1546_207.0\", \"cluster: 30, component: QE_2017_001815_533.1546_207.0\", \"cluster: 30, component: QE_2017_001816_533.1546_271.0\", \"cluster: 30, component: QE_2017_001816_533.1546_271.0\"], \"type\": \"scatter\", \"uid\": \"52aa83ac-7f87-4c30-a60c-e33675e84e33\", \"x\": [555.0, 555.0, 565.0, 565.0], \"xaxis\": \"x\", \"y\": [0.0, 0.45454545454545453, 0.45454545454545453, 0.0], \"yaxis\": \"y\"}, {\"hoverinfo\": \"text\", \"marker\": {\"color\": \"rgb(35,205,205)\"}, \"mode\": \"lines\", \"text\": [null, null, null, null], \"type\": \"scatter\", \"uid\": \"db4c1e24-e96c-454b-ae49-d7f6c84c4f36\", \"x\": [540.0, 540.0, 560.0, 560.0], \"xaxis\": \"x\", \"y\": [0.36764705882352944, 0.5, 0.5, 0.45454545454545453], \"yaxis\": \"y\"}, {\"hoverinfo\": \"text\", \"marker\": {\"color\": \"rgb(133,20,75)\"}, \"mode\": \"lines\", \"text\": [\"cluster: 31, component: QE_2017_001814_347.09097_122.0\", \"cluster: 31, component: QE_2017_001814_347.09097_122.0\", \"cluster: 31, component: QE_2017_001815_347.09067_204.0\", \"cluster: 31, component: QE_2017_001815_347.09067_204.0\"], \"type\": \"scatter\", \"uid\": \"86a7a3bb-89c4-441d-9e93-c52567cf5829\", \"x\": [575.0, 575.0, 585.0, 585.0], \"xaxis\": \"x\", \"y\": [0.0, 0.5098039215686274, 0.5098039215686274, 0.0], \"yaxis\": \"y\"}, {\"hoverinfo\": \"text\", \"marker\": {\"color\": \"rgb(0,116,217)\"}, \"mode\": \"lines\", \"text\": [null, null, null, null], \"type\": \"scatter\", \"uid\": \"6d36ee43-d471-4b8a-8a78-1708a35baf98\", \"x\": [550.0, 550.0, 580.0, 580.0], \"xaxis\": \"x\", \"y\": [0.5, 0.8804347826086957, 0.8804347826086957, 0.5098039215686274], \"yaxis\": \"y\"}, {\"hoverinfo\": \"text\", \"marker\": {\"color\": \"rgb(0,116,217)\"}, \"mode\": \"lines\", \"text\": [null, null, null, null], \"type\": \"scatter\", \"uid\": \"94ca2006-9f66-4543-8b61-8c867e7ede70\", \"x\": [478.75, 478.75, 565.0, 565.0], \"xaxis\": \"x\", \"y\": [0.8548387096774194, 0.9857142857142858, 0.9857142857142858, 0.8804347826086957], \"yaxis\": \"y\"}, {\"hoverinfo\": \"text\", \"marker\": {\"color\": \"rgb(255,220,0)\"}, \"mode\": \"lines\", \"text\": [\"cluster: 32, component: QE_2017_001815_268.10373_58.0\", \"cluster: 32, component: QE_2017_001815_268.10373_58.0\", \"cluster: 32, component: QE_2017_001816_269.16055_60.0\", \"cluster: 32, component: QE_2017_001816_269.16055_60.0\"], \"type\": \"scatter\", \"uid\": \"021c5c26-e31d-4bce-8c68-efe58a109250\", \"x\": [595.0, 595.0, 605.0, 605.0], \"xaxis\": \"x\", \"y\": [0.0, 0.42424242424242425, 0.42424242424242425, 0.0], \"yaxis\": \"y\"}, {\"hoverinfo\": \"text\", \"marker\": {\"color\": \"rgb(40,35,35)\"}, \"mode\": \"lines\", \"text\": [\"cluster: 33, component: QE_2017_001816_408.36832_704.0\", \"cluster: 33, component: QE_2017_001816_408.36832_704.0\", \"cluster: 33, component: QE_2017_001816_466.40979_731.0\", \"cluster: 33, component: QE_2017_001816_466.40979_731.0\"], \"type\": \"scatter\", \"uid\": \"75593aff-c94b-473e-b371-f66226281011\", \"x\": [625.0, 625.0, 635.0, 635.0], \"xaxis\": \"x\", \"y\": [0.0, 0.5882352941176471, 0.5882352941176471, 0.0], \"yaxis\": \"y\"}, {\"hoverinfo\": \"text\", \"marker\": {\"color\": \"rgb(0,116,217)\"}, \"mode\": \"lines\", \"text\": [\"cluster: 34, component: QE_2017_001815_364.34189_705.0\", \"cluster: 34, component: QE_2017_001815_364.34189_705.0\", null, null], \"type\": \"scatter\", \"uid\": \"b985799d-1323-4d23-a1cb-9530dad06b7c\", \"x\": [615.0, 615.0, 630.0, 630.0], \"xaxis\": \"x\", \"y\": [0.0, 0.6875, 0.6875, 0.5882352941176471], \"yaxis\": \"y\"}, {\"hoverinfo\": \"text\", \"marker\": {\"color\": \"rgb(61,153,112)\"}, \"mode\": \"lines\", \"text\": [\"cluster: 35, component: QE_2017_001814_364.34244_761.0\", \"cluster: 35, component: QE_2017_001814_364.34244_761.0\", \"cluster: 35, component: QE_2017_001815_364.34253_752.0\", \"cluster: 35, component: QE_2017_001815_364.34253_752.0\"], \"type\": \"scatter\", \"uid\": \"ae58a457-ec0c-42b1-9364-58c0fc647c6f\", \"x\": [665.0, 665.0, 675.0, 675.0], \"xaxis\": \"x\", \"y\": [0.0, 0.36363636363636365, 0.36363636363636365, 0.0], \"yaxis\": \"y\"}, {\"hoverinfo\": \"text\", \"marker\": {\"color\": \"rgb(255,65,54)\"}, \"mode\": \"lines\", \"text\": [\"cluster: 36, component: QE_2017_001816_421.35226_731.0\", \"cluster: 36, component: QE_2017_001816_421.35226_731.0\", \"cluster: 36, component: QE_2017_001816_424.36325_712.0\", \"cluster: 36, component: QE_2017_001816_424.36325_712.0\"], \"type\": \"scatter\", \"uid\": \"fb132a62-ad37-42f8-b9c3-8e64397f0c25\", \"x\": [685.0, 685.0, 695.0, 695.0], \"xaxis\": \"x\", \"y\": [0.0, 0.3888888888888889, 0.3888888888888889, 0.0], \"yaxis\": \"y\"}, {\"hoverinfo\": \"text\", \"marker\": {\"color\": \"rgb(0,116,217)\"}, \"mode\": \"lines\", \"text\": [null, null, null, null], \"type\": \"scatter\", \"uid\": \"f374c455-cf22-4b01-b731-c1aed317cad7\", \"x\": [670.0, 670.0, 690.0, 690.0], \"xaxis\": \"x\", \"y\": [0.36363636363636365, 0.6111111111111112, 0.6111111111111112, 0.3888888888888889], \"yaxis\": \"y\"}, {\"hoverinfo\": \"text\", \"marker\": {\"color\": \"rgb(0,116,217)\"}, \"mode\": \"lines\", \"text\": [\"cluster: 37, component: QE_2017_001815_482.40488_739.0\", \"cluster: 37, component: QE_2017_001815_482.40488_739.0\", null, null], \"type\": \"scatter\", \"uid\": \"e9c7dc0e-6db5-4978-aa56-caa098f31270\", \"x\": [655.0, 655.0, 680.0, 680.0], \"xaxis\": \"x\", \"y\": [0.0, 0.7037037037037037, 0.7037037037037037, 0.6111111111111112], \"yaxis\": \"y\"}, {\"hoverinfo\": \"text\", \"marker\": {\"color\": \"rgb(0,116,217)\"}, \"mode\": \"lines\", \"text\": [\"cluster: 38, component: QE_2017_001815_408.36853_717.0\", \"cluster: 38, component: QE_2017_001815_408.36853_717.0\", null, null], \"type\": \"scatter\", \"uid\": \"31fe61de-dc72-479c-b5d6-92ba40d78048\", \"x\": [645.0, 645.0, 667.5, 667.5], \"xaxis\": \"x\", \"y\": [0.0, 0.7307692307692307, 0.7307692307692307, 0.7037037037037037], \"yaxis\": \"y\"}, {\"hoverinfo\": \"text\", \"marker\": {\"color\": \"rgb(0,116,217)\"}, \"mode\": \"lines\", \"text\": [null, null, null, null], \"type\": \"scatter\", \"uid\": \"fbcaea57-9f6d-4773-acea-57d4bcee138e\", \"x\": [622.5, 622.5, 656.25, 656.25], \"xaxis\": \"x\", \"y\": [0.6875, 0.8387096774193549, 0.8387096774193549, 0.7307692307692307], \"yaxis\": \"y\"}, {\"hoverinfo\": \"text\", \"marker\": {\"color\": \"rgb(0,116,217)\"}, \"mode\": \"lines\", \"text\": [null, null, null, null], \"type\": \"scatter\", \"uid\": \"1c6f4d49-05e0-468a-8b09-ffd723f3509d\", \"x\": [600.0, 600.0, 639.375, 639.375], \"xaxis\": \"x\", \"y\": [0.42424242424242425, 0.9814814814814815, 0.9814814814814815, 0.8387096774193549], \"yaxis\": \"y\"}, {\"hoverinfo\": \"text\", \"marker\": {\"color\": \"rgb(35,205,205)\"}, \"mode\": \"lines\", \"text\": [\"cluster: 39, component: QE_2017_001814_611.15997_285.0\", \"cluster: 39, component: QE_2017_001814_611.15997_285.0\", \"cluster: 39, component: QE_2017_001815_611.16046_309.0\", \"cluster: 39, component: QE_2017_001815_611.16046_309.0\"], \"type\": \"scatter\", \"uid\": \"7d6a8523-fffe-45af-84e0-c82d409749eb\", \"x\": [715.0, 715.0, 725.0, 725.0], \"xaxis\": \"x\", \"y\": [0.0, 0.4583333333333333, 0.4583333333333333, 0.0], \"yaxis\": \"y\"}, {\"hoverinfo\": \"text\", \"marker\": {\"color\": \"rgb(133,20,75)\"}, \"mode\": \"lines\", \"text\": [\"cluster: 40, component: QE_2017_001814_339.10742_366.0\", \"cluster: 40, component: QE_2017_001814_339.10742_366.0\", \"cluster: 40, component: QE_2017_001816_339.10733_298.0\", \"cluster: 40, component: QE_2017_001816_339.10733_298.0\"], \"type\": \"scatter\", \"uid\": \"04afac7d-967c-41cc-9b2c-410a50138280\", \"x\": [735.0, 735.0, 745.0, 745.0], \"xaxis\": \"x\", \"y\": [0.0, 0.44, 0.44, 0.0], \"yaxis\": \"y\"}, {\"hoverinfo\": \"text\", \"marker\": {\"color\": \"rgb(255,220,0)\"}, \"mode\": \"lines\", \"text\": [\"cluster: 41, component: QE_2017_001814_231.04971_516.0\", \"cluster: 41, component: QE_2017_001814_231.04971_516.0\", \"cluster: 41, component: QE_2017_001815_231.04971_369.0\", \"cluster: 41, component: QE_2017_001815_231.04971_369.0\"], \"type\": \"scatter\", \"uid\": \"2cfbf753-604b-4749-9066-a0dc2a68c0e1\", \"x\": [795.0, 795.0, 805.0, 805.0], \"xaxis\": \"x\", \"y\": [0.0, 0.391304347826087, 0.391304347826087, 0.0], \"yaxis\": \"y\"}, {\"hoverinfo\": \"text\", \"marker\": {\"color\": \"rgb(255,220,0)\"}, \"mode\": \"lines\", \"text\": [\"cluster: 41, component: QE_2017_001815_231.04968_315.0\", \"cluster: 41, component: QE_2017_001815_231.04968_315.0\", null, null], \"type\": \"scatter\", \"uid\": \"ad3e38a0-e6a4-4ccf-b20c-fe0c620a662c\", \"x\": [785.0, 785.0, 800.0, 800.0], \"xaxis\": \"x\", \"y\": [0.0, 0.4090909090909091, 0.4090909090909091, 0.391304347826087], \"yaxis\": \"y\"}, {\"hoverinfo\": \"text\", \"marker\": {\"color\": \"rgb(255,220,0)\"}, \"mode\": \"lines\", \"text\": [\"cluster: 41, component: QE_2017_001815_231.04973_403.0\", \"cluster: 41, component: QE_2017_001815_231.04973_403.0\", null, null], \"type\": \"scatter\", \"uid\": \"1ab41b3c-020f-4e48-87dd-0913e95583f6\", \"x\": [775.0, 775.0, 792.5, 792.5], \"xaxis\": \"x\", \"y\": [0.0, 0.52, 0.52, 0.4090909090909091], \"yaxis\": \"y\"}, {\"hoverinfo\": \"text\", \"marker\": {\"color\": \"rgb(0,116,217)\"}, \"mode\": \"lines\", \"text\": [\"cluster: 42, component: QE_2017_001815_340.16019_314.0\", \"cluster: 42, component: QE_2017_001815_340.16019_314.0\", null, null], \"type\": \"scatter\", \"uid\": \"4f978ba7-28a3-4653-a47e-d0133137819c\", \"x\": [765.0, 765.0, 783.75, 783.75], \"xaxis\": \"x\", \"y\": [0.0, 0.6904761904761905, 0.6904761904761905, 0.52], \"yaxis\": \"y\"}, {\"hoverinfo\": \"text\", \"marker\": {\"color\": \"rgb(40,35,35)\"}, \"mode\": \"lines\", \"text\": [\"cluster: 43, component: QE_2017_001815_314.14453_76.0\", \"cluster: 43, component: QE_2017_001815_314.14453_76.0\", \"cluster: 43, component: QE_2017_001816_314.14462_79.0\", \"cluster: 43, component: QE_2017_001816_314.14462_79.0\"], \"type\": \"scatter\", \"uid\": \"55346262-dbe4-4c5a-8abb-670bbf541144\", \"x\": [815.0, 815.0, 825.0, 825.0], \"xaxis\": \"x\", \"y\": [0.0, 0.4230769230769231, 0.4230769230769231, 0.0], \"yaxis\": \"y\"}, {\"hoverinfo\": \"text\", \"marker\": {\"color\": \"rgb(0,116,217)\"}, \"mode\": \"lines\", \"text\": [\"cluster: 44, component: QE_2017_001816_310.14957_134.0\", \"cluster: 44, component: QE_2017_001816_310.14957_134.0\", \"cluster: 45, component: QE_2017_001816_342.17584_257.0\", \"cluster: 45, component: QE_2017_001816_342.17584_257.0\"], \"type\": \"scatter\", \"uid\": \"df5a923e-263e-42fb-b41e-7d7b8916cf8f\", \"x\": [835.0, 835.0, 845.0, 845.0], \"xaxis\": \"x\", \"y\": [0.0, 0.6785714285714286, 0.6785714285714286, 0.0], \"yaxis\": \"y\"}, {\"hoverinfo\": \"text\", \"marker\": {\"color\": \"rgb(0,116,217)\"}, \"mode\": \"lines\", \"text\": [null, null, null, null], \"type\": \"scatter\", \"uid\": \"cec5e962-9b69-4f31-b358-adf24ee23996\", \"x\": [820.0, 820.0, 840.0, 840.0], \"xaxis\": \"x\", \"y\": [0.4230769230769231, 0.75, 0.75, 0.6785714285714286], \"yaxis\": \"y\"}, {\"hoverinfo\": \"text\", \"marker\": {\"color\": \"rgb(0,116,217)\"}, \"mode\": \"lines\", \"text\": [null, null, null, null], \"type\": \"scatter\", \"uid\": \"1c40baff-76ae-41ab-998b-6a80dd3d74de\", \"x\": [774.375, 774.375, 830.0, 830.0], \"xaxis\": \"x\", \"y\": [0.6904761904761905, 0.8, 0.8, 0.75], \"yaxis\": \"y\"}, {\"hoverinfo\": \"text\", \"marker\": {\"color\": \"rgb(0,116,217)\"}, \"mode\": \"lines\", \"text\": [\"cluster: 46, component: QE_2017_001814_498.2543_475.0\", \"cluster: 46, component: QE_2017_001814_498.2543_475.0\", null, null], \"type\": \"scatter\", \"uid\": \"5267c712-f544-4dea-826e-544ec1da1711\", \"x\": [755.0, 755.0, 802.1875, 802.1875], \"xaxis\": \"x\", \"y\": [0.0, 0.8571428571428571, 0.8571428571428571, 0.8], \"yaxis\": \"y\"}, {\"hoverinfo\": \"text\", \"marker\": {\"color\": \"rgb(0,116,217)\"}, \"mode\": \"lines\", \"text\": [null, null, null, null], \"type\": \"scatter\", \"uid\": \"e97e6990-f5c0-4662-9df0-2076ae28de50\", \"x\": [740.0, 740.0, 778.59375, 778.59375], \"xaxis\": \"x\", \"y\": [0.44, 0.8775510204081632, 0.8775510204081632, 0.8571428571428571], \"yaxis\": \"y\"}, {\"hoverinfo\": \"text\", \"marker\": {\"color\": \"rgb(0,116,217)\"}, \"mode\": \"lines\", \"text\": [\"cluster: 47, component: QE_2017_001814_241.15466_73.0\", \"cluster: 47, component: QE_2017_001814_241.15466_73.0\", \"cluster: 48, component: QE_2017_001815_507.18192_178.0\", \"cluster: 48, component: QE_2017_001815_507.18192_178.0\"], \"type\": \"scatter\", \"uid\": \"7eb90103-ac73-42c0-b498-efd65faeefb8\", \"x\": [855.0, 855.0, 865.0, 865.0], \"xaxis\": \"x\", \"y\": [0.0, 0.9152542372881356, 0.9152542372881356, 0.0], \"yaxis\": \"y\"}, {\"hoverinfo\": \"text\", \"marker\": {\"color\": \"rgb(0,116,217)\"}, \"mode\": \"lines\", \"text\": [null, null, null, null], \"type\": \"scatter\", \"uid\": \"fc470126-c7b9-440f-ae81-988b17686be5\", \"x\": [759.296875, 759.296875, 860.0, 860.0], \"xaxis\": \"x\", \"y\": [0.8775510204081632, 0.9302325581395349, 0.9302325581395349, 0.9152542372881356], \"yaxis\": \"y\"}, {\"hoverinfo\": \"text\", \"marker\": {\"color\": \"rgb(0,116,217)\"}, \"mode\": \"lines\", \"text\": [null, null, null, null], \"type\": \"scatter\", \"uid\": \"0e36ce77-3595-442e-9119-05f2fbeb5965\", \"x\": [720.0, 720.0, 809.6484375, 809.6484375], \"xaxis\": \"x\", \"y\": [0.4583333333333333, 0.9622641509433962, 0.9622641509433962, 0.9302325581395349], \"yaxis\": \"y\"}, {\"hoverinfo\": \"text\", \"marker\": {\"color\": \"rgb(0,116,217)\"}, \"mode\": \"lines\", \"text\": [\"cluster: 49, component: QE_2017_001816_463.12311_410.0\", \"cluster: 49, component: QE_2017_001816_463.12311_410.0\", null, null], \"type\": \"scatter\", \"uid\": \"ad90c3fe-3abb-42ab-887c-637de620360b\", \"x\": [705.0, 705.0, 764.82421875, 764.82421875], \"xaxis\": \"x\", \"y\": [0.0, 0.9696969696969697, 0.9696969696969697, 0.9622641509433962], \"yaxis\": \"y\"}, {\"hoverinfo\": \"text\", \"marker\": {\"color\": \"rgb(61,153,112)\"}, \"mode\": \"lines\", \"text\": [\"cluster: 50, component: QE_2017_001814_320.29456_577.0\", \"cluster: 50, component: QE_2017_001814_320.29456_577.0\", \"cluster: 50, component: QE_2017_001815_320.29471_563.0\", \"cluster: 50, component: QE_2017_001815_320.29471_563.0\"], \"type\": \"scatter\", \"uid\": \"7c27fe1a-67f3-49fd-929b-7ffb02136fa4\", \"x\": [895.0, 895.0, 905.0, 905.0], \"xaxis\": \"x\", \"y\": [0.0, 0.36, 0.36, 0.0], \"yaxis\": \"y\"}, {\"hoverinfo\": \"text\", \"marker\": {\"color\": \"rgb(0,116,217)\"}, \"mode\": \"lines\", \"text\": [\"cluster: 51, component: QE_2017_001816_338.26062_643.0\", \"cluster: 51, component: QE_2017_001816_338.26062_643.0\", null, null], \"type\": \"scatter\", \"uid\": \"824cde00-c25d-4e57-981a-5e3b77bc9737\", \"x\": [885.0, 885.0, 900.0, 900.0], \"xaxis\": \"x\", \"y\": [0.0, 0.6153846153846154, 0.6153846153846154, 0.36], \"yaxis\": \"y\"}, {\"hoverinfo\": \"text\", \"marker\": {\"color\": \"rgb(0,116,217)\"}, \"mode\": \"lines\", \"text\": [\"cluster: 52, component: QE_2017_001814_483.27118_651.0\", \"cluster: 52, component: QE_2017_001814_483.27118_651.0\", null, null], \"type\": \"scatter\", \"uid\": \"7b7f49c0-eb95-4cc9-81f8-fbd477992c64\", \"x\": [875.0, 875.0, 892.5, 892.5], \"xaxis\": \"x\", \"y\": [0.0, 0.8636363636363636, 0.8636363636363636, 0.6153846153846154], \"yaxis\": \"y\"}, {\"hoverinfo\": \"text\", \"marker\": {\"color\": \"rgb(0,116,217)\"}, \"mode\": \"lines\", \"text\": [\"cluster: 53, component: QE_2017_001815_129.12741_349.0\", \"cluster: 53, component: QE_2017_001815_129.12741_349.0\", \"cluster: 54, component: QE_2017_001815_171.14914_420.0\", \"cluster: 54, component: QE_2017_001815_171.14914_420.0\"], \"type\": \"scatter\", \"uid\": \"b6d5eb7c-1862-444c-996d-ebffe51e1ab6\", \"x\": [915.0, 915.0, 925.0, 925.0], \"xaxis\": \"x\", \"y\": [0.0, 0.8666666666666667, 0.8666666666666667, 0.0], \"yaxis\": \"y\"}, {\"hoverinfo\": \"text\", \"marker\": {\"color\": \"rgb(0,116,217)\"}, \"mode\": \"lines\", \"text\": [null, null, null, null], \"type\": \"scatter\", \"uid\": \"5a4251e6-4288-4d9e-9e34-5f0fb0513ae3\", \"x\": [883.75, 883.75, 920.0, 920.0], \"xaxis\": \"x\", \"y\": [0.8636363636363636, 0.9032258064516129, 0.9032258064516129, 0.8666666666666667], \"yaxis\": \"y\"}, {\"hoverinfo\": \"text\", \"marker\": {\"color\": \"rgb(255,65,54)\"}, \"mode\": \"lines\", \"text\": [\"cluster: 55, component: QE_2017_001815_201.16367_442.0\", \"cluster: 55, component: QE_2017_001815_201.16367_442.0\", \"cluster: 55, component: QE_2017_001816_201.16362_435.0\", \"cluster: 55, component: QE_2017_001816_201.16362_435.0\"], \"type\": \"scatter\", \"uid\": \"d1f0d570-b546-4a28-8cb8-3753c12a2ae6\", \"x\": [935.0, 935.0, 945.0, 945.0], \"xaxis\": \"x\", \"y\": [0.0, 0.48333333333333334, 0.48333333333333334, 0.0], \"yaxis\": \"y\"}, {\"hoverinfo\": \"text\", \"marker\": {\"color\": \"rgb(35,205,205)\"}, \"mode\": \"lines\", \"text\": [\"cluster: 56, component: QE_2017_001815_209.1535_312.0\", \"cluster: 56, component: QE_2017_001815_209.1535_312.0\", \"cluster: 56, component: QE_2017_001816_209.15344_311.0\", \"cluster: 56, component: QE_2017_001816_209.15344_311.0\"], \"type\": \"scatter\", \"uid\": \"8e846a58-89eb-4ead-bfd9-24c738aad9cb\", \"x\": [975.0, 975.0, 985.0, 985.0], \"xaxis\": \"x\", \"y\": [0.0, 0.2916666666666667, 0.2916666666666667, 0.0], \"yaxis\": \"y\"}, {\"hoverinfo\": \"text\", \"marker\": {\"color\": \"rgb(35,205,205)\"}, \"mode\": \"lines\", \"text\": [\"cluster: 56, component: QE_2017_001815_209.15349_295.0\", \"cluster: 56, component: QE_2017_001815_209.15349_295.0\", null, null], \"type\": \"scatter\", \"uid\": \"f614c836-cd9d-4cd3-97f0-a58ecae03642\", \"x\": [965.0, 965.0, 980.0, 980.0], \"xaxis\": \"x\", \"y\": [0.0, 0.3835616438356164, 0.3835616438356164, 0.2916666666666667], \"yaxis\": \"y\"}, {\"hoverinfo\": \"text\", \"marker\": {\"color\": \"rgb(35,205,205)\"}, \"mode\": \"lines\", \"text\": [\"cluster: 56, component: QE_2017_001815_209.15352_479.0\", \"cluster: 56, component: QE_2017_001815_209.15352_479.0\", null, null], \"type\": \"scatter\", \"uid\": \"34052197-20e5-4801-a972-5c1bb5d50578\", \"x\": [955.0, 955.0, 972.5, 972.5], \"xaxis\": \"x\", \"y\": [0.0, 0.4473684210526316, 0.4473684210526316, 0.3835616438356164], \"yaxis\": \"y\"}, {\"hoverinfo\": \"text\", \"marker\": {\"color\": \"rgb(133,20,75)\"}, \"mode\": \"lines\", \"text\": [\"cluster: 57, component: QE_2017_001814_243.15892_533.0\", \"cluster: 57, component: QE_2017_001814_243.15892_533.0\", \"cluster: 57, component: QE_2017_001814_281.1745_492.0\", \"cluster: 57, component: QE_2017_001814_281.1745_492.0\"], \"type\": \"scatter\", \"uid\": \"5431fce4-fcee-4341-b9a3-99dfc12ca4f8\", \"x\": [995.0, 995.0, 1005.0, 1005.0], \"xaxis\": \"x\", \"y\": [0.0, 0.359375, 0.359375, 0.0], \"yaxis\": \"y\"}, {\"hoverinfo\": \"text\", \"marker\": {\"color\": \"rgb(255,220,0)\"}, \"mode\": \"lines\", \"text\": [\"cluster: 57, component: QE_2017_001815_227.16408_344.0\", \"cluster: 57, component: QE_2017_001815_227.16408_344.0\", \"cluster: 57, component: QE_2017_001815_283.19009_564.0\", \"cluster: 57, component: QE_2017_001815_283.19009_564.0\"], \"type\": \"scatter\", \"uid\": \"d1f465bd-ac7a-4c15-9bfb-15a470cab274\", \"x\": [1025.0, 1025.0, 1035.0, 1035.0], \"xaxis\": \"x\", \"y\": [0.0, 0.47191011235955055, 0.47191011235955055, 0.0], \"yaxis\": \"y\"}, {\"hoverinfo\": \"text\", \"marker\": {\"color\": \"rgb(255,220,0)\"}, \"mode\": \"lines\", \"text\": [\"cluster: 57, component: QE_2017_001814_293.2106_579.0\", \"cluster: 57, component: QE_2017_001814_293.2106_579.0\", null, null], \"type\": \"scatter\", \"uid\": \"878ae246-2b53-471a-ba69-71b478d1c2aa\", \"x\": [1015.0, 1015.0, 1030.0, 1030.0], \"xaxis\": \"x\", \"y\": [0.0, 0.5454545454545454, 0.5454545454545454, 0.47191011235955055], \"yaxis\": \"y\"}, {\"hoverinfo\": \"text\", \"marker\": {\"color\": \"rgb(0,116,217)\"}, \"mode\": \"lines\", \"text\": [null, null, null, null], \"type\": \"scatter\", \"uid\": \"bd7a22e6-fa2f-4b67-99b8-17c9f79db5a2\", \"x\": [1000.0, 1000.0, 1022.5, 1022.5], \"xaxis\": \"x\", \"y\": [0.359375, 0.6, 0.6, 0.5454545454545454], \"yaxis\": \"y\"}, {\"hoverinfo\": \"text\", \"marker\": {\"color\": \"rgb(0,116,217)\"}, \"mode\": \"lines\", \"text\": [null, null, null, null], \"type\": \"scatter\", \"uid\": \"58c276e8-cb6d-4ed4-8491-84700a7ed527\", \"x\": [963.75, 963.75, 1011.25, 1011.25], \"xaxis\": \"x\", \"y\": [0.4473684210526316, 0.6494845360824743, 0.6494845360824743, 0.6], \"yaxis\": \"y\"}, {\"hoverinfo\": \"text\", \"marker\": {\"color\": \"rgb(40,35,35)\"}, \"mode\": \"lines\", \"text\": [\"cluster: 58, component: QE_2017_001814_227.1275_293.0\", \"cluster: 58, component: QE_2017_001814_227.1275_293.0\", \"cluster: 58, component: QE_2017_001816_227.12766_295.0\", \"cluster: 58, component: QE_2017_001816_227.12766_295.0\"], \"type\": \"scatter\", \"uid\": \"a19c14f7-99c1-4b36-ba55-bdb9f3e18f03\", \"x\": [1055.0, 1055.0, 1065.0, 1065.0], \"xaxis\": \"x\", \"y\": [0.0, 0.3382352941176471, 0.3382352941176471, 0.0], \"yaxis\": \"y\"}, {\"hoverinfo\": \"text\", \"marker\": {\"color\": \"rgb(0,116,217)\"}, \"mode\": \"lines\", \"text\": [\"cluster: 59, component: QE_2017_001815_207.13785_297.0\", \"cluster: 59, component: QE_2017_001815_207.13785_297.0\", null, null], \"type\": \"scatter\", \"uid\": \"e98cd654-d886-4f9c-badc-f0e8e4da7156\", \"x\": [1045.0, 1045.0, 1060.0, 1060.0], \"xaxis\": \"x\", \"y\": [0.0, 0.6710526315789473, 0.6710526315789473, 0.3382352941176471], \"yaxis\": \"y\"}, {\"hoverinfo\": \"text\", \"marker\": {\"color\": \"rgb(0,116,217)\"}, \"mode\": \"lines\", \"text\": [null, null, null, null], \"type\": \"scatter\", \"uid\": \"6afd2da4-7b78-48c5-bf7f-39f561494d4d\", \"x\": [987.5, 987.5, 1052.5, 1052.5], \"xaxis\": \"x\", \"y\": [0.6494845360824743, 0.7058823529411765, 0.7058823529411765, 0.6710526315789473], \"yaxis\": \"y\"}, {\"hoverinfo\": \"text\", \"marker\": {\"color\": \"rgb(61,153,112)\"}, \"mode\": \"lines\", \"text\": [\"cluster: 60, component: QE_2017_001815_181.1221_767.0\", \"cluster: 60, component: QE_2017_001815_181.1221_767.0\", \"cluster: 60, component: QE_2017_001816_181.12199_794.0\", \"cluster: 60, component: QE_2017_001816_181.12199_794.0\"], \"type\": \"scatter\", \"uid\": \"e4a62c0c-149e-4f72-9cc7-066a0685e444\", \"x\": [1075.0, 1075.0, 1085.0, 1085.0], \"xaxis\": \"x\", \"y\": [0.0, 0.2857142857142857, 0.2857142857142857, 0.0], \"yaxis\": \"y\"}, {\"hoverinfo\": \"text\", \"marker\": {\"color\": \"rgb(255,65,54)\"}, \"mode\": \"lines\", \"text\": [\"cluster: 61, component: QE_2017_001814_211.16902_440.0\", \"cluster: 61, component: QE_2017_001814_211.16902_440.0\", \"cluster: 61, component: QE_2017_001815_211.16913_450.0\", \"cluster: 61, component: QE_2017_001815_211.16913_450.0\"], \"type\": \"scatter\", \"uid\": \"35be1401-b404-456a-8431-6181be1f765b\", \"x\": [1115.0, 1115.0, 1125.0, 1125.0], \"xaxis\": \"x\", \"y\": [0.0, 0.19230769230769232, 0.19230769230769232, 0.0], \"yaxis\": \"y\"}, {\"hoverinfo\": \"text\", \"marker\": {\"color\": \"rgb(255,65,54)\"}, \"mode\": \"lines\", \"text\": [\"cluster: 61, component: QE_2017_001815_209.0807_405.0\", \"cluster: 61, component: QE_2017_001815_209.0807_405.0\", null, null], \"type\": \"scatter\", \"uid\": \"7327559f-53da-40f8-9b0a-9c77941969d1\", \"x\": [1105.0, 1105.0, 1120.0, 1120.0], \"xaxis\": \"x\", \"y\": [0.0, 0.21153846153846154, 0.21153846153846154, 0.19230769230769232], \"yaxis\": \"y\"}, {\"hoverinfo\": \"text\", \"marker\": {\"color\": \"rgb(255,65,54)\"}, \"mode\": \"lines\", \"text\": [\"cluster: 61, component: QE_2017_001816_211.16916_405.0\", \"cluster: 61, component: QE_2017_001816_211.16916_405.0\", null, null], \"type\": \"scatter\", \"uid\": \"2ae5b9f0-4202-4e3e-a9a0-56c92f76504e\", \"x\": [1095.0, 1095.0, 1112.5, 1112.5], \"xaxis\": \"x\", \"y\": [0.0, 0.3, 0.3, 0.21153846153846154], \"yaxis\": \"y\"}, {\"hoverinfo\": \"text\", \"marker\": {\"color\": \"rgb(255,65,54)\"}, \"mode\": \"lines\", \"text\": [\"cluster: 61, component: QE_2017_001815_215.164_550.0\", \"cluster: 61, component: QE_2017_001815_215.164_550.0\", \"cluster: 61, component: QE_2017_001816_215.16411_482.0\", \"cluster: 61, component: QE_2017_001816_215.16411_482.0\"], \"type\": \"scatter\", \"uid\": \"2f6198ff-1332-473a-b3a5-0b0a07263c99\", \"x\": [1135.0, 1135.0, 1145.0, 1145.0], \"xaxis\": \"x\", \"y\": [0.0, 0.48717948717948717, 0.48717948717948717, 0.0], \"yaxis\": \"y\"}, {\"hoverinfo\": \"text\", \"marker\": {\"color\": \"rgb(255,65,54)\"}, \"mode\": \"lines\", \"text\": [null, null, null, null], \"type\": \"scatter\", \"uid\": \"bb4cf674-0c32-4801-a5f6-69cff28c615e\", \"x\": [1103.75, 1103.75, 1140.0, 1140.0], \"xaxis\": \"x\", \"y\": [0.3, 0.5818181818181818, 0.5818181818181818, 0.48717948717948717], \"yaxis\": \"y\"}, {\"hoverinfo\": \"text\", \"marker\": {\"color\": \"rgb(0,116,217)\"}, \"mode\": \"lines\", \"text\": [null, null, null, null], \"type\": \"scatter\", \"uid\": \"3381350b-1d83-41e3-8df0-97fc25ddf114\", \"x\": [1080.0, 1080.0, 1121.875, 1121.875], \"xaxis\": \"x\", \"y\": [0.2857142857142857, 0.7446808510638298, 0.7446808510638298, 0.5818181818181818], \"yaxis\": \"y\"}, {\"hoverinfo\": \"text\", \"marker\": {\"color\": \"rgb(0,116,217)\"}, \"mode\": \"lines\", \"text\": [null, null, null, null], \"type\": \"scatter\", \"uid\": \"a97992cb-f283-460b-9c89-46c6cd10f887\", \"x\": [1020.0, 1020.0, 1100.9375, 1100.9375], \"xaxis\": \"x\", \"y\": [0.7058823529411765, 0.7631578947368421, 0.7631578947368421, 0.7446808510638298], \"yaxis\": \"y\"}, {\"hoverinfo\": \"text\", \"marker\": {\"color\": \"rgb(35,205,205)\"}, \"mode\": \"lines\", \"text\": [\"cluster: 62, component: QE_2017_001814_219.17416_517.0\", \"cluster: 62, component: QE_2017_001814_219.17416_517.0\", \"cluster: 62, component: QE_2017_001815_219.17421_516.0\", \"cluster: 62, component: QE_2017_001815_219.17421_516.0\"], \"type\": \"scatter\", \"uid\": \"609a342c-34a8-4b10-9e87-8596ed33f865\", \"x\": [1165.0, 1165.0, 1175.0, 1175.0], \"xaxis\": \"x\", \"y\": [0.0, 0.25, 0.25, 0.0], \"yaxis\": \"y\"}, {\"hoverinfo\": \"text\", \"marker\": {\"color\": \"rgb(35,205,205)\"}, \"mode\": \"lines\", \"text\": [\"cluster: 62, component: QE_2017_001814_219.17401_452.0\", \"cluster: 62, component: QE_2017_001814_219.17401_452.0\", \"cluster: 62, component: QE_2017_001814_219.17409_442.0\", \"cluster: 62, component: QE_2017_001814_219.17409_442.0\"], \"type\": \"scatter\", \"uid\": \"25ee3e40-b29d-4e9d-9b3f-2196fa61afb5\", \"x\": [1195.0, 1195.0, 1205.0, 1205.0], \"xaxis\": \"x\", \"y\": [0.0, 0.3125, 0.3125, 0.0], \"yaxis\": \"y\"}, {\"hoverinfo\": \"text\", \"marker\": {\"color\": \"rgb(35,205,205)\"}, \"mode\": \"lines\", \"text\": [\"cluster: 62, component: QE_2017_001816_219.17438_502.0\", \"cluster: 62, component: QE_2017_001816_219.17438_502.0\", null, null], \"type\": \"scatter\", \"uid\": \"b3d110e2-7676-4d3f-aeea-7d25ea0d345e\", \"x\": [1185.0, 1185.0, 1200.0, 1200.0], \"xaxis\": \"x\", \"y\": [0.0, 0.4074074074074074, 0.4074074074074074, 0.3125], \"yaxis\": \"y\"}, {\"hoverinfo\": \"text\", \"marker\": {\"color\": \"rgb(35,205,205)\"}, \"mode\": \"lines\", \"text\": [null, null, null, null], \"type\": \"scatter\", \"uid\": \"217f1dd9-77ec-4f22-aa98-7027f2a4a201\", \"x\": [1170.0, 1170.0, 1192.5, 1192.5], \"xaxis\": \"x\", \"y\": [0.25, 0.4583333333333333, 0.4583333333333333, 0.4074074074074074], \"yaxis\": \"y\"}, {\"hoverinfo\": \"text\", \"marker\": {\"color\": \"rgb(133,20,75)\"}, \"mode\": \"lines\", \"text\": [\"cluster: 63, component: QE_2017_001815_191.14287_312.0\", \"cluster: 63, component: QE_2017_001815_191.14287_312.0\", \"cluster: 63, component: QE_2017_001816_191.14291_404.0\", \"cluster: 63, component: QE_2017_001816_191.14291_404.0\"], \"type\": \"scatter\", \"uid\": \"24ba046d-c33a-4319-8897-acdce29cdc49\", \"x\": [1225.0, 1225.0, 1235.0, 1235.0], \"xaxis\": \"x\", \"y\": [0.0, 0.43103448275862066, 0.43103448275862066, 0.0], \"yaxis\": \"y\"}, {\"hoverinfo\": \"text\", \"marker\": {\"color\": \"rgb(133,20,75)\"}, \"mode\": \"lines\", \"text\": [\"cluster: 63, component: QE_2017_001814_191.14291_389.0\", \"cluster: 63, component: QE_2017_001814_191.14291_389.0\", null, null], \"type\": \"scatter\", \"uid\": \"b65a2850-c8cd-4084-8d18-011f45255c78\", \"x\": [1215.0, 1215.0, 1230.0, 1230.0], \"xaxis\": \"x\", \"y\": [0.0, 0.5, 0.5, 0.43103448275862066], \"yaxis\": \"y\"}, {\"hoverinfo\": \"text\", \"marker\": {\"color\": \"rgb(0,116,217)\"}, \"mode\": \"lines\", \"text\": [null, null, null, null], \"type\": \"scatter\", \"uid\": \"3e717111-c041-4927-9093-cc528c8f2ea9\", \"x\": [1181.25, 1181.25, 1222.5, 1222.5], \"xaxis\": \"x\", \"y\": [0.4583333333333333, 0.68, 0.68, 0.5], \"yaxis\": \"y\"}, {\"hoverinfo\": \"text\", \"marker\": {\"color\": \"rgb(0,116,217)\"}, \"mode\": \"lines\", \"text\": [\"cluster: 64, component: QE_2017_001816_137.09584_445.0\", \"cluster: 64, component: QE_2017_001816_137.09584_445.0\", null, null], \"type\": \"scatter\", \"uid\": \"33ea5464-090d-439f-ae1b-798a05d2aa04\", \"x\": [1155.0, 1155.0, 1201.875, 1201.875], \"xaxis\": \"x\", \"y\": [0.0, 0.782608695652174, 0.782608695652174, 0.68], \"yaxis\": \"y\"}, {\"hoverinfo\": \"text\", \"marker\": {\"color\": \"rgb(0,116,217)\"}, \"mode\": \"lines\", \"text\": [null, null, null, null], \"type\": \"scatter\", \"uid\": \"ec16378c-31ab-4dfa-861b-5db985869d7e\", \"x\": [1060.46875, 1060.46875, 1178.4375, 1178.4375], \"xaxis\": \"x\", \"y\": [0.7631578947368421, 0.8170731707317073, 0.8170731707317073, 0.782608695652174], \"yaxis\": \"y\"}, {\"hoverinfo\": \"text\", \"marker\": {\"color\": \"rgb(0,116,217)\"}, \"mode\": \"lines\", \"text\": [null, null, null, null], \"type\": \"scatter\", \"uid\": \"dbd8d6d7-36f5-4016-b709-37754c19a239\", \"x\": [940.0, 940.0, 1119.453125, 1119.453125], \"xaxis\": \"x\", \"y\": [0.48333333333333334, 0.8421052631578947, 0.8421052631578947, 0.8170731707317073], \"yaxis\": \"y\"}, {\"hoverinfo\": \"text\", \"marker\": {\"color\": \"rgb(0,116,217)\"}, \"mode\": \"lines\", \"text\": [\"cluster: 65, component: QE_2017_001814_209.08058_363.0\", \"cluster: 65, component: QE_2017_001814_209.08058_363.0\", \"cluster: 66, component: QE_2017_001816_207.13779_561.0\", \"cluster: 66, component: QE_2017_001816_207.13779_561.0\"], \"type\": \"scatter\", \"uid\": \"0cc87e2b-362f-44ea-b45c-0f2e8e5f079a\", \"x\": [1245.0, 1245.0, 1255.0, 1255.0], \"xaxis\": \"x\", \"y\": [0.0, 0.8556701030927835, 0.8556701030927835, 0.0], \"yaxis\": \"y\"}, {\"hoverinfo\": \"text\", \"marker\": {\"color\": \"rgb(0,116,217)\"}, \"mode\": \"lines\", \"text\": [null, null, null, null], \"type\": \"scatter\", \"uid\": \"66173ff5-024a-481d-b4e2-bbde4f92f000\", \"x\": [1029.7265625, 1029.7265625, 1250.0, 1250.0], \"xaxis\": \"x\", \"y\": [0.8421052631578947, 0.9135802469135802, 0.9135802469135802, 0.8556701030927835], \"yaxis\": \"y\"}, {\"hoverinfo\": \"text\", \"marker\": {\"color\": \"rgb(0,116,217)\"}, \"mode\": \"lines\", \"text\": [null, null, null, null], \"type\": \"scatter\", \"uid\": \"eb5d3e41-52a7-4010-9723-1ecb978918a6\", \"x\": [901.875, 901.875, 1139.86328125, 1139.86328125], \"xaxis\": \"x\", \"y\": [0.9032258064516129, 0.9882352941176471, 0.9882352941176471, 0.9135802469135802], \"yaxis\": \"y\"}, {\"hoverinfo\": \"text\", \"marker\": {\"color\": \"rgb(0,116,217)\"}, \"mode\": \"lines\", \"text\": [\"cluster: 67, component: QE_2017_001815_333.15173_245.0\", \"cluster: 67, component: QE_2017_001815_333.15173_245.0\", \"cluster: 68, component: QE_2017_001816_333.15204_235.0\", \"cluster: 68, component: QE_2017_001816_333.15204_235.0\"], \"type\": \"scatter\", \"uid\": \"dd6b33bb-caef-4436-823f-c248c45f5c21\", \"x\": [1265.0, 1265.0, 1275.0, 1275.0], \"xaxis\": \"x\", \"y\": [0.0, 0.8461538461538461, 0.8461538461538461, 0.0], \"yaxis\": \"y\"}, {\"hoverinfo\": \"text\", \"marker\": {\"color\": \"rgb(0,116,217)\"}, \"mode\": \"lines\", \"text\": [\"cluster: 69, component: QE_2017_001814_194.1174_244.0\", \"cluster: 69, component: QE_2017_001814_194.1174_244.0\", \"cluster: 70, component: QE_2017_001816_194.11746_133.0\", \"cluster: 70, component: QE_2017_001816_194.11746_133.0\"], \"type\": \"scatter\", \"uid\": \"d9902ab9-5145-4d7b-9108-4cda0f6ef562\", \"x\": [1285.0, 1285.0, 1295.0, 1295.0], \"xaxis\": \"x\", \"y\": [0.0, 0.7142857142857143, 0.7142857142857143, 0.0], \"yaxis\": \"y\"}, {\"hoverinfo\": \"text\", \"marker\": {\"color\": \"rgb(255,220,0)\"}, \"mode\": \"lines\", \"text\": [\"cluster: 71, component: QE_2017_001814_320.29471_529.0\", \"cluster: 71, component: QE_2017_001814_320.29471_529.0\", \"cluster: 71, component: QE_2017_001815_320.29486_538.0\", \"cluster: 71, component: QE_2017_001815_320.29486_538.0\"], \"type\": \"scatter\", \"uid\": \"3f3953a2-9cb9-4f6a-bc72-8cd74f2ff3f9\", \"x\": [1335.0, 1335.0, 1345.0, 1345.0], \"xaxis\": \"x\", \"y\": [0.0, 0.4444444444444444, 0.4444444444444444, 0.0], \"yaxis\": \"y\"}, {\"hoverinfo\": \"text\", \"marker\": {\"color\": \"rgb(255,220,0)\"}, \"mode\": \"lines\", \"text\": [\"cluster: 71, component: QE_2017_001814_320.29477_539.0\", \"cluster: 71, component: QE_2017_001814_320.29477_539.0\", null, null], \"type\": \"scatter\", \"uid\": \"6f483613-452c-4f74-bd97-d3e2fd275be2\", \"x\": [1325.0, 1325.0, 1340.0, 1340.0], \"xaxis\": \"x\", \"y\": [0.0, 0.5833333333333334, 0.5833333333333334, 0.4444444444444444], \"yaxis\": \"y\"}, {\"hoverinfo\": \"text\", \"marker\": {\"color\": \"rgb(0,116,217)\"}, \"mode\": \"lines\", \"text\": [\"cluster: 72, component: QE_2017_001814_320.29468_638.0\", \"cluster: 72, component: QE_2017_001814_320.29468_638.0\", null, null], \"type\": \"scatter\", \"uid\": \"f7d32d52-9fb4-4d78-a94f-c1f1bf290237\", \"x\": [1315.0, 1315.0, 1332.5, 1332.5], \"xaxis\": \"x\", \"y\": [0.0, 0.7857142857142857, 0.7857142857142857, 0.5833333333333334], \"yaxis\": \"y\"}, {\"hoverinfo\": \"text\", \"marker\": {\"color\": \"rgb(0,116,217)\"}, \"mode\": \"lines\", \"text\": [\"cluster: 73, component: QE_2017_001816_320.29483_548.0\", \"cluster: 73, component: QE_2017_001816_320.29483_548.0\", null, null], \"type\": \"scatter\", \"uid\": \"ee39676e-dc7b-412a-8468-ef7ef6efad5d\", \"x\": [1305.0, 1305.0, 1323.75, 1323.75], \"xaxis\": \"x\", \"y\": [0.0, 0.9393939393939394, 0.9393939393939394, 0.7857142857142857], \"yaxis\": \"y\"}, {\"hoverinfo\": \"text\", \"marker\": {\"color\": \"rgb(0,116,217)\"}, \"mode\": \"lines\", \"text\": [null, null, null, null], \"type\": \"scatter\", \"uid\": \"3b1c6306-265d-46e1-abd6-c5f46c3f525f\", \"x\": [1290.0, 1290.0, 1314.375, 1314.375], \"xaxis\": \"x\", \"y\": [0.7142857142857143, 0.9523809523809523, 0.9523809523809523, 0.9393939393939394], \"yaxis\": \"y\"}, {\"hoverinfo\": \"text\", \"marker\": {\"color\": \"rgb(0,116,217)\"}, \"mode\": \"lines\", \"text\": [\"cluster: 74, component: QE_2017_001814_241.15384_47.0\", \"cluster: 74, component: QE_2017_001814_241.15384_47.0\", \"cluster: 75, component: QE_2017_001814_241.15446_57.0\", \"cluster: 75, component: QE_2017_001814_241.15446_57.0\"], \"type\": \"scatter\", \"uid\": \"68fed69e-07b4-4920-bfea-e8e61b8dec20\", \"x\": [1355.0, 1355.0, 1365.0, 1365.0], \"xaxis\": \"x\", \"y\": [0.0, 0.6363636363636364, 0.6363636363636364, 0.0], \"yaxis\": \"y\"}, {\"hoverinfo\": \"text\", \"marker\": {\"color\": \"rgb(0,116,217)\"}, \"mode\": \"lines\", \"text\": [\"cluster: 76, component: QE_2017_001815_332.25827_508.0\", \"cluster: 76, component: QE_2017_001815_332.25827_508.0\", \"cluster: 77, component: QE_2017_001816_332.25842_487.0\", \"cluster: 77, component: QE_2017_001816_332.25842_487.0\"], \"type\": \"scatter\", \"uid\": \"514a2588-bad0-4624-bd60-692161c0262f\", \"x\": [1385.0, 1385.0, 1395.0, 1395.0], \"xaxis\": \"x\", \"y\": [0.0, 0.6829268292682927, 0.6829268292682927, 0.0], \"yaxis\": \"y\"}, {\"hoverinfo\": \"text\", \"marker\": {\"color\": \"rgb(0,116,217)\"}, \"mode\": \"lines\", \"text\": [\"cluster: 78, component: QE_2017_001814_332.25827_467.0\", \"cluster: 78, component: QE_2017_001814_332.25827_467.0\", null, null], \"type\": \"scatter\", \"uid\": \"e052946e-b5c8-47b7-8112-5604fc42eb93\", \"x\": [1375.0, 1375.0, 1390.0, 1390.0], \"xaxis\": \"x\", \"y\": [0.0, 0.8, 0.8, 0.6829268292682927], \"yaxis\": \"y\"}, {\"hoverinfo\": \"text\", \"marker\": {\"color\": \"rgb(0,116,217)\"}, \"mode\": \"lines\", \"text\": [null, null, null, null], \"type\": \"scatter\", \"uid\": \"557b0aae-1126-4595-b824-e4fd9d390404\", \"x\": [1360.0, 1360.0, 1382.5, 1382.5], \"xaxis\": \"x\", \"y\": [0.6363636363636364, 0.9666666666666667, 0.9666666666666667, 0.8], \"yaxis\": \"y\"}, {\"hoverinfo\": \"text\", \"marker\": {\"color\": \"rgb(0,116,217)\"}, \"mode\": \"lines\", \"text\": [null, null, null, null], \"type\": \"scatter\", \"uid\": \"cd7b67fa-0996-40bd-a66e-56bbd9704db3\", \"x\": [1302.1875, 1302.1875, 1371.25, 1371.25], \"xaxis\": \"x\", \"y\": [0.9523809523809523, 0.9772727272727273, 0.9772727272727273, 0.9666666666666667], \"yaxis\": \"y\"}, {\"hoverinfo\": \"text\", \"marker\": {\"color\": \"rgb(0,116,217)\"}, \"mode\": \"lines\", \"text\": [\"cluster: 79, component: QE_2017_001814_319.13638_117.0\", \"cluster: 79, component: QE_2017_001814_319.13638_117.0\", \"cluster: 80, component: QE_2017_001816_319.13614_143.0\", \"cluster: 80, component: QE_2017_001816_319.13614_143.0\"], \"type\": \"scatter\", \"uid\": \"861f2e84-528a-41a4-8983-8cbb7063eaf9\", \"x\": [1405.0, 1405.0, 1415.0, 1415.0], \"xaxis\": \"x\", \"y\": [0.0, 0.75, 0.75, 0.0], \"yaxis\": \"y\"}, {\"hoverinfo\": \"text\", \"marker\": {\"color\": \"rgb(40,35,35)\"}, \"mode\": \"lines\", \"text\": [\"cluster: 81, component: QE_2017_001815_219.10139_360.0\", \"cluster: 81, component: QE_2017_001815_219.10139_360.0\", \"cluster: 81, component: QE_2017_001816_219.10153_382.0\", \"cluster: 81, component: QE_2017_001816_219.10153_382.0\"], \"type\": \"scatter\", \"uid\": \"d4e059f8-069f-4406-bfdb-97a2932c5fef\", \"x\": [1445.0, 1445.0, 1455.0, 1455.0], \"xaxis\": \"x\", \"y\": [0.0, 0.38181818181818183, 0.38181818181818183, 0.0], \"yaxis\": \"y\"}, {\"hoverinfo\": \"text\", \"marker\": {\"color\": \"rgb(40,35,35)\"}, \"mode\": \"lines\", \"text\": [\"cluster: 81, component: QE_2017_001815_219.10159_438.0\", \"cluster: 81, component: QE_2017_001815_219.10159_438.0\", null, null], \"type\": \"scatter\", \"uid\": \"da0e6de2-1a20-466a-a13d-8b9c1b54c5dc\", \"x\": [1435.0, 1435.0, 1450.0, 1450.0], \"xaxis\": \"x\", \"y\": [0.0, 0.4647887323943662, 0.4647887323943662, 0.38181818181818183], \"yaxis\": \"y\"}, {\"hoverinfo\": \"text\", \"marker\": {\"color\": \"rgb(0,116,217)\"}, \"mode\": \"lines\", \"text\": [\"cluster: 82, component: QE_2017_001814_251.09117_393.0\", \"cluster: 82, component: QE_2017_001814_251.09117_393.0\", null, null], \"type\": \"scatter\", \"uid\": \"5d1e9621-79c3-4e3b-a89b-ea716d64c329\", \"x\": [1425.0, 1425.0, 1442.5, 1442.5], \"xaxis\": \"x\", \"y\": [0.0, 0.6527777777777778, 0.6527777777777778, 0.4647887323943662], \"yaxis\": \"y\"}, {\"hoverinfo\": \"text\", \"marker\": {\"color\": \"rgb(61,153,112)\"}, \"mode\": \"lines\", \"text\": [\"cluster: 83, component: QE_2017_001814_291.1442_241.0\", \"cluster: 83, component: QE_2017_001814_291.1442_241.0\", \"cluster: 83, component: QE_2017_001816_291.14493_243.0\", \"cluster: 83, component: QE_2017_001816_291.14493_243.0\"], \"type\": \"scatter\", \"uid\": \"84bdb54a-8754-488b-9663-75530413907b\", \"x\": [1465.0, 1465.0, 1475.0, 1475.0], \"xaxis\": \"x\", \"y\": [0.0, 0.37037037037037035, 0.37037037037037035, 0.0], \"yaxis\": \"y\"}, {\"hoverinfo\": \"text\", \"marker\": {\"color\": \"rgb(61,153,112)\"}, \"mode\": \"lines\", \"text\": [\"cluster: 83, component: QE_2017_001815_273.13425_199.0\", \"cluster: 83, component: QE_2017_001815_273.13425_199.0\", \"cluster: 83, component: QE_2017_001815_273.13434_243.0\", \"cluster: 83, component: QE_2017_001815_273.13434_243.0\"], \"type\": \"scatter\", \"uid\": \"22ed8d14-4af1-4880-9f72-3624b590de9b\", \"x\": [1495.0, 1495.0, 1505.0, 1505.0], \"xaxis\": \"x\", \"y\": [0.0, 0.3333333333333333, 0.3333333333333333, 0.0], \"yaxis\": \"y\"}, {\"hoverinfo\": \"text\", \"marker\": {\"color\": \"rgb(61,153,112)\"}, \"mode\": \"lines\", \"text\": [\"cluster: 83, component: QE_2017_001816_291.14499_200.0\", \"cluster: 83, component: QE_2017_001816_291.14499_200.0\", null, null], \"type\": \"scatter\", \"uid\": \"0060bb16-2eae-4c52-9422-ed6688cf85ac\", \"x\": [1485.0, 1485.0, 1500.0, 1500.0], \"xaxis\": \"x\", \"y\": [0.0, 0.41935483870967744, 0.41935483870967744, 0.3333333333333333], \"yaxis\": \"y\"}, {\"hoverinfo\": \"text\", \"marker\": {\"color\": \"rgb(61,153,112)\"}, \"mode\": \"lines\", \"text\": [null, null, null, null], \"type\": \"scatter\", \"uid\": \"62267e1b-604c-4534-8ca6-f7a56d2ce831\", \"x\": [1470.0, 1470.0, 1492.5, 1492.5], \"xaxis\": \"x\", \"y\": [0.37037037037037035, 0.5161290322580645, 0.5161290322580645, 0.41935483870967744], \"yaxis\": \"y\"}, {\"hoverinfo\": \"text\", \"marker\": {\"color\": \"rgb(255,65,54)\"}, \"mode\": \"lines\", \"text\": [\"cluster: 84, component: QE_2017_001815_235.14398_226.0\", \"cluster: 84, component: QE_2017_001815_235.14398_226.0\", \"cluster: 84, component: QE_2017_001816_235.14397_183.0\", \"cluster: 84, component: QE_2017_001816_235.14397_183.0\"], \"type\": \"scatter\", \"uid\": \"9bf5a41f-5619-45ae-9f35-bf7be540fcd4\", \"x\": [1525.0, 1525.0, 1535.0, 1535.0], \"xaxis\": \"x\", \"y\": [0.0, 0.5263157894736842, 0.5263157894736842, 0.0], \"yaxis\": \"y\"}, {\"hoverinfo\": \"text\", \"marker\": {\"color\": \"rgb(0,116,217)\"}, \"mode\": \"lines\", \"text\": [\"cluster: 85, component: QE_2017_001815_251.13873_202.0\", \"cluster: 85, component: QE_2017_001815_251.13873_202.0\", null, null], \"type\": \"scatter\", \"uid\": \"1fe4aaf1-22b4-417a-bf9d-3dacad8a8bb4\", \"x\": [1515.0, 1515.0, 1530.0, 1530.0], \"xaxis\": \"x\", \"y\": [0.0, 0.8636363636363636, 0.8636363636363636, 0.5263157894736842], \"yaxis\": \"y\"}, {\"hoverinfo\": \"text\", \"marker\": {\"color\": \"rgb(0,116,217)\"}, \"mode\": \"lines\", \"text\": [null, null, null, null], \"type\": \"scatter\", \"uid\": \"c8da6524-c139-48b9-b512-b59a064799d3\", \"x\": [1481.25, 1481.25, 1522.5, 1522.5], \"xaxis\": \"x\", \"y\": [0.5161290322580645, 0.9166666666666666, 0.9166666666666666, 0.8636363636363636], \"yaxis\": \"y\"}, {\"hoverinfo\": \"text\", \"marker\": {\"color\": \"rgb(0,116,217)\"}, \"mode\": \"lines\", \"text\": [null, null, null, null], \"type\": \"scatter\", \"uid\": \"e878869b-b80a-48f6-b513-1677f878bddc\", \"x\": [1433.75, 1433.75, 1501.875, 1501.875], \"xaxis\": \"x\", \"y\": [0.6527777777777778, 0.9891304347826086, 0.9891304347826086, 0.9166666666666666], \"yaxis\": \"y\"}, {\"hoverinfo\": \"text\", \"marker\": {\"color\": \"rgb(35,205,205)\"}, \"mode\": \"lines\", \"text\": [\"cluster: 86, component: QE_2017_001814_250.10149_516.0\", \"cluster: 86, component: QE_2017_001814_250.10149_516.0\", \"cluster: 86, component: QE_2017_001815_222.07033_315.0\", \"cluster: 86, component: QE_2017_001815_222.07033_315.0\"], \"type\": \"scatter\", \"uid\": \"65343cb5-ff89-4762-8af1-00b49e840192\", \"x\": [1565.0, 1565.0, 1575.0, 1575.0], \"xaxis\": \"x\", \"y\": [0.0, 0.5081967213114754, 0.5081967213114754, 0.0], \"yaxis\": \"y\"}, {\"hoverinfo\": \"text\", \"marker\": {\"color\": \"rgb(0,116,217)\"}, \"mode\": \"lines\", \"text\": [\"cluster: 87, component: QE_2017_001816_268.59351_445.0\", \"cluster: 87, component: QE_2017_001816_268.59351_445.0\", null, null], \"type\": \"scatter\", \"uid\": \"953fcbfa-096d-40dc-842d-b8febaa2ea7d\", \"x\": [1555.0, 1555.0, 1570.0, 1570.0], \"xaxis\": \"x\", \"y\": [0.0, 0.6923076923076923, 0.6923076923076923, 0.5081967213114754], \"yaxis\": \"y\"}, {\"hoverinfo\": \"text\", \"marker\": {\"color\": \"rgb(133,20,75)\"}, \"mode\": \"lines\", \"text\": [\"cluster: 88, component: QE_2017_001814_247.05975_245.0\", \"cluster: 88, component: QE_2017_001814_247.05975_245.0\", \"cluster: 88, component: QE_2017_001815_247.0598_242.0\", \"cluster: 88, component: QE_2017_001815_247.0598_242.0\"], \"type\": \"scatter\", \"uid\": \"25d86642-72e8-4c54-ae2d-f4a0f35ef4df\", \"x\": [1585.0, 1585.0, 1595.0, 1595.0], \"xaxis\": \"x\", \"y\": [0.0, 0.35294117647058826, 0.35294117647058826, 0.0], \"yaxis\": \"y\"}, {\"hoverinfo\": \"text\", \"marker\": {\"color\": \"rgb(0,116,217)\"}, \"mode\": \"lines\", \"text\": [\"cluster: 89, component: QE_2017_001815_212.03883_181.0\", \"cluster: 89, component: QE_2017_001815_212.03883_181.0\", \"cluster: 90, component: QE_2017_001815_214.56488_409.0\", \"cluster: 90, component: QE_2017_001815_214.56488_409.0\"], \"type\": \"scatter\", \"uid\": \"8d1c293b-e6fc-451e-844d-9b0f9a846b63\", \"x\": [1615.0, 1615.0, 1625.0, 1625.0], \"xaxis\": \"x\", \"y\": [0.0, 0.7777777777777778, 0.7777777777777778, 0.0], \"yaxis\": \"y\"}, {\"hoverinfo\": \"text\", \"marker\": {\"color\": \"rgb(0,116,217)\"}, \"mode\": \"lines\", \"text\": [\"cluster: 91, component: QE_2017_001816_219.04672_291.0\", \"cluster: 91, component: QE_2017_001816_219.04672_291.0\", null, null], \"type\": \"scatter\", \"uid\": \"0566fcd5-2117-494a-b70e-db0e906219d2\", \"x\": [1605.0, 1605.0, 1620.0, 1620.0], \"xaxis\": \"x\", \"y\": [0.0, 0.8125, 0.8125, 0.7777777777777778], \"yaxis\": \"y\"}, {\"hoverinfo\": \"text\", \"marker\": {\"color\": \"rgb(0,116,217)\"}, \"mode\": \"lines\", \"text\": [null, null, null, null], \"type\": \"scatter\", \"uid\": \"eac2b73c-48d8-4cf9-a4fd-270f19e601b3\", \"x\": [1590.0, 1590.0, 1612.5, 1612.5], \"xaxis\": \"x\", \"y\": [0.35294117647058826, 0.8571428571428571, 0.8571428571428571, 0.8125], \"yaxis\": \"y\"}, {\"hoverinfo\": \"text\", \"marker\": {\"color\": \"rgb(0,116,217)\"}, \"mode\": \"lines\", \"text\": [null, null, null, null], \"type\": \"scatter\", \"uid\": \"efd21fb0-79b2-40c2-8c4f-ed710f2036cf\", \"x\": [1562.5, 1562.5, 1601.25, 1601.25], \"xaxis\": \"x\", \"y\": [0.6923076923076923, 0.9178082191780822, 0.9178082191780822, 0.8571428571428571], \"yaxis\": \"y\"}, {\"hoverinfo\": \"text\", \"marker\": {\"color\": \"rgb(0,116,217)\"}, \"mode\": \"lines\", \"text\": [\"cluster: 92, component: QE_2017_001815_214.51021_60.0\", \"cluster: 92, component: QE_2017_001815_214.51021_60.0\", null, null], \"type\": \"scatter\", \"uid\": \"a261f120-4f0f-4b29-a842-7e3e12513413\", \"x\": [1545.0, 1545.0, 1581.875, 1581.875], \"xaxis\": \"x\", \"y\": [0.0, 0.9534883720930233, 0.9534883720930233, 0.9178082191780822], \"yaxis\": \"y\"}, {\"hoverinfo\": \"text\", \"marker\": {\"color\": \"rgb(255,220,0)\"}, \"mode\": \"lines\", \"text\": [\"cluster: 93, component: QE_2017_001815_246.14465_137.0\", \"cluster: 93, component: QE_2017_001815_246.14465_137.0\", \"cluster: 93, component: QE_2017_001815_247.12865_158.0\", \"cluster: 93, component: QE_2017_001815_247.12865_158.0\"], \"type\": \"scatter\", \"uid\": \"32716247-3a56-4173-aeb3-f149c8530d28\", \"x\": [1655.0, 1655.0, 1665.0, 1665.0], \"xaxis\": \"x\", \"y\": [0.0, 0.5, 0.5, 0.0], \"yaxis\": \"y\"}, {\"hoverinfo\": \"text\", \"marker\": {\"color\": \"rgb(40,35,35)\"}, \"mode\": \"lines\", \"text\": [\"cluster: 94, component: QE_2017_001814_260.16037_143.0\", \"cluster: 94, component: QE_2017_001814_260.16037_143.0\", \"cluster: 94, component: QE_2017_001816_260.16022_145.0\", \"cluster: 94, component: QE_2017_001816_260.16022_145.0\"], \"type\": \"scatter\", \"uid\": \"308a8807-0fa5-444d-af45-ab89763ce488\", \"x\": [1675.0, 1675.0, 1685.0, 1685.0], \"xaxis\": \"x\", \"y\": [0.0, 0.2857142857142857, 0.2857142857142857, 0.0], \"yaxis\": \"y\"}, {\"hoverinfo\": \"text\", \"marker\": {\"color\": \"rgb(61,153,112)\"}, \"mode\": \"lines\", \"text\": [\"cluster: 95, component: QE_2017_001814_233.14948_126.0\", \"cluster: 95, component: QE_2017_001814_233.14948_126.0\", \"cluster: 95, component: QE_2017_001816_233.14955_129.0\", \"cluster: 95, component: QE_2017_001816_233.14955_129.0\"], \"type\": \"scatter\", \"uid\": \"de7359e7-1b56-4045-86ff-1df4c911e1ae\", \"x\": [1705.0, 1705.0, 1715.0, 1715.0], \"xaxis\": \"x\", \"y\": [0.0, 0.2631578947368421, 0.2631578947368421, 0.0], \"yaxis\": \"y\"}, {\"hoverinfo\": \"text\", \"marker\": {\"color\": \"rgb(61,153,112)\"}, \"mode\": \"lines\", \"text\": [\"cluster: 95, component: QE_2017_001814_233.14957_152.0\", \"cluster: 95, component: QE_2017_001814_233.14957_152.0\", null, null], \"type\": \"scatter\", \"uid\": \"7d5fc9c8-90ac-42f3-9c73-9ae770f37a33\", \"x\": [1695.0, 1695.0, 1710.0, 1710.0], \"xaxis\": \"x\", \"y\": [0.0, 0.5416666666666666, 0.5416666666666666, 0.2631578947368421], \"yaxis\": \"y\"}, {\"hoverinfo\": \"text\", \"marker\": {\"color\": \"rgb(0,116,217)\"}, \"mode\": \"lines\", \"text\": [null, null, null, null], \"type\": \"scatter\", \"uid\": \"bcb037ae-9902-4e08-95cd-079b70811812\", \"x\": [1680.0, 1680.0, 1702.5, 1702.5], \"xaxis\": \"x\", \"y\": [0.2857142857142857, 0.8648648648648649, 0.8648648648648649, 0.5416666666666666], \"yaxis\": \"y\"}, {\"hoverinfo\": \"text\", \"marker\": {\"color\": \"rgb(0,116,217)\"}, \"mode\": \"lines\", \"text\": [null, null, null, null], \"type\": \"scatter\", \"uid\": \"ac4a802e-c169-4268-9f9a-5bcf55741eac\", \"x\": [1660.0, 1660.0, 1691.25, 1691.25], \"xaxis\": \"x\", \"y\": [0.5, 0.9574468085106383, 0.9574468085106383, 0.8648648648648649], \"yaxis\": \"y\"}, {\"hoverinfo\": \"text\", \"marker\": {\"color\": \"rgb(0,116,217)\"}, \"mode\": \"lines\", \"text\": [\"cluster: 96, component: QE_2017_001816_132.04436_283.0\", \"cluster: 96, component: QE_2017_001816_132.04436_283.0\", null, null], \"type\": \"scatter\", \"uid\": \"e8dd301c-66b0-4444-8a11-db49a6657e2a\", \"x\": [1645.0, 1645.0, 1675.625, 1675.625], \"xaxis\": \"x\", \"y\": [0.0, 0.98, 0.98, 0.9574468085106383], \"yaxis\": \"y\"}, {\"hoverinfo\": \"text\", \"marker\": {\"color\": \"rgb(0,116,217)\"}, \"mode\": \"lines\", \"text\": [\"cluster: 97, component: QE_2017_001815_260.16016_64.0\", \"cluster: 97, component: QE_2017_001815_260.16016_64.0\", null, null], \"type\": \"scatter\", \"uid\": \"a153d0ea-4dab-4df1-8b51-7537074343b9\", \"x\": [1635.0, 1635.0, 1660.3125, 1660.3125], \"xaxis\": \"x\", \"y\": [0.0, 0.9846153846153847, 0.9846153846153847, 0.98], \"yaxis\": \"y\"}, {\"hoverinfo\": \"text\", \"marker\": {\"color\": \"rgb(0,116,217)\"}, \"mode\": \"lines\", \"text\": [\"cluster: 98, component: QE_2017_001815_221.12837_99.0\", \"cluster: 98, component: QE_2017_001815_221.12837_99.0\", \"cluster: 99, component: QE_2017_001816_237.12325_171.0\", \"cluster: 99, component: QE_2017_001816_237.12325_171.0\"], \"type\": \"scatter\", \"uid\": \"8e631433-328e-49b6-a56a-3397e5b394c3\", \"x\": [1725.0, 1725.0, 1735.0, 1735.0], \"xaxis\": \"x\", \"y\": [0.0, 0.7142857142857143, 0.7142857142857143, 0.0], \"yaxis\": \"y\"}, {\"hoverinfo\": \"text\", \"marker\": {\"color\": \"rgb(0,116,217)\"}, \"mode\": \"lines\", \"text\": [\"cluster: 100, component: QE_2017_001814_237.12305_220.0\", \"cluster: 100, component: QE_2017_001814_237.12305_220.0\", \"cluster: 101, component: QE_2017_001816_237.12323_53.0\", \"cluster: 101, component: QE_2017_001816_237.12323_53.0\"], \"type\": \"scatter\", \"uid\": \"b1babd4c-8efd-4de2-978c-71661330039a\", \"x\": [1745.0, 1745.0, 1755.0, 1755.0], \"xaxis\": \"x\", \"y\": [0.0, 0.9444444444444444, 0.9444444444444444, 0.0], \"yaxis\": \"y\"}, {\"hoverinfo\": \"text\", \"marker\": {\"color\": \"rgb(0,116,217)\"}, \"mode\": \"lines\", \"text\": [null, null, null, null], \"type\": \"scatter\", \"uid\": \"4023f435-60fd-4ab7-897e-06e37f0f9034\", \"x\": [1730.0, 1730.0, 1750.0, 1750.0], \"xaxis\": \"x\", \"y\": [0.7142857142857143, 0.9761904761904762, 0.9761904761904762, 0.9444444444444444], \"yaxis\": \"y\"}, {\"hoverinfo\": \"text\", \"marker\": {\"color\": \"rgb(255,65,54)\"}, \"mode\": \"lines\", \"text\": [\"cluster: 102, component: QE_2017_001814_229.15399_46.0\", \"cluster: 102, component: QE_2017_001814_229.15399_46.0\", \"cluster: 102, component: QE_2017_001816_229.15451_66.0\", \"cluster: 102, component: QE_2017_001816_229.15451_66.0\"], \"type\": \"scatter\", \"uid\": \"94722fca-8dd7-4ddc-83e1-7b795d633956\", \"x\": [1775.0, 1775.0, 1785.0, 1785.0], \"xaxis\": \"x\", \"y\": [0.0, 0.38461538461538464, 0.38461538461538464, 0.0], \"yaxis\": \"y\"}, {\"hoverinfo\": \"text\", \"marker\": {\"color\": \"rgb(0,116,217)\"}, \"mode\": \"lines\", \"text\": [\"cluster: 103, component: QE_2017_001816_229.15469_52.0\", \"cluster: 103, component: QE_2017_001816_229.15469_52.0\", null, null], \"type\": \"scatter\", \"uid\": \"4e2176d5-3037-47e3-8275-680d388c1827\", \"x\": [1765.0, 1765.0, 1780.0, 1780.0], \"xaxis\": \"x\", \"y\": [0.0, 0.875, 0.875, 0.38461538461538464], \"yaxis\": \"y\"}, {\"hoverinfo\": \"text\", \"marker\": {\"color\": \"rgb(35,205,205)\"}, \"mode\": \"lines\", \"text\": [\"cluster: 104, component: QE_2017_001814_182.08116_51.0\", \"cluster: 104, component: QE_2017_001814_182.08116_51.0\", \"cluster: 104, component: QE_2017_001816_182.08116_55.0\", \"cluster: 104, component: QE_2017_001816_182.08116_55.0\"], \"type\": \"scatter\", \"uid\": \"3a8b9eb8-a93a-455b-b6cf-4a52fc138cf5\", \"x\": [1795.0, 1795.0, 1805.0, 1805.0], \"xaxis\": \"x\", \"y\": [0.0, 0.4375, 0.4375, 0.0], \"yaxis\": \"y\"}, {\"hoverinfo\": \"text\", \"marker\": {\"color\": \"rgb(133,20,75)\"}, \"mode\": \"lines\", \"text\": [\"cluster: 105, component: QE_2017_001815_194.04474_330.0\", \"cluster: 105, component: QE_2017_001815_194.04474_330.0\", \"cluster: 105, component: QE_2017_001816_212.05518_300.0\", \"cluster: 105, component: QE_2017_001816_212.05518_300.0\"], \"type\": \"scatter\", \"uid\": \"4cf99bb2-57f2-4b04-8970-60805c717463\", \"x\": [1815.0, 1815.0, 1825.0, 1825.0], \"xaxis\": \"x\", \"y\": [0.0, 0.5370370370370371, 0.5370370370370371, 0.0], \"yaxis\": \"y\"}, {\"hoverinfo\": \"text\", \"marker\": {\"color\": \"rgb(0,116,217)\"}, \"mode\": \"lines\", \"text\": [null, null, null, null], \"type\": \"scatter\", \"uid\": \"1ab8fe4c-ef4d-407d-b269-344cd397da03\", \"x\": [1800.0, 1800.0, 1820.0, 1820.0], \"xaxis\": \"x\", \"y\": [0.4375, 0.921875, 0.921875, 0.5370370370370371], \"yaxis\": \"y\"}, {\"hoverinfo\": \"text\", \"marker\": {\"color\": \"rgb(255,220,0)\"}, \"mode\": \"lines\", \"text\": [\"cluster: 106, component: QE_2017_001814_177.05418_236.0\", \"cluster: 106, component: QE_2017_001814_177.05418_236.0\", \"cluster: 106, component: QE_2017_001815_177.05444_307.0\", \"cluster: 106, component: QE_2017_001815_177.05444_307.0\"], \"type\": \"scatter\", \"uid\": \"54e0572f-82cf-43de-be05-e9129b0e26d6\", \"x\": [1845.0, 1845.0, 1855.0, 1855.0], \"xaxis\": \"x\", \"y\": [0.0, 0.35, 0.35, 0.0], \"yaxis\": \"y\"}, {\"hoverinfo\": \"text\", \"marker\": {\"color\": \"rgb(255,220,0)\"}, \"mode\": \"lines\", \"text\": [\"cluster: 106, component: QE_2017_001816_177.05449_217.0\", \"cluster: 106, component: QE_2017_001816_177.05449_217.0\", null, null], \"type\": \"scatter\", \"uid\": \"aec7e5a0-3f6e-4acd-bb09-8504b824b7f3\", \"x\": [1835.0, 1835.0, 1850.0, 1850.0], \"xaxis\": \"x\", \"y\": [0.0, 0.391304347826087, 0.391304347826087, 0.35], \"yaxis\": \"y\"}, {\"hoverinfo\": \"text\", \"marker\": {\"color\": \"rgb(40,35,35)\"}, \"mode\": \"lines\", \"text\": [\"cluster: 107, component: QE_2017_001816_199.98769_294.0\", \"cluster: 107, component: QE_2017_001816_199.98769_294.0\", \"cluster: 107, component: QE_2017_001816_199.98776_304.0\", \"cluster: 107, component: QE_2017_001816_199.98776_304.0\"], \"type\": \"scatter\", \"uid\": \"57c0e125-97b5-4ef2-9d4c-fe9f0336c1c7\", \"x\": [1865.0, 1865.0, 1875.0, 1875.0], \"xaxis\": \"x\", \"y\": [0.0, 0.34146341463414637, 0.34146341463414637, 0.0], \"yaxis\": \"y\"}, {\"hoverinfo\": \"text\", \"marker\": {\"color\": \"rgb(40,35,35)\"}, \"mode\": \"lines\", \"text\": [\"cluster: 107, component: QE_2017_001814_199.98778_290.0\", \"cluster: 107, component: QE_2017_001814_199.98778_290.0\", \"cluster: 107, component: QE_2017_001815_199.98779_30.0\", \"cluster: 107, component: QE_2017_001815_199.98779_30.0\"], \"type\": \"scatter\", \"uid\": \"292b6ebd-64c2-4f3a-9973-0fe08dae43c5\", \"x\": [1885.0, 1885.0, 1895.0, 1895.0], \"xaxis\": \"x\", \"y\": [0.0, 0.3, 0.3, 0.0], \"yaxis\": \"y\"}, {\"hoverinfo\": \"text\", \"marker\": {\"color\": \"rgb(40,35,35)\"}, \"mode\": \"lines\", \"text\": [\"cluster: 107, component: QE_2017_001815_199.98772_326.0\", \"cluster: 107, component: QE_2017_001815_199.98772_326.0\", \"cluster: 107, component: QE_2017_001816_199.98781_313.0\", \"cluster: 107, component: QE_2017_001816_199.98781_313.0\"], \"type\": \"scatter\", \"uid\": \"bc346dcf-b29d-41df-8d0d-3bd220981826\", \"x\": [1905.0, 1905.0, 1915.0, 1915.0], \"xaxis\": \"x\", \"y\": [0.0, 0.18181818181818182, 0.18181818181818182, 0.0], \"yaxis\": \"y\"}, {\"hoverinfo\": \"text\", \"marker\": {\"color\": \"rgb(40,35,35)\"}, \"mode\": \"lines\", \"text\": [\"cluster: 107, component: QE_2017_001816_199.98776_254.0\", \"cluster: 107, component: QE_2017_001816_199.98776_254.0\", \"cluster: 107, component: QE_2017_001816_199.98779_335.0\", \"cluster: 107, component: QE_2017_001816_199.98779_335.0\"], \"type\": \"scatter\", \"uid\": \"39a4b521-120f-4005-afff-09bb94b0ae68\", \"x\": [1935.0, 1935.0, 1945.0, 1945.0], \"xaxis\": \"x\", \"y\": [0.0, 0.25, 0.25, 0.0], \"yaxis\": \"y\"}, {\"hoverinfo\": \"text\", \"marker\": {\"color\": \"rgb(40,35,35)\"}, \"mode\": \"lines\", \"text\": [\"cluster: 107, component: QE_2017_001816_199.98772_359.0\", \"cluster: 107, component: QE_2017_001816_199.98772_359.0\", null, null], \"type\": \"scatter\", \"uid\": \"c765e2ae-51e4-4d64-87d2-f2a19dc3b9af\", \"x\": [1925.0, 1925.0, 1940.0, 1940.0], \"xaxis\": \"x\", \"y\": [0.0, 0.3125, 0.3125, 0.25], \"yaxis\": \"y\"}, {\"hoverinfo\": \"text\", \"marker\": {\"color\": \"rgb(40,35,35)\"}, \"mode\": \"lines\", \"text\": [null, null, null, null], \"type\": \"scatter\", \"uid\": \"448d5606-9d3c-4eee-901f-982c104383de\", \"x\": [1910.0, 1910.0, 1932.5, 1932.5], \"xaxis\": \"x\", \"y\": [0.18181818181818182, 0.36363636363636365, 0.36363636363636365, 0.3125], \"yaxis\": \"y\"}, {\"hoverinfo\": \"text\", \"marker\": {\"color\": \"rgb(40,35,35)\"}, \"mode\": \"lines\", \"text\": [null, null, null, null], \"type\": \"scatter\", \"uid\": \"3531d61a-4866-47ee-a15f-a4380a4c693a\", \"x\": [1890.0, 1890.0, 1921.25, 1921.25], \"xaxis\": \"x\", \"y\": [0.3, 0.42424242424242425, 0.42424242424242425, 0.36363636363636365], \"yaxis\": \"y\"}, {\"hoverinfo\": \"text\", \"marker\": {\"color\": \"rgb(40,35,35)\"}, \"mode\": \"lines\", \"text\": [null, null, null, null], \"type\": \"scatter\", \"uid\": \"132ccce0-aae5-4893-b145-0f36d8e4dd90\", \"x\": [1870.0, 1870.0, 1905.625, 1905.625], \"xaxis\": \"x\", \"y\": [0.34146341463414637, 0.47368421052631576, 0.47368421052631576, 0.42424242424242425], \"yaxis\": \"y\"}, {\"hoverinfo\": \"text\", \"marker\": {\"color\": \"rgb(0,116,217)\"}, \"mode\": \"lines\", \"text\": [null, null, null, null], \"type\": \"scatter\", \"uid\": \"cd01290b-677e-4371-b571-4fbdf3e5e0fa\", \"x\": [1842.5, 1842.5, 1887.8125, 1887.8125], \"xaxis\": \"x\", \"y\": [0.391304347826087, 0.8214285714285714, 0.8214285714285714, 0.47368421052631576], \"yaxis\": \"y\"}, {\"hoverinfo\": \"text\", \"marker\": {\"color\": \"rgb(0,116,217)\"}, \"mode\": \"lines\", \"text\": [\"cluster: 108, component: QE_2017_001815_463.12268_358.0\", \"cluster: 108, component: QE_2017_001815_463.12268_358.0\", \"cluster: 109, component: QE_2017_001815_625.17633_345.0\", \"cluster: 109, component: QE_2017_001815_625.17633_345.0\"], \"type\": \"scatter\", \"uid\": \"e2a16b38-02ab-424c-96be-749b21aaa45e\", \"x\": [1975.0, 1975.0, 1985.0, 1985.0], \"xaxis\": \"x\", \"y\": [0.0, 0.6774193548387096, 0.6774193548387096, 0.0], \"yaxis\": \"y\"}, {\"hoverinfo\": \"text\", \"marker\": {\"color\": \"rgb(0,116,217)\"}, \"mode\": \"lines\", \"text\": [\"cluster: 110, component: QE_2017_001815_595.16559_315.0\", \"cluster: 110, component: QE_2017_001815_595.16559_315.0\", null, null], \"type\": \"scatter\", \"uid\": \"2248aa6a-8783-4708-93c5-ff5f2600f7fe\", \"x\": [1965.0, 1965.0, 1980.0, 1980.0], \"xaxis\": \"x\", \"y\": [0.0, 0.8947368421052632, 0.8947368421052632, 0.6774193548387096], \"yaxis\": \"y\"}, {\"hoverinfo\": \"text\", \"marker\": {\"color\": \"rgb(0,116,217)\"}, \"mode\": \"lines\", \"text\": [\"cluster: 111, component: QE_2017_001815_141.0508_33.0\", \"cluster: 111, component: QE_2017_001815_141.0508_33.0\", \"cluster: 112, component: QE_2017_001815_265.01532_33.0\", \"cluster: 112, component: QE_2017_001815_265.01532_33.0\"], \"type\": \"scatter\", \"uid\": \"7eea2d29-5f9f-4050-8637-ac001e3229ad\", \"x\": [1995.0, 1995.0, 2005.0, 2005.0], \"xaxis\": \"x\", \"y\": [0.0, 1.0, 1.0, 0.0], \"yaxis\": \"y\"}, {\"hoverinfo\": \"text\", \"marker\": {\"color\": \"rgb(0,116,217)\"}, \"mode\": \"lines\", \"text\": [null, null, null, null], \"type\": \"scatter\", \"uid\": \"3f93cd16-56d4-47cb-b85c-39e762741a0f\", \"x\": [1972.5, 1972.5, 2000.0, 2000.0], \"xaxis\": \"x\", \"y\": [0.8947368421052632, 1.0, 1.0, 1.0], \"yaxis\": \"y\"}, {\"hoverinfo\": \"text\", \"marker\": {\"color\": \"rgb(0,116,217)\"}, \"mode\": \"lines\", \"text\": [\"cluster: 113, component: QE_2017_001815_797.51746_866.0\", \"cluster: 113, component: QE_2017_001815_797.51746_866.0\", null, null], \"type\": \"scatter\", \"uid\": \"7c86fecd-8fa5-4f76-b1f2-38d86f390e73\", \"x\": [1955.0, 1955.0, 1986.25, 1986.25], \"xaxis\": \"x\", \"y\": [0.0, 1.0, 1.0, 1.0], \"yaxis\": \"y\"}, {\"hoverinfo\": \"text\", \"marker\": {\"color\": \"rgb(0,116,217)\"}, \"mode\": \"lines\", \"text\": [null, null, null, null], \"type\": \"scatter\", \"uid\": \"427e2a8c-8bb6-4706-a022-90387c8db5f1\", \"x\": [1865.15625, 1865.15625, 1970.625, 1970.625], \"xaxis\": \"x\", \"y\": [0.8214285714285714, 1.0, 1.0, 1.0], \"yaxis\": \"y\"}, {\"hoverinfo\": \"text\", \"marker\": {\"color\": \"rgb(0,116,217)\"}, \"mode\": \"lines\", \"text\": [null, null, null, null], \"type\": \"scatter\", \"uid\": \"834a3306-3168-4a17-a368-724d37ab9ff3\", \"x\": [1810.0, 1810.0, 1917.890625, 1917.890625], \"xaxis\": \"x\", \"y\": [0.921875, 1.0, 1.0, 1.0], \"yaxis\": \"y\"}, {\"hoverinfo\": \"text\", \"marker\": {\"color\": \"rgb(0,116,217)\"}, \"mode\": \"lines\", \"text\": [null, null, null, null], \"type\": \"scatter\", \"uid\": \"8776dda5-4311-4ac0-bd5e-5efde40efff7\", \"x\": [1772.5, 1772.5, 1863.9453125, 1863.9453125], \"xaxis\": \"x\", \"y\": [0.875, 1.0, 1.0, 1.0], \"yaxis\": \"y\"}, {\"hoverinfo\": \"text\", \"marker\": {\"color\": \"rgb(0,116,217)\"}, \"mode\": \"lines\", \"text\": [null, null, null, null], \"type\": \"scatter\", \"uid\": \"024a0e20-a930-4c0a-97a9-eec4f0de1325\", \"x\": [1740.0, 1740.0, 1818.22265625, 1818.22265625], \"xaxis\": \"x\", \"y\": [0.9761904761904762, 1.0, 1.0, 1.0], \"yaxis\": \"y\"}, {\"hoverinfo\": \"text\", \"marker\": {\"color\": \"rgb(0,116,217)\"}, \"mode\": \"lines\", \"text\": [null, null, null, null], \"type\": \"scatter\", \"uid\": \"b5c40c61-be29-4e98-8065-891b69fe0dec\", \"x\": [1647.65625, 1647.65625, 1779.111328125, 1779.111328125], \"xaxis\": \"x\", \"y\": [0.9846153846153847, 1.0, 1.0, 1.0], \"yaxis\": \"y\"}, {\"hoverinfo\": \"text\", \"marker\": {\"color\": \"rgb(0,116,217)\"}, \"mode\": \"lines\", \"text\": [null, null, null, null], \"type\": \"scatter\", \"uid\": \"37f265a9-46ef-44ee-a1d4-2ec95a22fb7e\", \"x\": [1563.4375, 1563.4375, 1713.3837890625, 1713.3837890625], \"xaxis\": \"x\", \"y\": [0.9534883720930233, 1.0, 1.0, 1.0], \"yaxis\": \"y\"}, {\"hoverinfo\": \"text\", \"marker\": {\"color\": \"rgb(0,116,217)\"}, \"mode\": \"lines\", \"text\": [null, null, null, null], \"type\": \"scatter\", \"uid\": \"141058a6-87fa-407b-bc23-2ceeec165dde\", \"x\": [1467.8125, 1467.8125, 1638.41064453125, 1638.41064453125], \"xaxis\": \"x\", \"y\": [0.9891304347826086, 1.0, 1.0, 1.0], \"yaxis\": \"y\"}, {\"hoverinfo\": \"text\", \"marker\": {\"color\": \"rgb(0,116,217)\"}, \"mode\": \"lines\", \"text\": [null, null, null, null], \"type\": \"scatter\", \"uid\": \"23a2327a-6664-42ce-895c-d601e6ea81a6\", \"x\": [1410.0, 1410.0, 1553.111572265625, 1553.111572265625], \"xaxis\": \"x\", \"y\": [0.75, 1.0, 1.0, 1.0], \"yaxis\": \"y\"}, {\"hoverinfo\": \"text\", \"marker\": {\"color\": \"rgb(0,116,217)\"}, \"mode\": \"lines\", \"text\": [null, null, null, null], \"type\": \"scatter\", \"uid\": \"db3b7d99-837a-43a1-bb3f-13305d94a806\", \"x\": [1336.71875, 1336.71875, 1481.5557861328125, 1481.5557861328125], \"xaxis\": \"x\", \"y\": [0.9772727272727273, 1.0, 1.0, 1.0], \"yaxis\": \"y\"}, {\"hoverinfo\": \"text\", \"marker\": {\"color\": \"rgb(0,116,217)\"}, \"mode\": \"lines\", \"text\": [null, null, null, null], \"type\": \"scatter\", \"uid\": \"9a40e0ff-7f55-45f5-9341-e2dbc8d17872\", \"x\": [1270.0, 1270.0, 1409.1372680664062, 1409.1372680664062], \"xaxis\": \"x\", \"y\": [0.8461538461538461, 1.0, 1.0, 1.0], \"yaxis\": \"y\"}, {\"hoverinfo\": \"text\", \"marker\": {\"color\": \"rgb(0,116,217)\"}, \"mode\": \"lines\", \"text\": [null, null, null, null], \"type\": \"scatter\", \"uid\": \"6a3879e3-6841-4e10-b198-bc02f469d634\", \"x\": [1020.869140625, 1020.869140625, 1339.5686340332031, 1339.5686340332031], \"xaxis\": \"x\", \"y\": [0.9882352941176471, 1.0, 1.0, 1.0], \"yaxis\": \"y\"}, {\"hoverinfo\": \"text\", \"marker\": {\"color\": \"rgb(0,116,217)\"}, \"mode\": \"lines\", \"text\": [null, null, null, null], \"type\": \"scatter\", \"uid\": \"ed9a9154-febe-41fb-800f-9f133c511e48\", \"x\": [734.912109375, 734.912109375, 1180.2188873291016, 1180.2188873291016], \"xaxis\": \"x\", \"y\": [0.9696969696969697, 1.0, 1.0, 1.0], \"yaxis\": \"y\"}, {\"hoverinfo\": \"text\", \"marker\": {\"color\": \"rgb(0,116,217)\"}, \"mode\": \"lines\", \"text\": [null, null, null, null], \"type\": \"scatter\", \"uid\": \"c110ce2c-57d4-428c-b4ae-f1e8cf525320\", \"x\": [619.6875, 619.6875, 957.5654983520508, 957.5654983520508], \"xaxis\": \"x\", \"y\": [0.9814814814814815, 1.0, 1.0, 1.0], \"yaxis\": \"y\"}, {\"hoverinfo\": \"text\", \"marker\": {\"color\": \"rgb(0,116,217)\"}, \"mode\": \"lines\", \"text\": [null, null, null, null], \"type\": \"scatter\", \"uid\": \"1cec25c1-5b32-49af-b55a-6b483b4ec455\", \"x\": [521.875, 521.875, 788.6264991760254, 788.6264991760254], \"xaxis\": \"x\", \"y\": [0.9857142857142858, 1.0, 1.0, 1.0], \"yaxis\": \"y\"}, {\"hoverinfo\": \"text\", \"marker\": {\"color\": \"rgb(0,116,217)\"}, \"mode\": \"lines\", \"text\": [null, null, null, null], \"type\": \"scatter\", \"uid\": \"884eb78f-b60c-4e49-95c6-2072e35537d1\", \"x\": [221.85302734375, 221.85302734375, 655.2507495880127, 655.2507495880127], \"xaxis\": \"x\", \"y\": [0.9625, 1.0, 1.0, 1.0], \"yaxis\": \"y\"}],\n",
       "                        {\"autosize\": false, \"height\": 700, \"hovermode\": \"closest\", \"margin\": {\"b\": 372}, \"showlegend\": false, \"title\": {\"text\": \"TreesRCool\"}, \"width\": 800, \"xaxis\": {\"mirror\": \"allticks\", \"rangemode\": \"tozero\", \"showgrid\": false, \"showline\": true, \"showticklabels\": true, \"tickmode\": \"array\", \"ticks\": \"outside\", \"ticktext\": [\"QE_2017_001816_613.4826_738.0\", \"QE_2017_001816_613.48218_838.0\", \"QE_2017_001816_792.56232_718.0\", \"QE_2017_001814_596.30963_602.0\", \"QE_2017_001815_792.5625_866.0\", \"QE_2017_001815_571.4292_870.0\", \"QE_2017_001814_497.31033_643.0\", \"QE_2017_001815_507.27145_607.0\", \"QE_2017_001816_571.47186_717.0\", \"QE_2017_001814_335.25772_725.0\", \"QE_2017_001814_335.25784_608.0\", \"QE_2017_001816_335.25772_723.0\", \"QE_2017_001814_335.25784_628.0\", \"QE_2017_001815_335.25745_642.0\", \"QE_2017_001814_261.22073_634.0\", \"QE_2017_001815_335.25784_587.0\", \"QE_2017_001814_353.26889_609.0\", \"QE_2017_001815_353.26862_642.0\", \"QE_2017_001815_261.22073_643.0\", \"QE_2017_001814_335.25772_638.0\", \"QE_2017_001815_335.2579_601.0\", \"QE_2017_001816_272.25824_582.0\", \"QE_2017_001814_338.34146_850.0\", \"QE_2017_001815_244.19048_762.0\", \"QE_2017_001814_353.26868_633.0\", \"QE_2017_001816_353.26892_600.0\", \"QE_2017_001814_279.23157_719.0\", \"QE_2017_001815_278.24762_684.0\", \"QE_2017_001816_435.25037_666.0\", \"QE_2017_001816_337.27338_826.0\", \"QE_2017_001816_337.27341_632.0\", \"QE_2017_001814_618.42633_695.0\", \"QE_2017_001816_583.41382_731.0\", \"QE_2017_001816_599.40948_660.0\", \"QE_2017_001814_601.42426_706.0\", \"QE_2017_001816_599.40869_793.0\", \"QE_2017_001815_618.42773_646.0\", \"QE_2017_001816_618.427_682.0\", \"QE_2017_001815_568.42627_841.0\", \"QE_2017_001814_565.4035_722.0\", \"QE_2017_001814_583.41406_682.0\", \"QE_2017_001815_583.41406_707.0\", \"QE_2017_001814_601.42334_783.0\", \"QE_2017_001815_583.41388_735.0\", \"QE_2017_001815_583.41418_647.0\", \"QE_2017_001814_194.04424_237.0\", \"QE_2017_001815_194.11751_218.0\", \"QE_2017_001815_194.04469_299.0\", \"QE_2017_001815_194.04471_314.0\", \"QE_2017_001815_212.05513_328.0\", \"QE_2017_001815_212.05505_267.0\", \"QE_2017_001814_226.07077_397.0\", \"QE_2017_001815_194.04471_397.0\", \"QE_2017_001816_533.15442_247.0\", \"QE_2017_001816_533.15466_222.0\", \"QE_2017_001815_533.1546_207.0\", \"QE_2017_001816_533.1546_271.0\", \"QE_2017_001814_347.09097_122.0\", \"QE_2017_001815_347.09067_204.0\", \"QE_2017_001815_268.10373_58.0\", \"QE_2017_001816_269.16055_60.0\", \"QE_2017_001815_364.34189_705.0\", \"QE_2017_001816_408.36832_704.0\", \"QE_2017_001816_466.40979_731.0\", \"QE_2017_001815_408.36853_717.0\", \"QE_2017_001815_482.40488_739.0\", \"QE_2017_001814_364.34244_761.0\", \"QE_2017_001815_364.34253_752.0\", \"QE_2017_001816_421.35226_731.0\", \"QE_2017_001816_424.36325_712.0\", \"QE_2017_001816_463.12311_410.0\", \"QE_2017_001814_611.15997_285.0\", \"QE_2017_001815_611.16046_309.0\", \"QE_2017_001814_339.10742_366.0\", \"QE_2017_001816_339.10733_298.0\", \"QE_2017_001814_498.2543_475.0\", \"QE_2017_001815_340.16019_314.0\", \"QE_2017_001815_231.04973_403.0\", \"QE_2017_001815_231.04968_315.0\", \"QE_2017_001814_231.04971_516.0\", \"QE_2017_001815_231.04971_369.0\", \"QE_2017_001815_314.14453_76.0\", \"QE_2017_001816_314.14462_79.0\", \"QE_2017_001816_310.14957_134.0\", \"QE_2017_001816_342.17584_257.0\", \"QE_2017_001814_241.15466_73.0\", \"QE_2017_001815_507.18192_178.0\", \"QE_2017_001814_483.27118_651.0\", \"QE_2017_001816_338.26062_643.0\", \"QE_2017_001814_320.29456_577.0\", \"QE_2017_001815_320.29471_563.0\", \"QE_2017_001815_129.12741_349.0\", \"QE_2017_001815_171.14914_420.0\", \"QE_2017_001815_201.16367_442.0\", \"QE_2017_001816_201.16362_435.0\", \"QE_2017_001815_209.15352_479.0\", \"QE_2017_001815_209.15349_295.0\", \"QE_2017_001815_209.1535_312.0\", \"QE_2017_001816_209.15344_311.0\", \"QE_2017_001814_243.15892_533.0\", \"QE_2017_001814_281.1745_492.0\", \"QE_2017_001814_293.2106_579.0\", \"QE_2017_001815_227.16408_344.0\", \"QE_2017_001815_283.19009_564.0\", \"QE_2017_001815_207.13785_297.0\", \"QE_2017_001814_227.1275_293.0\", \"QE_2017_001816_227.12766_295.0\", \"QE_2017_001815_181.1221_767.0\", \"QE_2017_001816_181.12199_794.0\", \"QE_2017_001816_211.16916_405.0\", \"QE_2017_001815_209.0807_405.0\", \"QE_2017_001814_211.16902_440.0\", \"QE_2017_001815_211.16913_450.0\", \"QE_2017_001815_215.164_550.0\", \"QE_2017_001816_215.16411_482.0\", \"QE_2017_001816_137.09584_445.0\", \"QE_2017_001814_219.17416_517.0\", \"QE_2017_001815_219.17421_516.0\", \"QE_2017_001816_219.17438_502.0\", \"QE_2017_001814_219.17401_452.0\", \"QE_2017_001814_219.17409_442.0\", \"QE_2017_001814_191.14291_389.0\", \"QE_2017_001815_191.14287_312.0\", \"QE_2017_001816_191.14291_404.0\", \"QE_2017_001814_209.08058_363.0\", \"QE_2017_001816_207.13779_561.0\", \"QE_2017_001815_333.15173_245.0\", \"QE_2017_001816_333.15204_235.0\", \"QE_2017_001814_194.1174_244.0\", \"QE_2017_001816_194.11746_133.0\", \"QE_2017_001816_320.29483_548.0\", \"QE_2017_001814_320.29468_638.0\", \"QE_2017_001814_320.29477_539.0\", \"QE_2017_001814_320.29471_529.0\", \"QE_2017_001815_320.29486_538.0\", \"QE_2017_001814_241.15384_47.0\", \"QE_2017_001814_241.15446_57.0\", \"QE_2017_001814_332.25827_467.0\", \"QE_2017_001815_332.25827_508.0\", \"QE_2017_001816_332.25842_487.0\", \"QE_2017_001814_319.13638_117.0\", \"QE_2017_001816_319.13614_143.0\", \"QE_2017_001814_251.09117_393.0\", \"QE_2017_001815_219.10159_438.0\", \"QE_2017_001815_219.10139_360.0\", \"QE_2017_001816_219.10153_382.0\", \"QE_2017_001814_291.1442_241.0\", \"QE_2017_001816_291.14493_243.0\", \"QE_2017_001816_291.14499_200.0\", \"QE_2017_001815_273.13425_199.0\", \"QE_2017_001815_273.13434_243.0\", \"QE_2017_001815_251.13873_202.0\", \"QE_2017_001815_235.14398_226.0\", \"QE_2017_001816_235.14397_183.0\", \"QE_2017_001815_214.51021_60.0\", \"QE_2017_001816_268.59351_445.0\", \"QE_2017_001814_250.10149_516.0\", \"QE_2017_001815_222.07033_315.0\", \"QE_2017_001814_247.05975_245.0\", \"QE_2017_001815_247.0598_242.0\", \"QE_2017_001816_219.04672_291.0\", \"QE_2017_001815_212.03883_181.0\", \"QE_2017_001815_214.56488_409.0\", \"QE_2017_001815_260.16016_64.0\", \"QE_2017_001816_132.04436_283.0\", \"QE_2017_001815_246.14465_137.0\", \"QE_2017_001815_247.12865_158.0\", \"QE_2017_001814_260.16037_143.0\", \"QE_2017_001816_260.16022_145.0\", \"QE_2017_001814_233.14957_152.0\", \"QE_2017_001814_233.14948_126.0\", \"QE_2017_001816_233.14955_129.0\", \"QE_2017_001815_221.12837_99.0\", \"QE_2017_001816_237.12325_171.0\", \"QE_2017_001814_237.12305_220.0\", \"QE_2017_001816_237.12323_53.0\", \"QE_2017_001816_229.15469_52.0\", \"QE_2017_001814_229.15399_46.0\", \"QE_2017_001816_229.15451_66.0\", \"QE_2017_001814_182.08116_51.0\", \"QE_2017_001816_182.08116_55.0\", \"QE_2017_001815_194.04474_330.0\", \"QE_2017_001816_212.05518_300.0\", \"QE_2017_001816_177.05449_217.0\", \"QE_2017_001814_177.05418_236.0\", \"QE_2017_001815_177.05444_307.0\", \"QE_2017_001816_199.98769_294.0\", \"QE_2017_001816_199.98776_304.0\", \"QE_2017_001814_199.98778_290.0\", \"QE_2017_001815_199.98779_30.0\", \"QE_2017_001815_199.98772_326.0\", \"QE_2017_001816_199.98781_313.0\", \"QE_2017_001816_199.98772_359.0\", \"QE_2017_001816_199.98776_254.0\", \"QE_2017_001816_199.98779_335.0\", \"QE_2017_001815_797.51746_866.0\", \"QE_2017_001815_595.16559_315.0\", \"QE_2017_001815_463.12268_358.0\", \"QE_2017_001815_625.17633_345.0\", \"QE_2017_001815_141.0508_33.0\", \"QE_2017_001815_265.01532_33.0\"], \"tickvals\": [5.0, 15.0, 25.0, 35.0, 45.0, 55.0, 65.0, 75.0, 85.0, 95.0, 105.0, 115.0, 125.0, 135.0, 145.0, 155.0, 165.0, 175.0, 185.0, 195.0, 205.0, 215.0, 225.0, 235.0, 245.0, 255.0, 265.0, 275.0, 285.0, 295.0, 305.0, 315.0, 325.0, 335.0, 345.0, 355.0, 365.0, 375.0, 385.0, 395.0, 405.0, 415.0, 425.0, 435.0, 445.0, 455.0, 465.0, 475.0, 485.0, 495.0, 505.0, 515.0, 525.0, 535.0, 545.0, 555.0, 565.0, 575.0, 585.0, 595.0, 605.0, 615.0, 625.0, 635.0, 645.0, 655.0, 665.0, 675.0, 685.0, 695.0, 705.0, 715.0, 725.0, 735.0, 745.0, 755.0, 765.0, 775.0, 785.0, 795.0, 805.0, 815.0, 825.0, 835.0, 845.0, 855.0, 865.0, 875.0, 885.0, 895.0, 905.0, 915.0, 925.0, 935.0, 945.0, 955.0, 965.0, 975.0, 985.0, 995.0, 1005.0, 1015.0, 1025.0, 1035.0, 1045.0, 1055.0, 1065.0, 1075.0, 1085.0, 1095.0, 1105.0, 1115.0, 1125.0, 1135.0, 1145.0, 1155.0, 1165.0, 1175.0, 1185.0, 1195.0, 1205.0, 1215.0, 1225.0, 1235.0, 1245.0, 1255.0, 1265.0, 1275.0, 1285.0, 1295.0, 1305.0, 1315.0, 1325.0, 1335.0, 1345.0, 1355.0, 1365.0, 1375.0, 1385.0, 1395.0, 1405.0, 1415.0, 1425.0, 1435.0, 1445.0, 1455.0, 1465.0, 1475.0, 1485.0, 1495.0, 1505.0, 1515.0, 1525.0, 1535.0, 1545.0, 1555.0, 1565.0, 1575.0, 1585.0, 1595.0, 1605.0, 1615.0, 1625.0, 1635.0, 1645.0, 1655.0, 1665.0, 1675.0, 1685.0, 1695.0, 1705.0, 1715.0, 1725.0, 1735.0, 1745.0, 1755.0, 1765.0, 1775.0, 1785.0, 1795.0, 1805.0, 1815.0, 1825.0, 1835.0, 1845.0, 1855.0, 1865.0, 1875.0, 1885.0, 1895.0, 1905.0, 1915.0, 1925.0, 1935.0, 1945.0, 1955.0, 1965.0, 1975.0, 1985.0, 1995.0, 2005.0], \"title\": {\"text\": \"Samples\"}, \"type\": \"linear\", \"zeroline\": false}, \"yaxis\": {\"mirror\": \"allticks\", \"rangemode\": \"tozero\", \"showgrid\": false, \"showline\": true, \"showticklabels\": true, \"ticks\": \"outside\", \"title\": {\"text\": \"Distance\"}, \"type\": \"linear\", \"zeroline\": false}},\n",
       "                        {\"showLink\": false, \"linkText\": \"Export to plot.ly\", \"plotlyServerURL\": \"https://plot.ly\"}\n",
       "                    )\n",
       "                };\n",
       "                });\n",
       "            </script>\n",
       "        </div>"
      ]
     },
     "metadata": {},
     "output_type": "display_data"
    }
   ],
   "source": [
    "from BioDendro.plot import dendrogram\n",
    "\n",
    "iplot = dendrogram(tree, width=800, height=700, title=\"TreesRCool\", xlabel=\"Samples\", ylabel=\"Distance\")\n",
    "plotly.offline.iplot(iplot)"
   ]
  },
  {
   "cell_type": "markdown",
   "metadata": {},
   "source": [
    "There are some features that we're working on.\n",
    "\n",
    "In dendrogram, the `hovertext` parameter allows you to specify arbitrary text for when you hover over the data.\n",
    "However, the current tree drawing algorithm reorders the internal nodes, and we can't find the correct order for internal node data from the output of that function.\n",
    "For now know that it exists, and if you figure it out, please let us know!"
   ]
  },
  {
   "cell_type": "code",
   "execution_count": null,
   "metadata": {},
   "outputs": [],
   "source": []
  }
 ],
 "metadata": {
  "kernelspec": {
   "display_name": "Python 3",
   "language": "python",
   "name": "python3"
  },
  "language_info": {
   "codemirror_mode": {
    "name": "ipython",
    "version": 3
   },
   "file_extension": ".py",
   "mimetype": "text/x-python",
   "name": "python",
   "nbconvert_exporter": "python",
   "pygments_lexer": "ipython3",
   "version": "3.7.2"
  }
 },
 "nbformat": 4,
 "nbformat_minor": 2
}
