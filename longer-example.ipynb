{
 "cells": [
  {
   "cell_type": "markdown",
   "metadata": {},
   "source": [
    "# Running BioDendro Pipeline"
   ]
  },
  {
   "cell_type": "code",
   "execution_count": 1,
   "metadata": {},
   "outputs": [
    {
     "name": "stdout",
     "output_type": "stream",
     "text": [
      "usage: BioDendro [-h] [-n] [-c CUTOFF] [-b BIN_THRESHOLD]\r\n",
      "                 [-d {jaccard,braycurtis}] [-p PROCESSED] [-o OUT_HTML]\r\n",
      "                 [-r RESULTS_DIR] [-x WIDTH_PX] [-y HEIGHT_PX] [-q]\r\n",
      "                 mgf components\r\n",
      "\r\n",
      "Run the BioDendro pipeline.\r\n",
      "\r\n",
      "positional arguments:\r\n",
      "  mgf                   MGF input file.\r\n",
      "  components            Listed components file.\r\n",
      "\r\n",
      "optional arguments:\r\n",
      "  -h, --help            show this help message and exit\r\n",
      "  -n, --neutral         Apply neutral loss.\r\n",
      "  -c CUTOFF, --cutoff CUTOFF\r\n",
      "                        Distance threshold for selecting clusters from tree.\r\n",
      "  -b BIN_THRESHOLD, --bin-threshold BIN_THRESHOLD\r\n",
      "                        Threshold for binning m/z values prior to clustering.\r\n",
      "  -d {jaccard,braycurtis}, --cluster-method {jaccard,braycurtis}\r\n",
      "                        The distance metric used during tree construction.\r\n",
      "  -p PROCESSED, --processed PROCESSED\r\n",
      "                        Path to write preprocessed output to.\r\n",
      "  -o OUT_HTML, --output OUT_HTML\r\n",
      "                        Path to write interactive html plot to.\r\n",
      "  -r RESULTS_DIR, --results-dir RESULTS_DIR\r\n",
      "                        Directory to write per-cluster plots and table\r\n",
      "                        to.Default is to use 'results_20180606112200' where\r\n",
      "                        the number isthe current datetime. WARNING: will\r\n",
      "                        overwrite contents of existing directories.\r\n",
      "  -x WIDTH_PX, --width WIDTH_PX\r\n",
      "                        The width of the dendrogram plot in pixels.\r\n",
      "  -y HEIGHT_PX, --height HEIGHT_PX\r\n",
      "                        The height of the dendrogram plot in pixels.\r\n",
      "  -q, --quiet           Suppress status notifications written to stdout.\r\n"
     ]
    }
   ],
   "source": [
    "# listed are all BioDendro pipeline arguments\n",
    "\n",
    "!BioDendro -h"
   ]
  },
  {
   "cell_type": "code",
   "execution_count": 2,
   "metadata": {},
   "outputs": [
    {
     "name": "stdout",
     "output_type": "stream",
     "text": [
      "Running BioDendro v0.0.1\n",
      "\n",
      "- input mgf file = ./MSMS.mgf\n",
      "- input components file = ./component_list.txt\n",
      "- neutral = False\n",
      "- cutoff = 0.6\n",
      "- bin_threshold = 0.0008\n",
      "- clustering_method = jaccard\n",
      "- output processed file = processed.xlsx\n",
      "- output results directory = results_20180604130113\n",
      "- output html dendrogram = simple_dendrogram.html\n",
      "- dendrogram figure width = 900\n",
      "- dendrogram figure height = 400\n",
      "\n",
      "\n",
      "Processing inputs\n",
      "Binning and clustering\n",
      "This may take some time...\n",
      "Writing per-cluster summaries\n",
      "Writing output html dendrogram\n",
      "Finished\n"
     ]
    }
   ],
   "source": [
    "# Run the complete pipeline\n",
    "\n",
    "! BioDendro ./MSMS.mgf ./component_list.txt"
   ]
  },
  {
   "cell_type": "markdown",
   "metadata": {},
   "source": [
    "## Running the pipeline interactively."
   ]
  },
  {
   "cell_type": "code",
   "execution_count": 3,
   "metadata": {
    "collapsed": true
   },
   "outputs": [],
   "source": [
    "# Load required modules\n",
    "\n",
    "import os\n",
    "import plotly\n",
    "from BioDendro import preprocess\n",
    "from BioDendro import cluster"
   ]
  },
  {
   "cell_type": "code",
   "execution_count": 4,
   "metadata": {},
   "outputs": [
    {
     "data": {
      "text/plain": [
       "[MGFRecord(title='QE_2017_001814', retention=141.0, pepmass=Ion(mz=81.52061, intensity=1678597.25), charge='1+', ions=[Ion(mz=53.00264, intensity=1252.15), Ion(mz=60.7764, intensity=1324.65)]),\n",
       " MGFRecord(title='QE_2017_001814', retention=877.0, pepmass=Ion(mz=81.52061, intensity=19463956.0), charge='2+', ions=[Ion(mz=59.32066, intensity=14996.5), Ion(mz=131.81848, intensity=18682.3), Ion(mz=176.21725, intensity=18992.1)]),\n",
       " MGFRecord(title='QE_2017_001816', retention=447.0, pepmass=Ion(mz=81.52061, intensity=2814306.5), charge='1+', ions=[Ion(mz=53.0393, intensity=1853.67)]),\n",
       " MGFRecord(title='QE_2017_001814', retention=436.0, pepmass=Ion(mz=81.52064, intensity=2750625.5), charge='1+', ions=[Ion(mz=63.59929, intensity=2020.82)]),\n",
       " MGFRecord(title='QE_2017_001815', retention=887.0, pepmass=Ion(mz=81.52064, intensity=15775805.0), charge='2+', ions=[Ion(mz=124.5074, intensity=13727.9), Ion(mz=184.32289, intensity=14260.0)])]"
      ]
     },
     "execution_count": 4,
     "metadata": {},
     "output_type": "execute_result"
    }
   ],
   "source": [
    "# Load the MSMS records \n",
    "\n",
    "with open(\"./MSMS.mgf\") as handle:\n",
    "    mgf = preprocess.MGF.parse(handle)\n",
    "\n",
    "for record in mgf.records:\n",
    "    record.title = preprocess.split_msms_title(record.title)\n",
    "\n",
    "mgf.records[:5]"
   ]
  },
  {
   "cell_type": "code",
   "execution_count": 5,
   "metadata": {},
   "outputs": [
    {
     "data": {
      "text/plain": [
       "[<BioDendro.preprocess.SampleRecord at 0x7fd97c94eba8>,\n",
       " <BioDendro.preprocess.SampleRecord at 0x7fd97c94eb70>,\n",
       " <BioDendro.preprocess.SampleRecord at 0x7fd97c94e860>,\n",
       " <BioDendro.preprocess.SampleRecord at 0x7fd97c94ea90>,\n",
       " <BioDendro.preprocess.SampleRecord at 0x7fd97c94eac8>]"
      ]
     },
     "execution_count": 5,
     "metadata": {},
     "output_type": "execute_result"
    }
   ],
   "source": [
    "# Load the list of components to compare to the MSMS file\n",
    "\n",
    "with open(\"./component_list.txt\") as handle:\n",
    "    components = preprocess.SampleRecord.parse(handle)\n",
    "\n",
    "components[:5]"
   ]
  },
  {
   "cell_type": "code",
   "execution_count": 6,
   "metadata": {},
   "outputs": [
    {
     "data": {
      "text/html": [
       "<div>\n",
       "<style scoped>\n",
       "    .dataframe tbody tr th:only-of-type {\n",
       "        vertical-align: middle;\n",
       "    }\n",
       "\n",
       "    .dataframe tbody tr th {\n",
       "        vertical-align: top;\n",
       "    }\n",
       "\n",
       "    .dataframe thead th {\n",
       "        text-align: right;\n",
       "    }\n",
       "</style>\n",
       "<table border=\"1\" class=\"dataframe\">\n",
       "  <thead>\n",
       "    <tr style=\"text-align: right;\">\n",
       "      <th></th>\n",
       "      <th>sample</th>\n",
       "      <th>mz</th>\n",
       "    </tr>\n",
       "  </thead>\n",
       "  <tbody>\n",
       "    <tr>\n",
       "      <th>0</th>\n",
       "      <td>QE_2017_001814_353.26889_609.0</td>\n",
       "      <td>50.06792</td>\n",
       "    </tr>\n",
       "    <tr>\n",
       "      <th>1</th>\n",
       "      <td>QE_2017_001816_177.05449_217.0</td>\n",
       "      <td>50.44534</td>\n",
       "    </tr>\n",
       "    <tr>\n",
       "      <th>2</th>\n",
       "      <td>QE_2017_001815_235.14398_226.0</td>\n",
       "      <td>50.48630</td>\n",
       "    </tr>\n",
       "    <tr>\n",
       "      <th>3</th>\n",
       "      <td>QE_2017_001816_211.16916_405.0</td>\n",
       "      <td>50.49868</td>\n",
       "    </tr>\n",
       "    <tr>\n",
       "      <th>4</th>\n",
       "      <td>QE_2017_001815_613.4826_734.0</td>\n",
       "      <td>50.57634</td>\n",
       "    </tr>\n",
       "  </tbody>\n",
       "</table>\n",
       "</div>"
      ],
      "text/plain": [
       "                           sample        mz\n",
       "0  QE_2017_001814_353.26889_609.0  50.06792\n",
       "1  QE_2017_001816_177.05449_217.0  50.44534\n",
       "2  QE_2017_001815_235.14398_226.0  50.48630\n",
       "3  QE_2017_001816_211.16916_405.0  50.49868\n",
       "4   QE_2017_001815_613.4826_734.0  50.57634"
      ]
     },
     "execution_count": 6,
     "metadata": {},
     "output_type": "execute_result"
    }
   ],
   "source": [
    "# Remove redundant records with mass and retention time tolerance \n",
    "\n",
    "df = preprocess.remove_redundancy(components, mgf, mz_tol=0.002, retention_tol=5, neutral=False)\n",
    "df.head()"
   ]
  },
  {
   "cell_type": "code",
   "execution_count": 7,
   "metadata": {
    "collapsed": true
   },
   "outputs": [],
   "source": [
    "# Using the non-redundant dataframe, bin analytes on threshold=8e-4 and return a data matrix\n",
    "# Cluster the data matrix using clustering_method=\"jaccard\"\n",
    "# Set threshold to color dendrogram and output clusters at cutoff=0.4\n",
    "\n",
    "tree = cluster.Tree(threshold=8e-4, clustering_method=\"jaccard\", cutoff=0.4)\n",
    "tree.fit(df)"
   ]
  },
  {
   "cell_type": "code",
   "execution_count": 9,
   "metadata": {},
   "outputs": [
    {
     "data": {
      "text/html": [
       "<div>\n",
       "<style scoped>\n",
       "    .dataframe tbody tr th:only-of-type {\n",
       "        vertical-align: middle;\n",
       "    }\n",
       "\n",
       "    .dataframe tbody tr th {\n",
       "        vertical-align: top;\n",
       "    }\n",
       "\n",
       "    .dataframe thead th {\n",
       "        text-align: right;\n",
       "    }\n",
       "</style>\n",
       "<table border=\"1\" class=\"dataframe\">\n",
       "  <thead>\n",
       "    <tr style=\"text-align: right;\">\n",
       "      <th>bins</th>\n",
       "      <th>100.0246_100.0246_100.0246</th>\n",
       "      <th>100.0394_100.0394_100.0394</th>\n",
       "      <th>100.0759_100.0759_100.0759</th>\n",
       "      <th>100.1122_100.1122_100.1122</th>\n",
       "      <th>100.1311_100.1311_100.1311</th>\n",
       "      <th>100.5562_100.5562_100.5562</th>\n",
       "      <th>100.6662_100.6662_100.6662</th>\n",
       "      <th>101.0235_101.0235_101.0235</th>\n",
       "      <th>101.0598_101.0596_101.0599</th>\n",
       "      <th>101.0711_101.0711_101.0712</th>\n",
       "      <th>...</th>\n",
       "      <th>98.5418_98.5418_98.5418</th>\n",
       "      <th>98.5942_98.5942_98.5942</th>\n",
       "      <th>98.8081_98.8081_98.8081</th>\n",
       "      <th>98.9756_98.9755_98.9757</th>\n",
       "      <th>98.9844_98.9844_98.9845</th>\n",
       "      <th>99.0034_99.0034_99.0034</th>\n",
       "      <th>99.0080_99.0080_99.0080</th>\n",
       "      <th>99.0443_99.0441_99.0445</th>\n",
       "      <th>99.0807_99.0804_99.0809</th>\n",
       "      <th>99.1172_99.1172_99.1172</th>\n",
       "    </tr>\n",
       "    <tr>\n",
       "      <th>sample</th>\n",
       "      <th></th>\n",
       "      <th></th>\n",
       "      <th></th>\n",
       "      <th></th>\n",
       "      <th></th>\n",
       "      <th></th>\n",
       "      <th></th>\n",
       "      <th></th>\n",
       "      <th></th>\n",
       "      <th></th>\n",
       "      <th></th>\n",
       "      <th></th>\n",
       "      <th></th>\n",
       "      <th></th>\n",
       "      <th></th>\n",
       "      <th></th>\n",
       "      <th></th>\n",
       "      <th></th>\n",
       "      <th></th>\n",
       "      <th></th>\n",
       "      <th></th>\n",
       "    </tr>\n",
       "  </thead>\n",
       "  <tbody>\n",
       "    <tr>\n",
       "      <th>QE_2017_001814_129.12737_348.0</th>\n",
       "      <td>False</td>\n",
       "      <td>False</td>\n",
       "      <td>False</td>\n",
       "      <td>False</td>\n",
       "      <td>False</td>\n",
       "      <td>False</td>\n",
       "      <td>False</td>\n",
       "      <td>False</td>\n",
       "      <td>False</td>\n",
       "      <td>False</td>\n",
       "      <td>...</td>\n",
       "      <td>False</td>\n",
       "      <td>False</td>\n",
       "      <td>False</td>\n",
       "      <td>False</td>\n",
       "      <td>False</td>\n",
       "      <td>False</td>\n",
       "      <td>False</td>\n",
       "      <td>False</td>\n",
       "      <td>False</td>\n",
       "      <td>False</td>\n",
       "    </tr>\n",
       "    <tr>\n",
       "      <th>QE_2017_001814_171.14908_419.0</th>\n",
       "      <td>False</td>\n",
       "      <td>False</td>\n",
       "      <td>False</td>\n",
       "      <td>True</td>\n",
       "      <td>False</td>\n",
       "      <td>False</td>\n",
       "      <td>False</td>\n",
       "      <td>False</td>\n",
       "      <td>False</td>\n",
       "      <td>False</td>\n",
       "      <td>...</td>\n",
       "      <td>False</td>\n",
       "      <td>False</td>\n",
       "      <td>False</td>\n",
       "      <td>False</td>\n",
       "      <td>False</td>\n",
       "      <td>False</td>\n",
       "      <td>False</td>\n",
       "      <td>False</td>\n",
       "      <td>False</td>\n",
       "      <td>False</td>\n",
       "    </tr>\n",
       "    <tr>\n",
       "      <th>QE_2017_001814_177.05418_236.0</th>\n",
       "      <td>False</td>\n",
       "      <td>False</td>\n",
       "      <td>False</td>\n",
       "      <td>False</td>\n",
       "      <td>False</td>\n",
       "      <td>False</td>\n",
       "      <td>False</td>\n",
       "      <td>False</td>\n",
       "      <td>False</td>\n",
       "      <td>False</td>\n",
       "      <td>...</td>\n",
       "      <td>False</td>\n",
       "      <td>False</td>\n",
       "      <td>False</td>\n",
       "      <td>False</td>\n",
       "      <td>False</td>\n",
       "      <td>False</td>\n",
       "      <td>False</td>\n",
       "      <td>False</td>\n",
       "      <td>False</td>\n",
       "      <td>False</td>\n",
       "    </tr>\n",
       "    <tr>\n",
       "      <th>QE_2017_001814_191.14291_389.0</th>\n",
       "      <td>False</td>\n",
       "      <td>False</td>\n",
       "      <td>False</td>\n",
       "      <td>False</td>\n",
       "      <td>False</td>\n",
       "      <td>False</td>\n",
       "      <td>False</td>\n",
       "      <td>False</td>\n",
       "      <td>False</td>\n",
       "      <td>False</td>\n",
       "      <td>...</td>\n",
       "      <td>False</td>\n",
       "      <td>False</td>\n",
       "      <td>False</td>\n",
       "      <td>False</td>\n",
       "      <td>False</td>\n",
       "      <td>False</td>\n",
       "      <td>False</td>\n",
       "      <td>False</td>\n",
       "      <td>False</td>\n",
       "      <td>False</td>\n",
       "    </tr>\n",
       "    <tr>\n",
       "      <th>QE_2017_001814_194.04424_237.0</th>\n",
       "      <td>False</td>\n",
       "      <td>False</td>\n",
       "      <td>False</td>\n",
       "      <td>False</td>\n",
       "      <td>False</td>\n",
       "      <td>False</td>\n",
       "      <td>False</td>\n",
       "      <td>False</td>\n",
       "      <td>False</td>\n",
       "      <td>False</td>\n",
       "      <td>...</td>\n",
       "      <td>False</td>\n",
       "      <td>False</td>\n",
       "      <td>False</td>\n",
       "      <td>False</td>\n",
       "      <td>False</td>\n",
       "      <td>False</td>\n",
       "      <td>False</td>\n",
       "      <td>False</td>\n",
       "      <td>False</td>\n",
       "      <td>False</td>\n",
       "    </tr>\n",
       "  </tbody>\n",
       "</table>\n",
       "<p>5 rows × 1922 columns</p>\n",
       "</div>"
      ],
      "text/plain": [
       "bins                           100.0246_100.0246_100.0246  \\\n",
       "sample                                                      \n",
       "QE_2017_001814_129.12737_348.0                      False   \n",
       "QE_2017_001814_171.14908_419.0                      False   \n",
       "QE_2017_001814_177.05418_236.0                      False   \n",
       "QE_2017_001814_191.14291_389.0                      False   \n",
       "QE_2017_001814_194.04424_237.0                      False   \n",
       "\n",
       "bins                           100.0394_100.0394_100.0394  \\\n",
       "sample                                                      \n",
       "QE_2017_001814_129.12737_348.0                      False   \n",
       "QE_2017_001814_171.14908_419.0                      False   \n",
       "QE_2017_001814_177.05418_236.0                      False   \n",
       "QE_2017_001814_191.14291_389.0                      False   \n",
       "QE_2017_001814_194.04424_237.0                      False   \n",
       "\n",
       "bins                           100.0759_100.0759_100.0759  \\\n",
       "sample                                                      \n",
       "QE_2017_001814_129.12737_348.0                      False   \n",
       "QE_2017_001814_171.14908_419.0                      False   \n",
       "QE_2017_001814_177.05418_236.0                      False   \n",
       "QE_2017_001814_191.14291_389.0                      False   \n",
       "QE_2017_001814_194.04424_237.0                      False   \n",
       "\n",
       "bins                           100.1122_100.1122_100.1122  \\\n",
       "sample                                                      \n",
       "QE_2017_001814_129.12737_348.0                      False   \n",
       "QE_2017_001814_171.14908_419.0                       True   \n",
       "QE_2017_001814_177.05418_236.0                      False   \n",
       "QE_2017_001814_191.14291_389.0                      False   \n",
       "QE_2017_001814_194.04424_237.0                      False   \n",
       "\n",
       "bins                           100.1311_100.1311_100.1311  \\\n",
       "sample                                                      \n",
       "QE_2017_001814_129.12737_348.0                      False   \n",
       "QE_2017_001814_171.14908_419.0                      False   \n",
       "QE_2017_001814_177.05418_236.0                      False   \n",
       "QE_2017_001814_191.14291_389.0                      False   \n",
       "QE_2017_001814_194.04424_237.0                      False   \n",
       "\n",
       "bins                           100.5562_100.5562_100.5562  \\\n",
       "sample                                                      \n",
       "QE_2017_001814_129.12737_348.0                      False   \n",
       "QE_2017_001814_171.14908_419.0                      False   \n",
       "QE_2017_001814_177.05418_236.0                      False   \n",
       "QE_2017_001814_191.14291_389.0                      False   \n",
       "QE_2017_001814_194.04424_237.0                      False   \n",
       "\n",
       "bins                           100.6662_100.6662_100.6662  \\\n",
       "sample                                                      \n",
       "QE_2017_001814_129.12737_348.0                      False   \n",
       "QE_2017_001814_171.14908_419.0                      False   \n",
       "QE_2017_001814_177.05418_236.0                      False   \n",
       "QE_2017_001814_191.14291_389.0                      False   \n",
       "QE_2017_001814_194.04424_237.0                      False   \n",
       "\n",
       "bins                           101.0235_101.0235_101.0235  \\\n",
       "sample                                                      \n",
       "QE_2017_001814_129.12737_348.0                      False   \n",
       "QE_2017_001814_171.14908_419.0                      False   \n",
       "QE_2017_001814_177.05418_236.0                      False   \n",
       "QE_2017_001814_191.14291_389.0                      False   \n",
       "QE_2017_001814_194.04424_237.0                      False   \n",
       "\n",
       "bins                           101.0598_101.0596_101.0599  \\\n",
       "sample                                                      \n",
       "QE_2017_001814_129.12737_348.0                      False   \n",
       "QE_2017_001814_171.14908_419.0                      False   \n",
       "QE_2017_001814_177.05418_236.0                      False   \n",
       "QE_2017_001814_191.14291_389.0                      False   \n",
       "QE_2017_001814_194.04424_237.0                      False   \n",
       "\n",
       "bins                           101.0711_101.0711_101.0712  \\\n",
       "sample                                                      \n",
       "QE_2017_001814_129.12737_348.0                      False   \n",
       "QE_2017_001814_171.14908_419.0                      False   \n",
       "QE_2017_001814_177.05418_236.0                      False   \n",
       "QE_2017_001814_191.14291_389.0                      False   \n",
       "QE_2017_001814_194.04424_237.0                      False   \n",
       "\n",
       "bins                                     ...            \\\n",
       "sample                                   ...             \n",
       "QE_2017_001814_129.12737_348.0           ...             \n",
       "QE_2017_001814_171.14908_419.0           ...             \n",
       "QE_2017_001814_177.05418_236.0           ...             \n",
       "QE_2017_001814_191.14291_389.0           ...             \n",
       "QE_2017_001814_194.04424_237.0           ...             \n",
       "\n",
       "bins                           98.5418_98.5418_98.5418  \\\n",
       "sample                                                   \n",
       "QE_2017_001814_129.12737_348.0                   False   \n",
       "QE_2017_001814_171.14908_419.0                   False   \n",
       "QE_2017_001814_177.05418_236.0                   False   \n",
       "QE_2017_001814_191.14291_389.0                   False   \n",
       "QE_2017_001814_194.04424_237.0                   False   \n",
       "\n",
       "bins                           98.5942_98.5942_98.5942  \\\n",
       "sample                                                   \n",
       "QE_2017_001814_129.12737_348.0                   False   \n",
       "QE_2017_001814_171.14908_419.0                   False   \n",
       "QE_2017_001814_177.05418_236.0                   False   \n",
       "QE_2017_001814_191.14291_389.0                   False   \n",
       "QE_2017_001814_194.04424_237.0                   False   \n",
       "\n",
       "bins                           98.8081_98.8081_98.8081  \\\n",
       "sample                                                   \n",
       "QE_2017_001814_129.12737_348.0                   False   \n",
       "QE_2017_001814_171.14908_419.0                   False   \n",
       "QE_2017_001814_177.05418_236.0                   False   \n",
       "QE_2017_001814_191.14291_389.0                   False   \n",
       "QE_2017_001814_194.04424_237.0                   False   \n",
       "\n",
       "bins                           98.9756_98.9755_98.9757  \\\n",
       "sample                                                   \n",
       "QE_2017_001814_129.12737_348.0                   False   \n",
       "QE_2017_001814_171.14908_419.0                   False   \n",
       "QE_2017_001814_177.05418_236.0                   False   \n",
       "QE_2017_001814_191.14291_389.0                   False   \n",
       "QE_2017_001814_194.04424_237.0                   False   \n",
       "\n",
       "bins                           98.9844_98.9844_98.9845  \\\n",
       "sample                                                   \n",
       "QE_2017_001814_129.12737_348.0                   False   \n",
       "QE_2017_001814_171.14908_419.0                   False   \n",
       "QE_2017_001814_177.05418_236.0                   False   \n",
       "QE_2017_001814_191.14291_389.0                   False   \n",
       "QE_2017_001814_194.04424_237.0                   False   \n",
       "\n",
       "bins                           99.0034_99.0034_99.0034  \\\n",
       "sample                                                   \n",
       "QE_2017_001814_129.12737_348.0                   False   \n",
       "QE_2017_001814_171.14908_419.0                   False   \n",
       "QE_2017_001814_177.05418_236.0                   False   \n",
       "QE_2017_001814_191.14291_389.0                   False   \n",
       "QE_2017_001814_194.04424_237.0                   False   \n",
       "\n",
       "bins                           99.0080_99.0080_99.0080  \\\n",
       "sample                                                   \n",
       "QE_2017_001814_129.12737_348.0                   False   \n",
       "QE_2017_001814_171.14908_419.0                   False   \n",
       "QE_2017_001814_177.05418_236.0                   False   \n",
       "QE_2017_001814_191.14291_389.0                   False   \n",
       "QE_2017_001814_194.04424_237.0                   False   \n",
       "\n",
       "bins                           99.0443_99.0441_99.0445  \\\n",
       "sample                                                   \n",
       "QE_2017_001814_129.12737_348.0                   False   \n",
       "QE_2017_001814_171.14908_419.0                   False   \n",
       "QE_2017_001814_177.05418_236.0                   False   \n",
       "QE_2017_001814_191.14291_389.0                   False   \n",
       "QE_2017_001814_194.04424_237.0                   False   \n",
       "\n",
       "bins                           99.0807_99.0804_99.0809 99.1172_99.1172_99.1172  \n",
       "sample                                                                          \n",
       "QE_2017_001814_129.12737_348.0                   False                   False  \n",
       "QE_2017_001814_171.14908_419.0                   False                   False  \n",
       "QE_2017_001814_177.05418_236.0                   False                   False  \n",
       "QE_2017_001814_191.14291_389.0                   False                   False  \n",
       "QE_2017_001814_194.04424_237.0                   False                   False  \n",
       "\n",
       "[5 rows x 1922 columns]"
      ]
     },
     "execution_count": 9,
     "metadata": {},
     "output_type": "execute_result"
    }
   ],
   "source": [
    "# One hot encoded matrix output from mz binning.\n",
    "tree.onehot_df.head()"
   ]
  },
  {
   "cell_type": "code",
   "execution_count": 10,
   "metadata": {},
   "outputs": [
    {
     "data": {
      "text/plain": [
       "array([ 87,  88, 143,  69, 133, 134, 135, 144, 144,  85,  72,  81,  82,\n",
       "        70,  70,  71, 117, 139,  78, 131, 131,  40,  38, 128, 150, 100,\n",
       "       102,  75, 120, 118, 110, 116,   7,  19,  20,  75, 112,  76,  89,\n",
       "       105, 103, 104,  97,  95,   9,   6,   6,   6,  14,  36,  53,  18,\n",
       "         8,  62,  60,  57,  60,  61,  91,  12,  41,  31,  29,   4,  24,\n",
       "        34,  22,  47,  26,   1, 153, 143,  80, 146,  67, 137, 138, 140,\n",
       "       137, 136, 144, 145, 144,  65,  79,  81,  72,  81, 121, 141, 138,\n",
       "       124, 122,  83, 109, 108, 108,  70,  98,  73,  39,  38, 129, 114,\n",
       "       115, 151, 101,  15, 125, 120, 127, 152,   9, 154,  55, 111, 111,\n",
       "        77, 112,  43, 106,  89,  96,  93,   6,   7,   9,  42,  54,   8,\n",
       "        59,  63, 147,  64,  48,  11,  51,  35,  13,  10,  32,  30,  33,\n",
       "       149,   2,  27, 148,   5, 155, 130,  84, 143,  80,  68, 145, 145,\n",
       "       145, 145,  66,  86,  74,  72,  81, 142, 123,  78, 132, 128,  99,\n",
       "       126, 127, 119,  56,  21, 113,  45,  44, 107,  92,  95,  94,   6,\n",
       "        16,  16,  90,  37,  46,  18,  17,  49,  58,  50,  50,  52,  25,\n",
       "        23,  47,   3,  28], dtype=int32)"
      ]
     },
     "execution_count": 10,
     "metadata": {},
     "output_type": "execute_result"
    }
   ],
   "source": [
    "# Clusters derived from the tree using cutoff=0.4\n",
    "tree.clusters"
   ]
  },
  {
   "cell_type": "code",
   "execution_count": 11,
   "metadata": {},
   "outputs": [
    {
     "name": "stdout",
     "output_type": "stream",
     "text": [
      "Cutoff: 0.4 n clusters: 155\n",
      "Cutoff: 0.6 n clusters: 110\n"
     ]
    }
   ],
   "source": [
    "# To pick new clusters without computing a new tree...\n",
    "print(\"Cutoff:\", tree.cutoff, \"n clusters:\", len(set(tree.clusters)))\n",
    "\n",
    "tree.cut_tree(cutoff=0.6)\n",
    "print(\"Cutoff:\", tree.cutoff, \"n clusters:\", len(set(tree.clusters)))\n",
    "\n",
    "# Note that the object's cutoff value is changed."
   ]
  },
  {
   "cell_type": "code",
   "execution_count": 12,
   "metadata": {},
   "outputs": [
    {
     "data": {
      "text/html": [
       "<div>\n",
       "<style scoped>\n",
       "    .dataframe tbody tr th:only-of-type {\n",
       "        vertical-align: middle;\n",
       "    }\n",
       "\n",
       "    .dataframe tbody tr th {\n",
       "        vertical-align: top;\n",
       "    }\n",
       "\n",
       "    .dataframe thead th {\n",
       "        text-align: right;\n",
       "    }\n",
       "</style>\n",
       "<table border=\"1\" class=\"dataframe\">\n",
       "  <thead>\n",
       "    <tr style=\"text-align: right;\">\n",
       "      <th>bins</th>\n",
       "      <th>cluster</th>\n",
       "      <th>100.0246_100.0246_100.0246</th>\n",
       "      <th>100.0394_100.0394_100.0394</th>\n",
       "      <th>100.0759_100.0759_100.0759</th>\n",
       "      <th>100.1122_100.1122_100.1122</th>\n",
       "      <th>100.1311_100.1311_100.1311</th>\n",
       "      <th>100.5562_100.5562_100.5562</th>\n",
       "      <th>100.6662_100.6662_100.6662</th>\n",
       "      <th>101.0235_101.0235_101.0235</th>\n",
       "      <th>101.0598_101.0596_101.0599</th>\n",
       "      <th>...</th>\n",
       "      <th>98.5418_98.5418_98.5418</th>\n",
       "      <th>98.5942_98.5942_98.5942</th>\n",
       "      <th>98.8081_98.8081_98.8081</th>\n",
       "      <th>98.9756_98.9755_98.9757</th>\n",
       "      <th>98.9844_98.9844_98.9845</th>\n",
       "      <th>99.0034_99.0034_99.0034</th>\n",
       "      <th>99.0080_99.0080_99.0080</th>\n",
       "      <th>99.0443_99.0441_99.0445</th>\n",
       "      <th>99.0807_99.0804_99.0809</th>\n",
       "      <th>99.1172_99.1172_99.1172</th>\n",
       "    </tr>\n",
       "    <tr>\n",
       "      <th>sample</th>\n",
       "      <th></th>\n",
       "      <th></th>\n",
       "      <th></th>\n",
       "      <th></th>\n",
       "      <th></th>\n",
       "      <th></th>\n",
       "      <th></th>\n",
       "      <th></th>\n",
       "      <th></th>\n",
       "      <th></th>\n",
       "      <th></th>\n",
       "      <th></th>\n",
       "      <th></th>\n",
       "      <th></th>\n",
       "      <th></th>\n",
       "      <th></th>\n",
       "      <th></th>\n",
       "      <th></th>\n",
       "      <th></th>\n",
       "      <th></th>\n",
       "      <th></th>\n",
       "    </tr>\n",
       "  </thead>\n",
       "  <tbody>\n",
       "    <tr>\n",
       "      <th>QE_2017_001815_613.4826_734.0</th>\n",
       "      <td>1</td>\n",
       "      <td>False</td>\n",
       "      <td>False</td>\n",
       "      <td>False</td>\n",
       "      <td>False</td>\n",
       "      <td>False</td>\n",
       "      <td>False</td>\n",
       "      <td>False</td>\n",
       "      <td>False</td>\n",
       "      <td>False</td>\n",
       "      <td>...</td>\n",
       "      <td>False</td>\n",
       "      <td>False</td>\n",
       "      <td>False</td>\n",
       "      <td>False</td>\n",
       "      <td>False</td>\n",
       "      <td>False</td>\n",
       "      <td>False</td>\n",
       "      <td>False</td>\n",
       "      <td>False</td>\n",
       "      <td>False</td>\n",
       "    </tr>\n",
       "    <tr>\n",
       "      <th>QE_2017_001814_792.56207_723.0</th>\n",
       "      <td>1</td>\n",
       "      <td>False</td>\n",
       "      <td>False</td>\n",
       "      <td>False</td>\n",
       "      <td>False</td>\n",
       "      <td>False</td>\n",
       "      <td>False</td>\n",
       "      <td>False</td>\n",
       "      <td>False</td>\n",
       "      <td>False</td>\n",
       "      <td>...</td>\n",
       "      <td>False</td>\n",
       "      <td>False</td>\n",
       "      <td>False</td>\n",
       "      <td>False</td>\n",
       "      <td>False</td>\n",
       "      <td>False</td>\n",
       "      <td>False</td>\n",
       "      <td>False</td>\n",
       "      <td>False</td>\n",
       "      <td>False</td>\n",
       "    </tr>\n",
       "    <tr>\n",
       "      <th>QE_2017_001816_613.48218_838.0</th>\n",
       "      <td>2</td>\n",
       "      <td>False</td>\n",
       "      <td>False</td>\n",
       "      <td>False</td>\n",
       "      <td>False</td>\n",
       "      <td>False</td>\n",
       "      <td>False</td>\n",
       "      <td>False</td>\n",
       "      <td>False</td>\n",
       "      <td>False</td>\n",
       "      <td>...</td>\n",
       "      <td>False</td>\n",
       "      <td>False</td>\n",
       "      <td>False</td>\n",
       "      <td>False</td>\n",
       "      <td>False</td>\n",
       "      <td>False</td>\n",
       "      <td>False</td>\n",
       "      <td>False</td>\n",
       "      <td>False</td>\n",
       "      <td>False</td>\n",
       "    </tr>\n",
       "    <tr>\n",
       "      <th>QE_2017_001814_596.30963_602.0</th>\n",
       "      <td>3</td>\n",
       "      <td>False</td>\n",
       "      <td>False</td>\n",
       "      <td>False</td>\n",
       "      <td>False</td>\n",
       "      <td>False</td>\n",
       "      <td>False</td>\n",
       "      <td>False</td>\n",
       "      <td>False</td>\n",
       "      <td>False</td>\n",
       "      <td>...</td>\n",
       "      <td>False</td>\n",
       "      <td>False</td>\n",
       "      <td>False</td>\n",
       "      <td>False</td>\n",
       "      <td>False</td>\n",
       "      <td>False</td>\n",
       "      <td>False</td>\n",
       "      <td>False</td>\n",
       "      <td>False</td>\n",
       "      <td>False</td>\n",
       "    </tr>\n",
       "    <tr>\n",
       "      <th>QE_2017_001815_792.5625_866.0</th>\n",
       "      <td>4</td>\n",
       "      <td>False</td>\n",
       "      <td>False</td>\n",
       "      <td>False</td>\n",
       "      <td>False</td>\n",
       "      <td>False</td>\n",
       "      <td>False</td>\n",
       "      <td>False</td>\n",
       "      <td>False</td>\n",
       "      <td>False</td>\n",
       "      <td>...</td>\n",
       "      <td>False</td>\n",
       "      <td>False</td>\n",
       "      <td>False</td>\n",
       "      <td>False</td>\n",
       "      <td>False</td>\n",
       "      <td>False</td>\n",
       "      <td>False</td>\n",
       "      <td>False</td>\n",
       "      <td>False</td>\n",
       "      <td>False</td>\n",
       "    </tr>\n",
       "  </tbody>\n",
       "</table>\n",
       "<p>5 rows × 1923 columns</p>\n",
       "</div>"
      ],
      "text/plain": [
       "bins                            cluster 100.0246_100.0246_100.0246  \\\n",
       "sample                                                               \n",
       "QE_2017_001815_613.4826_734.0         1                      False   \n",
       "QE_2017_001814_792.56207_723.0        1                      False   \n",
       "QE_2017_001816_613.48218_838.0        2                      False   \n",
       "QE_2017_001814_596.30963_602.0        3                      False   \n",
       "QE_2017_001815_792.5625_866.0         4                      False   \n",
       "\n",
       "bins                           100.0394_100.0394_100.0394  \\\n",
       "sample                                                      \n",
       "QE_2017_001815_613.4826_734.0                       False   \n",
       "QE_2017_001814_792.56207_723.0                      False   \n",
       "QE_2017_001816_613.48218_838.0                      False   \n",
       "QE_2017_001814_596.30963_602.0                      False   \n",
       "QE_2017_001815_792.5625_866.0                       False   \n",
       "\n",
       "bins                           100.0759_100.0759_100.0759  \\\n",
       "sample                                                      \n",
       "QE_2017_001815_613.4826_734.0                       False   \n",
       "QE_2017_001814_792.56207_723.0                      False   \n",
       "QE_2017_001816_613.48218_838.0                      False   \n",
       "QE_2017_001814_596.30963_602.0                      False   \n",
       "QE_2017_001815_792.5625_866.0                       False   \n",
       "\n",
       "bins                           100.1122_100.1122_100.1122  \\\n",
       "sample                                                      \n",
       "QE_2017_001815_613.4826_734.0                       False   \n",
       "QE_2017_001814_792.56207_723.0                      False   \n",
       "QE_2017_001816_613.48218_838.0                      False   \n",
       "QE_2017_001814_596.30963_602.0                      False   \n",
       "QE_2017_001815_792.5625_866.0                       False   \n",
       "\n",
       "bins                           100.1311_100.1311_100.1311  \\\n",
       "sample                                                      \n",
       "QE_2017_001815_613.4826_734.0                       False   \n",
       "QE_2017_001814_792.56207_723.0                      False   \n",
       "QE_2017_001816_613.48218_838.0                      False   \n",
       "QE_2017_001814_596.30963_602.0                      False   \n",
       "QE_2017_001815_792.5625_866.0                       False   \n",
       "\n",
       "bins                           100.5562_100.5562_100.5562  \\\n",
       "sample                                                      \n",
       "QE_2017_001815_613.4826_734.0                       False   \n",
       "QE_2017_001814_792.56207_723.0                      False   \n",
       "QE_2017_001816_613.48218_838.0                      False   \n",
       "QE_2017_001814_596.30963_602.0                      False   \n",
       "QE_2017_001815_792.5625_866.0                       False   \n",
       "\n",
       "bins                           100.6662_100.6662_100.6662  \\\n",
       "sample                                                      \n",
       "QE_2017_001815_613.4826_734.0                       False   \n",
       "QE_2017_001814_792.56207_723.0                      False   \n",
       "QE_2017_001816_613.48218_838.0                      False   \n",
       "QE_2017_001814_596.30963_602.0                      False   \n",
       "QE_2017_001815_792.5625_866.0                       False   \n",
       "\n",
       "bins                           101.0235_101.0235_101.0235  \\\n",
       "sample                                                      \n",
       "QE_2017_001815_613.4826_734.0                       False   \n",
       "QE_2017_001814_792.56207_723.0                      False   \n",
       "QE_2017_001816_613.48218_838.0                      False   \n",
       "QE_2017_001814_596.30963_602.0                      False   \n",
       "QE_2017_001815_792.5625_866.0                       False   \n",
       "\n",
       "bins                           101.0598_101.0596_101.0599  \\\n",
       "sample                                                      \n",
       "QE_2017_001815_613.4826_734.0                       False   \n",
       "QE_2017_001814_792.56207_723.0                      False   \n",
       "QE_2017_001816_613.48218_838.0                      False   \n",
       "QE_2017_001814_596.30963_602.0                      False   \n",
       "QE_2017_001815_792.5625_866.0                       False   \n",
       "\n",
       "bins                                     ...            \\\n",
       "sample                                   ...             \n",
       "QE_2017_001815_613.4826_734.0            ...             \n",
       "QE_2017_001814_792.56207_723.0           ...             \n",
       "QE_2017_001816_613.48218_838.0           ...             \n",
       "QE_2017_001814_596.30963_602.0           ...             \n",
       "QE_2017_001815_792.5625_866.0            ...             \n",
       "\n",
       "bins                           98.5418_98.5418_98.5418  \\\n",
       "sample                                                   \n",
       "QE_2017_001815_613.4826_734.0                    False   \n",
       "QE_2017_001814_792.56207_723.0                   False   \n",
       "QE_2017_001816_613.48218_838.0                   False   \n",
       "QE_2017_001814_596.30963_602.0                   False   \n",
       "QE_2017_001815_792.5625_866.0                    False   \n",
       "\n",
       "bins                           98.5942_98.5942_98.5942  \\\n",
       "sample                                                   \n",
       "QE_2017_001815_613.4826_734.0                    False   \n",
       "QE_2017_001814_792.56207_723.0                   False   \n",
       "QE_2017_001816_613.48218_838.0                   False   \n",
       "QE_2017_001814_596.30963_602.0                   False   \n",
       "QE_2017_001815_792.5625_866.0                    False   \n",
       "\n",
       "bins                           98.8081_98.8081_98.8081  \\\n",
       "sample                                                   \n",
       "QE_2017_001815_613.4826_734.0                    False   \n",
       "QE_2017_001814_792.56207_723.0                   False   \n",
       "QE_2017_001816_613.48218_838.0                   False   \n",
       "QE_2017_001814_596.30963_602.0                   False   \n",
       "QE_2017_001815_792.5625_866.0                    False   \n",
       "\n",
       "bins                           98.9756_98.9755_98.9757  \\\n",
       "sample                                                   \n",
       "QE_2017_001815_613.4826_734.0                    False   \n",
       "QE_2017_001814_792.56207_723.0                   False   \n",
       "QE_2017_001816_613.48218_838.0                   False   \n",
       "QE_2017_001814_596.30963_602.0                   False   \n",
       "QE_2017_001815_792.5625_866.0                    False   \n",
       "\n",
       "bins                           98.9844_98.9844_98.9845  \\\n",
       "sample                                                   \n",
       "QE_2017_001815_613.4826_734.0                    False   \n",
       "QE_2017_001814_792.56207_723.0                   False   \n",
       "QE_2017_001816_613.48218_838.0                   False   \n",
       "QE_2017_001814_596.30963_602.0                   False   \n",
       "QE_2017_001815_792.5625_866.0                    False   \n",
       "\n",
       "bins                           99.0034_99.0034_99.0034  \\\n",
       "sample                                                   \n",
       "QE_2017_001815_613.4826_734.0                    False   \n",
       "QE_2017_001814_792.56207_723.0                   False   \n",
       "QE_2017_001816_613.48218_838.0                   False   \n",
       "QE_2017_001814_596.30963_602.0                   False   \n",
       "QE_2017_001815_792.5625_866.0                    False   \n",
       "\n",
       "bins                           99.0080_99.0080_99.0080  \\\n",
       "sample                                                   \n",
       "QE_2017_001815_613.4826_734.0                    False   \n",
       "QE_2017_001814_792.56207_723.0                   False   \n",
       "QE_2017_001816_613.48218_838.0                   False   \n",
       "QE_2017_001814_596.30963_602.0                   False   \n",
       "QE_2017_001815_792.5625_866.0                    False   \n",
       "\n",
       "bins                           99.0443_99.0441_99.0445  \\\n",
       "sample                                                   \n",
       "QE_2017_001815_613.4826_734.0                    False   \n",
       "QE_2017_001814_792.56207_723.0                   False   \n",
       "QE_2017_001816_613.48218_838.0                   False   \n",
       "QE_2017_001814_596.30963_602.0                   False   \n",
       "QE_2017_001815_792.5625_866.0                    False   \n",
       "\n",
       "bins                           99.0807_99.0804_99.0809 99.1172_99.1172_99.1172  \n",
       "sample                                                                          \n",
       "QE_2017_001815_613.4826_734.0                    False                   False  \n",
       "QE_2017_001814_792.56207_723.0                   False                   False  \n",
       "QE_2017_001816_613.48218_838.0                   False                   False  \n",
       "QE_2017_001814_596.30963_602.0                   False                   False  \n",
       "QE_2017_001815_792.5625_866.0                    False                   False  \n",
       "\n",
       "[5 rows x 1923 columns]"
      ]
     },
     "execution_count": 12,
     "metadata": {},
     "output_type": "execute_result"
    }
   ],
   "source": [
    "# Make sure you take a copy to avoid editing the data.\n",
    "oh = tree.onehot_df.copy()\n",
    "oh[\"cluster\"] = tree.clusters\n",
    "\n",
    "# reorder columns\n",
    "oh = oh[[\"cluster\"] + [col for col in oh.columns if col != \"cluster\"]]\n",
    "\n",
    "# Sort values by cluster\n",
    "oh.sort_values(by=\"cluster\", inplace=True)\n",
    "\n",
    "oh.head()"
   ]
  },
  {
   "cell_type": "code",
   "execution_count": 13,
   "metadata": {},
   "outputs": [
    {
     "data": {
      "text/plain": [
       "array([[8.10000000e+01, 1.57000000e+02, 1.81818182e-01, 2.00000000e+00],\n",
       "       [1.10000000e+01, 8.70000000e+01, 1.92307692e-01, 2.00000000e+00],\n",
       "       [8.50000000e+01, 2.00000000e+02, 2.11538462e-01, 3.00000000e+00],\n",
       "       [5.10000000e+01, 1.87000000e+02, 2.37623762e-01, 2.00000000e+00],\n",
       "       [4.60000000e+01, 1.81000000e+02, 2.60000000e-01, 2.00000000e+00],\n",
       "       [3.60000000e+01, 1.18000000e+02, 2.60869565e-01, 2.00000000e+00]])"
      ]
     },
     "execution_count": 13,
     "metadata": {},
     "output_type": "execute_result"
    }
   ],
   "source": [
    "# Linkage tree from scipy.\n",
    "tree.tree[:6]"
   ]
  },
  {
   "cell_type": "code",
   "execution_count": 14,
   "metadata": {
    "collapsed": true
   },
   "outputs": [],
   "source": [
    "# Generate the plots of clusters.\n",
    "os.makedirs(\"results\", exist_ok=True)\n",
    "\n",
    "tree.write_summaries(path=\"results\")"
   ]
  },
  {
   "cell_type": "code",
   "execution_count": 15,
   "metadata": {},
   "outputs": [
    {
     "name": "stdout",
     "output_type": "stream",
     "text": [
      "total 13760\r\n",
      "-rw-rw-r--. 1 darcyabjones darcyabjones    4493 Jun  4 13:02 cluster_100_9.csv\r\n",
      "-rw-rw-r--. 1 darcyabjones darcyabjones  140867 Jun  4 13:02 cluster_100_9.png\r\n",
      "-rw-rw-r--. 1 darcyabjones darcyabjones     877 Jun  4 13:02 cluster_101_1.csv\r\n",
      "-rw-rw-r--. 1 darcyabjones darcyabjones   74004 Jun  4 13:02 cluster_101_1.png\r\n",
      "-rw-rw-r--. 1 darcyabjones darcyabjones     614 Jun  4 13:02 cluster_102_1.csv\r\n",
      "-rw-rw-r--. 1 darcyabjones darcyabjones   57197 Jun  4 13:02 cluster_102_1.png\r\n",
      "-rw-rw-r--. 1 darcyabjones darcyabjones     759 Jun  4 13:02 cluster_103_1.csv\r\n",
      "-rw-rw-r--. 1 darcyabjones darcyabjones   72163 Jun  4 13:02 cluster_103_1.png\r\n",
      "-rw-rw-r--. 1 darcyabjones darcyabjones    3491 Jun  4 13:02 cluster_10_3.csv\r\n",
      "ls: write error: Broken pipe\r\n"
     ]
    }
   ],
   "source": [
    "! ls -l results | head"
   ]
  },
  {
   "cell_type": "code",
   "execution_count": 16,
   "metadata": {
    "collapsed": true
   },
   "outputs": [],
   "source": [
    "# To write out the tree.\n",
    "#iplot = tree.iplot(filename=\"simple_dendrogram.html\")\n",
    "\n",
    "iplot = tree.iplot(width=900, height=500)"
   ]
  },
  {
   "cell_type": "code",
   "execution_count": 17,
   "metadata": {},
   "outputs": [
    {
     "data": {
      "text/html": [
       "<script>requirejs.config({paths: { 'plotly': ['https://cdn.plot.ly/plotly-latest.min']},});if(!window.Plotly) {{require(['plotly'],function(plotly) {window.Plotly=plotly;});}}</script>"
      ],
      "text/vnd.plotly.v1+html": [
       "<script>requirejs.config({paths: { 'plotly': ['https://cdn.plot.ly/plotly-latest.min']},});if(!window.Plotly) {{require(['plotly'],function(plotly) {window.Plotly=plotly;});}}</script>"
      ]
     },
     "metadata": {},
     "output_type": "display_data"
    },
    {
     "data": {
      "application/vnd.plotly.v1+json": {
       "data": [
        {
         "hoverinfo": "all",
         "marker": {
          "color": "rgb(61,153,112)"
         },
         "mode": "lines",
         "text": null,
         "type": "scatter",
         "x": [
          35,
          35,
          45,
          45
         ],
         "xaxis": "x",
         "y": [
          0,
          0.5774647887323944,
          0.5774647887323944,
          0
         ],
         "yaxis": "y"
        },
        {
         "hoverinfo": "all",
         "marker": {
          "color": "rgb(0,116,217)"
         },
         "mode": "lines",
         "text": null,
         "type": "scatter",
         "x": [
          25,
          25,
          40,
          40
         ],
         "xaxis": "x",
         "y": [
          0,
          0.6142857142857143,
          0.6142857142857143,
          0.5774647887323944
         ],
         "yaxis": "y"
        },
        {
         "hoverinfo": "all",
         "marker": {
          "color": "rgb(0,116,217)"
         },
         "mode": "lines",
         "text": null,
         "type": "scatter",
         "x": [
          15,
          15,
          32.5,
          32.5
         ],
         "xaxis": "x",
         "y": [
          0,
          0.7049180327868853,
          0.7049180327868853,
          0.6142857142857143
         ],
         "yaxis": "y"
        },
        {
         "hoverinfo": "all",
         "marker": {
          "color": "rgb(0,116,217)"
         },
         "mode": "lines",
         "text": null,
         "type": "scatter",
         "x": [
          5,
          5,
          23.75,
          23.75
         ],
         "xaxis": "x",
         "y": [
          0,
          0.7613636363636364,
          0.7613636363636364,
          0.7049180327868853
         ],
         "yaxis": "y"
        },
        {
         "hoverinfo": "all",
         "marker": {
          "color": "rgb(255,65,54)"
         },
         "mode": "lines",
         "text": null,
         "type": "scatter",
         "x": [
          105,
          105,
          115,
          115
         ],
         "xaxis": "x",
         "y": [
          0,
          0.2549019607843137,
          0.2549019607843137,
          0
         ],
         "yaxis": "y"
        },
        {
         "hoverinfo": "all",
         "marker": {
          "color": "rgb(255,65,54)"
         },
         "mode": "lines",
         "text": null,
         "type": "scatter",
         "x": [
          95,
          95,
          110,
          110
         ],
         "xaxis": "x",
         "y": [
          0,
          0.2777777777777778,
          0.2777777777777778,
          0.2549019607843137
         ],
         "yaxis": "y"
        },
        {
         "hoverinfo": "all",
         "marker": {
          "color": "rgb(255,65,54)"
         },
         "mode": "lines",
         "text": null,
         "type": "scatter",
         "x": [
          125,
          125,
          135,
          135
         ],
         "xaxis": "x",
         "y": [
          0,
          0.28125,
          0.28125,
          0
         ],
         "yaxis": "y"
        },
        {
         "hoverinfo": "all",
         "marker": {
          "color": "rgb(255,65,54)"
         },
         "mode": "lines",
         "text": null,
         "type": "scatter",
         "x": [
          102.5,
          102.5,
          130,
          130
         ],
         "xaxis": "x",
         "y": [
          0.2777777777777778,
          0.3333333333333333,
          0.3333333333333333,
          0.28125
         ],
         "yaxis": "y"
        },
        {
         "hoverinfo": "all",
         "marker": {
          "color": "rgb(255,65,54)"
         },
         "mode": "lines",
         "text": null,
         "type": "scatter",
         "x": [
          145,
          145,
          155,
          155
         ],
         "xaxis": "x",
         "y": [
          0,
          0.36923076923076925,
          0.36923076923076925,
          0
         ],
         "yaxis": "y"
        },
        {
         "hoverinfo": "all",
         "marker": {
          "color": "rgb(255,65,54)"
         },
         "mode": "lines",
         "text": null,
         "type": "scatter",
         "x": [
          116.25,
          116.25,
          150,
          150
         ],
         "xaxis": "x",
         "y": [
          0.3333333333333333,
          0.4057971014492754,
          0.4057971014492754,
          0.36923076923076925
         ],
         "yaxis": "y"
        },
        {
         "hoverinfo": "all",
         "marker": {
          "color": "rgb(255,65,54)"
         },
         "mode": "lines",
         "text": null,
         "type": "scatter",
         "x": [
          165,
          165,
          175,
          175
         ],
         "xaxis": "x",
         "y": [
          0,
          0.2698412698412698,
          0.2698412698412698,
          0
         ],
         "yaxis": "y"
        },
        {
         "hoverinfo": "all",
         "marker": {
          "color": "rgb(255,65,54)"
         },
         "mode": "lines",
         "text": null,
         "type": "scatter",
         "x": [
          195,
          195,
          205,
          205
         ],
         "xaxis": "x",
         "y": [
          0,
          0.28846153846153844,
          0.28846153846153844,
          0
         ],
         "yaxis": "y"
        },
        {
         "hoverinfo": "all",
         "marker": {
          "color": "rgb(255,65,54)"
         },
         "mode": "lines",
         "text": null,
         "type": "scatter",
         "x": [
          185,
          185,
          200,
          200
         ],
         "xaxis": "x",
         "y": [
          0,
          0.37735849056603776,
          0.37735849056603776,
          0.28846153846153844
         ],
         "yaxis": "y"
        },
        {
         "hoverinfo": "all",
         "marker": {
          "color": "rgb(255,65,54)"
         },
         "mode": "lines",
         "text": null,
         "type": "scatter",
         "x": [
          170,
          170,
          192.5,
          192.5
         ],
         "xaxis": "x",
         "y": [
          0.2698412698412698,
          0.4262295081967213,
          0.4262295081967213,
          0.37735849056603776
         ],
         "yaxis": "y"
        },
        {
         "hoverinfo": "all",
         "marker": {
          "color": "rgb(255,65,54)"
         },
         "mode": "lines",
         "text": null,
         "type": "scatter",
         "x": [
          133.125,
          133.125,
          181.25,
          181.25
         ],
         "xaxis": "x",
         "y": [
          0.4057971014492754,
          0.45454545454545453,
          0.45454545454545453,
          0.4262295081967213
         ],
         "yaxis": "y"
        },
        {
         "hoverinfo": "all",
         "marker": {
          "color": "rgb(255,65,54)"
         },
         "mode": "lines",
         "text": null,
         "type": "scatter",
         "x": [
          85,
          85,
          157.1875,
          157.1875
         ],
         "xaxis": "x",
         "y": [
          0,
          0.4925373134328358,
          0.4925373134328358,
          0.45454545454545453
         ],
         "yaxis": "y"
        },
        {
         "hoverinfo": "all",
         "marker": {
          "color": "rgb(255,65,54)"
         },
         "mode": "lines",
         "text": null,
         "type": "scatter",
         "x": [
          75,
          75,
          121.09375,
          121.09375
         ],
         "xaxis": "x",
         "y": [
          0,
          0.5652173913043478,
          0.5652173913043478,
          0.4925373134328358
         ],
         "yaxis": "y"
        },
        {
         "hoverinfo": "all",
         "marker": {
          "color": "rgb(0,116,217)"
         },
         "mode": "lines",
         "text": null,
         "type": "scatter",
         "x": [
          65,
          65,
          98.046875,
          98.046875
         ],
         "xaxis": "x",
         "y": [
          0,
          0.6904761904761905,
          0.6904761904761905,
          0.5652173913043478
         ],
         "yaxis": "y"
        },
        {
         "hoverinfo": "all",
         "marker": {
          "color": "rgb(0,116,217)"
         },
         "mode": "lines",
         "text": null,
         "type": "scatter",
         "x": [
          55,
          55,
          81.5234375,
          81.5234375
         ],
         "xaxis": "x",
         "y": [
          0,
          0.7981651376146789,
          0.7981651376146789,
          0.6904761904761905
         ],
         "yaxis": "y"
        },
        {
         "hoverinfo": "all",
         "marker": {
          "color": "rgb(0,116,217)"
         },
         "mode": "lines",
         "text": null,
         "type": "scatter",
         "x": [
          225,
          225,
          235,
          235
         ],
         "xaxis": "x",
         "y": [
          0,
          0.609375,
          0.609375,
          0
         ],
         "yaxis": "y"
        },
        {
         "hoverinfo": "all",
         "marker": {
          "color": "rgb(35,205,205)"
         },
         "mode": "lines",
         "text": null,
         "type": "scatter",
         "x": [
          255,
          255,
          265,
          265
         ],
         "xaxis": "x",
         "y": [
          0,
          0.36764705882352944,
          0.36764705882352944,
          0
         ],
         "yaxis": "y"
        },
        {
         "hoverinfo": "all",
         "marker": {
          "color": "rgb(35,205,205)"
         },
         "mode": "lines",
         "text": null,
         "type": "scatter",
         "x": [
          245,
          245,
          260,
          260
         ],
         "xaxis": "x",
         "y": [
          0,
          0.5342465753424658,
          0.5342465753424658,
          0.36764705882352944
         ],
         "yaxis": "y"
        },
        {
         "hoverinfo": "all",
         "marker": {
          "color": "rgb(133,20,75)"
         },
         "mode": "lines",
         "text": null,
         "type": "scatter",
         "x": [
          275,
          275,
          285,
          285
         ],
         "xaxis": "x",
         "y": [
          0,
          0.23529411764705882,
          0.23529411764705882,
          0
         ],
         "yaxis": "y"
        },
        {
         "hoverinfo": "all",
         "marker": {
          "color": "rgb(133,20,75)"
         },
         "mode": "lines",
         "text": null,
         "type": "scatter",
         "x": [
          295,
          295,
          305,
          305
         ],
         "xaxis": "x",
         "y": [
          0,
          0.4444444444444444,
          0.4444444444444444,
          0
         ],
         "yaxis": "y"
        },
        {
         "hoverinfo": "all",
         "marker": {
          "color": "rgb(133,20,75)"
         },
         "mode": "lines",
         "text": null,
         "type": "scatter",
         "x": [
          280,
          280,
          300,
          300
         ],
         "xaxis": "x",
         "y": [
          0.23529411764705882,
          0.5585585585585585,
          0.5585585585585585,
          0.4444444444444444
         ],
         "yaxis": "y"
        },
        {
         "hoverinfo": "all",
         "marker": {
          "color": "rgb(0,116,217)"
         },
         "mode": "lines",
         "text": null,
         "type": "scatter",
         "x": [
          252.5,
          252.5,
          290,
          290
         ],
         "xaxis": "x",
         "y": [
          0.5342465753424658,
          0.6902654867256637,
          0.6902654867256637,
          0.5585585585585585
         ],
         "yaxis": "y"
        },
        {
         "hoverinfo": "all",
         "marker": {
          "color": "rgb(0,116,217)"
         },
         "mode": "lines",
         "text": null,
         "type": "scatter",
         "x": [
          230,
          230,
          271.25,
          271.25
         ],
         "xaxis": "x",
         "y": [
          0.609375,
          0.7619047619047619,
          0.7619047619047619,
          0.6902654867256637
         ],
         "yaxis": "y"
        },
        {
         "hoverinfo": "all",
         "marker": {
          "color": "rgb(0,116,217)"
         },
         "mode": "lines",
         "text": null,
         "type": "scatter",
         "x": [
          215,
          215,
          250.625,
          250.625
         ],
         "xaxis": "x",
         "y": [
          0,
          0.8266666666666667,
          0.8266666666666667,
          0.7619047619047619
         ],
         "yaxis": "y"
        },
        {
         "hoverinfo": "all",
         "marker": {
          "color": "rgb(0,116,217)"
         },
         "mode": "lines",
         "text": null,
         "type": "scatter",
         "x": [
          68.26171875,
          68.26171875,
          232.8125,
          232.8125
         ],
         "xaxis": "x",
         "y": [
          0.7981651376146789,
          0.8712871287128713,
          0.8712871287128713,
          0.8266666666666667
         ],
         "yaxis": "y"
        },
        {
         "hoverinfo": "all",
         "marker": {
          "color": "rgb(0,116,217)"
         },
         "mode": "lines",
         "text": null,
         "type": "scatter",
         "x": [
          14.375,
          14.375,
          150.537109375,
          150.537109375
         ],
         "xaxis": "x",
         "y": [
          0.7613636363636364,
          0.9014084507042254,
          0.9014084507042254,
          0.8712871287128713
         ],
         "yaxis": "y"
        },
        {
         "hoverinfo": "all",
         "marker": {
          "color": "rgb(0,116,217)"
         },
         "mode": "lines",
         "text": null,
         "type": "scatter",
         "x": [
          345,
          345,
          355,
          355
         ],
         "xaxis": "x",
         "y": [
          0,
          0.6336633663366337,
          0.6336633663366337,
          0
         ],
         "yaxis": "y"
        },
        {
         "hoverinfo": "all",
         "marker": {
          "color": "rgb(0,116,217)"
         },
         "mode": "lines",
         "text": null,
         "type": "scatter",
         "x": [
          335,
          335,
          350,
          350
         ],
         "xaxis": "x",
         "y": [
          0,
          0.6629213483146067,
          0.6629213483146067,
          0.6336633663366337
         ],
         "yaxis": "y"
        },
        {
         "hoverinfo": "all",
         "marker": {
          "color": "rgb(0,116,217)"
         },
         "mode": "lines",
         "text": null,
         "type": "scatter",
         "x": [
          325,
          325,
          342.5,
          342.5
         ],
         "xaxis": "x",
         "y": [
          0,
          0.7604166666666666,
          0.7604166666666666,
          0.6629213483146067
         ],
         "yaxis": "y"
        },
        {
         "hoverinfo": "all",
         "marker": {
          "color": "rgb(0,116,217)"
         },
         "mode": "lines",
         "text": null,
         "type": "scatter",
         "x": [
          315,
          315,
          333.75,
          333.75
         ],
         "xaxis": "x",
         "y": [
          0,
          0.8023255813953488,
          0.8023255813953488,
          0.7604166666666666
         ],
         "yaxis": "y"
        },
        {
         "hoverinfo": "all",
         "marker": {
          "color": "rgb(255,220,0)"
         },
         "mode": "lines",
         "text": null,
         "type": "scatter",
         "x": [
          365,
          365,
          375,
          375
         ],
         "xaxis": "x",
         "y": [
          0,
          0.4713114754098361,
          0.4713114754098361,
          0
         ],
         "yaxis": "y"
        },
        {
         "hoverinfo": "all",
         "marker": {
          "color": "rgb(40,35,35)"
         },
         "mode": "lines",
         "text": null,
         "type": "scatter",
         "x": [
          405,
          405,
          415,
          415
         ],
         "xaxis": "x",
         "y": [
          0,
          0.5222222222222223,
          0.5222222222222223,
          0
         ],
         "yaxis": "y"
        },
        {
         "hoverinfo": "all",
         "marker": {
          "color": "rgb(0,116,217)"
         },
         "mode": "lines",
         "text": null,
         "type": "scatter",
         "x": [
          395,
          395,
          410,
          410
         ],
         "xaxis": "x",
         "y": [
          0,
          0.6097560975609756,
          0.6097560975609756,
          0.5222222222222223
         ],
         "yaxis": "y"
        },
        {
         "hoverinfo": "all",
         "marker": {
          "color": "rgb(61,153,112)"
         },
         "mode": "lines",
         "text": null,
         "type": "scatter",
         "x": [
          435,
          435,
          445,
          445
         ],
         "xaxis": "x",
         "y": [
          0,
          0.524822695035461,
          0.524822695035461,
          0
         ],
         "yaxis": "y"
        },
        {
         "hoverinfo": "all",
         "marker": {
          "color": "rgb(0,116,217)"
         },
         "mode": "lines",
         "text": null,
         "type": "scatter",
         "x": [
          425,
          425,
          440,
          440
         ],
         "xaxis": "x",
         "y": [
          0,
          0.6983240223463687,
          0.6983240223463687,
          0.524822695035461
         ],
         "yaxis": "y"
        },
        {
         "hoverinfo": "all",
         "marker": {
          "color": "rgb(0,116,217)"
         },
         "mode": "lines",
         "text": null,
         "type": "scatter",
         "x": [
          402.5,
          402.5,
          432.5,
          432.5
         ],
         "xaxis": "x",
         "y": [
          0.6097560975609756,
          0.7364341085271318,
          0.7364341085271318,
          0.6983240223463687
         ],
         "yaxis": "y"
        },
        {
         "hoverinfo": "all",
         "marker": {
          "color": "rgb(0,116,217)"
         },
         "mode": "lines",
         "text": null,
         "type": "scatter",
         "x": [
          385,
          385,
          417.5,
          417.5
         ],
         "xaxis": "x",
         "y": [
          0,
          0.7661290322580645,
          0.7661290322580645,
          0.7364341085271318
         ],
         "yaxis": "y"
        },
        {
         "hoverinfo": "all",
         "marker": {
          "color": "rgb(0,116,217)"
         },
         "mode": "lines",
         "text": null,
         "type": "scatter",
         "x": [
          370,
          370,
          401.25,
          401.25
         ],
         "xaxis": "x",
         "y": [
          0.4713114754098361,
          0.8212765957446808,
          0.8212765957446808,
          0.7661290322580645
         ],
         "yaxis": "y"
        },
        {
         "hoverinfo": "all",
         "marker": {
          "color": "rgb(0,116,217)"
         },
         "mode": "lines",
         "text": null,
         "type": "scatter",
         "x": [
          324.375,
          324.375,
          385.625,
          385.625
         ],
         "xaxis": "x",
         "y": [
          0.8023255813953488,
          0.9403973509933775,
          0.9403973509933775,
          0.8212765957446808
         ],
         "yaxis": "y"
        },
        {
         "hoverinfo": "all",
         "marker": {
          "color": "rgb(0,116,217)"
         },
         "mode": "lines",
         "text": null,
         "type": "scatter",
         "x": [
          82.4560546875,
          82.4560546875,
          355,
          355
         ],
         "xaxis": "x",
         "y": [
          0.9014084507042254,
          0.9705882352941176,
          0.9705882352941176,
          0.9403973509933775
         ],
         "yaxis": "y"
        },
        {
         "hoverinfo": "all",
         "marker": {
          "color": "rgb(255,65,54)"
         },
         "mode": "lines",
         "text": null,
         "type": "scatter",
         "x": [
          465,
          465,
          475,
          475
         ],
         "xaxis": "x",
         "y": [
          0,
          0.4230769230769231,
          0.4230769230769231,
          0
         ],
         "yaxis": "y"
        },
        {
         "hoverinfo": "all",
         "marker": {
          "color": "rgb(35,205,205)"
         },
         "mode": "lines",
         "text": null,
         "type": "scatter",
         "x": [
          505,
          505,
          515,
          515
         ],
         "xaxis": "x",
         "y": [
          0,
          0.375,
          0.375,
          0
         ],
         "yaxis": "y"
        },
        {
         "hoverinfo": "all",
         "marker": {
          "color": "rgb(35,205,205)"
         },
         "mode": "lines",
         "text": null,
         "type": "scatter",
         "x": [
          495,
          495,
          510,
          510
         ],
         "xaxis": "x",
         "y": [
          0,
          0.391304347826087,
          0.391304347826087,
          0.375
         ],
         "yaxis": "y"
        },
        {
         "hoverinfo": "all",
         "marker": {
          "color": "rgb(35,205,205)"
         },
         "mode": "lines",
         "text": null,
         "type": "scatter",
         "x": [
          485,
          485,
          502.5,
          502.5
         ],
         "xaxis": "x",
         "y": [
          0,
          0.5,
          0.5,
          0.391304347826087
         ],
         "yaxis": "y"
        },
        {
         "hoverinfo": "all",
         "marker": {
          "color": "rgb(0,116,217)"
         },
         "mode": "lines",
         "text": null,
         "type": "scatter",
         "x": [
          470,
          470,
          493.75,
          493.75
         ],
         "xaxis": "x",
         "y": [
          0.4230769230769231,
          0.7878787878787878,
          0.7878787878787878,
          0.5
         ],
         "yaxis": "y"
        },
        {
         "hoverinfo": "all",
         "marker": {
          "color": "rgb(0,116,217)"
         },
         "mode": "lines",
         "text": null,
         "type": "scatter",
         "x": [
          525,
          525,
          535,
          535
         ],
         "xaxis": "x",
         "y": [
          0,
          0.6981132075471698,
          0.6981132075471698,
          0
         ],
         "yaxis": "y"
        },
        {
         "hoverinfo": "all",
         "marker": {
          "color": "rgb(133,20,75)"
         },
         "mode": "lines",
         "text": null,
         "type": "scatter",
         "x": [
          545,
          545,
          555,
          555
         ],
         "xaxis": "x",
         "y": [
          0,
          0.4074074074074074,
          0.4074074074074074,
          0
         ],
         "yaxis": "y"
        },
        {
         "hoverinfo": "all",
         "marker": {
          "color": "rgb(0,116,217)"
         },
         "mode": "lines",
         "text": null,
         "type": "scatter",
         "x": [
          565,
          565,
          575,
          575
         ],
         "xaxis": "x",
         "y": [
          0,
          0.6896551724137931,
          0.6896551724137931,
          0
         ],
         "yaxis": "y"
        },
        {
         "hoverinfo": "all",
         "marker": {
          "color": "rgb(0,116,217)"
         },
         "mode": "lines",
         "text": null,
         "type": "scatter",
         "x": [
          550,
          550,
          570,
          570
         ],
         "xaxis": "x",
         "y": [
          0.4074074074074074,
          0.7567567567567568,
          0.7567567567567568,
          0.6896551724137931
         ],
         "yaxis": "y"
        },
        {
         "hoverinfo": "all",
         "marker": {
          "color": "rgb(0,116,217)"
         },
         "mode": "lines",
         "text": null,
         "type": "scatter",
         "x": [
          530,
          530,
          560,
          560
         ],
         "xaxis": "x",
         "y": [
          0.6981132075471698,
          0.8604651162790697,
          0.8604651162790697,
          0.7567567567567568
         ],
         "yaxis": "y"
        },
        {
         "hoverinfo": "all",
         "marker": {
          "color": "rgb(0,116,217)"
         },
         "mode": "lines",
         "text": null,
         "type": "scatter",
         "x": [
          481.875,
          481.875,
          545,
          545
         ],
         "xaxis": "x",
         "y": [
          0.7878787878787878,
          0.88,
          0.88,
          0.8604651162790697
         ],
         "yaxis": "y"
        },
        {
         "hoverinfo": "all",
         "marker": {
          "color": "rgb(255,220,0)"
         },
         "mode": "lines",
         "text": null,
         "type": "scatter",
         "x": [
          595,
          595,
          605,
          605
         ],
         "xaxis": "x",
         "y": [
          0,
          0.36363636363636365,
          0.36363636363636365,
          0
         ],
         "yaxis": "y"
        },
        {
         "hoverinfo": "all",
         "marker": {
          "color": "rgb(0,116,217)"
         },
         "mode": "lines",
         "text": null,
         "type": "scatter",
         "x": [
          585,
          585,
          600,
          600
         ],
         "xaxis": "x",
         "y": [
          0,
          0.926829268292683,
          0.926829268292683,
          0.36363636363636365
         ],
         "yaxis": "y"
        },
        {
         "hoverinfo": "all",
         "marker": {
          "color": "rgb(0,116,217)"
         },
         "mode": "lines",
         "text": null,
         "type": "scatter",
         "x": [
          513.4375,
          513.4375,
          592.5,
          592.5
         ],
         "xaxis": "x",
         "y": [
          0.88,
          0.9473684210526315,
          0.9473684210526315,
          0.926829268292683
         ],
         "yaxis": "y"
        },
        {
         "hoverinfo": "all",
         "marker": {
          "color": "rgb(0,116,217)"
         },
         "mode": "lines",
         "text": null,
         "type": "scatter",
         "x": [
          455,
          455,
          552.96875,
          552.96875
         ],
         "xaxis": "x",
         "y": [
          0,
          0.9705882352941176,
          0.9705882352941176,
          0.9473684210526315
         ],
         "yaxis": "y"
        },
        {
         "hoverinfo": "all",
         "marker": {
          "color": "rgb(40,35,35)"
         },
         "mode": "lines",
         "text": null,
         "type": "scatter",
         "x": [
          615,
          615,
          625,
          625
         ],
         "xaxis": "x",
         "y": [
          0,
          0.36231884057971014,
          0.36231884057971014,
          0
         ],
         "yaxis": "y"
        },
        {
         "hoverinfo": "all",
         "marker": {
          "color": "rgb(40,35,35)"
         },
         "mode": "lines",
         "text": null,
         "type": "scatter",
         "x": [
          635,
          635,
          645,
          645
         ],
         "xaxis": "x",
         "y": [
          0,
          0.44776119402985076,
          0.44776119402985076,
          0
         ],
         "yaxis": "y"
        },
        {
         "hoverinfo": "all",
         "marker": {
          "color": "rgb(40,35,35)"
         },
         "mode": "lines",
         "text": null,
         "type": "scatter",
         "x": [
          620,
          620,
          640,
          640
         ],
         "xaxis": "x",
         "y": [
          0.36231884057971014,
          0.4931506849315068,
          0.4931506849315068,
          0.44776119402985076
         ],
         "yaxis": "y"
        },
        {
         "hoverinfo": "all",
         "marker": {
          "color": "rgb(61,153,112)"
         },
         "mode": "lines",
         "text": null,
         "type": "scatter",
         "x": [
          655,
          655,
          665,
          665
         ],
         "xaxis": "x",
         "y": [
          0,
          0.5,
          0.5,
          0
         ],
         "yaxis": "y"
        },
        {
         "hoverinfo": "all",
         "marker": {
          "color": "rgb(0,116,217)"
         },
         "mode": "lines",
         "text": null,
         "type": "scatter",
         "x": [
          630,
          630,
          660,
          660
         ],
         "xaxis": "x",
         "y": [
          0.4931506849315068,
          0.8817204301075269,
          0.8817204301075269,
          0.5
         ],
         "yaxis": "y"
        },
        {
         "hoverinfo": "all",
         "marker": {
          "color": "rgb(255,65,54)"
         },
         "mode": "lines",
         "text": null,
         "type": "scatter",
         "x": [
          675,
          675,
          685,
          685
         ],
         "xaxis": "x",
         "y": [
          0,
          0.4117647058823529,
          0.4117647058823529,
          0
         ],
         "yaxis": "y"
        },
        {
         "hoverinfo": "all",
         "marker": {
          "color": "rgb(35,205,205)"
         },
         "mode": "lines",
         "text": null,
         "type": "scatter",
         "x": [
          705,
          705,
          715,
          715
         ],
         "xaxis": "x",
         "y": [
          0,
          0.42857142857142855,
          0.42857142857142855,
          0
         ],
         "yaxis": "y"
        },
        {
         "hoverinfo": "all",
         "marker": {
          "color": "rgb(0,116,217)"
         },
         "mode": "lines",
         "text": null,
         "type": "scatter",
         "x": [
          695,
          695,
          710,
          710
         ],
         "xaxis": "x",
         "y": [
          0,
          0.7058823529411765,
          0.7058823529411765,
          0.42857142857142855
         ],
         "yaxis": "y"
        },
        {
         "hoverinfo": "all",
         "marker": {
          "color": "rgb(133,20,75)"
         },
         "mode": "lines",
         "text": null,
         "type": "scatter",
         "x": [
          745,
          745,
          755,
          755
         ],
         "xaxis": "x",
         "y": [
          0,
          0.35714285714285715,
          0.35714285714285715,
          0
         ],
         "yaxis": "y"
        },
        {
         "hoverinfo": "all",
         "marker": {
          "color": "rgb(133,20,75)"
         },
         "mode": "lines",
         "text": null,
         "type": "scatter",
         "x": [
          735,
          735,
          750,
          750
         ],
         "xaxis": "x",
         "y": [
          0,
          0.47058823529411764,
          0.47058823529411764,
          0.35714285714285715
         ],
         "yaxis": "y"
        },
        {
         "hoverinfo": "all",
         "marker": {
          "color": "rgb(0,116,217)"
         },
         "mode": "lines",
         "text": null,
         "type": "scatter",
         "x": [
          725,
          725,
          742.5,
          742.5
         ],
         "xaxis": "x",
         "y": [
          0,
          0.631578947368421,
          0.631578947368421,
          0.47058823529411764
         ],
         "yaxis": "y"
        },
        {
         "hoverinfo": "all",
         "marker": {
          "color": "rgb(0,116,217)"
         },
         "mode": "lines",
         "text": null,
         "type": "scatter",
         "x": [
          765,
          765,
          775,
          775
         ],
         "xaxis": "x",
         "y": [
          0,
          0.725,
          0.725,
          0
         ],
         "yaxis": "y"
        },
        {
         "hoverinfo": "all",
         "marker": {
          "color": "rgb(0,116,217)"
         },
         "mode": "lines",
         "text": null,
         "type": "scatter",
         "x": [
          733.75,
          733.75,
          770,
          770
         ],
         "xaxis": "x",
         "y": [
          0.631578947368421,
          0.7407407407407407,
          0.7407407407407407,
          0.725
         ],
         "yaxis": "y"
        },
        {
         "hoverinfo": "all",
         "marker": {
          "color": "rgb(0,116,217)"
         },
         "mode": "lines",
         "text": null,
         "type": "scatter",
         "x": [
          702.5,
          702.5,
          751.875,
          751.875
         ],
         "xaxis": "x",
         "y": [
          0.7058823529411765,
          0.85,
          0.85,
          0.7407407407407407
         ],
         "yaxis": "y"
        },
        {
         "hoverinfo": "all",
         "marker": {
          "color": "rgb(0,116,217)"
         },
         "mode": "lines",
         "text": null,
         "type": "scatter",
         "x": [
          680,
          680,
          727.1875,
          727.1875
         ],
         "xaxis": "x",
         "y": [
          0.4117647058823529,
          0.9818181818181818,
          0.9818181818181818,
          0.85
         ],
         "yaxis": "y"
        },
        {
         "hoverinfo": "all",
         "marker": {
          "color": "rgb(255,220,0)"
         },
         "mode": "lines",
         "text": null,
         "type": "scatter",
         "x": [
          785,
          785,
          795,
          795
         ],
         "xaxis": "x",
         "y": [
          0,
          0.47540983606557374,
          0.47540983606557374,
          0
         ],
         "yaxis": "y"
        },
        {
         "hoverinfo": "all",
         "marker": {
          "color": "rgb(40,35,35)"
         },
         "mode": "lines",
         "text": null,
         "type": "scatter",
         "x": [
          815,
          815,
          825,
          825
         ],
         "xaxis": "x",
         "y": [
          0,
          0.423728813559322,
          0.423728813559322,
          0
         ],
         "yaxis": "y"
        },
        {
         "hoverinfo": "all",
         "marker": {
          "color": "rgb(40,35,35)"
         },
         "mode": "lines",
         "text": null,
         "type": "scatter",
         "x": [
          805,
          805,
          820,
          820
         ],
         "xaxis": "x",
         "y": [
          0,
          0.49019607843137253,
          0.49019607843137253,
          0.423728813559322
         ],
         "yaxis": "y"
        },
        {
         "hoverinfo": "all",
         "marker": {
          "color": "rgb(61,153,112)"
         },
         "mode": "lines",
         "text": null,
         "type": "scatter",
         "x": [
          855,
          855,
          865,
          865
         ],
         "xaxis": "x",
         "y": [
          0,
          0.30612244897959184,
          0.30612244897959184,
          0
         ],
         "yaxis": "y"
        },
        {
         "hoverinfo": "all",
         "marker": {
          "color": "rgb(61,153,112)"
         },
         "mode": "lines",
         "text": null,
         "type": "scatter",
         "x": [
          845,
          845,
          860,
          860
         ],
         "xaxis": "x",
         "y": [
          0,
          0.3728813559322034,
          0.3728813559322034,
          0.30612244897959184
         ],
         "yaxis": "y"
        },
        {
         "hoverinfo": "all",
         "marker": {
          "color": "rgb(61,153,112)"
         },
         "mode": "lines",
         "text": null,
         "type": "scatter",
         "x": [
          835,
          835,
          852.5,
          852.5
         ],
         "xaxis": "x",
         "y": [
          0,
          0.5,
          0.5,
          0.3728813559322034
         ],
         "yaxis": "y"
        },
        {
         "hoverinfo": "all",
         "marker": {
          "color": "rgb(0,116,217)"
         },
         "mode": "lines",
         "text": null,
         "type": "scatter",
         "x": [
          812.5,
          812.5,
          843.75,
          843.75
         ],
         "xaxis": "x",
         "y": [
          0.49019607843137253,
          0.6862745098039216,
          0.6862745098039216,
          0.5
         ],
         "yaxis": "y"
        },
        {
         "hoverinfo": "all",
         "marker": {
          "color": "rgb(0,116,217)"
         },
         "mode": "lines",
         "text": null,
         "type": "scatter",
         "x": [
          790,
          790,
          828.125,
          828.125
         ],
         "xaxis": "x",
         "y": [
          0.47540983606557374,
          0.7857142857142857,
          0.7857142857142857,
          0.6862745098039216
         ],
         "yaxis": "y"
        },
        {
         "hoverinfo": "all",
         "marker": {
          "color": "rgb(255,65,54)"
         },
         "mode": "lines",
         "text": null,
         "type": "scatter",
         "x": [
          895,
          895,
          905,
          905
         ],
         "xaxis": "x",
         "y": [
          0,
          0.2876712328767123,
          0.2876712328767123,
          0
         ],
         "yaxis": "y"
        },
        {
         "hoverinfo": "all",
         "marker": {
          "color": "rgb(255,65,54)"
         },
         "mode": "lines",
         "text": null,
         "type": "scatter",
         "x": [
          885,
          885,
          900,
          900
         ],
         "xaxis": "x",
         "y": [
          0,
          0.39473684210526316,
          0.39473684210526316,
          0.2876712328767123
         ],
         "yaxis": "y"
        },
        {
         "hoverinfo": "all",
         "marker": {
          "color": "rgb(255,65,54)"
         },
         "mode": "lines",
         "text": null,
         "type": "scatter",
         "x": [
          915,
          915,
          925,
          925
         ],
         "xaxis": "x",
         "y": [
          0,
          0.45569620253164556,
          0.45569620253164556,
          0
         ],
         "yaxis": "y"
        },
        {
         "hoverinfo": "all",
         "marker": {
          "color": "rgb(255,65,54)"
         },
         "mode": "lines",
         "text": null,
         "type": "scatter",
         "x": [
          892.5,
          892.5,
          920,
          920
         ],
         "xaxis": "x",
         "y": [
          0.39473684210526316,
          0.5119047619047619,
          0.5119047619047619,
          0.45569620253164556
         ],
         "yaxis": "y"
        },
        {
         "hoverinfo": "all",
         "marker": {
          "color": "rgb(35,205,205)"
         },
         "mode": "lines",
         "text": null,
         "type": "scatter",
         "x": [
          935,
          935,
          945,
          945
         ],
         "xaxis": "x",
         "y": [
          0,
          0.35384615384615387,
          0.35384615384615387,
          0
         ],
         "yaxis": "y"
        },
        {
         "hoverinfo": "all",
         "marker": {
          "color": "rgb(35,205,205)"
         },
         "mode": "lines",
         "text": null,
         "type": "scatter",
         "x": [
          955,
          955,
          965,
          965
         ],
         "xaxis": "x",
         "y": [
          0,
          0.54,
          0.54,
          0
         ],
         "yaxis": "y"
        },
        {
         "hoverinfo": "all",
         "marker": {
          "color": "rgb(35,205,205)"
         },
         "mode": "lines",
         "text": null,
         "type": "scatter",
         "x": [
          940,
          940,
          960,
          960
         ],
         "xaxis": "x",
         "y": [
          0.35384615384615387,
          0.5934065934065934,
          0.5934065934065934,
          0.54
         ],
         "yaxis": "y"
        },
        {
         "hoverinfo": "all",
         "marker": {
          "color": "rgb(0,116,217)"
         },
         "mode": "lines",
         "text": null,
         "type": "scatter",
         "x": [
          906.25,
          906.25,
          950,
          950
         ],
         "xaxis": "x",
         "y": [
          0.5119047619047619,
          0.6530612244897959,
          0.6530612244897959,
          0.5934065934065934
         ],
         "yaxis": "y"
        },
        {
         "hoverinfo": "all",
         "marker": {
          "color": "rgb(133,20,75)"
         },
         "mode": "lines",
         "text": null,
         "type": "scatter",
         "x": [
          985,
          985,
          995,
          995
         ],
         "xaxis": "x",
         "y": [
          0,
          0.3333333333333333,
          0.3333333333333333,
          0
         ],
         "yaxis": "y"
        },
        {
         "hoverinfo": "all",
         "marker": {
          "color": "rgb(0,116,217)"
         },
         "mode": "lines",
         "text": null,
         "type": "scatter",
         "x": [
          975,
          975,
          990,
          990
         ],
         "xaxis": "x",
         "y": [
          0,
          0.6753246753246753,
          0.6753246753246753,
          0.3333333333333333
         ],
         "yaxis": "y"
        },
        {
         "hoverinfo": "all",
         "marker": {
          "color": "rgb(0,116,217)"
         },
         "mode": "lines",
         "text": null,
         "type": "scatter",
         "x": [
          928.125,
          928.125,
          982.5,
          982.5
         ],
         "xaxis": "x",
         "y": [
          0.6530612244897959,
          0.7093023255813954,
          0.7093023255813954,
          0.6753246753246753
         ],
         "yaxis": "y"
        },
        {
         "hoverinfo": "all",
         "marker": {
          "color": "rgb(255,220,0)"
         },
         "mode": "lines",
         "text": null,
         "type": "scatter",
         "x": [
          1005,
          1005,
          1015,
          1015
         ],
         "xaxis": "x",
         "y": [
          0,
          0.2777777777777778,
          0.2777777777777778,
          0
         ],
         "yaxis": "y"
        },
        {
         "hoverinfo": "all",
         "marker": {
          "color": "rgb(40,35,35)"
         },
         "mode": "lines",
         "text": null,
         "type": "scatter",
         "x": [
          1045,
          1045,
          1055,
          1055
         ],
         "xaxis": "x",
         "y": [
          0,
          0.18867924528301888,
          0.18867924528301888,
          0
         ],
         "yaxis": "y"
        },
        {
         "hoverinfo": "all",
         "marker": {
          "color": "rgb(40,35,35)"
         },
         "mode": "lines",
         "text": null,
         "type": "scatter",
         "x": [
          1035,
          1035,
          1050,
          1050
         ],
         "xaxis": "x",
         "y": [
          0,
          0.20754716981132076,
          0.20754716981132076,
          0.18867924528301888
         ],
         "yaxis": "y"
        },
        {
         "hoverinfo": "all",
         "marker": {
          "color": "rgb(40,35,35)"
         },
         "mode": "lines",
         "text": null,
         "type": "scatter",
         "x": [
          1025,
          1025,
          1042.5,
          1042.5
         ],
         "xaxis": "x",
         "y": [
          0,
          0.29508196721311475,
          0.29508196721311475,
          0.20754716981132076
         ],
         "yaxis": "y"
        },
        {
         "hoverinfo": "all",
         "marker": {
          "color": "rgb(40,35,35)"
         },
         "mode": "lines",
         "text": null,
         "type": "scatter",
         "x": [
          1065,
          1065,
          1075,
          1075
         ],
         "xaxis": "x",
         "y": [
          0,
          0.54,
          0.54,
          0
         ],
         "yaxis": "y"
        },
        {
         "hoverinfo": "all",
         "marker": {
          "color": "rgb(40,35,35)"
         },
         "mode": "lines",
         "text": null,
         "type": "scatter",
         "x": [
          1033.75,
          1033.75,
          1070,
          1070
         ],
         "xaxis": "x",
         "y": [
          0.29508196721311475,
          0.5714285714285714,
          0.5714285714285714,
          0.54
         ],
         "yaxis": "y"
        },
        {
         "hoverinfo": "all",
         "marker": {
          "color": "rgb(0,116,217)"
         },
         "mode": "lines",
         "text": null,
         "type": "scatter",
         "x": [
          1010,
          1010,
          1051.875,
          1051.875
         ],
         "xaxis": "x",
         "y": [
          0.2777777777777778,
          0.75,
          0.75,
          0.5714285714285714
         ],
         "yaxis": "y"
        },
        {
         "hoverinfo": "all",
         "marker": {
          "color": "rgb(0,116,217)"
         },
         "mode": "lines",
         "text": null,
         "type": "scatter",
         "x": [
          955.3125,
          955.3125,
          1030.9375,
          1030.9375
         ],
         "xaxis": "x",
         "y": [
          0.7093023255813954,
          0.7662337662337663,
          0.7662337662337663,
          0.75
         ],
         "yaxis": "y"
        },
        {
         "hoverinfo": "all",
         "marker": {
          "color": "rgb(0,116,217)"
         },
         "mode": "lines",
         "text": null,
         "type": "scatter",
         "x": [
          875,
          875,
          993.125,
          993.125
         ],
         "xaxis": "x",
         "y": [
          0,
          0.8192771084337349,
          0.8192771084337349,
          0.7662337662337663
         ],
         "yaxis": "y"
        },
        {
         "hoverinfo": "all",
         "marker": {
          "color": "rgb(0,116,217)"
         },
         "mode": "lines",
         "text": null,
         "type": "scatter",
         "x": [
          809.0625,
          809.0625,
          934.0625,
          934.0625
         ],
         "xaxis": "x",
         "y": [
          0.7857142857142857,
          0.8448275862068966,
          0.8448275862068966,
          0.8192771084337349
         ],
         "yaxis": "y"
        },
        {
         "hoverinfo": "all",
         "marker": {
          "color": "rgb(0,116,217)"
         },
         "mode": "lines",
         "text": null,
         "type": "scatter",
         "x": [
          1085,
          1085,
          1095,
          1095
         ],
         "xaxis": "x",
         "y": [
          0,
          0.8571428571428571,
          0.8571428571428571,
          0
         ],
         "yaxis": "y"
        },
        {
         "hoverinfo": "all",
         "marker": {
          "color": "rgb(0,116,217)"
         },
         "mode": "lines",
         "text": null,
         "type": "scatter",
         "x": [
          871.5625,
          871.5625,
          1090,
          1090
         ],
         "xaxis": "x",
         "y": [
          0.8448275862068966,
          0.9146341463414634,
          0.9146341463414634,
          0.8571428571428571
         ],
         "yaxis": "y"
        },
        {
         "hoverinfo": "all",
         "marker": {
          "color": "rgb(0,116,217)"
         },
         "mode": "lines",
         "text": null,
         "type": "scatter",
         "x": [
          1115,
          1115,
          1125,
          1125
         ],
         "xaxis": "x",
         "y": [
          0,
          0.8333333333333334,
          0.8333333333333334,
          0
         ],
         "yaxis": "y"
        },
        {
         "hoverinfo": "all",
         "marker": {
          "color": "rgb(61,153,112)"
         },
         "mode": "lines",
         "text": null,
         "type": "scatter",
         "x": [
          1155,
          1155,
          1165,
          1165
         ],
         "xaxis": "x",
         "y": [
          0,
          0.34615384615384615,
          0.34615384615384615,
          0
         ],
         "yaxis": "y"
        },
        {
         "hoverinfo": "all",
         "marker": {
          "color": "rgb(0,116,217)"
         },
         "mode": "lines",
         "text": null,
         "type": "scatter",
         "x": [
          1145,
          1145,
          1160,
          1160
         ],
         "xaxis": "x",
         "y": [
          0,
          0.6296296296296297,
          0.6296296296296297,
          0.34615384615384615
         ],
         "yaxis": "y"
        },
        {
         "hoverinfo": "all",
         "marker": {
          "color": "rgb(0,116,217)"
         },
         "mode": "lines",
         "text": null,
         "type": "scatter",
         "x": [
          1135,
          1135,
          1152.5,
          1152.5
         ],
         "xaxis": "x",
         "y": [
          0,
          0.8666666666666667,
          0.8666666666666667,
          0.6296296296296297
         ],
         "yaxis": "y"
        },
        {
         "hoverinfo": "all",
         "marker": {
          "color": "rgb(0,116,217)"
         },
         "mode": "lines",
         "text": null,
         "type": "scatter",
         "x": [
          1120,
          1120,
          1143.75,
          1143.75
         ],
         "xaxis": "x",
         "y": [
          0.8333333333333334,
          0.9111111111111111,
          0.9111111111111111,
          0.8666666666666667
         ],
         "yaxis": "y"
        },
        {
         "hoverinfo": "all",
         "marker": {
          "color": "rgb(0,116,217)"
         },
         "mode": "lines",
         "text": null,
         "type": "scatter",
         "x": [
          1105,
          1105,
          1131.875,
          1131.875
         ],
         "xaxis": "x",
         "y": [
          0,
          0.9298245614035088,
          0.9298245614035088,
          0.9111111111111111
         ],
         "yaxis": "y"
        },
        {
         "hoverinfo": "all",
         "marker": {
          "color": "rgb(0,116,217)"
         },
         "mode": "lines",
         "text": null,
         "type": "scatter",
         "x": [
          980.78125,
          980.78125,
          1118.4375,
          1118.4375
         ],
         "xaxis": "x",
         "y": [
          0.9146341463414634,
          0.9883720930232558,
          0.9883720930232558,
          0.9298245614035088
         ],
         "yaxis": "y"
        },
        {
         "hoverinfo": "all",
         "marker": {
          "color": "rgb(0,116,217)"
         },
         "mode": "lines",
         "text": null,
         "type": "scatter",
         "x": [
          1175,
          1175,
          1185,
          1185
         ],
         "xaxis": "x",
         "y": [
          0,
          0.8571428571428571,
          0.8571428571428571,
          0
         ],
         "yaxis": "y"
        },
        {
         "hoverinfo": "all",
         "marker": {
          "color": "rgb(255,65,54)"
         },
         "mode": "lines",
         "text": null,
         "type": "scatter",
         "x": [
          1215,
          1215,
          1225,
          1225
         ],
         "xaxis": "x",
         "y": [
          0,
          0.38461538461538464,
          0.38461538461538464,
          0
         ],
         "yaxis": "y"
        },
        {
         "hoverinfo": "all",
         "marker": {
          "color": "rgb(0,116,217)"
         },
         "mode": "lines",
         "text": null,
         "type": "scatter",
         "x": [
          1205,
          1205,
          1220,
          1220
         ],
         "xaxis": "x",
         "y": [
          0,
          0.6904761904761905,
          0.6904761904761905,
          0.38461538461538464
         ],
         "yaxis": "y"
        },
        {
         "hoverinfo": "all",
         "marker": {
          "color": "rgb(0,116,217)"
         },
         "mode": "lines",
         "text": null,
         "type": "scatter",
         "x": [
          1195,
          1195,
          1212.5,
          1212.5
         ],
         "xaxis": "x",
         "y": [
          0,
          0.8095238095238095,
          0.8095238095238095,
          0.6904761904761905
         ],
         "yaxis": "y"
        },
        {
         "hoverinfo": "all",
         "marker": {
          "color": "rgb(0,116,217)"
         },
         "mode": "lines",
         "text": null,
         "type": "scatter",
         "x": [
          1235,
          1235,
          1245,
          1245
         ],
         "xaxis": "x",
         "y": [
          0,
          0.7222222222222222,
          0.7222222222222222,
          0
         ],
         "yaxis": "y"
        },
        {
         "hoverinfo": "all",
         "marker": {
          "color": "rgb(35,205,205)"
         },
         "mode": "lines",
         "text": null,
         "type": "scatter",
         "x": [
          1265,
          1265,
          1275,
          1275
         ],
         "xaxis": "x",
         "y": [
          0,
          0.4,
          0.4,
          0
         ],
         "yaxis": "y"
        },
        {
         "hoverinfo": "all",
         "marker": {
          "color": "rgb(0,116,217)"
         },
         "mode": "lines",
         "text": null,
         "type": "scatter",
         "x": [
          1255,
          1255,
          1270,
          1270
         ],
         "xaxis": "x",
         "y": [
          0,
          0.6521739130434783,
          0.6521739130434783,
          0.4
         ],
         "yaxis": "y"
        },
        {
         "hoverinfo": "all",
         "marker": {
          "color": "rgb(133,20,75)"
         },
         "mode": "lines",
         "text": null,
         "type": "scatter",
         "x": [
          1295,
          1295,
          1305,
          1305
         ],
         "xaxis": "x",
         "y": [
          0,
          0.5384615384615384,
          0.5384615384615384,
          0
         ],
         "yaxis": "y"
        },
        {
         "hoverinfo": "all",
         "marker": {
          "color": "rgb(0,116,217)"
         },
         "mode": "lines",
         "text": null,
         "type": "scatter",
         "x": [
          1285,
          1285,
          1300,
          1300
         ],
         "xaxis": "x",
         "y": [
          0,
          0.8,
          0.8,
          0.5384615384615384
         ],
         "yaxis": "y"
        },
        {
         "hoverinfo": "all",
         "marker": {
          "color": "rgb(0,116,217)"
         },
         "mode": "lines",
         "text": null,
         "type": "scatter",
         "x": [
          1262.5,
          1262.5,
          1292.5,
          1292.5
         ],
         "xaxis": "x",
         "y": [
          0.6521739130434783,
          0.9629629629629629,
          0.9629629629629629,
          0.8
         ],
         "yaxis": "y"
        },
        {
         "hoverinfo": "all",
         "marker": {
          "color": "rgb(0,116,217)"
         },
         "mode": "lines",
         "text": null,
         "type": "scatter",
         "x": [
          1240,
          1240,
          1277.5,
          1277.5
         ],
         "xaxis": "x",
         "y": [
          0.7222222222222222,
          0.975609756097561,
          0.975609756097561,
          0.9629629629629629
         ],
         "yaxis": "y"
        },
        {
         "hoverinfo": "all",
         "marker": {
          "color": "rgb(0,116,217)"
         },
         "mode": "lines",
         "text": null,
         "type": "scatter",
         "x": [
          1203.75,
          1203.75,
          1258.75,
          1258.75
         ],
         "xaxis": "x",
         "y": [
          0.8095238095238095,
          0.9821428571428571,
          0.9821428571428571,
          0.975609756097561
         ],
         "yaxis": "y"
        },
        {
         "hoverinfo": "all",
         "marker": {
          "color": "rgb(255,220,0)"
         },
         "mode": "lines",
         "text": null,
         "type": "scatter",
         "x": [
          1315,
          1315,
          1325,
          1325
         ],
         "xaxis": "x",
         "y": [
          0,
          0.4444444444444444,
          0.4444444444444444,
          0
         ],
         "yaxis": "y"
        },
        {
         "hoverinfo": "all",
         "marker": {
          "color": "rgb(40,35,35)"
         },
         "mode": "lines",
         "text": null,
         "type": "scatter",
         "x": [
          1355,
          1355,
          1365,
          1365
         ],
         "xaxis": "x",
         "y": [
          0,
          0.35064935064935066,
          0.35064935064935066,
          0
         ],
         "yaxis": "y"
        },
        {
         "hoverinfo": "all",
         "marker": {
          "color": "rgb(40,35,35)"
         },
         "mode": "lines",
         "text": null,
         "type": "scatter",
         "x": [
          1345,
          1345,
          1360,
          1360
         ],
         "xaxis": "x",
         "y": [
          0,
          0.43661971830985913,
          0.43661971830985913,
          0.35064935064935066
         ],
         "yaxis": "y"
        },
        {
         "hoverinfo": "all",
         "marker": {
          "color": "rgb(0,116,217)"
         },
         "mode": "lines",
         "text": null,
         "type": "scatter",
         "x": [
          1335,
          1335,
          1352.5,
          1352.5
         ],
         "xaxis": "x",
         "y": [
          0,
          0.6521739130434783,
          0.6521739130434783,
          0.43661971830985913
         ],
         "yaxis": "y"
        },
        {
         "hoverinfo": "all",
         "marker": {
          "color": "rgb(61,153,112)"
         },
         "mode": "lines",
         "text": null,
         "type": "scatter",
         "x": [
          1375,
          1375,
          1385,
          1385
         ],
         "xaxis": "x",
         "y": [
          0,
          0.32142857142857145,
          0.32142857142857145,
          0
         ],
         "yaxis": "y"
        },
        {
         "hoverinfo": "all",
         "marker": {
          "color": "rgb(61,153,112)"
         },
         "mode": "lines",
         "text": null,
         "type": "scatter",
         "x": [
          1405,
          1405,
          1415,
          1415
         ],
         "xaxis": "x",
         "y": [
          0,
          0.25,
          0.25,
          0
         ],
         "yaxis": "y"
        },
        {
         "hoverinfo": "all",
         "marker": {
          "color": "rgb(61,153,112)"
         },
         "mode": "lines",
         "text": null,
         "type": "scatter",
         "x": [
          1395,
          1395,
          1410,
          1410
         ],
         "xaxis": "x",
         "y": [
          0,
          0.4,
          0.4,
          0.25
         ],
         "yaxis": "y"
        },
        {
         "hoverinfo": "all",
         "marker": {
          "color": "rgb(61,153,112)"
         },
         "mode": "lines",
         "text": null,
         "type": "scatter",
         "x": [
          1380,
          1380,
          1402.5,
          1402.5
         ],
         "xaxis": "x",
         "y": [
          0.32142857142857145,
          0.42857142857142855,
          0.42857142857142855,
          0.4
         ],
         "yaxis": "y"
        },
        {
         "hoverinfo": "all",
         "marker": {
          "color": "rgb(255,65,54)"
         },
         "mode": "lines",
         "text": null,
         "type": "scatter",
         "x": [
          1435,
          1435,
          1445,
          1445
         ],
         "xaxis": "x",
         "y": [
          0,
          0.3888888888888889,
          0.3888888888888889,
          0
         ],
         "yaxis": "y"
        },
        {
         "hoverinfo": "all",
         "marker": {
          "color": "rgb(0,116,217)"
         },
         "mode": "lines",
         "text": null,
         "type": "scatter",
         "x": [
          1425,
          1425,
          1440,
          1440
         ],
         "xaxis": "x",
         "y": [
          0,
          0.88,
          0.88,
          0.3888888888888889
         ],
         "yaxis": "y"
        },
        {
         "hoverinfo": "all",
         "marker": {
          "color": "rgb(0,116,217)"
         },
         "mode": "lines",
         "text": null,
         "type": "scatter",
         "x": [
          1391.25,
          1391.25,
          1432.5,
          1432.5
         ],
         "xaxis": "x",
         "y": [
          0.42857142857142855,
          0.918918918918919,
          0.918918918918919,
          0.88
         ],
         "yaxis": "y"
        },
        {
         "hoverinfo": "all",
         "marker": {
          "color": "rgb(0,116,217)"
         },
         "mode": "lines",
         "text": null,
         "type": "scatter",
         "x": [
          1343.75,
          1343.75,
          1411.875,
          1411.875
         ],
         "xaxis": "x",
         "y": [
          0.6521739130434783,
          0.9891304347826086,
          0.9891304347826086,
          0.918918918918919
         ],
         "yaxis": "y"
        },
        {
         "hoverinfo": "all",
         "marker": {
          "color": "rgb(35,205,205)"
         },
         "mode": "lines",
         "text": null,
         "type": "scatter",
         "x": [
          1475,
          1475,
          1485,
          1485
         ],
         "xaxis": "x",
         "y": [
          0,
          0.4626865671641791,
          0.4626865671641791,
          0
         ],
         "yaxis": "y"
        },
        {
         "hoverinfo": "all",
         "marker": {
          "color": "rgb(0,116,217)"
         },
         "mode": "lines",
         "text": null,
         "type": "scatter",
         "x": [
          1465,
          1465,
          1480,
          1480
         ],
         "xaxis": "x",
         "y": [
          0,
          0.7444444444444445,
          0.7444444444444445,
          0.4626865671641791
         ],
         "yaxis": "y"
        },
        {
         "hoverinfo": "all",
         "marker": {
          "color": "rgb(133,20,75)"
         },
         "mode": "lines",
         "text": null,
         "type": "scatter",
         "x": [
          1495,
          1495,
          1505,
          1505
         ],
         "xaxis": "x",
         "y": [
          0,
          0.34285714285714286,
          0.34285714285714286,
          0
         ],
         "yaxis": "y"
        },
        {
         "hoverinfo": "all",
         "marker": {
          "color": "rgb(0,116,217)"
         },
         "mode": "lines",
         "text": null,
         "type": "scatter",
         "x": [
          1525,
          1525,
          1535,
          1535
         ],
         "xaxis": "x",
         "y": [
          0,
          0.7857142857142857,
          0.7857142857142857,
          0
         ],
         "yaxis": "y"
        },
        {
         "hoverinfo": "all",
         "marker": {
          "color": "rgb(0,116,217)"
         },
         "mode": "lines",
         "text": null,
         "type": "scatter",
         "x": [
          1515,
          1515,
          1530,
          1530
         ],
         "xaxis": "x",
         "y": [
          0,
          0.8181818181818182,
          0.8181818181818182,
          0.7857142857142857
         ],
         "yaxis": "y"
        },
        {
         "hoverinfo": "all",
         "marker": {
          "color": "rgb(0,116,217)"
         },
         "mode": "lines",
         "text": null,
         "type": "scatter",
         "x": [
          1500,
          1500,
          1522.5,
          1522.5
         ],
         "xaxis": "x",
         "y": [
          0.34285714285714286,
          0.8604651162790697,
          0.8604651162790697,
          0.8181818181818182
         ],
         "yaxis": "y"
        },
        {
         "hoverinfo": "all",
         "marker": {
          "color": "rgb(0,116,217)"
         },
         "mode": "lines",
         "text": null,
         "type": "scatter",
         "x": [
          1472.5,
          1472.5,
          1511.25,
          1511.25
         ],
         "xaxis": "x",
         "y": [
          0.7444444444444445,
          0.9210526315789473,
          0.9210526315789473,
          0.8604651162790697
         ],
         "yaxis": "y"
        },
        {
         "hoverinfo": "all",
         "marker": {
          "color": "rgb(0,116,217)"
         },
         "mode": "lines",
         "text": null,
         "type": "scatter",
         "x": [
          1455,
          1455,
          1491.875,
          1491.875
         ],
         "xaxis": "x",
         "y": [
          0,
          0.9540229885057471,
          0.9540229885057471,
          0.9210526315789473
         ],
         "yaxis": "y"
        },
        {
         "hoverinfo": "all",
         "marker": {
          "color": "rgb(255,220,0)"
         },
         "mode": "lines",
         "text": null,
         "type": "scatter",
         "x": [
          1555,
          1555,
          1565,
          1565
         ],
         "xaxis": "x",
         "y": [
          0,
          0.47058823529411764,
          0.47058823529411764,
          0
         ],
         "yaxis": "y"
        },
        {
         "hoverinfo": "all",
         "marker": {
          "color": "rgb(40,35,35)"
         },
         "mode": "lines",
         "text": null,
         "type": "scatter",
         "x": [
          1575,
          1575,
          1585,
          1585
         ],
         "xaxis": "x",
         "y": [
          0,
          0.2857142857142857,
          0.2857142857142857,
          0
         ],
         "yaxis": "y"
        },
        {
         "hoverinfo": "all",
         "marker": {
          "color": "rgb(61,153,112)"
         },
         "mode": "lines",
         "text": null,
         "type": "scatter",
         "x": [
          1605,
          1605,
          1615,
          1615
         ],
         "xaxis": "x",
         "y": [
          0,
          0.25,
          0.25,
          0
         ],
         "yaxis": "y"
        },
        {
         "hoverinfo": "all",
         "marker": {
          "color": "rgb(61,153,112)"
         },
         "mode": "lines",
         "text": null,
         "type": "scatter",
         "x": [
          1595,
          1595,
          1610,
          1610
         ],
         "xaxis": "x",
         "y": [
          0,
          0.4,
          0.4,
          0.25
         ],
         "yaxis": "y"
        },
        {
         "hoverinfo": "all",
         "marker": {
          "color": "rgb(0,116,217)"
         },
         "mode": "lines",
         "text": null,
         "type": "scatter",
         "x": [
          1580,
          1580,
          1602.5,
          1602.5
         ],
         "xaxis": "x",
         "y": [
          0.2857142857142857,
          0.8717948717948718,
          0.8717948717948718,
          0.4
         ],
         "yaxis": "y"
        },
        {
         "hoverinfo": "all",
         "marker": {
          "color": "rgb(0,116,217)"
         },
         "mode": "lines",
         "text": null,
         "type": "scatter",
         "x": [
          1560,
          1560,
          1591.25,
          1591.25
         ],
         "xaxis": "x",
         "y": [
          0.47058823529411764,
          0.96,
          0.96,
          0.8717948717948718
         ],
         "yaxis": "y"
        },
        {
         "hoverinfo": "all",
         "marker": {
          "color": "rgb(0,116,217)"
         },
         "mode": "lines",
         "text": null,
         "type": "scatter",
         "x": [
          1545,
          1545,
          1575.625,
          1575.625
         ],
         "xaxis": "x",
         "y": [
          0,
          0.9795918367346939,
          0.9795918367346939,
          0.96
         ],
         "yaxis": "y"
        },
        {
         "hoverinfo": "all",
         "marker": {
          "color": "rgb(255,65,54)"
         },
         "mode": "lines",
         "text": null,
         "type": "scatter",
         "x": [
          1635,
          1635,
          1645,
          1645
         ],
         "xaxis": "x",
         "y": [
          0,
          0.25,
          0.25,
          0
         ],
         "yaxis": "y"
        },
        {
         "hoverinfo": "all",
         "marker": {
          "color": "rgb(0,116,217)"
         },
         "mode": "lines",
         "text": null,
         "type": "scatter",
         "x": [
          1625,
          1625,
          1640,
          1640
         ],
         "xaxis": "x",
         "y": [
          0,
          0.8787878787878788,
          0.8787878787878788,
          0.25
         ],
         "yaxis": "y"
        },
        {
         "hoverinfo": "all",
         "marker": {
          "color": "rgb(35,205,205)"
         },
         "mode": "lines",
         "text": null,
         "type": "scatter",
         "x": [
          1655,
          1655,
          1665,
          1665
         ],
         "xaxis": "x",
         "y": [
          0,
          0.5806451612903226,
          0.5806451612903226,
          0
         ],
         "yaxis": "y"
        },
        {
         "hoverinfo": "all",
         "marker": {
          "color": "rgb(0,116,217)"
         },
         "mode": "lines",
         "text": null,
         "type": "scatter",
         "x": [
          1675,
          1675,
          1685,
          1685
         ],
         "xaxis": "x",
         "y": [
          0,
          0.6521739130434783,
          0.6521739130434783,
          0
         ],
         "yaxis": "y"
        },
        {
         "hoverinfo": "all",
         "marker": {
          "color": "rgb(0,116,217)"
         },
         "mode": "lines",
         "text": null,
         "type": "scatter",
         "x": [
          1660,
          1660,
          1680,
          1680
         ],
         "xaxis": "x",
         "y": [
          0.5806451612903226,
          0.8125,
          0.8125,
          0.6521739130434783
         ],
         "yaxis": "y"
        },
        {
         "hoverinfo": "all",
         "marker": {
          "color": "rgb(133,20,75)"
         },
         "mode": "lines",
         "text": null,
         "type": "scatter",
         "x": [
          1695,
          1695,
          1705,
          1705
         ],
         "xaxis": "x",
         "y": [
          0,
          0.296875,
          0.296875,
          0
         ],
         "yaxis": "y"
        },
        {
         "hoverinfo": "all",
         "marker": {
          "color": "rgb(133,20,75)"
         },
         "mode": "lines",
         "text": null,
         "type": "scatter",
         "x": [
          1715,
          1715,
          1725,
          1725
         ],
         "xaxis": "x",
         "y": [
          0,
          0.34210526315789475,
          0.34210526315789475,
          0
         ],
         "yaxis": "y"
        },
        {
         "hoverinfo": "all",
         "marker": {
          "color": "rgb(133,20,75)"
         },
         "mode": "lines",
         "text": null,
         "type": "scatter",
         "x": [
          1700,
          1700,
          1720,
          1720
         ],
         "xaxis": "x",
         "y": [
          0.296875,
          0.5483870967741935,
          0.5483870967741935,
          0.34210526315789475
         ],
         "yaxis": "y"
        },
        {
         "hoverinfo": "all",
         "marker": {
          "color": "rgb(0,116,217)"
         },
         "mode": "lines",
         "text": null,
         "type": "scatter",
         "x": [
          1755,
          1755,
          1765,
          1765
         ],
         "xaxis": "x",
         "y": [
          0,
          0.6388888888888888,
          0.6388888888888888,
          0
         ],
         "yaxis": "y"
        },
        {
         "hoverinfo": "all",
         "marker": {
          "color": "rgb(0,116,217)"
         },
         "mode": "lines",
         "text": null,
         "type": "scatter",
         "x": [
          1745,
          1745,
          1760,
          1760
         ],
         "xaxis": "x",
         "y": [
          0,
          0.7096774193548387,
          0.7096774193548387,
          0.6388888888888888
         ],
         "yaxis": "y"
        },
        {
         "hoverinfo": "all",
         "marker": {
          "color": "rgb(0,116,217)"
         },
         "mode": "lines",
         "text": null,
         "type": "scatter",
         "x": [
          1735,
          1735,
          1752.5,
          1752.5
         ],
         "xaxis": "x",
         "y": [
          0,
          0.7948717948717948,
          0.7948717948717948,
          0.7096774193548387
         ],
         "yaxis": "y"
        },
        {
         "hoverinfo": "all",
         "marker": {
          "color": "rgb(0,116,217)"
         },
         "mode": "lines",
         "text": null,
         "type": "scatter",
         "x": [
          1710,
          1710,
          1743.75,
          1743.75
         ],
         "xaxis": "x",
         "y": [
          0.5483870967741935,
          0.8571428571428571,
          0.8571428571428571,
          0.7948717948717948
         ],
         "yaxis": "y"
        },
        {
         "hoverinfo": "all",
         "marker": {
          "color": "rgb(0,116,217)"
         },
         "mode": "lines",
         "text": null,
         "type": "scatter",
         "x": [
          1670,
          1670,
          1726.875,
          1726.875
         ],
         "xaxis": "x",
         "y": [
          0.8125,
          0.9767441860465116,
          0.9767441860465116,
          0.8571428571428571
         ],
         "yaxis": "y"
        },
        {
         "hoverinfo": "all",
         "marker": {
          "color": "rgb(255,220,0)"
         },
         "mode": "lines",
         "text": null,
         "type": "scatter",
         "x": [
          1795,
          1795,
          1805,
          1805
         ],
         "xaxis": "x",
         "y": [
          0,
          0.34146341463414637,
          0.34146341463414637,
          0
         ],
         "yaxis": "y"
        },
        {
         "hoverinfo": "all",
         "marker": {
          "color": "rgb(255,220,0)"
         },
         "mode": "lines",
         "text": null,
         "type": "scatter",
         "x": [
          1785,
          1785,
          1800,
          1800
         ],
         "xaxis": "x",
         "y": [
          0,
          0.3829787234042553,
          0.3829787234042553,
          0.34146341463414637
         ],
         "yaxis": "y"
        },
        {
         "hoverinfo": "all",
         "marker": {
          "color": "rgb(40,35,35)"
         },
         "mode": "lines",
         "text": null,
         "type": "scatter",
         "x": [
          1815,
          1815,
          1825,
          1825
         ],
         "xaxis": "x",
         "y": [
          0,
          0.2903225806451613,
          0.2903225806451613,
          0
         ],
         "yaxis": "y"
        },
        {
         "hoverinfo": "all",
         "marker": {
          "color": "rgb(40,35,35)"
         },
         "mode": "lines",
         "text": null,
         "type": "scatter",
         "x": [
          1835,
          1835,
          1845,
          1845
         ],
         "xaxis": "x",
         "y": [
          0,
          0.3142857142857143,
          0.3142857142857143,
          0
         ],
         "yaxis": "y"
        },
        {
         "hoverinfo": "all",
         "marker": {
          "color": "rgb(40,35,35)"
         },
         "mode": "lines",
         "text": null,
         "type": "scatter",
         "x": [
          1820,
          1820,
          1840,
          1840
         ],
         "xaxis": "x",
         "y": [
          0.2903225806451613,
          0.34375,
          0.34375,
          0.3142857142857143
         ],
         "yaxis": "y"
        },
        {
         "hoverinfo": "all",
         "marker": {
          "color": "rgb(40,35,35)"
         },
         "mode": "lines",
         "text": null,
         "type": "scatter",
         "x": [
          1865,
          1865,
          1875,
          1875
         ],
         "xaxis": "x",
         "y": [
          0,
          0.17647058823529413,
          0.17647058823529413,
          0
         ],
         "yaxis": "y"
        },
        {
         "hoverinfo": "all",
         "marker": {
          "color": "rgb(40,35,35)"
         },
         "mode": "lines",
         "text": null,
         "type": "scatter",
         "x": [
          1885,
          1885,
          1895,
          1895
         ],
         "xaxis": "x",
         "y": [
          0,
          0.2727272727272727,
          0.2727272727272727,
          0
         ],
         "yaxis": "y"
        },
        {
         "hoverinfo": "all",
         "marker": {
          "color": "rgb(40,35,35)"
         },
         "mode": "lines",
         "text": null,
         "type": "scatter",
         "x": [
          1870,
          1870,
          1890,
          1890
         ],
         "xaxis": "x",
         "y": [
          0.17647058823529413,
          0.35294117647058826,
          0.35294117647058826,
          0.2727272727272727
         ],
         "yaxis": "y"
        },
        {
         "hoverinfo": "all",
         "marker": {
          "color": "rgb(40,35,35)"
         },
         "mode": "lines",
         "text": null,
         "type": "scatter",
         "x": [
          1855,
          1855,
          1880,
          1880
         ],
         "xaxis": "x",
         "y": [
          0,
          0.3783783783783784,
          0.3783783783783784,
          0.35294117647058826
         ],
         "yaxis": "y"
        },
        {
         "hoverinfo": "all",
         "marker": {
          "color": "rgb(40,35,35)"
         },
         "mode": "lines",
         "text": null,
         "type": "scatter",
         "x": [
          1830,
          1830,
          1867.5,
          1867.5
         ],
         "xaxis": "x",
         "y": [
          0.34375,
          0.4117647058823529,
          0.4117647058823529,
          0.3783783783783784
         ],
         "yaxis": "y"
        },
        {
         "hoverinfo": "all",
         "marker": {
          "color": "rgb(0,116,217)"
         },
         "mode": "lines",
         "text": null,
         "type": "scatter",
         "x": [
          1792.5,
          1792.5,
          1848.75,
          1848.75
         ],
         "xaxis": "x",
         "y": [
          0.3829787234042553,
          0.8181818181818182,
          0.8181818181818182,
          0.4117647058823529
         ],
         "yaxis": "y"
        },
        {
         "hoverinfo": "all",
         "marker": {
          "color": "rgb(0,116,217)"
         },
         "mode": "lines",
         "text": null,
         "type": "scatter",
         "x": [
          1775,
          1775,
          1820.625,
          1820.625
         ],
         "xaxis": "x",
         "y": [
          0,
          0.9482758620689655,
          0.9482758620689655,
          0.8181818181818182
         ],
         "yaxis": "y"
        },
        {
         "hoverinfo": "all",
         "marker": {
          "color": "rgb(0,116,217)"
         },
         "mode": "lines",
         "text": null,
         "type": "scatter",
         "x": [
          1925,
          1925,
          1935,
          1935
         ],
         "xaxis": "x",
         "y": [
          0,
          0.6875,
          0.6875,
          0
         ],
         "yaxis": "y"
        },
        {
         "hoverinfo": "all",
         "marker": {
          "color": "rgb(0,116,217)"
         },
         "mode": "lines",
         "text": null,
         "type": "scatter",
         "x": [
          1915,
          1915,
          1930,
          1930
         ],
         "xaxis": "x",
         "y": [
          0,
          0.8974358974358975,
          0.8974358974358975,
          0.6875
         ],
         "yaxis": "y"
        },
        {
         "hoverinfo": "all",
         "marker": {
          "color": "rgb(0,116,217)"
         },
         "mode": "lines",
         "text": null,
         "type": "scatter",
         "x": [
          1975,
          1975,
          1985,
          1985
         ],
         "xaxis": "x",
         "y": [
          0,
          0.9302325581395349,
          0.9302325581395349,
          0
         ],
         "yaxis": "y"
        },
        {
         "hoverinfo": "all",
         "marker": {
          "color": "rgb(0,116,217)"
         },
         "mode": "lines",
         "text": null,
         "type": "scatter",
         "x": [
          1965,
          1965,
          1980,
          1980
         ],
         "xaxis": "x",
         "y": [
          0,
          0.984375,
          0.984375,
          0.9302325581395349
         ],
         "yaxis": "y"
        },
        {
         "hoverinfo": "all",
         "marker": {
          "color": "rgb(0,116,217)"
         },
         "mode": "lines",
         "text": null,
         "type": "scatter",
         "x": [
          1955,
          1955,
          1972.5,
          1972.5
         ],
         "xaxis": "x",
         "y": [
          0,
          1,
          1,
          0.984375
         ],
         "yaxis": "y"
        },
        {
         "hoverinfo": "all",
         "marker": {
          "color": "rgb(0,116,217)"
         },
         "mode": "lines",
         "text": null,
         "type": "scatter",
         "x": [
          1945,
          1945,
          1963.75,
          1963.75
         ],
         "xaxis": "x",
         "y": [
          0,
          1,
          1,
          1
         ],
         "yaxis": "y"
        },
        {
         "hoverinfo": "all",
         "marker": {
          "color": "rgb(0,116,217)"
         },
         "mode": "lines",
         "text": null,
         "type": "scatter",
         "x": [
          1922.5,
          1922.5,
          1954.375,
          1954.375
         ],
         "xaxis": "x",
         "y": [
          0.8974358974358975,
          1,
          1,
          1
         ],
         "yaxis": "y"
        },
        {
         "hoverinfo": "all",
         "marker": {
          "color": "rgb(0,116,217)"
         },
         "mode": "lines",
         "text": null,
         "type": "scatter",
         "x": [
          1905,
          1905,
          1938.4375,
          1938.4375
         ],
         "xaxis": "x",
         "y": [
          0,
          1,
          1,
          1
         ],
         "yaxis": "y"
        },
        {
         "hoverinfo": "all",
         "marker": {
          "color": "rgb(0,116,217)"
         },
         "mode": "lines",
         "text": null,
         "type": "scatter",
         "x": [
          1797.8125,
          1797.8125,
          1921.71875,
          1921.71875
         ],
         "xaxis": "x",
         "y": [
          0.9482758620689655,
          1,
          1,
          1
         ],
         "yaxis": "y"
        },
        {
         "hoverinfo": "all",
         "marker": {
          "color": "rgb(0,116,217)"
         },
         "mode": "lines",
         "text": null,
         "type": "scatter",
         "x": [
          1698.4375,
          1698.4375,
          1859.765625,
          1859.765625
         ],
         "xaxis": "x",
         "y": [
          0.9767441860465116,
          1,
          1,
          1
         ],
         "yaxis": "y"
        },
        {
         "hoverinfo": "all",
         "marker": {
          "color": "rgb(0,116,217)"
         },
         "mode": "lines",
         "text": null,
         "type": "scatter",
         "x": [
          1632.5,
          1632.5,
          1779.1015625,
          1779.1015625
         ],
         "xaxis": "x",
         "y": [
          0.8787878787878788,
          1,
          1,
          1
         ],
         "yaxis": "y"
        },
        {
         "hoverinfo": "all",
         "marker": {
          "color": "rgb(0,116,217)"
         },
         "mode": "lines",
         "text": null,
         "type": "scatter",
         "x": [
          1560.3125,
          1560.3125,
          1705.80078125,
          1705.80078125
         ],
         "xaxis": "x",
         "y": [
          0.9795918367346939,
          1,
          1,
          1
         ],
         "yaxis": "y"
        },
        {
         "hoverinfo": "all",
         "marker": {
          "color": "rgb(0,116,217)"
         },
         "mode": "lines",
         "text": null,
         "type": "scatter",
         "x": [
          1473.4375,
          1473.4375,
          1633.056640625,
          1633.056640625
         ],
         "xaxis": "x",
         "y": [
          0.9540229885057471,
          1,
          1,
          1
         ],
         "yaxis": "y"
        },
        {
         "hoverinfo": "all",
         "marker": {
          "color": "rgb(0,116,217)"
         },
         "mode": "lines",
         "text": null,
         "type": "scatter",
         "x": [
          1377.8125,
          1377.8125,
          1553.2470703125,
          1553.2470703125
         ],
         "xaxis": "x",
         "y": [
          0.9891304347826086,
          1,
          1,
          1
         ],
         "yaxis": "y"
        },
        {
         "hoverinfo": "all",
         "marker": {
          "color": "rgb(0,116,217)"
         },
         "mode": "lines",
         "text": null,
         "type": "scatter",
         "x": [
          1320,
          1320,
          1465.52978515625,
          1465.52978515625
         ],
         "xaxis": "x",
         "y": [
          0.4444444444444444,
          1,
          1,
          1
         ],
         "yaxis": "y"
        },
        {
         "hoverinfo": "all",
         "marker": {
          "color": "rgb(0,116,217)"
         },
         "mode": "lines",
         "text": null,
         "type": "scatter",
         "x": [
          1231.25,
          1231.25,
          1392.764892578125,
          1392.764892578125
         ],
         "xaxis": "x",
         "y": [
          0.9821428571428571,
          1,
          1,
          1
         ],
         "yaxis": "y"
        },
        {
         "hoverinfo": "all",
         "marker": {
          "color": "rgb(0,116,217)"
         },
         "mode": "lines",
         "text": null,
         "type": "scatter",
         "x": [
          1180,
          1180,
          1312.0074462890625,
          1312.0074462890625
         ],
         "xaxis": "x",
         "y": [
          0.8571428571428571,
          1,
          1,
          1
         ],
         "yaxis": "y"
        },
        {
         "hoverinfo": "all",
         "marker": {
          "color": "rgb(0,116,217)"
         },
         "mode": "lines",
         "text": null,
         "type": "scatter",
         "x": [
          1049.609375,
          1049.609375,
          1246.0037231445312,
          1246.0037231445312
         ],
         "xaxis": "x",
         "y": [
          0.9883720930232558,
          1,
          1,
          1
         ],
         "yaxis": "y"
        },
        {
         "hoverinfo": "all",
         "marker": {
          "color": "rgb(0,116,217)"
         },
         "mode": "lines",
         "text": null,
         "type": "scatter",
         "x": [
          703.59375,
          703.59375,
          1147.8065490722656,
          1147.8065490722656
         ],
         "xaxis": "x",
         "y": [
          0.9818181818181818,
          1,
          1,
          1
         ],
         "yaxis": "y"
        },
        {
         "hoverinfo": "all",
         "marker": {
          "color": "rgb(0,116,217)"
         },
         "mode": "lines",
         "text": null,
         "type": "scatter",
         "x": [
          645,
          645,
          925.7001495361328,
          925.7001495361328
         ],
         "xaxis": "x",
         "y": [
          0.8817204301075269,
          1,
          1,
          1
         ],
         "yaxis": "y"
        },
        {
         "hoverinfo": "all",
         "marker": {
          "color": "rgb(0,116,217)"
         },
         "mode": "lines",
         "text": null,
         "type": "scatter",
         "x": [
          503.984375,
          503.984375,
          785.3500747680664,
          785.3500747680664
         ],
         "xaxis": "x",
         "y": [
          0.9705882352941176,
          1,
          1,
          1
         ],
         "yaxis": "y"
        },
        {
         "hoverinfo": "all",
         "marker": {
          "color": "rgb(0,116,217)"
         },
         "mode": "lines",
         "text": null,
         "type": "scatter",
         "x": [
          218.72802734375,
          218.72802734375,
          644.6672248840332,
          644.6672248840332
         ],
         "xaxis": "x",
         "y": [
          0.9705882352941176,
          1,
          1,
          1
         ],
         "yaxis": "y"
        }
       ],
       "layout": {
        "autosize": false,
        "height": 500,
        "hovermode": "closest",
        "showlegend": false,
        "title": "BioDendro",
        "width": 900,
        "xaxis": {
         "mirror": "allticks",
         "rangemode": "tozero",
         "showgrid": false,
         "showline": true,
         "showticklabels": true,
         "tickmode": "array",
         "ticks": "outside",
         "ticktext": [
          "QE_2017_001815_792.5625_866.0",
          "QE_2017_001814_596.30963_602.0",
          "QE_2017_001816_613.48218_838.0",
          "QE_2017_001814_792.56207_723.0",
          "QE_2017_001815_613.4826_734.0",
          "QE_2017_001815_571.4292_870.0",
          "QE_2017_001814_497.31033_643.0",
          "QE_2017_001815_507.27145_607.0",
          "QE_2017_001815_571.47168_711.0",
          "QE_2017_001814_335.25772_725.0",
          "QE_2017_001814_335.25784_608.0",
          "QE_2017_001816_335.25772_723.0",
          "QE_2017_001814_335.25784_628.0",
          "QE_2017_001815_335.25745_642.0",
          "QE_2017_001814_261.22073_634.0",
          "QE_2017_001815_335.25784_587.0",
          "QE_2017_001814_353.26889_609.0",
          "QE_2017_001815_353.26862_642.0",
          "QE_2017_001815_261.22073_643.0",
          "QE_2017_001814_335.25772_638.0",
          "QE_2017_001815_335.2579_601.0",
          "QE_2017_001816_272.25824_582.0",
          "QE_2017_001814_338.34146_850.0",
          "QE_2017_001815_244.19048_762.0",
          "QE_2017_001816_435.25037_666.0",
          "QE_2017_001816_337.27338_826.0",
          "QE_2017_001816_337.27341_632.0",
          "QE_2017_001814_353.26868_633.0",
          "QE_2017_001816_353.26892_600.0",
          "QE_2017_001814_278.24756_683.0",
          "QE_2017_001814_279.23157_719.0",
          "QE_2017_001814_618.42633_695.0",
          "QE_2017_001816_583.41382_731.0",
          "QE_2017_001814_599.40918_659.0",
          "QE_2017_001814_601.42426_706.0",
          "QE_2017_001816_599.40869_793.0",
          "QE_2017_001815_618.42773_646.0",
          "QE_2017_001816_618.427_682.0",
          "QE_2017_001815_568.42627_841.0",
          "QE_2017_001814_565.4035_722.0",
          "QE_2017_001814_583.41406_682.0",
          "QE_2017_001815_583.41406_707.0",
          "QE_2017_001814_601.42334_783.0",
          "QE_2017_001815_583.41388_735.0",
          "QE_2017_001815_583.41418_647.0",
          "QE_2017_001816_463.12311_410.0",
          "QE_2017_001814_339.10742_366.0",
          "QE_2017_001816_339.10733_298.0",
          "QE_2017_001814_231.04967_404.0",
          "QE_2017_001815_231.04968_315.0",
          "QE_2017_001814_231.04971_516.0",
          "QE_2017_001815_231.04971_369.0",
          "QE_2017_001814_498.2543_475.0",
          "QE_2017_001815_340.16019_314.0",
          "QE_2017_001815_314.14453_76.0",
          "QE_2017_001816_314.14462_79.0",
          "QE_2017_001816_310.14957_134.0",
          "QE_2017_001816_342.17584_257.0",
          "QE_2017_001815_507.18192_178.0",
          "QE_2017_001814_611.15997_285.0",
          "QE_2017_001816_611.16064_309.0",
          "QE_2017_001816_533.15442_247.0",
          "QE_2017_001816_533.15466_222.0",
          "QE_2017_001815_533.1546_207.0",
          "QE_2017_001816_533.1546_271.0",
          "QE_2017_001814_347.09097_122.0",
          "QE_2017_001815_347.09067_204.0",
          "QE_2017_001815_268.10373_58.0",
          "QE_2017_001816_269.16055_60.0",
          "QE_2017_001815_364.34189_705.0",
          "QE_2017_001814_408.3681_703.0",
          "QE_2017_001816_466.40979_731.0",
          "QE_2017_001814_364.34241_751.0",
          "QE_2017_001814_424.36325_711.0",
          "QE_2017_001814_364.34244_761.0",
          "QE_2017_001814_421.35211_732.0",
          "QE_2017_001815_408.36853_717.0",
          "QE_2017_001815_482.40488_739.0",
          "QE_2017_001815_201.16367_442.0",
          "QE_2017_001816_201.16362_435.0",
          "QE_2017_001814_191.14291_389.0",
          "QE_2017_001815_191.14287_312.0",
          "QE_2017_001816_191.14291_404.0",
          "QE_2017_001814_219.17416_517.0",
          "QE_2017_001815_219.17426_497.0",
          "QE_2017_001814_219.17401_452.0",
          "QE_2017_001814_219.17409_442.0",
          "QE_2017_001816_137.09584_445.0",
          "QE_2017_001814_209.15335_478.0",
          "QE_2017_001815_209.1535_312.0",
          "QE_2017_001816_209.15344_311.0",
          "QE_2017_001815_227.16408_344.0",
          "QE_2017_001816_209.15341_296.0",
          "QE_2017_001814_243.15892_533.0",
          "QE_2017_001814_281.1745_492.0",
          "QE_2017_001814_293.2106_579.0",
          "QE_2017_001815_283.19009_564.0",
          "QE_2017_001815_207.13785_297.0",
          "QE_2017_001814_227.1275_293.0",
          "QE_2017_001816_227.12766_295.0",
          "QE_2017_001815_181.1221_767.0",
          "QE_2017_001816_181.12199_794.0",
          "QE_2017_001816_211.16916_405.0",
          "QE_2017_001815_209.0807_405.0",
          "QE_2017_001814_211.16902_440.0",
          "QE_2017_001815_211.16913_450.0",
          "QE_2017_001814_215.16406_483.0",
          "QE_2017_001815_215.164_550.0",
          "QE_2017_001814_209.08058_363.0",
          "QE_2017_001816_207.13779_561.0",
          "QE_2017_001816_320.29483_548.0",
          "QE_2017_001814_129.12737_348.0",
          "QE_2017_001814_171.14908_419.0",
          "QE_2017_001814_483.27118_651.0",
          "QE_2017_001816_338.26062_643.0",
          "QE_2017_001814_320.29456_577.0",
          "QE_2017_001815_320.29471_563.0",
          "QE_2017_001815_333.15173_245.0",
          "QE_2017_001816_333.15204_235.0",
          "QE_2017_001814_332.25827_467.0",
          "QE_2017_001815_332.25827_508.0",
          "QE_2017_001814_332.25842_486.0",
          "QE_2017_001816_332.25842_487.0",
          "QE_2017_001815_221.12837_99.0",
          "QE_2017_001816_237.12325_171.0",
          "QE_2017_001814_241.15446_57.0",
          "QE_2017_001814_241.15384_47.0",
          "QE_2017_001815_241.15437_67.0",
          "QE_2017_001814_320.29468_638.0",
          "QE_2017_001814_320.29471_529.0",
          "QE_2017_001814_320.29477_539.0",
          "QE_2017_001815_319.13623_118.0",
          "QE_2017_001816_319.13614_143.0",
          "QE_2017_001814_251.09117_393.0",
          "QE_2017_001815_219.10139_360.0",
          "QE_2017_001815_219.10146_381.0",
          "QE_2017_001815_219.10159_438.0",
          "QE_2017_001815_273.13425_199.0",
          "QE_2017_001815_273.13434_243.0",
          "QE_2017_001816_291.14499_200.0",
          "QE_2017_001814_291.1442_241.0",
          "QE_2017_001815_291.14493_242.0",
          "QE_2017_001814_251.13872_201.0",
          "QE_2017_001815_235.14388_180.0",
          "QE_2017_001815_235.14398_226.0",
          "QE_2017_001815_214.51021_60.0",
          "QE_2017_001816_268.59351_445.0",
          "QE_2017_001814_222.07031_314.0",
          "QE_2017_001814_250.10149_516.0",
          "QE_2017_001814_247.05975_245.0",
          "QE_2017_001815_247.0598_242.0",
          "QE_2017_001816_219.04672_291.0",
          "QE_2017_001815_212.03883_181.0",
          "QE_2017_001815_214.56488_409.0",
          "QE_2017_001816_132.04436_283.0",
          "QE_2017_001815_246.14465_137.0",
          "QE_2017_001816_247.12863_162.0",
          "QE_2017_001815_260.16016_140.0",
          "QE_2017_001816_260.16022_145.0",
          "QE_2017_001815_233.14944_150.0",
          "QE_2017_001814_233.14948_126.0",
          "QE_2017_001816_233.14955_129.0",
          "QE_2017_001816_229.15469_52.0",
          "QE_2017_001814_229.15399_46.0",
          "QE_2017_001814_229.15451_65.0",
          "QE_2017_001814_194.04424_237.0",
          "QE_2017_001814_194.1174_217.0",
          "QE_2017_001814_194.1174_244.0",
          "QE_2017_001815_194.11745_132.0",
          "QE_2017_001815_194.04469_299.0",
          "QE_2017_001815_194.04474_327.0",
          "QE_2017_001815_194.04471_314.0",
          "QE_2017_001815_212.05513_328.0",
          "QE_2017_001816_212.05518_300.0",
          "QE_2017_001815_212.05505_267.0",
          "QE_2017_001814_226.07077_397.0",
          "QE_2017_001815_194.04471_397.0",
          "QE_2017_001815_182.08109_52.0",
          "QE_2017_001816_177.05449_217.0",
          "QE_2017_001814_177.05418_236.0",
          "QE_2017_001815_177.05444_307.0",
          "QE_2017_001814_199.98778_290.0",
          "QE_2017_001815_199.98779_30.0",
          "QE_2017_001814_199.98772_303.0",
          "QE_2017_001815_199.98772_253.0",
          "QE_2017_001816_199.98769_294.0",
          "QE_2017_001815_199.98772_326.0",
          "QE_2017_001816_199.98781_313.0",
          "QE_2017_001816_199.98772_359.0",
          "QE_2017_001816_199.98779_335.0",
          "QE_2017_001815_797.51746_866.0",
          "QE_2017_001815_595.16559_315.0",
          "QE_2017_001815_463.12268_358.0",
          "QE_2017_001815_625.17633_345.0",
          "QE_2017_001815_265.01532_33.0",
          "QE_2017_001815_141.0508_33.0",
          "QE_2017_001815_260.16016_64.0",
          "QE_2017_001814_237.12305_220.0",
          "QE_2017_001815_237.12315_52.0"
         ],
         "tickvals": [
          5,
          15,
          25,
          35,
          45,
          55,
          65,
          75,
          85,
          95,
          105,
          115,
          125,
          135,
          145,
          155,
          165,
          175,
          185,
          195,
          205,
          215,
          225,
          235,
          245,
          255,
          265,
          275,
          285,
          295,
          305,
          315,
          325,
          335,
          345,
          355,
          365,
          375,
          385,
          395,
          405,
          415,
          425,
          435,
          445,
          455,
          465,
          475,
          485,
          495,
          505,
          515,
          525,
          535,
          545,
          555,
          565,
          575,
          585,
          595,
          605,
          615,
          625,
          635,
          645,
          655,
          665,
          675,
          685,
          695,
          705,
          715,
          725,
          735,
          745,
          755,
          765,
          775,
          785,
          795,
          805,
          815,
          825,
          835,
          845,
          855,
          865,
          875,
          885,
          895,
          905,
          915,
          925,
          935,
          945,
          955,
          965,
          975,
          985,
          995,
          1005,
          1015,
          1025,
          1035,
          1045,
          1055,
          1065,
          1075,
          1085,
          1095,
          1105,
          1115,
          1125,
          1135,
          1145,
          1155,
          1165,
          1175,
          1185,
          1195,
          1205,
          1215,
          1225,
          1235,
          1245,
          1255,
          1265,
          1275,
          1285,
          1295,
          1305,
          1315,
          1325,
          1335,
          1345,
          1355,
          1365,
          1375,
          1385,
          1395,
          1405,
          1415,
          1425,
          1435,
          1445,
          1455,
          1465,
          1475,
          1485,
          1495,
          1505,
          1515,
          1525,
          1535,
          1545,
          1555,
          1565,
          1575,
          1585,
          1595,
          1605,
          1615,
          1625,
          1635,
          1645,
          1655,
          1665,
          1675,
          1685,
          1695,
          1705,
          1715,
          1725,
          1735,
          1745,
          1755,
          1765,
          1775,
          1785,
          1795,
          1805,
          1815,
          1825,
          1835,
          1845,
          1855,
          1865,
          1875,
          1885,
          1895,
          1905,
          1915,
          1925,
          1935,
          1945,
          1955,
          1965,
          1975,
          1985
         ],
         "title": "sample",
         "type": "linear",
         "zeroline": false
        },
        "yaxis": {
         "mirror": "allticks",
         "rangemode": "tozero",
         "showgrid": false,
         "showline": true,
         "showticklabels": true,
         "ticks": "outside",
         "title": "distance",
         "type": "linear",
         "zeroline": false
        }
       }
      },
      "text/html": [
       "<div id=\"c319c635-3010-4df9-9b91-45fcfdb2c5f3\" style=\"height: 500px; width: 900px;\" class=\"plotly-graph-div\"></div><script type=\"text/javascript\">require([\"plotly\"], function(Plotly) { window.PLOTLYENV=window.PLOTLYENV || {};window.PLOTLYENV.BASE_URL=\"https://plot.ly\";Plotly.newPlot(\"c319c635-3010-4df9-9b91-45fcfdb2c5f3\", [{\"type\": \"scatter\", \"x\": [35.0, 35.0, 45.0, 45.0], \"y\": [0.0, 0.5774647887323944, 0.5774647887323944, 0.0], \"mode\": \"lines\", \"marker\": {\"color\": \"rgb(61,153,112)\"}, \"text\": null, \"hoverinfo\": \"all\", \"xaxis\": \"x\", \"yaxis\": \"y\"}, {\"type\": \"scatter\", \"x\": [25.0, 25.0, 40.0, 40.0], \"y\": [0.0, 0.6142857142857143, 0.6142857142857143, 0.5774647887323944], \"mode\": \"lines\", \"marker\": {\"color\": \"rgb(0,116,217)\"}, \"text\": null, \"hoverinfo\": \"all\", \"xaxis\": \"x\", \"yaxis\": \"y\"}, {\"type\": \"scatter\", \"x\": [15.0, 15.0, 32.5, 32.5], \"y\": [0.0, 0.7049180327868853, 0.7049180327868853, 0.6142857142857143], \"mode\": \"lines\", \"marker\": {\"color\": \"rgb(0,116,217)\"}, \"text\": null, \"hoverinfo\": \"all\", \"xaxis\": \"x\", \"yaxis\": \"y\"}, {\"type\": \"scatter\", \"x\": [5.0, 5.0, 23.75, 23.75], \"y\": [0.0, 0.7613636363636364, 0.7613636363636364, 0.7049180327868853], \"mode\": \"lines\", \"marker\": {\"color\": \"rgb(0,116,217)\"}, \"text\": null, \"hoverinfo\": \"all\", \"xaxis\": \"x\", \"yaxis\": \"y\"}, {\"type\": \"scatter\", \"x\": [105.0, 105.0, 115.0, 115.0], \"y\": [0.0, 0.2549019607843137, 0.2549019607843137, 0.0], \"mode\": \"lines\", \"marker\": {\"color\": \"rgb(255,65,54)\"}, \"text\": null, \"hoverinfo\": \"all\", \"xaxis\": \"x\", \"yaxis\": \"y\"}, {\"type\": \"scatter\", \"x\": [95.0, 95.0, 110.0, 110.0], \"y\": [0.0, 0.2777777777777778, 0.2777777777777778, 0.2549019607843137], \"mode\": \"lines\", \"marker\": {\"color\": \"rgb(255,65,54)\"}, \"text\": null, \"hoverinfo\": \"all\", \"xaxis\": \"x\", \"yaxis\": \"y\"}, {\"type\": \"scatter\", \"x\": [125.0, 125.0, 135.0, 135.0], \"y\": [0.0, 0.28125, 0.28125, 0.0], \"mode\": \"lines\", \"marker\": {\"color\": \"rgb(255,65,54)\"}, \"text\": null, \"hoverinfo\": \"all\", \"xaxis\": \"x\", \"yaxis\": \"y\"}, {\"type\": \"scatter\", \"x\": [102.5, 102.5, 130.0, 130.0], \"y\": [0.2777777777777778, 0.3333333333333333, 0.3333333333333333, 0.28125], \"mode\": \"lines\", \"marker\": {\"color\": \"rgb(255,65,54)\"}, \"text\": null, \"hoverinfo\": \"all\", \"xaxis\": \"x\", \"yaxis\": \"y\"}, {\"type\": \"scatter\", \"x\": [145.0, 145.0, 155.0, 155.0], \"y\": [0.0, 0.36923076923076925, 0.36923076923076925, 0.0], \"mode\": \"lines\", \"marker\": {\"color\": \"rgb(255,65,54)\"}, \"text\": null, \"hoverinfo\": \"all\", \"xaxis\": \"x\", \"yaxis\": \"y\"}, {\"type\": \"scatter\", \"x\": [116.25, 116.25, 150.0, 150.0], \"y\": [0.3333333333333333, 0.4057971014492754, 0.4057971014492754, 0.36923076923076925], \"mode\": \"lines\", \"marker\": {\"color\": \"rgb(255,65,54)\"}, \"text\": null, \"hoverinfo\": \"all\", \"xaxis\": \"x\", \"yaxis\": \"y\"}, {\"type\": \"scatter\", \"x\": [165.0, 165.0, 175.0, 175.0], \"y\": [0.0, 0.2698412698412698, 0.2698412698412698, 0.0], \"mode\": \"lines\", \"marker\": {\"color\": \"rgb(255,65,54)\"}, \"text\": null, \"hoverinfo\": \"all\", \"xaxis\": \"x\", \"yaxis\": \"y\"}, {\"type\": \"scatter\", \"x\": [195.0, 195.0, 205.0, 205.0], \"y\": [0.0, 0.28846153846153844, 0.28846153846153844, 0.0], \"mode\": \"lines\", \"marker\": {\"color\": \"rgb(255,65,54)\"}, \"text\": null, \"hoverinfo\": \"all\", \"xaxis\": \"x\", \"yaxis\": \"y\"}, {\"type\": \"scatter\", \"x\": [185.0, 185.0, 200.0, 200.0], \"y\": [0.0, 0.37735849056603776, 0.37735849056603776, 0.28846153846153844], \"mode\": \"lines\", \"marker\": {\"color\": \"rgb(255,65,54)\"}, \"text\": null, \"hoverinfo\": \"all\", \"xaxis\": \"x\", \"yaxis\": \"y\"}, {\"type\": \"scatter\", \"x\": [170.0, 170.0, 192.5, 192.5], \"y\": [0.2698412698412698, 0.4262295081967213, 0.4262295081967213, 0.37735849056603776], \"mode\": \"lines\", \"marker\": {\"color\": \"rgb(255,65,54)\"}, \"text\": null, \"hoverinfo\": \"all\", \"xaxis\": \"x\", \"yaxis\": \"y\"}, {\"type\": \"scatter\", \"x\": [133.125, 133.125, 181.25, 181.25], \"y\": [0.4057971014492754, 0.45454545454545453, 0.45454545454545453, 0.4262295081967213], \"mode\": \"lines\", \"marker\": {\"color\": \"rgb(255,65,54)\"}, \"text\": null, \"hoverinfo\": \"all\", \"xaxis\": \"x\", \"yaxis\": \"y\"}, {\"type\": \"scatter\", \"x\": [85.0, 85.0, 157.1875, 157.1875], \"y\": [0.0, 0.4925373134328358, 0.4925373134328358, 0.45454545454545453], \"mode\": \"lines\", \"marker\": {\"color\": \"rgb(255,65,54)\"}, \"text\": null, \"hoverinfo\": \"all\", \"xaxis\": \"x\", \"yaxis\": \"y\"}, {\"type\": \"scatter\", \"x\": [75.0, 75.0, 121.09375, 121.09375], \"y\": [0.0, 0.5652173913043478, 0.5652173913043478, 0.4925373134328358], \"mode\": \"lines\", \"marker\": {\"color\": \"rgb(255,65,54)\"}, \"text\": null, \"hoverinfo\": \"all\", \"xaxis\": \"x\", \"yaxis\": \"y\"}, {\"type\": \"scatter\", \"x\": [65.0, 65.0, 98.046875, 98.046875], \"y\": [0.0, 0.6904761904761905, 0.6904761904761905, 0.5652173913043478], \"mode\": \"lines\", \"marker\": {\"color\": \"rgb(0,116,217)\"}, \"text\": null, \"hoverinfo\": \"all\", \"xaxis\": \"x\", \"yaxis\": \"y\"}, {\"type\": \"scatter\", \"x\": [55.0, 55.0, 81.5234375, 81.5234375], \"y\": [0.0, 0.7981651376146789, 0.7981651376146789, 0.6904761904761905], \"mode\": \"lines\", \"marker\": {\"color\": \"rgb(0,116,217)\"}, \"text\": null, \"hoverinfo\": \"all\", \"xaxis\": \"x\", \"yaxis\": \"y\"}, {\"type\": \"scatter\", \"x\": [225.0, 225.0, 235.0, 235.0], \"y\": [0.0, 0.609375, 0.609375, 0.0], \"mode\": \"lines\", \"marker\": {\"color\": \"rgb(0,116,217)\"}, \"text\": null, \"hoverinfo\": \"all\", \"xaxis\": \"x\", \"yaxis\": \"y\"}, {\"type\": \"scatter\", \"x\": [255.0, 255.0, 265.0, 265.0], \"y\": [0.0, 0.36764705882352944, 0.36764705882352944, 0.0], \"mode\": \"lines\", \"marker\": {\"color\": \"rgb(35,205,205)\"}, \"text\": null, \"hoverinfo\": \"all\", \"xaxis\": \"x\", \"yaxis\": \"y\"}, {\"type\": \"scatter\", \"x\": [245.0, 245.0, 260.0, 260.0], \"y\": [0.0, 0.5342465753424658, 0.5342465753424658, 0.36764705882352944], \"mode\": \"lines\", \"marker\": {\"color\": \"rgb(35,205,205)\"}, \"text\": null, \"hoverinfo\": \"all\", \"xaxis\": \"x\", \"yaxis\": \"y\"}, {\"type\": \"scatter\", \"x\": [275.0, 275.0, 285.0, 285.0], \"y\": [0.0, 0.23529411764705882, 0.23529411764705882, 0.0], \"mode\": \"lines\", \"marker\": {\"color\": \"rgb(133,20,75)\"}, \"text\": null, \"hoverinfo\": \"all\", \"xaxis\": \"x\", \"yaxis\": \"y\"}, {\"type\": \"scatter\", \"x\": [295.0, 295.0, 305.0, 305.0], \"y\": [0.0, 0.4444444444444444, 0.4444444444444444, 0.0], \"mode\": \"lines\", \"marker\": {\"color\": \"rgb(133,20,75)\"}, \"text\": null, \"hoverinfo\": \"all\", \"xaxis\": \"x\", \"yaxis\": \"y\"}, {\"type\": \"scatter\", \"x\": [280.0, 280.0, 300.0, 300.0], \"y\": [0.23529411764705882, 0.5585585585585585, 0.5585585585585585, 0.4444444444444444], \"mode\": \"lines\", \"marker\": {\"color\": \"rgb(133,20,75)\"}, \"text\": null, \"hoverinfo\": \"all\", \"xaxis\": \"x\", \"yaxis\": \"y\"}, {\"type\": \"scatter\", \"x\": [252.5, 252.5, 290.0, 290.0], \"y\": [0.5342465753424658, 0.6902654867256637, 0.6902654867256637, 0.5585585585585585], \"mode\": \"lines\", \"marker\": {\"color\": \"rgb(0,116,217)\"}, \"text\": null, \"hoverinfo\": \"all\", \"xaxis\": \"x\", \"yaxis\": \"y\"}, {\"type\": \"scatter\", \"x\": [230.0, 230.0, 271.25, 271.25], \"y\": [0.609375, 0.7619047619047619, 0.7619047619047619, 0.6902654867256637], \"mode\": \"lines\", \"marker\": {\"color\": \"rgb(0,116,217)\"}, \"text\": null, \"hoverinfo\": \"all\", \"xaxis\": \"x\", \"yaxis\": \"y\"}, {\"type\": \"scatter\", \"x\": [215.0, 215.0, 250.625, 250.625], \"y\": [0.0, 0.8266666666666667, 0.8266666666666667, 0.7619047619047619], \"mode\": \"lines\", \"marker\": {\"color\": \"rgb(0,116,217)\"}, \"text\": null, \"hoverinfo\": \"all\", \"xaxis\": \"x\", \"yaxis\": \"y\"}, {\"type\": \"scatter\", \"x\": [68.26171875, 68.26171875, 232.8125, 232.8125], \"y\": [0.7981651376146789, 0.8712871287128713, 0.8712871287128713, 0.8266666666666667], \"mode\": \"lines\", \"marker\": {\"color\": \"rgb(0,116,217)\"}, \"text\": null, \"hoverinfo\": \"all\", \"xaxis\": \"x\", \"yaxis\": \"y\"}, {\"type\": \"scatter\", \"x\": [14.375, 14.375, 150.537109375, 150.537109375], \"y\": [0.7613636363636364, 0.9014084507042254, 0.9014084507042254, 0.8712871287128713], \"mode\": \"lines\", \"marker\": {\"color\": \"rgb(0,116,217)\"}, \"text\": null, \"hoverinfo\": \"all\", \"xaxis\": \"x\", \"yaxis\": \"y\"}, {\"type\": \"scatter\", \"x\": [345.0, 345.0, 355.0, 355.0], \"y\": [0.0, 0.6336633663366337, 0.6336633663366337, 0.0], \"mode\": \"lines\", \"marker\": {\"color\": \"rgb(0,116,217)\"}, \"text\": null, \"hoverinfo\": \"all\", \"xaxis\": \"x\", \"yaxis\": \"y\"}, {\"type\": \"scatter\", \"x\": [335.0, 335.0, 350.0, 350.0], \"y\": [0.0, 0.6629213483146067, 0.6629213483146067, 0.6336633663366337], \"mode\": \"lines\", \"marker\": {\"color\": \"rgb(0,116,217)\"}, \"text\": null, \"hoverinfo\": \"all\", \"xaxis\": \"x\", \"yaxis\": \"y\"}, {\"type\": \"scatter\", \"x\": [325.0, 325.0, 342.5, 342.5], \"y\": [0.0, 0.7604166666666666, 0.7604166666666666, 0.6629213483146067], \"mode\": \"lines\", \"marker\": {\"color\": \"rgb(0,116,217)\"}, \"text\": null, \"hoverinfo\": \"all\", \"xaxis\": \"x\", \"yaxis\": \"y\"}, {\"type\": \"scatter\", \"x\": [315.0, 315.0, 333.75, 333.75], \"y\": [0.0, 0.8023255813953488, 0.8023255813953488, 0.7604166666666666], \"mode\": \"lines\", \"marker\": {\"color\": \"rgb(0,116,217)\"}, \"text\": null, \"hoverinfo\": \"all\", \"xaxis\": \"x\", \"yaxis\": \"y\"}, {\"type\": \"scatter\", \"x\": [365.0, 365.0, 375.0, 375.0], \"y\": [0.0, 0.4713114754098361, 0.4713114754098361, 0.0], \"mode\": \"lines\", \"marker\": {\"color\": \"rgb(255,220,0)\"}, \"text\": null, \"hoverinfo\": \"all\", \"xaxis\": \"x\", \"yaxis\": \"y\"}, {\"type\": \"scatter\", \"x\": [405.0, 405.0, 415.0, 415.0], \"y\": [0.0, 0.5222222222222223, 0.5222222222222223, 0.0], \"mode\": \"lines\", \"marker\": {\"color\": \"rgb(40,35,35)\"}, \"text\": null, \"hoverinfo\": \"all\", \"xaxis\": \"x\", \"yaxis\": \"y\"}, {\"type\": \"scatter\", \"x\": [395.0, 395.0, 410.0, 410.0], \"y\": [0.0, 0.6097560975609756, 0.6097560975609756, 0.5222222222222223], \"mode\": \"lines\", \"marker\": {\"color\": \"rgb(0,116,217)\"}, \"text\": null, \"hoverinfo\": \"all\", \"xaxis\": \"x\", \"yaxis\": \"y\"}, {\"type\": \"scatter\", \"x\": [435.0, 435.0, 445.0, 445.0], \"y\": [0.0, 0.524822695035461, 0.524822695035461, 0.0], \"mode\": \"lines\", \"marker\": {\"color\": \"rgb(61,153,112)\"}, \"text\": null, \"hoverinfo\": \"all\", \"xaxis\": \"x\", \"yaxis\": \"y\"}, {\"type\": \"scatter\", \"x\": [425.0, 425.0, 440.0, 440.0], \"y\": [0.0, 0.6983240223463687, 0.6983240223463687, 0.524822695035461], \"mode\": \"lines\", \"marker\": {\"color\": \"rgb(0,116,217)\"}, \"text\": null, \"hoverinfo\": \"all\", \"xaxis\": \"x\", \"yaxis\": \"y\"}, {\"type\": \"scatter\", \"x\": [402.5, 402.5, 432.5, 432.5], \"y\": [0.6097560975609756, 0.7364341085271318, 0.7364341085271318, 0.6983240223463687], \"mode\": \"lines\", \"marker\": {\"color\": \"rgb(0,116,217)\"}, \"text\": null, \"hoverinfo\": \"all\", \"xaxis\": \"x\", \"yaxis\": \"y\"}, {\"type\": \"scatter\", \"x\": [385.0, 385.0, 417.5, 417.5], \"y\": [0.0, 0.7661290322580645, 0.7661290322580645, 0.7364341085271318], \"mode\": \"lines\", \"marker\": {\"color\": \"rgb(0,116,217)\"}, \"text\": null, \"hoverinfo\": \"all\", \"xaxis\": \"x\", \"yaxis\": \"y\"}, {\"type\": \"scatter\", \"x\": [370.0, 370.0, 401.25, 401.25], \"y\": [0.4713114754098361, 0.8212765957446808, 0.8212765957446808, 0.7661290322580645], \"mode\": \"lines\", \"marker\": {\"color\": \"rgb(0,116,217)\"}, \"text\": null, \"hoverinfo\": \"all\", \"xaxis\": \"x\", \"yaxis\": \"y\"}, {\"type\": \"scatter\", \"x\": [324.375, 324.375, 385.625, 385.625], \"y\": [0.8023255813953488, 0.9403973509933775, 0.9403973509933775, 0.8212765957446808], \"mode\": \"lines\", \"marker\": {\"color\": \"rgb(0,116,217)\"}, \"text\": null, \"hoverinfo\": \"all\", \"xaxis\": \"x\", \"yaxis\": \"y\"}, {\"type\": \"scatter\", \"x\": [82.4560546875, 82.4560546875, 355.0, 355.0], \"y\": [0.9014084507042254, 0.9705882352941176, 0.9705882352941176, 0.9403973509933775], \"mode\": \"lines\", \"marker\": {\"color\": \"rgb(0,116,217)\"}, \"text\": null, \"hoverinfo\": \"all\", \"xaxis\": \"x\", \"yaxis\": \"y\"}, {\"type\": \"scatter\", \"x\": [465.0, 465.0, 475.0, 475.0], \"y\": [0.0, 0.4230769230769231, 0.4230769230769231, 0.0], \"mode\": \"lines\", \"marker\": {\"color\": \"rgb(255,65,54)\"}, \"text\": null, \"hoverinfo\": \"all\", \"xaxis\": \"x\", \"yaxis\": \"y\"}, {\"type\": \"scatter\", \"x\": [505.0, 505.0, 515.0, 515.0], \"y\": [0.0, 0.375, 0.375, 0.0], \"mode\": \"lines\", \"marker\": {\"color\": \"rgb(35,205,205)\"}, \"text\": null, \"hoverinfo\": \"all\", \"xaxis\": \"x\", \"yaxis\": \"y\"}, {\"type\": \"scatter\", \"x\": [495.0, 495.0, 510.0, 510.0], \"y\": [0.0, 0.391304347826087, 0.391304347826087, 0.375], \"mode\": \"lines\", \"marker\": {\"color\": \"rgb(35,205,205)\"}, \"text\": null, \"hoverinfo\": \"all\", \"xaxis\": \"x\", \"yaxis\": \"y\"}, {\"type\": \"scatter\", \"x\": [485.0, 485.0, 502.5, 502.5], \"y\": [0.0, 0.5, 0.5, 0.391304347826087], \"mode\": \"lines\", \"marker\": {\"color\": \"rgb(35,205,205)\"}, \"text\": null, \"hoverinfo\": \"all\", \"xaxis\": \"x\", \"yaxis\": \"y\"}, {\"type\": \"scatter\", \"x\": [470.0, 470.0, 493.75, 493.75], \"y\": [0.4230769230769231, 0.7878787878787878, 0.7878787878787878, 0.5], \"mode\": \"lines\", \"marker\": {\"color\": \"rgb(0,116,217)\"}, \"text\": null, \"hoverinfo\": \"all\", \"xaxis\": \"x\", \"yaxis\": \"y\"}, {\"type\": \"scatter\", \"x\": [525.0, 525.0, 535.0, 535.0], \"y\": [0.0, 0.6981132075471698, 0.6981132075471698, 0.0], \"mode\": \"lines\", \"marker\": {\"color\": \"rgb(0,116,217)\"}, \"text\": null, \"hoverinfo\": \"all\", \"xaxis\": \"x\", \"yaxis\": \"y\"}, {\"type\": \"scatter\", \"x\": [545.0, 545.0, 555.0, 555.0], \"y\": [0.0, 0.4074074074074074, 0.4074074074074074, 0.0], \"mode\": \"lines\", \"marker\": {\"color\": \"rgb(133,20,75)\"}, \"text\": null, \"hoverinfo\": \"all\", \"xaxis\": \"x\", \"yaxis\": \"y\"}, {\"type\": \"scatter\", \"x\": [565.0, 565.0, 575.0, 575.0], \"y\": [0.0, 0.6896551724137931, 0.6896551724137931, 0.0], \"mode\": \"lines\", \"marker\": {\"color\": \"rgb(0,116,217)\"}, \"text\": null, \"hoverinfo\": \"all\", \"xaxis\": \"x\", \"yaxis\": \"y\"}, {\"type\": \"scatter\", \"x\": [550.0, 550.0, 570.0, 570.0], \"y\": [0.4074074074074074, 0.7567567567567568, 0.7567567567567568, 0.6896551724137931], \"mode\": \"lines\", \"marker\": {\"color\": \"rgb(0,116,217)\"}, \"text\": null, \"hoverinfo\": \"all\", \"xaxis\": \"x\", \"yaxis\": \"y\"}, {\"type\": \"scatter\", \"x\": [530.0, 530.0, 560.0, 560.0], \"y\": [0.6981132075471698, 0.8604651162790697, 0.8604651162790697, 0.7567567567567568], \"mode\": \"lines\", \"marker\": {\"color\": \"rgb(0,116,217)\"}, \"text\": null, \"hoverinfo\": \"all\", \"xaxis\": \"x\", \"yaxis\": \"y\"}, {\"type\": \"scatter\", \"x\": [481.875, 481.875, 545.0, 545.0], \"y\": [0.7878787878787878, 0.88, 0.88, 0.8604651162790697], \"mode\": \"lines\", \"marker\": {\"color\": \"rgb(0,116,217)\"}, \"text\": null, \"hoverinfo\": \"all\", \"xaxis\": \"x\", \"yaxis\": \"y\"}, {\"type\": \"scatter\", \"x\": [595.0, 595.0, 605.0, 605.0], \"y\": [0.0, 0.36363636363636365, 0.36363636363636365, 0.0], \"mode\": \"lines\", \"marker\": {\"color\": \"rgb(255,220,0)\"}, \"text\": null, \"hoverinfo\": \"all\", \"xaxis\": \"x\", \"yaxis\": \"y\"}, {\"type\": \"scatter\", \"x\": [585.0, 585.0, 600.0, 600.0], \"y\": [0.0, 0.926829268292683, 0.926829268292683, 0.36363636363636365], \"mode\": \"lines\", \"marker\": {\"color\": \"rgb(0,116,217)\"}, \"text\": null, \"hoverinfo\": \"all\", \"xaxis\": \"x\", \"yaxis\": \"y\"}, {\"type\": \"scatter\", \"x\": [513.4375, 513.4375, 592.5, 592.5], \"y\": [0.88, 0.9473684210526315, 0.9473684210526315, 0.926829268292683], \"mode\": \"lines\", \"marker\": {\"color\": \"rgb(0,116,217)\"}, \"text\": null, \"hoverinfo\": \"all\", \"xaxis\": \"x\", \"yaxis\": \"y\"}, {\"type\": \"scatter\", \"x\": [455.0, 455.0, 552.96875, 552.96875], \"y\": [0.0, 0.9705882352941176, 0.9705882352941176, 0.9473684210526315], \"mode\": \"lines\", \"marker\": {\"color\": \"rgb(0,116,217)\"}, \"text\": null, \"hoverinfo\": \"all\", \"xaxis\": \"x\", \"yaxis\": \"y\"}, {\"type\": \"scatter\", \"x\": [615.0, 615.0, 625.0, 625.0], \"y\": [0.0, 0.36231884057971014, 0.36231884057971014, 0.0], \"mode\": \"lines\", \"marker\": {\"color\": \"rgb(40,35,35)\"}, \"text\": null, \"hoverinfo\": \"all\", \"xaxis\": \"x\", \"yaxis\": \"y\"}, {\"type\": \"scatter\", \"x\": [635.0, 635.0, 645.0, 645.0], \"y\": [0.0, 0.44776119402985076, 0.44776119402985076, 0.0], \"mode\": \"lines\", \"marker\": {\"color\": \"rgb(40,35,35)\"}, \"text\": null, \"hoverinfo\": \"all\", \"xaxis\": \"x\", \"yaxis\": \"y\"}, {\"type\": \"scatter\", \"x\": [620.0, 620.0, 640.0, 640.0], \"y\": [0.36231884057971014, 0.4931506849315068, 0.4931506849315068, 0.44776119402985076], \"mode\": \"lines\", \"marker\": {\"color\": \"rgb(40,35,35)\"}, \"text\": null, \"hoverinfo\": \"all\", \"xaxis\": \"x\", \"yaxis\": \"y\"}, {\"type\": \"scatter\", \"x\": [655.0, 655.0, 665.0, 665.0], \"y\": [0.0, 0.5, 0.5, 0.0], \"mode\": \"lines\", \"marker\": {\"color\": \"rgb(61,153,112)\"}, \"text\": null, \"hoverinfo\": \"all\", \"xaxis\": \"x\", \"yaxis\": \"y\"}, {\"type\": \"scatter\", \"x\": [630.0, 630.0, 660.0, 660.0], \"y\": [0.4931506849315068, 0.8817204301075269, 0.8817204301075269, 0.5], \"mode\": \"lines\", \"marker\": {\"color\": \"rgb(0,116,217)\"}, \"text\": null, \"hoverinfo\": \"all\", \"xaxis\": \"x\", \"yaxis\": \"y\"}, {\"type\": \"scatter\", \"x\": [675.0, 675.0, 685.0, 685.0], \"y\": [0.0, 0.4117647058823529, 0.4117647058823529, 0.0], \"mode\": \"lines\", \"marker\": {\"color\": \"rgb(255,65,54)\"}, \"text\": null, \"hoverinfo\": \"all\", \"xaxis\": \"x\", \"yaxis\": \"y\"}, {\"type\": \"scatter\", \"x\": [705.0, 705.0, 715.0, 715.0], \"y\": [0.0, 0.42857142857142855, 0.42857142857142855, 0.0], \"mode\": \"lines\", \"marker\": {\"color\": \"rgb(35,205,205)\"}, \"text\": null, \"hoverinfo\": \"all\", \"xaxis\": \"x\", \"yaxis\": \"y\"}, {\"type\": \"scatter\", \"x\": [695.0, 695.0, 710.0, 710.0], \"y\": [0.0, 0.7058823529411765, 0.7058823529411765, 0.42857142857142855], \"mode\": \"lines\", \"marker\": {\"color\": \"rgb(0,116,217)\"}, \"text\": null, \"hoverinfo\": \"all\", \"xaxis\": \"x\", \"yaxis\": \"y\"}, {\"type\": \"scatter\", \"x\": [745.0, 745.0, 755.0, 755.0], \"y\": [0.0, 0.35714285714285715, 0.35714285714285715, 0.0], \"mode\": \"lines\", \"marker\": {\"color\": \"rgb(133,20,75)\"}, \"text\": null, \"hoverinfo\": \"all\", \"xaxis\": \"x\", \"yaxis\": \"y\"}, {\"type\": \"scatter\", \"x\": [735.0, 735.0, 750.0, 750.0], \"y\": [0.0, 0.47058823529411764, 0.47058823529411764, 0.35714285714285715], \"mode\": \"lines\", \"marker\": {\"color\": \"rgb(133,20,75)\"}, \"text\": null, \"hoverinfo\": \"all\", \"xaxis\": \"x\", \"yaxis\": \"y\"}, {\"type\": \"scatter\", \"x\": [725.0, 725.0, 742.5, 742.5], \"y\": [0.0, 0.631578947368421, 0.631578947368421, 0.47058823529411764], \"mode\": \"lines\", \"marker\": {\"color\": \"rgb(0,116,217)\"}, \"text\": null, \"hoverinfo\": \"all\", \"xaxis\": \"x\", \"yaxis\": \"y\"}, {\"type\": \"scatter\", \"x\": [765.0, 765.0, 775.0, 775.0], \"y\": [0.0, 0.725, 0.725, 0.0], \"mode\": \"lines\", \"marker\": {\"color\": \"rgb(0,116,217)\"}, \"text\": null, \"hoverinfo\": \"all\", \"xaxis\": \"x\", \"yaxis\": \"y\"}, {\"type\": \"scatter\", \"x\": [733.75, 733.75, 770.0, 770.0], \"y\": [0.631578947368421, 0.7407407407407407, 0.7407407407407407, 0.725], \"mode\": \"lines\", \"marker\": {\"color\": \"rgb(0,116,217)\"}, \"text\": null, \"hoverinfo\": \"all\", \"xaxis\": \"x\", \"yaxis\": \"y\"}, {\"type\": \"scatter\", \"x\": [702.5, 702.5, 751.875, 751.875], \"y\": [0.7058823529411765, 0.85, 0.85, 0.7407407407407407], \"mode\": \"lines\", \"marker\": {\"color\": \"rgb(0,116,217)\"}, \"text\": null, \"hoverinfo\": \"all\", \"xaxis\": \"x\", \"yaxis\": \"y\"}, {\"type\": \"scatter\", \"x\": [680.0, 680.0, 727.1875, 727.1875], \"y\": [0.4117647058823529, 0.9818181818181818, 0.9818181818181818, 0.85], \"mode\": \"lines\", \"marker\": {\"color\": \"rgb(0,116,217)\"}, \"text\": null, \"hoverinfo\": \"all\", \"xaxis\": \"x\", \"yaxis\": \"y\"}, {\"type\": \"scatter\", \"x\": [785.0, 785.0, 795.0, 795.0], \"y\": [0.0, 0.47540983606557374, 0.47540983606557374, 0.0], \"mode\": \"lines\", \"marker\": {\"color\": \"rgb(255,220,0)\"}, \"text\": null, \"hoverinfo\": \"all\", \"xaxis\": \"x\", \"yaxis\": \"y\"}, {\"type\": \"scatter\", \"x\": [815.0, 815.0, 825.0, 825.0], \"y\": [0.0, 0.423728813559322, 0.423728813559322, 0.0], \"mode\": \"lines\", \"marker\": {\"color\": \"rgb(40,35,35)\"}, \"text\": null, \"hoverinfo\": \"all\", \"xaxis\": \"x\", \"yaxis\": \"y\"}, {\"type\": \"scatter\", \"x\": [805.0, 805.0, 820.0, 820.0], \"y\": [0.0, 0.49019607843137253, 0.49019607843137253, 0.423728813559322], \"mode\": \"lines\", \"marker\": {\"color\": \"rgb(40,35,35)\"}, \"text\": null, \"hoverinfo\": \"all\", \"xaxis\": \"x\", \"yaxis\": \"y\"}, {\"type\": \"scatter\", \"x\": [855.0, 855.0, 865.0, 865.0], \"y\": [0.0, 0.30612244897959184, 0.30612244897959184, 0.0], \"mode\": \"lines\", \"marker\": {\"color\": \"rgb(61,153,112)\"}, \"text\": null, \"hoverinfo\": \"all\", \"xaxis\": \"x\", \"yaxis\": \"y\"}, {\"type\": \"scatter\", \"x\": [845.0, 845.0, 860.0, 860.0], \"y\": [0.0, 0.3728813559322034, 0.3728813559322034, 0.30612244897959184], \"mode\": \"lines\", \"marker\": {\"color\": \"rgb(61,153,112)\"}, \"text\": null, \"hoverinfo\": \"all\", \"xaxis\": \"x\", \"yaxis\": \"y\"}, {\"type\": \"scatter\", \"x\": [835.0, 835.0, 852.5, 852.5], \"y\": [0.0, 0.5, 0.5, 0.3728813559322034], \"mode\": \"lines\", \"marker\": {\"color\": \"rgb(61,153,112)\"}, \"text\": null, \"hoverinfo\": \"all\", \"xaxis\": \"x\", \"yaxis\": \"y\"}, {\"type\": \"scatter\", \"x\": [812.5, 812.5, 843.75, 843.75], \"y\": [0.49019607843137253, 0.6862745098039216, 0.6862745098039216, 0.5], \"mode\": \"lines\", \"marker\": {\"color\": \"rgb(0,116,217)\"}, \"text\": null, \"hoverinfo\": \"all\", \"xaxis\": \"x\", \"yaxis\": \"y\"}, {\"type\": \"scatter\", \"x\": [790.0, 790.0, 828.125, 828.125], \"y\": [0.47540983606557374, 0.7857142857142857, 0.7857142857142857, 0.6862745098039216], \"mode\": \"lines\", \"marker\": {\"color\": \"rgb(0,116,217)\"}, \"text\": null, \"hoverinfo\": \"all\", \"xaxis\": \"x\", \"yaxis\": \"y\"}, {\"type\": \"scatter\", \"x\": [895.0, 895.0, 905.0, 905.0], \"y\": [0.0, 0.2876712328767123, 0.2876712328767123, 0.0], \"mode\": \"lines\", \"marker\": {\"color\": \"rgb(255,65,54)\"}, \"text\": null, \"hoverinfo\": \"all\", \"xaxis\": \"x\", \"yaxis\": \"y\"}, {\"type\": \"scatter\", \"x\": [885.0, 885.0, 900.0, 900.0], \"y\": [0.0, 0.39473684210526316, 0.39473684210526316, 0.2876712328767123], \"mode\": \"lines\", \"marker\": {\"color\": \"rgb(255,65,54)\"}, \"text\": null, \"hoverinfo\": \"all\", \"xaxis\": \"x\", \"yaxis\": \"y\"}, {\"type\": \"scatter\", \"x\": [915.0, 915.0, 925.0, 925.0], \"y\": [0.0, 0.45569620253164556, 0.45569620253164556, 0.0], \"mode\": \"lines\", \"marker\": {\"color\": \"rgb(255,65,54)\"}, \"text\": null, \"hoverinfo\": \"all\", \"xaxis\": \"x\", \"yaxis\": \"y\"}, {\"type\": \"scatter\", \"x\": [892.5, 892.5, 920.0, 920.0], \"y\": [0.39473684210526316, 0.5119047619047619, 0.5119047619047619, 0.45569620253164556], \"mode\": \"lines\", \"marker\": {\"color\": \"rgb(255,65,54)\"}, \"text\": null, \"hoverinfo\": \"all\", \"xaxis\": \"x\", \"yaxis\": \"y\"}, {\"type\": \"scatter\", \"x\": [935.0, 935.0, 945.0, 945.0], \"y\": [0.0, 0.35384615384615387, 0.35384615384615387, 0.0], \"mode\": \"lines\", \"marker\": {\"color\": \"rgb(35,205,205)\"}, \"text\": null, \"hoverinfo\": \"all\", \"xaxis\": \"x\", \"yaxis\": \"y\"}, {\"type\": \"scatter\", \"x\": [955.0, 955.0, 965.0, 965.0], \"y\": [0.0, 0.54, 0.54, 0.0], \"mode\": \"lines\", \"marker\": {\"color\": \"rgb(35,205,205)\"}, \"text\": null, \"hoverinfo\": \"all\", \"xaxis\": \"x\", \"yaxis\": \"y\"}, {\"type\": \"scatter\", \"x\": [940.0, 940.0, 960.0, 960.0], \"y\": [0.35384615384615387, 0.5934065934065934, 0.5934065934065934, 0.54], \"mode\": \"lines\", \"marker\": {\"color\": \"rgb(35,205,205)\"}, \"text\": null, \"hoverinfo\": \"all\", \"xaxis\": \"x\", \"yaxis\": \"y\"}, {\"type\": \"scatter\", \"x\": [906.25, 906.25, 950.0, 950.0], \"y\": [0.5119047619047619, 0.6530612244897959, 0.6530612244897959, 0.5934065934065934], \"mode\": \"lines\", \"marker\": {\"color\": \"rgb(0,116,217)\"}, \"text\": null, \"hoverinfo\": \"all\", \"xaxis\": \"x\", \"yaxis\": \"y\"}, {\"type\": \"scatter\", \"x\": [985.0, 985.0, 995.0, 995.0], \"y\": [0.0, 0.3333333333333333, 0.3333333333333333, 0.0], \"mode\": \"lines\", \"marker\": {\"color\": \"rgb(133,20,75)\"}, \"text\": null, \"hoverinfo\": \"all\", \"xaxis\": \"x\", \"yaxis\": \"y\"}, {\"type\": \"scatter\", \"x\": [975.0, 975.0, 990.0, 990.0], \"y\": [0.0, 0.6753246753246753, 0.6753246753246753, 0.3333333333333333], \"mode\": \"lines\", \"marker\": {\"color\": \"rgb(0,116,217)\"}, \"text\": null, \"hoverinfo\": \"all\", \"xaxis\": \"x\", \"yaxis\": \"y\"}, {\"type\": \"scatter\", \"x\": [928.125, 928.125, 982.5, 982.5], \"y\": [0.6530612244897959, 0.7093023255813954, 0.7093023255813954, 0.6753246753246753], \"mode\": \"lines\", \"marker\": {\"color\": \"rgb(0,116,217)\"}, \"text\": null, \"hoverinfo\": \"all\", \"xaxis\": \"x\", \"yaxis\": \"y\"}, {\"type\": \"scatter\", \"x\": [1005.0, 1005.0, 1015.0, 1015.0], \"y\": [0.0, 0.2777777777777778, 0.2777777777777778, 0.0], \"mode\": \"lines\", \"marker\": {\"color\": \"rgb(255,220,0)\"}, \"text\": null, \"hoverinfo\": \"all\", \"xaxis\": \"x\", \"yaxis\": \"y\"}, {\"type\": \"scatter\", \"x\": [1045.0, 1045.0, 1055.0, 1055.0], \"y\": [0.0, 0.18867924528301888, 0.18867924528301888, 0.0], \"mode\": \"lines\", \"marker\": {\"color\": \"rgb(40,35,35)\"}, \"text\": null, \"hoverinfo\": \"all\", \"xaxis\": \"x\", \"yaxis\": \"y\"}, {\"type\": \"scatter\", \"x\": [1035.0, 1035.0, 1050.0, 1050.0], \"y\": [0.0, 0.20754716981132076, 0.20754716981132076, 0.18867924528301888], \"mode\": \"lines\", \"marker\": {\"color\": \"rgb(40,35,35)\"}, \"text\": null, \"hoverinfo\": \"all\", \"xaxis\": \"x\", \"yaxis\": \"y\"}, {\"type\": \"scatter\", \"x\": [1025.0, 1025.0, 1042.5, 1042.5], \"y\": [0.0, 0.29508196721311475, 0.29508196721311475, 0.20754716981132076], \"mode\": \"lines\", \"marker\": {\"color\": \"rgb(40,35,35)\"}, \"text\": null, \"hoverinfo\": \"all\", \"xaxis\": \"x\", \"yaxis\": \"y\"}, {\"type\": \"scatter\", \"x\": [1065.0, 1065.0, 1075.0, 1075.0], \"y\": [0.0, 0.54, 0.54, 0.0], \"mode\": \"lines\", \"marker\": {\"color\": \"rgb(40,35,35)\"}, \"text\": null, \"hoverinfo\": \"all\", \"xaxis\": \"x\", \"yaxis\": \"y\"}, {\"type\": \"scatter\", \"x\": [1033.75, 1033.75, 1070.0, 1070.0], \"y\": [0.29508196721311475, 0.5714285714285714, 0.5714285714285714, 0.54], \"mode\": \"lines\", \"marker\": {\"color\": \"rgb(40,35,35)\"}, \"text\": null, \"hoverinfo\": \"all\", \"xaxis\": \"x\", \"yaxis\": \"y\"}, {\"type\": \"scatter\", \"x\": [1010.0, 1010.0, 1051.875, 1051.875], \"y\": [0.2777777777777778, 0.75, 0.75, 0.5714285714285714], \"mode\": \"lines\", \"marker\": {\"color\": \"rgb(0,116,217)\"}, \"text\": null, \"hoverinfo\": \"all\", \"xaxis\": \"x\", \"yaxis\": \"y\"}, {\"type\": \"scatter\", \"x\": [955.3125, 955.3125, 1030.9375, 1030.9375], \"y\": [0.7093023255813954, 0.7662337662337663, 0.7662337662337663, 0.75], \"mode\": \"lines\", \"marker\": {\"color\": \"rgb(0,116,217)\"}, \"text\": null, \"hoverinfo\": \"all\", \"xaxis\": \"x\", \"yaxis\": \"y\"}, {\"type\": \"scatter\", \"x\": [875.0, 875.0, 993.125, 993.125], \"y\": [0.0, 0.8192771084337349, 0.8192771084337349, 0.7662337662337663], \"mode\": \"lines\", \"marker\": {\"color\": \"rgb(0,116,217)\"}, \"text\": null, \"hoverinfo\": \"all\", \"xaxis\": \"x\", \"yaxis\": \"y\"}, {\"type\": \"scatter\", \"x\": [809.0625, 809.0625, 934.0625, 934.0625], \"y\": [0.7857142857142857, 0.8448275862068966, 0.8448275862068966, 0.8192771084337349], \"mode\": \"lines\", \"marker\": {\"color\": \"rgb(0,116,217)\"}, \"text\": null, \"hoverinfo\": \"all\", \"xaxis\": \"x\", \"yaxis\": \"y\"}, {\"type\": \"scatter\", \"x\": [1085.0, 1085.0, 1095.0, 1095.0], \"y\": [0.0, 0.8571428571428571, 0.8571428571428571, 0.0], \"mode\": \"lines\", \"marker\": {\"color\": \"rgb(0,116,217)\"}, \"text\": null, \"hoverinfo\": \"all\", \"xaxis\": \"x\", \"yaxis\": \"y\"}, {\"type\": \"scatter\", \"x\": [871.5625, 871.5625, 1090.0, 1090.0], \"y\": [0.8448275862068966, 0.9146341463414634, 0.9146341463414634, 0.8571428571428571], \"mode\": \"lines\", \"marker\": {\"color\": \"rgb(0,116,217)\"}, \"text\": null, \"hoverinfo\": \"all\", \"xaxis\": \"x\", \"yaxis\": \"y\"}, {\"type\": \"scatter\", \"x\": [1115.0, 1115.0, 1125.0, 1125.0], \"y\": [0.0, 0.8333333333333334, 0.8333333333333334, 0.0], \"mode\": \"lines\", \"marker\": {\"color\": \"rgb(0,116,217)\"}, \"text\": null, \"hoverinfo\": \"all\", \"xaxis\": \"x\", \"yaxis\": \"y\"}, {\"type\": \"scatter\", \"x\": [1155.0, 1155.0, 1165.0, 1165.0], \"y\": [0.0, 0.34615384615384615, 0.34615384615384615, 0.0], \"mode\": \"lines\", \"marker\": {\"color\": \"rgb(61,153,112)\"}, \"text\": null, \"hoverinfo\": \"all\", \"xaxis\": \"x\", \"yaxis\": \"y\"}, {\"type\": \"scatter\", \"x\": [1145.0, 1145.0, 1160.0, 1160.0], \"y\": [0.0, 0.6296296296296297, 0.6296296296296297, 0.34615384615384615], \"mode\": \"lines\", \"marker\": {\"color\": \"rgb(0,116,217)\"}, \"text\": null, \"hoverinfo\": \"all\", \"xaxis\": \"x\", \"yaxis\": \"y\"}, {\"type\": \"scatter\", \"x\": [1135.0, 1135.0, 1152.5, 1152.5], \"y\": [0.0, 0.8666666666666667, 0.8666666666666667, 0.6296296296296297], \"mode\": \"lines\", \"marker\": {\"color\": \"rgb(0,116,217)\"}, \"text\": null, \"hoverinfo\": \"all\", \"xaxis\": \"x\", \"yaxis\": \"y\"}, {\"type\": \"scatter\", \"x\": [1120.0, 1120.0, 1143.75, 1143.75], \"y\": [0.8333333333333334, 0.9111111111111111, 0.9111111111111111, 0.8666666666666667], \"mode\": \"lines\", \"marker\": {\"color\": \"rgb(0,116,217)\"}, \"text\": null, \"hoverinfo\": \"all\", \"xaxis\": \"x\", \"yaxis\": \"y\"}, {\"type\": \"scatter\", \"x\": [1105.0, 1105.0, 1131.875, 1131.875], \"y\": [0.0, 0.9298245614035088, 0.9298245614035088, 0.9111111111111111], \"mode\": \"lines\", \"marker\": {\"color\": \"rgb(0,116,217)\"}, \"text\": null, \"hoverinfo\": \"all\", \"xaxis\": \"x\", \"yaxis\": \"y\"}, {\"type\": \"scatter\", \"x\": [980.78125, 980.78125, 1118.4375, 1118.4375], \"y\": [0.9146341463414634, 0.9883720930232558, 0.9883720930232558, 0.9298245614035088], \"mode\": \"lines\", \"marker\": {\"color\": \"rgb(0,116,217)\"}, \"text\": null, \"hoverinfo\": \"all\", \"xaxis\": \"x\", \"yaxis\": \"y\"}, {\"type\": \"scatter\", \"x\": [1175.0, 1175.0, 1185.0, 1185.0], \"y\": [0.0, 0.8571428571428571, 0.8571428571428571, 0.0], \"mode\": \"lines\", \"marker\": {\"color\": \"rgb(0,116,217)\"}, \"text\": null, \"hoverinfo\": \"all\", \"xaxis\": \"x\", \"yaxis\": \"y\"}, {\"type\": \"scatter\", \"x\": [1215.0, 1215.0, 1225.0, 1225.0], \"y\": [0.0, 0.38461538461538464, 0.38461538461538464, 0.0], \"mode\": \"lines\", \"marker\": {\"color\": \"rgb(255,65,54)\"}, \"text\": null, \"hoverinfo\": \"all\", \"xaxis\": \"x\", \"yaxis\": \"y\"}, {\"type\": \"scatter\", \"x\": [1205.0, 1205.0, 1220.0, 1220.0], \"y\": [0.0, 0.6904761904761905, 0.6904761904761905, 0.38461538461538464], \"mode\": \"lines\", \"marker\": {\"color\": \"rgb(0,116,217)\"}, \"text\": null, \"hoverinfo\": \"all\", \"xaxis\": \"x\", \"yaxis\": \"y\"}, {\"type\": \"scatter\", \"x\": [1195.0, 1195.0, 1212.5, 1212.5], \"y\": [0.0, 0.8095238095238095, 0.8095238095238095, 0.6904761904761905], \"mode\": \"lines\", \"marker\": {\"color\": \"rgb(0,116,217)\"}, \"text\": null, \"hoverinfo\": \"all\", \"xaxis\": \"x\", \"yaxis\": \"y\"}, {\"type\": \"scatter\", \"x\": [1235.0, 1235.0, 1245.0, 1245.0], \"y\": [0.0, 0.7222222222222222, 0.7222222222222222, 0.0], \"mode\": \"lines\", \"marker\": {\"color\": \"rgb(0,116,217)\"}, \"text\": null, \"hoverinfo\": \"all\", \"xaxis\": \"x\", \"yaxis\": \"y\"}, {\"type\": \"scatter\", \"x\": [1265.0, 1265.0, 1275.0, 1275.0], \"y\": [0.0, 0.4, 0.4, 0.0], \"mode\": \"lines\", \"marker\": {\"color\": \"rgb(35,205,205)\"}, \"text\": null, \"hoverinfo\": \"all\", \"xaxis\": \"x\", \"yaxis\": \"y\"}, {\"type\": \"scatter\", \"x\": [1255.0, 1255.0, 1270.0, 1270.0], \"y\": [0.0, 0.6521739130434783, 0.6521739130434783, 0.4], \"mode\": \"lines\", \"marker\": {\"color\": \"rgb(0,116,217)\"}, \"text\": null, \"hoverinfo\": \"all\", \"xaxis\": \"x\", \"yaxis\": \"y\"}, {\"type\": \"scatter\", \"x\": [1295.0, 1295.0, 1305.0, 1305.0], \"y\": [0.0, 0.5384615384615384, 0.5384615384615384, 0.0], \"mode\": \"lines\", \"marker\": {\"color\": \"rgb(133,20,75)\"}, \"text\": null, \"hoverinfo\": \"all\", \"xaxis\": \"x\", \"yaxis\": \"y\"}, {\"type\": \"scatter\", \"x\": [1285.0, 1285.0, 1300.0, 1300.0], \"y\": [0.0, 0.8, 0.8, 0.5384615384615384], \"mode\": \"lines\", \"marker\": {\"color\": \"rgb(0,116,217)\"}, \"text\": null, \"hoverinfo\": \"all\", \"xaxis\": \"x\", \"yaxis\": \"y\"}, {\"type\": \"scatter\", \"x\": [1262.5, 1262.5, 1292.5, 1292.5], \"y\": [0.6521739130434783, 0.9629629629629629, 0.9629629629629629, 0.8], \"mode\": \"lines\", \"marker\": {\"color\": \"rgb(0,116,217)\"}, \"text\": null, \"hoverinfo\": \"all\", \"xaxis\": \"x\", \"yaxis\": \"y\"}, {\"type\": \"scatter\", \"x\": [1240.0, 1240.0, 1277.5, 1277.5], \"y\": [0.7222222222222222, 0.975609756097561, 0.975609756097561, 0.9629629629629629], \"mode\": \"lines\", \"marker\": {\"color\": \"rgb(0,116,217)\"}, \"text\": null, \"hoverinfo\": \"all\", \"xaxis\": \"x\", \"yaxis\": \"y\"}, {\"type\": \"scatter\", \"x\": [1203.75, 1203.75, 1258.75, 1258.75], \"y\": [0.8095238095238095, 0.9821428571428571, 0.9821428571428571, 0.975609756097561], \"mode\": \"lines\", \"marker\": {\"color\": \"rgb(0,116,217)\"}, \"text\": null, \"hoverinfo\": \"all\", \"xaxis\": \"x\", \"yaxis\": \"y\"}, {\"type\": \"scatter\", \"x\": [1315.0, 1315.0, 1325.0, 1325.0], \"y\": [0.0, 0.4444444444444444, 0.4444444444444444, 0.0], \"mode\": \"lines\", \"marker\": {\"color\": \"rgb(255,220,0)\"}, \"text\": null, \"hoverinfo\": \"all\", \"xaxis\": \"x\", \"yaxis\": \"y\"}, {\"type\": \"scatter\", \"x\": [1355.0, 1355.0, 1365.0, 1365.0], \"y\": [0.0, 0.35064935064935066, 0.35064935064935066, 0.0], \"mode\": \"lines\", \"marker\": {\"color\": \"rgb(40,35,35)\"}, \"text\": null, \"hoverinfo\": \"all\", \"xaxis\": \"x\", \"yaxis\": \"y\"}, {\"type\": \"scatter\", \"x\": [1345.0, 1345.0, 1360.0, 1360.0], \"y\": [0.0, 0.43661971830985913, 0.43661971830985913, 0.35064935064935066], \"mode\": \"lines\", \"marker\": {\"color\": \"rgb(40,35,35)\"}, \"text\": null, \"hoverinfo\": \"all\", \"xaxis\": \"x\", \"yaxis\": \"y\"}, {\"type\": \"scatter\", \"x\": [1335.0, 1335.0, 1352.5, 1352.5], \"y\": [0.0, 0.6521739130434783, 0.6521739130434783, 0.43661971830985913], \"mode\": \"lines\", \"marker\": {\"color\": \"rgb(0,116,217)\"}, \"text\": null, \"hoverinfo\": \"all\", \"xaxis\": \"x\", \"yaxis\": \"y\"}, {\"type\": \"scatter\", \"x\": [1375.0, 1375.0, 1385.0, 1385.0], \"y\": [0.0, 0.32142857142857145, 0.32142857142857145, 0.0], \"mode\": \"lines\", \"marker\": {\"color\": \"rgb(61,153,112)\"}, \"text\": null, \"hoverinfo\": \"all\", \"xaxis\": \"x\", \"yaxis\": \"y\"}, {\"type\": \"scatter\", \"x\": [1405.0, 1405.0, 1415.0, 1415.0], \"y\": [0.0, 0.25, 0.25, 0.0], \"mode\": \"lines\", \"marker\": {\"color\": \"rgb(61,153,112)\"}, \"text\": null, \"hoverinfo\": \"all\", \"xaxis\": \"x\", \"yaxis\": \"y\"}, {\"type\": \"scatter\", \"x\": [1395.0, 1395.0, 1410.0, 1410.0], \"y\": [0.0, 0.4, 0.4, 0.25], \"mode\": \"lines\", \"marker\": {\"color\": \"rgb(61,153,112)\"}, \"text\": null, \"hoverinfo\": \"all\", \"xaxis\": \"x\", \"yaxis\": \"y\"}, {\"type\": \"scatter\", \"x\": [1380.0, 1380.0, 1402.5, 1402.5], \"y\": [0.32142857142857145, 0.42857142857142855, 0.42857142857142855, 0.4], \"mode\": \"lines\", \"marker\": {\"color\": \"rgb(61,153,112)\"}, \"text\": null, \"hoverinfo\": \"all\", \"xaxis\": \"x\", \"yaxis\": \"y\"}, {\"type\": \"scatter\", \"x\": [1435.0, 1435.0, 1445.0, 1445.0], \"y\": [0.0, 0.3888888888888889, 0.3888888888888889, 0.0], \"mode\": \"lines\", \"marker\": {\"color\": \"rgb(255,65,54)\"}, \"text\": null, \"hoverinfo\": \"all\", \"xaxis\": \"x\", \"yaxis\": \"y\"}, {\"type\": \"scatter\", \"x\": [1425.0, 1425.0, 1440.0, 1440.0], \"y\": [0.0, 0.88, 0.88, 0.3888888888888889], \"mode\": \"lines\", \"marker\": {\"color\": \"rgb(0,116,217)\"}, \"text\": null, \"hoverinfo\": \"all\", \"xaxis\": \"x\", \"yaxis\": \"y\"}, {\"type\": \"scatter\", \"x\": [1391.25, 1391.25, 1432.5, 1432.5], \"y\": [0.42857142857142855, 0.918918918918919, 0.918918918918919, 0.88], \"mode\": \"lines\", \"marker\": {\"color\": \"rgb(0,116,217)\"}, \"text\": null, \"hoverinfo\": \"all\", \"xaxis\": \"x\", \"yaxis\": \"y\"}, {\"type\": \"scatter\", \"x\": [1343.75, 1343.75, 1411.875, 1411.875], \"y\": [0.6521739130434783, 0.9891304347826086, 0.9891304347826086, 0.918918918918919], \"mode\": \"lines\", \"marker\": {\"color\": \"rgb(0,116,217)\"}, \"text\": null, \"hoverinfo\": \"all\", \"xaxis\": \"x\", \"yaxis\": \"y\"}, {\"type\": \"scatter\", \"x\": [1475.0, 1475.0, 1485.0, 1485.0], \"y\": [0.0, 0.4626865671641791, 0.4626865671641791, 0.0], \"mode\": \"lines\", \"marker\": {\"color\": \"rgb(35,205,205)\"}, \"text\": null, \"hoverinfo\": \"all\", \"xaxis\": \"x\", \"yaxis\": \"y\"}, {\"type\": \"scatter\", \"x\": [1465.0, 1465.0, 1480.0, 1480.0], \"y\": [0.0, 0.7444444444444445, 0.7444444444444445, 0.4626865671641791], \"mode\": \"lines\", \"marker\": {\"color\": \"rgb(0,116,217)\"}, \"text\": null, \"hoverinfo\": \"all\", \"xaxis\": \"x\", \"yaxis\": \"y\"}, {\"type\": \"scatter\", \"x\": [1495.0, 1495.0, 1505.0, 1505.0], \"y\": [0.0, 0.34285714285714286, 0.34285714285714286, 0.0], \"mode\": \"lines\", \"marker\": {\"color\": \"rgb(133,20,75)\"}, \"text\": null, \"hoverinfo\": \"all\", \"xaxis\": \"x\", \"yaxis\": \"y\"}, {\"type\": \"scatter\", \"x\": [1525.0, 1525.0, 1535.0, 1535.0], \"y\": [0.0, 0.7857142857142857, 0.7857142857142857, 0.0], \"mode\": \"lines\", \"marker\": {\"color\": \"rgb(0,116,217)\"}, \"text\": null, \"hoverinfo\": \"all\", \"xaxis\": \"x\", \"yaxis\": \"y\"}, {\"type\": \"scatter\", \"x\": [1515.0, 1515.0, 1530.0, 1530.0], \"y\": [0.0, 0.8181818181818182, 0.8181818181818182, 0.7857142857142857], \"mode\": \"lines\", \"marker\": {\"color\": \"rgb(0,116,217)\"}, \"text\": null, \"hoverinfo\": \"all\", \"xaxis\": \"x\", \"yaxis\": \"y\"}, {\"type\": \"scatter\", \"x\": [1500.0, 1500.0, 1522.5, 1522.5], \"y\": [0.34285714285714286, 0.8604651162790697, 0.8604651162790697, 0.8181818181818182], \"mode\": \"lines\", \"marker\": {\"color\": \"rgb(0,116,217)\"}, \"text\": null, \"hoverinfo\": \"all\", \"xaxis\": \"x\", \"yaxis\": \"y\"}, {\"type\": \"scatter\", \"x\": [1472.5, 1472.5, 1511.25, 1511.25], \"y\": [0.7444444444444445, 0.9210526315789473, 0.9210526315789473, 0.8604651162790697], \"mode\": \"lines\", \"marker\": {\"color\": \"rgb(0,116,217)\"}, \"text\": null, \"hoverinfo\": \"all\", \"xaxis\": \"x\", \"yaxis\": \"y\"}, {\"type\": \"scatter\", \"x\": [1455.0, 1455.0, 1491.875, 1491.875], \"y\": [0.0, 0.9540229885057471, 0.9540229885057471, 0.9210526315789473], \"mode\": \"lines\", \"marker\": {\"color\": \"rgb(0,116,217)\"}, \"text\": null, \"hoverinfo\": \"all\", \"xaxis\": \"x\", \"yaxis\": \"y\"}, {\"type\": \"scatter\", \"x\": [1555.0, 1555.0, 1565.0, 1565.0], \"y\": [0.0, 0.47058823529411764, 0.47058823529411764, 0.0], \"mode\": \"lines\", \"marker\": {\"color\": \"rgb(255,220,0)\"}, \"text\": null, \"hoverinfo\": \"all\", \"xaxis\": \"x\", \"yaxis\": \"y\"}, {\"type\": \"scatter\", \"x\": [1575.0, 1575.0, 1585.0, 1585.0], \"y\": [0.0, 0.2857142857142857, 0.2857142857142857, 0.0], \"mode\": \"lines\", \"marker\": {\"color\": \"rgb(40,35,35)\"}, \"text\": null, \"hoverinfo\": \"all\", \"xaxis\": \"x\", \"yaxis\": \"y\"}, {\"type\": \"scatter\", \"x\": [1605.0, 1605.0, 1615.0, 1615.0], \"y\": [0.0, 0.25, 0.25, 0.0], \"mode\": \"lines\", \"marker\": {\"color\": \"rgb(61,153,112)\"}, \"text\": null, \"hoverinfo\": \"all\", \"xaxis\": \"x\", \"yaxis\": \"y\"}, {\"type\": \"scatter\", \"x\": [1595.0, 1595.0, 1610.0, 1610.0], \"y\": [0.0, 0.4, 0.4, 0.25], \"mode\": \"lines\", \"marker\": {\"color\": \"rgb(61,153,112)\"}, \"text\": null, \"hoverinfo\": \"all\", \"xaxis\": \"x\", \"yaxis\": \"y\"}, {\"type\": \"scatter\", \"x\": [1580.0, 1580.0, 1602.5, 1602.5], \"y\": [0.2857142857142857, 0.8717948717948718, 0.8717948717948718, 0.4], \"mode\": \"lines\", \"marker\": {\"color\": \"rgb(0,116,217)\"}, \"text\": null, \"hoverinfo\": \"all\", \"xaxis\": \"x\", \"yaxis\": \"y\"}, {\"type\": \"scatter\", \"x\": [1560.0, 1560.0, 1591.25, 1591.25], \"y\": [0.47058823529411764, 0.96, 0.96, 0.8717948717948718], \"mode\": \"lines\", \"marker\": {\"color\": \"rgb(0,116,217)\"}, \"text\": null, \"hoverinfo\": \"all\", \"xaxis\": \"x\", \"yaxis\": \"y\"}, {\"type\": \"scatter\", \"x\": [1545.0, 1545.0, 1575.625, 1575.625], \"y\": [0.0, 0.9795918367346939, 0.9795918367346939, 0.96], \"mode\": \"lines\", \"marker\": {\"color\": \"rgb(0,116,217)\"}, \"text\": null, \"hoverinfo\": \"all\", \"xaxis\": \"x\", \"yaxis\": \"y\"}, {\"type\": \"scatter\", \"x\": [1635.0, 1635.0, 1645.0, 1645.0], \"y\": [0.0, 0.25, 0.25, 0.0], \"mode\": \"lines\", \"marker\": {\"color\": \"rgb(255,65,54)\"}, \"text\": null, \"hoverinfo\": \"all\", \"xaxis\": \"x\", \"yaxis\": \"y\"}, {\"type\": \"scatter\", \"x\": [1625.0, 1625.0, 1640.0, 1640.0], \"y\": [0.0, 0.8787878787878788, 0.8787878787878788, 0.25], \"mode\": \"lines\", \"marker\": {\"color\": \"rgb(0,116,217)\"}, \"text\": null, \"hoverinfo\": \"all\", \"xaxis\": \"x\", \"yaxis\": \"y\"}, {\"type\": \"scatter\", \"x\": [1655.0, 1655.0, 1665.0, 1665.0], \"y\": [0.0, 0.5806451612903226, 0.5806451612903226, 0.0], \"mode\": \"lines\", \"marker\": {\"color\": \"rgb(35,205,205)\"}, \"text\": null, \"hoverinfo\": \"all\", \"xaxis\": \"x\", \"yaxis\": \"y\"}, {\"type\": \"scatter\", \"x\": [1675.0, 1675.0, 1685.0, 1685.0], \"y\": [0.0, 0.6521739130434783, 0.6521739130434783, 0.0], \"mode\": \"lines\", \"marker\": {\"color\": \"rgb(0,116,217)\"}, \"text\": null, \"hoverinfo\": \"all\", \"xaxis\": \"x\", \"yaxis\": \"y\"}, {\"type\": \"scatter\", \"x\": [1660.0, 1660.0, 1680.0, 1680.0], \"y\": [0.5806451612903226, 0.8125, 0.8125, 0.6521739130434783], \"mode\": \"lines\", \"marker\": {\"color\": \"rgb(0,116,217)\"}, \"text\": null, \"hoverinfo\": \"all\", \"xaxis\": \"x\", \"yaxis\": \"y\"}, {\"type\": \"scatter\", \"x\": [1695.0, 1695.0, 1705.0, 1705.0], \"y\": [0.0, 0.296875, 0.296875, 0.0], \"mode\": \"lines\", \"marker\": {\"color\": \"rgb(133,20,75)\"}, \"text\": null, \"hoverinfo\": \"all\", \"xaxis\": \"x\", \"yaxis\": \"y\"}, {\"type\": \"scatter\", \"x\": [1715.0, 1715.0, 1725.0, 1725.0], \"y\": [0.0, 0.34210526315789475, 0.34210526315789475, 0.0], \"mode\": \"lines\", \"marker\": {\"color\": \"rgb(133,20,75)\"}, \"text\": null, \"hoverinfo\": \"all\", \"xaxis\": \"x\", \"yaxis\": \"y\"}, {\"type\": \"scatter\", \"x\": [1700.0, 1700.0, 1720.0, 1720.0], \"y\": [0.296875, 0.5483870967741935, 0.5483870967741935, 0.34210526315789475], \"mode\": \"lines\", \"marker\": {\"color\": \"rgb(133,20,75)\"}, \"text\": null, \"hoverinfo\": \"all\", \"xaxis\": \"x\", \"yaxis\": \"y\"}, {\"type\": \"scatter\", \"x\": [1755.0, 1755.0, 1765.0, 1765.0], \"y\": [0.0, 0.6388888888888888, 0.6388888888888888, 0.0], \"mode\": \"lines\", \"marker\": {\"color\": \"rgb(0,116,217)\"}, \"text\": null, \"hoverinfo\": \"all\", \"xaxis\": \"x\", \"yaxis\": \"y\"}, {\"type\": \"scatter\", \"x\": [1745.0, 1745.0, 1760.0, 1760.0], \"y\": [0.0, 0.7096774193548387, 0.7096774193548387, 0.6388888888888888], \"mode\": \"lines\", \"marker\": {\"color\": \"rgb(0,116,217)\"}, \"text\": null, \"hoverinfo\": \"all\", \"xaxis\": \"x\", \"yaxis\": \"y\"}, {\"type\": \"scatter\", \"x\": [1735.0, 1735.0, 1752.5, 1752.5], \"y\": [0.0, 0.7948717948717948, 0.7948717948717948, 0.7096774193548387], \"mode\": \"lines\", \"marker\": {\"color\": \"rgb(0,116,217)\"}, \"text\": null, \"hoverinfo\": \"all\", \"xaxis\": \"x\", \"yaxis\": \"y\"}, {\"type\": \"scatter\", \"x\": [1710.0, 1710.0, 1743.75, 1743.75], \"y\": [0.5483870967741935, 0.8571428571428571, 0.8571428571428571, 0.7948717948717948], \"mode\": \"lines\", \"marker\": {\"color\": \"rgb(0,116,217)\"}, \"text\": null, \"hoverinfo\": \"all\", \"xaxis\": \"x\", \"yaxis\": \"y\"}, {\"type\": \"scatter\", \"x\": [1670.0, 1670.0, 1726.875, 1726.875], \"y\": [0.8125, 0.9767441860465116, 0.9767441860465116, 0.8571428571428571], \"mode\": \"lines\", \"marker\": {\"color\": \"rgb(0,116,217)\"}, \"text\": null, \"hoverinfo\": \"all\", \"xaxis\": \"x\", \"yaxis\": \"y\"}, {\"type\": \"scatter\", \"x\": [1795.0, 1795.0, 1805.0, 1805.0], \"y\": [0.0, 0.34146341463414637, 0.34146341463414637, 0.0], \"mode\": \"lines\", \"marker\": {\"color\": \"rgb(255,220,0)\"}, \"text\": null, \"hoverinfo\": \"all\", \"xaxis\": \"x\", \"yaxis\": \"y\"}, {\"type\": \"scatter\", \"x\": [1785.0, 1785.0, 1800.0, 1800.0], \"y\": [0.0, 0.3829787234042553, 0.3829787234042553, 0.34146341463414637], \"mode\": \"lines\", \"marker\": {\"color\": \"rgb(255,220,0)\"}, \"text\": null, \"hoverinfo\": \"all\", \"xaxis\": \"x\", \"yaxis\": \"y\"}, {\"type\": \"scatter\", \"x\": [1815.0, 1815.0, 1825.0, 1825.0], \"y\": [0.0, 0.2903225806451613, 0.2903225806451613, 0.0], \"mode\": \"lines\", \"marker\": {\"color\": \"rgb(40,35,35)\"}, \"text\": null, \"hoverinfo\": \"all\", \"xaxis\": \"x\", \"yaxis\": \"y\"}, {\"type\": \"scatter\", \"x\": [1835.0, 1835.0, 1845.0, 1845.0], \"y\": [0.0, 0.3142857142857143, 0.3142857142857143, 0.0], \"mode\": \"lines\", \"marker\": {\"color\": \"rgb(40,35,35)\"}, \"text\": null, \"hoverinfo\": \"all\", \"xaxis\": \"x\", \"yaxis\": \"y\"}, {\"type\": \"scatter\", \"x\": [1820.0, 1820.0, 1840.0, 1840.0], \"y\": [0.2903225806451613, 0.34375, 0.34375, 0.3142857142857143], \"mode\": \"lines\", \"marker\": {\"color\": \"rgb(40,35,35)\"}, \"text\": null, \"hoverinfo\": \"all\", \"xaxis\": \"x\", \"yaxis\": \"y\"}, {\"type\": \"scatter\", \"x\": [1865.0, 1865.0, 1875.0, 1875.0], \"y\": [0.0, 0.17647058823529413, 0.17647058823529413, 0.0], \"mode\": \"lines\", \"marker\": {\"color\": \"rgb(40,35,35)\"}, \"text\": null, \"hoverinfo\": \"all\", \"xaxis\": \"x\", \"yaxis\": \"y\"}, {\"type\": \"scatter\", \"x\": [1885.0, 1885.0, 1895.0, 1895.0], \"y\": [0.0, 0.2727272727272727, 0.2727272727272727, 0.0], \"mode\": \"lines\", \"marker\": {\"color\": \"rgb(40,35,35)\"}, \"text\": null, \"hoverinfo\": \"all\", \"xaxis\": \"x\", \"yaxis\": \"y\"}, {\"type\": \"scatter\", \"x\": [1870.0, 1870.0, 1890.0, 1890.0], \"y\": [0.17647058823529413, 0.35294117647058826, 0.35294117647058826, 0.2727272727272727], \"mode\": \"lines\", \"marker\": {\"color\": \"rgb(40,35,35)\"}, \"text\": null, \"hoverinfo\": \"all\", \"xaxis\": \"x\", \"yaxis\": \"y\"}, {\"type\": \"scatter\", \"x\": [1855.0, 1855.0, 1880.0, 1880.0], \"y\": [0.0, 0.3783783783783784, 0.3783783783783784, 0.35294117647058826], \"mode\": \"lines\", \"marker\": {\"color\": \"rgb(40,35,35)\"}, \"text\": null, \"hoverinfo\": \"all\", \"xaxis\": \"x\", \"yaxis\": \"y\"}, {\"type\": \"scatter\", \"x\": [1830.0, 1830.0, 1867.5, 1867.5], \"y\": [0.34375, 0.4117647058823529, 0.4117647058823529, 0.3783783783783784], \"mode\": \"lines\", \"marker\": {\"color\": \"rgb(40,35,35)\"}, \"text\": null, \"hoverinfo\": \"all\", \"xaxis\": \"x\", \"yaxis\": \"y\"}, {\"type\": \"scatter\", \"x\": [1792.5, 1792.5, 1848.75, 1848.75], \"y\": [0.3829787234042553, 0.8181818181818182, 0.8181818181818182, 0.4117647058823529], \"mode\": \"lines\", \"marker\": {\"color\": \"rgb(0,116,217)\"}, \"text\": null, \"hoverinfo\": \"all\", \"xaxis\": \"x\", \"yaxis\": \"y\"}, {\"type\": \"scatter\", \"x\": [1775.0, 1775.0, 1820.625, 1820.625], \"y\": [0.0, 0.9482758620689655, 0.9482758620689655, 0.8181818181818182], \"mode\": \"lines\", \"marker\": {\"color\": \"rgb(0,116,217)\"}, \"text\": null, \"hoverinfo\": \"all\", \"xaxis\": \"x\", \"yaxis\": \"y\"}, {\"type\": \"scatter\", \"x\": [1925.0, 1925.0, 1935.0, 1935.0], \"y\": [0.0, 0.6875, 0.6875, 0.0], \"mode\": \"lines\", \"marker\": {\"color\": \"rgb(0,116,217)\"}, \"text\": null, \"hoverinfo\": \"all\", \"xaxis\": \"x\", \"yaxis\": \"y\"}, {\"type\": \"scatter\", \"x\": [1915.0, 1915.0, 1930.0, 1930.0], \"y\": [0.0, 0.8974358974358975, 0.8974358974358975, 0.6875], \"mode\": \"lines\", \"marker\": {\"color\": \"rgb(0,116,217)\"}, \"text\": null, \"hoverinfo\": \"all\", \"xaxis\": \"x\", \"yaxis\": \"y\"}, {\"type\": \"scatter\", \"x\": [1975.0, 1975.0, 1985.0, 1985.0], \"y\": [0.0, 0.9302325581395349, 0.9302325581395349, 0.0], \"mode\": \"lines\", \"marker\": {\"color\": \"rgb(0,116,217)\"}, \"text\": null, \"hoverinfo\": \"all\", \"xaxis\": \"x\", \"yaxis\": \"y\"}, {\"type\": \"scatter\", \"x\": [1965.0, 1965.0, 1980.0, 1980.0], \"y\": [0.0, 0.984375, 0.984375, 0.9302325581395349], \"mode\": \"lines\", \"marker\": {\"color\": \"rgb(0,116,217)\"}, \"text\": null, \"hoverinfo\": \"all\", \"xaxis\": \"x\", \"yaxis\": \"y\"}, {\"type\": \"scatter\", \"x\": [1955.0, 1955.0, 1972.5, 1972.5], \"y\": [0.0, 1.0, 1.0, 0.984375], \"mode\": \"lines\", \"marker\": {\"color\": \"rgb(0,116,217)\"}, \"text\": null, \"hoverinfo\": \"all\", \"xaxis\": \"x\", \"yaxis\": \"y\"}, {\"type\": \"scatter\", \"x\": [1945.0, 1945.0, 1963.75, 1963.75], \"y\": [0.0, 1.0, 1.0, 1.0], \"mode\": \"lines\", \"marker\": {\"color\": \"rgb(0,116,217)\"}, \"text\": null, \"hoverinfo\": \"all\", \"xaxis\": \"x\", \"yaxis\": \"y\"}, {\"type\": \"scatter\", \"x\": [1922.5, 1922.5, 1954.375, 1954.375], \"y\": [0.8974358974358975, 1.0, 1.0, 1.0], \"mode\": \"lines\", \"marker\": {\"color\": \"rgb(0,116,217)\"}, \"text\": null, \"hoverinfo\": \"all\", \"xaxis\": \"x\", \"yaxis\": \"y\"}, {\"type\": \"scatter\", \"x\": [1905.0, 1905.0, 1938.4375, 1938.4375], \"y\": [0.0, 1.0, 1.0, 1.0], \"mode\": \"lines\", \"marker\": {\"color\": \"rgb(0,116,217)\"}, \"text\": null, \"hoverinfo\": \"all\", \"xaxis\": \"x\", \"yaxis\": \"y\"}, {\"type\": \"scatter\", \"x\": [1797.8125, 1797.8125, 1921.71875, 1921.71875], \"y\": [0.9482758620689655, 1.0, 1.0, 1.0], \"mode\": \"lines\", \"marker\": {\"color\": \"rgb(0,116,217)\"}, \"text\": null, \"hoverinfo\": \"all\", \"xaxis\": \"x\", \"yaxis\": \"y\"}, {\"type\": \"scatter\", \"x\": [1698.4375, 1698.4375, 1859.765625, 1859.765625], \"y\": [0.9767441860465116, 1.0, 1.0, 1.0], \"mode\": \"lines\", \"marker\": {\"color\": \"rgb(0,116,217)\"}, \"text\": null, \"hoverinfo\": \"all\", \"xaxis\": \"x\", \"yaxis\": \"y\"}, {\"type\": \"scatter\", \"x\": [1632.5, 1632.5, 1779.1015625, 1779.1015625], \"y\": [0.8787878787878788, 1.0, 1.0, 1.0], \"mode\": \"lines\", \"marker\": {\"color\": \"rgb(0,116,217)\"}, \"text\": null, \"hoverinfo\": \"all\", \"xaxis\": \"x\", \"yaxis\": \"y\"}, {\"type\": \"scatter\", \"x\": [1560.3125, 1560.3125, 1705.80078125, 1705.80078125], \"y\": [0.9795918367346939, 1.0, 1.0, 1.0], \"mode\": \"lines\", \"marker\": {\"color\": \"rgb(0,116,217)\"}, \"text\": null, \"hoverinfo\": \"all\", \"xaxis\": \"x\", \"yaxis\": \"y\"}, {\"type\": \"scatter\", \"x\": [1473.4375, 1473.4375, 1633.056640625, 1633.056640625], \"y\": [0.9540229885057471, 1.0, 1.0, 1.0], \"mode\": \"lines\", \"marker\": {\"color\": \"rgb(0,116,217)\"}, \"text\": null, \"hoverinfo\": \"all\", \"xaxis\": \"x\", \"yaxis\": \"y\"}, {\"type\": \"scatter\", \"x\": [1377.8125, 1377.8125, 1553.2470703125, 1553.2470703125], \"y\": [0.9891304347826086, 1.0, 1.0, 1.0], \"mode\": \"lines\", \"marker\": {\"color\": \"rgb(0,116,217)\"}, \"text\": null, \"hoverinfo\": \"all\", \"xaxis\": \"x\", \"yaxis\": \"y\"}, {\"type\": \"scatter\", \"x\": [1320.0, 1320.0, 1465.52978515625, 1465.52978515625], \"y\": [0.4444444444444444, 1.0, 1.0, 1.0], \"mode\": \"lines\", \"marker\": {\"color\": \"rgb(0,116,217)\"}, \"text\": null, \"hoverinfo\": \"all\", \"xaxis\": \"x\", \"yaxis\": \"y\"}, {\"type\": \"scatter\", \"x\": [1231.25, 1231.25, 1392.764892578125, 1392.764892578125], \"y\": [0.9821428571428571, 1.0, 1.0, 1.0], \"mode\": \"lines\", \"marker\": {\"color\": \"rgb(0,116,217)\"}, \"text\": null, \"hoverinfo\": \"all\", \"xaxis\": \"x\", \"yaxis\": \"y\"}, {\"type\": \"scatter\", \"x\": [1180.0, 1180.0, 1312.0074462890625, 1312.0074462890625], \"y\": [0.8571428571428571, 1.0, 1.0, 1.0], \"mode\": \"lines\", \"marker\": {\"color\": \"rgb(0,116,217)\"}, \"text\": null, \"hoverinfo\": \"all\", \"xaxis\": \"x\", \"yaxis\": \"y\"}, {\"type\": \"scatter\", \"x\": [1049.609375, 1049.609375, 1246.0037231445312, 1246.0037231445312], \"y\": [0.9883720930232558, 1.0, 1.0, 1.0], \"mode\": \"lines\", \"marker\": {\"color\": \"rgb(0,116,217)\"}, \"text\": null, \"hoverinfo\": \"all\", \"xaxis\": \"x\", \"yaxis\": \"y\"}, {\"type\": \"scatter\", \"x\": [703.59375, 703.59375, 1147.8065490722656, 1147.8065490722656], \"y\": [0.9818181818181818, 1.0, 1.0, 1.0], \"mode\": \"lines\", \"marker\": {\"color\": \"rgb(0,116,217)\"}, \"text\": null, \"hoverinfo\": \"all\", \"xaxis\": \"x\", \"yaxis\": \"y\"}, {\"type\": \"scatter\", \"x\": [645.0, 645.0, 925.7001495361328, 925.7001495361328], \"y\": [0.8817204301075269, 1.0, 1.0, 1.0], \"mode\": \"lines\", \"marker\": {\"color\": \"rgb(0,116,217)\"}, \"text\": null, \"hoverinfo\": \"all\", \"xaxis\": \"x\", \"yaxis\": \"y\"}, {\"type\": \"scatter\", \"x\": [503.984375, 503.984375, 785.3500747680664, 785.3500747680664], \"y\": [0.9705882352941176, 1.0, 1.0, 1.0], \"mode\": \"lines\", \"marker\": {\"color\": \"rgb(0,116,217)\"}, \"text\": null, \"hoverinfo\": \"all\", \"xaxis\": \"x\", \"yaxis\": \"y\"}, {\"type\": \"scatter\", \"x\": [218.72802734375, 218.72802734375, 644.6672248840332, 644.6672248840332], \"y\": [0.9705882352941176, 1.0, 1.0, 1.0], \"mode\": \"lines\", \"marker\": {\"color\": \"rgb(0,116,217)\"}, \"text\": null, \"hoverinfo\": \"all\", \"xaxis\": \"x\", \"yaxis\": \"y\"}], {\"xaxis\": {\"tickvals\": [5.0, 15.0, 25.0, 35.0, 45.0, 55.0, 65.0, 75.0, 85.0, 95.0, 105.0, 115.0, 125.0, 135.0, 145.0, 155.0, 165.0, 175.0, 185.0, 195.0, 205.0, 215.0, 225.0, 235.0, 245.0, 255.0, 265.0, 275.0, 285.0, 295.0, 305.0, 315.0, 325.0, 335.0, 345.0, 355.0, 365.0, 375.0, 385.0, 395.0, 405.0, 415.0, 425.0, 435.0, 445.0, 455.0, 465.0, 475.0, 485.0, 495.0, 505.0, 515.0, 525.0, 535.0, 545.0, 555.0, 565.0, 575.0, 585.0, 595.0, 605.0, 615.0, 625.0, 635.0, 645.0, 655.0, 665.0, 675.0, 685.0, 695.0, 705.0, 715.0, 725.0, 735.0, 745.0, 755.0, 765.0, 775.0, 785.0, 795.0, 805.0, 815.0, 825.0, 835.0, 845.0, 855.0, 865.0, 875.0, 885.0, 895.0, 905.0, 915.0, 925.0, 935.0, 945.0, 955.0, 965.0, 975.0, 985.0, 995.0, 1005.0, 1015.0, 1025.0, 1035.0, 1045.0, 1055.0, 1065.0, 1075.0, 1085.0, 1095.0, 1105.0, 1115.0, 1125.0, 1135.0, 1145.0, 1155.0, 1165.0, 1175.0, 1185.0, 1195.0, 1205.0, 1215.0, 1225.0, 1235.0, 1245.0, 1255.0, 1265.0, 1275.0, 1285.0, 1295.0, 1305.0, 1315.0, 1325.0, 1335.0, 1345.0, 1355.0, 1365.0, 1375.0, 1385.0, 1395.0, 1405.0, 1415.0, 1425.0, 1435.0, 1445.0, 1455.0, 1465.0, 1475.0, 1485.0, 1495.0, 1505.0, 1515.0, 1525.0, 1535.0, 1545.0, 1555.0, 1565.0, 1575.0, 1585.0, 1595.0, 1605.0, 1615.0, 1625.0, 1635.0, 1645.0, 1655.0, 1665.0, 1675.0, 1685.0, 1695.0, 1705.0, 1715.0, 1725.0, 1735.0, 1745.0, 1755.0, 1765.0, 1775.0, 1785.0, 1795.0, 1805.0, 1815.0, 1825.0, 1835.0, 1845.0, 1855.0, 1865.0, 1875.0, 1885.0, 1895.0, 1905.0, 1915.0, 1925.0, 1935.0, 1945.0, 1955.0, 1965.0, 1975.0, 1985.0], \"ticktext\": [\"QE_2017_001815_792.5625_866.0\", \"QE_2017_001814_596.30963_602.0\", \"QE_2017_001816_613.48218_838.0\", \"QE_2017_001814_792.56207_723.0\", \"QE_2017_001815_613.4826_734.0\", \"QE_2017_001815_571.4292_870.0\", \"QE_2017_001814_497.31033_643.0\", \"QE_2017_001815_507.27145_607.0\", \"QE_2017_001815_571.47168_711.0\", \"QE_2017_001814_335.25772_725.0\", \"QE_2017_001814_335.25784_608.0\", \"QE_2017_001816_335.25772_723.0\", \"QE_2017_001814_335.25784_628.0\", \"QE_2017_001815_335.25745_642.0\", \"QE_2017_001814_261.22073_634.0\", \"QE_2017_001815_335.25784_587.0\", \"QE_2017_001814_353.26889_609.0\", \"QE_2017_001815_353.26862_642.0\", \"QE_2017_001815_261.22073_643.0\", \"QE_2017_001814_335.25772_638.0\", \"QE_2017_001815_335.2579_601.0\", \"QE_2017_001816_272.25824_582.0\", \"QE_2017_001814_338.34146_850.0\", \"QE_2017_001815_244.19048_762.0\", \"QE_2017_001816_435.25037_666.0\", \"QE_2017_001816_337.27338_826.0\", \"QE_2017_001816_337.27341_632.0\", \"QE_2017_001814_353.26868_633.0\", \"QE_2017_001816_353.26892_600.0\", \"QE_2017_001814_278.24756_683.0\", \"QE_2017_001814_279.23157_719.0\", \"QE_2017_001814_618.42633_695.0\", \"QE_2017_001816_583.41382_731.0\", \"QE_2017_001814_599.40918_659.0\", \"QE_2017_001814_601.42426_706.0\", \"QE_2017_001816_599.40869_793.0\", \"QE_2017_001815_618.42773_646.0\", \"QE_2017_001816_618.427_682.0\", \"QE_2017_001815_568.42627_841.0\", \"QE_2017_001814_565.4035_722.0\", \"QE_2017_001814_583.41406_682.0\", \"QE_2017_001815_583.41406_707.0\", \"QE_2017_001814_601.42334_783.0\", \"QE_2017_001815_583.41388_735.0\", \"QE_2017_001815_583.41418_647.0\", \"QE_2017_001816_463.12311_410.0\", \"QE_2017_001814_339.10742_366.0\", \"QE_2017_001816_339.10733_298.0\", \"QE_2017_001814_231.04967_404.0\", \"QE_2017_001815_231.04968_315.0\", \"QE_2017_001814_231.04971_516.0\", \"QE_2017_001815_231.04971_369.0\", \"QE_2017_001814_498.2543_475.0\", \"QE_2017_001815_340.16019_314.0\", \"QE_2017_001815_314.14453_76.0\", \"QE_2017_001816_314.14462_79.0\", \"QE_2017_001816_310.14957_134.0\", \"QE_2017_001816_342.17584_257.0\", \"QE_2017_001815_507.18192_178.0\", \"QE_2017_001814_611.15997_285.0\", \"QE_2017_001816_611.16064_309.0\", \"QE_2017_001816_533.15442_247.0\", \"QE_2017_001816_533.15466_222.0\", \"QE_2017_001815_533.1546_207.0\", \"QE_2017_001816_533.1546_271.0\", \"QE_2017_001814_347.09097_122.0\", \"QE_2017_001815_347.09067_204.0\", \"QE_2017_001815_268.10373_58.0\", \"QE_2017_001816_269.16055_60.0\", \"QE_2017_001815_364.34189_705.0\", \"QE_2017_001814_408.3681_703.0\", \"QE_2017_001816_466.40979_731.0\", \"QE_2017_001814_364.34241_751.0\", \"QE_2017_001814_424.36325_711.0\", \"QE_2017_001814_364.34244_761.0\", \"QE_2017_001814_421.35211_732.0\", \"QE_2017_001815_408.36853_717.0\", \"QE_2017_001815_482.40488_739.0\", \"QE_2017_001815_201.16367_442.0\", \"QE_2017_001816_201.16362_435.0\", \"QE_2017_001814_191.14291_389.0\", \"QE_2017_001815_191.14287_312.0\", \"QE_2017_001816_191.14291_404.0\", \"QE_2017_001814_219.17416_517.0\", \"QE_2017_001815_219.17426_497.0\", \"QE_2017_001814_219.17401_452.0\", \"QE_2017_001814_219.17409_442.0\", \"QE_2017_001816_137.09584_445.0\", \"QE_2017_001814_209.15335_478.0\", \"QE_2017_001815_209.1535_312.0\", \"QE_2017_001816_209.15344_311.0\", \"QE_2017_001815_227.16408_344.0\", \"QE_2017_001816_209.15341_296.0\", \"QE_2017_001814_243.15892_533.0\", \"QE_2017_001814_281.1745_492.0\", \"QE_2017_001814_293.2106_579.0\", \"QE_2017_001815_283.19009_564.0\", \"QE_2017_001815_207.13785_297.0\", \"QE_2017_001814_227.1275_293.0\", \"QE_2017_001816_227.12766_295.0\", \"QE_2017_001815_181.1221_767.0\", \"QE_2017_001816_181.12199_794.0\", \"QE_2017_001816_211.16916_405.0\", \"QE_2017_001815_209.0807_405.0\", \"QE_2017_001814_211.16902_440.0\", \"QE_2017_001815_211.16913_450.0\", \"QE_2017_001814_215.16406_483.0\", \"QE_2017_001815_215.164_550.0\", \"QE_2017_001814_209.08058_363.0\", \"QE_2017_001816_207.13779_561.0\", \"QE_2017_001816_320.29483_548.0\", \"QE_2017_001814_129.12737_348.0\", \"QE_2017_001814_171.14908_419.0\", \"QE_2017_001814_483.27118_651.0\", \"QE_2017_001816_338.26062_643.0\", \"QE_2017_001814_320.29456_577.0\", \"QE_2017_001815_320.29471_563.0\", \"QE_2017_001815_333.15173_245.0\", \"QE_2017_001816_333.15204_235.0\", \"QE_2017_001814_332.25827_467.0\", \"QE_2017_001815_332.25827_508.0\", \"QE_2017_001814_332.25842_486.0\", \"QE_2017_001816_332.25842_487.0\", \"QE_2017_001815_221.12837_99.0\", \"QE_2017_001816_237.12325_171.0\", \"QE_2017_001814_241.15446_57.0\", \"QE_2017_001814_241.15384_47.0\", \"QE_2017_001815_241.15437_67.0\", \"QE_2017_001814_320.29468_638.0\", \"QE_2017_001814_320.29471_529.0\", \"QE_2017_001814_320.29477_539.0\", \"QE_2017_001815_319.13623_118.0\", \"QE_2017_001816_319.13614_143.0\", \"QE_2017_001814_251.09117_393.0\", \"QE_2017_001815_219.10139_360.0\", \"QE_2017_001815_219.10146_381.0\", \"QE_2017_001815_219.10159_438.0\", \"QE_2017_001815_273.13425_199.0\", \"QE_2017_001815_273.13434_243.0\", \"QE_2017_001816_291.14499_200.0\", \"QE_2017_001814_291.1442_241.0\", \"QE_2017_001815_291.14493_242.0\", \"QE_2017_001814_251.13872_201.0\", \"QE_2017_001815_235.14388_180.0\", \"QE_2017_001815_235.14398_226.0\", \"QE_2017_001815_214.51021_60.0\", \"QE_2017_001816_268.59351_445.0\", \"QE_2017_001814_222.07031_314.0\", \"QE_2017_001814_250.10149_516.0\", \"QE_2017_001814_247.05975_245.0\", \"QE_2017_001815_247.0598_242.0\", \"QE_2017_001816_219.04672_291.0\", \"QE_2017_001815_212.03883_181.0\", \"QE_2017_001815_214.56488_409.0\", \"QE_2017_001816_132.04436_283.0\", \"QE_2017_001815_246.14465_137.0\", \"QE_2017_001816_247.12863_162.0\", \"QE_2017_001815_260.16016_140.0\", \"QE_2017_001816_260.16022_145.0\", \"QE_2017_001815_233.14944_150.0\", \"QE_2017_001814_233.14948_126.0\", \"QE_2017_001816_233.14955_129.0\", \"QE_2017_001816_229.15469_52.0\", \"QE_2017_001814_229.15399_46.0\", \"QE_2017_001814_229.15451_65.0\", \"QE_2017_001814_194.04424_237.0\", \"QE_2017_001814_194.1174_217.0\", \"QE_2017_001814_194.1174_244.0\", \"QE_2017_001815_194.11745_132.0\", \"QE_2017_001815_194.04469_299.0\", \"QE_2017_001815_194.04474_327.0\", \"QE_2017_001815_194.04471_314.0\", \"QE_2017_001815_212.05513_328.0\", \"QE_2017_001816_212.05518_300.0\", \"QE_2017_001815_212.05505_267.0\", \"QE_2017_001814_226.07077_397.0\", \"QE_2017_001815_194.04471_397.0\", \"QE_2017_001815_182.08109_52.0\", \"QE_2017_001816_177.05449_217.0\", \"QE_2017_001814_177.05418_236.0\", \"QE_2017_001815_177.05444_307.0\", \"QE_2017_001814_199.98778_290.0\", \"QE_2017_001815_199.98779_30.0\", \"QE_2017_001814_199.98772_303.0\", \"QE_2017_001815_199.98772_253.0\", \"QE_2017_001816_199.98769_294.0\", \"QE_2017_001815_199.98772_326.0\", \"QE_2017_001816_199.98781_313.0\", \"QE_2017_001816_199.98772_359.0\", \"QE_2017_001816_199.98779_335.0\", \"QE_2017_001815_797.51746_866.0\", \"QE_2017_001815_595.16559_315.0\", \"QE_2017_001815_463.12268_358.0\", \"QE_2017_001815_625.17633_345.0\", \"QE_2017_001815_265.01532_33.0\", \"QE_2017_001815_141.0508_33.0\", \"QE_2017_001815_260.16016_64.0\", \"QE_2017_001814_237.12305_220.0\", \"QE_2017_001815_237.12315_52.0\"], \"tickmode\": \"array\", \"type\": \"linear\", \"ticks\": \"outside\", \"mirror\": \"allticks\", \"rangemode\": \"tozero\", \"showticklabels\": true, \"zeroline\": false, \"showgrid\": false, \"showline\": true, \"title\": \"sample\"}, \"yaxis\": {\"type\": \"linear\", \"ticks\": \"outside\", \"mirror\": \"allticks\", \"rangemode\": \"tozero\", \"showticklabels\": true, \"zeroline\": false, \"showgrid\": false, \"showline\": true, \"title\": \"distance\"}, \"showlegend\": false, \"autosize\": false, \"hovermode\": \"closest\", \"width\": 900, \"height\": 500, \"title\": \"BioDendro\"}, {\"showLink\": true, \"linkText\": \"Export to plot.ly\"})});</script>"
      ],
      "text/vnd.plotly.v1+html": [
       "<div id=\"c319c635-3010-4df9-9b91-45fcfdb2c5f3\" style=\"height: 500px; width: 900px;\" class=\"plotly-graph-div\"></div><script type=\"text/javascript\">require([\"plotly\"], function(Plotly) { window.PLOTLYENV=window.PLOTLYENV || {};window.PLOTLYENV.BASE_URL=\"https://plot.ly\";Plotly.newPlot(\"c319c635-3010-4df9-9b91-45fcfdb2c5f3\", [{\"type\": \"scatter\", \"x\": [35.0, 35.0, 45.0, 45.0], \"y\": [0.0, 0.5774647887323944, 0.5774647887323944, 0.0], \"mode\": \"lines\", \"marker\": {\"color\": \"rgb(61,153,112)\"}, \"text\": null, \"hoverinfo\": \"all\", \"xaxis\": \"x\", \"yaxis\": \"y\"}, {\"type\": \"scatter\", \"x\": [25.0, 25.0, 40.0, 40.0], \"y\": [0.0, 0.6142857142857143, 0.6142857142857143, 0.5774647887323944], \"mode\": \"lines\", \"marker\": {\"color\": \"rgb(0,116,217)\"}, \"text\": null, \"hoverinfo\": \"all\", \"xaxis\": \"x\", \"yaxis\": \"y\"}, {\"type\": \"scatter\", \"x\": [15.0, 15.0, 32.5, 32.5], \"y\": [0.0, 0.7049180327868853, 0.7049180327868853, 0.6142857142857143], \"mode\": \"lines\", \"marker\": {\"color\": \"rgb(0,116,217)\"}, \"text\": null, \"hoverinfo\": \"all\", \"xaxis\": \"x\", \"yaxis\": \"y\"}, {\"type\": \"scatter\", \"x\": [5.0, 5.0, 23.75, 23.75], \"y\": [0.0, 0.7613636363636364, 0.7613636363636364, 0.7049180327868853], \"mode\": \"lines\", \"marker\": {\"color\": \"rgb(0,116,217)\"}, \"text\": null, \"hoverinfo\": \"all\", \"xaxis\": \"x\", \"yaxis\": \"y\"}, {\"type\": \"scatter\", \"x\": [105.0, 105.0, 115.0, 115.0], \"y\": [0.0, 0.2549019607843137, 0.2549019607843137, 0.0], \"mode\": \"lines\", \"marker\": {\"color\": \"rgb(255,65,54)\"}, \"text\": null, \"hoverinfo\": \"all\", \"xaxis\": \"x\", \"yaxis\": \"y\"}, {\"type\": \"scatter\", \"x\": [95.0, 95.0, 110.0, 110.0], \"y\": [0.0, 0.2777777777777778, 0.2777777777777778, 0.2549019607843137], \"mode\": \"lines\", \"marker\": {\"color\": \"rgb(255,65,54)\"}, \"text\": null, \"hoverinfo\": \"all\", \"xaxis\": \"x\", \"yaxis\": \"y\"}, {\"type\": \"scatter\", \"x\": [125.0, 125.0, 135.0, 135.0], \"y\": [0.0, 0.28125, 0.28125, 0.0], \"mode\": \"lines\", \"marker\": {\"color\": \"rgb(255,65,54)\"}, \"text\": null, \"hoverinfo\": \"all\", \"xaxis\": \"x\", \"yaxis\": \"y\"}, {\"type\": \"scatter\", \"x\": [102.5, 102.5, 130.0, 130.0], \"y\": [0.2777777777777778, 0.3333333333333333, 0.3333333333333333, 0.28125], \"mode\": \"lines\", \"marker\": {\"color\": \"rgb(255,65,54)\"}, \"text\": null, \"hoverinfo\": \"all\", \"xaxis\": \"x\", \"yaxis\": \"y\"}, {\"type\": \"scatter\", \"x\": [145.0, 145.0, 155.0, 155.0], \"y\": [0.0, 0.36923076923076925, 0.36923076923076925, 0.0], \"mode\": \"lines\", \"marker\": {\"color\": \"rgb(255,65,54)\"}, \"text\": null, \"hoverinfo\": \"all\", \"xaxis\": \"x\", \"yaxis\": \"y\"}, {\"type\": \"scatter\", \"x\": [116.25, 116.25, 150.0, 150.0], \"y\": [0.3333333333333333, 0.4057971014492754, 0.4057971014492754, 0.36923076923076925], \"mode\": \"lines\", \"marker\": {\"color\": \"rgb(255,65,54)\"}, \"text\": null, \"hoverinfo\": \"all\", \"xaxis\": \"x\", \"yaxis\": \"y\"}, {\"type\": \"scatter\", \"x\": [165.0, 165.0, 175.0, 175.0], \"y\": [0.0, 0.2698412698412698, 0.2698412698412698, 0.0], \"mode\": \"lines\", \"marker\": {\"color\": \"rgb(255,65,54)\"}, \"text\": null, \"hoverinfo\": \"all\", \"xaxis\": \"x\", \"yaxis\": \"y\"}, {\"type\": \"scatter\", \"x\": [195.0, 195.0, 205.0, 205.0], \"y\": [0.0, 0.28846153846153844, 0.28846153846153844, 0.0], \"mode\": \"lines\", \"marker\": {\"color\": \"rgb(255,65,54)\"}, \"text\": null, \"hoverinfo\": \"all\", \"xaxis\": \"x\", \"yaxis\": \"y\"}, {\"type\": \"scatter\", \"x\": [185.0, 185.0, 200.0, 200.0], \"y\": [0.0, 0.37735849056603776, 0.37735849056603776, 0.28846153846153844], \"mode\": \"lines\", \"marker\": {\"color\": \"rgb(255,65,54)\"}, \"text\": null, \"hoverinfo\": \"all\", \"xaxis\": \"x\", \"yaxis\": \"y\"}, {\"type\": \"scatter\", \"x\": [170.0, 170.0, 192.5, 192.5], \"y\": [0.2698412698412698, 0.4262295081967213, 0.4262295081967213, 0.37735849056603776], \"mode\": \"lines\", \"marker\": {\"color\": \"rgb(255,65,54)\"}, \"text\": null, \"hoverinfo\": \"all\", \"xaxis\": \"x\", \"yaxis\": \"y\"}, {\"type\": \"scatter\", \"x\": [133.125, 133.125, 181.25, 181.25], \"y\": [0.4057971014492754, 0.45454545454545453, 0.45454545454545453, 0.4262295081967213], \"mode\": \"lines\", \"marker\": {\"color\": \"rgb(255,65,54)\"}, \"text\": null, \"hoverinfo\": \"all\", \"xaxis\": \"x\", \"yaxis\": \"y\"}, {\"type\": \"scatter\", \"x\": [85.0, 85.0, 157.1875, 157.1875], \"y\": [0.0, 0.4925373134328358, 0.4925373134328358, 0.45454545454545453], \"mode\": \"lines\", \"marker\": {\"color\": \"rgb(255,65,54)\"}, \"text\": null, \"hoverinfo\": \"all\", \"xaxis\": \"x\", \"yaxis\": \"y\"}, {\"type\": \"scatter\", \"x\": [75.0, 75.0, 121.09375, 121.09375], \"y\": [0.0, 0.5652173913043478, 0.5652173913043478, 0.4925373134328358], \"mode\": \"lines\", \"marker\": {\"color\": \"rgb(255,65,54)\"}, \"text\": null, \"hoverinfo\": \"all\", \"xaxis\": \"x\", \"yaxis\": \"y\"}, {\"type\": \"scatter\", \"x\": [65.0, 65.0, 98.046875, 98.046875], \"y\": [0.0, 0.6904761904761905, 0.6904761904761905, 0.5652173913043478], \"mode\": \"lines\", \"marker\": {\"color\": \"rgb(0,116,217)\"}, \"text\": null, \"hoverinfo\": \"all\", \"xaxis\": \"x\", \"yaxis\": \"y\"}, {\"type\": \"scatter\", \"x\": [55.0, 55.0, 81.5234375, 81.5234375], \"y\": [0.0, 0.7981651376146789, 0.7981651376146789, 0.6904761904761905], \"mode\": \"lines\", \"marker\": {\"color\": \"rgb(0,116,217)\"}, \"text\": null, \"hoverinfo\": \"all\", \"xaxis\": \"x\", \"yaxis\": \"y\"}, {\"type\": \"scatter\", \"x\": [225.0, 225.0, 235.0, 235.0], \"y\": [0.0, 0.609375, 0.609375, 0.0], \"mode\": \"lines\", \"marker\": {\"color\": \"rgb(0,116,217)\"}, \"text\": null, \"hoverinfo\": \"all\", \"xaxis\": \"x\", \"yaxis\": \"y\"}, {\"type\": \"scatter\", \"x\": [255.0, 255.0, 265.0, 265.0], \"y\": [0.0, 0.36764705882352944, 0.36764705882352944, 0.0], \"mode\": \"lines\", \"marker\": {\"color\": \"rgb(35,205,205)\"}, \"text\": null, \"hoverinfo\": \"all\", \"xaxis\": \"x\", \"yaxis\": \"y\"}, {\"type\": \"scatter\", \"x\": [245.0, 245.0, 260.0, 260.0], \"y\": [0.0, 0.5342465753424658, 0.5342465753424658, 0.36764705882352944], \"mode\": \"lines\", \"marker\": {\"color\": \"rgb(35,205,205)\"}, \"text\": null, \"hoverinfo\": \"all\", \"xaxis\": \"x\", \"yaxis\": \"y\"}, {\"type\": \"scatter\", \"x\": [275.0, 275.0, 285.0, 285.0], \"y\": [0.0, 0.23529411764705882, 0.23529411764705882, 0.0], \"mode\": \"lines\", \"marker\": {\"color\": \"rgb(133,20,75)\"}, \"text\": null, \"hoverinfo\": \"all\", \"xaxis\": \"x\", \"yaxis\": \"y\"}, {\"type\": \"scatter\", \"x\": [295.0, 295.0, 305.0, 305.0], \"y\": [0.0, 0.4444444444444444, 0.4444444444444444, 0.0], \"mode\": \"lines\", \"marker\": {\"color\": \"rgb(133,20,75)\"}, \"text\": null, \"hoverinfo\": \"all\", \"xaxis\": \"x\", \"yaxis\": \"y\"}, {\"type\": \"scatter\", \"x\": [280.0, 280.0, 300.0, 300.0], \"y\": [0.23529411764705882, 0.5585585585585585, 0.5585585585585585, 0.4444444444444444], \"mode\": \"lines\", \"marker\": {\"color\": \"rgb(133,20,75)\"}, \"text\": null, \"hoverinfo\": \"all\", \"xaxis\": \"x\", \"yaxis\": \"y\"}, {\"type\": \"scatter\", \"x\": [252.5, 252.5, 290.0, 290.0], \"y\": [0.5342465753424658, 0.6902654867256637, 0.6902654867256637, 0.5585585585585585], \"mode\": \"lines\", \"marker\": {\"color\": \"rgb(0,116,217)\"}, \"text\": null, \"hoverinfo\": \"all\", \"xaxis\": \"x\", \"yaxis\": \"y\"}, {\"type\": \"scatter\", \"x\": [230.0, 230.0, 271.25, 271.25], \"y\": [0.609375, 0.7619047619047619, 0.7619047619047619, 0.6902654867256637], \"mode\": \"lines\", \"marker\": {\"color\": \"rgb(0,116,217)\"}, \"text\": null, \"hoverinfo\": \"all\", \"xaxis\": \"x\", \"yaxis\": \"y\"}, {\"type\": \"scatter\", \"x\": [215.0, 215.0, 250.625, 250.625], \"y\": [0.0, 0.8266666666666667, 0.8266666666666667, 0.7619047619047619], \"mode\": \"lines\", \"marker\": {\"color\": \"rgb(0,116,217)\"}, \"text\": null, \"hoverinfo\": \"all\", \"xaxis\": \"x\", \"yaxis\": \"y\"}, {\"type\": \"scatter\", \"x\": [68.26171875, 68.26171875, 232.8125, 232.8125], \"y\": [0.7981651376146789, 0.8712871287128713, 0.8712871287128713, 0.8266666666666667], \"mode\": \"lines\", \"marker\": {\"color\": \"rgb(0,116,217)\"}, \"text\": null, \"hoverinfo\": \"all\", \"xaxis\": \"x\", \"yaxis\": \"y\"}, {\"type\": \"scatter\", \"x\": [14.375, 14.375, 150.537109375, 150.537109375], \"y\": [0.7613636363636364, 0.9014084507042254, 0.9014084507042254, 0.8712871287128713], \"mode\": \"lines\", \"marker\": {\"color\": \"rgb(0,116,217)\"}, \"text\": null, \"hoverinfo\": \"all\", \"xaxis\": \"x\", \"yaxis\": \"y\"}, {\"type\": \"scatter\", \"x\": [345.0, 345.0, 355.0, 355.0], \"y\": [0.0, 0.6336633663366337, 0.6336633663366337, 0.0], \"mode\": \"lines\", \"marker\": {\"color\": \"rgb(0,116,217)\"}, \"text\": null, \"hoverinfo\": \"all\", \"xaxis\": \"x\", \"yaxis\": \"y\"}, {\"type\": \"scatter\", \"x\": [335.0, 335.0, 350.0, 350.0], \"y\": [0.0, 0.6629213483146067, 0.6629213483146067, 0.6336633663366337], \"mode\": \"lines\", \"marker\": {\"color\": \"rgb(0,116,217)\"}, \"text\": null, \"hoverinfo\": \"all\", \"xaxis\": \"x\", \"yaxis\": \"y\"}, {\"type\": \"scatter\", \"x\": [325.0, 325.0, 342.5, 342.5], \"y\": [0.0, 0.7604166666666666, 0.7604166666666666, 0.6629213483146067], \"mode\": \"lines\", \"marker\": {\"color\": \"rgb(0,116,217)\"}, \"text\": null, \"hoverinfo\": \"all\", \"xaxis\": \"x\", \"yaxis\": \"y\"}, {\"type\": \"scatter\", \"x\": [315.0, 315.0, 333.75, 333.75], \"y\": [0.0, 0.8023255813953488, 0.8023255813953488, 0.7604166666666666], \"mode\": \"lines\", \"marker\": {\"color\": \"rgb(0,116,217)\"}, \"text\": null, \"hoverinfo\": \"all\", \"xaxis\": \"x\", \"yaxis\": \"y\"}, {\"type\": \"scatter\", \"x\": [365.0, 365.0, 375.0, 375.0], \"y\": [0.0, 0.4713114754098361, 0.4713114754098361, 0.0], \"mode\": \"lines\", \"marker\": {\"color\": \"rgb(255,220,0)\"}, \"text\": null, \"hoverinfo\": \"all\", \"xaxis\": \"x\", \"yaxis\": \"y\"}, {\"type\": \"scatter\", \"x\": [405.0, 405.0, 415.0, 415.0], \"y\": [0.0, 0.5222222222222223, 0.5222222222222223, 0.0], \"mode\": \"lines\", \"marker\": {\"color\": \"rgb(40,35,35)\"}, \"text\": null, \"hoverinfo\": \"all\", \"xaxis\": \"x\", \"yaxis\": \"y\"}, {\"type\": \"scatter\", \"x\": [395.0, 395.0, 410.0, 410.0], \"y\": [0.0, 0.6097560975609756, 0.6097560975609756, 0.5222222222222223], \"mode\": \"lines\", \"marker\": {\"color\": \"rgb(0,116,217)\"}, \"text\": null, \"hoverinfo\": \"all\", \"xaxis\": \"x\", \"yaxis\": \"y\"}, {\"type\": \"scatter\", \"x\": [435.0, 435.0, 445.0, 445.0], \"y\": [0.0, 0.524822695035461, 0.524822695035461, 0.0], \"mode\": \"lines\", \"marker\": {\"color\": \"rgb(61,153,112)\"}, \"text\": null, \"hoverinfo\": \"all\", \"xaxis\": \"x\", \"yaxis\": \"y\"}, {\"type\": \"scatter\", \"x\": [425.0, 425.0, 440.0, 440.0], \"y\": [0.0, 0.6983240223463687, 0.6983240223463687, 0.524822695035461], \"mode\": \"lines\", \"marker\": {\"color\": \"rgb(0,116,217)\"}, \"text\": null, \"hoverinfo\": \"all\", \"xaxis\": \"x\", \"yaxis\": \"y\"}, {\"type\": \"scatter\", \"x\": [402.5, 402.5, 432.5, 432.5], \"y\": [0.6097560975609756, 0.7364341085271318, 0.7364341085271318, 0.6983240223463687], \"mode\": \"lines\", \"marker\": {\"color\": \"rgb(0,116,217)\"}, \"text\": null, \"hoverinfo\": \"all\", \"xaxis\": \"x\", \"yaxis\": \"y\"}, {\"type\": \"scatter\", \"x\": [385.0, 385.0, 417.5, 417.5], \"y\": [0.0, 0.7661290322580645, 0.7661290322580645, 0.7364341085271318], \"mode\": \"lines\", \"marker\": {\"color\": \"rgb(0,116,217)\"}, \"text\": null, \"hoverinfo\": \"all\", \"xaxis\": \"x\", \"yaxis\": \"y\"}, {\"type\": \"scatter\", \"x\": [370.0, 370.0, 401.25, 401.25], \"y\": [0.4713114754098361, 0.8212765957446808, 0.8212765957446808, 0.7661290322580645], \"mode\": \"lines\", \"marker\": {\"color\": \"rgb(0,116,217)\"}, \"text\": null, \"hoverinfo\": \"all\", \"xaxis\": \"x\", \"yaxis\": \"y\"}, {\"type\": \"scatter\", \"x\": [324.375, 324.375, 385.625, 385.625], \"y\": [0.8023255813953488, 0.9403973509933775, 0.9403973509933775, 0.8212765957446808], \"mode\": \"lines\", \"marker\": {\"color\": \"rgb(0,116,217)\"}, \"text\": null, \"hoverinfo\": \"all\", \"xaxis\": \"x\", \"yaxis\": \"y\"}, {\"type\": \"scatter\", \"x\": [82.4560546875, 82.4560546875, 355.0, 355.0], \"y\": [0.9014084507042254, 0.9705882352941176, 0.9705882352941176, 0.9403973509933775], \"mode\": \"lines\", \"marker\": {\"color\": \"rgb(0,116,217)\"}, \"text\": null, \"hoverinfo\": \"all\", \"xaxis\": \"x\", \"yaxis\": \"y\"}, {\"type\": \"scatter\", \"x\": [465.0, 465.0, 475.0, 475.0], \"y\": [0.0, 0.4230769230769231, 0.4230769230769231, 0.0], \"mode\": \"lines\", \"marker\": {\"color\": \"rgb(255,65,54)\"}, \"text\": null, \"hoverinfo\": \"all\", \"xaxis\": \"x\", \"yaxis\": \"y\"}, {\"type\": \"scatter\", \"x\": [505.0, 505.0, 515.0, 515.0], \"y\": [0.0, 0.375, 0.375, 0.0], \"mode\": \"lines\", \"marker\": {\"color\": \"rgb(35,205,205)\"}, \"text\": null, \"hoverinfo\": \"all\", \"xaxis\": \"x\", \"yaxis\": \"y\"}, {\"type\": \"scatter\", \"x\": [495.0, 495.0, 510.0, 510.0], \"y\": [0.0, 0.391304347826087, 0.391304347826087, 0.375], \"mode\": \"lines\", \"marker\": {\"color\": \"rgb(35,205,205)\"}, \"text\": null, \"hoverinfo\": \"all\", \"xaxis\": \"x\", \"yaxis\": \"y\"}, {\"type\": \"scatter\", \"x\": [485.0, 485.0, 502.5, 502.5], \"y\": [0.0, 0.5, 0.5, 0.391304347826087], \"mode\": \"lines\", \"marker\": {\"color\": \"rgb(35,205,205)\"}, \"text\": null, \"hoverinfo\": \"all\", \"xaxis\": \"x\", \"yaxis\": \"y\"}, {\"type\": \"scatter\", \"x\": [470.0, 470.0, 493.75, 493.75], \"y\": [0.4230769230769231, 0.7878787878787878, 0.7878787878787878, 0.5], \"mode\": \"lines\", \"marker\": {\"color\": \"rgb(0,116,217)\"}, \"text\": null, \"hoverinfo\": \"all\", \"xaxis\": \"x\", \"yaxis\": \"y\"}, {\"type\": \"scatter\", \"x\": [525.0, 525.0, 535.0, 535.0], \"y\": [0.0, 0.6981132075471698, 0.6981132075471698, 0.0], \"mode\": \"lines\", \"marker\": {\"color\": \"rgb(0,116,217)\"}, \"text\": null, \"hoverinfo\": \"all\", \"xaxis\": \"x\", \"yaxis\": \"y\"}, {\"type\": \"scatter\", \"x\": [545.0, 545.0, 555.0, 555.0], \"y\": [0.0, 0.4074074074074074, 0.4074074074074074, 0.0], \"mode\": \"lines\", \"marker\": {\"color\": \"rgb(133,20,75)\"}, \"text\": null, \"hoverinfo\": \"all\", \"xaxis\": \"x\", \"yaxis\": \"y\"}, {\"type\": \"scatter\", \"x\": [565.0, 565.0, 575.0, 575.0], \"y\": [0.0, 0.6896551724137931, 0.6896551724137931, 0.0], \"mode\": \"lines\", \"marker\": {\"color\": \"rgb(0,116,217)\"}, \"text\": null, \"hoverinfo\": \"all\", \"xaxis\": \"x\", \"yaxis\": \"y\"}, {\"type\": \"scatter\", \"x\": [550.0, 550.0, 570.0, 570.0], \"y\": [0.4074074074074074, 0.7567567567567568, 0.7567567567567568, 0.6896551724137931], \"mode\": \"lines\", \"marker\": {\"color\": \"rgb(0,116,217)\"}, \"text\": null, \"hoverinfo\": \"all\", \"xaxis\": \"x\", \"yaxis\": \"y\"}, {\"type\": \"scatter\", \"x\": [530.0, 530.0, 560.0, 560.0], \"y\": [0.6981132075471698, 0.8604651162790697, 0.8604651162790697, 0.7567567567567568], \"mode\": \"lines\", \"marker\": {\"color\": \"rgb(0,116,217)\"}, \"text\": null, \"hoverinfo\": \"all\", \"xaxis\": \"x\", \"yaxis\": \"y\"}, {\"type\": \"scatter\", \"x\": [481.875, 481.875, 545.0, 545.0], \"y\": [0.7878787878787878, 0.88, 0.88, 0.8604651162790697], \"mode\": \"lines\", \"marker\": {\"color\": \"rgb(0,116,217)\"}, \"text\": null, \"hoverinfo\": \"all\", \"xaxis\": \"x\", \"yaxis\": \"y\"}, {\"type\": \"scatter\", \"x\": [595.0, 595.0, 605.0, 605.0], \"y\": [0.0, 0.36363636363636365, 0.36363636363636365, 0.0], \"mode\": \"lines\", \"marker\": {\"color\": \"rgb(255,220,0)\"}, \"text\": null, \"hoverinfo\": \"all\", \"xaxis\": \"x\", \"yaxis\": \"y\"}, {\"type\": \"scatter\", \"x\": [585.0, 585.0, 600.0, 600.0], \"y\": [0.0, 0.926829268292683, 0.926829268292683, 0.36363636363636365], \"mode\": \"lines\", \"marker\": {\"color\": \"rgb(0,116,217)\"}, \"text\": null, \"hoverinfo\": \"all\", \"xaxis\": \"x\", \"yaxis\": \"y\"}, {\"type\": \"scatter\", \"x\": [513.4375, 513.4375, 592.5, 592.5], \"y\": [0.88, 0.9473684210526315, 0.9473684210526315, 0.926829268292683], \"mode\": \"lines\", \"marker\": {\"color\": \"rgb(0,116,217)\"}, \"text\": null, \"hoverinfo\": \"all\", \"xaxis\": \"x\", \"yaxis\": \"y\"}, {\"type\": \"scatter\", \"x\": [455.0, 455.0, 552.96875, 552.96875], \"y\": [0.0, 0.9705882352941176, 0.9705882352941176, 0.9473684210526315], \"mode\": \"lines\", \"marker\": {\"color\": \"rgb(0,116,217)\"}, \"text\": null, \"hoverinfo\": \"all\", \"xaxis\": \"x\", \"yaxis\": \"y\"}, {\"type\": \"scatter\", \"x\": [615.0, 615.0, 625.0, 625.0], \"y\": [0.0, 0.36231884057971014, 0.36231884057971014, 0.0], \"mode\": \"lines\", \"marker\": {\"color\": \"rgb(40,35,35)\"}, \"text\": null, \"hoverinfo\": \"all\", \"xaxis\": \"x\", \"yaxis\": \"y\"}, {\"type\": \"scatter\", \"x\": [635.0, 635.0, 645.0, 645.0], \"y\": [0.0, 0.44776119402985076, 0.44776119402985076, 0.0], \"mode\": \"lines\", \"marker\": {\"color\": \"rgb(40,35,35)\"}, \"text\": null, \"hoverinfo\": \"all\", \"xaxis\": \"x\", \"yaxis\": \"y\"}, {\"type\": \"scatter\", \"x\": [620.0, 620.0, 640.0, 640.0], \"y\": [0.36231884057971014, 0.4931506849315068, 0.4931506849315068, 0.44776119402985076], \"mode\": \"lines\", \"marker\": {\"color\": \"rgb(40,35,35)\"}, \"text\": null, \"hoverinfo\": \"all\", \"xaxis\": \"x\", \"yaxis\": \"y\"}, {\"type\": \"scatter\", \"x\": [655.0, 655.0, 665.0, 665.0], \"y\": [0.0, 0.5, 0.5, 0.0], \"mode\": \"lines\", \"marker\": {\"color\": \"rgb(61,153,112)\"}, \"text\": null, \"hoverinfo\": \"all\", \"xaxis\": \"x\", \"yaxis\": \"y\"}, {\"type\": \"scatter\", \"x\": [630.0, 630.0, 660.0, 660.0], \"y\": [0.4931506849315068, 0.8817204301075269, 0.8817204301075269, 0.5], \"mode\": \"lines\", \"marker\": {\"color\": \"rgb(0,116,217)\"}, \"text\": null, \"hoverinfo\": \"all\", \"xaxis\": \"x\", \"yaxis\": \"y\"}, {\"type\": \"scatter\", \"x\": [675.0, 675.0, 685.0, 685.0], \"y\": [0.0, 0.4117647058823529, 0.4117647058823529, 0.0], \"mode\": \"lines\", \"marker\": {\"color\": \"rgb(255,65,54)\"}, \"text\": null, \"hoverinfo\": \"all\", \"xaxis\": \"x\", \"yaxis\": \"y\"}, {\"type\": \"scatter\", \"x\": [705.0, 705.0, 715.0, 715.0], \"y\": [0.0, 0.42857142857142855, 0.42857142857142855, 0.0], \"mode\": \"lines\", \"marker\": {\"color\": \"rgb(35,205,205)\"}, \"text\": null, \"hoverinfo\": \"all\", \"xaxis\": \"x\", \"yaxis\": \"y\"}, {\"type\": \"scatter\", \"x\": [695.0, 695.0, 710.0, 710.0], \"y\": [0.0, 0.7058823529411765, 0.7058823529411765, 0.42857142857142855], \"mode\": \"lines\", \"marker\": {\"color\": \"rgb(0,116,217)\"}, \"text\": null, \"hoverinfo\": \"all\", \"xaxis\": \"x\", \"yaxis\": \"y\"}, {\"type\": \"scatter\", \"x\": [745.0, 745.0, 755.0, 755.0], \"y\": [0.0, 0.35714285714285715, 0.35714285714285715, 0.0], \"mode\": \"lines\", \"marker\": {\"color\": \"rgb(133,20,75)\"}, \"text\": null, \"hoverinfo\": \"all\", \"xaxis\": \"x\", \"yaxis\": \"y\"}, {\"type\": \"scatter\", \"x\": [735.0, 735.0, 750.0, 750.0], \"y\": [0.0, 0.47058823529411764, 0.47058823529411764, 0.35714285714285715], \"mode\": \"lines\", \"marker\": {\"color\": \"rgb(133,20,75)\"}, \"text\": null, \"hoverinfo\": \"all\", \"xaxis\": \"x\", \"yaxis\": \"y\"}, {\"type\": \"scatter\", \"x\": [725.0, 725.0, 742.5, 742.5], \"y\": [0.0, 0.631578947368421, 0.631578947368421, 0.47058823529411764], \"mode\": \"lines\", \"marker\": {\"color\": \"rgb(0,116,217)\"}, \"text\": null, \"hoverinfo\": \"all\", \"xaxis\": \"x\", \"yaxis\": \"y\"}, {\"type\": \"scatter\", \"x\": [765.0, 765.0, 775.0, 775.0], \"y\": [0.0, 0.725, 0.725, 0.0], \"mode\": \"lines\", \"marker\": {\"color\": \"rgb(0,116,217)\"}, \"text\": null, \"hoverinfo\": \"all\", \"xaxis\": \"x\", \"yaxis\": \"y\"}, {\"type\": \"scatter\", \"x\": [733.75, 733.75, 770.0, 770.0], \"y\": [0.631578947368421, 0.7407407407407407, 0.7407407407407407, 0.725], \"mode\": \"lines\", \"marker\": {\"color\": \"rgb(0,116,217)\"}, \"text\": null, \"hoverinfo\": \"all\", \"xaxis\": \"x\", \"yaxis\": \"y\"}, {\"type\": \"scatter\", \"x\": [702.5, 702.5, 751.875, 751.875], \"y\": [0.7058823529411765, 0.85, 0.85, 0.7407407407407407], \"mode\": \"lines\", \"marker\": {\"color\": \"rgb(0,116,217)\"}, \"text\": null, \"hoverinfo\": \"all\", \"xaxis\": \"x\", \"yaxis\": \"y\"}, {\"type\": \"scatter\", \"x\": [680.0, 680.0, 727.1875, 727.1875], \"y\": [0.4117647058823529, 0.9818181818181818, 0.9818181818181818, 0.85], \"mode\": \"lines\", \"marker\": {\"color\": \"rgb(0,116,217)\"}, \"text\": null, \"hoverinfo\": \"all\", \"xaxis\": \"x\", \"yaxis\": \"y\"}, {\"type\": \"scatter\", \"x\": [785.0, 785.0, 795.0, 795.0], \"y\": [0.0, 0.47540983606557374, 0.47540983606557374, 0.0], \"mode\": \"lines\", \"marker\": {\"color\": \"rgb(255,220,0)\"}, \"text\": null, \"hoverinfo\": \"all\", \"xaxis\": \"x\", \"yaxis\": \"y\"}, {\"type\": \"scatter\", \"x\": [815.0, 815.0, 825.0, 825.0], \"y\": [0.0, 0.423728813559322, 0.423728813559322, 0.0], \"mode\": \"lines\", \"marker\": {\"color\": \"rgb(40,35,35)\"}, \"text\": null, \"hoverinfo\": \"all\", \"xaxis\": \"x\", \"yaxis\": \"y\"}, {\"type\": \"scatter\", \"x\": [805.0, 805.0, 820.0, 820.0], \"y\": [0.0, 0.49019607843137253, 0.49019607843137253, 0.423728813559322], \"mode\": \"lines\", \"marker\": {\"color\": \"rgb(40,35,35)\"}, \"text\": null, \"hoverinfo\": \"all\", \"xaxis\": \"x\", \"yaxis\": \"y\"}, {\"type\": \"scatter\", \"x\": [855.0, 855.0, 865.0, 865.0], \"y\": [0.0, 0.30612244897959184, 0.30612244897959184, 0.0], \"mode\": \"lines\", \"marker\": {\"color\": \"rgb(61,153,112)\"}, \"text\": null, \"hoverinfo\": \"all\", \"xaxis\": \"x\", \"yaxis\": \"y\"}, {\"type\": \"scatter\", \"x\": [845.0, 845.0, 860.0, 860.0], \"y\": [0.0, 0.3728813559322034, 0.3728813559322034, 0.30612244897959184], \"mode\": \"lines\", \"marker\": {\"color\": \"rgb(61,153,112)\"}, \"text\": null, \"hoverinfo\": \"all\", \"xaxis\": \"x\", \"yaxis\": \"y\"}, {\"type\": \"scatter\", \"x\": [835.0, 835.0, 852.5, 852.5], \"y\": [0.0, 0.5, 0.5, 0.3728813559322034], \"mode\": \"lines\", \"marker\": {\"color\": \"rgb(61,153,112)\"}, \"text\": null, \"hoverinfo\": \"all\", \"xaxis\": \"x\", \"yaxis\": \"y\"}, {\"type\": \"scatter\", \"x\": [812.5, 812.5, 843.75, 843.75], \"y\": [0.49019607843137253, 0.6862745098039216, 0.6862745098039216, 0.5], \"mode\": \"lines\", \"marker\": {\"color\": \"rgb(0,116,217)\"}, \"text\": null, \"hoverinfo\": \"all\", \"xaxis\": \"x\", \"yaxis\": \"y\"}, {\"type\": \"scatter\", \"x\": [790.0, 790.0, 828.125, 828.125], \"y\": [0.47540983606557374, 0.7857142857142857, 0.7857142857142857, 0.6862745098039216], \"mode\": \"lines\", \"marker\": {\"color\": \"rgb(0,116,217)\"}, \"text\": null, \"hoverinfo\": \"all\", \"xaxis\": \"x\", \"yaxis\": \"y\"}, {\"type\": \"scatter\", \"x\": [895.0, 895.0, 905.0, 905.0], \"y\": [0.0, 0.2876712328767123, 0.2876712328767123, 0.0], \"mode\": \"lines\", \"marker\": {\"color\": \"rgb(255,65,54)\"}, \"text\": null, \"hoverinfo\": \"all\", \"xaxis\": \"x\", \"yaxis\": \"y\"}, {\"type\": \"scatter\", \"x\": [885.0, 885.0, 900.0, 900.0], \"y\": [0.0, 0.39473684210526316, 0.39473684210526316, 0.2876712328767123], \"mode\": \"lines\", \"marker\": {\"color\": \"rgb(255,65,54)\"}, \"text\": null, \"hoverinfo\": \"all\", \"xaxis\": \"x\", \"yaxis\": \"y\"}, {\"type\": \"scatter\", \"x\": [915.0, 915.0, 925.0, 925.0], \"y\": [0.0, 0.45569620253164556, 0.45569620253164556, 0.0], \"mode\": \"lines\", \"marker\": {\"color\": \"rgb(255,65,54)\"}, \"text\": null, \"hoverinfo\": \"all\", \"xaxis\": \"x\", \"yaxis\": \"y\"}, {\"type\": \"scatter\", \"x\": [892.5, 892.5, 920.0, 920.0], \"y\": [0.39473684210526316, 0.5119047619047619, 0.5119047619047619, 0.45569620253164556], \"mode\": \"lines\", \"marker\": {\"color\": \"rgb(255,65,54)\"}, \"text\": null, \"hoverinfo\": \"all\", \"xaxis\": \"x\", \"yaxis\": \"y\"}, {\"type\": \"scatter\", \"x\": [935.0, 935.0, 945.0, 945.0], \"y\": [0.0, 0.35384615384615387, 0.35384615384615387, 0.0], \"mode\": \"lines\", \"marker\": {\"color\": \"rgb(35,205,205)\"}, \"text\": null, \"hoverinfo\": \"all\", \"xaxis\": \"x\", \"yaxis\": \"y\"}, {\"type\": \"scatter\", \"x\": [955.0, 955.0, 965.0, 965.0], \"y\": [0.0, 0.54, 0.54, 0.0], \"mode\": \"lines\", \"marker\": {\"color\": \"rgb(35,205,205)\"}, \"text\": null, \"hoverinfo\": \"all\", \"xaxis\": \"x\", \"yaxis\": \"y\"}, {\"type\": \"scatter\", \"x\": [940.0, 940.0, 960.0, 960.0], \"y\": [0.35384615384615387, 0.5934065934065934, 0.5934065934065934, 0.54], \"mode\": \"lines\", \"marker\": {\"color\": \"rgb(35,205,205)\"}, \"text\": null, \"hoverinfo\": \"all\", \"xaxis\": \"x\", \"yaxis\": \"y\"}, {\"type\": \"scatter\", \"x\": [906.25, 906.25, 950.0, 950.0], \"y\": [0.5119047619047619, 0.6530612244897959, 0.6530612244897959, 0.5934065934065934], \"mode\": \"lines\", \"marker\": {\"color\": \"rgb(0,116,217)\"}, \"text\": null, \"hoverinfo\": \"all\", \"xaxis\": \"x\", \"yaxis\": \"y\"}, {\"type\": \"scatter\", \"x\": [985.0, 985.0, 995.0, 995.0], \"y\": [0.0, 0.3333333333333333, 0.3333333333333333, 0.0], \"mode\": \"lines\", \"marker\": {\"color\": \"rgb(133,20,75)\"}, \"text\": null, \"hoverinfo\": \"all\", \"xaxis\": \"x\", \"yaxis\": \"y\"}, {\"type\": \"scatter\", \"x\": [975.0, 975.0, 990.0, 990.0], \"y\": [0.0, 0.6753246753246753, 0.6753246753246753, 0.3333333333333333], \"mode\": \"lines\", \"marker\": {\"color\": \"rgb(0,116,217)\"}, \"text\": null, \"hoverinfo\": \"all\", \"xaxis\": \"x\", \"yaxis\": \"y\"}, {\"type\": \"scatter\", \"x\": [928.125, 928.125, 982.5, 982.5], \"y\": [0.6530612244897959, 0.7093023255813954, 0.7093023255813954, 0.6753246753246753], \"mode\": \"lines\", \"marker\": {\"color\": \"rgb(0,116,217)\"}, \"text\": null, \"hoverinfo\": \"all\", \"xaxis\": \"x\", \"yaxis\": \"y\"}, {\"type\": \"scatter\", \"x\": [1005.0, 1005.0, 1015.0, 1015.0], \"y\": [0.0, 0.2777777777777778, 0.2777777777777778, 0.0], \"mode\": \"lines\", \"marker\": {\"color\": \"rgb(255,220,0)\"}, \"text\": null, \"hoverinfo\": \"all\", \"xaxis\": \"x\", \"yaxis\": \"y\"}, {\"type\": \"scatter\", \"x\": [1045.0, 1045.0, 1055.0, 1055.0], \"y\": [0.0, 0.18867924528301888, 0.18867924528301888, 0.0], \"mode\": \"lines\", \"marker\": {\"color\": \"rgb(40,35,35)\"}, \"text\": null, \"hoverinfo\": \"all\", \"xaxis\": \"x\", \"yaxis\": \"y\"}, {\"type\": \"scatter\", \"x\": [1035.0, 1035.0, 1050.0, 1050.0], \"y\": [0.0, 0.20754716981132076, 0.20754716981132076, 0.18867924528301888], \"mode\": \"lines\", \"marker\": {\"color\": \"rgb(40,35,35)\"}, \"text\": null, \"hoverinfo\": \"all\", \"xaxis\": \"x\", \"yaxis\": \"y\"}, {\"type\": \"scatter\", \"x\": [1025.0, 1025.0, 1042.5, 1042.5], \"y\": [0.0, 0.29508196721311475, 0.29508196721311475, 0.20754716981132076], \"mode\": \"lines\", \"marker\": {\"color\": \"rgb(40,35,35)\"}, \"text\": null, \"hoverinfo\": \"all\", \"xaxis\": \"x\", \"yaxis\": \"y\"}, {\"type\": \"scatter\", \"x\": [1065.0, 1065.0, 1075.0, 1075.0], \"y\": [0.0, 0.54, 0.54, 0.0], \"mode\": \"lines\", \"marker\": {\"color\": \"rgb(40,35,35)\"}, \"text\": null, \"hoverinfo\": \"all\", \"xaxis\": \"x\", \"yaxis\": \"y\"}, {\"type\": \"scatter\", \"x\": [1033.75, 1033.75, 1070.0, 1070.0], \"y\": [0.29508196721311475, 0.5714285714285714, 0.5714285714285714, 0.54], \"mode\": \"lines\", \"marker\": {\"color\": \"rgb(40,35,35)\"}, \"text\": null, \"hoverinfo\": \"all\", \"xaxis\": \"x\", \"yaxis\": \"y\"}, {\"type\": \"scatter\", \"x\": [1010.0, 1010.0, 1051.875, 1051.875], \"y\": [0.2777777777777778, 0.75, 0.75, 0.5714285714285714], \"mode\": \"lines\", \"marker\": {\"color\": \"rgb(0,116,217)\"}, \"text\": null, \"hoverinfo\": \"all\", \"xaxis\": \"x\", \"yaxis\": \"y\"}, {\"type\": \"scatter\", \"x\": [955.3125, 955.3125, 1030.9375, 1030.9375], \"y\": [0.7093023255813954, 0.7662337662337663, 0.7662337662337663, 0.75], \"mode\": \"lines\", \"marker\": {\"color\": \"rgb(0,116,217)\"}, \"text\": null, \"hoverinfo\": \"all\", \"xaxis\": \"x\", \"yaxis\": \"y\"}, {\"type\": \"scatter\", \"x\": [875.0, 875.0, 993.125, 993.125], \"y\": [0.0, 0.8192771084337349, 0.8192771084337349, 0.7662337662337663], \"mode\": \"lines\", \"marker\": {\"color\": \"rgb(0,116,217)\"}, \"text\": null, \"hoverinfo\": \"all\", \"xaxis\": \"x\", \"yaxis\": \"y\"}, {\"type\": \"scatter\", \"x\": [809.0625, 809.0625, 934.0625, 934.0625], \"y\": [0.7857142857142857, 0.8448275862068966, 0.8448275862068966, 0.8192771084337349], \"mode\": \"lines\", \"marker\": {\"color\": \"rgb(0,116,217)\"}, \"text\": null, \"hoverinfo\": \"all\", \"xaxis\": \"x\", \"yaxis\": \"y\"}, {\"type\": \"scatter\", \"x\": [1085.0, 1085.0, 1095.0, 1095.0], \"y\": [0.0, 0.8571428571428571, 0.8571428571428571, 0.0], \"mode\": \"lines\", \"marker\": {\"color\": \"rgb(0,116,217)\"}, \"text\": null, \"hoverinfo\": \"all\", \"xaxis\": \"x\", \"yaxis\": \"y\"}, {\"type\": \"scatter\", \"x\": [871.5625, 871.5625, 1090.0, 1090.0], \"y\": [0.8448275862068966, 0.9146341463414634, 0.9146341463414634, 0.8571428571428571], \"mode\": \"lines\", \"marker\": {\"color\": \"rgb(0,116,217)\"}, \"text\": null, \"hoverinfo\": \"all\", \"xaxis\": \"x\", \"yaxis\": \"y\"}, {\"type\": \"scatter\", \"x\": [1115.0, 1115.0, 1125.0, 1125.0], \"y\": [0.0, 0.8333333333333334, 0.8333333333333334, 0.0], \"mode\": \"lines\", \"marker\": {\"color\": \"rgb(0,116,217)\"}, \"text\": null, \"hoverinfo\": \"all\", \"xaxis\": \"x\", \"yaxis\": \"y\"}, {\"type\": \"scatter\", \"x\": [1155.0, 1155.0, 1165.0, 1165.0], \"y\": [0.0, 0.34615384615384615, 0.34615384615384615, 0.0], \"mode\": \"lines\", \"marker\": {\"color\": \"rgb(61,153,112)\"}, \"text\": null, \"hoverinfo\": \"all\", \"xaxis\": \"x\", \"yaxis\": \"y\"}, {\"type\": \"scatter\", \"x\": [1145.0, 1145.0, 1160.0, 1160.0], \"y\": [0.0, 0.6296296296296297, 0.6296296296296297, 0.34615384615384615], \"mode\": \"lines\", \"marker\": {\"color\": \"rgb(0,116,217)\"}, \"text\": null, \"hoverinfo\": \"all\", \"xaxis\": \"x\", \"yaxis\": \"y\"}, {\"type\": \"scatter\", \"x\": [1135.0, 1135.0, 1152.5, 1152.5], \"y\": [0.0, 0.8666666666666667, 0.8666666666666667, 0.6296296296296297], \"mode\": \"lines\", \"marker\": {\"color\": \"rgb(0,116,217)\"}, \"text\": null, \"hoverinfo\": \"all\", \"xaxis\": \"x\", \"yaxis\": \"y\"}, {\"type\": \"scatter\", \"x\": [1120.0, 1120.0, 1143.75, 1143.75], \"y\": [0.8333333333333334, 0.9111111111111111, 0.9111111111111111, 0.8666666666666667], \"mode\": \"lines\", \"marker\": {\"color\": \"rgb(0,116,217)\"}, \"text\": null, \"hoverinfo\": \"all\", \"xaxis\": \"x\", \"yaxis\": \"y\"}, {\"type\": \"scatter\", \"x\": [1105.0, 1105.0, 1131.875, 1131.875], \"y\": [0.0, 0.9298245614035088, 0.9298245614035088, 0.9111111111111111], \"mode\": \"lines\", \"marker\": {\"color\": \"rgb(0,116,217)\"}, \"text\": null, \"hoverinfo\": \"all\", \"xaxis\": \"x\", \"yaxis\": \"y\"}, {\"type\": \"scatter\", \"x\": [980.78125, 980.78125, 1118.4375, 1118.4375], \"y\": [0.9146341463414634, 0.9883720930232558, 0.9883720930232558, 0.9298245614035088], \"mode\": \"lines\", \"marker\": {\"color\": \"rgb(0,116,217)\"}, \"text\": null, \"hoverinfo\": \"all\", \"xaxis\": \"x\", \"yaxis\": \"y\"}, {\"type\": \"scatter\", \"x\": [1175.0, 1175.0, 1185.0, 1185.0], \"y\": [0.0, 0.8571428571428571, 0.8571428571428571, 0.0], \"mode\": \"lines\", \"marker\": {\"color\": \"rgb(0,116,217)\"}, \"text\": null, \"hoverinfo\": \"all\", \"xaxis\": \"x\", \"yaxis\": \"y\"}, {\"type\": \"scatter\", \"x\": [1215.0, 1215.0, 1225.0, 1225.0], \"y\": [0.0, 0.38461538461538464, 0.38461538461538464, 0.0], \"mode\": \"lines\", \"marker\": {\"color\": \"rgb(255,65,54)\"}, \"text\": null, \"hoverinfo\": \"all\", \"xaxis\": \"x\", \"yaxis\": \"y\"}, {\"type\": \"scatter\", \"x\": [1205.0, 1205.0, 1220.0, 1220.0], \"y\": [0.0, 0.6904761904761905, 0.6904761904761905, 0.38461538461538464], \"mode\": \"lines\", \"marker\": {\"color\": \"rgb(0,116,217)\"}, \"text\": null, \"hoverinfo\": \"all\", \"xaxis\": \"x\", \"yaxis\": \"y\"}, {\"type\": \"scatter\", \"x\": [1195.0, 1195.0, 1212.5, 1212.5], \"y\": [0.0, 0.8095238095238095, 0.8095238095238095, 0.6904761904761905], \"mode\": \"lines\", \"marker\": {\"color\": \"rgb(0,116,217)\"}, \"text\": null, \"hoverinfo\": \"all\", \"xaxis\": \"x\", \"yaxis\": \"y\"}, {\"type\": \"scatter\", \"x\": [1235.0, 1235.0, 1245.0, 1245.0], \"y\": [0.0, 0.7222222222222222, 0.7222222222222222, 0.0], \"mode\": \"lines\", \"marker\": {\"color\": \"rgb(0,116,217)\"}, \"text\": null, \"hoverinfo\": \"all\", \"xaxis\": \"x\", \"yaxis\": \"y\"}, {\"type\": \"scatter\", \"x\": [1265.0, 1265.0, 1275.0, 1275.0], \"y\": [0.0, 0.4, 0.4, 0.0], \"mode\": \"lines\", \"marker\": {\"color\": \"rgb(35,205,205)\"}, \"text\": null, \"hoverinfo\": \"all\", \"xaxis\": \"x\", \"yaxis\": \"y\"}, {\"type\": \"scatter\", \"x\": [1255.0, 1255.0, 1270.0, 1270.0], \"y\": [0.0, 0.6521739130434783, 0.6521739130434783, 0.4], \"mode\": \"lines\", \"marker\": {\"color\": \"rgb(0,116,217)\"}, \"text\": null, \"hoverinfo\": \"all\", \"xaxis\": \"x\", \"yaxis\": \"y\"}, {\"type\": \"scatter\", \"x\": [1295.0, 1295.0, 1305.0, 1305.0], \"y\": [0.0, 0.5384615384615384, 0.5384615384615384, 0.0], \"mode\": \"lines\", \"marker\": {\"color\": \"rgb(133,20,75)\"}, \"text\": null, \"hoverinfo\": \"all\", \"xaxis\": \"x\", \"yaxis\": \"y\"}, {\"type\": \"scatter\", \"x\": [1285.0, 1285.0, 1300.0, 1300.0], \"y\": [0.0, 0.8, 0.8, 0.5384615384615384], \"mode\": \"lines\", \"marker\": {\"color\": \"rgb(0,116,217)\"}, \"text\": null, \"hoverinfo\": \"all\", \"xaxis\": \"x\", \"yaxis\": \"y\"}, {\"type\": \"scatter\", \"x\": [1262.5, 1262.5, 1292.5, 1292.5], \"y\": [0.6521739130434783, 0.9629629629629629, 0.9629629629629629, 0.8], \"mode\": \"lines\", \"marker\": {\"color\": \"rgb(0,116,217)\"}, \"text\": null, \"hoverinfo\": \"all\", \"xaxis\": \"x\", \"yaxis\": \"y\"}, {\"type\": \"scatter\", \"x\": [1240.0, 1240.0, 1277.5, 1277.5], \"y\": [0.7222222222222222, 0.975609756097561, 0.975609756097561, 0.9629629629629629], \"mode\": \"lines\", \"marker\": {\"color\": \"rgb(0,116,217)\"}, \"text\": null, \"hoverinfo\": \"all\", \"xaxis\": \"x\", \"yaxis\": \"y\"}, {\"type\": \"scatter\", \"x\": [1203.75, 1203.75, 1258.75, 1258.75], \"y\": [0.8095238095238095, 0.9821428571428571, 0.9821428571428571, 0.975609756097561], \"mode\": \"lines\", \"marker\": {\"color\": \"rgb(0,116,217)\"}, \"text\": null, \"hoverinfo\": \"all\", \"xaxis\": \"x\", \"yaxis\": \"y\"}, {\"type\": \"scatter\", \"x\": [1315.0, 1315.0, 1325.0, 1325.0], \"y\": [0.0, 0.4444444444444444, 0.4444444444444444, 0.0], \"mode\": \"lines\", \"marker\": {\"color\": \"rgb(255,220,0)\"}, \"text\": null, \"hoverinfo\": \"all\", \"xaxis\": \"x\", \"yaxis\": \"y\"}, {\"type\": \"scatter\", \"x\": [1355.0, 1355.0, 1365.0, 1365.0], \"y\": [0.0, 0.35064935064935066, 0.35064935064935066, 0.0], \"mode\": \"lines\", \"marker\": {\"color\": \"rgb(40,35,35)\"}, \"text\": null, \"hoverinfo\": \"all\", \"xaxis\": \"x\", \"yaxis\": \"y\"}, {\"type\": \"scatter\", \"x\": [1345.0, 1345.0, 1360.0, 1360.0], \"y\": [0.0, 0.43661971830985913, 0.43661971830985913, 0.35064935064935066], \"mode\": \"lines\", \"marker\": {\"color\": \"rgb(40,35,35)\"}, \"text\": null, \"hoverinfo\": \"all\", \"xaxis\": \"x\", \"yaxis\": \"y\"}, {\"type\": \"scatter\", \"x\": [1335.0, 1335.0, 1352.5, 1352.5], \"y\": [0.0, 0.6521739130434783, 0.6521739130434783, 0.43661971830985913], \"mode\": \"lines\", \"marker\": {\"color\": \"rgb(0,116,217)\"}, \"text\": null, \"hoverinfo\": \"all\", \"xaxis\": \"x\", \"yaxis\": \"y\"}, {\"type\": \"scatter\", \"x\": [1375.0, 1375.0, 1385.0, 1385.0], \"y\": [0.0, 0.32142857142857145, 0.32142857142857145, 0.0], \"mode\": \"lines\", \"marker\": {\"color\": \"rgb(61,153,112)\"}, \"text\": null, \"hoverinfo\": \"all\", \"xaxis\": \"x\", \"yaxis\": \"y\"}, {\"type\": \"scatter\", \"x\": [1405.0, 1405.0, 1415.0, 1415.0], \"y\": [0.0, 0.25, 0.25, 0.0], \"mode\": \"lines\", \"marker\": {\"color\": \"rgb(61,153,112)\"}, \"text\": null, \"hoverinfo\": \"all\", \"xaxis\": \"x\", \"yaxis\": \"y\"}, {\"type\": \"scatter\", \"x\": [1395.0, 1395.0, 1410.0, 1410.0], \"y\": [0.0, 0.4, 0.4, 0.25], \"mode\": \"lines\", \"marker\": {\"color\": \"rgb(61,153,112)\"}, \"text\": null, \"hoverinfo\": \"all\", \"xaxis\": \"x\", \"yaxis\": \"y\"}, {\"type\": \"scatter\", \"x\": [1380.0, 1380.0, 1402.5, 1402.5], \"y\": [0.32142857142857145, 0.42857142857142855, 0.42857142857142855, 0.4], \"mode\": \"lines\", \"marker\": {\"color\": \"rgb(61,153,112)\"}, \"text\": null, \"hoverinfo\": \"all\", \"xaxis\": \"x\", \"yaxis\": \"y\"}, {\"type\": \"scatter\", \"x\": [1435.0, 1435.0, 1445.0, 1445.0], \"y\": [0.0, 0.3888888888888889, 0.3888888888888889, 0.0], \"mode\": \"lines\", \"marker\": {\"color\": \"rgb(255,65,54)\"}, \"text\": null, \"hoverinfo\": \"all\", \"xaxis\": \"x\", \"yaxis\": \"y\"}, {\"type\": \"scatter\", \"x\": [1425.0, 1425.0, 1440.0, 1440.0], \"y\": [0.0, 0.88, 0.88, 0.3888888888888889], \"mode\": \"lines\", \"marker\": {\"color\": \"rgb(0,116,217)\"}, \"text\": null, \"hoverinfo\": \"all\", \"xaxis\": \"x\", \"yaxis\": \"y\"}, {\"type\": \"scatter\", \"x\": [1391.25, 1391.25, 1432.5, 1432.5], \"y\": [0.42857142857142855, 0.918918918918919, 0.918918918918919, 0.88], \"mode\": \"lines\", \"marker\": {\"color\": \"rgb(0,116,217)\"}, \"text\": null, \"hoverinfo\": \"all\", \"xaxis\": \"x\", \"yaxis\": \"y\"}, {\"type\": \"scatter\", \"x\": [1343.75, 1343.75, 1411.875, 1411.875], \"y\": [0.6521739130434783, 0.9891304347826086, 0.9891304347826086, 0.918918918918919], \"mode\": \"lines\", \"marker\": {\"color\": \"rgb(0,116,217)\"}, \"text\": null, \"hoverinfo\": \"all\", \"xaxis\": \"x\", \"yaxis\": \"y\"}, {\"type\": \"scatter\", \"x\": [1475.0, 1475.0, 1485.0, 1485.0], \"y\": [0.0, 0.4626865671641791, 0.4626865671641791, 0.0], \"mode\": \"lines\", \"marker\": {\"color\": \"rgb(35,205,205)\"}, \"text\": null, \"hoverinfo\": \"all\", \"xaxis\": \"x\", \"yaxis\": \"y\"}, {\"type\": \"scatter\", \"x\": [1465.0, 1465.0, 1480.0, 1480.0], \"y\": [0.0, 0.7444444444444445, 0.7444444444444445, 0.4626865671641791], \"mode\": \"lines\", \"marker\": {\"color\": \"rgb(0,116,217)\"}, \"text\": null, \"hoverinfo\": \"all\", \"xaxis\": \"x\", \"yaxis\": \"y\"}, {\"type\": \"scatter\", \"x\": [1495.0, 1495.0, 1505.0, 1505.0], \"y\": [0.0, 0.34285714285714286, 0.34285714285714286, 0.0], \"mode\": \"lines\", \"marker\": {\"color\": \"rgb(133,20,75)\"}, \"text\": null, \"hoverinfo\": \"all\", \"xaxis\": \"x\", \"yaxis\": \"y\"}, {\"type\": \"scatter\", \"x\": [1525.0, 1525.0, 1535.0, 1535.0], \"y\": [0.0, 0.7857142857142857, 0.7857142857142857, 0.0], \"mode\": \"lines\", \"marker\": {\"color\": \"rgb(0,116,217)\"}, \"text\": null, \"hoverinfo\": \"all\", \"xaxis\": \"x\", \"yaxis\": \"y\"}, {\"type\": \"scatter\", \"x\": [1515.0, 1515.0, 1530.0, 1530.0], \"y\": [0.0, 0.8181818181818182, 0.8181818181818182, 0.7857142857142857], \"mode\": \"lines\", \"marker\": {\"color\": \"rgb(0,116,217)\"}, \"text\": null, \"hoverinfo\": \"all\", \"xaxis\": \"x\", \"yaxis\": \"y\"}, {\"type\": \"scatter\", \"x\": [1500.0, 1500.0, 1522.5, 1522.5], \"y\": [0.34285714285714286, 0.8604651162790697, 0.8604651162790697, 0.8181818181818182], \"mode\": \"lines\", \"marker\": {\"color\": \"rgb(0,116,217)\"}, \"text\": null, \"hoverinfo\": \"all\", \"xaxis\": \"x\", \"yaxis\": \"y\"}, {\"type\": \"scatter\", \"x\": [1472.5, 1472.5, 1511.25, 1511.25], \"y\": [0.7444444444444445, 0.9210526315789473, 0.9210526315789473, 0.8604651162790697], \"mode\": \"lines\", \"marker\": {\"color\": \"rgb(0,116,217)\"}, \"text\": null, \"hoverinfo\": \"all\", \"xaxis\": \"x\", \"yaxis\": \"y\"}, {\"type\": \"scatter\", \"x\": [1455.0, 1455.0, 1491.875, 1491.875], \"y\": [0.0, 0.9540229885057471, 0.9540229885057471, 0.9210526315789473], \"mode\": \"lines\", \"marker\": {\"color\": \"rgb(0,116,217)\"}, \"text\": null, \"hoverinfo\": \"all\", \"xaxis\": \"x\", \"yaxis\": \"y\"}, {\"type\": \"scatter\", \"x\": [1555.0, 1555.0, 1565.0, 1565.0], \"y\": [0.0, 0.47058823529411764, 0.47058823529411764, 0.0], \"mode\": \"lines\", \"marker\": {\"color\": \"rgb(255,220,0)\"}, \"text\": null, \"hoverinfo\": \"all\", \"xaxis\": \"x\", \"yaxis\": \"y\"}, {\"type\": \"scatter\", \"x\": [1575.0, 1575.0, 1585.0, 1585.0], \"y\": [0.0, 0.2857142857142857, 0.2857142857142857, 0.0], \"mode\": \"lines\", \"marker\": {\"color\": \"rgb(40,35,35)\"}, \"text\": null, \"hoverinfo\": \"all\", \"xaxis\": \"x\", \"yaxis\": \"y\"}, {\"type\": \"scatter\", \"x\": [1605.0, 1605.0, 1615.0, 1615.0], \"y\": [0.0, 0.25, 0.25, 0.0], \"mode\": \"lines\", \"marker\": {\"color\": \"rgb(61,153,112)\"}, \"text\": null, \"hoverinfo\": \"all\", \"xaxis\": \"x\", \"yaxis\": \"y\"}, {\"type\": \"scatter\", \"x\": [1595.0, 1595.0, 1610.0, 1610.0], \"y\": [0.0, 0.4, 0.4, 0.25], \"mode\": \"lines\", \"marker\": {\"color\": \"rgb(61,153,112)\"}, \"text\": null, \"hoverinfo\": \"all\", \"xaxis\": \"x\", \"yaxis\": \"y\"}, {\"type\": \"scatter\", \"x\": [1580.0, 1580.0, 1602.5, 1602.5], \"y\": [0.2857142857142857, 0.8717948717948718, 0.8717948717948718, 0.4], \"mode\": \"lines\", \"marker\": {\"color\": \"rgb(0,116,217)\"}, \"text\": null, \"hoverinfo\": \"all\", \"xaxis\": \"x\", \"yaxis\": \"y\"}, {\"type\": \"scatter\", \"x\": [1560.0, 1560.0, 1591.25, 1591.25], \"y\": [0.47058823529411764, 0.96, 0.96, 0.8717948717948718], \"mode\": \"lines\", \"marker\": {\"color\": \"rgb(0,116,217)\"}, \"text\": null, \"hoverinfo\": \"all\", \"xaxis\": \"x\", \"yaxis\": \"y\"}, {\"type\": \"scatter\", \"x\": [1545.0, 1545.0, 1575.625, 1575.625], \"y\": [0.0, 0.9795918367346939, 0.9795918367346939, 0.96], \"mode\": \"lines\", \"marker\": {\"color\": \"rgb(0,116,217)\"}, \"text\": null, \"hoverinfo\": \"all\", \"xaxis\": \"x\", \"yaxis\": \"y\"}, {\"type\": \"scatter\", \"x\": [1635.0, 1635.0, 1645.0, 1645.0], \"y\": [0.0, 0.25, 0.25, 0.0], \"mode\": \"lines\", \"marker\": {\"color\": \"rgb(255,65,54)\"}, \"text\": null, \"hoverinfo\": \"all\", \"xaxis\": \"x\", \"yaxis\": \"y\"}, {\"type\": \"scatter\", \"x\": [1625.0, 1625.0, 1640.0, 1640.0], \"y\": [0.0, 0.8787878787878788, 0.8787878787878788, 0.25], \"mode\": \"lines\", \"marker\": {\"color\": \"rgb(0,116,217)\"}, \"text\": null, \"hoverinfo\": \"all\", \"xaxis\": \"x\", \"yaxis\": \"y\"}, {\"type\": \"scatter\", \"x\": [1655.0, 1655.0, 1665.0, 1665.0], \"y\": [0.0, 0.5806451612903226, 0.5806451612903226, 0.0], \"mode\": \"lines\", \"marker\": {\"color\": \"rgb(35,205,205)\"}, \"text\": null, \"hoverinfo\": \"all\", \"xaxis\": \"x\", \"yaxis\": \"y\"}, {\"type\": \"scatter\", \"x\": [1675.0, 1675.0, 1685.0, 1685.0], \"y\": [0.0, 0.6521739130434783, 0.6521739130434783, 0.0], \"mode\": \"lines\", \"marker\": {\"color\": \"rgb(0,116,217)\"}, \"text\": null, \"hoverinfo\": \"all\", \"xaxis\": \"x\", \"yaxis\": \"y\"}, {\"type\": \"scatter\", \"x\": [1660.0, 1660.0, 1680.0, 1680.0], \"y\": [0.5806451612903226, 0.8125, 0.8125, 0.6521739130434783], \"mode\": \"lines\", \"marker\": {\"color\": \"rgb(0,116,217)\"}, \"text\": null, \"hoverinfo\": \"all\", \"xaxis\": \"x\", \"yaxis\": \"y\"}, {\"type\": \"scatter\", \"x\": [1695.0, 1695.0, 1705.0, 1705.0], \"y\": [0.0, 0.296875, 0.296875, 0.0], \"mode\": \"lines\", \"marker\": {\"color\": \"rgb(133,20,75)\"}, \"text\": null, \"hoverinfo\": \"all\", \"xaxis\": \"x\", \"yaxis\": \"y\"}, {\"type\": \"scatter\", \"x\": [1715.0, 1715.0, 1725.0, 1725.0], \"y\": [0.0, 0.34210526315789475, 0.34210526315789475, 0.0], \"mode\": \"lines\", \"marker\": {\"color\": \"rgb(133,20,75)\"}, \"text\": null, \"hoverinfo\": \"all\", \"xaxis\": \"x\", \"yaxis\": \"y\"}, {\"type\": \"scatter\", \"x\": [1700.0, 1700.0, 1720.0, 1720.0], \"y\": [0.296875, 0.5483870967741935, 0.5483870967741935, 0.34210526315789475], \"mode\": \"lines\", \"marker\": {\"color\": \"rgb(133,20,75)\"}, \"text\": null, \"hoverinfo\": \"all\", \"xaxis\": \"x\", \"yaxis\": \"y\"}, {\"type\": \"scatter\", \"x\": [1755.0, 1755.0, 1765.0, 1765.0], \"y\": [0.0, 0.6388888888888888, 0.6388888888888888, 0.0], \"mode\": \"lines\", \"marker\": {\"color\": \"rgb(0,116,217)\"}, \"text\": null, \"hoverinfo\": \"all\", \"xaxis\": \"x\", \"yaxis\": \"y\"}, {\"type\": \"scatter\", \"x\": [1745.0, 1745.0, 1760.0, 1760.0], \"y\": [0.0, 0.7096774193548387, 0.7096774193548387, 0.6388888888888888], \"mode\": \"lines\", \"marker\": {\"color\": \"rgb(0,116,217)\"}, \"text\": null, \"hoverinfo\": \"all\", \"xaxis\": \"x\", \"yaxis\": \"y\"}, {\"type\": \"scatter\", \"x\": [1735.0, 1735.0, 1752.5, 1752.5], \"y\": [0.0, 0.7948717948717948, 0.7948717948717948, 0.7096774193548387], \"mode\": \"lines\", \"marker\": {\"color\": \"rgb(0,116,217)\"}, \"text\": null, \"hoverinfo\": \"all\", \"xaxis\": \"x\", \"yaxis\": \"y\"}, {\"type\": \"scatter\", \"x\": [1710.0, 1710.0, 1743.75, 1743.75], \"y\": [0.5483870967741935, 0.8571428571428571, 0.8571428571428571, 0.7948717948717948], \"mode\": \"lines\", \"marker\": {\"color\": \"rgb(0,116,217)\"}, \"text\": null, \"hoverinfo\": \"all\", \"xaxis\": \"x\", \"yaxis\": \"y\"}, {\"type\": \"scatter\", \"x\": [1670.0, 1670.0, 1726.875, 1726.875], \"y\": [0.8125, 0.9767441860465116, 0.9767441860465116, 0.8571428571428571], \"mode\": \"lines\", \"marker\": {\"color\": \"rgb(0,116,217)\"}, \"text\": null, \"hoverinfo\": \"all\", \"xaxis\": \"x\", \"yaxis\": \"y\"}, {\"type\": \"scatter\", \"x\": [1795.0, 1795.0, 1805.0, 1805.0], \"y\": [0.0, 0.34146341463414637, 0.34146341463414637, 0.0], \"mode\": \"lines\", \"marker\": {\"color\": \"rgb(255,220,0)\"}, \"text\": null, \"hoverinfo\": \"all\", \"xaxis\": \"x\", \"yaxis\": \"y\"}, {\"type\": \"scatter\", \"x\": [1785.0, 1785.0, 1800.0, 1800.0], \"y\": [0.0, 0.3829787234042553, 0.3829787234042553, 0.34146341463414637], \"mode\": \"lines\", \"marker\": {\"color\": \"rgb(255,220,0)\"}, \"text\": null, \"hoverinfo\": \"all\", \"xaxis\": \"x\", \"yaxis\": \"y\"}, {\"type\": \"scatter\", \"x\": [1815.0, 1815.0, 1825.0, 1825.0], \"y\": [0.0, 0.2903225806451613, 0.2903225806451613, 0.0], \"mode\": \"lines\", \"marker\": {\"color\": \"rgb(40,35,35)\"}, \"text\": null, \"hoverinfo\": \"all\", \"xaxis\": \"x\", \"yaxis\": \"y\"}, {\"type\": \"scatter\", \"x\": [1835.0, 1835.0, 1845.0, 1845.0], \"y\": [0.0, 0.3142857142857143, 0.3142857142857143, 0.0], \"mode\": \"lines\", \"marker\": {\"color\": \"rgb(40,35,35)\"}, \"text\": null, \"hoverinfo\": \"all\", \"xaxis\": \"x\", \"yaxis\": \"y\"}, {\"type\": \"scatter\", \"x\": [1820.0, 1820.0, 1840.0, 1840.0], \"y\": [0.2903225806451613, 0.34375, 0.34375, 0.3142857142857143], \"mode\": \"lines\", \"marker\": {\"color\": \"rgb(40,35,35)\"}, \"text\": null, \"hoverinfo\": \"all\", \"xaxis\": \"x\", \"yaxis\": \"y\"}, {\"type\": \"scatter\", \"x\": [1865.0, 1865.0, 1875.0, 1875.0], \"y\": [0.0, 0.17647058823529413, 0.17647058823529413, 0.0], \"mode\": \"lines\", \"marker\": {\"color\": \"rgb(40,35,35)\"}, \"text\": null, \"hoverinfo\": \"all\", \"xaxis\": \"x\", \"yaxis\": \"y\"}, {\"type\": \"scatter\", \"x\": [1885.0, 1885.0, 1895.0, 1895.0], \"y\": [0.0, 0.2727272727272727, 0.2727272727272727, 0.0], \"mode\": \"lines\", \"marker\": {\"color\": \"rgb(40,35,35)\"}, \"text\": null, \"hoverinfo\": \"all\", \"xaxis\": \"x\", \"yaxis\": \"y\"}, {\"type\": \"scatter\", \"x\": [1870.0, 1870.0, 1890.0, 1890.0], \"y\": [0.17647058823529413, 0.35294117647058826, 0.35294117647058826, 0.2727272727272727], \"mode\": \"lines\", \"marker\": {\"color\": \"rgb(40,35,35)\"}, \"text\": null, \"hoverinfo\": \"all\", \"xaxis\": \"x\", \"yaxis\": \"y\"}, {\"type\": \"scatter\", \"x\": [1855.0, 1855.0, 1880.0, 1880.0], \"y\": [0.0, 0.3783783783783784, 0.3783783783783784, 0.35294117647058826], \"mode\": \"lines\", \"marker\": {\"color\": \"rgb(40,35,35)\"}, \"text\": null, \"hoverinfo\": \"all\", \"xaxis\": \"x\", \"yaxis\": \"y\"}, {\"type\": \"scatter\", \"x\": [1830.0, 1830.0, 1867.5, 1867.5], \"y\": [0.34375, 0.4117647058823529, 0.4117647058823529, 0.3783783783783784], \"mode\": \"lines\", \"marker\": {\"color\": \"rgb(40,35,35)\"}, \"text\": null, \"hoverinfo\": \"all\", \"xaxis\": \"x\", \"yaxis\": \"y\"}, {\"type\": \"scatter\", \"x\": [1792.5, 1792.5, 1848.75, 1848.75], \"y\": [0.3829787234042553, 0.8181818181818182, 0.8181818181818182, 0.4117647058823529], \"mode\": \"lines\", \"marker\": {\"color\": \"rgb(0,116,217)\"}, \"text\": null, \"hoverinfo\": \"all\", \"xaxis\": \"x\", \"yaxis\": \"y\"}, {\"type\": \"scatter\", \"x\": [1775.0, 1775.0, 1820.625, 1820.625], \"y\": [0.0, 0.9482758620689655, 0.9482758620689655, 0.8181818181818182], \"mode\": \"lines\", \"marker\": {\"color\": \"rgb(0,116,217)\"}, \"text\": null, \"hoverinfo\": \"all\", \"xaxis\": \"x\", \"yaxis\": \"y\"}, {\"type\": \"scatter\", \"x\": [1925.0, 1925.0, 1935.0, 1935.0], \"y\": [0.0, 0.6875, 0.6875, 0.0], \"mode\": \"lines\", \"marker\": {\"color\": \"rgb(0,116,217)\"}, \"text\": null, \"hoverinfo\": \"all\", \"xaxis\": \"x\", \"yaxis\": \"y\"}, {\"type\": \"scatter\", \"x\": [1915.0, 1915.0, 1930.0, 1930.0], \"y\": [0.0, 0.8974358974358975, 0.8974358974358975, 0.6875], \"mode\": \"lines\", \"marker\": {\"color\": \"rgb(0,116,217)\"}, \"text\": null, \"hoverinfo\": \"all\", \"xaxis\": \"x\", \"yaxis\": \"y\"}, {\"type\": \"scatter\", \"x\": [1975.0, 1975.0, 1985.0, 1985.0], \"y\": [0.0, 0.9302325581395349, 0.9302325581395349, 0.0], \"mode\": \"lines\", \"marker\": {\"color\": \"rgb(0,116,217)\"}, \"text\": null, \"hoverinfo\": \"all\", \"xaxis\": \"x\", \"yaxis\": \"y\"}, {\"type\": \"scatter\", \"x\": [1965.0, 1965.0, 1980.0, 1980.0], \"y\": [0.0, 0.984375, 0.984375, 0.9302325581395349], \"mode\": \"lines\", \"marker\": {\"color\": \"rgb(0,116,217)\"}, \"text\": null, \"hoverinfo\": \"all\", \"xaxis\": \"x\", \"yaxis\": \"y\"}, {\"type\": \"scatter\", \"x\": [1955.0, 1955.0, 1972.5, 1972.5], \"y\": [0.0, 1.0, 1.0, 0.984375], \"mode\": \"lines\", \"marker\": {\"color\": \"rgb(0,116,217)\"}, \"text\": null, \"hoverinfo\": \"all\", \"xaxis\": \"x\", \"yaxis\": \"y\"}, {\"type\": \"scatter\", \"x\": [1945.0, 1945.0, 1963.75, 1963.75], \"y\": [0.0, 1.0, 1.0, 1.0], \"mode\": \"lines\", \"marker\": {\"color\": \"rgb(0,116,217)\"}, \"text\": null, \"hoverinfo\": \"all\", \"xaxis\": \"x\", \"yaxis\": \"y\"}, {\"type\": \"scatter\", \"x\": [1922.5, 1922.5, 1954.375, 1954.375], \"y\": [0.8974358974358975, 1.0, 1.0, 1.0], \"mode\": \"lines\", \"marker\": {\"color\": \"rgb(0,116,217)\"}, \"text\": null, \"hoverinfo\": \"all\", \"xaxis\": \"x\", \"yaxis\": \"y\"}, {\"type\": \"scatter\", \"x\": [1905.0, 1905.0, 1938.4375, 1938.4375], \"y\": [0.0, 1.0, 1.0, 1.0], \"mode\": \"lines\", \"marker\": {\"color\": \"rgb(0,116,217)\"}, \"text\": null, \"hoverinfo\": \"all\", \"xaxis\": \"x\", \"yaxis\": \"y\"}, {\"type\": \"scatter\", \"x\": [1797.8125, 1797.8125, 1921.71875, 1921.71875], \"y\": [0.9482758620689655, 1.0, 1.0, 1.0], \"mode\": \"lines\", \"marker\": {\"color\": \"rgb(0,116,217)\"}, \"text\": null, \"hoverinfo\": \"all\", \"xaxis\": \"x\", \"yaxis\": \"y\"}, {\"type\": \"scatter\", \"x\": [1698.4375, 1698.4375, 1859.765625, 1859.765625], \"y\": [0.9767441860465116, 1.0, 1.0, 1.0], \"mode\": \"lines\", \"marker\": {\"color\": \"rgb(0,116,217)\"}, \"text\": null, \"hoverinfo\": \"all\", \"xaxis\": \"x\", \"yaxis\": \"y\"}, {\"type\": \"scatter\", \"x\": [1632.5, 1632.5, 1779.1015625, 1779.1015625], \"y\": [0.8787878787878788, 1.0, 1.0, 1.0], \"mode\": \"lines\", \"marker\": {\"color\": \"rgb(0,116,217)\"}, \"text\": null, \"hoverinfo\": \"all\", \"xaxis\": \"x\", \"yaxis\": \"y\"}, {\"type\": \"scatter\", \"x\": [1560.3125, 1560.3125, 1705.80078125, 1705.80078125], \"y\": [0.9795918367346939, 1.0, 1.0, 1.0], \"mode\": \"lines\", \"marker\": {\"color\": \"rgb(0,116,217)\"}, \"text\": null, \"hoverinfo\": \"all\", \"xaxis\": \"x\", \"yaxis\": \"y\"}, {\"type\": \"scatter\", \"x\": [1473.4375, 1473.4375, 1633.056640625, 1633.056640625], \"y\": [0.9540229885057471, 1.0, 1.0, 1.0], \"mode\": \"lines\", \"marker\": {\"color\": \"rgb(0,116,217)\"}, \"text\": null, \"hoverinfo\": \"all\", \"xaxis\": \"x\", \"yaxis\": \"y\"}, {\"type\": \"scatter\", \"x\": [1377.8125, 1377.8125, 1553.2470703125, 1553.2470703125], \"y\": [0.9891304347826086, 1.0, 1.0, 1.0], \"mode\": \"lines\", \"marker\": {\"color\": \"rgb(0,116,217)\"}, \"text\": null, \"hoverinfo\": \"all\", \"xaxis\": \"x\", \"yaxis\": \"y\"}, {\"type\": \"scatter\", \"x\": [1320.0, 1320.0, 1465.52978515625, 1465.52978515625], \"y\": [0.4444444444444444, 1.0, 1.0, 1.0], \"mode\": \"lines\", \"marker\": {\"color\": \"rgb(0,116,217)\"}, \"text\": null, \"hoverinfo\": \"all\", \"xaxis\": \"x\", \"yaxis\": \"y\"}, {\"type\": \"scatter\", \"x\": [1231.25, 1231.25, 1392.764892578125, 1392.764892578125], \"y\": [0.9821428571428571, 1.0, 1.0, 1.0], \"mode\": \"lines\", \"marker\": {\"color\": \"rgb(0,116,217)\"}, \"text\": null, \"hoverinfo\": \"all\", \"xaxis\": \"x\", \"yaxis\": \"y\"}, {\"type\": \"scatter\", \"x\": [1180.0, 1180.0, 1312.0074462890625, 1312.0074462890625], \"y\": [0.8571428571428571, 1.0, 1.0, 1.0], \"mode\": \"lines\", \"marker\": {\"color\": \"rgb(0,116,217)\"}, \"text\": null, \"hoverinfo\": \"all\", \"xaxis\": \"x\", \"yaxis\": \"y\"}, {\"type\": \"scatter\", \"x\": [1049.609375, 1049.609375, 1246.0037231445312, 1246.0037231445312], \"y\": [0.9883720930232558, 1.0, 1.0, 1.0], \"mode\": \"lines\", \"marker\": {\"color\": \"rgb(0,116,217)\"}, \"text\": null, \"hoverinfo\": \"all\", \"xaxis\": \"x\", \"yaxis\": \"y\"}, {\"type\": \"scatter\", \"x\": [703.59375, 703.59375, 1147.8065490722656, 1147.8065490722656], \"y\": [0.9818181818181818, 1.0, 1.0, 1.0], \"mode\": \"lines\", \"marker\": {\"color\": \"rgb(0,116,217)\"}, \"text\": null, \"hoverinfo\": \"all\", \"xaxis\": \"x\", \"yaxis\": \"y\"}, {\"type\": \"scatter\", \"x\": [645.0, 645.0, 925.7001495361328, 925.7001495361328], \"y\": [0.8817204301075269, 1.0, 1.0, 1.0], \"mode\": \"lines\", \"marker\": {\"color\": \"rgb(0,116,217)\"}, \"text\": null, \"hoverinfo\": \"all\", \"xaxis\": \"x\", \"yaxis\": \"y\"}, {\"type\": \"scatter\", \"x\": [503.984375, 503.984375, 785.3500747680664, 785.3500747680664], \"y\": [0.9705882352941176, 1.0, 1.0, 1.0], \"mode\": \"lines\", \"marker\": {\"color\": \"rgb(0,116,217)\"}, \"text\": null, \"hoverinfo\": \"all\", \"xaxis\": \"x\", \"yaxis\": \"y\"}, {\"type\": \"scatter\", \"x\": [218.72802734375, 218.72802734375, 644.6672248840332, 644.6672248840332], \"y\": [0.9705882352941176, 1.0, 1.0, 1.0], \"mode\": \"lines\", \"marker\": {\"color\": \"rgb(0,116,217)\"}, \"text\": null, \"hoverinfo\": \"all\", \"xaxis\": \"x\", \"yaxis\": \"y\"}], {\"xaxis\": {\"tickvals\": [5.0, 15.0, 25.0, 35.0, 45.0, 55.0, 65.0, 75.0, 85.0, 95.0, 105.0, 115.0, 125.0, 135.0, 145.0, 155.0, 165.0, 175.0, 185.0, 195.0, 205.0, 215.0, 225.0, 235.0, 245.0, 255.0, 265.0, 275.0, 285.0, 295.0, 305.0, 315.0, 325.0, 335.0, 345.0, 355.0, 365.0, 375.0, 385.0, 395.0, 405.0, 415.0, 425.0, 435.0, 445.0, 455.0, 465.0, 475.0, 485.0, 495.0, 505.0, 515.0, 525.0, 535.0, 545.0, 555.0, 565.0, 575.0, 585.0, 595.0, 605.0, 615.0, 625.0, 635.0, 645.0, 655.0, 665.0, 675.0, 685.0, 695.0, 705.0, 715.0, 725.0, 735.0, 745.0, 755.0, 765.0, 775.0, 785.0, 795.0, 805.0, 815.0, 825.0, 835.0, 845.0, 855.0, 865.0, 875.0, 885.0, 895.0, 905.0, 915.0, 925.0, 935.0, 945.0, 955.0, 965.0, 975.0, 985.0, 995.0, 1005.0, 1015.0, 1025.0, 1035.0, 1045.0, 1055.0, 1065.0, 1075.0, 1085.0, 1095.0, 1105.0, 1115.0, 1125.0, 1135.0, 1145.0, 1155.0, 1165.0, 1175.0, 1185.0, 1195.0, 1205.0, 1215.0, 1225.0, 1235.0, 1245.0, 1255.0, 1265.0, 1275.0, 1285.0, 1295.0, 1305.0, 1315.0, 1325.0, 1335.0, 1345.0, 1355.0, 1365.0, 1375.0, 1385.0, 1395.0, 1405.0, 1415.0, 1425.0, 1435.0, 1445.0, 1455.0, 1465.0, 1475.0, 1485.0, 1495.0, 1505.0, 1515.0, 1525.0, 1535.0, 1545.0, 1555.0, 1565.0, 1575.0, 1585.0, 1595.0, 1605.0, 1615.0, 1625.0, 1635.0, 1645.0, 1655.0, 1665.0, 1675.0, 1685.0, 1695.0, 1705.0, 1715.0, 1725.0, 1735.0, 1745.0, 1755.0, 1765.0, 1775.0, 1785.0, 1795.0, 1805.0, 1815.0, 1825.0, 1835.0, 1845.0, 1855.0, 1865.0, 1875.0, 1885.0, 1895.0, 1905.0, 1915.0, 1925.0, 1935.0, 1945.0, 1955.0, 1965.0, 1975.0, 1985.0], \"ticktext\": [\"QE_2017_001815_792.5625_866.0\", \"QE_2017_001814_596.30963_602.0\", \"QE_2017_001816_613.48218_838.0\", \"QE_2017_001814_792.56207_723.0\", \"QE_2017_001815_613.4826_734.0\", \"QE_2017_001815_571.4292_870.0\", \"QE_2017_001814_497.31033_643.0\", \"QE_2017_001815_507.27145_607.0\", \"QE_2017_001815_571.47168_711.0\", \"QE_2017_001814_335.25772_725.0\", \"QE_2017_001814_335.25784_608.0\", \"QE_2017_001816_335.25772_723.0\", \"QE_2017_001814_335.25784_628.0\", \"QE_2017_001815_335.25745_642.0\", \"QE_2017_001814_261.22073_634.0\", \"QE_2017_001815_335.25784_587.0\", \"QE_2017_001814_353.26889_609.0\", \"QE_2017_001815_353.26862_642.0\", \"QE_2017_001815_261.22073_643.0\", \"QE_2017_001814_335.25772_638.0\", \"QE_2017_001815_335.2579_601.0\", \"QE_2017_001816_272.25824_582.0\", \"QE_2017_001814_338.34146_850.0\", \"QE_2017_001815_244.19048_762.0\", \"QE_2017_001816_435.25037_666.0\", \"QE_2017_001816_337.27338_826.0\", \"QE_2017_001816_337.27341_632.0\", \"QE_2017_001814_353.26868_633.0\", \"QE_2017_001816_353.26892_600.0\", \"QE_2017_001814_278.24756_683.0\", \"QE_2017_001814_279.23157_719.0\", \"QE_2017_001814_618.42633_695.0\", \"QE_2017_001816_583.41382_731.0\", \"QE_2017_001814_599.40918_659.0\", \"QE_2017_001814_601.42426_706.0\", \"QE_2017_001816_599.40869_793.0\", \"QE_2017_001815_618.42773_646.0\", \"QE_2017_001816_618.427_682.0\", \"QE_2017_001815_568.42627_841.0\", \"QE_2017_001814_565.4035_722.0\", \"QE_2017_001814_583.41406_682.0\", \"QE_2017_001815_583.41406_707.0\", \"QE_2017_001814_601.42334_783.0\", \"QE_2017_001815_583.41388_735.0\", \"QE_2017_001815_583.41418_647.0\", \"QE_2017_001816_463.12311_410.0\", \"QE_2017_001814_339.10742_366.0\", \"QE_2017_001816_339.10733_298.0\", \"QE_2017_001814_231.04967_404.0\", \"QE_2017_001815_231.04968_315.0\", \"QE_2017_001814_231.04971_516.0\", \"QE_2017_001815_231.04971_369.0\", \"QE_2017_001814_498.2543_475.0\", \"QE_2017_001815_340.16019_314.0\", \"QE_2017_001815_314.14453_76.0\", \"QE_2017_001816_314.14462_79.0\", \"QE_2017_001816_310.14957_134.0\", \"QE_2017_001816_342.17584_257.0\", \"QE_2017_001815_507.18192_178.0\", \"QE_2017_001814_611.15997_285.0\", \"QE_2017_001816_611.16064_309.0\", \"QE_2017_001816_533.15442_247.0\", \"QE_2017_001816_533.15466_222.0\", \"QE_2017_001815_533.1546_207.0\", \"QE_2017_001816_533.1546_271.0\", \"QE_2017_001814_347.09097_122.0\", \"QE_2017_001815_347.09067_204.0\", \"QE_2017_001815_268.10373_58.0\", \"QE_2017_001816_269.16055_60.0\", \"QE_2017_001815_364.34189_705.0\", \"QE_2017_001814_408.3681_703.0\", \"QE_2017_001816_466.40979_731.0\", \"QE_2017_001814_364.34241_751.0\", \"QE_2017_001814_424.36325_711.0\", \"QE_2017_001814_364.34244_761.0\", \"QE_2017_001814_421.35211_732.0\", \"QE_2017_001815_408.36853_717.0\", \"QE_2017_001815_482.40488_739.0\", \"QE_2017_001815_201.16367_442.0\", \"QE_2017_001816_201.16362_435.0\", \"QE_2017_001814_191.14291_389.0\", \"QE_2017_001815_191.14287_312.0\", \"QE_2017_001816_191.14291_404.0\", \"QE_2017_001814_219.17416_517.0\", \"QE_2017_001815_219.17426_497.0\", \"QE_2017_001814_219.17401_452.0\", \"QE_2017_001814_219.17409_442.0\", \"QE_2017_001816_137.09584_445.0\", \"QE_2017_001814_209.15335_478.0\", \"QE_2017_001815_209.1535_312.0\", \"QE_2017_001816_209.15344_311.0\", \"QE_2017_001815_227.16408_344.0\", \"QE_2017_001816_209.15341_296.0\", \"QE_2017_001814_243.15892_533.0\", \"QE_2017_001814_281.1745_492.0\", \"QE_2017_001814_293.2106_579.0\", \"QE_2017_001815_283.19009_564.0\", \"QE_2017_001815_207.13785_297.0\", \"QE_2017_001814_227.1275_293.0\", \"QE_2017_001816_227.12766_295.0\", \"QE_2017_001815_181.1221_767.0\", \"QE_2017_001816_181.12199_794.0\", \"QE_2017_001816_211.16916_405.0\", \"QE_2017_001815_209.0807_405.0\", \"QE_2017_001814_211.16902_440.0\", \"QE_2017_001815_211.16913_450.0\", \"QE_2017_001814_215.16406_483.0\", \"QE_2017_001815_215.164_550.0\", \"QE_2017_001814_209.08058_363.0\", \"QE_2017_001816_207.13779_561.0\", \"QE_2017_001816_320.29483_548.0\", \"QE_2017_001814_129.12737_348.0\", \"QE_2017_001814_171.14908_419.0\", \"QE_2017_001814_483.27118_651.0\", \"QE_2017_001816_338.26062_643.0\", \"QE_2017_001814_320.29456_577.0\", \"QE_2017_001815_320.29471_563.0\", \"QE_2017_001815_333.15173_245.0\", \"QE_2017_001816_333.15204_235.0\", \"QE_2017_001814_332.25827_467.0\", \"QE_2017_001815_332.25827_508.0\", \"QE_2017_001814_332.25842_486.0\", \"QE_2017_001816_332.25842_487.0\", \"QE_2017_001815_221.12837_99.0\", \"QE_2017_001816_237.12325_171.0\", \"QE_2017_001814_241.15446_57.0\", \"QE_2017_001814_241.15384_47.0\", \"QE_2017_001815_241.15437_67.0\", \"QE_2017_001814_320.29468_638.0\", \"QE_2017_001814_320.29471_529.0\", \"QE_2017_001814_320.29477_539.0\", \"QE_2017_001815_319.13623_118.0\", \"QE_2017_001816_319.13614_143.0\", \"QE_2017_001814_251.09117_393.0\", \"QE_2017_001815_219.10139_360.0\", \"QE_2017_001815_219.10146_381.0\", \"QE_2017_001815_219.10159_438.0\", \"QE_2017_001815_273.13425_199.0\", \"QE_2017_001815_273.13434_243.0\", \"QE_2017_001816_291.14499_200.0\", \"QE_2017_001814_291.1442_241.0\", \"QE_2017_001815_291.14493_242.0\", \"QE_2017_001814_251.13872_201.0\", \"QE_2017_001815_235.14388_180.0\", \"QE_2017_001815_235.14398_226.0\", \"QE_2017_001815_214.51021_60.0\", \"QE_2017_001816_268.59351_445.0\", \"QE_2017_001814_222.07031_314.0\", \"QE_2017_001814_250.10149_516.0\", \"QE_2017_001814_247.05975_245.0\", \"QE_2017_001815_247.0598_242.0\", \"QE_2017_001816_219.04672_291.0\", \"QE_2017_001815_212.03883_181.0\", \"QE_2017_001815_214.56488_409.0\", \"QE_2017_001816_132.04436_283.0\", \"QE_2017_001815_246.14465_137.0\", \"QE_2017_001816_247.12863_162.0\", \"QE_2017_001815_260.16016_140.0\", \"QE_2017_001816_260.16022_145.0\", \"QE_2017_001815_233.14944_150.0\", \"QE_2017_001814_233.14948_126.0\", \"QE_2017_001816_233.14955_129.0\", \"QE_2017_001816_229.15469_52.0\", \"QE_2017_001814_229.15399_46.0\", \"QE_2017_001814_229.15451_65.0\", \"QE_2017_001814_194.04424_237.0\", \"QE_2017_001814_194.1174_217.0\", \"QE_2017_001814_194.1174_244.0\", \"QE_2017_001815_194.11745_132.0\", \"QE_2017_001815_194.04469_299.0\", \"QE_2017_001815_194.04474_327.0\", \"QE_2017_001815_194.04471_314.0\", \"QE_2017_001815_212.05513_328.0\", \"QE_2017_001816_212.05518_300.0\", \"QE_2017_001815_212.05505_267.0\", \"QE_2017_001814_226.07077_397.0\", \"QE_2017_001815_194.04471_397.0\", \"QE_2017_001815_182.08109_52.0\", \"QE_2017_001816_177.05449_217.0\", \"QE_2017_001814_177.05418_236.0\", \"QE_2017_001815_177.05444_307.0\", \"QE_2017_001814_199.98778_290.0\", \"QE_2017_001815_199.98779_30.0\", \"QE_2017_001814_199.98772_303.0\", \"QE_2017_001815_199.98772_253.0\", \"QE_2017_001816_199.98769_294.0\", \"QE_2017_001815_199.98772_326.0\", \"QE_2017_001816_199.98781_313.0\", \"QE_2017_001816_199.98772_359.0\", \"QE_2017_001816_199.98779_335.0\", \"QE_2017_001815_797.51746_866.0\", \"QE_2017_001815_595.16559_315.0\", \"QE_2017_001815_463.12268_358.0\", \"QE_2017_001815_625.17633_345.0\", \"QE_2017_001815_265.01532_33.0\", \"QE_2017_001815_141.0508_33.0\", \"QE_2017_001815_260.16016_64.0\", \"QE_2017_001814_237.12305_220.0\", \"QE_2017_001815_237.12315_52.0\"], \"tickmode\": \"array\", \"type\": \"linear\", \"ticks\": \"outside\", \"mirror\": \"allticks\", \"rangemode\": \"tozero\", \"showticklabels\": true, \"zeroline\": false, \"showgrid\": false, \"showline\": true, \"title\": \"sample\"}, \"yaxis\": {\"type\": \"linear\", \"ticks\": \"outside\", \"mirror\": \"allticks\", \"rangemode\": \"tozero\", \"showticklabels\": true, \"zeroline\": false, \"showgrid\": false, \"showline\": true, \"title\": \"distance\"}, \"showlegend\": false, \"autosize\": false, \"hovermode\": \"closest\", \"width\": 900, \"height\": 500, \"title\": \"BioDendro\"}, {\"showLink\": true, \"linkText\": \"Export to plot.ly\"})});</script>"
      ]
     },
     "metadata": {},
     "output_type": "display_data"
    }
   ],
   "source": [
    "plotly.offline.init_notebook_mode(connected=True) # for visualising plot inline\n",
    "plotly.offline.iplot(iplot)"
   ]
  },
  {
   "cell_type": "code",
   "execution_count": null,
   "metadata": {
    "collapsed": true
   },
   "outputs": [],
   "source": []
  }
 ],
 "metadata": {
  "kernelspec": {
   "display_name": "Python 3",
   "language": "python",
   "name": "python3"
  },
  "language_info": {
   "codemirror_mode": {
    "name": "ipython",
    "version": 3
   },
   "file_extension": ".py",
   "mimetype": "text/x-python",
   "name": "python",
   "nbconvert_exporter": "python",
   "pygments_lexer": "ipython3",
   "version": "3.6.1"
  }
 },
 "nbformat": 4,
 "nbformat_minor": 2
}
